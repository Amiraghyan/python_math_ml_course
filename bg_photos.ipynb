{
 "cells": [
  {
   "cell_type": "code",
   "execution_count": null,
   "id": "f0ea14fd",
   "metadata": {
    "vscode": {
     "languageId": "plaintext"
    }
   },
   "outputs": [],
   "source": [
    "https://www.facebook.com/photo.php?fbid=685145090284299&set=pb.100063664417627.-2207520000&type=3"
   ]
  },
  {
   "cell_type": "markdown",
   "id": "72c40f9b",
   "metadata": {},
   "source": [
    "![image.png](../background_photos/)\n",
    "[լուսանկարի հղումը](), Հեղինակ՝ []()\n"
   ]
  },
  {
   "cell_type": "markdown",
   "id": "8f9841b5",
   "metadata": {},
   "source": [
    "https://unsplash.com/photos/a-small-waterfall-in-the-middle-of-a-forest-y6bQXsjSmjw"
   ]
  },
  {
   "cell_type": "markdown",
   "id": "4b6f9e06",
   "metadata": {},
   "source": [
    "https://unsplash.com/@rafael_ishkhanyan"
   ]
  },
  {
   "cell_type": "markdown",
   "id": "0cd9ffb5",
   "metadata": {},
   "source": [
    "https://commons.wikimedia.org/wiki/File:%D5%87%D5%A1%D6%84%D5%AB%D5%AB_%D5%BB%D6%80%D5%BE%D5%A5%D5%AA_%28%D4%B2%D5%B6%D5%B8%D6%82%D5%A9%D5%B5%D5%A1%D5%B6_%D5%B0%D5%B8%D6%82%D5%B7%D5%A1%D6%80%D5%B1%D5%A1%D5%B6%29.jpg"
   ]
  },
  {
   "cell_type": "markdown",
   "id": "c521ecef",
   "metadata": {
    "vscode": {
     "languageId": "plaintext"
    }
   },
   "source": [
    "https://unsplash.com/@naren735"
   ]
  },
  {
   "cell_type": "markdown",
   "id": "e18c5d7a",
   "metadata": {},
   "source": [
    "https://unsplash.com/photos/a-small-waterfall-in-the-middle-of-a-forest-y6bQXsjSmjw"
   ]
  },
  {
   "cell_type": "markdown",
   "id": "5ad9339e",
   "metadata": {},
   "source": [
    "https://unsplash.com/photos/a-brown-cow-standing-on-the-side-of-a-road-HEgsf8MDIQE"
   ]
  },
  {
   "cell_type": "markdown",
   "id": "8ce17196",
   "metadata": {},
   "source": [
    "https://unsplash.com/photos/black-cow-on-green-grass-field-near-gray-rocky-mountain-during-daytime-u_PAJi3S3PY"
   ]
  },
  {
   "cell_type": "markdown",
   "id": "6fc3ec40",
   "metadata": {},
   "source": [
    "https://unsplash.com/photos/BUmOf3rAxbQ"
   ]
  },
  {
   "cell_type": "markdown",
   "id": "1d86e127",
   "metadata": {},
   "source": [
    "https://unsplash.com/photos/white-short-coated-dog-on-green-grass-field-during-daytime-TH00QwBCUvE"
   ]
  },
  {
   "cell_type": "markdown",
   "id": "28244bad",
   "metadata": {},
   "source": [
    "https://unsplash.com/photos/veRlBtY0Vw4"
   ]
  },
  {
   "cell_type": "code",
   "execution_count": null,
   "id": "762c8bc6",
   "metadata": {
    "vscode": {
     "languageId": "plaintext"
    }
   },
   "outputs": [],
   "source": []
  },
  {
   "cell_type": "code",
   "execution_count": null,
   "id": "a9f86eae",
   "metadata": {
    "vscode": {
     "languageId": "plaintext"
    }
   },
   "outputs": [],
   "source": []
  },
  {
   "cell_type": "markdown",
   "id": "8972f3df",
   "metadata": {},
   "source": [
    "https://unsplash.com/photos/a-duck-in-a-lake-NorXI-Eqv2g"
   ]
  }
 ],
 "metadata": {
  "language_info": {
   "name": "python"
  }
 },
 "nbformat": 4,
 "nbformat_minor": 5
}

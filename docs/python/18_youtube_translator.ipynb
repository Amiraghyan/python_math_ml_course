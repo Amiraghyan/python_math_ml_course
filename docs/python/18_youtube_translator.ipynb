{
 "cells": [
  {
   "cell_type": "raw",
   "id": "177135f9",
   "metadata": {
    "vscode": {
     "languageId": "raw"
    }
   },
   "source": [
    "---\n",
    "title: \"18 Final Project: YouTube Transcript Translator\"\n",
    "lightbox: true\n",
    "format: \n",
    "  html:\n",
    "    code-fold: false\n",
    "number-offset: 1\n",
    "---"
   ]
  },
  {
   "cell_type": "markdown",
   "id": "2b9417ee",
   "metadata": {
    "vscode": {
     "languageId": "raw"
    }
   },
   "source": [
    "![image.png](../background_photos/py_18_hafo.jpg)\n",
    "Ծառավ հաֆո, [լուսանկարի հղումը](https://unsplash.com/photos/black-labrador-retriever-puppy-biting-purple-and-white-ball-tj0XGdGWUmE), Հեղինակ՝ [Rafael Ishkhanyan](https://unsplash.com/@rafael_ishkhanyan)"
   ]
  },
  {
   "cell_type": "markdown",
   "id": "802f1af8",
   "metadata": {},
   "source": [
    "<a href=\"ToDo\" target=\"_parent\"><img src=\"https://colab.research.google.com/assets/colab-badge.svg\" alt=\"Open In Colab\"/></a> (ToDo)"
   ]
  },
  {
   "cell_type": "markdown",
   "id": "6f332210",
   "metadata": {
    "vscode": {
     "languageId": "raw"
    }
   },
   "source": [
    "# 🎦 Տեսադասեր + լրացուցիչ (ToDo)\n",
    "\n",
    "ToDo\n",
    "1. [Տեսություն 2025](https://youtu.be/TIWU_bjFuUc) \\\n",
    "2. [Տեսություն 2023 (ToDo)]()  \\\n",
    "3. [Գործնական 2025](https://youtu.be/zf8xEfdLXRo) \\\n",
    "4. [Գործնական 2023 (ToDo)]()  \\\n",
    "5. [Որոշ տնայինների լուծումներ (ToDo)]()\n",
    "    \n",
    "Google Forms ToDo"
   ]
  },
  {
   "cell_type": "markdown",
   "id": "d7bbcbce",
   "metadata": {
    "vscode": {
     "languageId": "raw"
    }
   },
   "source": [
    "# 📚 Նյութը"
   ]
  },
  {
   "cell_type": "markdown",
   "id": "d4f8ed81",
   "metadata": {
    "vscode": {
     "languageId": "raw"
    }
   },
   "source": [
    "Դասընթացի առաջին կտորը ամփոփող [հարցում](https://forms.gle/iLiNgamETYygyTWJ6)։ Մերսի լրացնելու համար: [Սա](https://www.youtube.com/watch?v=6_2ZJ4QW_O4) շնորհակալության նոտաներ։ "
   ]
  },
  {
   "cell_type": "markdown",
   "id": "dbdb9a43",
   "metadata": {},
   "source": [
    "## Plan\n",
    "\n",
    "Use all 4 pillars of OOP and data classes\n",
    "1. Extract metadata for given video from youtube\n",
    "2. Extract transcript \n",
    "3. Translate the transcript  \n"
   ]
  },
  {
   "cell_type": "markdown",
   "id": "be53138a",
   "metadata": {},
   "source": [
    "First of all, you may want to create a venv\n",
    "\n",
    "- `conda create -n youtube`\n",
    "- `conda activate youtube`\n"
   ]
  },
  {
   "cell_type": "markdown",
   "id": "ed166f8a",
   "metadata": {},
   "source": [
    "## YouTube video metadata (title, description, etc.)"
   ]
  },
  {
   "cell_type": "code",
   "execution_count": null,
   "id": "63a87457",
   "metadata": {},
   "outputs": [
    {
     "name": "stderr",
     "output_type": "stream",
     "text": [
      "ERROR: Invalid requirement: '#': Expected package name at the start of dependency specifier\n",
      "    #\n",
      "    ^\n"
     ]
    }
   ],
   "source": [
    "!pip install pytubefix "
   ]
  },
  {
   "cell_type": "markdown",
   "id": "0485ed6d",
   "metadata": {},
   "source": [
    "We use [pytube**fix**](https://github.com/JuanBindez/pytubefix), because the original pytube is not working anymore."
   ]
  },
  {
   "cell_type": "code",
   "execution_count": 15,
   "id": "00db931f",
   "metadata": {},
   "outputs": [],
   "source": [
    "from typing import List\n",
    "from datetime import datetime\n",
    "from pytubefix import YouTube\n",
    "from dataclasses import dataclass, asdict"
   ]
  },
  {
   "cell_type": "code",
   "execution_count": 2,
   "id": "5e0472b0",
   "metadata": {},
   "outputs": [],
   "source": [
    "sample_video = \"https://www.youtube.com/watch?v=tERRFWuYG48\""
   ]
  },
  {
   "cell_type": "code",
   "execution_count": 3,
   "id": "90fd4822",
   "metadata": {},
   "outputs": [],
   "source": [
    "yt = YouTube(sample_video)"
   ]
  },
  {
   "cell_type": "code",
   "execution_count": null,
   "id": "90e53a41",
   "metadata": {},
   "outputs": [],
   "source": [
    "dir(yt)"
   ]
  },
  {
   "cell_type": "code",
   "execution_count": 6,
   "id": "5f178a37",
   "metadata": {},
   "outputs": [
    {
     "data": {
      "text/plain": [
       "['fallback_clients',\n",
       " '_signature_timestamp',\n",
       " '_visitor_data',\n",
       " 'stream_monostate',\n",
       " '_author']"
      ]
     },
     "execution_count": 6,
     "metadata": {},
     "output_type": "execute_result"
    }
   ],
   "source": [
    "yt.__dir__()[15:20]"
   ]
  },
  {
   "cell_type": "code",
   "execution_count": 24,
   "id": "6bda348c",
   "metadata": {},
   "outputs": [
    {
     "data": {
      "text/plain": [
       "('Barfuß Am Klavier - AnnenMayKantereit',\n",
       " 'tERRFWuYG48',\n",
       " ['AnnenMayKantereit',\n",
       "  'Barfuß Am Klavier',\n",
       "  'oft gefragt',\n",
       "  'henning may',\n",
       "  'klavier'],\n",
       " 76843686,\n",
       " 201)"
      ]
     },
     "execution_count": 24,
     "metadata": {},
     "output_type": "execute_result"
    }
   ],
   "source": [
    "yt.title, yt.video_id, yt.keywords, yt.views, yt.length"
   ]
  },
  {
   "cell_type": "code",
   "execution_count": 8,
   "id": "6dafff03",
   "metadata": {},
   "outputs": [],
   "source": [
    "@dataclass\n",
    "class Video:\n",
    "    video_id: str\n",
    "    title: str\n",
    "    keywords: List[str]\n",
    "    views: int\n",
    "    length: int\n",
    "    # published: datetime"
   ]
  },
  {
   "cell_type": "code",
   "execution_count": 22,
   "id": "8ea3a8d3",
   "metadata": {},
   "outputs": [],
   "source": [
    "@dataclass()\n",
    "class VideoInfo:\n",
    "    video_id: str\n",
    "    title: str\n",
    "    keywords: List[str]\n",
    "    publish_date: datetime  \n",
    "    length_seconds: int\n"
   ]
  },
  {
   "cell_type": "code",
   "execution_count": 23,
   "id": "3037cf8c",
   "metadata": {},
   "outputs": [
    {
     "data": {
      "text/plain": [
       "VideoInfo(video_id=1, title='Sample Video', keywords=['sample', 'video'], publish_date='2023-10-01', length_seconds=300)"
      ]
     },
     "execution_count": 23,
     "metadata": {},
     "output_type": "execute_result"
    }
   ],
   "source": [
    "VideoInfo(video_id=1, title=\"Sample Video\", keywords=[\"sample\", \"video\"], publish_date=\"2023-10-01\", length_seconds=300)"
   ]
  },
  {
   "cell_type": "markdown",
   "id": "023332ca",
   "metadata": {},
   "source": [
    "Does not throw an error although the video_id is not an int. \n",
    "We'll use [pydantic](https://docs.pydantic.dev/latest/) to validate the data in future\n"
   ]
  },
  {
   "cell_type": "code",
   "execution_count": 41,
   "id": "14b4b1d5",
   "metadata": {},
   "outputs": [],
   "source": [
    "class YouTubeVideo:\n",
    "    def __init__(self, url: str):\n",
    "        self.video = YouTube(url)\n",
    "\n",
    "    def __str__(self): # polymorphism\n",
    "        return f\"{self.video.title} ({self.video.video_id})\"\n",
    "\n",
    "    def get_metadata(self) -> VideoInfo:\n",
    "        return VideoInfo(\n",
    "            video_id=self.video.video_id,\n",
    "            title=self.video.title, \n",
    "            keywords=self.video.keywords,\n",
    "            publish_date=self.video.publish_date,\n",
    "            length_seconds=self.video.length\n",
    "        )\n",
    "    "
   ]
  },
  {
   "cell_type": "code",
   "execution_count": 42,
   "id": "2c683645",
   "metadata": {},
   "outputs": [],
   "source": [
    "video = YouTubeVideo(sample_video)"
   ]
  },
  {
   "cell_type": "code",
   "execution_count": 43,
   "id": "33475333",
   "metadata": {},
   "outputs": [
    {
     "name": "stdout",
     "output_type": "stream",
     "text": [
      "Barfuß Am Klavier - AnnenMayKantereit (tERRFWuYG48)\n"
     ]
    }
   ],
   "source": [
    "print(video)"
   ]
  },
  {
   "cell_type": "code",
   "execution_count": 44,
   "id": "d16543b3",
   "metadata": {},
   "outputs": [],
   "source": [
    "vid_info = video.get_metadata()"
   ]
  },
  {
   "cell_type": "code",
   "execution_count": 45,
   "id": "beadebf6",
   "metadata": {},
   "outputs": [
    {
     "data": {
      "text/plain": [
       "{'video_id': 'tERRFWuYG48',\n",
       " 'title': 'Barfuß Am Klavier - AnnenMayKantereit',\n",
       " 'keywords': ['AnnenMayKantereit',\n",
       "  'Barfuß Am Klavier',\n",
       "  'oft gefragt',\n",
       "  'henning may',\n",
       "  'klavier'],\n",
       " 'publish_date': datetime.datetime(2014, 10, 27, 4, 6, 51, tzinfo=datetime.timezone(datetime.timedelta(days=-1, seconds=61200))),\n",
       " 'length_seconds': 201}"
      ]
     },
     "execution_count": 45,
     "metadata": {},
     "output_type": "execute_result"
    }
   ],
   "source": [
    "asdict(vid_info)"
   ]
  },
  {
   "cell_type": "code",
   "execution_count": 46,
   "id": "83d2868f",
   "metadata": {},
   "outputs": [],
   "source": [
    "@dataclass()\n",
    "class VideoInfo:\n",
    "    video_id: str\n",
    "    title: str\n",
    "    keywords: List[str]\n",
    "    publish_date: str  \n",
    "    length_seconds: int\n",
    "    \n",
    "    @staticmethod\n",
    "    def get_days_since_publish(publish_date) -> int:\n",
    "        if isinstance(publish_date, datetime):\n",
    "            publish_date = publish_date.strftime(\"%Y-%m-%d\")\n",
    "        publish_date = datetime.strptime(publish_date, \"%Y-%m-%d\")\n",
    "        current_date = datetime.now()\n",
    "        return (current_date - publish_date).days\n",
    "        \n",
    "        \n",
    "    def __post_init__(self):\n",
    "        if not isinstance(self.video_id, str):\n",
    "            raise ValueError(\"video_id must be a string\")\n",
    "        if not isinstance(self.length_seconds, int):\n",
    "            raise ValueError(\"length_seconds must be an integer\")\n",
    "        \n",
    "        self.days_since_publish = self.get_days_since_publish(self.publish_date)"
   ]
  },
  {
   "cell_type": "code",
   "execution_count": 47,
   "id": "4e6f762d",
   "metadata": {},
   "outputs": [],
   "source": [
    "vid_info = video.get_metadata()"
   ]
  },
  {
   "cell_type": "code",
   "execution_count": 48,
   "id": "f65360ce",
   "metadata": {},
   "outputs": [
    {
     "data": {
      "text/plain": [
       "3894"
      ]
     },
     "execution_count": 48,
     "metadata": {},
     "output_type": "execute_result"
    }
   ],
   "source": [
    "vid_info.days_since_publish"
   ]
  },
  {
   "cell_type": "markdown",
   "id": "c59ab454",
   "metadata": {},
   "source": [
    "## YouTube transcript"
   ]
  },
  {
   "cell_type": "code",
   "execution_count": 49,
   "id": "3b48a42d",
   "metadata": {},
   "outputs": [],
   "source": [
    "yt = YouTube(sample_video)"
   ]
  },
  {
   "cell_type": "code",
   "execution_count": 50,
   "id": "f78cf934",
   "metadata": {},
   "outputs": [
    {
     "data": {
      "text/plain": [
       "{'de': <Caption lang=\"German\" code=\"de\">}"
      ]
     },
     "execution_count": 50,
     "metadata": {},
     "output_type": "execute_result"
    }
   ],
   "source": [
    "yt.captions"
   ]
  },
  {
   "cell_type": "code",
   "execution_count": 51,
   "id": "ab7d6d5b",
   "metadata": {},
   "outputs": [],
   "source": [
    "captions = yt.captions.get(\"de\")\n",
    "\n",
    "# captions.generate_txt_captions()"
   ]
  },
  {
   "cell_type": "code",
   "execution_count": 54,
   "id": "a99b594e",
   "metadata": {},
   "outputs": [],
   "source": [
    "# dir(captions)"
   ]
  },
  {
   "cell_type": "code",
   "execution_count": 57,
   "id": "777d0fe7",
   "metadata": {},
   "outputs": [
    {
     "data": {
      "text/plain": [
       "'1\\n00:00:11,139 --> 00:00:13,330\\nIch sitz schon wieder barfuß am Klavier.\\n\\n2\\n00:00:17,300 --> 00:00:24,340\\nIch träume Liebeslieder und sing dabei von dir.\\n\\n3\\n00:00:24,340 --> 00:00:33,650\\nDu und ich, wir waren wunderlich.\\n\\n4\\n00:00:33,650 --> 00:00:35,950\\nNicht für mich.\\n\\n5\\n00:00:35,950 --> 00:00:41,449\\nFür die, die es störte, wenn man uns nachts hörte.\\n\\n6\\n00:00:41,449 --> 00:00:47,520\\nIch hab mit dir gemeinsam einsam rumgesessen und geschwiegen.\\n\\n7\\n00:00:47,520 --> 00:00:52,300\\nIch erinnere mich am Besten ans gemeinsam einsam Liegen.\\n\\n8\\n00:00:52,300 --> 00:01:01,960\\nJeden Morgen danach bei dir; du nackt im Bett – und ich barfuß am Klavier.\\n\\n9\\n00:01:02,960 --> 00:01:08,920\\nUnd ich sitz schon wieder barfuß am Klavier.\\n\\n10\\n00:01:08,920 --> 00:01:19,369\\nIch träume Liebeslieder und sing dabei von dir.\\n\\n11\\n00:01:19,369 --> 00:01:26,990\\nDu und ich, das ging so nicht.\\n\\n12\\n00:01:33,610 --> 00:01:38,180\\nDu wolltest alles wissen und das hat mich vertrieben.\\n\\n13\\n00:01:38,180 --> 00:01:43,630\\nEigentlich dich, du bist nicht länger geblieben; bei mir.\\n\\n14\\n00:01:43,630 --> 00:01:49,759\\nAlso sitz ich, um zu lieben, lieber barfuß am Klavier.\\n\\n15\\n00:01:49,759 --> 00:01:58,909\\nUnd ich sitz schon wieder barfuß am Klavier.\\n\\n16\\n00:01:58,909 --> 00:02:07,340\\nIch träume Liebeslieder und sing dabei von dir.\\n\\n17\\n00:02:07,340 --> 00:02:38,420\\nDu und ich, wir waren zu wenig.\\n\\n18\\n00:02:38,420 --> 00:02:46,400\\nIch sitz schon wieder barfuß am Klavier.\\n\\n19\\n00:02:46,500 --> 00:02:49,230\\nUnd träum dabei von dir.\\n\\n20\\n00:02:49,230 --> 00:03:21,500\\nIch träum dabei von dir.'"
      ]
     },
     "execution_count": 57,
     "metadata": {},
     "output_type": "execute_result"
    }
   ],
   "source": [
    "captions.generate_srt_captions()"
   ]
  },
  {
   "cell_type": "code",
   "execution_count": 59,
   "id": "fef7f7dd",
   "metadata": {},
   "outputs": [
    {
     "data": {
      "text/plain": [
       "'c:\\\\Users\\\\hayk_\\\\OneDrive\\\\Desktop\\\\python_math_ml_course\\\\python\\\\tERRFWuYG48\\\\Barfuß Am Klavier - AnnenMayKantereit (de).srt'"
      ]
     },
     "execution_count": 59,
     "metadata": {},
     "output_type": "execute_result"
    }
   ],
   "source": [
    "captions.download(title=yt.title, output_path=yt.video_id)"
   ]
  },
  {
   "cell_type": "markdown",
   "id": "a713a8d8",
   "metadata": {},
   "source": [
    "### Class"
   ]
  },
  {
   "cell_type": "code",
   "execution_count": 61,
   "id": "36755eb9",
   "metadata": {},
   "outputs": [],
   "source": [
    "class YouTubeVideo:\n",
    "    def __init__(self, url: str):\n",
    "        self.video = YouTube(url)\n",
    "\n",
    "    def get_metadata(self) -> VideoInfo:\n",
    "        return VideoInfo(\n",
    "            video_id=self.video.video_id,\n",
    "            title=self.video.title, \n",
    "            keywords=self.video.keywords,\n",
    "            publish_date=self.video.publish_date,\n",
    "            length_seconds=self.video.length\n",
    "        )\n",
    "    \n",
    "    def get_transcript(self, language: str = \"de\") -> str:\n",
    "        captions = self.video.captions.get(language)\n",
    "        if not captions:\n",
    "            raise ValueError(f\"No captions available for language: {language}\")\n",
    "        self.text = captions.generate_txt_captions()\n",
    "        return self.text\n",
    "    \n",
    "    def download_transcript(self, language: str = \"de\", title: str = \"transcript\", output_path: str = \"transcript.txt\") -> None:\n",
    "        captions = self.video.captions.get(language)\n",
    "        if not captions:\n",
    "            raise ValueError(f\"No captions available for language: {language}\")\n",
    "        captions.download(title=title, output_path=output_path)\n",
    "        "
   ]
  },
  {
   "cell_type": "code",
   "execution_count": 62,
   "id": "d4b18d0d",
   "metadata": {},
   "outputs": [
    {
     "ename": "ValueError",
     "evalue": "No captions available for language: hy",
     "output_type": "error",
     "traceback": [
      "\u001b[1;31m---------------------------------------------------------------------------\u001b[0m",
      "\u001b[1;31mValueError\u001b[0m                                Traceback (most recent call last)",
      "Input \u001b[1;32mIn [62]\u001b[0m, in \u001b[0;36m<cell line: 3>\u001b[1;34m()\u001b[0m\n\u001b[0;32m      1\u001b[0m video \u001b[38;5;241m=\u001b[39m YouTubeVideo(sample_video)\n\u001b[1;32m----> 3\u001b[0m transcript \u001b[38;5;241m=\u001b[39m \u001b[43mvideo\u001b[49m\u001b[38;5;241;43m.\u001b[39;49m\u001b[43mget_transcript\u001b[49m\u001b[43m(\u001b[49m\u001b[43mlanguage\u001b[49m\u001b[38;5;241;43m=\u001b[39;49m\u001b[38;5;124;43m\"\u001b[39;49m\u001b[38;5;124;43mhy\u001b[39;49m\u001b[38;5;124;43m\"\u001b[39;49m\u001b[43m)\u001b[49m\n",
      "Input \u001b[1;32mIn [61]\u001b[0m, in \u001b[0;36mYouTubeVideo.get_transcript\u001b[1;34m(self, language)\u001b[0m\n\u001b[0;32m     15\u001b[0m captions \u001b[38;5;241m=\u001b[39m \u001b[38;5;28mself\u001b[39m\u001b[38;5;241m.\u001b[39mvideo\u001b[38;5;241m.\u001b[39mcaptions\u001b[38;5;241m.\u001b[39mget(language)\n\u001b[0;32m     16\u001b[0m \u001b[38;5;28;01mif\u001b[39;00m \u001b[38;5;129;01mnot\u001b[39;00m captions:\n\u001b[1;32m---> 17\u001b[0m     \u001b[38;5;28;01mraise\u001b[39;00m \u001b[38;5;167;01mValueError\u001b[39;00m(\u001b[38;5;124mf\u001b[39m\u001b[38;5;124m\"\u001b[39m\u001b[38;5;124mNo captions available for language: \u001b[39m\u001b[38;5;132;01m{\u001b[39;00mlanguage\u001b[38;5;132;01m}\u001b[39;00m\u001b[38;5;124m\"\u001b[39m)\n\u001b[0;32m     18\u001b[0m \u001b[38;5;28mself\u001b[39m\u001b[38;5;241m.\u001b[39mtext \u001b[38;5;241m=\u001b[39m captions\u001b[38;5;241m.\u001b[39mgenerate_txt_captions()\n\u001b[0;32m     19\u001b[0m \u001b[38;5;28;01mreturn\u001b[39;00m \u001b[38;5;28mself\u001b[39m\u001b[38;5;241m.\u001b[39mtext\n",
      "\u001b[1;31mValueError\u001b[0m: No captions available for language: hy"
     ]
    }
   ],
   "source": [
    "video = YouTubeVideo(sample_video)\n",
    "\n",
    "transcript = video.get_transcript(language=\"hy\")"
   ]
  },
  {
   "cell_type": "code",
   "execution_count": 63,
   "id": "a19223f3",
   "metadata": {},
   "outputs": [],
   "source": [
    "transcript = video.get_transcript(language=\"de\")"
   ]
  },
  {
   "cell_type": "markdown",
   "id": "b1d21e94",
   "metadata": {},
   "source": [
    "## Audio, video"
   ]
  },
  {
   "cell_type": "code",
   "execution_count": 64,
   "id": "36b14b2a",
   "metadata": {},
   "outputs": [],
   "source": [
    "yt = YouTube(sample_video)\n"
   ]
  },
  {
   "cell_type": "code",
   "execution_count": null,
   "id": "09f0a449",
   "metadata": {},
   "outputs": [
    {
     "data": {
      "text/plain": [
       "<Stream: itag=\"18\" mime_type=\"video/mp4\" res=\"360p\" fps=\"25fps\" vcodec=\"avc1.42001E\" acodec=\"mp4a.40.2\" progressive=\"True\" sabr=\"False\" type=\"video\">"
      ]
     },
     "execution_count": 71,
     "metadata": {},
     "output_type": "execute_result"
    }
   ],
   "source": [
    "# yt.streams.filter(file_extension=\"mp4\").desc().first().download()"
   ]
  },
  {
   "cell_type": "code",
   "execution_count": 72,
   "id": "8734d28c",
   "metadata": {},
   "outputs": [
    {
     "data": {
      "text/plain": [
       "<Stream: itag=\"140\" mime_type=\"audio/mp4\" abr=\"128kbps\" acodec=\"mp4a.40.2\" progressive=\"False\" sabr=\"False\" type=\"audio\">"
      ]
     },
     "execution_count": 72,
     "metadata": {},
     "output_type": "execute_result"
    }
   ],
   "source": [
    "yt.streams.get_audio_only()"
   ]
  },
  {
   "cell_type": "code",
   "execution_count": 76,
   "id": "ab628b6c",
   "metadata": {},
   "outputs": [
    {
     "data": {
      "text/plain": [
       "'c:\\\\Users\\\\hayk_\\\\OneDrive\\\\Desktop\\\\python_math_ml_course\\\\python\\\\tERRFWuYG48.mp3'"
      ]
     },
     "execution_count": 76,
     "metadata": {},
     "output_type": "execute_result"
    }
   ],
   "source": [
    "output_path = f\"{yt.video_id}.mp3\"\n",
    "\n",
    "yt.streams.get_audio_only().download(filename=output_path)"
   ]
  },
  {
   "cell_type": "code",
   "execution_count": 77,
   "id": "87c39456",
   "metadata": {},
   "outputs": [
    {
     "data": {
      "text/plain": [
       "'c:\\\\Users\\\\hayk_\\\\OneDrive\\\\Desktop\\\\python_math_ml_course\\\\python\\\\tERRFWuYG48.mp4'"
      ]
     },
     "execution_count": 77,
     "metadata": {},
     "output_type": "execute_result"
    }
   ],
   "source": [
    "output_path = f\"{yt.video_id}.mp4\"\n",
    "\n",
    "yt.streams.get_lowest_resolution().download(filename=output_path)"
   ]
  },
  {
   "cell_type": "code",
   "execution_count": 84,
   "id": "17084c0d",
   "metadata": {},
   "outputs": [],
   "source": [
    "class YouTubeVideo:\n",
    "    def __init__(self, url: str):\n",
    "        self.video = YouTube(url)\n",
    "\n",
    "    def get_metadata(self) -> VideoInfo:\n",
    "        return VideoInfo(\n",
    "            video_id=self.video.video_id,\n",
    "            title=self.video.title, \n",
    "            keywords=self.video.keywords,\n",
    "            publish_date=self.video.publish_date,\n",
    "            length_seconds=self.video.length\n",
    "        )\n",
    "    \n",
    "    def get_transcript(self, language: str = \"de\") -> str:\n",
    "        captions = self.video.captions.get(language)\n",
    "        if not captions:\n",
    "            raise ValueError(f\"No captions available for language: {language}\")\n",
    "        self.text = captions.generate_txt_captions()\n",
    "        return self.text\n",
    "    \n",
    "    def download_transcript(self, language: str = \"de\", title: str = \"transcript\", output_path: str = \"transcript.txt\") -> None:\n",
    "        captions = self.video.captions.get(language)\n",
    "        if not captions:\n",
    "            raise ValueError(f\"No captions available for language: {language}\")\n",
    "        captions.download(title=title, output_path=output_path)\n",
    "    \n",
    "    def download_audio(self, output_path=None) -> None:\n",
    "        \"\"\"Download the audio stream of the YouTube video.\n",
    "\n",
    "        Args:\n",
    "            output_path (_type_, optional): _description_. Defaults to None.\n",
    "\n",
    "        Raises:\n",
    "            ValueError: _description_\n",
    "        \"\"\"\n",
    "        if output_path is None:\n",
    "            output_path = self.video.video_id\n",
    "        \n",
    "        audio_stream = self.video.streams.get_audio_only()\n",
    "        if not audio_stream:\n",
    "            raise ValueError(\"No audio stream available\")\n",
    "        audio_stream.download(output_path=output_path)\n",
    "        \n",
    "    def download_video(self, output_path=None) -> None:\n",
    "        if output_path is None:\n",
    "            output_path = self.video.video_id\n",
    "        \n",
    "        video_stream = self.video.streams.get_lowest_resolution()\n",
    "        if not video_stream:\n",
    "            raise ValueError(\"No video stream available\")\n",
    "        video_stream.download(output_path=output_path)"
   ]
  },
  {
   "cell_type": "code",
   "execution_count": 85,
   "id": "ba193261",
   "metadata": {},
   "outputs": [],
   "source": [
    "yt = YouTubeVideo(sample_video)"
   ]
  },
  {
   "cell_type": "code",
   "execution_count": 86,
   "id": "fefdcb81",
   "metadata": {},
   "outputs": [],
   "source": [
    "yt.download_audio(\"panir\")"
   ]
  },
  {
   "cell_type": "code",
   "execution_count": 81,
   "id": "23057e04",
   "metadata": {},
   "outputs": [],
   "source": [
    "yt.download_video()"
   ]
  },
  {
   "cell_type": "markdown",
   "id": "4495aa62",
   "metadata": {},
   "source": [
    "## Translate"
   ]
  },
  {
   "cell_type": "markdown",
   "id": "0c8d96dd",
   "metadata": {},
   "source": [
    "We're gonna use [googletrans](https://github.com/ssut/py-googletrans/tree/main) and [DeepL](https://developers.deepl.com/). Maybe more stuff later."
   ]
  },
  {
   "cell_type": "markdown",
   "id": "c95e04f7",
   "metadata": {},
   "source": [
    "### Google Translate"
   ]
  },
  {
   "cell_type": "code",
   "execution_count": null,
   "id": "f8b97600",
   "metadata": {},
   "outputs": [],
   "source": [
    "!pip install googletrans "
   ]
  },
  {
   "cell_type": "code",
   "execution_count": null,
   "id": "a1b654f6",
   "metadata": {},
   "outputs": [
    {
     "name": "stdout",
     "output_type": "stream",
     "text": [
      "Translated(src=en, dest=hy, text=պանիր, pronunciation=panir, extra_data=\"{'translat...\")\n"
     ]
    }
   ],
   "source": [
    "import googletrans\n",
    "from googletrans import Translator\n",
    "\n",
    "# https://github.com/ssut/py-googletrans/tree/main\n",
    "# https://stackoverflow.com/questions/55409641/asyncio-run-cannot-be-called-from-a-running-event-loop-when-using-jupyter-no\n",
    "\n",
    "async def translate_text(text):\n",
    "    async with Translator() as translator:\n",
    "        result = await translator.translate(text, dest='hy')\n",
    "        print(result)  # Translated(src=en, dest=hy, text=պանիր, pronunciation=panir, extra_data=\"{'translat...\")\n",
    "\n",
    "await translate_text(text=\"cheese\")"
   ]
  },
  {
   "cell_type": "code",
   "execution_count": 111,
   "id": "1cffa821",
   "metadata": {},
   "outputs": [],
   "source": [
    "# googletrans.LANGUAGES"
   ]
  },
  {
   "cell_type": "markdown",
   "id": "0c8d4d3e",
   "metadata": {},
   "source": [
    "### DeepL"
   ]
  },
  {
   "cell_type": "markdown",
   "id": "10c19289",
   "metadata": {},
   "source": [
    "- `pip install deepl` \n",
    "- [Docs](https://developers.deepl.com/docs/getting-started/your-first-api-request)\n",
    "- [API keys](https://www.deepl.com/en/your-account/keys)"
   ]
  },
  {
   "cell_type": "code",
   "execution_count": null,
   "id": "c0d2ab09",
   "metadata": {},
   "outputs": [
    {
     "name": "stdout",
     "output_type": "stream",
     "text": [
      "\n",
      "SUCCESS: Specified value was saved.\n"
     ]
    }
   ],
   "source": [
    "SETX DEEPL_API_KEY some_string"
   ]
  },
  {
   "cell_type": "code",
   "execution_count": 1,
   "id": "d942594a",
   "metadata": {},
   "outputs": [
    {
     "name": "stdout",
     "output_type": "stream",
     "text": [
      "%DEEPL_API_KEY%\n"
     ]
    }
   ],
   "source": [
    "echo %DEEPL_API_KEY%"
   ]
  },
  {
   "cell_type": "code",
   "execution_count": 112,
   "id": "0f871247",
   "metadata": {},
   "outputs": [],
   "source": [
    "import os"
   ]
  },
  {
   "cell_type": "code",
   "execution_count": null,
   "id": "7f286d7e",
   "metadata": {},
   "outputs": [],
   "source": [
    "os.environ"
   ]
  },
  {
   "cell_type": "code",
   "execution_count": null,
   "id": "24b8f083",
   "metadata": {},
   "outputs": [],
   "source": [
    "os.environ.get(\"DEEPL_API_KEY\")"
   ]
  },
  {
   "cell_type": "code",
   "execution_count": 117,
   "id": "31dcef8b",
   "metadata": {},
   "outputs": [],
   "source": [
    "import deepl\n",
    "\n",
    "auth_key = os.getenv('DEEPL_API_KEY')\n",
    "assert auth_key is not None, \"Please set the DEEPL_API_KEY environment variable.\"\n",
    "\n",
    "deepl_client = deepl.Translator(auth_key)\n",
    "\n"
   ]
  },
  {
   "cell_type": "code",
   "execution_count": null,
   "id": "93a6dce4",
   "metadata": {},
   "outputs": [],
   "source": [
    "deepl_client.get_source_languages()"
   ]
  },
  {
   "cell_type": "code",
   "execution_count": null,
   "id": "f4adc295",
   "metadata": {},
   "outputs": [],
   "source": [
    "print(\"Source languages:\")\n",
    "for language in deepl_client.get_source_languages():\n",
    "    print(f\"{language.name} ({language.code})\")  # Example: \"German (DE)\"\n",
    "\n",
    "print(\"Target languages:\")\n",
    "for language in deepl_client.get_target_languages():\n",
    "    if language.supports_formality:\n",
    "        print\n",
    "        \n",
    "        (f\"{language.name} ({language.code}) supports formality\")\n",
    "        # Example: \"Italian (IT) supports formality\"\n",
    "    else:\n",
    "        print(f\"{language.name} ({language.code})\")\n",
    "        # Example: \"Lithuanian (LT)\""
   ]
  },
  {
   "cell_type": "markdown",
   "id": "06f82a2f",
   "metadata": {},
   "source": [
    "վայ, հայերեն չկար :)"
   ]
  },
  {
   "cell_type": "code",
   "execution_count": 120,
   "id": "dbbf1a78",
   "metadata": {},
   "outputs": [
    {
     "name": "stdout",
     "output_type": "stream",
     "text": [
      "I love you\n"
     ]
    }
   ],
   "source": [
    "result = deepl_client.translate_text(\"Ich liebe dich\", \n",
    "                                     target_lang=\"EN-US\")\n",
    "print(result.text) "
   ]
  },
  {
   "cell_type": "markdown",
   "id": "0cabbe1c",
   "metadata": {},
   "source": [
    "### Class"
   ]
  },
  {
   "cell_type": "code",
   "execution_count": 121,
   "id": "783916c7",
   "metadata": {},
   "outputs": [],
   "source": [
    "from abc import ABC, abstractmethod\n"
   ]
  },
  {
   "cell_type": "code",
   "execution_count": 122,
   "id": "3cdc5d08",
   "metadata": {},
   "outputs": [],
   "source": [
    "class BaseTranslator(ABC):\n",
    "    @abstractmethod\n",
    "    def translate(self, text: str, target_language: str) -> str:\n",
    "        pass\n",
    "    \n",
    "    @abstractmethod\n",
    "    def detect_language(self, text: str) -> str:\n",
    "        pass\n",
    "    \n",
    "    @abstractmethod\n",
    "    def get_supported_languages(self) -> List[str]:\n",
    "        pass"
   ]
  },
  {
   "cell_type": "markdown",
   "id": "c2f9c37e",
   "metadata": {},
   "source": [
    "#### Google Translate"
   ]
  },
  {
   "cell_type": "code",
   "execution_count": null,
   "id": "90d42bec",
   "metadata": {},
   "outputs": [],
   "source": [
    "class GoogleTranslator(BaseTranslator):\n",
    "    \"\"\"Google Translate API implementation of BaseTranslator.\"\"\"\n",
    "    @staticmethod\n",
    "    async def translate(text, target_lang):\n",
    "        async with Translator() as translator:\n",
    "            result = await translator.translate(text, dest=target_lang)\n",
    "            return result.text        \n",
    "\n",
    "    @staticmethod\n",
    "    def detect_language(text: str) -> str:\n",
    "        pass \n",
    "    \n",
    "    @staticmethod   \n",
    "    def get_supported_languages() -> List[str]:\n",
    "        return googletrans.LANGUAGES \n"
   ]
  },
  {
   "cell_type": "code",
   "execution_count": 126,
   "id": "99dcb212",
   "metadata": {},
   "outputs": [],
   "source": [
    "gt = GoogleTranslator()\n"
   ]
  },
  {
   "cell_type": "code",
   "execution_count": null,
   "id": "c570f1a9",
   "metadata": {},
   "outputs": [],
   "source": [
    "gt.get_supported_languages()"
   ]
  },
  {
   "cell_type": "code",
   "execution_count": 128,
   "id": "14208f15",
   "metadata": {},
   "outputs": [
    {
     "data": {
      "text/plain": [
       "'I love you'"
      ]
     },
     "execution_count": 128,
     "metadata": {},
     "output_type": "execute_result"
    }
   ],
   "source": [
    "gt = GoogleTranslator()\n",
    "\n",
    "# gt.translate(text=\"Ich liebe dich\", target=\"EN-US\")\n",
    "await gt.translate(text=\"Ich liebe dich\", target_lang=\"en\")"
   ]
  },
  {
   "cell_type": "markdown",
   "id": "f80b5267",
   "metadata": {},
   "source": [
    "#### DeepL"
   ]
  },
  {
   "cell_type": "code",
   "execution_count": 129,
   "id": "85a6af72",
   "metadata": {},
   "outputs": [],
   "source": [
    "class DeepLTranslator(BaseTranslator):\n",
    "    def __init__(self, api_key) -> None:\n",
    "        try:\n",
    "            deepl_client = deepl.DeepLClient(api_key)\n",
    "        except:\n",
    "            raise ValueError(\"Invalid DeepL API key provided.\")\n",
    "        self._client = deepl_client # procted\n",
    "        \n",
    "    def translate(self, text: str, target_lang: str) -> str:\n",
    "        result = self._client.translate_text(text, target_lang=target_lang)\n",
    "        return result.text  \n",
    "    \n",
    "    def detect_language(self, text: str) -> str:\n",
    "        pass \n",
    "    \n",
    "    def get_supported_languages(self) -> List[str]:\n",
    "        pass"
   ]
  },
  {
   "cell_type": "code",
   "execution_count": 130,
   "id": "a9d521e4",
   "metadata": {},
   "outputs": [],
   "source": [
    "dl = DeepLTranslator(api_key=os.getenv('DEEPL_API_KEY'))"
   ]
  },
  {
   "cell_type": "code",
   "execution_count": 131,
   "id": "b17e3324",
   "metadata": {},
   "outputs": [
    {
     "data": {
      "text/plain": [
       "'I love you'"
      ]
     },
     "execution_count": 131,
     "metadata": {},
     "output_type": "execute_result"
    }
   ],
   "source": [
    "dl.translate(text=\"Ich liebe dich\", target_lang=\"EN-US\")"
   ]
  },
  {
   "cell_type": "markdown",
   "id": "bdc9f3f7",
   "metadata": {},
   "source": [
    "## Putting everything together"
   ]
  },
  {
   "cell_type": "code",
   "execution_count": 140,
   "id": "7effe49e",
   "metadata": {},
   "outputs": [],
   "source": [
    "import json\n",
    "\n",
    "class Pipeline(YouTubeVideo):\n",
    "    def __init__(self, url: str, deepl_api_key: str):\n",
    "        YouTubeVideo.__init__(self, url) # super().__init__(url)\n",
    "        self.dl_translator = DeepLTranslator(api_key=deepl_api_key)\n",
    "        self.google_translator = GoogleTranslator()\n",
    "        \n",
    "        self.result = None\n",
    "    \n",
    "    async def get_translated_transcript(self) -> str:\n",
    "        self.transcript = self.get_transcript()\n",
    "        \n",
    "        if not self.transcript:\n",
    "            raise ValueError(\"No transcript available for this video.\")\n",
    "        \n",
    "        text_google = await self.google_translator.translate(text=self.transcript, target_lang=\"en\")\n",
    "        text_deepl = self.dl_translator.translate(text=self.transcript, target_lang=\"EN-US\")\n",
    "\n",
    "        self.result = {\n",
    "            \"original\": self.transcript,\n",
    "            \"google\": text_google,\n",
    "            \"deepl\": text_deepl\n",
    "        }\n",
    "        \n",
    "        return self.result\n",
    "    \n",
    "    def save_transcript_json(self, output_path: str = \"transcript.json\") -> None:\n",
    "        if self.result is None:\n",
    "            self.get_translated_transcript()\n",
    "        \n",
    "        with open(output_path, 'w', encoding='utf-8') as f:\n",
    "            json.dump(self.result, f, ensure_ascii=False, indent=4)"
   ]
  },
  {
   "cell_type": "code",
   "execution_count": 141,
   "id": "65ea0e92",
   "metadata": {},
   "outputs": [],
   "source": [
    "p = Pipeline(sample_video, deepl_api_key=os.getenv('DEEPL_API_KEY'))"
   ]
  },
  {
   "cell_type": "code",
   "execution_count": 142,
   "id": "3e457057",
   "metadata": {},
   "outputs": [
    {
     "data": {
      "text/plain": [
       "'Ich sitz schon wieder barfuß am Klavier. Ich träume Liebeslieder und sing dabei von dir. Du und ich, wir waren wunderlich. Nicht für mich. Für die, die es störte, wenn man uns nachts hörte. Ich hab mit dir gemeinsam einsam rumgesessen und geschwiegen. Ich erinnere mich am Besten ans gemeinsam einsam Liegen. Jeden Morgen danach bei dir; du nackt im Bett – und ich barfuß am Klavier. Und ich sitz schon wieder barfuß am Klavier. Ich träume Liebeslieder und sing dabei von dir. Du und ich, das ging so nicht. Du wolltest alles wissen und das hat mich vertrieben. Eigentlich dich, du bist nicht länger geblieben; bei mir. Also sitz ich, um zu lieben, lieber barfuß am Klavier. Und ich sitz schon wieder barfuß am Klavier. Ich träume Liebeslieder und sing dabei von dir. Du und ich, wir waren zu wenig. Ich sitz schon wieder barfuß am Klavier. Und träum dabei von dir. Ich träum dabei von dir.'"
      ]
     },
     "execution_count": 142,
     "metadata": {},
     "output_type": "execute_result"
    }
   ],
   "source": [
    "p.get_transcript()"
   ]
  },
  {
   "cell_type": "code",
   "execution_count": 143,
   "id": "a7f558fe",
   "metadata": {},
   "outputs": [],
   "source": [
    "res = await p.get_translated_transcript()"
   ]
  },
  {
   "cell_type": "code",
   "execution_count": 144,
   "id": "f977ae7f",
   "metadata": {},
   "outputs": [
    {
     "data": {
      "text/plain": [
       "{'original': 'Ich sitz schon wieder barfuß am Klavier. Ich träume Liebeslieder und sing dabei von dir. Du und ich, wir waren wunderlich. Nicht für mich. Für die, die es störte, wenn man uns nachts hörte. Ich hab mit dir gemeinsam einsam rumgesessen und geschwiegen. Ich erinnere mich am Besten ans gemeinsam einsam Liegen. Jeden Morgen danach bei dir; du nackt im Bett – und ich barfuß am Klavier. Und ich sitz schon wieder barfuß am Klavier. Ich träume Liebeslieder und sing dabei von dir. Du und ich, das ging so nicht. Du wolltest alles wissen und das hat mich vertrieben. Eigentlich dich, du bist nicht länger geblieben; bei mir. Also sitz ich, um zu lieben, lieber barfuß am Klavier. Und ich sitz schon wieder barfuß am Klavier. Ich träume Liebeslieder und sing dabei von dir. Du und ich, wir waren zu wenig. Ich sitz schon wieder barfuß am Klavier. Und träum dabei von dir. Ich träum dabei von dir.',\n",
       " 'google': \"I am already sitting barefoot on the piano again. I dream love songs and sing from you. You and me, we were wonderful. Not for me. For those who bothered when we were heard at night. I lonely lonely with you and kept silent. The best way to remember lonely remember. Every morning with you; You naked in bed - and I barefoot on the piano. And I'm already sitting barefoot on the piano again. I dream love songs and sing from you. You and me, it didn't work that way. You wanted to know everything and that drove me out. Actually you, you no longer stayed; with me. So to love, I prefer barefoot on the piano. And I'm already sitting barefoot on the piano again. I dream love songs and sing from you. You and me, we were too little. I am already sitting barefoot on the piano again. And dream of you. I dream of you.\",\n",
       " 'deepl': \"I'm sitting barefoot at the piano again. I'm dreaming love songs and singing about you. You and I, we were strange. Not for me. For those who were disturbed by hearing us at night. I sat around with you, lonely and silent. I remember lying alone together best. Every morning afterwards with you; you naked in bed - and me barefoot at the piano. And I'm sitting barefoot at the piano again. I dream love songs and sing about you. You and I, that wasn't possible. You wanted to know everything and that drove me away. Actually you, you didn't stay with me any longer. So in order to love, I prefer to sit barefoot at the piano. And I'm sitting barefoot at the piano again. I dream love songs and sing about you. You and I, we weren't enough. I'm sitting barefoot at the piano again. And dreaming of you. I'm dreaming of you.\"}"
      ]
     },
     "execution_count": 144,
     "metadata": {},
     "output_type": "execute_result"
    }
   ],
   "source": [
    "res"
   ]
  },
  {
   "cell_type": "code",
   "execution_count": 145,
   "id": "26acfd61",
   "metadata": {},
   "outputs": [],
   "source": [
    "p.save_transcript_json()"
   ]
  },
  {
   "cell_type": "markdown",
   "id": "15f769d7",
   "metadata": {},
   "source": [
    "# 🎲 18\n",
    "- ▶️[TED Ed](https://www.youtube.com/watch?v=lEXBxijQREo)\n",
    "- ▶️[Random link](https://www.youtube.com/watch?v=AO7Ogi4E5fM)\n",
    "- 🇦🇲🎶[Լավ էլի](https://www.youtube.com/watch?v=_AEW2iUe0CM)\n",
    "- 🌐🎶[Whitesnake](https://www.youtube.com/watch?v=GOJk0HW_hJw)\n",
    "- 🤌[Կարգին](https://www.youtube.com/watch?v=9crBnxb6ZT4)"
   ]
  },
  {
   "cell_type": "markdown",
   "id": "a2317885",
   "metadata": {},
   "source": [
    "\n",
    "<a href=\"http://s01.flagcounter.com/more/1oO\"><img src=\"https://s01.flagcounter.com/count2/1oO/bg_FFFFFF/txt_000000/border_CCCCCC/columns_2/maxflags_10/viewers_0/labels_0/pageviews_1/flags_0/percent_0/\" alt=\"Flag Counter\"></a>\n"
   ]
  }
 ],
 "metadata": {
  "kernelspec": {
   "display_name": "youtube",
   "language": "python",
   "name": "python3"
  },
  "language_info": {
   "codemirror_mode": {
    "name": "ipython",
    "version": 3
   },
   "file_extension": ".py",
   "mimetype": "text/x-python",
   "name": "python",
   "nbconvert_exporter": "python",
   "pygments_lexer": "ipython3",
   "version": "3.10.18"
  }
 },
 "nbformat": 4,
 "nbformat_minor": 5
}

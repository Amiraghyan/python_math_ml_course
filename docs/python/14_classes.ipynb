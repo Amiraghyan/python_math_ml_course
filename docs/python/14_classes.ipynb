{
  "cells": [
    {
      "cell_type": "raw",
      "metadata": {
        "vscode": {
          "languageId": "raw"
        }
      },
      "source": [
        "---\n",
        "title: \"14 OOP 1: Classes\"\n",
        "lightbox: true\n",
        "format: \n",
        "  html:\n",
        "    code-fold: false\n",
        "number-offset: 1\n",
        "---"
      ]
    },
    {
      "cell_type": "markdown",
      "metadata": {},
      "source": [
        "![image.png](../background_photos/py_14_mountain_glass_focus.jpg)\n",
        "Դադիվանքի դիմացի սար, [լուսանկարի հղումը](https://unsplash.com/photos/vuCUQBrSvPg), Հեղինակ՝ [David Pedanyan](https://unsplash.com/@david2608)"
      ]
    },
    {
      "cell_type": "markdown",
      "metadata": {},
      "source": [
        "<a href=\"ToDo\" target=\"_parent\"><img src=\"https://colab.research.google.com/assets/colab-badge.svg\" alt=\"Open In Colab\"/></a> (ToDo)"
      ]
    },
    {
      "cell_type": "markdown",
      "metadata": {},
      "source": [
        "Song reference - ToDo"
      ]
    },
    {
      "cell_type": "markdown",
      "metadata": {},
      "source": [
        "# 🎦 Տեսադասեր + լրացուցիչ (ToDo)\n",
        "\n",
        "ToDo\n",
        "1. [Տեսություն 2025](https://youtu.be/TIWU_bjFuUc) \\\n",
        "2. [Տեսություն 2023 (ToDo)]()  \\\n",
        "3. [Գործնական 2025](https://youtu.be/zf8xEfdLXRo) \\\n",
        "4. [Գործնական 2023 (ToDo)]()  \\\n",
        "5. [Որոշ տնայինների լուծումներ (ToDo)]()\n",
        "    \n",
        "Google Forms ToDo"
      ]
    },
    {
      "cell_type": "markdown",
      "metadata": {},
      "source": [
        "# 📚 Նյութը"
      ]
    },
    {
      "cell_type": "markdown",
      "metadata": {
        "id": "DhDVgWetyKLG"
      },
      "source": [
        "## լավ նյութեր\n",
        "- Առնվազն առաջին երկու վիդեոն - https://www.youtube.com/watch?v=ZDa-Z5JzLYM&list=PL-osiE80TeTsqhIuOqKhwlXsIBIdSeYtc\n",
        "- Ինչ ա self-ը - https://www.youtube.com/watch?v=JH4q65dZPvY\n",
        "- init - https://www.youtube.com/watch?v=GnXrSwxxPJo\n",
        "- Գրավոր նյութ - https://realpython.com/python-classes/"
      ]
    },
    {
      "cell_type": "markdown",
      "metadata": {
        "id": "6-vvjLpCxpyd"
      },
      "source": [
        "## listերի օրինակը"
      ]
    },
    {
      "cell_type": "code",
      "execution_count": 1,
      "metadata": {
        "colab": {
          "base_uri": "https://localhost:8080/"
        },
        "id": "lDliW6hrjSck",
        "outputId": "316d9cec-4fb4-4f16-fffb-f0dd9540801c"
      },
      "outputs": [
        {
          "name": "stdout",
          "output_type": "stream",
          "text": [
            "<class 'int'>\n"
          ]
        }
      ],
      "source": [
        "a = 5\n",
        "\n",
        "print(type(a))"
      ]
    },
    {
      "cell_type": "code",
      "execution_count": null,
      "metadata": {
        "colab": {
          "base_uri": "https://localhost:8080/"
        },
        "id": "ZT7qjRq6tvpk",
        "outputId": "53215a8e-fceb-498c-acf6-40bb52524d09"
      },
      "outputs": [
        {
          "name": "stdout",
          "output_type": "stream",
          "text": [
            "<class 'list'>\n",
            "[11, 509]\n",
            "[4, 11, 509]\n"
          ]
        }
      ],
      "source": [
        "a = list([10, 509])\n",
        "\n",
        "print(type(a))\n",
        "print(a)\n",
        "\n",
        "\n",
        "a.append(4)\n",
        "\n",
        "a.sort()\n",
        "\n",
        "print(a)\n"
      ]
    },
    {
      "cell_type": "code",
      "execution_count": null,
      "metadata": {
        "id": "M67liHKqxoNq"
      },
      "outputs": [],
      "source": [
        "class list(MutableSequence[_T], Generic[_T]):\n",
        "    @overload\n",
        "    def __init__(self) -> None: ...\n",
        "    @overload\n",
        "    def __init__(self, __iterable: Iterable[_T]) -> None: ...\n",
        "    def copy(self) -> list[_T]: ...\n",
        "    def append(self, __object: _T) -> None: ...\n",
        "    def extend(self, __iterable: Iterable[_T]) -> None: ...\n",
        "    def pop(self, __index: SupportsIndex = -1) -> _T: ...\n",
        "    # Signature of `list.index` should be kept in line with `collections.UserList.index()`\n",
        "    # and multiprocessing.managers.ListProxy.index()\n",
        "    def index(self, __value: _T, __start: SupportsIndex = 0, __stop: SupportsIndex = sys.maxsize) -> int: ...\n",
        "    def count(self, __value: _T) -> int: ...\n",
        "    def insert(self, __index: SupportsIndex, __object: _T) -> None: ...\n",
        "    def remove(self, __value: _T) -> None: ...\n",
        "    # Signature of `list.sort` should be kept inline with `collections.UserList.sort()`\n",
        "    # and multiprocessing.managers.ListProxy.sort()\n",
        "    #\n",
        "    # Use list[SupportsRichComparisonT] for the first overload rather than [SupportsRichComparison]\n",
        "    # to work around invariance\n",
        "    @overload\n",
        "    def sort(self: list[SupportsRichComparisonT], *, key: None = None, reverse: bool = False) -> None: ...\n",
        "    @overload\n",
        "    def sort(self, *, key: Callable[[_T], SupportsRichComparison], reverse: bool = False) -> None: ...\n",
        "    def __len__(self) -> int: ... \n",
        "    def __iter__(self) -> Iterator[_T]: ...\n",
        "    __hash__: ClassVar[None]  # type: ignore[assignment]\n",
        "    @overload\n",
        "    def __getitem__(self, __i: SupportsIndex) -> _T: ... \n",
        "    @overload\n",
        "    def __getitem__(self, __s: slice) -> list[_T]: ...\n",
        "    @overload\n",
        "    def __setitem__(self, __key: SupportsIndex, __value: _T) -> None: ...\n",
        "    @overload\n",
        "    def __setitem__(self, __key: slice, __value: Iterable[_T]) -> None: ...\n",
        "    def __delitem__(self, __key: SupportsIndex | slice) -> None: ...\n",
        "    # Overloading looks unnecessary, but is needed to work around complex mypy problems\n",
        "    @overload\n",
        "    def __add__(self, __value: list[_T]) -> list[_T]: ...\n",
        "    @overload\n",
        "    def __add__(self, __value: list[_S]) -> list[_S | _T]: ...\n",
        "    def __iadd__(self, __value: Iterable[_T]) -> Self: ...  # type: ignore[misc]\n",
        "    def __mul__(self, __value: SupportsIndex) -> list[_T]: ...\n",
        "    def __rmul__(self, __value: SupportsIndex) -> list[_T]: ...\n",
        "    def __imul__(self, __value: SupportsIndex) -> Self: ...\n",
        "    def __contains__(self, __key: object) -> bool: ...\n",
        "    def __reversed__(self) -> Iterator[_T]: ...\n",
        "    def __gt__(self, __value: list[_T]) -> bool: ...\n",
        "    def __ge__(self, __value: list[_T]) -> bool: ...\n",
        "    def __lt__(self, __value: list[_T]) -> bool: ...\n",
        "    def __le__(self, __value: list[_T]) -> bool: ...\n",
        "    if sys.version_info >= (3, 9):\n",
        "        def __class_getitem__(cls, __item: Any) -> GenericAlias: ...\n"
      ]
    },
    {
      "cell_type": "markdown",
      "metadata": {
        "id": "Etm1Y0Mkxy6z"
      },
      "source": [
        "Սահմանվածա մի հատ օբյեկտ՝ ցուցակ, ու իրա համար սահմանվածա տարբեր ֆունկցիաներ, ամենինչ ինչ կախվածա ցուցակների հետ իրար գլուխա հավաքած listի կլասսում"
      ]
    },
    {
      "cell_type": "markdown",
      "metadata": {
        "id": "huJOPkZM51zu"
      },
      "source": [
        "## Intro to classes (կարգինի օրինակ)"
      ]
    },
    {
      "cell_type": "markdown",
      "metadata": {
        "id": "0f9PA71y57wc"
      },
      "source": [
        "Ամեն կարգինը պլանավորելուց ունենում են մոտավորապես նույն պռոցեդուռան,\n",
        "1. հասկանալ ովքեր են խաղալու մեջը, որտեղա նկարվելու և այլն\n",
        "2. սցենարը գրել\n",
        "3. նկարել\n",
        "\n",
        "Եկեք էդ սաղ իրար գլուխ հավաքենք"
      ]
    },
    {
      "cell_type": "code",
      "execution_count": null,
      "metadata": {
        "id": "C2bLo0fJ56sL"
      },
      "outputs": [],
      "source": [
        "class KarginHaxordum: \n",
        "    vorak = \"Ֆանտաստիկ\" # class variable\n",
        "    hamar = 561\n",
        "    derasanner = [\"Հայկո\", \"Մկո\", \"Աշոտ\"]\n",
        "    text = \"արա ինչ էղավ էդ տղեն խիա ուշանում բոժը մոյ երեկվանից չենք խմել էս վիճակը ինձի կազմաքանդումա արդեն; լավ չեմ լավ չեմ դողցնում եմ մի կես ժամ էլ չխմեմ կվատընամ  Գրիշ; հա էնա  ոնց որ Սքեն գալիսա  Սքե շուտ արի; աիի հլը ախպեր; էղավ; կնչքան ես բերել;երկու հարյուր; ոնց երկու հարյուր բոժը մոյ դու չգիտես որ լուբոյ իրեն հարգող արաղը երեք հարյուր դրամ արժի բա էն հարյուր դրամը ինչ ենք անելու; եսիմ; ոնց երկու հարյուր արա բա երեկվա հարյուր դրամը որ եկեղեցուց գողացել էինք ուրա արա; էդ հարյուրն էլ հետը երկու հարյուր ; չհասկցա արա ուրեմն էն եքա Արմենի կամազը հարյուր դրամով ես լվացե ;հա բա կրիզիսա չէ; ճիշտա ասում ապե կրիզիսա երեկ էն ամերիկայի Օբաման էլ հելավ կայնավ ու ասեց էս կրիզիսը խփելույա էն ամենա խոցելի խավին մեզի ապե էս երեքիս ու ․․․ ապե ; Գրիշ վատանում եմ մի բա արա էդ ահարյուր դրամը ճարի խմենք էլի;հանգստացի ախպերս էսա մի բան կմտածեմ; բոժը մոյ ահա թե ինչա անում մարդու հետ մի օր չխմելը ապե ապե ցավդ գանեմ մի հատ գայիր էլի խոսքի մենք էլ կարայինք գայինք պռոստը մենք երեք հոգով ենք քո կողմից մի քիչ գոռոզություն կլնի էլի չգաս ապե ցավդ գանեմ;լսում եմ ձեզ ; ապե ցավդ տանեմ ոնց ես; շնորհակալություն լավ եմ ; ապե ցավդ տանեմ ոչ խմող ենք ոչ ծխող ենք պռոստո ընգերներով սենց ուզում ենք բարի գործ անենք մի հատ ծերանոց կառուցենք բայց հարյուր դրամ չի հերիքում հմի կարոյմ ես հարյուր դրամով մեզի պաձերշկա անես ընգեր ցավդ տանեմ;տղերք ճիշտն ասած փող չունեմ ; արա հմի հարյուր դրամ չես գալիս խմենք արա; ծերանոցի կենացը էլի ցավդ տանեմ ; տղեք որ ունենայի կտայի իրոք փող չունեմ;  ապեե լսի քեզ ինչ եմ ասում եթե հենց հմի չվանիր էդ հարյուր դրամը տվիր կպիսկեմ կպորթեմ կփռեմ ստե կչորանաս ցավդ տանեմ հանի տուր էդ հարյուր դրամը; որ սպանեք էլ փող չունեմ ;արա դու ինչ ես աշխըտում որ; թատրոնում դերասան ; արա Սքե հանի սրան հարյուր դրամ տուր թող էթա;\"\n",
        "\n",
        "# անունի ստանդարտը ուրիշ ա՝ ոչ թե _ ով ենք գրում (snake case) \n",
        "# այլ ամեն հաջորդ բառը մեծատառով ենք սկսում (camel case)"
      ]
    },
    {
      "cell_type": "markdown",
      "metadata": {},
      "source": [
        "էս պահի դրությամբ էս կլասի փոխարեն կարաինք զուտ dictionary օգագործեինք՝\n",
        "\n",
        "```python\t\n",
        "sketch = {\n",
        "    \"vorak\": \"Ֆանտաստիկ\",\n",
        "    \"hamar\": 561, ....\n",
        "}\n",
        "```\n",
        "ուշոտ կտեսնենք թե ինչով են կլասները ավելի լավ"
      ]
    },
    {
      "cell_type": "code",
      "execution_count": null,
      "metadata": {
        "colab": {
          "base_uri": "https://localhost:8080/"
        },
        "id": "YwhT-4m_8KsJ",
        "outputId": "540c4481-49fa-426d-f4a6-c93ed893a40c"
      },
      "outputs": [
        {
          "name": "stdout",
          "output_type": "stream",
          "text": [
            "<__main__.KarginHaxordum object at 0x0000028B1D1CBB80>\n",
            "<class '__main__.KarginHaxordum'>\n"
          ]
        }
      ],
      "source": [
        "sketch = KarginHaxordum() # instance | նման ա գրելուն՝ s = set()\n",
        "print(sketch)\n",
        "print(type(sketch))"
      ]
    },
    {
      "cell_type": "code",
      "execution_count": 4,
      "metadata": {
        "colab": {
          "base_uri": "https://localhost:8080/"
        },
        "id": "ssjGjgUzs-3U",
        "outputId": "564f7f15-a2d8-4c99-d68b-a7b989bba964"
      },
      "outputs": [
        {
          "name": "stdout",
          "output_type": "stream",
          "text": [
            "արա ինչ էղավ էդ տղեն խիա ուշանում բոժը մոյ երեկվանից չենք խմել էս վիճակը ինձի կազմաքանդումա արդեն; լավ չեմ լավ չեմ դողցնում եմ մի կես ժամ էլ չխմեմ կվատընամ  Գրիշ; հա էնա  ոնց որ Սքեն գալիսա  Սքե շուտ արի; աիի հլը ախպեր; էղավ; կնչքան ես բերել;երկու հարյուր; ոնց երկու հարյուր բոժը մոյ դու չգիտես որ լուբոյ իրեն հարգող արաղը երեք հարյուր դրամ արժի բա էն հարյուր դրամը ինչ ենք անելու; եսիմ; ոնց երկու հարյուր արա բա երեկվա հարյուր դրամը որ եկեղեցուց գողացել էինք ուրա արա; էդ հարյուրն էլ հետը երկու հարյուր ; չհասկցա արա ուրեմն էն եքա Արմենի կամազը հարյուր դրամով ես լվացե ;հա բա կրիզիսա չէ; ճիշտա ասում ապե կրիզիսա երեկ էն ամերիկայի Օբաման էլ հելավ կայնավ ու ասեց էս կրիզիսը խփելույա էն ամենա խոցելի խավին մեզի ապե էս երեքիս ու ․․․ ապե ; Գրիշ վատանում եմ մի բա արա էդ ահարյուր դրամը ճարի խմենք էլի;հանգստացի ախպերս էսա մի բան կմտածեմ; բոժը մոյ ահա թե ինչա անում մարդու հետ մի օր չխմելը ապե ապե ցավդ գանեմ մի հատ գայիր էլի խոսքի մենք էլ կարայինք գայինք պռոստը մենք երեք հոգով ենք քո կողմից մի քիչ գոռոզություն կլնի էլի չգաս ապե ցավդ գանեմ;լսում եմ ձեզ ; ապե ցավդ տանեմ ոնց ես; շնորհակալություն լավ եմ ; ապե ցավդ տանեմ ոչ խմող ենք ոչ ծխող ենք պռոստո ընգերներով սենց ուզում ենք բարի գործ անենք մի հատ ծերանոց կառուցենք բայց հարյուր դրամ չի հերիքում հմի կարոյմ ես հարյուր դրամով մեզի պաձերշկա անես ընգեր ցավդ տանեմ;տղերք ճիշտն ասած փող չունեմ ; արա հմի հարյուր դրամ չես գալիս խմենք արա; ծերանոցի կենացը էլի ցավդ տանեմ ; տղեք որ ունենայի կտայի իրոք փող չունեմ;  ապեե լսի քեզ ինչ եմ ասում եթե հենց հմի չվանիր էդ հարյուր դրամը տվիր կպիսկեմ կպորթեմ կփռեմ ստե կչորանաս ցավդ տանեմ հանի տուր էդ հարյուր դրամը; որ սպանեք էլ փող չունեմ ;արա դու ինչ ես աշխըտում որ; թատրոնում դերասան ; արա Սքե հանի սրան հարյուր դրամ տուր թող էթա;\n"
          ]
        }
      ],
      "source": [
        "print(sketch.text)"
      ]
    },
    {
      "cell_type": "code",
      "execution_count": 5,
      "metadata": {},
      "outputs": [
        {
          "ename": "AttributeError",
          "evalue": "'KarginHaxordum' object has no attribute 'text112'",
          "output_type": "error",
          "traceback": [
            "\u001b[1;31m---------------------------------------------------------------------------\u001b[0m",
            "\u001b[1;31mAttributeError\u001b[0m                            Traceback (most recent call last)",
            "Input \u001b[1;32mIn [5]\u001b[0m, in \u001b[0;36m<cell line: 1>\u001b[1;34m()\u001b[0m\n\u001b[1;32m----> 1\u001b[0m \u001b[38;5;28mprint\u001b[39m(\u001b[43msketch\u001b[49m\u001b[38;5;241;43m.\u001b[39;49m\u001b[43mtext112\u001b[49m)\n",
            "\u001b[1;31mAttributeError\u001b[0m: 'KarginHaxordum' object has no attribute 'text112'"
          ]
        }
      ],
      "source": [
        "print(sketch.text112)"
      ]
    },
    {
      "cell_type": "code",
      "execution_count": null,
      "metadata": {
        "colab": {
          "base_uri": "https://localhost:8080/",
          "height": 180
        },
        "id": "6xN2-Nf78Svh",
        "outputId": "5ba2923b-5d09-489f-a382-86c8823110cd"
      },
      "outputs": [
        {
          "ename": "AttributeError",
          "evalue": "'list' object has no attribute 'appenmpnend'",
          "output_type": "error",
          "traceback": [
            "\u001b[0;31m---------------------------------------------------------------------------\u001b[0m",
            "\u001b[0;31mAttributeError\u001b[0m                            Traceback (most recent call last)",
            "\u001b[0;32m<ipython-input-8-0d553048ec7d>\u001b[0m in \u001b[0;36m<cell line: 0>\u001b[0;34m()\u001b[0m\n\u001b[1;32m      3\u001b[0m \u001b[0mlst\u001b[0m \u001b[0;34m=\u001b[0m \u001b[0;34m[\u001b[0m\u001b[0;36m1\u001b[0m\u001b[0;34m,\u001b[0m \u001b[0;36m32\u001b[0m\u001b[0;34m]\u001b[0m\u001b[0;34m\u001b[0m\u001b[0;34m\u001b[0m\u001b[0m\n\u001b[1;32m      4\u001b[0m \u001b[0;34m\u001b[0m\u001b[0m\n\u001b[0;32m----> 5\u001b[0;31m \u001b[0mlst\u001b[0m\u001b[0;34m.\u001b[0m\u001b[0mappenmpnend\u001b[0m\u001b[0;34m(\u001b[0m\u001b[0;34m)\u001b[0m\u001b[0;34m\u001b[0m\u001b[0;34m\u001b[0m\u001b[0m\n\u001b[0m",
            "\u001b[0;31mAttributeError\u001b[0m: 'list' object has no attribute 'appenmpnend'"
          ]
        }
      ],
      "source": [
        "sketch.vorak # Attribute\n",
        "\n",
        "# lst = [1, 32]\n",
        "\n",
        "# lst.appenmpnend()"
      ]
    },
    {
      "cell_type": "code",
      "execution_count": null,
      "metadata": {
        "colab": {
          "base_uri": "https://localhost:8080/"
        },
        "id": "BU5p1W7y8WHD",
        "outputId": "1852f56f-7d0a-4585-99e3-e87b9d59958d"
      },
      "outputs": [
        {
          "data": {
            "text/plain": [
              "561"
            ]
          },
          "execution_count": 9,
          "metadata": {},
          "output_type": "execute_result"
        }
      ],
      "source": [
        "sketch.hamar"
      ]
    },
    {
      "cell_type": "code",
      "execution_count": null,
      "metadata": {
        "colab": {
          "base_uri": "https://localhost:8080/"
        },
        "id": "yGwNzXUJ9Ena",
        "outputId": "071eb2f2-5a94-46f5-d244-f2a77e863fa9"
      },
      "outputs": [
        {
          "name": "stdout",
          "output_type": "stream",
          "text": [
            "561\n",
            "509\n"
          ]
        }
      ],
      "source": [
        "print(sketch.hamar)\n",
        "\n",
        "sketch.hamar = 509\n",
        "\n",
        "print(sketch.hamar)\n"
      ]
    },
    {
      "cell_type": "code",
      "execution_count": 7,
      "metadata": {
        "colab": {
          "base_uri": "https://localhost:8080/",
          "height": 250
        },
        "id": "27-bmysG9KiB",
        "outputId": "4d80bc0b-1c85-4313-9bbf-daee57dade11"
      },
      "outputs": [
        {
          "data": {
            "text/plain": [
              "561"
            ]
          },
          "execution_count": 7,
          "metadata": {},
          "output_type": "execute_result"
        }
      ],
      "source": [
        "urish_sketch = KarginHaxordum()\n",
        "urish_sketch.hamar"
      ]
    },
    {
      "cell_type": "code",
      "execution_count": 8,
      "metadata": {
        "colab": {
          "base_uri": "https://localhost:8080/"
        },
        "id": "8mZHu8Y6HEtI",
        "outputId": "3d41bac6-38c3-48c4-df5a-a89800f06ee4"
      },
      "outputs": [
        {
          "name": "stdout",
          "output_type": "stream",
          "text": [
            "Ես այս ամենին նայում եմ լուռ \n",
            "և գիտակներ են խոսում իմ մեջ\n"
          ]
        }
      ],
      "source": [
        "urish_sketch.text = \"Ես այս ամենին նայում եմ լուռ \\nև գիտակներ են խոսում իմ մեջ\"\n",
        "print(urish_sketch.text)\n"
      ]
    },
    {
      "cell_type": "code",
      "execution_count": 9,
      "metadata": {
        "id": "NfBFtxShu9r1"
      },
      "outputs": [],
      "source": [
        "urish_sketch.text = \"taza text\"\n",
        "urish_sketch.hamar = 11111"
      ]
    },
    {
      "cell_type": "markdown",
      "metadata": {
        "id": "DM_AOqSG9tRX"
      },
      "source": [
        "## class instance"
      ]
    },
    {
      "cell_type": "markdown",
      "metadata": {
        "id": "otZrTqpm9dC3"
      },
      "source": [
        "**Ավելի հարմար ու ճիշտ կլինի որ էդ մեր կլասսը օգտագործենք որպես կմախք, ու ամեն անգամ ստեղծենք յուրօրինակ օբյեկը KarginHaxordum տեսակի(class instance) որին կտանք իրա համարը և այլն և այլն**"
      ]
    },
    {
      "cell_type": "code",
      "execution_count": null,
      "metadata": {
        "id": "1Qzsw-PiLrQ1"
      },
      "outputs": [],
      "source": [
        "sketch = KarginHaxordum(hamar=1, text=\"asda\", derasanner= ) # instance\n"
      ]
    },
    {
      "cell_type": "code",
      "execution_count": null,
      "metadata": {},
      "outputs": [
        {
          "name": "stdout",
          "output_type": "stream",
          "text": [
            "Ֆանտաստիկ\n",
            "2\n"
          ]
        }
      ],
      "source": [
        "kargin = KarginHaxordum()\n",
        "\n",
        "kargin.vorak = \"ընտիր\"\n",
        "kargin.hamar = 111\n",
        "kargin.derasanner = [\"asdasda\"]\n",
        "\n",
        "urish_kargin = KarginHaxordum()\n",
        "urish_kargin.vorak = \"hrashq\"\n",
        "urish_kargin.hamar = 112\n",
        "urish_kargin.derasanner = [\"2345678\"]\n",
        "\n",
        "def init_anel(sketch_instance, quality, number, actors):\n",
        "    sketch_instance.vorak = quality\n",
        "    sketch_instance.hamar = number \n",
        "    sketch_instance.derasanner = actors \n",
        "    \n",
        "taza_kargin = KarginHaxordum()\n",
        "\n",
        "init_anel(taza_kargin, 1, 2, 3)\n",
        "\n",
        "print(taza_kargin.hamar)\n",
        "\n",
        "# sketch = KarginHaxordum(hamar=1, text=\"asda\", derasanner= ) # instance\n",
        "\n"
      ]
    },
    {
      "cell_type": "code",
      "execution_count": null,
      "metadata": {
        "id": "wQ8T74s590q_"
      },
      "outputs": [],
      "source": [
        "class KarginHaxordum: # ստեղ ստանդարտը ուրիշա, ոչ թե _ ով ենք գրում այլ ամեն հաջորդ բառը մեծատառով ենք սկսում\n",
        "    # էս որակը բոլորի համար նույննա լինելու իսկզբանե\n",
        "    vorak = \"Ֆանտաստիկ\" # կոչվումա class attribute (class variable էլ կարանք ասենք)\n",
        "\n",
        "    # ստեղ էլ ստեղծում ենք ամեն մի սկետչին յուրօրինակ փոփոխականները\n",
        "    def __init__(self): # initialization բառից\n",
        "        print(\"պանիր\")\n"
      ]
    },
    {
      "cell_type": "code",
      "execution_count": 12,
      "metadata": {
        "colab": {
          "base_uri": "https://localhost:8080/"
        },
        "id": "h-fszctmxIf6",
        "outputId": "5452952e-52c5-49a4-bcb5-75655c5561cf"
      },
      "outputs": [
        {
          "name": "stdout",
          "output_type": "stream",
          "text": [
            "պանիր\n"
          ]
        }
      ],
      "source": [
        "k = KarginHaxordum()"
      ]
    },
    {
      "cell_type": "code",
      "execution_count": null,
      "metadata": {
        "colab": {
          "base_uri": "https://localhost:8080/",
          "height": 36
        },
        "id": "Kv9-ca__v2mL",
        "outputId": "653721d2-afd4-4ae1-b9fb-0033aff50c1c"
      },
      "outputs": [
        {
          "data": {
            "application/vnd.google.colaboratory.intrinsic+json": {
              "type": "string"
            },
            "text/plain": [
              "'Ընտիր'"
            ]
          },
          "execution_count": 24,
          "metadata": {},
          "output_type": "execute_result"
        }
      ],
      "source": [
        "kargin.vorak"
      ]
    },
    {
      "cell_type": "code",
      "execution_count": null,
      "metadata": {
        "colab": {
          "base_uri": "https://localhost:8080/"
        },
        "id": "HbDwO3EYAN-G",
        "outputId": "87675642-5069-4968-c232-2e62a2cb8174"
      },
      "outputs": [
        {
          "name": "stdout",
          "output_type": "stream",
          "text": [
            "պանիր\n",
            "\n"
          ]
        }
      ],
      "source": [
        "kargin_11 = KarginHaxordum()"
      ]
    },
    {
      "cell_type": "code",
      "execution_count": null,
      "metadata": {
        "colab": {
          "base_uri": "https://localhost:8080/"
        },
        "id": "HJYQcvWYAc49",
        "outputId": "eaecac4a-6e12-4e94-bb8a-77566942b561"
      },
      "outputs": [
        {
          "name": "stdout",
          "output_type": "stream",
          "text": [
            "պանիր\n",
            "\n"
          ]
        }
      ],
      "source": [
        "a = KarginHaxordum()"
      ]
    },
    {
      "cell_type": "markdown",
      "metadata": {
        "id": "htNJvGosA4_M"
      },
      "source": [
        "__ init __() (առանց պռաբելներ) հատուկ մեթոդը ավտոմատ որպես առաջին արգումենտ ակնկալումա instanceը (a) ն\n",
        "ու իրա գործնա որ a-ին ինիցիալիզացնի ինչ-որ արժեքներ, ֆունկցիայի արգումենտներում պետքա նշենք որ տալիս ենք instanceը, դա անում ենք self արգումենտը ներառելով,"
      ]
    },
    {
      "cell_type": "code",
      "execution_count": null,
      "metadata": {
        "id": "OcgjWo1sBHoE"
      },
      "outputs": [],
      "source": [
        "class KarginHaxordum:\n",
        "    # էս որակը բոլորի համար նույննա լինելու իսկզբանե\n",
        "    vorak = \"Ֆանտաստիկ\" # կոչվումա class variable\n",
        "\n",
        "    # ստեղ էլ ստեղծում ենք ամեն մի սկետչին յուրօրինակ փոփոխականները\n",
        "    def __init__(self, vorak, hamar, derasanner): # initialization (constructor)\n",
        "        self.vorak = vorak\n",
        "        self.hamar = hamar \n",
        "        self.derasanner = derasanner \n",
        "        print(\"1\")\n"
      ]
    },
    {
      "cell_type": "code",
      "execution_count": null,
      "metadata": {},
      "outputs": [
        {
          "name": "stdout",
          "output_type": "stream",
          "text": [
            "1\n"
          ]
        }
      ],
      "source": [
        "k = KarginHaxordum(\"yntir\", 1, [\"Mko\"])\n",
        "\n",
        "# init_anel(k, \"yntir\", 1, [\"Mko\"])"
      ]
    },
    {
      "cell_type": "code",
      "execution_count": 16,
      "metadata": {},
      "outputs": [
        {
          "data": {
            "text/plain": [
              "['Mko']"
            ]
          },
          "execution_count": 16,
          "metadata": {},
          "output_type": "execute_result"
        }
      ],
      "source": [
        "k.derasanner"
      ]
    },
    {
      "cell_type": "code",
      "execution_count": null,
      "metadata": {
        "colab": {
          "base_uri": "https://localhost:8080/"
        },
        "id": "yHdc53tVBOS7",
        "outputId": "95ff7af9-7875-4624-c36c-feadf33e96a0"
      },
      "outputs": [
        {
          "name": "stdout",
          "output_type": "stream",
          "text": [
            "Պանիր\n"
          ]
        }
      ],
      "source": [
        "sketch = KarginHaxordum(\"lav\", 12, \"h\") # __init__() ը կանչվումա երբ ուզում ենք instance ստեղծել\n",
        "# sketch.__init__()\n",
        "# sketch.append()"
      ]
    },
    {
      "cell_type": "code",
      "execution_count": null,
      "metadata": {
        "colab": {
          "base_uri": "https://localhost:8080/",
          "height": 36
        },
        "id": "CHR1cQ84ovB9",
        "outputId": "06d279bd-ce31-4fdb-f062-f205008860c5"
      },
      "outputs": [
        {
          "data": {
            "application/vnd.google.colaboratory.intrinsic+json": {
              "type": "string"
            },
            "text/plain": [
              "'lav'"
            ]
          },
          "execution_count": 31,
          "metadata": {},
          "output_type": "execute_result"
        }
      ],
      "source": [
        "sketch.vorak"
      ]
    },
    {
      "cell_type": "code",
      "execution_count": null,
      "metadata": {
        "colab": {
          "base_uri": "https://localhost:8080/"
        },
        "id": "d5nIAxrrzeF9",
        "outputId": "3fdec14f-da1f-43b3-a73c-4518dc228d1c"
      },
      "outputs": [
        {
          "data": {
            "text/plain": [
              "213454"
            ]
          },
          "execution_count": 39,
          "metadata": {},
          "output_type": "execute_result"
        }
      ],
      "source": [
        "kargin.hamar"
      ]
    },
    {
      "cell_type": "code",
      "execution_count": null,
      "metadata": {
        "id": "ok0tX-ttBOXg"
      },
      "outputs": [],
      "source": [
        "class KarginHaxordum:\n",
        "    # էս որակը բոլորի համար նույննա լինելու իսկզբանե\n",
        "    vorak = \"Ֆանտաստիկ\" # կոչվում ա class variable\n",
        "\n",
        "    # ստեղ էլ ստեղծում ենք ամեն մի սկետչին յուրօրինակ փոփոխականները\n",
        "    def __init__(self, hamar, d): # initialization բառից\n",
        "        self.hamar = hamar\n",
        "        self.derasanner = d\n",
        "\n"
      ]
    },
    {
      "cell_type": "code",
      "execution_count": null,
      "metadata": {
        "colab": {
          "base_uri": "https://localhost:8080/"
        },
        "id": "dT1_TM0HBOZm",
        "outputId": "eb50c857-adda-4f09-c198-0c368e2eceee"
      },
      "outputs": [
        {
          "name": "stdout",
          "output_type": "stream",
          "text": [
            "Ֆանտաստիկ\n",
            "509\n"
          ]
        }
      ],
      "source": [
        "sketch = KarginHaxordum(509, [\"Hayko\", \"Mko\"])\n",
        "\n",
        "print(sketch.vorak)\n",
        "print(sketch.hamar)"
      ]
    },
    {
      "cell_type": "code",
      "execution_count": null,
      "metadata": {
        "colab": {
          "base_uri": "https://localhost:8080/"
        },
        "id": "TEnEFxRkz3hY",
        "outputId": "699b27a4-7a6d-48f0-c472-7c089bf7d18a"
      },
      "outputs": [
        {
          "name": "stdout",
          "output_type": "stream",
          "text": [
            "Ֆանտաստիկ\n",
            "510\n"
          ]
        }
      ],
      "source": [
        "sketch2 = KarginHaxordum(510, [\"Mko\"])\n",
        "\n",
        "print(sketch2.vorak)\n",
        "print(sketch2.hamar)"
      ]
    },
    {
      "cell_type": "markdown",
      "metadata": {
        "id": "z7IGkanHE-bY"
      },
      "source": [
        "### Կարա նաև անունը self չլինի առաջին արգումենտի"
      ]
    },
    {
      "cell_type": "code",
      "execution_count": null,
      "metadata": {
        "id": "y8FR5xAkFPc-"
      },
      "outputs": [],
      "source": [
        "class KarginHaxordum: # ստեղ ստանդարտը ուրիշա, ոչ թե _ ով ենք գրում այլ ամեն հաջորդ բառը մեծատառով ենք սկսում\n",
        "    # էս որակը բոլորի համար նույննա լինելու իսկզբանե\n",
        "    vorak = \"Ֆանտաստիկ\" # կոչվումա class attribute (class variable էլ կարանք ասենք)\n",
        "\n",
        "    # ստեղ էլ ստեղծում ենք ամեն մի սկետչին յուրօրինակ փոփոխականները\n",
        "    def __init__(HrashqKargin, hamar): # initialization բառից\n",
        "        HrashqKargin.hamar = hamar\n"
      ]
    },
    {
      "cell_type": "markdown",
      "metadata": {
        "id": "iE70V9ElFaaJ"
      },
      "source": [
        "## class method"
      ]
    },
    {
      "cell_type": "code",
      "execution_count": null,
      "metadata": {
        "id": "3cXUYRkiBOeE"
      },
      "outputs": [],
      "source": [
        "class KarginHaxordum:\n",
        "    vorak = \"Ֆանտաստիկ\" # class variable\n",
        "\n",
        "    def __init__(self, hamar, derasanner, text):\n",
        "        self.hamar = hamar # instance variable\n",
        "        self.derasanner = derasanner\n",
        "        self.text = text\n",
        "\n",
        "    def nkarel(self):\n",
        "        print(f\"Կանչել {' '.join(self.derasanner)}\")\n",
        "        print(f\"Խնրդել որ ասեն {self.text}\")\n",
        "        \n",
        "        self.day = \"jun 11\" # instance variable\n",
        "        \n",
        "        print(\"verj\", self.day)\n",
        "        \n"
      ]
    },
    {
      "cell_type": "code",
      "execution_count": 37,
      "metadata": {
        "id": "92V3MpAbBOgN"
      },
      "outputs": [],
      "source": [
        "\n",
        "sketch = KarginHaxordum(561, \n",
        "                         [\"Հայկո\", \"Մկո\", \"Աշոտ\"], \n",
        "                         \"արա ինչ էղավ էդ տղեն խիա ուշանում բոժը մոյ երեկվանից չենք խմել էս վիճակը ինձի կազմաքանդումա արդեն; լավ չեմ լավ չեմ դողցնում եմ մի կես ժամ էլ չխմեմ կվատընամ  Գրիշ; հա էնա  ոնց որ Սքեն գալիսա  Սքե շուտ արի; աիի հլը ախպեր; էղավ; կնչքան ես բերել;երկու հարյուր; ոնց երկու հարյուր բոժը մոյ դու չգիտես որ լուբոյ իրեն հարգող արաղը երեք հարյուր դրամ արժի բա էն հարյուր դրամը ինչ ենք անելու; եսիմ; ոնց երկու հարյուր արա բա երեկվա հարյուր դրամը որ եկեղեցուց գողացել էինք ուրա արա; էդ հարյուրն էլ հետը երկու հարյուր ; չհասկցա արա ուրեմն էն եքա Արմենի կամազը հարյուր դրամով ես լվացե ;հա բա կրիզիսա չէ; ճիշտա ասում ապե կրիզիսա երեկ էն ամերիկայի Օբաման էլ հելավ կայնավ ու ասեց էս կրիզիսը խփելույա էն ամենա խոցելի խավին մեզի ապե էս երեքիս ու ․․․ ապե ; Գրիշ վատանում եմ մի բա արա էդ ահարյուր դրամը ճարի խմենք էլի;հանգստացի ախպերս էսա մի բան կմտածեմ; բոժը մոյ ահա թե ինչա անում մարդու հետ մի օր չխմելը ապե ապե ցավդ գանեմ մի հատ գայիր էլի խոսքի մենք էլ կարայինք գայինք պռոստը մենք երեք հոգով ենք քո կողմից մի քիչ գոռոզություն կլնի էլի չգաս ապե ցավդ գանեմ;լսում եմ ձեզ ; ապե ցավդ տանեմ ոնց ես; շնորհակալություն լավ եմ ; ապե ցավդ տանեմ ոչ խմող ենք ոչ ծխող ենք պռոստո ընգերներով սենց ուզում ենք բարի գործ անենք մի հատ ծերանոց կառուցենք բայց հարյուր դրամ չի հերիքում հմի կարոյմ ես հարյուր դրամով մեզի պաձերշկա անես ընգեր ցավդ տանեմ;տղերք ճիշտն ասած փող չունեմ ; արա հմի հարյուր դրամ չես գալիս խմենք արա; ծերանոցի կենացը էլի ցավդ տանեմ ; տղեք որ ունենայի կտայի իրոք փող չունեմ;  ապեե լսի քեզ ինչ եմ ասում եթե հենց հմի չվանիր էդ հարյուր դրամը տվիր կպիսկեմ կպորթեմ կփռեմ ստե կչորանաս ցավդ տանեմ հանի տուր էդ հարյուր դրամը; որ սպանեք էլ փող չունեմ ;արա դու ինչ ես աշխըտում որ; թատրոնում դերասան ; արա Սքե հանի սրան հարյուր դրամ տուր թող էթա;\")\n"
      ]
    },
    {
      "cell_type": "code",
      "execution_count": 38,
      "metadata": {
        "colab": {
          "base_uri": "https://localhost:8080/"
        },
        "id": "gMrt1NIEBOiX",
        "outputId": "4ac4d034-9b00-49db-f2ce-23968159319b"
      },
      "outputs": [
        {
          "name": "stdout",
          "output_type": "stream",
          "text": [
            "Կանչել Հայկո Մկո Աշոտ\n",
            "Խնրդել որ ասեն արա ինչ էղավ էդ տղեն խիա ուշանում բոժը մոյ երեկվանից չենք խմել էս վիճակը ինձի կազմաքանդումա արդեն; լավ չեմ լավ չեմ դողցնում եմ մի կես ժամ էլ չխմեմ կվատընամ  Գրիշ; հա էնա  ոնց որ Սքեն գալիսա  Սքե շուտ արի; աիի հլը ախպեր; էղավ; կնչքան ես բերել;երկու հարյուր; ոնց երկու հարյուր բոժը մոյ դու չգիտես որ լուբոյ իրեն հարգող արաղը երեք հարյուր դրամ արժի բա էն հարյուր դրամը ինչ ենք անելու; եսիմ; ոնց երկու հարյուր արա բա երեկվա հարյուր դրամը որ եկեղեցուց գողացել էինք ուրա արա; էդ հարյուրն էլ հետը երկու հարյուր ; չհասկցա արա ուրեմն էն եքա Արմենի կամազը հարյուր դրամով ես լվացե ;հա բա կրիզիսա չէ; ճիշտա ասում ապե կրիզիսա երեկ էն ամերիկայի Օբաման էլ հելավ կայնավ ու ասեց էս կրիզիսը խփելույա էն ամենա խոցելի խավին մեզի ապե էս երեքիս ու ․․․ ապե ; Գրիշ վատանում եմ մի բա արա էդ ահարյուր դրամը ճարի խմենք էլի;հանգստացի ախպերս էսա մի բան կմտածեմ; բոժը մոյ ահա թե ինչա անում մարդու հետ մի օր չխմելը ապե ապե ցավդ գանեմ մի հատ գայիր էլի խոսքի մենք էլ կարայինք գայինք պռոստը մենք երեք հոգով ենք քո կողմից մի քիչ գոռոզություն կլնի էլի չգաս ապե ցավդ գանեմ;լսում եմ ձեզ ; ապե ցավդ տանեմ ոնց ես; շնորհակալություն լավ եմ ; ապե ցավդ տանեմ ոչ խմող ենք ոչ ծխող ենք պռոստո ընգերներով սենց ուզում ենք բարի գործ անենք մի հատ ծերանոց կառուցենք բայց հարյուր դրամ չի հերիքում հմի կարոյմ ես հարյուր դրամով մեզի պաձերշկա անես ընգեր ցավդ տանեմ;տղերք ճիշտն ասած փող չունեմ ; արա հմի հարյուր դրամ չես գալիս խմենք արա; ծերանոցի կենացը էլի ցավդ տանեմ ; տղեք որ ունենայի կտայի իրոք փող չունեմ;  ապեե լսի քեզ ինչ եմ ասում եթե հենց հմի չվանիր էդ հարյուր դրամը տվիր կպիսկեմ կպորթեմ կփռեմ ստե կչորանաս ցավդ տանեմ հանի տուր էդ հարյուր դրամը; որ սպանեք էլ փող չունեմ ;արա դու ինչ ես աշխըտում որ; թատրոնում դերասան ; արա Սքե հանի սրան հարյուր դրամ տուր թող էթա;\n",
            "verj jun 11\n"
          ]
        }
      ],
      "source": [
        "sketch.nkarel() # nkarel(sketch)"
      ]
    },
    {
      "cell_type": "code",
      "execution_count": 39,
      "metadata": {},
      "outputs": [
        {
          "data": {
            "text/plain": [
              "'jun 11'"
            ]
          },
          "execution_count": 39,
          "metadata": {},
          "output_type": "execute_result"
        }
      ],
      "source": [
        "sketch.day"
      ]
    },
    {
      "cell_type": "code",
      "execution_count": null,
      "metadata": {
        "id": "YJrgOBGcC9oh"
      },
      "outputs": [],
      "source": [
        "class KarginHaxordum:\n",
        "    vorak = \"Ֆանտաստիկ\"\n",
        "\n",
        "    def __init__(self, hamar, derasanner, text):\n",
        "        self.hamar = hamar\n",
        "        self.derasanner = derasanner\n",
        "        self.text = text\n",
        "\n",
        "\n",
        "    def nkarel(self):\n",
        "        print(f\"Կանչել {' '.join(self.derasanner)}\")\n",
        "        print(f\"Խնրդել որ ասեն -> {self.text}\")"
      ]
    },
    {
      "cell_type": "code",
      "execution_count": null,
      "metadata": {
        "colab": {
          "base_uri": "https://localhost:8080/",
          "height": 504
        },
        "id": "MpzupysjDEJc",
        "outputId": "8315c0ff-584c-4b8f-eb93-4bcffa343977"
      },
      "outputs": [
        {
          "ename": "TypeError",
          "evalue": "KarginHaxordum.__init__() missing 1 required positional argument: 'camera'",
          "output_type": "error",
          "traceback": [
            "\u001b[0;31m---------------------------------------------------------------------------\u001b[0m",
            "\u001b[0;31mTypeError\u001b[0m                                 Traceback (most recent call last)",
            "\u001b[0;32m<ipython-input-69-b90512bb79ea>\u001b[0m in \u001b[0;36m<cell line: 0>\u001b[0;34m()\u001b[0m\n\u001b[0;32m----> 1\u001b[0;31m \u001b[0msketch\u001b[0m \u001b[0;34m=\u001b[0m \u001b[0mKarginHaxordum\u001b[0m\u001b[0;34m(\u001b[0m\u001b[0;36m561\u001b[0m\u001b[0;34m,\u001b[0m \u001b[0;34m[\u001b[0m\u001b[0;34m\"Հայկո\"\u001b[0m\u001b[0;34m,\u001b[0m \u001b[0;34m\"Մկո\"\u001b[0m\u001b[0;34m,\u001b[0m \u001b[0;34m\"Աշոտ\"\u001b[0m\u001b[0;34m]\u001b[0m\u001b[0;34m,\u001b[0m \u001b[0;34m\"արա ինչ էղավ էդ տղեն խիա ուշանում բոժը մոյ երեկվանից չենք խմել էս վիճակը ինձի կազմաքանդումա արդեն; լավ չեմ լավ չեմ դողցնում եմ մի կես ժամ էլ չխմեմ կվատընամ  Գրիշ; հա էնա  ոնց որ Սքեն գալիսա  Սքե շուտ արի; աիի հլը ախպեր; էղավ; կնչքան ես բերել;երկու հարյուր; ոնց երկու հարյուր բոժը մոյ դու չգիտես որ լուբոյ իրեն հարգող արաղը երեք հարյուր դրամ արժի բա էն հարյուր դրամը ինչ ենք անելու; եսիմ; ոնց երկու հարյուր արա բա երեկվա հարյուր դրամը որ եկեղեցուց գողացել էինք ուրա արա; էդ հարյուրն էլ հետը երկու հարյուր ; չհասկցա արա ուրեմն էն եքա Արմենի կամազը հարյուր դրամով ես լվացե ;հա բա կրիզիսա չէ; ճիշտա ասում ապե կրիզիսա երեկ էն ամերիկայի Օբաման էլ հելավ կայնավ ու ասեց էս կրիզիսը խփելույա էն ամենա խոցելի խավին մեզի ապե էս երեքիս ու ․․․ ապե ; Գրիշ վատանում եմ մի բա արա էդ ահարյուր դրամը ճարի խմենք էլի;հանգստացի ախպերս էսա մի բան կմտածեմ; բոժը մոյ ահա թե ինչա անում մարդու հետ մի օր չխմելը ապե ապե ցավդ գանեմ մի հատ գայիր էլի խոսքի մենք էլ կարայինք գայինք պռոստը մենք երեք հոգով ենք քո կողմից մի քիչ գոռոզություն կլնի էլի չգաս ապե ցավդ գանեմ;լսում եմ ձեզ ; ապե ցավդ տանեմ ոնց ես; շնորհակալություն լավ եմ ; ապե ցավդ տանեմ ոչ խմող ենք ոչ ծխող ենք պռոստո ընգերներով սենց ուզում ենք բարի գործ անենք մի հատ ծերանոց կառուցենք բայց հարյուր դրամ չի հերիքում հմի կարոյմ ես հարյու...\n\u001b[0m\u001b[1;32m      2\u001b[0m \u001b[0;34m\u001b[0m\u001b[0m\n\u001b[1;32m      3\u001b[0m \u001b[0msketch\u001b[0m\u001b[0;34m.\u001b[0m\u001b[0mnkarel\u001b[0m\u001b[0;34m(\u001b[0m\u001b[0;34m\"Panasonic\"\u001b[0m\u001b[0;34m)\u001b[0m\u001b[0;34m\u001b[0m\u001b[0;34m\u001b[0m\u001b[0m\n",
            "\u001b[0;31mTypeError\u001b[0m: KarginHaxordum.__init__() missing 1 required positional argument: 'camera'"
          ]
        }
      ],
      "source": [
        "sketch = KarginHaxordum(561, [\"Հայկո\", \"Մկո\", \"Աշոտ\"], \"արա ինչ էղավ էդ տղեն խիա ուշանում բոժը մոյ երեկվանից չենք խմել էս վիճակը ինձի կազմաքանդումա արդեն; լավ չեմ լավ չեմ դողցնում եմ մի կես ժամ էլ չխմեմ կվատընամ  Գրիշ; հա էնա  ոնց որ Սքեն գալիսա  Սքե շուտ արի; աիի հլը ախպեր; էղավ; կնչքան ես բերել;երկու հարյուր; ոնց երկու հարյուր բոժը մոյ դու չգիտես որ լուբոյ իրեն հարգող արաղը երեք հարյուր դրամ արժի բա էն հարյուր դրամը ինչ ենք անելու; եսիմ; ոնց երկու հարյուր արա բա երեկվա հարյուր դրամը որ եկեղեցուց գողացել էինք ուրա արա; էդ հարյուրն էլ հետը երկու հարյուր ; չհասկցա արա ուրեմն էն եքա Արմենի կամազը հարյուր դրամով ես լվացե ;հա բա կրիզիսա չէ; ճիշտա ասում ապե կրիզիսա երեկ էն ամերիկայի Օբաման էլ հելավ կայնավ ու ասեց էս կրիզիսը խփելույա էն ամենա խոցելի խավին մեզի ապե էս երեքիս ու ․․․ ապե ; Գրիշ վատանում եմ մի բա արա էդ ահարյուր դրամը ճարի խմենք էլի;հանգստացի ախպերս էսա մի բան կմտածեմ; բոժը մոյ ահա թե ինչա անում մարդու հետ մի օր չխմելը ապե ապե ցավդ գանեմ մի հատ գայիր էլի խոսքի մենք էլ կարայինք գայինք պռոստը մենք երեք հոգով ենք քո կողմից մի քիչ գոռոզություն կլնի էլի չգաս ապե ցավդ գանեմ;լսում եմ ձեզ ; ապե ցավդ տանեմ ոնց ես; շնորհակալություն լավ եմ ; ապե ցավդ տանեմ ոչ խմող ենք ոչ ծխող ենք պռոստո ընգերներով սենց ուզում ենք բարի գործ անենք մի հատ ծերանոց կառուցենք բայց հարյուր դրամ չի հերիքում հմի կարոյմ ես հարյուր դրամով մեզի պաձերշկա անես ընգեր ցավդ տանեմ;տղերք ճիշտն ասած փող չունեմ ; արա հմի հարյուր դրամ չես գալիս խմենք արա; ծերանոցի կենացը էլի ցավդ տանեմ ; տղեք որ ունենայի կտայի իրոք փող չունեմ;  ապեե լսի քեզ ինչ եմ ասում եթե հենց հմի չվանիր էդ հարյուր դրամը տվիր կպիսկեմ կպորթեմ կփռեմ ստե կչորանաս ցավդ տանեմ հանի տուր էդ հարյուր դրամը; որ սպանեք էլ փող չունեմ ;արա դու ինչ ես աշխըտում որ; թատրոնում դերասան ; արա Սքե հանի սրան հարյուր դրամ տուր թող էթա;\")\n",
        "\n",
        "sketch.nkarel()"
      ]
    },
    {
      "cell_type": "markdown",
      "metadata": {
        "id": "Tm7zqIHZFlwR"
      },
      "source": [
        "## class variable տպելը կլասսի մեջ"
      ]
    },
    {
      "cell_type": "code",
      "execution_count": null,
      "metadata": {
        "colab": {
          "base_uri": "https://localhost:8080/"
        },
        "id": "mtOl9u1TDyJS",
        "outputId": "738e526f-999b-4229-9579-b161b0c387dd"
      },
      "outputs": [
        {
          "ename": "NameError",
          "evalue": "name 'vorak' is not defined",
          "output_type": "error",
          "traceback": [
            "\u001b[1;31m---------------------------------------------------------------------------\u001b[0m",
            "\u001b[1;31mNameError\u001b[0m                                 Traceback (most recent call last)",
            "Input \u001b[1;32mIn [42]\u001b[0m, in \u001b[0;36m<cell line: 16>\u001b[1;34m()\u001b[0m\n\u001b[0;32m     12\u001b[0m         \u001b[38;5;28mprint\u001b[39m(\u001b[38;5;124mf\u001b[39m\u001b[38;5;124m\"\u001b[39m\u001b[38;5;124mԽնրդել որ ասեն -> \u001b[39m\u001b[38;5;132;01m{\u001b[39;00m\u001b[38;5;28mself\u001b[39m\u001b[38;5;241m.\u001b[39mtext\u001b[38;5;132;01m}\u001b[39;00m\u001b[38;5;124m\"\u001b[39m)\n\u001b[0;32m     14\u001b[0m sketch \u001b[38;5;241m=\u001b[39m KarginHaxordum(\u001b[38;5;241m561\u001b[39m, [\u001b[38;5;124m\"\u001b[39m\u001b[38;5;124mՀայկո\u001b[39m\u001b[38;5;124m\"\u001b[39m, \u001b[38;5;124m\"\u001b[39m\u001b[38;5;124mՄկո\u001b[39m\u001b[38;5;124m\"\u001b[39m, \u001b[38;5;124m\"\u001b[39m\u001b[38;5;124mԱշոտ\u001b[39m\u001b[38;5;124m\"\u001b[39m], \u001b[38;5;124m\"\u001b[39m\u001b[38;5;124mարա ինչ էղավ էդ տղեն խիա ուշանում բոժը մոյ երեկվանից չենք խմել էս վիճակը ինձի կազմաքանդումա արդեն; լավ չեմ լավ չեմ դողցնում եմ մի կես ժամ էլ չխմեմ կվատընամ  Գրիշ; հա էնա  ոնց որ Սքեն գալիսա  Սքե շուտ արի; աիի հլը ախպեր; էղավ; կնչքան ես բերել;երկու հարյուր; ոնց երկու հարյուր բոժը մոյ դու չգիտես որ լուբոյ իրեն հարգող արաղը երեք հարյուր դրամ արժի բա էն հարյուր դրամը ինչ ենք անելու; եսիմ; ոնց երկու հարյուր արա բա երեկվա հարյուր դրամը որ եկեղեցուց գողացել էինք ուրա արա; էդ հարյուրն էլ հետը երկու հարյուր ; չհասկցա արա ուրեմն էն եքա Արմենի կամազը հարյուր դրամով ես լվացե ;հա բա կրիզիսա չէ; ճիշտա ասում ապե կրիզիսա երեկ էն ամերիկայի Օբաման էլ հելավ կայնավ ու ասեց էս կրիզիսը խփելույա էն ամենա խոցելի խավին մեզի ապե էս երեքիս ու ․․․ ապե ; Գրիշ վատանում եմ մի բա արա էդ ահարյուր դրամը ճարի խմենք էլի;հանգստացի ախպերս էսա մի բան կմտածեմ; բոժը մոյ ահա թե ինչա անում մարդու հետ մի օր չխմելը ապե ապե ցավդ գանեմ մի հատ գայիր էլի խոսքի մենք էլ կարայինք գայինք պռոստը մենք երեք հոգով ենք քո կողմից մի քիչ գոռոզություն կլնի էլի չգաս ապե ցավդ գանեմ;լսում եմ ձեզ ; ապե ցավդ տանեմ ոնց ես; շնորհակալություն լավ եմ ; ապե ցավդ տանեմ ոչ խմող ենք ոչ ծխող ենք պռոստո ընգերներով սենց ուզում ենք բարի գործ անենք մի հատ ծերանոց կառուցենք բայց հարյուր դրամ չի հերիքում հմի կարոյմ ես հարյուր դրամով մեզի պաձերշկա անես ընգեր ցավդ տանեմ;տղերք ճիշտն ասած փող չունեմ ; արա հմի հարյուր դրամ չես գալիս խմենք արա; ծերանոցի կենացը էլի ցավդ տանեմ ; տղեք որ ունենայի կտայի իրոք փող չունեմ;  ապեե լսի քեզ ինչ եմ ասում եթե հենց հմի չվանիր էդ հարյուր դրամը տվիր կպիսկեմ կպորթեմ կփռեմ ստե կչորանաս ցավդ տանեմ հանի տուր էդ հարյուր դրամը; որ սպանեք էլ փող չունեմ ;արա դու ինչ ես աշխըտում որ; թատրոնում դերասան ; արա Սքե հանի սրան հարյուր դրամ տուր թող էթա;\u001b[39m\u001b[38;5;124m\"\u001b[39m)\n\u001b[1;32m---> 16\u001b[0m \u001b[43msketch\u001b[49m\u001b[38;5;241;43m.\u001b[39;49m\u001b[43mnkarel\u001b[49m\u001b[43m(\u001b[49m\u001b[43m)\u001b[49m\n",
            "Input \u001b[1;32mIn [42]\u001b[0m, in \u001b[0;36mKarginHaxordum.nkarel\u001b[1;34m(self)\u001b[0m\n\u001b[0;32m      9\u001b[0m \u001b[38;5;28;01mdef\u001b[39;00m \u001b[38;5;21mnkarel\u001b[39m(\u001b[38;5;28mself\u001b[39m):\n\u001b[1;32m---> 10\u001b[0m     \u001b[38;5;28mprint\u001b[39m(\u001b[38;5;124mf\u001b[39m\u001b[38;5;124m\"\u001b[39m\u001b[38;5;124mՈրակը՝ \u001b[39m\u001b[38;5;132;01m{\u001b[39;00m\u001b[43mvorak\u001b[49m\u001b[38;5;132;01m}\u001b[39;00m\u001b[38;5;124m\"\u001b[39m) \u001b[38;5;66;03m# self.vorak, KarginHaxordum.vorak\u001b[39;00m\n\u001b[0;32m     11\u001b[0m     \u001b[38;5;28mprint\u001b[39m(\u001b[38;5;124mf\u001b[39m\u001b[38;5;124m\"\u001b[39m\u001b[38;5;124mԿանչել \u001b[39m\u001b[38;5;132;01m{\u001b[39;00m\u001b[38;5;124m'\u001b[39m\u001b[38;5;124m \u001b[39m\u001b[38;5;124m'\u001b[39m\u001b[38;5;241m.\u001b[39mjoin(\u001b[38;5;28mself\u001b[39m\u001b[38;5;241m.\u001b[39mderasanner)\u001b[38;5;132;01m}\u001b[39;00m\u001b[38;5;124m\"\u001b[39m)\n\u001b[0;32m     12\u001b[0m     \u001b[38;5;28mprint\u001b[39m(\u001b[38;5;124mf\u001b[39m\u001b[38;5;124m\"\u001b[39m\u001b[38;5;124mԽնրդել որ ասեն -> \u001b[39m\u001b[38;5;132;01m{\u001b[39;00m\u001b[38;5;28mself\u001b[39m\u001b[38;5;241m.\u001b[39mtext\u001b[38;5;132;01m}\u001b[39;00m\u001b[38;5;124m\"\u001b[39m)\n",
            "\u001b[1;31mNameError\u001b[0m: name 'vorak' is not defined"
          ]
        }
      ],
      "source": [
        "class KarginHaxordum:\n",
        "    vorak = \"Ֆանտաստիկ\"\n",
        "\n",
        "    def __init__(self, hamar, derasanner, text):\n",
        "        self.hamar = hamar\n",
        "        self.derasanner = derasanner\n",
        "        self.text = text\n",
        "\n",
        "    def nkarel(self):\n",
        "        print(f\"Որակը՝ {KarginHaxordum.vorak}\") # self.vorak, KarginHaxordum.vorak\n",
        "        print(f\"Կանչել {' '.join(self.derasanner)}\")\n",
        "        print(f\"Խնրդել որ ասեն -> {self.text}\")\n",
        "\n",
        "sketch = KarginHaxordum(561, [\"Հայկո\", \"Մկո\", \"Աշոտ\"], \"արա ինչ էղավ էդ տղեն խիա ուշանում բոժը մոյ երեկվանից չենք խմել էս վիճակը ինձի կազմաքանդումա արդեն; լավ չեմ լավ չեմ դողցնում եմ մի կես ժամ էլ չխմեմ կվատընամ  Գրիշ; հա էնա  ոնց որ Սքեն գալիսա  Սքե շուտ արի; աիի հլը ախպեր; էղավ; կնչքան ես բերել;երկու հարյուր; ոնց երկու հարյուր բոժը մոյ դու չգիտես որ լուբոյ իրեն հարգող արաղը երեք հարյուր դրամ արժի բա էն հարյուր դրամը ինչ ենք անելու; եսիմ; ոնց երկու հարյուր արա բա երեկվա հարյուր դրամը որ եկեղեցուց գողացել էինք ուրա արա; էդ հարյուրն էլ հետը երկու հարյուր ; չհասկցա արա ուրեմն էն եքա Արմենի կամազը հարյուր դրամով ես լվացե ;հա բա կրիզիսա չէ; ճիշտա ասում ապե կրիզիսա երեկ էն ամերիկայի Օբաման էլ հելավ կայնավ ու ասեց էս կրիզիսը խփելույա էն ամենա խոցելի խավին մեզի ապե էս երեքիս ու ․․․ ապե ; Գրիշ վատանում եմ մի բա արա էդ ահարյուր դրամը ճարի խմենք էլի;հանգստացի ախպերս էսա մի բան կմտածեմ; բոժը մոյ ահա թե ինչա անում մարդու հետ մի օր չխմելը ապե ապե ցավդ գանեմ մի հատ գայիր էլի խոսքի մենք էլ կարայինք գայինք պռոստը մենք երեք հոգով ենք քո կողմից մի քիչ գոռոզություն կլնի էլի չգաս ապե ցավդ գանեմ;լսում եմ ձեզ ; ապե ցավդ տանեմ ոնց ես; շնորհակալություն լավ եմ ; ապե ցավդ տանեմ ոչ խմող ենք ոչ ծխող ենք պռոստո ընգերներով սենց ուզում ենք բարի գործ անենք մի հատ ծերանոց կառուցենք բայց հարյուր դրամ չի հերիքում հմի կարոյմ ես հարյուր դրամով մեզի պաձերշկա անես ընգեր ցավդ տանեմ;տղերք ճիշտն ասած փող չունեմ ; արա հմի հարյուր դրամ չես գալիս խմենք արա; ծերանոցի կենացը էլի ցավդ տանեմ ; տղեք որ ունենայի կտայի իրոք փող չունեմ;  ապեե լսի քեզ ինչ եմ ասում եթե հենց հմի չվանիր էդ հարյուր դրամը տվիր կպիսկեմ կպորթեմ կփռեմ ստե կչորանաս ցավդ տանեմ հանի տուր էդ հարյուր դրամը; որ սպանեք էլ փող չունեմ ;արա դու ինչ ես աշխըտում որ; թատրոնում դերասան ; արա Սքե հանի սրան հարյուր դրամ տուր թող էթա;\")\n",
        "\n",
        "sketch.nkarel()"
      ]
    },
    {
      "cell_type": "markdown",
      "metadata": {
        "id": "WS_JmxZDFqju"
      },
      "source": [
        "##  Կարանք initում էլի բաներ անենք, օրինակ ստուգենք մուտքը նորմալ լինի\n"
      ]
    },
    {
      "cell_type": "code",
      "execution_count": 43,
      "metadata": {
        "id": "rvxD40FVD9Vo"
      },
      "outputs": [],
      "source": [
        "\n",
        "class KarginHaxordum:\n",
        "    vorak = \"Ֆանտաստիկ\"\n",
        "\n",
        "    def __init__(self, hamar, derasanner, text):\n",
        "        if hamar < 1:\n",
        "            raise ValueError(\"պետքա բնական թիվ լինի\")\n",
        "        self.hamar = hamar\n",
        "        self.derasanner = derasanner\n",
        "        self.text = text\n",
        "        # self.nkarel()\n",
        "\n",
        "    def nkarel(self): # կլասսի միջի ֆունկցիային անվանում ենք մեթոդ\n",
        "        print(f\"Որակը՝ {self.vorak}\")\n",
        "        print(f\"Կանչել {' '.join(self.derasanner)}\")\n",
        "        print(f\"Խնրդել որ ասեն -> {self.text}\")\n"
      ]
    },
    {
      "cell_type": "code",
      "execution_count": null,
      "metadata": {},
      "outputs": [],
      "source": []
    },
    {
      "cell_type": "code",
      "execution_count": 44,
      "metadata": {
        "colab": {
          "base_uri": "https://localhost:8080/",
          "height": 556
        },
        "id": "qQEvzgz2ETFr",
        "outputId": "05611000-e118-43e3-dc01-6f8dad55ccd5"
      },
      "outputs": [
        {
          "ename": "ValueError",
          "evalue": "պետքա բնական թիվ լինի",
          "output_type": "error",
          "traceback": [
            "\u001b[1;31m---------------------------------------------------------------------------\u001b[0m",
            "\u001b[1;31mValueError\u001b[0m                                Traceback (most recent call last)",
            "Input \u001b[1;32mIn [44]\u001b[0m, in \u001b[0;36m<cell line: 1>\u001b[1;34m()\u001b[0m\n\u001b[1;32m----> 1\u001b[0m sketch \u001b[38;5;241m=\u001b[39m \u001b[43mKarginHaxordum\u001b[49m\u001b[43m(\u001b[49m\u001b[38;5;241;43m-\u001b[39;49m\u001b[38;5;241;43m1\u001b[39;49m\u001b[43m,\u001b[49m\u001b[43m \u001b[49m\u001b[43m[\u001b[49m\u001b[38;5;124;43m\"\u001b[39;49m\u001b[38;5;124;43mՀայկո\u001b[39;49m\u001b[38;5;124;43m\"\u001b[39;49m\u001b[43m,\u001b[49m\u001b[43m \u001b[49m\u001b[38;5;124;43m\"\u001b[39;49m\u001b[38;5;124;43mՄկո\u001b[39;49m\u001b[38;5;124;43m\"\u001b[39;49m\u001b[43m,\u001b[49m\u001b[43m \u001b[49m\u001b[38;5;124;43m\"\u001b[39;49m\u001b[38;5;124;43mԱշոտ\u001b[39;49m\u001b[38;5;124;43m\"\u001b[39;49m\u001b[43m]\u001b[49m\u001b[43m,\u001b[49m\u001b[43m \u001b[49m\u001b[38;5;124;43m\"\u001b[39;49m\u001b[38;5;124;43mարա ինչ էղավ էդ տղեն խիա ուշանում բոժը մոյ երեկվանից չենք խմել էս վիճակը ինձի կազմաքանդումա արդեն; լավ չեմ լավ չեմ դողցնում եմ մի կես ժամ էլ չխմեմ կվատընամ  Գրիշ; հա էնա  ոնց որ Սքեն գալիսա  Սքե շուտ արի; աիի հլը ախպեր; էղավ; կնչքան ես բերել;երկու հարյուր; ոնց երկու հարյուր բոժը մոյ դու չգիտես որ լուբոյ իրեն հարգող արաղը երեք հարյուր դրամ արժի բա էն հարյուր դրամը ինչ ենք անելու; եսիմ; ոնց երկու հարյուր արա բա երեկվա հարյուր դրամը որ եկեղեցուց գողացել էինք ուրա արա; էդ հարյուրն էլ հետը երկու հարյուր ; չհասկցա արա ուրեմն էն եքա Արմենի կամազը հարյուր դրամով ես լվացե ;հա բա կրիզիսա չէ; ճիշտա ասում ապե կրիզիսա երեկ էն ամերիկայի Օբաման էլ հելավ կայնավ ու ասեց էս կրիզիսը խփելույա էն ամենա խոցելի խավին մեզի ապե էս երեքիս ու ․․․ ապե ; Գրիշ վատանում եմ մի բա արա էդ ահարյուր դրամը ճարի խմենք էլի;հանգստացի ախպերս էսա մի բան կմտածեմ; բոժը մոյ ահա թե ինչա անում մարդու հետ մի օր չխմելը ապե ապե ցավդ գանեմ մի հատ գայիր էլի խոսքի մենք էլ կարայինք գայինք պռոստը մենք երեք հոգով ենք քո կողմից մի քիչ գոռոզություն կլնի էլի չգաս ապե ցավդ գանեմ;լսում եմ ձեզ ; ապե ցավդ տանեմ ոնց ես; շնորհակալություն լավ եմ ; ապե ցավդ տանեմ ոչ խմող ենք ոչ ծխող ենք պռոստո ընգերներով սենց ուզում ենք բարի գործ անենք մի հատ ծերանոց կառուցենք բայց հարյուր դրամ չի հերիքում հմի կարոյմ ես հարյուր դրամով մեզի պաձերշկա անես ընգեր ցավդ տանեմ;տղերք ճիշտն ասած փող չունեմ ; արա հմի հարյուր դրամ չես գալիս խմենք արա; ծերանոցի կենացը էլի ցավդ տանեմ ; տղեք որ ունենայի կտայի իրոք փող չունեմ;  ապեե լսի քեզ ինչ եմ ասում եթե հենց հմի չվանիր էդ հարյուր դրամը տվիր կպիսկեմ կպորթեմ կփռեմ ստե կչորանաս ցավդ տանեմ հանի տուր էդ հարյուր դրամը; որ սպանեք էլ փող չունեմ ;արա դու ինչ ես աշխըտում որ; թատրոնում դերասան ; արա Սքե հանի սրան հարյուր դրամ տուր թող էթա;\u001b[39;49m\u001b[38;5;124;43m\"\u001b[39;49m\u001b[43m)\u001b[49m\n",
            "Input \u001b[1;32mIn [43]\u001b[0m, in \u001b[0;36mKarginHaxordum.__init__\u001b[1;34m(self, hamar, derasanner, text)\u001b[0m\n\u001b[0;32m      4\u001b[0m \u001b[38;5;28;01mdef\u001b[39;00m \u001b[38;5;21m__init__\u001b[39m(\u001b[38;5;28mself\u001b[39m, hamar, derasanner, text):\n\u001b[0;32m      5\u001b[0m     \u001b[38;5;28;01mif\u001b[39;00m hamar \u001b[38;5;241m<\u001b[39m \u001b[38;5;241m1\u001b[39m:\n\u001b[1;32m----> 6\u001b[0m         \u001b[38;5;28;01mraise\u001b[39;00m \u001b[38;5;167;01mValueError\u001b[39;00m(\u001b[38;5;124m\"\u001b[39m\u001b[38;5;124mպետքա բնական թիվ լինի\u001b[39m\u001b[38;5;124m\"\u001b[39m)\n\u001b[0;32m      7\u001b[0m     \u001b[38;5;28mself\u001b[39m\u001b[38;5;241m.\u001b[39mhamar \u001b[38;5;241m=\u001b[39m hamar\n\u001b[0;32m      8\u001b[0m     \u001b[38;5;28mself\u001b[39m\u001b[38;5;241m.\u001b[39mderasanner \u001b[38;5;241m=\u001b[39m derasanner\n",
            "\u001b[1;31mValueError\u001b[0m: պետքա բնական թիվ լինի"
          ]
        }
      ],
      "source": [
        "sketch = KarginHaxordum(-1, [\"Հայկո\", \"Մկո\", \"Աշոտ\"], \"արա ինչ էղավ էդ տղեն խիա ուշանում բոժը մոյ երեկվանից չենք խմել էս վիճակը ինձի կազմաքանդումա արդեն; լավ չեմ լավ չեմ դողցնում եմ մի կես ժամ էլ չխմեմ կվատընամ  Գրիշ; հա էնա  ոնց որ Սքեն գալիսա  Սքե շուտ արի; աիի հլը ախպեր; էղավ; կնչքան ես բերել;երկու հարյուր; ոնց երկու հարյուր բոժը մոյ դու չգիտես որ լուբոյ իրեն հարգող արաղը երեք հարյուր դրամ արժի բա էն հարյուր դրամը ինչ ենք անելու; եսիմ; ոնց երկու հարյուր արա բա երեկվա հարյուր դրամը որ եկեղեցուց գողացել էինք ուրա արա; էդ հարյուրն էլ հետը երկու հարյուր ; չհասկցա արա ուրեմն էն եքա Արմենի կամազը հարյուր դրամով ես լվացե ;հա բա կրիզիսա չէ; ճիշտա ասում ապե կրիզիսա երեկ էն ամերիկայի Օբաման էլ հելավ կայնավ ու ասեց էս կրիզիսը խփելույա էն ամենա խոցելի խավին մեզի ապե էս երեքիս ու ․․․ ապե ; Գրիշ վատանում եմ մի բա արա էդ ահարյուր դրամը ճարի խմենք էլի;հանգստացի ախպերս էսա մի բան կմտածեմ; բոժը մոյ ահա թե ինչա անում մարդու հետ մի օր չխմելը ապե ապե ցավդ գանեմ մի հատ գայիր էլի խոսքի մենք էլ կարայինք գայինք պռոստը մենք երեք հոգով ենք քո կողմից մի քիչ գոռոզություն կլնի էլի չգաս ապե ցավդ գանեմ;լսում եմ ձեզ ; ապե ցավդ տանեմ ոնց ես; շնորհակալություն լավ եմ ; ապե ցավդ տանեմ ոչ խմող ենք ոչ ծխող ենք պռոստո ընգերներով սենց ուզում ենք բարի գործ անենք մի հատ ծերանոց կառուցենք բայց հարյուր դրամ չի հերիքում հմի կարոյմ ես հարյուր դրամով մեզի պաձերշկա անես ընգեր ցավդ տանեմ;տղերք ճիշտն ասած փող չունեմ ; արա հմի հարյուր դրամ չես գալիս խմենք արա; ծերանոցի կենացը էլի ցավդ տանեմ ; տղեք որ ունենայի կտայի իրոք փող չունեմ;  ապեե լսի քեզ ինչ եմ ասում եթե հենց հմի չվանիր էդ հարյուր դրամը տվիր կպիսկեմ կպորթեմ կփռեմ ստե կչորանաս ցավդ տանեմ հանի տուր էդ հարյուր դրամը; որ սպանեք էլ փող չունեմ ;արա դու ինչ ես աշխըտում որ; թատրոնում դերասան ; արա Սքե հանի սրան հարյուր դրամ տուր թող էթա;\")\n"
      ]
    },
    {
      "cell_type": "code",
      "execution_count": 46,
      "metadata": {
        "id": "w83YSHVnrYLe"
      },
      "outputs": [
        {
          "name": "stdout",
          "output_type": "stream",
          "text": [
            "Որակը՝ Ֆանտաստիկ\n",
            "Կանչել Հայկո Մկո Աշոտ\n",
            "Խնրդել որ ասեն -> արա ինչ էղավ էդ տղեն խիա ուշանում բոժը մոյ երեկվանից չենք խմել էս վիճակը ինձի կազմաքանդումա արդեն; լավ չեմ լավ չեմ դողցնում եմ մի կես ժամ էլ չխմեմ կվատընամ  Գրիշ; հա էնա  ոնց որ Սքեն գալիսա  Սքե շուտ արի; աիի հլը ախպեր; էղավ; կնչքան ես բերել;երկու հարյուր; ոնց երկու հարյուր բոժը մոյ դու չգիտես որ լուբոյ իրեն հարգող արաղը երեք հարյուր դրամ արժի բա էն հարյուր դրամը ինչ ենք անելու; եսիմ; ոնց երկու հարյուր արա բա երեկվա հարյուր դրամը որ եկեղեցուց գողացել էինք ուրա արա; էդ հարյուրն էլ հետը երկու հարյուր ; չհասկցա արա ուրեմն էն եքա Արմենի կամազը հարյուր դրամով ես լվացե ;հա բա կրիզիսա չէ; ճիշտա ասում ապե կրիզիսա երեկ էն ամերիկայի Օբաման էլ հելավ կայնավ ու ասեց էս կրիզիսը խփելույա էն ամենա խոցելի խավին մեզի ապե էս երեքիս ու ․․․ ապե ; Գրիշ վատանում եմ մի բա արա էդ ահարյուր դրամը ճարի խմենք էլի;հանգստացի ախպերս էսա մի բան կմտածեմ; բոժը մոյ ահա թե ինչա անում մարդու հետ մի օր չխմելը ապե ապե ցավդ գանեմ մի հատ գայիր էլի խոսքի մենք էլ կարայինք գայինք պռոստը մենք երեք հոգով ենք քո կողմից մի քիչ գոռոզություն կլնի էլի չգաս ապե ցավդ գանեմ;լսում եմ ձեզ ; ապե ցավդ տանեմ ոնց ես; շնորհակալություն լավ եմ ; ապե ցավդ տանեմ ոչ խմող ենք ոչ ծխող ենք պռոստո ընգերներով սենց ուզում ենք բարի գործ անենք մի հատ ծերանոց կառուցենք բայց հարյուր դրամ չի հերիքում հմի կարոյմ ես հարյուր դրամով մեզի պաձերշկա անես ընգեր ցավդ տանեմ;տղերք ճիշտն ասած փող չունեմ ; արա հմի հարյուր դրամ չես գալիս խմենք արա; ծերանոցի կենացը էլի ցավդ տանեմ ; տղեք որ ունենայի կտայի իրոք փող չունեմ;  ապեե լսի քեզ ինչ եմ ասում եթե հենց հմի չվանիր էդ հարյուր դրամը տվիր կպիսկեմ կպորթեմ կփռեմ ստե կչորանաս ցավդ տանեմ հանի տուր էդ հարյուր դրամը; որ սպանեք էլ փող չունեմ ;արա դու ինչ ես աշխըտում որ; թատրոնում դերասան ; արա Սքե հանի սրան հարյուր դրամ տուր թող էթա;\n"
          ]
        }
      ],
      "source": [
        "sketch = KarginHaxordum(3, [\"Հայկո\", \"Մկո\", \"Աշոտ\"], \"արա ինչ էղավ էդ տղեն խիա ուշանում բոժը մոյ երեկվանից չենք խմել էս վիճակը ինձի կազմաքանդումա արդեն; լավ չեմ լավ չեմ դողցնում եմ մի կես ժամ էլ չխմեմ կվատընամ  Գրիշ; հա էնա  ոնց որ Սքեն գալիսա  Սքե շուտ արի; աիի հլը ախպեր; էղավ; կնչքան ես բերել;երկու հարյուր; ոնց երկու հարյուր բոժը մոյ դու չգիտես որ լուբոյ իրեն հարգող արաղը երեք հարյուր դրամ արժի բա էն հարյուր դրամը ինչ ենք անելու; եսիմ; ոնց երկու հարյուր արա բա երեկվա հարյուր դրամը որ եկեղեցուց գողացել էինք ուրա արա; էդ հարյուրն էլ հետը երկու հարյուր ; չհասկցա արա ուրեմն էն եքա Արմենի կամազը հարյուր դրամով ես լվացե ;հա բա կրիզիսա չէ; ճիշտա ասում ապե կրիզիսա երեկ էն ամերիկայի Օբաման էլ հելավ կայնավ ու ասեց էս կրիզիսը խփելույա էն ամենա խոցելի խավին մեզի ապե էս երեքիս ու ․․․ ապե ; Գրիշ վատանում եմ մի բա արա էդ ահարյուր դրամը ճարի խմենք էլի;հանգստացի ախպերս էսա մի բան կմտածեմ; բոժը մոյ ահա թե ինչա անում մարդու հետ մի օր չխմելը ապե ապե ցավդ գանեմ մի հատ գայիր էլի խոսքի մենք էլ կարայինք գայինք պռոստը մենք երեք հոգով ենք քո կողմից մի քիչ գոռոզություն կլնի էլի չգաս ապե ցավդ գանեմ;լսում եմ ձեզ ; ապե ցավդ տանեմ ոնց ես; շնորհակալություն լավ եմ ; ապե ցավդ տանեմ ոչ խմող ենք ոչ ծխող ենք պռոստո ընգերներով սենց ուզում ենք բարի գործ անենք մի հատ ծերանոց կառուցենք բայց հարյուր դրամ չի հերիքում հմի կարոյմ ես հարյուր դրամով մեզի պաձերշկա անես ընգեր ցավդ տանեմ;տղերք ճիշտն ասած փող չունեմ ; արա հմի հարյուր դրամ չես գալիս խմենք արա; ծերանոցի կենացը էլի ցավդ տանեմ ; տղեք որ ունենայի կտայի իրոք փող չունեմ;  ապեե լսի քեզ ինչ եմ ասում եթե հենց հմի չվանիր էդ հարյուր դրամը տվիր կպիսկեմ կպորթեմ կփռեմ ստե կչորանաս ցավդ տանեմ հանի տուր էդ հարյուր դրամը; որ սպանեք էլ փող չունեմ ;արա դու ինչ ես աշխըտում որ; թատրոնում դերասան ; արա Սքե հանի սրան հարյուր դրամ տուր թող էթա;\")\n",
        "sketch.nkarel()"
      ]
    },
    {
      "cell_type": "code",
      "execution_count": 47,
      "metadata": {
        "colab": {
          "base_uri": "https://localhost:8080/"
        },
        "id": "9oAKJzNZr6Pe",
        "outputId": "e468810b-9be5-4c7e-aeb4-a8f0b724b457"
      },
      "outputs": [
        {
          "name": "stdout",
          "output_type": "stream",
          "text": [
            "Որակը՝ Ֆանտաստիկ\n",
            "Կանչել Հայկո Մկո Աշոտ\n",
            "Խնրդել որ ասեն -> արա ինչ էղավ էդ տղեն խիա ուշանում բոժը մոյ երեկվանից չենք խմել էս վիճակը ինձի կազմաքանդումա արդեն; լավ չեմ լավ չեմ դողցնում եմ մի կես ժամ էլ չխմեմ կվատընամ  Գրիշ; հա էնա  ոնց որ Սքեն գալիսա  Սքե շուտ արի; աիի հլը ախպեր; էղավ; կնչքան ես բերել;երկու հարյուր; ոնց երկու հարյուր բոժը մոյ դու չգիտես որ լուբոյ իրեն հարգող արաղը երեք հարյուր դրամ արժի բա էն հարյուր դրամը ինչ ենք անելու; եսիմ; ոնց երկու հարյուր արա բա երեկվա հարյուր դրամը որ եկեղեցուց գողացել էինք ուրա արա; էդ հարյուրն էլ հետը երկու հարյուր ; չհասկցա արա ուրեմն էն եքա Արմենի կամազը հարյուր դրամով ես լվացե ;հա բա կրիզիսա չէ; ճիշտա ասում ապե կրիզիսա երեկ էն ամերիկայի Օբաման էլ հելավ կայնավ ու ասեց էս կրիզիսը խփելույա էն ամենա խոցելի խավին մեզի ապե էս երեքիս ու ․․․ ապե ; Գրիշ վատանում եմ մի բա արա էդ ահարյուր դրամը ճարի խմենք էլի;հանգստացի ախպերս էսա մի բան կմտածեմ; բոժը մոյ ահա թե ինչա անում մարդու հետ մի օր չխմելը ապե ապե ցավդ գանեմ մի հատ գայիր էլի խոսքի մենք էլ կարայինք գայինք պռոստը մենք երեք հոգով ենք քո կողմից մի քիչ գոռոզություն կլնի էլի չգաս ապե ցավդ գանեմ;լսում եմ ձեզ ; ապե ցավդ տանեմ ոնց ես; շնորհակալություն լավ եմ ; ապե ցավդ տանեմ ոչ խմող ենք ոչ ծխող ենք պռոստո ընգերներով սենց ուզում ենք բարի գործ անենք մի հատ ծերանոց կառուցենք բայց հարյուր դրամ չի հերիքում հմի կարոյմ ես հարյուր դրամով մեզի պաձերշկա անես ընգեր ցավդ տանեմ;տղերք ճիշտն ասած փող չունեմ ; արա հմի հարյուր դրամ չես գալիս խմենք արա; ծերանոցի կենացը էլի ցավդ տանեմ ; տղեք որ ունենայի կտայի իրոք փող չունեմ;  ապեե լսի քեզ ինչ եմ ասում եթե հենց հմի չվանիր էդ հարյուր դրամը տվիր կպիսկեմ կպորթեմ կփռեմ ստե կչորանաս ցավդ տանեմ հանի տուր էդ հարյուր դրամը; որ սպանեք էլ փող չունեմ ;արա դու ինչ ես աշխըտում որ; թատրոնում դերասան ; արա Սքե հանի սրան հարյուր դրամ տուր թող էթա;\n"
          ]
        }
      ],
      "source": [
        "sketch.nkarel()"
      ]
    },
    {
      "cell_type": "markdown",
      "metadata": {
        "id": "SvxfxGjQJXl5"
      },
      "source": [
        "### class-ի մեթոդը համ իրա ատրիբուտներավ աշխատի, համ որպես առանձին ֆունցկիա"
      ]
    },
    {
      "cell_type": "code",
      "execution_count": null,
      "metadata": {},
      "outputs": [],
      "source": [
        "sketch.nkarel(\"12\", \"asdasda\", \"dasdas\")"
      ]
    },
    {
      "cell_type": "code",
      "execution_count": 48,
      "metadata": {
        "id": "TKslDHXuspOq"
      },
      "outputs": [],
      "source": [
        "\n",
        "class KarginHaxordum:\n",
        "    vorak = \"Ֆանտաստիկ\"\n",
        "\n",
        "    def __init__(self, hamar, derasanner, text):\n",
        "        if hamar < 1:\n",
        "            raise ValueError(\"պետքա բնական թիվ լինի\")\n",
        "        self.hamar = hamar\n",
        "        self.derasanner = derasanner\n",
        "        self.text = text\n",
        "\n",
        "    def nkarel(self, vorak, derasanner, text): # կլասսի միջի ֆունկցիային անվանում ենք մեթոդ\n",
        "        print(f\"Որակը՝ {vorak}\")\n",
        "        print(f\"Կանչել {' '.join(derasanner)}\")\n",
        "        print(f\"Խնրդել որ ասեն -> {text}\")\n"
      ]
    },
    {
      "cell_type": "code",
      "execution_count": 50,
      "metadata": {
        "colab": {
          "base_uri": "https://localhost:8080/"
        },
        "id": "22Md8d_pb5HC",
        "outputId": "007f1fae-79f4-4eb3-8e76-e1bd4209c265"
      },
      "outputs": [
        {
          "name": "stdout",
          "output_type": "stream",
          "text": [
            "Որակը՝ 5\n",
            "Կանչել Di Caprio\n",
            "Խնրդել որ ասեն -> Tarantino\n"
          ]
        }
      ],
      "source": [
        "sketch = KarginHaxordum(3, [\"Հայկո\", \"Մկո\", \"Աշոտ\"], \"արա ինչ էղավ էդ տղեն խիա ուշանում բոժը մոյ երեկվանից չենք խմել էս վիճակը ինձի կազմաքանդումա արդեն; լավ չեմ լավ չեմ դողցնում եմ մի կես ժամ էլ չխմեմ կվատընամ  Գրիշ; հա էնա  ոնց որ Սքեն գալիսա  Սքե շուտ արի; աիի հլը ախպեր; էղավ; կնչքան ես բերել;երկու հարյուր; ոնց երկու հարյուր բոժը մոյ դու չգիտես որ լուբոյ իրեն հարգող արաղը երեք հարյուր դրամ արժի բա էն հարյուր դրամը ինչ ենք անելու; եսիմ; ոնց երկու հարյուր արա բա երեկվա հարյուր դրամը որ եկեղեցուց գողացել էինք ուրա արա; էդ հարյուրն էլ հետը երկու հարյուր ; չհասկցա արա ուրեմն էն եքա Արմենի կամազը հարյուր դրամով ես լվացե ;հա բա կրիզիսա չէ; ճիշտա ասում ապե կրիզիսա երեկ էն ամերիկայի Օբաման էլ հելավ կայնավ ու ասեց էս կրիզիսը խփելույա էն ամենա խոցելի խավին մեզի ապե էս երեքիս ու ․․․ ապե ; Գրիշ վատանում եմ մի բա արա էդ ահարյուր դրամը ճարի խմենք էլի;հանգստացի ախպերս էսա մի բան կմտածեմ; բոժը մոյ ահա թե ինչա անում մարդու հետ մի օր չխմելը ապե ապե ցավդ գանեմ մի հատ գայիր էլի խոսքի մենք էլ կարայինք գայինք պռոստը մենք երեք հոգով ենք քո կողմից մի քիչ գոռոզություն կլնի էլի չգաս ապե ցավդ գանեմ;լսում եմ ձեզ ; ապե ցավդ տանեմ ոնց ես; շնորհակալություն լավ եմ ; ապե ցավդ տանեմ ոչ խմող ենք ոչ ծխող ենք պռոստո ընգերներով սենց ուզում ենք բարի գործ անենք մի հատ ծերանոց կառուցենք բայց հարյուր դրամ չի հերիքում հմի կարոյմ ես հարյուր դրամով մեզի պաձերշկա անես ընգեր ցավդ տանեմ;տղերք ճիշտն ասած փող չունեմ ; արա հմի հարյուր դրամ չես գալիս խմենք արա; ծերանոցի կենացը էլի ցավդ տանեմ ; տղեք որ ունենայի կտայի իրոք փող չունեմ;  ապեե լսի քեզ ինչ եմ ասում եթե հենց հմի չվանիր էդ հարյուր դրամը տվիր կպիսկեմ կպորթեմ կփռեմ ստե կչորանաս ցավդ տանեմ հանի տուր էդ հարյուր դրամը; որ սպանեք էլ փող չունեմ ;արա դու ինչ ես աշխըտում որ; թատրոնում դերասան ; արա Սքե հանի սրան հարյուր դրամ տուր թող էթա;\")\n",
        "sketch.nkarel(5, [\"Di Caprio\"], \"Tarantino\")"
      ]
    },
    {
      "cell_type": "code",
      "execution_count": 51,
      "metadata": {},
      "outputs": [
        {
          "ename": "TypeError",
          "evalue": "KarginHaxordum.nkarel() missing 3 required positional arguments: 'vorak', 'derasanner', and 'text'",
          "output_type": "error",
          "traceback": [
            "\u001b[1;31m---------------------------------------------------------------------------\u001b[0m",
            "\u001b[1;31mTypeError\u001b[0m                                 Traceback (most recent call last)",
            "Input \u001b[1;32mIn [51]\u001b[0m, in \u001b[0;36m<cell line: 2>\u001b[1;34m()\u001b[0m\n\u001b[0;32m      1\u001b[0m sketch \u001b[38;5;241m=\u001b[39m KarginHaxordum(\u001b[38;5;241m3\u001b[39m, [\u001b[38;5;124m\"\u001b[39m\u001b[38;5;124mՀայկո\u001b[39m\u001b[38;5;124m\"\u001b[39m, \u001b[38;5;124m\"\u001b[39m\u001b[38;5;124mՄկո\u001b[39m\u001b[38;5;124m\"\u001b[39m, \u001b[38;5;124m\"\u001b[39m\u001b[38;5;124mԱշոտ\u001b[39m\u001b[38;5;124m\"\u001b[39m], \u001b[38;5;124m\"\u001b[39m\u001b[38;5;124mարա ինչ էղավ էդ տղեն խիա ուշանում բոժը մոյ երեկվանից չենք խմել էս վիճակը ինձի կազմաքանդումա արդեն; լավ չեմ լավ չեմ դողցնում եմ մի կես ժամ էլ չխմեմ կվատընամ  Գրիշ; հա էնա  ոնց որ Սքեն գալիսա  Սքե շուտ արի; աիի հլը ախպեր; էղավ; կնչքան ես բերել;երկու հարյուր; ոնց երկու հարյուր բոժը մոյ դու չգիտես որ լուբոյ իրեն հարգող արաղը երեք հարյուր դրամ արժի բա էն հարյուր դրամը ինչ ենք անելու; եսիմ; ոնց երկու հարյուր արա բա երեկվա հարյուր դրամը որ եկեղեցուց գողացել էինք ուրա արա; էդ հարյուրն էլ հետը երկու հարյուր ; չհասկցա արա ուրեմն էն եքա Արմենի կամազը հարյուր դրամով ես լվացե ;հա բա կրիզիսա չէ; ճիշտա ասում ապե կրիզիսա երեկ էն ամերիկայի Օբաման էլ հելավ կայնավ ու ասեց էս կրիզիսը խփելույա էն ամենա խոցելի խավին մեզի ապե էս երեքիս ու ․․․ ապե ; Գրիշ վատանում եմ մի բա արա էդ ահարյուր դրամը ճարի խմենք էլի;հանգստացի ախպերս էսա մի բան կմտածեմ; բոժը մոյ ահա թե ինչա անում մարդու հետ մի օր չխմելը ապե ապե ցավդ գանեմ մի հատ գայիր էլի խոսքի մենք էլ կարայինք գայինք պռոստը մենք երեք հոգով ենք քո կողմից մի քիչ գոռոզություն կլնի էլի չգաս ապե ցավդ գանեմ;լսում եմ ձեզ ; ապե ցավդ տանեմ ոնց ես; շնորհակալություն լավ եմ ; ապե ցավդ տանեմ ոչ խմող ենք ոչ ծխող ենք պռոստո ընգերներով սենց ուզում ենք բարի գործ անենք մի հատ ծերանոց կառուցենք բայց հարյուր դրամ չի հերիքում հմի կարոյմ ես հարյուր դրամով մեզի պաձերշկա անես ընգեր ցավդ տանեմ;տղերք ճիշտն ասած փող չունեմ ; արա հմի հարյուր դրամ չես գալիս խմենք արա; ծերանոցի կենացը էլի ցավդ տանեմ ; տղեք որ ունենայի կտայի իրոք փող չունեմ;  ապեե լսի քեզ ինչ եմ ասում եթե հենց հմի չվանիր էդ հարյուր դրամը տվիր կպիսկեմ կպորթեմ կփռեմ ստե կչորանաս ցավդ տանեմ հանի տուր էդ հարյուր դրամը; որ սպանեք էլ փող չունեմ ;արա դու ինչ ես աշխըտում որ; թատրոնում դերասան ; արա Սքե հանի սրան հարյուր դրամ տուր թող էթա;\u001b[39m\u001b[38;5;124m\"\u001b[39m)\n\u001b[1;32m----> 2\u001b[0m \u001b[43msketch\u001b[49m\u001b[38;5;241;43m.\u001b[39;49m\u001b[43mnkarel\u001b[49m\u001b[43m(\u001b[49m\u001b[43m)\u001b[49m\n",
            "\u001b[1;31mTypeError\u001b[0m: KarginHaxordum.nkarel() missing 3 required positional arguments: 'vorak', 'derasanner', and 'text'"
          ]
        }
      ],
      "source": [
        "sketch = KarginHaxordum(3, [\"Հայկո\", \"Մկո\", \"Աշոտ\"], \"արա ինչ էղավ էդ տղեն խիա ուշանում բոժը մոյ երեկվանից չենք խմել էս վիճակը ինձի կազմաքանդումա արդեն; լավ չեմ լավ չեմ դողցնում եմ մի կես ժամ էլ չխմեմ կվատընամ  Գրիշ; հա էնա  ոնց որ Սքեն գալիսա  Սքե շուտ արի; աիի հլը ախպեր; էղավ; կնչքան ես բերել;երկու հարյուր; ոնց երկու հարյուր բոժը մոյ դու չգիտես որ լուբոյ իրեն հարգող արաղը երեք հարյուր դրամ արժի բա էն հարյուր դրամը ինչ ենք անելու; եսիմ; ոնց երկու հարյուր արա բա երեկվա հարյուր դրամը որ եկեղեցուց գողացել էինք ուրա արա; էդ հարյուրն էլ հետը երկու հարյուր ; չհասկցա արա ուրեմն էն եքա Արմենի կամազը հարյուր դրամով ես լվացե ;հա բա կրիզիսա չէ; ճիշտա ասում ապե կրիզիսա երեկ էն ամերիկայի Օբաման էլ հելավ կայնավ ու ասեց էս կրիզիսը խփելույա էն ամենա խոցելի խավին մեզի ապե էս երեքիս ու ․․․ ապե ; Գրիշ վատանում եմ մի բա արա էդ ահարյուր դրամը ճարի խմենք էլի;հանգստացի ախպերս էսա մի բան կմտածեմ; բոժը մոյ ահա թե ինչա անում մարդու հետ մի օր չխմելը ապե ապե ցավդ գանեմ մի հատ գայիր էլի խոսքի մենք էլ կարայինք գայինք պռոստը մենք երեք հոգով ենք քո կողմից մի քիչ գոռոզություն կլնի էլի չգաս ապե ցավդ գանեմ;լսում եմ ձեզ ; ապե ցավդ տանեմ ոնց ես; շնորհակալություն լավ եմ ; ապե ցավդ տանեմ ոչ խմող ենք ոչ ծխող ենք պռոստո ընգերներով սենց ուզում ենք բարի գործ անենք մի հատ ծերանոց կառուցենք բայց հարյուր դրամ չի հերիքում հմի կարոյմ ես հարյուր դրամով մեզի պաձերշկա անես ընգեր ցավդ տանեմ;տղերք ճիշտն ասած փող չունեմ ; արա հմի հարյուր դրամ չես գալիս խմենք արա; ծերանոցի կենացը էլի ցավդ տանեմ ; տղեք որ ունենայի կտայի իրոք փող չունեմ;  ապեե լսի քեզ ինչ եմ ասում եթե հենց հմի չվանիր էդ հարյուր դրամը տվիր կպիսկեմ կպորթեմ կփռեմ ստե կչորանաս ցավդ տանեմ հանի տուր էդ հարյուր դրամը; որ սպանեք էլ փող չունեմ ;արա դու ինչ ես աշխըտում որ; թատրոնում դերասան ; արա Սքե հանի սրան հարյուր դրամ տուր թող էթա;\")\n",
        "sketch.nkarel()"
      ]
    },
    {
      "cell_type": "code",
      "execution_count": null,
      "metadata": {
        "colab": {
          "base_uri": "https://localhost:8080/"
        },
        "id": "lvReDpC4JnH9",
        "outputId": "04adebb9-62ac-40dd-d180-a5e387023ad6"
      },
      "outputs": [
        {
          "name": "stdout",
          "output_type": "stream",
          "text": [
            "['Հայկո', 'Մկո', 'Աշոտ']\n",
            "Որակը՝ 100\n",
            "Խնրդել որ ասեն -> text\n",
            "Որակը՝ 1\n",
            "Խնրդել որ ասեն -> 1\n"
          ]
        }
      ],
      "source": [
        "# Այսինքն կարանանք կանչենք\n",
        "sketch = KarginHaxordum(561, [\"Հայկո\", \"Մկո\", \"Աշոտ\"], \"արա ինչ էղավ էդ տղեն խիա ուշանում բոժը մոյ երեկվանից չենք խմել էս վիճակը ինձի կազմաքանդումա արդեն; լավ չեմ լավ չեմ դողցնում եմ մի կես ժամ էլ չխմեմ կվատընամ  Գրիշ; հա էնա  ոնց որ Սքեն գալիսա  Սքե շուտ արի; աիի հլը ախպեր; էղավ; կնչքան ես բերել;երկու հարյուր; ոնց երկու հարյուր բոժը մոյ դու չգիտես որ լուբոյ իրեն հարգող արաղը երեք հարյուր դրամ արժի բա էն հարյուր դրամը ինչ ենք անելու; եսիմ; ոնց երկու հարյուր արա բա երեկվա հարյուր դրամը որ եկեղեցուց գողացել էինք ուրա արա; էդ հարյուրն էլ հետը երկու հարյուր ; չհասկցա արա ուրեմն էն եքա Արմենի կամազը հարյուր դրամով ես լվացե ;հա բա կրիզիսա չէ; ճիշտա ասում ապե կրիզիսա երեկ էն ամերիկայի Օբաման էլ հելավ կայնավ ու ասեց էս կրիզիսը խփելույա էն ամենա խոցելի խավին մեզի ապե էս երեքիս ու ․․․ ապե ; Գրիշ վատանում եմ մի բա արա էդ ահարյուր դրամը ճարի խմենք էլի;հանգստացի ախպերս էսա մի բան կմտածեմ; բոժը մոյ ահա թե ինչա անում մարդու հետ մի օր չխմելը ապե ապե ցավդ գանեմ մի հատ գայիր էլի խոսքի մենք էլ կարայինք գայինք պռոստը մենք երեք հոգով ենք քո կողմից մի քիչ գոռոզություն կլնի էլի չգաս ապե ցավդ գանեմ;լսում եմ ձեզ ; ապե ցավդ տանեմ ոնց ես; շնորհակալություն լավ եմ ; ապե ցավդ տանեմ ոչ խմող ենք ոչ ծխող ենք պռոստո ընգերներով սենց ուզում ենք բարի գործ անենք մի հատ ծերանոց կառուցենք բայց հարյուր դրամ չի հերիքում հմի կարոյմ ես հարյուր դրամով մեզի պաձերշկա անես ընգեր ցավդ տանեմ;տղերք ճիշտն ասած փող չունեմ ; արա հմի հարյուր դրամ չես գալիս խմենք արա; ծերանոցի կենացը էլի ցավդ տանեմ ; տղեք որ ունենայի կտայի իրոք փող չունեմ;  ապեե լսի քեզ ինչ եմ ասում եթե հենց հմի չվանիր էդ հարյուր դրամը տվիր կպիսկեմ կպորթեմ կփռեմ ստե կչորանաս ցավդ տանեմ հանի տուր էդ հարյուր դրամը; որ սպանեք էլ փող չունեմ ;արա դու ինչ ես աշխըտում որ; թատրոնում դերասան ; արա Սքե հանի սրան հարյուր դրամ տուր թող էթա;\")\n",
        "\n",
        "print(sketch.derasanner)\n",
        "\n",
        "sketch.nkarel(100, [\"mko\"], \"text\")\n",
        "sketch.nkarel()\n"
      ]
    },
    {
      "cell_type": "code",
      "execution_count": 55,
      "metadata": {},
      "outputs": [],
      "source": [
        "\n",
        "class KarginHaxordum:\n",
        "    vorak = \"Ֆանտաստիկ\"\n",
        "\n",
        "    def __init__(self, hamar, derasanner, text):\n",
        "        if hamar < 1:\n",
        "            raise ValueError(\"պետքա բնական թիվ լինի\")\n",
        "        self.hamar = hamar\n",
        "        self.derasanner = derasanner\n",
        "        self.text = text\n",
        "\n",
        "    def nkarel(self, vorak=None, derasanner=None, text=None): # կլասսի միջի ֆունկցիային անվանում ենք մեթոդ\n",
        "        if vorak is None:\n",
        "            print(\"if is working\")\n",
        "            vorak = self.vorak\n",
        "        if derasanner is None:\n",
        "            derasanner = self.derasanner\n",
        "        if text is None:\n",
        "            text = self.text\n",
        "        \n",
        "        print(f\"Որակը՝ {vorak}\")\n",
        "        print(f\"Կանչել {' '.join(derasanner)}\")\n",
        "        print(f\"Խնրդել որ ասեն -> {text}\")\n"
      ]
    },
    {
      "cell_type": "code",
      "execution_count": 57,
      "metadata": {},
      "outputs": [
        {
          "name": "stdout",
          "output_type": "stream",
          "text": [
            "if is working\n",
            "Որակը՝ Ֆանտաստիկ\n",
            "Կանչել Հայկո Մկո Աշոտ\n",
            "Խնրդել որ ասեն -> արա ինչ էղավ էդ տղեն խիա ուշանում բոժը մոյ երեկվանից չենք խմել էս վիճակը ինձի կազմաքանդումա արդեն; լավ չեմ լավ չեմ դողցնում եմ մի կես ժամ էլ չխմեմ կվատընամ  Գրիշ; հա էնա  ոնց որ Սքեն գալիսա  Սքե շուտ արի; աիի հլը ախպեր; էղավ; կնչքան ես բերել;երկու հարյուր; ոնց երկու հարյուր բոժը մոյ դու չգիտես որ լուբոյ իրեն հարգող արաղը երեք հարյուր դրամ արժի բա էն հարյուր դրամը ինչ ենք անելու; եսիմ; ոնց երկու հարյուր արա բա երեկվա հարյուր դրամը որ եկեղեցուց գողացել էինք ուրա արա; էդ հարյուրն էլ հետը երկու հարյուր ; չհասկցա արա ուրեմն էն եքա Արմենի կամազը հարյուր դրամով ես լվացե ;հա բա կրիզիսա չէ; ճիշտա ասում ապե կրիզիսա երեկ էն ամերիկայի Օբաման էլ հելավ կայնավ ու ասեց էս կրիզիսը խփելույա էն ամենա խոցելի խավին մեզի ապե էս երեքիս ու ․․․ ապե ; Գրիշ վատանում եմ մի բա արա էդ ահարյուր դրամը ճարի խմենք էլի;հանգստացի ախպերս էսա մի բան կմտածեմ; բոժը մոյ ահա թե ինչա անում մարդու հետ մի օր չխմելը ապե ապե ցավդ գանեմ մի հատ գայիր էլի խոսքի մենք էլ կարայինք գայինք պռոստը մենք երեք հոգով ենք քո կողմից մի քիչ գոռոզություն կլնի էլի չգաս ապե ցավդ գանեմ;լսում եմ ձեզ ; ապե ցավդ տանեմ ոնց ես; շնորհակալություն լավ եմ ; ապե ցավդ տանեմ ոչ խմող ենք ոչ ծխող ենք պռոստո ընգերներով սենց ուզում ենք բարի գործ անենք մի հատ ծերանոց կառուցենք բայց հարյուր դրամ չի հերիքում հմի կարոյմ ես հարյուր դրամով մեզի պաձերշկա անես ընգեր ցավդ տանեմ;տղերք ճիշտն ասած փող չունեմ ; արա հմի հարյուր դրամ չես գալիս խմենք արա; ծերանոցի կենացը էլի ցավդ տանեմ ; տղեք որ ունենայի կտայի իրոք փող չունեմ;  ապեե լսի քեզ ինչ եմ ասում եթե հենց հմի չվանիր էդ հարյուր դրամը տվիր կպիսկեմ կպորթեմ կփռեմ ստե կչորանաս ցավդ տանեմ հանի տուր էդ հարյուր դրամը; որ սպանեք էլ փող չունեմ ;արա դու ինչ ես աշխըտում որ; թատրոնում դերասան ; արա Սքե հանի սրան հարյուր դրամ տուր թող էթա;\n"
          ]
        }
      ],
      "source": [
        "sketch = KarginHaxordum(3, [\"Հայկո\", \"Մկո\", \"Աշոտ\"], \"արա ինչ էղավ էդ տղեն խիա ուշանում բոժը մոյ երեկվանից չենք խմել էս վիճակը ինձի կազմաքանդումա արդեն; լավ չեմ լավ չեմ դողցնում եմ մի կես ժամ էլ չխմեմ կվատընամ  Գրիշ; հա էնա  ոնց որ Սքեն գալիսա  Սքե շուտ արի; աիի հլը ախպեր; էղավ; կնչքան ես բերել;երկու հարյուր; ոնց երկու հարյուր բոժը մոյ դու չգիտես որ լուբոյ իրեն հարգող արաղը երեք հարյուր դրամ արժի բա էն հարյուր դրամը ինչ ենք անելու; եսիմ; ոնց երկու հարյուր արա բա երեկվա հարյուր դրամը որ եկեղեցուց գողացել էինք ուրա արա; էդ հարյուրն էլ հետը երկու հարյուր ; չհասկցա արա ուրեմն էն եքա Արմենի կամազը հարյուր դրամով ես լվացե ;հա բա կրիզիսա չէ; ճիշտա ասում ապե կրիզիսա երեկ էն ամերիկայի Օբաման էլ հելավ կայնավ ու ասեց էս կրիզիսը խփելույա էն ամենա խոցելի խավին մեզի ապե էս երեքիս ու ․․․ ապե ; Գրիշ վատանում եմ մի բա արա էդ ահարյուր դրամը ճարի խմենք էլի;հանգստացի ախպերս էսա մի բան կմտածեմ; բոժը մոյ ահա թե ինչա անում մարդու հետ մի օր չխմելը ապե ապե ցավդ գանեմ մի հատ գայիր էլի խոսքի մենք էլ կարայինք գայինք պռոստը մենք երեք հոգով ենք քո կողմից մի քիչ գոռոզություն կլնի էլի չգաս ապե ցավդ գանեմ;լսում եմ ձեզ ; ապե ցավդ տանեմ ոնց ես; շնորհակալություն լավ եմ ; ապե ցավդ տանեմ ոչ խմող ենք ոչ ծխող ենք պռոստո ընգերներով սենց ուզում ենք բարի գործ անենք մի հատ ծերանոց կառուցենք բայց հարյուր դրամ չի հերիքում հմի կարոյմ ես հարյուր դրամով մեզի պաձերշկա անես ընգեր ցավդ տանեմ;տղերք ճիշտն ասած փող չունեմ ; արա հմի հարյուր դրամ չես գալիս խմենք արա; ծերանոցի կենացը էլի ցավդ տանեմ ; տղեք որ ունենայի կտայի իրոք փող չունեմ;  ապեե լսի քեզ ինչ եմ ասում եթե հենց հմի չվանիր էդ հարյուր դրամը տվիր կպիսկեմ կպորթեմ կփռեմ ստե կչորանաս ցավդ տանեմ հանի տուր էդ հարյուր դրամը; որ սպանեք էլ փող չունեմ ;արա դու ինչ ես աշխըտում որ; թատրոնում դերասան ; արա Սքե հանի սրան հարյուր դրամ տուր թող էթա;\")\n",
        "# sketch.nkarel(5, [\"Di Caprio\"], \"Tarantino\")\n",
        "sketch.nkarel()"
      ]
    },
    {
      "cell_type": "markdown",
      "metadata": {
        "id": "RNI3VazKak8X"
      },
      "source": [
        "## Class docstring\n",
        "\n"
      ]
    },
    {
      "cell_type": "code",
      "execution_count": null,
      "metadata": {
        "id": "DCDRtswL5xmC"
      },
      "outputs": [],
      "source": [
        "def qarakusi(n):\n",
        "    \"\"\"This function rasi ..\n",
        "\n",
        "    Args:\n",
        "        n (int): tive ....\n",
        "\n",
        "    Return:\n",
        "        .. ...\n",
        "    \"\"\"\n",
        "    pass"
      ]
    },
    {
      "cell_type": "code",
      "execution_count": null,
      "metadata": {
        "id": "D6_tQsoCaphw"
      },
      "outputs": [],
      "source": [
        "class Animal:\n",
        "    \"\"\"(short desription) A class used to represent an Animal\n",
        "\n",
        "    (Long description)\n",
        "\n",
        "    Attributes\n",
        "    ----------\n",
        "    says_str : str\n",
        "        a formatted string to print out what the animal says\n",
        "    name : str\n",
        "        the name of the animal\n",
        "    sound : str\n",
        "        the sound that the animal makes\n",
        "    num_legs : int\n",
        "        the number of legs the animal has (default 4)\n",
        "\n",
        "    Methods\n",
        "    -------\n",
        "    says(sound=None)\n",
        "        Prints the animals name and what sound it makes\n",
        "    \"\"\"\n",
        "\n",
        "    says_str = \"A {name} says {sound}\"\n",
        "\n",
        "    def __init__(self, name, sound, num_legs=4):\n",
        "        \"\"\"\n",
        "        Parameters\n",
        "        ----------\n",
        "        name : str\n",
        "            The name of the animal\n",
        "        sound : str\n",
        "            The sound the animal makes\n",
        "        num_legs : int, optional\n",
        "            The number of legs the animal (default is 4)\n",
        "        \"\"\"\n",
        "        self.name = name\n",
        "        self.sound = sound\n",
        "        self.num_legs = num_legs\n",
        "\n",
        "    def says(self, sound=None):\n",
        "        \"\"\"Prints what the animals name is and what sound it makes.\n",
        "\n",
        "        If the argument `sound` isn't passed in, the default Animal\n",
        "        sound is used.\n",
        "\n",
        "        Parameters\n",
        "        ----------\n",
        "        sound : str, optional\n",
        "            The sound the animal makes (default is None)\n",
        "\n",
        "        Raises\n",
        "        ------\n",
        "        NotImplementedError\n",
        "            If no sound is set for the animal or passed in as a\n",
        "            parameter.\n",
        "        \"\"\"\n",
        "\n",
        "        if self.sound is None and sound is None:\n",
        "            raise NotImplementedError(\"Silent Animals are not supported!\")\n",
        "\n",
        "        out_sound = self.sound if sound is None else sound\n",
        "        print(self.says_str.format(name=self.name, sound=out_sound))"
      ]
    },
    {
      "cell_type": "code",
      "execution_count": null,
      "metadata": {
        "id": "eVm4ueKhvJ9t"
      },
      "outputs": [],
      "source": [
        "Animal"
      ]
    },
    {
      "cell_type": "markdown",
      "metadata": {},
      "source": [
        "## Static/class methods\n",
        "լավ նյութ մեր ընկեր Coreyից https://www.youtube.com/watch?v=rq8cL2XMM5M"
      ]
    },
    {
      "cell_type": "markdown",
      "metadata": {},
      "source": [
        "### s👵 method"
      ]
    },
    {
      "cell_type": "code",
      "execution_count": 120,
      "metadata": {},
      "outputs": [],
      "source": [
        "import os"
      ]
    },
    {
      "cell_type": "code",
      "execution_count": 121,
      "metadata": {},
      "outputs": [],
      "source": [
        "class FolderAnalyser:\n",
        "    author = \"Մարդ Մարդի Մարդուկյան\" # class variable\n",
        "\n",
        "    def __init__(self, path):\n",
        "        self.path = path # instance variable\n",
        "\n",
        "    def get_files(self):\n",
        "        res = \" * \".join(os.listdir(self.path))\n",
        "        return res\n"
      ]
    },
    {
      "cell_type": "code",
      "execution_count": 122,
      "metadata": {},
      "outputs": [],
      "source": [
        "a = FolderAnalyser(\"wallpapers\")"
      ]
    },
    {
      "cell_type": "code",
      "execution_count": 123,
      "metadata": {},
      "outputs": [
        {
          "name": "stdout",
          "output_type": "stream",
          "text": [
            "Մարդ Մարդի Մարդուկյան\n"
          ]
        }
      ],
      "source": [
        "print(a.author)"
      ]
    },
    {
      "cell_type": "code",
      "execution_count": 124,
      "metadata": {},
      "outputs": [
        {
          "name": "stdout",
          "output_type": "stream",
          "text": [
            "01_Dilijan.png * 02_Khustup.jpg * 03_kamaz.jpg * 04_fruits.jpg * 05_sheep.jpg * 06_field.jpg * 07_window.jpg * 08_rainbow.jpg\n"
          ]
        }
      ],
      "source": [
        "print(a.get_files())"
      ]
    },
    {
      "cell_type": "code",
      "execution_count": null,
      "metadata": {},
      "outputs": [],
      "source": [
        "FolderAnalyser.get_files()"
      ]
    },
    {
      "cell_type": "code",
      "execution_count": null,
      "metadata": {},
      "outputs": [
        {
          "data": {
            "text/plain": [
              "'🧀A🧀'"
            ]
          },
          "execution_count": 126,
          "metadata": {},
          "output_type": "execute_result"
        }
      ],
      "source": [
        "def get_haves_output(s):\n",
        "    return \"🧀\" + s + \"🧀\"\n",
        "\n",
        "get_haves_output(\"A\")"
      ]
    },
    {
      "cell_type": "code",
      "execution_count": null,
      "metadata": {},
      "outputs": [],
      "source": [
        "\n",
        "class FolderAnalyser:\n",
        "    author = \"Մարդ Մարդի Մարդուկյան\" # class variable\n",
        "\n",
        "    def __init__(self, path):\n",
        "        self.path = path # instance variable\n",
        "\n",
        "    def get_files(self):\n",
        "        res = \" \".join(os.listdir(self.path))\n",
        "        return res\n",
        "\n",
        "    def get_haves_output(s):\n",
        "        return \"🧀\" + s + \"🧀\"\n"
      ]
    },
    {
      "cell_type": "code",
      "execution_count": 128,
      "metadata": {},
      "outputs": [
        {
          "ename": "TypeError",
          "evalue": "FolderAnalyser.get_haves_output() takes 1 positional argument but 2 were given",
          "output_type": "error",
          "traceback": [
            "\u001b[1;31m---------------------------------------------------------------------------\u001b[0m",
            "\u001b[1;31mTypeError\u001b[0m                                 Traceback (most recent call last)",
            "Input \u001b[1;32mIn [128]\u001b[0m, in \u001b[0;36m<cell line: 3>\u001b[1;34m()\u001b[0m\n\u001b[0;32m      1\u001b[0m a \u001b[38;5;241m=\u001b[39m FolderAnalyser(\u001b[38;5;124m\"\u001b[39m\u001b[38;5;124msample_data\u001b[39m\u001b[38;5;124m\"\u001b[39m)\n\u001b[1;32m----> 3\u001b[0m \u001b[43ma\u001b[49m\u001b[38;5;241;43m.\u001b[39;49m\u001b[43mget_haves_output\u001b[49m\u001b[43m(\u001b[49m\u001b[38;5;124;43m\"\u001b[39;49m\u001b[38;5;124;43mհամով\u001b[39;49m\u001b[38;5;124;43m\"\u001b[39;49m\u001b[43m)\u001b[49m\n",
            "\u001b[1;31mTypeError\u001b[0m: FolderAnalyser.get_haves_output() takes 1 positional argument but 2 were given"
          ]
        }
      ],
      "source": [
        "a = FolderAnalyser(\"sample_data\")\n",
        "\n",
        "a.get_haves_output(\"համով\")"
      ]
    },
    {
      "cell_type": "code",
      "execution_count": 129,
      "metadata": {},
      "outputs": [],
      "source": [
        "class FolderAnalyser:\n",
        "    author = \"Մարդ Մարդի Մարդուկյան\" # class variable\n",
        "\n",
        "    def __init__(self, path):\n",
        "        self.path = path # instance variable\n",
        "\n",
        "    def get_haves_output(self, s):\n",
        "        return \"🧀\" + s + \"🧀\"\n",
        "\n",
        "    def get_files(self):\n",
        "        res = \" \".join(os.listdir(self.path))\n",
        "        return self.get_haves_output(res)\n",
        "\n"
      ]
    },
    {
      "cell_type": "code",
      "execution_count": 130,
      "metadata": {},
      "outputs": [
        {
          "name": "stdout",
          "output_type": "stream",
          "text": [
            "🧀համով🧀\n",
            "🧀01_Dilijan.png 02_Khustup.jpg 03_kamaz.jpg 04_fruits.jpg 05_sheep.jpg 06_field.jpg 07_window.jpg 08_rainbow.jpg🧀\n"
          ]
        }
      ],
      "source": [
        "a = FolderAnalyser(\"wallpapers\")\n",
        "\n",
        "print(a.get_haves_output(\"համով\"))\n",
        "\n",
        "print(a.get_files())"
      ]
    },
    {
      "cell_type": "code",
      "execution_count": 86,
      "metadata": {},
      "outputs": [],
      "source": [
        "def get_haves_output(s):\n",
        "    return \"🧀\" + s + \"🧀\""
      ]
    },
    {
      "cell_type": "code",
      "execution_count": 87,
      "metadata": {},
      "outputs": [
        {
          "data": {
            "text/plain": [
              "'🧀համով🧀'"
            ]
          },
          "execution_count": 87,
          "metadata": {},
          "output_type": "execute_result"
        }
      ],
      "source": [
        "FolderAnalyser.get_haves_output(\"համով\")"
      ]
    },
    {
      "cell_type": "markdown",
      "metadata": {},
      "source": [
        "#### Ախր բայց `get_haves_output` ը կապ չունի instanceի հետ, ինքը ոչ մեկի հետ էլ կապ չունի նենցա"
      ]
    },
    {
      "cell_type": "code",
      "execution_count": null,
      "metadata": {},
      "outputs": [],
      "source": [
        "class FolderAnalyser:\n",
        "    author = \"Մարդ Մարդի Մարդուկյան\" # class variable\n",
        "\n",
        "    def __init__(self, path):\n",
        "        self.path = path # instance variable\n",
        "\n",
        "    @staticmethod\n",
        "    def get_haves_output(s):\n",
        "        return \"🧀\" + s + \"🧀\"\n",
        "\n",
        "    def get_files(self): # instance method\n",
        "        res = \" \".join(os.listdir(self.path))\n",
        "        return self.get_haves_output(res)\n",
        "\n"
      ]
    },
    {
      "cell_type": "code",
      "execution_count": 134,
      "metadata": {},
      "outputs": [
        {
          "name": "stdout",
          "output_type": "stream",
          "text": [
            "🧀համով🧀\n",
            "🧀01_Dilijan.png 02_Khustup.jpg 03_kamaz.jpg 04_fruits.jpg 05_sheep.jpg 06_field.jpg 07_window.jpg 08_rainbow.jpg🧀\n"
          ]
        }
      ],
      "source": [
        "a = FolderAnalyser(\"wallpapers\")\n",
        "\n",
        "print(a.get_haves_output(\"համով\"))\n",
        "\n",
        "print(a.get_files())"
      ]
    },
    {
      "cell_type": "code",
      "execution_count": 137,
      "metadata": {},
      "outputs": [
        {
          "data": {
            "text/plain": [
              "'🧀համով🧀'"
            ]
          },
          "execution_count": 137,
          "metadata": {},
          "output_type": "execute_result"
        }
      ],
      "source": [
        "FolderAnalyser.get_haves_output(\"համով\")"
      ]
    },
    {
      "cell_type": "markdown",
      "metadata": {},
      "source": [
        "Ստատիկ մեթոդը ոնց-որ սովորական ֆունկցիա լինի, բոլորից անկախ իրա աջը քաշած run լինող, բայց տրամաբանորեն կախվածա classի հետ, դրա համար իրան ներառում ենք classում (բայց որպես `staticmethod` որովհետև կլասի հետ կապ չունի, ստատիկա ինքը, ինչ էլ լինի նույնա)"
      ]
    },
    {
      "cell_type": "markdown",
      "metadata": {},
      "source": [
        "### class method"
      ]
    },
    {
      "cell_type": "markdown",
      "metadata": {},
      "source": [
        "ընտիր կլասս են սարքել, լիքը մարդ օգտագործելուա, եկեք հաշվենք տեսնենք քանի անգամ են օգտագործել"
      ]
    },
    {
      "cell_type": "code",
      "execution_count": 1,
      "metadata": {},
      "outputs": [],
      "source": [
        "class FolderAnalyser:\n",
        "    count = 0\n",
        "    author = \"Մարդ Մարդի Մարդուկյան\" # class variable\n",
        "\n",
        "    def __init__(self, path):\n",
        "        FolderAnalyser.count += 1\n",
        "        self.path = path # instance variable\n",
        "\n",
        "    def get_num_uses(self):\n",
        "        return self.count # FolderAna..\n"
      ]
    },
    {
      "cell_type": "code",
      "execution_count": 4,
      "metadata": {},
      "outputs": [],
      "source": [
        "a1 = FolderAnalyser(\"a\")\n",
        "a2 = FolderAnalyser(\"b\")\n",
        "a3 = FolderAnalyser(\"c\")\n"
      ]
    },
    {
      "cell_type": "code",
      "execution_count": 5,
      "metadata": {},
      "outputs": [
        {
          "data": {
            "text/plain": [
              "(3, 3, 3)"
            ]
          },
          "execution_count": 5,
          "metadata": {},
          "output_type": "execute_result"
        }
      ],
      "source": [
        "a3.count, a2.count, a1.count"
      ]
    },
    {
      "cell_type": "code",
      "execution_count": 6,
      "metadata": {},
      "outputs": [
        {
          "ename": "TypeError",
          "evalue": "FolderAnalyser.get_num_uses() missing 1 required positional argument: 'self'",
          "output_type": "error",
          "traceback": [
            "\u001b[1;31m---------------------------------------------------------------------------\u001b[0m",
            "\u001b[1;31mTypeError\u001b[0m                                 Traceback (most recent call last)",
            "Input \u001b[1;32mIn [6]\u001b[0m, in \u001b[0;36m<cell line: 1>\u001b[1;34m()\u001b[0m\n\u001b[1;32m----> 1\u001b[0m \u001b[38;5;28mprint\u001b[39m(\u001b[43mFolderAnalyser\u001b[49m\u001b[38;5;241;43m.\u001b[39;49m\u001b[43mget_num_uses\u001b[49m\u001b[43m(\u001b[49m\u001b[43m)\u001b[49m)\n",
            "\u001b[1;31mTypeError\u001b[0m: FolderAnalyser.get_num_uses() missing 1 required positional argument: 'self'"
          ]
        }
      ],
      "source": [
        "print(FolderAnalyser.get_num_uses())"
      ]
    },
    {
      "cell_type": "code",
      "execution_count": 7,
      "metadata": {},
      "outputs": [
        {
          "data": {
            "text/plain": [
              "3"
            ]
          },
          "execution_count": 7,
          "metadata": {},
          "output_type": "execute_result"
        }
      ],
      "source": [
        "a2.get_num_uses()"
      ]
    },
    {
      "cell_type": "markdown",
      "metadata": {},
      "source": [
        "եկեք հստակ նշենք որ ինքը `classmethod`ա"
      ]
    },
    {
      "cell_type": "code",
      "execution_count": null,
      "metadata": {},
      "outputs": [],
      "source": [
        "class FolderAnalyser:\n",
        "    count = 0\n",
        "    author = \"Մարդ Մարդի Մարդուկյան\" # class variable\n",
        "\n",
        "    def __init__(self, path):\n",
        "        FolderAnalyser.count += 1\n",
        "        self.path = path # instance variable\n",
        "\n",
        "    @staticmethod\n",
        "    def get_num_uses(cls): # ենթադրումա որ cls պետքա փոխանցվի իրան\n",
        "        return cls.count\n"
      ]
    },
    {
      "cell_type": "code",
      "execution_count": 147,
      "metadata": {},
      "outputs": [],
      "source": [
        "a1 = FolderAnalyser(\"a\")\n",
        "a2 = FolderAnalyser(\"b\")\n",
        "a3 = FolderAnalyser(\"c\")\n"
      ]
    },
    {
      "cell_type": "code",
      "execution_count": 148,
      "metadata": {},
      "outputs": [
        {
          "name": "stdout",
          "output_type": "stream",
          "text": [
            "3\n",
            "3\n"
          ]
        }
      ],
      "source": [
        "print(FolderAnalyser.get_num_uses())\n",
        "print(a1.get_num_uses())"
      ]
    },
    {
      "cell_type": "markdown",
      "metadata": {},
      "source": [
        "մի քիչ ավելի հետաքրքիր դարձնենք"
      ]
    },
    {
      "cell_type": "code",
      "execution_count": null,
      "metadata": {},
      "outputs": [],
      "source": [
        "from datetime import datetime\n",
        "\n",
        "class FolderAnalyser:\n",
        "    count = 0\n",
        "    creation_times = []\n",
        "    author = \"Մարդ Մարդի Մարդուկյան\" # class variable\n",
        "\n",
        "    def __init__(self, path):\n",
        "        FolderAnalyser.count += 1\n",
        "        FolderAnalyser.creation_times.append(datetime.now().strftime(\"%H:%M:%S\"))\n",
        "        self.path = path # instance variable\n",
        "\n",
        "    @staticmethod\n",
        "    def get_haves_output(s):\n",
        "        return \"🧀\" + s + \"🧀\"\n",
        "\n",
        "    # instance method\n",
        "    def get_files(self):\n",
        "        res = \" \".join(os.listdir(self.path))\n",
        "        return self.get_haves_output(res)\n",
        "\n",
        "    @classmethod\n",
        "    def get_num_uses(cls):\n",
        "        return cls.count # FolderAnalyser.count\n",
        "\n",
        "    @classmethod\n",
        "    def get_last_usage_time(cls):\n",
        "        if cls.creation_times:\n",
        "            return cls.creation_times[-1]"
      ]
    },
    {
      "cell_type": "code",
      "execution_count": 12,
      "metadata": {},
      "outputs": [],
      "source": [
        "a1 = FolderAnalyser(\"a\")\n",
        "a2 = FolderAnalyser(\"b\")\n",
        "a3 = FolderAnalyser(\"c\")\n"
      ]
    },
    {
      "cell_type": "code",
      "execution_count": 13,
      "metadata": {},
      "outputs": [
        {
          "data": {
            "text/plain": [
              "3"
            ]
          },
          "execution_count": 13,
          "metadata": {},
          "output_type": "execute_result"
        }
      ],
      "source": [
        "FolderAnalyser.get_num_uses()"
      ]
    },
    {
      "cell_type": "code",
      "execution_count": 157,
      "metadata": {},
      "outputs": [
        {
          "data": {
            "text/plain": [
              "'20:03:55'"
            ]
          },
          "execution_count": 157,
          "metadata": {},
          "output_type": "execute_result"
        }
      ],
      "source": [
        "FolderAnalyser.get_last_usage_time()"
      ]
    },
    {
      "cell_type": "markdown",
      "metadata": {},
      "source": [
        "#### Classmethod-ը որպես ալտերնատիվ init"
      ]
    },
    {
      "cell_type": "code",
      "execution_count": 158,
      "metadata": {},
      "outputs": [],
      "source": [
        "class KarginHaxordum:\n",
        "    def __init__(self, hamar, derasanner, text):\n",
        "        self.hamar = hamar\n",
        "        self.derasanner = derasanner\n",
        "        self.text = text\n",
        "\n",
        "    def nkarel(self):\n",
        "        print(f\"Կանչել {' '.join(self.derasanner)}\")\n",
        "        print(f\"Խնրդել որ ասեն {self.text}\")\n"
      ]
    },
    {
      "cell_type": "code",
      "execution_count": 159,
      "metadata": {},
      "outputs": [],
      "source": [
        "kargin = KarginHaxordum(258, \n",
        "                        [\"Հայկո\", \"Մկո\", \"Լիքը մարդ\"], \n",
        "                        \"Ուշադրությունը այստեղ դունչիկը բարձր բարձր այ էդպես շատ շավ է շատ ժպտա ժպտա ժպտա տիկին ջան ձեզ չեմ ասում երեխաին եմ ասում լավ ուշադրություն ասեք պանիր պատրաստ է վաղը ժամը մեկին կգաք ձեր նկարները կստանաք; շհնորհակալություն; հաջողություն ազիզ ջան դու այդպես էլ  չժպտացիր; բարիրգուն  ձյաձ ջան; բարև ձեզ; կարանք թեթևի մեջ նկարվենք; բոլորո՞վ; հա սաղս; գնացեք զգույշ այնտեղ լույսերը լարերը տղա ջան զգույշ; ձյաջ ջան գիտես մեզ ինչ նկարա պետք  խոսքի իրեքս հարձակվում ենք չորսի վրա խոսքի ան; հասկանալիա այսինքն կոմոզիցիա երեք հոգի  հարձակվումա չորսի վրա երեք հոգին դոմինանտ չորս հոգին ավելի պասիվ լավ; ուրեմն տղաներ փոխում եք ձեռքը  որպեսզի երևա ձեր դեմքերը դուք երեքով հարձակվողները ավելի ջղայն դեմքերով ավելի հաղթական հպարտ դեմքերով; մի վայրկյան մի վայրկյան  իսկ չորսդ պաշտպանվում եք ավելի նվաստ ավեօի ճորտատիրական վախոցած դուքնպաշտպանվում եք հասկանում եք իրանցից այսպես այսպես չշարժվեք չշարժվեք; ըհմ շատ  լավ է շատ լավ է դունչիկը ավելի բարձր ժամով տղա դու ահա էսպես ժպտում ենք, վերջ տղաներ;  մերսի ձյաձ ջան; վաղը մեկ անց կես կգաք եա ձեր նկարները կտամ յոթ հատ չէ՞; չէ երկու հատ ձյաձ ջան; չհասկացա յոթ հոգով նկարվում եք ընդամենը երկու նկար եք վերցնում; ձյաձ ջան ասինք երկու հատա պետք մի տե; բայց ինչու; դե տռենեռնա ասել վաղը երկու հատ նկար կբերեք իրեքը չորսի վրա  \")"
      ]
    },
    {
      "cell_type": "code",
      "execution_count": 160,
      "metadata": {},
      "outputs": [
        {
          "name": "stdout",
          "output_type": "stream",
          "text": [
            "Կանչել Հայկո Մկո Լիքը մարդ\n",
            "Խնրդել որ ասեն Ուշադրությունը այստեղ դունչիկը բարձր բարձր այ էդպես շատ շավ է շատ ժպտա ժպտա ժպտա տիկին ջան ձեզ չեմ ասում երեխաին եմ ասում լավ ուշադրություն ասեք պանիր պատրաստ է վաղը ժամը մեկին կգաք ձեր նկարները կստանաք; շհնորհակալություն; հաջողություն ազիզ ջան դու այդպես էլ  չժպտացիր; բարիրգուն  ձյաձ ջան; բարև ձեզ; կարանք թեթևի մեջ նկարվենք; բոլորո՞վ; հա սաղս; գնացեք զգույշ այնտեղ լույսերը լարերը տղա ջան զգույշ; ձյաջ ջան գիտես մեզ ինչ նկարա պետք  խոսքի իրեքս հարձակվում ենք չորսի վրա խոսքի ան; հասկանալիա այսինքն կոմոզիցիա երեք հոգի  հարձակվումա չորսի վրա երեք հոգին դոմինանտ չորս հոգին ավելի պասիվ լավ; ուրեմն տղաներ փոխում եք ձեռքը  որպեսզի երևա ձեր դեմքերը դուք երեքով հարձակվողները ավելի ջղայն դեմքերով ավելի հաղթական հպարտ դեմքերով; մի վայրկյան մի վայրկյան  իսկ չորսդ պաշտպանվում եք ավելի նվաստ ավեօի ճորտատիրական վախոցած դուքնպաշտպանվում եք հասկանում եք իրանցից այսպես այսպես չշարժվեք չշարժվեք; ըհմ շատ  լավ է շատ լավ է դունչիկը ավելի բարձր ժամով տղա դու ահա էսպես ժպտում ենք, վերջ տղաներ;  մերսի ձյաձ ջան; վաղը մեկ անց կես կգաք եա ձեր նկարները կտամ յոթ հատ չէ՞; չէ երկու հատ ձյաձ ջան; չհասկացա յոթ հոգով նկարվում եք ընդամենը երկու նկար եք վերցնում; ձյաձ ջան ասինք երկու հատա պետք մի տե; բայց ինչու; դե տռենեռնա ասել վաղը երկու հատ նկար կբերեք իրեքը չորսի վրա  \n"
          ]
        }
      ],
      "source": [
        "kargin.nkarel()"
      ]
    },
    {
      "cell_type": "code",
      "execution_count": 161,
      "metadata": {},
      "outputs": [],
      "source": [
        "info = [258, \"Հայկո,Մկո,Լիքը մարդ\", \"Ուշադրությունը այստեղ դունչիկը բարձր, լավ ուշադրություն ասեք պանիր\"]"
      ]
    },
    {
      "cell_type": "code",
      "execution_count": 162,
      "metadata": {},
      "outputs": [],
      "source": [
        "kargin = KarginHaxordum(info[0], info[1].split(\",\"), info[2])"
      ]
    },
    {
      "cell_type": "code",
      "execution_count": 163,
      "metadata": {},
      "outputs": [
        {
          "name": "stdout",
          "output_type": "stream",
          "text": [
            "Կանչել Հայկո Մկո Լիքը մարդ\n",
            "Խնրդել որ ասեն Ուշադրությունը այստեղ դունչիկը բարձր, լավ ուշադրություն ասեք պանիր\n"
          ]
        }
      ],
      "source": [
        "kargin.nkarel()"
      ]
    },
    {
      "cell_type": "markdown",
      "metadata": {},
      "source": [
        "Հո ամեն անգամ սենց չենք գրելու չէ"
      ]
    },
    {
      "cell_type": "code",
      "execution_count": 164,
      "metadata": {},
      "outputs": [],
      "source": [
        "class KarginHaxordum:\n",
        "    def __init__(self, hamar, derasanner, text):\n",
        "        self.hamar = hamar\n",
        "        self.derasanner = derasanner\n",
        "        self.text = text\n",
        "\n",
        "    def nkarel(self):\n",
        "        print(f\"Կանչել {' '.join(self.derasanner)}\")\n",
        "        print(f\"Խնրդել որ ասեն {self.text}\")\n",
        "\n",
        "    @classmethod\n",
        "    def from_list(cls, info):\n",
        "        # return KarginHaxordum(info[0], info[1].split(\",\"), info[2])\n",
        "        return cls(info[0], info[1].split(\",\"), info[2])\n",
        "\n"
      ]
    },
    {
      "cell_type": "code",
      "execution_count": 165,
      "metadata": {},
      "outputs": [],
      "source": [
        "kargin = KarginHaxordum.from_list(info)"
      ]
    },
    {
      "cell_type": "code",
      "execution_count": 166,
      "metadata": {},
      "outputs": [
        {
          "name": "stdout",
          "output_type": "stream",
          "text": [
            "Կանչել Հայկո Մկո Լիքը մարդ\n",
            "Խնրդել որ ասեն Ուշադրությունը այստեղ դունչիկը բարձր, լավ ուշադրություն ասեք պանիր\n"
          ]
        }
      ],
      "source": [
        "kargin.nkarel()"
      ]
    },
    {
      "cell_type": "code",
      "execution_count": 168,
      "metadata": {},
      "outputs": [
        {
          "name": "stdout",
          "output_type": "stream",
          "text": [
            "Կանչել Mavses Mko\n",
            "Խնրդել որ ասեն .\n"
          ]
        }
      ],
      "source": [
        "kargin = KarginHaxordum(258, [\"Mavses\", \"Mko\"], \".\")\n",
        "kargin.nkarel()"
      ]
    },
    {
      "cell_type": "markdown",
      "metadata": {},
      "source": [
        "# 🏡Տնային"
      ]
    },
    {
      "cell_type": "markdown",
      "metadata": {},
      "source": [
        "Վերցրեք այս դատան՝ \n",
        "\n",
        "`python / assets / imdb_top_999.json`\n",
        "\n",
        "Կարդալու համար կարող եք աշխատացնել այս կոդը՝\n",
        "\n",
        "```python\n",
        "import json\n",
        "PATH = \"imdb_top_999.json\" # put the path to your file here\n",
        "\n",
        "with open(PATH, \"r\") as f:\n",
        "    data = json.load(f)\n",
        "\n",
        "TO_DELETE = [\"No_of_Votes\", \"Overview\", \"Meta_score\"]\n",
        "\n",
        "for kino in data.keys():\n",
        "    for k in TO_DELETE:\n",
        "        del data[kino][k]\n",
        "\n",
        "    data[kino][\"Name\"] = kino\n",
        "```\n",
        "\n",
        "Տպեք տեսեք թե ինչ ա `data`-ն ու ստեղծեք հետևյալ կլասները՝\n",
        "\n",
        "### Movie\n",
        "\n",
        "- Կնկարագրի ինչ-որ կոնկրետ կինո։\n",
        "- Կստանա որպես արգումենտ `data`-ում եղած բոլոր բանալիները (Name, Released_Year, Runtime, …)\n",
        "- Կունենա մեթոդ դերասանների ցուցակը ստանալու համար\n",
        "- Կունենա մեթոդ որը կվերադարձնի թե քանի ժամ ա տևում կինոն\n",
        "- Կունենա մեթոդ որը տեքստով կնկարագրի կարճ նկարագիրը (Կինոյի ռեժիսորն է ․․․, հրապարակվել է ․․․ թվականին, գլխավար դերասաններն են ․․․)\n",
        "\n",
        "### Actor\n",
        "\n",
        "- Կնկարագրի ինչ-որ կոնկրետ դերասանի\n",
        "- Որպես արգումենտ կստանա դերասանի անունը\n",
        "- Կգտնի բոլոր ֆիլմերը որում խաղացել է դերասանը\n",
        "- Կունենա մեթոդ այդ ֆիլմերի\n",
        "    - Քանակը\n",
        "    - Միջին ռեյթինգը\n",
        "    - Ամենատարածված ժանրը ստանալու համար\n",
        "- Կունենա մեթոդներ որ կվերադարձնեն\n",
        "    - Ռեժիսյորի անունը ում ֆիլմերում ամենահաճախն ա նկարվել\n",
        "    - Դերասանի անունը ում հետ ամենահաճխ ա աշխատել\n",
        "    - Կարճ նկարագիր դերասանի մասին (Անունն է՝ ․․․, խաղացել է ․․ հատ ֆիլմում, Ֆիլմերի միջին ռեյտինգն է ․․․ և այլն)\n",
        "\n",
        "Նման վերլուծություն կարելի ա անել նաև ըստ կինոյի ժանրի, ստանալ քանի ֆիլմ կա իքս ժանրի, միջին ռեյտինգ, ամենաշատ էդ ժանրով կինոներում խաղացող դերասան, տենց կինոներ նկարով ռեժիսյոռ և այլն\n"
      ]
    },
    {
      "cell_type": "markdown",
      "metadata": {},
      "source": [
        "# 🎲 14\n",
        "- ▶️[PolyMatter](https://www.youtube.com/watch?v=5Wq0yv73NpY)\n",
        "- ▶️[Random link](https://youtu.be/pmsU3i_h9w8?si=uXBxCzM0CGPTn5AM)\n",
        "- 🇦🇲🎶[Կաթիլ](https://www.youtube.com/watch?v=IOBgR8nz6-w)\n",
        "- 🌐🎶[Josh Cohen](https://www.youtube.com/watch?v=sXvzp3YKJ1Q)\n",
        "- 🤌[Կարգին](https://www.youtube.com/watch?v=EzQr9kXIp0U)"
      ]
    },
    {
      "cell_type": "markdown",
      "metadata": {},
      "source": [
        "\n",
        "<a href=\"http://s01.flagcounter.com/more/1oO\"><img src=\"https://s01.flagcounter.com/count2/1oO/bg_FFFFFF/txt_000000/border_CCCCCC/columns_2/maxflags_10/viewers_0/labels_0/pageviews_1/flags_0/percent_0/\" alt=\"Flag Counter\"></a>\n"
      ]
    }
  ],
  "metadata": {
    "colab": {
      "provenance": [],
      "toc_visible": true
    },
    "kernelspec": {
      "display_name": "thesis",
      "language": "python",
      "name": "python3"
    },
    "language_info": {
      "codemirror_mode": {
        "name": "ipython",
        "version": 3
      },
      "file_extension": ".py",
      "mimetype": "text/x-python",
      "name": "python",
      "nbconvert_exporter": "python",
      "pygments_lexer": "ipython3",
      "version": "3.10.18"
    }
  },
  "nbformat": 4,
  "nbformat_minor": 0
}

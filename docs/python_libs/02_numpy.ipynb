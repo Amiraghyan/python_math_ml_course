{
  "cells": [
    {
      "cell_type": "raw",
      "metadata": {
        "vscode": {
          "languageId": "raw"
        }
      },
      "source": [
        "---\n",
        "title: \"02 NumPy\"\n",
        "lightbox: true\n",
        "format: \n",
        "  html:\n",
        "    code-fold: false\n",
        "number-offset: 1\n",
        "---"
      ]
    },
    {
      "cell_type": "markdown",
      "metadata": {
        "vscode": {
          "languageId": "raw"
        }
      },
      "source": [
        "![image.png](../background_photos/libs_02_komitas.jpg)\n",
        "Կոմիտաս, [լուսանկարի հղումը](https://unsplash.com/photos/a-statue-of-a-man-riding-a-horse-7VVi6dflnHo), Հեղինակ՝ [Armen Harutunian](https://unsplash.com/@arm98)"
      ]
    },
    {
      "cell_type": "markdown",
      "metadata": {
        "vscode": {
          "languageId": "raw"
        }
      },
      "source": [
        "<a href=\"ToDo\" target=\"_parent\"><img src=\"https://colab.research.google.com/assets/colab-badge.svg\" alt=\"Open In Colab\"/></a> (ToDo)"
      ]
    },
    {
      "cell_type": "markdown",
      "metadata": {
        "vscode": {
          "languageId": "raw"
        }
      },
      "source": [
        "# 📌 Նկարագիր\n",
        "\n",
        "[📚 Ամբողջական նյութը](02_numpy.ipynb)\n",
        "\n",
        "`NumPy`-ը հաշվարկներ անելու համար հիմնարար գրադարաններից ա։ Լիքը ուրիշ գրադարաններ որ հետագայում կանցնենք՝ օրինակի համար աղյուսակների հետ աշխատելու համար նախատեսված `pandas`-ը տակից օգտագործում են `numpy`-ը հաշվարկային կտորների համար։ [Դասին](https://youtu.be/7XsIyFTImwk) ծանոթանում ենք լիքը ֆունկցիաների, ու հիմնական գաղափարներից սովորում ենք թե ինչ են *տրամաբանական ինդեքսավորումը* ու *broadcasting-ը*։ Նաև պի թիվը մոտարկելու այ [էս](https://youtu.be/fzujbMd4j30) մինի պրոեկտը վերարտադրում ենք `numpy`-ով ու տեսնում որ ամպի չափ ավելի արագ ա աշխատում ծրագիրը։\n",
        "\n",
        "#### 📺 Տեսանյութեր\n",
        "1. [Տեսություն](https://youtu.be/TIWU_bjFuUc) \n",
        "2. [Մինի պրոկետը որ `numpy`-ացնում ենք](https://youtu.be/fzujbMd4j30)\n",
        "3. [2023-ի տեսություն որը հավանաբար անիմաստ ա նայելը](https://youtu.be/FKYAAikM56M)\n",
        "\n",
        "#### 🏡 Տնային\n",
        "[Հիմնական նյութում](02_numpy.ipynb) GPT-ի առաջարկած միկրովարժություններ կան որ կարաք անեք զուտ որ ձեռքը բացվի, բայց ավելի կարևոր ա նախորդ տնայինների/պրոեկտների պարտքերը զրոյացնել որ հաջորդ դասից արդեն `pandas`-ով լիքը պրոեկտներ անելու ժամանակ լինի"
      ]
    },
    {
      "cell_type": "markdown",
      "metadata": {},
      "source": [
        "# 📚 Նյութը"
      ]
    },
    {
      "cell_type": "markdown",
      "metadata": {
        "id": "i5q-r7ItvZid"
      },
      "source": [
        "\n",
        "1. [Դոկումնետացիա](https://numpy.org/doc/stable/)\n",
        "2. [մի ժամանոց վիդյո որտեղ ընդհանուր կոնցեպտների վրայով անցնումա](https://www.youtube.com/watch?v=GB9ByFAIAH4)\n",
        "3. [notebookա որտեղ լավ համառոտ ցույցա տալիս հիմնական բաները, ոչ միայն numpy-ի](https://cs231n.github.io/python-numpy-tutorial/)\n",
        "4. [սա էլա լավ ռեսուրս երևում, լիքը օրինակներով](https://www.kaggle.com/code/orhansertkaya/numpy-tutorial-for-beginners)\n"
      ]
    },
    {
      "cell_type": "markdown",
      "metadata": {
        "id": "txIa8Uz1tyZZ"
      },
      "source": [
        "**Numpy-ի առավելություններ**\n",
        "NumPy offers several advantages that make it a powerful and popular library for numerical computing and data analysis tasks. Let's explore some of its key advantages:\n",
        "\n",
        "1. Efficient numerical operations: NumPy provides efficient numerical operations on arrays, thanks to its implementation in optimized C code. It enables vectorized operations, which allow for performing calculations on entire arrays instead of looping over individual elements. This significantly improves performance and speeds up computations.\n",
        "\n",
        "2. Multidimensional array support: NumPy's ndarray (n-dimensional array) allows for working with arrays of any dimensionality, from 1D to higher-dimensional arrays. It provides a convenient and efficient way to store and manipulate large amounts of data, such as images, audio, time series, and more.\n",
        "\n",
        "3. Broadcasting: NumPy's broadcasting feature simplifies performing operations on arrays with different shapes, making it possible to combine arrays of different sizes without explicitly writing loops. Broadcasting rules allow for element-wise operations between arrays of different shapes, reducing the need for unnecessary reshaping or looping.\n",
        "\n",
        "4. Optimized mathematical functions: NumPy provides a wide range of mathematical functions that are optimized for performance. These functions include trigonometric functions, exponential and logarithmic functions, statistical functions, linear algebra routines, and more. Using these functions, you can perform complex mathematical computations efficiently.\n",
        "\n",
        "5. Integration with other libraries: NumPy seamlessly integrates with other popular data science and scientific computing libraries, such as Pandas, SciPy, Matplotlib, and scikit-learn. These libraries often rely on NumPy arrays as the fundamental data structure, enabling interoperability and facilitating data analysis, visualization, machine learning, and scientific computations.\n",
        "\n",
        "6. Memory efficiency: NumPy arrays consume less memory compared to Python lists, especially for large datasets. The homogeneous nature of NumPy arrays allows for efficient memory allocation and storage of data in a contiguous block, which leads to reduced memory overhead and improved performance.\n",
        "\n",
        "7. Parallel computing: NumPy supports parallel computing through its integration with libraries like Numba and Dask. These libraries enable executing computationally intensive operations in parallel, leveraging the full potential of multicore processors and accelerating the execution of numerical tasks.\n",
        "\n",
        "Overall, NumPy provides a solid foundation for efficient numerical computations and data manipulation in Python. Its ability to handle large datasets, perform fast operations, and integrate with other scientific libraries makes it a fundamental tool for various applications in data science, scientific research, and numerical computing.\n"
      ]
    },
    {
      "cell_type": "markdown",
      "metadata": {},
      "source": [
        "## Motivation"
      ]
    },
    {
      "cell_type": "code",
      "execution_count": null,
      "metadata": {
        "id": "IIfWLY-MHtPN"
      },
      "outputs": [],
      "source": [
        "!pip install numpy\n",
        "!conda install numpy"
      ]
    },
    {
      "cell_type": "code",
      "execution_count": 1,
      "metadata": {
        "id": "tUSVOdv8uqHD"
      },
      "outputs": [],
      "source": [
        "import time\n",
        "import numpy as np"
      ]
    },
    {
      "cell_type": "code",
      "execution_count": 2,
      "metadata": {
        "colab": {
          "base_uri": "https://localhost:8080/"
        },
        "id": "5pJyFT-2utQ9",
        "outputId": "52ad7e08-8be9-4b34-8599-caf18a6a0e4f"
      },
      "outputs": [
        {
          "name": "stdout",
          "output_type": "stream",
          "text": [
            "Python list execution time: 26.99407386779785\n"
          ]
        }
      ],
      "source": [
        "# Using Python lists\n",
        "start_time = time.time()\n",
        "\n",
        "py_list = list(range(10**8))  # Create a Python list with 10 million elements\n",
        "py_sum = sum(py_list)  \t\t  # Calculate the sum of the list\n",
        "\n",
        "end_time = time.time()\n",
        "\n",
        "execution_time_py = end_time - start_time\n",
        "print(\"Python list execution time:\", execution_time_py)"
      ]
    },
    {
      "cell_type": "code",
      "execution_count": 3,
      "metadata": {
        "colab": {
          "base_uri": "https://localhost:8080/"
        },
        "id": "NkP-fdQ-uOBh",
        "outputId": "b9724ae7-2e5b-4db3-e58a-17a942b3faaa"
      },
      "outputs": [
        {
          "name": "stdout",
          "output_type": "stream",
          "text": [
            "NumPy execution time: 0.8124101161956787\n"
          ]
        }
      ],
      "source": [
        "# Using NumPy arrays\n",
        "start_time = time.time()\n",
        "\n",
        "np_array = np.arange(10**8)  # Create a NumPy array with 100 million elements\n",
        "np_sum = np.sum(np_array)    # Calculate the sum of the array\n",
        "\n",
        "end_time = time.time()\n",
        "execution_time_np = end_time - start_time\n",
        "print(\"NumPy execution time:\", execution_time_np)\n",
        "\n"
      ]
    },
    {
      "cell_type": "code",
      "execution_count": 4,
      "metadata": {
        "colab": {
          "base_uri": "https://localhost:8080/"
        },
        "id": "-FMZY0OFuzMj",
        "outputId": "645d78cf-e62f-4363-9d34-6dce9b31258a"
      },
      "outputs": [
        {
          "name": "stdout",
          "output_type": "stream",
          "text": [
            "NumPy was 33.23x faster, հզոր NumPy\n"
          ]
        }
      ],
      "source": [
        "print(f\"NumPy was {execution_time_py / execution_time_np:.2f}x faster, հզոր NumPy\")"
      ]
    },
    {
      "cell_type": "code",
      "execution_count": 5,
      "metadata": {
        "colab": {
          "base_uri": "https://localhost:8080/"
        },
        "id": "_a8DTTRjuZYn",
        "outputId": "4e607e6c-353c-4dd6-c805-78697ca22d96"
      },
      "outputs": [
        {
          "name": "stdout",
          "output_type": "stream",
          "text": [
            "NumPy memory usage: 800000000\n",
            "Python list memory usage: 2799999996\n"
          ]
        }
      ],
      "source": [
        "# Memory usage\n",
        "np_memory = np_array.nbytes  \t\t\t\t\t  # Memory usage of the NumPy array in bytes\n",
        "py_memory = sum(i.__sizeof__() for i in py_list)  # Memory usage of the Python list in bytes\n",
        "\n",
        "print(\"NumPy memory usage:\", np_memory)\n",
        "print(\"Python list memory usage:\", py_memory)"
      ]
    },
    {
      "cell_type": "code",
      "execution_count": 7,
      "metadata": {
        "colab": {
          "base_uri": "https://localhost:8080/"
        },
        "id": "pdK99Y7rvDAl",
        "outputId": "c13a50fc-8cd2-4387-bba3-56751484a6e6"
      },
      "outputs": [
        {
          "name": "stdout",
          "output_type": "stream",
          "text": [
            "NumPy's used 3.499999995x times less memory, խնայող NumPy\n"
          ]
        }
      ],
      "source": [
        "print(f\"NumPy's used {py_memory / np_memory}x times less memory, խնայող NumPy\")"
      ]
    },
    {
      "cell_type": "markdown",
      "metadata": {
        "id": "pihoIwP8I9rV"
      },
      "source": [
        "## Numpy Array-ի ստեղծում"
      ]
    },
    {
      "cell_type": "markdown",
      "metadata": {
        "id": "qM91RKQvJH55"
      },
      "source": [
        "### list կամ tuple-ից"
      ]
    },
    {
      "cell_type": "code",
      "execution_count": null,
      "metadata": {
        "colab": {
          "base_uri": "https://localhost:8080/"
        },
        "id": "toqyAVjjI_1G",
        "outputId": "690c6854-f588-449f-d989-ab90efe2e997"
      },
      "outputs": [
        {
          "data": {
            "text/plain": [
              "numpy.ndarray"
            ]
          },
          "execution_count": 8,
          "metadata": {},
          "output_type": "execute_result"
        }
      ],
      "source": [
        "import numpy as np\n",
        "\n",
        "# Creating array from a list\n",
        "arr1 = np.array([1, 2, 3]) # կամ np.array((1, 2, 3))\n",
        "\n",
        "type(arr1) # n dimensional array (n-աչափ զանգված)"
      ]
    },
    {
      "cell_type": "code",
      "execution_count": null,
      "metadata": {},
      "outputs": [
        {
          "name": "stdout",
          "output_type": "stream",
          "text": [
            "[1 2 3]\n"
          ]
        }
      ],
      "source": [
        "print(arr1)"
      ]
    },
    {
      "cell_type": "code",
      "execution_count": 10,
      "metadata": {
        "colab": {
          "base_uri": "https://localhost:8080/"
        },
        "id": "NzFncOuWJodv",
        "outputId": "b13ffd0f-c775-4b4c-eabe-d110927b27e1"
      },
      "outputs": [
        {
          "data": {
            "text/plain": [
              "array([[1, 2, 3],\n",
              "       [5, 0, 9]])"
            ]
          },
          "execution_count": 10,
          "metadata": {},
          "output_type": "execute_result"
        }
      ],
      "source": [
        "arr2 = np.array([[1,2,3], [5, 0, 9]]) # կամ նույնը tupleով\n",
        "arr2"
      ]
    },
    {
      "cell_type": "markdown",
      "metadata": {
        "id": "vwwe-AYvJeV7"
      },
      "source": [
        "### Զրոներից կամ մեկերից բաղկացած arrayի ստեղծում"
      ]
    },
    {
      "cell_type": "code",
      "execution_count": null,
      "metadata": {
        "colab": {
          "base_uri": "https://localhost:8080/"
        },
        "id": "cR5g9pDlJuma",
        "outputId": "3cc5bdc5-bbec-4247-aa9c-4cc09c839fcf"
      },
      "outputs": [
        {
          "name": "stdout",
          "output_type": "stream",
          "text": [
            "[0. 0. 0.]\n",
            "[[1 1 1]\n",
            " [1 1 1]\n",
            " [1 1 1]]\n"
          ]
        },
        {
          "ename": "OverflowError",
          "evalue": "Python integer 1024 out of bounds for int8",
          "output_type": "error",
          "traceback": [
            "\u001b[1;31m---------------------------------------------------------------------------\u001b[0m",
            "\u001b[1;31mOverflowError\u001b[0m                             Traceback (most recent call last)",
            "Input \u001b[1;32mIn [13]\u001b[0m, in \u001b[0;36m<cell line: 11>\u001b[1;34m()\u001b[0m\n\u001b[0;32m      8\u001b[0m \u001b[38;5;28mprint\u001b[39m(ones)\n\u001b[0;32m      9\u001b[0m \u001b[38;5;66;03m# -2**8, 2**8\u001b[39;00m\n\u001b[1;32m---> 11\u001b[0m \u001b[43mones\u001b[49m\u001b[43m \u001b[49m\u001b[38;5;241;43m*\u001b[39;49m\u001b[43m \u001b[49m\u001b[38;5;241;43m2\u001b[39;49m\u001b[38;5;241;43m*\u001b[39;49m\u001b[38;5;241;43m*\u001b[39;49m\u001b[38;5;241;43m10\u001b[39;49m\n",
            "\u001b[1;31mOverflowError\u001b[0m: Python integer 1024 out of bounds for int8"
          ]
        }
      ],
      "source": [
        "# Creating array of zeros\n",
        "zeros = np.zeros(3)\n",
        "\n",
        "# Creating array of ones\n",
        "ones = np.ones((3,3), dtype=\"int8\") # կարող ենք նշել տվյալների տեսակը\n",
        "\n",
        "print(zeros)\n",
        "print(ones)\n",
        "# -2**8, 2**8\n",
        "\n",
        "ones * 2**10"
      ]
    },
    {
      "cell_type": "markdown",
      "metadata": {
        "id": "MqNVlV4WJ9I-"
      },
      "source": [
        "### Դատարկ կամ լրիվ arrayի ստեղծում"
      ]
    },
    {
      "cell_type": "code",
      "execution_count": null,
      "metadata": {
        "colab": {
          "base_uri": "https://localhost:8080/"
        },
        "id": "-vzjJwr-KB0s",
        "outputId": "631992e6-134e-4d5c-8ad2-a8e12322456e"
      },
      "outputs": [
        {
          "name": "stdout",
          "output_type": "stream",
          "text": [
            "[[[ 1.02834134e-311  1.02832147e-311  0.00000000e+000  0.00000000e+000]\n",
            "  [ 7.56598448e-307  1.16095484e-028  8.44747281e+252  7.23796664e+159]\n",
            "  [ 4.11083866e+223  9.75014326e+199  4.83245960e+276  1.02189231e-152]]\n",
            "\n",
            " [[ 9.29846518e+242  5.28595592e-085  6.14837643e-071  1.94267486e-109]\n",
            "  [-3.19561660e+104  1.96088859e+243  2.99938002e-067  1.76534607e+137]\n",
            "  [ 9.15267549e+242  1.46899930e+179  9.08367237e+223  1.16466228e-028]]]\n",
            "[[7 7 7]\n",
            " [7 7 7]]\n"
          ]
        },
        {
          "data": {
            "text/plain": [
              "300.0"
            ]
          },
          "execution_count": 18,
          "metadata": {},
          "output_type": "execute_result"
        }
      ],
      "source": [
        "# Creating empty array\n",
        "empty = np.empty((2,3,4)) # պատահական արժեքներ\n",
        "\n",
        "# Creating array with a constant value\n",
        "full = np.full((2,3), 7)\n",
        "\n",
        "print(empty)\n",
        "print(full)\n",
        "\n",
        "3e2 # 3 * 10^2 = 300\n",
        "\n",
        "# lst = [1,2,3]\n",
        "# qarakusiner = [0, 0, 0]\n",
        "\n",
        "# for i in lst:\n",
        "#     qarakusiner[] = **2)\n",
        "    \n",
        "# [] -> [1], [1,4] # growing object\n",
        "\n",
        "# (3, 100, 100)\n",
        "# R, G, B"
      ]
    },
    {
      "cell_type": "markdown",
      "metadata": {
        "id": "TL27QNa-LCTZ"
      },
      "source": [
        "### Միավոր մատրիցի ստեղծում"
      ]
    },
    {
      "cell_type": "code",
      "execution_count": 20,
      "metadata": {
        "colab": {
          "base_uri": "https://localhost:8080/"
        },
        "id": "hUwE8SdfLEy9",
        "outputId": "2e0ec65b-879c-44d3-f04e-ab017ea66059"
      },
      "outputs": [
        {
          "name": "stdout",
          "output_type": "stream",
          "text": [
            "[[1. 0. 0. 0.]\n",
            " [0. 1. 0. 0.]\n",
            " [0. 0. 1. 0.]\n",
            " [0. 0. 0. 1.]]\n"
          ]
        }
      ],
      "source": [
        "# Creating identity matrix\n",
        "miavor = np.eye(4)\n",
        "print(miavor)"
      ]
    },
    {
      "cell_type": "markdown",
      "metadata": {
        "id": "kkZXrVzgLSoX"
      },
      "source": [
        "### պատահական արժենքերով"
      ]
    },
    {
      "cell_type": "code",
      "execution_count": 139,
      "metadata": {
        "colab": {
          "base_uri": "https://localhost:8080/"
        },
        "id": "Okw6qjDaLVzm",
        "outputId": "32eb2b2c-8f88-4b6d-fe64-a9d88ab0339d"
      },
      "outputs": [
        {
          "name": "stdout",
          "output_type": "stream",
          "text": [
            "[0.12411388 0.85591029 0.78115752 0.56777254 0.75803279]\n",
            "\n",
            "[[-0.98371686  1.27816684 -0.6128307 ]\n",
            " [ 1.39600083 -1.3174731  -0.51296573]\n",
            " [ 0.30890734  0.41902402 -0.50234233]]\n"
          ]
        },
        {
          "data": {
            "text/plain": [
              "array([[-0.78773937, -0.38925569,  0.66557627],\n",
              "       [-0.36051885, -0.41129116, -0.92132694],\n",
              "       [-0.27721565,  0.91059173, -0.52545408]])"
            ]
          },
          "execution_count": 139,
          "metadata": {},
          "output_type": "execute_result"
        }
      ],
      "source": [
        "random_arr = np.random.rand(5)  #  հավասարաչափ բաշխում\n",
        "print(random_arr)\n",
        "print()\n",
        "random_arr = np.random.randn(3, 3) # Գաուսիան բաշխում\n",
        "print(random_arr)\n",
        "\n",
        "np.random.uniform(-1,1, (3, 3)) # [0, 1) -> [-1, 1)"
      ]
    },
    {
      "cell_type": "markdown",
      "metadata": {
        "id": "0zjBAZSSMC9O"
      },
      "source": [
        "### մեր ուզած միջակայքով"
      ]
    },
    {
      "cell_type": "code",
      "execution_count": 23,
      "metadata": {
        "colab": {
          "base_uri": "https://localhost:8080/"
        },
        "id": "L7kAZEgiJGP4",
        "outputId": "636f7804-dcce-480f-ebf6-580b8d8a4344"
      },
      "outputs": [
        {
          "name": "stdout",
          "output_type": "stream",
          "text": [
            "[0 2 4 6 8]\n",
            "[ 0.   0.5  1.   1.5  2.   2.5  3.   3.5  4.   4.5  5.   5.5  6.   6.5\n",
            "  7.   7.5  8.   8.5  9.   9.5 10.  10.5 11. ]\n"
          ]
        }
      ],
      "source": [
        "# Creating sequence of numbers\n",
        "nums = np.arange(0, 10, 2) # range-ի նման\n",
        "print(nums)\n",
        "\n",
        "nums = np.arange(0, 11.5, 0.5) # բայց ավելի ճկուն\n",
        "print(nums)"
      ]
    },
    {
      "cell_type": "code",
      "execution_count": 24,
      "metadata": {
        "colab": {
          "base_uri": "https://localhost:8080/"
        },
        "id": "PHsfwfXjMI22",
        "outputId": "766b237b-2648-4ab5-abeb-5461a0f4bd3b"
      },
      "outputs": [
        {
          "name": "stdout",
          "output_type": "stream",
          "text": [
            "[0.         0.33333333 0.66666667 1.        ]\n",
            "[  1.           4.64158883  21.5443469  100.        ]\n"
          ]
        }
      ],
      "source": [
        "nums = np.linspace(0, 1, 4) # հավասարաչափ բաշխված (որ թվից, մինչև որը, քանի հատ)\n",
        "print(nums)\n",
        "\n",
        "nums = np.logspace(0, 2, 4) # 10^0-ից 10^2, 4 հատ (երկրաշխաչափ պրոգեսիա)\n",
        "print(nums)"
      ]
    },
    {
      "cell_type": "markdown",
      "metadata": {
        "id": "tH40mBWQMaqm"
      },
      "source": [
        "## Array indexing/slicing"
      ]
    },
    {
      "cell_type": "markdown",
      "metadata": {
        "id": "07J1yRP0MtAF"
      },
      "source": [
        "<img src=\"https://numpy.org/doc/stable/_images/np_indexing.png\">"
      ]
    },
    {
      "cell_type": "code",
      "execution_count": 25,
      "metadata": {
        "id": "tGkJTZ2_Me87"
      },
      "outputs": [],
      "source": [
        "data = np.array([1,2,3])"
      ]
    },
    {
      "cell_type": "code",
      "execution_count": 26,
      "metadata": {
        "colab": {
          "base_uri": "https://localhost:8080/"
        },
        "id": "HTNGEBgTMzz6",
        "outputId": "b76dd793-bbe3-4a55-f7a5-cf2b4f8c83a3"
      },
      "outputs": [
        {
          "data": {
            "text/plain": [
              "array([2, 3])"
            ]
          },
          "execution_count": 26,
          "metadata": {},
          "output_type": "execute_result"
        }
      ],
      "source": [
        "data[-2:]"
      ]
    },
    {
      "cell_type": "markdown",
      "metadata": {
        "id": "bxF-RQSuN7XE"
      },
      "source": [
        "### միաչափ զանգված"
      ]
    },
    {
      "cell_type": "code",
      "execution_count": 27,
      "metadata": {
        "colab": {
          "base_uri": "https://localhost:8080/"
        },
        "id": "8fi1k3BnN64O",
        "outputId": "9db31fa8-a7f6-48c6-e8ae-2b0edec5dff1"
      },
      "outputs": [
        {
          "name": "stdout",
          "output_type": "stream",
          "text": [
            "Original 1D array:\n",
            "[ 1  2  3  4  5  6  7  8  9 10]\n",
            "\n",
            "Indexing in a 1D array:\n",
            "Element at index 3: 4\n",
            "\n",
            "Slicing in a 1D array:\n",
            "Elements from index 2 to 7: [3 4 5 6 7 8]\n"
          ]
        }
      ],
      "source": [
        "# Create a 1D array\n",
        "one_dim_array = np.arange(1, 11)\n",
        "\n",
        "print(\"Original 1D array:\")\n",
        "print(one_dim_array)\n",
        "\n",
        "# Indexing in a 1D array\n",
        "print(\"\\nIndexing in a 1D array:\")\n",
        "print(\"Element at index 3:\", one_dim_array[3])  # Prints the element at index 3 (4th element since index starts at 0)\n",
        "\n",
        "# Slicing in a 1D array\n",
        "print(\"\\nSlicing in a 1D array:\")\n",
        "print(\"Elements from index 2 to 7:\", one_dim_array[2:8])  # Print elements from index 2 to 7 (3rd to 8th element)\n"
      ]
    },
    {
      "cell_type": "markdown",
      "metadata": {
        "id": "LqaarALuOHvE"
      },
      "source": [
        "### Երկչափ զանգված"
      ]
    },
    {
      "cell_type": "code",
      "execution_count": 28,
      "metadata": {
        "colab": {
          "base_uri": "https://localhost:8080/"
        },
        "id": "KLd7qYu6OMC0",
        "outputId": "a2539ce7-fa47-4a83-9c80-4388e70e6576"
      },
      "outputs": [
        {
          "name": "stdout",
          "output_type": "stream",
          "text": [
            "\n",
            "Original 2D array:\n",
            "[[ 1  2  3  4  5]\n",
            " [ 6  7  8  9 10]\n",
            " [11 12 13 14 15]\n",
            " [16 17 18 19 20]\n",
            " [21 22 23 24 25]]\n"
          ]
        }
      ],
      "source": [
        "# Create a 2D array\n",
        "two_dim_array = np.array([[1, 2, 3, 4, 5],\n",
        "                          [6, 7, 8, 9, 10],\n",
        "                          [11, 12, 13, 14, 15],\n",
        "                          [16, 17, 18, 19, 20],\n",
        "                          [21, 22, 23, 24, 25]])\n",
        "\n",
        "print(\"\\nOriginal 2D array:\")\n",
        "print(two_dim_array)"
      ]
    },
    {
      "cell_type": "code",
      "execution_count": null,
      "metadata": {
        "colab": {
          "base_uri": "https://localhost:8080/"
        },
        "id": "jgesK-2BORZC",
        "outputId": "67f90b47-0860-4e4a-a1ec-f8a9ffbc3c4d"
      },
      "outputs": [
        {
          "name": "stdout",
          "output_type": "stream",
          "text": [
            "\n",
            "Indexing in a 2D array:\n",
            "[11 12 13 14 15]\n",
            "14\n",
            "14\n",
            "Element at row index 2 and column index 3: [[ 4  5]\n",
            " [ 9 10]]\n",
            "14\n"
          ]
        }
      ],
      "source": [
        "\n",
        "# Indexing in a 2D array\n",
        "print(\"\\nIndexing in a 2D array:\")\n",
        "print(two_dim_array[2])\n",
        "print(two_dim_array[2][3])\n",
        "print(two_dim_array[2, 3])\n",
        "\n",
        "\n",
        "print(\"Element at row index 2 and column index 3:\", two_dim_array[:2, 3])  # Prints the element at 3rd row and 4th column\n",
        "print(two_dim_array[2][3])"
      ]
    },
    {
      "cell_type": "code",
      "execution_count": 34,
      "metadata": {},
      "outputs": [
        {
          "name": "stdout",
          "output_type": "stream",
          "text": [
            "[1, 3, 4]\n"
          ]
        }
      ],
      "source": [
        "lst = [1,3,4]\n",
        "print(lst[:])"
      ]
    },
    {
      "cell_type": "code",
      "execution_count": null,
      "metadata": {
        "colab": {
          "base_uri": "https://localhost:8080/"
        },
        "id": "bhJVsSDdOVbb",
        "outputId": "ff6fce61-c874-4cc4-d343-5b8d5d674a50"
      },
      "outputs": [
        {
          "name": "stdout",
          "output_type": "stream",
          "text": [
            "\n",
            "Slicing in a 2D array:\n",
            "First two rows:\n",
            " [[ 1  2  3  4  5]\n",
            " [ 6  7  8  9 10]]\n",
            "Last three columns:\n",
            " [[ 3  4  5]\n",
            " [ 8  9 10]\n",
            " [13 14 15]\n",
            " [18 19 20]\n",
            " [23 24 25]]\n",
            "Subarray from row indices 1 to 3 and column indices 2 to 4:\n",
            " [[ 8  9 10]\n",
            " [13 14 15]\n",
            " [18 19 20]]\n"
          ]
        }
      ],
      "source": [
        "# Slicing in a 2D array\n",
        "print(\"\\nSlicing in a 2D array:\")\n",
        "print(\"First two rows:\\n\", two_dim_array[:2, :])  # Prints the first two rows of all columns\n",
        "print(\"Last three columns:\\n\", two_dim_array[:, -3:])  # Prints the last three columns of all rows\n",
        "print(\"Subarray from row indices 1 to 3 and column indices 2 to 4:\\n\", \n",
        "      two_dim_array[1:4, 2:5])  # Prints the subarray from 2nd to 4th row and 3rd to 5th column\n"
      ]
    },
    {
      "cell_type": "code",
      "execution_count": null,
      "metadata": {},
      "outputs": [
        {
          "name": "stdout",
          "output_type": "stream",
          "text": [
            "[[1, 2, 3, 4, 5], [1, 3, 4]]\n"
          ]
        },
        {
          "ename": "ValueError",
          "evalue": "setting an array element with a sequence. The requested array has an inhomogeneous shape after 1 dimensions. The detected shape was (2,) + inhomogeneous part.",
          "output_type": "error",
          "traceback": [
            "\u001b[1;31m---------------------------------------------------------------------------\u001b[0m",
            "\u001b[1;31mValueError\u001b[0m                                Traceback (most recent call last)",
            "Input \u001b[1;32mIn [51]\u001b[0m, in \u001b[0;36m<cell line: 5>\u001b[1;34m()\u001b[0m\n\u001b[0;32m      2\u001b[0m \u001b[38;5;66;03m# 1, 3, 4 \u001b[39;00m\n\u001b[0;32m      3\u001b[0m \u001b[38;5;28mprint\u001b[39m(lst)\n\u001b[1;32m----> 5\u001b[0m \u001b[43mnp\u001b[49m\u001b[38;5;241;43m.\u001b[39;49m\u001b[43marray\u001b[49m\u001b[43m(\u001b[49m\u001b[43mlst\u001b[49m\u001b[43m)\u001b[49m\n",
            "\u001b[1;31mValueError\u001b[0m: setting an array element with a sequence. The requested array has an inhomogeneous shape after 1 dimensions. The detected shape was (2,) + inhomogeneous part."
          ]
        }
      ],
      "source": [
        "lst = [[1, 2, 3, 4, 5], [1,3,4]]\n",
        "# 1, 3, 4 \n",
        "print(lst)\n",
        "\n",
        "np.array(lst)"
      ]
    },
    {
      "cell_type": "code",
      "execution_count": 37,
      "metadata": {
        "colab": {
          "base_uri": "https://localhost:8080/"
        },
        "id": "zGu3vAvgM2K6",
        "outputId": "ca32c351-88f7-4211-9eea-843240b6513e"
      },
      "outputs": [
        {
          "name": "stdout",
          "output_type": "stream",
          "text": [
            "\n",
            "Slicing only selected rows and columns:\n",
            "Selected rows:\n",
            " [[ 6  7  8  9 10]\n",
            " [16 17 18 19 20]\n",
            " [21 22 23 24 25]]\n",
            "Selected cols:\n",
            " [[ 1  5]\n",
            " [ 6 10]\n",
            " [11 15]\n",
            " [16 20]\n",
            " [21 25]]\n"
          ]
        }
      ],
      "source": [
        "# Slicing only selected rows and columns\n",
        "print(\"\\nSlicing only selected rows and columns:\")\n",
        "rows = np.array([1, 3, 4])  # Select 2nd, 4th and 5th rows\n",
        "print(\"Selected rows:\\n\", two_dim_array[rows])  # Prints the selected rows\n",
        "\n",
        "cols = np.array([0,4])\n",
        "print(\"Selected cols:\\n\", two_dim_array[:, cols])  # Prints the selected columns"
      ]
    },
    {
      "cell_type": "markdown",
      "metadata": {
        "id": "P0-105CkPGjt"
      },
      "source": [
        "## Տրամաբանական ընտրություն (boolean indexing/masking)"
      ]
    },
    {
      "cell_type": "code",
      "execution_count": 39,
      "metadata": {
        "id": "IRYUzBlfPFzS"
      },
      "outputs": [],
      "source": [
        "a = np.array([1, 2, 3, 4, 5])"
      ]
    },
    {
      "cell_type": "code",
      "execution_count": 40,
      "metadata": {
        "colab": {
          "base_uri": "https://localhost:8080/"
        },
        "id": "41qx_u5pPa-n",
        "outputId": "2d7f21eb-29b9-4839-919c-6af1dfa4fe40"
      },
      "outputs": [
        {
          "data": {
            "text/plain": [
              "array([1, 2, 4])"
            ]
          },
          "execution_count": 40,
          "metadata": {},
          "output_type": "execute_result"
        }
      ],
      "source": [
        "a[[True, True, False, True, False]]"
      ]
    },
    {
      "cell_type": "code",
      "execution_count": 42,
      "metadata": {
        "colab": {
          "base_uri": "https://localhost:8080/"
        },
        "id": "wIJ_iPeANJFq",
        "outputId": "70147cdc-6784-4a8f-b354-9309929ca57b"
      },
      "outputs": [
        {
          "ename": "TypeError",
          "evalue": "'>=' not supported between instances of 'list' and 'int'",
          "output_type": "error",
          "traceback": [
            "\u001b[1;31m---------------------------------------------------------------------------\u001b[0m",
            "\u001b[1;31mTypeError\u001b[0m                                 Traceback (most recent call last)",
            "Input \u001b[1;32mIn [42]\u001b[0m, in \u001b[0;36m<cell line: 2>\u001b[1;34m()\u001b[0m\n\u001b[0;32m      1\u001b[0m a \u001b[38;5;241m=\u001b[39m [\u001b[38;5;241m1\u001b[39m, \u001b[38;5;241m2\u001b[39m, \u001b[38;5;241m3\u001b[39m, \u001b[38;5;241m4\u001b[39m, \u001b[38;5;241m5\u001b[39m]\n\u001b[1;32m----> 2\u001b[0m \u001b[43ma\u001b[49m\u001b[43m \u001b[49m\u001b[38;5;241;43m>\u001b[39;49m\u001b[38;5;241;43m=\u001b[39;49m\u001b[43m \u001b[49m\u001b[38;5;241;43m5\u001b[39;49m\n\u001b[0;32m      3\u001b[0m \u001b[38;5;28mprint\u001b[39m([i \u001b[38;5;28;01mfor\u001b[39;00m i \u001b[38;5;129;01min\u001b[39;00m a \u001b[38;5;28;01mif\u001b[39;00m i \u001b[38;5;241m>\u001b[39m\u001b[38;5;241m=\u001b[39m \u001b[38;5;241m4\u001b[39m])\n",
            "\u001b[1;31mTypeError\u001b[0m: '>=' not supported between instances of 'list' and 'int'"
          ]
        }
      ],
      "source": [
        "a = [1, 2, 3, 4, 5]\n",
        "a >= 5\n",
        "print([i for i in a if i >= 4])"
      ]
    },
    {
      "cell_type": "code",
      "execution_count": 43,
      "metadata": {
        "colab": {
          "base_uri": "https://localhost:8080/",
          "height": 141
        },
        "id": "6eGOjRAtNTsW",
        "outputId": "4e8396cf-44de-4c17-c548-ab6b0526af72"
      },
      "outputs": [
        {
          "data": {
            "text/plain": [
              "array([False, False, False,  True,  True])"
            ]
          },
          "execution_count": 43,
          "metadata": {},
          "output_type": "execute_result"
        }
      ],
      "source": [
        "a = np.array(a)\n",
        "a >= 4"
      ]
    },
    {
      "cell_type": "code",
      "execution_count": 32,
      "metadata": {
        "id": "zpMASqKBypdR"
      },
      "outputs": [],
      "source": [
        "a = np.array(a)"
      ]
    },
    {
      "cell_type": "code",
      "execution_count": 49,
      "metadata": {
        "colab": {
          "base_uri": "https://localhost:8080/"
        },
        "id": "wBN8TL7zyrqd",
        "outputId": "a366ecda-4702-4a47-b611-c05caff1f482"
      },
      "outputs": [
        {
          "name": "stdout",
          "output_type": "stream",
          "text": [
            "[False False False  True  True]\n"
          ]
        }
      ],
      "source": [
        "print(a >= 4)"
      ]
    },
    {
      "cell_type": "code",
      "execution_count": 44,
      "metadata": {},
      "outputs": [
        {
          "data": {
            "text/plain": [
              "array([4, 5])"
            ]
          },
          "execution_count": 44,
          "metadata": {},
          "output_type": "execute_result"
        }
      ],
      "source": [
        "a[[False, False, False,  True,  True]]"
      ]
    },
    {
      "cell_type": "code",
      "execution_count": 45,
      "metadata": {
        "colab": {
          "base_uri": "https://localhost:8080/"
        },
        "id": "RbTBSlU7NeaP",
        "outputId": "d557ae39-1146-4459-8162-2e7f44a04235"
      },
      "outputs": [
        {
          "data": {
            "text/plain": [
              "array([4, 5])"
            ]
          },
          "execution_count": 45,
          "metadata": {},
          "output_type": "execute_result"
        }
      ],
      "source": [
        "a[a >= 4]"
      ]
    },
    {
      "cell_type": "code",
      "execution_count": 46,
      "metadata": {
        "colab": {
          "base_uri": "https://localhost:8080/"
        },
        "id": "2isn4u1g9KJm",
        "outputId": "992fce12-c802-41e3-c1c2-84b0f597684d"
      },
      "outputs": [
        {
          "data": {
            "text/plain": [
              "array([2, 4])"
            ]
          },
          "execution_count": 46,
          "metadata": {},
          "output_type": "execute_result"
        }
      ],
      "source": [
        "a[a % 2 == 0]"
      ]
    },
    {
      "cell_type": "code",
      "execution_count": 47,
      "metadata": {
        "colab": {
          "base_uri": "https://localhost:8080/"
        },
        "id": "sZQAOArPOek5",
        "outputId": "adb24790-5da3-4ece-fc50-a04c5c5683aa"
      },
      "outputs": [
        {
          "data": {
            "text/plain": [
              "array([2, 4, 5])"
            ]
          },
          "execution_count": 47,
          "metadata": {},
          "output_type": "execute_result"
        }
      ],
      "source": [
        "a[(a > 3) | (a % 2 == 0)] # or -> |, and -> &\n",
        "\n",
        "# lst = []\n",
        "# for a1 in [1,2,3,4,5]:\n",
        "#     if (a1 > 3) or (a1 % 2 == 0):\n",
        "#          lst.append(True)\n",
        "#     else:\n",
        "#         lst.append(False)\n",
        "\n",
        "# lst"
      ]
    },
    {
      "cell_type": "code",
      "execution_count": 48,
      "metadata": {
        "colab": {
          "base_uri": "https://localhost:8080/"
        },
        "id": "ZfaJjj3hPYGB",
        "outputId": "e30ae144-c73d-4dd6-993b-27262f68b551"
      },
      "outputs": [
        {
          "data": {
            "text/plain": [
              "array([4])"
            ]
          },
          "execution_count": 48,
          "metadata": {},
          "output_type": "execute_result"
        }
      ],
      "source": [
        "a[(a > 3) & (a % 2 == 0)] # and -> &"
      ]
    },
    {
      "cell_type": "markdown",
      "metadata": {
        "id": "-iMwQyCDQCU2"
      },
      "source": [
        "## 2D"
      ]
    },
    {
      "cell_type": "code",
      "execution_count": 53,
      "metadata": {
        "colab": {
          "base_uri": "https://localhost:8080/"
        },
        "id": "_zh6fBcePpLR",
        "outputId": "5739b128-ec30-4332-9cdd-bd88cec9ea53"
      },
      "outputs": [
        {
          "name": "stdout",
          "output_type": "stream",
          "text": [
            "\n",
            "Original 2D array:\n",
            "[[1 2 3]\n",
            " [4 5 6]\n",
            " [7 8 9]]\n",
            "\n",
            "Elements greater than 5:\n",
            "[[False False False]\n",
            " [False False  True]\n",
            " [ True  True  True]]\n",
            "[6 7 8 9]\n"
          ]
        }
      ],
      "source": [
        "two_dim_array = np.array([[1, 2, 3],\n",
        "                          [4, 5, 6],\n",
        "                          [7, 8, 9]])\n",
        "\n",
        "print(\"\\nOriginal 2D array:\")\n",
        "print(two_dim_array)\n",
        "\n",
        "# Boolean indexing in a 2D array - let's select elements greater than 5\n",
        "print(\"\\nElements greater than 5:\")\n",
        "\n",
        "print(two_dim_array > 5)\n",
        "print(two_dim_array[two_dim_array > 5])"
      ]
    },
    {
      "cell_type": "code",
      "execution_count": 54,
      "metadata": {},
      "outputs": [
        {
          "name": "stdout",
          "output_type": "stream",
          "text": [
            "\n",
            "2D array after setting elements greater than 5 to 0:\n",
            "[[1 2 3]\n",
            " [4 5 0]\n",
            " [0 0 0]]\n"
          ]
        }
      ],
      "source": [
        "# We can also change elements based on a condition\n",
        "two_dim_array[two_dim_array > 5] = 0\n",
        "\n",
        "print(\"\\n2D array after setting elements greater than 5 to 0:\")\n",
        "print(two_dim_array)"
      ]
    },
    {
      "cell_type": "code",
      "execution_count": 55,
      "metadata": {
        "colab": {
          "base_uri": "https://localhost:8080/"
        },
        "id": "Zf6qp6_TQGmK",
        "outputId": "fa48b2b8-c4ff-4751-bce0-82091d79e0ec"
      },
      "outputs": [
        {
          "name": "stdout",
          "output_type": "stream",
          "text": [
            "[[1 2 3]\n",
            " [4 5 0]\n",
            " [0 0 0]]\n",
            "[False False  True]\n",
            "\n",
            "Elements greater than 2 in the first row:\n",
            "[3]\n",
            "\n",
            "Elements less than 3 in the second column:\n",
            "[2 0]\n"
          ]
        }
      ],
      "source": [
        "# We can also apply conditions to specific rows or columns\n",
        "print(two_dim_array)\n",
        "print(two_dim_array[0, :] > 2)\n",
        "\n",
        "print(\"\\nElements greater than 2 in the first row:\")\n",
        "print(two_dim_array[0, two_dim_array[0, :] > 2])\n",
        "\n",
        "print(\"\\nElements less than 3 in the second column:\")\n",
        "print(two_dim_array[two_dim_array[:, 1] < 3, 1])"
      ]
    },
    {
      "cell_type": "markdown",
      "metadata": {
        "id": "StNW4uNURD0I"
      },
      "source": [
        "## չափողականության փոփոխում (reshape, transpose, flatten)"
      ]
    },
    {
      "cell_type": "code",
      "execution_count": 56,
      "metadata": {
        "colab": {
          "base_uri": "https://localhost:8080/"
        },
        "id": "OdA6yA5mRH0x",
        "outputId": "1d95a3e3-c3f1-4f94-c322-52baff4d480f"
      },
      "outputs": [
        {
          "name": "stdout",
          "output_type": "stream",
          "text": [
            "Original 1D array:\n",
            "[ 1  2  3  4  5  6  7  8  9 10 11 12 13 14 15]\n"
          ]
        }
      ],
      "source": [
        "# Create a 1D array\n",
        "one_dim_array = np.arange(1, 16)\n",
        "\n",
        "print(\"Original 1D array:\")\n",
        "print(one_dim_array)\n"
      ]
    },
    {
      "cell_type": "markdown",
      "metadata": {
        "id": "g1yIVqD0UXBK"
      },
      "source": [
        "### reshape"
      ]
    },
    {
      "cell_type": "code",
      "execution_count": 58,
      "metadata": {
        "colab": {
          "base_uri": "https://localhost:8080/"
        },
        "id": "1qgPS8K4UPZq",
        "outputId": "b2538450-9c60-40da-ee9d-c33bfacada16"
      },
      "outputs": [
        {
          "name": "stdout",
          "output_type": "stream",
          "text": [
            "\n",
            "Reshaped 2D array:\n",
            "[[ 1  2  3]\n",
            " [ 4  5  6]\n",
            " [ 7  8  9]\n",
            " [10 11 12]\n",
            " [13 14 15]]\n",
            "[[ 1  2  3]\n",
            " [ 4  5  6]\n",
            " [ 7  8  9]\n",
            " [10 11 12]\n",
            " [13 14 15]]\n"
          ]
        }
      ],
      "source": [
        "# Reshaping a 1D array to a 2D array\n",
        "two_dim_array = one_dim_array.reshape((5, 3))\n",
        "\n",
        "print(\"\\nReshaped 2D array:\")\n",
        "print(two_dim_array)\n",
        "\n",
        "# Reshaping a 1D array to a 2D array\n",
        "two_dim_array = one_dim_array.reshape((5, -1))\n",
        "print(two_dim_array)\n"
      ]
    },
    {
      "cell_type": "code",
      "execution_count": 59,
      "metadata": {
        "colab": {
          "base_uri": "https://localhost:8080/"
        },
        "id": "ZybDFfU2UPct",
        "outputId": "7e8e0503-d3c5-4914-a0c1-64ea071c592f"
      },
      "outputs": [
        {
          "name": "stdout",
          "output_type": "stream",
          "text": [
            "\n",
            "Automatically reshaped 2D array:\n",
            "[[ 1  2  3  4  5]\n",
            " [ 6  7  8  9 10]\n",
            " [11 12 13 14 15]]\n"
          ]
        }
      ],
      "source": [
        "auto_reshaped_array = one_dim_array.reshape((3, -1))\n",
        "\n",
        "print(\"\\nAutomatically reshaped 2D array:\")\n",
        "print(auto_reshaped_array)"
      ]
    },
    {
      "cell_type": "code",
      "execution_count": 60,
      "metadata": {
        "colab": {
          "base_uri": "https://localhost:8080/"
        },
        "id": "bYoIkkQGUaka",
        "outputId": "9877a199-16c8-44c8-979e-ad53f22def71"
      },
      "outputs": [
        {
          "name": "stdout",
          "output_type": "stream",
          "text": [
            "[[ 1  2  3]\n",
            " [ 4  5  6]\n",
            " [ 7  8  9]\n",
            " [10 11 12]\n",
            " [13 14 15]]\n"
          ]
        }
      ],
      "source": [
        "# Similarly, we can automatically reshape to 2D array with a specific number of columns and auto-calculated number of rows\n",
        "auto_reshaped_array = one_dim_array.reshape((-1, 3))\n",
        "print(auto_reshaped_array)"
      ]
    },
    {
      "cell_type": "code",
      "execution_count": 61,
      "metadata": {
        "colab": {
          "base_uri": "https://localhost:8080/",
          "height": 141
        },
        "id": "0IaQXWru0F52",
        "outputId": "fe41f7cb-99c7-4214-b6ca-fe32b99fedcf"
      },
      "outputs": [
        {
          "ename": "ValueError",
          "evalue": "cannot reshape array of size 15 into shape (4,4)",
          "output_type": "error",
          "traceback": [
            "\u001b[1;31m---------------------------------------------------------------------------\u001b[0m",
            "\u001b[1;31mValueError\u001b[0m                                Traceback (most recent call last)",
            "Input \u001b[1;32mIn [61]\u001b[0m, in \u001b[0;36m<cell line: 1>\u001b[1;34m()\u001b[0m\n\u001b[1;32m----> 1\u001b[0m auto_reshaped_array \u001b[38;5;241m=\u001b[39m \u001b[43mone_dim_array\u001b[49m\u001b[38;5;241;43m.\u001b[39;49m\u001b[43mreshape\u001b[49m\u001b[43m(\u001b[49m\u001b[43m(\u001b[49m\u001b[38;5;241;43m4\u001b[39;49m\u001b[43m,\u001b[49m\u001b[43m \u001b[49m\u001b[38;5;241;43m4\u001b[39;49m\u001b[43m)\u001b[49m\u001b[43m)\u001b[49m\n",
            "\u001b[1;31mValueError\u001b[0m: cannot reshape array of size 15 into shape (4,4)"
          ]
        }
      ],
      "source": [
        "auto_reshaped_array = one_dim_array.reshape((4, 4))"
      ]
    },
    {
      "cell_type": "markdown",
      "metadata": {
        "id": "3FFaWF5SUolW"
      },
      "source": [
        "### Transpose (առաջին տողը դառնումա առաջին սյուն, երկրորդը երկրորդ ․․․)"
      ]
    },
    {
      "cell_type": "code",
      "execution_count": null,
      "metadata": {
        "colab": {
          "base_uri": "https://localhost:8080/"
        },
        "id": "-VeqA8uwUt0-",
        "outputId": "2897e2ed-3df9-436a-8c72-13660219f141"
      },
      "outputs": [
        {
          "name": "stdout",
          "output_type": "stream",
          "text": [
            "[[ 1  2  3]\n",
            " [ 4  5  6]\n",
            " [ 7  8  9]\n",
            " [10 11 12]\n",
            " [13 14 15]]\n",
            "\n",
            "Transposed 2D array:\n",
            "[[ 1  4  7 10 13]\n",
            " [ 2  5  8 11 14]\n",
            " [ 3  6  9 12 15]]\n"
          ]
        }
      ],
      "source": [
        "print(two_dim_array)\n",
        "# Transposing a 2D array\n",
        "transposed_array = two_dim_array.T\n",
        "\n",
        "print(\"\\nTransposed 2D array:\")\n",
        "print(transposed_array)"
      ]
    },
    {
      "cell_type": "markdown",
      "metadata": {
        "id": "U4IWMxriU5PS"
      },
      "source": [
        "### flatten (տափակացում)"
      ]
    },
    {
      "cell_type": "code",
      "execution_count": 63,
      "metadata": {
        "colab": {
          "base_uri": "https://localhost:8080/"
        },
        "id": "92HjkPqqU4wu",
        "outputId": "2fe96ac5-d09e-43c0-f4ce-a4a433ecf314"
      },
      "outputs": [
        {
          "name": "stdout",
          "output_type": "stream",
          "text": [
            "[[ 1  2  3]\n",
            " [ 4  5  6]\n",
            " [ 7  8  9]\n",
            " [10 11 12]\n",
            " [13 14 15]]\n",
            "\n",
            "Flattened 1D array:\n",
            "[ 1  2  3  4  5  6  7  8  9 10 11 12 13 14 15]\n"
          ]
        }
      ],
      "source": [
        "print(two_dim_array)\n",
        "# Flattening a 2D array to a 1D array\n",
        "flattened_array = two_dim_array.flatten()\n",
        "\n",
        "print(\"\\nFlattened 1D array:\")\n",
        "print(flattened_array)"
      ]
    },
    {
      "cell_type": "markdown",
      "metadata": {
        "id": "4PuZ3KgtVT6V"
      },
      "source": [
        "## Array-ի ատրիբուտներ"
      ]
    },
    {
      "cell_type": "code",
      "execution_count": 64,
      "metadata": {
        "colab": {
          "base_uri": "https://localhost:8080/"
        },
        "id": "tdo0l81UVVva",
        "outputId": "83df87cc-98e9-46b6-80ca-f0f71ecb8aa6"
      },
      "outputs": [
        {
          "name": "stdout",
          "output_type": "stream",
          "text": [
            "Original 2D array:\n",
            "[[1 2 3 4]\n",
            " [5 6 7 8]]\n",
            "\n",
            "Number of dimensions (ndim):\n",
            "2\n",
            "\n",
            "Total number of elements (size):\n",
            "8\n",
            "\n",
            "Shape of the array:\n",
            "(2, 4)\n",
            "\n",
            "Data type of the array elements (dtype):\n",
            "int64\n"
          ]
        }
      ],
      "source": [
        "import numpy as np\n",
        "\n",
        "# Create a 2D array\n",
        "two_dim_array = np.array([[1, 2, 3, 4], [5, 6, 7, 8]])\n",
        "\n",
        "print(\"Original 2D array:\")\n",
        "print(two_dim_array)\n",
        "\n",
        "# The number of axes (dimensions) of the array.\n",
        "print(\"\\nNumber of dimensions (ndim):\")\n",
        "print(two_dim_array.ndim)\n",
        "\n",
        "# The total number of elements of the array.\n",
        "print(\"\\nTotal number of elements (size):\")\n",
        "print(two_dim_array.size)\n",
        "\n",
        "# The shape of the array - tuple of integers indicating the size of the array in each dimension.\n",
        "print(\"\\nShape of the array:\")\n",
        "print(two_dim_array.shape)\n",
        "\n",
        "# An object describing the type of the elements in the array.\n",
        "print(\"\\nData type of the array elements (dtype):\")\n",
        "print(two_dim_array.dtype)"
      ]
    },
    {
      "cell_type": "code",
      "execution_count": 67,
      "metadata": {
        "colab": {
          "base_uri": "https://localhost:8080/"
        },
        "id": "tlxySAxDQ1mf",
        "outputId": "b4ba9e6f-c6eb-4e23-8190-2839e1d2e17d"
      },
      "outputs": [
        {
          "data": {
            "text/plain": [
              "array(['3', '5.2', 'abc'], dtype='<U32')"
            ]
          },
          "execution_count": 67,
          "metadata": {},
          "output_type": "execute_result"
        }
      ],
      "source": [
        "np.array([3, 5.2, \"abc\"])"
      ]
    },
    {
      "cell_type": "code",
      "execution_count": 43,
      "metadata": {
        "colab": {
          "base_uri": "https://localhost:8080/"
        },
        "id": "RLeuhZaiQX_z",
        "outputId": "51030ecd-24b2-45b7-9528-bad155c655d9"
      },
      "outputs": [
        {
          "data": {
            "text/plain": [
              "dtype('float64')"
            ]
          },
          "execution_count": 43,
          "metadata": {},
          "output_type": "execute_result"
        }
      ],
      "source": [
        "np.array([3, 5.2]).dtype"
      ]
    },
    {
      "cell_type": "markdown",
      "metadata": {
        "id": "2-C6hQz5Z7aR"
      },
      "source": [
        "## Մաթեմատիկական գործողություններ"
      ]
    },
    {
      "cell_type": "code",
      "execution_count": 68,
      "metadata": {
        "colab": {
          "base_uri": "https://localhost:8080/"
        },
        "id": "Ax011MvdV0Af",
        "outputId": "ee0c8282-0133-4c08-ea47-2ab51b5ce0c8"
      },
      "outputs": [
        {
          "name": "stdout",
          "output_type": "stream",
          "text": [
            "Original arrays:\n",
            "Array 1:\n",
            "[[1 2]\n",
            " [3 4]]\n",
            "\n",
            "Array 2:\n",
            "[[5 6]\n",
            " [7 8]]\n"
          ]
        }
      ],
      "source": [
        "import numpy as np\n",
        "\n",
        "# Create two 2D arrays\n",
        "array_1 = np.array([[1, 2], [3, 4]])\n",
        "array_2 = np.array([[5, 6], [7, 8]])\n",
        "\n",
        "array_3 = np.array([[5, 6, 7], [7, 8, 9]])\n",
        "\n",
        "print(\"Original arrays:\")\n",
        "print(\"Array 1:\")\n",
        "print(array_1)\n",
        "print(\"\\nArray 2:\")\n",
        "print(array_2)\n"
      ]
    },
    {
      "cell_type": "markdown",
      "metadata": {
        "id": "cSCMKP75akth"
      },
      "source": [
        "### հիմնական գործողություններ\n",
        "https://numpy.org/doc/stable/reference/ufuncs.html#available-ufuncs"
      ]
    },
    {
      "cell_type": "code",
      "execution_count": 69,
      "metadata": {
        "colab": {
          "base_uri": "https://localhost:8080/"
        },
        "id": "XvPOO_mqabL1",
        "outputId": "9ed756ad-18c5-425b-ec65-abb7c7bdf5cc"
      },
      "outputs": [
        {
          "name": "stdout",
          "output_type": "stream",
          "text": [
            "[[1 2]\n",
            " [3 4]]\n",
            "[[5 6]\n",
            " [7 8]]\n",
            "\n",
            "Addition of two arrays:\n",
            "[[ 6  8]\n",
            " [10 12]]\n",
            "[[ 6  8]\n",
            " [10 12]]\n",
            "\n",
            "Subtraction of two arrays:\n",
            "[[-4 -4]\n",
            " [-4 -4]]\n",
            "\n",
            "Elementwise multiplication of two arrays:\n",
            "[[ 5 12]\n",
            " [21 32]]\n",
            "\n",
            "Division of two arrays:\n",
            "[[0.2        0.33333333]\n",
            " [0.42857143 0.5       ]]\n",
            "\n",
            "Array 1 to the power of array 2:\n",
            "[[    1    64]\n",
            " [ 2187 65536]]\n"
          ]
        }
      ],
      "source": [
        "print(array_1)\n",
        "print(array_2)\n",
        "\n",
        "# Basic arithmetic operations\n",
        "print(\"\\nAddition of two arrays:\")\n",
        "print(array_1 + array_2)  # or np.add(array_1, array_2)\n",
        "print(np.add(array_1, array_2))\n",
        "\n",
        "print(\"\\nSubtraction of two arrays:\")\n",
        "print(array_1 - array_2)  # or np.subtract(array_1, array_2)\n",
        "\n",
        "print(\"\\nElementwise multiplication of two arrays:\")\n",
        "print(array_1 * array_2)  # or np.multiply(array_1, array_2)\n",
        "\n",
        "print(\"\\nDivision of two arrays:\")\n",
        "print(array_1 / array_2)  # or np.divide(array_1, array_2)\n",
        "\n",
        "print(\"\\nArray 1 to the power of array 2:\")\n",
        "print(array_1 ** array_2)  # or np.power(array_1, array_2)"
      ]
    },
    {
      "cell_type": "markdown",
      "metadata": {
        "id": "wKRKFiKBanzS"
      },
      "source": [
        "### Եռանկյունաչափական ֆունկցիաներ, լոգարիթմ, էքսպոնենտ"
      ]
    },
    {
      "cell_type": "code",
      "execution_count": 70,
      "metadata": {
        "colab": {
          "base_uri": "https://localhost:8080/"
        },
        "id": "7imutCu_aAhG",
        "outputId": "a726c4da-7c7f-472c-8f00-76855c73fe84"
      },
      "outputs": [
        {
          "name": "stdout",
          "output_type": "stream",
          "text": [
            "[[1 2]\n",
            " [3 4]]\n",
            "\n",
            "Sin values of array 1:\n",
            "[[ 0.84147098  0.90929743]\n",
            " [ 0.14112001 -0.7568025 ]]\n",
            "\n",
            "Cos values of array 1:\n",
            "[[ 0.54030231 -0.41614684]\n",
            " [-0.9899925  -0.65364362]]\n",
            "\n",
            "Tan values of array 1:\n",
            "[[ 1.55740772 -2.18503986]\n",
            " [-0.14254654  1.15782128]]\n",
            "\n",
            "Arctan values of array 1:\n",
            "[[0.78539816 1.10714872]\n",
            " [1.24904577 1.32581766]]\n"
          ]
        }
      ],
      "source": [
        "# Trigonometric operations\n",
        "print(array_1)\n",
        "\n",
        "print(\"\\nSin values of array 1:\")\n",
        "print(np.sin(array_1))\n",
        "\n",
        "print(\"\\nCos values of array 1:\")\n",
        "print(np.cos(array_1))\n",
        "\n",
        "print(\"\\nTan values of array 1:\")\n",
        "print(np.tan(array_1))\n",
        "\n",
        "print(\"\\nArctan values of array 1:\")\n",
        "print(np.arctan(array_1))\n"
      ]
    },
    {
      "cell_type": "code",
      "execution_count": 72,
      "metadata": {
        "colab": {
          "base_uri": "https://localhost:8080/"
        },
        "id": "pa0WEVkTb1eH",
        "outputId": "a09db895-6090-4518-e78c-14f9edcab099"
      },
      "outputs": [
        {
          "name": "stdout",
          "output_type": "stream",
          "text": [
            "[[1 2]\n",
            " [3 4]]\n",
            "\n",
            "Exponential values of array 1:\n",
            "[[ 2.71828183  7.3890561 ]\n",
            " [20.08553692 54.59815003]]\n",
            "\n",
            "Natural logarithm values of array 1:\n",
            "[[0.         0.69314718]\n",
            " [1.09861229 1.38629436]]\n",
            "\n",
            "Base 10 logarithm values of array 1:\n",
            "[[0.         0.30103   ]\n",
            " [0.47712125 0.60205999]]\n",
            "\n",
            "Base 2 logarithm values of array 1:\n",
            "[[0.        1.       ]\n",
            " [1.5849625 2.       ]]\n"
          ]
        }
      ],
      "source": [
        "# Exponential and logarithmic operations\n",
        "print(array_1)\n",
        "\n",
        "print(\"\\nExponential values of array 1:\")\n",
        "print(np.exp(array_1))\n",
        "\n",
        "print(\"\\nNatural logarithm values of array 1:\")\n",
        "print(np.log(array_1))\n",
        "\n",
        "print(\"\\nBase 10 logarithm values of array 1:\")\n",
        "print(np.log10(array_1))\n",
        "\n",
        "print(\"\\nBase 2 logarithm values of array 1:\")\n",
        "print(np.log2(array_1))"
      ]
    },
    {
      "cell_type": "markdown",
      "metadata": {
        "id": "2SJ52si3et0o"
      },
      "source": [
        "### Հասարակ ագրեգացնող ֆունցկիաներ"
      ]
    },
    {
      "cell_type": "code",
      "execution_count": 73,
      "metadata": {
        "colab": {
          "base_uri": "https://localhost:8080/"
        },
        "id": "2VPP_GDweyLH",
        "outputId": "46ca78af-29ca-47a0-d970-169154f600c7"
      },
      "outputs": [
        {
          "name": "stdout",
          "output_type": "stream",
          "text": [
            "Original 2D array:\n",
            "[[1 2 3]\n",
            " [4 5 6]]\n",
            "\n",
            "Sum of all elements:\n",
            "21\n",
            "\n",
            "Column-wise sum:\n",
            "[5 7 9]\n",
            "\n",
            "Row-wise sum:\n",
            "[ 6 15]\n"
          ]
        }
      ],
      "source": [
        "# Create a 2D array\n",
        "two_dim_array = np.array([[1, 2, 3], [4, 5, 6]])\n",
        "\n",
        "print(\"Original 2D array:\")\n",
        "print(two_dim_array)\n",
        "\n",
        "# Sum of all elements\n",
        "print(\"\\nSum of all elements:\")\n",
        "print(np.sum(two_dim_array))  # can also use two_dim_array.sum()\n",
        "\n",
        "# Column-wise sum\n",
        "print(\"\\nColumn-wise sum:\")\n",
        "print(np.sum(two_dim_array, axis=0))  # can also use two_dim_array.sum(axis=0)\n",
        "# two_dim_array.sum(axis=0)\n",
        "\n",
        "# Row-wise sum\n",
        "print(\"\\nRow-wise sum:\")\n",
        "print(np.sum(two_dim_array, axis=1))  # can also use two_dim_array.sum(axis=1)\n"
      ]
    },
    {
      "cell_type": "markdown",
      "metadata": {
        "id": "tES6oVedfEwX"
      },
      "source": [
        "<img src=\"https://i.stack.imgur.com/DL0iQ.jpg\">"
      ]
    },
    {
      "cell_type": "code",
      "execution_count": 74,
      "metadata": {
        "colab": {
          "base_uri": "https://localhost:8080/"
        },
        "id": "9bkuRpAYe1GE",
        "outputId": "5cddcabb-ca27-4c14-f749-dc95d6815c08"
      },
      "outputs": [
        {
          "name": "stdout",
          "output_type": "stream",
          "text": [
            "\n",
            "Product of all elements:\n",
            "720\n",
            "\n",
            "Column-wise product:\n",
            "[ 4 10 18]\n",
            "\n",
            "Row-wise product:\n",
            "[  6 120]\n"
          ]
        }
      ],
      "source": [
        "# Product of all elements\n",
        "print(\"\\nProduct of all elements:\")\n",
        "print(np.prod(two_dim_array))\n",
        "\n",
        "# Column-wise product\n",
        "print(\"\\nColumn-wise product:\")\n",
        "print(np.prod(two_dim_array, axis=0))\n",
        "\n",
        "# Row-wise product\n",
        "print(\"\\nRow-wise product:\")\n",
        "print(np.prod(two_dim_array, axis=1))\n"
      ]
    },
    {
      "cell_type": "code",
      "execution_count": 76,
      "metadata": {
        "colab": {
          "base_uri": "https://localhost:8080/"
        },
        "id": "KOKpSP0jfKDu",
        "outputId": "33de3eab-cf69-4188-a333-5d0e4831542e"
      },
      "outputs": [
        {
          "name": "stdout",
          "output_type": "stream",
          "text": [
            "\n",
            "Minimum element:\n",
            "1\n",
            "\n",
            "Column-wise minimum:\n",
            "[1 2 3]\n",
            "\n",
            "Row-wise minimum:\n",
            "[1 4]\n"
          ]
        }
      ],
      "source": [
        "# Minimum element\n",
        "print(\"\\nMinimum element:\")\n",
        "print(np.min(two_dim_array))\n",
        "\n",
        "# Column-wise minimum\n",
        "print(\"\\nColumn-wise minimum:\")\n",
        "print(np.min(two_dim_array, axis=0))\n",
        "\n",
        "# Row-wise minimum\n",
        "print(\"\\nRow-wise minimum:\")\n",
        "print(np.min(two_dim_array, axis=1))\n",
        "\n",
        "# maximumը հանգունորեն"
      ]
    },
    {
      "cell_type": "code",
      "execution_count": null,
      "metadata": {},
      "outputs": [],
      "source": [
        "#  մեր մեջ ասած սա էդքան էլ ագրագացնողների շարքին չի պատկանում ուղակի ավելի հարմար տեղ չգտա ներառելու\n",
        "print(array_1)\n",
        "print(\"\\nCumulative sum of elements in array 1:\")\n",
        "print(np.cumsum(array_1))\n",
        "\n",
        "print(\"\\nCumulative product of elements in array 1:\")\n",
        "print(np.cumprod(array_1))"
      ]
    },
    {
      "cell_type": "markdown",
      "metadata": {
        "id": "1ZsedbxqeBO1"
      },
      "source": [
        "### Վիճակագրական ֆունկցիաներ"
      ]
    },
    {
      "cell_type": "code",
      "execution_count": 77,
      "metadata": {
        "colab": {
          "base_uri": "https://localhost:8080/"
        },
        "id": "kUETCBBHeEZ5",
        "outputId": "cebda945-3dab-4ed0-cb80-9df4c900ca05"
      },
      "outputs": [
        {
          "name": "stdout",
          "output_type": "stream",
          "text": [
            "[[1 2]\n",
            " [3 4]]\n",
            "\n",
            "Mean of elements in array 1:\n",
            "2.5\n",
            "\n",
            "Median of elements in array 1:\n",
            "2.5\n",
            "\n",
            "Standard column-wise deviation of elements in array 1:\n",
            "[0.5 0.5]\n",
            "\n",
            "Variance of elements in array 1:\n",
            "1.25\n"
          ]
        }
      ],
      "source": [
        "print(array_1)\n",
        "\n",
        "print(\"\\nMean of elements in array 1:\")\n",
        "print(np.mean(array_1))\n",
        "\n",
        "print(\"\\nMedian of elements in array 1:\")\n",
        "print(np.median(array_1))\n",
        "\n",
        "print(\"\\nStandard column-wise deviation of elements in array 1:\")\n",
        "print(np.std(array_1, axis=1)) # կարանք նույն ձև ստեղ օգտագործենք axis=1\n",
        "\n",
        "print(\"\\nVariance of elements in array 1:\")\n",
        "print(np.var(array_1))"
      ]
    },
    {
      "cell_type": "markdown",
      "metadata": {
        "id": "QXpJ75RzfjEd"
      },
      "source": [
        "### Գծային հանրահաշվի ֆունկցիաներ"
      ]
    },
    {
      "cell_type": "code",
      "execution_count": 78,
      "metadata": {
        "colab": {
          "base_uri": "https://localhost:8080/"
        },
        "id": "hr8EF9DjfmJl",
        "outputId": "90b73a16-da11-4cb3-9169-f5d45be3e056"
      },
      "outputs": [
        {
          "name": "stdout",
          "output_type": "stream",
          "text": [
            "[[1 2]\n",
            " [3 4]]\n",
            "[[5 6]\n",
            " [7 8]]\n",
            "\n",
            "Matrix multiplication of two arrays:\n",
            "[[19 22]\n",
            " [43 50]]\n",
            "[[19 22]\n",
            " [43 50]]\n",
            "\n",
            "Dot product of two arrays:\n",
            "[[19 22]\n",
            " [43 50]]\n"
          ]
        }
      ],
      "source": [
        "print(array_1)\n",
        "print(array_2)\n",
        "\n",
        "# Matrix multiplication\n",
        "print(\"\\nMatrix multiplication of two arrays:\")\n",
        "print(np.matmul(array_1, array_2))  # or array_1 @ array_2\n",
        "print(array_1 @ array_2)  # or np.matmul(array_1, array_2)\n",
        "\n",
        "# Dot product\n",
        "print(\"\\nDot product of two arrays:\")\n",
        "print(np.dot(array_1, array_2)) # սկալյար (մատրինցների դեպքում նույն մատրիցների բազմապատկումնա)\n"
      ]
    },
    {
      "cell_type": "code",
      "execution_count": 79,
      "metadata": {
        "colab": {
          "base_uri": "https://localhost:8080/"
        },
        "id": "_KD7-CkUhQCL",
        "outputId": "782315e8-d0b6-4896-a468-0b59fad65435"
      },
      "outputs": [
        {
          "name": "stdout",
          "output_type": "stream",
          "text": [
            "\n",
            "Transpose of array 1:\n",
            "[[1 3]\n",
            " [2 4]]\n"
          ]
        }
      ],
      "source": [
        "# Transpose # սա դե անցանք, բայց մի հատ էլ ստեղ ներառեմ)\n",
        "print(\"\\nTranspose of array 1:\")\n",
        "print(np.transpose(array_1))  # or array_1.T\n"
      ]
    },
    {
      "cell_type": "code",
      "execution_count": 80,
      "metadata": {
        "colab": {
          "base_uri": "https://localhost:8080/"
        },
        "id": "Bc17foo6hUYG",
        "outputId": "d5068734-da4b-4204-a909-00ed3f6c4712"
      },
      "outputs": [
        {
          "name": "stdout",
          "output_type": "stream",
          "text": [
            "\n",
            "Inverse of array 1:\n",
            "[[-2.   1. ]\n",
            " [ 1.5 -0.5]]\n",
            "\n",
            "Determinant of array 1:\n",
            "-2.0000000000000004\n"
          ]
        }
      ],
      "source": [
        "# Inverse\n",
        "print(\"\\nInverse of array 1:\") # նկատենք .linalgը\n",
        "print(np.linalg.inv(array_1))\n",
        "\n",
        "# Determinant\n",
        "print(\"\\nDeterminant of array 1:\")\n",
        "print(np.linalg.det(array_1))"
      ]
    },
    {
      "cell_type": "code",
      "execution_count": 81,
      "metadata": {
        "colab": {
          "base_uri": "https://localhost:8080/"
        },
        "id": "STok9iXxhZB9",
        "outputId": "5998cc09-cf06-4ded-f8f4-15cc35ef3a88"
      },
      "outputs": [
        {
          "name": "stdout",
          "output_type": "stream",
          "text": [
            "\n",
            "Eigenvalues and eigenvectors of array 1:\n",
            "Eigenvalues: [-0.37228132  5.37228132]\n",
            "Eigenvectors:\n",
            " [[-0.82456484 -0.41597356]\n",
            " [ 0.56576746 -0.90937671]]\n"
          ]
        }
      ],
      "source": [
        "# Eigenvalues and eigenvectors (սեփական արժեքներ, սեփական վեկտորներ)\n",
        "print(\"\\nEigenvalues and eigenvectors of array 1:\")\n",
        "eigenvalues, eigenvectors = np.linalg.eig(array_1)\n",
        "print(\"Eigenvalues:\", eigenvalues)\n",
        "print(\"Eigenvectors:\\n\", eigenvectors)"
      ]
    },
    {
      "cell_type": "code",
      "execution_count": null,
      "metadata": {
        "colab": {
          "base_uri": "https://localhost:8080/"
        },
        "id": "rvMLyVR-g69T",
        "outputId": "371d762c-50a9-427a-e53a-d34e91803c10"
      },
      "outputs": [
        {
          "name": "stdout",
          "output_type": "stream",
          "text": [
            "1* x0 + 2 * x1 = 1  \n",
            "3 * x0 + 5 * x1 = 2 \n",
            "համակարգի լուծումներն են՝\n",
            "[-1.  1.]\n"
          ]
        }
      ],
      "source": [
        "a = np.array([[1, 2], [3, 5]])\n",
        "b = np.array([1, 2])\n",
        "x = np.linalg.solve(a, b)\n",
        "print(\"1* x0 + 2 * x1 = 1  \\n3 * x0 + 5 * x1 = 2 \\nհամակարգի լուծումներն են՝\")\n",
        "print(x)"
      ]
    },
    {
      "cell_type": "markdown",
      "metadata": {
        "id": "L8QtpEkzclA3"
      },
      "source": [
        "## Կլորացում"
      ]
    },
    {
      "cell_type": "code",
      "execution_count": null,
      "metadata": {
        "colab": {
          "base_uri": "https://localhost:8080/"
        },
        "id": "JXNhk0EXcmqf",
        "outputId": "f2e850f8-595c-4cf9-e839-788b92adfd9d"
      },
      "outputs": [
        {
          "name": "stdout",
          "output_type": "stream",
          "text": [
            "Original array:\n",
            "[   5.509    2.05     3.55     4.75     5.85  1453.   ]\n",
            "\n",
            "Rounding to the nearest integer with np.round:\n",
            "[   6.    2.    4.    5.    6. 1453.]\n",
            "\n",
            "Rounding to 1 decimal place with np.round:\n",
            "[   5.5    2.     3.6    4.8    5.8 1453. ]\n",
            "[  10.    0.    0.    0.   10. 1450.]\n",
            "[   0.    0.    0.    0.    0. 1500.]\n"
          ]
        },
        {
          "data": {
            "text/plain": [
              "1200"
            ]
          },
          "execution_count": 88,
          "metadata": {},
          "output_type": "execute_result"
        }
      ],
      "source": [
        "import numpy as np\n",
        "\n",
        "# Create an array of floating point numbers\n",
        "float_array = np.array([5.509, 2.05, 3.55, 4.75, 5.85, 1453])\n",
        "\n",
        "print(\"Original array:\")\n",
        "print(float_array)\n",
        "\n",
        "# Rounding to the nearest integer\n",
        "print(\"\\nRounding to the nearest integer with np.round:\")\n",
        "print(np.round(float_array))\n",
        "\n",
        "# Rounding to a specified number of decimals\n",
        "print(\"\\nRounding to 1 decimal place with np.round:\")\n",
        "print(np.round(float_array, 1))\n",
        "\n",
        "print(np.round(float_array, -1))\n",
        "print(np.round(float_array, -2))\n",
        "\n",
        "round(1230, -2)\n"
      ]
    },
    {
      "cell_type": "code",
      "execution_count": 89,
      "metadata": {
        "colab": {
          "base_uri": "https://localhost:8080/"
        },
        "id": "SXqQbeC7dwIA",
        "outputId": "958080f9-dd52-48d3-ddf6-b3ef53cf7e3b"
      },
      "outputs": [
        {
          "name": "stdout",
          "output_type": "stream",
          "text": [
            "Original array:\n",
            "[   5.509    2.05     3.55     4.75     5.85  1453.   ]\n",
            "\n",
            "Rounding down to the nearest integer with np.floor:\n",
            "[   5.    2.    3.    4.    5. 1453.]\n",
            "\n",
            "Rounding up to the nearest integer with np.ceil:\n",
            "[   6.    3.    4.    5.    6. 1453.]\n"
          ]
        }
      ],
      "source": [
        "print(\"Original array:\")\n",
        "print(float_array)\n",
        "\n",
        "# Rounding down to the nearest integer\n",
        "print(\"\\nRounding down to the nearest integer with np.floor:\")\n",
        "print(np.floor(float_array))\n",
        "\n",
        "# Rounding up to the nearest integer\n",
        "print(\"\\nRounding up to the nearest integer with np.ceil:\")\n",
        "print(np.ceil(float_array))"
      ]
    },
    {
      "cell_type": "markdown",
      "metadata": {
        "id": "E_1If-VIks5x"
      },
      "source": [
        "## Broadcasting\n",
        "https://numpy.org/doc/stable/user/basics.broadcasting.html#basics-broadcasting"
      ]
    },
    {
      "cell_type": "markdown",
      "metadata": {
        "id": "wzaUy3MPlCKb"
      },
      "source": [
        "<img src=\"https://numpy.org/doc/stable/_images/np_multiply_broadcasting.png\">"
      ]
    },
    {
      "cell_type": "code",
      "execution_count": 91,
      "metadata": {
        "colab": {
          "base_uri": "https://localhost:8080/"
        },
        "id": "VHBTJHD2kvaA",
        "outputId": "3fa92fd0-73ba-47af-845d-3e52afe545d2"
      },
      "outputs": [
        {
          "data": {
            "text/plain": [
              "array([1.6, 3.2])"
            ]
          },
          "execution_count": 91,
          "metadata": {},
          "output_type": "execute_result"
        }
      ],
      "source": [
        "np.array([1, 2]) * np.array([1.6, 1.6])"
      ]
    },
    {
      "cell_type": "code",
      "execution_count": 92,
      "metadata": {
        "colab": {
          "base_uri": "https://localhost:8080/"
        },
        "id": "-5bHBCjZTcEH",
        "outputId": "1d8b8648-804a-4143-a5b6-2614b21dc8a7"
      },
      "outputs": [
        {
          "data": {
            "text/plain": [
              "array([1.6, 3.2])"
            ]
          },
          "execution_count": 92,
          "metadata": {},
          "output_type": "execute_result"
        }
      ],
      "source": [
        "np.array([1, 2]) * 1.6"
      ]
    },
    {
      "cell_type": "code",
      "execution_count": 94,
      "metadata": {
        "colab": {
          "base_uri": "https://localhost:8080/"
        },
        "id": "9PRldW0aldlm",
        "outputId": "fff9faa7-9607-4c92-92ea-577bf6626384"
      },
      "outputs": [
        {
          "name": "stdout",
          "output_type": "stream",
          "text": [
            "[[ 0.  0.  0.]\n",
            " [10. 10. 10.]\n",
            " [20. 20. 20.]\n",
            " [30. 30. 30.]]\n",
            "[1. 2. 3.]\n"
          ]
        },
        {
          "data": {
            "text/plain": [
              "array([[ 1.,  2.,  3.],\n",
              "       [11., 12., 13.],\n",
              "       [21., 22., 23.],\n",
              "       [31., 32., 33.]])"
            ]
          },
          "execution_count": 94,
          "metadata": {},
          "output_type": "execute_result"
        }
      ],
      "source": [
        "a = np.array([[ 0.0,  0.0,  0.0],\n",
        "              [10.0, 10.0, 10.0],\n",
        "              [20.0, 20.0, 20.0],\n",
        "              [30.0, 30.0, 30.0]])\n",
        "b = np.array([1.0, 2.0, 3.0])\n",
        "print(a)\n",
        "print(b)\n",
        "a + b"
      ]
    },
    {
      "cell_type": "markdown",
      "metadata": {
        "id": "_tfC2zGTlxQR"
      },
      "source": [
        "<img src=\"https://numpy.org/doc/stable/_images/broadcasting_2.png\">"
      ]
    },
    {
      "cell_type": "code",
      "execution_count": 97,
      "metadata": {
        "colab": {
          "base_uri": "https://localhost:8080/"
        },
        "id": "6-zWvDxnlzn-",
        "outputId": "f3348542-f670-43c2-878c-24696c149d06"
      },
      "outputs": [
        {
          "name": "stdout",
          "output_type": "stream",
          "text": [
            "[[1 2 3]]\n",
            "[[10]\n",
            " [20]]\n",
            "\n",
            "Broadcasting with different shapes and dimensions:\n"
          ]
        },
        {
          "data": {
            "text/plain": [
              "array([[11, 12, 13],\n",
              "       [21, 22, 23]])"
            ]
          },
          "execution_count": 97,
          "metadata": {},
          "output_type": "execute_result"
        }
      ],
      "source": [
        "array_1 = np.array([[1, 2, 3]])\n",
        "array_2 = np.array([[10], [20]])\n",
        "print(array_1)\n",
        "print(array_2)\n",
        "print(\"\\nBroadcasting with different shapes and dimensions:\")\n",
        "array_1 + array_2\n",
        "\n",
        "# [1,2,3]\n",
        "# [10,\n",
        "#  20]\n",
        "\n",
        "# Step 1\n",
        "# [[1,2,3],\n",
        "#  [1,2,3]]\n",
        "\n",
        "# step 2\n",
        "\n",
        "\n",
        "# \"\"\"\n",
        "# [[1, 2, 3]   [[10, 10, 10]\n",
        "#  [1, 2, 3]]   [20, 20, 20]]\n",
        "# \"\"\"\n",
        "# 1 3\n",
        "# 2 3\n",
        "\n",
        "# 2 1"
      ]
    },
    {
      "cell_type": "code",
      "execution_count": 98,
      "metadata": {},
      "outputs": [
        {
          "name": "stdout",
          "output_type": "stream",
          "text": [
            "[[ 0.  0.  0.]\n",
            " [10. 10. 10.]\n",
            " [20. 20. 20.]\n",
            " [30. 30. 30.]]\n",
            "[1 2 3 4 5]\n"
          ]
        },
        {
          "ename": "ValueError",
          "evalue": "operands could not be broadcast together with shapes (4,3) (5,) ",
          "output_type": "error",
          "traceback": [
            "\u001b[1;31m---------------------------------------------------------------------------\u001b[0m",
            "\u001b[1;31mValueError\u001b[0m                                Traceback (most recent call last)",
            "Input \u001b[1;32mIn [98]\u001b[0m, in \u001b[0;36m<cell line: 8>\u001b[1;34m()\u001b[0m\n\u001b[0;32m      6\u001b[0m \u001b[38;5;28mprint\u001b[39m(a)\n\u001b[0;32m      7\u001b[0m \u001b[38;5;28mprint\u001b[39m(b)\n\u001b[1;32m----> 8\u001b[0m \u001b[43ma\u001b[49m\u001b[43m \u001b[49m\u001b[38;5;241;43m+\u001b[39;49m\u001b[43m \u001b[49m\u001b[43mb\u001b[49m\n",
            "\u001b[1;31mValueError\u001b[0m: operands could not be broadcast together with shapes (4,3) (5,) "
          ]
        }
      ],
      "source": [
        "a = np.array([[ 0.0,  0.0,  0.0],\n",
        "              [10.0, 10.0, 10.0],\n",
        "              [20.0, 20.0, 20.0],\n",
        "              [30.0, 30.0, 30.0]])\n",
        "b = np.array([1, 2, 3, 4, 5])\n",
        "print(a)\n",
        "print(b)\n",
        "a + b"
      ]
    },
    {
      "cell_type": "markdown",
      "metadata": {
        "id": "fcoDTX20jMdI"
      },
      "source": [
        "## Array-ների միավորում ու տրոհում"
      ]
    },
    {
      "cell_type": "code",
      "execution_count": 99,
      "metadata": {
        "colab": {
          "base_uri": "https://localhost:8080/"
        },
        "id": "bUgIbEE6d7Lx",
        "outputId": "b94c1b42-0ca1-4812-9708-12fbdf140923"
      },
      "outputs": [
        {
          "name": "stdout",
          "output_type": "stream",
          "text": [
            "Original arrays:\n",
            "Array 1: [1 2 3]\n",
            "Array 2: [4 5 6]\n"
          ]
        }
      ],
      "source": [
        "# Create two 1D arrays\n",
        "array_1 = np.array([1, 2, 3])\n",
        "array_2 = np.array([4, 5, 6])\n",
        "\n",
        "print(\"Original arrays:\")\n",
        "print(\"Array 1:\", array_1)\n",
        "print(\"Array 2:\", array_2)\n"
      ]
    },
    {
      "cell_type": "markdown",
      "metadata": {
        "id": "ZPLcCUDij_97"
      },
      "source": [
        "### Միավորում"
      ]
    },
    {
      "cell_type": "code",
      "execution_count": 111,
      "metadata": {
        "colab": {
          "base_uri": "https://localhost:8080/"
        },
        "id": "eeoqGLpIjSZw",
        "outputId": "8b0f0ee2-f0f4-4a47-8ded-ece3a0511883"
      },
      "outputs": [
        {
          "name": "stdout",
          "output_type": "stream",
          "text": [
            "\n",
            "Concatenated array:\n",
            "[1 2 3 4 5 6]\n",
            "[[ 1  2  3  7  8  9]\n",
            " [ 4  5  6 10 11 12]]\n"
          ]
        }
      ],
      "source": [
        "# Concatenation\n",
        "concatenated_array = np.concatenate((array_1, array_2))\n",
        "print(\"\\nConcatenated array:\")\n",
        "print(concatenated_array)\n",
        "\n",
        "array_2d_1 = np.array([[1, 2, 3], [4, 5, 6]])\n",
        "array_2d_2 = np.array([[7, 8, 9], [10, 11, 12]])\n",
        "\n",
        "# Concatenation of 2D arrays\n",
        "concatenated_2d_array = np.concatenate((array_2d_1, array_2d_2), axis=1)  # Concatenate along rows\n",
        "print(concatenated_2d_array)"
      ]
    },
    {
      "cell_type": "code",
      "execution_count": 101,
      "metadata": {
        "colab": {
          "base_uri": "https://localhost:8080/"
        },
        "id": "YiOeAoHbjiyz",
        "outputId": "1ac75f2d-8575-4f59-ea47-c4051ff64b18"
      },
      "outputs": [
        {
          "name": "stdout",
          "output_type": "stream",
          "text": [
            "\n",
            "Vertically stacked array:\n",
            "[[1 2 3]\n",
            " [4 5 6]]\n",
            "\n",
            "Horizontally stacked array:\n",
            "[1 2 3 4 5 6]\n"
          ]
        }
      ],
      "source": [
        "# իրար վրա դնել\n",
        "vertical_stack = np.vstack((array_1, array_2))\n",
        "print(\"\\nVertically stacked array:\")\n",
        "print(vertical_stack)\n",
        "\n",
        "# իրար կողք դնել\n",
        "horizontal_stack = np.hstack((array_1, array_2))\n",
        "print(\"\\nHorizontally stacked array:\")\n",
        "print(horizontal_stack)"
      ]
    },
    {
      "cell_type": "markdown",
      "metadata": {
        "id": "qxLh5XOrj9nI"
      },
      "source": [
        "### Տրոհում"
      ]
    },
    {
      "cell_type": "code",
      "execution_count": 103,
      "metadata": {
        "colab": {
          "base_uri": "https://localhost:8080/"
        },
        "id": "w0nL9pfuj43h",
        "outputId": "9e7136f3-3a38-49f7-da8b-2a2013afb5df"
      },
      "outputs": [
        {
          "name": "stdout",
          "output_type": "stream",
          "text": [
            "\n",
            "Split arrays:\n",
            "[array([1, 2]), array([3, 4]), array([5, 6])]\n"
          ]
        }
      ],
      "source": [
        "# Splitting - Divide an array into multiple sub-arrays\n",
        "array = np.array([1, 2, 3, 4, 5, 6])\n",
        "split_arrays = np.split(array, 3)\n",
        "print(\"\\nSplit arrays:\")\n",
        "print(split_arrays)\n"
      ]
    },
    {
      "cell_type": "code",
      "execution_count": 104,
      "metadata": {
        "id": "YfhB1SguUmzZ"
      },
      "outputs": [
        {
          "ename": "ValueError",
          "evalue": "array split does not result in an equal division",
          "output_type": "error",
          "traceback": [
            "\u001b[1;31m---------------------------------------------------------------------------\u001b[0m",
            "\u001b[1;31mValueError\u001b[0m                                Traceback (most recent call last)",
            "Input \u001b[1;32mIn [104]\u001b[0m, in \u001b[0;36m<cell line: 3>\u001b[1;34m()\u001b[0m\n\u001b[0;32m      1\u001b[0m \u001b[38;5;66;03m# Splitting - Divide an array into multiple sub-arrays\u001b[39;00m\n\u001b[0;32m      2\u001b[0m array \u001b[38;5;241m=\u001b[39m np\u001b[38;5;241m.\u001b[39marray([\u001b[38;5;241m1\u001b[39m, \u001b[38;5;241m2\u001b[39m, \u001b[38;5;241m3\u001b[39m, \u001b[38;5;241m4\u001b[39m, \u001b[38;5;241m5\u001b[39m, \u001b[38;5;241m6\u001b[39m, \u001b[38;5;241m7\u001b[39m])\n\u001b[1;32m----> 3\u001b[0m split_arrays \u001b[38;5;241m=\u001b[39m \u001b[43mnp\u001b[49m\u001b[38;5;241;43m.\u001b[39;49m\u001b[43msplit\u001b[49m\u001b[43m(\u001b[49m\u001b[43marray\u001b[49m\u001b[43m,\u001b[49m\u001b[43m \u001b[49m\u001b[38;5;241;43m3\u001b[39;49m\u001b[43m)\u001b[49m\n\u001b[0;32m      4\u001b[0m \u001b[38;5;28mprint\u001b[39m(\u001b[38;5;124m\"\u001b[39m\u001b[38;5;130;01m\\n\u001b[39;00m\u001b[38;5;124mSplit arrays:\u001b[39m\u001b[38;5;124m\"\u001b[39m)\n\u001b[0;32m      5\u001b[0m \u001b[38;5;28mprint\u001b[39m(split_arrays)\n",
            "File \u001b[1;32mc:\\Users\\hayk_\\.conda\\envs\\thesis\\lib\\site-packages\\numpy\\lib\\_shape_base_impl.py:877\u001b[0m, in \u001b[0;36msplit\u001b[1;34m(ary, indices_or_sections, axis)\u001b[0m\n\u001b[0;32m    875\u001b[0m     N \u001b[38;5;241m=\u001b[39m ary\u001b[38;5;241m.\u001b[39mshape[axis]\n\u001b[0;32m    876\u001b[0m     \u001b[38;5;28;01mif\u001b[39;00m N \u001b[38;5;241m%\u001b[39m sections:\n\u001b[1;32m--> 877\u001b[0m         \u001b[38;5;28;01mraise\u001b[39;00m \u001b[38;5;167;01mValueError\u001b[39;00m(\n\u001b[0;32m    878\u001b[0m             \u001b[38;5;124m'\u001b[39m\u001b[38;5;124marray split does not result in an equal division\u001b[39m\u001b[38;5;124m'\u001b[39m) \u001b[38;5;28;01mfrom\u001b[39;00m\u001b[38;5;250m \u001b[39m\u001b[38;5;28;01mNone\u001b[39;00m\n\u001b[0;32m    879\u001b[0m \u001b[38;5;28;01mreturn\u001b[39;00m array_split(ary, indices_or_sections, axis)\n",
            "\u001b[1;31mValueError\u001b[0m: array split does not result in an equal division"
          ]
        }
      ],
      "source": [
        "# Splitting - Divide an array into multiple sub-arrays\n",
        "array = np.array([1, 2, 3, 4, 5, 6, 7])\n",
        "split_arrays = np.split(array, 3)\n",
        "print(\"\\nSplit arrays:\")\n",
        "print(split_arrays)\n",
        "for arr in split_arrays:\n",
        "    print(arr)"
      ]
    },
    {
      "cell_type": "code",
      "execution_count": 107,
      "metadata": {
        "colab": {
          "base_uri": "https://localhost:8080/"
        },
        "id": "Km1KiVuckJxB",
        "outputId": "19377b3b-b450-454e-f97f-4942bc954f46"
      },
      "outputs": [
        {
          "name": "stdout",
          "output_type": "stream",
          "text": [
            "[[1 2 3]\n",
            " [4 5 6]\n",
            " [7 8 9]]\n",
            "\n",
            "Split arrays along axis 1:\n",
            "[[1 2 3]]\n",
            "\n",
            "[[4 5 6]]\n",
            "\n",
            "[[7 8 9]]\n",
            "\n"
          ]
        }
      ],
      "source": [
        "# տրված առանքով տրոհում\n",
        "# Split along a specific axis\n",
        "two_dim_array = np.array([[1, 2, 3], [4, 5, 6], [7, 8, 9]])\n",
        "print(two_dim_array)\n",
        "split_along_axis = np.split(two_dim_array, 3, axis=0)\n",
        "print(\"\\nSplit arrays along axis 1:\")\n",
        "for arr in split_along_axis:\n",
        "    print(arr)\n",
        "    print()"
      ]
    },
    {
      "cell_type": "markdown",
      "metadata": {
        "id": "GkSWDspmn1f3"
      },
      "source": [
        "## Էլեմենտների ավելացում/հեռացում"
      ]
    },
    {
      "cell_type": "code",
      "execution_count": 112,
      "metadata": {
        "colab": {
          "base_uri": "https://localhost:8080/"
        },
        "id": "PYCZTiYtn4X6",
        "outputId": "4e10a363-9b22-4061-ac8f-ee38e191d596"
      },
      "outputs": [
        {
          "name": "stdout",
          "output_type": "stream",
          "text": [
            "Original 1D array:\n",
            "[1 2 3 4 5]\n",
            "\n",
            "Array with added element:\n",
            "[1 2 3 4 5 6]\n",
            "\n",
            "Array with inserted element:\n",
            "[ 1  2 10  3  4  5]\n"
          ]
        }
      ],
      "source": [
        "import numpy as np\n",
        "\n",
        "# Create a 1D array\n",
        "array_1d = np.array([1, 2, 3, 4, 5])\n",
        "\n",
        "print(\"Original 1D array:\")\n",
        "print(array_1d)\n",
        "\n",
        "# Adding elements to the array\n",
        "new_element = 6\n",
        "array_with_element = np.append(array_1d, new_element)\n",
        "\n",
        "print(\"\\nArray with added element:\")\n",
        "print(array_with_element)\n",
        "\n",
        "# Inserting elements at specific positions\n",
        "position = 2\n",
        "element_to_insert = 10\n",
        "array_with_inserted_element = np.insert(array_1d, position, element_to_insert)\n",
        "print(\"\\nArray with inserted element:\")\n",
        "print(array_with_inserted_element)\n"
      ]
    },
    {
      "cell_type": "code",
      "execution_count": 114,
      "metadata": {
        "colab": {
          "base_uri": "https://localhost:8080/"
        },
        "id": "NfKOkr1EoC6M",
        "outputId": "e4e75fc0-ac31-45ce-ff14-00cc5894f414"
      },
      "outputs": [
        {
          "name": "stdout",
          "output_type": "stream",
          "text": [
            "\n",
            "Initial\n",
            "[1 2 3 4 5]\n",
            "\n",
            "Array with element removed:\n",
            "[1 2 3 5]\n",
            "'\n",
            "Initial\n",
            "[1 2 3 4 5]\n",
            "\n",
            "Array with elements removed at specific positions:\n",
            "[2 4]\n",
            "[1 2 3]\n"
          ]
        }
      ],
      "source": [
        "# Removing elements from the array\n",
        "index_to_remove = 3\n",
        "array_without_element = np.delete(array_1d, index_to_remove) # pop\n",
        "print(\"\\nInitial\")\n",
        "print(array_1d)\n",
        "print(\"\\nArray with element removed:\")\n",
        "print(array_without_element)\n",
        "\n",
        "# Removing elements at specific positions\n",
        "array_without_elements = np.delete(array_1d, [0, 2, 4])\n",
        "\n",
        "print(\"'\\nInitial\")\n",
        "print(array_1d)\n",
        "print(\"\\nArray with elements removed at specific positions:\")\n",
        "print(array_without_elements)\n",
        "\n",
        "# array_without_elements = np.delete(array_1d, [False, False, True .. ])\n",
        "array_without_elements = np.delete(array_1d, array_1d > 3)\n",
        "print(array_without_elements)\n"
      ]
    },
    {
      "cell_type": "markdown",
      "metadata": {
        "id": "FNpTAFkDo5pP"
      },
      "source": [
        "## Սորտավորում"
      ]
    },
    {
      "cell_type": "code",
      "execution_count": 2,
      "metadata": {
        "colab": {
          "base_uri": "https://localhost:8080/"
        },
        "id": "_TGNAXTLo77I",
        "outputId": "4de0176e-649f-42b4-ec02-6d0a4796cae2"
      },
      "outputs": [
        {
          "name": "stdout",
          "output_type": "stream",
          "text": [
            "Original 1D array:\n",
            "[ 5  0  9 11]\n",
            "\n",
            "Array sorted in ascending order:\n",
            "[ 0  5  9 11]\n"
          ]
        }
      ],
      "source": [
        "import numpy as np\n",
        "\n",
        "# Create a 1D array\n",
        "array_1d = np.array([5, 0, 9, 11])\n",
        "\n",
        "print(\"Original 1D array:\")\n",
        "print(array_1d)\n",
        "\n",
        "# Sorting in ascending order\n",
        "sorted_array = np.sort(array_1d)\n",
        "print(\"\\nArray sorted in ascending order:\")\n",
        "print(sorted_array)"
      ]
    },
    {
      "cell_type": "code",
      "execution_count": 3,
      "metadata": {
        "colab": {
          "base_uri": "https://localhost:8080/"
        },
        "id": "KmNbonFJpCaV",
        "outputId": "c1d2b41e-57dc-4d84-8430-49bf48fe33d2"
      },
      "outputs": [
        {
          "name": "stdout",
          "output_type": "stream",
          "text": [
            "\n",
            "Array sorted in-place (ascending order):\n",
            "[ 0  5  9 11]\n"
          ]
        }
      ],
      "source": [
        "# In-place sorting\n",
        "array_1d.sort()\n",
        "print(\"\\nArray sorted in-place (ascending order):\")\n",
        "print(array_1d)"
      ]
    },
    {
      "cell_type": "code",
      "execution_count": 4,
      "metadata": {
        "colab": {
          "base_uri": "https://localhost:8080/"
        },
        "id": "X8B-cvMOquv3",
        "outputId": "69e960ec-62b0-4872-ccb3-38ee02d7c99e"
      },
      "outputs": [
        {
          "name": "stdout",
          "output_type": "stream",
          "text": [
            "\n",
            "Original 2D array:\n",
            "[[ 10 509   3]\n",
            " [  4   1   0]]\n",
            "\n",
            "2D array sorted along the rows (axis=1):\n",
            "[[  3  10 509]\n",
            " [  0   1   4]]\n",
            "\n",
            "2D array sorted along the columns (axis=0):\n",
            "[[  4   1   0]\n",
            " [ 10 509   3]]\n",
            "Overall sort\n",
            "[[  0   1   3]\n",
            " [  4  10 509]]\n"
          ]
        }
      ],
      "source": [
        "# Sorting a 2D array by a specific axis\n",
        "array_2d = np.array([[10, 509, 3], [4, 1, 0]])\n",
        "print(\"\\nOriginal 2D array:\")\n",
        "print(array_2d)\n",
        "\n",
        "\n",
        "\n",
        "# Sorting along the rows (axis=1)\n",
        "sorted_array_2d_rows = np.sort(array_2d, axis=1)\n",
        "print(\"\\n2D array sorted along the rows (axis=1):\")\n",
        "print(sorted_array_2d_rows)\n",
        "\n",
        "# Sorting along the columns (axis=0)\n",
        "sorted_array_2d_cols = np.sort(array_2d, axis=0)\n",
        "print(\"\\n2D array sorted along the columns (axis=0):\")\n",
        "print(sorted_array_2d_cols)\n",
        "\n",
        "print(\"Overall sort\")\n",
        "print(np.sort(array_2d.flatten()).reshape(array_2d.shape))"
      ]
    },
    {
      "cell_type": "code",
      "execution_count": 6,
      "metadata": {
        "colab": {
          "base_uri": "https://localhost:8080/"
        },
        "id": "VIlHd4szo-0Z",
        "outputId": "36558b72-8078-4d02-9ec0-88b966cc1800"
      },
      "outputs": [
        {
          "name": "stdout",
          "output_type": "stream",
          "text": [
            "\n",
            "Indices that would sort the array:\n",
            "[3 1 4 0 2]\n"
          ]
        }
      ],
      "source": [
        "# Getting indices that would sort the array\n",
        "array_1d = np.array([10, 2, 509, 1, 6])\n",
        "indices = np.argsort(array_1d)\n",
        "print(\"\\nIndices that would sort the array:\")\n",
        "print(indices)"
      ]
    },
    {
      "cell_type": "code",
      "execution_count": 7,
      "metadata": {
        "colab": {
          "base_uri": "https://localhost:8080/"
        },
        "id": "GPk06-lkrtoX",
        "outputId": "d52e1e79-f6e3-4062-e89c-817c2f01f08b"
      },
      "outputs": [
        {
          "name": "stdout",
          "output_type": "stream",
          "text": [
            "[ 10   2 509   1   6]\n",
            "\n",
            "Index of maximum value: 2\n",
            "Index of minimum value: 3\n"
          ]
        }
      ],
      "source": [
        "# Finding the index of the maximum and minimum values\n",
        "print(array_1d)\n",
        "max_index = np.argmax(array_1d)\n",
        "min_index = np.argmin(array_1d)\n",
        "print(\"\\nIndex of maximum value:\", max_index)\n",
        "print(\"Index of minimum value:\", min_index)"
      ]
    },
    {
      "cell_type": "code",
      "execution_count": 8,
      "metadata": {
        "colab": {
          "base_uri": "https://localhost:8080/"
        },
        "id": "aSTA0Jp-2foX",
        "outputId": "d959890c-840d-40aa-f9e4-82eaa6083191"
      },
      "outputs": [
        {
          "name": "stdout",
          "output_type": "stream",
          "text": [
            "['asasad' 'gffbfvds']\n"
          ]
        }
      ],
      "source": [
        "a = np.array([\"asasad\", \"gffbfvds\"])\n",
        "# ASCII\n",
        "a.sort()\n",
        "\n",
        "print(a)"
      ]
    },
    {
      "cell_type": "markdown",
      "metadata": {
        "id": "TUZIvEJmsXxr"
      },
      "source": [
        "## Խառը օգտակար բաներ"
      ]
    },
    {
      "cell_type": "markdown",
      "metadata": {
        "id": "ZdVVieEys0tZ"
      },
      "source": [
        "### Uniques/value count"
      ]
    },
    {
      "cell_type": "code",
      "execution_count": 9,
      "metadata": {
        "colab": {
          "base_uri": "https://localhost:8080/"
        },
        "id": "DVmFMZTrsaCv",
        "outputId": "805121a3-578d-4850-e16f-d1575fe461b0"
      },
      "outputs": [
        {
          "name": "stdout",
          "output_type": "stream",
          "text": [
            "Original array:\n",
            "[1 2 3 1 2 4 5 4]\n",
            "\n",
            "Unique elements:\n",
            "[1 2 3 4 5]\n",
            "\n",
            "Unique values:\n",
            "[1 2 3 4 5]\n",
            "Value counts:\n",
            "[2 2 1 2 1]\n"
          ]
        }
      ],
      "source": [
        "# Create an array\n",
        "array = np.array([1, 2, 3, 1, 2, 4, 5, 4])\n",
        "\n",
        "print(\"Original array:\")\n",
        "print(array)\n",
        "\n",
        "# Finding unique elements\n",
        "unique_elements = np.unique(array)\n",
        "print(\"\\nUnique elements:\")\n",
        "print(unique_elements)\n",
        "\n",
        "# Counting occurrences of each unique element\n",
        "unique_values, value_counts = np.unique(array, return_counts=True)\n",
        "print(\"\\nUnique values:\")\n",
        "print(unique_values)\n",
        "print(\"Value counts:\")\n",
        "print(value_counts)"
      ]
    },
    {
      "cell_type": "markdown",
      "metadata": {
        "id": "RJa6nHTUwxbQ"
      },
      "source": [
        "### array-ը խառնել/պտտել"
      ]
    },
    {
      "cell_type": "code",
      "execution_count": 129,
      "metadata": {
        "colab": {
          "base_uri": "https://localhost:8080/"
        },
        "id": "NSjkU3W8szVj",
        "outputId": "0ee0b1e3-e0c5-4405-d272-f152a25d0275"
      },
      "outputs": [
        {
          "name": "stdout",
          "output_type": "stream",
          "text": [
            "original\n",
            "[1 2 3 4 5]\n",
            "\n",
            "Reversed array:\n",
            "[5 4 3 2 1]\n",
            "\n",
            "Shuffled array:\n",
            "[3 5 4 1 2]\n"
          ]
        }
      ],
      "source": [
        "# Reversing the order of elements\n",
        "array = np.array([1,2,3,4,5])\n",
        "print(\"original\")\n",
        "print(array)\n",
        "reversed_array = np.flip(array) # [::-1] .reverse\n",
        "print(\"\\nReversed array:\")\n",
        "print(reversed_array)\n",
        "\n",
        "\n",
        "# Shuffling the array\n",
        "np.random.shuffle(array)\n",
        "print(\"\\nShuffled array:\")\n",
        "print(array)  # Note: np.random.shuffle shuffles the array in-place\n",
        "\n"
      ]
    },
    {
      "cell_type": "markdown",
      "metadata": {
        "id": "LS-4kzoNwtIL"
      },
      "source": [
        "### any / all"
      ]
    },
    {
      "cell_type": "code",
      "execution_count": 130,
      "metadata": {
        "colab": {
          "base_uri": "https://localhost:8080/"
        },
        "id": "g8zkWZr7tDI6",
        "outputId": "5a0641cf-7a2e-4e96-ced1-c5db74a78c80"
      },
      "outputs": [
        {
          "name": "stdout",
          "output_type": "stream",
          "text": [
            "[3 5 4 1 2]\n",
            "\n",
            "Does any element satisfy the condition (array > 4)?\n",
            "True\n",
            "\n",
            "Do all elements satisfy the condition (array > 4)?\n",
            "False\n"
          ]
        }
      ],
      "source": [
        "# Checking if any element satisfies a condition\n",
        "print(array)\n",
        "any_condition_satisfied = np.any(array > 4)\n",
        "print(\"\\nDoes any element satisfy the condition (array > 4)?\")\n",
        "print(any_condition_satisfied)\n",
        "\n",
        "# Checking if all elements satisfy a condition\n",
        "all_conditions_satisfied = np.all(array > 4)\n",
        "print(\"\\nDo all elements satisfy the condition (array > 4)?\")\n",
        "print(all_conditions_satisfied)"
      ]
    },
    {
      "cell_type": "code",
      "execution_count": 131,
      "metadata": {
        "colab": {
          "base_uri": "https://localhost:8080/"
        },
        "id": "6_xDi63SF1yJ",
        "outputId": "51435590-62f4-481e-e309-79bc8275746a"
      },
      "outputs": [
        {
          "data": {
            "text/plain": [
              "True"
            ]
          },
          "execution_count": 131,
          "metadata": {},
          "output_type": "execute_result"
        }
      ],
      "source": [
        "a = [True, False, True]\n",
        "\n",
        "any(a)"
      ]
    },
    {
      "cell_type": "markdown",
      "metadata": {
        "id": "m-tqPIbzw2la"
      },
      "source": [
        "### np.where"
      ]
    },
    {
      "cell_type": "markdown",
      "metadata": {
        "id": "0YleaKmjw74I"
      },
      "source": [
        "np.where(condition, x, y)\n",
        "\n",
        "\n",
        "\n",
        "*   condition is the boolean condition that determines which elements to select or where to assign values.\n",
        "\n",
        "\n",
        "*   x and y are arrays or values. If condition is True, elements from x are selected or assigned; otherwise, elements from y are selected or assigned.\n",
        "\n"
      ]
    },
    {
      "cell_type": "code",
      "execution_count": null,
      "metadata": {
        "colab": {
          "base_uri": "https://localhost:8080/"
        },
        "id": "l6572yWRw5Pf",
        "outputId": "be602cc7-5ffe-41c4-ee9b-318eb7207a5e"
      },
      "outputs": [
        {
          "name": "stdout",
          "output_type": "stream",
          "text": [
            "['կենտ' 'զույգ' 'կենտ' 'զույգ' 'կենտ']\n"
          ]
        }
      ],
      "source": [
        "import numpy as np\n",
        "\n",
        "# Create an array\n",
        "array = np.array([1, 2, 3, 4, 5])\n",
        "\n",
        "elems = np.where(array % 2 == 0, \"զույգ\",  \"կենտ\")\n",
        "print(elems)"
      ]
    },
    {
      "cell_type": "code",
      "execution_count": null,
      "metadata": {
        "colab": {
          "base_uri": "https://localhost:8080/"
        },
        "id": "ju6T3og7GjAe",
        "outputId": "c282059f-e369-41db-8111-0248a908def3"
      },
      "outputs": [
        {
          "name": "stdout",
          "output_type": "stream",
          "text": [
            "kent\n"
          ]
        }
      ],
      "source": [
        "x = 5\n",
        "\n",
        "if x % 2 == 0:\n",
        "    incha = \"zueg\"\n",
        "else:\n",
        "    incha = \"kent\"\n",
        "\n",
        "print(incha)"
      ]
    },
    {
      "cell_type": "code",
      "execution_count": null,
      "metadata": {
        "id": "fKJgYiqRGuSm"
      },
      "outputs": [],
      "source": [
        "incha = \"zueg\" if x % 2 == 0 else \"kent\""
      ]
    },
    {
      "cell_type": "code",
      "execution_count": null,
      "metadata": {
        "colab": {
          "base_uri": "https://localhost:8080/"
        },
        "id": "EiEOAVoGG8_H",
        "outputId": "13830529-cba5-4337-9aaa-a0201e42602d"
      },
      "outputs": [
        {
          "data": {
            "text/plain": [
              "array([3, 6, 2, 1, 5, 7, 4])"
            ]
          },
          "execution_count": 107,
          "metadata": {},
          "output_type": "execute_result"
        }
      ],
      "source": [
        "array"
      ]
    },
    {
      "cell_type": "code",
      "execution_count": null,
      "metadata": {
        "colab": {
          "base_uri": "https://localhost:8080/"
        },
        "id": "Sy5yYa9nG-qS",
        "outputId": "d93c107a-be7c-45e3-f87d-b992d394d9e4"
      },
      "outputs": [
        {
          "data": {
            "text/plain": [
              "array(['zueg', 'zueg', 'kent', 'kent', 'zueg', 'zueg', 'zueg'],\n",
              "      dtype='<U4')"
            ]
          },
          "execution_count": 109,
          "metadata": {},
          "output_type": "execute_result"
        }
      ],
      "source": [
        "np.where(array >2, \"zueg\", \"kent\")"
      ]
    },
    {
      "cell_type": "code",
      "execution_count": null,
      "metadata": {
        "colab": {
          "base_uri": "https://localhost:8080/"
        },
        "id": "bQI4dk7lxT8T",
        "outputId": "260af757-b7ba-4d23-c9bb-b309766edfc0"
      },
      "outputs": [
        {
          "name": "stdout",
          "output_type": "stream",
          "text": [
            "[0 0 3 4 5]\n"
          ]
        }
      ],
      "source": [
        "elems = np.where(array > 2, array, 0)\n",
        "print(elems)"
      ]
    },
    {
      "cell_type": "code",
      "execution_count": null,
      "metadata": {
        "colab": {
          "base_uri": "https://localhost:8080/"
        },
        "id": "V4isWMa-xYQx",
        "outputId": "b3d9fecd-aba6-4ff9-8d22-3d883ff46dd4"
      },
      "outputs": [
        {
          "name": "stdout",
          "output_type": "stream",
          "text": [
            "\n",
            "Values assigned based on condition:\n",
            "[-9  4 -7  8 -5]\n"
          ]
        }
      ],
      "source": [
        "# Assign values based on a condition\n",
        "new_values = np.where(array % 2 == 0, array * 2, array-10)\n",
        "print(\"\\nValues assigned based on condition:\")\n",
        "print(new_values)"
      ]
    },
    {
      "cell_type": "markdown",
      "metadata": {},
      "source": [
        "# 🛠️ Գործնական\n",
        "https://github.com/HaykTarkhanyan/python_math_ml_course/tree/main/python/mini_projects/approximate_pi\n",
        "\n",
        "[վիդեո](https://www.youtube.com/watch?v=fzujbMd4j30)\n"
      ]
    },
    {
      "cell_type": "markdown",
      "metadata": {},
      "source": [
        "### Pure Python"
      ]
    },
    {
      "cell_type": "code",
      "execution_count": 136,
      "metadata": {},
      "outputs": [
        {
          "name": "stdout",
          "output_type": "stream",
          "text": [
            "3.141592653589793\n",
            "num_points = 15000000\n",
            "Pi approximation: 3.1422576\n",
            "Deviation: 0.02117%\n",
            "Execution time: 24.49 seconds\n",
            "Approximate π: 3.1422576\n"
          ]
        }
      ],
      "source": [
        "import math\n",
        "import random\n",
        "from time import time\n",
        "\n",
        "random.seed(509)  # For reproducibility\n",
        "\n",
        "def approximate_pi(num_points=1_000):\n",
        "    st = time()\n",
        "    num_in_circle = 0\n",
        "    \n",
        "    for _ in range(num_points):\n",
        "        x = random.uniform(-1, 1)\n",
        "        y = random.uniform(-1, 1)\n",
        "        \n",
        "        dist = (x**2 + y**2)**0.5\n",
        "        \n",
        "        if dist < 1:\n",
        "            num_in_circle += 1\n",
        "    \n",
        "    pi_approx = num_in_circle / num_points * 4 \n",
        "    print(f\"{num_points = }\")\n",
        "    print(f\"Pi approximation: {pi_approx}\")\n",
        "    print(f\"Deviation: {abs(pi_approx - math.pi) / math.pi * 100:.5f}%\")\n",
        "    \n",
        "    exec_time = time() - st\n",
        "    print(f\"Execution time: {exec_time:.2f} seconds\")\n",
        "    return pi_approx, exec_time\t\n",
        "\n",
        "print(math.pi)\n",
        "pi_approx, exec_time = approximate_pi(15_000_000)\n",
        "print(f\"Approximate π: {pi_approx}\")"
      ]
    },
    {
      "cell_type": "markdown",
      "metadata": {},
      "source": [
        "### Numpy"
      ]
    },
    {
      "cell_type": "code",
      "execution_count": 137,
      "metadata": {},
      "outputs": [
        {
          "name": "stdout",
          "output_type": "stream",
          "text": [
            "Reference π: 3.141592653589793\n",
            "num_points = 15000000\n",
            "Pi approximation: 3.1420445333333333\n",
            "Deviation: 0.01438%\n",
            "Execution time: 1.61 seconds\n"
          ]
        }
      ],
      "source": [
        "import numpy as np\n",
        "import math\n",
        "from time import time\n",
        "\n",
        "np.random.seed(509)  # For reproducibility\n",
        "\n",
        "def approximate_pi_np(num_points):\n",
        "    start = time()\n",
        "\n",
        "    # Draw x and y in one shot (two columns, num_points rows)\n",
        "    points = np.random.uniform(-1.0, 1.0, size=(num_points, 2))\n",
        "\n",
        "    # radius-squared (no costly sqrt)\n",
        "    dist_sq = np.sum(points ** 2, axis=1)\n",
        "\n",
        "    # Points inside the unit circle\n",
        "    num_in_circle = np.count_nonzero(dist_sq < 1.0)\n",
        "\n",
        "    pi_approx = (num_in_circle / num_points) * 4\n",
        "\n",
        "    # Console diagnostics (same as original)\n",
        "    print(f\"{num_points = }\")\n",
        "    print(f\"Pi approximation: {pi_approx}\")\n",
        "    print(f\"Deviation: {abs(pi_approx - math.pi) / math.pi * 100:.5f}%\")\n",
        "    \n",
        "    exec_time = time() - start\n",
        "    print(f\"Execution time: {exec_time:.2f} seconds\")\n",
        "    return pi_approx, exec_time\n",
        "\n",
        "\n",
        "print(\"Reference π:\", math.pi)\n",
        "pi_apporx, exec_time_np = approximate_pi_np(15_000_000)\n"
      ]
    },
    {
      "cell_type": "code",
      "execution_count": 138,
      "metadata": {},
      "outputs": [
        {
          "name": "stdout",
          "output_type": "stream",
          "text": [
            "Speedup: 15.21x\n"
          ]
        }
      ],
      "source": [
        "print(f\"Speedup: {exec_time / exec_time_np:.2f}x\")"
      ]
    },
    {
      "cell_type": "markdown",
      "metadata": {},
      "source": [
        "# 🏡Տնային\n"
      ]
    },
    {
      "cell_type": "markdown",
      "metadata": {},
      "source": [
        "## Վարժություններ GPT-ից որ կարաք նենց ա անտեսեք, զուտ հրամանները հիշել օգնելու համար են\n",
        "\n",
        "Exercise 1: Creating and Manipulating Arrays\n",
        "\n",
        "* Create a 1D array with numbers from 1 to 10.\n",
        "* Create a 2D array with shape (3, 4) filled with random integers.\n",
        "* Reshape the 2D array to have shape (2, 6).\n",
        "* Extract the third column from the reshaped array.\n",
        "* Calculate the mean of each row in the reshaped array.\n",
        "\n",
        "Exercise 2: Array Indexing and Slicing\n",
        "\n",
        "* Create a 1D array with numbers from 1 to 20.\n",
        "* Select all even numbers from the array using boolean indexing.\n",
        "* Create a 2D array with shape (4, 5) filled with random numbers.\n",
        "* Select the subarray consisting of the first two rows and the last three columns.\n",
        "\n",
        "Exercise 3: Mathematical Operations and Functions\n",
        "\n",
        "* Create a 1D array with numbers from 1 to 5.\n",
        "* Add 5 to each element in the array.\n",
        "* Calculate the square root of each element in the array.\n",
        "* Calculate the exponential of each element in the array.\n",
        "\n",
        "Exercise 4: Array Concatenation and Splitting\n",
        "\n",
        "* Create two 1D arrays of equal length.\n",
        "* Concatenate the two arrays horizontally and vertically.\n",
        "* Split the concatenated arrays back into the original arrays.\n",
        "\n",
        "Exercise 5: Array Aggregation and Statistics\n",
        "\n",
        "* Create a 2D array with random integers of shape (3, 4).\n",
        "* Calculate the sum of all elements in the array.\n",
        "* Calculate the mean of each column in the array.\n",
        "* Calculate the maximum value in each row of the array.\n",
        "\n",
        "Exercise 6: Array Sorting and Manipulation\n",
        "\n",
        "* Create a 1D array with random integers.\n",
        "* Sort the array in ascending order.\n",
        "* Reverse the order of the elements in the array.\n",
        "* Replace all negative elements in the array with zero.\n",
        "\n",
        "Exercise 7: Boolean Masking\n",
        "\n",
        "* Create a 1D array with random integers.\n",
        "* Use boolean masking to extract the elements greater than a certain threshold.\n",
        "* Replace the extracted elements with a specific value.\n",
        "\n",
        "Exercise 8: Array Broadcasting\n",
        "\n",
        "* Create a 2D array with shape (3, 3) containing consecutive numbers from 1 to 9.\n",
        "* Create a 1D array with numbers [1, 10, 100].\n",
        "* Multiply the 2D array with the 1D array using broadcasting.\n",
        "\n",
        "Exercise 9: Statistical Functions\n",
        "\n",
        "* Generate a random 2D array with shape (5, 5).\n",
        "* Calculate the mean, median, and standard deviation of the array.\n",
        "* Compute the correlation coefficient matrix for the array.\n",
        "\n",
        "Exercise 10: Linear Algebra Operations\n",
        "\n",
        "* Create a 2D array with shape (3, 3) filled with random numbers.\n",
        "* Calculate the determinant and inverse of the array.\n",
        "* Compute the dot product between the array and a 1D array.\n",
        "\n",
        "Exercise 12: Advanced Indexing\n",
        "\n",
        "* Create a 2D array with shape (5, 5) filled with random numbers.\n",
        "* Use integer array indexing to select specific rows and columns.\n",
        "* Use boolean indexing to select elements based on multiple conditions.\n",
        "\n",
        "Exercise 13: Reshaping and Transposing\n",
        "\n",
        "* Create a 1D array with numbers from 1 to 12.\n",
        "* Reshape the array into a 3x4 matrix.\n",
        "* Transpose the matrix.\n",
        "\n",
        "Exercise 14: Random Number Generation\n",
        "\n",
        "* Generate a random 1D array with 10 elements from a normal distribution.\n",
        "* Shuffle the elements of the array randomly.\n",
        "* Generate a random 2D array with shape (3, 3) from a uniform distribution."
      ]
    },
    {
      "cell_type": "markdown",
      "metadata": {},
      "source": [
        "# 🎲 20 (02)\n",
        "- ▶️[3blue1brown](https://www.youtube.com/watch?v=HEfHFsfGXjs)\n",
        "- 🔗[Random link](https://www.youtube.com/watch?v=leG0U5wzGlA)\n",
        "- 🇦🇲🎶[Soaring Band (Գիշեր)](https://www.youtube.com/watch?v=YYcPVvsq16Y)\n",
        "- 🌐🎶[Eternal Sunshine of the Spotless Mind theme (Jon Brion)](https://www.youtube.com/watch?v=ky7D73ACNw4)\n",
        "- 🤌[Կարգին](https://www.youtube.com/watch?v=dkq3yuvyeTs)"
      ]
    },
    {
      "cell_type": "markdown",
      "metadata": {},
      "source": [
        "\n",
        "<a href=\"http://s01.flagcounter.com/more/1oO\"><img src=\"https://s01.flagcounter.com/count2/1oO/bg_FFFFFF/txt_000000/border_CCCCCC/columns_2/maxflags_10/viewers_0/labels_0/pageviews_1/flags_0/percent_0/\" alt=\"Flag Counter\"></a>\n"
      ]
    }
  ],
  "metadata": {
    "colab": {
      "provenance": [],
      "toc_visible": true
    },
    "kernelspec": {
      "display_name": "thesis",
      "language": "python",
      "name": "python3"
    },
    "language_info": {
      "codemirror_mode": {
        "name": "ipython",
        "version": 3
      },
      "file_extension": ".py",
      "mimetype": "text/x-python",
      "name": "python",
      "nbconvert_exporter": "python",
      "pygments_lexer": "ipython3",
      "version": "3.10.18"
    }
  },
  "nbformat": 4,
  "nbformat_minor": 0
}

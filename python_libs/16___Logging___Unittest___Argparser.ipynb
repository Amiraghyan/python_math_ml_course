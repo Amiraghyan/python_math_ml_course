{
  "nbformat": 4,
  "nbformat_minor": 0,
  "metadata": {
    "colab": {
      "provenance": []
    },
    "kernelspec": {
      "name": "python3",
      "display_name": "Python 3"
    },
    "language_info": {
      "name": "python"
    }
  },
  "cells": [
    {
      "cell_type": "markdown",
      "source": [
        "# Logging\n",
        "Նյութեր\n",
        "1. [կարճոտ վիդյո](https://www.youtube.com/watch?v=urrfJgHwIJA)\n",
        "2. [մի քիչ ավելի խորը վիդյոյի մաս 1](https://www.youtube.com/watch?v=-ARI4Cz-awo)\n",
        "3. [մաս 2](https://www.youtube.com/watch?v=jxmzY9soFXg&t=4s)\n",
        "4. [Doc](https://docs.python.org/3/library/logging.html)"
      ],
      "metadata": {
        "id": "YY4GWWO0PIKd"
      }
    },
    {
      "cell_type": "markdown",
      "source": [
        "# https://drive.google.com/drive/folders/10WHJuog1lNxI4t9j40lhJYIh3nYvMqCq?usp=sharing\n"
      ],
      "metadata": {
        "id": "hrFKo1cy3q7W"
      }
    },
    {
      "cell_type": "markdown",
      "source": [
        "## ինչի՞ ենք հրաժեշտ անում մեր առաջին սիրեկանին  "
      ],
      "metadata": {
        "id": "t8DNvGYxQXz_"
      }
    },
    {
      "cell_type": "markdown",
      "source": [
        "1. print-ով մի անգամ աշխատացրեցինք, consoleում տպեց ու վերջ, հաջողություն, իսկ loggingով կարանք հարմար save անենք\n",
        "2. պետք չի comment out անել/ջնջել, հետո հետ բերել printերը, եթե էլ չենք ուզում մի բան տպենք, կարանք սահմամենք որ դեպքում ինչը տպվի\n",
        "3. պետք չի ձեռով գրենք երբ ենք տպել ինչ-որ բան կամ որ ֆայլիցա տպվել"
      ],
      "metadata": {
        "id": "mSYVsubhRpQr"
      }
    },
    {
      "cell_type": "markdown",
      "source": [
        "## Basic logging"
      ],
      "metadata": {
        "id": "KHWsjbjpSUbm"
      }
    },
    {
      "cell_type": "code",
      "source": [
        "import datetime\n",
        "\n",
        "print(\"starting to run the code\")\n",
        "\n",
        "def divide(x, y):\n",
        "    print(datetime.datetime.now().strftime(\"%B %d, %Y\"), f\"Run divide with {x} and {y}\")\n",
        "    if y == 0:\n",
        "        print(\"Oh no\")\n",
        "    res = x / y\n",
        "    print(f\"got {res}\")\n",
        "    return res\n",
        "\n",
        "print(\"done\")\n",
        "\n",
        "divide(11, 509)\n",
        "\n",
        "divide(11, 0)"
      ],
      "metadata": {
        "id": "h-lmpHXxSV1e"
      },
      "execution_count": null,
      "outputs": []
    },
    {
      "cell_type": "markdown",
      "source": [
        "**իսկ հիմա logging**"
      ],
      "metadata": {
        "id": "6BCb9LuKT2Cx"
      }
    },
    {
      "cell_type": "code",
      "source": [
        "import logging\n",
        "\n",
        "logging.debug('Debug message')  # Detailed information, typically of interest only when diagnosing problems.\n",
        "logging.info('Informational message')  # Confirm that things are working as expected.\n",
        "logging.warning('Warning: Something unexpected')  # An indication that something unexpected happened or may cause a problem in the future.\n",
        "logging.error('Error occurred')  # More serious problem, the software has not been able to perform a function.\n",
        "logging.critical('Critical issue: Program unable to continue')  # A very serious error, the program may be unable to continue running.\n",
        "\n",
        "# defaultով  մենակ warningից սկսածա տպելու"
      ],
      "metadata": {
        "colab": {
          "base_uri": "https://localhost:8080/"
        },
        "id": "F7ZLFMJmSwA2",
        "outputId": "8c006b86-6a5a-4012-93f6-249eadc88d89"
      },
      "execution_count": null,
      "outputs": [
        {
          "output_type": "stream",
          "name": "stderr",
          "text": [
            "WARNING:root:Warning: Something unexpected\n",
            "ERROR:root:Error occurred\n",
            "CRITICAL:root:Critical issue: Program unable to continue\n"
          ]
        }
      ]
    },
    {
      "cell_type": "code",
      "source": [
        "import datetime\n",
        "import logging\n",
        "\n",
        "logging.info(\"starting to run the code\")\n",
        "\n",
        "def divide(x, y):\n",
        "    logging.debug(datetime.datetime.now().strftime(\"%B %d, %Y\"), f\"Run divide with {x} and {y}\")\n",
        "    if y == 0:\n",
        "        logging.warning(\"Oh no\")\n",
        "    res = x / y\n",
        "    logging.debug(f\"got {res}\")\n",
        "    return res\n",
        "\n",
        "logging.info(\"done\")\n",
        "\n",
        "divide(11, 509)\n",
        "\n",
        "divide(11, 0)"
      ],
      "metadata": {
        "id": "w8KM1Dy5UBPA"
      },
      "execution_count": null,
      "outputs": []
    },
    {
      "cell_type": "markdown",
      "source": [
        "## Configuring logging"
      ],
      "metadata": {
        "id": "B35F-_nuUU0B"
      }
    },
    {
      "cell_type": "code",
      "source": [
        "import logging\n",
        "\n",
        "logging.basicConfig(level=logging.INFO)\n",
        "\n",
        "logging.debug('Debug message')  # Detailed information, typically of interest only when diagnosing problems.\n",
        "logging.info('Informational message')  # Confirm that things are working as expected.\n",
        "logging.warning('Warning: Something unexpected')  # An indication that something unexpected happened or may cause a problem in the future.\n",
        "logging.error('Error occurred')  # More serious problem, the software has not been able to perform a function.\n",
        "logging.critical('Critical issue: Program unable to continue')  # A very serious error, the program may be unable to continue running.\n"
      ],
      "metadata": {
        "colab": {
          "base_uri": "https://localhost:8080/"
        },
        "id": "15RH6wR3UADb",
        "outputId": "61f32ec1-fb73-444e-d99d-0b86b1a65505"
      },
      "execution_count": null,
      "outputs": [
        {
          "output_type": "stream",
          "name": "stderr",
          "text": [
            "WARNING:root:Warning: Something unexpected\n",
            "ERROR:root:Error occurred\n",
            "CRITICAL:root:Critical issue: Program unable to continue\n"
          ]
        }
      ]
    },
    {
      "cell_type": "code",
      "source": [
        "import logging\n",
        "\n",
        "logging.basicConfig(level=logging.DEBUG)\n",
        "logging.debug('This will get logged')\n"
      ],
      "metadata": {
        "id": "UfNi_dloUZ9_"
      },
      "execution_count": null,
      "outputs": []
    },
    {
      "cell_type": "code",
      "source": [
        "############### Basic logging ###############\n",
        "\n",
        "# import datetime\n",
        "\n",
        "# print(\"starting to run the code\")\n",
        "\n",
        "# def divide(x, y):\n",
        "#     print(datetime.datetime.now().strftime(\"%B %d, %Y\"), f\"Run divide with {x} and {y}\")\n",
        "#     if y == 0:\n",
        "#         print(\"Oh no\")\n",
        "#     res = x / y\n",
        "#     print(f\"got {res}\")\n",
        "#     return res\n",
        "\n",
        "# print(\"done\")\n",
        "\n",
        "# divide(11, 509)\n",
        "\n",
        "# divide(11, 0)\n",
        "\n",
        "\n",
        "\n",
        "\n",
        "############### իսկ հիմա logging ###############\n",
        "\n",
        "# import datetime\n",
        "# import logging\n",
        "\n",
        "# logging.info(\"starting to run the code\")\n",
        "\n",
        "# def divide(x, y):\n",
        "#     logging.debug(datetime.datetime.now().strftime(\"%B %d, %Y\"), f\"Run divide with {x} and {y}\")\n",
        "#     if y == 0:\n",
        "#         logging.warning(\"Oh no\")\n",
        "#     res = x / y\n",
        "#     logging.debug(f\"got {res}\")\n",
        "#     return res\n",
        "\n",
        "# logging.info(\"done\")\n",
        "\n",
        "# divide(11, 509)\n",
        "\n",
        "# divide(11, 0)\n",
        "\n",
        "\n",
        "\n",
        "\n",
        "\n",
        "\n",
        "\n",
        "\n",
        "############### Configuring logging ###############\n",
        "\n",
        "### level\n",
        "\n",
        "# import logging\n",
        "\n",
        "# logging.basicConfig(level=logging.INFO)\n",
        "\n",
        "# logging.debug('Debug message')  # Detailed information, typically of interest only when diagnosing problems.\n",
        "# logging.info('Informational message')  # Confirm that things are working as expected.\n",
        "# logging.warning('Warning: Something unexpected')  # An indication that something unexpected happened or may cause a problem in the future.\n",
        "# logging.error('Error occurred')  # More serious problem, the software has not been able to perform a function.\n",
        "# logging.critical('Critical issue: Program unable to continue')  # A very serious error, the program may be unable to continue running.\n",
        "\n",
        "\n",
        "\n",
        "\n",
        "\n",
        "\n",
        "############### փոփոխված տարբերակը կոդի ###############\n",
        "# import datetime\n",
        "# import logging\n",
        "\n",
        "# logging.info(\"starting to run the code\")\n",
        "\n",
        "# def divide(x, y):\n",
        "#     logging.debug(datetime.datetime.now().strftime(\"%B %d, %Y\"), f\"Run divide with {x} and {y}\")\n",
        "#     if y == 0:\n",
        "#         logging.warning(\"Oh no\")\n",
        "#     res = x / y\n",
        "#     logging.debug(f\"got {res}\")\n",
        "#     return res\n",
        "\n",
        "# logging.info(\"done\")\n",
        "\n",
        "# divide(11, 509)\n",
        "\n",
        "# divide(11, 0)\n",
        "\n",
        "\n",
        "\n",
        "\n",
        "############### ավելի շատ customization ###############\n",
        "# import logging\n",
        "\n",
        "# format (https://docs.python.org/3/library/logging.html#logrecord-attributes)\n",
        "# logging.basicConfig(level=logging.INFO, format='%(asctime)s - %(name)s - %(levelname)s - %(message)s')\n",
        "\n",
        "# datefmt\n",
        "# logging.basicConfig(level=logging.INFO, format='%(asctime)s - %(name)s - %(levelname)s - %(message)s',\n",
        "#                     datefmt='%m/%d/%Y %H:%M:%S')\n",
        "\n",
        "# filename\n",
        "# logging.basicConfig(level=logging.INFO, format='%(asctime)s - %(name)s - %(levelname)s - %(message)s',\n",
        "#                     datefmt='%m/%d/%Y %H:%M:%S', filename='app.log')\n",
        "\n",
        "# filemode\n",
        "# logging.basicConfig(level=logging.INFO, format='%(asctime)s - %(name)s - %(levelname)s - %(message)s',\n",
        "#                     datefmt='%m/%d/%Y %H:%M:%S', filename='app.log', filemode='w')\n",
        "\n",
        "# logging.info(\"starting to run the code\")\n",
        "\n",
        "\n",
        "############### ավելի շատ customization ###############\n",
        "# errors\n",
        "# import logging\n",
        "\n",
        "# logging.basicConfig(level=logging.INFO, format='%(asctime)s - %(name)s - %(levelname)s - %(message)s',\n",
        "#                     datefmt='%m/%d/%Y %H:%M:%S', filename='app.log', filemode='a')\n",
        "\n",
        "# logging.info(\"starting to run the code\")\n",
        "\n",
        "# def divide(x, y):\n",
        "#     try:\n",
        "#         res = x / y\n",
        "#     except ZeroDivisionError as e:\n",
        "#         logging.error(e) # , exc_info=True)\n",
        "#         # logging.exception(\"Oh no\")\n",
        "#         return None\n",
        "#     return res\n",
        "\n",
        "# divide(11, 509)\n",
        "# divide(11, 0)\n",
        "\n",
        "\n",
        "\n",
        "\n",
        "\n",
        "\n",
        "############### մի քանի հատ logger ###############\n",
        "# import logging\n",
        "\n",
        "# logging.basicConfig(level=logging.INFO, format='%(asctime)s - %(name)s - %(levelname)s - %(message)s',\n",
        "#                     datefmt='%m/%d/%Y %H:%M:%S', filename='divide.log', filemode='a')\n",
        "\n",
        "# def divide(x, y):\n",
        "#     logging.info(f\"Run divide with {x} and {y}\")\n",
        "#     try:\n",
        "#         res = x / y\n",
        "#     except ZeroDivisionError as e:\n",
        "#         logging.error(e, exc_info=True)\n",
        "#         return None\n",
        "#     return res\n",
        "\n",
        "# divide(11, 509)\n",
        "# divide(11, 0)\n",
        "\n",
        "\n",
        "# logging.basicConfig(level=logging.INFO, format='%(asctime)s - %(name)s - %(levelname)s - %(message)s',\n",
        "#                     datefmt='%m/%d/%Y %H:%M:%S', filename='multiply.log', filemode='a')\n",
        "\n",
        "# def multiple(x, y):\n",
        "#     logging.info(f\"Run multiple with {x} and {y}\")\n",
        "#     res = x * y\n",
        "#     return res\n",
        "\n",
        "# multiple(3, 4)\n",
        "# multiple(1, 0)\n",
        "\n",
        "# Սա նրանից որ basicConfigը մի անգամ աշխատումա ու հետո էլ չի փոփոխվում\n",
        "\n",
        "\n",
        "\n",
        "\n",
        "############### մի քանի հատ logger ###############\n",
        "# import logging\n",
        "\n",
        "# divide_logger = logging.getLogger('divide_logger')\n",
        "# # set level\n",
        "# divide_logger.setLevel(logging.WARNING)\n",
        "\n",
        "# # Create a file handler\n",
        "# divide_handler = logging.FileHandler('divide.log', mode='w')\n",
        "# divide_logger.addHandler(divide_handler)\n",
        "\n",
        "# # Create a logging format\n",
        "# formatter = logging.Formatter('%(asctime)s - %(name)s - %(levelname)s - %(message)s',\n",
        "#                               datefmt='%m/%d/%Y %H:%M:%S')\n",
        "# divide_handler.setFormatter(formatter)\n",
        "\n",
        "\n",
        "# def divide(x, y):\n",
        "#     divide_logger.info(f\"Run divide with {x} and {y}\")\n",
        "#     try:\n",
        "#         res = x / y\n",
        "#     except ZeroDivisionError as e:\n",
        "#         divide_logger.error(e, exc_info=True)\n",
        "#         return None\n",
        "#     return res\n",
        "\n",
        "# divide(11, 509)\n",
        "# divide(11, 0)\n",
        "\n",
        "# # Create a custom logger for multiply\n",
        "# multiply_logger = logging.getLogger('multiply_logger')\n",
        "\n",
        "# multiply_logger.setLevel(logging.INFO)\n",
        "\n",
        "# # # Create a file handler\n",
        "# multiply_handler = logging.FileHandler('multiply.log')\n",
        "# multiply_logger.addHandler(multiply_handler)\n",
        "\n",
        "\n",
        "# # No need to create a new formatter, we will use the previous one\n",
        "# multiply_handler.setFormatter(formatter)\n",
        "\n",
        "# def multiply(x, y):\n",
        "#     multiply_logger.info(f\"Run multiply with {x} and {y}\")\n",
        "#     res = x * y\n",
        "#     return res\n",
        "\n",
        "# multiply(3, 4)\n",
        "# multiply(1, 0)\n",
        "\n",
        "\n",
        "# երբ աշխատում ենք մի քանի ֆայլի հետ ընդունվածա loggerի անունը դնել __name__ որպեսզի երբ իրան\n",
        "# աշխատացնենք հենց նույն ֆայլից անունը լինի main, իսկ երբ դրսից կանչած ֆայլի լոգերը լինի գրվի հենց ֆայլի անունը\n",
        "\n",
        "\n",
        "\n",
        "\n",
        "\n",
        "\n",
        "\n",
        "\n",
        "######### բա ոնց անենք որ console ում էլ տպի ############\n",
        "import logging\n",
        "\n",
        "divide_logger = logging.getLogger('divide_logger')\n",
        "# set level\n",
        "divide_logger.setLevel(logging.WARNING)\n",
        "\n",
        "# Create a file handler\n",
        "divide_handler = logging.FileHandler('divide.log', mode='w')\n",
        "divide_logger.addHandler(divide_handler)\n",
        "\n",
        "# Create a logging format\n",
        "formatter = logging.Formatter('%(asctime)s - %(name)s - %(levelname)s - %(message)s',\n",
        "                              datefmt='%m/%d/%Y %H:%M:%S')\n",
        "divide_handler.setFormatter(formatter)\n",
        "\n",
        "# Create a console handler\n",
        "console_handler = logging.StreamHandler()\n",
        "console_handler.setFormatter(formatter)\n",
        "divide_logger.addHandler(console_handler)\n",
        "\n",
        "def divide(x, y):\n",
        "    divide_logger.info(f\"Run divide with {x} and {y}\")\n",
        "    try:\n",
        "        res = x / y\n",
        "    except ZeroDivisionError as e:\n",
        "        divide_logger.error(e, exc_info=True)\n",
        "        return None\n",
        "    return res\n",
        "\n",
        "divide(11, 509)\n",
        "divide(11, 0)\n"
      ],
      "metadata": {
        "id": "ZkVTpQtJUhqf"
      },
      "execution_count": null,
      "outputs": []
    }
  ]
}
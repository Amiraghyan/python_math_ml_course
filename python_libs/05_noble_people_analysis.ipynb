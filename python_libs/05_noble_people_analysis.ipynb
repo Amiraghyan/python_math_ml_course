{
 "cells": [
  {
   "cell_type": "raw",
   "id": "0cf1795f",
   "metadata": {},
   "source": [
    "---\n",
    "title: \"05 Noble People Analysis\"\n",
    "lightbox: true\n",
    "format: \n",
    "  html:\n",
    "    code-fold: false\n",
    "number-offset: 1\n",
    "---"
   ]
  },
  {
   "cell_type": "markdown",
   "id": "67329d04",
   "metadata": {},
   "source": [
    "![image.png](../background_photos/libs_xx_bird_in_a_circel.jpg)\n",
    "Աշտարակ, [լուսանկարի հղումը](https://unsplash.com/photos/4FEc5Hzf6E4), Հեղինակ՝ [Anna Grigoryan](https://unsplash.com/@yavin4)\n"
   ]
  },
  {
   "cell_type": "markdown",
   "id": "dd01e424",
   "metadata": {
    "vscode": {
     "languageId": "raw"
    }
   },
   "source": [
    "# 📌 Նկարագիր (ToDO)\n",
    "\n",
    "[📚 Ամբողջական նյութը](05_noble_people_analysis.ipynb)\n"
   ]
  },
  {
   "cell_type": "markdown",
   "id": "d81b5a97",
   "metadata": {},
   "source": [
    "# 🛠️ Գործնական\n"
   ]
  },
  {
   "cell_type": "markdown",
   "id": "b2608c29",
   "metadata": {},
   "source": [
    "\n",
    "- [Dataset](https://www.kaggle.com/datasets/imoore/age-dataset)\n",
    "- [ավելի ծավալուն դատայի հիմքով շատ հավես app](https://tjukanovt.github.io/notable-people)"
   ]
  },
  {
   "cell_type": "code",
   "execution_count": null,
   "id": "aa96f1e6",
   "metadata": {},
   "outputs": [
    {
     "name": "stdout",
     "output_type": "stream",
     "text": [
      "Collecting uv\n",
      "  Using cached uv-0.7.19-py3-none-win_amd64.whl.metadata (12 kB)\n",
      "Using cached uv-0.7.19-py3-none-win_amd64.whl (19.3 MB)\n",
      "Installing collected packages: uv\n",
      "Successfully installed uv-0.7.19\n"
     ]
    }
   ],
   "source": [
    "!pip install uv"
   ]
  },
  {
   "cell_type": "code",
   "execution_count": null,
   "id": "2adf2357",
   "metadata": {},
   "outputs": [
    {
     "name": "stderr",
     "output_type": "stream",
     "text": [
      "\u001b[2mUsing Python 3.10.18 environment at: C:\\Users\\hayk_\\.conda\\envs\\lectures\u001b[0m\n",
      "\u001b[2mResolved \u001b[1m16 packages\u001b[0m \u001b[2min 922ms\u001b[0m\u001b[0m\n",
      "\u001b[2mPrepared \u001b[1m1 package\u001b[0m \u001b[2min 194ms\u001b[0m\u001b[0m\n",
      "\u001b[2mInstalled \u001b[1m1 package\u001b[0m \u001b[2min 40ms\u001b[0m\u001b[0m\n",
      " \u001b[32m+\u001b[39m \u001b[1mkagglehub\u001b[0m\u001b[2m==0.3.12\u001b[0m\n"
     ]
    }
   ],
   "source": [
    "!uv pip install kagglehub[pandas-datasets]\n"
   ]
  },
  {
   "cell_type": "code",
   "execution_count": null,
   "id": "bb9e9de5",
   "metadata": {},
   "outputs": [
    {
     "name": "stdout",
     "output_type": "stream",
     "text": [
      "Path to dataset files: C:\\Users\\hayk_\\.cache\\kagglehub\\datasets\\imoore\\age-dataset\\versions\\1\n"
     ]
    }
   ],
   "source": [
    "import kagglehub\n",
    "\n",
    "# Download latest version\n",
    "path = kagglehub.dataset_download(\"imoore/age-dataset\")\n",
    "\n",
    "print(\"Path to dataset files:\", path)"
   ]
  },
  {
   "cell_type": "code",
   "execution_count": null,
   "id": "23838176",
   "metadata": {},
   "outputs": [
    {
     "data": {
      "application/vnd.microsoft.datawrangler.viewer.v0+json": {
       "columns": [
        {
         "name": "index",
         "rawType": "int64",
         "type": "integer"
        },
        {
         "name": "Id",
         "rawType": "object",
         "type": "string"
        },
        {
         "name": "Name",
         "rawType": "object",
         "type": "string"
        },
        {
         "name": "Short description",
         "rawType": "object",
         "type": "string"
        },
        {
         "name": "Gender",
         "rawType": "object",
         "type": "string"
        },
        {
         "name": "Country",
         "rawType": "object",
         "type": "string"
        },
        {
         "name": "Occupation",
         "rawType": "object",
         "type": "string"
        },
        {
         "name": "Birth year",
         "rawType": "int64",
         "type": "integer"
        },
        {
         "name": "Death year",
         "rawType": "float64",
         "type": "float"
        },
        {
         "name": "Manner of death",
         "rawType": "object",
         "type": "unknown"
        },
        {
         "name": "Age of death",
         "rawType": "float64",
         "type": "float"
        }
       ],
       "ref": "233e85dc-ab77-4cb4-ac00-d35ac7a265ac",
       "rows": [
        [
         "0",
         "Q23",
         "George Washington",
         "1st president of the United States (1732–1799)",
         "Male",
         "United States of America; Kingdom of Great Britain",
         "Politician",
         "1732",
         "1799.0",
         "natural causes",
         "67.0"
        ],
        [
         "1",
         "Q42",
         "Douglas Adams",
         "English writer and humorist",
         "Male",
         "United Kingdom",
         "Artist",
         "1952",
         "2001.0",
         "natural causes",
         "49.0"
        ],
        [
         "2",
         "Q91",
         "Abraham Lincoln",
         "16th president of the United States (1809-1865)",
         "Male",
         "United States of America",
         "Politician",
         "1809",
         "1865.0",
         "homicide",
         "56.0"
        ],
        [
         "3",
         "Q254",
         "Wolfgang Amadeus Mozart",
         "Austrian composer of the Classical period",
         "Male",
         "Archduchy of Austria; Archbishopric of Salzburg",
         "Artist",
         "1756",
         "1791.0",
         null,
         "35.0"
        ],
        [
         "4",
         "Q255",
         "Ludwig van Beethoven",
         "German classical and romantic composer",
         "Male",
         "Holy Roman Empire; Austrian Empire",
         "Artist",
         "1770",
         "1827.0",
         null,
         "57.0"
        ]
       ],
       "shape": {
        "columns": 10,
        "rows": 5
       }
      },
      "text/html": [
       "<div>\n",
       "<style scoped>\n",
       "    .dataframe tbody tr th:only-of-type {\n",
       "        vertical-align: middle;\n",
       "    }\n",
       "\n",
       "    .dataframe tbody tr th {\n",
       "        vertical-align: top;\n",
       "    }\n",
       "\n",
       "    .dataframe thead th {\n",
       "        text-align: right;\n",
       "    }\n",
       "</style>\n",
       "<table border=\"1\" class=\"dataframe\">\n",
       "  <thead>\n",
       "    <tr style=\"text-align: right;\">\n",
       "      <th></th>\n",
       "      <th>Id</th>\n",
       "      <th>Name</th>\n",
       "      <th>Short description</th>\n",
       "      <th>Gender</th>\n",
       "      <th>Country</th>\n",
       "      <th>Occupation</th>\n",
       "      <th>Birth year</th>\n",
       "      <th>Death year</th>\n",
       "      <th>Manner of death</th>\n",
       "      <th>Age of death</th>\n",
       "    </tr>\n",
       "  </thead>\n",
       "  <tbody>\n",
       "    <tr>\n",
       "      <th>0</th>\n",
       "      <td>Q23</td>\n",
       "      <td>George Washington</td>\n",
       "      <td>1st president of the United States (1732–1799)</td>\n",
       "      <td>Male</td>\n",
       "      <td>United States of America; Kingdom of Great Bri...</td>\n",
       "      <td>Politician</td>\n",
       "      <td>1732</td>\n",
       "      <td>1799.0</td>\n",
       "      <td>natural causes</td>\n",
       "      <td>67.0</td>\n",
       "    </tr>\n",
       "    <tr>\n",
       "      <th>1</th>\n",
       "      <td>Q42</td>\n",
       "      <td>Douglas Adams</td>\n",
       "      <td>English writer and humorist</td>\n",
       "      <td>Male</td>\n",
       "      <td>United Kingdom</td>\n",
       "      <td>Artist</td>\n",
       "      <td>1952</td>\n",
       "      <td>2001.0</td>\n",
       "      <td>natural causes</td>\n",
       "      <td>49.0</td>\n",
       "    </tr>\n",
       "    <tr>\n",
       "      <th>2</th>\n",
       "      <td>Q91</td>\n",
       "      <td>Abraham Lincoln</td>\n",
       "      <td>16th president of the United States (1809-1865)</td>\n",
       "      <td>Male</td>\n",
       "      <td>United States of America</td>\n",
       "      <td>Politician</td>\n",
       "      <td>1809</td>\n",
       "      <td>1865.0</td>\n",
       "      <td>homicide</td>\n",
       "      <td>56.0</td>\n",
       "    </tr>\n",
       "    <tr>\n",
       "      <th>3</th>\n",
       "      <td>Q254</td>\n",
       "      <td>Wolfgang Amadeus Mozart</td>\n",
       "      <td>Austrian composer of the Classical period</td>\n",
       "      <td>Male</td>\n",
       "      <td>Archduchy of Austria; Archbishopric of Salzburg</td>\n",
       "      <td>Artist</td>\n",
       "      <td>1756</td>\n",
       "      <td>1791.0</td>\n",
       "      <td>NaN</td>\n",
       "      <td>35.0</td>\n",
       "    </tr>\n",
       "    <tr>\n",
       "      <th>4</th>\n",
       "      <td>Q255</td>\n",
       "      <td>Ludwig van Beethoven</td>\n",
       "      <td>German classical and romantic composer</td>\n",
       "      <td>Male</td>\n",
       "      <td>Holy Roman Empire; Austrian Empire</td>\n",
       "      <td>Artist</td>\n",
       "      <td>1770</td>\n",
       "      <td>1827.0</td>\n",
       "      <td>NaN</td>\n",
       "      <td>57.0</td>\n",
       "    </tr>\n",
       "  </tbody>\n",
       "</table>\n",
       "</div>"
      ],
      "text/plain": [
       "     Id                     Name  \\\n",
       "0   Q23        George Washington   \n",
       "1   Q42            Douglas Adams   \n",
       "2   Q91          Abraham Lincoln   \n",
       "3  Q254  Wolfgang Amadeus Mozart   \n",
       "4  Q255     Ludwig van Beethoven   \n",
       "\n",
       "                                 Short description Gender  \\\n",
       "0   1st president of the United States (1732–1799)   Male   \n",
       "1                      English writer and humorist   Male   \n",
       "2  16th president of the United States (1809-1865)   Male   \n",
       "3        Austrian composer of the Classical period   Male   \n",
       "4           German classical and romantic composer   Male   \n",
       "\n",
       "                                             Country  Occupation  Birth year  \\\n",
       "0  United States of America; Kingdom of Great Bri...  Politician        1732   \n",
       "1                                     United Kingdom      Artist        1952   \n",
       "2                           United States of America  Politician        1809   \n",
       "3    Archduchy of Austria; Archbishopric of Salzburg      Artist        1756   \n",
       "4                 Holy Roman Empire; Austrian Empire      Artist        1770   \n",
       "\n",
       "   Death year Manner of death  Age of death  \n",
       "0      1799.0  natural causes          67.0  \n",
       "1      2001.0  natural causes          49.0  \n",
       "2      1865.0        homicide          56.0  \n",
       "3      1791.0             NaN          35.0  \n",
       "4      1827.0             NaN          57.0  "
      ]
     },
     "metadata": {},
     "output_type": "display_data"
    }
   ],
   "source": [
    "import os \n",
    "\n",
    "print(os.listdir(path))\n",
    "\n",
    "path_csv = os.path.join(path, \"AgeDataset-V1.csv\") # Pathlib is better\n"
   ]
  },
  {
   "cell_type": "code",
   "execution_count": null,
   "id": "b6eae2e7",
   "metadata": {},
   "outputs": [],
   "source": [
    "import pandas as pd\n",
    "\n",
    "df = pd.read_csv(path_csv)\n",
    "df.head()"
   ]
  },
  {
   "cell_type": "code",
   "execution_count": null,
   "id": "dfc95704",
   "metadata": {},
   "outputs": [],
   "source": [
    "from pathlib import Path\n",
    "\n",
    "new_path = Path(\"assets/people.csv\")\n",
    "\n",
    "df.to_csv(new_path, index=False)"
   ]
  },
  {
   "cell_type": "markdown",
   "id": "bc6b672e",
   "metadata": {},
   "source": [
    "### Basic EDA (Exploratory Data Analysis)"
   ]
  },
  {
   "cell_type": "code",
   "execution_count": null,
   "id": "0c234220",
   "metadata": {},
   "outputs": [
    {
     "data": {
      "application/vnd.microsoft.datawrangler.viewer.v0+json": {
       "columns": [
        {
         "name": "index",
         "rawType": "int64",
         "type": "integer"
        },
        {
         "name": "Id",
         "rawType": "object",
         "type": "string"
        },
        {
         "name": "Name",
         "rawType": "object",
         "type": "string"
        },
        {
         "name": "Short description",
         "rawType": "object",
         "type": "unknown"
        },
        {
         "name": "Gender",
         "rawType": "object",
         "type": "unknown"
        },
        {
         "name": "Country",
         "rawType": "object",
         "type": "unknown"
        },
        {
         "name": "Occupation",
         "rawType": "object",
         "type": "unknown"
        },
        {
         "name": "Birth year",
         "rawType": "int64",
         "type": "integer"
        },
        {
         "name": "Death year",
         "rawType": "float64",
         "type": "float"
        },
        {
         "name": "Manner of death",
         "rawType": "object",
         "type": "unknown"
        },
        {
         "name": "Age of death",
         "rawType": "float64",
         "type": "float"
        }
       ],
       "ref": "de818ba9-fb18-48d1-8dcd-62ddd389cbfc",
       "rows": [
        [
         "0",
         "Q23",
         "George Washington",
         "1st president of the United States (1732–1799)",
         "Male",
         "United States of America; Kingdom of Great Britain",
         "Politician",
         "1732",
         "1799.0",
         "natural causes",
         "67.0"
        ],
        [
         "1",
         "Q42",
         "Douglas Adams",
         "English writer and humorist",
         "Male",
         "United Kingdom",
         "Artist",
         "1952",
         "2001.0",
         "natural causes",
         "49.0"
        ],
        [
         "2",
         "Q91",
         "Abraham Lincoln",
         "16th president of the United States (1809-1865)",
         "Male",
         "United States of America",
         "Politician",
         "1809",
         "1865.0",
         "homicide",
         "56.0"
        ],
        [
         "3",
         "Q254",
         "Wolfgang Amadeus Mozart",
         "Austrian composer of the Classical period",
         "Male",
         "Archduchy of Austria; Archbishopric of Salzburg",
         "Artist",
         "1756",
         "1791.0",
         null,
         "35.0"
        ],
        [
         "4",
         "Q255",
         "Ludwig van Beethoven",
         "German classical and romantic composer",
         "Male",
         "Holy Roman Empire; Austrian Empire",
         "Artist",
         "1770",
         "1827.0",
         null,
         "57.0"
        ],
        [
         "5",
         "Q260",
         "Jean-François Champollion",
         "French classical scholar",
         "Male",
         "Kingdom of France; First French Empire",
         "Egyptologist",
         "1790",
         "1832.0",
         "natural causes",
         "42.0"
        ],
        [
         "6",
         "Q272",
         "Paul Morand",
         "French writer",
         "Male",
         "France",
         "Artist",
         "1888",
         "1976.0",
         null,
         "88.0"
        ],
        [
         "7",
         "Q296",
         "Claude Monet",
         "French impressionist painter (1840-1926)",
         "Male",
         "France",
         "Artist",
         "1840",
         "1926.0",
         "natural causes",
         "86.0"
        ],
        [
         "8",
         "Q297",
         "Diego Velázquez",
         "Spanish painter (1599-1660)",
         "Male",
         "Spain",
         "Artist",
         "1599",
         "1660.0",
         null,
         "61.0"
        ],
        [
         "9",
         "Q301",
         "El Greco",
         "Greek painter, sculptor and architect",
         "Male",
         "Spain; Republic of Venice",
         "Artist",
         "1541",
         "1614.0",
         null,
         "73.0"
        ],
        [
         "10",
         "Q303",
         "Elvis Presley",
         "American singer and actor (1935–1977)",
         "Male",
         "United States of America",
         "Artist",
         "1935",
         "1977.0",
         "natural causes",
         "42.0"
        ],
        [
         "11",
         "Q307",
         "Galileo Galilei",
         "Italian mathematician, physicist, philosopher and astronomer",
         "Male",
         "Grand Duchy of Tuscany; Duchy of Florence",
         "Astronomer",
         "1564",
         "1642.0",
         null,
         "78.0"
        ],
        [
         "12",
         "Q335",
         "Patricio Aylwin",
         "Chilean politician and former president (1918-2016)",
         "Male",
         "Chile",
         "Politician",
         "1918",
         "2016.0",
         null,
         "98.0"
        ],
        [
         "13",
         "Q346",
         "Louis IX of France",
         "king of France",
         "Male",
         "France",
         "Ruler",
         "1214",
         "1270.0",
         "natural causes",
         "56.0"
        ],
        [
         "14",
         "Q352",
         "Adolf Hitler",
         "Austrian-born German politician, chancellor and Führer of Germany, leader of the Nazi Party (1889-1945)",
         "Male",
         "Nazi Germany; Austria-Hungary; Weimar Republic; Republic of German-Austria; First Republic of Austria",
         "Statesperson",
         "1889",
         "1945.0",
         "suicide",
         "56.0"
        ],
        [
         "15",
         "Q353",
         "Blanche of Castile",
         "Spanish princess and saint, queen consort of France",
         "Female",
         "Kingdom of Castile",
         "Regent",
         "1188",
         "1252.0",
         null,
         "64.0"
        ],
        [
         "16",
         "Q354",
         "Piet Kraak",
         "Dutch footballer (1921-1984)",
         "Male",
         "Kingdom of the Netherlands",
         "Athlete",
         "1921",
         "1984.0",
         null,
         "63.0"
        ],
        [
         "17",
         "Q368",
         "Augusto Pinochet",
         "General, politician of Chile (1915-2006)",
         "Male",
         "Chile",
         "Politician",
         "1915",
         "2006.0",
         "natural causes",
         "91.0"
        ],
        [
         "18",
         "Q377",
         "Yanka Kupala",
         "Belarusian writer (1882-1942)",
         "Male",
         "Byelorussian Soviet Socialist Republic; Russian Empire; Belarusian People's Republic",
         "Artist",
         "1882",
         "1942.0",
         null,
         "60.0"
        ],
        [
         "19",
         "Q379",
         "František Plánička",
         "Czech association football player (1904-1996)",
         "Male",
         "Czech Republic; Czechoslovakia",
         "Athlete",
         "1904",
         "1996.0",
         null,
         "92.0"
        ],
        [
         "20",
         "Q407",
         "Linda Lovelace",
         "American pornographic actress, later anti-porn activist",
         "Female",
         "United States of America",
         "Artist",
         "1949",
         "2002.0",
         "accident",
         "53.0"
        ],
        [
         "21",
         "Q409",
         "Bob Marley",
         "Jamaican singer, songwriter and musician",
         "Male",
         "Jamaica",
         "Artist",
         "1945",
         "1981.0",
         "natural causes",
         "36.0"
        ],
        [
         "22",
         "Q410",
         "Carl Sagan",
         "American astrophysicist, cosmologist, author and science educator",
         "Male",
         "United States of America",
         "Researcher",
         "1934",
         "1996.0",
         "natural causes",
         "62.0"
        ],
        [
         "23",
         "Q440",
         "Salvador Allende",
         "28th president of Chile (1908–1973)",
         "Male",
         "Chile",
         "Politician",
         "1908",
         "1973.0",
         "suicide",
         "65.0"
        ],
        [
         "24",
         "Q448",
         "Denis Diderot",
         "French Enlightenment philosopher and encyclopædist",
         "Male",
         "France; Kingdom of France",
         "Researcher",
         "1713",
         "1784.0",
         null,
         "71.0"
        ],
        [
         "25",
         "Q449",
         "Georges Brassens",
         "French singer-songwriter and poet",
         "Male",
         "France",
         "Artist",
         "1921",
         "1981.0",
         "natural causes",
         "60.0"
        ],
        [
         "26",
         "Q464",
         "Philipp Ludwig von Seidel",
         "German mathematician",
         "Male",
         "German Empire; German Confederation",
         "Researcher",
         "1821",
         "1896.0",
         null,
         "75.0"
        ],
        [
         "27",
         "Q475",
         "Eduardo Frei Montalva",
         "President of Chile (1911-1982)",
         "Male",
         "Chile",
         "Politician",
         "1911",
         "1982.0",
         "homicide",
         "71.0"
        ],
        [
         "28",
         "Q493",
         "Arthur Rimbaud",
         "19th century French poet who influenced modern literature and arts, and prefigured surrealism",
         "Male",
         "France; French Third Republic; Second French Empire",
         "Artist",
         "1854",
         "1891.0",
         "natural causes",
         "37.0"
        ],
        [
         "29",
         "Q498",
         "Ulrich Frédéric Woldemar, Comte de Lowendal",
         "German-born French soldier and statesmen (1700-1755)",
         "Male",
         "Denmark; Russian Empire; Kingdom of France; Electorate of Saxony",
         "Politician",
         "1700",
         "1755.0",
         null,
         "55.0"
        ],
        [
         "30",
         "Q501",
         "Charles Baudelaire",
         "French poet, essayist and art critic (1821-1867)",
         "Male",
         "France",
         "Artist",
         "1821",
         "1867.0",
         "natural causes",
         "46.0"
        ],
        [
         "31",
         "Q502",
         "Stendhal",
         "19th century French writer",
         "Male",
         "France",
         "Artist",
         "1783",
         "1842.0",
         "natural causes",
         "59.0"
        ],
        [
         "32",
         "Q504",
         "Émile Zola",
         "French writer",
         "Male",
         "France",
         "Artist",
         "1840",
         "1902.0",
         "accident",
         "62.0"
        ],
        [
         "33",
         "Q512",
         "Vladimir Vysotsky",
         "Soviet singer, songwriter, poet and actor",
         "Male",
         "Soviet Union",
         "Artist",
         "1938",
         "1980.0",
         "natural causes",
         "42.0"
        ],
        [
         "34",
         "Q517",
         "Napoleon",
         "French general and emperor (1769-1821)",
         "Male",
         "France",
         "Politician",
         "1769",
         "1821.0",
         "natural causes",
         "52.0"
        ],
        [
         "35",
         "Q529",
         "Louis Pasteur",
         "French chemist and microbiologist",
         "Male",
         "France",
         "Researcher",
         "1822",
         "1895.0",
         "natural causes",
         "73.0"
        ],
        [
         "36",
         "Q535",
         "Victor Hugo",
         "French poet, novelist, and dramatist (1802-1885)",
         "Male",
         "France",
         "Artist",
         "1802",
         "1885.0",
         null,
         "83.0"
        ],
        [
         "37",
         "Q539",
         "Giuseppe Garibaldi",
         "Italian general, patriot and republican (1807-1882)",
         "Male",
         "French Third Republic; First French Empire; Riograndense Republic; Kingdom of Sardinia; Kingdom of Italy",
         "Artist",
         "1807",
         "1882.0",
         "natural causes",
         "75.0"
        ],
        [
         "38",
         "Q559",
         "Claude Bourgelat",
         "French veterinary surgeon",
         "Male",
         "Kingdom of France",
         "Artist",
         "1712",
         "1779.0",
         null,
         "67.0"
        ],
        [
         "39",
         "Q562",
         "Pierre Poivre",
         "French horticulturalist (1719-1786)",
         "Male",
         "Kingdom of France",
         "Researcher",
         "1719",
         "1786.0",
         null,
         "67.0"
        ],
        [
         "40",
         "Q576",
         "Jorge Alessandri",
         "Chilean politician and President (1896-1986)",
         "Male",
         "Chile",
         "Politician",
         "1896",
         "1986.0",
         null,
         "90.0"
        ],
        [
         "41",
         "Q579",
         "Carlos Ibáñez del Campo",
         "Chilean army officer and political figure (1877-1960)",
         "Male",
         "Chile",
         "Politician",
         "1877",
         "1960.0",
         null,
         "83.0"
        ],
        [
         "42",
         "Q590",
         "Luís de Camões",
         "Portuguese poet",
         "Male",
         null,
         "Artist",
         "1524",
         "1580.0",
         null,
         "56.0"
        ],
        [
         "43",
         "Q619",
         "Nicolaus Copernicus",
         "Renaissance-era mathematician, astronomer, and clergyman who formulated the heliocentric model of the Universe",
         "Male",
         "Kingdom of Poland",
         "Researcher",
         "1473",
         "1543.0",
         "natural causes",
         "70.0"
        ],
        [
         "44",
         "Q632",
         "Jean Moulin",
         "French resistance fighter and civil servant",
         "Male",
         "France",
         "Official; french resistance fighter",
         "1899",
         "1943.0",
         "homicide",
         "44.0"
        ],
        [
         "45",
         "Q635",
         "Cleopatra",
         "last active pharaoh of Ptolemaic Egypt",
         "Female",
         "Ancient Egypt",
         "Sovereign",
         "-69",
         "-30.0",
         "suicide",
         "39.0"
        ],
        [
         "46",
         "Q651",
         "Friedrich Theodor Vischer",
         "German philosopher, writer and politician (1807-1887)",
         "Male",
         "Germany",
         "Researcher",
         "1807",
         "1887.0",
         null,
         "80.0"
        ],
        [
         "47",
         "Q675",
         "André-Marie Ampère",
         "French physicist and mathematician",
         "Male",
         "France",
         "Researcher",
         "1775",
         "1836.0",
         null,
         "61.0"
        ],
        [
         "48",
         "Q680",
         "Alessandro Volta",
         "Italian physicist, chemist, and pioneer of electricity and power",
         "Male",
         "Duchy of Milan; Kingdom of Lombardy–Venetia; Cisalpine Republic; Kingdom of Italy",
         "Researcher",
         "1745",
         "1827.0",
         null,
         "82.0"
        ],
        [
         "49",
         "Q687",
         "Molière",
         "French playwright and actor",
         "Male",
         "Kingdom of France",
         "Artist",
         "1622",
         "1673.0",
         "natural causes",
         "51.0"
        ]
       ],
       "shape": {
        "columns": 10,
        "rows": 1223009
       }
      },
      "text/html": [
       "<div>\n",
       "<style scoped>\n",
       "    .dataframe tbody tr th:only-of-type {\n",
       "        vertical-align: middle;\n",
       "    }\n",
       "\n",
       "    .dataframe tbody tr th {\n",
       "        vertical-align: top;\n",
       "    }\n",
       "\n",
       "    .dataframe thead th {\n",
       "        text-align: right;\n",
       "    }\n",
       "</style>\n",
       "<table border=\"1\" class=\"dataframe\">\n",
       "  <thead>\n",
       "    <tr style=\"text-align: right;\">\n",
       "      <th></th>\n",
       "      <th>Id</th>\n",
       "      <th>Name</th>\n",
       "      <th>Short description</th>\n",
       "      <th>Gender</th>\n",
       "      <th>Country</th>\n",
       "      <th>Occupation</th>\n",
       "      <th>Birth year</th>\n",
       "      <th>Death year</th>\n",
       "      <th>Manner of death</th>\n",
       "      <th>Age of death</th>\n",
       "    </tr>\n",
       "  </thead>\n",
       "  <tbody>\n",
       "    <tr>\n",
       "      <th>0</th>\n",
       "      <td>Q23</td>\n",
       "      <td>George Washington</td>\n",
       "      <td>1st president of the United States (1732–1799)</td>\n",
       "      <td>Male</td>\n",
       "      <td>United States of America; Kingdom of Great Bri...</td>\n",
       "      <td>Politician</td>\n",
       "      <td>1732</td>\n",
       "      <td>1799.0</td>\n",
       "      <td>natural causes</td>\n",
       "      <td>67.0</td>\n",
       "    </tr>\n",
       "    <tr>\n",
       "      <th>1</th>\n",
       "      <td>Q42</td>\n",
       "      <td>Douglas Adams</td>\n",
       "      <td>English writer and humorist</td>\n",
       "      <td>Male</td>\n",
       "      <td>United Kingdom</td>\n",
       "      <td>Artist</td>\n",
       "      <td>1952</td>\n",
       "      <td>2001.0</td>\n",
       "      <td>natural causes</td>\n",
       "      <td>49.0</td>\n",
       "    </tr>\n",
       "    <tr>\n",
       "      <th>2</th>\n",
       "      <td>Q91</td>\n",
       "      <td>Abraham Lincoln</td>\n",
       "      <td>16th president of the United States (1809-1865)</td>\n",
       "      <td>Male</td>\n",
       "      <td>United States of America</td>\n",
       "      <td>Politician</td>\n",
       "      <td>1809</td>\n",
       "      <td>1865.0</td>\n",
       "      <td>homicide</td>\n",
       "      <td>56.0</td>\n",
       "    </tr>\n",
       "    <tr>\n",
       "      <th>3</th>\n",
       "      <td>Q254</td>\n",
       "      <td>Wolfgang Amadeus Mozart</td>\n",
       "      <td>Austrian composer of the Classical period</td>\n",
       "      <td>Male</td>\n",
       "      <td>Archduchy of Austria; Archbishopric of Salzburg</td>\n",
       "      <td>Artist</td>\n",
       "      <td>1756</td>\n",
       "      <td>1791.0</td>\n",
       "      <td>NaN</td>\n",
       "      <td>35.0</td>\n",
       "    </tr>\n",
       "    <tr>\n",
       "      <th>4</th>\n",
       "      <td>Q255</td>\n",
       "      <td>Ludwig van Beethoven</td>\n",
       "      <td>German classical and romantic composer</td>\n",
       "      <td>Male</td>\n",
       "      <td>Holy Roman Empire; Austrian Empire</td>\n",
       "      <td>Artist</td>\n",
       "      <td>1770</td>\n",
       "      <td>1827.0</td>\n",
       "      <td>NaN</td>\n",
       "      <td>57.0</td>\n",
       "    </tr>\n",
       "    <tr>\n",
       "      <th>...</th>\n",
       "      <td>...</td>\n",
       "      <td>...</td>\n",
       "      <td>...</td>\n",
       "      <td>...</td>\n",
       "      <td>...</td>\n",
       "      <td>...</td>\n",
       "      <td>...</td>\n",
       "      <td>...</td>\n",
       "      <td>...</td>\n",
       "      <td>...</td>\n",
       "    </tr>\n",
       "    <tr>\n",
       "      <th>1223004</th>\n",
       "      <td>Q77247326</td>\n",
       "      <td>Marie-Fortunée Besson</td>\n",
       "      <td>Frans model (1907-1996)</td>\n",
       "      <td>NaN</td>\n",
       "      <td>France</td>\n",
       "      <td>Tailor; model</td>\n",
       "      <td>1907</td>\n",
       "      <td>1996.0</td>\n",
       "      <td>NaN</td>\n",
       "      <td>89.0</td>\n",
       "    </tr>\n",
       "    <tr>\n",
       "      <th>1223005</th>\n",
       "      <td>Q77249504</td>\n",
       "      <td>Ron Thorsen</td>\n",
       "      <td>xugador de baloncestu canadianu (1948–2004)</td>\n",
       "      <td>NaN</td>\n",
       "      <td>Canada; United States of America</td>\n",
       "      <td>Athlete</td>\n",
       "      <td>1948</td>\n",
       "      <td>2004.0</td>\n",
       "      <td>NaN</td>\n",
       "      <td>56.0</td>\n",
       "    </tr>\n",
       "    <tr>\n",
       "      <th>1223006</th>\n",
       "      <td>Q77249818</td>\n",
       "      <td>Diether Todenhagen</td>\n",
       "      <td>German navy officer and world war II U-boat co...</td>\n",
       "      <td>NaN</td>\n",
       "      <td>Germany</td>\n",
       "      <td>Military personnel</td>\n",
       "      <td>1920</td>\n",
       "      <td>1944.0</td>\n",
       "      <td>NaN</td>\n",
       "      <td>24.0</td>\n",
       "    </tr>\n",
       "    <tr>\n",
       "      <th>1223007</th>\n",
       "      <td>Q77253909</td>\n",
       "      <td>Reginald Oswald Pearson</td>\n",
       "      <td>English artist, working in stained glass, prin...</td>\n",
       "      <td>Male</td>\n",
       "      <td>United Kingdom</td>\n",
       "      <td>Artist</td>\n",
       "      <td>1887</td>\n",
       "      <td>1915.0</td>\n",
       "      <td>NaN</td>\n",
       "      <td>28.0</td>\n",
       "    </tr>\n",
       "    <tr>\n",
       "      <th>1223008</th>\n",
       "      <td>Q77254864</td>\n",
       "      <td>Horst Lerche</td>\n",
       "      <td>German painter</td>\n",
       "      <td>Male</td>\n",
       "      <td>Germany</td>\n",
       "      <td>Artist</td>\n",
       "      <td>1938</td>\n",
       "      <td>2017.0</td>\n",
       "      <td>NaN</td>\n",
       "      <td>79.0</td>\n",
       "    </tr>\n",
       "  </tbody>\n",
       "</table>\n",
       "<p>1223009 rows × 10 columns</p>\n",
       "</div>"
      ],
      "text/plain": [
       "                Id                     Name  \\\n",
       "0              Q23        George Washington   \n",
       "1              Q42            Douglas Adams   \n",
       "2              Q91          Abraham Lincoln   \n",
       "3             Q254  Wolfgang Amadeus Mozart   \n",
       "4             Q255     Ludwig van Beethoven   \n",
       "...            ...                      ...   \n",
       "1223004  Q77247326    Marie-Fortunée Besson   \n",
       "1223005  Q77249504              Ron Thorsen   \n",
       "1223006  Q77249818       Diether Todenhagen   \n",
       "1223007  Q77253909  Reginald Oswald Pearson   \n",
       "1223008  Q77254864             Horst Lerche   \n",
       "\n",
       "                                         Short description Gender  \\\n",
       "0           1st president of the United States (1732–1799)   Male   \n",
       "1                              English writer and humorist   Male   \n",
       "2          16th president of the United States (1809-1865)   Male   \n",
       "3                Austrian composer of the Classical period   Male   \n",
       "4                   German classical and romantic composer   Male   \n",
       "...                                                    ...    ...   \n",
       "1223004                            Frans model (1907-1996)    NaN   \n",
       "1223005        xugador de baloncestu canadianu (1948–2004)    NaN   \n",
       "1223006  German navy officer and world war II U-boat co...    NaN   \n",
       "1223007  English artist, working in stained glass, prin...   Male   \n",
       "1223008                                     German painter   Male   \n",
       "\n",
       "                                                   Country  \\\n",
       "0        United States of America; Kingdom of Great Bri...   \n",
       "1                                           United Kingdom   \n",
       "2                                 United States of America   \n",
       "3          Archduchy of Austria; Archbishopric of Salzburg   \n",
       "4                       Holy Roman Empire; Austrian Empire   \n",
       "...                                                    ...   \n",
       "1223004                                             France   \n",
       "1223005                   Canada; United States of America   \n",
       "1223006                                            Germany   \n",
       "1223007                                     United Kingdom   \n",
       "1223008                                            Germany   \n",
       "\n",
       "                 Occupation  Birth year  Death year Manner of death  \\\n",
       "0                Politician        1732      1799.0  natural causes   \n",
       "1                    Artist        1952      2001.0  natural causes   \n",
       "2                Politician        1809      1865.0        homicide   \n",
       "3                    Artist        1756      1791.0             NaN   \n",
       "4                    Artist        1770      1827.0             NaN   \n",
       "...                     ...         ...         ...             ...   \n",
       "1223004       Tailor; model        1907      1996.0             NaN   \n",
       "1223005             Athlete        1948      2004.0             NaN   \n",
       "1223006  Military personnel        1920      1944.0             NaN   \n",
       "1223007              Artist        1887      1915.0             NaN   \n",
       "1223008              Artist        1938      2017.0             NaN   \n",
       "\n",
       "         Age of death  \n",
       "0                67.0  \n",
       "1                49.0  \n",
       "2                56.0  \n",
       "3                35.0  \n",
       "4                57.0  \n",
       "...               ...  \n",
       "1223004          89.0  \n",
       "1223005          56.0  \n",
       "1223006          24.0  \n",
       "1223007          28.0  \n",
       "1223008          79.0  \n",
       "\n",
       "[1223009 rows x 10 columns]"
      ]
     },
     "metadata": {},
     "output_type": "display_data"
    }
   ],
   "source": [
    "df"
   ]
  },
  {
   "cell_type": "markdown",
   "id": "2d61975a",
   "metadata": {},
   "source": [
    "When not logged in:"
   ]
  },
  {
   "cell_type": "code",
   "execution_count": null,
   "id": "297ce5c4",
   "metadata": {},
   "outputs": [
    {
     "name": "stdout",
     "output_type": "stream",
     "text": [
      "<class 'pandas.core.frame.DataFrame'>\n",
      "RangeIndex: 1223009 entries, 0 to 1223008\n",
      "Data columns (total 10 columns):\n",
      " #   Column             Non-Null Count    Dtype  \n",
      "---  ------             --------------    -----  \n",
      " 0   Id                 1223009 non-null  object \n",
      " 1   Name               1223009 non-null  object \n",
      " 2   Short description  1155109 non-null  object \n",
      " 3   Gender             1089363 non-null  object \n",
      " 4   Country            887500 non-null   object \n",
      " 5   Occupation         1016095 non-null  object \n",
      " 6   Birth year         1223009 non-null  int64  \n",
      " 7   Death year         1223008 non-null  float64\n",
      " 8   Manner of death    53603 non-null    object \n",
      " 9   Age of death       1223008 non-null  float64\n",
      "dtypes: float64(2), int64(1), object(7)\n",
      "memory usage: 93.3+ MB\n"
     ]
    }
   ],
   "source": [
    "df.info()"
   ]
  },
  {
   "cell_type": "code",
   "execution_count": null,
   "id": "1a7980a7",
   "metadata": {},
   "outputs": [
    {
     "data": {
      "application/vnd.microsoft.datawrangler.viewer.v0+json": {
       "columns": [
        {
         "name": "index",
         "rawType": "object",
         "type": "string"
        },
        {
         "name": "Birth year",
         "rawType": "float64",
         "type": "float"
        },
        {
         "name": "Death year",
         "rawType": "float64",
         "type": "float"
        },
        {
         "name": "Age of death",
         "rawType": "float64",
         "type": "float"
        }
       ],
       "ref": "e66041ea-992c-4fad-8866-b4334107a548",
       "rows": [
        [
         "count",
         "1223009.0",
         "1223008.0",
         "1223008.0"
        ],
        [
         "mean",
         "1844.971722203189",
         "1914.245659881211",
         "69.27405789659593"
        ],
        [
         "std",
         "147.93904922239486",
         "151.6897997326232",
         "16.629380945233525"
        ],
        [
         "min",
         "-2700.0",
         "-2659.0",
         "0.0"
        ],
        [
         "25%",
         "1828.0",
         "1895.0",
         "60.0"
        ],
        [
         "50%",
         "1887.0",
         "1955.0",
         "72.0"
        ],
        [
         "75%",
         "1918.0",
         "1994.0",
         "81.0"
        ],
        [
         "max",
         "2016.0",
         "2021.0",
         "169.0"
        ]
       ],
       "shape": {
        "columns": 3,
        "rows": 8
       }
      },
      "text/html": [
       "<div>\n",
       "<style scoped>\n",
       "    .dataframe tbody tr th:only-of-type {\n",
       "        vertical-align: middle;\n",
       "    }\n",
       "\n",
       "    .dataframe tbody tr th {\n",
       "        vertical-align: top;\n",
       "    }\n",
       "\n",
       "    .dataframe thead th {\n",
       "        text-align: right;\n",
       "    }\n",
       "</style>\n",
       "<table border=\"1\" class=\"dataframe\">\n",
       "  <thead>\n",
       "    <tr style=\"text-align: right;\">\n",
       "      <th></th>\n",
       "      <th>Birth year</th>\n",
       "      <th>Death year</th>\n",
       "      <th>Age of death</th>\n",
       "    </tr>\n",
       "  </thead>\n",
       "  <tbody>\n",
       "    <tr>\n",
       "      <th>count</th>\n",
       "      <td>1.223009e+06</td>\n",
       "      <td>1.223008e+06</td>\n",
       "      <td>1.223008e+06</td>\n",
       "    </tr>\n",
       "    <tr>\n",
       "      <th>mean</th>\n",
       "      <td>1.844972e+03</td>\n",
       "      <td>1.914246e+03</td>\n",
       "      <td>6.927406e+01</td>\n",
       "    </tr>\n",
       "    <tr>\n",
       "      <th>std</th>\n",
       "      <td>1.479390e+02</td>\n",
       "      <td>1.516898e+02</td>\n",
       "      <td>1.662938e+01</td>\n",
       "    </tr>\n",
       "    <tr>\n",
       "      <th>min</th>\n",
       "      <td>-2.700000e+03</td>\n",
       "      <td>-2.659000e+03</td>\n",
       "      <td>0.000000e+00</td>\n",
       "    </tr>\n",
       "    <tr>\n",
       "      <th>25%</th>\n",
       "      <td>1.828000e+03</td>\n",
       "      <td>1.895000e+03</td>\n",
       "      <td>6.000000e+01</td>\n",
       "    </tr>\n",
       "    <tr>\n",
       "      <th>50%</th>\n",
       "      <td>1.887000e+03</td>\n",
       "      <td>1.955000e+03</td>\n",
       "      <td>7.200000e+01</td>\n",
       "    </tr>\n",
       "    <tr>\n",
       "      <th>75%</th>\n",
       "      <td>1.918000e+03</td>\n",
       "      <td>1.994000e+03</td>\n",
       "      <td>8.100000e+01</td>\n",
       "    </tr>\n",
       "    <tr>\n",
       "      <th>max</th>\n",
       "      <td>2.016000e+03</td>\n",
       "      <td>2.021000e+03</td>\n",
       "      <td>1.690000e+02</td>\n",
       "    </tr>\n",
       "  </tbody>\n",
       "</table>\n",
       "</div>"
      ],
      "text/plain": [
       "         Birth year    Death year  Age of death\n",
       "count  1.223009e+06  1.223008e+06  1.223008e+06\n",
       "mean   1.844972e+03  1.914246e+03  6.927406e+01\n",
       "std    1.479390e+02  1.516898e+02  1.662938e+01\n",
       "min   -2.700000e+03 -2.659000e+03  0.000000e+00\n",
       "25%    1.828000e+03  1.895000e+03  6.000000e+01\n",
       "50%    1.887000e+03  1.955000e+03  7.200000e+01\n",
       "75%    1.918000e+03  1.994000e+03  8.100000e+01\n",
       "max    2.016000e+03  2.021000e+03  1.690000e+02"
      ]
     },
     "metadata": {},
     "output_type": "display_data"
    }
   ],
   "source": [
    "df.describe()"
   ]
  },
  {
   "cell_type": "code",
   "execution_count": null,
   "id": "6752ed17",
   "metadata": {},
   "outputs": [
    {
     "data": {
      "application/vnd.microsoft.datawrangler.viewer.v0+json": {
       "columns": [
        {
         "name": "Occupation",
         "rawType": "object",
         "type": "string"
        },
        {
         "name": "count",
         "rawType": "int64",
         "type": "integer"
        }
       ],
       "ref": "749df497-9a02-4eb1-9fdd-5d125fe25e64",
       "rows": [
        [
         "Artist",
         "281512"
        ],
        [
         "Politician",
         "195390"
        ],
        [
         "Athlete",
         "110943"
        ],
        [
         "Researcher",
         "90709"
        ],
        [
         "Military personnel",
         "52911"
        ],
        [
         "Religious figure",
         "37086"
        ],
        [
         "Businessperson",
         "19529"
        ],
        [
         "Architect",
         "17865"
        ],
        [
         "Journalist",
         "16002"
        ],
        [
         "Teacher",
         "15693"
        ],
        [
         "Physician",
         "13253"
        ],
        [
         "Engineer",
         "13160"
        ],
        [
         "Judge",
         "8454"
        ],
        [
         "Lawyer",
         "7184"
        ],
        [
         "Jurist",
         "4601"
        ],
        [
         "Aristocrat",
         "3670"
        ],
        [
         "Entrepreneur",
         "2926"
        ],
        [
         "Philosopher",
         "2819"
        ],
        [
         "Translator",
         "2742"
        ],
        [
         "Publisher",
         "2475"
        ],
        [
         "Librarian",
         "1891"
        ],
        [
         "Author",
         "1868"
        ],
        [
         "Surgeon",
         "1790"
        ],
        [
         "Merchant",
         "1724"
        ],
        [
         "Novelist",
         "1594"
        ],
        [
         "Rower",
         "1553"
        ],
        [
         "Astronomer",
         "1543"
        ],
        [
         "Pianist",
         "1500"
        ],
        [
         "Psychologist",
         "1491"
        ],
        [
         "Pastor",
         "1410"
        ],
        [
         "Minister",
         "1377"
        ],
        [
         "Farmer",
         "1332"
        ],
        [
         "Inventor",
         "1320"
        ],
        [
         "Psychiatrist",
         "1249"
        ],
        [
         "Rabbi",
         "1210"
        ],
        [
         "Explorer",
         "1146"
        ],
        [
         "Fencer",
         "1128"
        ],
        [
         "Police officer",
         "1062"
        ],
        [
         "Trade unionist",
         "1045"
        ],
        [
         "Official",
         "1000"
        ],
        [
         "Geographer",
         "973"
        ],
        [
         "Civil servant",
         "962"
        ],
        [
         "Naval officer",
         "948"
        ],
        [
         "Biologist",
         "917"
        ],
        [
         "Amateur wrestler",
         "891"
        ],
        [
         "Film producer",
         "874"
        ],
        [
         "Banker",
         "823"
        ],
        [
         "Nun",
         "822"
        ],
        [
         "Academic",
         "820"
        ],
        [
         "Cinematographer",
         "802"
        ]
       ],
       "shape": {
        "columns": 1,
        "rows": 9313
       }
      },
      "text/plain": [
       "Occupation\n",
       "Artist                                   281512\n",
       "Politician                               195390\n",
       "Athlete                                  110943\n",
       "Researcher                                90709\n",
       "Military personnel                        52911\n",
       "                                          ...  \n",
       "Zoology                                       1\n",
       "Zoology; marine biology; biologist            1\n",
       "École polytechnique                           1\n",
       "Academic; literary scholar                    1\n",
       "Wholesale; land owner; philanthropist         1\n",
       "Name: count, Length: 9313, dtype: int64"
      ]
     },
     "metadata": {},
     "output_type": "display_data"
    }
   ],
   "source": [
    "df.value_counts(\"Occupation\")"
   ]
  },
  {
   "cell_type": "markdown",
   "id": "c1c538fd",
   "metadata": {},
   "source": [
    "### Age of death by occupation "
   ]
  },
  {
   "cell_type": "code",
   "execution_count": null,
   "id": "c188b591",
   "metadata": {},
   "outputs": [
    {
     "data": {
      "application/vnd.microsoft.datawrangler.viewer.v0+json": {
       "columns": [
        {
         "name": "Occupation",
         "rawType": "object",
         "type": "string"
        },
        {
         "name": "count",
         "rawType": "float64",
         "type": "float"
        },
        {
         "name": "mean",
         "rawType": "float64",
         "type": "float"
        },
        {
         "name": "std",
         "rawType": "float64",
         "type": "float"
        },
        {
         "name": "min",
         "rawType": "float64",
         "type": "float"
        },
        {
         "name": "25%",
         "rawType": "float64",
         "type": "float"
        },
        {
         "name": "50%",
         "rawType": "float64",
         "type": "float"
        },
        {
         "name": "75%",
         "rawType": "float64",
         "type": "float"
        },
        {
         "name": "max",
         "rawType": "float64",
         "type": "float"
        }
       ],
       "ref": "c846028a-bc55-493e-aec1-0afeb8c0b00b",
       "rows": [
        [
         "1859",
         "1.0",
         "47.0",
         null,
         "47.0",
         "47.0",
         "47.0",
         "47.0",
         "47.0"
        ],
        [
         "Abbess",
         "36.0",
         "60.69444444444444",
         "16.924740039268706",
         "24.0",
         "49.0",
         "63.0",
         "73.0",
         "90.0"
        ],
        [
         "Abbess; business executive",
         "1.0",
         "86.0",
         null,
         "86.0",
         "86.0",
         "86.0",
         "86.0",
         "86.0"
        ],
        [
         "Abbess; christians jehovah’s witnesses",
         "1.0",
         "81.0",
         null,
         "81.0",
         "81.0",
         "81.0",
         "81.0",
         "81.0"
        ],
        [
         "Abbé",
         "6.0",
         "69.66666666666667",
         "16.070677231114647",
         "41.0",
         "66.0",
         "72.5",
         "79.0",
         "87.0"
        ],
        [
         "Abbé; antiquarian",
         "1.0",
         "67.0",
         null,
         "67.0",
         "67.0",
         "67.0",
         "67.0",
         "67.0"
        ],
        [
         "Abolitionist",
         "22.0",
         "60.45454545454545",
         "23.564960413872104",
         "22.0",
         "38.0",
         "68.5",
         "79.0",
         "89.0"
        ],
        [
         "Abolitionist; milliner",
         "1.0",
         "60.0",
         null,
         "60.0",
         "60.0",
         "60.0",
         "60.0",
         "60.0"
        ],
        [
         "Abolitionist; suffragist",
         "3.0",
         "77.0",
         "10.44030650891055",
         "65.0",
         "73.5",
         "82.0",
         "83.0",
         "84.0"
        ],
        [
         "Abolitionist; women's rights activist",
         "1.0",
         "91.0",
         null,
         "91.0",
         "91.0",
         "91.0",
         "91.0",
         "91.0"
        ],
        [
         "Abstractionist",
         "2.0",
         "80.0",
         "5.656854249492381",
         "76.0",
         "78.0",
         "80.0",
         "82.0",
         "84.0"
        ],
        [
         "Academic",
         "820.0",
         "75.33780487804879",
         "14.131228161032936",
         "15.0",
         "66.0",
         "78.0",
         "87.0",
         "99.0"
        ],
        [
         "Academic administration",
         "3.0",
         "78.66666666666667",
         "12.013880860626733",
         "67.0",
         "72.5",
         "78.0",
         "84.5",
         "91.0"
        ],
        [
         "Academic administrator",
         "34.0",
         "79.76470588235294",
         "12.898341033870402",
         "49.0",
         "73.25",
         "84.0",
         "87.75",
         "98.0"
        ],
        [
         "Academic librarian",
         "2.0",
         "81.0",
         "2.8284271247461903",
         "79.0",
         "80.0",
         "81.0",
         "82.0",
         "83.0"
        ],
        [
         "Academic; academic administrator",
         "2.0",
         "88.0",
         "5.656854249492381",
         "84.0",
         "86.0",
         "88.0",
         "90.0",
         "92.0"
        ],
        [
         "Academic; activist",
         "6.0",
         "82.66666666666667",
         "8.286535263104035",
         "73.0",
         "78.0",
         "80.0",
         "88.0",
         "95.0"
        ],
        [
         "Academic; activist; suffragist",
         "1.0",
         "60.0",
         null,
         "60.0",
         "60.0",
         "60.0",
         "60.0",
         "60.0"
        ],
        [
         "Academic; anthropologist",
         "3.0",
         "81.0",
         "5.5677643628300215",
         "76.0",
         "78.0",
         "80.0",
         "83.5",
         "87.0"
        ],
        [
         "Academic; autobiographer",
         "1.0",
         "98.0",
         null,
         "98.0",
         "98.0",
         "98.0",
         "98.0",
         "98.0"
        ],
        [
         "Academic; bibliographer",
         "1.0",
         "80.0",
         null,
         "80.0",
         "80.0",
         "80.0",
         "80.0",
         "80.0"
        ],
        [
         "Academic; criminologist",
         "1.0",
         "78.0",
         null,
         "78.0",
         "78.0",
         "78.0",
         "78.0",
         "78.0"
        ],
        [
         "Academic; erudite",
         "1.0",
         "60.0",
         null,
         "60.0",
         "60.0",
         "60.0",
         "60.0",
         "60.0"
        ],
        [
         "Academic; feminist",
         "1.0",
         "59.0",
         null,
         "59.0",
         "59.0",
         "59.0",
         "59.0",
         "59.0"
        ],
        [
         "Academic; gursikh",
         "1.0",
         "54.0",
         null,
         "54.0",
         "54.0",
         "54.0",
         "54.0",
         "54.0"
        ],
        [
         "Academic; humanist",
         "1.0",
         "98.0",
         null,
         "98.0",
         "98.0",
         "98.0",
         "98.0",
         "98.0"
        ],
        [
         "Academic; ichthyologist",
         "2.0",
         "71.0",
         "1.4142135623730951",
         "70.0",
         "70.5",
         "71.0",
         "71.5",
         "72.0"
        ],
        [
         "Academic; immunologist",
         "1.0",
         "75.0",
         null,
         "75.0",
         "75.0",
         "75.0",
         "75.0",
         "75.0"
        ],
        [
         "Academic; indologist",
         "1.0",
         "81.0",
         null,
         "81.0",
         "81.0",
         "81.0",
         "81.0",
         "81.0"
        ],
        [
         "Academic; legal scholar",
         "2.0",
         "84.5",
         "0.7071067811865476",
         "84.0",
         "84.25",
         "84.5",
         "84.75",
         "85.0"
        ],
        [
         "Academic; lexicographer",
         "1.0",
         "76.0",
         null,
         "76.0",
         "76.0",
         "76.0",
         "76.0",
         "76.0"
        ],
        [
         "Academic; literary critic",
         "6.0",
         "73.66666666666667",
         "11.272385136547928",
         "56.0",
         "67.75",
         "76.5",
         "80.0",
         "87.0"
        ],
        [
         "Academic; literary scholar",
         "1.0",
         "77.0",
         null,
         "77.0",
         "77.0",
         "77.0",
         "77.0",
         "77.0"
        ],
        [
         "Academic; marine biologist",
         "1.0",
         "98.0",
         null,
         "98.0",
         "98.0",
         "98.0",
         "98.0",
         "98.0"
        ],
        [
         "Academic; microbiologist",
         "1.0",
         "94.0",
         null,
         "94.0",
         "94.0",
         "94.0",
         "94.0",
         "94.0"
        ],
        [
         "Academic; music pedagogue",
         "1.0",
         "91.0",
         null,
         "91.0",
         "91.0",
         "91.0",
         "91.0",
         "91.0"
        ],
        [
         "Academic; musicologist",
         "1.0",
         "96.0",
         null,
         "96.0",
         "96.0",
         "96.0",
         "96.0",
         "96.0"
        ],
        [
         "Academic; neurophysiologist",
         "1.0",
         "81.0",
         null,
         "81.0",
         "81.0",
         "81.0",
         "81.0",
         "81.0"
        ],
        [
         "Academic; novelist",
         "1.0",
         "75.0",
         null,
         "75.0",
         "75.0",
         "75.0",
         "75.0",
         "75.0"
        ],
        [
         "Academic; obstetrician",
         "1.0",
         "66.0",
         null,
         "66.0",
         "66.0",
         "66.0",
         "66.0",
         "66.0"
        ],
        [
         "Academic; oceanographer",
         "1.0",
         "67.0",
         null,
         "67.0",
         "67.0",
         "67.0",
         "67.0",
         "67.0"
        ],
        [
         "Academic; oncologist",
         "1.0",
         "54.0",
         null,
         "54.0",
         "54.0",
         "54.0",
         "54.0",
         "54.0"
        ],
        [
         "Academic; ophthalmologist",
         "1.0",
         "90.0",
         null,
         "90.0",
         "90.0",
         "90.0",
         "90.0",
         "90.0"
        ],
        [
         "Academic; peace activist",
         "1.0",
         "85.0",
         null,
         "85.0",
         "85.0",
         "85.0",
         "85.0",
         "85.0"
        ],
        [
         "Academic; philologist",
         "2.0",
         "71.5",
         "20.506096654409877",
         "57.0",
         "64.25",
         "71.5",
         "78.75",
         "86.0"
        ],
        [
         "Academic; philosopher",
         "6.0",
         "71.16666666666667",
         "11.923366415013282",
         "56.0",
         "65.0",
         "68.5",
         "78.0",
         "89.0"
        ],
        [
         "Academic; philosopher; activist",
         "1.0",
         "73.0",
         null,
         "73.0",
         "73.0",
         "73.0",
         "73.0",
         "73.0"
        ],
        [
         "Academic; philosopher; phenomenologist",
         "1.0",
         "85.0",
         null,
         "85.0",
         "85.0",
         "85.0",
         "85.0",
         "85.0"
        ],
        [
         "Academic; philosopher; philosopher of language",
         "1.0",
         "78.0",
         null,
         "78.0",
         "78.0",
         "78.0",
         "78.0",
         "78.0"
        ],
        [
         "Academic; political activist",
         "1.0",
         "54.0",
         null,
         "54.0",
         "54.0",
         "54.0",
         "54.0",
         "54.0"
        ]
       ],
       "shape": {
        "columns": 8,
        "rows": 9313
       }
      },
      "text/html": [
       "<div>\n",
       "<style scoped>\n",
       "    .dataframe tbody tr th:only-of-type {\n",
       "        vertical-align: middle;\n",
       "    }\n",
       "\n",
       "    .dataframe tbody tr th {\n",
       "        vertical-align: top;\n",
       "    }\n",
       "\n",
       "    .dataframe thead th {\n",
       "        text-align: right;\n",
       "    }\n",
       "</style>\n",
       "<table border=\"1\" class=\"dataframe\">\n",
       "  <thead>\n",
       "    <tr style=\"text-align: right;\">\n",
       "      <th></th>\n",
       "      <th>count</th>\n",
       "      <th>mean</th>\n",
       "      <th>std</th>\n",
       "      <th>min</th>\n",
       "      <th>25%</th>\n",
       "      <th>50%</th>\n",
       "      <th>75%</th>\n",
       "      <th>max</th>\n",
       "    </tr>\n",
       "    <tr>\n",
       "      <th>Occupation</th>\n",
       "      <th></th>\n",
       "      <th></th>\n",
       "      <th></th>\n",
       "      <th></th>\n",
       "      <th></th>\n",
       "      <th></th>\n",
       "      <th></th>\n",
       "      <th></th>\n",
       "    </tr>\n",
       "  </thead>\n",
       "  <tbody>\n",
       "    <tr>\n",
       "      <th>1859</th>\n",
       "      <td>1.0</td>\n",
       "      <td>47.000000</td>\n",
       "      <td>NaN</td>\n",
       "      <td>47.0</td>\n",
       "      <td>47.0</td>\n",
       "      <td>47.0</td>\n",
       "      <td>47.0</td>\n",
       "      <td>47.0</td>\n",
       "    </tr>\n",
       "    <tr>\n",
       "      <th>Abbess</th>\n",
       "      <td>36.0</td>\n",
       "      <td>60.694444</td>\n",
       "      <td>16.924740</td>\n",
       "      <td>24.0</td>\n",
       "      <td>49.0</td>\n",
       "      <td>63.0</td>\n",
       "      <td>73.0</td>\n",
       "      <td>90.0</td>\n",
       "    </tr>\n",
       "    <tr>\n",
       "      <th>Abbess; business executive</th>\n",
       "      <td>1.0</td>\n",
       "      <td>86.000000</td>\n",
       "      <td>NaN</td>\n",
       "      <td>86.0</td>\n",
       "      <td>86.0</td>\n",
       "      <td>86.0</td>\n",
       "      <td>86.0</td>\n",
       "      <td>86.0</td>\n",
       "    </tr>\n",
       "    <tr>\n",
       "      <th>Abbess; christians jehovah’s witnesses</th>\n",
       "      <td>1.0</td>\n",
       "      <td>81.000000</td>\n",
       "      <td>NaN</td>\n",
       "      <td>81.0</td>\n",
       "      <td>81.0</td>\n",
       "      <td>81.0</td>\n",
       "      <td>81.0</td>\n",
       "      <td>81.0</td>\n",
       "    </tr>\n",
       "    <tr>\n",
       "      <th>Abbé</th>\n",
       "      <td>6.0</td>\n",
       "      <td>69.666667</td>\n",
       "      <td>16.070677</td>\n",
       "      <td>41.0</td>\n",
       "      <td>66.0</td>\n",
       "      <td>72.5</td>\n",
       "      <td>79.0</td>\n",
       "      <td>87.0</td>\n",
       "    </tr>\n",
       "    <tr>\n",
       "      <th>...</th>\n",
       "      <td>...</td>\n",
       "      <td>...</td>\n",
       "      <td>...</td>\n",
       "      <td>...</td>\n",
       "      <td>...</td>\n",
       "      <td>...</td>\n",
       "      <td>...</td>\n",
       "      <td>...</td>\n",
       "    </tr>\n",
       "    <tr>\n",
       "      <th>Zoology</th>\n",
       "      <td>1.0</td>\n",
       "      <td>44.000000</td>\n",
       "      <td>NaN</td>\n",
       "      <td>44.0</td>\n",
       "      <td>44.0</td>\n",
       "      <td>44.0</td>\n",
       "      <td>44.0</td>\n",
       "      <td>44.0</td>\n",
       "    </tr>\n",
       "    <tr>\n",
       "      <th>Zoology; marine biology; biologist</th>\n",
       "      <td>1.0</td>\n",
       "      <td>73.000000</td>\n",
       "      <td>NaN</td>\n",
       "      <td>73.0</td>\n",
       "      <td>73.0</td>\n",
       "      <td>73.0</td>\n",
       "      <td>73.0</td>\n",
       "      <td>73.0</td>\n",
       "    </tr>\n",
       "    <tr>\n",
       "      <th>École polytechnique</th>\n",
       "      <td>1.0</td>\n",
       "      <td>72.000000</td>\n",
       "      <td>NaN</td>\n",
       "      <td>72.0</td>\n",
       "      <td>72.0</td>\n",
       "      <td>72.0</td>\n",
       "      <td>72.0</td>\n",
       "      <td>72.0</td>\n",
       "    </tr>\n",
       "    <tr>\n",
       "      <th>Župan</th>\n",
       "      <td>5.0</td>\n",
       "      <td>38.600000</td>\n",
       "      <td>27.061042</td>\n",
       "      <td>12.0</td>\n",
       "      <td>21.0</td>\n",
       "      <td>32.0</td>\n",
       "      <td>47.0</td>\n",
       "      <td>81.0</td>\n",
       "    </tr>\n",
       "    <tr>\n",
       "      <th>مجموعة الأنظمة منصة شليلة; serology; bacteriologist</th>\n",
       "      <td>1.0</td>\n",
       "      <td>40.000000</td>\n",
       "      <td>NaN</td>\n",
       "      <td>40.0</td>\n",
       "      <td>40.0</td>\n",
       "      <td>40.0</td>\n",
       "      <td>40.0</td>\n",
       "      <td>40.0</td>\n",
       "    </tr>\n",
       "  </tbody>\n",
       "</table>\n",
       "<p>9313 rows × 8 columns</p>\n",
       "</div>"
      ],
      "text/plain": [
       "                                                    count       mean  \\\n",
       "Occupation                                                             \n",
       "1859                                                  1.0  47.000000   \n",
       "Abbess                                               36.0  60.694444   \n",
       "Abbess; business executive                            1.0  86.000000   \n",
       "Abbess; christians jehovah’s witnesses                1.0  81.000000   \n",
       "Abbé                                                  6.0  69.666667   \n",
       "...                                                   ...        ...   \n",
       "Zoology                                               1.0  44.000000   \n",
       "Zoology; marine biology; biologist                    1.0  73.000000   \n",
       "École polytechnique                                   1.0  72.000000   \n",
       "Župan                                                 5.0  38.600000   \n",
       "مجموعة الأنظمة منصة شليلة; serology; bacteriolo...    1.0  40.000000   \n",
       "\n",
       "                                                          std   min   25%  \\\n",
       "Occupation                                                                  \n",
       "1859                                                      NaN  47.0  47.0   \n",
       "Abbess                                              16.924740  24.0  49.0   \n",
       "Abbess; business executive                                NaN  86.0  86.0   \n",
       "Abbess; christians jehovah’s witnesses                    NaN  81.0  81.0   \n",
       "Abbé                                                16.070677  41.0  66.0   \n",
       "...                                                       ...   ...   ...   \n",
       "Zoology                                                   NaN  44.0  44.0   \n",
       "Zoology; marine biology; biologist                        NaN  73.0  73.0   \n",
       "École polytechnique                                       NaN  72.0  72.0   \n",
       "Župan                                               27.061042  12.0  21.0   \n",
       "مجموعة الأنظمة منصة شليلة; serology; bacteriolo...        NaN  40.0  40.0   \n",
       "\n",
       "                                                     50%   75%   max  \n",
       "Occupation                                                            \n",
       "1859                                                47.0  47.0  47.0  \n",
       "Abbess                                              63.0  73.0  90.0  \n",
       "Abbess; business executive                          86.0  86.0  86.0  \n",
       "Abbess; christians jehovah’s witnesses              81.0  81.0  81.0  \n",
       "Abbé                                                72.5  79.0  87.0  \n",
       "...                                                  ...   ...   ...  \n",
       "Zoology                                             44.0  44.0  44.0  \n",
       "Zoology; marine biology; biologist                  73.0  73.0  73.0  \n",
       "École polytechnique                                 72.0  72.0  72.0  \n",
       "Župan                                               32.0  47.0  81.0  \n",
       "مجموعة الأنظمة منصة شليلة; serology; bacteriolo...  40.0  40.0  40.0  \n",
       "\n",
       "[9313 rows x 8 columns]"
      ]
     },
     "metadata": {},
     "output_type": "display_data"
    }
   ],
   "source": [
    "df.groupby(\"Occupation\")[\"Age of death\"].describe()"
   ]
  },
  {
   "cell_type": "code",
   "execution_count": null,
   "id": "a2e2faba",
   "metadata": {},
   "outputs": [
    {
     "data": {
      "text/plain": [
       "9313"
      ]
     },
     "metadata": {},
     "output_type": "display_data"
    }
   ],
   "source": [
    "df[\"Occupation\"].nunique()"
   ]
  },
  {
   "cell_type": "code",
   "execution_count": null,
   "id": "6e9a12b3",
   "metadata": {},
   "outputs": [
    {
     "data": {
      "application/vnd.microsoft.datawrangler.viewer.v0+json": {
       "columns": [
        {
         "name": "Occupation",
         "rawType": "object",
         "type": "string"
        },
        {
         "name": "count",
         "rawType": "int64",
         "type": "integer"
        }
       ],
       "ref": "ce15e391-3c3d-45dc-9db1-7aae9f031c5a",
       "rows": [
        [
         "Artist",
         "281512"
        ],
        [
         "Politician",
         "195390"
        ],
        [
         "Athlete",
         "110943"
        ],
        [
         "Researcher",
         "90709"
        ],
        [
         "Military personnel",
         "52911"
        ],
        [
         "Religious figure",
         "37086"
        ],
        [
         "Businessperson",
         "19529"
        ],
        [
         "Architect",
         "17865"
        ],
        [
         "Journalist",
         "16002"
        ],
        [
         "Teacher",
         "15693"
        ],
        [
         "Physician",
         "13253"
        ],
        [
         "Engineer",
         "13160"
        ],
        [
         "Judge",
         "8454"
        ],
        [
         "Lawyer",
         "7184"
        ],
        [
         "Jurist",
         "4601"
        ],
        [
         "Aristocrat",
         "3670"
        ],
        [
         "Entrepreneur",
         "2926"
        ],
        [
         "Philosopher",
         "2819"
        ],
        [
         "Translator",
         "2742"
        ],
        [
         "Publisher",
         "2475"
        ],
        [
         "Librarian",
         "1891"
        ],
        [
         "Author",
         "1868"
        ],
        [
         "Surgeon",
         "1790"
        ],
        [
         "Merchant",
         "1724"
        ],
        [
         "Novelist",
         "1594"
        ],
        [
         "Rower",
         "1553"
        ],
        [
         "Astronomer",
         "1543"
        ],
        [
         "Pianist",
         "1500"
        ],
        [
         "Psychologist",
         "1491"
        ],
        [
         "Pastor",
         "1410"
        ],
        [
         "Minister",
         "1377"
        ],
        [
         "Farmer",
         "1332"
        ],
        [
         "Inventor",
         "1320"
        ],
        [
         "Psychiatrist",
         "1249"
        ],
        [
         "Rabbi",
         "1210"
        ],
        [
         "Explorer",
         "1146"
        ],
        [
         "Fencer",
         "1128"
        ],
        [
         "Police officer",
         "1062"
        ],
        [
         "Trade unionist",
         "1045"
        ],
        [
         "Official",
         "1000"
        ],
        [
         "Geographer",
         "973"
        ],
        [
         "Civil servant",
         "962"
        ],
        [
         "Naval officer",
         "948"
        ],
        [
         "Biologist",
         "917"
        ],
        [
         "Amateur wrestler",
         "891"
        ],
        [
         "Film producer",
         "874"
        ],
        [
         "Banker",
         "823"
        ],
        [
         "Nun",
         "822"
        ],
        [
         "Academic",
         "820"
        ],
        [
         "Cinematographer",
         "802"
        ]
       ],
       "shape": {
        "columns": 1,
        "rows": 9313
       }
      },
      "text/plain": [
       "Occupation\n",
       "Artist                            281512\n",
       "Politician                        195390\n",
       "Athlete                           110943\n",
       "Researcher                         90709\n",
       "Military personnel                 52911\n",
       "                                   ...  \n",
       "Director; scout leader                 1\n",
       "Salonnière; patron of the arts         1\n",
       "Servant of god                         1\n",
       "Cleric; coal miner                     1\n",
       "Goldsmith; metalsmith                  1\n",
       "Name: count, Length: 9313, dtype: int64"
      ]
     },
     "metadata": {},
     "output_type": "display_data"
    }
   ],
   "source": [
    "df[\"Occupation\"].value_counts()"
   ]
  },
  {
   "cell_type": "code",
   "execution_count": null,
   "id": "22e9174f",
   "metadata": {},
   "outputs": [],
   "source": [
    "occup_counts = df[\"Occupation\"].value_counts()"
   ]
  },
  {
   "cell_type": "code",
   "execution_count": null,
   "id": "828ba7ac",
   "metadata": {},
   "outputs": [],
   "source": [
    "occupations_more_than_100 = occup_counts[occup_counts > 1_000].index"
   ]
  },
  {
   "cell_type": "code",
   "execution_count": null,
   "id": "d287c29b",
   "metadata": {},
   "outputs": [],
   "source": [
    "df = df[df[\"Occupation\"].isin(occupations_more_than_100)]"
   ]
  },
  {
   "cell_type": "code",
   "execution_count": null,
   "id": "a44d9871",
   "metadata": {},
   "outputs": [
    {
     "data": {
      "application/vnd.microsoft.datawrangler.viewer.v0+json": {
       "columns": [
        {
         "name": "Occupation",
         "rawType": "object",
         "type": "string"
        },
        {
         "name": "Age of death",
         "rawType": "float64",
         "type": "float"
        }
       ],
       "ref": "c5447a87-0de9-4fb9-8399-905e8f709589",
       "rows": [
        [
         "Architect",
         "72.08530646515533"
        ],
        [
         "Aristocrat",
         "53.006539509536786"
        ],
        [
         "Artist",
         "69.72514493165478"
        ],
        [
         "Astronomer",
         "71.15230071289696"
        ],
        [
         "Athlete",
         "68.77245973157387"
        ],
        [
         "Author",
         "70.09475374732334"
        ],
        [
         "Businessperson",
         "74.15305443187056"
        ],
        [
         "Engineer",
         "72.15661094224924"
        ],
        [
         "Entrepreneur",
         "73.22214627477786"
        ],
        [
         "Explorer",
         "61.79930191972077"
        ],
        [
         "Farmer",
         "71.240990990991"
        ],
        [
         "Fencer",
         "72.49645390070921"
        ],
        [
         "Inventor",
         "73.12954545454545"
        ],
        [
         "Journalist",
         "69.5912385951756"
        ],
        [
         "Judge",
         "74.00484977525431"
        ],
        [
         "Jurist",
         "69.48837209302326"
        ],
        [
         "Lawyer",
         "71.23120824053453"
        ],
        [
         "Librarian",
         "73.43733474352194"
        ],
        [
         "Merchant",
         "68.31612529002321"
        ],
        [
         "Military personnel",
         "63.82005632099185"
        ],
        [
         "Minister",
         "69.17647058823529"
        ],
        [
         "Novelist",
         "71.45294855708909"
        ],
        [
         "Pastor",
         "68.87021276595745"
        ],
        [
         "Philosopher",
         "71.03795672224193"
        ],
        [
         "Physician",
         "70.68399607636007"
        ],
        [
         "Pianist",
         "71.754"
        ],
        [
         "Police officer",
         "64.4030131826742"
        ],
        [
         "Politician",
         "70.54155790982138"
        ],
        [
         "Psychiatrist",
         "73.23138510808647"
        ],
        [
         "Psychologist",
         "76.3963782696177"
        ],
        [
         "Publisher",
         "71.1789898989899"
        ],
        [
         "Rabbi",
         "71.74132231404958"
        ],
        [
         "Religious figure",
         "69.80127271746751"
        ],
        [
         "Researcher",
         "73.13137615892579"
        ],
        [
         "Rower",
         "71.0193174500966"
        ],
        [
         "Surgeon",
         "71.81564245810056"
        ],
        [
         "Teacher",
         "73.3319951570764"
        ],
        [
         "Trade unionist",
         "71.76842105263158"
        ],
        [
         "Translator",
         "72.04631655725747"
        ]
       ],
       "shape": {
        "columns": 1,
        "rows": 39
       }
      },
      "text/plain": [
       "Occupation\n",
       "Architect             72.085306\n",
       "Aristocrat            53.006540\n",
       "Artist                69.725145\n",
       "Astronomer            71.152301\n",
       "Athlete               68.772460\n",
       "Author                70.094754\n",
       "Businessperson        74.153054\n",
       "Engineer              72.156611\n",
       "Entrepreneur          73.222146\n",
       "Explorer              61.799302\n",
       "Farmer                71.240991\n",
       "Fencer                72.496454\n",
       "Inventor              73.129545\n",
       "Journalist            69.591239\n",
       "Judge                 74.004850\n",
       "Jurist                69.488372\n",
       "Lawyer                71.231208\n",
       "Librarian             73.437335\n",
       "Merchant              68.316125\n",
       "Military personnel    63.820056\n",
       "Minister              69.176471\n",
       "Novelist              71.452949\n",
       "Pastor                68.870213\n",
       "Philosopher           71.037957\n",
       "Physician             70.683996\n",
       "Pianist               71.754000\n",
       "Police officer        64.403013\n",
       "Politician            70.541558\n",
       "Psychiatrist          73.231385\n",
       "Psychologist          76.396378\n",
       "Publisher             71.178990\n",
       "Rabbi                 71.741322\n",
       "Religious figure      69.801273\n",
       "Researcher            73.131376\n",
       "Rower                 71.019317\n",
       "Surgeon               71.815642\n",
       "Teacher               73.331995\n",
       "Trade unionist        71.768421\n",
       "Translator            72.046317\n",
       "Name: Age of death, dtype: float64"
      ]
     },
     "metadata": {},
     "output_type": "display_data"
    }
   ],
   "source": [
    "age_by_occup = df.groupby(\"Occupation\")[\"Age of death\"].mean()\n",
    "age_by_occup"
   ]
  },
  {
   "cell_type": "code",
   "execution_count": null,
   "id": "3e304ffd",
   "metadata": {},
   "outputs": [
    {
     "data": {
      "application/vnd.microsoft.datawrangler.viewer.v0+json": {
       "columns": [
        {
         "name": "Occupation",
         "rawType": "object",
         "type": "string"
        },
        {
         "name": "Age of death",
         "rawType": "float64",
         "type": "float"
        }
       ],
       "ref": "619b83fb-0080-480c-924d-512de4e36806",
       "rows": [
        [
         "Aristocrat",
         "53.006539509536786"
        ],
        [
         "Explorer",
         "61.79930191972077"
        ],
        [
         "Military personnel",
         "63.82005632099185"
        ],
        [
         "Police officer",
         "64.4030131826742"
        ],
        [
         "Merchant",
         "68.31612529002321"
        ],
        [
         "Athlete",
         "68.77245973157387"
        ],
        [
         "Pastor",
         "68.87021276595745"
        ],
        [
         "Minister",
         "69.17647058823529"
        ],
        [
         "Jurist",
         "69.48837209302326"
        ],
        [
         "Journalist",
         "69.5912385951756"
        ],
        [
         "Artist",
         "69.72514493165478"
        ],
        [
         "Religious figure",
         "69.80127271746751"
        ],
        [
         "Author",
         "70.09475374732334"
        ],
        [
         "Politician",
         "70.54155790982138"
        ],
        [
         "Physician",
         "70.68399607636007"
        ],
        [
         "Rower",
         "71.0193174500966"
        ],
        [
         "Philosopher",
         "71.03795672224193"
        ],
        [
         "Astronomer",
         "71.15230071289696"
        ],
        [
         "Publisher",
         "71.1789898989899"
        ],
        [
         "Lawyer",
         "71.23120824053453"
        ],
        [
         "Farmer",
         "71.240990990991"
        ],
        [
         "Novelist",
         "71.45294855708909"
        ],
        [
         "Rabbi",
         "71.74132231404958"
        ],
        [
         "Pianist",
         "71.754"
        ],
        [
         "Trade unionist",
         "71.76842105263158"
        ],
        [
         "Surgeon",
         "71.81564245810056"
        ],
        [
         "Translator",
         "72.04631655725747"
        ],
        [
         "Architect",
         "72.08530646515533"
        ],
        [
         "Engineer",
         "72.15661094224924"
        ],
        [
         "Fencer",
         "72.49645390070921"
        ],
        [
         "Inventor",
         "73.12954545454545"
        ],
        [
         "Researcher",
         "73.13137615892579"
        ],
        [
         "Entrepreneur",
         "73.22214627477786"
        ],
        [
         "Psychiatrist",
         "73.23138510808647"
        ],
        [
         "Teacher",
         "73.3319951570764"
        ],
        [
         "Librarian",
         "73.43733474352194"
        ],
        [
         "Judge",
         "74.00484977525431"
        ],
        [
         "Businessperson",
         "74.15305443187056"
        ],
        [
         "Psychologist",
         "76.3963782696177"
        ]
       ],
       "shape": {
        "columns": 1,
        "rows": 39
       }
      },
      "text/plain": [
       "Occupation\n",
       "Aristocrat            53.006540\n",
       "Explorer              61.799302\n",
       "Military personnel    63.820056\n",
       "Police officer        64.403013\n",
       "Merchant              68.316125\n",
       "Athlete               68.772460\n",
       "Pastor                68.870213\n",
       "Minister              69.176471\n",
       "Jurist                69.488372\n",
       "Journalist            69.591239\n",
       "Artist                69.725145\n",
       "Religious figure      69.801273\n",
       "Author                70.094754\n",
       "Politician            70.541558\n",
       "Physician             70.683996\n",
       "Rower                 71.019317\n",
       "Philosopher           71.037957\n",
       "Astronomer            71.152301\n",
       "Publisher             71.178990\n",
       "Lawyer                71.231208\n",
       "Farmer                71.240991\n",
       "Novelist              71.452949\n",
       "Rabbi                 71.741322\n",
       "Pianist               71.754000\n",
       "Trade unionist        71.768421\n",
       "Surgeon               71.815642\n",
       "Translator            72.046317\n",
       "Architect             72.085306\n",
       "Engineer              72.156611\n",
       "Fencer                72.496454\n",
       "Inventor              73.129545\n",
       "Researcher            73.131376\n",
       "Entrepreneur          73.222146\n",
       "Psychiatrist          73.231385\n",
       "Teacher               73.331995\n",
       "Librarian             73.437335\n",
       "Judge                 74.004850\n",
       "Businessperson        74.153054\n",
       "Psychologist          76.396378\n",
       "Name: Age of death, dtype: float64"
      ]
     },
     "metadata": {},
     "output_type": "display_data"
    }
   ],
   "source": [
    "age_by_occup.sort_values(ascending=True)"
   ]
  },
  {
   "cell_type": "markdown",
   "id": "c5cd8acb",
   "metadata": {},
   "source": [
    "### Suicide"
   ]
  },
  {
   "cell_type": "code",
   "execution_count": null,
   "id": "037e0d27",
   "metadata": {},
   "outputs": [
    {
     "data": {
      "application/vnd.microsoft.datawrangler.viewer.v0+json": {
       "columns": [
        {
         "name": "Manner of death",
         "rawType": "object",
         "type": "string"
        },
        {
         "name": "count",
         "rawType": "int64",
         "type": "integer"
        }
       ],
       "ref": "ab2c7157-ecd1-4cc6-9076-18c39ad1d16c",
       "rows": [
        [
         "natural causes",
         "29717"
        ],
        [
         "suicide",
         "4647"
        ],
        [
         "accident",
         "4217"
        ],
        [
         "homicide",
         "3273"
        ],
        [
         "capital punishment",
         "1813"
        ],
        [
         "unnatural death",
         "257"
        ],
        [
         "death in battle",
         "168"
        ],
        [
         "capital punishment; unnatural death",
         "69"
        ],
        [
         "capital punishment; suicide",
         "36"
        ],
        [
         "capital punishment; homicide",
         "35"
        ],
        [
         "accident; natural causes",
         "25"
        ],
        [
         "suicide; accident",
         "23"
        ],
        [
         "homicide; homicide",
         "9"
        ],
        [
         "extrajudicial killing",
         "9"
        ],
        [
         "suicide; homicide",
         "9"
        ],
        [
         "suicide; natural causes",
         "7"
        ],
        [
         "Eastern Front of World War II",
         "6"
        ],
        [
         "duel",
         "5"
        ],
        [
         "homicide; accident",
         "5"
        ],
        [
         "shipwrecking",
         "5"
        ],
        [
         "unfortunate accident",
         "4"
        ],
        [
         "dogfight",
         "4"
        ],
        [
         "falling",
         "4"
        ],
        [
         "euthanasia",
         "4"
        ],
        [
         "femicide",
         "3"
        ],
        [
         "homicide; ballistic trauma",
         "3"
        ],
        [
         "war",
         "3"
        ],
        [
         "deportation",
         "3"
        ],
        [
         "dysentery",
         "2"
        ],
        [
         "accident; occupational injury",
         "2"
        ],
        [
         "pending investigation",
         "2"
        ],
        [
         "Israeli targeted killings",
         "2"
        ],
        [
         "gunshot",
         "2"
        ],
        [
         "summary execution",
         "2"
        ],
        [
         "lynching",
         "2"
        ],
        [
         "cholera outbreak",
         "2"
        ],
        [
         "torpedo",
         "2"
        ],
        [
         "The Holocaust",
         "2"
        ],
        [
         "disaster",
         "2"
        ],
        [
         "hunger strike",
         "2"
        ],
        [
         "complication",
         "2"
        ],
        [
         "Spanish Civil War",
         "2"
        ],
        [
         "World War I",
         "2"
        ],
        [
         "scarlet fever",
         "1"
        ],
        [
         "killing",
         "1"
        ],
        [
         "homicide; death in absentia",
         "1"
        ],
        [
         "era",
         "1"
        ],
        [
         "homicide; regicide",
         "1"
        ],
        [
         "Category:People executed by firing squad",
         "1"
        ],
        [
         "capital punishment; torture",
         "1"
        ]
       ],
       "shape": {
        "columns": 1,
        "rows": 166
       }
      },
      "text/plain": [
       "Manner of death\n",
       "natural causes        29717\n",
       "suicide                4647\n",
       "accident               4217\n",
       "homicide               3273\n",
       "capital punishment     1813\n",
       "                      ...  \n",
       "rebellion                 1\n",
       "Holocaust victim          1\n",
       "unknown                   1\n",
       "war; suicide              1\n",
       "White Terror              1\n",
       "Name: count, Length: 166, dtype: int64"
      ]
     },
     "metadata": {},
     "output_type": "display_data"
    }
   ],
   "source": [
    "df[\"Manner of death\"].value_counts()"
   ]
  },
  {
   "cell_type": "code",
   "execution_count": null,
   "id": "1bc62355",
   "metadata": {},
   "outputs": [
    {
     "data": {
      "application/vnd.microsoft.datawrangler.viewer.v0+json": {
       "columns": [
        {
         "name": "index",
         "rawType": "int64",
         "type": "integer"
        },
        {
         "name": "Id",
         "rawType": "object",
         "type": "string"
        },
        {
         "name": "Name",
         "rawType": "object",
         "type": "string"
        },
        {
         "name": "Short description",
         "rawType": "object",
         "type": "unknown"
        },
        {
         "name": "Gender",
         "rawType": "object",
         "type": "unknown"
        },
        {
         "name": "Country",
         "rawType": "object",
         "type": "unknown"
        },
        {
         "name": "Occupation",
         "rawType": "object",
         "type": "string"
        },
        {
         "name": "Birth year",
         "rawType": "int64",
         "type": "integer"
        },
        {
         "name": "Death year",
         "rawType": "float64",
         "type": "float"
        },
        {
         "name": "Manner of death",
         "rawType": "object",
         "type": "string"
        },
        {
         "name": "Age of death",
         "rawType": "float64",
         "type": "float"
        }
       ],
       "ref": "3d290e42-15cd-4da6-9451-88144f577d36",
       "rows": [
        [
         "23",
         "Q440",
         "Salvador Allende",
         "28th president of Chile (1908–1973)",
         "Male",
         "Chile",
         "Politician",
         "1908",
         "1973.0",
         "suicide",
         "65.0"
        ],
        [
         "131",
         "Q1322",
         "José Manuel Balmaceda",
         "Chilean politician and President (1840-1891)",
         "Male",
         "Chile",
         "Politician",
         "1840",
         "1891.0",
         "suicide",
         "51.0"
        ],
        [
         "189",
         "Q2022",
         "Cesare Pavese",
         "Italian poet, novelist, literary critic, and translator",
         "Male",
         "Italy; Kingdom of Italy",
         "Researcher",
         "1908",
         "1950.0",
         "suicide",
         "42.0"
        ],
        [
         "323",
         "Q4616",
         "Marilyn Monroe",
         "American actress, model, and singer (1926-1962)",
         "Female",
         "United States of America",
         "Artist",
         "1926",
         "1962.0",
         "suicide",
         "36.0"
        ],
        [
         "327",
         "Q4673",
         "Paul Otto",
         "German film actor and director",
         "Male",
         "Nazi Germany; Weimar Republic; German Empire",
         "Artist",
         "1878",
         "1943.0",
         "suicide",
         "65.0"
        ],
        [
         "378",
         "Q5081",
         "Emperor Aizong of Jin",
         "emperor of the Jin Dynasty (1115–1234)",
         "Male",
         null,
         "Aristocrat",
         "1198",
         "1234.0",
         "suicide",
         "36.0"
        ],
        [
         "420",
         "Q5582",
         "Vincent van Gogh",
         "Dutch post-impressionist painter (1853–1890)",
         "Male",
         "Netherlands",
         "Artist",
         "1853",
         "1890.0",
         "suicide",
         "37.0"
        ],
        [
         "536",
         "Q7251",
         "Alan Turing",
         "British mathematician, logician, cryptanalyst, and computer scientist",
         "Male",
         "United Kingdom",
         "Researcher",
         "1912",
         "1954.0",
         "suicide",
         "42.0"
        ],
        [
         "553",
         "Q7301",
         "Prince of Hongnong",
         "emperor of the Han Dynasty (176-190)",
         "Male",
         "Eastern Han Dynasty",
         "Politician",
         "176",
         "190.0",
         "suicide",
         "14.0"
        ],
        [
         "641",
         "Q7490",
         "Clara Immerwahr",
         "German chemist",
         "Female",
         "German Empire",
         "Researcher",
         "1870",
         "1915.0",
         "suicide",
         "45.0"
        ],
        [
         "722",
         "Q8446",
         "Kurt Cobain",
         "American singer, musician, and composer",
         "Male",
         "United States of America",
         "Artist",
         "1967",
         "1994.0",
         "suicide",
         "27.0"
        ],
        [
         "1074",
         "Q14060",
         "Erwin Rommel",
         "German field marshal of World War II",
         "Male",
         "Nazi Germany; Weimar Republic; German Empire",
         "Military personnel",
         "1891",
         "1944.0",
         "suicide",
         "53.0"
        ],
        [
         "1079",
         "Q14100",
         "Klara Dan von Neumann",
         "Hungarian computer scientist",
         "Female",
         "Hungary",
         "Athlete",
         "1911",
         "1963.0",
         "suicide",
         "52.0"
        ],
        [
         "1091",
         "Q14307",
         "Nicolas Leblanc",
         "French chemist",
         "Male",
         "France",
         "Researcher",
         "1742",
         "1806.0",
         "suicide",
         "64.0"
        ],
        [
         "1093",
         "Q14345",
         "Roh Moo-hyun",
         "9th President of the Republic of Korea (1946-2009)",
         "Male",
         "South Korea",
         "Politician",
         "1946",
         "2009.0",
         "suicide",
         "63.0"
        ],
        [
         "1185",
         "Q15969",
         "Jean Améry",
         "Austrian-born essayist and Holocaust survivor (1912-1978)",
         "Male",
         "Austria",
         "Artist",
         "1912",
         "1978.0",
         "suicide",
         "66.0"
        ],
        [
         "1236",
         "Q16864",
         "Horacio Quiroga",
         "Uruguayan playwright, poet, and short story writer",
         "Male",
         "Uruguay",
         "Artist",
         "1878",
         "1937.0",
         "suicide",
         "59.0"
        ],
        [
         "1346",
         "Q19059",
         "Dénes Kőnig",
         "Jewish Hungarian mathematician",
         "Male",
         "Hungary",
         "Researcher",
         "1884",
         "1944.0",
         "suicide",
         "60.0"
        ],
        [
         "1360",
         "Q19198",
         "Chester Bennington",
         "American singer-songwriter",
         "Male",
         "United States of America",
         "Artist",
         "1976",
         "2017.0",
         "suicide",
         "41.0"
        ],
        [
         "1487",
         "Q23386",
         "John McEwen",
         "Australian politician, 18th Prime Minister of Australia (1900-1980)",
         "Male",
         "Australia",
         "Politician",
         "1900",
         "1980.0",
         "suicide",
         "80.0"
        ],
        [
         "1488",
         "Q23412",
         "Roy Raymond",
         "American businessman, founder of Victoria's Secret",
         "Male",
         "United States of America",
         "Entrepreneur",
         "1947",
         "1993.0",
         "suicide",
         "46.0"
        ],
        [
         "1489",
         "Q23434",
         "Ernest Hemingway",
         "American author and journalist",
         "Male",
         "United States of America",
         "Artist",
         "1899",
         "1961.0",
         "suicide",
         "62.0"
        ],
        [
         "1516",
         "Q23945",
         "Ana Cristina Cesar",
         "Brazilian poet and translator",
         "Female",
         "Brazil",
         "Artist",
         "1952",
         "1983.0",
         "suicide",
         "31.0"
        ],
        [
         "1520",
         "Q23953",
         "Maria Bard",
         "German actress",
         "Female",
         "Germany",
         "Artist",
         "1900",
         "1944.0",
         "suicide",
         "44.0"
        ],
        [
         "1564",
         "Q24334",
         "Mykola Khvylovy",
         "Ukrainian writer and poet",
         "Male",
         "Soviet Union; Russian Empire",
         "Artist",
         "1893",
         "1933.0",
         "suicide",
         "40.0"
        ],
        [
         "1698",
         "Q26208",
         "Carlo Lizzani",
         "Italian film director, screenwriter and critic",
         "Male",
         "Italy; Kingdom of Italy",
         "Artist",
         "1922",
         "2013.0",
         "suicide",
         "91.0"
        ],
        [
         "1792",
         "Q27820",
         "Lucien Gaudin",
         "French fencer",
         "Male",
         "France",
         "Fencer",
         "1886",
         "1934.0",
         "suicide",
         "48.0"
        ],
        [
         "1793",
         "Q27826",
         "Zhang Yang",
         "Chinese general of the People's Liberation Army (1951-2017)",
         "Male",
         "People's Republic of China",
         "Politician",
         "1951",
         "2017.0",
         "suicide",
         "66.0"
        ],
        [
         "1815",
         "Q28494",
         "Heinrich von Kleist",
         "German poet, dramatist, novelist and short story writer",
         "Male",
         "Holy Roman Empire",
         "Artist",
         "1777",
         "1811.0",
         "suicide",
         "34.0"
        ],
        [
         "1852",
         "Q28939",
         "Hans Jeschonnek",
         "German Generaloberst",
         "Male",
         "Germany",
         "Military personnel",
         "1899",
         "1943.0",
         "suicide",
         "44.0"
        ],
        [
         "1965",
         "Q31178",
         "Francis Russell, 9th Duke of Bedford",
         "politician from the United Kingdom (1819-1891)",
         "Male",
         "United Kingdom of Great Britain and Ireland",
         "Politician",
         "1819",
         "1891.0",
         "suicide",
         "72.0"
        ],
        [
         "2004",
         "Q31628",
         "Sergei Yesenin",
         "Russian poet",
         "Male",
         "Soviet Union; Russian Empire",
         "Artist",
         "1895",
         "1925.0",
         "suicide",
         "30.0"
        ],
        [
         "2238",
         "Q36232",
         "Angela Devi",
         "American adult model",
         "Female",
         "United States of America",
         "Artist",
         "1975",
         "2006.0",
         "suicide",
         "31.0"
        ],
        [
         "2248",
         "Q36456",
         "Hannibal",
         "Carthaginian general during the Second Punic War with the Roman Republic",
         "Male",
         "Carthage",
         "Politician",
         "-247",
         "-183.0",
         "suicide",
         "64.0"
        ],
        [
         "2267",
         "Q36843",
         "Walter Gross",
         "German physician and nazi politician (1904-1945)",
         "Male",
         "Germany; Nazi Germany; Weimar Republic",
         "Politician",
         "1904",
         "1945.0",
         "suicide",
         "41.0"
        ],
        [
         "2269",
         "Q36951",
         "Sándor Márai",
         "Hungarian writer",
         "Male",
         "Hungary",
         "Artist",
         "1900",
         "1989.0",
         "suicide",
         "89.0"
        ],
        [
         "2468",
         "Q40670",
         "Henryk Ehrlich",
         "Polish socialist",
         "Male",
         "Poland",
         "Journalist",
         "1882",
         "1942.0",
         "suicide",
         "60.0"
        ],
        [
         "2478",
         "Q40909",
         "Virginia Woolf",
         "English modernist writer known for use of stream of consciousness",
         "Female",
         "United Kingdom; United Kingdom of Great Britain and Ireland",
         "Artist",
         "1882",
         "1941.0",
         "suicide",
         "59.0"
        ],
        [
         "2575",
         "Q41749",
         "Joseph Goebbels",
         "German Nazi politician and Propaganda Minister (1897-1945)",
         "Male",
         "Germany",
         "Politician",
         "1897",
         "1945.0",
         "suicide",
         "48.0"
        ],
        [
         "2631",
         "Q43067",
         "Heinrich Himmler",
         "German Nazi politician; leader of the SS and main architect of the Holocaust (1900-1945)",
         "Male",
         "Nazi Germany",
         "Politician",
         "1900",
         "1945.0",
         "suicide",
         "45.0"
        ],
        [
         "2678",
         "Q43736",
         "Yasunari Kawabata",
         "Japanese author",
         "Male",
         "Japan",
         "Artist",
         "1899",
         "1972.0",
         "suicide",
         "73.0"
        ],
        [
         "2701",
         "Q43831",
         "Max Grießer",
         "German actor (1928-2000)",
         "Male",
         "Germany",
         "Artist",
         "1928",
         "2000.0",
         "suicide",
         "72.0"
        ],
        [
         "2779",
         "Q44292",
         "Chris Benoit",
         "Canadian professional wrestler (1967-2007)",
         "Male",
         "Canada",
         "Athlete",
         "1967",
         "2007.0",
         "suicide",
         "40.0"
        ],
        [
         "2781",
         "Q44315",
         "Hide",
         "Japanese musician",
         "Male",
         "Japan",
         "Artist",
         "1964",
         "1998.0",
         "suicide",
         "34.0"
        ],
        [
         "2820",
         "Q44556",
         "Jack Unterweger",
         "Austrian serial killer",
         "Male",
         "Austria",
         "Artist",
         "1950",
         "1994.0",
         "suicide",
         "44.0"
        ],
        [
         "2885",
         "Q44993",
         "Max Joseph von Pettenkofer",
         "Bavarian chemist and hygienist",
         "Male",
         "Germany",
         "Researcher",
         "1818",
         "1901.0",
         "suicide",
         "83.0"
        ],
        [
         "2893",
         "Q45025",
         "Ferdinand Raimund",
         "Austrian dramatist, actor and writer",
         "Male",
         "Austria; Austrian Empire",
         "Artist",
         "1790",
         "1836.0",
         "suicide",
         "46.0"
        ],
        [
         "2962",
         "Q45336",
         "Konrad Bayer",
         "Austrian writer and poet",
         "Male",
         "Austria",
         "Artist",
         "1932",
         "1964.0",
         "suicide",
         "32.0"
        ],
        [
         "3179",
         "Q47906",
         "Hermann Göring",
         "German Nazi politician, military leader and convicted war criminal (1893-1946)",
         "Male",
         "Nazi Germany; German Empire",
         "Politician",
         "1893",
         "1946.0",
         "suicide",
         "53.0"
        ],
        [
         "3185",
         "Q48042",
         "Sergey Akhromeyev",
         "Soviet marshal (1923-1991)",
         "Male",
         "Soviet Union",
         "Politician",
         "1923",
         "1991.0",
         "suicide",
         "68.0"
        ]
       ],
       "shape": {
        "columns": 10,
        "rows": 4647
       }
      },
      "text/html": [
       "<div>\n",
       "<style scoped>\n",
       "    .dataframe tbody tr th:only-of-type {\n",
       "        vertical-align: middle;\n",
       "    }\n",
       "\n",
       "    .dataframe tbody tr th {\n",
       "        vertical-align: top;\n",
       "    }\n",
       "\n",
       "    .dataframe thead th {\n",
       "        text-align: right;\n",
       "    }\n",
       "</style>\n",
       "<table border=\"1\" class=\"dataframe\">\n",
       "  <thead>\n",
       "    <tr style=\"text-align: right;\">\n",
       "      <th></th>\n",
       "      <th>Id</th>\n",
       "      <th>Name</th>\n",
       "      <th>Short description</th>\n",
       "      <th>Gender</th>\n",
       "      <th>Country</th>\n",
       "      <th>Occupation</th>\n",
       "      <th>Birth year</th>\n",
       "      <th>Death year</th>\n",
       "      <th>Manner of death</th>\n",
       "      <th>Age of death</th>\n",
       "    </tr>\n",
       "  </thead>\n",
       "  <tbody>\n",
       "    <tr>\n",
       "      <th>23</th>\n",
       "      <td>Q440</td>\n",
       "      <td>Salvador Allende</td>\n",
       "      <td>28th president of Chile (1908–1973)</td>\n",
       "      <td>Male</td>\n",
       "      <td>Chile</td>\n",
       "      <td>Politician</td>\n",
       "      <td>1908</td>\n",
       "      <td>1973.0</td>\n",
       "      <td>suicide</td>\n",
       "      <td>65.0</td>\n",
       "    </tr>\n",
       "    <tr>\n",
       "      <th>131</th>\n",
       "      <td>Q1322</td>\n",
       "      <td>José Manuel Balmaceda</td>\n",
       "      <td>Chilean politician and President (1840-1891)</td>\n",
       "      <td>Male</td>\n",
       "      <td>Chile</td>\n",
       "      <td>Politician</td>\n",
       "      <td>1840</td>\n",
       "      <td>1891.0</td>\n",
       "      <td>suicide</td>\n",
       "      <td>51.0</td>\n",
       "    </tr>\n",
       "    <tr>\n",
       "      <th>189</th>\n",
       "      <td>Q2022</td>\n",
       "      <td>Cesare Pavese</td>\n",
       "      <td>Italian poet, novelist, literary critic, and t...</td>\n",
       "      <td>Male</td>\n",
       "      <td>Italy; Kingdom of Italy</td>\n",
       "      <td>Researcher</td>\n",
       "      <td>1908</td>\n",
       "      <td>1950.0</td>\n",
       "      <td>suicide</td>\n",
       "      <td>42.0</td>\n",
       "    </tr>\n",
       "    <tr>\n",
       "      <th>323</th>\n",
       "      <td>Q4616</td>\n",
       "      <td>Marilyn Monroe</td>\n",
       "      <td>American actress, model, and singer (1926-1962)</td>\n",
       "      <td>Female</td>\n",
       "      <td>United States of America</td>\n",
       "      <td>Artist</td>\n",
       "      <td>1926</td>\n",
       "      <td>1962.0</td>\n",
       "      <td>suicide</td>\n",
       "      <td>36.0</td>\n",
       "    </tr>\n",
       "    <tr>\n",
       "      <th>327</th>\n",
       "      <td>Q4673</td>\n",
       "      <td>Paul Otto</td>\n",
       "      <td>German film actor and director</td>\n",
       "      <td>Male</td>\n",
       "      <td>Nazi Germany; Weimar Republic; German Empire</td>\n",
       "      <td>Artist</td>\n",
       "      <td>1878</td>\n",
       "      <td>1943.0</td>\n",
       "      <td>suicide</td>\n",
       "      <td>65.0</td>\n",
       "    </tr>\n",
       "    <tr>\n",
       "      <th>...</th>\n",
       "      <td>...</td>\n",
       "      <td>...</td>\n",
       "      <td>...</td>\n",
       "      <td>...</td>\n",
       "      <td>...</td>\n",
       "      <td>...</td>\n",
       "      <td>...</td>\n",
       "      <td>...</td>\n",
       "      <td>...</td>\n",
       "      <td>...</td>\n",
       "    </tr>\n",
       "    <tr>\n",
       "      <th>1212054</th>\n",
       "      <td>Q70834687</td>\n",
       "      <td>Karl Neumann</td>\n",
       "      <td>politician and director of the Deutsche Zeiche...</td>\n",
       "      <td>NaN</td>\n",
       "      <td>German Reich</td>\n",
       "      <td>Politician</td>\n",
       "      <td>1900</td>\n",
       "      <td>1945.0</td>\n",
       "      <td>suicide</td>\n",
       "      <td>45.0</td>\n",
       "    </tr>\n",
       "    <tr>\n",
       "      <th>1213739</th>\n",
       "      <td>Q73375287</td>\n",
       "      <td>Peter Kuranda</td>\n",
       "      <td>Austrian journalist</td>\n",
       "      <td>Male</td>\n",
       "      <td>Austria; Austria-Hungary</td>\n",
       "      <td>Journalist</td>\n",
       "      <td>1896</td>\n",
       "      <td>1938.0</td>\n",
       "      <td>suicide</td>\n",
       "      <td>42.0</td>\n",
       "    </tr>\n",
       "    <tr>\n",
       "      <th>1214539</th>\n",
       "      <td>Q75135015</td>\n",
       "      <td>Michael Benveniste</td>\n",
       "      <td>American pornographic film director</td>\n",
       "      <td>Male</td>\n",
       "      <td>United States of America</td>\n",
       "      <td>Artist</td>\n",
       "      <td>1946</td>\n",
       "      <td>1982.0</td>\n",
       "      <td>suicide</td>\n",
       "      <td>36.0</td>\n",
       "    </tr>\n",
       "    <tr>\n",
       "      <th>1215398</th>\n",
       "      <td>Q75336010</td>\n",
       "      <td>George Dewey Sanford Jr.</td>\n",
       "      <td>United States Marine</td>\n",
       "      <td>Male</td>\n",
       "      <td>United States of America</td>\n",
       "      <td>Military personnel</td>\n",
       "      <td>1925</td>\n",
       "      <td>1994.0</td>\n",
       "      <td>suicide</td>\n",
       "      <td>69.0</td>\n",
       "    </tr>\n",
       "    <tr>\n",
       "      <th>1217823</th>\n",
       "      <td>Q75694915</td>\n",
       "      <td>Gotthard Zimmer</td>\n",
       "      <td>fotograaf uit Oostenrijk-Hongarije (1847-1886)</td>\n",
       "      <td>NaN</td>\n",
       "      <td>Austria-Hungary</td>\n",
       "      <td>Artist</td>\n",
       "      <td>1847</td>\n",
       "      <td>1886.0</td>\n",
       "      <td>suicide</td>\n",
       "      <td>39.0</td>\n",
       "    </tr>\n",
       "  </tbody>\n",
       "</table>\n",
       "<p>4647 rows × 10 columns</p>\n",
       "</div>"
      ],
      "text/plain": [
       "                Id                      Name  \\\n",
       "23            Q440          Salvador Allende   \n",
       "131          Q1322     José Manuel Balmaceda   \n",
       "189          Q2022             Cesare Pavese   \n",
       "323          Q4616            Marilyn Monroe   \n",
       "327          Q4673                 Paul Otto   \n",
       "...            ...                       ...   \n",
       "1212054  Q70834687              Karl Neumann   \n",
       "1213739  Q73375287             Peter Kuranda   \n",
       "1214539  Q75135015        Michael Benveniste   \n",
       "1215398  Q75336010  George Dewey Sanford Jr.   \n",
       "1217823  Q75694915           Gotthard Zimmer   \n",
       "\n",
       "                                         Short description  Gender  \\\n",
       "23                     28th president of Chile (1908–1973)    Male   \n",
       "131           Chilean politician and President (1840-1891)    Male   \n",
       "189      Italian poet, novelist, literary critic, and t...    Male   \n",
       "323        American actress, model, and singer (1926-1962)  Female   \n",
       "327                         German film actor and director    Male   \n",
       "...                                                    ...     ...   \n",
       "1212054  politician and director of the Deutsche Zeiche...     NaN   \n",
       "1213739                                Austrian journalist    Male   \n",
       "1214539                American pornographic film director    Male   \n",
       "1215398                               United States Marine    Male   \n",
       "1217823     fotograaf uit Oostenrijk-Hongarije (1847-1886)     NaN   \n",
       "\n",
       "                                              Country          Occupation  \\\n",
       "23                                              Chile          Politician   \n",
       "131                                             Chile          Politician   \n",
       "189                           Italy; Kingdom of Italy          Researcher   \n",
       "323                          United States of America              Artist   \n",
       "327      Nazi Germany; Weimar Republic; German Empire              Artist   \n",
       "...                                               ...                 ...   \n",
       "1212054                                  German Reich          Politician   \n",
       "1213739                      Austria; Austria-Hungary          Journalist   \n",
       "1214539                      United States of America              Artist   \n",
       "1215398                      United States of America  Military personnel   \n",
       "1217823                               Austria-Hungary              Artist   \n",
       "\n",
       "         Birth year  Death year Manner of death  Age of death  \n",
       "23             1908      1973.0         suicide          65.0  \n",
       "131            1840      1891.0         suicide          51.0  \n",
       "189            1908      1950.0         suicide          42.0  \n",
       "323            1926      1962.0         suicide          36.0  \n",
       "327            1878      1943.0         suicide          65.0  \n",
       "...             ...         ...             ...           ...  \n",
       "1212054        1900      1945.0         suicide          45.0  \n",
       "1213739        1896      1938.0         suicide          42.0  \n",
       "1214539        1946      1982.0         suicide          36.0  \n",
       "1215398        1925      1994.0         suicide          69.0  \n",
       "1217823        1847      1886.0         suicide          39.0  \n",
       "\n",
       "[4647 rows x 10 columns]"
      ]
     },
     "metadata": {},
     "output_type": "display_data"
    }
   ],
   "source": [
    "df_suicide = df[df[\"Manner of death\"] == \"suicide\"]\n",
    "df_suicide"
   ]
  },
  {
   "cell_type": "code",
   "execution_count": null,
   "id": "d4d9e30b",
   "metadata": {},
   "outputs": [
    {
     "data": {
      "application/vnd.microsoft.datawrangler.viewer.v0+json": {
       "columns": [
        {
         "name": "Country",
         "rawType": "object",
         "type": "string"
        },
        {
         "name": "count",
         "rawType": "int64",
         "type": "integer"
        }
       ],
       "ref": "cf287401-4e5a-4e2c-9e2c-4ca08a6dd6c9",
       "rows": [
        [
         "United States of America",
         "991"
        ],
        [
         "France",
         "362"
        ],
        [
         "Germany",
         "321"
        ],
        [
         "United Kingdom",
         "152"
        ],
        [
         "Japan",
         "141"
        ],
        [
         "Hungary",
         "105"
        ],
        [
         "United Kingdom of Great Britain and Ireland",
         "103"
        ],
        [
         "Poland",
         "95"
        ],
        [
         "Australia",
         "78"
        ],
        [
         "Canada",
         "68"
        ],
        [
         "United Kingdom; United Kingdom of Great Britain and Ireland",
         "68"
        ],
        [
         "Italy; Kingdom of Italy",
         "66"
        ],
        [
         "Sweden",
         "52"
        ],
        [
         "South Korea",
         "50"
        ],
        [
         "Kingdom of Italy",
         "49"
        ],
        [
         "Austria",
         "47"
        ],
        [
         "Soviet Union",
         "47"
        ],
        [
         "People's Republic of China",
         "44"
        ],
        [
         "Russian Empire",
         "42"
        ],
        [
         "Czech Republic",
         "41"
        ],
        [
         "Kingdom of the Netherlands",
         "37"
        ],
        [
         "Switzerland",
         "36"
        ],
        [
         "Argentina",
         "35"
        ],
        [
         "Belgium",
         "34"
        ],
        [
         "Italy",
         "31"
        ],
        [
         "Spain",
         "31"
        ],
        [
         "Norway",
         "30"
        ],
        [
         "New Zealand",
         "27"
        ],
        [
         "Czechoslovakia",
         "26"
        ],
        [
         "Kingdom of Great Britain; United Kingdom of Great Britain and Ireland",
         "26"
        ],
        [
         "Romania",
         "26"
        ],
        [
         "Soviet Union; Russian Empire",
         "26"
        ],
        [
         "South Africa",
         "25"
        ],
        [
         "Finland",
         "23"
        ],
        [
         "Greece",
         "21"
        ],
        [
         "Brazil",
         "21"
        ],
        [
         "Chile",
         "19"
        ],
        [
         "Austria-Hungary",
         "17"
        ],
        [
         "Mexico",
         "16"
        ],
        [
         "Denmark",
         "16"
        ],
        [
         "Qing dynasty",
         "15"
        ],
        [
         "Kingdom of Great Britain",
         "14"
        ],
        [
         "German Empire",
         "14"
        ],
        [
         "Ireland",
         "14"
        ],
        [
         "China",
         "14"
        ],
        [
         "Israel",
         "14"
        ],
        [
         "Russia",
         "13"
        ],
        [
         "Ming dynasty",
         "13"
        ],
        [
         "Cuba",
         "12"
        ],
        [
         "Germany; German Democratic Republic",
         "11"
        ]
       ],
       "shape": {
        "columns": 1,
        "rows": 354
       }
      },
      "text/plain": [
       "Country\n",
       "United States of America                           991\n",
       "France                                             362\n",
       "Germany                                            321\n",
       "United Kingdom                                     152\n",
       "Japan                                              141\n",
       "                                                  ... \n",
       "Qing dynasty; Ming dynasty; Kingdom of Tungning      1\n",
       "Spain; Peru                                          1\n",
       "West Germany                                         1\n",
       "Qing dynasty; China                                  1\n",
       "United States of America; Russian Empire             1\n",
       "Name: count, Length: 354, dtype: int64"
      ]
     },
     "metadata": {},
     "output_type": "display_data"
    }
   ],
   "source": [
    "suicide_counts_country = df_suicide[\"Country\"].value_counts()\n",
    "suicide_counts_country"
   ]
  },
  {
   "cell_type": "code",
   "execution_count": null,
   "id": "c83a7ae7",
   "metadata": {},
   "outputs": [
    {
     "data": {
      "application/vnd.microsoft.datawrangler.viewer.v0+json": {
       "columns": [
        {
         "name": "Country",
         "rawType": "object",
         "type": "string"
        },
        {
         "name": "count",
         "rawType": "int64",
         "type": "integer"
        }
       ],
       "ref": "74868ffc-93eb-4406-b192-b6eca3d12a6b",
       "rows": [
        [
         "United States of America",
         "135127"
        ],
        [
         "Germany",
         "78718"
        ],
        [
         "France",
         "65572"
        ],
        [
         "United Kingdom; United Kingdom of Great Britain and Ireland",
         "26642"
        ],
        [
         "Spain",
         "21930"
        ],
        [
         "Sweden",
         "21236"
        ],
        [
         "Canada",
         "20225"
        ],
        [
         "United Kingdom",
         "19127"
        ],
        [
         "United Kingdom of Great Britain and Ireland",
         "16354"
        ],
        [
         "Italy; Kingdom of Italy",
         "15958"
        ],
        [
         "Kingdom of the Netherlands",
         "15148"
        ],
        [
         "Poland",
         "14776"
        ],
        [
         "Norway",
         "14039"
        ],
        [
         "Japan",
         "13209"
        ],
        [
         "Austria",
         "12515"
        ],
        [
         "Australia",
         "12357"
        ],
        [
         "Belgium",
         "10351"
        ],
        [
         "Finland",
         "10183"
        ],
        [
         "Switzerland",
         "9544"
        ],
        [
         "Denmark",
         "9187"
        ],
        [
         "Kingdom of Italy",
         "8831"
        ],
        [
         "Hungary",
         "7762"
        ],
        [
         "Brazil",
         "6803"
        ],
        [
         "Kingdom of Great Britain; United Kingdom of Great Britain and Ireland",
         "6407"
        ],
        [
         "Argentina",
         "6247"
        ],
        [
         "New Zealand",
         "6110"
        ],
        [
         "Soviet Union",
         "6094"
        ],
        [
         "Russian Empire",
         "5235"
        ],
        [
         "Russia; Soviet Union",
         "4394"
        ],
        [
         "Mexico",
         "4274"
        ],
        [
         "Kingdom of England",
         "3920"
        ],
        [
         "Soviet Union; Russian Empire",
         "3766"
        ],
        [
         "Kingdom of Great Britain",
         "3391"
        ],
        [
         "Czech Republic",
         "3343"
        ],
        [
         "Portugal",
         "3322"
        ],
        [
         "Netherlands",
         "3159"
        ],
        [
         "Romania",
         "3017"
        ],
        [
         "Ireland",
         "2826"
        ],
        [
         "Czechoslovakia",
         "2694"
        ],
        [
         "Chile",
         "2648"
        ],
        [
         "India; British Raj",
         "2642"
        ],
        [
         "South Africa",
         "2484"
        ],
        [
         "Uruguay",
         "2323"
        ],
        [
         "Italy",
         "2312"
        ],
        [
         "South Korea",
         "2128"
        ],
        [
         "People's Republic of China",
         "2088"
        ],
        [
         "Greece",
         "2037"
        ],
        [
         "Turkey",
         "1944"
        ],
        [
         "German Empire",
         "1907"
        ],
        [
         "Germany; German Democratic Republic",
         "1826"
        ]
       ],
       "shape": {
        "columns": 1,
        "rows": 5400
       }
      },
      "text/plain": [
       "Country\n",
       "United States of America                                                                                                  135127\n",
       "Germany                                                                                                                    78718\n",
       "France                                                                                                                     65572\n",
       "United Kingdom; United Kingdom of Great Britain and Ireland                                                                26642\n",
       "Spain                                                                                                                      21930\n",
       "                                                                                                                           ...  \n",
       "Afghanistan; Austria-Hungary                                                                                                   1\n",
       "Syria; Ottoman Empire; State of Damascus; Arab Kingdom of Syria; State of Syria; Syrian Republic; United Arab Republic         1\n",
       "Republic of Florence; Grand Duchy of Tuscany                                                                                   1\n",
       "Grand Duchy of Tuscany; Duchy of Lucca; Kingdom of Italy                                                                       1\n",
       "Norway; Austria-Hungary; Union between Sweden and Norway                                                                       1\n",
       "Name: count, Length: 5400, dtype: int64"
      ]
     },
     "metadata": {},
     "output_type": "display_data"
    }
   ],
   "source": [
    "country_counts = df[\"Country\"].value_counts()\n",
    "country_counts"
   ]
  },
  {
   "cell_type": "code",
   "execution_count": null,
   "id": "926ba499",
   "metadata": {},
   "outputs": [
    {
     "data": {
      "application/vnd.microsoft.datawrangler.viewer.v0+json": {
       "columns": [
        {
         "name": "Country",
         "rawType": "object",
         "type": "string"
        },
        {
         "name": "count_suicide",
         "rawType": "int64",
         "type": "integer"
        },
        {
         "name": "count_overall",
         "rawType": "int64",
         "type": "integer"
        }
       ],
       "ref": "9640f8aa-71ba-4814-944b-e9ee66e039ee",
       "rows": [
        [
         "United States of America",
         "991",
         "135127"
        ],
        [
         "France",
         "362",
         "65572"
        ],
        [
         "Germany",
         "321",
         "78718"
        ],
        [
         "United Kingdom",
         "152",
         "19127"
        ],
        [
         "Japan",
         "141",
         "13209"
        ],
        [
         "Hungary",
         "105",
         "7762"
        ],
        [
         "United Kingdom of Great Britain and Ireland",
         "103",
         "16354"
        ],
        [
         "Poland",
         "95",
         "14776"
        ],
        [
         "Australia",
         "78",
         "12357"
        ],
        [
         "Canada",
         "68",
         "20225"
        ],
        [
         "United Kingdom; United Kingdom of Great Britain and Ireland",
         "68",
         "26642"
        ],
        [
         "Italy; Kingdom of Italy",
         "66",
         "15958"
        ],
        [
         "Sweden",
         "52",
         "21236"
        ],
        [
         "South Korea",
         "50",
         "2128"
        ],
        [
         "Kingdom of Italy",
         "49",
         "8831"
        ],
        [
         "Austria",
         "47",
         "12515"
        ],
        [
         "Soviet Union",
         "47",
         "6094"
        ],
        [
         "People's Republic of China",
         "44",
         "2088"
        ],
        [
         "Russian Empire",
         "42",
         "5235"
        ],
        [
         "Czech Republic",
         "41",
         "3343"
        ],
        [
         "Kingdom of the Netherlands",
         "37",
         "15148"
        ],
        [
         "Switzerland",
         "36",
         "9544"
        ],
        [
         "Argentina",
         "35",
         "6247"
        ],
        [
         "Belgium",
         "34",
         "10351"
        ],
        [
         "Italy",
         "31",
         "2312"
        ],
        [
         "Spain",
         "31",
         "21930"
        ],
        [
         "Norway",
         "30",
         "14039"
        ],
        [
         "New Zealand",
         "27",
         "6110"
        ],
        [
         "Czechoslovakia",
         "26",
         "2694"
        ],
        [
         "Kingdom of Great Britain; United Kingdom of Great Britain and Ireland",
         "26",
         "6407"
        ],
        [
         "Romania",
         "26",
         "3017"
        ],
        [
         "Soviet Union; Russian Empire",
         "26",
         "3766"
        ],
        [
         "South Africa",
         "25",
         "2484"
        ],
        [
         "Finland",
         "23",
         "10183"
        ],
        [
         "Greece",
         "21",
         "2037"
        ],
        [
         "Brazil",
         "21",
         "6803"
        ],
        [
         "Chile",
         "19",
         "2648"
        ],
        [
         "Austria-Hungary",
         "17",
         "1502"
        ],
        [
         "Mexico",
         "16",
         "4274"
        ],
        [
         "Denmark",
         "16",
         "9187"
        ],
        [
         "Qing dynasty",
         "15",
         "835"
        ],
        [
         "Kingdom of Great Britain",
         "14",
         "3391"
        ],
        [
         "German Empire",
         "14",
         "1907"
        ],
        [
         "Ireland",
         "14",
         "2826"
        ],
        [
         "China",
         "14",
         "399"
        ],
        [
         "Israel",
         "14",
         "1572"
        ],
        [
         "Russia",
         "13",
         "1246"
        ],
        [
         "Ming dynasty",
         "13",
         "296"
        ],
        [
         "Cuba",
         "12",
         "1059"
        ],
        [
         "Germany; German Democratic Republic",
         "11",
         "1826"
        ]
       ],
       "shape": {
        "columns": 2,
        "rows": 354
       }
      },
      "text/html": [
       "<div>\n",
       "<style scoped>\n",
       "    .dataframe tbody tr th:only-of-type {\n",
       "        vertical-align: middle;\n",
       "    }\n",
       "\n",
       "    .dataframe tbody tr th {\n",
       "        vertical-align: top;\n",
       "    }\n",
       "\n",
       "    .dataframe thead th {\n",
       "        text-align: right;\n",
       "    }\n",
       "</style>\n",
       "<table border=\"1\" class=\"dataframe\">\n",
       "  <thead>\n",
       "    <tr style=\"text-align: right;\">\n",
       "      <th></th>\n",
       "      <th>count_suicide</th>\n",
       "      <th>count_overall</th>\n",
       "    </tr>\n",
       "    <tr>\n",
       "      <th>Country</th>\n",
       "      <th></th>\n",
       "      <th></th>\n",
       "    </tr>\n",
       "  </thead>\n",
       "  <tbody>\n",
       "    <tr>\n",
       "      <th>United States of America</th>\n",
       "      <td>991</td>\n",
       "      <td>135127</td>\n",
       "    </tr>\n",
       "    <tr>\n",
       "      <th>France</th>\n",
       "      <td>362</td>\n",
       "      <td>65572</td>\n",
       "    </tr>\n",
       "    <tr>\n",
       "      <th>Germany</th>\n",
       "      <td>321</td>\n",
       "      <td>78718</td>\n",
       "    </tr>\n",
       "    <tr>\n",
       "      <th>United Kingdom</th>\n",
       "      <td>152</td>\n",
       "      <td>19127</td>\n",
       "    </tr>\n",
       "    <tr>\n",
       "      <th>Japan</th>\n",
       "      <td>141</td>\n",
       "      <td>13209</td>\n",
       "    </tr>\n",
       "    <tr>\n",
       "      <th>...</th>\n",
       "      <td>...</td>\n",
       "      <td>...</td>\n",
       "    </tr>\n",
       "    <tr>\n",
       "      <th>Qing dynasty; Ming dynasty; Kingdom of Tungning</th>\n",
       "      <td>1</td>\n",
       "      <td>1</td>\n",
       "    </tr>\n",
       "    <tr>\n",
       "      <th>Spain; Peru</th>\n",
       "      <td>1</td>\n",
       "      <td>23</td>\n",
       "    </tr>\n",
       "    <tr>\n",
       "      <th>West Germany</th>\n",
       "      <td>1</td>\n",
       "      <td>21</td>\n",
       "    </tr>\n",
       "    <tr>\n",
       "      <th>Qing dynasty; China</th>\n",
       "      <td>1</td>\n",
       "      <td>10</td>\n",
       "    </tr>\n",
       "    <tr>\n",
       "      <th>United States of America; Russian Empire</th>\n",
       "      <td>1</td>\n",
       "      <td>151</td>\n",
       "    </tr>\n",
       "  </tbody>\n",
       "</table>\n",
       "<p>354 rows × 2 columns</p>\n",
       "</div>"
      ],
      "text/plain": [
       "                                                 count_suicide  count_overall\n",
       "Country                                                                      \n",
       "United States of America                                   991         135127\n",
       "France                                                     362          65572\n",
       "Germany                                                    321          78718\n",
       "United Kingdom                                             152          19127\n",
       "Japan                                                      141          13209\n",
       "...                                                        ...            ...\n",
       "Qing dynasty; Ming dynasty; Kingdom of Tungning              1              1\n",
       "Spain; Peru                                                  1             23\n",
       "West Germany                                                 1             21\n",
       "Qing dynasty; China                                          1             10\n",
       "United States of America; Russian Empire                     1            151\n",
       "\n",
       "[354 rows x 2 columns]"
      ]
     },
     "metadata": {},
     "output_type": "display_data"
    }
   ],
   "source": [
    "suicide = pd.merge(suicide_counts_country, country_counts, \n",
    "                   how=\"left\", on=\"Country\",\n",
    "                   suffixes=(\"_suicide\", \"_overall\"))\n",
    "suicide"
   ]
  },
  {
   "cell_type": "code",
   "execution_count": null,
   "id": "e01f11d0",
   "metadata": {},
   "outputs": [
    {
     "data": {
      "application/vnd.microsoft.datawrangler.viewer.v0+json": {
       "columns": [
        {
         "name": "Country",
         "rawType": "object",
         "type": "string"
        },
        {
         "name": "count_suicide",
         "rawType": "int64",
         "type": "integer"
        },
        {
         "name": "count_overall",
         "rawType": "int64",
         "type": "integer"
        },
        {
         "name": "suicide_over_total",
         "rawType": "float64",
         "type": "float"
        }
       ],
       "ref": "5f038bb9-20a1-432b-afa6-483f2a912ac3",
       "rows": [
        [
         "United States of America",
         "991",
         "135127",
         "0.007333841497258135"
        ],
        [
         "France",
         "362",
         "65572",
         "0.0055206490575245536"
        ],
        [
         "Germany",
         "321",
         "78718",
         "0.00407784750628827"
        ],
        [
         "United Kingdom",
         "152",
         "19127",
         "0.007946881371882679"
        ],
        [
         "Japan",
         "141",
         "13209",
         "0.010674540086304793"
        ],
        [
         "Hungary",
         "105",
         "7762",
         "0.013527441381087349"
        ],
        [
         "United Kingdom of Great Britain and Ireland",
         "103",
         "16354",
         "0.006298153356976886"
        ],
        [
         "Poland",
         "95",
         "14776",
         "0.006429344883595019"
        ],
        [
         "Australia",
         "78",
         "12357",
         "0.006312211701869385"
        ],
        [
         "Canada",
         "68",
         "20225",
         "0.003362175525339926"
        ],
        [
         "United Kingdom; United Kingdom of Great Britain and Ireland",
         "68",
         "26642",
         "0.002552360933863824"
        ],
        [
         "Italy; Kingdom of Italy",
         "66",
         "15958",
         "0.004135856623637048"
        ],
        [
         "Sweden",
         "52",
         "21236",
         "0.002448672066302505"
        ],
        [
         "South Korea",
         "50",
         "2128",
         "0.023496240601503758"
        ],
        [
         "Kingdom of Italy",
         "49",
         "8831",
         "0.005548635488619636"
        ],
        [
         "Austria",
         "47",
         "12515",
         "0.0037554934079105074"
        ],
        [
         "Soviet Union",
         "47",
         "6094",
         "0.0077125041023957995"
        ],
        [
         "People's Republic of China",
         "44",
         "2088",
         "0.0210727969348659"
        ],
        [
         "Russian Empire",
         "42",
         "5235",
         "0.008022922636103151"
        ],
        [
         "Czech Republic",
         "41",
         "3343",
         "0.01226443314388274"
        ],
        [
         "Kingdom of the Netherlands",
         "37",
         "15148",
         "0.002442566675468709"
        ],
        [
         "Switzerland",
         "36",
         "9544",
         "0.0037720033528918693"
        ],
        [
         "Argentina",
         "35",
         "6247",
         "0.0056026892908596125"
        ],
        [
         "Belgium",
         "34",
         "10351",
         "0.0032847067916143367"
        ],
        [
         "Italy",
         "31",
         "2312",
         "0.013408304498269897"
        ],
        [
         "Spain",
         "31",
         "21930",
         "0.0014135886912904697"
        ],
        [
         "Norway",
         "30",
         "14039",
         "0.002136904337915806"
        ],
        [
         "New Zealand",
         "27",
         "6110",
         "0.0044189852700491"
        ],
        [
         "Czechoslovakia",
         "26",
         "2694",
         "0.009651076466221232"
        ],
        [
         "Kingdom of Great Britain; United Kingdom of Great Britain and Ireland",
         "26",
         "6407",
         "0.004058061495239582"
        ],
        [
         "Romania",
         "26",
         "3017",
         "0.008617832283725556"
        ],
        [
         "Soviet Union; Russian Empire",
         "26",
         "3766",
         "0.006903876792352629"
        ],
        [
         "South Africa",
         "25",
         "2484",
         "0.010064412238325281"
        ],
        [
         "Finland",
         "23",
         "10183",
         "0.0022586664047923007"
        ],
        [
         "Greece",
         "21",
         "2037",
         "0.010309278350515464"
        ],
        [
         "Brazil",
         "21",
         "6803",
         "0.003086873438189034"
        ],
        [
         "Chile",
         "19",
         "2648",
         "0.007175226586102719"
        ],
        [
         "Austria-Hungary",
         "17",
         "1502",
         "0.011318242343541944"
        ],
        [
         "Mexico",
         "16",
         "4274",
         "0.003743565746373421"
        ],
        [
         "Denmark",
         "16",
         "9187",
         "0.0017415913791226734"
        ],
        [
         "Qing dynasty",
         "15",
         "835",
         "0.017964071856287425"
        ],
        [
         "Kingdom of Great Britain",
         "14",
         "3391",
         "0.0041285756414037155"
        ],
        [
         "German Empire",
         "14",
         "1907",
         "0.007341373885684321"
        ],
        [
         "Ireland",
         "14",
         "2826",
         "0.004953998584571833"
        ],
        [
         "China",
         "14",
         "399",
         "0.03508771929824561"
        ],
        [
         "Israel",
         "14",
         "1572",
         "0.008905852417302799"
        ],
        [
         "Russia",
         "13",
         "1246",
         "0.01043338683788122"
        ],
        [
         "Ming dynasty",
         "13",
         "296",
         "0.04391891891891892"
        ],
        [
         "Cuba",
         "12",
         "1059",
         "0.0113314447592068"
        ],
        [
         "Germany; German Democratic Republic",
         "11",
         "1826",
         "0.006024096385542169"
        ]
       ],
       "shape": {
        "columns": 3,
        "rows": 354
       }
      },
      "text/html": [
       "<div>\n",
       "<style scoped>\n",
       "    .dataframe tbody tr th:only-of-type {\n",
       "        vertical-align: middle;\n",
       "    }\n",
       "\n",
       "    .dataframe tbody tr th {\n",
       "        vertical-align: top;\n",
       "    }\n",
       "\n",
       "    .dataframe thead th {\n",
       "        text-align: right;\n",
       "    }\n",
       "</style>\n",
       "<table border=\"1\" class=\"dataframe\">\n",
       "  <thead>\n",
       "    <tr style=\"text-align: right;\">\n",
       "      <th></th>\n",
       "      <th>count_suicide</th>\n",
       "      <th>count_overall</th>\n",
       "      <th>suicide_over_total</th>\n",
       "    </tr>\n",
       "    <tr>\n",
       "      <th>Country</th>\n",
       "      <th></th>\n",
       "      <th></th>\n",
       "      <th></th>\n",
       "    </tr>\n",
       "  </thead>\n",
       "  <tbody>\n",
       "    <tr>\n",
       "      <th>United States of America</th>\n",
       "      <td>991</td>\n",
       "      <td>135127</td>\n",
       "      <td>0.007334</td>\n",
       "    </tr>\n",
       "    <tr>\n",
       "      <th>France</th>\n",
       "      <td>362</td>\n",
       "      <td>65572</td>\n",
       "      <td>0.005521</td>\n",
       "    </tr>\n",
       "    <tr>\n",
       "      <th>Germany</th>\n",
       "      <td>321</td>\n",
       "      <td>78718</td>\n",
       "      <td>0.004078</td>\n",
       "    </tr>\n",
       "    <tr>\n",
       "      <th>United Kingdom</th>\n",
       "      <td>152</td>\n",
       "      <td>19127</td>\n",
       "      <td>0.007947</td>\n",
       "    </tr>\n",
       "    <tr>\n",
       "      <th>Japan</th>\n",
       "      <td>141</td>\n",
       "      <td>13209</td>\n",
       "      <td>0.010675</td>\n",
       "    </tr>\n",
       "    <tr>\n",
       "      <th>...</th>\n",
       "      <td>...</td>\n",
       "      <td>...</td>\n",
       "      <td>...</td>\n",
       "    </tr>\n",
       "    <tr>\n",
       "      <th>Qing dynasty; Ming dynasty; Kingdom of Tungning</th>\n",
       "      <td>1</td>\n",
       "      <td>1</td>\n",
       "      <td>1.000000</td>\n",
       "    </tr>\n",
       "    <tr>\n",
       "      <th>Spain; Peru</th>\n",
       "      <td>1</td>\n",
       "      <td>23</td>\n",
       "      <td>0.043478</td>\n",
       "    </tr>\n",
       "    <tr>\n",
       "      <th>West Germany</th>\n",
       "      <td>1</td>\n",
       "      <td>21</td>\n",
       "      <td>0.047619</td>\n",
       "    </tr>\n",
       "    <tr>\n",
       "      <th>Qing dynasty; China</th>\n",
       "      <td>1</td>\n",
       "      <td>10</td>\n",
       "      <td>0.100000</td>\n",
       "    </tr>\n",
       "    <tr>\n",
       "      <th>United States of America; Russian Empire</th>\n",
       "      <td>1</td>\n",
       "      <td>151</td>\n",
       "      <td>0.006623</td>\n",
       "    </tr>\n",
       "  </tbody>\n",
       "</table>\n",
       "<p>354 rows × 3 columns</p>\n",
       "</div>"
      ],
      "text/plain": [
       "                                                 count_suicide  count_overall  \\\n",
       "Country                                                                         \n",
       "United States of America                                   991         135127   \n",
       "France                                                     362          65572   \n",
       "Germany                                                    321          78718   \n",
       "United Kingdom                                             152          19127   \n",
       "Japan                                                      141          13209   \n",
       "...                                                        ...            ...   \n",
       "Qing dynasty; Ming dynasty; Kingdom of Tungning              1              1   \n",
       "Spain; Peru                                                  1             23   \n",
       "West Germany                                                 1             21   \n",
       "Qing dynasty; China                                          1             10   \n",
       "United States of America; Russian Empire                     1            151   \n",
       "\n",
       "                                                 suicide_over_total  \n",
       "Country                                                              \n",
       "United States of America                                   0.007334  \n",
       "France                                                     0.005521  \n",
       "Germany                                                    0.004078  \n",
       "United Kingdom                                             0.007947  \n",
       "Japan                                                      0.010675  \n",
       "...                                                             ...  \n",
       "Qing dynasty; Ming dynasty; Kingdom of Tungning            1.000000  \n",
       "Spain; Peru                                                0.043478  \n",
       "West Germany                                               0.047619  \n",
       "Qing dynasty; China                                        0.100000  \n",
       "United States of America; Russian Empire                   0.006623  \n",
       "\n",
       "[354 rows x 3 columns]"
      ]
     },
     "metadata": {},
     "output_type": "display_data"
    }
   ],
   "source": [
    "suicide[\"suicide_over_total\"] = suicide[\"count_suicide\"] / suicide[\"count_overall\"]\n",
    "suicide"
   ]
  },
  {
   "cell_type": "code",
   "execution_count": null,
   "id": "76ca5f1e",
   "metadata": {},
   "outputs": [],
   "source": [
    "suicide[\"suicide_per_1k\"] = suicide[\"suicide_over_total\"] * 1000"
   ]
  },
  {
   "cell_type": "code",
   "execution_count": null,
   "id": "4e7464b3",
   "metadata": {},
   "outputs": [
    {
     "data": {
      "application/vnd.microsoft.datawrangler.viewer.v0+json": {
       "columns": [
        {
         "name": "Country",
         "rawType": "object",
         "type": "string"
        },
        {
         "name": "count_suicide",
         "rawType": "int64",
         "type": "integer"
        },
        {
         "name": "count_overall",
         "rawType": "int64",
         "type": "integer"
        },
        {
         "name": "suicide_over_total",
         "rawType": "float64",
         "type": "float"
        },
        {
         "name": "suicide_per_1k",
         "rawType": "float64",
         "type": "float"
        }
       ],
       "ref": "46f2da8d-141c-483d-8928-d55773ce8cdb",
       "rows": [
        [
         "Spain",
         "31",
         "21930",
         "0.0014135886912904697",
         "1.4135886912904696"
        ],
        [
         "Denmark",
         "16",
         "9187",
         "0.0017415913791226734",
         "1.7415913791226734"
        ],
        [
         "Kingdom of England",
         "7",
         "3920",
         "0.0017857142857142857",
         "1.7857142857142856"
        ],
        [
         "Grand Duchy of Finland",
         "1",
         "549",
         "0.0018214936247723133",
         "1.8214936247723132"
        ],
        [
         "India; British Raj",
         "5",
         "2642",
         "0.0018925056775170325",
         "1.8925056775170326"
        ],
        [
         "Russia; Soviet Union",
         "9",
         "4394",
         "0.002048247610377788",
         "2.048247610377788"
        ],
        [
         "Norway",
         "30",
         "14039",
         "0.002136904337915806",
         "2.136904337915806"
        ],
        [
         "Uruguay",
         "5",
         "2323",
         "0.002152389151958674",
         "2.152389151958674"
        ],
        [
         "Iceland",
         "1",
         "464",
         "0.0021551724137931034",
         "2.155172413793103"
        ],
        [
         "Netherlands",
         "7",
         "3159",
         "0.0022158911047799935",
         "2.2158911047799936"
        ],
        [
         "Finland",
         "23",
         "10183",
         "0.0022586664047923007",
         "2.258666404792301"
        ],
        [
         "Polish–Lithuanian Commonwealth",
         "2",
         "832",
         "0.002403846153846154",
         "2.403846153846154"
        ],
        [
         "Kingdom of the Netherlands",
         "37",
         "15148",
         "0.002442566675468709",
         "2.4425666754687088"
        ],
        [
         "Sweden",
         "52",
         "21236",
         "0.002448672066302505",
         "2.448672066302505"
        ],
        [
         "United Kingdom; United Kingdom of Great Britain and Ireland",
         "68",
         "26642",
         "0.002552360933863824",
         "2.552360933863824"
        ],
        [
         "Byzantine Empire",
         "1",
         "381",
         "0.0026246719160104987",
         "2.6246719160104988"
        ],
        [
         "England",
         "2",
         "727",
         "0.002751031636863824",
         "2.751031636863824"
        ],
        [
         "Austrian Empire",
         "2",
         "698",
         "0.0028653295128939827",
         "2.865329512893983"
        ],
        [
         "Paraguay",
         "1",
         "340",
         "0.0029411764705882353",
         "2.941176470588235"
        ],
        [
         "Peru",
         "4",
         "1349",
         "0.0029651593773165306",
         "2.965159377316531"
        ],
        [
         "Portugal",
         "10",
         "3322",
         "0.0030102347983142685",
         "3.0102347983142685"
        ],
        [
         "Kingdom of Prussia",
         "1",
         "328",
         "0.003048780487804878",
         "3.048780487804878"
        ],
        [
         "Brazil",
         "21",
         "6803",
         "0.003086873438189034",
         "3.086873438189034"
        ],
        [
         "Ukraine",
         "2",
         "638",
         "0.003134796238244514",
         "3.134796238244514"
        ],
        [
         "Holy Roman Empire",
         "1",
         "311",
         "0.003215434083601286",
         "3.215434083601286"
        ],
        [
         "Wales",
         "2",
         "614",
         "0.003257328990228013",
         "3.257328990228013"
        ],
        [
         "Belgium",
         "34",
         "10351",
         "0.0032847067916143367",
         "3.2847067916143367"
        ],
        [
         "Kingdom of Great Britain; Kingdom of England",
         "2",
         "607",
         "0.0032948929159802307",
         "3.2948929159802307"
        ],
        [
         "Canada",
         "68",
         "20225",
         "0.003362175525339926",
         "3.362175525339926"
        ],
        [
         "Estonia",
         "5",
         "1406",
         "0.0035561877667140826",
         "3.5561877667140824"
        ],
        [
         "Dominican Republic",
         "1",
         "278",
         "0.0035971223021582736",
         "3.5971223021582737"
        ],
        [
         "Republic of Venice",
         "4",
         "1082",
         "0.0036968576709796672",
         "3.6968576709796674"
        ],
        [
         "Ottoman Empire",
         "2",
         "540",
         "0.003703703703703704",
         "3.7037037037037037"
        ],
        [
         "Mexico",
         "16",
         "4274",
         "0.003743565746373421",
         "3.743565746373421"
        ],
        [
         "Austria",
         "47",
         "12515",
         "0.0037554934079105074",
         "3.7554934079105076"
        ],
        [
         "Switzerland",
         "36",
         "9544",
         "0.0037720033528918693",
         "3.7720033528918693"
        ],
        [
         "France; Germany",
         "1",
         "263",
         "0.0038022813688212928",
         "3.802281368821293"
        ],
        [
         "Kingdom of Great Britain; United Kingdom of Great Britain and Ireland",
         "26",
         "6407",
         "0.004058061495239582",
         "4.058061495239582"
        ],
        [
         "German Democratic Republic",
         "4",
         "981",
         "0.004077471967380225",
         "4.077471967380225"
        ],
        [
         "Germany",
         "321",
         "78718",
         "0.00407784750628827",
         "4.07784750628827"
        ],
        [
         "United States of America; Austria",
         "1",
         "244",
         "0.004098360655737705",
         "4.0983606557377055"
        ],
        [
         "Kingdom of Great Britain",
         "14",
         "3391",
         "0.0041285756414037155",
         "4.128575641403716"
        ],
        [
         "Italy; Kingdom of Italy",
         "66",
         "15958",
         "0.004135856623637048",
         "4.135856623637047"
        ],
        [
         "El Salvador",
         "1",
         "237",
         "0.004219409282700422",
         "4.219409282700422"
        ],
        [
         "Serbia",
         "3",
         "708",
         "0.00423728813559322",
         "4.237288135593221"
        ],
        [
         "Lithuania",
         "5",
         "1135",
         "0.004405286343612335",
         "4.405286343612335"
        ],
        [
         "New Zealand",
         "27",
         "6110",
         "0.0044189852700491",
         "4.4189852700491"
        ],
        [
         "Wales; United Kingdom; United Kingdom of Great Britain and Ireland",
         "2",
         "452",
         "0.004424778761061947",
         "4.424778761061947"
        ],
        [
         "Czech Republic; Czechoslovakia",
         "3",
         "659",
         "0.004552352048558422",
         "4.552352048558422"
        ],
        [
         "Egypt",
         "3",
         "652",
         "0.004601226993865031",
         "4.601226993865031"
        ]
       ],
       "shape": {
        "columns": 4,
        "rows": 354
       }
      },
      "text/html": [
       "<div>\n",
       "<style scoped>\n",
       "    .dataframe tbody tr th:only-of-type {\n",
       "        vertical-align: middle;\n",
       "    }\n",
       "\n",
       "    .dataframe tbody tr th {\n",
       "        vertical-align: top;\n",
       "    }\n",
       "\n",
       "    .dataframe thead th {\n",
       "        text-align: right;\n",
       "    }\n",
       "</style>\n",
       "<table border=\"1\" class=\"dataframe\">\n",
       "  <thead>\n",
       "    <tr style=\"text-align: right;\">\n",
       "      <th></th>\n",
       "      <th>count_suicide</th>\n",
       "      <th>count_overall</th>\n",
       "      <th>suicide_over_total</th>\n",
       "      <th>suicide_per_1k</th>\n",
       "    </tr>\n",
       "    <tr>\n",
       "      <th>Country</th>\n",
       "      <th></th>\n",
       "      <th></th>\n",
       "      <th></th>\n",
       "      <th></th>\n",
       "    </tr>\n",
       "  </thead>\n",
       "  <tbody>\n",
       "    <tr>\n",
       "      <th>Spain</th>\n",
       "      <td>31</td>\n",
       "      <td>21930</td>\n",
       "      <td>0.001414</td>\n",
       "      <td>1.413589</td>\n",
       "    </tr>\n",
       "    <tr>\n",
       "      <th>Denmark</th>\n",
       "      <td>16</td>\n",
       "      <td>9187</td>\n",
       "      <td>0.001742</td>\n",
       "      <td>1.741591</td>\n",
       "    </tr>\n",
       "    <tr>\n",
       "      <th>Kingdom of England</th>\n",
       "      <td>7</td>\n",
       "      <td>3920</td>\n",
       "      <td>0.001786</td>\n",
       "      <td>1.785714</td>\n",
       "    </tr>\n",
       "    <tr>\n",
       "      <th>Grand Duchy of Finland</th>\n",
       "      <td>1</td>\n",
       "      <td>549</td>\n",
       "      <td>0.001821</td>\n",
       "      <td>1.821494</td>\n",
       "    </tr>\n",
       "    <tr>\n",
       "      <th>India; British Raj</th>\n",
       "      <td>5</td>\n",
       "      <td>2642</td>\n",
       "      <td>0.001893</td>\n",
       "      <td>1.892506</td>\n",
       "    </tr>\n",
       "    <tr>\n",
       "      <th>...</th>\n",
       "      <td>...</td>\n",
       "      <td>...</td>\n",
       "      <td>...</td>\n",
       "      <td>...</td>\n",
       "    </tr>\n",
       "    <tr>\n",
       "      <th>Northern Ireland; Ireland</th>\n",
       "      <td>1</td>\n",
       "      <td>1</td>\n",
       "      <td>1.000000</td>\n",
       "      <td>1000.000000</td>\n",
       "    </tr>\n",
       "    <tr>\n",
       "      <th>People's Republic of Bulgaria</th>\n",
       "      <td>1</td>\n",
       "      <td>1</td>\n",
       "      <td>1.000000</td>\n",
       "      <td>1000.000000</td>\n",
       "    </tr>\n",
       "    <tr>\n",
       "      <th>United States of America; French Third Republic; Second French Empire</th>\n",
       "      <td>1</td>\n",
       "      <td>1</td>\n",
       "      <td>1.000000</td>\n",
       "      <td>1000.000000</td>\n",
       "    </tr>\n",
       "    <tr>\n",
       "      <th>Japan; China</th>\n",
       "      <td>1</td>\n",
       "      <td>1</td>\n",
       "      <td>1.000000</td>\n",
       "      <td>1000.000000</td>\n",
       "    </tr>\n",
       "    <tr>\n",
       "      <th>Nazi Germany; Kingdom of Romania; West Germany</th>\n",
       "      <td>1</td>\n",
       "      <td>1</td>\n",
       "      <td>1.000000</td>\n",
       "      <td>1000.000000</td>\n",
       "    </tr>\n",
       "  </tbody>\n",
       "</table>\n",
       "<p>354 rows × 4 columns</p>\n",
       "</div>"
      ],
      "text/plain": [
       "                                                    count_suicide  \\\n",
       "Country                                                             \n",
       "Spain                                                          31   \n",
       "Denmark                                                        16   \n",
       "Kingdom of England                                              7   \n",
       "Grand Duchy of Finland                                          1   \n",
       "India; British Raj                                              5   \n",
       "...                                                           ...   \n",
       "Northern Ireland; Ireland                                       1   \n",
       "People's Republic of Bulgaria                                   1   \n",
       "United States of America; French Third Republic...              1   \n",
       "Japan; China                                                    1   \n",
       "Nazi Germany; Kingdom of Romania; West Germany                  1   \n",
       "\n",
       "                                                    count_overall  \\\n",
       "Country                                                             \n",
       "Spain                                                       21930   \n",
       "Denmark                                                      9187   \n",
       "Kingdom of England                                           3920   \n",
       "Grand Duchy of Finland                                        549   \n",
       "India; British Raj                                           2642   \n",
       "...                                                           ...   \n",
       "Northern Ireland; Ireland                                       1   \n",
       "People's Republic of Bulgaria                                   1   \n",
       "United States of America; French Third Republic...              1   \n",
       "Japan; China                                                    1   \n",
       "Nazi Germany; Kingdom of Romania; West Germany                  1   \n",
       "\n",
       "                                                    suicide_over_total  \\\n",
       "Country                                                                  \n",
       "Spain                                                         0.001414   \n",
       "Denmark                                                       0.001742   \n",
       "Kingdom of England                                            0.001786   \n",
       "Grand Duchy of Finland                                        0.001821   \n",
       "India; British Raj                                            0.001893   \n",
       "...                                                                ...   \n",
       "Northern Ireland; Ireland                                     1.000000   \n",
       "People's Republic of Bulgaria                                 1.000000   \n",
       "United States of America; French Third Republic...            1.000000   \n",
       "Japan; China                                                  1.000000   \n",
       "Nazi Germany; Kingdom of Romania; West Germany                1.000000   \n",
       "\n",
       "                                                    suicide_per_1k  \n",
       "Country                                                             \n",
       "Spain                                                     1.413589  \n",
       "Denmark                                                   1.741591  \n",
       "Kingdom of England                                        1.785714  \n",
       "Grand Duchy of Finland                                    1.821494  \n",
       "India; British Raj                                        1.892506  \n",
       "...                                                            ...  \n",
       "Northern Ireland; Ireland                              1000.000000  \n",
       "People's Republic of Bulgaria                          1000.000000  \n",
       "United States of America; French Third Republic...     1000.000000  \n",
       "Japan; China                                           1000.000000  \n",
       "Nazi Germany; Kingdom of Romania; West Germany         1000.000000  \n",
       "\n",
       "[354 rows x 4 columns]"
      ]
     },
     "metadata": {},
     "output_type": "display_data"
    }
   ],
   "source": [
    "suicide_sorted = suicide.sort_values(by=\"suicide_per_1k\", ascending=True)\n",
    "suicide_sorted"
   ]
  },
  {
   "cell_type": "code",
   "execution_count": null,
   "id": "be47be8f",
   "metadata": {},
   "outputs": [
    {
     "data": {
      "text/plain": [
       "<Axes: xlabel='Country'>"
      ]
     },
     "metadata": {},
     "output_type": "display_data"
    },
    {
     "data": {
      "image/png": "[encoded data removed]",
      "text/plain": [
       "<Figure size 640x480 with 1 Axes>"
      ]
     },
     "metadata": {},
     "output_type": "display_data"
    }
   ],
   "source": [
    "suicide_sorted.head(10)[\"suicide_per_1k\"].plot(kind=\"bar\")"
   ]
  },
  {
   "cell_type": "code",
   "execution_count": null,
   "id": "259a6991",
   "metadata": {},
   "outputs": [
    {
     "data": {
      "text/plain": [
       "<Axes: xlabel='Country'>"
      ]
     },
     "metadata": {},
     "output_type": "display_data"
    },
    {
     "data": {
      "image/png": "[encoded data removed]",
      "text/plain": [
       "<Figure size 640x480 with 1 Axes>"
      ]
     },
     "metadata": {},
     "output_type": "display_data"
    }
   ],
   "source": [
    "suicide_sorted.tail(10)[\"suicide_per_1k\"].plot(kind=\"bar\")"
   ]
  },
  {
   "cell_type": "code",
   "execution_count": null,
   "id": "5c27697e",
   "metadata": {},
   "outputs": [
    {
     "data": {
      "application/vnd.microsoft.datawrangler.viewer.v0+json": {
       "columns": [
        {
         "name": "Country",
         "rawType": "object",
         "type": "string"
        },
        {
         "name": "count_suicide",
         "rawType": "int64",
         "type": "integer"
        },
        {
         "name": "count_overall",
         "rawType": "int64",
         "type": "integer"
        },
        {
         "name": "suicide_over_total",
         "rawType": "float64",
         "type": "float"
        },
        {
         "name": "suicide_per_1k",
         "rawType": "float64",
         "type": "float"
        }
       ],
       "ref": "1d702db6-6664-4ac9-a221-060ee223c3f8",
       "rows": [
        [
         "North Korea; Soviet Union; Russian Empire",
         "1",
         "1",
         "1.0",
         "1000.0"
        ],
        [
         "Classical Athens; Ancient Carthage",
         "1",
         "1",
         "1.0",
         "1000.0"
        ],
        [
         "Qin",
         "1",
         "1",
         "1.0",
         "1000.0"
        ],
        [
         "Germany; Nazi Germany; Austria-Hungary; Czechoslovakia",
         "1",
         "1",
         "1.0",
         "1000.0"
        ],
        [
         "Ottoman Empire; Soviet Union; Russian Empire",
         "1",
         "1",
         "1.0",
         "1000.0"
        ],
        [
         "Northern Ireland; Ireland",
         "1",
         "1",
         "1.0",
         "1000.0"
        ],
        [
         "People's Republic of Bulgaria",
         "1",
         "1",
         "1.0",
         "1000.0"
        ],
        [
         "United States of America; French Third Republic; Second French Empire",
         "1",
         "1",
         "1.0",
         "1000.0"
        ],
        [
         "Japan; China",
         "1",
         "1",
         "1.0",
         "1000.0"
        ],
        [
         "Nazi Germany; Kingdom of Romania; West Germany",
         "1",
         "1",
         "1.0",
         "1000.0"
        ]
       ],
       "shape": {
        "columns": 4,
        "rows": 10
       }
      },
      "text/html": [
       "<div>\n",
       "<style scoped>\n",
       "    .dataframe tbody tr th:only-of-type {\n",
       "        vertical-align: middle;\n",
       "    }\n",
       "\n",
       "    .dataframe tbody tr th {\n",
       "        vertical-align: top;\n",
       "    }\n",
       "\n",
       "    .dataframe thead th {\n",
       "        text-align: right;\n",
       "    }\n",
       "</style>\n",
       "<table border=\"1\" class=\"dataframe\">\n",
       "  <thead>\n",
       "    <tr style=\"text-align: right;\">\n",
       "      <th></th>\n",
       "      <th>count_suicide</th>\n",
       "      <th>count_overall</th>\n",
       "      <th>suicide_over_total</th>\n",
       "      <th>suicide_per_1k</th>\n",
       "    </tr>\n",
       "    <tr>\n",
       "      <th>Country</th>\n",
       "      <th></th>\n",
       "      <th></th>\n",
       "      <th></th>\n",
       "      <th></th>\n",
       "    </tr>\n",
       "  </thead>\n",
       "  <tbody>\n",
       "    <tr>\n",
       "      <th>North Korea; Soviet Union; Russian Empire</th>\n",
       "      <td>1</td>\n",
       "      <td>1</td>\n",
       "      <td>1.0</td>\n",
       "      <td>1000.0</td>\n",
       "    </tr>\n",
       "    <tr>\n",
       "      <th>Classical Athens; Ancient Carthage</th>\n",
       "      <td>1</td>\n",
       "      <td>1</td>\n",
       "      <td>1.0</td>\n",
       "      <td>1000.0</td>\n",
       "    </tr>\n",
       "    <tr>\n",
       "      <th>Qin</th>\n",
       "      <td>1</td>\n",
       "      <td>1</td>\n",
       "      <td>1.0</td>\n",
       "      <td>1000.0</td>\n",
       "    </tr>\n",
       "    <tr>\n",
       "      <th>Germany; Nazi Germany; Austria-Hungary; Czechoslovakia</th>\n",
       "      <td>1</td>\n",
       "      <td>1</td>\n",
       "      <td>1.0</td>\n",
       "      <td>1000.0</td>\n",
       "    </tr>\n",
       "    <tr>\n",
       "      <th>Ottoman Empire; Soviet Union; Russian Empire</th>\n",
       "      <td>1</td>\n",
       "      <td>1</td>\n",
       "      <td>1.0</td>\n",
       "      <td>1000.0</td>\n",
       "    </tr>\n",
       "    <tr>\n",
       "      <th>Northern Ireland; Ireland</th>\n",
       "      <td>1</td>\n",
       "      <td>1</td>\n",
       "      <td>1.0</td>\n",
       "      <td>1000.0</td>\n",
       "    </tr>\n",
       "    <tr>\n",
       "      <th>People's Republic of Bulgaria</th>\n",
       "      <td>1</td>\n",
       "      <td>1</td>\n",
       "      <td>1.0</td>\n",
       "      <td>1000.0</td>\n",
       "    </tr>\n",
       "    <tr>\n",
       "      <th>United States of America; French Third Republic; Second French Empire</th>\n",
       "      <td>1</td>\n",
       "      <td>1</td>\n",
       "      <td>1.0</td>\n",
       "      <td>1000.0</td>\n",
       "    </tr>\n",
       "    <tr>\n",
       "      <th>Japan; China</th>\n",
       "      <td>1</td>\n",
       "      <td>1</td>\n",
       "      <td>1.0</td>\n",
       "      <td>1000.0</td>\n",
       "    </tr>\n",
       "    <tr>\n",
       "      <th>Nazi Germany; Kingdom of Romania; West Germany</th>\n",
       "      <td>1</td>\n",
       "      <td>1</td>\n",
       "      <td>1.0</td>\n",
       "      <td>1000.0</td>\n",
       "    </tr>\n",
       "  </tbody>\n",
       "</table>\n",
       "</div>"
      ],
      "text/plain": [
       "                                                    count_suicide  \\\n",
       "Country                                                             \n",
       "North Korea; Soviet Union; Russian Empire                       1   \n",
       "Classical Athens; Ancient Carthage                              1   \n",
       "Qin                                                             1   \n",
       "Germany; Nazi Germany; Austria-Hungary; Czechos...              1   \n",
       "Ottoman Empire; Soviet Union; Russian Empire                    1   \n",
       "Northern Ireland; Ireland                                       1   \n",
       "People's Republic of Bulgaria                                   1   \n",
       "United States of America; French Third Republic...              1   \n",
       "Japan; China                                                    1   \n",
       "Nazi Germany; Kingdom of Romania; West Germany                  1   \n",
       "\n",
       "                                                    count_overall  \\\n",
       "Country                                                             \n",
       "North Korea; Soviet Union; Russian Empire                       1   \n",
       "Classical Athens; Ancient Carthage                              1   \n",
       "Qin                                                             1   \n",
       "Germany; Nazi Germany; Austria-Hungary; Czechos...              1   \n",
       "Ottoman Empire; Soviet Union; Russian Empire                    1   \n",
       "Northern Ireland; Ireland                                       1   \n",
       "People's Republic of Bulgaria                                   1   \n",
       "United States of America; French Third Republic...              1   \n",
       "Japan; China                                                    1   \n",
       "Nazi Germany; Kingdom of Romania; West Germany                  1   \n",
       "\n",
       "                                                    suicide_over_total  \\\n",
       "Country                                                                  \n",
       "North Korea; Soviet Union; Russian Empire                          1.0   \n",
       "Classical Athens; Ancient Carthage                                 1.0   \n",
       "Qin                                                                1.0   \n",
       "Germany; Nazi Germany; Austria-Hungary; Czechos...                 1.0   \n",
       "Ottoman Empire; Soviet Union; Russian Empire                       1.0   \n",
       "Northern Ireland; Ireland                                          1.0   \n",
       "People's Republic of Bulgaria                                      1.0   \n",
       "United States of America; French Third Republic...                 1.0   \n",
       "Japan; China                                                       1.0   \n",
       "Nazi Germany; Kingdom of Romania; West Germany                     1.0   \n",
       "\n",
       "                                                    suicide_per_1k  \n",
       "Country                                                             \n",
       "North Korea; Soviet Union; Russian Empire                   1000.0  \n",
       "Classical Athens; Ancient Carthage                          1000.0  \n",
       "Qin                                                         1000.0  \n",
       "Germany; Nazi Germany; Austria-Hungary; Czechos...          1000.0  \n",
       "Ottoman Empire; Soviet Union; Russian Empire                1000.0  \n",
       "Northern Ireland; Ireland                                   1000.0  \n",
       "People's Republic of Bulgaria                               1000.0  \n",
       "United States of America; French Third Republic...          1000.0  \n",
       "Japan; China                                                1000.0  \n",
       "Nazi Germany; Kingdom of Romania; West Germany              1000.0  "
      ]
     },
     "metadata": {},
     "output_type": "display_data"
    }
   ],
   "source": [
    "suicide_sorted.tail(10)"
   ]
  },
  {
   "cell_type": "code",
   "execution_count": null,
   "id": "df785695",
   "metadata": {},
   "outputs": [
    {
     "data": {
      "text/plain": [
       "<Axes: xlabel='Country'>"
      ]
     },
     "metadata": {},
     "output_type": "display_data"
    },
    {
     "data": {
      "image/png": "[encoded data removed]",
      "text/plain": [
       "<Figure size 640x480 with 1 Axes>"
      ]
     },
     "metadata": {},
     "output_type": "display_data"
    }
   ],
   "source": [
    "suicide_sorted[suicide_sorted[\"count_overall\"] > 5_000][\"suicide_per_1k\"].tail(10).plot(kind=\"bar\")"
   ]
  },
  {
   "cell_type": "code",
   "execution_count": null,
   "id": "9f04bcbf",
   "metadata": {},
   "outputs": [
    {
     "data": {
      "application/vnd.microsoft.datawrangler.viewer.v0+json": {
       "columns": [
        {
         "name": "index",
         "rawType": "object",
         "type": "string"
        },
        {
         "name": "0",
         "rawType": "int64",
         "type": "integer"
        }
       ],
       "ref": "5e5e5498-0451-40cc-9225-20b6405ad8ba",
       "rows": [
        [
         "Id",
         "0"
        ],
        [
         "Name",
         "0"
        ],
        [
         "Short description",
         "8421"
        ],
        [
         "Gender",
         "87633"
        ],
        [
         "Country",
         "182030"
        ],
        [
         "Occupation",
         "0"
        ],
        [
         "Birth year",
         "0"
        ],
        [
         "Death year",
         "0"
        ],
        [
         "Manner of death",
         "881641"
        ],
        [
         "Age of death",
         "0"
        ]
       ],
       "shape": {
        "columns": 1,
        "rows": 10
       }
      },
      "text/plain": [
       "Id                        0\n",
       "Name                      0\n",
       "Short description      8421\n",
       "Gender                87633\n",
       "Country              182030\n",
       "Occupation                0\n",
       "Birth year                0\n",
       "Death year                0\n",
       "Manner of death      881641\n",
       "Age of death              0\n",
       "dtype: int64"
      ]
     },
     "metadata": {},
     "output_type": "display_data"
    }
   ],
   "source": [
    "df.isna().sum()"
   ]
  },
  {
   "cell_type": "markdown",
   "id": "b49b0640",
   "metadata": {},
   "source": [
    "### Gender"
   ]
  },
  {
   "cell_type": "code",
   "execution_count": null,
   "id": "72d21ef7",
   "metadata": {},
   "outputs": [
    {
     "data": {
      "application/vnd.microsoft.datawrangler.viewer.v0+json": {
       "columns": [
        {
         "name": "Gender",
         "rawType": "object",
         "type": "string"
        },
        {
         "name": "count",
         "rawType": "int64",
         "type": "integer"
        }
       ],
       "ref": "1a9f3a85-418d-4722-a1ca-ebfeffd10d7d",
       "rows": [
        [
         "Male",
         "762780"
        ],
        [
         "Female",
         "75634"
        ],
        [
         "Transgender Female",
         "47"
        ],
        [
         "Transgender Male",
         "24"
        ],
        [
         "Eunuch; Male",
         "16"
        ],
        [
         "Female; Male",
         "6"
        ],
        [
         "Intersex",
         "5"
        ],
        [
         "Transgender Male; Female",
         "3"
        ],
        [
         "Non-Binary",
         "2"
        ],
        [
         "Transgender Person; Intersex; Transgender Male",
         "1"
        ],
        [
         "Intersex; Male",
         "1"
        ],
        [
         "Transgender Female; Female",
         "1"
        ],
        [
         "Transgender Female; Male",
         "1"
        ],
        [
         "Intersex; Transgender Male",
         "1"
        ],
        [
         "Transgender Male; Male",
         "1"
        ],
        [
         "Female; Female",
         "1"
        ]
       ],
       "shape": {
        "columns": 1,
        "rows": 16
       }
      },
      "text/plain": [
       "Gender\n",
       "Male                                              762780\n",
       "Female                                             75634\n",
       "Transgender Female                                    47\n",
       "Transgender Male                                      24\n",
       "Eunuch; Male                                          16\n",
       "Female; Male                                           6\n",
       "Intersex                                               5\n",
       "Transgender Male; Female                               3\n",
       "Non-Binary                                             2\n",
       "Transgender Person; Intersex; Transgender Male         1\n",
       "Intersex; Male                                         1\n",
       "Transgender Female; Female                             1\n",
       "Transgender Female; Male                               1\n",
       "Intersex; Transgender Male                             1\n",
       "Transgender Male; Male                                 1\n",
       "Female; Female                                         1\n",
       "Name: count, dtype: int64"
      ]
     },
     "metadata": {},
     "output_type": "display_data"
    }
   ],
   "source": [
    "df[\"Gender\"].value_counts()"
   ]
  },
  {
   "cell_type": "code",
   "execution_count": null,
   "id": "046ab198",
   "metadata": {},
   "outputs": [
    {
     "data": {
      "application/vnd.microsoft.datawrangler.viewer.v0+json": {
       "columns": [
        {
         "name": "index",
         "rawType": "int64",
         "type": "integer"
        },
        {
         "name": "Id",
         "rawType": "object",
         "type": "string"
        },
        {
         "name": "Name",
         "rawType": "object",
         "type": "string"
        },
        {
         "name": "Short description",
         "rawType": "object",
         "type": "string"
        },
        {
         "name": "Gender",
         "rawType": "object",
         "type": "string"
        },
        {
         "name": "Country",
         "rawType": "object",
         "type": "string"
        },
        {
         "name": "Occupation",
         "rawType": "object",
         "type": "string"
        },
        {
         "name": "Birth year",
         "rawType": "int64",
         "type": "integer"
        },
        {
         "name": "Death year",
         "rawType": "float64",
         "type": "float"
        },
        {
         "name": "Manner of death",
         "rawType": "object",
         "type": "unknown"
        },
        {
         "name": "Age of death",
         "rawType": "float64",
         "type": "float"
        }
       ],
       "ref": "0bfa8186-f674-4c0e-ad68-2f3d76fddbef",
       "rows": [
        [
         "39998",
         "Q219634",
         "Claude Cahun",
         "French artist (1894-1954)",
         "Non-Binary",
         "France",
         "Artist",
         "1894",
         "1954.0",
         null,
         "60.0"
        ],
        [
         "754386",
         "Q13562059",
         "Maxine Feldman",
         "lesbian and non-binary musician",
         "Non-Binary",
         "United States of America",
         "Artist",
         "1945",
         "2007.0",
         null,
         "62.0"
        ]
       ],
       "shape": {
        "columns": 10,
        "rows": 2
       }
      },
      "text/html": [
       "<div>\n",
       "<style scoped>\n",
       "    .dataframe tbody tr th:only-of-type {\n",
       "        vertical-align: middle;\n",
       "    }\n",
       "\n",
       "    .dataframe tbody tr th {\n",
       "        vertical-align: top;\n",
       "    }\n",
       "\n",
       "    .dataframe thead th {\n",
       "        text-align: right;\n",
       "    }\n",
       "</style>\n",
       "<table border=\"1\" class=\"dataframe\">\n",
       "  <thead>\n",
       "    <tr style=\"text-align: right;\">\n",
       "      <th></th>\n",
       "      <th>Id</th>\n",
       "      <th>Name</th>\n",
       "      <th>Short description</th>\n",
       "      <th>Gender</th>\n",
       "      <th>Country</th>\n",
       "      <th>Occupation</th>\n",
       "      <th>Birth year</th>\n",
       "      <th>Death year</th>\n",
       "      <th>Manner of death</th>\n",
       "      <th>Age of death</th>\n",
       "    </tr>\n",
       "  </thead>\n",
       "  <tbody>\n",
       "    <tr>\n",
       "      <th>39998</th>\n",
       "      <td>Q219634</td>\n",
       "      <td>Claude Cahun</td>\n",
       "      <td>French artist (1894-1954)</td>\n",
       "      <td>Non-Binary</td>\n",
       "      <td>France</td>\n",
       "      <td>Artist</td>\n",
       "      <td>1894</td>\n",
       "      <td>1954.0</td>\n",
       "      <td>NaN</td>\n",
       "      <td>60.0</td>\n",
       "    </tr>\n",
       "    <tr>\n",
       "      <th>754386</th>\n",
       "      <td>Q13562059</td>\n",
       "      <td>Maxine Feldman</td>\n",
       "      <td>lesbian and non-binary musician</td>\n",
       "      <td>Non-Binary</td>\n",
       "      <td>United States of America</td>\n",
       "      <td>Artist</td>\n",
       "      <td>1945</td>\n",
       "      <td>2007.0</td>\n",
       "      <td>NaN</td>\n",
       "      <td>62.0</td>\n",
       "    </tr>\n",
       "  </tbody>\n",
       "</table>\n",
       "</div>"
      ],
      "text/plain": [
       "               Id            Name                Short description  \\\n",
       "39998     Q219634    Claude Cahun        French artist (1894-1954)   \n",
       "754386  Q13562059  Maxine Feldman  lesbian and non-binary musician   \n",
       "\n",
       "            Gender                   Country Occupation  Birth year  \\\n",
       "39998   Non-Binary                    France     Artist        1894   \n",
       "754386  Non-Binary  United States of America     Artist        1945   \n",
       "\n",
       "        Death year Manner of death  Age of death  \n",
       "39998       1954.0             NaN          60.0  \n",
       "754386      2007.0             NaN          62.0  "
      ]
     },
     "metadata": {},
     "output_type": "display_data"
    }
   ],
   "source": [
    "df.query(\"Gender == 'Non-Binary'\")"
   ]
  },
  {
   "cell_type": "code",
   "execution_count": null,
   "id": "510f4f49",
   "metadata": {},
   "outputs": [
    {
     "data": {
      "text/plain": [
       "Index(['Id', 'Name', 'Short description', 'Gender', 'Country', 'Occupation',\n",
       "       'Birth year', 'Death year', 'Manner of death', 'Age of death'],\n",
       "      dtype='object')"
      ]
     },
     "metadata": {},
     "output_type": "display_data"
    }
   ],
   "source": [
    "df.columns"
   ]
  },
  {
   "cell_type": "code",
   "execution_count": null,
   "id": "a6772491",
   "metadata": {},
   "outputs": [
    {
     "data": {
      "application/vnd.microsoft.datawrangler.viewer.v0+json": {
       "columns": [
        {
         "name": "Gender",
         "rawType": "object",
         "type": "string"
        },
        {
         "name": "Birth year",
         "rawType": "int64",
         "type": "integer"
        }
       ],
       "ref": "e9bea13b-ec07-4326-98b6-6336cc114e48",
       "rows": [
        [
         "Eunuch; Male",
         "1451"
        ],
        [
         "Intersex; Male",
         "1763"
        ],
        [
         "Transgender Male; Male",
         "1869"
        ],
        [
         "Female; Female",
         "1884"
        ],
        [
         "Transgender Person; Intersex; Transgender Male",
         "1885"
        ],
        [
         "Intersex; Transgender Male",
         "1912"
        ],
        [
         "Transgender Male; Female",
         "1913"
        ],
        [
         "Intersex",
         "1926"
        ],
        [
         "Non-Binary",
         "1945"
        ],
        [
         "Transgender Female; Male",
         "1947"
        ],
        [
         "Female; Male",
         "1949"
        ],
        [
         "Transgender Female; Female",
         "1949"
        ],
        [
         "Transgender Male",
         "1986"
        ],
        [
         "Transgender Female",
         "1991"
        ],
        [
         "Male",
         "2002"
        ],
        [
         "Female",
         "2002"
        ]
       ],
       "shape": {
        "columns": 1,
        "rows": 16
       }
      },
      "text/plain": [
       "Gender\n",
       "Eunuch; Male                                      1451\n",
       "Intersex; Male                                    1763\n",
       "Transgender Male; Male                            1869\n",
       "Female; Female                                    1884\n",
       "Transgender Person; Intersex; Transgender Male    1885\n",
       "Intersex; Transgender Male                        1912\n",
       "Transgender Male; Female                          1913\n",
       "Intersex                                          1926\n",
       "Non-Binary                                        1945\n",
       "Transgender Female; Male                          1947\n",
       "Female; Male                                      1949\n",
       "Transgender Female; Female                        1949\n",
       "Transgender Male                                  1986\n",
       "Transgender Female                                1991\n",
       "Male                                              2002\n",
       "Female                                            2002\n",
       "Name: Birth year, dtype: int64"
      ]
     },
     "metadata": {},
     "output_type": "display_data"
    }
   ],
   "source": [
    "df.groupby(\"Gender\")[\"Birth year\"].max().sort_values()"
   ]
  },
  {
   "cell_type": "code",
   "execution_count": null,
   "id": "2c8ff865",
   "metadata": {},
   "outputs": [],
   "source": []
  },
  {
   "cell_type": "code",
   "execution_count": null,
   "id": "4a929cd5",
   "metadata": {},
   "outputs": [],
   "source": [
    "df = df[df[\"Gender\"].isin([\"Male\", \"Female\"])]"
   ]
  },
  {
   "cell_type": "code",
   "execution_count": null,
   "id": "6f4a709c",
   "metadata": {},
   "outputs": [],
   "source": [
    "def get_male_percentage(series):\n",
    "    male = series[series == \"Male\"]\n",
    "    \n",
    "    return len(male) / len(series) * 100\n",
    "    \n",
    "    "
   ]
  },
  {
   "cell_type": "code",
   "execution_count": null,
   "id": "92d890d0",
   "metadata": {},
   "outputs": [
    {
     "data": {
      "application/vnd.microsoft.datawrangler.viewer.v0+json": {
       "columns": [
        {
         "name": "Occupation",
         "rawType": "object",
         "type": "string"
        },
        {
         "name": "Gender",
         "rawType": "float64",
         "type": "float"
        }
       ],
       "ref": "61c28774-0796-4ccf-9090-d75f5d95691d",
       "rows": [
        [
         "Novelist",
         "59.51293759512938"
        ],
        [
         "Aristocrat",
         "62.48584371460929"
        ],
        [
         "Pianist",
         "65.90370955011839"
        ],
        [
         "Librarian",
         "78.17745803357315"
        ],
        [
         "Psychologist",
         "79.16018662519441"
        ],
        [
         "Translator",
         "79.56669498725574"
        ],
        [
         "Artist",
         "82.1756963672281"
        ],
        [
         "Teacher",
         "86.32561613144138"
        ],
        [
         "Author",
         "87.42255266418834"
        ],
        [
         "Trade unionist",
         "87.5598086124402"
        ],
        [
         "Fencer",
         "87.58865248226951"
        ],
        [
         "Journalist",
         "88.01171679645638"
        ],
        [
         "Psychiatrist",
         "91.07303877366996"
        ],
        [
         "Astronomer",
         "91.73256649892164"
        ],
        [
         "Physician",
         "91.99198326943186"
        ],
        [
         "Researcher",
         "92.04624701780143"
        ],
        [
         "Lawyer",
         "93.98694841516469"
        ],
        [
         "Philosopher",
         "94.50272765421738"
        ],
        [
         "Businessperson",
         "95.15949663447468"
        ],
        [
         "Farmer",
         "95.34109816971714"
        ],
        [
         "Publisher",
         "95.34782608695652"
        ],
        [
         "Politician",
         "95.615543912458"
        ],
        [
         "Police officer",
         "95.82909460834182"
        ],
        [
         "Entrepreneur",
         "96.6349670811997"
        ],
        [
         "Architect",
         "96.70399592771697"
        ],
        [
         "Athlete",
         "96.72833532213964"
        ],
        [
         "Explorer",
         "97.03315881326353"
        ],
        [
         "Judge",
         "97.11538461538461"
        ],
        [
         "Minister",
         "97.1291866028708"
        ],
        [
         "Inventor",
         "97.27497935590421"
        ],
        [
         "Religious figure",
         "97.43905658716888"
        ],
        [
         "Surgeon",
         "98.24890556597875"
        ],
        [
         "Military personnel",
         "98.30178291619023"
        ],
        [
         "Merchant",
         "98.45261121856866"
        ],
        [
         "Rower",
         "98.45460399227302"
        ],
        [
         "Engineer",
         "98.81951949455483"
        ],
        [
         "Jurist",
         "98.8530990727184"
        ],
        [
         "Pastor",
         "99.01071723000825"
        ],
        [
         "Rabbi",
         "99.20704845814979"
        ]
       ],
       "shape": {
        "columns": 1,
        "rows": 39
       }
      },
      "text/plain": [
       "Occupation\n",
       "Novelist              59.512938\n",
       "Aristocrat            62.485844\n",
       "Pianist               65.903710\n",
       "Librarian             78.177458\n",
       "Psychologist          79.160187\n",
       "Translator            79.566695\n",
       "Artist                82.175696\n",
       "Teacher               86.325616\n",
       "Author                87.422553\n",
       "Trade unionist        87.559809\n",
       "Fencer                87.588652\n",
       "Journalist            88.011717\n",
       "Psychiatrist          91.073039\n",
       "Astronomer            91.732566\n",
       "Physician             91.991983\n",
       "Researcher            92.046247\n",
       "Lawyer                93.986948\n",
       "Philosopher           94.502728\n",
       "Businessperson        95.159497\n",
       "Farmer                95.341098\n",
       "Publisher             95.347826\n",
       "Politician            95.615544\n",
       "Police officer        95.829095\n",
       "Entrepreneur          96.634967\n",
       "Architect             96.703996\n",
       "Athlete               96.728335\n",
       "Explorer              97.033159\n",
       "Judge                 97.115385\n",
       "Minister              97.129187\n",
       "Inventor              97.274979\n",
       "Religious figure      97.439057\n",
       "Surgeon               98.248906\n",
       "Military personnel    98.301783\n",
       "Merchant              98.452611\n",
       "Rower                 98.454604\n",
       "Engineer              98.819519\n",
       "Jurist                98.853099\n",
       "Pastor                99.010717\n",
       "Rabbi                 99.207048\n",
       "Name: Gender, dtype: float64"
      ]
     },
     "metadata": {},
     "output_type": "display_data"
    }
   ],
   "source": [
    "gender_occup = df.groupby(\"Occupation\")[\"Gender\"].apply(get_male_percentage).sort_values()\n",
    "gender_occup"
   ]
  },
  {
   "cell_type": "code",
   "execution_count": null,
   "id": "77cf9d02",
   "metadata": {},
   "outputs": [
    {
     "data": {
      "text/plain": [
       "<Axes: xlabel='Occupation'>"
      ]
     },
     "metadata": {},
     "output_type": "display_data"
    },
    {
     "data": {
      "image/png": "[encoded data removed]",
      "text/plain": [
       "<Figure size 640x480 with 1 Axes>"
      ]
     },
     "metadata": {},
     "output_type": "display_data"
    }
   ],
   "source": [
    "gender_occup.plot(kind=\"bar\")"
   ]
  },
  {
   "cell_type": "markdown",
   "id": "c274dabc",
   "metadata": {},
   "source": [
    "### Հա՞յ ես\n",
    "հա,\\\n",
    "հաճելի ա չէ՞"
   ]
  },
  {
   "cell_type": "code",
   "execution_count": null,
   "id": "65f9b18c",
   "metadata": {},
   "outputs": [],
   "source": [
    "def is_armenian(text):\n",
    "    keywords = [\"armenian\", \"armenia\"]\n",
    "    return any([k in text.lower() for k in keywords])"
   ]
  },
  {
   "cell_type": "code",
   "execution_count": null,
   "id": "18a61095",
   "metadata": {},
   "outputs": [
    {
     "ename": "AttributeError",
     "evalue": "'float' object has no attribute 'lower'",
     "output_type": "error",
     "traceback": [
      "\u001b[1;31m---------------------------------------------------------------------------\u001b[0m\n",
      "\u001b[1;31mAttributeError\u001b[0m                            Traceback (most recent call last)\n",
      "Cell \u001b[1;32mIn[124], line 1\u001b[0m\n",
      "\u001b[1;32m----> 1\u001b[0m df[\u001b[38;5;124m\"\u001b[39m\u001b[38;5;124mArmenian\u001b[39m\u001b[38;5;124m\"\u001b[39m] \u001b[38;5;241m=\u001b[39m \u001b[43mdf\u001b[49m\u001b[43m[\u001b[49m\u001b[38;5;124;43m\"\u001b[39;49m\u001b[38;5;124;43mShort description\u001b[39;49m\u001b[38;5;124;43m\"\u001b[39;49m\u001b[43m]\u001b[49m\u001b[38;5;241;43m.\u001b[39;49m\u001b[43mapply\u001b[49m\u001b[43m(\u001b[49m\u001b[43mis_armenian\u001b[49m\u001b[43m)\u001b[49m\n",
      "\u001b[0;32m      2\u001b[0m df\n",
      "\n",
      "File \u001b[1;32mc:\\Users\\hayk_\\.conda\\envs\\lectures\\lib\\site-packages\\pandas\\core\\series.py:4935\u001b[0m, in \u001b[0;36mSeries.apply\u001b[1;34m(self, func, convert_dtype, args, by_row, **kwargs)\u001b[0m\n",
      "\u001b[0;32m   4800\u001b[0m \u001b[38;5;28;01mdef\u001b[39;00m\u001b[38;5;250m \u001b[39m\u001b[38;5;21mapply\u001b[39m(\n",
      "\u001b[0;32m   4801\u001b[0m     \u001b[38;5;28mself\u001b[39m,\n",
      "\u001b[0;32m   4802\u001b[0m     func: AggFuncType,\n",
      "\u001b[1;32m   (...)\u001b[0m\n",
      "\u001b[0;32m   4807\u001b[0m     \u001b[38;5;241m*\u001b[39m\u001b[38;5;241m*\u001b[39mkwargs,\n",
      "\u001b[0;32m   4808\u001b[0m ) \u001b[38;5;241m-\u001b[39m\u001b[38;5;241m>\u001b[39m DataFrame \u001b[38;5;241m|\u001b[39m Series:\n",
      "\u001b[0;32m   4809\u001b[0m \u001b[38;5;250m    \u001b[39m\u001b[38;5;124;03m\"\"\"\u001b[39;00m\n",
      "\u001b[0;32m   4810\u001b[0m \u001b[38;5;124;03m    Invoke function on values of Series.\u001b[39;00m\n",
      "\u001b[0;32m   4811\u001b[0m \n",
      "\u001b[1;32m   (...)\u001b[0m\n",
      "\u001b[0;32m   4926\u001b[0m \u001b[38;5;124;03m    dtype: float64\u001b[39;00m\n",
      "\u001b[0;32m   4927\u001b[0m \u001b[38;5;124;03m    \"\"\"\u001b[39;00m\n",
      "\u001b[0;32m   4928\u001b[0m     \u001b[38;5;28;01mreturn\u001b[39;00m \u001b[43mSeriesApply\u001b[49m\u001b[43m(\u001b[49m\n",
      "\u001b[0;32m   4929\u001b[0m \u001b[43m        \u001b[49m\u001b[38;5;28;43mself\u001b[39;49m\u001b[43m,\u001b[49m\n",
      "\u001b[0;32m   4930\u001b[0m \u001b[43m        \u001b[49m\u001b[43mfunc\u001b[49m\u001b[43m,\u001b[49m\n",
      "\u001b[0;32m   4931\u001b[0m \u001b[43m        \u001b[49m\u001b[43mconvert_dtype\u001b[49m\u001b[38;5;241;43m=\u001b[39;49m\u001b[43mconvert_dtype\u001b[49m\u001b[43m,\u001b[49m\n",
      "\u001b[0;32m   4932\u001b[0m \u001b[43m        \u001b[49m\u001b[43mby_row\u001b[49m\u001b[38;5;241;43m=\u001b[39;49m\u001b[43mby_row\u001b[49m\u001b[43m,\u001b[49m\n",
      "\u001b[0;32m   4933\u001b[0m \u001b[43m        \u001b[49m\u001b[43margs\u001b[49m\u001b[38;5;241;43m=\u001b[39;49m\u001b[43margs\u001b[49m\u001b[43m,\u001b[49m\n",
      "\u001b[0;32m   4934\u001b[0m \u001b[43m        \u001b[49m\u001b[43mkwargs\u001b[49m\u001b[38;5;241;43m=\u001b[39;49m\u001b[43mkwargs\u001b[49m\u001b[43m,\u001b[49m\n",
      "\u001b[1;32m-> 4935\u001b[0m \u001b[43m    \u001b[49m\u001b[43m)\u001b[49m\u001b[38;5;241;43m.\u001b[39;49m\u001b[43mapply\u001b[49m\u001b[43m(\u001b[49m\u001b[43m)\u001b[49m\n",
      "\n",
      "File \u001b[1;32mc:\\Users\\hayk_\\.conda\\envs\\lectures\\lib\\site-packages\\pandas\\core\\apply.py:1422\u001b[0m, in \u001b[0;36mSeriesApply.apply\u001b[1;34m(self)\u001b[0m\n",
      "\u001b[0;32m   1419\u001b[0m     \u001b[38;5;28;01mreturn\u001b[39;00m \u001b[38;5;28mself\u001b[39m\u001b[38;5;241m.\u001b[39mapply_compat()\n",
      "\u001b[0;32m   1421\u001b[0m \u001b[38;5;66;03m# self.func is Callable\u001b[39;00m\n",
      "\u001b[1;32m-> 1422\u001b[0m \u001b[38;5;28;01mreturn\u001b[39;00m \u001b[38;5;28;43mself\u001b[39;49m\u001b[38;5;241;43m.\u001b[39;49m\u001b[43mapply_standard\u001b[49m\u001b[43m(\u001b[49m\u001b[43m)\u001b[49m\n",
      "\n",
      "File \u001b[1;32mc:\\Users\\hayk_\\.conda\\envs\\lectures\\lib\\site-packages\\pandas\\core\\apply.py:1502\u001b[0m, in \u001b[0;36mSeriesApply.apply_standard\u001b[1;34m(self)\u001b[0m\n",
      "\u001b[0;32m   1496\u001b[0m \u001b[38;5;66;03m# row-wise access\u001b[39;00m\n",
      "\u001b[0;32m   1497\u001b[0m \u001b[38;5;66;03m# apply doesn't have a `na_action` keyword and for backward compat reasons\u001b[39;00m\n",
      "\u001b[0;32m   1498\u001b[0m \u001b[38;5;66;03m# we need to give `na_action=\"ignore\"` for categorical data.\u001b[39;00m\n",
      "\u001b[0;32m   1499\u001b[0m \u001b[38;5;66;03m# TODO: remove the `na_action=\"ignore\"` when that default has been changed in\u001b[39;00m\n",
      "\u001b[0;32m   1500\u001b[0m \u001b[38;5;66;03m#  Categorical (GH51645).\u001b[39;00m\n",
      "\u001b[0;32m   1501\u001b[0m action \u001b[38;5;241m=\u001b[39m \u001b[38;5;124m\"\u001b[39m\u001b[38;5;124mignore\u001b[39m\u001b[38;5;124m\"\u001b[39m \u001b[38;5;28;01mif\u001b[39;00m \u001b[38;5;28misinstance\u001b[39m(obj\u001b[38;5;241m.\u001b[39mdtype, CategoricalDtype) \u001b[38;5;28;01melse\u001b[39;00m \u001b[38;5;28;01mNone\u001b[39;00m\n",
      "\u001b[1;32m-> 1502\u001b[0m mapped \u001b[38;5;241m=\u001b[39m \u001b[43mobj\u001b[49m\u001b[38;5;241;43m.\u001b[39;49m\u001b[43m_map_values\u001b[49m\u001b[43m(\u001b[49m\n",
      "\u001b[0;32m   1503\u001b[0m \u001b[43m    \u001b[49m\u001b[43mmapper\u001b[49m\u001b[38;5;241;43m=\u001b[39;49m\u001b[43mcurried\u001b[49m\u001b[43m,\u001b[49m\u001b[43m \u001b[49m\u001b[43mna_action\u001b[49m\u001b[38;5;241;43m=\u001b[39;49m\u001b[43maction\u001b[49m\u001b[43m,\u001b[49m\u001b[43m \u001b[49m\u001b[43mconvert\u001b[49m\u001b[38;5;241;43m=\u001b[39;49m\u001b[38;5;28;43mself\u001b[39;49m\u001b[38;5;241;43m.\u001b[39;49m\u001b[43mconvert_dtype\u001b[49m\n",
      "\u001b[0;32m   1504\u001b[0m \u001b[43m\u001b[49m\u001b[43m)\u001b[49m\n",
      "\u001b[0;32m   1506\u001b[0m \u001b[38;5;28;01mif\u001b[39;00m \u001b[38;5;28mlen\u001b[39m(mapped) \u001b[38;5;129;01mand\u001b[39;00m \u001b[38;5;28misinstance\u001b[39m(mapped[\u001b[38;5;241m0\u001b[39m], ABCSeries):\n",
      "\u001b[0;32m   1507\u001b[0m     \u001b[38;5;66;03m# GH#43986 Need to do list(mapped) in order to get treated as nested\u001b[39;00m\n",
      "\u001b[0;32m   1508\u001b[0m     \u001b[38;5;66;03m#  See also GH#25959 regarding EA support\u001b[39;00m\n",
      "\u001b[0;32m   1509\u001b[0m     \u001b[38;5;28;01mreturn\u001b[39;00m obj\u001b[38;5;241m.\u001b[39m_constructor_expanddim(\u001b[38;5;28mlist\u001b[39m(mapped), index\u001b[38;5;241m=\u001b[39mobj\u001b[38;5;241m.\u001b[39mindex)\n",
      "\n",
      "File \u001b[1;32mc:\\Users\\hayk_\\.conda\\envs\\lectures\\lib\\site-packages\\pandas\\core\\base.py:925\u001b[0m, in \u001b[0;36mIndexOpsMixin._map_values\u001b[1;34m(self, mapper, na_action, convert)\u001b[0m\n",
      "\u001b[0;32m    922\u001b[0m \u001b[38;5;28;01mif\u001b[39;00m \u001b[38;5;28misinstance\u001b[39m(arr, ExtensionArray):\n",
      "\u001b[0;32m    923\u001b[0m     \u001b[38;5;28;01mreturn\u001b[39;00m arr\u001b[38;5;241m.\u001b[39mmap(mapper, na_action\u001b[38;5;241m=\u001b[39mna_action)\n",
      "\u001b[1;32m--> 925\u001b[0m \u001b[38;5;28;01mreturn\u001b[39;00m \u001b[43malgorithms\u001b[49m\u001b[38;5;241;43m.\u001b[39;49m\u001b[43mmap_array\u001b[49m\u001b[43m(\u001b[49m\u001b[43marr\u001b[49m\u001b[43m,\u001b[49m\u001b[43m \u001b[49m\u001b[43mmapper\u001b[49m\u001b[43m,\u001b[49m\u001b[43m \u001b[49m\u001b[43mna_action\u001b[49m\u001b[38;5;241;43m=\u001b[39;49m\u001b[43mna_action\u001b[49m\u001b[43m,\u001b[49m\u001b[43m \u001b[49m\u001b[43mconvert\u001b[49m\u001b[38;5;241;43m=\u001b[39;49m\u001b[43mconvert\u001b[49m\u001b[43m)\u001b[49m\n",
      "\n",
      "File \u001b[1;32mc:\\Users\\hayk_\\.conda\\envs\\lectures\\lib\\site-packages\\pandas\\core\\algorithms.py:1743\u001b[0m, in \u001b[0;36mmap_array\u001b[1;34m(arr, mapper, na_action, convert)\u001b[0m\n",
      "\u001b[0;32m   1741\u001b[0m values \u001b[38;5;241m=\u001b[39m arr\u001b[38;5;241m.\u001b[39mastype(\u001b[38;5;28mobject\u001b[39m, copy\u001b[38;5;241m=\u001b[39m\u001b[38;5;28;01mFalse\u001b[39;00m)\n",
      "\u001b[0;32m   1742\u001b[0m \u001b[38;5;28;01mif\u001b[39;00m na_action \u001b[38;5;129;01mis\u001b[39;00m \u001b[38;5;28;01mNone\u001b[39;00m:\n",
      "\u001b[1;32m-> 1743\u001b[0m     \u001b[38;5;28;01mreturn\u001b[39;00m \u001b[43mlib\u001b[49m\u001b[38;5;241;43m.\u001b[39;49m\u001b[43mmap_infer\u001b[49m\u001b[43m(\u001b[49m\u001b[43mvalues\u001b[49m\u001b[43m,\u001b[49m\u001b[43m \u001b[49m\u001b[43mmapper\u001b[49m\u001b[43m,\u001b[49m\u001b[43m \u001b[49m\u001b[43mconvert\u001b[49m\u001b[38;5;241;43m=\u001b[39;49m\u001b[43mconvert\u001b[49m\u001b[43m)\u001b[49m\n",
      "\u001b[0;32m   1744\u001b[0m \u001b[38;5;28;01melse\u001b[39;00m:\n",
      "\u001b[0;32m   1745\u001b[0m     \u001b[38;5;28;01mreturn\u001b[39;00m lib\u001b[38;5;241m.\u001b[39mmap_infer_mask(\n",
      "\u001b[0;32m   1746\u001b[0m         values, mapper, mask\u001b[38;5;241m=\u001b[39misna(values)\u001b[38;5;241m.\u001b[39mview(np\u001b[38;5;241m.\u001b[39muint8), convert\u001b[38;5;241m=\u001b[39mconvert\n",
      "\u001b[0;32m   1747\u001b[0m     )\n",
      "\n",
      "File \u001b[1;32mpandas/_libs/lib.pyx:2999\u001b[0m, in \u001b[0;36mpandas._libs.lib.map_infer\u001b[1;34m()\u001b[0m\n",
      "\n",
      "Cell \u001b[1;32mIn[123], line 3\u001b[0m, in \u001b[0;36mis_armenian\u001b[1;34m(text)\u001b[0m\n",
      "\u001b[0;32m      1\u001b[0m \u001b[38;5;28;01mdef\u001b[39;00m\u001b[38;5;250m \u001b[39m\u001b[38;5;21mis_armenian\u001b[39m(text):\n",
      "\u001b[0;32m      2\u001b[0m     keywords \u001b[38;5;241m=\u001b[39m [\u001b[38;5;124m\"\u001b[39m\u001b[38;5;124marmenian\u001b[39m\u001b[38;5;124m\"\u001b[39m, \u001b[38;5;124m\"\u001b[39m\u001b[38;5;124marmenia\u001b[39m\u001b[38;5;124m\"\u001b[39m]\n",
      "\u001b[1;32m----> 3\u001b[0m     \u001b[38;5;28;01mreturn\u001b[39;00m \u001b[38;5;28many\u001b[39m([k \u001b[38;5;129;01min\u001b[39;00m text\u001b[38;5;241m.\u001b[39mlower() \u001b[38;5;28;01mfor\u001b[39;00m k \u001b[38;5;129;01min\u001b[39;00m keywords])\n",
      "\n",
      "Cell \u001b[1;32mIn[123], line 3\u001b[0m, in \u001b[0;36m<listcomp>\u001b[1;34m(.0)\u001b[0m\n",
      "\u001b[0;32m      1\u001b[0m \u001b[38;5;28;01mdef\u001b[39;00m\u001b[38;5;250m \u001b[39m\u001b[38;5;21mis_armenian\u001b[39m(text):\n",
      "\u001b[0;32m      2\u001b[0m     keywords \u001b[38;5;241m=\u001b[39m [\u001b[38;5;124m\"\u001b[39m\u001b[38;5;124marmenian\u001b[39m\u001b[38;5;124m\"\u001b[39m, \u001b[38;5;124m\"\u001b[39m\u001b[38;5;124marmenia\u001b[39m\u001b[38;5;124m\"\u001b[39m]\n",
      "\u001b[1;32m----> 3\u001b[0m     \u001b[38;5;28;01mreturn\u001b[39;00m \u001b[38;5;28many\u001b[39m([k \u001b[38;5;129;01min\u001b[39;00m \u001b[43mtext\u001b[49m\u001b[38;5;241;43m.\u001b[39;49m\u001b[43mlower\u001b[49m() \u001b[38;5;28;01mfor\u001b[39;00m k \u001b[38;5;129;01min\u001b[39;00m keywords])\n",
      "\n",
      "\u001b[1;31mAttributeError\u001b[0m: 'float' object has no attribute 'lower'"
     ]
    }
   ],
   "source": [
    "df[\"Armenian\"] = df[\"Short description\"].apply(is_armenian)\n",
    "df"
   ]
  },
  {
   "cell_type": "code",
   "execution_count": null,
   "id": "928f64f7",
   "metadata": {},
   "outputs": [
    {
     "name": "stderr",
     "output_type": "stream",
     "text": [
      "C:\\Users\\hayk_\\AppData\\Local\\Temp\\ipykernel_24800\\4022290967.py:1: SettingWithCopyWarning: \n",
      "A value is trying to be set on a copy of a slice from a DataFrame.\n",
      "Try using .loc[row_indexer,col_indexer] = value instead\n",
      "\n",
      "See the caveats in the documentation: https://pandas.pydata.org/pandas-docs/stable/user_guide/indexing.html#returning-a-view-versus-a-copy\n",
      "  df[\"Armenian\"] = df[\"Short description\"].fillna(\"na\").apply(is_armenian)\n"
     ]
    }
   ],
   "source": [
    "df[\"Armenian\"] = df[\"Short description\"].fillna(\"na\").apply(is_armenian)\n"
   ]
  },
  {
   "cell_type": "code",
   "execution_count": null,
   "id": "ff82f71e",
   "metadata": {},
   "outputs": [
    {
     "data": {
      "application/vnd.microsoft.datawrangler.viewer.v0+json": {
       "columns": [
        {
         "name": "index",
         "rawType": "int64",
         "type": "integer"
        },
        {
         "name": "Id",
         "rawType": "object",
         "type": "string"
        },
        {
         "name": "Name",
         "rawType": "object",
         "type": "string"
        },
        {
         "name": "Short description",
         "rawType": "object",
         "type": "string"
        },
        {
         "name": "Gender",
         "rawType": "object",
         "type": "string"
        },
        {
         "name": "Country",
         "rawType": "object",
         "type": "unknown"
        },
        {
         "name": "Occupation",
         "rawType": "object",
         "type": "string"
        },
        {
         "name": "Birth year",
         "rawType": "int64",
         "type": "integer"
        },
        {
         "name": "Death year",
         "rawType": "float64",
         "type": "float"
        },
        {
         "name": "Manner of death",
         "rawType": "object",
         "type": "unknown"
        },
        {
         "name": "Age of death",
         "rawType": "float64",
         "type": "float"
        },
        {
         "name": "Armenian",
         "rawType": "bool",
         "type": "boolean"
        }
       ],
       "ref": "2cabc43d-924f-4eb6-a3cd-dc32f85f9e7f",
       "rows": [
        [
         "180",
         "Q1785",
         "Charles Aznavour",
         "Armenian-French singer and diplomat",
         "Male",
         "France; Armenia",
         "Artist",
         "1924",
         "2018.0",
         null,
         "94.0",
         "True"
        ],
        [
         "311",
         "Q4452",
         "Thomas of Metsoph",
         "Armenian cleric and chronicler",
         "Male",
         null,
         "Researcher",
         "1378",
         "1446.0",
         null,
         "68.0",
         "True"
        ],
        [
         "354",
         "Q4924",
         "Isabella I, Queen of Armenia",
         "queen regnant of Cilician Armenia",
         "Female",
         "Armenian Kingdom of Cilicia",
         "Politician",
         "1216",
         "1252.0",
         null,
         "36.0",
         "True"
        ],
        [
         "3462",
         "Q51472",
         "Rouben Mamoulian",
         "Armenian American film and theatre director",
         "Male",
         "United States of America; Russian Empire",
         "Artist",
         "1897",
         "1987.0",
         null,
         "90.0",
         "True"
        ],
        [
         "3807",
         "Q55394",
         "Henri Verneuil",
         "French-Armenian playwright and filmmaker",
         "Male",
         "France",
         "Artist",
         "1920",
         "2002.0",
         null,
         "82.0",
         "True"
        ],
        [
         "10702",
         "Q75470",
         "Flora Martirosian",
         "Armenian folk singer",
         "Female",
         "United States of America; Armenia; Soviet Union",
         "Artist",
         "1957",
         "2012.0",
         null,
         "55.0",
         "True"
        ],
        [
         "28166",
         "Q115683",
         "Michael Arlen",
         "Armenian writer",
         "Male",
         null,
         "Artist",
         "1895",
         "1956.0",
         "natural causes",
         "61.0",
         "True"
        ],
        [
         "32775",
         "Q139636",
         "Zaven Biberyan",
         "Armenian writer",
         "Male",
         null,
         "Artist",
         "1921",
         "1984.0",
         null,
         "63.0",
         "True"
        ],
        [
         "33277",
         "Q152293",
         "Aram Khachaturian",
         "Armenian Soviet composer and conductor (1903-1978)",
         "Male",
         "Soviet Union; Russian Empire",
         "Artist",
         "1903",
         "1978.0",
         null,
         "75.0",
         "True"
        ],
        [
         "34290",
         "Q164396",
         "Victor Ambartsumian",
         "Soviet Armenian astrophysicist",
         "Male",
         "Armenia; Soviet Union; Russian Empire",
         "Researcher",
         "1908",
         "1996.0",
         null,
         "88.0",
         "True"
        ],
        [
         "34540",
         "Q166920",
         "Zaven I Der Yeghiayan of Constantinople",
         "Armenian Patriarch",
         "Male",
         "Ottoman Empire",
         "Religious figure",
         "1868",
         "1947.0",
         null,
         "79.0",
         "True"
        ],
        [
         "36178",
         "Q180636",
         "Tigran Petrosian",
         "Soviet Armenian Grandmaster and World Chess Champion",
         "Male",
         "Soviet Union",
         "Athlete",
         "1929",
         "1984.0",
         "natural causes",
         "55.0",
         "True"
        ],
        [
         "38049",
         "Q207356",
         "William Saroyan",
         "Armenian-American novelist, playwright, and short story writer",
         "Male",
         "United States of America",
         "Artist",
         "1908",
         "1981.0",
         "natural causes",
         "73.0",
         "True"
        ],
        [
         "39453",
         "Q215782",
         "Andranik Margaryan",
         "Armenian Prime Minister (1951-2007)",
         "Male",
         "Armenia; Soviet Union",
         "Politician",
         "1951",
         "2007.0",
         "natural causes",
         "56.0",
         "True"
        ],
        [
         "39560",
         "Q216018",
         "Jan Rustem",
         "painter from Armenia (1762-1835)",
         "Male",
         "Ottoman Empire; Russian Empire; Polish–Lithuanian Commonwealth",
         "Artist",
         "1762",
         "1835.0",
         null,
         "73.0",
         "True"
        ],
        [
         "39876",
         "Q217771",
         "George Gurdjieff",
         "Spiritual teacher, Armenian philosopher, composer and writer",
         "Male",
         "Russian Empire",
         "Artist",
         "1866",
         "1949.0",
         null,
         "83.0",
         "True"
        ],
        [
         "42158",
         "Q248479",
         "Armen Tigranian",
         "Armenian composer and conductor",
         "Male",
         "Soviet Union; Russian Empire",
         "Artist",
         "1879",
         "1950.0",
         null,
         "71.0",
         "True"
        ],
        [
         "43400",
         "Q261847",
         "Charlotte, Queen of Cyprus",
         "Queen Regnant of Cyprus, Jerusalem and Armenia",
         "Female",
         "Republic of Cyprus",
         "Politician",
         "1442",
         "1487.0",
         null,
         "45.0",
         "True"
        ],
        [
         "43970",
         "Q266968",
         "Gurgen Margaryan",
         "Armenian soldier",
         "Male",
         "Armenia",
         "Military personnel",
         "1978",
         "2004.0",
         "homicide",
         "26.0",
         "True"
        ],
        [
         "44954",
         "Q273983",
         "Sibylla of Lusignan",
         "Armenian queen",
         "Female",
         null,
         "Politician",
         "1198",
         "1230.0",
         null,
         "32.0",
         "True"
        ],
        [
         "45653",
         "Q278864",
         "Andranik Ozanian",
         "Armenian politician and military personnel (1865-1927)",
         "Male",
         "Armenia",
         "Politician",
         "1865",
         "1927.0",
         null,
         "62.0",
         "True"
        ],
        [
         "46329",
         "Q285840",
         "Marie of Korikos, Queen of Armenia",
         "Queen of Armenian Kingdom of Cilicia",
         "Female",
         null,
         "Politician",
         "1321",
         "1405.0",
         null,
         "84.0",
         "True"
        ],
        [
         "47739",
         "Q302586",
         "Matthew of Edessa",
         "Armenian historian",
         "Male",
         null,
         "Researcher",
         "1100",
         "1144.0",
         null,
         "44.0",
         "True"
        ],
        [
         "48116",
         "Q309953",
         "Gregory the Illuminator",
         "Patron saint of the Armenian Apostolic Church (c.257-c.331)",
         "Male",
         null,
         "Religious figure",
         "252",
         "329.0",
         null,
         "77.0",
         "True"
        ],
        [
         "48322",
         "Q311311",
         "Sergei Parajanov",
         "Soviet Armenian and Ukrainian film director (1924-1990)",
         "Male",
         "Soviet Union",
         "Artist",
         "1924",
         "1990.0",
         "natural causes",
         "66.0",
         "True"
        ],
        [
         "52230",
         "Q328238",
         "Ignatius Maloyan",
         "Armenian Catholic archbishop and martyr",
         "Male",
         "Turkey",
         "Religious figure",
         "1869",
         "1915.0",
         null,
         "46.0",
         "True"
        ],
        [
         "52589",
         "Q329760",
         "Abraham Petros I Ardzivian",
         "Armenian priest (1679-1749)",
         "Male",
         null,
         "Religious figure",
         "1679",
         "1749.0",
         null,
         "70.0",
         "True"
        ],
        [
         "52622",
         "Q329875",
         "Abraham Constantin Mouradgea d’Ohsson",
         "Swedish historian and diplomat of Armenian descent",
         "Male",
         "Sweden",
         "Politician",
         "1779",
         "1851.0",
         null,
         "72.0",
         "True"
        ],
        [
         "52912",
         "Q330897",
         "Abraham III of Armenia",
         "Catholicoi of Armenia",
         "Male",
         null,
         "Researcher",
         "1700",
         "1737.0",
         null,
         "37.0",
         "True"
        ],
        [
         "54097",
         "Q336176",
         "Luther George Simjian",
         "American-Armenian inventor",
         "Male",
         "United States of America; Armenia",
         "Inventor",
         "1905",
         "1997.0",
         null,
         "92.0",
         "True"
        ],
        [
         "54679",
         "Q339342",
         "Alexander Abian",
         "Armenian-American mathematician",
         "Male",
         "United States of America",
         "Researcher",
         "1923",
         "1999.0",
         null,
         "76.0",
         "True"
        ],
        [
         "54723",
         "Q339679",
         "Vahram Pahlavouni",
         "Armenian army commander",
         "Male",
         "Bagratid Armenia",
         "Military personnel",
         "965",
         "1045.0",
         null,
         "80.0",
         "True"
        ],
        [
         "55071",
         "Q345538",
         "Calouste Gulbenkian",
         "Armenian businessman and philanthropist",
         "Male",
         "Ottoman Empire; United Kingdom of Great Britain and Ireland",
         "Politician",
         "1869",
         "1955.0",
         null,
         "86.0",
         "True"
        ],
        [
         "55465",
         "Q348006",
         "Armen Takhtajan",
         "Soviet-Armenian botanist (1910-2009)",
         "Male",
         "Russia; Soviet Union; Russian Empire; Russian Republic; Democratic Republic of Georgia; Transcaucasian Democratic Federative Republic; Transcaucasian Socialist Federative Soviet Republic; Transcaucasian Commissariat; nan",
         "Researcher",
         "1910",
         "2009.0",
         null,
         "99.0",
         "True"
        ],
        [
         "56783",
         "Q356068",
         "Kirk Kerkorian",
         "Armenian-American businessman, investor, and philanthropist. He was the president and CEO of Tracinda Corporation.",
         "Male",
         "United States of America",
         "Athlete",
         "1917",
         "2015.0",
         null,
         "98.0",
         "True"
        ],
        [
         "59007",
         "Q365695",
         "Moses of Chorene",
         "Armenian historian",
         "Male",
         "Kingdom of Armenia",
         "Researcher",
         "410",
         "490.0",
         null,
         "80.0",
         "True"
        ],
        [
         "60960",
         "Q378309",
         "Stepan Zoryan",
         "Armenian writer",
         "Male",
         "Soviet Union; Russian Empire",
         "Artist",
         "1890",
         "1967.0",
         null,
         "77.0",
         "True"
        ],
        [
         "61341",
         "Q380797",
         "Hovhannes Tumanyan",
         "Armenian author, poet, novelist, and public activist",
         "Male",
         "Soviet Union; Russian Empire",
         "Artist",
         "1869",
         "1923.0",
         null,
         "54.0",
         "True"
        ],
        [
         "69411",
         "Q463194",
         "Alexander Arutiunian",
         "Armenian composer, pianist",
         "Male",
         "Armenia; Soviet Union",
         "Artist",
         "1920",
         "2012.0",
         null,
         "92.0",
         "True"
        ],
        [
         "69995",
         "Q466144",
         "Stepan Shahumyan",
         "Armenian Bolshevik revolutionary",
         "Male",
         "Russian Empire",
         "Politician",
         "1878",
         "1918.0",
         null,
         "40.0",
         "True"
        ],
        [
         "70997",
         "Q471353",
         "Vahan Hovhannisyan",
         "Vice-President of the National Assembly of Armenia (1956-2014)",
         "Male",
         "Armenia; Soviet Union",
         "Politician",
         "1956",
         "2014.0",
         null,
         "58.0",
         "True"
        ],
        [
         "71000",
         "Q471374",
         "Karen Asrian",
         "Armenian chess player",
         "Male",
         "Armenia",
         "Athlete",
         "1980",
         "2008.0",
         "natural causes",
         "28.0",
         "True"
        ],
        [
         "71047",
         "Q471740",
         "Armen Dzhigarkhanyan",
         "Armenian, Soviet, Russian actor",
         "Male",
         "United States of America; Russia; Armenia; Soviet Union",
         "Artist",
         "1935",
         "2020.0",
         null,
         "85.0",
         "True"
        ],
        [
         "72528",
         "Q492261",
         "Antoine-Pierre IX Hassoun",
         "Armenian Patriarch and priest (1809-1884)",
         "Male",
         null,
         "Religious figure",
         "1809",
         "1884.0",
         null,
         "75.0",
         "True"
        ],
        [
         "72765",
         "Q495828",
         "Andreas Artsruni",
         "Armenian-Russian mineralogist and geologist",
         "Male",
         null,
         "Researcher",
         "1847",
         "1898.0",
         null,
         "51.0",
         "True"
        ],
        [
         "74903",
         "Q511888",
         "Leonard Petrosyan",
         "Armenian politician (1953-1999)",
         "Male",
         "Armenia; Soviet Union; Artsakh",
         "Politician",
         "1953",
         "1999.0",
         "homicide",
         "46.0",
         "True"
        ],
        [
         "77978",
         "Q533947",
         "Alexander Tamanian",
         "Armenian architect",
         "Male",
         "Soviet Union; Russian Empire",
         "Architect",
         "1878",
         "1936.0",
         null,
         "58.0",
         "True"
        ],
        [
         "78594",
         "Q538244",
         "Ignatius Bedros XVI Batanian",
         "Armenian Eastern patriarch",
         "Male",
         null,
         "Religious figure",
         "1899",
         "1979.0",
         null,
         "80.0",
         "True"
        ],
        [
         "79014",
         "Q541175",
         "Lusine Zakaryan",
         "Armenian soprano",
         "Female",
         "Armenia; Soviet Union",
         "Artist",
         "1937",
         "1992.0",
         null,
         "55.0",
         "True"
        ],
        [
         "79167",
         "Q542232",
         "Alan Hovhaness",
         "Armenian-American composer",
         "Male",
         "United States of America",
         "Artist",
         "1911",
         "2000.0",
         null,
         "89.0",
         "True"
        ]
       ],
       "shape": {
        "columns": 11,
        "rows": 538
       }
      },
      "text/html": [
       "<div>\n",
       "<style scoped>\n",
       "    .dataframe tbody tr th:only-of-type {\n",
       "        vertical-align: middle;\n",
       "    }\n",
       "\n",
       "    .dataframe tbody tr th {\n",
       "        vertical-align: top;\n",
       "    }\n",
       "\n",
       "    .dataframe thead th {\n",
       "        text-align: right;\n",
       "    }\n",
       "</style>\n",
       "<table border=\"1\" class=\"dataframe\">\n",
       "  <thead>\n",
       "    <tr style=\"text-align: right;\">\n",
       "      <th></th>\n",
       "      <th>Id</th>\n",
       "      <th>Name</th>\n",
       "      <th>Short description</th>\n",
       "      <th>Gender</th>\n",
       "      <th>Country</th>\n",
       "      <th>Occupation</th>\n",
       "      <th>Birth year</th>\n",
       "      <th>Death year</th>\n",
       "      <th>Manner of death</th>\n",
       "      <th>Age of death</th>\n",
       "      <th>Armenian</th>\n",
       "    </tr>\n",
       "  </thead>\n",
       "  <tbody>\n",
       "    <tr>\n",
       "      <th>180</th>\n",
       "      <td>Q1785</td>\n",
       "      <td>Charles Aznavour</td>\n",
       "      <td>Armenian-French singer and diplomat</td>\n",
       "      <td>Male</td>\n",
       "      <td>France; Armenia</td>\n",
       "      <td>Artist</td>\n",
       "      <td>1924</td>\n",
       "      <td>2018.0</td>\n",
       "      <td>NaN</td>\n",
       "      <td>94.0</td>\n",
       "      <td>True</td>\n",
       "    </tr>\n",
       "    <tr>\n",
       "      <th>311</th>\n",
       "      <td>Q4452</td>\n",
       "      <td>Thomas of Metsoph</td>\n",
       "      <td>Armenian cleric and chronicler</td>\n",
       "      <td>Male</td>\n",
       "      <td>NaN</td>\n",
       "      <td>Researcher</td>\n",
       "      <td>1378</td>\n",
       "      <td>1446.0</td>\n",
       "      <td>NaN</td>\n",
       "      <td>68.0</td>\n",
       "      <td>True</td>\n",
       "    </tr>\n",
       "    <tr>\n",
       "      <th>354</th>\n",
       "      <td>Q4924</td>\n",
       "      <td>Isabella I, Queen of Armenia</td>\n",
       "      <td>queen regnant of Cilician Armenia</td>\n",
       "      <td>Female</td>\n",
       "      <td>Armenian Kingdom of Cilicia</td>\n",
       "      <td>Politician</td>\n",
       "      <td>1216</td>\n",
       "      <td>1252.0</td>\n",
       "      <td>NaN</td>\n",
       "      <td>36.0</td>\n",
       "      <td>True</td>\n",
       "    </tr>\n",
       "    <tr>\n",
       "      <th>3462</th>\n",
       "      <td>Q51472</td>\n",
       "      <td>Rouben Mamoulian</td>\n",
       "      <td>Armenian American film and theatre director</td>\n",
       "      <td>Male</td>\n",
       "      <td>United States of America; Russian Empire</td>\n",
       "      <td>Artist</td>\n",
       "      <td>1897</td>\n",
       "      <td>1987.0</td>\n",
       "      <td>NaN</td>\n",
       "      <td>90.0</td>\n",
       "      <td>True</td>\n",
       "    </tr>\n",
       "    <tr>\n",
       "      <th>3807</th>\n",
       "      <td>Q55394</td>\n",
       "      <td>Henri Verneuil</td>\n",
       "      <td>French-Armenian playwright and filmmaker</td>\n",
       "      <td>Male</td>\n",
       "      <td>France</td>\n",
       "      <td>Artist</td>\n",
       "      <td>1920</td>\n",
       "      <td>2002.0</td>\n",
       "      <td>NaN</td>\n",
       "      <td>82.0</td>\n",
       "      <td>True</td>\n",
       "    </tr>\n",
       "    <tr>\n",
       "      <th>...</th>\n",
       "      <td>...</td>\n",
       "      <td>...</td>\n",
       "      <td>...</td>\n",
       "      <td>...</td>\n",
       "      <td>...</td>\n",
       "      <td>...</td>\n",
       "      <td>...</td>\n",
       "      <td>...</td>\n",
       "      <td>...</td>\n",
       "      <td>...</td>\n",
       "      <td>...</td>\n",
       "    </tr>\n",
       "    <tr>\n",
       "      <th>1158947</th>\n",
       "      <td>Q58030786</td>\n",
       "      <td>Marie Balian</td>\n",
       "      <td>Armenian ceramic artist</td>\n",
       "      <td>Female</td>\n",
       "      <td>Israel</td>\n",
       "      <td>Artist</td>\n",
       "      <td>1925</td>\n",
       "      <td>2017.0</td>\n",
       "      <td>NaN</td>\n",
       "      <td>92.0</td>\n",
       "      <td>True</td>\n",
       "    </tr>\n",
       "    <tr>\n",
       "      <th>1161788</th>\n",
       "      <td>Q59394760</td>\n",
       "      <td>Robert Kamoyan</td>\n",
       "      <td>Armenian director, artist</td>\n",
       "      <td>Male</td>\n",
       "      <td>Armenia; Soviet Union</td>\n",
       "      <td>Artist</td>\n",
       "      <td>1937</td>\n",
       "      <td>2014.0</td>\n",
       "      <td>NaN</td>\n",
       "      <td>77.0</td>\n",
       "      <td>True</td>\n",
       "    </tr>\n",
       "    <tr>\n",
       "      <th>1166304</th>\n",
       "      <td>Q59657412</td>\n",
       "      <td>Giuseppe Arachial</td>\n",
       "      <td>Armenian Catholic bishop of Angora</td>\n",
       "      <td>Male</td>\n",
       "      <td>Ottoman Empire</td>\n",
       "      <td>Religious figure</td>\n",
       "      <td>1811</td>\n",
       "      <td>1876.0</td>\n",
       "      <td>NaN</td>\n",
       "      <td>65.0</td>\n",
       "      <td>True</td>\n",
       "    </tr>\n",
       "    <tr>\n",
       "      <th>1191627</th>\n",
       "      <td>Q63226473</td>\n",
       "      <td>Boris Meliksetyan</td>\n",
       "      <td>Armenian geologist</td>\n",
       "      <td>Male</td>\n",
       "      <td>Armenia; Soviet Union</td>\n",
       "      <td>Researcher</td>\n",
       "      <td>1928</td>\n",
       "      <td>1992.0</td>\n",
       "      <td>NaN</td>\n",
       "      <td>64.0</td>\n",
       "      <td>True</td>\n",
       "    </tr>\n",
       "    <tr>\n",
       "      <th>1198505</th>\n",
       "      <td>Q64734343</td>\n",
       "      <td>Pierre Tilkian</td>\n",
       "      <td>Armenian Catholic bishop</td>\n",
       "      <td>Male</td>\n",
       "      <td>NaN</td>\n",
       "      <td>Religious figure</td>\n",
       "      <td>1809</td>\n",
       "      <td>1885.0</td>\n",
       "      <td>NaN</td>\n",
       "      <td>76.0</td>\n",
       "      <td>True</td>\n",
       "    </tr>\n",
       "  </tbody>\n",
       "</table>\n",
       "<p>538 rows × 11 columns</p>\n",
       "</div>"
      ],
      "text/plain": [
       "                Id                          Name  \\\n",
       "180          Q1785              Charles Aznavour   \n",
       "311          Q4452             Thomas of Metsoph   \n",
       "354          Q4924  Isabella I, Queen of Armenia   \n",
       "3462        Q51472              Rouben Mamoulian   \n",
       "3807        Q55394                Henri Verneuil   \n",
       "...            ...                           ...   \n",
       "1158947  Q58030786                  Marie Balian   \n",
       "1161788  Q59394760                Robert Kamoyan   \n",
       "1166304  Q59657412             Giuseppe Arachial   \n",
       "1191627  Q63226473             Boris Meliksetyan   \n",
       "1198505  Q64734343                Pierre Tilkian   \n",
       "\n",
       "                                   Short description  Gender  \\\n",
       "180              Armenian-French singer and diplomat    Male   \n",
       "311                   Armenian cleric and chronicler    Male   \n",
       "354                queen regnant of Cilician Armenia  Female   \n",
       "3462     Armenian American film and theatre director    Male   \n",
       "3807        French-Armenian playwright and filmmaker    Male   \n",
       "...                                              ...     ...   \n",
       "1158947                      Armenian ceramic artist  Female   \n",
       "1161788                    Armenian director, artist    Male   \n",
       "1166304           Armenian Catholic bishop of Angora    Male   \n",
       "1191627                           Armenian geologist    Male   \n",
       "1198505                     Armenian Catholic bishop    Male   \n",
       "\n",
       "                                          Country        Occupation  \\\n",
       "180                               France; Armenia            Artist   \n",
       "311                                           NaN        Researcher   \n",
       "354                   Armenian Kingdom of Cilicia        Politician   \n",
       "3462     United States of America; Russian Empire            Artist   \n",
       "3807                                       France            Artist   \n",
       "...                                           ...               ...   \n",
       "1158947                                    Israel            Artist   \n",
       "1161788                     Armenia; Soviet Union            Artist   \n",
       "1166304                            Ottoman Empire  Religious figure   \n",
       "1191627                     Armenia; Soviet Union        Researcher   \n",
       "1198505                                       NaN  Religious figure   \n",
       "\n",
       "         Birth year  Death year Manner of death  Age of death  Armenian  \n",
       "180            1924      2018.0             NaN          94.0      True  \n",
       "311            1378      1446.0             NaN          68.0      True  \n",
       "354            1216      1252.0             NaN          36.0      True  \n",
       "3462           1897      1987.0             NaN          90.0      True  \n",
       "3807           1920      2002.0             NaN          82.0      True  \n",
       "...             ...         ...             ...           ...       ...  \n",
       "1158947        1925      2017.0             NaN          92.0      True  \n",
       "1161788        1937      2014.0             NaN          77.0      True  \n",
       "1166304        1811      1876.0             NaN          65.0      True  \n",
       "1191627        1928      1992.0             NaN          64.0      True  \n",
       "1198505        1809      1885.0             NaN          76.0      True  \n",
       "\n",
       "[538 rows x 11 columns]"
      ]
     },
     "metadata": {},
     "output_type": "display_data"
    }
   ],
   "source": [
    "df[df.Armenian]"
   ]
  },
  {
   "cell_type": "code",
   "execution_count": null,
   "id": "0ea7ff1f",
   "metadata": {},
   "outputs": [
    {
     "data": {
      "application/vnd.microsoft.datawrangler.viewer.v0+json": {
       "columns": [
        {
         "name": "index",
         "rawType": "int64",
         "type": "integer"
        },
        {
         "name": "Id",
         "rawType": "object",
         "type": "string"
        },
        {
         "name": "Name",
         "rawType": "object",
         "type": "string"
        },
        {
         "name": "Short description",
         "rawType": "object",
         "type": "string"
        },
        {
         "name": "Gender",
         "rawType": "object",
         "type": "string"
        },
        {
         "name": "Country",
         "rawType": "object",
         "type": "string"
        },
        {
         "name": "Occupation",
         "rawType": "object",
         "type": "string"
        },
        {
         "name": "Birth year",
         "rawType": "int64",
         "type": "integer"
        },
        {
         "name": "Death year",
         "rawType": "float64",
         "type": "float"
        },
        {
         "name": "Manner of death",
         "rawType": "object",
         "type": "unknown"
        },
        {
         "name": "Age of death",
         "rawType": "float64",
         "type": "float"
        },
        {
         "name": "Armenian",
         "rawType": "bool",
         "type": "boolean"
        }
       ],
       "ref": "fdc8ba3f-9003-4db2-95b4-942819113bc0",
       "rows": [
        [
         "43970",
         "Q266968",
         "Gurgen Margaryan",
         "Armenian soldier",
         "Male",
         "Armenia",
         "Military personnel",
         "1978",
         "2004.0",
         "homicide",
         "26.0",
         "False"
        ],
        [
         "45653",
         "Q278864",
         "Andranik Ozanian",
         "Armenian politician and military personnel (1865-1927)",
         "Male",
         "Armenia",
         "Politician",
         "1865",
         "1927.0",
         null,
         "62.0",
         "False"
        ],
        [
         "54084",
         "Q336104",
         "Jerry Tarkanian",
         "American basketball coach",
         "Male",
         "Armenia",
         "Athlete",
         "1930",
         "2015.0",
         null,
         "85.0",
         "False"
        ],
        [
         "71000",
         "Q471374",
         "Karen Asrian",
         "Armenian chess player",
         "Male",
         "Armenia",
         "Athlete",
         "1980",
         "2008.0",
         "natural causes",
         "28.0",
         "False"
        ],
        [
         "79459",
         "Q544093",
         "Genrikh Kasparyan",
         "Armenian chess player",
         "Male",
         "Armenia",
         "Athlete",
         "1910",
         "1995.0",
         null,
         "85.0",
         "False"
        ],
        [
         "101118",
         "Q739349",
         "Vazgen I",
         "Catholicos of the Armenian Apostolic Church",
         "Male",
         "Armenia",
         "Religious figure",
         "1908",
         "1994.0",
         null,
         "86.0",
         "False"
        ],
        [
         "122923",
         "Q992945",
         "Ruben III, Prince of Armenia",
         "ruler of Cilician Armenia",
         "Male",
         "Armenia",
         "Politician",
         "1145",
         "1187.0",
         null,
         "42.0",
         "False"
        ],
        [
         "124138",
         "Q1009429",
         "George Adomian",
         "mathematician",
         "Male",
         "Armenia",
         "Researcher",
         "1922",
         "1996.0",
         null,
         "74.0",
         "False"
        ],
        [
         "179258",
         "Q1530601",
         "Hovhannes Zardaryan",
         "Armenian painter (1918-1992)",
         "Male",
         "Armenia",
         "Artist",
         "1918",
         "1992.0",
         null,
         "74.0",
         "False"
        ],
        [
         "180929",
         "Q1551529",
         "Grégoire Aslan",
         "Armenian actor",
         "Male",
         "Armenia",
         "Artist",
         "1908",
         "1982.0",
         "natural causes",
         "74.0",
         "False"
        ],
        [
         "221478",
         "Q1880778",
         "M. M. Mangasarian",
         "American atheist writer",
         "Male",
         "Armenia",
         "Artist",
         "1859",
         "1943.0",
         null,
         "84.0",
         "False"
        ],
        [
         "231650",
         "Q2043434",
         "Amar Suloev",
         "Armenian martial artist",
         "Male",
         "Armenia",
         "Artist",
         "1976",
         "2016.0",
         "natural causes",
         "40.0",
         "False"
        ],
        [
         "237104",
         "Q2120169",
         "Arsen Yegiazarian",
         "Armenian chess player",
         "Male",
         "Armenia",
         "Athlete",
         "1970",
         "2020.0",
         null,
         "50.0",
         "False"
        ],
        [
         "249989",
         "Q2392015",
         "Ruben Sevak",
         "Armenian poet",
         "Male",
         "Armenia",
         "Artist",
         "1885",
         "1915.0",
         null,
         "30.0",
         "False"
        ],
        [
         "251972",
         "Q2422946",
         "Thoros I, Prince of Armenia",
         "Ruler of Cilician Armenia",
         "Male",
         "Armenia",
         "Politician",
         "1070",
         "1129.0",
         null,
         "59.0",
         "False"
        ],
        [
         "270448",
         "Q2718907",
         "Rafik Khachatryan",
         "Armenian artist",
         "Male",
         "Armenia",
         "Artist",
         "1937",
         "1993.0",
         null,
         "56.0",
         "False"
        ],
        [
         "271734",
         "Q2752724",
         "Karine Kazinian",
         "Armenian diplomat",
         "Female",
         "Armenia",
         "Politician",
         "1955",
         "2012.0",
         null,
         "57.0",
         "False"
        ],
        [
         "344012",
         "Q3610748",
         "Alexander Atabekian",
         "Armenian author, editor and journalist (1868-1933)",
         "Male",
         "Armenia",
         "Journalist",
         "1868",
         "1933.0",
         null,
         "65.0",
         "False"
        ],
        [
         "369165",
         "Q4055276",
         "Grigor Avagyan",
         "econoom uit Armenië (1928-2005)",
         "Male",
         "Armenia",
         "Politician",
         "1928",
         "2005.0",
         null,
         "77.0",
         "False"
        ],
        [
         "369404",
         "Q4058749",
         "Suren Ayvazyan",
         "Armenian geologist",
         "Male",
         "Armenia",
         "Researcher",
         "1933",
         "2009.0",
         null,
         "76.0",
         "False"
        ],
        [
         "369584",
         "Q4061570",
         "Yelena Alexanyan",
         "Armenian specialist in literature, translator and literary critic (1933-2008)",
         "Female",
         "Armenia",
         "Translator",
         "1933",
         "2008.0",
         null,
         "75.0",
         "False"
        ],
        [
         "369585",
         "Q4061574",
         "Marat Aleksanian",
         "politician",
         "Male",
         "Armenia",
         "Politician",
         "1949",
         "2020.0",
         null,
         "71.0",
         "False"
        ],
        [
         "371214",
         "Q4081273",
         "Daniel Bek-Pirumyan",
         "Armenian military commander",
         "Male",
         "Armenia",
         "Military personnel",
         "1861",
         "1921.0",
         null,
         "60.0",
         "False"
        ],
        [
         "372920",
         "Q4103708",
         "Varduhi Vardanyan",
         "Armenian singer",
         "Female",
         "Armenia",
         "Artist",
         "1976",
         "2006.0",
         null,
         "30.0",
         "False"
        ],
        [
         "373909",
         "Q4118552",
         "Alexander Saroukhan",
         "Egyptian-Armenian cartoonist / caricaturist (1898-1977)",
         "Male",
         "Armenia",
         "Artist",
         "1898",
         "1977.0",
         null,
         "79.0",
         "False"
        ],
        [
         "375365",
         "Q4143060",
         "Гонджеян Григор Карписович",
         "Armenian politician (1959-2009)",
         "Male",
         "Armenia",
         "Politician",
         "1959",
         "2009.0",
         null,
         "50.0",
         "False"
        ],
        [
         "376184",
         "Q4154523",
         "Henrik Danielyan",
         "Armenian lawyer",
         "Male",
         "Armenia",
         "Jurist",
         "1940",
         "2011.0",
         null,
         "71.0",
         "False"
        ],
        [
         "376185",
         "Q4154530",
         "Oganes Danielian",
         "Armenian chess player",
         "Male",
         "Armenia",
         "Athlete",
         "1974",
         "2016.0",
         null,
         "42.0",
         "False"
        ],
        [
         "379087",
         "Q4208040",
         "Regina Ghazaryan",
         "Armenian painter (1915-1999)",
         "Female",
         "Armenia",
         "Artist",
         "1915",
         "1999.0",
         null,
         "84.0",
         "False"
        ],
        [
         "379763",
         "Q4219762",
         "Dmitry Kesayants",
         "Armenian film director",
         "Male",
         "Armenia",
         "Artist",
         "1931",
         "2001.0",
         null,
         "70.0",
         "False"
        ],
        [
         "379818",
         "Q4221142",
         "John Kirakosyan",
         "Soviet historian",
         "Male",
         "Armenia",
         "Researcher",
         "1929",
         "1985.0",
         null,
         "56.0",
         "False"
        ],
        [
         "383600",
         "Q4282221",
         "Marcos Grigorian",
         "Iranian-Armenian artist (1925-2007)",
         "Male",
         "Armenia",
         "Artist",
         "1925",
         "2007.0",
         null,
         "82.0",
         "False"
        ],
        [
         "383781",
         "Q4284688",
         "Davit Matevosyan",
         "Armenian politician",
         "Male",
         "Armenia",
         "Politician",
         "1960",
         "2020.0",
         null,
         "60.0",
         "False"
        ],
        [
         "383782",
         "Q4284690",
         "Hrant Matevosyan",
         "Armenian writer",
         "Male",
         "Armenia",
         "Artist",
         "1935",
         "2002.0",
         null,
         "67.0",
         "False"
        ],
        [
         "384431",
         "Q4298611",
         "Anatoly Mkrtchyan",
         "personnalité politique arménienne",
         "Male",
         "Armenia",
         "Researcher",
         "1931",
         "2011.0",
         null,
         "80.0",
         "False"
        ],
        [
         "384437",
         "Q4298774",
         "Norayr Mnatsakanyan",
         "Meritorious Artist of Armenian Soviet Socialist Republic",
         "Male",
         "Armenia",
         "Artist",
         "1923",
         "1986.0",
         null,
         "63.0",
         "False"
        ],
        [
         "384438",
         "Q4298775",
         "Eduard Mnatsakanian",
         "Armenian chess player (1938-2016)",
         "Male",
         "Armenia",
         "Athlete",
         "1938",
         "2016.0",
         null,
         "78.0",
         "False"
        ],
        [
         "385673",
         "Q4330794",
         "Ruben Hovsepyan",
         "Armenian politician, writer and translator",
         "Male",
         "Armenia",
         "Artist",
         "1939",
         "2016.0",
         null,
         "77.0",
         "False"
        ],
        [
         "389433",
         "Q4404457",
         "Ashot Aristakesovich Sagratyan",
         "Armenian poet (1936-2015)",
         "Male",
         "Armenia",
         "Artist",
         "1936",
         "2015.0",
         null,
         "79.0",
         "False"
        ],
        [
         "391690",
         "Q4455826",
         "Tovmas Terzian",
         "Poet and playwright",
         "Male",
         "Armenia",
         "Artist",
         "1840",
         "1909.0",
         null,
         "69.0",
         "False"
        ],
        [
         "392168",
         "Q4466647",
         "George Tutunjian",
         "Armenian singer",
         "Male",
         "Armenia",
         "Artist",
         "1930",
         "2006.0",
         null,
         "76.0",
         "False"
        ],
        [
         "392329",
         "Q4474844",
         "Bagrat Ulubabyan",
         "Armenian historian",
         "Male",
         "Armenia",
         "Researcher",
         "1925",
         "2001.0",
         null,
         "76.0",
         "False"
        ],
        [
         "392687",
         "Q4483294",
         "Arshak Fetvadjian",
         "Armenian artist (1866-1947)",
         "Male",
         "Armenia",
         "Artist",
         "1866",
         "1947.0",
         null,
         "81.0",
         "False"
        ],
        [
         "393333",
         "Q4496724",
         "Garegin Khachatryan",
         "Armenian artist (1975-1995)",
         "Male",
         "Armenia",
         "Artist",
         "1975",
         "1995.0",
         null,
         "20.0",
         "False"
        ],
        [
         "393335",
         "Q4496744",
         "Gayane Khachaturian",
         "Georgian-Armenian painter and graphic artist (1942-2009)",
         "Female",
         "Armenia",
         "Artist",
         "1942",
         "2009.0",
         null,
         "67.0",
         "False"
        ],
        [
         "393399",
         "Q4497425",
         "Levon Khechoyan",
         "Armenian writer",
         "Male",
         "Armenia",
         "Artist",
         "1955",
         "2014.0",
         null,
         "59.0",
         "False"
        ],
        [
         "395326",
         "Q4534200",
         "Karen Yuzbashyan",
         "Soviet-Armenian historian",
         "Male",
         "Armenia",
         "Researcher",
         "1927",
         "2009.0",
         null,
         "82.0",
         "False"
        ],
        [
         "401404",
         "Q4711509",
         "Albert Yavuryan",
         "Armenian film producer",
         "Male",
         "Armenia",
         "Artist",
         "1935",
         "2007.0",
         null,
         "72.0",
         "False"
        ],
        [
         "410160",
         "Q4783933",
         "Aram Miskaryan",
         "Armenian taekwondo practitioners",
         "Male",
         "Armenia",
         "Athlete",
         "1973",
         "2009.0",
         null,
         "36.0",
         "False"
        ],
        [
         "410162",
         "Q4783950",
         "Aram Ter-Ghevondyan",
         "Soviet historian",
         "Male",
         "Armenia",
         "Researcher",
         "1928",
         "1988.0",
         null,
         "60.0",
         "False"
        ]
       ],
       "shape": {
        "columns": 11,
        "rows": 121
       }
      },
      "text/html": [
       "<div>\n",
       "<style scoped>\n",
       "    .dataframe tbody tr th:only-of-type {\n",
       "        vertical-align: middle;\n",
       "    }\n",
       "\n",
       "    .dataframe tbody tr th {\n",
       "        vertical-align: top;\n",
       "    }\n",
       "\n",
       "    .dataframe thead th {\n",
       "        text-align: right;\n",
       "    }\n",
       "</style>\n",
       "<table border=\"1\" class=\"dataframe\">\n",
       "  <thead>\n",
       "    <tr style=\"text-align: right;\">\n",
       "      <th></th>\n",
       "      <th>Id</th>\n",
       "      <th>Name</th>\n",
       "      <th>Short description</th>\n",
       "      <th>Gender</th>\n",
       "      <th>Country</th>\n",
       "      <th>Occupation</th>\n",
       "      <th>Birth year</th>\n",
       "      <th>Death year</th>\n",
       "      <th>Manner of death</th>\n",
       "      <th>Age of death</th>\n",
       "      <th>Armenian</th>\n",
       "    </tr>\n",
       "  </thead>\n",
       "  <tbody>\n",
       "    <tr>\n",
       "      <th>43970</th>\n",
       "      <td>Q266968</td>\n",
       "      <td>Gurgen Margaryan</td>\n",
       "      <td>Armenian soldier</td>\n",
       "      <td>Male</td>\n",
       "      <td>Armenia</td>\n",
       "      <td>Military personnel</td>\n",
       "      <td>1978</td>\n",
       "      <td>2004.0</td>\n",
       "      <td>homicide</td>\n",
       "      <td>26.0</td>\n",
       "      <td>False</td>\n",
       "    </tr>\n",
       "    <tr>\n",
       "      <th>45653</th>\n",
       "      <td>Q278864</td>\n",
       "      <td>Andranik Ozanian</td>\n",
       "      <td>Armenian politician and military personnel (18...</td>\n",
       "      <td>Male</td>\n",
       "      <td>Armenia</td>\n",
       "      <td>Politician</td>\n",
       "      <td>1865</td>\n",
       "      <td>1927.0</td>\n",
       "      <td>NaN</td>\n",
       "      <td>62.0</td>\n",
       "      <td>False</td>\n",
       "    </tr>\n",
       "    <tr>\n",
       "      <th>54084</th>\n",
       "      <td>Q336104</td>\n",
       "      <td>Jerry Tarkanian</td>\n",
       "      <td>American basketball coach</td>\n",
       "      <td>Male</td>\n",
       "      <td>Armenia</td>\n",
       "      <td>Athlete</td>\n",
       "      <td>1930</td>\n",
       "      <td>2015.0</td>\n",
       "      <td>NaN</td>\n",
       "      <td>85.0</td>\n",
       "      <td>False</td>\n",
       "    </tr>\n",
       "    <tr>\n",
       "      <th>71000</th>\n",
       "      <td>Q471374</td>\n",
       "      <td>Karen Asrian</td>\n",
       "      <td>Armenian chess player</td>\n",
       "      <td>Male</td>\n",
       "      <td>Armenia</td>\n",
       "      <td>Athlete</td>\n",
       "      <td>1980</td>\n",
       "      <td>2008.0</td>\n",
       "      <td>natural causes</td>\n",
       "      <td>28.0</td>\n",
       "      <td>False</td>\n",
       "    </tr>\n",
       "    <tr>\n",
       "      <th>79459</th>\n",
       "      <td>Q544093</td>\n",
       "      <td>Genrikh Kasparyan</td>\n",
       "      <td>Armenian chess player</td>\n",
       "      <td>Male</td>\n",
       "      <td>Armenia</td>\n",
       "      <td>Athlete</td>\n",
       "      <td>1910</td>\n",
       "      <td>1995.0</td>\n",
       "      <td>NaN</td>\n",
       "      <td>85.0</td>\n",
       "      <td>False</td>\n",
       "    </tr>\n",
       "    <tr>\n",
       "      <th>...</th>\n",
       "      <td>...</td>\n",
       "      <td>...</td>\n",
       "      <td>...</td>\n",
       "      <td>...</td>\n",
       "      <td>...</td>\n",
       "      <td>...</td>\n",
       "      <td>...</td>\n",
       "      <td>...</td>\n",
       "      <td>...</td>\n",
       "      <td>...</td>\n",
       "      <td>...</td>\n",
       "    </tr>\n",
       "    <tr>\n",
       "      <th>1003702</th>\n",
       "      <td>Q24048886</td>\n",
       "      <td>Robert Abajyan</td>\n",
       "      <td>Armenian military person, Hero of Artsakh</td>\n",
       "      <td>Male</td>\n",
       "      <td>Armenia</td>\n",
       "      <td>Military personnel</td>\n",
       "      <td>1996</td>\n",
       "      <td>2016.0</td>\n",
       "      <td>suicide</td>\n",
       "      <td>20.0</td>\n",
       "      <td>False</td>\n",
       "    </tr>\n",
       "    <tr>\n",
       "      <th>1025037</th>\n",
       "      <td>Q27349753</td>\n",
       "      <td>Artur Sargsyan</td>\n",
       "      <td>Armenian sculptor</td>\n",
       "      <td>Male</td>\n",
       "      <td>Armenia</td>\n",
       "      <td>Artist</td>\n",
       "      <td>1968</td>\n",
       "      <td>2017.0</td>\n",
       "      <td>NaN</td>\n",
       "      <td>49.0</td>\n",
       "      <td>False</td>\n",
       "    </tr>\n",
       "    <tr>\n",
       "      <th>1034887</th>\n",
       "      <td>Q28114502</td>\n",
       "      <td>Emma Khanzadyan</td>\n",
       "      <td>Armenian historian, archaeologist</td>\n",
       "      <td>Female</td>\n",
       "      <td>Armenia</td>\n",
       "      <td>Researcher</td>\n",
       "      <td>1922</td>\n",
       "      <td>2007.0</td>\n",
       "      <td>NaN</td>\n",
       "      <td>85.0</td>\n",
       "      <td>False</td>\n",
       "    </tr>\n",
       "    <tr>\n",
       "      <th>1046490</th>\n",
       "      <td>Q29033966</td>\n",
       "      <td>Eduard Edigaryan</td>\n",
       "      <td>Armenian painter</td>\n",
       "      <td>Male</td>\n",
       "      <td>Armenia</td>\n",
       "      <td>Artist</td>\n",
       "      <td>1943</td>\n",
       "      <td>2019.0</td>\n",
       "      <td>NaN</td>\n",
       "      <td>76.0</td>\n",
       "      <td>False</td>\n",
       "    </tr>\n",
       "    <tr>\n",
       "      <th>1084025</th>\n",
       "      <td>Q47009214</td>\n",
       "      <td>Pavel Chobanyan</td>\n",
       "      <td>Armenian orientalist</td>\n",
       "      <td>Male</td>\n",
       "      <td>Armenia</td>\n",
       "      <td>Researcher</td>\n",
       "      <td>1948</td>\n",
       "      <td>2017.0</td>\n",
       "      <td>NaN</td>\n",
       "      <td>69.0</td>\n",
       "      <td>False</td>\n",
       "    </tr>\n",
       "  </tbody>\n",
       "</table>\n",
       "<p>121 rows × 11 columns</p>\n",
       "</div>"
      ],
      "text/plain": [
       "                Id               Name  \\\n",
       "43970      Q266968   Gurgen Margaryan   \n",
       "45653      Q278864   Andranik Ozanian   \n",
       "54084      Q336104    Jerry Tarkanian   \n",
       "71000      Q471374       Karen Asrian   \n",
       "79459      Q544093  Genrikh Kasparyan   \n",
       "...            ...                ...   \n",
       "1003702  Q24048886     Robert Abajyan   \n",
       "1025037  Q27349753     Artur Sargsyan   \n",
       "1034887  Q28114502    Emma Khanzadyan   \n",
       "1046490  Q29033966   Eduard Edigaryan   \n",
       "1084025  Q47009214    Pavel Chobanyan   \n",
       "\n",
       "                                         Short description  Gender  Country  \\\n",
       "43970                                     Armenian soldier    Male  Armenia   \n",
       "45653    Armenian politician and military personnel (18...    Male  Armenia   \n",
       "54084                            American basketball coach    Male  Armenia   \n",
       "71000                                Armenian chess player    Male  Armenia   \n",
       "79459                                Armenian chess player    Male  Armenia   \n",
       "...                                                    ...     ...      ...   \n",
       "1003702          Armenian military person, Hero of Artsakh    Male  Armenia   \n",
       "1025037                                  Armenian sculptor    Male  Armenia   \n",
       "1034887                  Armenian historian, archaeologist  Female  Armenia   \n",
       "1046490                                   Armenian painter    Male  Armenia   \n",
       "1084025                               Armenian orientalist    Male  Armenia   \n",
       "\n",
       "                 Occupation  Birth year  Death year Manner of death  \\\n",
       "43970    Military personnel        1978      2004.0        homicide   \n",
       "45653            Politician        1865      1927.0             NaN   \n",
       "54084               Athlete        1930      2015.0             NaN   \n",
       "71000               Athlete        1980      2008.0  natural causes   \n",
       "79459               Athlete        1910      1995.0             NaN   \n",
       "...                     ...         ...         ...             ...   \n",
       "1003702  Military personnel        1996      2016.0         suicide   \n",
       "1025037              Artist        1968      2017.0             NaN   \n",
       "1034887          Researcher        1922      2007.0             NaN   \n",
       "1046490              Artist        1943      2019.0             NaN   \n",
       "1084025          Researcher        1948      2017.0             NaN   \n",
       "\n",
       "         Age of death  Armenian  \n",
       "43970            26.0     False  \n",
       "45653            62.0     False  \n",
       "54084            85.0     False  \n",
       "71000            28.0     False  \n",
       "79459            85.0     False  \n",
       "...               ...       ...  \n",
       "1003702          20.0     False  \n",
       "1025037          49.0     False  \n",
       "1034887          85.0     False  \n",
       "1046490          76.0     False  \n",
       "1084025          69.0     False  \n",
       "\n",
       "[121 rows x 11 columns]"
      ]
     },
     "metadata": {},
     "output_type": "display_data"
    }
   ],
   "source": [
    "df[df[\"Country\"] == \"Armenia\"]"
   ]
  },
  {
   "cell_type": "code",
   "execution_count": null,
   "id": "b710771f",
   "metadata": {},
   "outputs": [],
   "source": [
    "arm = df[df[\"Country\"].fillna(\"na\").str.contains(\"Armenia\")]"
   ]
  },
  {
   "cell_type": "code",
   "execution_count": null,
   "id": "96bf7c6e",
   "metadata": {},
   "outputs": [
    {
     "name": "stderr",
     "output_type": "stream",
     "text": [
      "C:\\Users\\hayk_\\AppData\\Local\\Temp\\ipykernel_24800\\2434009080.py:1: SettingWithCopyWarning: \n",
      "A value is trying to be set on a copy of a slice from a DataFrame.\n",
      "Try using .loc[row_indexer,col_indexer] = value instead\n",
      "\n",
      "See the caveats in the documentation: https://pandas.pydata.org/pandas-docs/stable/user_guide/indexing.html#returning-a-view-versus-a-copy\n",
      "  arm[\"num_countries\"] = arm[\"Country\"].str.split(\";\").apply(len)\n"
     ]
    },
    {
     "data": {
      "application/vnd.microsoft.datawrangler.viewer.v0+json": {
       "columns": [
        {
         "name": "index",
         "rawType": "int64",
         "type": "integer"
        },
        {
         "name": "Id",
         "rawType": "object",
         "type": "string"
        },
        {
         "name": "Name",
         "rawType": "object",
         "type": "string"
        },
        {
         "name": "Short description",
         "rawType": "object",
         "type": "string"
        },
        {
         "name": "Gender",
         "rawType": "object",
         "type": "string"
        },
        {
         "name": "Country",
         "rawType": "object",
         "type": "string"
        },
        {
         "name": "Occupation",
         "rawType": "object",
         "type": "string"
        },
        {
         "name": "Birth year",
         "rawType": "int64",
         "type": "integer"
        },
        {
         "name": "Death year",
         "rawType": "float64",
         "type": "float"
        },
        {
         "name": "Manner of death",
         "rawType": "object",
         "type": "unknown"
        },
        {
         "name": "Age of death",
         "rawType": "float64",
         "type": "float"
        },
        {
         "name": "Armenian",
         "rawType": "bool",
         "type": "boolean"
        },
        {
         "name": "num_countries",
         "rawType": "int64",
         "type": "integer"
        }
       ],
       "ref": "3c0ebeae-0da7-48cd-b2ad-10215641b9d7",
       "rows": [
        [
         "180",
         "Q1785",
         "Charles Aznavour",
         "Armenian-French singer and diplomat",
         "Male",
         "France; Armenia",
         "Artist",
         "1924",
         "2018.0",
         null,
         "94.0",
         "True",
         "2"
        ],
        [
         "354",
         "Q4924",
         "Isabella I, Queen of Armenia",
         "queen regnant of Cilician Armenia",
         "Female",
         "Armenian Kingdom of Cilicia",
         "Politician",
         "1216",
         "1252.0",
         null,
         "36.0",
         "True",
         "1"
        ],
        [
         "3201",
         "Q48112",
         "Ivan Bagramyan",
         "Marshal of the Soviet Union (1897-1982)",
         "Male",
         "Soviet Union; Russian Empire; First Republic of Armenia",
         "Politician",
         "1897",
         "1982.0",
         null,
         "85.0",
         "False",
         "3"
        ],
        [
         "4983",
         "Q61130",
         "Luigi Colani",
         "German industrial designer and design professor",
         "Male",
         "Germany; Armenia",
         "Teacher",
         "1928",
         "2019.0",
         null,
         "91.0",
         "False",
         "2"
        ],
        [
         "5560",
         "Q62316",
         "Robert Sahakyants",
         "animator",
         "Male",
         "Armenia; Soviet Union",
         "Artist",
         "1950",
         "2009.0",
         null,
         "59.0",
         "False",
         "2"
        ],
        [
         "10702",
         "Q75470",
         "Flora Martirosian",
         "Armenian folk singer",
         "Female",
         "United States of America; Armenia; Soviet Union",
         "Artist",
         "1957",
         "2012.0",
         null,
         "55.0",
         "True",
         "3"
        ],
        [
         "30264",
         "Q122301",
         "Dmitry Mirimanoff",
         "Russian-Swiss mathematician",
         "Male",
         "Switzerland; Armenia",
         "Researcher",
         "1861",
         "1945.0",
         null,
         "84.0",
         "False",
         "2"
        ],
        [
         "34290",
         "Q164396",
         "Victor Ambartsumian",
         "Soviet Armenian astrophysicist",
         "Male",
         "Armenia; Soviet Union; Russian Empire",
         "Researcher",
         "1908",
         "1996.0",
         null,
         "88.0",
         "True",
         "3"
        ],
        [
         "39453",
         "Q215782",
         "Andranik Margaryan",
         "Armenian Prime Minister (1951-2007)",
         "Male",
         "Armenia; Soviet Union",
         "Politician",
         "1951",
         "2007.0",
         "natural causes",
         "56.0",
         "True",
         "2"
        ],
        [
         "42742",
         "Q254988",
         "Avetik Isahakyan",
         "Soviet poet (1875-1957)",
         "Male",
         "Russian Empire; Armenian Soviet Socialist Republic",
         "Artist",
         "1875",
         "1957.0",
         null,
         "82.0",
         "False",
         "2"
        ],
        [
         "43970",
         "Q266968",
         "Gurgen Margaryan",
         "Armenian soldier",
         "Male",
         "Armenia",
         "Military personnel",
         "1978",
         "2004.0",
         "homicide",
         "26.0",
         "True",
         "1"
        ],
        [
         "45653",
         "Q278864",
         "Andranik Ozanian",
         "Armenian politician and military personnel (1865-1927)",
         "Male",
         "Armenia",
         "Politician",
         "1865",
         "1927.0",
         null,
         "62.0",
         "True",
         "1"
        ],
        [
         "45718",
         "Q279396",
         "Vazgen Sargsyan",
         "military commander, politician (1959-1999)",
         "Male",
         "Armenia; Soviet Union",
         "Politician",
         "1959",
         "1999.0",
         "homicide",
         "40.0",
         "False",
         "2"
        ],
        [
         "54084",
         "Q336104",
         "Jerry Tarkanian",
         "American basketball coach",
         "Male",
         "Armenia",
         "Athlete",
         "1930",
         "2015.0",
         null,
         "85.0",
         "False",
         "1"
        ],
        [
         "54097",
         "Q336176",
         "Luther George Simjian",
         "American-Armenian inventor",
         "Male",
         "United States of America; Armenia",
         "Inventor",
         "1905",
         "1997.0",
         null,
         "92.0",
         "True",
         "2"
        ],
        [
         "54723",
         "Q339679",
         "Vahram Pahlavouni",
         "Armenian army commander",
         "Male",
         "Bagratid Armenia",
         "Military personnel",
         "965",
         "1045.0",
         null,
         "80.0",
         "True",
         "1"
        ],
        [
         "58452",
         "Q364109",
         "Boris Parsadanian",
         "American-Estonian composer",
         "Male",
         "Estonia; Armenia",
         "Artist",
         "1925",
         "1997.0",
         null,
         "72.0",
         "False",
         "2"
        ],
        [
         "59007",
         "Q365695",
         "Moses of Chorene",
         "Armenian historian",
         "Male",
         "Kingdom of Armenia",
         "Researcher",
         "410",
         "490.0",
         null,
         "80.0",
         "True",
         "1"
        ],
        [
         "61344",
         "Q380807",
         "Michel Ter-Pogossian",
         "American physicist",
         "Male",
         "United States of America; Armenia",
         "Researcher",
         "1925",
         "1996.0",
         null,
         "71.0",
         "False",
         "2"
        ],
        [
         "62706",
         "Q402812",
         "Mikhail Vartanov",
         "Soviet film director",
         "Male",
         "United States of America; Russia; Armenia; Soviet Union",
         "Artist",
         "1937",
         "2009.0",
         null,
         "72.0",
         "False",
         "4"
        ],
        [
         "64578",
         "Q437021",
         "Paris Pişmiş",
         "Turkish-Mexican astronomer",
         "Female",
         "Turkey; Mexico; Armenia",
         "Astronomer",
         "1911",
         "1999.0",
         null,
         "88.0",
         "False",
         "3"
        ],
        [
         "69411",
         "Q463194",
         "Alexander Arutiunian",
         "Armenian composer, pianist",
         "Male",
         "Armenia; Soviet Union",
         "Artist",
         "1920",
         "2012.0",
         null,
         "92.0",
         "True",
         "2"
        ],
        [
         "70997",
         "Q471353",
         "Vahan Hovhannisyan",
         "Vice-President of the National Assembly of Armenia (1956-2014)",
         "Male",
         "Armenia; Soviet Union",
         "Politician",
         "1956",
         "2014.0",
         null,
         "58.0",
         "True",
         "2"
        ],
        [
         "71000",
         "Q471374",
         "Karen Asrian",
         "Armenian chess player",
         "Male",
         "Armenia",
         "Athlete",
         "1980",
         "2008.0",
         "natural causes",
         "28.0",
         "True",
         "1"
        ],
        [
         "71047",
         "Q471740",
         "Armen Dzhigarkhanyan",
         "Armenian, Soviet, Russian actor",
         "Male",
         "United States of America; Russia; Armenia; Soviet Union",
         "Artist",
         "1935",
         "2020.0",
         null,
         "85.0",
         "True",
         "4"
        ],
        [
         "74903",
         "Q511888",
         "Leonard Petrosyan",
         "Armenian politician (1953-1999)",
         "Male",
         "Armenia; Soviet Union; Artsakh",
         "Politician",
         "1953",
         "1999.0",
         "homicide",
         "46.0",
         "True",
         "3"
        ],
        [
         "79014",
         "Q541175",
         "Lusine Zakaryan",
         "Armenian soprano",
         "Female",
         "Armenia; Soviet Union",
         "Artist",
         "1937",
         "1992.0",
         null,
         "55.0",
         "True",
         "2"
        ],
        [
         "79459",
         "Q544093",
         "Genrikh Kasparyan",
         "Armenian chess player",
         "Male",
         "Armenia",
         "Athlete",
         "1910",
         "1995.0",
         null,
         "85.0",
         "True",
         "1"
        ],
        [
         "79724",
         "Q545875",
         "Monte Melkonian",
         "National Hero of Armenia",
         "Male",
         "United States of America; Armenia",
         "Researcher",
         "1957",
         "1993.0",
         null,
         "36.0",
         "True",
         "2"
        ],
        [
         "98069",
         "Q718409",
         "Martiros Saryan",
         "Armenian painter",
         "Male",
         "Armenia; Soviet Union",
         "Artist",
         "1880",
         "1972.0",
         null,
         "92.0",
         "True",
         "2"
        ],
        [
         "98099",
         "Q718622",
         "Frunzik Mkrtchyan",
         "Soviet actor and theatre director",
         "Male",
         "Armenia; Soviet Union",
         "Artist",
         "1930",
         "1993.0",
         "natural causes",
         "63.0",
         "False",
         "2"
        ],
        [
         "98833",
         "Q722868",
         "Ashot Anastasian",
         "Armenian chess Grandmaster",
         "Male",
         "Armenia; Soviet Union",
         "Athlete",
         "1964",
         "2016.0",
         null,
         "52.0",
         "True",
         "2"
        ],
        [
         "100089",
         "Q730405",
         "Vladimir Yengibaryan",
         "Armenian boxer",
         "Male",
         "United States of America; Armenia; Soviet Union",
         "Athlete",
         "1932",
         "2013.0",
         null,
         "81.0",
         "True",
         "3"
        ],
        [
         "100991",
         "Q738092",
         "Pavel Lisitsian",
         "Russian singer",
         "Male",
         "Russia; Armenia; Soviet Union; Russian Empire",
         "Artist",
         "1911",
         "2004.0",
         null,
         "93.0",
         "False",
         "4"
        ],
        [
         "101033",
         "Q738598",
         "Hovhannes Katchaznouni",
         "Armenian politician (1867-1938)",
         "Male",
         "Russian Empire; First Republic of Armenia",
         "Politician",
         "1867",
         "1938.0",
         "homicide",
         "71.0",
         "True",
         "2"
        ],
        [
         "101118",
         "Q739349",
         "Vazgen I",
         "Catholicos of the Armenian Apostolic Church",
         "Male",
         "Armenia",
         "Religious figure",
         "1908",
         "1994.0",
         null,
         "86.0",
         "True",
         "1"
        ],
        [
         "105475",
         "Q790332",
         "Arthur Derounian",
         "Armenian journalist",
         "Male",
         "United States of America; Armenia",
         "Journalist",
         "1909",
         "1991.0",
         "natural causes",
         "82.0",
         "True",
         "2"
        ],
        [
         "105476",
         "Q790333",
         "Avetis Aharonyan",
         "politician and writer (1866-1948)",
         "Male",
         "Russian Empire; First Republic of Armenia",
         "Artist",
         "1866",
         "1948.0",
         null,
         "82.0",
         "False",
         "2"
        ],
        [
         "112439",
         "Q888113",
         "Raymond-Roupen",
         "Prince of Antioch, junior king of Armenia",
         "Male",
         "Principality of Antioch; Armenian Kingdom of Cilicia",
         "Politician",
         "1199",
         "1222.0",
         null,
         "23.0",
         "True",
         "2"
        ],
        [
         "112981",
         "Q893301",
         "Hrant Shahinyan",
         "gymnast",
         "Male",
         "Armenia; Soviet Union",
         "Artist",
         "1923",
         "1996.0",
         null,
         "73.0",
         "False",
         "2"
        ],
        [
         "116252",
         "Q936192",
         "Movses Silikyan",
         "Armenian general",
         "Male",
         "Soviet Union; Russian Empire; First Republic of Armenia",
         "Military personnel",
         "1862",
         "1937.0",
         "unnatural death",
         "75.0",
         "True",
         "3"
        ],
        [
         "119892",
         "Q967310",
         "George Garanian",
         "Russian musician",
         "Male",
         "Russia; Armenia; Soviet Union",
         "Artist",
         "1934",
         "2010.0",
         null,
         "76.0",
         "False",
         "3"
        ],
        [
         "122923",
         "Q992945",
         "Ruben III, Prince of Armenia",
         "ruler of Cilician Armenia",
         "Male",
         "Armenia",
         "Politician",
         "1145",
         "1187.0",
         null,
         "42.0",
         "True",
         "1"
        ],
        [
         "124138",
         "Q1009429",
         "George Adomian",
         "mathematician",
         "Male",
         "Armenia",
         "Researcher",
         "1922",
         "1996.0",
         null,
         "74.0",
         "False",
         "1"
        ],
        [
         "144371",
         "Q1283947",
         "Edgar Hovhannisyan",
         "Armenian composer",
         "Male",
         "Armenia; Soviet Union",
         "Artist",
         "1930",
         "1998.0",
         null,
         "68.0",
         "True",
         "2"
        ],
        [
         "145661",
         "Q1289335",
         "Edvard Mirzoyan",
         "Armenian composer of Georgian birth (1921-2012)",
         "Male",
         "Armenia; Soviet Union",
         "Artist",
         "1921",
         "2012.0",
         null,
         "91.0",
         "True",
         "2"
        ],
        [
         "148459",
         "Q1311632",
         "Richard Donchian",
         "American businessman",
         "Male",
         "United States of America; Armenia",
         "Businessperson",
         "1905",
         "1993.0",
         null,
         "88.0",
         "False",
         "2"
        ],
        [
         "151571",
         "Q1337656",
         "Ėmin Chačaturjan",
         "Soviet conductor, composer and music educator (1930-2000)",
         "Male",
         "Armenia; Soviet Union",
         "Artist",
         "1930",
         "2000.0",
         null,
         "70.0",
         "False",
         "2"
        ],
        [
         "158533",
         "Q1379227",
         "Grigory Mkrtychan",
         "ice hockey player",
         "Male",
         "Russia; Armenia",
         "Athlete",
         "1925",
         "2003.0",
         null,
         "78.0",
         "False",
         "2"
        ],
        [
         "158958",
         "Q1382482",
         "Karen Khachaturian",
         "Russian composer",
         "Male",
         "Russia; Armenia; Soviet Union",
         "Artist",
         "1920",
         "2011.0",
         null,
         "91.0",
         "False",
         "3"
        ]
       ],
       "shape": {
        "columns": 12,
        "rows": 301
       }
      },
      "text/html": [
       "<div>\n",
       "<style scoped>\n",
       "    .dataframe tbody tr th:only-of-type {\n",
       "        vertical-align: middle;\n",
       "    }\n",
       "\n",
       "    .dataframe tbody tr th {\n",
       "        vertical-align: top;\n",
       "    }\n",
       "\n",
       "    .dataframe thead th {\n",
       "        text-align: right;\n",
       "    }\n",
       "</style>\n",
       "<table border=\"1\" class=\"dataframe\">\n",
       "  <thead>\n",
       "    <tr style=\"text-align: right;\">\n",
       "      <th></th>\n",
       "      <th>Id</th>\n",
       "      <th>Name</th>\n",
       "      <th>Short description</th>\n",
       "      <th>Gender</th>\n",
       "      <th>Country</th>\n",
       "      <th>Occupation</th>\n",
       "      <th>Birth year</th>\n",
       "      <th>Death year</th>\n",
       "      <th>Manner of death</th>\n",
       "      <th>Age of death</th>\n",
       "      <th>Armenian</th>\n",
       "      <th>num_countries</th>\n",
       "    </tr>\n",
       "  </thead>\n",
       "  <tbody>\n",
       "    <tr>\n",
       "      <th>180</th>\n",
       "      <td>Q1785</td>\n",
       "      <td>Charles Aznavour</td>\n",
       "      <td>Armenian-French singer and diplomat</td>\n",
       "      <td>Male</td>\n",
       "      <td>France; Armenia</td>\n",
       "      <td>Artist</td>\n",
       "      <td>1924</td>\n",
       "      <td>2018.0</td>\n",
       "      <td>NaN</td>\n",
       "      <td>94.0</td>\n",
       "      <td>True</td>\n",
       "      <td>2</td>\n",
       "    </tr>\n",
       "    <tr>\n",
       "      <th>354</th>\n",
       "      <td>Q4924</td>\n",
       "      <td>Isabella I, Queen of Armenia</td>\n",
       "      <td>queen regnant of Cilician Armenia</td>\n",
       "      <td>Female</td>\n",
       "      <td>Armenian Kingdom of Cilicia</td>\n",
       "      <td>Politician</td>\n",
       "      <td>1216</td>\n",
       "      <td>1252.0</td>\n",
       "      <td>NaN</td>\n",
       "      <td>36.0</td>\n",
       "      <td>True</td>\n",
       "      <td>1</td>\n",
       "    </tr>\n",
       "    <tr>\n",
       "      <th>3201</th>\n",
       "      <td>Q48112</td>\n",
       "      <td>Ivan Bagramyan</td>\n",
       "      <td>Marshal of the Soviet Union (1897-1982)</td>\n",
       "      <td>Male</td>\n",
       "      <td>Soviet Union; Russian Empire; First Republic o...</td>\n",
       "      <td>Politician</td>\n",
       "      <td>1897</td>\n",
       "      <td>1982.0</td>\n",
       "      <td>NaN</td>\n",
       "      <td>85.0</td>\n",
       "      <td>False</td>\n",
       "      <td>3</td>\n",
       "    </tr>\n",
       "    <tr>\n",
       "      <th>4983</th>\n",
       "      <td>Q61130</td>\n",
       "      <td>Luigi Colani</td>\n",
       "      <td>German industrial designer and design professor</td>\n",
       "      <td>Male</td>\n",
       "      <td>Germany; Armenia</td>\n",
       "      <td>Teacher</td>\n",
       "      <td>1928</td>\n",
       "      <td>2019.0</td>\n",
       "      <td>NaN</td>\n",
       "      <td>91.0</td>\n",
       "      <td>False</td>\n",
       "      <td>2</td>\n",
       "    </tr>\n",
       "    <tr>\n",
       "      <th>5560</th>\n",
       "      <td>Q62316</td>\n",
       "      <td>Robert Sahakyants</td>\n",
       "      <td>animator</td>\n",
       "      <td>Male</td>\n",
       "      <td>Armenia; Soviet Union</td>\n",
       "      <td>Artist</td>\n",
       "      <td>1950</td>\n",
       "      <td>2009.0</td>\n",
       "      <td>NaN</td>\n",
       "      <td>59.0</td>\n",
       "      <td>False</td>\n",
       "      <td>2</td>\n",
       "    </tr>\n",
       "    <tr>\n",
       "      <th>...</th>\n",
       "      <td>...</td>\n",
       "      <td>...</td>\n",
       "      <td>...</td>\n",
       "      <td>...</td>\n",
       "      <td>...</td>\n",
       "      <td>...</td>\n",
       "      <td>...</td>\n",
       "      <td>...</td>\n",
       "      <td>...</td>\n",
       "      <td>...</td>\n",
       "      <td>...</td>\n",
       "      <td>...</td>\n",
       "    </tr>\n",
       "    <tr>\n",
       "      <th>1086289</th>\n",
       "      <td>Q47457007</td>\n",
       "      <td>Garnik Karapetyan</td>\n",
       "      <td>Armenian scientist and mathematician (1958–2018)</td>\n",
       "      <td>Male</td>\n",
       "      <td>Armenia; Soviet Union</td>\n",
       "      <td>Researcher</td>\n",
       "      <td>1958</td>\n",
       "      <td>2018.0</td>\n",
       "      <td>NaN</td>\n",
       "      <td>60.0</td>\n",
       "      <td>True</td>\n",
       "      <td>2</td>\n",
       "    </tr>\n",
       "    <tr>\n",
       "      <th>1161788</th>\n",
       "      <td>Q59394760</td>\n",
       "      <td>Robert Kamoyan</td>\n",
       "      <td>Armenian director, artist</td>\n",
       "      <td>Male</td>\n",
       "      <td>Armenia; Soviet Union</td>\n",
       "      <td>Artist</td>\n",
       "      <td>1937</td>\n",
       "      <td>2014.0</td>\n",
       "      <td>NaN</td>\n",
       "      <td>77.0</td>\n",
       "      <td>True</td>\n",
       "      <td>2</td>\n",
       "    </tr>\n",
       "    <tr>\n",
       "      <th>1182207</th>\n",
       "      <td>Q62024298</td>\n",
       "      <td>Diana Oucleba</td>\n",
       "      <td>Georgian poetess, artist</td>\n",
       "      <td>Female</td>\n",
       "      <td>Armenia; Soviet Union; Russian Empire</td>\n",
       "      <td>Artist</td>\n",
       "      <td>1910</td>\n",
       "      <td>2001.0</td>\n",
       "      <td>NaN</td>\n",
       "      <td>91.0</td>\n",
       "      <td>False</td>\n",
       "      <td>3</td>\n",
       "    </tr>\n",
       "    <tr>\n",
       "      <th>1191627</th>\n",
       "      <td>Q63226473</td>\n",
       "      <td>Boris Meliksetyan</td>\n",
       "      <td>Armenian geologist</td>\n",
       "      <td>Male</td>\n",
       "      <td>Armenia; Soviet Union</td>\n",
       "      <td>Researcher</td>\n",
       "      <td>1928</td>\n",
       "      <td>1992.0</td>\n",
       "      <td>NaN</td>\n",
       "      <td>64.0</td>\n",
       "      <td>True</td>\n",
       "      <td>2</td>\n",
       "    </tr>\n",
       "    <tr>\n",
       "      <th>1206411</th>\n",
       "      <td>Q66132386</td>\n",
       "      <td>Albert Ghazaryan</td>\n",
       "      <td>athlete, coach, referee</td>\n",
       "      <td>Male</td>\n",
       "      <td>Armenia; Soviet Union</td>\n",
       "      <td>Athlete</td>\n",
       "      <td>1935</td>\n",
       "      <td>2020.0</td>\n",
       "      <td>NaN</td>\n",
       "      <td>85.0</td>\n",
       "      <td>False</td>\n",
       "      <td>2</td>\n",
       "    </tr>\n",
       "  </tbody>\n",
       "</table>\n",
       "<p>301 rows × 12 columns</p>\n",
       "</div>"
      ],
      "text/plain": [
       "                Id                          Name  \\\n",
       "180          Q1785              Charles Aznavour   \n",
       "354          Q4924  Isabella I, Queen of Armenia   \n",
       "3201        Q48112                Ivan Bagramyan   \n",
       "4983        Q61130                  Luigi Colani   \n",
       "5560        Q62316             Robert Sahakyants   \n",
       "...            ...                           ...   \n",
       "1086289  Q47457007             Garnik Karapetyan   \n",
       "1161788  Q59394760                Robert Kamoyan   \n",
       "1182207  Q62024298                 Diana Oucleba   \n",
       "1191627  Q63226473             Boris Meliksetyan   \n",
       "1206411  Q66132386              Albert Ghazaryan   \n",
       "\n",
       "                                        Short description  Gender  \\\n",
       "180                   Armenian-French singer and diplomat    Male   \n",
       "354                     queen regnant of Cilician Armenia  Female   \n",
       "3201              Marshal of the Soviet Union (1897-1982)    Male   \n",
       "4983      German industrial designer and design professor    Male   \n",
       "5560                                             animator    Male   \n",
       "...                                                   ...     ...   \n",
       "1086289  Armenian scientist and mathematician (1958–2018)    Male   \n",
       "1161788                         Armenian director, artist    Male   \n",
       "1182207                          Georgian poetess, artist  Female   \n",
       "1191627                                Armenian geologist    Male   \n",
       "1206411                           athlete, coach, referee    Male   \n",
       "\n",
       "                                                   Country  Occupation  \\\n",
       "180                                        France; Armenia      Artist   \n",
       "354                            Armenian Kingdom of Cilicia  Politician   \n",
       "3201     Soviet Union; Russian Empire; First Republic o...  Politician   \n",
       "4983                                      Germany; Armenia     Teacher   \n",
       "5560                                 Armenia; Soviet Union      Artist   \n",
       "...                                                    ...         ...   \n",
       "1086289                              Armenia; Soviet Union  Researcher   \n",
       "1161788                              Armenia; Soviet Union      Artist   \n",
       "1182207              Armenia; Soviet Union; Russian Empire      Artist   \n",
       "1191627                              Armenia; Soviet Union  Researcher   \n",
       "1206411                              Armenia; Soviet Union     Athlete   \n",
       "\n",
       "         Birth year  Death year Manner of death  Age of death  Armenian  \\\n",
       "180            1924      2018.0             NaN          94.0      True   \n",
       "354            1216      1252.0             NaN          36.0      True   \n",
       "3201           1897      1982.0             NaN          85.0     False   \n",
       "4983           1928      2019.0             NaN          91.0     False   \n",
       "5560           1950      2009.0             NaN          59.0     False   \n",
       "...             ...         ...             ...           ...       ...   \n",
       "1086289        1958      2018.0             NaN          60.0      True   \n",
       "1161788        1937      2014.0             NaN          77.0      True   \n",
       "1182207        1910      2001.0             NaN          91.0     False   \n",
       "1191627        1928      1992.0             NaN          64.0      True   \n",
       "1206411        1935      2020.0             NaN          85.0     False   \n",
       "\n",
       "         num_countries  \n",
       "180                  2  \n",
       "354                  1  \n",
       "3201                 3  \n",
       "4983                 2  \n",
       "5560                 2  \n",
       "...                ...  \n",
       "1086289              2  \n",
       "1161788              2  \n",
       "1182207              3  \n",
       "1191627              2  \n",
       "1206411              2  \n",
       "\n",
       "[301 rows x 12 columns]"
      ]
     },
     "metadata": {},
     "output_type": "display_data"
    }
   ],
   "source": [
    "arm[\"num_countries\"] = arm[\"Country\"].str.split(\";\").apply(len)\n",
    "arm"
   ]
  },
  {
   "cell_type": "code",
   "execution_count": null,
   "id": "6d362425",
   "metadata": {},
   "outputs": [
    {
     "data": {
      "application/vnd.microsoft.datawrangler.viewer.v0+json": {
       "columns": [
        {
         "name": "index",
         "rawType": "int64",
         "type": "integer"
        },
        {
         "name": "Id",
         "rawType": "object",
         "type": "string"
        },
        {
         "name": "Name",
         "rawType": "object",
         "type": "string"
        },
        {
         "name": "Short description",
         "rawType": "object",
         "type": "string"
        },
        {
         "name": "Gender",
         "rawType": "object",
         "type": "string"
        },
        {
         "name": "Country",
         "rawType": "object",
         "type": "string"
        },
        {
         "name": "Occupation",
         "rawType": "object",
         "type": "string"
        },
        {
         "name": "Birth year",
         "rawType": "int64",
         "type": "integer"
        },
        {
         "name": "Death year",
         "rawType": "float64",
         "type": "float"
        },
        {
         "name": "Manner of death",
         "rawType": "object",
         "type": "unknown"
        },
        {
         "name": "Age of death",
         "rawType": "float64",
         "type": "float"
        },
        {
         "name": "Armenian",
         "rawType": "bool",
         "type": "boolean"
        },
        {
         "name": "num_countries",
         "rawType": "int64",
         "type": "integer"
        }
       ],
       "ref": "ee6af497-7bb6-4290-85a2-e0c7bcd6dc95",
       "rows": [
        [
         "231807",
         "Q2047004",
         "Suren Yeremyan",
         "Armenian historian",
         "Male",
         "Armenia; Soviet Union; Russian Empire; Russian Republic; Democratic Republic of Georgia; Transcaucasian Democratic Federative Republic; Transcaucasian Socialist Federative Soviet Republic; Transcaucasian Commissariat; nan",
         "Researcher",
         "1908",
         "1992.0",
         null,
         "84.0",
         "True",
         "9"
        ],
        [
         "71047",
         "Q471740",
         "Armen Dzhigarkhanyan",
         "Armenian, Soviet, Russian actor",
         "Male",
         "United States of America; Russia; Armenia; Soviet Union",
         "Artist",
         "1935",
         "2020.0",
         null,
         "85.0",
         "True",
         "4"
        ],
        [
         "100991",
         "Q738092",
         "Pavel Lisitsian",
         "Russian singer",
         "Male",
         "Russia; Armenia; Soviet Union; Russian Empire",
         "Artist",
         "1911",
         "2004.0",
         null,
         "93.0",
         "False",
         "4"
        ],
        [
         "370403",
         "Q4071165",
         "Tinatin Asatiani",
         "Georgian physicist",
         "Female",
         "Armenia; Soviet Union; Democratic Republic of Georgia; Transcaucasian Democratic Federative Republic",
         "Researcher",
         "1918",
         "2011.0",
         null,
         "93.0",
         "False",
         "4"
        ],
        [
         "370366",
         "Q4070512",
         "Varazdat Harutyunyan",
         "Armenian architect",
         "Male",
         "Armenia; Ottoman Empire; Soviet Union; Russian Empire",
         "Researcher",
         "1909",
         "2008.0",
         null,
         "99.0",
         "True",
         "4"
        ],
        [
         "62706",
         "Q402812",
         "Mikhail Vartanov",
         "Soviet film director",
         "Male",
         "United States of America; Russia; Armenia; Soviet Union",
         "Artist",
         "1937",
         "2009.0",
         null,
         "72.0",
         "False",
         "4"
        ],
        [
         "235466",
         "Q2082837",
         "Alexander Khatisian",
         "Armenian politician",
         "Male",
         "France; Russian Empire; First Republic of Armenia",
         "Researcher",
         "1874",
         "1945.0",
         null,
         "71.0",
         "True",
         "3"
        ],
        [
         "226829",
         "Q1971489",
         "Gohar Gasparyan",
         "Armenian opera singer (1924-2007)",
         "Female",
         "Egypt; Armenia; Soviet Union",
         "Artist",
         "1924",
         "2007.0",
         null,
         "83.0",
         "True",
         "3"
        ],
        [
         "251294",
         "Q2417449",
         "Silva Kaputikyan",
         "Armenian poet, writer and political activist",
         "Female",
         "Armenia; Soviet Union; First Republic of Armenia",
         "Artist",
         "1919",
         "2006.0",
         "natural causes",
         "87.0",
         "True",
         "3"
        ],
        [
         "34290",
         "Q164396",
         "Victor Ambartsumian",
         "Soviet Armenian astrophysicist",
         "Male",
         "Armenia; Soviet Union; Russian Empire",
         "Researcher",
         "1908",
         "1996.0",
         null,
         "88.0",
         "True",
         "3"
        ],
        [
         "932346",
         "Q20509590",
         "Bogdan Janyan",
         "Armenian poet",
         "Male",
         "Armenia; Soviet Union; Russian Empire",
         "Artist",
         "1917",
         "2010.0",
         null,
         "93.0",
         "True",
         "3"
        ],
        [
         "10702",
         "Q75470",
         "Flora Martirosian",
         "Armenian folk singer",
         "Female",
         "United States of America; Armenia; Soviet Union",
         "Artist",
         "1957",
         "2012.0",
         null,
         "55.0",
         "True",
         "3"
        ],
        [
         "3201",
         "Q48112",
         "Ivan Bagramyan",
         "Marshal of the Soviet Union (1897-1982)",
         "Male",
         "Soviet Union; Russian Empire; First Republic of Armenia",
         "Politician",
         "1897",
         "1982.0",
         null,
         "85.0",
         "False",
         "3"
        ],
        [
         "284037",
         "Q2947568",
         "Gabriel Guevrekian",
         "Turkish architect",
         "Male",
         "United States of America; Austria; Armenia",
         "Teacher",
         "1900",
         "1970.0",
         null,
         "70.0",
         "False",
         "3"
        ],
        [
         "751440",
         "Q13218082",
         "Albert S. Mkrtchyan",
         "Armenian film director",
         "Male",
         "Russia; Armenia; Soviet Union",
         "Artist",
         "1926",
         "2007.0",
         null,
         "81.0",
         "True",
         "3"
        ],
        [
         "376863",
         "Q4165121",
         "Zara Dolukhanova",
         "singer",
         "Female",
         "Russia; Armenia; Soviet Union",
         "Artist",
         "1918",
         "2007.0",
         null,
         "89.0",
         "False",
         "3"
        ],
        [
         "749602",
         "Q13052153",
         "Aram Safrastyan",
         "translator",
         "Male",
         "Ottoman Empire; Soviet Union; First Republic of Armenia",
         "Researcher",
         "1888",
         "1966.0",
         null,
         "78.0",
         "False",
         "3"
        ],
        [
         "614706",
         "Q7423945",
         "Sargis Barkhudaryan",
         "Armenian musician",
         "Male",
         "Armenia; Soviet Union; Russian Empire",
         "Artist",
         "1887",
         "1973.0",
         null,
         "86.0",
         "True",
         "3"
        ],
        [
         "395131",
         "Q4530084",
         "Anatoly Eiramdzhan",
         "Armenian film director",
         "Male",
         "Russia; Armenia; Soviet Union",
         "Artist",
         "1937",
         "2014.0",
         null,
         "77.0",
         "True",
         "3"
        ],
        [
         "391961",
         "Q4460918",
         "Mustafa Topchubashov",
         "Azerbaijani physician",
         "Male",
         "Armenia; Soviet Union; Russian Empire",
         "Physician",
         "1895",
         "1981.0",
         null,
         "86.0",
         "False",
         "3"
        ],
        [
         "474386",
         "Q5528706",
         "Gayane C'ebotaryan",
         "Armenian composer",
         "Female",
         "Russia; Armenia; Soviet Union",
         "Artist",
         "1918",
         "1998.0",
         null,
         "80.0",
         "True",
         "3"
        ],
        [
         "74903",
         "Q511888",
         "Leonard Petrosyan",
         "Armenian politician (1953-1999)",
         "Male",
         "Armenia; Soviet Union; Artsakh",
         "Politician",
         "1953",
         "1999.0",
         "homicide",
         "46.0",
         "True",
         "3"
        ],
        [
         "100089",
         "Q730405",
         "Vladimir Yengibaryan",
         "Armenian boxer",
         "Male",
         "United States of America; Armenia; Soviet Union",
         "Athlete",
         "1932",
         "2013.0",
         null,
         "81.0",
         "True",
         "3"
        ],
        [
         "119892",
         "Q967310",
         "George Garanian",
         "Russian musician",
         "Male",
         "Russia; Armenia; Soviet Union",
         "Artist",
         "1934",
         "2010.0",
         null,
         "76.0",
         "False",
         "3"
        ],
        [
         "64578",
         "Q437021",
         "Paris Pişmiş",
         "Turkish-Mexican astronomer",
         "Female",
         "Turkey; Mexico; Armenia",
         "Astronomer",
         "1911",
         "1999.0",
         null,
         "88.0",
         "False",
         "3"
        ],
        [
         "116252",
         "Q936192",
         "Movses Silikyan",
         "Armenian general",
         "Male",
         "Soviet Union; Russian Empire; First Republic of Armenia",
         "Military personnel",
         "1862",
         "1937.0",
         "unnatural death",
         "75.0",
         "True",
         "3"
        ],
        [
         "1182207",
         "Q62024298",
         "Diana Oucleba",
         "Georgian poetess, artist",
         "Female",
         "Armenia; Soviet Union; Russian Empire",
         "Artist",
         "1910",
         "2001.0",
         null,
         "91.0",
         "False",
         "3"
        ],
        [
         "394541",
         "Q4523123",
         "Azat Sherents",
         "Soviet actor",
         "Male",
         "Armenia; Soviet Union; Russian Empire",
         "Artist",
         "1913",
         "1993.0",
         null,
         "80.0",
         "False",
         "3"
        ],
        [
         "391710",
         "Q4457125",
         "Edmond Tigranyan",
         "Russian architect (1911-1994)",
         "Male",
         "Armenia; Soviet Union; Russian Empire",
         "Architect",
         "1911",
         "1994.0",
         null,
         "83.0",
         "False",
         "3"
        ],
        [
         "158958",
         "Q1382482",
         "Karen Khachaturian",
         "Russian composer",
         "Male",
         "Russia; Armenia; Soviet Union",
         "Artist",
         "1920",
         "2011.0",
         null,
         "91.0",
         "False",
         "3"
        ],
        [
         "821924",
         "Q16335562",
         "Arsen Panosyan",
         "Soviet sculptor and painter (1940-2012)",
         "Male",
         "Armenia; Soviet Union; Armenian Soviet Socialist Republic",
         "Artist",
         "1940",
         "2012.0",
         null,
         "72.0",
         "False",
         "3"
        ],
        [
         "278091",
         "Q2849470",
         "Angelo Ephrikian",
         "Italian musician",
         "Male",
         "Italy; Armenia; Kingdom of Italy",
         "Artist",
         "1913",
         "1982.0",
         null,
         "69.0",
         "False",
         "3"
        ],
        [
         "234428",
         "Q2074401",
         "Konstantin Orbelyan",
         "Armenian musician",
         "Male",
         "United States of America; Armenia; Soviet Union",
         "Artist",
         "1928",
         "2014.0",
         null,
         "86.0",
         "True",
         "3"
        ],
        [
         "932359",
         "Q20510167",
         "Davit Poghossian",
         "հայ օպերային երգիչ, բաս, դերասան",
         "Male",
         "Armenia; Soviet Union; Russian Empire",
         "Artist",
         "1911",
         "2004.0",
         null,
         "93.0",
         "False",
         "3"
        ],
        [
         "370626",
         "Q4074748",
         "Arev Baghdasaryan",
         "Soviet Armenian singer (1913-1994)",
         "Female",
         "Armenia; Soviet Union; Russian Empire",
         "Artist",
         "1913",
         "1994.0",
         null,
         "81.0",
         "True",
         "3"
        ],
        [
         "374795",
         "Q4134665",
         "Yevgeni Gevorgyan",
         "Soviet composer and pianist",
         "Male",
         "United States of America; Armenia; Soviet Union",
         "Artist",
         "1936",
         "2016.0",
         null,
         "80.0",
         "False",
         "3"
        ],
        [
         "575112",
         "Q6761777",
         "Mariam Aslamazian",
         "Soviet Armenian artist (1907-2006)",
         "Female",
         "Russia; Armenia; Soviet Union",
         "Artist",
         "1907",
         "2006.0",
         null,
         "99.0",
         "True",
         "3"
        ],
        [
         "932344",
         "Q20509455",
         "Anna Petrosyan",
         "Armenian prose writer, actor",
         "Female",
         "Armenia; Soviet Union",
         "Artist",
         "1935",
         "2017.0",
         null,
         "82.0",
         "True",
         "2"
        ],
        [
         "42742",
         "Q254988",
         "Avetik Isahakyan",
         "Soviet poet (1875-1957)",
         "Male",
         "Russian Empire; Armenian Soviet Socialist Republic",
         "Artist",
         "1875",
         "1957.0",
         null,
         "82.0",
         "False",
         "2"
        ],
        [
         "39453",
         "Q215782",
         "Andranik Margaryan",
         "Armenian Prime Minister (1951-2007)",
         "Male",
         "Armenia; Soviet Union",
         "Politician",
         "1951",
         "2007.0",
         "natural causes",
         "56.0",
         "True",
         "2"
        ],
        [
         "30264",
         "Q122301",
         "Dmitry Mirimanoff",
         "Russian-Swiss mathematician",
         "Male",
         "Switzerland; Armenia",
         "Researcher",
         "1861",
         "1945.0",
         null,
         "84.0",
         "False",
         "2"
        ],
        [
         "5560",
         "Q62316",
         "Robert Sahakyants",
         "animator",
         "Male",
         "Armenia; Soviet Union",
         "Artist",
         "1950",
         "2009.0",
         null,
         "59.0",
         "False",
         "2"
        ],
        [
         "1191627",
         "Q63226473",
         "Boris Meliksetyan",
         "Armenian geologist",
         "Male",
         "Armenia; Soviet Union",
         "Researcher",
         "1928",
         "1992.0",
         null,
         "64.0",
         "True",
         "2"
        ],
        [
         "4983",
         "Q61130",
         "Luigi Colani",
         "German industrial designer and design professor",
         "Male",
         "Germany; Armenia",
         "Teacher",
         "1928",
         "2019.0",
         null,
         "91.0",
         "False",
         "2"
        ],
        [
         "1206411",
         "Q66132386",
         "Albert Ghazaryan",
         "athlete, coach, referee",
         "Male",
         "Armenia; Soviet Union",
         "Athlete",
         "1935",
         "2020.0",
         null,
         "85.0",
         "False",
         "2"
        ],
        [
         "227883",
         "Q1990424",
         "Leonid Azgaldyan",
         "Armenian physicist",
         "Male",
         "Armenia; Soviet Union",
         "Researcher",
         "1942",
         "1992.0",
         null,
         "50.0",
         "True",
         "2"
        ],
        [
         "227556",
         "Q1985750",
         "Rafayel Ishkhanian",
         "Armenian historian",
         "Male",
         "Armenia; Soviet Union",
         "Researcher",
         "1922",
         "1995.0",
         null,
         "73.0",
         "True",
         "2"
        ],
        [
         "226828",
         "Q1971453",
         "Khoren Abrahamyan",
         "Armenian actor",
         "Male",
         "Armenia; Soviet Union",
         "Artist",
         "1930",
         "2004.0",
         null,
         "74.0",
         "True",
         "2"
        ],
        [
         "210224",
         "Q1729248",
         "Karen Demirchyan",
         "Soviet politician (1932-1999)",
         "Male",
         "Armenia; Soviet Union",
         "Politician",
         "1932",
         "1999.0",
         "homicide",
         "67.0",
         "False",
         "2"
        ],
        [
         "235465",
         "Q2082805",
         "Romanos Melikian",
         "Armenian composer",
         "Male",
         "Armenia; Soviet Union",
         "Artist",
         "1883",
         "1935.0",
         null,
         "52.0",
         "True",
         "2"
        ]
       ],
       "shape": {
        "columns": 12,
        "rows": 301
       }
      },
      "text/html": [
       "<div>\n",
       "<style scoped>\n",
       "    .dataframe tbody tr th:only-of-type {\n",
       "        vertical-align: middle;\n",
       "    }\n",
       "\n",
       "    .dataframe tbody tr th {\n",
       "        vertical-align: top;\n",
       "    }\n",
       "\n",
       "    .dataframe thead th {\n",
       "        text-align: right;\n",
       "    }\n",
       "</style>\n",
       "<table border=\"1\" class=\"dataframe\">\n",
       "  <thead>\n",
       "    <tr style=\"text-align: right;\">\n",
       "      <th></th>\n",
       "      <th>Id</th>\n",
       "      <th>Name</th>\n",
       "      <th>Short description</th>\n",
       "      <th>Gender</th>\n",
       "      <th>Country</th>\n",
       "      <th>Occupation</th>\n",
       "      <th>Birth year</th>\n",
       "      <th>Death year</th>\n",
       "      <th>Manner of death</th>\n",
       "      <th>Age of death</th>\n",
       "      <th>Armenian</th>\n",
       "      <th>num_countries</th>\n",
       "    </tr>\n",
       "  </thead>\n",
       "  <tbody>\n",
       "    <tr>\n",
       "      <th>231807</th>\n",
       "      <td>Q2047004</td>\n",
       "      <td>Suren Yeremyan</td>\n",
       "      <td>Armenian historian</td>\n",
       "      <td>Male</td>\n",
       "      <td>Armenia; Soviet Union; Russian Empire; Russian...</td>\n",
       "      <td>Researcher</td>\n",
       "      <td>1908</td>\n",
       "      <td>1992.0</td>\n",
       "      <td>NaN</td>\n",
       "      <td>84.0</td>\n",
       "      <td>True</td>\n",
       "      <td>9</td>\n",
       "    </tr>\n",
       "    <tr>\n",
       "      <th>71047</th>\n",
       "      <td>Q471740</td>\n",
       "      <td>Armen Dzhigarkhanyan</td>\n",
       "      <td>Armenian, Soviet, Russian actor</td>\n",
       "      <td>Male</td>\n",
       "      <td>United States of America; Russia; Armenia; Sov...</td>\n",
       "      <td>Artist</td>\n",
       "      <td>1935</td>\n",
       "      <td>2020.0</td>\n",
       "      <td>NaN</td>\n",
       "      <td>85.0</td>\n",
       "      <td>True</td>\n",
       "      <td>4</td>\n",
       "    </tr>\n",
       "    <tr>\n",
       "      <th>100991</th>\n",
       "      <td>Q738092</td>\n",
       "      <td>Pavel Lisitsian</td>\n",
       "      <td>Russian singer</td>\n",
       "      <td>Male</td>\n",
       "      <td>Russia; Armenia; Soviet Union; Russian Empire</td>\n",
       "      <td>Artist</td>\n",
       "      <td>1911</td>\n",
       "      <td>2004.0</td>\n",
       "      <td>NaN</td>\n",
       "      <td>93.0</td>\n",
       "      <td>False</td>\n",
       "      <td>4</td>\n",
       "    </tr>\n",
       "    <tr>\n",
       "      <th>370403</th>\n",
       "      <td>Q4071165</td>\n",
       "      <td>Tinatin Asatiani</td>\n",
       "      <td>Georgian physicist</td>\n",
       "      <td>Female</td>\n",
       "      <td>Armenia; Soviet Union; Democratic Republic of ...</td>\n",
       "      <td>Researcher</td>\n",
       "      <td>1918</td>\n",
       "      <td>2011.0</td>\n",
       "      <td>NaN</td>\n",
       "      <td>93.0</td>\n",
       "      <td>False</td>\n",
       "      <td>4</td>\n",
       "    </tr>\n",
       "    <tr>\n",
       "      <th>370366</th>\n",
       "      <td>Q4070512</td>\n",
       "      <td>Varazdat Harutyunyan</td>\n",
       "      <td>Armenian architect</td>\n",
       "      <td>Male</td>\n",
       "      <td>Armenia; Ottoman Empire; Soviet Union; Russian...</td>\n",
       "      <td>Researcher</td>\n",
       "      <td>1909</td>\n",
       "      <td>2008.0</td>\n",
       "      <td>NaN</td>\n",
       "      <td>99.0</td>\n",
       "      <td>True</td>\n",
       "      <td>4</td>\n",
       "    </tr>\n",
       "    <tr>\n",
       "      <th>...</th>\n",
       "      <td>...</td>\n",
       "      <td>...</td>\n",
       "      <td>...</td>\n",
       "      <td>...</td>\n",
       "      <td>...</td>\n",
       "      <td>...</td>\n",
       "      <td>...</td>\n",
       "      <td>...</td>\n",
       "      <td>...</td>\n",
       "      <td>...</td>\n",
       "      <td>...</td>\n",
       "      <td>...</td>\n",
       "    </tr>\n",
       "    <tr>\n",
       "      <th>932345</th>\n",
       "      <td>Q20509556</td>\n",
       "      <td>Maria Petrosyan</td>\n",
       "      <td>Armenian philosopher</td>\n",
       "      <td>Female</td>\n",
       "      <td>Armenia</td>\n",
       "      <td>Philosopher</td>\n",
       "      <td>1911</td>\n",
       "      <td>1971.0</td>\n",
       "      <td>NaN</td>\n",
       "      <td>60.0</td>\n",
       "      <td>True</td>\n",
       "      <td>1</td>\n",
       "    </tr>\n",
       "    <tr>\n",
       "      <th>932348</th>\n",
       "      <td>Q20509639</td>\n",
       "      <td>Aida Boyajyan</td>\n",
       "      <td>Armenian artist</td>\n",
       "      <td>Female</td>\n",
       "      <td>Armenia</td>\n",
       "      <td>Artist</td>\n",
       "      <td>1932</td>\n",
       "      <td>2019.0</td>\n",
       "      <td>NaN</td>\n",
       "      <td>87.0</td>\n",
       "      <td>True</td>\n",
       "      <td>1</td>\n",
       "    </tr>\n",
       "    <tr>\n",
       "      <th>932353</th>\n",
       "      <td>Q20509808</td>\n",
       "      <td>Henrik Sevan</td>\n",
       "      <td>Armenian children's writer, translator, poet</td>\n",
       "      <td>Male</td>\n",
       "      <td>Armenia</td>\n",
       "      <td>Artist</td>\n",
       "      <td>1925</td>\n",
       "      <td>2008.0</td>\n",
       "      <td>NaN</td>\n",
       "      <td>83.0</td>\n",
       "      <td>True</td>\n",
       "      <td>1</td>\n",
       "    </tr>\n",
       "    <tr>\n",
       "      <th>43970</th>\n",
       "      <td>Q266968</td>\n",
       "      <td>Gurgen Margaryan</td>\n",
       "      <td>Armenian soldier</td>\n",
       "      <td>Male</td>\n",
       "      <td>Armenia</td>\n",
       "      <td>Military personnel</td>\n",
       "      <td>1978</td>\n",
       "      <td>2004.0</td>\n",
       "      <td>homicide</td>\n",
       "      <td>26.0</td>\n",
       "      <td>True</td>\n",
       "      <td>1</td>\n",
       "    </tr>\n",
       "    <tr>\n",
       "      <th>354</th>\n",
       "      <td>Q4924</td>\n",
       "      <td>Isabella I, Queen of Armenia</td>\n",
       "      <td>queen regnant of Cilician Armenia</td>\n",
       "      <td>Female</td>\n",
       "      <td>Armenian Kingdom of Cilicia</td>\n",
       "      <td>Politician</td>\n",
       "      <td>1216</td>\n",
       "      <td>1252.0</td>\n",
       "      <td>NaN</td>\n",
       "      <td>36.0</td>\n",
       "      <td>True</td>\n",
       "      <td>1</td>\n",
       "    </tr>\n",
       "  </tbody>\n",
       "</table>\n",
       "<p>301 rows × 12 columns</p>\n",
       "</div>"
      ],
      "text/plain": [
       "               Id                          Name  \\\n",
       "231807   Q2047004                Suren Yeremyan   \n",
       "71047     Q471740          Armen Dzhigarkhanyan   \n",
       "100991    Q738092               Pavel Lisitsian   \n",
       "370403   Q4071165              Tinatin Asatiani   \n",
       "370366   Q4070512          Varazdat Harutyunyan   \n",
       "...           ...                           ...   \n",
       "932345  Q20509556               Maria Petrosyan   \n",
       "932348  Q20509639                 Aida Boyajyan   \n",
       "932353  Q20509808                  Henrik Sevan   \n",
       "43970     Q266968              Gurgen Margaryan   \n",
       "354         Q4924  Isabella I, Queen of Armenia   \n",
       "\n",
       "                                   Short description  Gender  \\\n",
       "231807                            Armenian historian    Male   \n",
       "71047                Armenian, Soviet, Russian actor    Male   \n",
       "100991                                Russian singer    Male   \n",
       "370403                            Georgian physicist  Female   \n",
       "370366                            Armenian architect    Male   \n",
       "...                                              ...     ...   \n",
       "932345                          Armenian philosopher  Female   \n",
       "932348                               Armenian artist  Female   \n",
       "932353  Armenian children's writer, translator, poet    Male   \n",
       "43970                               Armenian soldier    Male   \n",
       "354                queen regnant of Cilician Armenia  Female   \n",
       "\n",
       "                                                  Country          Occupation  \\\n",
       "231807  Armenia; Soviet Union; Russian Empire; Russian...          Researcher   \n",
       "71047   United States of America; Russia; Armenia; Sov...              Artist   \n",
       "100991      Russia; Armenia; Soviet Union; Russian Empire              Artist   \n",
       "370403  Armenia; Soviet Union; Democratic Republic of ...          Researcher   \n",
       "370366  Armenia; Ottoman Empire; Soviet Union; Russian...          Researcher   \n",
       "...                                                   ...                 ...   \n",
       "932345                                            Armenia         Philosopher   \n",
       "932348                                            Armenia              Artist   \n",
       "932353                                            Armenia              Artist   \n",
       "43970                                             Armenia  Military personnel   \n",
       "354                           Armenian Kingdom of Cilicia          Politician   \n",
       "\n",
       "        Birth year  Death year Manner of death  Age of death  Armenian  \\\n",
       "231807        1908      1992.0             NaN          84.0      True   \n",
       "71047         1935      2020.0             NaN          85.0      True   \n",
       "100991        1911      2004.0             NaN          93.0     False   \n",
       "370403        1918      2011.0             NaN          93.0     False   \n",
       "370366        1909      2008.0             NaN          99.0      True   \n",
       "...            ...         ...             ...           ...       ...   \n",
       "932345        1911      1971.0             NaN          60.0      True   \n",
       "932348        1932      2019.0             NaN          87.0      True   \n",
       "932353        1925      2008.0             NaN          83.0      True   \n",
       "43970         1978      2004.0        homicide          26.0      True   \n",
       "354           1216      1252.0             NaN          36.0      True   \n",
       "\n",
       "        num_countries  \n",
       "231807              9  \n",
       "71047               4  \n",
       "100991              4  \n",
       "370403              4  \n",
       "370366              4  \n",
       "...               ...  \n",
       "932345              1  \n",
       "932348              1  \n",
       "932353              1  \n",
       "43970               1  \n",
       "354                 1  \n",
       "\n",
       "[301 rows x 12 columns]"
      ]
     },
     "metadata": {},
     "output_type": "display_data"
    }
   ],
   "source": [
    "arm.sort_values(by=\"num_countries\", ascending=False)"
   ]
  },
  {
   "cell_type": "code",
   "execution_count": null,
   "id": "5b417664",
   "metadata": {},
   "outputs": [
    {
     "data": {
      "text/plain": [
       "<Axes: ylabel='Frequency'>"
      ]
     },
     "metadata": {},
     "output_type": "display_data"
    },
    {
     "data": {
      "image/png": "[encoded data removed]",
      "text/plain": [
       "<Figure size 640x480 with 1 Axes>"
      ]
     },
     "metadata": {},
     "output_type": "display_data"
    }
   ],
   "source": [
    "arm[\"Age of death\"].plot(kind=\"hist\", bins=30, edgecolor=\"black\")"
   ]
  },
  {
   "cell_type": "code",
   "execution_count": null,
   "id": "6ace1644",
   "metadata": {},
   "outputs": [
    {
     "data": {
      "text/plain": [
       "<Axes: xlabel='Occupation'>"
      ]
     },
     "metadata": {},
     "output_type": "display_data"
    },
    {
     "data": {
      "image/png": "[encoded data removed]",
      "text/plain": [
       "<Figure size 640x480 with 1 Axes>"
      ]
     },
     "metadata": {},
     "output_type": "display_data"
    }
   ],
   "source": [
    "arm[\"Occupation\"].value_counts().head(10).plot(kind=\"bar\")"
   ]
  },
  {
   "cell_type": "code",
   "execution_count": null,
   "id": "e888f355",
   "metadata": {},
   "outputs": [
    {
     "data": {
      "application/vnd.microsoft.datawrangler.viewer.v0+json": {
       "columns": [
        {
         "name": "index",
         "rawType": "int64",
         "type": "integer"
        },
        {
         "name": "Id",
         "rawType": "object",
         "type": "string"
        },
        {
         "name": "Name",
         "rawType": "object",
         "type": "string"
        },
        {
         "name": "Short description",
         "rawType": "object",
         "type": "string"
        },
        {
         "name": "Gender",
         "rawType": "object",
         "type": "string"
        },
        {
         "name": "Country",
         "rawType": "object",
         "type": "string"
        },
        {
         "name": "Occupation",
         "rawType": "object",
         "type": "string"
        },
        {
         "name": "Birth year",
         "rawType": "int64",
         "type": "integer"
        },
        {
         "name": "Death year",
         "rawType": "float64",
         "type": "float"
        },
        {
         "name": "Manner of death",
         "rawType": "object",
         "type": "unknown"
        },
        {
         "name": "Age of death",
         "rawType": "float64",
         "type": "float"
        },
        {
         "name": "Armenian",
         "rawType": "bool",
         "type": "boolean"
        },
        {
         "name": "num_countries",
         "rawType": "int64",
         "type": "integer"
        }
       ],
       "ref": "6d2cae98-1ef2-4422-888e-44907ea1ecee",
       "rows": [
        [
         "4983",
         "Q61130",
         "Luigi Colani",
         "German industrial designer and design professor",
         "Male",
         "Germany; Armenia",
         "Teacher",
         "1928",
         "2019.0",
         null,
         "91.0",
         "False",
         "2"
        ],
        [
         "284037",
         "Q2947568",
         "Gabriel Guevrekian",
         "Turkish architect",
         "Male",
         "United States of America; Austria; Armenia",
         "Teacher",
         "1900",
         "1970.0",
         null,
         "70.0",
         "False",
         "3"
        ],
        [
         "543697",
         "Q6221011",
         "John Basmajian",
         "Canadian academic and scientist",
         "Male",
         "Armenia",
         "Teacher",
         "1921",
         "2008.0",
         null,
         "87.0",
         "False",
         "1"
        ],
        [
         "822609",
         "Q16369110",
         "Ashot Abrahamyan",
         "linguista sovietico",
         "Male",
         "Armenian Soviet Socialist Republic",
         "Teacher",
         "1918",
         "1985.0",
         null,
         "67.0",
         "False",
         "1"
        ],
        [
         "822764",
         "Q16392864",
         "Margarit Harutyunyan",
         "Armenian musicologist, educator",
         "Female",
         "Armenia",
         "Teacher",
         "1921",
         "1997.0",
         null,
         "76.0",
         "True",
         "1"
        ]
       ],
       "shape": {
        "columns": 12,
        "rows": 5
       }
      },
      "text/html": [
       "<div>\n",
       "<style scoped>\n",
       "    .dataframe tbody tr th:only-of-type {\n",
       "        vertical-align: middle;\n",
       "    }\n",
       "\n",
       "    .dataframe tbody tr th {\n",
       "        vertical-align: top;\n",
       "    }\n",
       "\n",
       "    .dataframe thead th {\n",
       "        text-align: right;\n",
       "    }\n",
       "</style>\n",
       "<table border=\"1\" class=\"dataframe\">\n",
       "  <thead>\n",
       "    <tr style=\"text-align: right;\">\n",
       "      <th></th>\n",
       "      <th>Id</th>\n",
       "      <th>Name</th>\n",
       "      <th>Short description</th>\n",
       "      <th>Gender</th>\n",
       "      <th>Country</th>\n",
       "      <th>Occupation</th>\n",
       "      <th>Birth year</th>\n",
       "      <th>Death year</th>\n",
       "      <th>Manner of death</th>\n",
       "      <th>Age of death</th>\n",
       "      <th>Armenian</th>\n",
       "      <th>num_countries</th>\n",
       "    </tr>\n",
       "  </thead>\n",
       "  <tbody>\n",
       "    <tr>\n",
       "      <th>4983</th>\n",
       "      <td>Q61130</td>\n",
       "      <td>Luigi Colani</td>\n",
       "      <td>German industrial designer and design professor</td>\n",
       "      <td>Male</td>\n",
       "      <td>Germany; Armenia</td>\n",
       "      <td>Teacher</td>\n",
       "      <td>1928</td>\n",
       "      <td>2019.0</td>\n",
       "      <td>NaN</td>\n",
       "      <td>91.0</td>\n",
       "      <td>False</td>\n",
       "      <td>2</td>\n",
       "    </tr>\n",
       "    <tr>\n",
       "      <th>284037</th>\n",
       "      <td>Q2947568</td>\n",
       "      <td>Gabriel Guevrekian</td>\n",
       "      <td>Turkish architect</td>\n",
       "      <td>Male</td>\n",
       "      <td>United States of America; Austria; Armenia</td>\n",
       "      <td>Teacher</td>\n",
       "      <td>1900</td>\n",
       "      <td>1970.0</td>\n",
       "      <td>NaN</td>\n",
       "      <td>70.0</td>\n",
       "      <td>False</td>\n",
       "      <td>3</td>\n",
       "    </tr>\n",
       "    <tr>\n",
       "      <th>543697</th>\n",
       "      <td>Q6221011</td>\n",
       "      <td>John Basmajian</td>\n",
       "      <td>Canadian academic and scientist</td>\n",
       "      <td>Male</td>\n",
       "      <td>Armenia</td>\n",
       "      <td>Teacher</td>\n",
       "      <td>1921</td>\n",
       "      <td>2008.0</td>\n",
       "      <td>NaN</td>\n",
       "      <td>87.0</td>\n",
       "      <td>False</td>\n",
       "      <td>1</td>\n",
       "    </tr>\n",
       "    <tr>\n",
       "      <th>822609</th>\n",
       "      <td>Q16369110</td>\n",
       "      <td>Ashot Abrahamyan</td>\n",
       "      <td>linguista sovietico</td>\n",
       "      <td>Male</td>\n",
       "      <td>Armenian Soviet Socialist Republic</td>\n",
       "      <td>Teacher</td>\n",
       "      <td>1918</td>\n",
       "      <td>1985.0</td>\n",
       "      <td>NaN</td>\n",
       "      <td>67.0</td>\n",
       "      <td>False</td>\n",
       "      <td>1</td>\n",
       "    </tr>\n",
       "    <tr>\n",
       "      <th>822764</th>\n",
       "      <td>Q16392864</td>\n",
       "      <td>Margarit Harutyunyan</td>\n",
       "      <td>Armenian musicologist, educator</td>\n",
       "      <td>Female</td>\n",
       "      <td>Armenia</td>\n",
       "      <td>Teacher</td>\n",
       "      <td>1921</td>\n",
       "      <td>1997.0</td>\n",
       "      <td>NaN</td>\n",
       "      <td>76.0</td>\n",
       "      <td>True</td>\n",
       "      <td>1</td>\n",
       "    </tr>\n",
       "  </tbody>\n",
       "</table>\n",
       "</div>"
      ],
      "text/plain": [
       "               Id                  Name  \\\n",
       "4983       Q61130          Luigi Colani   \n",
       "284037   Q2947568    Gabriel Guevrekian   \n",
       "543697   Q6221011        John Basmajian   \n",
       "822609  Q16369110      Ashot Abrahamyan   \n",
       "822764  Q16392864  Margarit Harutyunyan   \n",
       "\n",
       "                                      Short description  Gender  \\\n",
       "4983    German industrial designer and design professor    Male   \n",
       "284037                                Turkish architect    Male   \n",
       "543697                  Canadian academic and scientist    Male   \n",
       "822609                              linguista sovietico    Male   \n",
       "822764                  Armenian musicologist, educator  Female   \n",
       "\n",
       "                                           Country Occupation  Birth year  \\\n",
       "4983                              Germany; Armenia    Teacher        1928   \n",
       "284037  United States of America; Austria; Armenia    Teacher        1900   \n",
       "543697                                     Armenia    Teacher        1921   \n",
       "822609          Armenian Soviet Socialist Republic    Teacher        1918   \n",
       "822764                                     Armenia    Teacher        1921   \n",
       "\n",
       "        Death year Manner of death  Age of death  Armenian  num_countries  \n",
       "4983        2019.0             NaN          91.0     False              2  \n",
       "284037      1970.0             NaN          70.0     False              3  \n",
       "543697      2008.0             NaN          87.0     False              1  \n",
       "822609      1985.0             NaN          67.0     False              1  \n",
       "822764      1997.0             NaN          76.0      True              1  "
      ]
     },
     "metadata": {},
     "output_type": "display_data"
    }
   ],
   "source": [
    "arm[arm[\"Occupation\"] == \"Teacher\"]"
   ]
  },
  {
   "cell_type": "markdown",
   "id": "2c208798",
   "metadata": {},
   "source": [
    "### Pivot table"
   ]
  },
  {
   "cell_type": "code",
   "execution_count": null,
   "id": "c2e6b27f",
   "metadata": {},
   "outputs": [
    {
     "name": "stdout",
     "output_type": "stream",
     "text": [
      "                         mean             count       \n",
      "Gender                 Female       Male Female   Male\n",
      "Occupation                                            \n",
      "Architect           82.500000  85.000000    2.0    4.0\n",
      "Artist              77.969697  74.555556   33.0  108.0\n",
      "Astronomer          88.000000        NaN    1.0    NaN\n",
      "Athlete                   NaN  65.470588    NaN   17.0\n",
      "Businessperson            NaN  88.000000    NaN    2.0\n",
      "Engineer                  NaN  79.000000    NaN    3.0\n",
      "Entrepreneur              NaN  80.000000    NaN    2.0\n",
      "Inventor                  NaN  87.000000    NaN    2.0\n",
      "Journalist                NaN  73.000000    NaN    4.0\n",
      "Jurist                    NaN  65.500000    NaN    2.0\n",
      "Lawyer                    NaN  88.000000    NaN    1.0\n",
      "Military personnel        NaN  39.800000    NaN   10.0\n",
      "Philosopher         60.000000        NaN    1.0    NaN\n",
      "Physician           85.000000  86.000000    1.0    1.0\n",
      "Politician          53.750000  60.444444    4.0   36.0\n",
      "Religious figure          NaN  86.000000    NaN    1.0\n",
      "Researcher          84.200000  71.716981    5.0   53.0\n",
      "Surgeon                   NaN  82.000000    NaN    1.0\n",
      "Teacher             76.000000  78.750000    1.0    4.0\n",
      "Translator          75.000000  60.000000    1.0    1.0\n"
     ]
    }
   ],
   "source": [
    "print(pd.pivot_table(arm, index=\"Occupation\", columns=\"Gender\", values=\"Age of death\", \n",
    "               aggfunc=[\"mean\", \"count\"]))#.columns)\n"
   ]
  },
  {
   "cell_type": "code",
   "execution_count": null,
   "id": "7723e295",
   "metadata": {},
   "outputs": [
    {
     "name": "stdout",
     "output_type": "stream",
     "text": [
      "MultiIndex([( 'mean', 'Female'),\n",
      "            ( 'mean',   'Male'),\n",
      "            ('count', 'Female'),\n",
      "            ('count',   'Male')],\n",
      "           names=[None, 'Gender'])\n"
     ]
    }
   ],
   "source": [
    "print(pd.pivot_table(arm, index=\"Occupation\", columns=\"Gender\", values=\"Age of death\", \n",
    "               aggfunc=[\"mean\", \"count\"]).columns)#sort_values(\"('count',   'Male')\"))#.columns)\n"
   ]
  },
  {
   "cell_type": "markdown",
   "id": "3259c035",
   "metadata": {},
   "source": [
    "# 🎲 23 (05)\n",
    "- ▶️[Աշոտ Նագաշյան](https://www.youtube.com/playlist?list=PLDFcOFPXHa-rYLeQREErNZfFiS8db5HNU)\n",
    "- ▶️[Random link](https://www.youtube.com/watch?v=3pwxvCR8bMY)\n",
    "- 🇦🇲🎶[Vishup Ensemble (Անուշ Ղայդա)](https://www.youtube.com/watch?v=WBGb_MlQxUE)\n",
    "- 🌐🎶[Kansas (Dust in the Wind)](https://www.youtube.com/watch?v=tH2w6Oxx0kQ)\n",
    "- 🤌[Կարգին](https://www.youtube.com/watch?v=oCoUlIYmUfM)"
   ]
  },
  {
   "cell_type": "markdown",
   "id": "48a6f6e3",
   "metadata": {},
   "source": [
    "\n",
    "<a href=\"http://s01.flagcounter.com/more/1oO\"><img src=\"https://s01.flagcounter.com/count2/1oO/bg_FFFFFF/txt_000000/border_CCCCCC/columns_2/maxflags_10/viewers_0/labels_0/pageviews_1/flags_0/percent_0/\" alt=\"Flag Counter\"></a>\n"
   ]
  }
 ],
 "metadata": {
  "language_info": {
   "name": "python"
  }
 },
 "nbformat": 4,
 "nbformat_minor": 5
}

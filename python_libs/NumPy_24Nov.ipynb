{
  "nbformat": 4,
  "nbformat_minor": 0,
  "metadata": {
    "colab": {
      "provenance": [],
      "toc_visible": true
    },
    "kernelspec": {
      "name": "python3",
      "display_name": "Python 3"
    },
    "language_info": {
      "name": "python"
    }
  },
  "cells": [
    {
      "cell_type": "markdown",
      "source": [
        "# Նյութեր\n",
        "1. [Դոկումնետացիա](https://numpy.org/doc/stable/)\n",
        "2. [մի ժամանոց վիդյո որտեղ ընդհանուր կոնցեպտների վրայով անցնումա](https://www.youtube.com/watch?v=GB9ByFAIAH4)\n",
        "3. [notebookա որտեղ լավ համառոտ ցույցա տալիս հիմնական բաները, ոչ միայն numpy-ի](https://cs231n.github.io/python-numpy-tutorial/)\n",
        "4. [սա էլա լավ ռեսուրս երևում, լիքը օրինակներով](https://www.kaggle.com/code/orhansertkaya/numpy-tutorial-for-beginners)\n"
      ],
      "metadata": {
        "id": "i5q-r7ItvZid"
      }
    },
    {
      "cell_type": "markdown",
      "source": [
        "# Numpyի առավելություններ\n",
        "հեսա հայերենով կասեմ :)\n",
        "\n"
      ],
      "metadata": {
        "id": "txIa8Uz1tyZZ"
      }
    },
    {
      "cell_type": "markdown",
      "source": [
        "NumPy offers several advantages that make it a powerful and popular library for numerical computing and data analysis tasks. Let's explore some of its key advantages:\n",
        "\n",
        "1. Efficient numerical operations: NumPy provides efficient numerical operations on arrays, thanks to its implementation in optimized C code. It enables vectorized operations, which allow for performing calculations on entire arrays instead of looping over individual elements. This significantly improves performance and speeds up computations.\n",
        "\n",
        "2. Multidimensional array support: NumPy's ndarray (n-dimensional array) allows for working with arrays of any dimensionality, from 1D to higher-dimensional arrays. It provides a convenient and efficient way to store and manipulate large amounts of data, such as images, audio, time series, and more.\n",
        "\n",
        "3. Broadcasting: NumPy's broadcasting feature simplifies performing operations on arrays with different shapes, making it possible to combine arrays of different sizes without explicitly writing loops. Broadcasting rules allow for element-wise operations between arrays of different shapes, reducing the need for unnecessary reshaping or looping.\n",
        "\n",
        "4. Optimized mathematical functions: NumPy provides a wide range of mathematical functions that are optimized for performance. These functions include trigonometric functions, exponential and logarithmic functions, statistical functions, linear algebra routines, and more. Using these functions, you can perform complex mathematical computations efficiently.\n",
        "\n",
        "5. Integration with other libraries: NumPy seamlessly integrates with other popular data science and scientific computing libraries, such as Pandas, SciPy, Matplotlib, and scikit-learn. These libraries often rely on NumPy arrays as the fundamental data structure, enabling interoperability and facilitating data analysis, visualization, machine learning, and scientific computations.\n",
        "\n",
        "6. Memory efficiency: NumPy arrays consume less memory compared to Python lists, especially for large datasets. The homogeneous nature of NumPy arrays allows for efficient memory allocation and storage of data in a contiguous block, which leads to reduced memory overhead and improved performance.\n",
        "\n",
        "7. Parallel computing: NumPy supports parallel computing through its integration with libraries like Numba and Dask. These libraries enable executing computationally intensive operations in parallel, leveraging the full potential of multicore processors and accelerating the execution of numerical tasks.\n",
        "\n",
        "Overall, NumPy provides a solid foundation for efficient numerical computations and data manipulation in Python. Its ability to handle large datasets, perform fast operations, and integrate with other scientific libraries makes it a fundamental tool for various applications in data science, scientific research, and numerical computing."
      ],
      "metadata": {
        "id": "Cl81zzCCt3T4"
      }
    },
    {
      "cell_type": "code",
      "source": [
        "pip install numpy\n",
        "\n",
        "conda install numpy"
      ],
      "metadata": {
        "id": "IIfWLY-MHtPN"
      },
      "execution_count": null,
      "outputs": []
    },
    {
      "cell_type": "code",
      "source": [
        "import numpy as np\n",
        "import time"
      ],
      "metadata": {
        "id": "tUSVOdv8uqHD"
      },
      "execution_count": null,
      "outputs": []
    },
    {
      "cell_type": "code",
      "source": [
        "# Using Python lists\n",
        "start_time = time.time()\n",
        "\n",
        "py_list = list(range(10**8))  # Create a Python list with 10 million elements\n",
        "py_sum = sum(py_list)  # Calculate the sum of the list\n",
        "\n",
        "end_time = time.time()\n",
        "\n",
        "execution_time_py = end_time - start_time\n",
        "print(\"Python list execution time:\", execution_time_py)"
      ],
      "metadata": {
        "colab": {
          "base_uri": "https://localhost:8080/"
        },
        "id": "5pJyFT-2utQ9",
        "outputId": "52ad7e08-8be9-4b34-8599-caf18a6a0e4f"
      },
      "execution_count": null,
      "outputs": [
        {
          "output_type": "stream",
          "name": "stdout",
          "text": [
            "Python list execution time: 6.181068658828735\n"
          ]
        }
      ]
    },
    {
      "cell_type": "code",
      "source": [
        "# Using NumPy arrays\n",
        "start_time = time.time()\n",
        "\n",
        "np_array = np.arange(10**8)  # Create a NumPy array with 100 million elements\n",
        "np_sum = np.sum(np_array)  # Calculate the sum of the array\n",
        "\n",
        "end_time = time.time()\n",
        "execution_time_np = end_time - start_time\n",
        "print(\"NumPy execution time:\", execution_time_np)\n",
        "\n"
      ],
      "metadata": {
        "colab": {
          "base_uri": "https://localhost:8080/"
        },
        "id": "NkP-fdQ-uOBh",
        "outputId": "b9724ae7-2e5b-4db3-e58a-17a942b3faaa"
      },
      "execution_count": null,
      "outputs": [
        {
          "output_type": "stream",
          "name": "stdout",
          "text": [
            "NumPy execution time: 0.28944826126098633\n"
          ]
        }
      ]
    },
    {
      "cell_type": "code",
      "source": [
        "print(f\"NumPy was {execution_time_py / execution_time_np:.2f}x faster, հզոր NumPy\")"
      ],
      "metadata": {
        "colab": {
          "base_uri": "https://localhost:8080/"
        },
        "id": "-FMZY0OFuzMj",
        "outputId": "645d78cf-e62f-4363-9d34-6dce9b31258a"
      },
      "execution_count": null,
      "outputs": [
        {
          "output_type": "stream",
          "name": "stdout",
          "text": [
            "NumPy was 21.35x faster, հզոր NumPy\n"
          ]
        }
      ]
    },
    {
      "cell_type": "code",
      "source": [
        "# Memory usage\n",
        "np_memory = np_array.nbytes  # Memory usage of the NumPy array in bytes\n",
        "py_memory = sum(i.__sizeof__() for i in py_list)  # Memory usage of the Python list in bytes\n",
        "\n",
        "print(\"NumPy memory usage:\", np_memory)\n",
        "print(\"Python list memory usage:\", py_memory)\n"
      ],
      "metadata": {
        "colab": {
          "base_uri": "https://localhost:8080/"
        },
        "id": "_a8DTTRjuZYn",
        "outputId": "4e607e6c-353c-4dd6-c805-78697ca22d96"
      },
      "execution_count": null,
      "outputs": [
        {
          "output_type": "stream",
          "name": "stdout",
          "text": [
            "NumPy memory usage: 800000000\n",
            "Python list memory usage: 2799999996\n"
          ]
        }
      ]
    },
    {
      "cell_type": "code",
      "source": [
        "print(f\"NumPy's used {py_memory / np_memory}x times less memory, խնայող NumPy\")"
      ],
      "metadata": {
        "colab": {
          "base_uri": "https://localhost:8080/"
        },
        "id": "pdK99Y7rvDAl",
        "outputId": "c13a50fc-8cd2-4387-bba3-56751484a6e6"
      },
      "execution_count": null,
      "outputs": [
        {
          "output_type": "stream",
          "name": "stdout",
          "text": [
            "NumPy's used 3.499999995x times less memory, խնայող NumPy\n"
          ]
        }
      ]
    },
    {
      "cell_type": "markdown",
      "source": [
        "# Numpyը install անել"
      ],
      "metadata": {
        "id": "SnWlJWDQI1Na"
      }
    },
    {
      "cell_type": "markdown",
      "source": [
        "`pip install numpy`\n",
        "\n",
        "կամ\n",
        "\n",
        "`conda install numpy`"
      ],
      "metadata": {
        "id": "aNADdrVbv3jV"
      }
    },
    {
      "cell_type": "markdown",
      "source": [
        "# Numpy Arrayի ստեղծում"
      ],
      "metadata": {
        "id": "pihoIwP8I9rV"
      }
    },
    {
      "cell_type": "markdown",
      "source": [
        "## list կամ tupleից"
      ],
      "metadata": {
        "id": "qM91RKQvJH55"
      }
    },
    {
      "cell_type": "code",
      "source": [
        "import numpy as np\n",
        "\n",
        "# Creating array from a list\n",
        "arr1 = np.array([1, 2, 3]) # կամ np.array((1, 2, 3))\n",
        "\n",
        "type(arr1)"
      ],
      "metadata": {
        "colab": {
          "base_uri": "https://localhost:8080/"
        },
        "id": "toqyAVjjI_1G",
        "outputId": "690c6854-f588-449f-d989-ab90efe2e997"
      },
      "execution_count": null,
      "outputs": [
        {
          "output_type": "execute_result",
          "data": {
            "text/plain": [
              "numpy.ndarray"
            ]
          },
          "metadata": {},
          "execution_count": 10
        }
      ]
    },
    {
      "cell_type": "code",
      "source": [
        "arr2 = np.array([[1,2,3], [5, 0, 9]]) # կամ նույնը tupleով\n",
        "arr2"
      ],
      "metadata": {
        "colab": {
          "base_uri": "https://localhost:8080/"
        },
        "id": "NzFncOuWJodv",
        "outputId": "b13ffd0f-c775-4b4c-eabe-d110927b27e1"
      },
      "execution_count": null,
      "outputs": [
        {
          "output_type": "execute_result",
          "data": {
            "text/plain": [
              "array([[1, 2, 3],\n",
              "       [5, 0, 9]])"
            ]
          },
          "metadata": {},
          "execution_count": 11
        }
      ]
    },
    {
      "cell_type": "markdown",
      "source": [
        "## Զրոներից կամ մեկերից բաղկացած arrayի ստեղծում"
      ],
      "metadata": {
        "id": "vwwe-AYvJeV7"
      }
    },
    {
      "cell_type": "code",
      "source": [
        "# Creating array of zeros\n",
        "zeros = np.zeros(3)\n",
        "\n",
        "# Creating array of ones\n",
        "ones = np.ones((3,3), dtype=\"int8\") # կարող ենք նշել տվյալների տեսակը\n",
        "\n",
        "print(zeros)\n",
        "print(ones)\n",
        "\n",
        "# -2**8,"
      ],
      "metadata": {
        "colab": {
          "base_uri": "https://localhost:8080/"
        },
        "id": "cR5g9pDlJuma",
        "outputId": "3cc5bdc5-bbec-4247-aa9c-4cc09c839fcf"
      },
      "execution_count": null,
      "outputs": [
        {
          "output_type": "stream",
          "name": "stdout",
          "text": [
            "[0. 0. 0.]\n",
            "[[1 1 1]\n",
            " [1 1 1]\n",
            " [1 1 1]]\n"
          ]
        }
      ]
    },
    {
      "cell_type": "markdown",
      "source": [
        "## Դատարկ կամ լրիվ arrayի ստեղծում"
      ],
      "metadata": {
        "id": "MqNVlV4WJ9I-"
      }
    },
    {
      "cell_type": "code",
      "source": [
        "\n",
        "# Creating empty array\n",
        "empty = np.empty((2,2)) # պատահական արժեքներ\n",
        "\n",
        "# Creating array with a constant value\n",
        "full = np.full((2,3), 7)\n",
        "\n",
        "print(empty)\n",
        "print(full)"
      ],
      "metadata": {
        "colab": {
          "base_uri": "https://localhost:8080/"
        },
        "id": "-vzjJwr-KB0s",
        "outputId": "631992e6-134e-4d5c-8ad2-a8e12322456e"
      },
      "execution_count": null,
      "outputs": [
        {
          "output_type": "stream",
          "name": "stdout",
          "text": [
            "[[4.93405822e-310 0.00000000e+000]\n",
            " [            nan 2.73610137e-310]]\n",
            "[[7 7 7]\n",
            " [7 7 7]]\n"
          ]
        }
      ]
    },
    {
      "cell_type": "markdown",
      "source": [
        "## Միավոր մատրիցի ստեղծում"
      ],
      "metadata": {
        "id": "TL27QNa-LCTZ"
      }
    },
    {
      "cell_type": "code",
      "source": [
        "# Creating identity matrix\n",
        "miavor = np.eye(3)\n",
        "print(miavor)"
      ],
      "metadata": {
        "colab": {
          "base_uri": "https://localhost:8080/"
        },
        "id": "hUwE8SdfLEy9",
        "outputId": "2e0ec65b-879c-44d3-f04e-ab017ea66059"
      },
      "execution_count": null,
      "outputs": [
        {
          "output_type": "stream",
          "name": "stdout",
          "text": [
            "[[1. 0. 0.]\n",
            " [0. 1. 0.]\n",
            " [0. 0. 1.]]\n"
          ]
        }
      ]
    },
    {
      "cell_type": "markdown",
      "source": [
        "## պատահական արժենքերով"
      ],
      "metadata": {
        "id": "kkZXrVzgLSoX"
      }
    },
    {
      "cell_type": "code",
      "source": [
        "random_arr = np.random.rand(5)  #  հավասարաչափ բաշխում\n",
        "print(random_arr)\n",
        "print()\n",
        "random_arr = np.random.randn(3, 3) # Գաուսիան բաշխում\n",
        "print(random_arr)"
      ],
      "metadata": {
        "colab": {
          "base_uri": "https://localhost:8080/"
        },
        "id": "Okw6qjDaLVzm",
        "outputId": "32eb2b2c-8f88-4b6d-fe64-a9d88ab0339d"
      },
      "execution_count": null,
      "outputs": [
        {
          "output_type": "stream",
          "name": "stdout",
          "text": [
            "[0.00767968 0.22935734 0.09000314 0.51591401 0.61932715]\n",
            "\n",
            "[[ 0.23079529  0.09477331 -0.32753806]\n",
            " [ 1.43665515 -1.27970012  0.23436188]\n",
            " [-2.00709469  0.60254956 -0.76903018]]\n"
          ]
        }
      ]
    },
    {
      "cell_type": "markdown",
      "source": [
        "## մեր ուզած միջակայքով"
      ],
      "metadata": {
        "id": "0zjBAZSSMC9O"
      }
    },
    {
      "cell_type": "code",
      "source": [
        "# Creating sequence of numbers\n",
        "nums = np.arange(0, 10, 2) # range-ի նման\n",
        "print(nums)\n",
        "\n",
        "nums = np.arange(0, 10, 0.5) # բայց ավելի ճկուն\n",
        "print(nums)"
      ],
      "metadata": {
        "colab": {
          "base_uri": "https://localhost:8080/"
        },
        "id": "L7kAZEgiJGP4",
        "outputId": "636f7804-dcce-480f-ebf6-580b8d8a4344"
      },
      "execution_count": null,
      "outputs": [
        {
          "output_type": "stream",
          "name": "stdout",
          "text": [
            "[0 2 4 6 8]\n",
            "[0.  0.5 1.  1.5 2.  2.5 3.  3.5 4.  4.5 5.  5.5 6.  6.5 7.  7.5 8.  8.5\n",
            " 9.  9.5]\n"
          ]
        }
      ]
    },
    {
      "cell_type": "code",
      "source": [
        "nums = np.linspace(0, 1, 4) # հավասարաչափ բաշխված (որ թվից, մինչև որը, քանի հատ)\n",
        "print(nums)"
      ],
      "metadata": {
        "colab": {
          "base_uri": "https://localhost:8080/"
        },
        "id": "PHsfwfXjMI22",
        "outputId": "766b237b-2648-4ab5-abeb-5461a0f4bd3b"
      },
      "execution_count": null,
      "outputs": [
        {
          "output_type": "stream",
          "name": "stdout",
          "text": [
            "[0.         0.33333333 0.66666667 1.        ]\n"
          ]
        }
      ]
    },
    {
      "cell_type": "markdown",
      "source": [
        "# Array indexing/slicing"
      ],
      "metadata": {
        "id": "tH40mBWQMaqm"
      }
    },
    {
      "cell_type": "markdown",
      "source": [
        "<img src=\"https://numpy.org/doc/stable/_images/np_indexing.png\">"
      ],
      "metadata": {
        "id": "07J1yRP0MtAF"
      }
    },
    {
      "cell_type": "code",
      "source": [
        "data = np.array([1,2,3])"
      ],
      "metadata": {
        "id": "tGkJTZ2_Me87"
      },
      "execution_count": null,
      "outputs": []
    },
    {
      "cell_type": "code",
      "source": [
        "data[-2:]"
      ],
      "metadata": {
        "colab": {
          "base_uri": "https://localhost:8080/"
        },
        "id": "HTNGEBgTMzz6",
        "outputId": "b76dd793-bbe3-4a55-f7a5-cf2b4f8c83a3"
      },
      "execution_count": null,
      "outputs": [
        {
          "output_type": "execute_result",
          "data": {
            "text/plain": [
              "array([2, 3])"
            ]
          },
          "metadata": {},
          "execution_count": 19
        }
      ]
    },
    {
      "cell_type": "markdown",
      "source": [
        "## միաչափ զանգված"
      ],
      "metadata": {
        "id": "bxF-RQSuN7XE"
      }
    },
    {
      "cell_type": "code",
      "source": [
        "\n",
        "# Create a 1D array\n",
        "one_dim_array = np.arange(1, 11)\n",
        "\n",
        "print(\"Original 1D array:\")\n",
        "print(one_dim_array)\n",
        "\n",
        "# Indexing in a 1D array\n",
        "print(\"\\nIndexing in a 1D array:\")\n",
        "print(\"Element at index 3:\", one_dim_array[3])  # Prints the element at index 3 (4th element since index starts at 0)\n",
        "\n",
        "# Slicing in a 1D array\n",
        "print(\"\\nSlicing in a 1D array:\")\n",
        "print(\"Elements from index 2 to 7:\", one_dim_array[2:8])  # Print elements from index 2 to 7 (3rd to 8th element)\n"
      ],
      "metadata": {
        "colab": {
          "base_uri": "https://localhost:8080/"
        },
        "id": "8fi1k3BnN64O",
        "outputId": "9db31fa8-a7f6-48c6-e8ae-2b0edec5dff1"
      },
      "execution_count": null,
      "outputs": [
        {
          "output_type": "stream",
          "name": "stdout",
          "text": [
            "Original 1D array:\n",
            "[ 1  2  3  4  5  6  7  8  9 10]\n",
            "\n",
            "Indexing in a 1D array:\n",
            "Element at index 3: 4\n",
            "\n",
            "Slicing in a 1D array:\n",
            "Elements from index 2 to 7: [3 4 5 6 7 8]\n"
          ]
        }
      ]
    },
    {
      "cell_type": "markdown",
      "source": [
        "### Երկչափ զանգված"
      ],
      "metadata": {
        "id": "LqaarALuOHvE"
      }
    },
    {
      "cell_type": "code",
      "source": [
        "# Create a 2D array\n",
        "two_dim_array = np.array([[1, 2, 3, 4, 5],\n",
        "                          [6, 7, 8, 9, 10],\n",
        "                          [11, 12, 13, 14, 15],\n",
        "                          [16, 17, 18, 19, 20],\n",
        "                          [21, 22, 23, 24, 25]])\n",
        "\n",
        "print(\"\\nOriginal 2D array:\")\n",
        "print(two_dim_array)"
      ],
      "metadata": {
        "colab": {
          "base_uri": "https://localhost:8080/"
        },
        "id": "KLd7qYu6OMC0",
        "outputId": "a2539ce7-fa47-4a83-9c80-4388e70e6576"
      },
      "execution_count": null,
      "outputs": [
        {
          "output_type": "stream",
          "name": "stdout",
          "text": [
            "\n",
            "Original 2D array:\n",
            "[[ 1  2  3  4  5]\n",
            " [ 6  7  8  9 10]\n",
            " [11 12 13 14 15]\n",
            " [16 17 18 19 20]\n",
            " [21 22 23 24 25]]\n"
          ]
        }
      ]
    },
    {
      "cell_type": "code",
      "source": [
        "\n",
        "# Indexing in a 2D array\n",
        "print(\"\\nIndexing in a 2D array:\")\n",
        "print(\"Element at row index 2 and column index 3:\", two_dim_array[:2, 3])  # Prints the element at 3rd row and 4th column\n",
        "print(two_dim_array[2])\n",
        "print(two_dim_array[2][3])"
      ],
      "metadata": {
        "colab": {
          "base_uri": "https://localhost:8080/"
        },
        "id": "jgesK-2BORZC",
        "outputId": "67f90b47-0860-4e4a-a1ec-f8a9ffbc3c4d"
      },
      "execution_count": null,
      "outputs": [
        {
          "output_type": "stream",
          "name": "stdout",
          "text": [
            "\n",
            "Indexing in a 2D array:\n",
            "Element at row index 2 and column index 3: [4 9]\n",
            "[11 12 13 14 15]\n",
            "14\n"
          ]
        }
      ]
    },
    {
      "cell_type": "code",
      "source": [
        "# Slicing in a 2D array\n",
        "print(\"\\nSlicing in a 2D array:\")\n",
        "print(\"First two rows:\\n\", two_dim_array[:2, :])  # Prints the first two rows of all columns\n",
        "print(\"Last three columns:\\n\", two_dim_array[:, -3:])  # Prints the last three columns of all rows\n",
        "print(\"Subarray from row indices 1 to 3 and column indices 2 to 4:\\n\", two_dim_array[1:4, 2:5])  # Prints the subarray from 2nd to 4th row and 3rd to 5th column\n"
      ],
      "metadata": {
        "colab": {
          "base_uri": "https://localhost:8080/"
        },
        "id": "bhJVsSDdOVbb",
        "outputId": "ff6fce61-c874-4cc4-d343-5b8d5d674a50"
      },
      "execution_count": null,
      "outputs": [
        {
          "output_type": "stream",
          "name": "stdout",
          "text": [
            "\n",
            "Slicing in a 2D array:\n",
            "First two rows:\n",
            " [[ 1  2  3  4  5]\n",
            " [ 6  7  8  9 10]]\n",
            "Last three columns:\n",
            " [[ 3  4  5]\n",
            " [ 8  9 10]\n",
            " [13 14 15]\n",
            " [18 19 20]\n",
            " [23 24 25]]\n",
            "Subarray from row indices 1 to 3 and column indices 2 to 4:\n",
            " [[ 8  9 10]\n",
            " [13 14 15]\n",
            " [18 19 20]]\n"
          ]
        }
      ]
    },
    {
      "cell_type": "code",
      "source": [
        "\n",
        "\n",
        "# Slicing only selected rows and columns\n",
        "print(\"\\nSlicing only selected rows and columns:\")\n",
        "rows = np.array([1, 3, 4])  # Select 2nd, 4th and 5th rows\n",
        "print(\"Selected rows:\\n\", two_dim_array[rows])  # Prints the selected rows\n",
        "\n",
        "cols = np.array([0,4])\n",
        "print(\"Selected cols:\\n\", two_dim_array[:, cols])  # Prints the selected columns"
      ],
      "metadata": {
        "colab": {
          "base_uri": "https://localhost:8080/"
        },
        "id": "zGu3vAvgM2K6",
        "outputId": "ca32c351-88f7-4211-9eea-843240b6513e"
      },
      "execution_count": null,
      "outputs": [
        {
          "output_type": "stream",
          "name": "stdout",
          "text": [
            "\n",
            "Slicing only selected rows and columns:\n",
            "Selected rows:\n",
            " [[ 6  7  8  9 10]\n",
            " [16 17 18 19 20]\n",
            " [21 22 23 24 25]]\n",
            "Selected cols:\n",
            " [[ 1  5]\n",
            " [ 6 10]\n",
            " [11 15]\n",
            " [16 20]\n",
            " [21 25]]\n"
          ]
        }
      ]
    },
    {
      "cell_type": "markdown",
      "source": [
        "## Տրամաբանական ընտրություն (boolian indexing)"
      ],
      "metadata": {
        "id": "P0-105CkPGjt"
      }
    },
    {
      "cell_type": "code",
      "source": [
        "a = np.array([1, 2, 3, 4, 5])"
      ],
      "metadata": {
        "id": "IRYUzBlfPFzS"
      },
      "execution_count": null,
      "outputs": []
    },
    {
      "cell_type": "code",
      "source": [
        "a[[True, True, False, True, False]]"
      ],
      "metadata": {
        "colab": {
          "base_uri": "https://localhost:8080/"
        },
        "id": "41qx_u5pPa-n",
        "outputId": "2d7f21eb-29b9-4839-919c-6af1dfa4fe40"
      },
      "execution_count": null,
      "outputs": [
        {
          "output_type": "execute_result",
          "data": {
            "text/plain": [
              "array([1, 2, 4])"
            ]
          },
          "metadata": {},
          "execution_count": 30
        }
      ]
    },
    {
      "cell_type": "code",
      "source": [
        "a = [1, 2, 3, 4, 5]\n",
        "\n",
        "print([i for i in a if i >= 4])"
      ],
      "metadata": {
        "colab": {
          "base_uri": "https://localhost:8080/"
        },
        "id": "wIJ_iPeANJFq",
        "outputId": "70147cdc-6784-4a8f-b354-9309929ca57b"
      },
      "execution_count": null,
      "outputs": [
        {
          "output_type": "stream",
          "name": "stdout",
          "text": [
            "[4, 5]\n"
          ]
        }
      ]
    },
    {
      "cell_type": "code",
      "source": [
        "a >= 4"
      ],
      "metadata": {
        "colab": {
          "base_uri": "https://localhost:8080/",
          "height": 141
        },
        "id": "6eGOjRAtNTsW",
        "outputId": "4e8396cf-44de-4c17-c548-ab6b0526af72"
      },
      "execution_count": null,
      "outputs": [
        {
          "output_type": "error",
          "ename": "TypeError",
          "evalue": "'>=' not supported between instances of 'list' and 'int'",
          "traceback": [
            "\u001b[0;31m---------------------------------------------------------------------------\u001b[0m",
            "\u001b[0;31mTypeError\u001b[0m                                 Traceback (most recent call last)",
            "\u001b[0;32m<ipython-input-32-632da6ba24f4>\u001b[0m in \u001b[0;36m<cell line: 1>\u001b[0;34m()\u001b[0m\n\u001b[0;32m----> 1\u001b[0;31m \u001b[0ma\u001b[0m \u001b[0;34m>=\u001b[0m \u001b[0;36m4\u001b[0m\u001b[0;34m\u001b[0m\u001b[0;34m\u001b[0m\u001b[0m\n\u001b[0m",
            "\u001b[0;31mTypeError\u001b[0m: '>=' not supported between instances of 'list' and 'int'"
          ]
        }
      ]
    },
    {
      "cell_type": "code",
      "source": [
        "a = np.array(a)"
      ],
      "metadata": {
        "id": "zpMASqKBypdR"
      },
      "execution_count": null,
      "outputs": []
    },
    {
      "cell_type": "code",
      "source": [
        "a >= 4"
      ],
      "metadata": {
        "colab": {
          "base_uri": "https://localhost:8080/"
        },
        "id": "wBN8TL7zyrqd",
        "outputId": "a366ecda-4702-4a47-b611-c05caff1f482"
      },
      "execution_count": null,
      "outputs": [
        {
          "output_type": "execute_result",
          "data": {
            "text/plain": [
              "array([False, False, False,  True,  True])"
            ]
          },
          "metadata": {},
          "execution_count": 35
        }
      ]
    },
    {
      "cell_type": "code",
      "source": [
        "a[a >= 4]"
      ],
      "metadata": {
        "colab": {
          "base_uri": "https://localhost:8080/"
        },
        "id": "RbTBSlU7NeaP",
        "outputId": "d557ae39-1146-4459-8162-2e7f44a04235"
      },
      "execution_count": null,
      "outputs": [
        {
          "output_type": "execute_result",
          "data": {
            "text/plain": [
              "array([4, 5])"
            ]
          },
          "metadata": {},
          "execution_count": 36
        }
      ]
    },
    {
      "cell_type": "code",
      "source": [
        "a[a % 2 == 0]"
      ],
      "metadata": {
        "colab": {
          "base_uri": "https://localhost:8080/"
        },
        "id": "2isn4u1g9KJm",
        "outputId": "992fce12-c802-41e3-c1c2-84b0f597684d"
      },
      "execution_count": null,
      "outputs": [
        {
          "output_type": "execute_result",
          "data": {
            "text/plain": [
              "array([2, 4])"
            ]
          },
          "metadata": {},
          "execution_count": 37
        }
      ]
    },
    {
      "cell_type": "code",
      "source": [
        "a[(a > 3) | (a % 2 == 0)] # or -> |\n",
        "\n",
        "# lst = []\n",
        "# for a1 in [1,2,3,4,5]:\n",
        "#     if (a1 > 3) or (a1 % 2 == 0):\n",
        "#          lst.append(True)\n",
        "#     else:\n",
        "#         lst.append(False)\n",
        "\n",
        "# lst"
      ],
      "metadata": {
        "colab": {
          "base_uri": "https://localhost:8080/"
        },
        "id": "sZQAOArPOek5",
        "outputId": "adb24790-5da3-4ece-fc50-a04c5c5683aa"
      },
      "execution_count": null,
      "outputs": [
        {
          "output_type": "execute_result",
          "data": {
            "text/plain": [
              "array([2, 4, 5])"
            ]
          },
          "metadata": {},
          "execution_count": 38
        }
      ]
    },
    {
      "cell_type": "code",
      "source": [
        "a[(a > 3) & (a % 2 == 0)] # and -> &"
      ],
      "metadata": {
        "colab": {
          "base_uri": "https://localhost:8080/"
        },
        "id": "ZfaJjj3hPYGB",
        "outputId": "e30ae144-c73d-4dd6-993b-27262f68b551"
      },
      "execution_count": null,
      "outputs": [
        {
          "output_type": "execute_result",
          "data": {
            "text/plain": [
              "array([4])"
            ]
          },
          "metadata": {},
          "execution_count": 39
        }
      ]
    },
    {
      "cell_type": "code",
      "source": [
        "a[(a > 3) & (a % 2 == 0)]"
      ],
      "metadata": {
        "colab": {
          "base_uri": "https://localhost:8080/"
        },
        "id": "zBnMtnh3PZ2s",
        "outputId": "e049a4d8-fb1c-4eb9-dac1-49afe988837a"
      },
      "execution_count": null,
      "outputs": [
        {
          "output_type": "execute_result",
          "data": {
            "text/plain": [
              "array([4])"
            ]
          },
          "metadata": {},
          "execution_count": 48
        }
      ]
    },
    {
      "cell_type": "code",
      "source": [
        "a[(a > 3) | (a == 1)]"
      ],
      "metadata": {
        "colab": {
          "base_uri": "https://localhost:8080/"
        },
        "id": "GkvITwlePkrl",
        "outputId": "946cf2ed-3234-4cf8-ce69-d46598102aae"
      },
      "execution_count": null,
      "outputs": [
        {
          "output_type": "execute_result",
          "data": {
            "text/plain": [
              "array([1, 4, 5])"
            ]
          },
          "metadata": {},
          "execution_count": 49
        }
      ]
    },
    {
      "cell_type": "markdown",
      "source": [
        "## 2D"
      ],
      "metadata": {
        "id": "-iMwQyCDQCU2"
      }
    },
    {
      "cell_type": "code",
      "source": [
        "two_dim_array = np.array([[1, 2, 3],\n",
        "                          [4, 5, 6],\n",
        "                          [7, 8, 9]])\n",
        "\n",
        "print(\"\\nOriginal 2D array:\")\n",
        "print(two_dim_array)\n",
        "\n",
        "# Boolean indexing in a 2D array - let's select elements greater than 5\n",
        "print(\"\\nElements greater than 5:\")\n",
        "\n",
        "print(two_dim_array > 5)\n",
        "print(two_dim_array[two_dim_array > 5])\n",
        "\n",
        "# We can also change elements based on a condition\n",
        "two_dim_array[two_dim_array > 5] = 0\n",
        "\n",
        "print(\"\\n2D array after setting elements greater than 5 to 0:\")\n",
        "print(two_dim_array)"
      ],
      "metadata": {
        "colab": {
          "base_uri": "https://localhost:8080/"
        },
        "id": "_zh6fBcePpLR",
        "outputId": "5739b128-ec30-4332-9cdd-bd88cec9ea53"
      },
      "execution_count": null,
      "outputs": [
        {
          "output_type": "stream",
          "name": "stdout",
          "text": [
            "\n",
            "Original 2D array:\n",
            "[[1 2 3]\n",
            " [4 5 6]\n",
            " [7 8 9]]\n",
            "\n",
            "Elements greater than 5:\n",
            "[[False False False]\n",
            " [False False  True]\n",
            " [ True  True  True]]\n",
            "[6 7 8 9]\n",
            "\n",
            "2D array after setting elements greater than 5 to 0:\n",
            "[[1 2 3]\n",
            " [4 5 0]\n",
            " [0 0 0]]\n"
          ]
        }
      ]
    },
    {
      "cell_type": "code",
      "source": [
        "# We can also apply conditions to specific rows or columns\n",
        "print(two_dim_array)\n",
        "print(two_dim_array[0, :] > 2)\n",
        "\n",
        "print(\"\\nElements greater than 2 in the first row:\")\n",
        "print(two_dim_array[0, two_dim_array[0, :] > 2])\n",
        "\n",
        "print(\"\\nElements less than 3 in the second column:\")\n",
        "print(two_dim_array[two_dim_array[:, 1] < 3, 1])"
      ],
      "metadata": {
        "colab": {
          "base_uri": "https://localhost:8080/"
        },
        "id": "Zf6qp6_TQGmK",
        "outputId": "fa48b2b8-c4ff-4751-bce0-82091d79e0ec"
      },
      "execution_count": null,
      "outputs": [
        {
          "output_type": "stream",
          "name": "stdout",
          "text": [
            "[[1 2 3]\n",
            " [4 5 0]\n",
            " [0 0 0]]\n",
            "[False False  True]\n",
            "\n",
            "Elements greater than 2 in the first row:\n",
            "[3]\n",
            "\n",
            "Elements less than 3 in the second column:\n",
            "[2 0]\n"
          ]
        }
      ]
    },
    {
      "cell_type": "markdown",
      "source": [
        "# չափողականության փոփոխում (reshape, transpose, flatten)"
      ],
      "metadata": {
        "id": "StNW4uNURD0I"
      }
    },
    {
      "cell_type": "code",
      "source": [
        "# Create a 1D array\n",
        "one_dim_array = np.arange(1, 16)\n",
        "\n",
        "print(\"Original 1D array:\")\n",
        "print(one_dim_array)\n"
      ],
      "metadata": {
        "colab": {
          "base_uri": "https://localhost:8080/"
        },
        "id": "OdA6yA5mRH0x",
        "outputId": "1d95a3e3-c3f1-4f94-c322-52baff4d480f"
      },
      "execution_count": null,
      "outputs": [
        {
          "output_type": "stream",
          "name": "stdout",
          "text": [
            "Original 1D array:\n",
            "[ 1  2  3  4  5  6  7  8  9 10 11 12 13 14 15]\n"
          ]
        }
      ]
    },
    {
      "cell_type": "markdown",
      "source": [
        "## reshape"
      ],
      "metadata": {
        "id": "g1yIVqD0UXBK"
      }
    },
    {
      "cell_type": "code",
      "source": [
        "# Reshaping a 1D array to a 2D array\n",
        "two_dim_array = one_dim_array.reshape((5, 3))\n",
        "\n",
        "print(\"\\nReshaped 2D array:\")\n",
        "print(two_dim_array)\n",
        "\n",
        "# Reshaping a 1D array to a 2D array\n",
        "two_dim_array = one_dim_array.reshape((5, -1))\n",
        "print(two_dim_array)\n"
      ],
      "metadata": {
        "colab": {
          "base_uri": "https://localhost:8080/"
        },
        "id": "1qgPS8K4UPZq",
        "outputId": "b2538450-9c60-40da-ee9d-c33bfacada16"
      },
      "execution_count": null,
      "outputs": [
        {
          "output_type": "stream",
          "name": "stdout",
          "text": [
            "\n",
            "Reshaped 2D array:\n",
            "[[ 1  2  3]\n",
            " [ 4  5  6]\n",
            " [ 7  8  9]\n",
            " [10 11 12]\n",
            " [13 14 15]]\n",
            "[[ 1  2  3]\n",
            " [ 4  5  6]\n",
            " [ 7  8  9]\n",
            " [10 11 12]\n",
            " [13 14 15]]\n"
          ]
        }
      ]
    },
    {
      "cell_type": "code",
      "source": [
        "auto_reshaped_array = one_dim_array.reshape((3, -1))\n",
        "\n",
        "print(\"\\nAutomatically reshaped 2D array:\")\n",
        "print(auto_reshaped_array)"
      ],
      "metadata": {
        "colab": {
          "base_uri": "https://localhost:8080/"
        },
        "id": "ZybDFfU2UPct",
        "outputId": "7e8e0503-d3c5-4914-a0c1-64ea071c592f"
      },
      "execution_count": null,
      "outputs": [
        {
          "output_type": "stream",
          "name": "stdout",
          "text": [
            "\n",
            "Automatically reshaped 2D array:\n",
            "[[ 1  2  3  4  5]\n",
            " [ 6  7  8  9 10]\n",
            " [11 12 13 14 15]]\n"
          ]
        }
      ]
    },
    {
      "cell_type": "code",
      "source": [
        "\n",
        "# Similarly, we can automatically reshape to 2D array with a specific number of columns and auto-calculated number of rows\n",
        "auto_reshaped_array = one_dim_array.reshape((-1, 3))\n",
        "print(auto_reshaped_array)"
      ],
      "metadata": {
        "colab": {
          "base_uri": "https://localhost:8080/"
        },
        "id": "bYoIkkQGUaka",
        "outputId": "9877a199-16c8-44c8-979e-ad53f22def71"
      },
      "execution_count": null,
      "outputs": [
        {
          "output_type": "stream",
          "name": "stdout",
          "text": [
            "[[ 1  2  3]\n",
            " [ 4  5  6]\n",
            " [ 7  8  9]\n",
            " [10 11 12]\n",
            " [13 14 15]]\n"
          ]
        }
      ]
    },
    {
      "cell_type": "code",
      "source": [
        "auto_reshaped_array = one_dim_array.reshape((4, 4))\n"
      ],
      "metadata": {
        "colab": {
          "base_uri": "https://localhost:8080/",
          "height": 141
        },
        "id": "0IaQXWru0F52",
        "outputId": "fe41f7cb-99c7-4214-b6ca-fe32b99fedcf"
      },
      "execution_count": null,
      "outputs": [
        {
          "output_type": "error",
          "ename": "ValueError",
          "evalue": "cannot reshape array of size 15 into shape (4,4)",
          "traceback": [
            "\u001b[0;31m---------------------------------------------------------------------------\u001b[0m",
            "\u001b[0;31mValueError\u001b[0m                                Traceback (most recent call last)",
            "\u001b[0;32m<ipython-input-48-56683559b7b6>\u001b[0m in \u001b[0;36m<cell line: 1>\u001b[0;34m()\u001b[0m\n\u001b[0;32m----> 1\u001b[0;31m \u001b[0mauto_reshaped_array\u001b[0m \u001b[0;34m=\u001b[0m \u001b[0mone_dim_array\u001b[0m\u001b[0;34m.\u001b[0m\u001b[0mreshape\u001b[0m\u001b[0;34m(\u001b[0m\u001b[0;34m(\u001b[0m\u001b[0;36m4\u001b[0m\u001b[0;34m,\u001b[0m \u001b[0;36m4\u001b[0m\u001b[0;34m)\u001b[0m\u001b[0;34m)\u001b[0m\u001b[0;34m\u001b[0m\u001b[0;34m\u001b[0m\u001b[0m\n\u001b[0m",
            "\u001b[0;31mValueError\u001b[0m: cannot reshape array of size 15 into shape (4,4)"
          ]
        }
      ]
    },
    {
      "cell_type": "markdown",
      "source": [
        "## Transpose (առաջին տողը դառնումա առաջին սյուն, երկրորդը երկրորդ ․․․)"
      ],
      "metadata": {
        "id": "3FFaWF5SUolW"
      }
    },
    {
      "cell_type": "code",
      "source": [
        "print(two_dim_array)\n",
        "# Transposing a 2D array\n",
        "transposed_array = two_dim_array.T\n",
        "\n",
        "print(\"\\nTransposed 2D array:\")\n",
        "print(transposed_array)"
      ],
      "metadata": {
        "colab": {
          "base_uri": "https://localhost:8080/"
        },
        "id": "-VeqA8uwUt0-",
        "outputId": "2897e2ed-3df9-436a-8c72-13660219f141"
      },
      "execution_count": null,
      "outputs": [
        {
          "output_type": "stream",
          "name": "stdout",
          "text": [
            "[[ 1  2  3]\n",
            " [ 4  5  6]\n",
            " [ 7  8  9]\n",
            " [10 11 12]\n",
            " [13 14 15]]\n",
            "\n",
            "Transposed 2D array:\n",
            "[[ 1  4  7 10 13]\n",
            " [ 2  5  8 11 14]\n",
            " [ 3  6  9 12 15]]\n"
          ]
        }
      ]
    },
    {
      "cell_type": "markdown",
      "source": [
        "## flatten (տափակացում)"
      ],
      "metadata": {
        "id": "U4IWMxriU5PS"
      }
    },
    {
      "cell_type": "code",
      "source": [
        "print(two_dim_array)\n",
        "# Flattening a 2D array to a 1D array\n",
        "flattened_array = two_dim_array.flatten()\n",
        "\n",
        "print(\"\\nFlattened 1D array:\")\n",
        "print(flattened_array)"
      ],
      "metadata": {
        "colab": {
          "base_uri": "https://localhost:8080/"
        },
        "id": "92HjkPqqU4wu",
        "outputId": "2fe96ac5-d09e-43c0-f4ce-a4a433ecf314"
      },
      "execution_count": null,
      "outputs": [
        {
          "output_type": "stream",
          "name": "stdout",
          "text": [
            "[[ 1  2  3]\n",
            " [ 4  5  6]\n",
            " [ 7  8  9]\n",
            " [10 11 12]\n",
            " [13 14 15]]\n",
            "\n",
            "Flattened 1D array:\n",
            "[ 1  2  3  4  5  6  7  8  9 10 11 12 13 14 15]\n"
          ]
        }
      ]
    },
    {
      "cell_type": "markdown",
      "source": [
        "# Arrayի ատրիբուտներ"
      ],
      "metadata": {
        "id": "4PuZ3KgtVT6V"
      }
    },
    {
      "cell_type": "code",
      "source": [
        "import numpy as np\n",
        "\n",
        "# Create a 2D array\n",
        "two_dim_array = np.array([[1, 2, 3, 4], [5, 6, 7, 8]])\n",
        "\n",
        "print(\"Original 2D array:\")\n",
        "print(two_dim_array)\n",
        "\n",
        "# The number of axes (dimensions) of the array.\n",
        "print(\"\\nNumber of dimensions (ndim):\")\n",
        "print(two_dim_array.ndim)\n",
        "\n",
        "# The total number of elements of the array.\n",
        "print(\"\\nTotal number of elements (size):\")\n",
        "print(two_dim_array.size)\n",
        "\n",
        "# The shape of the array - tuple of integers indicating the size of the array in each dimension.\n",
        "print(\"\\nShape of the array:\")\n",
        "print(two_dim_array.shape)\n",
        "\n",
        "# An object describing the type of the elements in the array.\n",
        "print(\"\\nData type of the array elements (dtype):\")\n",
        "print(two_dim_array.dtype)"
      ],
      "metadata": {
        "id": "tdo0l81UVVva",
        "colab": {
          "base_uri": "https://localhost:8080/"
        },
        "outputId": "83df87cc-98e9-46b6-80ca-f0f71ecb8aa6"
      },
      "execution_count": null,
      "outputs": [
        {
          "output_type": "stream",
          "name": "stdout",
          "text": [
            "Original 2D array:\n",
            "[[1 2 3 4]\n",
            " [5 6 7 8]]\n",
            "\n",
            "Number of dimensions (ndim):\n",
            "2\n",
            "\n",
            "Total number of elements (size):\n",
            "8\n",
            "\n",
            "Shape of the array:\n",
            "(2, 4)\n",
            "\n",
            "Data type of the array elements (dtype):\n",
            "int64\n"
          ]
        }
      ]
    },
    {
      "cell_type": "code",
      "source": [
        "np.array([3, 5.2, \"abc\"])"
      ],
      "metadata": {
        "id": "tlxySAxDQ1mf",
        "colab": {
          "base_uri": "https://localhost:8080/"
        },
        "outputId": "b4ba9e6f-c6eb-4e23-8190-2839e1d2e17d"
      },
      "execution_count": null,
      "outputs": [
        {
          "output_type": "execute_result",
          "data": {
            "text/plain": [
              "array(['3', '5.2', 'abc'], dtype='<U32')"
            ]
          },
          "metadata": {},
          "execution_count": 52
        }
      ]
    },
    {
      "cell_type": "code",
      "source": [
        "np.array([3, 5.2]).dtype"
      ],
      "metadata": {
        "colab": {
          "base_uri": "https://localhost:8080/"
        },
        "id": "RLeuhZaiQX_z",
        "outputId": "51030ecd-24b2-45b7-9528-bad155c655d9"
      },
      "execution_count": null,
      "outputs": [
        {
          "output_type": "execute_result",
          "data": {
            "text/plain": [
              "dtype('float64')"
            ]
          },
          "metadata": {},
          "execution_count": 53
        }
      ]
    },
    {
      "cell_type": "markdown",
      "source": [
        "# Մաթեմատիկական գործողություններ"
      ],
      "metadata": {
        "id": "2-C6hQz5Z7aR"
      }
    },
    {
      "cell_type": "code",
      "source": [
        "import numpy as np\n",
        "\n",
        "# Create two 2D arrays\n",
        "array_1 = np.array([[1, 2], [3, 4]])\n",
        "array_2 = np.array([[5, 6], [7, 8]])\n",
        "\n",
        "array_3 = np.array([[5, 6, 7], [7, 8, 9]])\n",
        "\n",
        "print(\"Original arrays:\")\n",
        "print(\"Array 1:\")\n",
        "print(array_1)\n",
        "print(\"\\nArray 2:\")\n",
        "print(array_2)\n"
      ],
      "metadata": {
        "colab": {
          "base_uri": "https://localhost:8080/"
        },
        "id": "Ax011MvdV0Af",
        "outputId": "ee0c8282-0133-4c08-ea47-2ab51b5ce0c8"
      },
      "execution_count": null,
      "outputs": [
        {
          "output_type": "stream",
          "name": "stdout",
          "text": [
            "Original arrays:\n",
            "Array 1:\n",
            "[[1 2]\n",
            " [3 4]]\n",
            "\n",
            "Array 2:\n",
            "[[5 6]\n",
            " [7 8]]\n"
          ]
        }
      ]
    },
    {
      "cell_type": "markdown",
      "source": [
        "## որոշ հասարակ գործողություններ"
      ],
      "metadata": {
        "id": "cSCMKP75akth"
      }
    },
    {
      "cell_type": "code",
      "source": [
        "print(array_1)\n",
        "print(array_2)\n",
        "\n",
        "# Basic arithmetic operations\n",
        "print(\"\\nAddition of two arrays:\")\n",
        "print(array_1 + array_2)  # or np.add(array_1, array_2)\n",
        "print(np.add(array_1, array_2))\n",
        "\n",
        "print(\"\\nSubtraction of two arrays:\")\n",
        "print(array_1 - array_2)  # or np.subtract(array_1, array_2)\n",
        "\n",
        "print(\"\\nElementwise multiplication of two arrays:\")\n",
        "print(array_1 * array_2)  # or np.multiply(array_1, array_2)\n",
        "\n",
        "print(\"\\nDivision of two arrays:\")\n",
        "print(array_1 / array_2)  # or np.divide(array_1, array_2)\n",
        "\n",
        "print(\"\\nArray 1 to the power of array 2:\")\n",
        "print(array_1 ** array_2)  # or np.power(array_1, array_2)\n",
        "\n",
        "# և այլն (https://numpy.org/doc/stable/reference/ufuncs.html#available-ufuncs)"
      ],
      "metadata": {
        "colab": {
          "base_uri": "https://localhost:8080/"
        },
        "id": "XvPOO_mqabL1",
        "outputId": "9ed756ad-18c5-425b-ec65-abb7c7bdf5cc"
      },
      "execution_count": null,
      "outputs": [
        {
          "output_type": "stream",
          "name": "stdout",
          "text": [
            "[[1 2]\n",
            " [3 4]]\n",
            "[[5 6]\n",
            " [7 8]]\n",
            "\n",
            "Addition of two arrays:\n",
            "[[ 6  8]\n",
            " [10 12]]\n",
            "[[ 6  8]\n",
            " [10 12]]\n",
            "\n",
            "Subtraction of two arrays:\n",
            "[[-4 -4]\n",
            " [-4 -4]]\n",
            "\n",
            "Elementwise multiplication of two arrays:\n",
            "[[ 5 12]\n",
            " [21 32]]\n",
            "\n",
            "Division of two arrays:\n",
            "[[0.2        0.33333333]\n",
            " [0.42857143 0.5       ]]\n",
            "\n",
            "Array 1 to the power of array 2:\n",
            "[[    1    64]\n",
            " [ 2187 65536]]\n"
          ]
        }
      ]
    },
    {
      "cell_type": "markdown",
      "source": [
        "## Եռանկյունաչափական ֆունկցիաներ, լոգարիթմ, էքսպոնենտ"
      ],
      "metadata": {
        "id": "wKRKFiKBanzS"
      }
    },
    {
      "cell_type": "code",
      "source": [
        "# Trigonometric operations\n",
        "print(array_1)\n",
        "\n",
        "print(\"\\nSin values of array 1:\")\n",
        "print(np.sin(array_1))\n",
        "\n",
        "print(\"\\nCos values of array 1:\")\n",
        "print(np.cos(array_1))\n",
        "\n",
        "print(\"\\nTan values of array 1:\")\n",
        "print(np.tan(array_1))\n",
        "\n",
        "print(\"\\nArctan values of array 1:\")\n",
        "print(np.arctan(array_1))\n"
      ],
      "metadata": {
        "colab": {
          "base_uri": "https://localhost:8080/"
        },
        "id": "7imutCu_aAhG",
        "outputId": "a726c4da-7c7f-472c-8f00-76855c73fe84"
      },
      "execution_count": null,
      "outputs": [
        {
          "output_type": "stream",
          "name": "stdout",
          "text": [
            "[[1 2]\n",
            " [3 4]]\n",
            "\n",
            "Sin values of array 1:\n",
            "[[ 0.84147098  0.90929743]\n",
            " [ 0.14112001 -0.7568025 ]]\n",
            "\n",
            "Cos values of array 1:\n",
            "[[ 0.54030231 -0.41614684]\n",
            " [-0.9899925  -0.65364362]]\n",
            "\n",
            "Tan values of array 1:\n",
            "[[ 1.55740772 -2.18503986]\n",
            " [-0.14254654  1.15782128]]\n",
            "\n",
            "Arctan values of array 1:\n",
            "[[0.78539816 1.10714872]\n",
            " [1.24904577 1.32581766]]\n"
          ]
        }
      ]
    },
    {
      "cell_type": "code",
      "source": [
        "# Exponential and logarithmic operations\n",
        "print(array_1)\n",
        "\n",
        "print(\"\\nExponential values of array 1:\")\n",
        "print(np.exp(array_1))\n",
        "\n",
        "print(\"\\nNatural logarithm values of array 1:\")\n",
        "print(np.log(array_1))\n",
        "\n",
        "print(\"\\nBase 10 logarithm values of array 1:\")\n",
        "print(np.log10(array_1))\n",
        "\n",
        "print(\"\\nBase 2 logarithm values of array 1:\")\n",
        "print(np.log2(array_1))"
      ],
      "metadata": {
        "colab": {
          "base_uri": "https://localhost:8080/"
        },
        "id": "pa0WEVkTb1eH",
        "outputId": "a09db895-6090-4518-e78c-14f9edcab099"
      },
      "execution_count": null,
      "outputs": [
        {
          "output_type": "stream",
          "name": "stdout",
          "text": [
            "[[1 2]\n",
            " [3 4]]\n",
            "\n",
            "Exponential values of array 1:\n",
            "[[ 2.71828183  7.3890561 ]\n",
            " [20.08553692 54.59815003]]\n",
            "\n",
            "Natural logarithm values of array 1:\n",
            "[[0.         0.69314718]\n",
            " [1.09861229 1.38629436]]\n",
            "\n",
            "Base 10 logarithm values of array 1:\n",
            "[[0.         0.30103   ]\n",
            " [0.47712125 0.60205999]]\n",
            "\n",
            "Base 2 logarithm values of array 1:\n",
            "[[0.        1.       ]\n",
            " [1.5849625 2.       ]]\n"
          ]
        }
      ]
    },
    {
      "cell_type": "markdown",
      "source": [
        "## Հասարակ ագրեգացնող ֆունցկիաներ"
      ],
      "metadata": {
        "id": "2SJ52si3et0o"
      }
    },
    {
      "cell_type": "code",
      "source": [
        "# Create a 2D array\n",
        "two_dim_array = np.array([[1, 2, 3], [4, 5, 6]])\n",
        "\n",
        "print(\"Original 2D array:\")\n",
        "print(two_dim_array)\n",
        "\n",
        "# Sum of all elements\n",
        "print(\"\\nSum of all elements:\")\n",
        "print(np.sum(two_dim_array))  # can also use two_dim_array.sum()\n",
        "\n",
        "# Column-wise sum\n",
        "print(\"\\nColumn-wise sum:\")\n",
        "print(np.sum(two_dim_array, axis=0))  # can also use two_dim_array.sum(axis=0)\n",
        "# two_dim_array.sum(axis=0)\n",
        "\n",
        "# Row-wise sum\n",
        "print(\"\\nRow-wise sum:\")\n",
        "print(np.sum(two_dim_array, axis=1))  # can also use two_dim_array.sum(axis=1)\n"
      ],
      "metadata": {
        "colab": {
          "base_uri": "https://localhost:8080/"
        },
        "id": "2VPP_GDweyLH",
        "outputId": "46ca78af-29ca-47a0-d970-169154f600c7"
      },
      "execution_count": null,
      "outputs": [
        {
          "output_type": "stream",
          "name": "stdout",
          "text": [
            "Original 2D array:\n",
            "[[1 2 3]\n",
            " [4 5 6]]\n",
            "\n",
            "Sum of all elements:\n",
            "21\n",
            "\n",
            "Column-wise sum:\n",
            "[5 7 9]\n",
            "\n",
            "Row-wise sum:\n",
            "[ 6 15]\n"
          ]
        }
      ]
    },
    {
      "cell_type": "markdown",
      "source": [
        "<img src=\"https://i.stack.imgur.com/DL0iQ.jpg\">"
      ],
      "metadata": {
        "id": "tES6oVedfEwX"
      }
    },
    {
      "cell_type": "code",
      "source": [
        "# Product of all elements\n",
        "print(\"\\nProduct of all elements:\")\n",
        "print(np.prod(two_dim_array))\n",
        "\n",
        "# Column-wise product\n",
        "print(\"\\nColumn-wise product:\")\n",
        "print(np.prod(two_dim_array, axis=0))\n",
        "\n",
        "# Row-wise product\n",
        "print(\"\\nRow-wise product:\")\n",
        "print(np.prod(two_dim_array, axis=1))\n"
      ],
      "metadata": {
        "colab": {
          "base_uri": "https://localhost:8080/"
        },
        "id": "9bkuRpAYe1GE",
        "outputId": "5cddcabb-ca27-4c14-f749-dc95d6815c08"
      },
      "execution_count": null,
      "outputs": [
        {
          "output_type": "stream",
          "name": "stdout",
          "text": [
            "\n",
            "Product of all elements:\n",
            "720\n",
            "\n",
            "Column-wise product:\n",
            "[ 4 10 18]\n",
            "\n",
            "Row-wise product:\n",
            "[  6 120]\n"
          ]
        }
      ]
    },
    {
      "cell_type": "code",
      "source": [
        "#  մեր մեջ ասած սա էդքան էլ ագրագացնողների շարքին չի պատկանում ուղակի ավելի հարմար տեղ չգտա ներառելու\n",
        "print(array_1)\n",
        "print(\"\\nCumulative sum of elements in array 1:\")\n",
        "print(np.cumsum(array_1))\n",
        "\n",
        "print(\"\\nCumulative product of elements in array 1:\")\n",
        "print(np.cumprod(array_1))"
      ],
      "metadata": {
        "colab": {
          "base_uri": "https://localhost:8080/"
        },
        "id": "qofTkwMvnTVd",
        "outputId": "752a2e7d-4940-42c5-8f62-40f0e0920c04"
      },
      "execution_count": null,
      "outputs": [
        {
          "output_type": "stream",
          "name": "stdout",
          "text": [
            "[[1 2]\n",
            " [3 4]]\n",
            "\n",
            "Cumulative sum of elements in array 1:\n",
            "[ 1  3  6 10]\n",
            "\n",
            "Cumulative product of elements in array 1:\n",
            "[ 1  2  6 24]\n"
          ]
        }
      ]
    },
    {
      "cell_type": "code",
      "source": [
        "# Minimum element\n",
        "print(\"\\nMinimum element:\")\n",
        "print(np.min(two_dim_array))\n",
        "\n",
        "# Column-wise minimum\n",
        "print(\"\\nColumn-wise minimum:\")\n",
        "print(np.min(two_dim_array, axis=0))\n",
        "\n",
        "# Row-wise minimum\n",
        "print(\"\\nRow-wise minimum:\")\n",
        "print(np.min(two_dim_array, axis=1))\n",
        "\n",
        "# maximumը հանգունորեն"
      ],
      "metadata": {
        "colab": {
          "base_uri": "https://localhost:8080/"
        },
        "id": "KOKpSP0jfKDu",
        "outputId": "33de3eab-cf69-4188-a333-5d0e4831542e"
      },
      "execution_count": null,
      "outputs": [
        {
          "output_type": "stream",
          "name": "stdout",
          "text": [
            "\n",
            "Minimum element:\n",
            "1\n",
            "\n",
            "Column-wise minimum:\n",
            "[1 2 3]\n",
            "\n",
            "Row-wise minimum:\n",
            "[1 4]\n"
          ]
        }
      ]
    },
    {
      "cell_type": "markdown",
      "source": [
        "## Վիճակագրական ֆունկցիաներ"
      ],
      "metadata": {
        "id": "1ZsedbxqeBO1"
      }
    },
    {
      "cell_type": "code",
      "source": [
        "print(array_1)\n",
        "\n",
        "print(\"\\nMean of elements in array 1:\")\n",
        "print(np.mean(array_1))\n",
        "\n",
        "print(\"\\nMedian of elements in array 1:\")\n",
        "print(np.median(array_1))\n",
        "\n",
        "print(\"\\nStandard column-wise deviation of elements in array 1:\")\n",
        "print(np.std(array_1, axis=1)) # կարանք նույն ձև ստեղ օգտագործենք axis=1\n",
        "\n",
        "print(\"\\nVariance of elements in array 1:\")\n",
        "print(np.var(array_1))"
      ],
      "metadata": {
        "colab": {
          "base_uri": "https://localhost:8080/"
        },
        "id": "kUETCBBHeEZ5",
        "outputId": "cebda945-3dab-4ed0-cb80-9df4c900ca05"
      },
      "execution_count": null,
      "outputs": [
        {
          "output_type": "stream",
          "name": "stdout",
          "text": [
            "[[1 2]\n",
            " [3 4]]\n",
            "\n",
            "Mean of elements in array 1:\n",
            "2.5\n",
            "\n",
            "Median of elements in array 1:\n",
            "2.5\n",
            "\n",
            "Standard column-wise deviation of elements in array 1:\n",
            "[0.5 0.5]\n",
            "\n",
            "Variance of elements in array 1:\n",
            "1.25\n"
          ]
        }
      ]
    },
    {
      "cell_type": "markdown",
      "source": [
        "## Գծային հանրահաշվի ֆունկցիաներ"
      ],
      "metadata": {
        "id": "QXpJ75RzfjEd"
      }
    },
    {
      "cell_type": "code",
      "source": [
        "print(array_1)\n",
        "print(array_2)\n",
        "\n",
        "# Matrix multiplication\n",
        "print(\"\\nMatrix multiplication of two arrays:\")\n",
        "print(np.matmul(array_1, array_2))  # or array_1 @ array_2\n",
        "\n",
        "# Dot product\n",
        "print(\"\\nDot product of two arrays:\")\n",
        "print(np.dot(array_1, array_2)) # սկալյար (մատրինցների դեպքում նույն մատրիցների բազմապատկումնա)\n"
      ],
      "metadata": {
        "colab": {
          "base_uri": "https://localhost:8080/"
        },
        "id": "hr8EF9DjfmJl",
        "outputId": "90b73a16-da11-4cb3-9169-f5d45be3e056"
      },
      "execution_count": null,
      "outputs": [
        {
          "output_type": "stream",
          "name": "stdout",
          "text": [
            "[[1 2]\n",
            " [3 4]]\n",
            "[[5 6]\n",
            " [7 8]]\n",
            "\n",
            "Matrix multiplication of two arrays:\n",
            "[[19 22]\n",
            " [43 50]]\n",
            "\n",
            "Dot product of two arrays:\n",
            "[[19 22]\n",
            " [43 50]]\n"
          ]
        }
      ]
    },
    {
      "cell_type": "code",
      "source": [
        "# Transpose # սա դե անցանք, բայց մի հատ էլ ստեղ ներառեմ)\n",
        "print(\"\\nTranspose of array 1:\")\n",
        "print(np.transpose(array_1))  # or array_1.T\n"
      ],
      "metadata": {
        "colab": {
          "base_uri": "https://localhost:8080/"
        },
        "id": "_KD7-CkUhQCL",
        "outputId": "782315e8-d0b6-4896-a468-0b59fad65435"
      },
      "execution_count": null,
      "outputs": [
        {
          "output_type": "stream",
          "name": "stdout",
          "text": [
            "\n",
            "Transpose of array 1:\n",
            "[[1 3]\n",
            " [2 4]]\n"
          ]
        }
      ]
    },
    {
      "cell_type": "code",
      "source": [
        "# Inverse\n",
        "print(\"\\nInverse of array 1:\") # նկատենք .linalgը\n",
        "print(np.linalg.inv(array_1))\n",
        "\n",
        "# Determinant\n",
        "print(\"\\nDeterminant of array 1:\")\n",
        "print(np.linalg.det(array_1))"
      ],
      "metadata": {
        "colab": {
          "base_uri": "https://localhost:8080/"
        },
        "id": "Bc17foo6hUYG",
        "outputId": "d5068734-da4b-4204-a909-00ed3f6c4712"
      },
      "execution_count": null,
      "outputs": [
        {
          "output_type": "stream",
          "name": "stdout",
          "text": [
            "\n",
            "Inverse of array 1:\n",
            "[[-2.   1. ]\n",
            " [ 1.5 -0.5]]\n",
            "\n",
            "Determinant of array 1:\n",
            "-2.0000000000000004\n"
          ]
        }
      ]
    },
    {
      "cell_type": "code",
      "source": [
        "# Eigenvalues and eigenvectors (սեփական արժեքներ, սեփական վեկտորներ)\n",
        "print(\"\\nEigenvalues and eigenvectors of array 1:\")\n",
        "eigenvalues, eigenvectors = np.linalg.eig(array_1)\n",
        "print(\"Eigenvalues:\", eigenvalues)\n",
        "print(\"Eigenvectors:\\n\", eigenvectors)"
      ],
      "metadata": {
        "colab": {
          "base_uri": "https://localhost:8080/"
        },
        "id": "STok9iXxhZB9",
        "outputId": "5998cc09-cf06-4ded-f8f4-15cc35ef3a88"
      },
      "execution_count": null,
      "outputs": [
        {
          "output_type": "stream",
          "name": "stdout",
          "text": [
            "\n",
            "Eigenvalues and eigenvectors of array 1:\n",
            "Eigenvalues: [-0.37228132  5.37228132]\n",
            "Eigenvectors:\n",
            " [[-0.82456484 -0.41597356]\n",
            " [ 0.56576746 -0.90937671]]\n"
          ]
        }
      ]
    },
    {
      "cell_type": "code",
      "source": [
        "a = np.array([[1, 2], [3, 5]])\n",
        "b = np.array([1, 2])\n",
        "x = np.linalg.solve(a, b)\n",
        "print(\"x0 + 2 * x1 = 1  \\n3 * x0 + 5 * x1 = 2 \\nհամակարգի լուծումներն են՝\")\n",
        "print(x)"
      ],
      "metadata": {
        "colab": {
          "base_uri": "https://localhost:8080/"
        },
        "id": "rvMLyVR-g69T",
        "outputId": "371d762c-50a9-427a-e53a-d34e91803c10"
      },
      "execution_count": null,
      "outputs": [
        {
          "output_type": "stream",
          "name": "stdout",
          "text": [
            "x0 + 2 * x1 = 1  \n",
            "3 * x0 + 5 * x1 = 2 \n",
            "համակարգի լուծումներն են՝\n",
            "[-1.  1.]\n"
          ]
        }
      ]
    },
    {
      "cell_type": "markdown",
      "source": [
        "## Կլորացում"
      ],
      "metadata": {
        "id": "L8QtpEkzclA3"
      }
    },
    {
      "cell_type": "code",
      "source": [
        "import numpy as np\n",
        "\n",
        "# Create an array of floating point numbers\n",
        "float_array = np.array([11.509, 2.05, 3.55, 4.75, 5.85])\n",
        "\n",
        "print(\"Original array:\")\n",
        "print(float_array)\n",
        "\n",
        "# Rounding to the nearest integer\n",
        "print(\"\\nRounding to the nearest integer with np.round:\")\n",
        "print(np.round(float_array))\n",
        "\n",
        "# Rounding to a specified number of decimals\n",
        "print(\"\\nRounding to 1 decimal place with np.round:\")\n",
        "print(np.round(float_array, 1))\n"
      ],
      "metadata": {
        "colab": {
          "base_uri": "https://localhost:8080/"
        },
        "id": "JXNhk0EXcmqf",
        "outputId": "f2e850f8-595c-4cf9-e839-788b92adfd9d"
      },
      "execution_count": null,
      "outputs": [
        {
          "output_type": "stream",
          "name": "stdout",
          "text": [
            "Original array:\n",
            "[11.509  2.05   3.55   4.75   5.85 ]\n",
            "\n",
            "Rounding to the nearest integer with np.round:\n",
            "[12.  2.  4.  5.  6.]\n",
            "\n",
            "Rounding to 1 decimal place with np.round:\n",
            "[11.5  2.   3.6  4.8  5.8]\n"
          ]
        }
      ]
    },
    {
      "cell_type": "code",
      "source": [
        "print(\"Original array:\")\n",
        "print(float_array)\n",
        "\n",
        "# Rounding down to the nearest integer\n",
        "print(\"\\nRounding down to the nearest integer with np.floor:\")\n",
        "print(np.floor(float_array))\n",
        "\n",
        "# Rounding up to the nearest integer\n",
        "print(\"\\nRounding up to the nearest integer with np.ceil:\")\n",
        "print(np.ceil(float_array))"
      ],
      "metadata": {
        "colab": {
          "base_uri": "https://localhost:8080/"
        },
        "id": "SXqQbeC7dwIA",
        "outputId": "958080f9-dd52-48d3-ddf6-b3ef53cf7e3b"
      },
      "execution_count": null,
      "outputs": [
        {
          "output_type": "stream",
          "name": "stdout",
          "text": [
            "Original array:\n",
            "[11.509  2.05   3.55   4.75   5.85 ]\n",
            "\n",
            "Rounding down to the nearest integer with np.floor:\n",
            "[11.  2.  3.  4.  5.]\n",
            "\n",
            "Rounding up to the nearest integer with np.ceil:\n",
            "[12.  3.  4.  5.  6.]\n"
          ]
        }
      ]
    },
    {
      "cell_type": "markdown",
      "source": [
        "# Broadcasting\n",
        "https://numpy.org/doc/stable/user/basics.broadcasting.html#basics-broadcasting"
      ],
      "metadata": {
        "id": "E_1If-VIks5x"
      }
    },
    {
      "cell_type": "markdown",
      "source": [
        "<img src=\"https://numpy.org/doc/stable/_images/np_multiply_broadcasting.png\">"
      ],
      "metadata": {
        "id": "wzaUy3MPlCKb"
      }
    },
    {
      "cell_type": "code",
      "source": [
        "np.array([1, 2]) * np.array([1.6, 1.6])"
      ],
      "metadata": {
        "colab": {
          "base_uri": "https://localhost:8080/"
        },
        "id": "VHBTJHD2kvaA",
        "outputId": "3fa92fd0-73ba-47af-845d-3e52afe545d2"
      },
      "execution_count": null,
      "outputs": [
        {
          "output_type": "execute_result",
          "data": {
            "text/plain": [
              "array([1.6, 3.2])"
            ]
          },
          "metadata": {},
          "execution_count": 69
        }
      ]
    },
    {
      "cell_type": "code",
      "source": [
        "np.array([1, 2]) * 1.6"
      ],
      "metadata": {
        "colab": {
          "base_uri": "https://localhost:8080/"
        },
        "id": "-5bHBCjZTcEH",
        "outputId": "1d8b8648-804a-4143-a5b6-2614b21dc8a7"
      },
      "execution_count": null,
      "outputs": [
        {
          "output_type": "execute_result",
          "data": {
            "text/plain": [
              "array([1.6, 3.2])"
            ]
          },
          "metadata": {},
          "execution_count": 70
        }
      ]
    },
    {
      "cell_type": "code",
      "source": [
        "a = np.array([[ 0.0,  0.0,  0.0],\n",
        "              [10.0, 10.0, 10.0],\n",
        "              [20.0, 20.0, 20.0],\n",
        "              [30.0, 30.0, 30.0]])\n",
        "b = np.array([1.0, 2.0, 3.0])\n",
        "print(a)\n",
        "print(b)\n",
        "a + b"
      ],
      "metadata": {
        "colab": {
          "base_uri": "https://localhost:8080/"
        },
        "id": "9PRldW0aldlm",
        "outputId": "fff9faa7-9607-4c92-92ea-577bf6626384"
      },
      "execution_count": null,
      "outputs": [
        {
          "output_type": "stream",
          "name": "stdout",
          "text": [
            "[[ 0.  0.  0.]\n",
            " [10. 10. 10.]\n",
            " [20. 20. 20.]\n",
            " [30. 30. 30.]]\n",
            "[1. 2. 3.]\n"
          ]
        },
        {
          "output_type": "execute_result",
          "data": {
            "text/plain": [
              "array([[ 1.,  2.,  3.],\n",
              "       [11., 12., 13.],\n",
              "       [21., 22., 23.],\n",
              "       [31., 32., 33.]])"
            ]
          },
          "metadata": {},
          "execution_count": 71
        }
      ]
    },
    {
      "cell_type": "markdown",
      "source": [
        "<img src=\"https://numpy.org/doc/stable/_images/broadcasting_2.png\">"
      ],
      "metadata": {
        "id": "_tfC2zGTlxQR"
      }
    },
    {
      "cell_type": "code",
      "source": [
        "array_1 = np.array([[1, 2, 3]])\n",
        "array_2 = np.array([[10], [20]])\n",
        "print(array_1)\n",
        "print(array_2)\n",
        "print(\"\\nBroadcasting with different shapes and dimensions:\")\n",
        "array_1 + array_2\n",
        "\n",
        "# \"\"\"\n",
        "# [[1, 2, 3]   [[10, 10, 10]\n",
        "#  [1, 2, 3]]   [20, 20, 20]]\n",
        "# \"\"\"\n",
        "# 1 3\n",
        "# 2 3\n",
        "\n",
        "# 2 1"
      ],
      "metadata": {
        "colab": {
          "base_uri": "https://localhost:8080/"
        },
        "id": "6-zWvDxnlzn-",
        "outputId": "f3348542-f670-43c2-878c-24696c149d06"
      },
      "execution_count": null,
      "outputs": [
        {
          "output_type": "stream",
          "name": "stdout",
          "text": [
            "[[1 2 3]]\n",
            "[[10]\n",
            " [20]]\n",
            "\n",
            "Broadcasting with different shapes and dimensions:\n"
          ]
        },
        {
          "output_type": "execute_result",
          "data": {
            "text/plain": [
              "array([[11, 12, 13],\n",
              "       [21, 22, 23]])"
            ]
          },
          "metadata": {},
          "execution_count": 72
        }
      ]
    },
    {
      "cell_type": "markdown",
      "source": [
        "# Arrayների միավորում ու տրոհում"
      ],
      "metadata": {
        "id": "fcoDTX20jMdI"
      }
    },
    {
      "cell_type": "code",
      "source": [
        "\n",
        "# Create two 1D arrays\n",
        "array_1 = np.array([1, 2, 3])\n",
        "array_2 = np.array([4, 5, 6])\n",
        "\n",
        "print(\"Original arrays:\")\n",
        "print(\"Array 1:\", array_1)\n",
        "print(\"Array 2:\", array_2)\n"
      ],
      "metadata": {
        "colab": {
          "base_uri": "https://localhost:8080/"
        },
        "id": "bUgIbEE6d7Lx",
        "outputId": "b94c1b42-0ca1-4812-9708-12fbdf140923"
      },
      "execution_count": null,
      "outputs": [
        {
          "output_type": "stream",
          "name": "stdout",
          "text": [
            "Original arrays:\n",
            "Array 1: [1 2 3]\n",
            "Array 2: [4 5 6]\n"
          ]
        }
      ]
    },
    {
      "cell_type": "markdown",
      "source": [
        "## Միավորում"
      ],
      "metadata": {
        "id": "ZPLcCUDij_97"
      }
    },
    {
      "cell_type": "code",
      "source": [
        "# Concatenation\n",
        "concatenated_array = np.concatenate((array_1, array_2))\n",
        "print(\"\\nConcatenated array:\")\n",
        "print(concatenated_array)\n"
      ],
      "metadata": {
        "colab": {
          "base_uri": "https://localhost:8080/"
        },
        "id": "eeoqGLpIjSZw",
        "outputId": "8b0f0ee2-f0f4-4a47-8ded-ece3a0511883"
      },
      "execution_count": null,
      "outputs": [
        {
          "output_type": "stream",
          "name": "stdout",
          "text": [
            "\n",
            "Concatenated array:\n",
            "[1 2 3 4 5 6]\n"
          ]
        }
      ]
    },
    {
      "cell_type": "code",
      "source": [
        "# իրար վրա դնել\n",
        "vertical_stack = np.vstack((array_1, array_2))\n",
        "print(\"\\nVertically stacked array:\")\n",
        "print(vertical_stack)\n",
        "\n",
        "# իրար կողք դնել\n",
        "horizontal_stack = np.hstack((array_1, array_2))\n",
        "print(\"\\nHorizontally stacked array:\")\n",
        "print(horizontal_stack)"
      ],
      "metadata": {
        "colab": {
          "base_uri": "https://localhost:8080/"
        },
        "id": "YiOeAoHbjiyz",
        "outputId": "1ac75f2d-8575-4f59-ea47-c4051ff64b18"
      },
      "execution_count": null,
      "outputs": [
        {
          "output_type": "stream",
          "name": "stdout",
          "text": [
            "\n",
            "Vertically stacked array:\n",
            "[[1 2 3]\n",
            " [4 5 6]]\n",
            "\n",
            "Horizontally stacked array:\n",
            "[1 2 3 4 5 6]\n"
          ]
        }
      ]
    },
    {
      "cell_type": "markdown",
      "source": [
        "## Տրոհում"
      ],
      "metadata": {
        "id": "qxLh5XOrj9nI"
      }
    },
    {
      "cell_type": "code",
      "source": [
        "# Splitting - Divide an array into multiple sub-arrays\n",
        "array = np.array([1, 2, 3, 4, 5, 6])\n",
        "split_arrays = np.split(array, 3)\n",
        "print(\"\\nSplit arrays:\")\n",
        "print(split_arrays)\n",
        "for arr in split_arrays:\n",
        "    print(arr)"
      ],
      "metadata": {
        "colab": {
          "base_uri": "https://localhost:8080/"
        },
        "id": "w0nL9pfuj43h",
        "outputId": "9e7136f3-3a38-49f7-da8b-2a2013afb5df"
      },
      "execution_count": null,
      "outputs": [
        {
          "output_type": "stream",
          "name": "stdout",
          "text": [
            "\n",
            "Split arrays:\n",
            "[array([1, 2]), array([3, 4]), array([5, 6])]\n",
            "[1 2]\n",
            "[3 4]\n",
            "[5 6]\n"
          ]
        }
      ]
    },
    {
      "cell_type": "code",
      "source": [
        "# Splitting - Divide an array into multiple sub-arrays\n",
        "array = np.array([1, 2, 3, 4, 5, 6, 7])\n",
        "split_arrays = np.split(array, 3)\n",
        "print(\"\\nSplit arrays:\")\n",
        "print(split_arrays)\n",
        "for arr in split_arrays:\n",
        "    print(arr)"
      ],
      "metadata": {
        "id": "YfhB1SguUmzZ"
      },
      "execution_count": null,
      "outputs": []
    },
    {
      "cell_type": "code",
      "source": [
        "# տրված առանքով տրոհում\n",
        "# Split along a specific axis\n",
        "two_dim_array = np.array([[1, 2, 3], [4, 5, 6]])\n",
        "print(two_dim_array)\n",
        "split_along_axis = np.split(two_dim_array, 3, axis=1)\n",
        "print(\"\\nSplit arrays along axis 1:\")\n",
        "for arr in split_along_axis:\n",
        "    print(arr)\n",
        "    print()"
      ],
      "metadata": {
        "colab": {
          "base_uri": "https://localhost:8080/"
        },
        "id": "Km1KiVuckJxB",
        "outputId": "19377b3b-b450-454e-f97f-4942bc954f46"
      },
      "execution_count": null,
      "outputs": [
        {
          "output_type": "stream",
          "name": "stdout",
          "text": [
            "[[1 2 3]\n",
            " [4 5 6]]\n",
            "\n",
            "Split arrays along axis 1:\n",
            "[[1]\n",
            " [4]]\n",
            "\n",
            "[[2]\n",
            " [5]]\n",
            "\n",
            "[[3]\n",
            " [6]]\n",
            "\n"
          ]
        }
      ]
    },
    {
      "cell_type": "markdown",
      "source": [
        "# Էլեմենտների ավելացում/հեռացում"
      ],
      "metadata": {
        "id": "GkSWDspmn1f3"
      }
    },
    {
      "cell_type": "code",
      "source": [
        "import numpy as np\n",
        "\n",
        "# Create a 1D array\n",
        "array_1d = np.array([1, 2, 3, 4, 5])\n",
        "\n",
        "print(\"Original 1D array:\")\n",
        "print(array_1d)\n",
        "\n",
        "# Adding elements to the array\n",
        "new_element = 6\n",
        "array_with_element = np.append(array_1d, new_element)\n",
        "\n",
        "print(\"\\nArray with added element:\")\n",
        "print(array_with_element)\n",
        "\n",
        "# Inserting elements at specific positions\n",
        "position = 2\n",
        "element_to_insert = 10\n",
        "array_with_inserted_element = np.insert(array_1d, position, element_to_insert)\n",
        "print(\"\\nArray with inserted element:\")\n",
        "print(array_with_inserted_element)\n"
      ],
      "metadata": {
        "colab": {
          "base_uri": "https://localhost:8080/"
        },
        "id": "PYCZTiYtn4X6",
        "outputId": "4e10a363-9b22-4061-ac8f-ee38e191d596"
      },
      "execution_count": null,
      "outputs": [
        {
          "output_type": "stream",
          "name": "stdout",
          "text": [
            "Original 1D array:\n",
            "[1 2 3 4 5]\n",
            "\n",
            "Array with added element:\n",
            "[1 2 3 4 5 6]\n",
            "\n",
            "Array with inserted element:\n",
            "[ 1  2 10  3  4  5]\n"
          ]
        }
      ]
    },
    {
      "cell_type": "code",
      "source": [],
      "metadata": {
        "id": "GsVqY3qjEOUv"
      },
      "execution_count": null,
      "outputs": []
    },
    {
      "cell_type": "code",
      "source": [
        "# Removing elements from the array\n",
        "index_to_remove = 3\n",
        "array_without_element = np.delete(array_1d, index_to_remove) # pop\n",
        "print(\"\\nInitial\")\n",
        "print(array_1d)\n",
        "print(\"\\nArray with element removed:\")\n",
        "print(array_without_element)\n",
        "\n",
        "# Removing elements at specific positions\n",
        "array_without_elements = np.delete(array_1d, [0, 2, 4])\n",
        "\n",
        "print(\"'\\nInitial\")\n",
        "print(array_1d)\n",
        "print(\"\\nArray with elements removed at specific positions:\")\n",
        "print(array_without_elements)\n",
        "\n",
        "# array_without_elements = np.delete(array_1d, [False, False, True .. ])\n",
        "array_without_elements = np.delete(array_1d, array_1d > 3)\n",
        "print(array_without_elements)\n"
      ],
      "metadata": {
        "colab": {
          "base_uri": "https://localhost:8080/"
        },
        "id": "NfKOkr1EoC6M",
        "outputId": "e4e75fc0-ac31-45ce-ff14-00cc5894f414"
      },
      "execution_count": null,
      "outputs": [
        {
          "output_type": "stream",
          "name": "stdout",
          "text": [
            "\n",
            "Initial\n",
            "[1 2 3 4 5]\n",
            "\n",
            "Array with element removed:\n",
            "[1 2 3 5]\n",
            "'\n",
            "Initial\n",
            "[1 2 3 4 5]\n",
            "\n",
            "Array with elements removed at specific positions:\n",
            "[2 4]\n",
            "[1 2 3]\n"
          ]
        }
      ]
    },
    {
      "cell_type": "markdown",
      "source": [
        "# Սորտավորում"
      ],
      "metadata": {
        "id": "FNpTAFkDo5pP"
      }
    },
    {
      "cell_type": "code",
      "source": [
        "import numpy as np\n",
        "\n",
        "# Create a 1D array\n",
        "array_1d = np.array([5, 0, 9, 11])\n",
        "\n",
        "print(\"Original 1D array:\")\n",
        "print(array_1d)\n",
        "\n",
        "# Sorting in ascending order\n",
        "sorted_array = np.sort(array_1d)\n",
        "print(\"\\nArray sorted in ascending order:\")\n",
        "print(sorted_array)"
      ],
      "metadata": {
        "colab": {
          "base_uri": "https://localhost:8080/"
        },
        "id": "_TGNAXTLo77I",
        "outputId": "4de0176e-649f-42b4-ec02-6d0a4796cae2"
      },
      "execution_count": null,
      "outputs": [
        {
          "output_type": "stream",
          "name": "stdout",
          "text": [
            "Original 1D array:\n",
            "[ 5  0  9 11]\n",
            "\n",
            "Array sorted in ascending order:\n",
            "[ 0  5  9 11]\n"
          ]
        }
      ]
    },
    {
      "cell_type": "code",
      "source": [
        "# In-place sorting\n",
        "array_1d.sort()\n",
        "print(\"\\nArray sorted in-place (ascending order):\")\n",
        "print(array_1d)"
      ],
      "metadata": {
        "id": "KmNbonFJpCaV",
        "colab": {
          "base_uri": "https://localhost:8080/"
        },
        "outputId": "c1d2b41e-57dc-4d84-8430-49bf48fe33d2"
      },
      "execution_count": null,
      "outputs": [
        {
          "output_type": "stream",
          "name": "stdout",
          "text": [
            "\n",
            "Array sorted in-place (ascending order):\n",
            "[ 0  5  9 11]\n"
          ]
        }
      ]
    },
    {
      "cell_type": "code",
      "source": [
        "# Sorting a 2D array by a specific axis\n",
        "array_2d = np.array([[11, 509, 3], [4, 1, 0]])\n",
        "print(\"\\nOriginal 2D array:\")\n",
        "print(array_2d)\n",
        "\n",
        "# Sorting along the rows (axis=1)\n",
        "sorted_array_2d_rows = np.sort(array_2d, axis=1)\n",
        "print(\"\\n2D array sorted along the rows (axis=1):\")\n",
        "print(sorted_array_2d_rows)\n",
        "\n",
        "# Sorting along the columns (axis=0)\n",
        "sorted_array_2d_cols = np.sort(array_2d, axis=0)\n",
        "print(\"\\n2D array sorted along the columns (axis=0):\")\n",
        "print(sorted_array_2d_cols)"
      ],
      "metadata": {
        "colab": {
          "base_uri": "https://localhost:8080/"
        },
        "id": "X8B-cvMOquv3",
        "outputId": "69e960ec-62b0-4872-ccb3-38ee02d7c99e"
      },
      "execution_count": null,
      "outputs": [
        {
          "output_type": "stream",
          "name": "stdout",
          "text": [
            "\n",
            "Original 2D array:\n",
            "[[ 11 509   3]\n",
            " [  4   1   0]]\n",
            "\n",
            "2D array sorted along the rows (axis=1):\n",
            "[[  3  11 509]\n",
            " [  0   1   4]]\n",
            "\n",
            "2D array sorted along the columns (axis=0):\n",
            "[[  4   1   0]\n",
            " [ 11 509   3]]\n"
          ]
        }
      ]
    },
    {
      "cell_type": "code",
      "source": [
        "# Getting indices that would sort the array\n",
        "array_1d = np.array([11, 2, 509, 1, 6])\n",
        "indices = np.argsort(array_1d)\n",
        "print(\"\\nIndices that would sort the array:\")\n",
        "print(indices)"
      ],
      "metadata": {
        "colab": {
          "base_uri": "https://localhost:8080/"
        },
        "id": "VIlHd4szo-0Z",
        "outputId": "36558b72-8078-4d02-9ec0-88b966cc1800"
      },
      "execution_count": null,
      "outputs": [
        {
          "output_type": "stream",
          "name": "stdout",
          "text": [
            "\n",
            "Indices that would sort the array:\n",
            "[3 1 4 0 2]\n"
          ]
        }
      ]
    },
    {
      "cell_type": "code",
      "source": [
        "# Finding the index of the maximum and minimum values\n",
        "print(array_1d)\n",
        "max_index = np.argmax(array_1d)\n",
        "min_index = np.argmin(array_1d)\n",
        "print(\"\\nIndex of maximum value:\", max_index)\n",
        "print(\"Index of minimum value:\", min_index)"
      ],
      "metadata": {
        "colab": {
          "base_uri": "https://localhost:8080/"
        },
        "id": "GPk06-lkrtoX",
        "outputId": "d52e1e79-f6e3-4062-e89c-817c2f01f08b"
      },
      "execution_count": null,
      "outputs": [
        {
          "output_type": "stream",
          "name": "stdout",
          "text": [
            "[ 11   2 509   1   6]\n",
            "\n",
            "Index of maximum value: 2\n",
            "Index of minimum value: 3\n"
          ]
        }
      ]
    },
    {
      "cell_type": "code",
      "source": [
        "a = np.array([\"asasad\", \"gffbfvds\"])\n",
        "\n",
        "a.sort()\n",
        "\n",
        "print(a)"
      ],
      "metadata": {
        "colab": {
          "base_uri": "https://localhost:8080/"
        },
        "id": "aSTA0Jp-2foX",
        "outputId": "d959890c-840d-40aa-f9e4-82eaa6083191"
      },
      "execution_count": null,
      "outputs": [
        {
          "output_type": "stream",
          "name": "stdout",
          "text": [
            "['asasad' 'gffbfvds']\n"
          ]
        }
      ]
    },
    {
      "cell_type": "markdown",
      "source": [
        "# Խառը օգտակար բաներ"
      ],
      "metadata": {
        "id": "TUZIvEJmsXxr"
      }
    },
    {
      "cell_type": "markdown",
      "source": [
        "## Uniques/value count"
      ],
      "metadata": {
        "id": "ZdVVieEys0tZ"
      }
    },
    {
      "cell_type": "code",
      "source": [
        "# Create an array\n",
        "array = np.array([1, 2, 3, 1, 2, 4, 5, 4])\n",
        "\n",
        "print(\"Original array:\")\n",
        "print(array)\n",
        "\n",
        "# Finding unique elements\n",
        "unique_elements = np.unique(array)\n",
        "print(\"\\nUnique elements:\")\n",
        "print(unique_elements)\n",
        "\n",
        "# Counting occurrences of each unique element\n",
        "unique_values, value_counts = np.unique(array, return_counts=True)\n",
        "print(\"\\nUnique values:\")\n",
        "print(unique_values)\n",
        "print(\"Value counts:\")\n",
        "print(value_counts)"
      ],
      "metadata": {
        "colab": {
          "base_uri": "https://localhost:8080/"
        },
        "id": "DVmFMZTrsaCv",
        "outputId": "805121a3-578d-4850-e16f-d1575fe461b0"
      },
      "execution_count": null,
      "outputs": [
        {
          "output_type": "stream",
          "name": "stdout",
          "text": [
            "Original array:\n",
            "[1 2 3 1 2 4 5 4]\n",
            "\n",
            "Unique elements:\n",
            "[1 2 3 4 5]\n",
            "\n",
            "Unique values:\n",
            "[1 2 3 4 5]\n",
            "Value counts:\n",
            "[2 2 1 2 1]\n"
          ]
        }
      ]
    },
    {
      "cell_type": "markdown",
      "source": [
        "## arrayը խառնել/պտտել"
      ],
      "metadata": {
        "id": "RJa6nHTUwxbQ"
      }
    },
    {
      "cell_type": "code",
      "source": [
        "# Reversing the order of elements\n",
        "array = np.array([1,2,3,4,5])\n",
        "print(\"original\")\n",
        "print(array)\n",
        "reversed_array = np.flip(array)\n",
        "print(\"\\nReversed array:\")\n",
        "print(reversed_array)\n",
        "\n",
        "\n",
        "# Shuffling the array\n",
        "np.random.shuffle(array)\n",
        "print(\"\\nShuffled array:\")\n",
        "print(array)  # Note: np.random.shuffle shuffles the array in-place\n",
        "\n"
      ],
      "metadata": {
        "colab": {
          "base_uri": "https://localhost:8080/"
        },
        "id": "NSjkU3W8szVj",
        "outputId": "0ee0b1e3-e0c5-4405-d272-f152a25d0275"
      },
      "execution_count": null,
      "outputs": [
        {
          "output_type": "stream",
          "name": "stdout",
          "text": [
            "original\n",
            "[1 2 3 4 5]\n",
            "\n",
            "Reversed array:\n",
            "[5 4 3 2 1]\n",
            "\n",
            "Shuffled array:\n",
            "[2 4 3 5 1]\n"
          ]
        }
      ]
    },
    {
      "cell_type": "markdown",
      "source": [
        "## any / all"
      ],
      "metadata": {
        "id": "LS-4kzoNwtIL"
      }
    },
    {
      "cell_type": "code",
      "source": [
        "# Checking if any element satisfies a condition\n",
        "print(array)\n",
        "any_condition_satisfied = np.any(array > 4)\n",
        "print(\"\\nDoes any element satisfy the condition (array > 4)?\")\n",
        "print(any_condition_satisfied)\n",
        "\n",
        "# Checking if all elements satisfy a condition\n",
        "all_conditions_satisfied = np.all(array > 4)\n",
        "print(\"\\nDo all elements satisfy the condition (array > 4)?\")\n",
        "print(all_conditions_satisfied)"
      ],
      "metadata": {
        "colab": {
          "base_uri": "https://localhost:8080/"
        },
        "id": "g8zkWZr7tDI6",
        "outputId": "5a0641cf-7a2e-4e96-ced1-c5db74a78c80"
      },
      "execution_count": null,
      "outputs": [
        {
          "output_type": "stream",
          "name": "stdout",
          "text": [
            "[2 4 3 5 1]\n",
            "\n",
            "Does any element satisfy the condition (array > 4)?\n",
            "True\n",
            "\n",
            "Do all elements satisfy the condition (array > 4)?\n",
            "False\n"
          ]
        }
      ]
    },
    {
      "cell_type": "code",
      "source": [
        "a = [True, False, True]\n",
        "\n",
        "any(a)"
      ],
      "metadata": {
        "colab": {
          "base_uri": "https://localhost:8080/"
        },
        "id": "6_xDi63SF1yJ",
        "outputId": "51435590-62f4-481e-e309-79bc8275746a"
      },
      "execution_count": null,
      "outputs": [
        {
          "output_type": "execute_result",
          "data": {
            "text/plain": [
              "True"
            ]
          },
          "metadata": {},
          "execution_count": 91
        }
      ]
    },
    {
      "cell_type": "markdown",
      "source": [
        "## np.where"
      ],
      "metadata": {
        "id": "m-tqPIbzw2la"
      }
    },
    {
      "cell_type": "markdown",
      "source": [
        "np.where(condition, x, y)\n",
        "\n",
        "\n",
        "\n",
        "*   condition is the boolean condition that determines which elements to select or where to assign values.\n",
        "\n",
        "\n",
        "*   x and y are arrays or values. If condition is True, elements from x are selected or assigned; otherwise, elements from y are selected or assigned.\n",
        "\n"
      ],
      "metadata": {
        "id": "0YleaKmjw74I"
      }
    },
    {
      "cell_type": "code",
      "source": [
        "import numpy as np\n",
        "\n",
        "# Create an array\n",
        "array = np.array([1, 2, 3, 4, 5])\n",
        "\n",
        "elems = np.where(array % 2 == 0, \"զույգ\",  \"կենտ\")\n",
        "print(elems)"
      ],
      "metadata": {
        "colab": {
          "base_uri": "https://localhost:8080/"
        },
        "id": "l6572yWRw5Pf",
        "outputId": "be602cc7-5ffe-41c4-ee9b-318eb7207a5e"
      },
      "execution_count": null,
      "outputs": [
        {
          "output_type": "stream",
          "name": "stdout",
          "text": [
            "['կենտ' 'զույգ' 'կենտ' 'զույգ' 'կենտ']\n"
          ]
        }
      ]
    },
    {
      "cell_type": "code",
      "source": [
        "x = 5\n",
        "\n",
        "if x % 2 == 0:\n",
        "    incha = \"zueg\"\n",
        "else:\n",
        "    incha = \"kent\"\n",
        "\n",
        "print(incha)"
      ],
      "metadata": {
        "colab": {
          "base_uri": "https://localhost:8080/"
        },
        "id": "ju6T3og7GjAe",
        "outputId": "c282059f-e369-41db-8111-0248a908def3"
      },
      "execution_count": null,
      "outputs": [
        {
          "output_type": "stream",
          "name": "stdout",
          "text": [
            "kent\n"
          ]
        }
      ]
    },
    {
      "cell_type": "code",
      "source": [
        "incha = \"zueg\" if x % 2 == 0 else \"kent\""
      ],
      "metadata": {
        "id": "fKJgYiqRGuSm"
      },
      "execution_count": null,
      "outputs": []
    },
    {
      "cell_type": "code",
      "source": [
        "array"
      ],
      "metadata": {
        "colab": {
          "base_uri": "https://localhost:8080/"
        },
        "id": "EiEOAVoGG8_H",
        "outputId": "13830529-cba5-4337-9aaa-a0201e42602d"
      },
      "execution_count": null,
      "outputs": [
        {
          "output_type": "execute_result",
          "data": {
            "text/plain": [
              "array([3, 6, 2, 1, 5, 7, 4])"
            ]
          },
          "metadata": {},
          "execution_count": 107
        }
      ]
    },
    {
      "cell_type": "code",
      "source": [
        "np.where(array >2, \"zueg\", \"kent\")"
      ],
      "metadata": {
        "colab": {
          "base_uri": "https://localhost:8080/"
        },
        "id": "Sy5yYa9nG-qS",
        "outputId": "d93c107a-be7c-45e3-f87d-b992d394d9e4"
      },
      "execution_count": null,
      "outputs": [
        {
          "output_type": "execute_result",
          "data": {
            "text/plain": [
              "array(['zueg', 'zueg', 'kent', 'kent', 'zueg', 'zueg', 'zueg'],\n",
              "      dtype='<U4')"
            ]
          },
          "metadata": {},
          "execution_count": 109
        }
      ]
    },
    {
      "cell_type": "code",
      "source": [
        "elems = np.where(array > 2, array, 0)\n",
        "print(elems)"
      ],
      "metadata": {
        "colab": {
          "base_uri": "https://localhost:8080/"
        },
        "id": "bQI4dk7lxT8T",
        "outputId": "260af757-b7ba-4d23-c9bb-b309766edfc0"
      },
      "execution_count": null,
      "outputs": [
        {
          "output_type": "stream",
          "name": "stdout",
          "text": [
            "[0 0 3 4 5]\n"
          ]
        }
      ]
    },
    {
      "cell_type": "code",
      "source": [
        "# Assign values based on a condition\n",
        "new_values = np.where(array % 2 == 0, array * 2, array-10)\n",
        "print(\"\\nValues assigned based on condition:\")\n",
        "print(new_values)"
      ],
      "metadata": {
        "colab": {
          "base_uri": "https://localhost:8080/"
        },
        "id": "V4isWMa-xYQx",
        "outputId": "b3d9fecd-aba6-4ff9-8d22-3d883ff46dd4"
      },
      "execution_count": null,
      "outputs": [
        {
          "output_type": "stream",
          "name": "stdout",
          "text": [
            "\n",
            "Values assigned based on condition:\n",
            "[-9  4 -7  8 -5]\n"
          ]
        }
      ]
    },
    {
      "cell_type": "markdown",
      "source": [
        "# Վարժություններ\n"
      ],
      "metadata": {
        "id": "UMOnoDmfxwne"
      }
    },
    {
      "cell_type": "markdown",
      "source": [
        "Exercise 1: Creating and Manipulating Arrays\n",
        "\n",
        "* Create a 1D array with numbers from 1 to 10.\n",
        "* Create a 2D array with shape (3, 4) filled with random integers.\n",
        "* Reshape the 2D array to have shape (2, 6).\n",
        "* Extract the third column from the reshaped array.\n",
        "* Calculate the mean of each row in the reshaped array.\n",
        "\n",
        "Exercise 2: Array Indexing and Slicing\n",
        "\n",
        "* Create a 1D array with numbers from 1 to 20.\n",
        "* Select all even numbers from the array using boolean indexing.\n",
        "* Create a 2D array with shape (4, 5) filled with random numbers.\n",
        "* Select the subarray consisting of the first two rows and the last three columns.\n",
        "\n",
        "Exercise 3: Mathematical Operations and Functions\n",
        "\n",
        "* Create a 1D array with numbers from 1 to 5.\n",
        "* Add 5 to each element in the array.\n",
        "* Calculate the square root of each element in the array.\n",
        "* Calculate the exponential of each element in the array.\n",
        "\n",
        "Exercise 4: Array Concatenation and Splitting\n",
        "\n",
        "* Create two 1D arrays of equal length.\n",
        "* Concatenate the two arrays horizontally and vertically.\n",
        "* Split the concatenated arrays back into the original arrays.\n",
        "\n",
        "Exercise 5: Array Aggregation and Statistics\n",
        "\n",
        "* Create a 2D array with random integers of shape (3, 4).\n",
        "* Calculate the sum of all elements in the array.\n",
        "* Calculate the mean of each column in the array.\n",
        "* Calculate the maximum value in each row of the array.\n",
        "\n",
        "Exercise 6: Array Sorting and Manipulation\n",
        "\n",
        "* Create a 1D array with random integers.\n",
        "* Sort the array in ascending order.\n",
        "* Reverse the order of the elements in the array.\n",
        "* Replace all negative elements in the array with zero.\n",
        "\n",
        "Exercise 7: Boolean Masking\n",
        "\n",
        "* Create a 1D array with random integers.\n",
        "* Use boolean masking to extract the elements greater than a certain threshold.\n",
        "* Replace the extracted elements with a specific value.\n",
        "\n",
        "Exercise 8: Array Broadcasting\n",
        "\n",
        "* Create a 2D array with shape (3, 3) containing consecutive numbers from 1 to 9.\n",
        "* Create a 1D array with numbers [1, 10, 100].\n",
        "* Multiply the 2D array with the 1D array using broadcasting.\n",
        "\n",
        "Exercise 9: Statistical Functions\n",
        "\n",
        "* Generate a random 2D array with shape (5, 5).\n",
        "* Calculate the mean, median, and standard deviation of the array.\n",
        "* Compute the correlation coefficient matrix for the array.\n",
        "\n",
        "Exercise 10: Linear Algebra Operations\n",
        "\n",
        "* Create a 2D array with shape (3, 3) filled with random numbers.\n",
        "* Calculate the determinant and inverse of the array.\n",
        "* Compute the dot product between the array and a 1D array.\n",
        "\n",
        "Exercise 12: Advanced Indexing\n",
        "\n",
        "* Create a 2D array with shape (5, 5) filled with random numbers.\n",
        "* Use integer array indexing to select specific rows and columns.\n",
        "* Use boolean indexing to select elements based on multiple conditions.\n",
        "\n",
        "Exercise 13: Reshaping and Transposing\n",
        "\n",
        "* Create a 1D array with numbers from 1 to 12.\n",
        "* Reshape the array into a 3x4 matrix.\n",
        "* Transpose the matrix.\n",
        "\n",
        "Exercise 14: Random Number Generation\n",
        "\n",
        "* Generate a random 1D array with 10 elements from a normal distribution.\n",
        "* Shuffle the elements of the array randomly.\n",
        "* Generate a random 2D array with shape (3, 3) from a uniform distribution."
      ],
      "metadata": {
        "id": "3Em8fBM4x3Ox"
      }
    }
  ]
}
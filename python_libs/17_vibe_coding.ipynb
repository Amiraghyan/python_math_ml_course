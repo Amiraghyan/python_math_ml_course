{
 "cells": [
  {
   "cell_type": "raw",
   "metadata": {
    "vscode": {
     "languageId": "raw"
    }
   },
   "source": [
    "---\n",
    "title: \"17 Vibe Coding\"\n",
    "lightbox: true\n",
    "format: \n",
    "  html:\n",
    "    code-fold: false\n",
    "number-offset: 1\n",
    "---"
   ]
  },
  {
   "cell_type": "markdown",
   "metadata": {
    "vscode": {
     "languageId": "raw"
    }
   },
   "source": [
    "![image.png](../background_photos/libs_17_bad.jpg)\n",
    "Ջերմուկ, [լուսանկարի հղումը](https://unsplash.com/photos/a-duck-in-a-lake-NorXI-Eqv2g), Հեղինակ՝ [Hrag Kosbekian](https://unsplash.com/@hrag_photography)\n",
    "\n"
   ]
  },
  {
   "cell_type": "markdown",
   "metadata": {
    "vscode": {
     "languageId": "raw"
    }
   },
   "source": [
    "<a href=\"ToDo\" target=\"_parent\"><img src=\"https://colab.research.google.com/assets/colab-badge.svg\" alt=\"Open In Colab\"/></a> (ToDo)"
   ]
  },
  {
   "cell_type": "markdown",
   "metadata": {
    "vscode": {
     "languageId": "raw"
    }
   },
   "source": [
    "> Song reference - ToDo"
   ]
  },
  {
   "cell_type": "markdown",
   "metadata": {
    "vscode": {
     "languageId": "raw"
    }
   },
   "source": [
    "# 📌 Նկարագիր\n",
    "\n",
    "[📚 Ամբողջական նյութը]()\n",
    "\n",
    "#### 📺 Տեսանյութեր\n",
    "#### 🏡 Տնային"
   ]
  },
  {
   "cell_type": "markdown",
   "metadata": {
    "vscode": {
     "languageId": "raw"
    }
   },
   "source": [
    "# 📚 Նյութը"
   ]
  },
  {
   "cell_type": "markdown",
   "metadata": {},
   "source": [
    "https://arstechnica.com/ai/2025/07/exhausted-man-defeats-ai-model-in-world-coding-championship/\n",
    "\n",
    "https://x.com/FakePsyho/status/1945444118924272018\n",
    "\n",
    "https://www.swebench.com/\n",
    "\n",
    "https://t.me/hrantsbraindump/557\n",
    "\n",
    "https://x.com/karpathy/status/1886192184808149383?lang=en\n",
    "\n",
    "https://cursor.com/"
   ]
  },
  {
   "cell_type": "markdown",
   "metadata": {},
   "source": [
    "# 🚀 AI-Powered Development with GitHub Copilot\n",
    "\n",
    "Welcome to the world of AI-assisted coding! In this session, we'll explore how GitHub Copilot and other AI tools are revolutionizing software development."
   ]
  },
  {
   "cell_type": "markdown",
   "metadata": {},
   "source": [
    "## 🎓 Getting GitHub Copilot Free with University Email\n",
    "\n",
    "### Step-by-Step Guide:\n",
    "\n",
    "#### 1. **Verify Your Student Status**\n",
    "- Go to [GitHub Education](https://education.github.com/)\n",
    "- Click on \"Get Student Benefits\"\n",
    "- Sign in with your GitHub account or create one\n",
    "\n",
    "#### 2. **Apply for GitHub Student Developer Pack**\n",
    "- Upload proof of enrollment (student ID, transcript, or enrollment letter)\n",
    "- Use your university email address (.edu, .ac.uk, etc.)\n",
    "- Wait for verification (usually 1-7 days)\n",
    "\n",
    "#### 3. **Access GitHub Copilot**\n",
    "- Once approved, go to [GitHub Copilot](https://github.com/features/copilot)\n",
    "- Click \"Start free trial\" or \"Get Copilot for free\"\n",
    "- Students get GitHub Copilot completely free!\n",
    "\n",
    "#### 4. **Benefits Included:**\n",
    "- GitHub Copilot (AI pair programmer)\n",
    "- GitHub Pro (unlimited private repositories)\n",
    "- Access to GitHub Codespaces\n",
    "- Various other developer tools and credits\n",
    "\n",
    "#### Alternative Options:\n",
    "- **GitLab Duo**: Free tier available\n",
    "- **Codeium**: Free for individual developers\n",
    "- **Tabnine**: Free tier with limited features"
   ]
  },
  {
   "cell_type": "markdown",
   "metadata": {},
   "source": [
    "## 🤖 Types of AI Coding Assistance\n",
    "\n",
    "### 1. **ASK** - Conversational Programming 💬\n",
    "Get answers to coding questions and explanations:\n",
    "\n",
    "**Use Cases:**\n",
    "- \"How do I implement a binary search in Python?\"\n",
    "- \"What's the difference between `==` and `is` in Python?\"\n",
    "- \"Explain this regex pattern: `^[a-zA-Z0-9._%+-]+@[a-zA-Z0-9.-]+\\.[a-zA-Z]{2,}$`\"\n",
    "\n",
    "**Tools:**\n",
    "- GitHub Copilot Chat\n",
    "- ChatGPT/Claude for coding\n",
    "- Stack Overflow integrated AI\n",
    "\n",
    "### 2. **EDIT** - Code Transformation ✏️\n",
    "Modify existing code with AI assistance:\n",
    "\n",
    "**Use Cases:**\n",
    "- Refactor functions for better performance\n",
    "- Add error handling to existing code\n",
    "- Convert code between programming languages\n",
    "- Optimize algorithms\n",
    "- Add documentation and comments\n",
    "\n",
    "**Tools:**\n",
    "- Cursor AI (excellent for editing)\n",
    "- GitHub Copilot inline suggestions\n",
    "- Codeium edit mode\n",
    "\n",
    "### 3. **AGENT** - Autonomous Development 🤖\n",
    "AI that can work independently on larger tasks:\n",
    "\n",
    "**Use Cases:**\n",
    "- Generate entire modules or classes\n",
    "- Create test suites automatically\n",
    "- Build complete features from requirements\n",
    "- Handle complex multi-file changes\n",
    "- Project scaffolding and setup\n",
    "\n",
    "**Emerging Tools:**\n",
    "- GitHub Copilot Workspace\n",
    "- Devin (Cognition Labs)\n",
    "- GPT Engineer\n",
    "- AutoGPT for coding tasks\n",
    "\n",
    "### Best Practices:\n",
    "- Start with **ASK** for learning and understanding\n",
    "- Use **EDIT** for improving existing code\n",
    "- Reserve **AGENT** for well-defined, larger tasks"
   ]
  },
  {
   "cell_type": "markdown",
   "metadata": {},
   "source": [
    "## ⚡ Slash Commands - Quick AI Actions\n",
    "\n",
    "Slash commands provide quick access to common AI-powered development tasks:\n",
    "\n",
    "### Essential Slash Commands:\n",
    "\n",
    "#### 📝 **Documentation & Explanation**\n",
    "- `/explain` - Get detailed explanation of selected code\n",
    "- `/doc` - Generate documentation for functions/classes\n",
    "- `/comment` - Add inline comments to code\n",
    "- `/summarize` - Summarize what a file or function does\n",
    "\n",
    "#### 🔧 **Code Improvement**\n",
    "- `/fix` - Automatically fix bugs or errors\n",
    "- `/optimize` - Improve code performance\n",
    "- `/refactor` - Restructure code for better readability\n",
    "- `/simplify` - Make complex code more straightforward\n",
    "\n",
    "#### 🧪 **Testing & Quality**\n",
    "- `/test` - Generate unit tests for functions\n",
    "- `/tests` - Create comprehensive test suites\n",
    "- `/review` - Get code review suggestions\n",
    "- `/lint` - Check and fix code style issues\n",
    "\n",
    "#### 🚀 **Generation**\n",
    "- `/generate` - Create new code from description\n",
    "- `/scaffold` - Generate boilerplate code structure\n",
    "- `/api` - Generate API endpoints or client code\n",
    "- `/mock` - Create mock data or functions\n",
    "\n",
    "#### 🔍 **Search & Navigation**\n",
    "- `/find` - Search for specific code patterns\n",
    "- `/search` - Semantic search across codebase\n",
    "- `/goto` - Navigate to definitions or implementations\n",
    "\n",
    "### How to Use:\n",
    "1. Select code or place cursor\n",
    "2. Type `/` followed by command name\n",
    "3. Add specific instructions if needed\n",
    "4. Press Enter to execute\n",
    "\n",
    "### Examples:\n",
    "```\n",
    "/explain this recursive function\n",
    "/fix the memory leak in this code\n",
    "/test this authentication function\n",
    "/generate a REST API for user management\n",
    "```"
   ]
  },
  {
   "cell_type": "markdown",
   "metadata": {},
   "source": [
    "## 🎯 Adding Context - Making AI Smarter\n"
   ]
  },
  {
   "cell_type": "markdown",
   "metadata": {},
   "source": [
    "## 🔌 Model Context Protocol (MCP)\n",
    "\n",
    "**MCP is a standardized way for AI models to securely connect to external tools and data sources.**\n",
    "\n",
    "### 🎯 **Core Concept**\n",
    "Instead of copying/pasting files or data into AI chats, MCP allows AI assistants to:\n",
    "- **Directly access** your file system, databases, APIs\n",
    "- **Execute commands** with proper permissions\n",
    "- **Maintain context** across different applications\n",
    "- **Work with live data** rather than static snapshots\n",
    "\n",
    "### 🛠️ **Common Use Cases**\n",
    "- **File operations**: AI can read, write, and search your project files\n",
    "- **Database queries**: Execute SQL directly from AI conversations\n",
    "- **API integrations**: Connect to external services (GitHub, Slack, etc.)\n",
    "- **Development tools**: Run tests, build processes, git operations\n",
    "\n",
    "### 🔒 **Key Benefits**\n",
    "- **Enhanced productivity**: AI works with your actual development environment\n",
    "- **Security**: Sandboxed execution with explicit permissions\n",
    "- **Real-time**: Always working with current state, not outdated context\n",
    "- **Extensible**: Custom MCP servers for specific workflows\n",
    "\n",
    "**Think of MCP as giving your AI assistant \"hands\" to actually work with your tools, rather than just talking about them.**"
   ]
  },
  {
   "cell_type": "markdown",
   "metadata": {},
   "source": [
    "# 🎲 00\n",
    "- ▶️[Video]()\n",
    "- 🔗[Random link]()\n",
    "- 🇦🇲🎶[]()\n",
    "- 🌐🎶[]()\n",
    "- 🤌[Կարգին]()"
   ]
  },
  {
   "cell_type": "markdown",
   "metadata": {
    "id": "TfbUegKqXVyH"
   },
   "source": [
    "\n",
    "<a href=\"http://s01.flagcounter.com/more/1oO\"><img src=\"https://s01.flagcounter.com/count2/1oO/bg_FFFFFF/txt_000000/border_CCCCCC/columns_2/maxflags_10/viewers_0/labels_0/pageviews_1/flags_0/percent_0/\" alt=\"Flag Counter\"></a>\n"
   ]
  }
 ],
 "metadata": {
  "colab": {
   "authorship_tag": "ABX9TyOx7X+DxNeKu1zUVVCmsSHJ",
   "provenance": [
    {
     "file_id": "1_9UtYmPVVGmnWIKdBzPYkbtTlTbd0clo",
     "timestamp": 1735604987843
    },
    {
     "file_id": "15x56uwwONMo_ilzUJgt6UcX1d552xH6X",
     "timestamp": 1708441161475
    },
    {
     "file_id": "1LbG88IWtk30WlIoINzG4_vXHoJAvoDaP",
     "timestamp": 1683614319950
    }
   ]
  },
  "kernelspec": {
   "display_name": "Python 3",
   "name": "python3"
  },
  "language_info": {
   "codemirror_mode": {
    "name": "ipython",
    "version": 3
   },
   "file_extension": ".py",
   "mimetype": "text/x-python",
   "name": "python",
   "nbconvert_exporter": "python",
   "pygments_lexer": "ipython3",
   "version": "3.10.14"
  }
 },
 "nbformat": 4,
 "nbformat_minor": 0
}

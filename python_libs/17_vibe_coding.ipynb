{
 "cells": [
  {
   "cell_type": "raw",
   "metadata": {
    "vscode": {
     "languageId": "raw"
    }
   },
   "source": [
    "---\n",
    "title: \"17 Vibe Coding\"\n",
    "lightbox: true\n",
    "format: \n",
    "  html:\n",
    "    code-fold: false\n",
    "number-offset: 1\n",
    "---"
   ]
  },
  {
   "cell_type": "markdown",
   "metadata": {
    "vscode": {
     "languageId": "raw"
    }
   },
   "source": [
    "![image.png](../background_photos/libs_17_bad.jpg)\n",
    "Ջերմուկ, [լուսանկարի հղումը](https://unsplash.com/photos/a-duck-in-a-lake-NorXI-Eqv2g), Հեղինակ՝ [Hrag Kosbekian](https://unsplash.com/@hrag_photography)\n",
    "\n"
   ]
  },
  {
   "cell_type": "markdown",
   "metadata": {
    "vscode": {
     "languageId": "raw"
    }
   },
   "source": [
    "<a href=\"ToDo\" target=\"_parent\"><img src=\"https://colab.research.google.com/assets/colab-badge.svg\" alt=\"Open In Colab\"/></a> (ToDo)"
   ]
  },
  {
   "cell_type": "markdown",
   "metadata": {
    "vscode": {
     "languageId": "raw"
    }
   },
   "source": [
    "> Song reference - ToDo"
   ]
  },
  {
   "cell_type": "markdown",
   "metadata": {
    "vscode": {
     "languageId": "raw"
    }
   },
   "source": [
    "# 📌 Նկարագիր\n",
    "\n",
    "[📚 Ամբողջական նյութը]()\n",
    "\n",
    "#### 📺 Տեսանյութեր\n",
    "#### 🏡 Տնային"
   ]
  },
  {
   "cell_type": "markdown",
   "metadata": {
    "vscode": {
     "languageId": "raw"
    }
   },
   "source": [
    "# 📚 Նյութը"
   ]
  },
  {
   "cell_type": "markdown",
   "metadata": {},
   "source": [
    "https://arstechnica.com/ai/2025/07/exhausted-man-defeats-ai-model-in-world-coding-championship/\n",
    "\n",
    "https://x.com/FakePsyho/status/1945444118924272018\n",
    "\n",
    "https://www.swebench.com/\n",
    "\n",
    "https://t.me/hrantsbraindump/557\n",
    "\n",
    "https://x.com/karpathy/status/1886192184808149383?lang=en\n",
    "\n",
    "https://cursor.com/"
   ]
  },
  {
   "cell_type": "markdown",
   "metadata": {
    "vscode": {
     "languageId": "raw"
    }
   },
   "source": [
    "- [MCP VS Code](https://www.youtube.com/watch?v=Coot4TFTkN4)\n",
    "- [Agent mode](https://www.youtube.com/watch?v=dutyOc_cAEU)"
   ]
  },
  {
   "cell_type": "code",
   "execution_count": null,
   "metadata": {},
   "outputs": [],
   "source": [
    "# Install required libraries (run once):\n",
    "# pip install pandas numpy matplotlib\n",
    "\n",
    "import pandas as pd\n",
    "import numpy as np\n",
    "import matplotlib.pyplot as plt\n",
    "\n",
    "df = pd.DataFrame({\n",
    "    \"x\": np.arange(0, 10, 1),\n",
    "    \"y\": np.random.randint(0, 10, 10)\n",
    "})\n",
    "\n",
    "print(df)"
   ]
  },
  {
   "cell_type": "markdown",
   "metadata": {},
   "source": [
    "# 🚀 AI-Powered Development with GitHub Copilot\n",
    "\n",
    "Welcome to the world of AI-assisted coding! In this session, we'll explore how GitHub Copilot and other AI tools are revolutionizing software development."
   ]
  },
  {
   "cell_type": "markdown",
   "metadata": {},
   "source": [
    "## 🎓 Getting GitHub Copilot Free with University Email\n",
    "\n",
    "### Step-by-Step Guide:\n",
    "\n",
    "#### 1. **Verify Your Student Status**\n",
    "- Go to [GitHub Education](https://education.github.com/)\n",
    "- Click on \"Get Student Benefits\"\n",
    "- Sign in with your GitHub account or create one\n",
    "\n",
    "#### 2. **Apply for GitHub Student Developer Pack**\n",
    "- Upload proof of enrollment (student ID, transcript, or enrollment letter)\n",
    "- Use your university email address (.edu, .ac.uk, etc.)\n",
    "- Wait for verification (usually 1-7 days)\n",
    "\n",
    "#### 3. **Access GitHub Copilot**\n",
    "- Once approved, go to [GitHub Copilot](https://github.com/features/copilot)\n",
    "- Click \"Start free trial\" or \"Get Copilot for free\"\n",
    "- Students get GitHub Copilot completely free!\n",
    "\n",
    "#### 4. **Benefits Included:**\n",
    "- GitHub Copilot (AI pair programmer)\n",
    "- GitHub Pro (unlimited private repositories)\n",
    "- Access to GitHub Codespaces\n",
    "- Various other developer tools and credits\n",
    "\n",
    "#### Alternative Options:\n",
    "- **GitLab Duo**: Free tier available\n",
    "- **Codeium**: Free for individual developers\n",
    "- **Tabnine**: Free tier with limited features"
   ]
  },
  {
   "cell_type": "markdown",
   "metadata": {},
   "source": [
    "## 🤖 Types of AI Coding Assistance\n",
    "\n",
    "### 1. **ASK** - Conversational Programming 💬\n",
    "Get answers to coding questions and explanations:\n",
    "\n",
    "**Use Cases:**\n",
    "- \"How do I implement a binary search in Python?\"\n",
    "- \"What's the difference between `==` and `is` in Python?\"\n",
    "- \"Explain this regex pattern: `^[a-zA-Z0-9._%+-]+@[a-zA-Z0-9.-]+\\.[a-zA-Z]{2,}$`\"\n",
    "\n",
    "**Tools:**\n",
    "- GitHub Copilot Chat\n",
    "- ChatGPT/Claude for coding\n",
    "- Stack Overflow integrated AI\n",
    "\n",
    "### 2. **EDIT** - Code Transformation ✏️\n",
    "Modify existing code with AI assistance:\n",
    "\n",
    "**Use Cases:**\n",
    "- Refactor functions for better performance\n",
    "- Add error handling to existing code\n",
    "- Convert code between programming languages\n",
    "- Optimize algorithms\n",
    "- Add documentation and comments\n",
    "\n",
    "**Tools:**\n",
    "- Cursor AI (excellent for editing)\n",
    "- GitHub Copilot inline suggestions\n",
    "- Codeium edit mode\n",
    "\n",
    "### 3. **AGENT** - Autonomous Development 🤖\n",
    "AI that can work independently on larger tasks:\n",
    "\n",
    "**Use Cases:**\n",
    "- Generate entire modules or classes\n",
    "- Create test suites automatically\n",
    "- Build complete features from requirements\n",
    "- Handle complex multi-file changes\n",
    "- Project scaffolding and setup\n",
    "\n",
    "**Emerging Tools:**\n",
    "- GitHub Copilot Workspace\n",
    "- Devin (Cognition Labs)\n",
    "- GPT Engineer\n",
    "- AutoGPT for coding tasks\n",
    "\n",
    "### Best Practices:\n",
    "- Start with **ASK** for learning and understanding\n",
    "- Use **EDIT** for improving existing code\n",
    "- Reserve **AGENT** for well-defined, larger tasks"
   ]
  },
  {
   "cell_type": "markdown",
   "metadata": {},
   "source": [
    "## ⚡ Slash Commands - Quick AI Actions\n",
    "\n",
    "Slash commands provide quick access to common AI-powered development tasks:\n",
    "\n",
    "### Essential Slash Commands:\n",
    "\n",
    "#### 📝 **Documentation & Explanation**\n",
    "- `/explain` - Get detailed explanation of selected code\n",
    "- `/doc` - Generate documentation for functions/classes\n",
    "- `/comment` - Add inline comments to code\n",
    "- `/summarize` - Summarize what a file or function does\n",
    "\n",
    "#### 🔧 **Code Improvement**\n",
    "- `/fix` - Automatically fix bugs or errors\n",
    "- `/optimize` - Improve code performance\n",
    "- `/refactor` - Restructure code for better readability\n",
    "- `/simplify` - Make complex code more straightforward\n",
    "\n",
    "#### 🧪 **Testing & Quality**\n",
    "- `/test` - Generate unit tests for functions\n",
    "- `/tests` - Create comprehensive test suites\n",
    "- `/review` - Get code review suggestions\n",
    "- `/lint` - Check and fix code style issues\n",
    "\n",
    "#### 🚀 **Generation**\n",
    "- `/generate` - Create new code from description\n",
    "- `/scaffold` - Generate boilerplate code structure\n",
    "- `/api` - Generate API endpoints or client code\n",
    "- `/mock` - Create mock data or functions\n",
    "\n",
    "#### 🔍 **Search & Navigation**\n",
    "- `/find` - Search for specific code patterns\n",
    "- `/search` - Semantic search across codebase\n",
    "- `/goto` - Navigate to definitions or implementations\n",
    "\n",
    "### How to Use:\n",
    "1. Select code or place cursor\n",
    "2. Type `/` followed by command name\n",
    "3. Add specific instructions if needed\n",
    "4. Press Enter to execute\n",
    "\n",
    "### Examples:\n",
    "```\n",
    "/explain this recursive function\n",
    "/fix the memory leak in this code\n",
    "/test this authentication function\n",
    "/generate a REST API for user management\n",
    "```"
   ]
  },
  {
   "cell_type": "markdown",
   "metadata": {},
   "source": [
    "## 🎯 Adding Context - Making AI Smarter\n"
   ]
  },
  {
   "cell_type": "markdown",
   "metadata": {},
   "source": [
    "## 🔌 Model Context Protocol (MCP)\n",
    "\n",
    "**MCP is a standardized way for AI models to securely connect to external tools and data sources.**\n",
    "\n",
    "### 🎯 **What is MCP?**\n",
    "\n",
    "Model Context Protocol is an open protocol developed by Anthropic that enables AI assistants to securely access and interact with external systems. Think of it as a \"universal translator\" that allows AI models to:\n",
    "\n",
    "- **Understand your development environment** (files, databases, APIs)\n",
    "- **Execute actions** with proper permissions and security\n",
    "- **Maintain persistent context** across different tools and sessions\n",
    "- **Work with live, real-time data** instead of static information\n",
    "\n",
    "### 🏗️ **Architecture Overview**\n",
    "\n",
    "```\n",
    "┌─────────────────┐    ┌─────────────────┐    ┌─────────────────┐\n",
    "│   AI Assistant  │◄──►│   MCP Client    │◄──►│   MCP Server    │\n",
    "│   (Claude, etc) │    │   (VS Code)     │    │ (File System)  │\n",
    "└─────────────────┘    └─────────────────┘    └─────────────────┘\n",
    "                                               │\n",
    "                                               ▼\n",
    "                                       ┌─────────────────┐\n",
    "                                       │  External Tool  │\n",
    "                                       │ (Git, Database) │\n",
    "                                       └─────────────────┘\n",
    "```\n",
    "\n",
    "**Components:**\n",
    "- **MCP Client**: The application hosting the AI (VS Code, cursor, etc.)\n",
    "- **MCP Server**: Bridges AI requests to specific tools/services\n",
    "- **Protocol**: Standardized communication format (JSON-RPC)\n",
    "\n",
    "### 🛠️ **Types of MCP Servers**\n",
    "\n",
    "#### 1. **File System Access**\n",
    "```json\n",
    "{\n",
    "  \"tools\": [\n",
    "    {\n",
    "      \"name\": \"read_file\",\n",
    "      \"description\": \"Read contents of a file\",\n",
    "      \"parameters\": {\n",
    "        \"path\": \"string\"\n",
    "      }\n",
    "    },\n",
    "    {\n",
    "      \"name\": \"write_file\", \n",
    "      \"description\": \"Write content to a file\",\n",
    "      \"parameters\": {\n",
    "        \"path\": \"string\",\n",
    "        \"content\": \"string\"\n",
    "      }\n",
    "    }\n",
    "  ]\n",
    "}\n",
    "```\n",
    "\n",
    "#### 2. **Database Operations**\n",
    "```python\n",
    "# Example: PostgreSQL MCP Server\n",
    "class PostgreSQLServer:\n",
    "    def execute_query(self, query: str):\n",
    "        \"\"\"Execute SQL query and return results\"\"\"\n",
    "        return self.connection.execute(query).fetchall()\n",
    "    \n",
    "    def get_schema(self):\n",
    "        \"\"\"Return database schema information\"\"\"\n",
    "        return self.connection.execute(\n",
    "            \"SELECT table_name FROM information_schema.tables\"\n",
    "        ).fetchall()\n",
    "```\n",
    "\n",
    "#### 3. **Git Integration**\n",
    "```bash\n",
    "# Git MCP Server capabilities:\n",
    "git status          # Check repository status\n",
    "git log --oneline   # View commit history\n",
    "git diff           # Show changes\n",
    "git checkout -b    # Create new branch\n",
    "git commit -m      # Commit changes\n",
    "```\n",
    "\n",
    "### 🔧 **Setting Up MCP in VS Code**\n",
    "\n",
    "#### Step 1: Install MCP Extension\n",
    "```bash\n",
    "# Install VS Code MCP extension\n",
    "code --install-extension anthropic.mcp\n",
    "```\n",
    "\n",
    "#### Step 2: Configure MCP Servers\n",
    "Create `mcp-settings.json`:\n",
    "```json\n",
    "{\n",
    "  \"servers\": {\n",
    "    \"filesystem\": {\n",
    "      \"command\": \"npx\",\n",
    "      \"args\": [\"@anthropic/mcp-server-filesystem\", \"/path/to/project\"],\n",
    "      \"env\": {}\n",
    "    },\n",
    "    \"git\": {\n",
    "      \"command\": \"npx\", \n",
    "      \"args\": [\"@anthropic/mcp-server-git\", \"--repository\", \".\"],\n",
    "      \"env\": {}\n",
    "    },\n",
    "    \"sqlite\": {\n",
    "      \"command\": \"npx\",\n",
    "      \"args\": [\"@anthropic/mcp-server-sqlite\", \"--db-path\", \"./data.db\"],\n",
    "      \"env\": {}\n",
    "    }\n",
    "  }\n",
    "}\n",
    "```\n",
    "\n",
    "#### Step 3: Enable in VS Code Settings\n",
    "```json\n",
    "{\n",
    "  \"mcp.servers\": {\n",
    "    \"filesystem\": {\n",
    "      \"command\": \"npx\",\n",
    "      \"args\": [\"@anthropic/mcp-server-filesystem\", \"${workspaceFolder}\"]\n",
    "    }\n",
    "  }\n",
    "}\n",
    "```\n",
    "\n",
    "### 🚀 **Practical Examples**\n",
    "\n",
    "#### Example 1: AI Code Review with File Access\n",
    "```\n",
    "Human: \"Review the authentication module in src/auth/\"\n",
    "\n",
    "AI Response: \"I'll analyze your authentication module. Let me examine the files...\"\n",
    "[MCP reads src/auth/login.py, auth.py, middleware.py]\n",
    "\n",
    "\"I found several issues:\n",
    "1. Password validation in login.py line 23 lacks complexity requirements\n",
    "2. JWT tokens in auth.py don't have expiration handling\n",
    "3. Missing rate limiting in middleware.py\n",
    "\n",
    "Would you like me to fix these issues?\"\n",
    "```\n",
    "\n",
    "#### Example 2: Database-Driven Development\n",
    "```\n",
    "Human: \"Create a user management API based on our database schema\"\n",
    "\n",
    "AI Response: \"Let me check your database structure first...\"\n",
    "[MCP queries database schema]\n",
    "\n",
    "\"I see you have users, roles, and permissions tables. I'll create:\n",
    "1. User CRUD endpoints\n",
    "2. Role assignment functionality  \n",
    "3. Permission-based middleware\n",
    "\n",
    "Shall I implement this in your existing Flask app structure?\"\n",
    "```\n",
    "\n",
    "#### Example 3: Git Workflow Automation\n",
    "```\n",
    "Human: \"Help me prepare this feature branch for review\"\n",
    "\n",
    "AI Response: \"I'll help you prepare for review...\"\n",
    "[MCP executes: git status, git log, git diff]\n",
    "\n",
    "\"I see you have:\n",
    "- 5 commits on feature/user-dashboard\n",
    "- 2 modified files with uncommitted changes\n",
    "- No conflicts with main branch\n",
    "\n",
    "Let me:\n",
    "1. Commit the pending changes\n",
    "2. Squash related commits\n",
    "3. Write a comprehensive PR description\"\n",
    "```\n",
    "\n",
    "### 🔒 **Security & Permissions**\n",
    "\n",
    "#### Sandboxed Execution\n",
    "```yaml\n",
    "permissions:\n",
    "  file_system:\n",
    "    read: [\"src/\", \"tests/\", \"docs/\"]\n",
    "    write: [\"src/\", \"tests/\"]\n",
    "    exclude: [\".env\", \"secrets/\"]\n",
    "  \n",
    "  database:\n",
    "    read: [\"users\", \"products\"] \n",
    "    write: [\"logs\", \"analytics\"]\n",
    "    admin: false\n",
    "  \n",
    "  git:\n",
    "    read: true\n",
    "    commit: true\n",
    "    push: false  # Requires explicit approval\n",
    "```\n",
    "\n",
    "#### User Consent Flow\n",
    "```\n",
    "AI: \"I need to modify 3 files and run 2 database queries. \n",
    "     Files: src/models/user.py, tests/test_user.py, docs/api.md\n",
    "     Queries: SELECT user schema, INSERT test data\n",
    "     \n",
    "     Do you approve these actions? [Y/n]\"\n",
    "```\n",
    "\n",
    "### 🎯 **Best Practices**\n",
    "\n",
    "#### 1. **Start Small**\n",
    "```python\n",
    "# Begin with read-only access\n",
    "mcp_config = {\n",
    "    \"permissions\": {\n",
    "        \"file_read\": True,\n",
    "        \"file_write\": False,\n",
    "        \"command_execution\": False\n",
    "    }\n",
    "}\n",
    "```\n",
    "\n",
    "#### 2. **Use Specific Scopes**\n",
    "```json\n",
    "{\n",
    "  \"servers\": {\n",
    "    \"project-files\": {\n",
    "      \"command\": \"mcp-filesystem\",\n",
    "      \"args\": [\"--root\", \"./src\", \"--readonly\"]\n",
    "    }\n",
    "  }\n",
    "}\n",
    "```\n",
    "\n",
    "#### 3. **Monitor AI Actions**\n",
    "```python\n",
    "# Log all MCP interactions\n",
    "def log_mcp_action(action, params, result):\n",
    "    logger.info(f\"MCP Action: {action}\")\n",
    "    logger.info(f\"Parameters: {params}\")\n",
    "    logger.info(f\"Result: {result[:100]}...\")  # Truncated\n",
    "```\n",
    "\n",
    "### 🔮 **Future of MCP**\n",
    "\n",
    "#### Emerging Capabilities:\n",
    "- **Multi-modal contexts**: Images, audio, video analysis\n",
    "- **Real-time collaboration**: Multiple developers + AI\n",
    "- **Cross-platform protocols**: Universal tool integration\n",
    "- **Advanced security**: Zero-trust MCP networks\n",
    "\n",
    "#### Industry Adoption:\n",
    "- **GitHub Copilot Workspace**: Deep repository integration\n",
    "- **Cursor**: Native MCP support for file operations\n",
    "- **JetBrains**: MCP plugins for IDEs\n",
    "- **VS Code**: Built-in MCP client capabilities\n",
    "\n",
    "**MCP represents the future where AI assistants become true development partners, not just code completion tools.**"
   ]
  },
  {
   "cell_type": "code",
   "execution_count": 2,
   "metadata": {},
   "outputs": [
    {
     "name": "stdout",
     "output_type": "stream",
     "text": [
      "10 seconds have passed\n"
     ]
    }
   ],
   "source": [
    "# add timer for 20 seconds\n",
    "import time\n",
    "\n",
    "\n",
    "time.sleep(10)\n",
    "print(\"10 seconds have passed\")"
   ]
  },
  {
   "cell_type": "markdown",
   "metadata": {},
   "source": [
    "# 🎲 00\n",
    "- ▶️[Video]()\n",
    "- 🔗[Random link]()\n",
    "- 🇦🇲🎶[]()\n",
    "- 🌐🎶[]()\n",
    "- 🤌[Կարգին]()"
   ]
  },
  {
   "cell_type": "markdown",
   "metadata": {
    "id": "TfbUegKqXVyH"
   },
   "source": [
    "\n",
    "<a href=\"http://s01.flagcounter.com/more/1oO\"><img src=\"https://s01.flagcounter.com/count2/1oO/bg_FFFFFF/txt_000000/border_CCCCCC/columns_2/maxflags_10/viewers_0/labels_0/pageviews_1/flags_0/percent_0/\" alt=\"Flag Counter\"></a>\n"
   ]
  }
 ],
 "metadata": {
  "colab": {
   "authorship_tag": "ABX9TyOx7X+DxNeKu1zUVVCmsSHJ",
   "provenance": [
    {
     "file_id": "1_9UtYmPVVGmnWIKdBzPYkbtTlTbd0clo",
     "timestamp": 1735604987843
    },
    {
     "file_id": "15x56uwwONMo_ilzUJgt6UcX1d552xH6X",
     "timestamp": 1708441161475
    },
    {
     "file_id": "1LbG88IWtk30WlIoINzG4_vXHoJAvoDaP",
     "timestamp": 1683614319950
    }
   ]
  },
  "kernelspec": {
   "display_name": "lectures",
   "language": "python",
   "name": "python3"
  },
  "language_info": {
   "codemirror_mode": {
    "name": "ipython",
    "version": 3
   },
   "file_extension": ".py",
   "mimetype": "text/x-python",
   "name": "python",
   "nbconvert_exporter": "python",
   "pygments_lexer": "ipython3",
   "version": "3.10.18"
  }
 },
 "nbformat": 4,
 "nbformat_minor": 0
}

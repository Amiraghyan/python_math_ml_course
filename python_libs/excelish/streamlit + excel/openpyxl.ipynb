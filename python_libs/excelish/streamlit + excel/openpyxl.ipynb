{
 "cells": [
  {
   "attachments": {},
   "cell_type": "markdown",
   "metadata": {},
   "source": [
    "# ստեղծել ֆայլ"
   ]
  },
  {
   "cell_type": "code",
   "execution_count": 51,
   "metadata": {},
   "outputs": [],
   "source": [
    "from openpyxl import Workbook\n",
    "\n",
    "# Create a new Workbook\n",
    "wb = Workbook()\n",
    "\n",
    "# Save the workbook\n",
    "wb.save(\"sample.xlsx\")\n"
   ]
  },
  {
   "cell_type": "code",
   "execution_count": 52,
   "metadata": {},
   "outputs": [
    {
     "name": "stdout",
     "output_type": "stream",
     "text": [
      "Sheet names:  ['Sheet']\n",
      "Active sheet:  <Worksheet \"Sheet\">\n"
     ]
    }
   ],
   "source": [
    "# Accessing attributes of the workbook\n",
    "print(\"Sheet names: \", wb.sheetnames)\n",
    "print(\"Active sheet: \", wb.active)\n"
   ]
  },
  {
   "cell_type": "code",
   "execution_count": null,
   "metadata": {},
   "outputs": [],
   "source": [
    "wb.remove(wb[\"\"])\n"
   ]
  },
  {
   "cell_type": "code",
   "execution_count": 53,
   "metadata": {},
   "outputs": [],
   "source": [
    "# Load an existing Workbook\n",
    "from openpyxl import load_workbook\n",
    "wb = load_workbook(\"sample.xlsx\")"
   ]
  },
  {
   "cell_type": "code",
   "execution_count": 54,
   "metadata": {},
   "outputs": [
    {
     "data": {
      "text/plain": [
       "<openpyxl.workbook.workbook.Workbook at 0x2a7f14599f0>"
      ]
     },
     "execution_count": 54,
     "metadata": {},
     "output_type": "execute_result"
    }
   ],
   "source": [
    "wb"
   ]
  },
  {
   "attachments": {},
   "cell_type": "markdown",
   "metadata": {},
   "source": [
    "# Sheetերի հետ աշխանաք"
   ]
  },
  {
   "cell_type": "code",
   "execution_count": 55,
   "metadata": {},
   "outputs": [],
   "source": [
    "# Create a new sheet\n",
    "ws = wb.create_sheet(\"օրինակ\")\n",
    "\n",
    "# Access sheet by name\n",
    "ws = wb[\"օրինակ\"]\n",
    "\n",
    "# wb.save(\"sample.xlsx\")\n"
   ]
  },
  {
   "cell_type": "code",
   "execution_count": 58,
   "metadata": {},
   "outputs": [
    {
     "name": "stdout",
     "output_type": "stream",
     "text": [
      "նոր անուն\n"
     ]
    }
   ],
   "source": [
    "\n",
    "# # Change sheet title\n",
    "ws.title = \"Sheet\"\n",
    "\n",
    "# Check sheet properties\n",
    "print(ws.title)\n",
    "\n",
    "wb.save(\"sample.xlsx\")\n"
   ]
  },
  {
   "cell_type": "code",
   "execution_count": 60,
   "metadata": {},
   "outputs": [
    {
     "name": "stdout",
     "output_type": "stream",
     "text": [
      "Hello\n"
     ]
    }
   ],
   "source": [
    "ws = wb[\"Sheet\"]\n",
    "\n",
    "ws['A1'] = \"Hello\"\n",
    "ws['B1'] = \"World\"\n",
    "\n",
    "print(ws['A1'].value)\n",
    "\n",
    "ws['C1'] = 123\n",
    "\n",
    "# Cell styling\n",
    "from openpyxl.styles import Font\n",
    "\n",
    "\n",
    "ws['A1'].font = Font(bold=True, italic=True)\n",
    "\n",
    "wb.save(\"sample.xlsx\")\n",
    "\n"
   ]
  },
  {
   "cell_type": "code",
   "execution_count": 65,
   "metadata": {},
   "outputs": [
    {
     "name": "stdout",
     "output_type": "stream",
     "text": [
      "սյունն էր՝  (<Cell 'Sheet'.A1>, <Cell 'Sheet'.A2>, <Cell 'Sheet'.A3>, <Cell 'Sheet'.A4>, <Cell 'Sheet'.A5>, <Cell 'Sheet'.A6>)\n",
      "երկու տող՝  ((<Cell 'Sheet'.A1>, <Cell 'Sheet'.B1>, <Cell 'Sheet'.C1>), (<Cell 'Sheet'.A2>, <Cell 'Sheet'.B2>, <Cell 'Sheet'.C2>), (<Cell 'Sheet'.A3>, <Cell 'Sheet'.B3>, <Cell 'Sheet'.C3>))\n"
     ]
    }
   ],
   "source": [
    "# Append a row of data\n",
    "ws.append([1, 2, 3])\n",
    "\n",
    "# # Access a row\n",
    "# row = ws[1]\n",
    "# print(row)\n",
    "\n",
    "col = ws['A']\n",
    "print(\"սյունն էր՝ \", col)\n",
    "\n",
    "# # Slice rows\n",
    "rows = ws[1:3]\n",
    "print(\"երկու տող՝ \", rows)\n",
    "\n",
    "\n",
    "\n",
    "# # Adjusting the size of rows and columns\n",
    "ws.row_dimensions[1].height = 70\n",
    "ws.column_dimensions['B'].width = 20\n",
    "\n",
    "wb.save(\"sample.xlsx\")\n",
    "\n"
   ]
  },
  {
   "cell_type": "code",
   "execution_count": 67,
   "metadata": {},
   "outputs": [],
   "source": [
    "# բանաձևեր\n",
    "\n",
    "# Using built-in Excel formula\n",
    "ws['A3'] = \"=SUM(A1:A2)*509\"\n",
    "\n",
    "wb.save(\"sample.xlsx\")\n",
    "\n"
   ]
  },
  {
   "cell_type": "code",
   "execution_count": 68,
   "metadata": {},
   "outputs": [],
   "source": [
    "\n",
    "ws = wb[\"Sheet\"]\n",
    "\n",
    "\n",
    "# Inserting image (the image should exist in your directory)\n",
    "from openpyxl.drawing.image import Image\n",
    "\n",
    "img = Image('image.png')\n",
    "ws.add_image(img, 'C20')\n",
    "wb.save(\"sample.xlsx\")\n",
    "\n"
   ]
  },
  {
   "cell_type": "code",
   "execution_count": 70,
   "metadata": {},
   "outputs": [
    {
     "data": {
      "text/plain": [
       "['Sheet', 'նոր անուն']"
      ]
     },
     "execution_count": 70,
     "metadata": {},
     "output_type": "execute_result"
    }
   ],
   "source": [
    "wb.sheetnames"
   ]
  },
  {
   "cell_type": "code",
   "execution_count": 74,
   "metadata": {},
   "outputs": [],
   "source": [
    "ws = wb[\"նոր անուն\"]\n",
    "\n",
    "# Working with charts\n",
    "from openpyxl.chart import BarChart, Reference\n",
    "\n",
    "# add random numbers\n",
    "import random\n",
    "ws[\"A1\"] = \"սյուն 1\"\n",
    "ws[\"B1\"] = \"սյուն 2\"\n",
    "for i in range(2, 12):\n",
    "    ws['A' + str(i)] = random.randrange(0, 10)\n",
    "    ws['B' + str(i)] = random.randrange(0, 10)\n",
    "    \n",
    "values = Reference(ws, min_col=1, min_row=1, max_col=2, max_row=10)\n",
    "\n",
    "chart = BarChart()\n",
    "chart.add_data(values, titles_from_data=True)\n",
    "\n",
    "ws.add_chart(chart, \"E5\")\n",
    "\n",
    "wb.save(\"sample.xlsx\")"
   ]
  },
  {
   "attachments": {},
   "cell_type": "markdown",
   "metadata": {},
   "source": [
    "# Conditional formatting"
   ]
  },
  {
   "cell_type": "code",
   "execution_count": 75,
   "metadata": {},
   "outputs": [],
   "source": [
    "from openpyxl import Workbook\n",
    "from openpyxl.styles import PatternFill\n",
    "from openpyxl.styles.differential import DifferentialStyle\n",
    "from openpyxl.formatting.rule import Rule\n",
    "\n",
    "\n",
    "# Create a new Workbook\n",
    "wb = Workbook()\n",
    "\n",
    "ws = wb.active\n",
    "\n",
    "# Populate with sample data\n",
    "for i in range(1, 11):\n",
    "    ws[f\"A{i}\"] = i \n",
    "    ws[f\"B{i}\"] = i\n",
    "\n",
    "# Define a style for highlighting cells. Here, we'll fill highlighted cells with yellow.\n",
    "red = PatternFill(start_color=\"FF0000\", end_color=\"FF0000\", fill_type=\"solid\")\n",
    "dxf1 = DifferentialStyle(fill=red)\n",
    "\n",
    "yellow = PatternFill(start_color=\"FFFF00\", end_color=\"FFFF00\", fill_type=\"solid\")\n",
    "dxf2 = DifferentialStyle(fill=yellow)\n",
    "\n",
    "# Define the rule for conditional formatting\n",
    "rule1 = Rule(type=\"expression\", dxf=dxf1)\n",
    "rule2 = Rule(type=\"expression\", dxf=dxf2)\n",
    "\n",
    "\n",
    "# We want to highlight cells greater than 50\n",
    "rule1.formula = [\"$A1>5\"]\n",
    "ws.conditional_formatting.add(\"A1:A10\", rule1)\n",
    "\n",
    "rule2.formula = [\"$B1<5\"]\n",
    "ws.conditional_formatting.add(\"B1:B10\", rule2)\n",
    "\n",
    "# Save the workbook\n",
    "wb.save(\"formatting.xlsx\")\n"
   ]
  },
  {
   "attachments": {},
   "cell_type": "markdown",
   "metadata": {},
   "source": []
  },
  {
   "attachments": {},
   "cell_type": "markdown",
   "metadata": {},
   "source": []
  }
 ],
 "metadata": {
  "kernelspec": {
   "display_name": "Python 3",
   "language": "python",
   "name": "python3"
  },
  "language_info": {
   "codemirror_mode": {
    "name": "ipython",
    "version": 3
   },
   "file_extension": ".py",
   "mimetype": "text/x-python",
   "name": "python",
   "nbconvert_exporter": "python",
   "pygments_lexer": "ipython3",
   "version": "3.10.10"
  },
  "orig_nbformat": 4
 },
 "nbformat": 4,
 "nbformat_minor": 2
}

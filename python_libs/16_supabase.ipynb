{
 "cells": [
  {
   "cell_type": "raw",
   "metadata": {
    "vscode": {
     "languageId": "raw"
    }
   },
   "source": [
    "---\n",
    "title: \"## Title\"\n",
    "lightbox: true\n",
    "format: \n",
    "  html:\n",
    "    code-fold: false\n",
    "number-offset: 1\n",
    "---"
   ]
  },
  {
   "cell_type": "markdown",
   "metadata": {
    "vscode": {
     "languageId": "raw"
    }
   },
   "source": [
    "![image.png](../background_photos/)\n",
    "[լուսանկարի հղումը](), Հեղինակ՝ []()"
   ]
  },
  {
   "cell_type": "markdown",
   "metadata": {
    "vscode": {
     "languageId": "raw"
    }
   },
   "source": [
    "<a href=\"ToDo\" target=\"_parent\"><img src=\"https://colab.research.google.com/assets/colab-badge.svg\" alt=\"Open In Colab\"/></a> (ToDo)"
   ]
  },
  {
   "cell_type": "markdown",
   "metadata": {
    "vscode": {
     "languageId": "raw"
    }
   },
   "source": [
    "> Song reference - ToDo"
   ]
  },
  {
   "cell_type": "markdown",
   "metadata": {
    "vscode": {
     "languageId": "raw"
    }
   },
   "source": [
    "# 📌 Նկարագիր\n",
    "\n",
    "[📚 Ամբողջական նյութը]()\n",
    "\n",
    "#### 📺 Տեսանյութեր\n",
    "#### 🏡 Տնային"
   ]
  },
  {
   "cell_type": "markdown",
   "metadata": {
    "vscode": {
     "languageId": "raw"
    }
   },
   "source": [
    "# 📚 Նյութը"
   ]
  },
  {
   "cell_type": "markdown",
   "metadata": {},
   "source": [
    "# 🛠️ Գործնական\n"
   ]
  },
  {
   "cell_type": "code",
   "execution_count": null,
   "metadata": {},
   "outputs": [],
   "source": [
    "!uv pip install supabase"
   ]
  },
  {
   "cell_type": "code",
   "execution_count": 10,
   "metadata": {},
   "outputs": [
    {
     "name": "stderr",
     "output_type": "stream",
     "text": [
      "\u001b[2mUsing Python 3.10.16 environment at: C:\\Users\\hayk_\\.conda\\envs\\sl\u001b[0m\n",
      "\u001b[2mResolved \u001b[1m1 package\u001b[0m \u001b[2min 586ms\u001b[0m\u001b[0m\n",
      "\u001b[2mInstalled \u001b[1m1 package\u001b[0m \u001b[2min 46ms\u001b[0m\u001b[0m\n",
      " \u001b[32m+\u001b[39m \u001b[1mpython-dotenv\u001b[0m\u001b[2m==1.1.1\u001b[0m\n"
     ]
    }
   ],
   "source": [
    "!uv pip install python_dotenv"
   ]
  },
  {
   "cell_type": "code",
   "execution_count": 13,
   "metadata": {},
   "outputs": [],
   "source": [
    "from dotenv import load_dotenv\n",
    "load_dotenv(override=True)\n",
    "\n",
    "import os\n",
    "from supabase import create_client\n",
    "\n",
    "supabase_url = os.getenv(\"SUPABASE_URL\")\n",
    "supabase_key = os.getenv(\"SUPABASE_KEY\")\n",
    "\n",
    "# Fix: Use the correct variable name\n",
    "supabase = create_client(supabase_url, supabase_key)\n",
    "\n",
    "print(\"✅ Connected to Supabase!\")\n",
    "print(f\"🔗 URL: {supabase_url}\")\n",
    "print(f\"🔑 Key: {supabase_key[:20]}...\" if supabase_key else \"❌ No key found\")"
   ]
  },
  {
   "cell_type": "code",
   "execution_count": 24,
   "metadata": {},
   "outputs": [
    {
     "data": {
      "text/plain": [
       "[{'id': 1,\n",
       "  'created_at': '2025-08-19T00:08:59.531628+00:00',\n",
       "  'price': 509,\n",
       "  'name': 'Lori',\n",
       "  'supplier_id': 1}]"
      ]
     },
     "execution_count": 24,
     "metadata": {},
     "output_type": "execute_result"
    }
   ],
   "source": [
    "response = supabase.table(\"cheese\").select(\"*\").execute()\n",
    "response.data\n",
    "    "
   ]
  },
  {
   "cell_type": "code",
   "execution_count": 25,
   "metadata": {},
   "outputs": [
    {
     "ename": "APIError",
     "evalue": "{'message': 'duplicate key value violates unique constraint \"cheese_id_key\"', 'code': '23505', 'hint': None, 'details': 'Key (id)=(1) already exists.'}",
     "output_type": "error",
     "traceback": [
      "\u001b[1;31m---------------------------------------------------------------------------\u001b[0m",
      "\u001b[1;31mAPIError\u001b[0m                                  Traceback (most recent call last)",
      "Cell \u001b[1;32mIn[25], line 4\u001b[0m\n\u001b[0;32m      1\u001b[0m response \u001b[38;5;241m=\u001b[39m (\n\u001b[0;32m      2\u001b[0m     \u001b[43msupabase\u001b[49m\u001b[38;5;241;43m.\u001b[39;49m\u001b[43mtable\u001b[49m\u001b[43m(\u001b[49m\u001b[38;5;124;43m\"\u001b[39;49m\u001b[38;5;124;43mcheese\u001b[39;49m\u001b[38;5;124;43m\"\u001b[39;49m\u001b[43m)\u001b[49m\n\u001b[0;32m      3\u001b[0m \u001b[43m    \u001b[49m\u001b[38;5;241;43m.\u001b[39;49m\u001b[43minsert\u001b[49m\u001b[43m(\u001b[49m\u001b[43m{\u001b[49m\u001b[38;5;124;43m\"\u001b[39;49m\u001b[38;5;124;43mid\u001b[39;49m\u001b[38;5;124;43m\"\u001b[39;49m\u001b[43m:\u001b[49m\u001b[43m \u001b[49m\u001b[38;5;241;43m1\u001b[39;49m\u001b[43m,\u001b[49m\u001b[43m \u001b[49m\u001b[38;5;124;43m\"\u001b[39;49m\u001b[38;5;124;43mname\u001b[39;49m\u001b[38;5;124;43m\"\u001b[39;49m\u001b[43m:\u001b[49m\u001b[43m \u001b[49m\u001b[38;5;124;43m\"\u001b[39;49m\u001b[38;5;124;43mCheddar\u001b[39;49m\u001b[38;5;124;43m\"\u001b[39;49m\u001b[43m}\u001b[49m\u001b[43m)\u001b[49m\n\u001b[1;32m----> 4\u001b[0m \u001b[43m    \u001b[49m\u001b[38;5;241;43m.\u001b[39;49m\u001b[43mexecute\u001b[49m\u001b[43m(\u001b[49m\u001b[43m)\u001b[49m\n\u001b[0;32m      5\u001b[0m )\n",
      "File \u001b[1;32mc:\\Users\\hayk_\\.conda\\envs\\sl\\lib\\site-packages\\postgrest\\_sync\\request_builder.py:78\u001b[0m, in \u001b[0;36mSyncQueryRequestBuilder.execute\u001b[1;34m(self)\u001b[0m\n\u001b[0;32m     76\u001b[0m     \u001b[38;5;28;01melse\u001b[39;00m:\n\u001b[0;32m     77\u001b[0m         json_obj \u001b[38;5;241m=\u001b[39m model_validate_json(APIErrorFromJSON, r\u001b[38;5;241m.\u001b[39mcontent)\n\u001b[1;32m---> 78\u001b[0m         \u001b[38;5;28;01mraise\u001b[39;00m APIError(\u001b[38;5;28mdict\u001b[39m(json_obj))\n\u001b[0;32m     79\u001b[0m \u001b[38;5;28;01mexcept\u001b[39;00m ValidationError \u001b[38;5;28;01mas\u001b[39;00m e:\n\u001b[0;32m     80\u001b[0m     \u001b[38;5;28;01mraise\u001b[39;00m APIError(generate_default_error_message(r))\n",
      "\u001b[1;31mAPIError\u001b[0m: {'message': 'duplicate key value violates unique constraint \"cheese_id_key\"', 'code': '23505', 'hint': None, 'details': 'Key (id)=(1) already exists.'}"
     ]
    }
   ],
   "source": [
    "response = (\n",
    "    supabase.table(\"cheese\")\n",
    "    .insert({\"id\": 1, \"name\": \"Cheddar\"})\n",
    "    .execute()\n",
    ")"
   ]
  },
  {
   "cell_type": "code",
   "execution_count": 26,
   "metadata": {},
   "outputs": [],
   "source": [
    "response = (\n",
    "    supabase.table(\"cheese\")\n",
    "    .insert({\"id\": 2, \"name\": \"Cheddar\"})\n",
    "    .execute()\n",
    ")"
   ]
  },
  {
   "cell_type": "code",
   "execution_count": 29,
   "metadata": {},
   "outputs": [
    {
     "data": {
      "text/plain": [
       "[{'id': 1, 'created_at': '2025-08-19T00:08:59.531628+00:00'},\n",
       " {'id': 2, 'created_at': '2025-08-19T00:33:47.667117+00:00'}]"
      ]
     },
     "execution_count": 29,
     "metadata": {},
     "output_type": "execute_result"
    }
   ],
   "source": [
    "response = supabase.table(\"cheese\").select(\"id\", \"created_at\").execute()\n",
    "response.data\n",
    "    "
   ]
  },
  {
   "cell_type": "code",
   "execution_count": 32,
   "metadata": {},
   "outputs": [],
   "source": [
    "response = supabase.table(\"supplier\").select(\"*\").execute()\n",
    "\n",
    "# insert\n",
    "response = (\n",
    "    supabase.table(\"supplier\")\n",
    "    .insert({\"id\": 1, \"name\": \"Supplier A\"})\n",
    "    .execute()\n",
    ")"
   ]
  },
  {
   "cell_type": "code",
   "execution_count": 34,
   "metadata": {},
   "outputs": [
    {
     "data": {
      "text/plain": [
       "APIResponse[~_ReturnT](data=[{'id': 1, 'created_at': '2025-08-19T00:36:25.140416+00:00', 'name': 'Supplier A'}], count=None)"
      ]
     },
     "execution_count": 34,
     "metadata": {},
     "output_type": "execute_result"
    }
   ],
   "source": [
    "response = supabase.table(\"supplier\").select(\"*\").execute()\n",
    "response"
   ]
  },
  {
   "cell_type": "code",
   "execution_count": 41,
   "metadata": {},
   "outputs": [
    {
     "name": "stdout",
     "output_type": "stream",
     "text": [
      "🧀 Inserting cheeses...\n"
     ]
    },
    {
     "ename": "APIError",
     "evalue": "{'message': 'duplicate key value violates unique constraint \"cheese_supplier_key\"', 'code': '23505', 'hint': None, 'details': 'Key (supplier_id)=(1) already exists.'}",
     "output_type": "error",
     "traceback": [
      "\u001b[1;31m---------------------------------------------------------------------------\u001b[0m",
      "\u001b[1;31mAPIError\u001b[0m                                  Traceback (most recent call last)",
      "Cell \u001b[1;32mIn[41], line 18\u001b[0m\n\u001b[0;32m      6\u001b[0m cheeses_data \u001b[38;5;241m=\u001b[39m [\n\u001b[0;32m      7\u001b[0m     {\u001b[38;5;124m\"\u001b[39m\u001b[38;5;124mid\u001b[39m\u001b[38;5;124m\"\u001b[39m: \u001b[38;5;241m9\u001b[39m, \u001b[38;5;124m\"\u001b[39m\u001b[38;5;124mname\u001b[39m\u001b[38;5;124m\"\u001b[39m: \u001b[38;5;124m\"\u001b[39m\u001b[38;5;124mMozzarella\u001b[39m\u001b[38;5;124m\"\u001b[39m, \u001b[38;5;124m\"\u001b[39m\u001b[38;5;124mprice\u001b[39m\u001b[38;5;124m\"\u001b[39m: \u001b[38;5;241m1250\u001b[39m, \u001b[38;5;124m\"\u001b[39m\u001b[38;5;124msupplier_id\u001b[39m\u001b[38;5;124m\"\u001b[39m: \u001b[38;5;241m1\u001b[39m},\n\u001b[0;32m      8\u001b[0m     {\u001b[38;5;124m\"\u001b[39m\u001b[38;5;124mid\u001b[39m\u001b[38;5;124m\"\u001b[39m: \u001b[38;5;241m2\u001b[39m, \u001b[38;5;124m\"\u001b[39m\u001b[38;5;124mname\u001b[39m\u001b[38;5;124m\"\u001b[39m: \u001b[38;5;124m\"\u001b[39m\u001b[38;5;124mParmesan\u001b[39m\u001b[38;5;124m\"\u001b[39m, \u001b[38;5;124m\"\u001b[39m\u001b[38;5;124mprice\u001b[39m\u001b[38;5;124m\"\u001b[39m: \u001b[38;5;241m2500\u001b[39m, \u001b[38;5;124m\"\u001b[39m\u001b[38;5;124msupplier_id\u001b[39m\u001b[38;5;124m\"\u001b[39m: \u001b[38;5;241m1\u001b[39m},\n\u001b[1;32m   (...)\u001b[0m\n\u001b[0;32m     14\u001b[0m     {\u001b[38;5;124m\"\u001b[39m\u001b[38;5;124mid\u001b[39m\u001b[38;5;124m\"\u001b[39m: \u001b[38;5;241m8\u001b[39m, \u001b[38;5;124m\"\u001b[39m\u001b[38;5;124mname\u001b[39m\u001b[38;5;124m\"\u001b[39m: \u001b[38;5;124m\"\u001b[39m\u001b[38;5;124mGouda\u001b[39m\u001b[38;5;124m\"\u001b[39m, \u001b[38;5;124m\"\u001b[39m\u001b[38;5;124mprice\u001b[39m\u001b[38;5;124m\"\u001b[39m: \u001b[38;5;241m1975\u001b[39m, \u001b[38;5;124m\"\u001b[39m\u001b[38;5;124msupplier_id\u001b[39m\u001b[38;5;124m\"\u001b[39m: \u001b[38;5;241m4\u001b[39m}\n\u001b[0;32m     15\u001b[0m ]\n\u001b[0;32m     17\u001b[0m \u001b[38;5;28;01mfor\u001b[39;00m cheese \u001b[38;5;129;01min\u001b[39;00m cheeses_data:\n\u001b[1;32m---> 18\u001b[0m     \u001b[43msupabase\u001b[49m\u001b[38;5;241;43m.\u001b[39;49m\u001b[43mtable\u001b[49m\u001b[43m(\u001b[49m\u001b[38;5;124;43m\"\u001b[39;49m\u001b[38;5;124;43mcheese\u001b[39;49m\u001b[38;5;124;43m\"\u001b[39;49m\u001b[43m)\u001b[49m\u001b[38;5;241;43m.\u001b[39;49m\u001b[43minsert\u001b[49m\u001b[43m(\u001b[49m\u001b[43mcheese\u001b[49m\u001b[43m)\u001b[49m\u001b[38;5;241;43m.\u001b[39;49m\u001b[43mexecute\u001b[49m\u001b[43m(\u001b[49m\u001b[43m)\u001b[49m\n\u001b[0;32m     20\u001b[0m \u001b[38;5;28mprint\u001b[39m(\u001b[38;5;124m\"\u001b[39m\u001b[38;5;124m✅ Cheeses inserted!\u001b[39m\u001b[38;5;124m\"\u001b[39m)\n\u001b[0;32m     21\u001b[0m \u001b[38;5;28mprint\u001b[39m(\u001b[38;5;124m\"\u001b[39m\u001b[38;5;124m🎉 Artificial data ready for testing!\u001b[39m\u001b[38;5;124m\"\u001b[39m)\n",
      "File \u001b[1;32mc:\\Users\\hayk_\\.conda\\envs\\sl\\lib\\site-packages\\postgrest\\_sync\\request_builder.py:78\u001b[0m, in \u001b[0;36mSyncQueryRequestBuilder.execute\u001b[1;34m(self)\u001b[0m\n\u001b[0;32m     76\u001b[0m     \u001b[38;5;28;01melse\u001b[39;00m:\n\u001b[0;32m     77\u001b[0m         json_obj \u001b[38;5;241m=\u001b[39m model_validate_json(APIErrorFromJSON, r\u001b[38;5;241m.\u001b[39mcontent)\n\u001b[1;32m---> 78\u001b[0m         \u001b[38;5;28;01mraise\u001b[39;00m APIError(\u001b[38;5;28mdict\u001b[39m(json_obj))\n\u001b[0;32m     79\u001b[0m \u001b[38;5;28;01mexcept\u001b[39;00m ValidationError \u001b[38;5;28;01mas\u001b[39;00m e:\n\u001b[0;32m     80\u001b[0m     \u001b[38;5;28;01mraise\u001b[39;00m APIError(generate_default_error_message(r))\n",
      "\u001b[1;31mAPIError\u001b[0m: {'message': 'duplicate key value violates unique constraint \"cheese_supplier_key\"', 'code': '23505', 'hint': None, 'details': 'Key (supplier_id)=(1) already exists.'}"
     ]
    }
   ],
   "source": [
    "# 🧀 Create Artificial Data for Testing\n",
    "\n",
    "\n",
    "# Insert cheeses\n",
    "print(\"🧀 Inserting cheeses...\")\n",
    "cheeses_data = [\n",
    "    {\"id\": 9, \"name\": \"Mozzarella\", \"price\": 1250, \"supplier_id\": 1},\n",
    "    {\"id\": 2, \"name\": \"Parmesan\", \"price\": 2500, \"supplier_id\": 1},\n",
    "    {\"id\": 3, \"name\": \"Brie\", \"price\": 1875, \"supplier_id\": 2},\n",
    "    {\"id\": 4, \"name\": \"Camembert\", \"price\": 1625, \"supplier_id\": 2},\n",
    "    {\"id\": 5, \"name\": \"Emmental\", \"price\": 2200, \"supplier_id\": 3},\n",
    "    {\"id\": 6, \"name\": \"Gruyere\", \"price\": 2850, \"supplier_id\": 3},\n",
    "    {\"id\": 7, \"name\": \"Cheddar\", \"price\": 1500, \"supplier_id\": 4},\n",
    "    {\"id\": 8, \"name\": \"Gouda\", \"price\": 1975, \"supplier_id\": 4}\n",
    "]\n",
    "\n",
    "for cheese in cheeses_data:\n",
    "    supabase.table(\"cheese\").insert(cheese).execute()\n",
    "\n",
    "print(\"✅ Cheeses inserted!\")\n",
    "print(\"🎉 Artificial data ready for testing!\")"
   ]
  },
  {
   "cell_type": "code",
   "execution_count": null,
   "metadata": {},
   "outputs": [],
   "source": [
    "print(\"📦 Inserting suppliers...\")\n",
    "suppliers_data = [\n",
    "    {\"id\": 2, \"name\": \"Կովիկներ ՍՊԸ\"},\n",
    "    {\"id\": 3, \"name\": \"Swiss Dairy\"},\n",
    "    {\"id\": 4, \"name\": \"Local Farm\"}\n",
    "]\n",
    "\n",
    "for supplier in suppliers_data:\n",
    "    supabase.table(\"supplier\").insert(supplier).execute()\n",
    "\n",
    "print(\"✅ Suppliers inserted!\")\n"
   ]
  },
  {
   "cell_type": "code",
   "execution_count": null,
   "metadata": {},
   "outputs": [],
   "source": [
    "# 🔍 1. FILTERING Examples\n",
    "\n",
    "print(\"🔍 FILTERING EXAMPLES\")\n",
    "print(\"=\" * 50)\n",
    "\n",
    "# Filter 1: Cheeses with price > 20\n",
    "print(\"💰 Expensive cheeses (price > 20):\")\n",
    "expensive = supabase.table(\"cheese\").select(\"*\").gt(\"price\", 20).execute()\n",
    "for cheese in expensive.data:\n",
    "    print(f\"  - {cheese['name']}: ${cheese['price']}\")\n",
    "\n",
    "print()\n",
    "\n",
    "# Filter 2: Cheeses from specific supplier\n",
    "print(\"🇮🇹 Italian cheeses (supplier_id = 1):\")\n",
    "italian = supabase.table(\"cheese\").select(\"*\").eq(\"supplier_id\", 1).execute()\n",
    "for cheese in italian.data:\n",
    "    print(f\"  - {cheese['name']}: ${cheese['price']}\")\n",
    "\n",
    "print()\n",
    "\n",
    "# Filter 3: Price range filter\n",
    "print(\"💵 Mid-range cheeses ($15-$20):\")\n",
    "midrange = (supabase.table(\"cheese\")\n",
    "           .select(\"*\")\n",
    "           .gte(\"price\", 15)\n",
    "           .lte(\"price\", 20)\n",
    "           .execute())\n",
    "for cheese in midrange.data:\n",
    "    print(f\"  - {cheese['name']}: ${cheese['price']}\")\n",
    "\n",
    "print()\n",
    "\n",
    "# Filter 4: Multiple conditions with OR\n",
    "print(\"🧀 Premium cheeses (Parmesan OR Gruyere):\")\n",
    "premium = (supabase.table(\"cheese\")\n",
    "          .select(\"*\")\n",
    "          .in_(\"name\", [\"Parmesan\", \"Gruyere\"])\n",
    "          .execute())\n",
    "for cheese in premium.data:\n",
    "    print(f\"  - {cheese['name']}: ${cheese['price']}\")\n",
    "\n",
    "print(\"\\n\" + \"=\" * 50)"
   ]
  },
  {
   "cell_type": "code",
   "execution_count": null,
   "metadata": {},
   "outputs": [],
   "source": [
    "# 📊 2. GROUP BY Examples (using PostgreSQL functions)\n",
    "\n",
    "print(\"📊 GROUP BY EXAMPLES\")\n",
    "print(\"=\" * 50)\n",
    "\n",
    "# Note: Supabase Python client doesn't have direct GROUP BY\n",
    "# But we can use PostgreSQL functions with .rpc() or manual SQL\n",
    "\n",
    "# Group By 1: Count cheeses per supplier\n",
    "print(\"🏭 Cheeses count per supplier:\")\n",
    "# We'll do this manually by getting data and processing\n",
    "all_cheeses = supabase.table(\"cheese\").select(\"supplier_id\").execute()\n",
    "supplier_counts = {}\n",
    "for cheese in all_cheeses.data:\n",
    "    sid = cheese['supplier_id']\n",
    "    supplier_counts[sid] = supplier_counts.get(sid, 0) + 1\n",
    "\n",
    "# Get supplier names\n",
    "for supplier_id, count in supplier_counts.items():\n",
    "    supplier = supabase.table(\"supplier\").select(\"name\").eq(\"id\", supplier_id).execute()\n",
    "    supplier_name = supplier.data[0]['name'] if supplier.data else f\"Supplier {supplier_id}\"\n",
    "    print(f\"  - {supplier_name}: {count} cheeses\")\n",
    "\n",
    "print()\n",
    "\n",
    "# Group By 2: Average price per supplier\n",
    "print(\"💰 Average price per supplier:\")\n",
    "all_data = supabase.table(\"cheese\").select(\"supplier_id, price\").execute()\n",
    "supplier_prices = {}\n",
    "for cheese in all_data.data:\n",
    "    sid = cheese['supplier_id']\n",
    "    if sid not in supplier_prices:\n",
    "        supplier_prices[sid] = []\n",
    "    supplier_prices[sid].append(cheese['price'])\n",
    "\n",
    "for supplier_id, prices in supplier_prices.items():\n",
    "    avg_price = sum(prices) / len(prices)\n",
    "    supplier = supabase.table(\"supplier\").select(\"name\").eq(\"id\", supplier_id).execute()\n",
    "    supplier_name = supplier.data[0]['name'] if supplier.data else f\"Supplier {supplier_id}\"\n",
    "    print(f\"  - {supplier_name}: ${avg_price:.2f}\")\n",
    "\n",
    "print()\n",
    "\n",
    "# Group By 3: Price ranges\n",
    "print(\"📈 Cheese count by price range:\")\n",
    "price_ranges = {\"$0-15\": 0, \"$15-20\": 0, \"$20-25\": 0, \"$25+\": 0}\n",
    "for cheese in all_data.data:\n",
    "    price = cheese['price']\n",
    "    if price < 15:\n",
    "        price_ranges[\"$0-15\"] += 1\n",
    "    elif price < 20:\n",
    "        price_ranges[\"$15-20\"] += 1\n",
    "    elif price < 25:\n",
    "        price_ranges[\"$20-25\"] += 1\n",
    "    else:\n",
    "        price_ranges[\"$25+\"] += 1\n",
    "\n",
    "for range_name, count in price_ranges.items():\n",
    "    print(f\"  - {range_name}: {count} cheeses\")\n",
    "\n",
    "print(\"\\n\" + \"=\" * 50)"
   ]
  },
  {
   "cell_type": "code",
   "execution_count": null,
   "metadata": {},
   "outputs": [],
   "source": [
    "# 🔗 3. JOIN Examples\n",
    "\n",
    "print(\"🔗 JOIN EXAMPLES\")\n",
    "print(\"=\" * 50)\n",
    "\n",
    "# Join 1: Get all cheeses with their supplier names\n",
    "print(\"🧀 All cheeses with supplier information:\")\n",
    "# In Supabase, we use foreign table syntax for joins\n",
    "cheese_with_suppliers = (supabase.table(\"cheese\")\n",
    "                         .select(\"id, name, price, supplier:supplier_id(name)\")\n",
    "                         .execute())\n",
    "\n",
    "for item in cheese_with_suppliers.data:\n",
    "    supplier_name = item['supplier']['name'] if item['supplier'] else 'Unknown'\n",
    "    print(f\"  - {item['name']} (${item['price']}) from {supplier_name}\")\n",
    "\n",
    "print()\n",
    "\n",
    "# Join 2: Get suppliers with their cheese count and total value\n",
    "print(\"🏭 Suppliers with cheese inventory:\")\n",
    "suppliers_with_cheeses = (supabase.table(\"supplier\")\n",
    "                          .select(\"id, name, cheese:cheese(name, price)\")\n",
    "                          .execute())\n",
    "\n",
    "for supplier in suppliers_with_cheeses.data:\n",
    "    cheese_list = supplier['cheese']\n",
    "    cheese_count = len(cheese_list)\n",
    "    total_value = sum(cheese['price'] for cheese in cheese_list)\n",
    "    cheese_names = [cheese['name'] for cheese in cheese_list]\n",
    "    \n",
    "    print(f\"  - {supplier['name']}:\")\n",
    "    print(f\"    • {cheese_count} cheeses\")\n",
    "    print(f\"    • Total value: ${total_value:.2f}\")\n",
    "    print(f\"    • Products: {', '.join(cheese_names)}\")\n",
    "    print()\n",
    "\n",
    "# Join 3: Get expensive cheeses (>$20) with supplier info\n",
    "print(\"💎 Premium cheeses (>$20) with suppliers:\")\n",
    "premium_cheeses = (supabase.table(\"cheese\")\n",
    "                  .select(\"name, price, supplier:supplier_id(name)\")\n",
    "                  .gt(\"price\", 20)\n",
    "                  .execute())\n",
    "\n",
    "for cheese in premium_cheeses.data:\n",
    "    supplier_name = cheese['supplier']['name'] if cheese['supplier'] else 'Unknown'\n",
    "    print(f\"  - {cheese['name']}: ${cheese['price']} from {supplier_name}\")\n",
    "\n",
    "print()\n",
    "\n",
    "# Join 4: Filter by supplier and show their cheeses\n",
    "print(\"🇫🇷 French supplier cheeses:\")\n",
    "french_cheeses = (supabase.table(\"cheese\")\n",
    "                 .select(\"name, price, supplier:supplier_id(name)\")\n",
    "                 .eq(\"supplier_id\", 2)  # French Fromagerie\n",
    "                 .execute())\n",
    "\n",
    "for cheese in french_cheeses.data:\n",
    "    print(f\"  - {cheese['name']}: ${cheese['price']}\")\n",
    "\n",
    "print(\"\\n\" + \"=\" * 50)\n",
    "print(\"🎉 All examples completed!\")"
   ]
  },
  {
   "cell_type": "markdown",
   "metadata": {},
   "source": [
    "GPT\n",
    "\n"
   ]
  },
  {
   "cell_type": "code",
   "execution_count": null,
   "metadata": {},
   "outputs": [],
   "source": [
    "-- Recommended: run in the Supabase SQL editor\n",
    "\n",
    "-- SUPPLIERS\n",
    "create table if not exists public.supplier (\n",
    "  id          bigserial primary key,\n",
    "  created_at  timestamptz not null default now(),\n",
    "  name        text not null unique\n",
    ");\n",
    "\n",
    "-- CHEESES\n",
    "create table if not exists public.cheese (\n",
    "  id           bigserial primary key,\n",
    "  created_at   timestamptz not null default now(),\n",
    "  -- store prices in integer cents (e.g., 550 = €5.50)\n",
    "  price        integer not null check (price >= 0),\n",
    "  name         text not null,\n",
    "  supplier_id  bigint,\n",
    "  constraint cheese_supplier_id_fkey\n",
    "    foreign key (supplier_id)\n",
    "    references public.supplier(id)\n",
    "    on delete set null\n",
    ");\n",
    "\n",
    "-- Helpful indexes\n",
    "create index if not exists idx_cheese_supplier_id on public.cheese(supplier_id);\n",
    "create index if not exists idx_cheese_price on public.cheese(price);\n"
   ]
  },
  {
   "cell_type": "code",
   "execution_count": 43,
   "metadata": {},
   "outputs": [],
   "source": [
    "from supabase import create_client, Client\n",
    "import os\n",
    "\n",
    "url = os.environ[\"SUPABASE_URL\"]\n",
    "key = os.environ[\"SUPABASE_KEY\"]  # or anon for read-only\n",
    "supabase: Client = create_client(url, key)\n"
   ]
  },
  {
   "cell_type": "code",
   "execution_count": 44,
   "metadata": {},
   "outputs": [
    {
     "data": {
      "text/plain": [
       "APIResponse[~_ReturnT](data=[{'id': 1, 'created_at': '2025-08-19T01:02:56.083173+00:00', 'name': 'Կովիկներ ՍՊԸ'}, {'id': 2, 'created_at': '2025-08-19T01:02:56.083173+00:00', 'name': 'ՄՈՒՈՒՈՈՒ ՓԲԸ'}, {'id': 3, 'created_at': '2025-08-19T01:02:56.083173+00:00', 'name': 'Մուուերի համակովական ասոցիցացիա'}], count=None)"
      ]
     },
     "execution_count": 44,
     "metadata": {},
     "output_type": "execute_result"
    }
   ],
   "source": [
    "supplier_data = [\n",
    "    {\"id\": 1, \"name\": \"Կովիկներ ՍՊԸ\"},\n",
    "    {\"id\": 2, \"name\": \"ՄՈՒՈՒՈՈՒ ՓԲԸ\"},\n",
    "    {\"id\": 3, \"name\": \"Մուուերի համակովական ասոցիցացիա\"}\n",
    "]\n",
    "\n",
    "\n",
    "supabase.table(\"supplier\").insert(supplier_data).execute()\n",
    "\n"
   ]
  },
  {
   "cell_type": "code",
   "execution_count": null,
   "metadata": {},
   "outputs": [
    {
     "data": {
      "text/plain": [
       "APIResponse[~_ReturnT](data=[{'id': 1, 'created_at': '2025-08-19T01:04:33.868746+00:00', 'price': 550, 'name': 'Gouda', 'supplier_id': 1}, {'id': 2, 'created_at': '2025-08-19T01:04:33.868746+00:00', 'price': 850, 'name': 'Լոռի', 'supplier_id': 1}, {'id': 3, 'created_at': '2025-08-19T01:04:33.868746+00:00', 'price': 920, 'name': 'Չանախ', 'supplier_id': 2}, {'id': 4, 'created_at': '2025-08-19T01:04:33.868746+00:00', 'price': 890, 'name': 'Բորբոսով', 'supplier_id': 3}], count=None)"
      ]
     },
     "execution_count": 45,
     "metadata": {},
     "output_type": "execute_result"
    }
   ],
   "source": [
    "cheese_data = [\n",
    "    {\"name\": \"Gouda\", \"price\": 550, \"supplier_id\": 1},\n",
    "    {\"name\": \"Լոռի\", \"price\": 850, \"supplier_id\": 1},\n",
    "    {\"name\": \"Չանախ\", \"price\": 920, \"supplier_id\": 2},\n",
    "    {\"name\": \"Բորբոսով\", \"price\": 890, \"supplier_id\": 1},\n",
    "]\n",
    "\n",
    "\n",
    "supabase.table(\"cheese\").insert(cheese_data).execute()\n"
   ]
  },
  {
   "cell_type": "code",
   "execution_count": 47,
   "metadata": {},
   "outputs": [
    {
     "name": "stdout",
     "output_type": "stream",
     "text": [
      "   id                        created_at  price      name  supplier_id\n",
      "0   1  2025-08-19T01:04:33.868746+00:00    550     Gouda            1\n",
      "1   2  2025-08-19T01:04:33.868746+00:00    850      Լոռի            1\n",
      "2   3  2025-08-19T01:04:33.868746+00:00    920     Չանախ            2\n",
      "3   4  2025-08-19T01:04:33.868746+00:00    890  Բորբոսով            3\n"
     ]
    }
   ],
   "source": [
    "import pandas as pd\n",
    "\n",
    "# All cheeses\n",
    "r = supabase.table(\"cheese\").select(\"*\").execute()\n",
    "df = pd.DataFrame(r.data)\n",
    "print(df)\n",
    "\n",
    "\n"
   ]
  },
  {
   "cell_type": "code",
   "execution_count": 49,
   "metadata": {},
   "outputs": [
    {
     "name": "stdout",
     "output_type": "stream",
     "text": [
      "   id      name  price\n",
      "0   3     Չանախ    920\n",
      "1   4  Բորբոսով    890\n",
      "2   2      Լոռի    850\n"
     ]
    }
   ],
   "source": [
    "\n",
    "# Top 10 most expensive\n",
    "r = (supabase.table(\"cheese\")\n",
    "     .select(\"id,name,price\")\n",
    "     .order(\"price\", desc=True)\n",
    "     .range(0, 2)\n",
    "     .execute())\n",
    "df = pd.DataFrame(r.data)\n",
    "print(df)"
   ]
  },
  {
   "cell_type": "code",
   "execution_count": 51,
   "metadata": {},
   "outputs": [
    {
     "name": "stdout",
     "output_type": "stream",
     "text": [
      "   id      name  price                                           supplier\n",
      "0   1     Gouda    550                  {'id': 1, 'name': 'Կովիկներ ՍՊԸ'}\n",
      "1   2      Լոռի    850                  {'id': 1, 'name': 'Կովիկներ ՍՊԸ'}\n",
      "2   3     Չանախ    920                  {'id': 2, 'name': 'ՄՈՒՈՒՈՈՒ ՓԲԸ'}\n",
      "3   4  Բորբոսով    890  {'id': 3, 'name': 'Մուուերի համակովական ասոցից...\n"
     ]
    }
   ],
   "source": [
    "# Alias \"supplier\" from the FK column supplier_id\n",
    "r = (supabase.table(\"cheese\")\n",
    "     .select(\"id,name,price,supplier:supplier_id(id,name)\")\n",
    "     .execute())\n",
    "print(pd.DataFrame(r.data))"
   ]
  },
  {
   "cell_type": "code",
   "execution_count": 53,
   "metadata": {},
   "outputs": [
    {
     "name": "stdout",
     "output_type": "stream",
     "text": [
      "   id      name  price                                     supplier\n",
      "0   1     Gouda    550                     {'name': 'Կովիկներ ՍՊԸ'}\n",
      "1   2      Լոռի    850                     {'name': 'Կովիկներ ՍՊԸ'}\n",
      "2   3     Չանախ    920                     {'name': 'ՄՈՒՈՒՈՈՒ ՓԲԸ'}\n",
      "3   4  Բորբոսով    890  {'name': 'Մուուերի համակովական ասոցիցացիա'}\n"
     ]
    }
   ],
   "source": [
    "# Alias \"supplier\" from the FK column supplier_id\n",
    "r = (supabase.table(\"cheese\")\n",
    "     .select(\"id,name,price,supplier:supplier_id(name)\")\n",
    "     .execute())\n",
    "print(pd.DataFrame(r.data))"
   ]
  },
  {
   "cell_type": "code",
   "execution_count": 55,
   "metadata": {},
   "outputs": [
    {
     "name": "stdout",
     "output_type": "stream",
     "text": [
      "   id      name  price                                           supplier\n",
      "0   1     Gouda    550                  {'id': 1, 'name': 'Կովիկներ ՍՊԸ'}\n",
      "1   2      Լոռի    850                  {'id': 1, 'name': 'Կովիկներ ՍՊԸ'}\n",
      "2   3     Չանախ    920                  {'id': 2, 'name': 'ՄՈՒՈՒՈՈՒ ՓԲԸ'}\n",
      "3   4  Բորբոսով    890  {'id': 3, 'name': 'Մուուերի համակովական ասոցից...\n"
     ]
    }
   ],
   "source": [
    "# Require a match using !inner\n",
    "r = (supabase.table(\"cheese\")\n",
    "     .select(\"id,name,price,supplier!inner(id,name)\")\n",
    "     .execute())\n",
    "print(pd.DataFrame(r.data))"
   ]
  },
  {
   "cell_type": "code",
   "execution_count": 56,
   "metadata": {},
   "outputs": [
    {
     "name": "stdout",
     "output_type": "stream",
     "text": [
      "   id   name  price                           supplier\n",
      "0   3  Չանախ    920  {'id': 2, 'name': 'ՄՈՒՈՒՈՈՒ ՓԲԸ'}\n"
     ]
    }
   ],
   "source": [
    "r = (supabase.table(\"cheese\")\n",
    "     .select(\"id,name,price,supplier!inner(id,name)\")\n",
    "     .eq(\"supplier.name\", \"ՄՈՒՈՒՈՈՒ ՓԲԸ\")\n",
    "     .execute())\n",
    "print(pd.DataFrame(r.data))\n"
   ]
  },
  {
   "cell_type": "code",
   "execution_count": 58,
   "metadata": {},
   "outputs": [
    {
     "data": {
      "text/plain": [
       "APIResponse[~_ReturnT](data=[{'id': 2, 'created_at': '2025-08-19T01:02:56.083173+00:00', 'name': 'ՄՈՒՈՒՈՈՒՈՒՈՒՈՒՈՒՈՒՈՒՈՒՈՒ ՓԲԸ'}], count=None)"
      ]
     },
     "execution_count": 58,
     "metadata": {},
     "output_type": "execute_result"
    }
   ],
   "source": [
    "# Update a cheese price\n",
    "supabase.table(\"supplier\").update({\"name\": \"ՄՈՒՈՒՈՈՒՈՒՈՒՈՒՈՒՈՒՈՒՈՒՈՒ ՓԲԸ\"}).eq(\"name\", \"ՄՈՒՈՒՈՈՒ ՓԲԸ\").execute()\n",
    "\n"
   ]
  },
  {
   "cell_type": "markdown",
   "metadata": {},
   "source": [
    "# Authorization"
   ]
  },
  {
   "cell_type": "markdown",
   "metadata": {},
   "source": [
    "## 🔐 Supabase Authentication & Authorization\n",
    "\n",
    "Supabase provides built-in authentication with email/password, OAuth providers, and Row Level Security (RLS)."
   ]
  },
  {
   "cell_type": "code",
   "execution_count": 59,
   "metadata": {},
   "outputs": [
    {
     "name": "stdout",
     "output_type": "stream",
     "text": [
      "✅ User registered: panir@hamov.am\n",
      "🔑 User ID: 199e3c46-3f49-4883-b8da-524f043a8038\n"
     ]
    }
   ],
   "source": [
    "\n",
    "response = supabase.auth.sign_up({\n",
    "    \"email\": \"panir@hamov.am\",\n",
    "    \"password\": \"hndkahaver\"\n",
    "})\n",
    "\n",
    "print(f\"✅ User registered: {response.user.email}\")\n",
    "print(f\"🔑 User ID: {response.user.id}\")\n",
    "    \n"
   ]
  },
  {
   "cell_type": "code",
   "execution_count": 60,
   "metadata": {},
   "outputs": [
    {
     "ename": "AuthApiError",
     "evalue": "For security purposes, you can only request this after 18 seconds.",
     "output_type": "error",
     "traceback": [
      "\u001b[1;31m---------------------------------------------------------------------------\u001b[0m",
      "\u001b[1;31mHTTPStatusError\u001b[0m                           Traceback (most recent call last)",
      "File \u001b[1;32mc:\\Users\\hayk_\\.conda\\envs\\sl\\lib\\site-packages\\supabase_auth\\_sync\\gotrue_base_api.py:120\u001b[0m, in \u001b[0;36mSyncGoTrueBaseAPI._request\u001b[1;34m(self, method, path, jwt, redirect_to, headers, query, body, no_resolve_json, xform)\u001b[0m\n\u001b[0;32m    113\u001b[0m response \u001b[38;5;241m=\u001b[39m \u001b[38;5;28mself\u001b[39m\u001b[38;5;241m.\u001b[39m_http_client\u001b[38;5;241m.\u001b[39mrequest(\n\u001b[0;32m    114\u001b[0m     method,\n\u001b[0;32m    115\u001b[0m     url,\n\u001b[1;32m   (...)\u001b[0m\n\u001b[0;32m    118\u001b[0m     json\u001b[38;5;241m=\u001b[39mmodel_dump(body) \u001b[38;5;28;01mif\u001b[39;00m \u001b[38;5;28misinstance\u001b[39m(body, BaseModel) \u001b[38;5;28;01melse\u001b[39;00m body,\n\u001b[0;32m    119\u001b[0m )\n\u001b[1;32m--> 120\u001b[0m \u001b[43mresponse\u001b[49m\u001b[38;5;241;43m.\u001b[39;49m\u001b[43mraise_for_status\u001b[49m\u001b[43m(\u001b[49m\u001b[43m)\u001b[49m\n\u001b[0;32m    121\u001b[0m result \u001b[38;5;241m=\u001b[39m response \u001b[38;5;28;01mif\u001b[39;00m no_resolve_json \u001b[38;5;28;01melse\u001b[39;00m response\u001b[38;5;241m.\u001b[39mjson()\n",
      "File \u001b[1;32mc:\\Users\\hayk_\\.conda\\envs\\sl\\lib\\site-packages\\httpx\\_models.py:829\u001b[0m, in \u001b[0;36mResponse.raise_for_status\u001b[1;34m(self)\u001b[0m\n\u001b[0;32m    828\u001b[0m message \u001b[38;5;241m=\u001b[39m message\u001b[38;5;241m.\u001b[39mformat(\u001b[38;5;28mself\u001b[39m, error_type\u001b[38;5;241m=\u001b[39merror_type)\n\u001b[1;32m--> 829\u001b[0m \u001b[38;5;28;01mraise\u001b[39;00m HTTPStatusError(message, request\u001b[38;5;241m=\u001b[39mrequest, response\u001b[38;5;241m=\u001b[39m\u001b[38;5;28mself\u001b[39m)\n",
      "\u001b[1;31mHTTPStatusError\u001b[0m: Client error '429 Too Many Requests' for url 'https://ymssbelpokgdowpbpdvb.supabase.co/auth/v1/signup'\nFor more information check: https://developer.mozilla.org/en-US/docs/Web/HTTP/Status/429",
      "\nDuring handling of the above exception, another exception occurred:\n",
      "\u001b[1;31mAuthApiError\u001b[0m                              Traceback (most recent call last)",
      "Cell \u001b[1;32mIn[60], line 1\u001b[0m\n\u001b[1;32m----> 1\u001b[0m response \u001b[38;5;241m=\u001b[39m \u001b[43msupabase\u001b[49m\u001b[38;5;241;43m.\u001b[39;49m\u001b[43mauth\u001b[49m\u001b[38;5;241;43m.\u001b[39;49m\u001b[43msign_up\u001b[49m\u001b[43m(\u001b[49m\u001b[43m{\u001b[49m\n\u001b[0;32m      2\u001b[0m \u001b[43m    \u001b[49m\u001b[38;5;124;43m\"\u001b[39;49m\u001b[38;5;124;43memail\u001b[39;49m\u001b[38;5;124;43m\"\u001b[39;49m\u001b[43m:\u001b[49m\u001b[43m \u001b[49m\u001b[38;5;124;43m\"\u001b[39;49m\u001b[38;5;124;43mpanir@hamov.am\u001b[39;49m\u001b[38;5;124;43m\"\u001b[39;49m\u001b[43m,\u001b[49m\n\u001b[0;32m      3\u001b[0m \u001b[43m    \u001b[49m\u001b[38;5;124;43m\"\u001b[39;49m\u001b[38;5;124;43mpassword\u001b[39;49m\u001b[38;5;124;43m\"\u001b[39;49m\u001b[43m:\u001b[49m\u001b[43m \u001b[49m\u001b[38;5;124;43m\"\u001b[39;49m\u001b[38;5;124;43mhndkahaver\u001b[39;49m\u001b[38;5;124;43m\"\u001b[39;49m\n\u001b[0;32m      4\u001b[0m \u001b[43m}\u001b[49m\u001b[43m)\u001b[49m\n\u001b[0;32m      6\u001b[0m \u001b[38;5;28mprint\u001b[39m(\u001b[38;5;124mf\u001b[39m\u001b[38;5;124m\"\u001b[39m\u001b[38;5;124m✅ User registered: \u001b[39m\u001b[38;5;132;01m{\u001b[39;00mresponse\u001b[38;5;241m.\u001b[39muser\u001b[38;5;241m.\u001b[39memail\u001b[38;5;132;01m}\u001b[39;00m\u001b[38;5;124m\"\u001b[39m)\n\u001b[0;32m      7\u001b[0m \u001b[38;5;28mprint\u001b[39m(\u001b[38;5;124mf\u001b[39m\u001b[38;5;124m\"\u001b[39m\u001b[38;5;124m🔑 User ID: \u001b[39m\u001b[38;5;132;01m{\u001b[39;00mresponse\u001b[38;5;241m.\u001b[39muser\u001b[38;5;241m.\u001b[39mid\u001b[38;5;132;01m}\u001b[39;00m\u001b[38;5;124m\"\u001b[39m)\n",
      "File \u001b[1;32mc:\\Users\\hayk_\\.conda\\envs\\sl\\lib\\site-packages\\supabase_auth\\_sync\\gotrue_client.py:218\u001b[0m, in \u001b[0;36mSyncGoTrueClient.sign_up\u001b[1;34m(self, credentials)\u001b[0m\n\u001b[0;32m    216\u001b[0m captcha_token \u001b[38;5;241m=\u001b[39m options\u001b[38;5;241m.\u001b[39mget(\u001b[38;5;124m\"\u001b[39m\u001b[38;5;124mcaptcha_token\u001b[39m\u001b[38;5;124m\"\u001b[39m)\n\u001b[0;32m    217\u001b[0m \u001b[38;5;28;01mif\u001b[39;00m email:\n\u001b[1;32m--> 218\u001b[0m     response \u001b[38;5;241m=\u001b[39m \u001b[38;5;28;43mself\u001b[39;49m\u001b[38;5;241;43m.\u001b[39;49m\u001b[43m_request\u001b[49m\u001b[43m(\u001b[49m\n\u001b[0;32m    219\u001b[0m \u001b[43m        \u001b[49m\u001b[38;5;124;43m\"\u001b[39;49m\u001b[38;5;124;43mPOST\u001b[39;49m\u001b[38;5;124;43m\"\u001b[39;49m\u001b[43m,\u001b[49m\n\u001b[0;32m    220\u001b[0m \u001b[43m        \u001b[49m\u001b[38;5;124;43m\"\u001b[39;49m\u001b[38;5;124;43msignup\u001b[39;49m\u001b[38;5;124;43m\"\u001b[39;49m\u001b[43m,\u001b[49m\n\u001b[0;32m    221\u001b[0m \u001b[43m        \u001b[49m\u001b[43mbody\u001b[49m\u001b[38;5;241;43m=\u001b[39;49m\u001b[43m{\u001b[49m\n\u001b[0;32m    222\u001b[0m \u001b[43m            \u001b[49m\u001b[38;5;124;43m\"\u001b[39;49m\u001b[38;5;124;43memail\u001b[39;49m\u001b[38;5;124;43m\"\u001b[39;49m\u001b[43m:\u001b[49m\u001b[43m \u001b[49m\u001b[43memail\u001b[49m\u001b[43m,\u001b[49m\n\u001b[0;32m    223\u001b[0m \u001b[43m            \u001b[49m\u001b[38;5;124;43m\"\u001b[39;49m\u001b[38;5;124;43mpassword\u001b[39;49m\u001b[38;5;124;43m\"\u001b[39;49m\u001b[43m:\u001b[49m\u001b[43m \u001b[49m\u001b[43mpassword\u001b[49m\u001b[43m,\u001b[49m\n\u001b[0;32m    224\u001b[0m \u001b[43m            \u001b[49m\u001b[38;5;124;43m\"\u001b[39;49m\u001b[38;5;124;43mdata\u001b[39;49m\u001b[38;5;124;43m\"\u001b[39;49m\u001b[43m:\u001b[49m\u001b[43m \u001b[49m\u001b[43mdata\u001b[49m\u001b[43m,\u001b[49m\n\u001b[0;32m    225\u001b[0m \u001b[43m            \u001b[49m\u001b[38;5;124;43m\"\u001b[39;49m\u001b[38;5;124;43mgotrue_meta_security\u001b[39;49m\u001b[38;5;124;43m\"\u001b[39;49m\u001b[43m:\u001b[49m\u001b[43m \u001b[49m\u001b[43m{\u001b[49m\n\u001b[0;32m    226\u001b[0m \u001b[43m                \u001b[49m\u001b[38;5;124;43m\"\u001b[39;49m\u001b[38;5;124;43mcaptcha_token\u001b[39;49m\u001b[38;5;124;43m\"\u001b[39;49m\u001b[43m:\u001b[49m\u001b[43m \u001b[49m\u001b[43mcaptcha_token\u001b[49m\u001b[43m,\u001b[49m\n\u001b[0;32m    227\u001b[0m \u001b[43m            \u001b[49m\u001b[43m}\u001b[49m\u001b[43m,\u001b[49m\n\u001b[0;32m    228\u001b[0m \u001b[43m        \u001b[49m\u001b[43m}\u001b[49m\u001b[43m,\u001b[49m\n\u001b[0;32m    229\u001b[0m \u001b[43m        \u001b[49m\u001b[43mredirect_to\u001b[49m\u001b[38;5;241;43m=\u001b[39;49m\u001b[43mredirect_to\u001b[49m\u001b[43m,\u001b[49m\n\u001b[0;32m    230\u001b[0m \u001b[43m        \u001b[49m\u001b[43mxform\u001b[49m\u001b[38;5;241;43m=\u001b[39;49m\u001b[43mparse_auth_response\u001b[49m\u001b[43m,\u001b[49m\n\u001b[0;32m    231\u001b[0m \u001b[43m    \u001b[49m\u001b[43m)\u001b[49m\n\u001b[0;32m    232\u001b[0m \u001b[38;5;28;01melif\u001b[39;00m phone:\n\u001b[0;32m    233\u001b[0m     response \u001b[38;5;241m=\u001b[39m \u001b[38;5;28mself\u001b[39m\u001b[38;5;241m.\u001b[39m_request(\n\u001b[0;32m    234\u001b[0m         \u001b[38;5;124m\"\u001b[39m\u001b[38;5;124mPOST\u001b[39m\u001b[38;5;124m\"\u001b[39m,\n\u001b[0;32m    235\u001b[0m         \u001b[38;5;124m\"\u001b[39m\u001b[38;5;124msignup\u001b[39m\u001b[38;5;124m\"\u001b[39m,\n\u001b[1;32m   (...)\u001b[0m\n\u001b[0;32m    245\u001b[0m         xform\u001b[38;5;241m=\u001b[39mparse_auth_response,\n\u001b[0;32m    246\u001b[0m     )\n",
      "File \u001b[1;32mc:\\Users\\hayk_\\.conda\\envs\\sl\\lib\\site-packages\\supabase_auth\\_sync\\gotrue_base_api.py:125\u001b[0m, in \u001b[0;36mSyncGoTrueBaseAPI._request\u001b[1;34m(self, method, path, jwt, redirect_to, headers, query, body, no_resolve_json, xform)\u001b[0m\n\u001b[0;32m    123\u001b[0m         \u001b[38;5;28;01mreturn\u001b[39;00m xform(result)\n\u001b[0;32m    124\u001b[0m \u001b[38;5;28;01mexcept\u001b[39;00m \u001b[38;5;167;01mException\u001b[39;00m \u001b[38;5;28;01mas\u001b[39;00m e:\n\u001b[1;32m--> 125\u001b[0m     \u001b[38;5;28;01mraise\u001b[39;00m handle_exception(e)\n",
      "\u001b[1;31mAuthApiError\u001b[0m: For security purposes, you can only request this after 18 seconds."
     ]
    }
   ],
   "source": [
    "\n",
    "response = supabase.auth.sign_up({\n",
    "    \"email\": \"panir@hamov.am\",\n",
    "    \"password\": \"hndkahaver\"\n",
    "})\n",
    "\n",
    "print(f\"✅ User registered: {response.user.email}\")\n",
    "print(f\"🔑 User ID: {response.user.id}\")\n",
    "    \n"
   ]
  },
  {
   "cell_type": "code",
   "execution_count": 61,
   "metadata": {},
   "outputs": [
    {
     "ename": "AuthApiError",
     "evalue": "Email not confirmed",
     "output_type": "error",
     "traceback": [
      "\u001b[1;31m---------------------------------------------------------------------------\u001b[0m",
      "\u001b[1;31mHTTPStatusError\u001b[0m                           Traceback (most recent call last)",
      "File \u001b[1;32mc:\\Users\\hayk_\\.conda\\envs\\sl\\lib\\site-packages\\supabase_auth\\_sync\\gotrue_base_api.py:120\u001b[0m, in \u001b[0;36mSyncGoTrueBaseAPI._request\u001b[1;34m(self, method, path, jwt, redirect_to, headers, query, body, no_resolve_json, xform)\u001b[0m\n\u001b[0;32m    113\u001b[0m response \u001b[38;5;241m=\u001b[39m \u001b[38;5;28mself\u001b[39m\u001b[38;5;241m.\u001b[39m_http_client\u001b[38;5;241m.\u001b[39mrequest(\n\u001b[0;32m    114\u001b[0m     method,\n\u001b[0;32m    115\u001b[0m     url,\n\u001b[1;32m   (...)\u001b[0m\n\u001b[0;32m    118\u001b[0m     json\u001b[38;5;241m=\u001b[39mmodel_dump(body) \u001b[38;5;28;01mif\u001b[39;00m \u001b[38;5;28misinstance\u001b[39m(body, BaseModel) \u001b[38;5;28;01melse\u001b[39;00m body,\n\u001b[0;32m    119\u001b[0m )\n\u001b[1;32m--> 120\u001b[0m \u001b[43mresponse\u001b[49m\u001b[38;5;241;43m.\u001b[39;49m\u001b[43mraise_for_status\u001b[49m\u001b[43m(\u001b[49m\u001b[43m)\u001b[49m\n\u001b[0;32m    121\u001b[0m result \u001b[38;5;241m=\u001b[39m response \u001b[38;5;28;01mif\u001b[39;00m no_resolve_json \u001b[38;5;28;01melse\u001b[39;00m response\u001b[38;5;241m.\u001b[39mjson()\n",
      "File \u001b[1;32mc:\\Users\\hayk_\\.conda\\envs\\sl\\lib\\site-packages\\httpx\\_models.py:829\u001b[0m, in \u001b[0;36mResponse.raise_for_status\u001b[1;34m(self)\u001b[0m\n\u001b[0;32m    828\u001b[0m message \u001b[38;5;241m=\u001b[39m message\u001b[38;5;241m.\u001b[39mformat(\u001b[38;5;28mself\u001b[39m, error_type\u001b[38;5;241m=\u001b[39merror_type)\n\u001b[1;32m--> 829\u001b[0m \u001b[38;5;28;01mraise\u001b[39;00m HTTPStatusError(message, request\u001b[38;5;241m=\u001b[39mrequest, response\u001b[38;5;241m=\u001b[39m\u001b[38;5;28mself\u001b[39m)\n",
      "\u001b[1;31mHTTPStatusError\u001b[0m: Client error '400 Bad Request' for url 'https://ymssbelpokgdowpbpdvb.supabase.co/auth/v1/token?grant_type=password'\nFor more information check: https://developer.mozilla.org/en-US/docs/Web/HTTP/Status/400",
      "\nDuring handling of the above exception, another exception occurred:\n",
      "\u001b[1;31mAuthApiError\u001b[0m                              Traceback (most recent call last)",
      "Cell \u001b[1;32mIn[61], line 1\u001b[0m\n\u001b[1;32m----> 1\u001b[0m response \u001b[38;5;241m=\u001b[39m \u001b[43msupabase\u001b[49m\u001b[38;5;241;43m.\u001b[39;49m\u001b[43mauth\u001b[49m\u001b[38;5;241;43m.\u001b[39;49m\u001b[43msign_in_with_password\u001b[49m\u001b[43m(\u001b[49m\u001b[43m{\u001b[49m\n\u001b[0;32m      2\u001b[0m \u001b[43m    \u001b[49m\u001b[38;5;124;43m\"\u001b[39;49m\u001b[38;5;124;43memail\u001b[39;49m\u001b[38;5;124;43m\"\u001b[39;49m\u001b[43m:\u001b[49m\u001b[43m \u001b[49m\u001b[38;5;124;43m\"\u001b[39;49m\u001b[38;5;124;43mpanir@hamov.am\u001b[39;49m\u001b[38;5;124;43m\"\u001b[39;49m\u001b[43m,\u001b[49m\n\u001b[0;32m      3\u001b[0m \u001b[43m    \u001b[49m\u001b[38;5;124;43m\"\u001b[39;49m\u001b[38;5;124;43mpassword\u001b[39;49m\u001b[38;5;124;43m\"\u001b[39;49m\u001b[43m:\u001b[49m\u001b[43m \u001b[49m\u001b[38;5;124;43m\"\u001b[39;49m\u001b[38;5;124;43mhndkahaver\u001b[39;49m\u001b[38;5;124;43m\"\u001b[39;49m\n\u001b[0;32m      4\u001b[0m \u001b[43m}\u001b[49m\u001b[43m)\u001b[49m\n\u001b[0;32m      6\u001b[0m \u001b[38;5;28mprint\u001b[39m(\u001b[38;5;124mf\u001b[39m\u001b[38;5;124m\"\u001b[39m\u001b[38;5;124m✅ User logged in: \u001b[39m\u001b[38;5;132;01m{\u001b[39;00mresponse\u001b[38;5;241m.\u001b[39muser\u001b[38;5;241m.\u001b[39memail\u001b[38;5;132;01m}\u001b[39;00m\u001b[38;5;124m\"\u001b[39m)\n\u001b[0;32m      7\u001b[0m \u001b[38;5;28mprint\u001b[39m(\u001b[38;5;124mf\u001b[39m\u001b[38;5;124m\"\u001b[39m\u001b[38;5;124m🎫 Access Token: \u001b[39m\u001b[38;5;132;01m{\u001b[39;00mresponse\u001b[38;5;241m.\u001b[39msession\u001b[38;5;241m.\u001b[39maccess_token[:\u001b[38;5;241m20\u001b[39m]\u001b[38;5;132;01m}\u001b[39;00m\u001b[38;5;124m...\u001b[39m\u001b[38;5;124m\"\u001b[39m)\n",
      "File \u001b[1;32mc:\\Users\\hayk_\\.conda\\envs\\sl\\lib\\site-packages\\supabase_auth\\_sync\\gotrue_client.py:271\u001b[0m, in \u001b[0;36mSyncGoTrueClient.sign_in_with_password\u001b[1;34m(self, credentials)\u001b[0m\n\u001b[0;32m    269\u001b[0m captcha_token \u001b[38;5;241m=\u001b[39m options\u001b[38;5;241m.\u001b[39mget(\u001b[38;5;124m\"\u001b[39m\u001b[38;5;124mcaptcha_token\u001b[39m\u001b[38;5;124m\"\u001b[39m)\n\u001b[0;32m    270\u001b[0m \u001b[38;5;28;01mif\u001b[39;00m email:\n\u001b[1;32m--> 271\u001b[0m     response \u001b[38;5;241m=\u001b[39m \u001b[38;5;28;43mself\u001b[39;49m\u001b[38;5;241;43m.\u001b[39;49m\u001b[43m_request\u001b[49m\u001b[43m(\u001b[49m\n\u001b[0;32m    272\u001b[0m \u001b[43m        \u001b[49m\u001b[38;5;124;43m\"\u001b[39;49m\u001b[38;5;124;43mPOST\u001b[39;49m\u001b[38;5;124;43m\"\u001b[39;49m\u001b[43m,\u001b[49m\n\u001b[0;32m    273\u001b[0m \u001b[43m        \u001b[49m\u001b[38;5;124;43m\"\u001b[39;49m\u001b[38;5;124;43mtoken\u001b[39;49m\u001b[38;5;124;43m\"\u001b[39;49m\u001b[43m,\u001b[49m\n\u001b[0;32m    274\u001b[0m \u001b[43m        \u001b[49m\u001b[43mbody\u001b[49m\u001b[38;5;241;43m=\u001b[39;49m\u001b[43m{\u001b[49m\n\u001b[0;32m    275\u001b[0m \u001b[43m            \u001b[49m\u001b[38;5;124;43m\"\u001b[39;49m\u001b[38;5;124;43memail\u001b[39;49m\u001b[38;5;124;43m\"\u001b[39;49m\u001b[43m:\u001b[49m\u001b[43m \u001b[49m\u001b[43memail\u001b[49m\u001b[43m,\u001b[49m\n\u001b[0;32m    276\u001b[0m \u001b[43m            \u001b[49m\u001b[38;5;124;43m\"\u001b[39;49m\u001b[38;5;124;43mpassword\u001b[39;49m\u001b[38;5;124;43m\"\u001b[39;49m\u001b[43m:\u001b[49m\u001b[43m \u001b[49m\u001b[43mpassword\u001b[49m\u001b[43m,\u001b[49m\n\u001b[0;32m    277\u001b[0m \u001b[43m            \u001b[49m\u001b[38;5;124;43m\"\u001b[39;49m\u001b[38;5;124;43mdata\u001b[39;49m\u001b[38;5;124;43m\"\u001b[39;49m\u001b[43m:\u001b[49m\u001b[43m \u001b[49m\u001b[43mdata\u001b[49m\u001b[43m,\u001b[49m\n\u001b[0;32m    278\u001b[0m \u001b[43m            \u001b[49m\u001b[38;5;124;43m\"\u001b[39;49m\u001b[38;5;124;43mgotrue_meta_security\u001b[39;49m\u001b[38;5;124;43m\"\u001b[39;49m\u001b[43m:\u001b[49m\u001b[43m \u001b[49m\u001b[43m{\u001b[49m\n\u001b[0;32m    279\u001b[0m \u001b[43m                \u001b[49m\u001b[38;5;124;43m\"\u001b[39;49m\u001b[38;5;124;43mcaptcha_token\u001b[39;49m\u001b[38;5;124;43m\"\u001b[39;49m\u001b[43m:\u001b[49m\u001b[43m \u001b[49m\u001b[43mcaptcha_token\u001b[49m\u001b[43m,\u001b[49m\n\u001b[0;32m    280\u001b[0m \u001b[43m            \u001b[49m\u001b[43m}\u001b[49m\u001b[43m,\u001b[49m\n\u001b[0;32m    281\u001b[0m \u001b[43m        \u001b[49m\u001b[43m}\u001b[49m\u001b[43m,\u001b[49m\n\u001b[0;32m    282\u001b[0m \u001b[43m        \u001b[49m\u001b[43mquery\u001b[49m\u001b[38;5;241;43m=\u001b[39;49m\u001b[43m{\u001b[49m\n\u001b[0;32m    283\u001b[0m \u001b[43m            \u001b[49m\u001b[38;5;124;43m\"\u001b[39;49m\u001b[38;5;124;43mgrant_type\u001b[39;49m\u001b[38;5;124;43m\"\u001b[39;49m\u001b[43m:\u001b[49m\u001b[43m \u001b[49m\u001b[38;5;124;43m\"\u001b[39;49m\u001b[38;5;124;43mpassword\u001b[39;49m\u001b[38;5;124;43m\"\u001b[39;49m\u001b[43m,\u001b[49m\n\u001b[0;32m    284\u001b[0m \u001b[43m        \u001b[49m\u001b[43m}\u001b[49m\u001b[43m,\u001b[49m\n\u001b[0;32m    285\u001b[0m \u001b[43m        \u001b[49m\u001b[43mxform\u001b[49m\u001b[38;5;241;43m=\u001b[39;49m\u001b[43mparse_auth_response\u001b[49m\u001b[43m,\u001b[49m\n\u001b[0;32m    286\u001b[0m \u001b[43m    \u001b[49m\u001b[43m)\u001b[49m\n\u001b[0;32m    287\u001b[0m \u001b[38;5;28;01melif\u001b[39;00m phone:\n\u001b[0;32m    288\u001b[0m     response \u001b[38;5;241m=\u001b[39m \u001b[38;5;28mself\u001b[39m\u001b[38;5;241m.\u001b[39m_request(\n\u001b[0;32m    289\u001b[0m         \u001b[38;5;124m\"\u001b[39m\u001b[38;5;124mPOST\u001b[39m\u001b[38;5;124m\"\u001b[39m,\n\u001b[0;32m    290\u001b[0m         \u001b[38;5;124m\"\u001b[39m\u001b[38;5;124mtoken\u001b[39m\u001b[38;5;124m\"\u001b[39m,\n\u001b[1;32m   (...)\u001b[0m\n\u001b[0;32m    302\u001b[0m         xform\u001b[38;5;241m=\u001b[39mparse_auth_response,\n\u001b[0;32m    303\u001b[0m     )\n",
      "File \u001b[1;32mc:\\Users\\hayk_\\.conda\\envs\\sl\\lib\\site-packages\\supabase_auth\\_sync\\gotrue_base_api.py:125\u001b[0m, in \u001b[0;36mSyncGoTrueBaseAPI._request\u001b[1;34m(self, method, path, jwt, redirect_to, headers, query, body, no_resolve_json, xform)\u001b[0m\n\u001b[0;32m    123\u001b[0m         \u001b[38;5;28;01mreturn\u001b[39;00m xform(result)\n\u001b[0;32m    124\u001b[0m \u001b[38;5;28;01mexcept\u001b[39;00m \u001b[38;5;167;01mException\u001b[39;00m \u001b[38;5;28;01mas\u001b[39;00m e:\n\u001b[1;32m--> 125\u001b[0m     \u001b[38;5;28;01mraise\u001b[39;00m handle_exception(e)\n",
      "\u001b[1;31mAuthApiError\u001b[0m: Email not confirmed"
     ]
    }
   ],
   "source": [
    "response = supabase.auth.sign_in_with_password({\n",
    "    \"email\": \"panir@hamov.am\",\n",
    "    \"password\": \"hndkahaver\"\n",
    "})\n",
    "\n",
    "print(f\"✅ User logged in: {response.user.email}\")\n",
    "print(f\"🎫 Access Token: {response.session.access_token[:20]}...\")\n"
   ]
  },
  {
   "cell_type": "code",
   "execution_count": null,
   "metadata": {},
   "outputs": [],
   "source": [
    "# 🔐 1. User Registration and Authentication\n",
    "\n",
    "# User sign up with email and password\n",
    "def register_user(email, password):\n",
    "    try:\n",
    "        response = supabase.auth.sign_up({\n",
    "            \"email\": email,\n",
    "            \"password\": password\n",
    "        })\n",
    "        \n",
    "        if response.user:\n",
    "            print(f\"✅ User registered: {response.user.email}\")\n",
    "            print(f\"🔑 User ID: {response.user.id}\")\n",
    "            return response.user\n",
    "        else:\n",
    "            print(\"❌ Registration failed\")\n",
    "            return None\n",
    "            \n",
    "    except Exception as e:\n",
    "        print(f\"❌ Registration error: {e}\")\n",
    "        return None\n",
    "\n",
    "# User sign in\n",
    "def login_user(email, password):\n",
    "    try:\n",
    "        response = supabase.auth.sign_in_with_password({\n",
    "            \"email\": email,\n",
    "            \"password\": password\n",
    "        })\n",
    "        \n",
    "        if response.user:\n",
    "            print(f\"✅ User logged in: {response.user.email}\")\n",
    "            print(f\"🎫 Access Token: {response.session.access_token[:20]}...\")\n",
    "            return response.user\n",
    "        else:\n",
    "            print(\"❌ Login failed\")\n",
    "            return None\n",
    "            \n",
    "    except Exception as e:\n",
    "        print(f\"❌ Login error: {e}\")\n",
    "        return None\n",
    "\n",
    "# Example usage (commented out to avoid actual registration)\n",
    "# register_user(\"test@example.com\", \"secure_password123\")\n",
    "# login_user(\"test@example.com\", \"secure_password123\")\n",
    "\n",
    "print(\"🔐 Authentication functions defined!\")\n",
    "print(\"💡 Uncomment the lines above to test registration/login\")"
   ]
  },
  {
   "cell_type": "code",
   "execution_count": null,
   "metadata": {},
   "outputs": [],
   "source": [
    "# 🎫 2. Session Management\n",
    "\n",
    "# Get current user\n",
    "def get_current_user():\n",
    "    try:\n",
    "        user = supabase.auth.get_user()\n",
    "        if user.user:\n",
    "            print(f\"👤 Current user: {user.user.email}\")\n",
    "            print(f\"🆔 User ID: {user.user.id}\")\n",
    "            print(f\"📅 Created: {user.user.created_at}\")\n",
    "            return user.user\n",
    "        else:\n",
    "            print(\"❌ No authenticated user\")\n",
    "            return None\n",
    "    except Exception as e:\n",
    "        print(f\"❌ Error getting user: {e}\")\n",
    "        return None\n",
    "\n",
    "# Get current session\n",
    "def get_current_session():\n",
    "    try:\n",
    "        session = supabase.auth.get_session()\n",
    "        if session.session:\n",
    "            print(f\"🎫 Session active\")\n",
    "            print(f\"🔑 Access token: {session.session.access_token[:20]}...\")\n",
    "            print(f\"⏰ Expires at: {session.session.expires_at}\")\n",
    "            return session.session\n",
    "        else:\n",
    "            print(\"❌ No active session\")\n",
    "            return None\n",
    "    except Exception as e:\n",
    "        print(f\"❌ Error getting session: {e}\")\n",
    "        return None\n",
    "\n",
    "# Sign out\n",
    "def logout_user():\n",
    "    try:\n",
    "        supabase.auth.sign_out()\n",
    "        print(\"✅ User logged out successfully\")\n",
    "    except Exception as e:\n",
    "        print(f\"❌ Logout error: {e}\")\n",
    "\n",
    "# Check authentication status\n",
    "print(\"🔍 Checking authentication status...\")\n",
    "current_user = get_current_user()\n",
    "current_session = get_current_session()"
   ]
  },
  {
   "cell_type": "code",
   "execution_count": null,
   "metadata": {},
   "outputs": [],
   "source": [
    "# 🔒 3. Authenticated Requests\n",
    "\n",
    "# Function to make authenticated requests\n",
    "def authenticated_request_example():\n",
    "    \"\"\"\n",
    "    When a user is logged in, their session token is automatically \n",
    "    included in all Supabase requests\n",
    "    \"\"\"\n",
    "    \n",
    "    # Check if user is authenticated\n",
    "    current_user = supabase.auth.get_user()\n",
    "    \n",
    "    if not current_user.user:\n",
    "        print(\"❌ User not authenticated!\")\n",
    "        print(\"💡 Please log in first to make authenticated requests\")\n",
    "        return\n",
    "    \n",
    "    print(f\"👤 Making request as: {current_user.user.email}\")\n",
    "    \n",
    "    # Example: Insert cheese with user context\n",
    "    try:\n",
    "        # This will respect RLS policies\n",
    "        response = supabase.table(\"cheese\").insert({\n",
    "            \"name\": \"User's Special Cheese\",\n",
    "            \"price\": 1999,\n",
    "            \"supplier_id\": 1\n",
    "        }).execute()\n",
    "        \n",
    "        print(\"✅ Authenticated insert successful\")\n",
    "        print(f\"📊 Inserted: {response.data}\")\n",
    "        \n",
    "    except Exception as e:\n",
    "        print(f\"❌ Authenticated request failed: {e}\")\n",
    "        print(\"💡 This might be due to RLS policies\")\n",
    "\n",
    "# Example: Conditional queries based on auth\n",
    "def user_specific_data():\n",
    "    current_user = supabase.auth.get_user()\n",
    "    \n",
    "    if current_user.user:\n",
    "        # User is authenticated - can see more data\n",
    "        response = supabase.table(\"cheese\").select(\"*\").execute()\n",
    "        print(f\"🔓 Authenticated user sees {len(response.data)} cheeses\")\n",
    "    else:\n",
    "        # Anonymous user - limited access\n",
    "        response = supabase.table(\"cheese\").select(\"name, price\").limit(3).execute()\n",
    "        print(f\"👤 Anonymous user sees {len(response.data)} cheeses (limited)\")\n",
    "    \n",
    "    return response.data\n",
    "\n",
    "# Test authenticated requests\n",
    "print(\"🧪 Testing authenticated requests...\")\n",
    "authenticated_request_example()\n",
    "user_data = user_specific_data()"
   ]
  },
  {
   "cell_type": "markdown",
   "metadata": {
    "id": "TfbUegKqXVyH"
   },
   "source": [
    "\n",
    "<a href=\"http://s01.flagcounter.com/more/1oO\"><img src=\"https://s01.flagcounter.com/count2/1oO/bg_FFFFFF/txt_000000/border_CCCCCC/columns_2/maxflags_10/viewers_0/labels_0/pageviews_1/flags_0/percent_0/\" alt=\"Flag Counter\"></a>\n"
   ]
  }
 ],
 "metadata": {
  "colab": {
   "authorship_tag": "ABX9TyOx7X+DxNeKu1zUVVCmsSHJ",
   "provenance": [
    {
     "file_id": "1_9UtYmPVVGmnWIKdBzPYkbtTlTbd0clo",
     "timestamp": 1735604987843
    },
    {
     "file_id": "15x56uwwONMo_ilzUJgt6UcX1d552xH6X",
     "timestamp": 1708441161475
    },
    {
     "file_id": "1LbG88IWtk30WlIoINzG4_vXHoJAvoDaP",
     "timestamp": 1683614319950
    }
   ]
  },
  "kernelspec": {
   "display_name": "sl",
   "language": "python",
   "name": "python3"
  },
  "language_info": {
   "codemirror_mode": {
    "name": "ipython",
    "version": 3
   },
   "file_extension": ".py",
   "mimetype": "text/x-python",
   "name": "python",
   "nbconvert_exporter": "python",
   "pygments_lexer": "ipython3",
   "version": "3.10.16"
  }
 },
 "nbformat": 4,
 "nbformat_minor": 0
}

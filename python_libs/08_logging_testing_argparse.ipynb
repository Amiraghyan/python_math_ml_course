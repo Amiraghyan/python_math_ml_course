{
 "cells": [
  {
   "cell_type": "raw",
   "metadata": {
    "vscode": {
     "languageId": "raw"
    }
   },
   "source": [
    "---\n",
    "title: \"Logging, Testing, Argparse\"\n",
    "lightbox: true\n",
    "format: \n",
    "  html:\n",
    "    code-fold: false\n",
    "number-offset: 1\n",
    "---"
   ]
  },
  {
   "cell_type": "markdown",
   "metadata": {
    "vscode": {
     "languageId": "raw"
    }
   },
   "source": [
    "![image.png](../background_photos/libs_08_mankakan_erkatughi.jpg)\n",
    "Մանկական երկաթուղի, [լուսանկարի հղումը](https://unsplash.com/photos/C_gfvbKK03U), Հեղինակ՝ [Tigran Kharatyan](https://unsplash.com/@t1ko)\n"
   ]
  },
  {
   "cell_type": "markdown",
   "metadata": {
    "vscode": {
     "languageId": "raw"
    }
   },
   "source": [
    "<a href=\"ToDo\" target=\"_parent\"><img src=\"https://colab.research.google.com/assets/colab-badge.svg\" alt=\"Open In Colab\"/></a> (ToDo)"
   ]
  },
  {
   "cell_type": "markdown",
   "metadata": {
    "vscode": {
     "languageId": "raw"
    }
   },
   "source": [
    "> \"Debugging is twice as hard as writing the code in the first place. Therefore, if you write the code as cleverly as possible, you are, by definition, not smart enough to debug it.\" - Brian Kernighan"
   ]
  },
  {
   "cell_type": "markdown",
   "metadata": {
    "vscode": {
     "languageId": "raw"
    }
   },
   "source": [
    "# 📌 Նկարագիր\n",
    "\n",
    "[📚 Ամբողջական նյութը](08_logging_testing_argparse.ipynb)\n",
    "\n",
    "#### 📺 Տեսանյութեր\n",
    "- \n",
    "\n",
    "#### 🏡 Տնային\n",
    "- "
   ]
  },
  {
   "cell_type": "markdown",
   "metadata": {
    "vscode": {
     "languageId": "raw"
    }
   },
   "source": [
    "# 📚 Նյութը"
   ]
  },
  {
   "cell_type": "markdown",
   "metadata": {},
   "source": [
    "## Logging\n",
    "\n",
    "[Logging libraries](https://www.highlight.io/blog/5-best-python-logging-libraries)\n",
    "\n",
    "Docs:\n",
    "1. [Doc](https://docs.python.org/3/library/logging.html)\n",
    "2. [Logging Cookbook](https://docs.python.org/3/howto/logging-cookbook.html#logging-cookbook)\n",
    "\n",
    "Videos:\n",
    "1. [Tech With Tim (15 minute video)](https://www.youtube.com/watch?v=urrfJgHwIJA)\n",
    "2. [Corey Schafer, part 1 (14 minute video)](https://www.youtube.com/watch?v=-ARI4Cz-awo)\n",
    "3. [Corey Schafer, part 2 (20 minute video)](https://www.youtube.com/watch?v=jxmzY9soFXg&t=4s)"
   ]
  },
  {
   "cell_type": "markdown",
   "metadata": {},
   "source": [
    "Ինչի՞ logging\n",
    "\n",
    "1. print-ով մի անգամ աշխատացրեցինք, console ում տպեց ու վերջ, հաջողություն, իսկ logging-ով կարանք հարմար save անենք\n",
    "2. պետք չի comment out անել/ջնջել, հետո հետ բերել print-երը, եթե էլ չենք ուզում մի բան տպենք, կարանք սահմամենք որ դեպքում ինչը տպվի\n",
    "3. պետք չի ձեռով գրենք երբ ենք տպել ինչ-որ բան կամ որ ֆայլից ա տպվել"
   ]
  },
  {
   "cell_type": "markdown",
   "metadata": {},
   "source": [
    "### First logger + levels"
   ]
  },
  {
   "cell_type": "code",
   "execution_count": 10,
   "metadata": {},
   "outputs": [
    {
     "name": "stderr",
     "output_type": "stream",
     "text": [
      "DEBUG:__main__:This is a debug message\n",
      "INFO:__main__:Application started\n",
      "WARNING:__main__:Warning: Potential issue detected\n",
      "ERROR:__main__:An error occurred\n",
      "CRITICAL:__main__:Critical error!\n"
     ]
    }
   ],
   "source": [
    "import logging\n",
    "\n",
    "logging.basicConfig( # Camel case\n",
    "    level=logging.DEBUG,\n",
    "    # format='%(asctime)s - %(name)s - %(levelname)s - %(message)s'\n",
    ")\n",
    "\n",
    "logger = logging.getLogger(__name__)\n",
    "\n",
    "# Different logging levels\n",
    "logger.debug(\"This is a debug message\") # 10\n",
    "logger.info(\"Application started\") # 20\n",
    "logger.warning(\"Warning: Potential issue detected\") # 30\n",
    "logger.error(\"An error occurred\") # 40\n",
    "logger.critical(\"Critical error!\") # 50"
   ]
  },
  {
   "cell_type": "code",
   "execution_count": 11,
   "metadata": {},
   "outputs": [
    {
     "name": "stdout",
     "output_type": "stream",
     "text": [
      "10\n"
     ]
    }
   ],
   "source": [
    "print(logging.DEBUG)"
   ]
  },
  {
   "cell_type": "code",
   "execution_count": null,
   "metadata": {},
   "outputs": [
    {
     "name": "stderr",
     "output_type": "stream",
     "text": [
      "WARNING:__main__:Warning: Potential issue detected\n",
      "ERROR:__main__:An error occurred\n",
      "CRITICAL:__main__:Critical error!\n"
     ]
    }
   ],
   "source": [
    "import logging\n",
    "\n",
    "logging.basicConfig( # Camel case\n",
    "    level=24,\n",
    "    # format='%(asctime)s - %(name)s - %(levelname)s - %(message)s'\n",
    ")\n",
    "\n",
    "logger = logging.getLogger(__name__)\n",
    "\n",
    "# Different logging levels\n",
    "logger.debug(\"This is a debug message\") # 10\n",
    "logger.info(\"Application started\") # 20\n",
    "logger.warning(\"Warning: Potential issue detected\") # 30\n",
    "logger.error(\"An error occurred\") # 40\n",
    "logger.critical(\"Critical error!\") # 50"
   ]
  },
  {
   "cell_type": "markdown",
   "metadata": {},
   "source": [
    "### Formatting"
   ]
  },
  {
   "cell_type": "code",
   "execution_count": 1,
   "metadata": {},
   "outputs": [
    {
     "name": "stderr",
     "output_type": "stream",
     "text": [
      "2025-07-20 02:06:34 - __main__ - WARNING - Warning: Potential issue detected\n",
      "2025-07-20 02:06:34 - __main__ - ERROR - An error occurred\n",
      "2025-07-20 02:06:34 - __main__ - CRITICAL - Critical error!\n"
     ]
    }
   ],
   "source": [
    "import logging\n",
    "\n",
    "logging.basicConfig( # Camel case\n",
    "    level=24,\n",
    "    format='%(asctime)s - %(name)s - %(levelname)s - %(message)s',\n",
    "    datefmt='%Y-%m-%d %H:%M:%S'\n",
    ")\n",
    "\n",
    "logger = logging.getLogger(__name__)\n",
    "\n",
    "# Different logging levels\n",
    "logger.debug(\"This is a debug message\") # 10\n",
    "logger.info(\"Application started\") # 20\n",
    "logger.warning(\"Warning: Potential issue detected\") # 30\n",
    "logger.error(\"An error occurred\") # 40\n",
    "logger.critical(\"Critical error!\") # 50"
   ]
  },
  {
   "cell_type": "markdown",
   "metadata": {},
   "source": [
    "### Logging to a file"
   ]
  },
  {
   "cell_type": "code",
   "execution_count": null,
   "metadata": {},
   "outputs": [
    {
     "name": "stdout",
     "output_type": "stream",
     "text": [
      "\n",
      "Results: 5.0, None\n",
      "Check 'app.log' file for logged messages\n"
     ]
    }
   ],
   "source": [
    "import logging\n",
    "\n",
    "logger = logging.getLogger('file_console_logger')\n",
    "logger.setLevel(logging.DEBUG) # another way to set the level\n",
    "\n",
    "# Create file handler\n",
    "file_handler = logging.FileHandler('app.log', mode=\"a\") # a is default\n",
    "file_handler.setLevel(logging.INFO)\n",
    "\n",
    "# Create formatter\n",
    "formatter = logging.Formatter('%(asctime)s - %(name)s - %(levelname)s - %(message)s')\n",
    "file_handler.setFormatter(formatter)\n",
    "\n",
    "# Add handlers to logger\n",
    "logger.addHandler(file_handler)"
   ]
  },
  {
   "cell_type": "code",
   "execution_count": 4,
   "metadata": {},
   "outputs": [
    {
     "name": "stderr",
     "output_type": "stream",
     "text": [
      "2025-07-20 02:12:00,807 - file_console_logger - INFO - Starting division: 10 ÷ 2\n",
      "2025-07-20 02:12:00,808 - file_console_logger - INFO - Division successful. Result: 5.0\n",
      "2025-07-20 02:12:00,810 - file_console_logger - INFO - Starting division: 10 ÷ 0\n",
      "2025-07-20 02:12:00,812 - file_console_logger - ERROR - Division by zero error!\n"
     ]
    },
    {
     "name": "stdout",
     "output_type": "stream",
     "text": [
      "\n",
      "Results: 5.0, None\n",
      "Check 'app.log' file for logged messages\n"
     ]
    }
   ],
   "source": [
    "def divide_numbers(a, b):\n",
    "    \"\"\"Division with comprehensive logging\"\"\"\n",
    "    logger.info(f\"Starting division: {a} ÷ {b}\")\n",
    "    \n",
    "    try:\n",
    "        result = a / b\n",
    "        logger.info(f\"Division successful. Result: {result}\")\n",
    "        return result\n",
    "    except ZeroDivisionError:\n",
    "        logger.error(\"Division by zero error!\")\n",
    "        return None\n",
    "    except Exception as e:\n",
    "        logger.critical(f\"Unexpected error: {e}\")\n",
    "        return None\n",
    "\n",
    "# Test the function\n",
    "result1 = divide_numbers(10, 2)\n",
    "result2 = divide_numbers(10, 0)\n",
    "\n",
    "# Show that logs go to both console and file\n",
    "print(f\"\\nResults: {result1}, {result2}\")\n",
    "print(\"Check 'app.log' file for logged messages\")"
   ]
  },
  {
   "cell_type": "markdown",
   "metadata": {},
   "source": [
    "### Logging to console as well"
   ]
  },
  {
   "cell_type": "code",
   "execution_count": 1,
   "metadata": {},
   "outputs": [],
   "source": [
    "import logging\n",
    "\n",
    "logger = logging.getLogger('file_console_logger')\n",
    "logger.setLevel(logging.DEBUG) # another way to set the level\n",
    "\n",
    "# Create file handler\n",
    "file_handler = logging.FileHandler('app.log', mode=\"a\") # a is default\n",
    "file_handler.setLevel(logging.INFO)\n",
    "\n",
    "# Create formatter\n",
    "formatter = logging.Formatter('%(asctime)s - %(name)s - %(levelname)s - %(message)s')\n",
    "file_handler.setFormatter(formatter)\n",
    "\n",
    "# Add handlers to logger\n",
    "logger.addHandler(file_handler)"
   ]
  },
  {
   "cell_type": "markdown",
   "metadata": {},
   "source": [
    "Console handler"
   ]
  },
  {
   "cell_type": "code",
   "execution_count": 2,
   "metadata": {},
   "outputs": [],
   "source": [
    "# add console handler\n",
    "console_handler = logging.StreamHandler()\n",
    "console_handler.setLevel(logging.INFO)\n",
    "console_handler.setFormatter(formatter) # Use the same formatter\n",
    "# Add handlers to logger\n",
    "logger.addHandler(console_handler)"
   ]
  },
  {
   "cell_type": "code",
   "execution_count": 5,
   "metadata": {},
   "outputs": [
    {
     "name": "stderr",
     "output_type": "stream",
     "text": [
      "2025-07-20 02:12:04,552 - file_console_logger - INFO - Starting division: 10 ÷ 2\n",
      "2025-07-20 02:12:04,571 - file_console_logger - INFO - Division successful. Result: 5.0\n",
      "2025-07-20 02:12:04,573 - file_console_logger - INFO - Starting division: 10 ÷ 0\n",
      "2025-07-20 02:12:04,573 - file_console_logger - ERROR - Division by zero error!\n"
     ]
    },
    {
     "name": "stdout",
     "output_type": "stream",
     "text": [
      "\n",
      "Results: 5.0, None\n",
      "Check 'app.log' file for logged messages\n"
     ]
    }
   ],
   "source": [
    "# Test the function\n",
    "result1 = divide_numbers(10, 2)\n",
    "result2 = divide_numbers(10, 0)\n",
    "\n",
    "# Show that logs go to both console and file\n",
    "print(f\"\\nResults: {result1}, {result2}\")\n",
    "print(\"Check 'app.log' file for logged messages\")"
   ]
  },
  {
   "cell_type": "markdown",
   "metadata": {},
   "source": [
    "### Json logging + Rotation file"
   ]
  },
  {
   "cell_type": "code",
   "execution_count": null,
   "metadata": {},
   "outputs": [],
   "source": [
    "import json\n",
    "import logging\n",
    "from datetime import datetime\n",
    "from logging.handlers import RotatingFileHandler\n",
    "\n",
    "# Create advanced logger\n",
    "advanced_logger = logging.getLogger('advanced_app')\n",
    "advanced_logger.setLevel(logging.DEBUG)\n",
    "\n",
    "# Rotating file handler\n",
    "rotating_handler = RotatingFileHandler(\n",
    "    'advanced_app.log', \n",
    "    maxBytes=1024 / 2,  # 1/2 KB\n",
    "    backupCount=5\n",
    ")\n",
    "rotating_handler.setLevel(logging.INFO)"
   ]
  },
  {
   "cell_type": "code",
   "execution_count": null,
   "metadata": {},
   "outputs": [],
   "source": [
    "class JSONFormatter(logging.Formatter):\n",
    "    def format(self, record):\n",
    "        log_entry = {\n",
    "            'timestamp': datetime.fromtimestamp(record.created).isoformat(),\n",
    "            'level': record.levelname,\n",
    "            'message': record.getMessage(),\n",
    "            'module': record.module,\n",
    "            'function': record.funcName,\n",
    "            'line': record.lineno\n",
    "        }\n",
    "        return json.dumps(log_entry, ensure_ascii=False)\n",
    "\n",
    "json_formatter = JSONFormatter()\n",
    "\n",
    "rotating_handler.setFormatter(json_formatter)\n",
    "\n",
    "advanced_logger.addHandler(rotating_handler)\n"
   ]
  },
  {
   "cell_type": "code",
   "execution_count": 10,
   "metadata": {},
   "outputs": [
    {
     "name": "stderr",
     "output_type": "stream",
     "text": [
      "Division by zero attempted\n"
     ]
    }
   ],
   "source": [
    "\n",
    "# Example class with logging\n",
    "class Calculator:\n",
    "    def __init__(self):\n",
    "        self.logger = logging.getLogger(f'{__name__}.Calculator')\n",
    "        self.logger.info(\"Calculator instance created\")\n",
    "    \n",
    "    def add(self, a, b):\n",
    "        self.logger.debug(f\"Adding: {a} + {b}\")\n",
    "        result = a + b\n",
    "        self.logger.info(f\"Addition result: {result}\")\n",
    "        return result\n",
    "    \n",
    "    def multiply(self, a, b):\n",
    "        self.logger.debug(f\"Multiplying: {a} × {b}\")\n",
    "        result = a * b\n",
    "        self.logger.info(f\"Multiplication result: {result}\")\n",
    "        return result\n",
    "    \n",
    "    def divide(self, a, b):\n",
    "        self.logger.debug(f\"Dividing: {a} ÷ {b}\")\n",
    "        try:\n",
    "            result = a / b\n",
    "            self.logger.info(f\"Division result: {result}\")\n",
    "            return result\n",
    "        except ZeroDivisionError:\n",
    "            self.logger.error(\"Division by zero attempted\")\n",
    "            return None\n",
    "\n",
    "# Test the Calculator with logging\n",
    "calc = Calculator()\n",
    "calc.add(5, 3)\n",
    "calc.multiply(4, 7)\n",
    "calc.divide(10, 2)\n",
    "calc.divide(10, 0)  # This will generate an error log\n",
    "\n",
    "advanced_logger.info(\"Calculator operations completed\")"
   ]
  },
  {
   "cell_type": "markdown",
   "metadata": {},
   "source": [
    "### python-json-logger\n"
   ]
  },
  {
   "cell_type": "code",
   "execution_count": 12,
   "metadata": {},
   "outputs": [
    {
     "name": "stderr",
     "output_type": "stream",
     "text": [
      "\u001b[2mUsing Python 3.10.18 environment at: C:\\Users\\hayk_\\.conda\\envs\\lectures\u001b[0m\n",
      "\u001b[2mResolved \u001b[1m1 package\u001b[0m \u001b[2min 538ms\u001b[0m\u001b[0m\n",
      "\u001b[2mPrepared \u001b[1m1 package\u001b[0m \u001b[2min 129ms\u001b[0m\u001b[0m\n",
      "\u001b[2mInstalled \u001b[1m1 package\u001b[0m \u001b[2min 28ms\u001b[0m\u001b[0m\n",
      " \u001b[32m+\u001b[39m \u001b[1mpython-json-logger\u001b[0m\u001b[2m==3.3.0\u001b[0m\n"
     ]
    }
   ],
   "source": [
    "!uv pip install python-json-logger\n"
   ]
  },
  {
   "cell_type": "code",
   "execution_count": null,
   "metadata": {},
   "outputs": [
    {
     "name": "stdout",
     "output_type": "stream",
     "text": [
      "{\"levelname\": \"ERROR\", \"name\": \"__main__\", \"message\": \"This is an error message\", \"asctime\": \"2025-07-20 02:24:50,638\"}\n",
      "{\"levelname\": \"CRITICAL\", \"name\": \"__main__\", \"message\": \"This is a critical message\", \"asctime\": \"2025-07-20 02:24:50,639\"}\n"
     ]
    }
   ],
   "source": [
    "import sys\n",
    "import logging\n",
    "from pythonjsonlogger import jsonlogger   \n",
    "\n",
    "logger = logging.getLogger(__name__)\n",
    "stdout_handler = logging.StreamHandler(stream=sys.stdout)\n",
    "\n",
    "# format with JSON\n",
    "format_output = jsonlogger.JsonFormatter('%(levelname)s : %(name)s : %(message)s : %(asctime)s')\n",
    "\n",
    "stdout_handler.setFormatter(format_output)\n",
    "logger.addHandler(stdout_handler)\n",
    "\n",
    "logger.error(\"This is an error message\")\n",
    "logger.critical(\"This is a critical message\")\n"
   ]
  },
  {
   "cell_type": "code",
   "execution_count": 1,
   "metadata": {},
   "outputs": [
    {
     "name": "stdout",
     "output_type": "stream",
     "text": [
      "{\"levelname\": \"ERROR\", \"name\": \"__main__\", \"message\": \"This is an error message\", \"asctime\": \"2025-07-20 02:25:48,755\"}\n",
      "{\"levelname\": \"CRITICAL\", \"name\": \"__main__\", \"message\": \"This is a critical message\", \"asctime\": \"2025-07-20 02:25:48,757\"}\n"
     ]
    }
   ],
   "source": [
    "import sys\n",
    "import logging\n",
    "from pythonjsonlogger import jsonlogger\n",
    "\n",
    "logger = logging.getLogger(__name__)\n",
    "logger.setLevel(logging.INFO)\n",
    "\n",
    "stdout_handler = logging.StreamHandler(stream=sys.stdout)\n",
    "## Create a file handler\n",
    "fileHandler = logging.FileHandler(\"app_with_json.log\")   # <-\n",
    "\n",
    "format_output = jsonlogger.JsonFormatter('%(levelname)s : %(name)s : %(message)s : %(asctime)s')\n",
    "\n",
    "stdout_handler.setFormatter(format_output)\n",
    "\n",
    "fileHandler.setFormatter(format_output)     # <-\n",
    "\n",
    "logger.addHandler(stdout_handler)\n",
    "## the file handle handler\n",
    "logger.addHandler(fileHandler)             # <-\n",
    "\n",
    "logger.error(\"This is an error message\")\n",
    "logger.critical(\"This is a critical message\")\n"
   ]
  },
  {
   "cell_type": "markdown",
   "metadata": {},
   "source": [
    "# 🛠️ Գործնական\n"
   ]
  },
  {
   "cell_type": "markdown",
   "metadata": {},
   "source": [
    "# 🏡Տնային\n"
   ]
  },
  {
   "cell_type": "markdown",
   "metadata": {},
   "source": [
    "# 🎲 00\n",
    "- ▶️[Video]()\n",
    "- ▶️[Random link]()\n",
    "- 🇦🇲🎶[]()\n",
    "- 🌐🎶[]()\n",
    "- 🤌[Կարգին]()"
   ]
  },
  {
   "cell_type": "markdown",
   "metadata": {
    "id": "TfbUegKqXVyH"
   },
   "source": [
    "\n",
    "<a href=\"http://s01.flagcounter.com/more/1oO\"><img src=\"https://s01.flagcounter.com/count2/1oO/bg_FFFFFF/txt_000000/border_CCCCCC/columns_2/maxflags_10/viewers_0/labels_0/pageviews_1/flags_0/percent_0/\" alt=\"Flag Counter\"></a>\n"
   ]
  }
 ],
 "metadata": {
  "colab": {
   "authorship_tag": "ABX9TyOx7X+DxNeKu1zUVVCmsSHJ",
   "provenance": [
    {
     "file_id": "1_9UtYmPVVGmnWIKdBzPYkbtTlTbd0clo",
     "timestamp": 1735604987843
    },
    {
     "file_id": "15x56uwwONMo_ilzUJgt6UcX1d552xH6X",
     "timestamp": 1708441161475
    },
    {
     "file_id": "1LbG88IWtk30WlIoINzG4_vXHoJAvoDaP",
     "timestamp": 1683614319950
    }
   ]
  },
  "kernelspec": {
   "display_name": "lectures",
   "language": "python",
   "name": "python3"
  },
  "language_info": {
   "codemirror_mode": {
    "name": "ipython",
    "version": 3
   },
   "file_extension": ".py",
   "mimetype": "text/x-python",
   "name": "python",
   "nbconvert_exporter": "python",
   "pygments_lexer": "ipython3",
   "version": "3.10.18"
  }
 },
 "nbformat": 4,
 "nbformat_minor": 0
}

{
 "cells": [
  {
   "cell_type": "raw",
   "metadata": {
    "vscode": {
     "languageId": "raw"
    }
   },
   "source": [
    "---\n",
    "title: \"16 DBs (Supabase)\"\n",
    "lightbox: true\n",
    "format: \n",
    "  html:\n",
    "    code-fold: false\n",
    "number-offset: 1\n",
    "---"
   ]
  },
  {
   "cell_type": "markdown",
   "metadata": {
    "vscode": {
     "languageId": "raw"
    }
   },
   "source": [
    "![image.png](../background_photos/libs_16_piano.jpg)\n",
    "[լուսանկարի հղումը](https://unsplash.com/photos/7XmahBpZY0U), Հեղինակ՝ [Karine Avetisyan](https://unsplash.com/@kar111) "
   ]
  },
  {
   "cell_type": "markdown",
   "metadata": {
    "vscode": {
     "languageId": "raw"
    }
   },
   "source": [
    "<a href=\"ToDo\" target=\"_parent\"><img src=\"https://colab.research.google.com/assets/colab-badge.svg\" alt=\"Open In Colab\"/></a> (ToDo)"
   ]
  },
  {
   "cell_type": "markdown",
   "metadata": {
    "vscode": {
     "languageId": "raw"
    }
   },
   "source": [
    "> Song reference - ToDo"
   ]
  },
  {
   "cell_type": "markdown",
   "metadata": {
    "vscode": {
     "languageId": "raw"
    }
   },
   "source": [
    "# 📌 Նկարագիր\n",
    "\n",
    "[📚 Ամբողջական նյութը]()\n",
    "\n",
    "#### 📺 Տեսանյութեր\n",
    "#### 🏡 Տնային"
   ]
  },
  {
   "cell_type": "markdown",
   "metadata": {
    "vscode": {
     "languageId": "raw"
    }
   },
   "source": [
    "# 📚 Նյութը"
   ]
  },
  {
   "cell_type": "markdown",
   "metadata": {},
   "source": [
    "## 🗄️ Database Types Overview\n",
    "\n",
    "- [24 minute video on 7 dbs for Python](https://www.youtube.com/watch?v=HAv5t2Gq-yU)\n",
    "\n",
    "### 📊 SQL Databases (Relational)\n",
    "\n",
    "- **Structure:** Tables with rows and columns, strict schema\n",
    "- **Query Language:** SQL (Structured Query Language)\n",
    "- **ACID Properties:** Atomicity, Consistency, Isolation, Durability\n",
    "\n",
    "#### 🔒 ACID Properties Explained\n",
    "\n",
    "- [Geeksforgeeks article](https://www.geeksforgeeks.org/dbms/acid-properties-in-dbms/)\n",
    "\n",
    "**ACID** guarantees reliable database transactions:\n",
    "\n",
    "##### **A** - Atomicity ⚛️\n",
    "- **\"All or Nothing\"** - A transaction either completes fully or not at all\n",
    "- If any part fails, the entire transaction is rolled back\n",
    "- **Example:** Bank transfer - both debit and credit must succeed, or neither happens\n",
    "\n",
    "##### **C** - Consistency 🎯\n",
    "- **\"Data Integrity\"** - Database stays in a valid state before and after transactions\n",
    "- All rules, constraints, and relationships are maintained\n",
    "- **Example:** Account balance can't be negative if there's a constraint\n",
    "\n",
    "##### **I** - Isolation 🔐\n",
    "- **\"Concurrent Safety\"** - Multiple transactions don't interfere with each other\n",
    "- Each transaction sees a consistent view of the database\n",
    "- Changes made by one transaction are not visible to others until they are committed.\n",
    "- It ensures that the result of concurrent transactions is the same as if they were run one after another.\n",
    "- **Example:** Two people trying to buy the last item - only one transaction succeeds\n",
    "\n",
    "\n",
    "##### **D** - Durability 💾\n",
    "- **\"Permanent Changes\"** - Once committed, data survives system crashes\n",
    "- Changes are written to persistent storage\n",
    "- **Example:** Your bank deposit is safe even if the server crashes\n",
    "\n",
    "\n",
    "\n",
    "#### Popular SQL Databases:\n",
    "- **PostgreSQL** - Advanced, open-source\n",
    "- **MySQL** - Fast, widely used  \n",
    "- **SQLite** - Lightweight, serverless\n",
    "- **Oracle** - Enterprise-grade\n",
    "- **SQL Server** - Microsoft's solution"
   ]
  },
  {
   "cell_type": "markdown",
   "metadata": {},
   "source": [
    "### 🍃 NoSQL Databases (Non-Relational)\n",
    "\n",
    "- **Structure:** Flexible, schema-less documents/key-value pairs\n",
    "- **Query Language:** Varies by type\n",
    "- **Scalability:** Horizontal scaling, eventual consistency\n",
    "\n",
    "#### NoSQL Types:\n",
    "\n",
    "##### 1. **Document Stores**\n",
    "- **MongoDB, CouchDB**\n",
    "- Store JSON-like documents\n",
    "- Flexible schema\n",
    "\n",
    "##### 2. **Key-Value Stores** \n",
    "- **Redis, DynamoDB**\n",
    "- Simple key-value pairs\n",
    "- High performance\n",
    "\n",
    "##### 3. **Graph Databases**\n",
    "- **Neo4j, ArangoDB**\n",
    "- Nodes and relationships\n",
    "- Complex connections\n"
   ]
  },
  {
   "cell_type": "code",
   "execution_count": null,
   "metadata": {},
   "outputs": [],
   "source": [
    "# NoSQL Database Examples\n",
    "\n",
    "# 1. Document Store (MongoDB-style)\n",
    "mongodb_example = {\n",
    "    \"_id\": \"507f1f77bcf86cd799439011\",\n",
    "    \"name\": \"John Doe\",\n",
    "    \"email\": \"john@example.com\",\n",
    "    \"age\": 30,\n",
    "    \"address\": {\n",
    "        \"street\": \"123 Main St\",\n",
    "        \"city\": \"Yerevan\"\n",
    "    },\n",
    "    \"hobbies\": [\"coding\", \"chess\"],\n",
    "    \"posts\": [\n",
    "        {\"title\": \"My First Post\", \"date\": \"2024-01-01\"},\n",
    "        {\"title\": \"Learning NoSQL\", \"date\": \"2024-01-02\"}\n",
    "    ]\n",
    "}\n",
    "\n",
    "# 2. Key-Value Store (Redis-style)\n",
    "redis_example = {\n",
    "    \"user:1001\": \"{'name':'John','email':'john@example.com'}\",\n",
    "    \"session:abc123\": \"{'user_id':1001,'expires':'2024-12-31'}\",\n",
    "    \"cache:trending\": \"['post1','post2','post3']\"\n",
    "}\n",
    "\n",
    "# 3. Graph Database (Neo4j-style)\n",
    "graph_example = \"\"\"\n",
    "(john:Person {name:'John', age:30})-[:FRIENDS_WITH]->(jane:Person {name:'Jane'})\n",
    "(john)-[:WORKS_AT]->(company:Company {name:'TechCorp'})\n",
    "(jane)-[:LIVES_IN]->(city:City {name:'Yerevan'})\n",
    "\"\"\""
   ]
  },
  {
   "cell_type": "markdown",
   "metadata": {},
   "source": [
    "### ⚖️ SQL vs NoSQL Comparison\n",
    "\n",
    "| Feature | SQL | NoSQL |\n",
    "|---------|-----|-------|\n",
    "| **Schema** | Fixed, predefined | Flexible, dynamic |\n",
    "| **Scaling** | Vertical (upgrade hardware) | Horizontal (add servers) |\n",
    "| **Consistency** | ACID guaranteed | Eventual consistency |\n",
    "| **Queries** | Complex SQL joins | Simple key lookups |\n",
    "| **Transactions** | Full ACID support | Limited transactions |\n",
    "| **Data Structure** | Structured, relational | Semi/unstructured |\n",
    "| **Learning Curve** | Steeper (SQL syntax) | Easier (JSON-like) |\n",
    "\n",
    "### 🎯 When to Use Each?\n",
    "\n",
    "#### Choose SQL When:\n",
    "- ✅ Complex relationships between data\n",
    "- ✅ Need ACID transactions  \n",
    "- ✅ Structured, well-defined data\n",
    "- ✅ Complex reporting queries\n",
    "- ✅ Mature ecosystem needed\n",
    "\n",
    "#### Choose NoSQL When:\n",
    "- ✅ Rapid development needed\n",
    "- ✅ Flexible/changing data structure\n",
    "- ✅ Massive scale required\n",
    "- ✅ Simple read/write operations\n",
    "- ✅ Document-based data"
   ]
  },
  {
   "cell_type": "markdown",
   "metadata": {},
   "source": [
    "### 🔧 Specialized Databases\n",
    "\n",
    "### 🔍 **Search Engines**\n",
    "- **Elasticsearch** - Full-text search, analytics\n",
    "- **Solr** - Enterprise search platform\n",
    "\n",
    "### 📊 **Time Series**\n",
    "- **InfluxDB** - IoT, monitoring data\n",
    "- **TimescaleDB** - PostgreSQL extension for time series\n",
    "\n",
    "### 🧠 **Vector Databases**\n",
    "- **Pinecone** - ML embeddings, AI applications\n",
    "- **Weaviate** - Vector search with ML\n",
    "\n",
    "### 🚀 **In-Memory**\n",
    "- **Redis** - Caching, real-time analytics\n",
    "- **Memcached** - Simple key-value caching\n",
    "\n",
    "### 🌊 **Multi-Model**\n",
    "- **ArangoDB** - Document + Graph + Key-Value\n",
    "- **Azure Cosmos DB** - Multiple APIs in one service"
   ]
  },
  {
   "cell_type": "markdown",
   "metadata": {},
   "source": [
    "## 🔑 Database Keys & Constraints\n",
    "\n",
    "### 🗝️ Types of Database Keys\n",
    "\n",
    "#### **Primary Key** 🔑\n",
    "- **Unique identifier** for each record in a table\n",
    "- **Cannot be NULL** or duplicate\n",
    "- **Automatically indexed** for fast lookups\n",
    "\n",
    "**Examples:**\n",
    "```sql\n",
    "-- Auto-incrementing primary key\n",
    "id BIGSERIAL PRIMARY KEY\n",
    "\n",
    "-- Composite primary key (multiple columns)\n",
    "PRIMARY KEY (user_id, product_id)\n",
    "\n",
    "-- Natural primary key\n",
    "email VARCHAR(255) PRIMARY KEY\n",
    "```\n",
    "\n",
    "#### **Foreign Key** 🔗\n",
    "- **Links two tables** together\n",
    "- **References primary key** of another table\n",
    "- **Maintains referential integrity**\n",
    "- **Can be NULL** (optional relationship)\n",
    "\n",
    "**Examples:**\n",
    "```sql\n",
    "-- Simple foreign key\n",
    "supplier_id BIGINT REFERENCES supplier(id)\n",
    "\n",
    "-- Foreign key with actions\n",
    "supplier_id BIGINT REFERENCES supplier(id) \n",
    "    ON DELETE CASCADE        -- Delete related records\n",
    "    ON UPDATE SET NULL      -- Set to NULL on update\n",
    "```\n",
    "\n",
    "#### **Unique Key** ✨\n",
    "- **Must be unique** across all records\n",
    "- **Can have multiple** unique keys per table\n",
    "- **Can be NULL** (unlike primary key)\n",
    "\n",
    "**Examples:**\n",
    "```sql\n",
    "email VARCHAR(255) UNIQUE\n",
    "username VARCHAR(50) UNIQUE\n",
    "phone_number VARCHAR(20) UNIQUE\n",
    "```"
   ]
  },
  {
   "cell_type": "markdown",
   "metadata": {},
   "source": [
    "### 🛡️ Database Constraints\n",
    "\n",
    "#### **NOT NULL Constraint** ❌\n",
    "- **Prevents empty values** in required fields\n",
    "- **Ensures data completeness**\n",
    "\n",
    "```sql\n",
    "name TEXT NOT NULL              -- Required field\n",
    "email VARCHAR(255) NOT NULL     -- Must have email\n",
    "```\n",
    "\n",
    "#### **CHECK Constraint** ✅\n",
    "- **Custom validation rules**\n",
    "- **Business logic enforcement**\n",
    "\n",
    "```sql\n",
    "age INTEGER CHECK (age >= 0 AND age <= 150)\n",
    "price INTEGER CHECK (price > 0)\n",
    "status TEXT CHECK (status IN ('active', 'inactive', 'pending'))\n",
    "```\n",
    "\n",
    "#### **DEFAULT Constraint** 🎯\n",
    "- **Automatic value assignment**\n",
    "- **Reduces data entry errors**\n",
    "\n",
    "```sql\n",
    "created_at TIMESTAMPTZ DEFAULT NOW()\n",
    "status TEXT DEFAULT 'active'\n",
    "country TEXT DEFAULT 'Unknown'\n",
    "```\n",
    "\n",
    "#### **CASCADE Actions** 🌊\n",
    "- **Automatic relationship management**\n",
    "- **Maintains data integrity**\n",
    "\n",
    "```sql\n",
    "-- When supplier is deleted, set cheese supplier_id to NULL\n",
    "ON DELETE SET NULL\n",
    "\n",
    "-- When supplier is deleted, delete all related cheeses\n",
    "ON DELETE CASCADE\n",
    "\n",
    "-- When supplier ID changes, update all references\n",
    "ON UPDATE CASCADE\n",
    "```"
   ]
  },
  {
   "cell_type": "markdown",
   "metadata": {},
   "source": [
    "# 🚀 Supabase Tutorial\n",
    "\n",
    "**Supabase** is an open-source Backend-as-a-Service (BaaS) that provides:\n",
    "- PostgreSQL database with real-time subscriptions\n",
    "- Authentication & user management\n",
    "- Auto-generated APIs (REST & GraphQL)\n",
    "- File storage\n",
    "- Edge functions\n",
    "\n",
    "## 📚 Resources\n",
    "- [Official Docs](https://supabase.com/docs)\n",
    "- [Python SDK Reference](https://supabase.com/docs/reference/python)\n",
    "- [Python SDK GitHub](https://github.com/supabase/supabase-py)\n",
    "- [8 minutes video on Supabase vs Firebase](https://www.youtube.com/watch?v=WiwfiVdfRIc)\n",
    "- [Playlist with 10 short videos](https://www.youtube.com/playlist?list=PL4cUxeGkcC9hUb6sHthUEwG7r9VDPBMKO)\n",
    "- [40 minute tutorial](https://www.youtube.com/watch?v=M6cfT2pqpSc)"
   ]
  },
  {
   "cell_type": "markdown",
   "metadata": {},
   "source": [
    "## 1️⃣ Setup & Installation\n",
    "\n",
    "### Prerequisites\n",
    "1. **Create Supabase Account** at [supabase.com](https://supabase.com)\n",
    "2. **Create New Project** in Supabase dashboard\n",
    "3. **Get API Keys** from Project Settings > API\n",
    "\n",
    "### Environment Setup\n",
    "Create a `.env` file in your project root:\n",
    "```bash\n",
    "SUPABASE_URL=https://your-project.supabase.co\n",
    "SUPABASE_KEY=your-anon-public-key\n",
    "```\n",
    "\n",
    "### Install Dependencies"
   ]
  },
  {
   "cell_type": "code",
   "execution_count": 1,
   "metadata": {},
   "outputs": [
    {
     "name": "stderr",
     "output_type": "stream",
     "text": [
      "\u001b[2mUsing Python 3.10.18 environment at: C:\\Users\\hayk_\\.conda\\envs\\lectures\u001b[0m\n",
      "\u001b[2mResolved \u001b[1m30 packages\u001b[0m \u001b[2min 220ms\u001b[0m\u001b[0m\n",
      "\u001b[2mUninstalled \u001b[1m2 packages\u001b[0m \u001b[2min 41ms\u001b[0m\u001b[0m\n",
      "\u001b[2mInstalled \u001b[1m14 packages\u001b[0m \u001b[2min 296ms\u001b[0m\u001b[0m\n",
      " \u001b[32m+\u001b[39m \u001b[1mdeprecation\u001b[0m\u001b[2m==2.1.0\u001b[0m\n",
      " \u001b[32m+\u001b[39m \u001b[1mh2\u001b[0m\u001b[2m==4.2.0\u001b[0m\n",
      " \u001b[32m+\u001b[39m \u001b[1mhpack\u001b[0m\u001b[2m==4.1.0\u001b[0m\n",
      " \u001b[32m+\u001b[39m \u001b[1mhyperframe\u001b[0m\u001b[2m==6.1.0\u001b[0m\n",
      " \u001b[32m+\u001b[39m \u001b[1mpostgrest\u001b[0m\u001b[2m==1.1.1\u001b[0m\n",
      " \u001b[32m+\u001b[39m \u001b[1mpyjwt\u001b[0m\u001b[2m==2.10.1\u001b[0m\n",
      " \u001b[32m+\u001b[39m \u001b[1mrealtime\u001b[0m\u001b[2m==2.7.0\u001b[0m\n",
      " \u001b[32m+\u001b[39m \u001b[1mstorage3\u001b[0m\u001b[2m==0.12.1\u001b[0m\n",
      " \u001b[32m+\u001b[39m \u001b[1mstrenum\u001b[0m\u001b[2m==0.4.15\u001b[0m\n",
      " \u001b[32m+\u001b[39m \u001b[1msupabase\u001b[0m\u001b[2m==2.18.1\u001b[0m\n",
      " \u001b[32m+\u001b[39m \u001b[1msupabase-auth\u001b[0m\u001b[2m==2.12.3\u001b[0m\n",
      " \u001b[32m+\u001b[39m \u001b[1msupabase-functions\u001b[0m\u001b[2m==0.10.1\u001b[0m\n",
      " \u001b[31m-\u001b[39m \u001b[1mtyping-extensions\u001b[0m\u001b[2m==4.12.2 (from file:///C:/b/abs_0ffjxtihug/croot/typing_extensions_1734714875646/work)\u001b[0m\n",
      " \u001b[33m~\u001b[39m \u001b[1mtyping-extensions\u001b[0m\u001b[2m==4.14.1\u001b[0m\n",
      " \u001b[32m+\u001b[39m \u001b[1mwebsockets\u001b[0m\u001b[2m==15.0.1\u001b[0m\n"
     ]
    }
   ],
   "source": [
    "# Install Supabase Python SDK\n",
    "!uv pip install supabase python-dotenv"
   ]
  },
  {
   "cell_type": "code",
   "execution_count": 2,
   "metadata": {},
   "outputs": [],
   "source": [
    "# 🔗 Connect to Supabase\n",
    "from dotenv import load_dotenv\n",
    "load_dotenv(override=True)\n",
    "\n",
    "import os\n",
    "from supabase import create_client, Client\n",
    "\n",
    "# Get credentials from environment variables\n",
    "supabase_url = os.getenv(\"SUPABASE_URL\")\n",
    "supabase_key = os.getenv(\"SUPABASE_KEY\")\n",
    "\n",
    "\n",
    "supabase: Client = create_client(supabase_url, supabase_key)"
   ]
  },
  {
   "cell_type": "markdown",
   "metadata": {},
   "source": [
    "## 2️⃣ Database Schema & Table Creation\n",
    "\n",
    "### 📋 Our Example Schema\n",
    "We'll create a **cheese marketplace** database with:\n",
    "- **Suppliers** - Companies that provide cheese\n",
    "- **Cheese** - Products with prices and supplier relationships\n",
    "- **Users** - Customers (for authentication examples)\n",
    "\n",
    "### 🎯 Database Design Principles\n",
    "- **Primary Keys**: Unique identifiers for each record\n",
    "- **Foreign Keys**: Link tables together (relationships)\n",
    "- **Constraints**: Ensure data quality (NOT NULL, CHECK, UNIQUE)\n",
    "- **Indexes**: Speed up queries on frequently searched columns"
   ]
  },
  {
   "cell_type": "markdown",
   "metadata": {},
   "source": [
    "### 🛠️ Table Creation SQL\n",
    "\n",
    "**Option 1:** Run these queries in **Supabase SQL Editor** (Dashboard > SQL Editor)\n",
    "\n",
    "**Option 2:** Execute via Python (shown in next cell)"
   ]
  },
  {
   "cell_type": "code",
   "execution_count": null,
   "metadata": {
    "vscode": {
     "languageId": "sql"
    }
   },
   "outputs": [],
   "source": [
    "-- Recommended: run in the Supabase SQL editor\n",
    "\n",
    "-- SUPPLIERS\n",
    "create table if not exists public.supplier (\n",
    "  id          bigserial primary key,\n",
    "  created_at  timestamptz not null default now(),\n",
    "  name        text not null unique\n",
    ");\n",
    "\n",
    "-- CHEESES\n",
    "create table if not exists public.cheese (\n",
    "  id           bigserial primary key,\n",
    "  created_at   timestamptz not null default now(),\n",
    "  -- store prices in integer cents (e.g., 550 = €5.50)\n",
    "  price        integer not null check (price >= 0),\n",
    "  name         text not null,\n",
    "  supplier_id  bigint,\n",
    "  constraint cheese_supplier_id_fkey\n",
    "    foreign key (supplier_id)\n",
    "    references public.supplier(id)\n",
    "    on delete set null\n",
    ");\n",
    "\n",
    "-- Helpful indexes\n",
    "create index if not exists idx_cheese_supplier_id on public.cheese(supplier_id);\n",
    "create index if not exists idx_cheese_price on public.cheese(price);\n"
   ]
  },
  {
   "cell_type": "code",
   "execution_count": 3,
   "metadata": {},
   "outputs": [
    {
     "data": {
      "text/plain": [
       "[{'id': 1,\n",
       "  'created_at': '2025-08-19T01:04:33.868746+00:00',\n",
       "  'price': 550,\n",
       "  'name': 'Gouda',\n",
       "  'supplier_id': 1},\n",
       " {'id': 2,\n",
       "  'created_at': '2025-08-19T01:04:33.868746+00:00',\n",
       "  'price': 850,\n",
       "  'name': 'Լոռի',\n",
       "  'supplier_id': 1},\n",
       " {'id': 3,\n",
       "  'created_at': '2025-08-19T01:04:33.868746+00:00',\n",
       "  'price': 920,\n",
       "  'name': 'Չանախ',\n",
       "  'supplier_id': 2},\n",
       " {'id': 4,\n",
       "  'created_at': '2025-08-19T01:04:33.868746+00:00',\n",
       "  'price': 890,\n",
       "  'name': 'Բորբոսով',\n",
       "  'supplier_id': 3}]"
      ]
     },
     "execution_count": 3,
     "metadata": {},
     "output_type": "execute_result"
    }
   ],
   "source": [
    "response = supabase.table(\"cheese\").select(\"*\").execute()\n",
    "response.data\n",
    "    "
   ]
  },
  {
   "cell_type": "code",
   "execution_count": 25,
   "metadata": {},
   "outputs": [
    {
     "ename": "APIError",
     "evalue": "{'message': 'duplicate key value violates unique constraint \"cheese_id_key\"', 'code': '23505', 'hint': None, 'details': 'Key (id)=(1) already exists.'}",
     "output_type": "error",
     "traceback": [
      "\u001b[1;31m---------------------------------------------------------------------------\u001b[0m",
      "\u001b[1;31mAPIError\u001b[0m                                  Traceback (most recent call last)",
      "Cell \u001b[1;32mIn[25], line 4\u001b[0m\n\u001b[0;32m      1\u001b[0m response \u001b[38;5;241m=\u001b[39m (\n\u001b[0;32m      2\u001b[0m     \u001b[43msupabase\u001b[49m\u001b[38;5;241;43m.\u001b[39;49m\u001b[43mtable\u001b[49m\u001b[43m(\u001b[49m\u001b[38;5;124;43m\"\u001b[39;49m\u001b[38;5;124;43mcheese\u001b[39;49m\u001b[38;5;124;43m\"\u001b[39;49m\u001b[43m)\u001b[49m\n\u001b[0;32m      3\u001b[0m \u001b[43m    \u001b[49m\u001b[38;5;241;43m.\u001b[39;49m\u001b[43minsert\u001b[49m\u001b[43m(\u001b[49m\u001b[43m{\u001b[49m\u001b[38;5;124;43m\"\u001b[39;49m\u001b[38;5;124;43mid\u001b[39;49m\u001b[38;5;124;43m\"\u001b[39;49m\u001b[43m:\u001b[49m\u001b[43m \u001b[49m\u001b[38;5;241;43m1\u001b[39;49m\u001b[43m,\u001b[49m\u001b[43m \u001b[49m\u001b[38;5;124;43m\"\u001b[39;49m\u001b[38;5;124;43mname\u001b[39;49m\u001b[38;5;124;43m\"\u001b[39;49m\u001b[43m:\u001b[49m\u001b[43m \u001b[49m\u001b[38;5;124;43m\"\u001b[39;49m\u001b[38;5;124;43mCheddar\u001b[39;49m\u001b[38;5;124;43m\"\u001b[39;49m\u001b[43m}\u001b[49m\u001b[43m)\u001b[49m\n\u001b[1;32m----> 4\u001b[0m \u001b[43m    \u001b[49m\u001b[38;5;241;43m.\u001b[39;49m\u001b[43mexecute\u001b[49m\u001b[43m(\u001b[49m\u001b[43m)\u001b[49m\n\u001b[0;32m      5\u001b[0m )\n",
      "File \u001b[1;32mc:\\Users\\hayk_\\.conda\\envs\\sl\\lib\\site-packages\\postgrest\\_sync\\request_builder.py:78\u001b[0m, in \u001b[0;36mSyncQueryRequestBuilder.execute\u001b[1;34m(self)\u001b[0m\n\u001b[0;32m     76\u001b[0m     \u001b[38;5;28;01melse\u001b[39;00m:\n\u001b[0;32m     77\u001b[0m         json_obj \u001b[38;5;241m=\u001b[39m model_validate_json(APIErrorFromJSON, r\u001b[38;5;241m.\u001b[39mcontent)\n\u001b[1;32m---> 78\u001b[0m         \u001b[38;5;28;01mraise\u001b[39;00m APIError(\u001b[38;5;28mdict\u001b[39m(json_obj))\n\u001b[0;32m     79\u001b[0m \u001b[38;5;28;01mexcept\u001b[39;00m ValidationError \u001b[38;5;28;01mas\u001b[39;00m e:\n\u001b[0;32m     80\u001b[0m     \u001b[38;5;28;01mraise\u001b[39;00m APIError(generate_default_error_message(r))\n",
      "\u001b[1;31mAPIError\u001b[0m: {'message': 'duplicate key value violates unique constraint \"cheese_id_key\"', 'code': '23505', 'hint': None, 'details': 'Key (id)=(1) already exists.'}"
     ]
    }
   ],
   "source": [
    "response = (\n",
    "    supabase.table(\"cheese\")\n",
    "    .insert({\"id\": 1, \"name\": \"Cheddar\"})\n",
    "    .execute()\n",
    ")"
   ]
  },
  {
   "cell_type": "code",
   "execution_count": 26,
   "metadata": {},
   "outputs": [],
   "source": [
    "response = (\n",
    "    supabase.table(\"cheese\")\n",
    "    .insert({\"id\": 2, \"name\": \"Cheddar\"})\n",
    "    .execute()\n",
    ")"
   ]
  },
  {
   "cell_type": "code",
   "execution_count": 29,
   "metadata": {},
   "outputs": [
    {
     "data": {
      "text/plain": [
       "[{'id': 1, 'created_at': '2025-08-19T00:08:59.531628+00:00'},\n",
       " {'id': 2, 'created_at': '2025-08-19T00:33:47.667117+00:00'}]"
      ]
     },
     "execution_count": 29,
     "metadata": {},
     "output_type": "execute_result"
    }
   ],
   "source": [
    "response = supabase.table(\"cheese\").select(\"id\", \"created_at\").execute()\n",
    "response.data\n",
    "    "
   ]
  },
  {
   "cell_type": "code",
   "execution_count": 32,
   "metadata": {},
   "outputs": [],
   "source": [
    "response = supabase.table(\"supplier\").select(\"*\").execute()\n",
    "\n",
    "# insert\n",
    "response = (\n",
    "    supabase.table(\"supplier\")\n",
    "    .insert({\"id\": 1, \"name\": \"Supplier A\"})\n",
    "    .execute()\n",
    ")"
   ]
  },
  {
   "cell_type": "code",
   "execution_count": 34,
   "metadata": {},
   "outputs": [
    {
     "data": {
      "text/plain": [
       "APIResponse[~_ReturnT](data=[{'id': 1, 'created_at': '2025-08-19T00:36:25.140416+00:00', 'name': 'Supplier A'}], count=None)"
      ]
     },
     "execution_count": 34,
     "metadata": {},
     "output_type": "execute_result"
    }
   ],
   "source": [
    "response = supabase.table(\"supplier\").select(\"*\").execute()\n",
    "response"
   ]
  },
  {
   "cell_type": "code",
   "execution_count": 41,
   "metadata": {},
   "outputs": [
    {
     "name": "stdout",
     "output_type": "stream",
     "text": [
      "🧀 Inserting cheeses...\n"
     ]
    },
    {
     "ename": "APIError",
     "evalue": "{'message': 'duplicate key value violates unique constraint \"cheese_supplier_key\"', 'code': '23505', 'hint': None, 'details': 'Key (supplier_id)=(1) already exists.'}",
     "output_type": "error",
     "traceback": [
      "\u001b[1;31m---------------------------------------------------------------------------\u001b[0m",
      "\u001b[1;31mAPIError\u001b[0m                                  Traceback (most recent call last)",
      "Cell \u001b[1;32mIn[41], line 18\u001b[0m\n\u001b[0;32m      6\u001b[0m cheeses_data \u001b[38;5;241m=\u001b[39m [\n\u001b[0;32m      7\u001b[0m     {\u001b[38;5;124m\"\u001b[39m\u001b[38;5;124mid\u001b[39m\u001b[38;5;124m\"\u001b[39m: \u001b[38;5;241m9\u001b[39m, \u001b[38;5;124m\"\u001b[39m\u001b[38;5;124mname\u001b[39m\u001b[38;5;124m\"\u001b[39m: \u001b[38;5;124m\"\u001b[39m\u001b[38;5;124mMozzarella\u001b[39m\u001b[38;5;124m\"\u001b[39m, \u001b[38;5;124m\"\u001b[39m\u001b[38;5;124mprice\u001b[39m\u001b[38;5;124m\"\u001b[39m: \u001b[38;5;241m1250\u001b[39m, \u001b[38;5;124m\"\u001b[39m\u001b[38;5;124msupplier_id\u001b[39m\u001b[38;5;124m\"\u001b[39m: \u001b[38;5;241m1\u001b[39m},\n\u001b[0;32m      8\u001b[0m     {\u001b[38;5;124m\"\u001b[39m\u001b[38;5;124mid\u001b[39m\u001b[38;5;124m\"\u001b[39m: \u001b[38;5;241m2\u001b[39m, \u001b[38;5;124m\"\u001b[39m\u001b[38;5;124mname\u001b[39m\u001b[38;5;124m\"\u001b[39m: \u001b[38;5;124m\"\u001b[39m\u001b[38;5;124mParmesan\u001b[39m\u001b[38;5;124m\"\u001b[39m, \u001b[38;5;124m\"\u001b[39m\u001b[38;5;124mprice\u001b[39m\u001b[38;5;124m\"\u001b[39m: \u001b[38;5;241m2500\u001b[39m, \u001b[38;5;124m\"\u001b[39m\u001b[38;5;124msupplier_id\u001b[39m\u001b[38;5;124m\"\u001b[39m: \u001b[38;5;241m1\u001b[39m},\n\u001b[1;32m   (...)\u001b[0m\n\u001b[0;32m     14\u001b[0m     {\u001b[38;5;124m\"\u001b[39m\u001b[38;5;124mid\u001b[39m\u001b[38;5;124m\"\u001b[39m: \u001b[38;5;241m8\u001b[39m, \u001b[38;5;124m\"\u001b[39m\u001b[38;5;124mname\u001b[39m\u001b[38;5;124m\"\u001b[39m: \u001b[38;5;124m\"\u001b[39m\u001b[38;5;124mGouda\u001b[39m\u001b[38;5;124m\"\u001b[39m, \u001b[38;5;124m\"\u001b[39m\u001b[38;5;124mprice\u001b[39m\u001b[38;5;124m\"\u001b[39m: \u001b[38;5;241m1975\u001b[39m, \u001b[38;5;124m\"\u001b[39m\u001b[38;5;124msupplier_id\u001b[39m\u001b[38;5;124m\"\u001b[39m: \u001b[38;5;241m4\u001b[39m}\n\u001b[0;32m     15\u001b[0m ]\n\u001b[0;32m     17\u001b[0m \u001b[38;5;28;01mfor\u001b[39;00m cheese \u001b[38;5;129;01min\u001b[39;00m cheeses_data:\n\u001b[1;32m---> 18\u001b[0m     \u001b[43msupabase\u001b[49m\u001b[38;5;241;43m.\u001b[39;49m\u001b[43mtable\u001b[49m\u001b[43m(\u001b[49m\u001b[38;5;124;43m\"\u001b[39;49m\u001b[38;5;124;43mcheese\u001b[39;49m\u001b[38;5;124;43m\"\u001b[39;49m\u001b[43m)\u001b[49m\u001b[38;5;241;43m.\u001b[39;49m\u001b[43minsert\u001b[49m\u001b[43m(\u001b[49m\u001b[43mcheese\u001b[49m\u001b[43m)\u001b[49m\u001b[38;5;241;43m.\u001b[39;49m\u001b[43mexecute\u001b[49m\u001b[43m(\u001b[49m\u001b[43m)\u001b[49m\n\u001b[0;32m     20\u001b[0m \u001b[38;5;28mprint\u001b[39m(\u001b[38;5;124m\"\u001b[39m\u001b[38;5;124m✅ Cheeses inserted!\u001b[39m\u001b[38;5;124m\"\u001b[39m)\n\u001b[0;32m     21\u001b[0m \u001b[38;5;28mprint\u001b[39m(\u001b[38;5;124m\"\u001b[39m\u001b[38;5;124m🎉 Artificial data ready for testing!\u001b[39m\u001b[38;5;124m\"\u001b[39m)\n",
      "File \u001b[1;32mc:\\Users\\hayk_\\.conda\\envs\\sl\\lib\\site-packages\\postgrest\\_sync\\request_builder.py:78\u001b[0m, in \u001b[0;36mSyncQueryRequestBuilder.execute\u001b[1;34m(self)\u001b[0m\n\u001b[0;32m     76\u001b[0m     \u001b[38;5;28;01melse\u001b[39;00m:\n\u001b[0;32m     77\u001b[0m         json_obj \u001b[38;5;241m=\u001b[39m model_validate_json(APIErrorFromJSON, r\u001b[38;5;241m.\u001b[39mcontent)\n\u001b[1;32m---> 78\u001b[0m         \u001b[38;5;28;01mraise\u001b[39;00m APIError(\u001b[38;5;28mdict\u001b[39m(json_obj))\n\u001b[0;32m     79\u001b[0m \u001b[38;5;28;01mexcept\u001b[39;00m ValidationError \u001b[38;5;28;01mas\u001b[39;00m e:\n\u001b[0;32m     80\u001b[0m     \u001b[38;5;28;01mraise\u001b[39;00m APIError(generate_default_error_message(r))\n",
      "\u001b[1;31mAPIError\u001b[0m: {'message': 'duplicate key value violates unique constraint \"cheese_supplier_key\"', 'code': '23505', 'hint': None, 'details': 'Key (supplier_id)=(1) already exists.'}"
     ]
    }
   ],
   "source": [
    "# 🧀 Create Artificial Data for Testing\n",
    "\n",
    "\n",
    "# Insert cheeses\n",
    "print(\"🧀 Inserting cheeses...\")\n",
    "cheeses_data = [\n",
    "    {\"id\": 9, \"name\": \"Mozzarella\", \"price\": 1250, \"supplier_id\": 1},\n",
    "    {\"id\": 2, \"name\": \"Parmesan\", \"price\": 2500, \"supplier_id\": 1},\n",
    "    {\"id\": 3, \"name\": \"Brie\", \"price\": 1875, \"supplier_id\": 2},\n",
    "    {\"id\": 4, \"name\": \"Camembert\", \"price\": 1625, \"supplier_id\": 2},\n",
    "    {\"id\": 5, \"name\": \"Emmental\", \"price\": 2200, \"supplier_id\": 3},\n",
    "    {\"id\": 6, \"name\": \"Gruyere\", \"price\": 2850, \"supplier_id\": 3},\n",
    "    {\"id\": 7, \"name\": \"Cheddar\", \"price\": 1500, \"supplier_id\": 4},\n",
    "    {\"id\": 8, \"name\": \"Gouda\", \"price\": 1975, \"supplier_id\": 4}\n",
    "]\n",
    "\n",
    "for cheese in cheeses_data:\n",
    "    supabase.table(\"cheese\").insert(cheese).execute()\n",
    "\n",
    "print(\"✅ Cheeses inserted!\")\n",
    "print(\"🎉 Artificial data ready for testing!\")"
   ]
  },
  {
   "cell_type": "code",
   "execution_count": null,
   "metadata": {},
   "outputs": [],
   "source": [
    "print(\"📦 Inserting suppliers...\")\n",
    "suppliers_data = [\n",
    "    {\"id\": 2, \"name\": \"Կովիկներ ՍՊԸ\"},\n",
    "    {\"id\": 3, \"name\": \"Swiss Dairy\"},\n",
    "    {\"id\": 4, \"name\": \"Local Farm\"}\n",
    "]\n",
    "\n",
    "for supplier in suppliers_data:\n",
    "    supabase.table(\"supplier\").insert(supplier).execute()\n",
    "\n",
    "print(\"✅ Suppliers inserted!\")\n"
   ]
  },
  {
   "cell_type": "code",
   "execution_count": null,
   "metadata": {},
   "outputs": [],
   "source": [
    "# 🔍 FILTERING Examples\n",
    "\n",
    "print(\"🔍 FILTERING & SORTING EXAMPLES\")\n",
    "print(\"=\" * 50)\n",
    "\n",
    "# Filter 1: Price-based filtering\n",
    "print(\"💰 Premium cheeses (price > $7.00):\")\n",
    "expensive = supabase.table(\"cheese\").select(\"name, price, category\").gt(\"price\", 700).execute()\n",
    "for cheese in expensive.data:\n",
    "    print(f\"   • {cheese['name']}: ${cheese['price']/100:.2f} ({cheese['category']})\")\n",
    "\n",
    "print()\n",
    "\n",
    "# Filter 2: Category filtering  \n",
    "print(\"🧀 Hard cheeses:\")\n",
    "hard_cheese = supabase.table(\"cheese\").select(\"name, price\").eq(\"category\", \"Hard\").execute()\n",
    "for cheese in hard_cheese.data:\n",
    "    print(f\"   • {cheese['name']}: ${cheese['price']/100:.2f}\")\n",
    "\n",
    "print()\n",
    "\n",
    "# Filter 3: Price range filtering\n",
    "print(\"💵 Mid-range cheeses ($6.00 - $8.00):\")\n",
    "midrange = (supabase.table(\"cheese\")\n",
    "           .select(\"name, price, category\")\n",
    "           .gte(\"price\", 600)\n",
    "           .lte(\"price\", 800)\n",
    "           .execute())\n",
    "for cheese in midrange.data:\n",
    "    print(f\"   • {cheese['name']}: ${cheese['price']/100:.2f} ({cheese['category']})\")\n",
    "\n",
    "print()\n",
    "\n",
    "# Filter 4: Multiple values with IN\n",
    "print(\"🇫🇷 French cheese categories (Soft OR Blue):\")\n",
    "french_types = (supabase.table(\"cheese\")\n",
    "               .select(\"name, price, category\")\n",
    "               .in_(\"category\", [\"Soft\", \"Blue\"])\n",
    "               .execute())\n",
    "for cheese in french_types.data:\n",
    "    print(f\"   • {cheese['name']}: ${cheese['price']/100:.2f} ({cheese['category']})\")\n",
    "\n",
    "print()\n",
    "\n",
    "# Filter 5: Text search (case-insensitive)\n",
    "print(\"🔤 Cheeses with 'em' in name:\")\n",
    "text_search = (supabase.table(\"cheese\")\n",
    "              .select(\"name, price\")\n",
    "              .ilike(\"name\", \"%em%\")  # Case-insensitive LIKE\n",
    "              .execute())\n",
    "for cheese in text_search.data:\n",
    "    print(f\"   • {cheese['name']}: ${cheese['price']/100:.2f}\")\n",
    "\n",
    "print()\n",
    "\n",
    "# Filter 6: Sorting\n",
    "print(\"📊 All cheeses sorted by price (ascending):\")\n",
    "sorted_cheese = (supabase.table(\"cheese\")\n",
    "                .select(\"name, price, category\")\n",
    "                .order(\"price\", desc=False)\n",
    "                .execute())\n",
    "for cheese in sorted_cheese.data:\n",
    "    print(f\"   • {cheese['name']}: ${cheese['price']/100:.2f} ({cheese['category']})\")\n",
    "\n",
    "print(\"\\n\" + \"=\" * 50)"
   ]
  },
  {
   "cell_type": "code",
   "execution_count": null,
   "metadata": {},
   "outputs": [],
   "source": [
    "# 📊 2. GROUP BY Examples (using PostgreSQL functions)\n",
    "\n",
    "print(\"📊 GROUP BY EXAMPLES\")\n",
    "print(\"=\" * 50)\n",
    "\n",
    "# Note: Supabase Python client doesn't have direct GROUP BY\n",
    "# But we can use PostgreSQL functions with .rpc() or manual SQL\n",
    "\n",
    "# Group By 1: Count cheeses per supplier\n",
    "print(\"🏭 Cheeses count per supplier:\")\n",
    "# We'll do this manually by getting data and processing\n",
    "all_cheeses = supabase.table(\"cheese\").select(\"supplier_id\").execute()\n",
    "supplier_counts = {}\n",
    "for cheese in all_cheeses.data:\n",
    "    sid = cheese['supplier_id']\n",
    "    supplier_counts[sid] = supplier_counts.get(sid, 0) + 1\n",
    "\n",
    "# Get supplier names\n",
    "for supplier_id, count in supplier_counts.items():\n",
    "    supplier = supabase.table(\"supplier\").select(\"name\").eq(\"id\", supplier_id).execute()\n",
    "    supplier_name = supplier.data[0]['name'] if supplier.data else f\"Supplier {supplier_id}\"\n",
    "    print(f\"  - {supplier_name}: {count} cheeses\")\n",
    "\n",
    "print()\n",
    "\n",
    "# Group By 2: Average price per supplier\n",
    "print(\"💰 Average price per supplier:\")\n",
    "all_data = supabase.table(\"cheese\").select(\"supplier_id, price\").execute()\n",
    "supplier_prices = {}\n",
    "for cheese in all_data.data:\n",
    "    sid = cheese['supplier_id']\n",
    "    if sid not in supplier_prices:\n",
    "        supplier_prices[sid] = []\n",
    "    supplier_prices[sid].append(cheese['price'])\n",
    "\n",
    "for supplier_id, prices in supplier_prices.items():\n",
    "    avg_price = sum(prices) / len(prices)\n",
    "    supplier = supabase.table(\"supplier\").select(\"name\").eq(\"id\", supplier_id).execute()\n",
    "    supplier_name = supplier.data[0]['name'] if supplier.data else f\"Supplier {supplier_id}\"\n",
    "    print(f\"  - {supplier_name}: ${avg_price:.2f}\")\n",
    "\n",
    "print()\n",
    "\n",
    "# Group By 3: Price ranges\n",
    "print(\"📈 Cheese count by price range:\")\n",
    "price_ranges = {\"$0-15\": 0, \"$15-20\": 0, \"$20-25\": 0, \"$25+\": 0}\n",
    "for cheese in all_data.data:\n",
    "    price = cheese['price']\n",
    "    if price < 15:\n",
    "        price_ranges[\"$0-15\"] += 1\n",
    "    elif price < 20:\n",
    "        price_ranges[\"$15-20\"] += 1\n",
    "    elif price < 25:\n",
    "        price_ranges[\"$20-25\"] += 1\n",
    "    else:\n",
    "        price_ranges[\"$25+\"] += 1\n",
    "\n",
    "for range_name, count in price_ranges.items():\n",
    "    print(f\"  - {range_name}: {count} cheeses\")\n",
    "\n",
    "print(\"\\n\" + \"=\" * 50)"
   ]
  },
  {
   "cell_type": "code",
   "execution_count": null,
   "metadata": {},
   "outputs": [],
   "source": [
    "# 🔗 3. JOIN Examples\n",
    "\n",
    "print(\"🔗 JOIN EXAMPLES\")\n",
    "print(\"=\" * 50)\n",
    "\n",
    "# Join 1: Get all cheeses with their supplier names\n",
    "print(\"🧀 All cheeses with supplier information:\")\n",
    "# In Supabase, we use foreign table syntax for joins\n",
    "cheese_with_suppliers = (supabase.table(\"cheese\")\n",
    "                         .select(\"id, name, price, supplier:supplier_id(name)\")\n",
    "                         .execute())\n",
    "\n",
    "for item in cheese_with_suppliers.data:\n",
    "    supplier_name = item['supplier']['name'] if item['supplier'] else 'Unknown'\n",
    "    print(f\"  - {item['name']} (${item['price']}) from {supplier_name}\")\n",
    "\n",
    "print()\n",
    "\n",
    "# Join 2: Get suppliers with their cheese count and total value\n",
    "print(\"🏭 Suppliers with cheese inventory:\")\n",
    "suppliers_with_cheeses = (supabase.table(\"supplier\")\n",
    "                          .select(\"id, name, cheese:cheese(name, price)\")\n",
    "                          .execute())\n",
    "\n",
    "for supplier in suppliers_with_cheeses.data:\n",
    "    cheese_list = supplier['cheese']\n",
    "    cheese_count = len(cheese_list)\n",
    "    total_value = sum(cheese['price'] for cheese in cheese_list)\n",
    "    cheese_names = [cheese['name'] for cheese in cheese_list]\n",
    "    \n",
    "    print(f\"  - {supplier['name']}:\")\n",
    "    print(f\"    • {cheese_count} cheeses\")\n",
    "    print(f\"    • Total value: ${total_value:.2f}\")\n",
    "    print(f\"    • Products: {', '.join(cheese_names)}\")\n",
    "    print()\n",
    "\n",
    "# Join 3: Get expensive cheeses (>$20) with supplier info\n",
    "print(\"💎 Premium cheeses (>$20) with suppliers:\")\n",
    "premium_cheeses = (supabase.table(\"cheese\")\n",
    "                  .select(\"name, price, supplier:supplier_id(name)\")\n",
    "                  .gt(\"price\", 20)\n",
    "                  .execute())\n",
    "\n",
    "for cheese in premium_cheeses.data:\n",
    "    supplier_name = cheese['supplier']['name'] if cheese['supplier'] else 'Unknown'\n",
    "    print(f\"  - {cheese['name']}: ${cheese['price']} from {supplier_name}\")\n",
    "\n",
    "print()\n",
    "\n",
    "# Join 4: Filter by supplier and show their cheeses\n",
    "print(\"🇫🇷 French supplier cheeses:\")\n",
    "french_cheeses = (supabase.table(\"cheese\")\n",
    "                 .select(\"name, price, supplier:supplier_id(name)\")\n",
    "                 .eq(\"supplier_id\", 2)  # French Fromagerie\n",
    "                 .execute())\n",
    "\n",
    "for cheese in french_cheeses.data:\n",
    "    print(f\"  - {cheese['name']}: ${cheese['price']}\")\n",
    "\n",
    "print(\"\\n\" + \"=\" * 50)\n",
    "print(\"🎉 All examples completed!\")"
   ]
  },
  {
   "cell_type": "markdown",
   "metadata": {},
   "source": [
    "GPT\n",
    "\n"
   ]
  },
  {
   "cell_type": "code",
   "execution_count": null,
   "metadata": {},
   "outputs": [],
   "source": [
    "-- 🏭 SUPPLIERS TABLE\n",
    "-- Stores information about cheese suppliers/manufacturers\n",
    "CREATE TABLE IF NOT EXISTS public.supplier (\n",
    "  id          BIGSERIAL PRIMARY KEY,                    -- Auto-incrementing ID\n",
    "  created_at  TIMESTAMPTZ NOT NULL DEFAULT NOW(),       -- Automatic timestamp\n",
    "  name        TEXT NOT NULL UNIQUE,                     -- Company name (must be unique)\n",
    "  country     TEXT DEFAULT 'Unknown',                   -- Country of origin\n",
    "  website     TEXT,                                     -- Optional website URL\n",
    "  contact_email TEXT                                    -- Contact information\n",
    ");\n",
    "\n",
    "-- 🧀 CHEESE TABLE  \n",
    "-- Stores cheese products with pricing and supplier relationships\n",
    "CREATE TABLE IF NOT EXISTS public.cheese (\n",
    "  id           BIGSERIAL PRIMARY KEY,                   -- Auto-incrementing ID\n",
    "  created_at   TIMESTAMPTZ NOT NULL DEFAULT NOW(),      -- Automatic timestamp\n",
    "  name         TEXT NOT NULL,                           -- Cheese name\n",
    "  price        INTEGER NOT NULL CHECK (price >= 0),     -- Price in cents (e.g., 550 = $5.50)\n",
    "  description  TEXT,                                    -- Optional description\n",
    "  category     TEXT DEFAULT 'Other',                    -- Cheese category\n",
    "  supplier_id  BIGINT,                                  -- Foreign key to supplier\n",
    "  \n",
    "  -- Foreign key constraint with cascade options\n",
    "  CONSTRAINT cheese_supplier_fkey \n",
    "    FOREIGN KEY (supplier_id) \n",
    "    REFERENCES public.supplier(id) \n",
    "    ON DELETE SET NULL                                  -- If supplier deleted, set to NULL\n",
    ");\n",
    "\n",
    "-- 📊 PERFORMANCE INDEXES\n",
    "-- Speed up common queries\n",
    "CREATE INDEX IF NOT EXISTS idx_cheese_supplier_id ON public.cheese(supplier_id);\n",
    "CREATE INDEX IF NOT EXISTS idx_cheese_price ON public.cheese(price);\n",
    "CREATE INDEX IF NOT EXISTS idx_cheese_category ON public.cheese(category);\n",
    "CREATE INDEX IF NOT EXISTS idx_supplier_country ON public.supplier(country);\n",
    "\n",
    "-- 💡 COMMENTS FOR DOCUMENTATION\n",
    "COMMENT ON TABLE public.supplier IS 'Cheese suppliers and manufacturers';\n",
    "COMMENT ON TABLE public.cheese IS 'Cheese products with pricing and supplier info';\n",
    "COMMENT ON COLUMN public.cheese.price IS 'Price stored in cents to avoid decimal issues';"
   ]
  },
  {
   "cell_type": "code",
   "execution_count": null,
   "metadata": {},
   "outputs": [],
   "source": [
    "# 🛠️ Create Tables via Python (Alternative to SQL Editor)\n",
    "\n",
    "def create_database_schema():\n",
    "    \"\"\"\n",
    "    Create database tables programmatically using Supabase\n",
    "    This is an alternative to running SQL in the Supabase dashboard\n",
    "    \"\"\"\n",
    "    \n",
    "    # SQL for creating suppliers table\n",
    "    suppliers_sql = \"\"\"\n",
    "    CREATE TABLE IF NOT EXISTS public.supplier (\n",
    "      id          BIGSERIAL PRIMARY KEY,\n",
    "      created_at  TIMESTAMPTZ NOT NULL DEFAULT NOW(),\n",
    "      name        TEXT NOT NULL UNIQUE,\n",
    "      country     TEXT DEFAULT 'Unknown',\n",
    "      website     TEXT,\n",
    "      contact_email TEXT\n",
    "    );\n",
    "    \"\"\"\n",
    "    \n",
    "    # SQL for creating cheese table  \n",
    "    cheese_sql = \"\"\"\n",
    "    CREATE TABLE IF NOT EXISTS public.cheese (\n",
    "      id           BIGSERIAL PRIMARY KEY,\n",
    "      created_at   TIMESTAMPTZ NOT NULL DEFAULT NOW(),\n",
    "      name         TEXT NOT NULL,\n",
    "      price        INTEGER NOT NULL CHECK (price >= 0),\n",
    "      description  TEXT,\n",
    "      category     TEXT DEFAULT 'Other',\n",
    "      supplier_id  BIGINT,\n",
    "      CONSTRAINT cheese_supplier_fkey \n",
    "        FOREIGN KEY (supplier_id) \n",
    "        REFERENCES public.supplier(id) \n",
    "        ON DELETE SET NULL\n",
    "    );\n",
    "    \"\"\"\n",
    "    \n",
    "    # SQL for creating indexes\n",
    "    indexes_sql = \"\"\"\n",
    "    CREATE INDEX IF NOT EXISTS idx_cheese_supplier_id ON public.cheese(supplier_id);\n",
    "    CREATE INDEX IF NOT EXISTS idx_cheese_price ON public.cheese(price);\n",
    "    CREATE INDEX IF NOT EXISTS idx_cheese_category ON public.cheese(category);\n",
    "    CREATE INDEX IF NOT EXISTS idx_supplier_country ON public.supplier(country);\n",
    "    \"\"\"\n",
    "    \n",
    "    try:\n",
    "        print(\"🏗️ Creating database schema...\")\n",
    "        \n",
    "        # Execute table creation SQL\n",
    "        supabase.postgrest.schema(\"public\").rpc(\"sql\", {\"query\": suppliers_sql}).execute()\n",
    "        print(\"✅ Suppliers table created\")\n",
    "        \n",
    "        supabase.postgrest.schema(\"public\").rpc(\"sql\", {\"query\": cheese_sql}).execute()  \n",
    "        print(\"✅ Cheese table created\")\n",
    "        \n",
    "        supabase.postgrest.schema(\"public\").rpc(\"sql\", {\"query\": indexes_sql}).execute()\n",
    "        print(\"✅ Indexes created\")\n",
    "        \n",
    "        print(\"🎉 Database schema setup complete!\")\n",
    "        \n",
    "    except Exception as e:\n",
    "        print(f\"❌ Error creating schema: {e}\")\n",
    "        print(\"💡 Try running the SQL directly in Supabase SQL Editor instead\")\n",
    "\n",
    "# Uncomment the line below to create tables\n",
    "# create_database_schema()\n",
    "\n",
    "print(\"📋 Table creation function defined!\")\n",
    "print(\"💡 Uncomment the last line to create tables programmatically\")\n",
    "print(\"🔧 Or copy the SQL above to Supabase SQL Editor (recommended)\")"
   ]
  },
  {
   "cell_type": "markdown",
   "metadata": {},
   "source": [
    "## 3️⃣ CRUD Operations (Create, Read, Update, Delete)\n",
    "\n",
    "### 📝 Basic Database Operations\n",
    "- **CREATE** - Insert new records\n",
    "- **READ** - Query and retrieve data  \n",
    "- **UPDATE** - Modify existing records\n",
    "- **DELETE** - Remove records\n",
    "\n",
    "### 🧀 Sample Data Setup\n",
    "Let's start by adding some sample suppliers and cheese products to work with."
   ]
  },
  {
   "cell_type": "code",
   "execution_count": 43,
   "metadata": {},
   "outputs": [],
   "source": [
    "from supabase import create_client, Client\n",
    "import os\n",
    "\n",
    "url = os.environ[\"SUPABASE_URL\"]\n",
    "key = os.environ[\"SUPABASE_KEY\"]  # or anon for read-only\n",
    "supabase: Client = create_client(url, key)\n"
   ]
  },
  {
   "cell_type": "code",
   "execution_count": null,
   "metadata": {},
   "outputs": [
    {
     "data": {
      "text/plain": [
       "APIResponse[~_ReturnT](data=[{'id': 1, 'created_at': '2025-08-19T01:02:56.083173+00:00', 'name': 'Կովիկներ ՍՊԸ'}, {'id': 2, 'created_at': '2025-08-19T01:02:56.083173+00:00', 'name': 'ՄՈՒՈՒՈՈՒ ՓԲԸ'}, {'id': 3, 'created_at': '2025-08-19T01:02:56.083173+00:00', 'name': 'Մուուերի համակովական ասոցիցացիա'}], count=None)"
      ]
     },
     "execution_count": 44,
     "metadata": {},
     "output_type": "execute_result"
    }
   ],
   "source": [
    "# 🏭 CREATE: Insert Suppliers\n",
    "\n",
    "# Sample supplier data with more details\n",
    "suppliers_data = [\n",
    "    {\n",
    "        \"id\": 1, \n",
    "        \"name\": \"Կովիկներ ՍՊԸ\",\n",
    "        \"country\": \"Armenia\", \n",
    "        \"website\": \"https://kovikner.am\",\n",
    "        \"contact_email\": \"info@kovikner.am\"\n",
    "    },\n",
    "    {\n",
    "        \"id\": 2, \n",
    "        \"name\": \"French Fromagerie\",\n",
    "        \"country\": \"France\", \n",
    "        \"website\": \"https://fromagerie.fr\",\n",
    "        \"contact_email\": \"contact@fromagerie.fr\"\n",
    "    },\n",
    "    {\n",
    "        \"id\": 3, \n",
    "        \"name\": \"Swiss Alpine Dairy\",\n",
    "        \"country\": \"Switzerland\", \n",
    "        \"website\": \"https://alpinedairy.ch\",\n",
    "        \"contact_email\": \"orders@alpinedairy.ch\"\n",
    "    }\n",
    "]\n",
    "\n",
    "try:\n",
    "    # Insert suppliers with error handling\n",
    "    print(\"🏭 Inserting suppliers...\")\n",
    "    response = supabase.table(\"supplier\").insert(suppliers_data).execute()\n",
    "    \n",
    "    print(f\"✅ Successfully inserted {len(response.data)} suppliers!\")\n",
    "    for supplier in response.data:\n",
    "        print(f\"   • {supplier['name']} (ID: {supplier['id']})\")\n",
    "        \n",
    "except Exception as e:\n",
    "    print(f\"❌ Error inserting suppliers: {e}\")\n",
    "    print(\"💡 Suppliers might already exist, or check your table schema\")"
   ]
  },
  {
   "cell_type": "code",
   "execution_count": null,
   "metadata": {},
   "outputs": [
    {
     "data": {
      "text/plain": [
       "APIResponse[~_ReturnT](data=[{'id': 1, 'created_at': '2025-08-19T01:04:33.868746+00:00', 'price': 550, 'name': 'Gouda', 'supplier_id': 1}, {'id': 2, 'created_at': '2025-08-19T01:04:33.868746+00:00', 'price': 850, 'name': 'Լոռի', 'supplier_id': 1}, {'id': 3, 'created_at': '2025-08-19T01:04:33.868746+00:00', 'price': 920, 'name': 'Չանախ', 'supplier_id': 2}, {'id': 4, 'created_at': '2025-08-19T01:04:33.868746+00:00', 'price': 890, 'name': 'Բորբոսով', 'supplier_id': 3}], count=None)"
      ]
     },
     "execution_count": 45,
     "metadata": {},
     "output_type": "execute_result"
    }
   ],
   "source": [
    "# 🧀 CREATE: Insert Cheese Products\n",
    "\n",
    "# Diverse cheese data with categories and descriptions\n",
    "cheese_data = [\n",
    "    {\n",
    "        \"name\": \"Gouda\", \n",
    "        \"price\": 550, \n",
    "        \"supplier_id\": 3,\n",
    "        \"category\": \"Hard\",\n",
    "        \"description\": \"Classic Dutch cheese with a rich, nutty flavor\"\n",
    "    },\n",
    "    {\n",
    "        \"name\": \"Լոռի\", \n",
    "        \"price\": 850, \n",
    "        \"supplier_id\": 1,\n",
    "        \"category\": \"Fresh\",\n",
    "        \"description\": \"Traditional Armenian cheese, perfect for breakfast\"\n",
    "    },\n",
    "    {\n",
    "        \"name\": \"Roquefort\", \n",
    "        \"price\": 920, \n",
    "        \"supplier_id\": 2,\n",
    "        \"category\": \"Blue\",\n",
    "        \"description\": \"Famous French blue cheese with sharp, tangy flavor\"\n",
    "    },\n",
    "    {\n",
    "        \"name\": \"Emmental\", \n",
    "        \"price\": 690, \n",
    "        \"supplier_id\": 3,\n",
    "        \"category\": \"Hard\",\n",
    "        \"description\": \"Swiss cheese with characteristic holes and mild taste\"\n",
    "    },\n",
    "    {\n",
    "        \"name\": \"Camembert\", \n",
    "        \"price\": 780, \n",
    "        \"supplier_id\": 2,\n",
    "        \"category\": \"Soft\",\n",
    "        \"description\": \"Creamy French cheese with white rind\"\n",
    "    },\n",
    "    {\n",
    "        \"name\": \"Chanakh\", \n",
    "        \"price\": 750, \n",
    "        \"supplier_id\": 1,\n",
    "        \"category\": \"Brined\",\n",
    "        \"description\": \"Traditional Armenian brined cheese\"\n",
    "    }\n",
    "]\n",
    "\n",
    "try:\n",
    "    print(\"🧀 Inserting cheese products...\")\n",
    "    response = supabase.table(\"cheese\").insert(cheese_data).execute()\n",
    "    \n",
    "    print(f\"✅ Successfully inserted {len(response.data)} cheese products!\")\n",
    "    for cheese in response.data:\n",
    "        price_dollars = cheese['price'] / 100\n",
    "        print(f\"   • {cheese['name']}: ${price_dollars:.2f} ({cheese['category']})\")\n",
    "        \n",
    "except Exception as e:\n",
    "    print(f\"❌ Error inserting cheeses: {e}\")\n",
    "    print(\"💡 Check if suppliers exist first, or table constraints\")"
   ]
  },
  {
   "cell_type": "code",
   "execution_count": null,
   "metadata": {},
   "outputs": [
    {
     "name": "stdout",
     "output_type": "stream",
     "text": [
      "   id                        created_at  price      name  supplier_id\n",
      "0   1  2025-08-19T01:04:33.868746+00:00    550     Gouda            1\n",
      "1   2  2025-08-19T01:04:33.868746+00:00    850      Լոռի            1\n",
      "2   3  2025-08-19T01:04:33.868746+00:00    920     Չանախ            2\n",
      "3   4  2025-08-19T01:04:33.868746+00:00    890  Բորբոսով            3\n"
     ]
    }
   ],
   "source": [
    "# 📖 READ: Query Data\n",
    "\n",
    "import pandas as pd\n",
    "\n",
    "print(\"📖 READING DATA FROM TABLES\")\n",
    "print(\"=\" * 50)\n",
    "\n",
    "# 1. Get all cheeses\n",
    "print(\"🧀 All cheese products:\")\n",
    "response = supabase.table(\"cheese\").select(\"*\").execute()\n",
    "cheese_df = pd.DataFrame(response.data)\n",
    "\n",
    "if not cheese_df.empty:\n",
    "    # Convert price from cents to dollars for display\n",
    "    cheese_df['price_dollars'] = cheese_df['price'] / 100\n",
    "    print(cheese_df[['id', 'name', 'price_dollars', 'category', 'supplier_id']].to_string(index=False))\n",
    "else:\n",
    "    print(\"No cheese products found\")\n",
    "\n",
    "print(\"\\n\" + \"-\" * 30)\n",
    "\n",
    "# 2. Get all suppliers\n",
    "print(\"🏭 All suppliers:\")\n",
    "response = supabase.table(\"supplier\").select(\"*\").execute()\n",
    "supplier_df = pd.DataFrame(response.data)\n",
    "\n",
    "if not supplier_df.empty:\n",
    "    print(supplier_df[['id', 'name', 'country', 'website']].to_string(index=False))\n",
    "else:\n",
    "    print(\"No suppliers found\")\n",
    "\n",
    "print(\"\\n\" + \"=\" * 50)"
   ]
  },
  {
   "cell_type": "code",
   "execution_count": 49,
   "metadata": {},
   "outputs": [
    {
     "name": "stdout",
     "output_type": "stream",
     "text": [
      "   id      name  price\n",
      "0   3     Չանախ    920\n",
      "1   4  Բորբոսով    890\n",
      "2   2      Լոռի    850\n"
     ]
    }
   ],
   "source": [
    "\n",
    "# Top 10 most expensive\n",
    "r = (supabase.table(\"cheese\")\n",
    "     .select(\"id,name,price\")\n",
    "     .order(\"price\", desc=True)\n",
    "     .range(0, 2)\n",
    "     .execute())\n",
    "df = pd.DataFrame(r.data)\n",
    "print(df)"
   ]
  },
  {
   "cell_type": "code",
   "execution_count": 51,
   "metadata": {},
   "outputs": [
    {
     "name": "stdout",
     "output_type": "stream",
     "text": [
      "   id      name  price                                           supplier\n",
      "0   1     Gouda    550                  {'id': 1, 'name': 'Կովիկներ ՍՊԸ'}\n",
      "1   2      Լոռի    850                  {'id': 1, 'name': 'Կովիկներ ՍՊԸ'}\n",
      "2   3     Չանախ    920                  {'id': 2, 'name': 'ՄՈՒՈՒՈՈՒ ՓԲԸ'}\n",
      "3   4  Բորբոսով    890  {'id': 3, 'name': 'Մուուերի համակովական ասոցից...\n"
     ]
    }
   ],
   "source": [
    "# Alias \"supplier\" from the FK column supplier_id\n",
    "r = (supabase.table(\"cheese\")\n",
    "     .select(\"id,name,price,supplier:supplier_id(id,name)\")\n",
    "     .execute())\n",
    "print(pd.DataFrame(r.data))"
   ]
  },
  {
   "cell_type": "code",
   "execution_count": 53,
   "metadata": {},
   "outputs": [
    {
     "name": "stdout",
     "output_type": "stream",
     "text": [
      "   id      name  price                                     supplier\n",
      "0   1     Gouda    550                     {'name': 'Կովիկներ ՍՊԸ'}\n",
      "1   2      Լոռի    850                     {'name': 'Կովիկներ ՍՊԸ'}\n",
      "2   3     Չանախ    920                     {'name': 'ՄՈՒՈՒՈՈՒ ՓԲԸ'}\n",
      "3   4  Բորբոսով    890  {'name': 'Մուուերի համակովական ասոցիցացիա'}\n"
     ]
    }
   ],
   "source": [
    "# Alias \"supplier\" from the FK column supplier_id\n",
    "r = (supabase.table(\"cheese\")\n",
    "     .select(\"id,name,price,supplier:supplier_id(name)\")\n",
    "     .execute())\n",
    "print(pd.DataFrame(r.data))"
   ]
  },
  {
   "cell_type": "code",
   "execution_count": 55,
   "metadata": {},
   "outputs": [
    {
     "name": "stdout",
     "output_type": "stream",
     "text": [
      "   id      name  price                                           supplier\n",
      "0   1     Gouda    550                  {'id': 1, 'name': 'Կովիկներ ՍՊԸ'}\n",
      "1   2      Լոռի    850                  {'id': 1, 'name': 'Կովիկներ ՍՊԸ'}\n",
      "2   3     Չանախ    920                  {'id': 2, 'name': 'ՄՈՒՈՒՈՈՒ ՓԲԸ'}\n",
      "3   4  Բորբոսով    890  {'id': 3, 'name': 'Մուուերի համակովական ասոցից...\n"
     ]
    }
   ],
   "source": [
    "# Require a match using !inner\n",
    "r = (supabase.table(\"cheese\")\n",
    "     .select(\"id,name,price,supplier!inner(id,name)\")\n",
    "     .execute())\n",
    "print(pd.DataFrame(r.data))"
   ]
  },
  {
   "cell_type": "code",
   "execution_count": 56,
   "metadata": {},
   "outputs": [
    {
     "name": "stdout",
     "output_type": "stream",
     "text": [
      "   id   name  price                           supplier\n",
      "0   3  Չանախ    920  {'id': 2, 'name': 'ՄՈՒՈՒՈՈՒ ՓԲԸ'}\n"
     ]
    }
   ],
   "source": [
    "r = (supabase.table(\"cheese\")\n",
    "     .select(\"id,name,price,supplier!inner(id,name)\")\n",
    "     .eq(\"supplier.name\", \"ՄՈՒՈՒՈՈՒ ՓԲԸ\")\n",
    "     .execute())\n",
    "print(pd.DataFrame(r.data))\n"
   ]
  },
  {
   "cell_type": "code",
   "execution_count": null,
   "metadata": {},
   "outputs": [
    {
     "data": {
      "text/plain": [
       "APIResponse[~_ReturnT](data=[{'id': 2, 'created_at': '2025-08-19T01:02:56.083173+00:00', 'name': 'ՄՈՒՈՒՈՈՒՈՒՈՒՈՒՈՒՈՒՈՒՈՒՈՒ ՓԲԸ'}], count=None)"
      ]
     },
     "execution_count": 58,
     "metadata": {},
     "output_type": "execute_result"
    }
   ],
   "source": [
    "# ✏️ UPDATE & 🗑️ DELETE Operations\n",
    "\n",
    "print(\"✏️ UPDATE EXAMPLES\")\n",
    "print(\"=\" * 30)\n",
    "\n",
    "# Update a cheese price\n",
    "try:\n",
    "    print(\"💰 Updating Gouda price from $5.50 to $6.25...\")\n",
    "    response = (supabase.table(\"cheese\")\n",
    "                .update({\"price\": 625})  # $6.25 in cents\n",
    "                .eq(\"name\", \"Gouda\")\n",
    "                .execute())\n",
    "    \n",
    "    if response.data:\n",
    "        updated_cheese = response.data[0]\n",
    "        print(f\"✅ Updated: {updated_cheese['name']} now costs ${updated_cheese['price']/100:.2f}\")\n",
    "    else:\n",
    "        print(\"❌ No cheese updated - check if 'Gouda' exists\")\n",
    "        \n",
    "except Exception as e:\n",
    "    print(f\"❌ Update error: {e}\")\n",
    "\n",
    "print()\n",
    "\n",
    "# Update supplier website\n",
    "try:\n",
    "    print(\"🌐 Updating supplier website...\")\n",
    "    response = (supabase.table(\"supplier\")\n",
    "                .update({\"website\": \"https://kovikner-updated.am\"})\n",
    "                .eq(\"name\", \"Կովիկներ ՍՊԸ\")\n",
    "                .execute())\n",
    "    \n",
    "    if response.data:\n",
    "        updated_supplier = response.data[0]\n",
    "        print(f\"✅ Updated: {updated_supplier['name']} website\")\n",
    "    else:\n",
    "        print(\"❌ No supplier updated\")\n",
    "        \n",
    "except Exception as e:\n",
    "    print(f\"❌ Update error: {e}\")\n",
    "\n",
    "print(\"\\n\" + \"🗑️ DELETE EXAMPLES\")\n",
    "print(\"=\" * 30)\n",
    "\n",
    "# Note: Be careful with DELETE operations!\n",
    "print(\"⚠️  DELETE operations are permanent!\")\n",
    "print(\"💡 In production, consider 'soft deletes' (marking as inactive)\")\n",
    "print(\"🔒 For this tutorial, we'll skip actual deletions to preserve data\")\n",
    "\n",
    "# Example of how you would delete (commented out):\n",
    "# Delete a specific cheese\n",
    "# response = supabase.table(\"cheese\").delete().eq(\"name\", \"SomeCheeseToDelete\").execute()\n",
    "\n",
    "# Delete all cheeses from a supplier\n",
    "# response = supabase.table(\"cheese\").delete().eq(\"supplier_id\", 999).execute()\n",
    "\n",
    "print(\"📚 DELETE syntax examples shown above (commented out for safety)\")"
   ]
  },
  {
   "cell_type": "markdown",
   "metadata": {},
   "source": [
    "## 4️⃣ Advanced Queries\n",
    "\n",
    "### 🔍 Filtering, Sorting & Joins\n",
    "Master advanced database operations to build powerful applications.\n",
    "\n",
    "#### Query Types We'll Cover:\n",
    "- **Filtering** - Find specific records with conditions\n",
    "- **Sorting** - Order results by price, name, etc.\n",
    "- **Joining** - Combine data from multiple tables\n",
    "- **Aggregation** - Count, sum, average operations\n",
    "- **Pagination** - Handle large datasets efficiently"
   ]
  },
  {
   "cell_type": "markdown",
   "metadata": {},
   "source": [
    "## 5️⃣ Authentication & Authorization\n",
    "\n",
    "### 🔐 User Management with Supabase Auth\n",
    "Supabase provides built-in authentication with:\n",
    "- **Email/Password** authentication  \n",
    "- **OAuth providers** (Google, GitHub, etc.)\n",
    "- **Row Level Security (RLS)** for data protection\n",
    "- **JWT tokens** for secure API access\n",
    "- **User sessions** and management\n",
    "\n",
    "### 🛡️ Security Features\n",
    "- Automatic password hashing\n",
    "- Email verification\n",
    "- Password reset flows  \n",
    "- Multi-factor authentication (MFA)\n",
    "- Role-based access control"
   ]
  },
  {
   "cell_type": "markdown",
   "metadata": {},
   "source": [
    "## 🔐 Supabase Authentication & Authorization\n",
    "\n",
    "Supabase provides built-in authentication with email/password, OAuth providers, and Row Level Security (RLS)."
   ]
  },
  {
   "cell_type": "code",
   "execution_count": 59,
   "metadata": {},
   "outputs": [
    {
     "name": "stdout",
     "output_type": "stream",
     "text": [
      "✅ User registered: panir@hamov.am\n",
      "🔑 User ID: 199e3c46-3f49-4883-b8da-524f043a8038\n"
     ]
    }
   ],
   "source": [
    "\n",
    "response = supabase.auth.sign_up({\n",
    "    \"email\": \"panir@hamov.am\",\n",
    "    \"password\": \"hndkahaver\"\n",
    "})\n",
    "\n",
    "print(f\"✅ User registered: {response.user.email}\")\n",
    "print(f\"🔑 User ID: {response.user.id}\")\n",
    "    \n"
   ]
  },
  {
   "cell_type": "code",
   "execution_count": 60,
   "metadata": {},
   "outputs": [
    {
     "ename": "AuthApiError",
     "evalue": "For security purposes, you can only request this after 18 seconds.",
     "output_type": "error",
     "traceback": [
      "\u001b[1;31m---------------------------------------------------------------------------\u001b[0m",
      "\u001b[1;31mHTTPStatusError\u001b[0m                           Traceback (most recent call last)",
      "File \u001b[1;32mc:\\Users\\hayk_\\.conda\\envs\\sl\\lib\\site-packages\\supabase_auth\\_sync\\gotrue_base_api.py:120\u001b[0m, in \u001b[0;36mSyncGoTrueBaseAPI._request\u001b[1;34m(self, method, path, jwt, redirect_to, headers, query, body, no_resolve_json, xform)\u001b[0m\n\u001b[0;32m    113\u001b[0m response \u001b[38;5;241m=\u001b[39m \u001b[38;5;28mself\u001b[39m\u001b[38;5;241m.\u001b[39m_http_client\u001b[38;5;241m.\u001b[39mrequest(\n\u001b[0;32m    114\u001b[0m     method,\n\u001b[0;32m    115\u001b[0m     url,\n\u001b[1;32m   (...)\u001b[0m\n\u001b[0;32m    118\u001b[0m     json\u001b[38;5;241m=\u001b[39mmodel_dump(body) \u001b[38;5;28;01mif\u001b[39;00m \u001b[38;5;28misinstance\u001b[39m(body, BaseModel) \u001b[38;5;28;01melse\u001b[39;00m body,\n\u001b[0;32m    119\u001b[0m )\n\u001b[1;32m--> 120\u001b[0m \u001b[43mresponse\u001b[49m\u001b[38;5;241;43m.\u001b[39;49m\u001b[43mraise_for_status\u001b[49m\u001b[43m(\u001b[49m\u001b[43m)\u001b[49m\n\u001b[0;32m    121\u001b[0m result \u001b[38;5;241m=\u001b[39m response \u001b[38;5;28;01mif\u001b[39;00m no_resolve_json \u001b[38;5;28;01melse\u001b[39;00m response\u001b[38;5;241m.\u001b[39mjson()\n",
      "File \u001b[1;32mc:\\Users\\hayk_\\.conda\\envs\\sl\\lib\\site-packages\\httpx\\_models.py:829\u001b[0m, in \u001b[0;36mResponse.raise_for_status\u001b[1;34m(self)\u001b[0m\n\u001b[0;32m    828\u001b[0m message \u001b[38;5;241m=\u001b[39m message\u001b[38;5;241m.\u001b[39mformat(\u001b[38;5;28mself\u001b[39m, error_type\u001b[38;5;241m=\u001b[39merror_type)\n\u001b[1;32m--> 829\u001b[0m \u001b[38;5;28;01mraise\u001b[39;00m HTTPStatusError(message, request\u001b[38;5;241m=\u001b[39mrequest, response\u001b[38;5;241m=\u001b[39m\u001b[38;5;28mself\u001b[39m)\n",
      "\u001b[1;31mHTTPStatusError\u001b[0m: Client error '429 Too Many Requests' for url 'https://ymssbelpokgdowpbpdvb.supabase.co/auth/v1/signup'\nFor more information check: https://developer.mozilla.org/en-US/docs/Web/HTTP/Status/429",
      "\nDuring handling of the above exception, another exception occurred:\n",
      "\u001b[1;31mAuthApiError\u001b[0m                              Traceback (most recent call last)",
      "Cell \u001b[1;32mIn[60], line 1\u001b[0m\n\u001b[1;32m----> 1\u001b[0m response \u001b[38;5;241m=\u001b[39m \u001b[43msupabase\u001b[49m\u001b[38;5;241;43m.\u001b[39;49m\u001b[43mauth\u001b[49m\u001b[38;5;241;43m.\u001b[39;49m\u001b[43msign_up\u001b[49m\u001b[43m(\u001b[49m\u001b[43m{\u001b[49m\n\u001b[0;32m      2\u001b[0m \u001b[43m    \u001b[49m\u001b[38;5;124;43m\"\u001b[39;49m\u001b[38;5;124;43memail\u001b[39;49m\u001b[38;5;124;43m\"\u001b[39;49m\u001b[43m:\u001b[49m\u001b[43m \u001b[49m\u001b[38;5;124;43m\"\u001b[39;49m\u001b[38;5;124;43mpanir@hamov.am\u001b[39;49m\u001b[38;5;124;43m\"\u001b[39;49m\u001b[43m,\u001b[49m\n\u001b[0;32m      3\u001b[0m \u001b[43m    \u001b[49m\u001b[38;5;124;43m\"\u001b[39;49m\u001b[38;5;124;43mpassword\u001b[39;49m\u001b[38;5;124;43m\"\u001b[39;49m\u001b[43m:\u001b[49m\u001b[43m \u001b[49m\u001b[38;5;124;43m\"\u001b[39;49m\u001b[38;5;124;43mhndkahaver\u001b[39;49m\u001b[38;5;124;43m\"\u001b[39;49m\n\u001b[0;32m      4\u001b[0m \u001b[43m}\u001b[49m\u001b[43m)\u001b[49m\n\u001b[0;32m      6\u001b[0m \u001b[38;5;28mprint\u001b[39m(\u001b[38;5;124mf\u001b[39m\u001b[38;5;124m\"\u001b[39m\u001b[38;5;124m✅ User registered: \u001b[39m\u001b[38;5;132;01m{\u001b[39;00mresponse\u001b[38;5;241m.\u001b[39muser\u001b[38;5;241m.\u001b[39memail\u001b[38;5;132;01m}\u001b[39;00m\u001b[38;5;124m\"\u001b[39m)\n\u001b[0;32m      7\u001b[0m \u001b[38;5;28mprint\u001b[39m(\u001b[38;5;124mf\u001b[39m\u001b[38;5;124m\"\u001b[39m\u001b[38;5;124m🔑 User ID: \u001b[39m\u001b[38;5;132;01m{\u001b[39;00mresponse\u001b[38;5;241m.\u001b[39muser\u001b[38;5;241m.\u001b[39mid\u001b[38;5;132;01m}\u001b[39;00m\u001b[38;5;124m\"\u001b[39m)\n",
      "File \u001b[1;32mc:\\Users\\hayk_\\.conda\\envs\\sl\\lib\\site-packages\\supabase_auth\\_sync\\gotrue_client.py:218\u001b[0m, in \u001b[0;36mSyncGoTrueClient.sign_up\u001b[1;34m(self, credentials)\u001b[0m\n\u001b[0;32m    216\u001b[0m captcha_token \u001b[38;5;241m=\u001b[39m options\u001b[38;5;241m.\u001b[39mget(\u001b[38;5;124m\"\u001b[39m\u001b[38;5;124mcaptcha_token\u001b[39m\u001b[38;5;124m\"\u001b[39m)\n\u001b[0;32m    217\u001b[0m \u001b[38;5;28;01mif\u001b[39;00m email:\n\u001b[1;32m--> 218\u001b[0m     response \u001b[38;5;241m=\u001b[39m \u001b[38;5;28;43mself\u001b[39;49m\u001b[38;5;241;43m.\u001b[39;49m\u001b[43m_request\u001b[49m\u001b[43m(\u001b[49m\n\u001b[0;32m    219\u001b[0m \u001b[43m        \u001b[49m\u001b[38;5;124;43m\"\u001b[39;49m\u001b[38;5;124;43mPOST\u001b[39;49m\u001b[38;5;124;43m\"\u001b[39;49m\u001b[43m,\u001b[49m\n\u001b[0;32m    220\u001b[0m \u001b[43m        \u001b[49m\u001b[38;5;124;43m\"\u001b[39;49m\u001b[38;5;124;43msignup\u001b[39;49m\u001b[38;5;124;43m\"\u001b[39;49m\u001b[43m,\u001b[49m\n\u001b[0;32m    221\u001b[0m \u001b[43m        \u001b[49m\u001b[43mbody\u001b[49m\u001b[38;5;241;43m=\u001b[39;49m\u001b[43m{\u001b[49m\n\u001b[0;32m    222\u001b[0m \u001b[43m            \u001b[49m\u001b[38;5;124;43m\"\u001b[39;49m\u001b[38;5;124;43memail\u001b[39;49m\u001b[38;5;124;43m\"\u001b[39;49m\u001b[43m:\u001b[49m\u001b[43m \u001b[49m\u001b[43memail\u001b[49m\u001b[43m,\u001b[49m\n\u001b[0;32m    223\u001b[0m \u001b[43m            \u001b[49m\u001b[38;5;124;43m\"\u001b[39;49m\u001b[38;5;124;43mpassword\u001b[39;49m\u001b[38;5;124;43m\"\u001b[39;49m\u001b[43m:\u001b[49m\u001b[43m \u001b[49m\u001b[43mpassword\u001b[49m\u001b[43m,\u001b[49m\n\u001b[0;32m    224\u001b[0m \u001b[43m            \u001b[49m\u001b[38;5;124;43m\"\u001b[39;49m\u001b[38;5;124;43mdata\u001b[39;49m\u001b[38;5;124;43m\"\u001b[39;49m\u001b[43m:\u001b[49m\u001b[43m \u001b[49m\u001b[43mdata\u001b[49m\u001b[43m,\u001b[49m\n\u001b[0;32m    225\u001b[0m \u001b[43m            \u001b[49m\u001b[38;5;124;43m\"\u001b[39;49m\u001b[38;5;124;43mgotrue_meta_security\u001b[39;49m\u001b[38;5;124;43m\"\u001b[39;49m\u001b[43m:\u001b[49m\u001b[43m \u001b[49m\u001b[43m{\u001b[49m\n\u001b[0;32m    226\u001b[0m \u001b[43m                \u001b[49m\u001b[38;5;124;43m\"\u001b[39;49m\u001b[38;5;124;43mcaptcha_token\u001b[39;49m\u001b[38;5;124;43m\"\u001b[39;49m\u001b[43m:\u001b[49m\u001b[43m \u001b[49m\u001b[43mcaptcha_token\u001b[49m\u001b[43m,\u001b[49m\n\u001b[0;32m    227\u001b[0m \u001b[43m            \u001b[49m\u001b[43m}\u001b[49m\u001b[43m,\u001b[49m\n\u001b[0;32m    228\u001b[0m \u001b[43m        \u001b[49m\u001b[43m}\u001b[49m\u001b[43m,\u001b[49m\n\u001b[0;32m    229\u001b[0m \u001b[43m        \u001b[49m\u001b[43mredirect_to\u001b[49m\u001b[38;5;241;43m=\u001b[39;49m\u001b[43mredirect_to\u001b[49m\u001b[43m,\u001b[49m\n\u001b[0;32m    230\u001b[0m \u001b[43m        \u001b[49m\u001b[43mxform\u001b[49m\u001b[38;5;241;43m=\u001b[39;49m\u001b[43mparse_auth_response\u001b[49m\u001b[43m,\u001b[49m\n\u001b[0;32m    231\u001b[0m \u001b[43m    \u001b[49m\u001b[43m)\u001b[49m\n\u001b[0;32m    232\u001b[0m \u001b[38;5;28;01melif\u001b[39;00m phone:\n\u001b[0;32m    233\u001b[0m     response \u001b[38;5;241m=\u001b[39m \u001b[38;5;28mself\u001b[39m\u001b[38;5;241m.\u001b[39m_request(\n\u001b[0;32m    234\u001b[0m         \u001b[38;5;124m\"\u001b[39m\u001b[38;5;124mPOST\u001b[39m\u001b[38;5;124m\"\u001b[39m,\n\u001b[0;32m    235\u001b[0m         \u001b[38;5;124m\"\u001b[39m\u001b[38;5;124msignup\u001b[39m\u001b[38;5;124m\"\u001b[39m,\n\u001b[1;32m   (...)\u001b[0m\n\u001b[0;32m    245\u001b[0m         xform\u001b[38;5;241m=\u001b[39mparse_auth_response,\n\u001b[0;32m    246\u001b[0m     )\n",
      "File \u001b[1;32mc:\\Users\\hayk_\\.conda\\envs\\sl\\lib\\site-packages\\supabase_auth\\_sync\\gotrue_base_api.py:125\u001b[0m, in \u001b[0;36mSyncGoTrueBaseAPI._request\u001b[1;34m(self, method, path, jwt, redirect_to, headers, query, body, no_resolve_json, xform)\u001b[0m\n\u001b[0;32m    123\u001b[0m         \u001b[38;5;28;01mreturn\u001b[39;00m xform(result)\n\u001b[0;32m    124\u001b[0m \u001b[38;5;28;01mexcept\u001b[39;00m \u001b[38;5;167;01mException\u001b[39;00m \u001b[38;5;28;01mas\u001b[39;00m e:\n\u001b[1;32m--> 125\u001b[0m     \u001b[38;5;28;01mraise\u001b[39;00m handle_exception(e)\n",
      "\u001b[1;31mAuthApiError\u001b[0m: For security purposes, you can only request this after 18 seconds."
     ]
    }
   ],
   "source": [
    "\n",
    "response = supabase.auth.sign_up({\n",
    "    \"email\": \"panir@hamov.am\",\n",
    "    \"password\": \"hndkahaver\"\n",
    "})\n",
    "\n",
    "print(f\"✅ User registered: {response.user.email}\")\n",
    "print(f\"🔑 User ID: {response.user.id}\")\n",
    "    \n"
   ]
  },
  {
   "cell_type": "code",
   "execution_count": 61,
   "metadata": {},
   "outputs": [
    {
     "ename": "AuthApiError",
     "evalue": "Email not confirmed",
     "output_type": "error",
     "traceback": [
      "\u001b[1;31m---------------------------------------------------------------------------\u001b[0m",
      "\u001b[1;31mHTTPStatusError\u001b[0m                           Traceback (most recent call last)",
      "File \u001b[1;32mc:\\Users\\hayk_\\.conda\\envs\\sl\\lib\\site-packages\\supabase_auth\\_sync\\gotrue_base_api.py:120\u001b[0m, in \u001b[0;36mSyncGoTrueBaseAPI._request\u001b[1;34m(self, method, path, jwt, redirect_to, headers, query, body, no_resolve_json, xform)\u001b[0m\n\u001b[0;32m    113\u001b[0m response \u001b[38;5;241m=\u001b[39m \u001b[38;5;28mself\u001b[39m\u001b[38;5;241m.\u001b[39m_http_client\u001b[38;5;241m.\u001b[39mrequest(\n\u001b[0;32m    114\u001b[0m     method,\n\u001b[0;32m    115\u001b[0m     url,\n\u001b[1;32m   (...)\u001b[0m\n\u001b[0;32m    118\u001b[0m     json\u001b[38;5;241m=\u001b[39mmodel_dump(body) \u001b[38;5;28;01mif\u001b[39;00m \u001b[38;5;28misinstance\u001b[39m(body, BaseModel) \u001b[38;5;28;01melse\u001b[39;00m body,\n\u001b[0;32m    119\u001b[0m )\n\u001b[1;32m--> 120\u001b[0m \u001b[43mresponse\u001b[49m\u001b[38;5;241;43m.\u001b[39;49m\u001b[43mraise_for_status\u001b[49m\u001b[43m(\u001b[49m\u001b[43m)\u001b[49m\n\u001b[0;32m    121\u001b[0m result \u001b[38;5;241m=\u001b[39m response \u001b[38;5;28;01mif\u001b[39;00m no_resolve_json \u001b[38;5;28;01melse\u001b[39;00m response\u001b[38;5;241m.\u001b[39mjson()\n",
      "File \u001b[1;32mc:\\Users\\hayk_\\.conda\\envs\\sl\\lib\\site-packages\\httpx\\_models.py:829\u001b[0m, in \u001b[0;36mResponse.raise_for_status\u001b[1;34m(self)\u001b[0m\n\u001b[0;32m    828\u001b[0m message \u001b[38;5;241m=\u001b[39m message\u001b[38;5;241m.\u001b[39mformat(\u001b[38;5;28mself\u001b[39m, error_type\u001b[38;5;241m=\u001b[39merror_type)\n\u001b[1;32m--> 829\u001b[0m \u001b[38;5;28;01mraise\u001b[39;00m HTTPStatusError(message, request\u001b[38;5;241m=\u001b[39mrequest, response\u001b[38;5;241m=\u001b[39m\u001b[38;5;28mself\u001b[39m)\n",
      "\u001b[1;31mHTTPStatusError\u001b[0m: Client error '400 Bad Request' for url 'https://ymssbelpokgdowpbpdvb.supabase.co/auth/v1/token?grant_type=password'\nFor more information check: https://developer.mozilla.org/en-US/docs/Web/HTTP/Status/400",
      "\nDuring handling of the above exception, another exception occurred:\n",
      "\u001b[1;31mAuthApiError\u001b[0m                              Traceback (most recent call last)",
      "Cell \u001b[1;32mIn[61], line 1\u001b[0m\n\u001b[1;32m----> 1\u001b[0m response \u001b[38;5;241m=\u001b[39m \u001b[43msupabase\u001b[49m\u001b[38;5;241;43m.\u001b[39;49m\u001b[43mauth\u001b[49m\u001b[38;5;241;43m.\u001b[39;49m\u001b[43msign_in_with_password\u001b[49m\u001b[43m(\u001b[49m\u001b[43m{\u001b[49m\n\u001b[0;32m      2\u001b[0m \u001b[43m    \u001b[49m\u001b[38;5;124;43m\"\u001b[39;49m\u001b[38;5;124;43memail\u001b[39;49m\u001b[38;5;124;43m\"\u001b[39;49m\u001b[43m:\u001b[49m\u001b[43m \u001b[49m\u001b[38;5;124;43m\"\u001b[39;49m\u001b[38;5;124;43mpanir@hamov.am\u001b[39;49m\u001b[38;5;124;43m\"\u001b[39;49m\u001b[43m,\u001b[49m\n\u001b[0;32m      3\u001b[0m \u001b[43m    \u001b[49m\u001b[38;5;124;43m\"\u001b[39;49m\u001b[38;5;124;43mpassword\u001b[39;49m\u001b[38;5;124;43m\"\u001b[39;49m\u001b[43m:\u001b[49m\u001b[43m \u001b[49m\u001b[38;5;124;43m\"\u001b[39;49m\u001b[38;5;124;43mhndkahaver\u001b[39;49m\u001b[38;5;124;43m\"\u001b[39;49m\n\u001b[0;32m      4\u001b[0m \u001b[43m}\u001b[49m\u001b[43m)\u001b[49m\n\u001b[0;32m      6\u001b[0m \u001b[38;5;28mprint\u001b[39m(\u001b[38;5;124mf\u001b[39m\u001b[38;5;124m\"\u001b[39m\u001b[38;5;124m✅ User logged in: \u001b[39m\u001b[38;5;132;01m{\u001b[39;00mresponse\u001b[38;5;241m.\u001b[39muser\u001b[38;5;241m.\u001b[39memail\u001b[38;5;132;01m}\u001b[39;00m\u001b[38;5;124m\"\u001b[39m)\n\u001b[0;32m      7\u001b[0m \u001b[38;5;28mprint\u001b[39m(\u001b[38;5;124mf\u001b[39m\u001b[38;5;124m\"\u001b[39m\u001b[38;5;124m🎫 Access Token: \u001b[39m\u001b[38;5;132;01m{\u001b[39;00mresponse\u001b[38;5;241m.\u001b[39msession\u001b[38;5;241m.\u001b[39maccess_token[:\u001b[38;5;241m20\u001b[39m]\u001b[38;5;132;01m}\u001b[39;00m\u001b[38;5;124m...\u001b[39m\u001b[38;5;124m\"\u001b[39m)\n",
      "File \u001b[1;32mc:\\Users\\hayk_\\.conda\\envs\\sl\\lib\\site-packages\\supabase_auth\\_sync\\gotrue_client.py:271\u001b[0m, in \u001b[0;36mSyncGoTrueClient.sign_in_with_password\u001b[1;34m(self, credentials)\u001b[0m\n\u001b[0;32m    269\u001b[0m captcha_token \u001b[38;5;241m=\u001b[39m options\u001b[38;5;241m.\u001b[39mget(\u001b[38;5;124m\"\u001b[39m\u001b[38;5;124mcaptcha_token\u001b[39m\u001b[38;5;124m\"\u001b[39m)\n\u001b[0;32m    270\u001b[0m \u001b[38;5;28;01mif\u001b[39;00m email:\n\u001b[1;32m--> 271\u001b[0m     response \u001b[38;5;241m=\u001b[39m \u001b[38;5;28;43mself\u001b[39;49m\u001b[38;5;241;43m.\u001b[39;49m\u001b[43m_request\u001b[49m\u001b[43m(\u001b[49m\n\u001b[0;32m    272\u001b[0m \u001b[43m        \u001b[49m\u001b[38;5;124;43m\"\u001b[39;49m\u001b[38;5;124;43mPOST\u001b[39;49m\u001b[38;5;124;43m\"\u001b[39;49m\u001b[43m,\u001b[49m\n\u001b[0;32m    273\u001b[0m \u001b[43m        \u001b[49m\u001b[38;5;124;43m\"\u001b[39;49m\u001b[38;5;124;43mtoken\u001b[39;49m\u001b[38;5;124;43m\"\u001b[39;49m\u001b[43m,\u001b[49m\n\u001b[0;32m    274\u001b[0m \u001b[43m        \u001b[49m\u001b[43mbody\u001b[49m\u001b[38;5;241;43m=\u001b[39;49m\u001b[43m{\u001b[49m\n\u001b[0;32m    275\u001b[0m \u001b[43m            \u001b[49m\u001b[38;5;124;43m\"\u001b[39;49m\u001b[38;5;124;43memail\u001b[39;49m\u001b[38;5;124;43m\"\u001b[39;49m\u001b[43m:\u001b[49m\u001b[43m \u001b[49m\u001b[43memail\u001b[49m\u001b[43m,\u001b[49m\n\u001b[0;32m    276\u001b[0m \u001b[43m            \u001b[49m\u001b[38;5;124;43m\"\u001b[39;49m\u001b[38;5;124;43mpassword\u001b[39;49m\u001b[38;5;124;43m\"\u001b[39;49m\u001b[43m:\u001b[49m\u001b[43m \u001b[49m\u001b[43mpassword\u001b[49m\u001b[43m,\u001b[49m\n\u001b[0;32m    277\u001b[0m \u001b[43m            \u001b[49m\u001b[38;5;124;43m\"\u001b[39;49m\u001b[38;5;124;43mdata\u001b[39;49m\u001b[38;5;124;43m\"\u001b[39;49m\u001b[43m:\u001b[49m\u001b[43m \u001b[49m\u001b[43mdata\u001b[49m\u001b[43m,\u001b[49m\n\u001b[0;32m    278\u001b[0m \u001b[43m            \u001b[49m\u001b[38;5;124;43m\"\u001b[39;49m\u001b[38;5;124;43mgotrue_meta_security\u001b[39;49m\u001b[38;5;124;43m\"\u001b[39;49m\u001b[43m:\u001b[49m\u001b[43m \u001b[49m\u001b[43m{\u001b[49m\n\u001b[0;32m    279\u001b[0m \u001b[43m                \u001b[49m\u001b[38;5;124;43m\"\u001b[39;49m\u001b[38;5;124;43mcaptcha_token\u001b[39;49m\u001b[38;5;124;43m\"\u001b[39;49m\u001b[43m:\u001b[49m\u001b[43m \u001b[49m\u001b[43mcaptcha_token\u001b[49m\u001b[43m,\u001b[49m\n\u001b[0;32m    280\u001b[0m \u001b[43m            \u001b[49m\u001b[43m}\u001b[49m\u001b[43m,\u001b[49m\n\u001b[0;32m    281\u001b[0m \u001b[43m        \u001b[49m\u001b[43m}\u001b[49m\u001b[43m,\u001b[49m\n\u001b[0;32m    282\u001b[0m \u001b[43m        \u001b[49m\u001b[43mquery\u001b[49m\u001b[38;5;241;43m=\u001b[39;49m\u001b[43m{\u001b[49m\n\u001b[0;32m    283\u001b[0m \u001b[43m            \u001b[49m\u001b[38;5;124;43m\"\u001b[39;49m\u001b[38;5;124;43mgrant_type\u001b[39;49m\u001b[38;5;124;43m\"\u001b[39;49m\u001b[43m:\u001b[49m\u001b[43m \u001b[49m\u001b[38;5;124;43m\"\u001b[39;49m\u001b[38;5;124;43mpassword\u001b[39;49m\u001b[38;5;124;43m\"\u001b[39;49m\u001b[43m,\u001b[49m\n\u001b[0;32m    284\u001b[0m \u001b[43m        \u001b[49m\u001b[43m}\u001b[49m\u001b[43m,\u001b[49m\n\u001b[0;32m    285\u001b[0m \u001b[43m        \u001b[49m\u001b[43mxform\u001b[49m\u001b[38;5;241;43m=\u001b[39;49m\u001b[43mparse_auth_response\u001b[49m\u001b[43m,\u001b[49m\n\u001b[0;32m    286\u001b[0m \u001b[43m    \u001b[49m\u001b[43m)\u001b[49m\n\u001b[0;32m    287\u001b[0m \u001b[38;5;28;01melif\u001b[39;00m phone:\n\u001b[0;32m    288\u001b[0m     response \u001b[38;5;241m=\u001b[39m \u001b[38;5;28mself\u001b[39m\u001b[38;5;241m.\u001b[39m_request(\n\u001b[0;32m    289\u001b[0m         \u001b[38;5;124m\"\u001b[39m\u001b[38;5;124mPOST\u001b[39m\u001b[38;5;124m\"\u001b[39m,\n\u001b[0;32m    290\u001b[0m         \u001b[38;5;124m\"\u001b[39m\u001b[38;5;124mtoken\u001b[39m\u001b[38;5;124m\"\u001b[39m,\n\u001b[1;32m   (...)\u001b[0m\n\u001b[0;32m    302\u001b[0m         xform\u001b[38;5;241m=\u001b[39mparse_auth_response,\n\u001b[0;32m    303\u001b[0m     )\n",
      "File \u001b[1;32mc:\\Users\\hayk_\\.conda\\envs\\sl\\lib\\site-packages\\supabase_auth\\_sync\\gotrue_base_api.py:125\u001b[0m, in \u001b[0;36mSyncGoTrueBaseAPI._request\u001b[1;34m(self, method, path, jwt, redirect_to, headers, query, body, no_resolve_json, xform)\u001b[0m\n\u001b[0;32m    123\u001b[0m         \u001b[38;5;28;01mreturn\u001b[39;00m xform(result)\n\u001b[0;32m    124\u001b[0m \u001b[38;5;28;01mexcept\u001b[39;00m \u001b[38;5;167;01mException\u001b[39;00m \u001b[38;5;28;01mas\u001b[39;00m e:\n\u001b[1;32m--> 125\u001b[0m     \u001b[38;5;28;01mraise\u001b[39;00m handle_exception(e)\n",
      "\u001b[1;31mAuthApiError\u001b[0m: Email not confirmed"
     ]
    }
   ],
   "source": [
    "response = supabase.auth.sign_in_with_password({\n",
    "    \"email\": \"panir@hamov.am\",\n",
    "    \"password\": \"hndkahaver\"\n",
    "})\n",
    "\n",
    "print(f\"✅ User logged in: {response.user.email}\")\n",
    "print(f\"🎫 Access Token: {response.session.access_token[:20]}...\")\n"
   ]
  },
  {
   "cell_type": "code",
   "execution_count": null,
   "metadata": {},
   "outputs": [],
   "source": [
    "# 🔐 1. User Registration and Authentication\n",
    "\n",
    "# User sign up with email and password\n",
    "def register_user(email, password):\n",
    "    try:\n",
    "        response = supabase.auth.sign_up({\n",
    "            \"email\": email,\n",
    "            \"password\": password\n",
    "        })\n",
    "        \n",
    "        if response.user:\n",
    "            print(f\"✅ User registered: {response.user.email}\")\n",
    "            print(f\"🔑 User ID: {response.user.id}\")\n",
    "            return response.user\n",
    "        else:\n",
    "            print(\"❌ Registration failed\")\n",
    "            return None\n",
    "            \n",
    "    except Exception as e:\n",
    "        print(f\"❌ Registration error: {e}\")\n",
    "        return None\n",
    "\n",
    "# User sign in\n",
    "def login_user(email, password):\n",
    "    try:\n",
    "        response = supabase.auth.sign_in_with_password({\n",
    "            \"email\": email,\n",
    "            \"password\": password\n",
    "        })\n",
    "        \n",
    "        if response.user:\n",
    "            print(f\"✅ User logged in: {response.user.email}\")\n",
    "            print(f\"🎫 Access Token: {response.session.access_token[:20]}...\")\n",
    "            return response.user\n",
    "        else:\n",
    "            print(\"❌ Login failed\")\n",
    "            return None\n",
    "            \n",
    "    except Exception as e:\n",
    "        print(f\"❌ Login error: {e}\")\n",
    "        return None\n",
    "\n",
    "# Example usage (commented out to avoid actual registration)\n",
    "# register_user(\"test@example.com\", \"secure_password123\")\n",
    "# login_user(\"test@example.com\", \"secure_password123\")\n",
    "\n",
    "print(\"🔐 Authentication functions defined!\")\n",
    "print(\"💡 Uncomment the lines above to test registration/login\")"
   ]
  },
  {
   "cell_type": "code",
   "execution_count": null,
   "metadata": {},
   "outputs": [],
   "source": [
    "# 🎫 2. Session Management\n",
    "\n",
    "# Get current user\n",
    "def get_current_user():\n",
    "    try:\n",
    "        user = supabase.auth.get_user()\n",
    "        if user.user:\n",
    "            print(f\"👤 Current user: {user.user.email}\")\n",
    "            print(f\"🆔 User ID: {user.user.id}\")\n",
    "            print(f\"📅 Created: {user.user.created_at}\")\n",
    "            return user.user\n",
    "        else:\n",
    "            print(\"❌ No authenticated user\")\n",
    "            return None\n",
    "    except Exception as e:\n",
    "        print(f\"❌ Error getting user: {e}\")\n",
    "        return None\n",
    "\n",
    "# Get current session\n",
    "def get_current_session():\n",
    "    try:\n",
    "        session = supabase.auth.get_session()\n",
    "        if session.session:\n",
    "            print(f\"🎫 Session active\")\n",
    "            print(f\"🔑 Access token: {session.session.access_token[:20]}...\")\n",
    "            print(f\"⏰ Expires at: {session.session.expires_at}\")\n",
    "            return session.session\n",
    "        else:\n",
    "            print(\"❌ No active session\")\n",
    "            return None\n",
    "    except Exception as e:\n",
    "        print(f\"❌ Error getting session: {e}\")\n",
    "        return None\n",
    "\n",
    "# Sign out\n",
    "def logout_user():\n",
    "    try:\n",
    "        supabase.auth.sign_out()\n",
    "        print(\"✅ User logged out successfully\")\n",
    "    except Exception as e:\n",
    "        print(f\"❌ Logout error: {e}\")\n",
    "\n",
    "# Check authentication status\n",
    "print(\"🔍 Checking authentication status...\")\n",
    "current_user = get_current_user()\n",
    "current_session = get_current_session()"
   ]
  },
  {
   "cell_type": "code",
   "execution_count": null,
   "metadata": {},
   "outputs": [],
   "source": [
    "# 🔒 3. Authenticated Requests\n",
    "\n",
    "# Function to make authenticated requests\n",
    "def authenticated_request_example():\n",
    "    \"\"\"\n",
    "    When a user is logged in, their session token is automatically \n",
    "    included in all Supabase requests\n",
    "    \"\"\"\n",
    "    \n",
    "    # Check if user is authenticated\n",
    "    current_user = supabase.auth.get_user()\n",
    "    \n",
    "    if not current_user.user:\n",
    "        print(\"❌ User not authenticated!\")\n",
    "        print(\"💡 Please log in first to make authenticated requests\")\n",
    "        return\n",
    "    \n",
    "    print(f\"👤 Making request as: {current_user.user.email}\")\n",
    "    \n",
    "    # Example: Insert cheese with user context\n",
    "    try:\n",
    "        # This will respect RLS policies\n",
    "        response = supabase.table(\"cheese\").insert({\n",
    "            \"name\": \"User's Special Cheese\",\n",
    "            \"price\": 1999,\n",
    "            \"supplier_id\": 1\n",
    "        }).execute()\n",
    "        \n",
    "        print(\"✅ Authenticated insert successful\")\n",
    "        print(f\"📊 Inserted: {response.data}\")\n",
    "        \n",
    "    except Exception as e:\n",
    "        print(f\"❌ Authenticated request failed: {e}\")\n",
    "        print(\"💡 This might be due to RLS policies\")\n",
    "\n",
    "# Example: Conditional queries based on auth\n",
    "def user_specific_data():\n",
    "    current_user = supabase.auth.get_user()\n",
    "    \n",
    "    if current_user.user:\n",
    "        # User is authenticated - can see more data\n",
    "        response = supabase.table(\"cheese\").select(\"*\").execute()\n",
    "        print(f\"🔓 Authenticated user sees {len(response.data)} cheeses\")\n",
    "    else:\n",
    "        # Anonymous user - limited access\n",
    "        response = supabase.table(\"cheese\").select(\"name, price\").limit(3).execute()\n",
    "        print(f\"👤 Anonymous user sees {len(response.data)} cheeses (limited)\")\n",
    "    \n",
    "    return response.data\n",
    "\n",
    "# Test authenticated requests\n",
    "print(\"🧪 Testing authenticated requests...\")\n",
    "authenticated_request_example()\n",
    "user_data = user_specific_data()"
   ]
  },
  {
   "cell_type": "markdown",
   "metadata": {
    "id": "TfbUegKqXVyH"
   },
   "source": [
    "\n",
    "<a href=\"http://s01.flagcounter.com/more/1oO\"><img src=\"https://s01.flagcounter.com/count2/1oO/bg_FFFFFF/txt_000000/border_CCCCCC/columns_2/maxflags_10/viewers_0/labels_0/pageviews_1/flags_0/percent_0/\" alt=\"Flag Counter\"></a>\n"
   ]
  },
  {
   "cell_type": "markdown",
   "metadata": {},
   "source": [
    "## 6️⃣ Real-time Features\n",
    "\n",
    "### ⚡ Live Data Updates\n",
    "Supabase provides real-time subscriptions to database changes:\n",
    "\n",
    "```python\n",
    "# Subscribe to cheese table changes\n",
    "def handle_changes(payload):\n",
    "    print(f\"Change detected: {payload}\")\n",
    "\n",
    "# Listen for all changes\n",
    "supabase.table(\"cheese\").on(\"*\", handle_changes).subscribe()\n",
    "\n",
    "# Listen for specific events  \n",
    "supabase.table(\"cheese\").on(\"INSERT\", handle_changes).subscribe()\n",
    "supabase.table(\"cheese\").on(\"UPDATE\", handle_changes).subscribe()\n",
    "supabase.table(\"cheese\").on(\"DELETE\", handle_changes).subscribe()\n",
    "```\n",
    "\n",
    "### 🔄 Use Cases for Real-time:\n",
    "- **Live dashboards** - Stock levels, sales metrics\n",
    "- **Collaborative apps** - Multiple users editing data\n",
    "- **Notifications** - Alert users when data changes\n",
    "- **Chat applications** - Real-time messaging\n",
    "- **Gaming** - Live scoreboards and updates\n",
    "\n",
    "### 📡 Real-time Architecture:\n",
    "- Uses **WebSocket** connections\n",
    "- **PostgreSQL triggers** detect changes  \n",
    "- **Pub/Sub system** broadcasts updates\n",
    "- **Automatic reconnection** handling"
   ]
  },
  {
   "cell_type": "markdown",
   "metadata": {},
   "source": [
    "## 🎯 Next Steps & Best Practices\n",
    "\n",
    "### 🚀 Production Considerations\n",
    "\n",
    "#### Security\n",
    "- Enable **Row Level Security (RLS)** policies\n",
    "- Use **environment variables** for API keys\n",
    "- Implement **proper authentication** flows\n",
    "- Set up **database backups**\n",
    "\n",
    "#### Performance  \n",
    "- Add **indexes** for frequently queried columns\n",
    "- Use **connection pooling** for high-traffic apps\n",
    "- Implement **caching** strategies (Redis, etc.)\n",
    "- Monitor **query performance** and optimize\n",
    "\n",
    "#### Scaling\n",
    "- Use **edge functions** for serverless logic\n",
    "- Implement **horizontal scaling** strategies  \n",
    "- Consider **read replicas** for read-heavy workloads\n",
    "- Plan **data archiving** for historical data\n",
    "\n",
    "### 📚 Additional Resources\n",
    "\n",
    "#### Advanced Features to Explore:\n",
    "- **Edge Functions** - Serverless functions at the edge\n",
    "- **Storage** - File uploads and management  \n",
    "- **PostgREST** - Auto-generated REST APIs\n",
    "- **GraphQL** - Alternative API interface\n",
    "- **Webhooks** - External system integrations\n",
    "\n",
    "#### Supabase Ecosystem:\n",
    "- **Dashboard** - Visual database management\n",
    "- **CLI tools** - Command-line development\n",
    "- **Migration system** - Database schema versioning\n",
    "- **Extensions** - PostgreSQL extensions support\n",
    "\n",
    "### 🏆 Congratulations!\n",
    "You've completed the Supabase tutorial! You now know how to:\n",
    "- ✅ Set up Supabase projects and connections\n",
    "- ✅ Create database schemas and tables\n",
    "- ✅ Perform CRUD operations\n",
    "- ✅ Write advanced queries with filtering and joins  \n",
    "- ✅ Implement authentication and authorization\n",
    "- ✅ Understand real-time capabilities\n",
    "\n",
    "**Keep building and exploring!** 🚀"
   ]
  },
  {
   "cell_type": "markdown",
   "metadata": {},
   "source": [
    "# 🎲 34 (16)\n",
    "- ▶️[Ոսկե ցլիկը](https://www.youtube.com/watch?v=yO8lGUufKpI)\n",
    "- 🔗[Random link](https://youtu.be/WbhzpvvZsWg?si=816-JHnnOSs_7Dsk)\n",
    "- 🇦🇲🎶[High (Օրը՝ տարի)](https://www.youtube.com/watch?v=rM1sym7ka9o)\n",
    "- 🌐🎶[Gilbert O'Sullivan - Alone Again](https://www.youtube.com/watch?v=D_P-v1BVQn8)\n",
    "- 🤌[Կարգին](https://www.youtube.com/watch?v=hvUyvsaVmQQ)"
   ]
  }
 ],
 "metadata": {
  "colab": {
   "authorship_tag": "ABX9TyOx7X+DxNeKu1zUVVCmsSHJ",
   "provenance": [
    {
     "file_id": "1_9UtYmPVVGmnWIKdBzPYkbtTlTbd0clo",
     "timestamp": 1735604987843
    },
    {
     "file_id": "15x56uwwONMo_ilzUJgt6UcX1d552xH6X",
     "timestamp": 1708441161475
    },
    {
     "file_id": "1LbG88IWtk30WlIoINzG4_vXHoJAvoDaP",
     "timestamp": 1683614319950
    }
   ]
  },
  "kernelspec": {
   "display_name": "lectures",
   "language": "python",
   "name": "python3"
  },
  "language_info": {
   "codemirror_mode": {
    "name": "ipython",
    "version": 3
   },
   "file_extension": ".py",
   "mimetype": "text/x-python",
   "name": "python",
   "nbconvert_exporter": "python",
   "pygments_lexer": "ipython3",
   "version": "3.10.18"
  }
 },
 "nbformat": 4,
 "nbformat_minor": 0
}

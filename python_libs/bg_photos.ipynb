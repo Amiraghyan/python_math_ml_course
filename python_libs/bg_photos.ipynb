{
 "cells": [
  {
   "cell_type": "markdown",
   "id": "fb968b37",
   "metadata": {
    "vscode": {
     "languageId": "plaintext"
    }
   },
   "source": [
    "![image.png](../background_photos/libs_xx_bird_in_a_circel.jpg)\n",
    "Աշտարակ, [լուսանկարի հղումը](https://unsplash.com/photos/4FEc5Hzf6E4), Հեղինակ՝ [Anna Grigoryan](https://unsplash.com/@yavin4)\n"
   ]
  },
  {
   "cell_type": "markdown",
   "id": "bf6378f3",
   "metadata": {},
   "source": [
    "![image.png](../background_photos/libs_xx_mankakan_erkatughi.jpg)\n",
    "Մանկական երկաթուղի, [լուսանկարի հղումը](https://unsplash.com/photos/C_gfvbKK03U), Հեղինակ՝ [Tigran Kharatyan](https://unsplash.com/@t1ko)\n"
   ]
  },
  {
   "cell_type": "markdown",
   "id": "65fd0dca",
   "metadata": {},
   "source": [
    "![image.png](../background_photos/libs_01_patrvac_amper.jpg)\n",
    "Մարգարյան փողոց, [լուսանկարի հղումը](https://unsplash.com/photos/F8vy6hUmfbk), Հեղինակ՝ [Sanasar Tovmasyan](https://unsplash.com/@santovmasyan)\n",
    "\n",
    "+"
   ]
  },
  {
   "cell_type": "markdown",
   "id": "782cb9c0",
   "metadata": {
    "vscode": {
     "languageId": "plaintext"
    }
   },
   "source": [
    "![image.png](../background_photos/libs_01_wineil_wall.jpg)\n",
    "Արենի գինու գործարան, [լուսանկարի հղումը](https://unsplash.com/photos/aPiQeGuRti4), Հեղինակ՝ [Sanasar Tovmasyan](https://unsplash.com/@santovmasyan)\n",
    "+"
   ]
  },
  {
   "cell_type": "markdown",
   "id": "72c40f9b",
   "metadata": {},
   "source": [
    "![image.png](../background_photos/libs_02_sunset.jpg)\n",
    "Երևան, [լուսանկարի հղումը](https://unsplash.com/photos/iDQogDbHvsc), Հեղինակ՝ [Armen Harutunian](https://unsplash.com/@arm98)\n",
    "+"
   ]
  },
  {
   "cell_type": "markdown",
   "id": "0f4cbf68",
   "metadata": {},
   "source": [
    "![image.png](../background_photos/libs_03_hovo.jpg)\n",
    "Կոմիտաս, [լուսանկարի հղումը](https://unsplash.com/photos/a-statue-of-a-man-riding-a-horse-7VVi6dflnHo), Հեղինակ՝ [Armen Harutunian](https://unsplash.com/@arm98)\n",
    "+"
   ]
  },
  {
   "cell_type": "markdown",
   "id": "1c813501",
   "metadata": {},
   "source": []
  },
  {
   "cell_type": "markdown",
   "id": "1e1daee0",
   "metadata": {},
   "source": [
    "![image.png](../background_photos/libs_06_karmirkar.jpg)\n",
    "Կարմիրքար (Մեծն Փառախադեմ) [լուսանկարի հղումը](https://unsplash.com/photos/-sq0aMTHHZY), Հեղինակ՝ [Zvart Baghdasaryan](https://unsplash.com/@zvart)\n",
    "+"
   ]
  }
 ],
 "metadata": {
  "language_info": {
   "name": "python"
  }
 },
 "nbformat": 4,
 "nbformat_minor": 5
}

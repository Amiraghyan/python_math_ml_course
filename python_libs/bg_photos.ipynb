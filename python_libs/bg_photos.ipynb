{
 "cells": [
  {
   "cell_type": "markdown",
   "id": "72c40f9b",
   "metadata": {},
   "source": [
    "![image.png](../background_photos/)\n",
    "[լուսանկարի հղումը](), Հեղինակ՝ []()\n"
   ]
  }
 ],
 "metadata": {
  "language_info": {
   "name": "python"
  }
 },
 "nbformat": 4,
 "nbformat_minor": 5
}

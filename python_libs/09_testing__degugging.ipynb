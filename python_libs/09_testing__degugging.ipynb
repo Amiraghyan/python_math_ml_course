{
 "cells": [
  {
   "cell_type": "raw",
   "metadata": {
    "vscode": {
     "languageId": "raw"
    }
   },
   "source": [
    "---\n",
    "title: \"09 Testing + Debugging\"\n",
    "lightbox: true\n",
    "format: \n",
    "  html:\n",
    "    code-fold: false\n",
    "number-offset: 1\n",
    "---"
   ]
  },
  {
   "cell_type": "markdown",
   "metadata": {
    "vscode": {
     "languageId": "raw"
    }
   },
   "source": [
    "![image.png](../background_photos/libs_09_dsegh.jpg)\n",
    "Դսեղ, [լուսանկարի հղումը](https://github.com/HaykTarkhanyan/python_math_ml_course/blob/main/background_photos/libs_09_dsegh.jpg), Հեղինակ՝ Ռոզի"
   ]
  },
  {
   "cell_type": "markdown",
   "metadata": {
    "vscode": {
     "languageId": "raw"
    }
   },
   "source": [
    "<a href=\"ToDo\" target=\"_parent\"><img src=\"https://colab.research.google.com/assets/colab-badge.svg\" alt=\"Open In Colab\"/></a> (ToDo)"
   ]
  },
  {
   "cell_type": "markdown",
   "metadata": {
    "vscode": {
     "languageId": "raw"
    }
   },
   "source": [
    "> If debugging is the process of removing bugs. Then programming must be the process of putting them in.\n",
    "\n",
    "Edsger Dijkstra"
   ]
  },
  {
   "cell_type": "markdown",
   "metadata": {
    "vscode": {
     "languageId": "raw"
    }
   },
   "source": [
    "# 📌 Նկարագիր\n",
    "\n",
    "[📚 Ամբողջական նյութը]()\n",
    "\n",
    "#### 📺 Տեսանյութեր\n",
    "#### 🏡 Տնային"
   ]
  },
  {
   "cell_type": "markdown",
   "metadata": {
    "vscode": {
     "languageId": "raw"
    }
   },
   "source": [
    "# 📚 Նյութը\n",
    "\n",
    "- Unittest գրադարանը 2023 թվականի [վիդեոում](https://youtu.be/H6UN4S1Fbds?list=PLfLD2TpGxVUwUa_o8Fxig8SlC1PrLYWUg&t=2923)\n",
    "\n",
    "**Pytest**\n",
    "- [Լավ վիդեո (33 րոպե)](https://www.youtube.com/watch?v=EgpLj86ZHFQ)\n",
    "- [Documentation](https://docs.pytest.org/)\n",
    "\n",
    "`uv pip install pytest`\n",
    "Configure VS Code\n",
    "\n",
    "1. Simple tests\n",
    "2. Unit tests idea\n",
    "3. Parameterized tests\n",
    "4. Fixtures (setup)\n",
    "5. Fixtures (teardown)\n",
    "6. Mocking\n",
    "7. Coverage\n",
    "\n",
    "**Debugging**\n",
    "https://www.youtube.com/watch?v=XmpIBsnc3xU\n"
   ]
  },
  {
   "cell_type": "markdown",
   "metadata": {},
   "source": [
    "# 🎲 00 (ToDo)\n",
    "- ▶️[Video]()\n",
    "- ▶️[Video 🔥]()\n",
    "- 🇦🇲🎶[]()\n",
    "- 🌐🎶[]()\n",
    "- 🤌[Կարգին]()"
   ]
  },
  {
   "cell_type": "markdown",
   "metadata": {
    "id": "TfbUegKqXVyH"
   },
   "source": [
    "\n",
    "<a href=\"http://s01.flagcounter.com/more/1oO\"><img src=\"https://s01.flagcounter.com/count2/1oO/bg_FFFFFF/txt_000000/border_CCCCCC/columns_2/maxflags_10/viewers_0/labels_0/pageviews_1/flags_0/percent_0/\" alt=\"Flag Counter\"></a>\n"
   ]
  }
 ],
 "metadata": {
  "colab": {
   "authorship_tag": "ABX9TyOx7X+DxNeKu1zUVVCmsSHJ",
   "provenance": [
    {
     "file_id": "1_9UtYmPVVGmnWIKdBzPYkbtTlTbd0clo",
     "timestamp": 1735604987843
    },
    {
     "file_id": "15x56uwwONMo_ilzUJgt6UcX1d552xH6X",
     "timestamp": 1708441161475
    },
    {
     "file_id": "1LbG88IWtk30WlIoINzG4_vXHoJAvoDaP",
     "timestamp": 1683614319950
    }
   ]
  },
  "kernelspec": {
   "display_name": "lectures",
   "language": "python",
   "name": "python3"
  },
  "language_info": {
   "codemirror_mode": {
    "name": "ipython",
    "version": 3
   },
   "file_extension": ".py",
   "mimetype": "text/x-python",
   "name": "python",
   "nbconvert_exporter": "python",
   "pygments_lexer": "ipython3",
   "version": "3.10.18"
  }
 },
 "nbformat": 4,
 "nbformat_minor": 0
}

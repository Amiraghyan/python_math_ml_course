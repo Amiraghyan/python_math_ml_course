{
 "cells": [
  {
   "cell_type": "raw",
   "metadata": {
    "vscode": {
     "languageId": "raw"
    }
   },
   "source": [
    "---\n",
    "title: \"15: FastAPI, async/await\"\n",
    "lightbox: true\n",
    "format: \n",
    "  html:\n",
    "    code-fold: false\n",
    "number-offset: 1\n",
    "---"
   ]
  },
  {
   "cell_type": "markdown",
   "metadata": {
    "vscode": {
     "languageId": "raw"
    }
   },
   "source": [
    "![image.png](../background_photos/libs_14_simpony_of_stones.jpg)\n",
    "Քարերի սիմֆոնիա, Գառնի գյուղ, [լուսանկարի հղումը](https://unsplash.com/photos/a-large-rock-formation-on-the-side-of-a-mountain-iAsvNATYttU), Հեղինակ՝ [Davit Simonyan](https://unsplash.com/@neodavit)"
   ]
  },
  {
   "cell_type": "markdown",
   "metadata": {
    "vscode": {
     "languageId": "raw"
    }
   },
   "source": [
    "<a href=\"ToDo\" target=\"_parent\"><img src=\"https://colab.research.google.com/assets/colab-badge.svg\" alt=\"Open In Colab\"/></a> (ToDo)"
   ]
  },
  {
   "cell_type": "markdown",
   "metadata": {
    "vscode": {
     "languageId": "raw"
    }
   },
   "source": [
    "> Song reference - ToDo"
   ]
  },
  {
   "cell_type": "markdown",
   "metadata": {
    "vscode": {
     "languageId": "raw"
    }
   },
   "source": [
    "# 📌 Նկարագիր\n",
    "\n",
    "[📚 Ամբողջական նյութը]()\n",
    "\n",
    "#### 📺 Տեսանյութեր\n",
    "#### 🏡 Տնային"
   ]
  },
  {
   "cell_type": "markdown",
   "metadata": {
    "vscode": {
     "languageId": "raw"
    }
   },
   "source": [
    "# 📚 Նյութը"
   ]
  },
  {
   "cell_type": "markdown",
   "metadata": {},
   "source": [
    "## Async/Await\n",
    "\n",
    "- **Սինխրոն ծրագրավորում** - ծրագիրը կատարում է մեկ գործողություն, սպասում է դրա ավարտին, հետո անցնում է հաջորդին:\n",
    "- **Ասինխրոն ծրագրավորում** - ծրագիրը կարող է սկսել գործողություն, չսպասել դրա ավարտին, և շարունակել այլ գործողություններ:\n",
    "\n",
    "**Օրինակ**\n",
    "\n",
    "Պատկերացրեք, որ գնում եք «Երևանյան Շաուրմա» (կամ «Արտաշի մոտ», կամ «ՕՍՏ», կամ «Տաշիր», կամ «12 Սեղան», կամ «Արտլանչ», կամ «Սբթայթլ», կամ «KFC», կամ «Համեղ պառառ»):"
   ]
  },
  {
   "cell_type": "markdown",
   "metadata": {},
   "source": [
    "### 🥙 Սինխրոն մոտեցում (Blocking)\n",
    "\n",
    "```\n",
    "Դուք → Վաճառող: \"Մեկ շաուրմա՝ հավով, առանց սոխ\"\n",
    "Վաճառող: \"Լավ, 5 րոպե սպասեք\"\n",
    "\n",
    "[Դուք կանգնած սպասում եք 5 րոպե, ոչինչ չեք կարող անել]\n",
    "\n",
    "Վաճառող: \"Ահա ձեր շաուրման\"\n",
    "Դուք: \"Շնորհակալություն\"\n",
    "[Միայն այժմ կարող եք շարունակել ուրիշ գործեր]\n",
    "```\n",
    "\n",
    "### 🔄 Ասինխրոն մոտեցում (Non-blocking)\n",
    "\n",
    "```\n",
    "Դուք → Վաճառող: \"Մեկ շաուրմա՝ հավով, առանց սոխ\"\n",
    "Վաճառող: \"Լավ, 5 րոպե կտևի, ես ձեզ կկանչեմ\"\n",
    "\n",
    "[Դուք շարունակում եք ուրիշ գործեր՝ հեռախոս խոսել, ինստագրամ նայել]\n",
    "[16 րոպե անց (Լիբանանյան շաուրմայի դեպքում)] \n",
    "\n",
    "Վաճառող: \"Ձեր շաուրման պատրաստ է!\"\n",
    "Դուք: [վերադառնում եք] \"Շնորհակալություն\"\n",
    "```\n",
    "\n",
    "**Առավելությունը** - Ասինխրոն մոտեցման դեպքում դուք ժամանակ չեք կորցնում սպասելիս:"
   ]
  },
  {
   "cell_type": "code",
   "execution_count": 7,
   "metadata": {},
   "outputs": [
    {
     "name": "stdout",
     "output_type": "stream",
     "text": [
      "🥙 ՍԻՆԽՐՈՆ ՄՈՏԵՑՈՒՄ\n",
      "==================================================\n",
      "18:49:48 - Էռնեստո Փարպեցի: Պատվիրում եմ քյաբաբ\n",
      "18:49:48 - Վաճառող: Լավ, 5 վարկյանից պատրաստ կլինի\n",
      "18:49:53 - Վաճառող: Էռնեստո Փարպեցի, ձեր քյաբաբ պատրաստ է!\n",
      "\n",
      "18:49:53 - Բերիմոռ: Պատվիրում եմ քյաբաբ\n",
      "18:49:53 - Վաճառող: Լավ, 4 վարկյանից պատրաստ կլինի\n",
      "18:49:53 - Վաճառող: Էռնեստո Փարպեցի, ձեր քյաբաբ պատրաստ է!\n",
      "\n",
      "18:49:53 - Բերիմոռ: Պատվիրում եմ քյաբաբ\n",
      "18:49:53 - Վաճառող: Լավ, 4 վարկյանից պատրաստ կլինի\n",
      "18:49:57 - Վաճառող: Բերիմոռ, ձեր քյաբաբ պատրաստ է!\n",
      "\n",
      "18:49:57 - Այծեմնիկ: Պատվիրում եմ քյաբաբ\n",
      "18:49:57 - Վաճառող: Լավ, 7 վարկյանից պատրաստ կլինի\n",
      "18:49:57 - Վաճառող: Բերիմոռ, ձեր քյաբաբ պատրաստ է!\n",
      "\n",
      "18:49:57 - Այծեմնիկ: Պատվիրում եմ քյաբաբ\n",
      "18:49:57 - Վաճառող: Լավ, 7 վարկյանից պատրաստ կլինի\n",
      "18:50:04 - Վաճառող: Այծեմնիկ, ձեր քյաբաբ պատրաստ է!\n",
      "\n",
      "\n",
      "⏱️  Ընդհանուր ժամանակ: 16.0 վայրկյան\n",
      "Բոլորը պատվիրել են մեկ առ մեկ\n",
      "18:50:04 - Վաճառող: Այծեմնիկ, ձեր քյաբաբ պատրաստ է!\n",
      "\n",
      "\n",
      "⏱️  Ընդհանուր ժամանակ: 16.0 վայրկյան\n",
      "Բոլորը պատվիրել են մեկ առ մեկ\n"
     ]
    }
   ],
   "source": [
    "import time\n",
    "import asyncio\n",
    "from datetime import datetime\n",
    "\n",
    "def current_time():\n",
    "    return datetime.now().strftime(\"%H:%M:%S\")\n",
    "\n",
    "# Սինխրոն (blocking) մոտեցում\n",
    "def order_kebab_sync(name, prep_time):\n",
    "    print(f\"{current_time()} - {name}: Պատվիրում եմ քյաբաբ\")\n",
    "    print(f\"{current_time()} - Վաճառող: Լավ, {prep_time} վարկյանից պատրաստ կլինի\")\n",
    "    \n",
    "    # Բլոկավորված սպասում\n",
    "    time.sleep(prep_time)\n",
    "    \n",
    "    print(f\"{current_time()} - Վաճառող: {name}, ձեր քյաբաբ պատրաստ է!\\n\")\n",
    "\n",
    "    \n",
    "def main_sync():\n",
    "    print(\"🥙 ՍԻՆԽՐՈՆ ՄՈՏԵՑՈՒՄ\")\n",
    "    print(\"=\" * 50)\n",
    "    \n",
    "    start_time = time.time()\n",
    "    \n",
    "    # Երեք անձ պատվիրում են\n",
    "    order_kebab_sync(\"Էռնեստո Փարպեցի\", 5)\n",
    "    order_kebab_sync(\"Բերիմոռ\", 4)\n",
    "    order_kebab_sync(\"Այծեմնիկ\", 7)\n",
    "\n",
    "    end_time = time.time()\n",
    "    total_time = end_time - start_time\n",
    "    \n",
    "    print(f\"\\n⏱️  Ընդհանուր ժամանակ: {total_time:.1f} վայրկյան\")\n",
    "    print(\"Բոլորը պատվիրել են մեկ առ մեկ\")\n",
    "\n",
    "main_sync()"
   ]
  },
  {
   "cell_type": "code",
   "execution_count": null,
   "metadata": {},
   "outputs": [
    {
     "name": "stdout",
     "output_type": "stream",
     "text": [
      "🚀 ԱՍԻՆԽՐՈՆ ՄՈՏԵՑՈՒՄ\n",
      "==================================================\n",
      "18:52:40 - Էռնեստո Փարպեցի: Պատվիրում եմ շաուրմա\n",
      "18:52:40 - Վաճառող: Լավ Էռնեստո Փարպեցի, 5 վայրկյան կտևի\n",
      "18:52:40 - Բերիմոռ: Պատվիրում եմ շաուրմա\n",
      "18:52:40 - Վաճառող: Լավ Բերիմոռ, 4 վայրկյան կտևի\n",
      "18:52:40 - Այծեմնիկ: Պատվիրում եմ շաուրմա\n",
      "18:52:40 - Վաճառող: Լավ Այծեմնիկ, 7 վայրկյան կտևի\n",
      "18:52:44 - Վաճառող: Բերիմոռ, ձեր շաուրման պատրաստ է!\n",
      "\n",
      "18:52:44 - Վաճառող: Բերիմոռ, ձեր շաուրման պատրաստ է!\n",
      "\n",
      "18:52:45 - Վաճառող: Էռնեստո Փարպեցի, ձեր շաուրման պատրաստ է!\n",
      "\n",
      "18:52:45 - Վաճառող: Էռնեստո Փարպեցի, ձեր շաուրման պատրաստ է!\n",
      "\n",
      "18:52:47 - Վաճառող: Այծեմնիկ, ձեր շաուրման պատրաստ է!\n",
      "\n",
      "\n",
      "⏱️  Ընդհանուր ժամանակ: 7.0 վայրկյան\n",
      "Բոլոր պատվերները մշակվել են միաժամանակ!\n",
      "18:52:47 - Վաճառող: Այծեմնիկ, ձեր շաուրման պատրաստ է!\n",
      "\n",
      "\n",
      "⏱️  Ընդհանուր ժամանակ: 7.0 վայրկյան\n",
      "Բոլոր պատվերները մշակվել են միաժամանակ!\n"
     ]
    },
    {
     "data": {
      "text/plain": [
       "[None, None, None]"
      ]
     },
     "execution_count": 11,
     "metadata": {},
     "output_type": "execute_result"
    }
   ],
   "source": [
    "# Ասինխրոն (non-blocking) մոտեցում\n",
    "async def order_shawarma_async(name, prep_time):\n",
    "    print(f\"{current_time()} - {name}: Պատվիրում եմ քյաբաբ\")\n",
    "    print(f\"{current_time()} - Վաճառող: Լավ {name}, {prep_time} վայրկյան կտևի\")\n",
    "    \n",
    "    # Ասինխրոն սպասում (այլ գործողություններ կարող են շարունակվել)\n",
    "    await asyncio.sleep(prep_time)\n",
    "    \n",
    "    print(f\"{current_time()} - Վաճառող: {name}, ձեր քյաբաբը պատրաստ է!\\n\")\n",
    "\n",
    "async def main_async():\n",
    "    print(\"🚀 ԱՍԻՆԽՐՈՆ ՄՈՏԵՑՈՒՄ\")\n",
    "    print(\"=\" * 50)\n",
    "    \n",
    "    start_time = time.time()\n",
    "    \n",
    "    # Բոլոր պատվերները սկսվում են համաժամանակյա\n",
    "    tasks = [\n",
    "        order_shawarma_async(\"Էռնեստո Փարպեցի\", 5),\n",
    "        order_shawarma_async(\"Բերիմոռ\", 4), \n",
    "        order_shawarma_async(\"Այծեմնիկ\", 7)\n",
    "    ]\n",
    "    \n",
    "    # Սպասում ենք բոլոր պատվերների ավարտին\n",
    "    results = await asyncio.gather(*tasks)\n",
    "    \n",
    "    end_time = time.time()\n",
    "    total_time = end_time - start_time\n",
    "    \n",
    "    print(f\"\\n⏱️  Ընդհանուր ժամանակ: {total_time:.1f} վայրկյան\")\n",
    "    print(\"Բոլոր պատվերները մշակվել են միաժամանակ!\")\n",
    "    \n",
    "    return results\n",
    "\n",
    "# Թեստ արտահայտենք\n",
    "await main_async()"
   ]
  },
  {
   "cell_type": "code",
   "execution_count": 10,
   "metadata": {},
   "outputs": [
    {
     "name": "stdout",
     "output_type": "stream",
     "text": [
      "18:52:16 - Էռնեստո Փարպեցի: Պատվիրում եմ շաուրմա\n",
      "18:52:16 - Վաճառող: Լավ Էռնեստո Փարպեցի, 5 վայրկյան կտևի\n",
      "18:52:21 - Վաճառող: Էռնեստո Փարպեցի, ձեր շաուրման պատրաստ է!\n",
      "\n",
      "18:52:21 - Վաճառող: Էռնեստո Փարպեցի, ձեր շաուրման պատրաստ է!\n",
      "\n"
     ]
    }
   ],
   "source": [
    "await order_shawarma_async(\"Էռնեստո Փարպեցի\", 5)"
   ]
  },
  {
   "cell_type": "markdown",
   "metadata": {},
   "source": [
    "### 🔑 Հիմնական գաղափարներ\n",
    "\n",
    "`async` բառը\n",
    "\n",
    "- **Նպատակ**: Ֆունկցիան հայտարարել որպես ասինխրոն\n",
    "- **Սինտակս**: `async def function_name():`\n",
    "- **Արդյունք**: Ֆունկցիան վերադարձնում է `coroutine` օբյեկտ\n",
    "\n",
    "```python\n",
    "async def cook_shawarma():\n",
    "    # Այս ֆունկցիան ասինխրոն է\n",
    "    pass\n",
    "```\n",
    "\n",
    "`await` բառը\n",
    "\n",
    "- **Նպատակ**: Սպասել ասինխրոն գործողության ավարտին\n",
    "- **Սինտակս**: `await some_async_function()`\n",
    "- **Կիրառում**: Միայն `async` ֆունկցիաների ներսում\n",
    "\n",
    "```python\n",
    "async def order_process():\n",
    "    result = await cook_shawarma()  # Սպասում ենք\n",
    "    return result\n",
    "```"
   ]
  },
  {
   "cell_type": "markdown",
   "metadata": {},
   "source": [
    "## 🌐 HTTP և Request Types\n",
    "\n",
    "**HTTP (HyperText Transfer Protocol)** - ժամանակակից ինտերնետի հիմքն է: Համարյա ցանկացած կայք, բջջային հավելված կամ API այս պրոտոկոլով է աշխատում:\n",
    "\n",
    "**🥙 HTTP-ն «Երևանյան Շաուրմա»-ի օրինակով**\n",
    "\n",
    "Պատկերացրեք HTTP-ն որպես **ռեստորանի պատվերների համակարգ**:\n",
    "\n",
    "```\n",
    "Հաճախորդ (Client) ←→ Սերվեր (Server)\n",
    "     ↓                    ↑\n",
    "\"Request\"              \"Response\"\n",
    "(Հարցում)              (Պատասխան)\n",
    "```\n",
    "\n",
    "**📋 HTTP Request-ի կառուցվածքը**\n",
    "\n",
    "```http\n",
    "POST /order HTTP/1.1                 ← Method + Path + Version\n",
    "Host: yerevanyan-shawarma.am         ← Headers\n",
    "Content-Type: application/json\n",
    "Authorization: Bearer token123\n",
    "\n",
    "{                                    ← Body (տվյալներ)\n",
    "  \"customer\": \"Սպիրիդոն\",\n",
    "  \"item\": \"իքիբիր\",\n",
    "  \"quantity\": 2\n",
    "}\n",
    "```"
   ]
  },
  {
   "cell_type": "markdown",
   "metadata": {},
   "source": [
    "### 🔄 HTTP Methods - Երևանյան Շաուրմա օրինակներով\n",
    "\n",
    "[Լավ նյութ](https://blog.postman.com/what-are-http-methods)\n",
    "\n",
    "#### 📚 Հիմնական հասկացություններ\n",
    "\n",
    "**Safe (Անվտանգ)** - HTTP մեթոդը համարվում է անվտանգ, եթե այն չի փոխում սերվերի վիճակը։ \n",
    "Նման մեթոդները կարող են կանչվել առանց վախենալու, որ կփոխեն տվյալները:\n",
    "\n",
    "**Idempotent** - HTTP մեթոդը համարվում է idempotent, եթե նույն հարցումը մի քանի անգամ \n",
    "ուղարկելուց արդյունքը չի փոխվում։ Այսինքն՝ 1 անգամ կամ 10 անգամ կանչելը նույն արդյունքն է տալիս:\n",
    "\n",
    "#### 🌐 HTTP Methods-ի ցուցադրություն\n",
    "\n",
    "**GET - Տեղեկություն ստանալ**\n",
    "\n",
    "- **Նկարագրություն**: Տեղեկություն ստանալ (չփոխել ոչինչ)\n",
    "- **Օրինակ**: Մենյուն նայել\n",
    "- **🥙 Շաուրմա օրինակ**: «Հավի իքիբիր ունե՞ք», «Ի՞նչքան ա»\n",
    "- **⚡ Անվտանգ**: Այո\n",
    "- **🔄 Idempotent**: Այո\n",
    "\n",
    "**POST - Նոր բան ստեղծել**\n",
    "\n",
    "- **Նկարագրություն**: Նոր բան ստեղծել\n",
    "- **Օրինակ**: Նոր պատվեր տալ\n",
    "- **🥙 Շաուրմա օրինակ**: «Ինձ մի հատ հավի շաուրմա խնդրում եմ»\n",
    "- **⚡ Անվտանգ**: Ոչ\n",
    "- **🔄 Idempotent**: Ոչ\n",
    "\n",
    "**PUT - Ամբողջությամբ փոխարինել/թարմացնել**\n",
    "\n",
    "- **Նկարագրություն**: Ամբողջությամբ փոխարինել/թարմացնել\n",
    "- **Օրինակ**: Պատվերը ամբողջությամբ փոխել\n",
    "- **🥙 Շաուրմա օրինակ**: «Չեղարկեք հավը, ուզում եմ տավարով»\n",
    "- **⚡ Անվտանգ**: Ոչ\n",
    "- **🔄 Idempotent**: Այո\n",
    "\n",
    "**PATCH - Մասնակիորեն թարմացնել**\n",
    "\n",
    "- **Նկարագրություն**: Մասնակիորեն թարմացնել\n",
    "- **Օրինակ**: Միայն մեկ բաղադրիչ փոխել\n",
    "- **🥙 Շաուրմա օրինակ**: «Խնդրում եմ առանց սոխի»\n",
    "- **⚡ Անվտանգ**: Ոչ\n",
    "- **🔄 Idempotent**: Ոչ\n",
    "\n",
    "**DELETE - Ջնջել**\n",
    "\n",
    "- **Նկարագրություն**: Ջնջել\n",
    "- **Օրինակ**: Պատվերը չեղարկել\n",
    "- **🥙 Շաուրմա օրինակ**: «Չեղարկում եմ իմ պատվերը»\n",
    "- **⚡ Անվտանգ**: Ոչ\n",
    "- **🔄 Idempotent**: Այո\n",
    "\n",
    "💡 Հիշեցում\n",
    "- **Safe**: Սերվերի վիճակը չի փոխվում\n",
    "- **Idempotent**: Նույն գործողությունը կրկնելիս նույն արդյունքը\n",
    "\n",
    "\n",
    "| HTTP Method | Safe | Idempotent |\n",
    "|-------------|------|------------|\n",
    "| GET         | ✅   | ✅         |\n",
    "| POST        | ❌   | ❌         |\n",
    "| PUT         | ❌   | ✅         |\n",
    "| PATCH      | ❌   | ❌         |\n",
    "| DELETE      | ❌   | ✅         |"
   ]
  },
  {
   "cell_type": "markdown",
   "metadata": {},
   "source": [
    "### 🚦 HTTP Status Codes and Errors\n",
    "\n",
    "[Լավ նյութ](https://en.wikipedia.org/wiki/List_of_HTTP_status_codes)\n",
    "\n",
    "\n",
    "**HTTP Response-ի կառուցվածքը**\n",
    "\n",
    "```http\n",
    "HTTP/1.1 200 OK                     ← Status Line\n",
    "Content-Type: application/json      ← Headers\n",
    "Set-Cookie: session=abc123\n",
    "\n",
    "{                                   ← Body\n",
    "  \"message\": \"Պատվերը ստացվեց\",\n",
    "  \"order_id\": 12345\n",
    "}\n",
    "```\n",
    "\n",
    "**HTTP Status Code-երը բաժանվում են 5 խմբի:**\n",
    "\n",
    "1️⃣ 1xx - Informational (Տեղեկություն)\n",
    "- **100 Continue** - \"Ստացա հարցումը, շարունակեք խոսել, լսում եմ\"\n",
    "\n",
    "2️⃣ 2xx - Success (Հաջողություն) ✅\n",
    "- **200 OK** - \"Ամեն ինչ լավ է\"\n",
    "- **201 Created** - \"Պատվերը ստեղծվեց\"\n",
    "- **204 No Content** - \"Կատարվեց, բայց ուղարկելու բան չկա\"\n",
    "\n",
    "3️⃣ 3xx - Redirection (Վերահղում) 🔄\n",
    "- **301 Moved Permanently** - \"Ռեստորանը տեղափոխվել է մեկ այլ հասցե\"\n",
    "- **302 Found** - \"Ժամանակավորապես աշխատում ենք այլ հասցեում\"\n",
    "\n",
    "4️⃣ 4xx - Client Error (Client-ի սխալ) ❌\n",
    "- **400 Bad Request** - \"Չհասկացա ձեր պատվերը\"\n",
    "- **401 Unauthorized** - \"Նույնականացում չեք անցել\"\n",
    "- **403 Forbidden** - \"Հասանելի չէ ձեզ համար\"\n",
    "- **404 Not Found** - \"Այդպիսի ուտելիք չունենք\"\n",
    "- **418 I'm a teapot** - \"Ես թեյնիկ եմ (տես ներքևում)\"\n",
    "- **422 Unprocessable Entity** - \"Հասկանալի է, բայց կատարել չեմ կարող\"\n",
    "\n",
    "5️⃣ 5xx - Server Error (Սերվերի սխալ) 💥\n",
    "- **500 Internal Server Error** - \"Խոհանոցում խնդիր կա\"\n",
    "- **502 Bad Gateway** - \"Մատակարարը չի պատասխանում\"\n",
    "- **503 Service Unavailable** - \"Ժամանակավորապես փակ ենք\"\n",
    "\n",
    "\n",
    "from [Wiki](https://en.wikipedia.org/wiki/List_of_HTTP_status_codes)\n",
    "*418 I'm a teapot (RFC 2324, RFC 7168)*\n",
    "This code was defined in 1998 as one of the traditional IETF April Fools' jokes, in RFC 2324, Hyper Text Coffee Pot Control Protocol, and is not expected to be implemented by actual HTTP servers. The RFC specifies this code should be returned by teapots requested to brew coffee.[19] This HTTP status is used as an Easter egg in some websites, such as Google.com's \"I'm a teapot\" easter egg.[20][21][22] Sometimes, this status code is also used as a response to a blocked request, instead of the more appropriate 403 Forbidden.[23][24]"
   ]
  },
  {
   "cell_type": "code",
   "execution_count": 12,
   "metadata": {},
   "outputs": [
    {
     "name": "stdout",
     "output_type": "stream",
     "text": [
      "📋 ՍԽԱԼՆԵՐԻ ՑՈՒՑԱԴՐՈՒԹՅՈՒՆ:\n",
      "🚦 HTTP STATUS CODES - ԵՐԵՎԱՆՅԱՆ ՇԱՈՒՐՄԱ\n",
      "=======================================================\n",
      "\n",
      "1. Հաճախորդը հարցնում է ցանկը\n",
      "   ✅ 200 - OK - Ցանկը բարեհաջող ուղարկվեց\n",
      "\n",
      "2. Նոր պատվեր է ստեղծվել\n",
      "   ✅ 201 - Created - Պատվերը հաջողությամբ ստեղծվեց\n",
      "\n",
      "3. Հարցնում են չգոյություն ունեցող ուտելիք\n",
      "   ❌ 404 - Not Found - Այդպիսի ուտելիք չունենք\n",
      "\n",
      "4. Պատվիրում են փակ ժամերին\n",
      "   ❌ 403 - Forbidden - Ռեստորանը փակ է\n",
      "\n",
      "5. Սխալ տվյալներ են ուղարկել\n",
      "   ❌ 400 - Bad Request - Չհասկացա ձեր պատվերը\n",
      "\n",
      "6. Խոհանոցում հրդեհ է\n",
      "   ❌ 500 - Internal Server Error - Ներքին խնդիր\n",
      "\n",
      "============================================================\n",
      "🧪 ՊԱՏՎԵՐՆԵՐԻ ԹԵՍՏ:\n",
      "✅ հավով: հավով շաուրմա պատրաստ կլինի 3 րոպեում\n",
      "❌ բանջարեղենով: 422 - Բանջարեղենը վերջացել է\n",
      "❌ ձկնով: 422 - Ձուկ չունենք\n",
      "❌ կատվով: 404 - 'կատվով' շաուրմա չունենք\n"
     ]
    }
   ],
   "source": [
    "# 🛡️ Error Handling - Գործնական օրինակներ\n",
    "\n",
    "from fastapi import HTTPException\n",
    "import random\n",
    "\n",
    "# Պարզ սխալների ցուցադրություն\n",
    "def demonstrate_status_codes():\n",
    "    \"\"\"HTTP status codes-ի ցուցադրություն\"\"\"\n",
    "    \n",
    "    print(\"🚦 HTTP STATUS CODES - ԵՐԵՎԱՆՅԱՆ ՇԱՈՒՐՄԱ\")\n",
    "    print(\"=\" * 55)\n",
    "    \n",
    "    scenarios = [\n",
    "        {\n",
    "            \"situation\": \"Հաճախորդը հարցնում է ցանկը\",\n",
    "            \"code\": 200,\n",
    "            \"message\": \"OK - Ցանկը բարեհաջող ուղարկվեց\"\n",
    "        },\n",
    "        {\n",
    "            \"situation\": \"Նոր պատվեր է ստեղծվել\",\n",
    "            \"code\": 201,\n",
    "            \"message\": \"Created - Պատվերը հաջողությամբ ստեղծվեց\"\n",
    "        },\n",
    "        {\n",
    "            \"situation\": \"Հարցնում են չգոյություն ունեցող ուտելիք\",\n",
    "            \"code\": 404,\n",
    "            \"message\": \"Not Found - Այդպիսի ուտելիք չունենք\"\n",
    "        },\n",
    "        {\n",
    "            \"situation\": \"Պատվիրում են փակ ժամերին\",\n",
    "            \"code\": 403,\n",
    "            \"message\": \"Forbidden - Ռեստորանը փակ է\"\n",
    "        },\n",
    "        {\n",
    "            \"situation\": \"Սխալ տվյալներ են ուղարկել\",\n",
    "            \"code\": 400,\n",
    "            \"message\": \"Bad Request - Չհասկացա ձեր պատվերը\"\n",
    "        },\n",
    "        {\n",
    "            \"situation\": \"Խոհանոցում հրդեհ է\",\n",
    "            \"code\": 500,\n",
    "            \"message\": \"Internal Server Error - Ներքին խնդիր\"\n",
    "        }\n",
    "    ]\n",
    "    \n",
    "    for i, scenario in enumerate(scenarios, 1):\n",
    "        # Determine status emoji based on code range\n",
    "        if 200 <= scenario[\"code\"] < 300:\n",
    "            status_emoji = \"✅\"\n",
    "        elif 400 <= scenario[\"code\"] < 600:\n",
    "            status_emoji = \"❌\"\n",
    "        else:\n",
    "            status_emoji = \"🔄\"\n",
    "        print(f\"\\n{i}. {scenario['situation']}\")\n",
    "        print(f\"   {status_emoji} {scenario['code']} - {scenario['message']}\")\n",
    "\n",
    "# Սխալների simulation\n",
    "class ShawarmaError(Exception):\n",
    "    \"\"\"Շաուրմա-ի սխալների class\"\"\"\n",
    "    pass\n",
    "\n",
    "def simulate_order_errors(order_item: str):\n",
    "    \"\"\"Պատվերի սխալների simulation\"\"\"\n",
    "    \n",
    "    # Տարբեր սխալների ցուցադրություն\n",
    "    error_scenarios = {\n",
    "        \"տավարով\": {\"available\": True, \"prep_time\": 5},\n",
    "        \"հավով\": {\"available\": True, \"prep_time\": 3},\n",
    "        \"բանջարեղենով\": {\"available\": False, \"error\": \"Բանջարեղենը վերջացել է\"},\n",
    "        \"ձկնով\": {\"available\": False, \"error\": \"Ձուկ չունենք\"},\n",
    "        \"հատուկ\": {\"available\": True, \"prep_time\": 8, \"special_error\": \"Հատուկ բաղադրիչը չկա\"}\n",
    "    }\n",
    "    \n",
    "    if order_item not in error_scenarios:\n",
    "        raise HTTPException(status_code=404, detail=f\"'{order_item}' շաուրմա չունենք\")\n",
    "    \n",
    "    scenario = error_scenarios[order_item]\n",
    "    \n",
    "    if not scenario[\"available\"]:\n",
    "        raise HTTPException(status_code=422, detail=scenario[\"error\"])\n",
    "    \n",
    "    if \"special_error\" in scenario and random.choice([True, False]):\n",
    "        raise HTTPException(status_code=500, detail=scenario[\"special_error\"])\n",
    "    \n",
    "    return {\"message\": f\"{order_item} շաուրմա պատրաստ կլինի {scenario['prep_time']} րոպեում\", \n",
    "            \"prep_time\": scenario[\"prep_time\"]}\n",
    "\n",
    "# Թեստ\n",
    "print(\"📋 ՍԽԱԼՆԵՐԻ ՑՈՒՑԱԴՐՈՒԹՅՈՒՆ:\")\n",
    "demonstrate_status_codes()\n",
    "\n",
    "print(\"\\n\" + \"=\"*60)\n",
    "print(\"🧪 ՊԱՏՎԵՐՆԵՐԻ ԹԵՍՏ:\")\n",
    "\n",
    "test_orders = [\"հավով\", \"բանջարեղենով\", \"ձկնով\", \"կատվով\"]\n",
    "\n",
    "for order in test_orders:\n",
    "    try:\n",
    "        result = simulate_order_errors(order)\n",
    "        print(f\"✅ {order}: {result['message']}\")\n",
    "    except HTTPException as e:\n",
    "        print(f\"❌ {order}: {e.status_code} - {e.detail}\")\n",
    "    except Exception as e:\n",
    "        print(f\"💥 {order}: Անսպասելի սխալ - {e}\")"
   ]
  },
  {
   "cell_type": "markdown",
   "metadata": {},
   "source": [
    "TODO CURL\n",
    "\n",
    "https://curl.se/"
   ]
  },
  {
   "cell_type": "markdown",
   "metadata": {},
   "source": [
    "TODO Render Deployment\n",
    "https://render.com/"
   ]
  },
  {
   "cell_type": "code",
   "execution_count": null,
   "metadata": {},
   "outputs": [],
   "source": [
    "import requests \n",
    "\n",
    "response = requests.get(\"https://www.ysu.am/faculty/516\")\n",
    "\n",
    "print(response.content)"
   ]
  },
  {
   "cell_type": "markdown",
   "metadata": {},
   "source": [
    "# 🚀 FastAPI vs 🌶️ Flask\n",
    "\n",
    "## Ֆայլերի կառուցվածքը\n",
    "\n",
    "Բոլոր կոդային օրինակները տեղափոխվել են `apis/` պանակ:\n",
    "\n",
    "```\n",
    "apis/\n",
    "├── fastapi_shawarma.py    # FastAPI ամբողջական օրինակ\n",
    "├── flask_shawarma.py      # Flask ամբողջական օրինակ  \n",
    "├── requirements.txt       # Անհրաժեշտ գրադարանները\n",
    "└── README.md             # Հրահանգներ և օգտագործման օրինակներ\n",
    "```\n",
    "\n",
    "## 🔄 Գործարկում\n",
    "\n",
    "### FastAPI\n",
    "```bash\n",
    "cd apis\n",
    "pip install -r requirements.txt\n",
    "python fastapi_shawarma.py\n",
    "# Բացեք http://localhost:8000/docs\n",
    "```\n",
    "\n",
    "### Flask  \n",
    "```bash\n",
    "cd apis\n",
    "pip install -r requirements.txt\n",
    "python flask_shawarma.py\n",
    "# Բացեք http://localhost:5000\n",
    "```"
   ]
  },
  {
   "cell_type": "markdown",
   "metadata": {},
   "source": [
    "## ⚖️ FastAPI vs Flask - Համեմատություն\n"
   ]
  },
  {
   "cell_type": "markdown",
   "metadata": {},
   "source": [
    "# 🎲 32 (15)\n",
    "- ▶️[Corridor Crew (Universe scale)](https://www.youtube.com/watch?v=GCTuirkcRwo)\n",
    "- 🔗[Random link](https://www.youtube.com/watch?v=da9PDzt53WA)\n",
    "- 🇦🇲🎶[Կավիճ (Հույսի գույնի երգ)](https://www.youtube.com/watch?v=lRXOe--i4iA)\n",
    "- 🌐🎶[Sammy Copley (To The Bone)](https://www.youtube.com/watch?v=exbu88zb6TU)\n",
    "- 🤌[Կարգին](https://www.youtube.com/watch?v=UqmqClOZRwg)"
   ]
  },
  {
   "cell_type": "markdown",
   "metadata": {
    "id": "TfbUegKqXVyH"
   },
   "source": [
    "\n",
    "<a href=\"http://s01.flagcounter.com/more/1oO\"><img src=\"https://s01.flagcounter.com/count2/1oO/bg_FFFFFF/txt_000000/border_CCCCCC/columns_2/maxflags_10/viewers_0/labels_0/pageviews_1/flags_0/percent_0/\" alt=\"Flag Counter\"></a>\n"
   ]
  }
 ],
 "metadata": {
  "colab": {
   "authorship_tag": "ABX9TyOx7X+DxNeKu1zUVVCmsSHJ",
   "provenance": [
    {
     "file_id": "1_9UtYmPVVGmnWIKdBzPYkbtTlTbd0clo",
     "timestamp": 1735604987843
    },
    {
     "file_id": "15x56uwwONMo_ilzUJgt6UcX1d552xH6X",
     "timestamp": 1708441161475
    },
    {
     "file_id": "1LbG88IWtk30WlIoINzG4_vXHoJAvoDaP",
     "timestamp": 1683614319950
    }
   ]
  },
  "kernelspec": {
   "display_name": "sl",
   "language": "python",
   "name": "python3"
  },
  "language_info": {
   "codemirror_mode": {
    "name": "ipython",
    "version": 3
   },
   "file_extension": ".py",
   "mimetype": "text/x-python",
   "name": "python",
   "nbconvert_exporter": "python",
   "pygments_lexer": "ipython3",
   "version": "3.10.16"
  }
 },
 "nbformat": 4,
 "nbformat_minor": 0
}

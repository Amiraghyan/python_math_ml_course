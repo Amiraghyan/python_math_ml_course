{
 "cells": [
  {
   "cell_type": "raw",
   "metadata": {
    "vscode": {
     "languageId": "raw"
    }
   },
   "source": [
    "---\n",
    "title: \"13 FastAPI, Pydantic\"\n",
    "lightbox: true\n",
    "format: \n",
    "  html:\n",
    "    code-fold: false\n",
    "number-offset: 1\n",
    "---"
   ]
  },
  {
   "cell_type": "markdown",
   "metadata": {
    "vscode": {
     "languageId": "raw"
    }
   },
   "source": [
    "![image.png](../background_photos/)\n",
    "[լուսանկարի հղումը](https://unsplash.com/photos/a-large-mountain-with-a-very-tall-cliff-UiP9KfVe3aQ), Հեղինակ՝ []()"
   ]
  },
  {
   "cell_type": "markdown",
   "metadata": {
    "vscode": {
     "languageId": "raw"
    }
   },
   "source": [
    "<a href=\"ToDo\" target=\"_parent\"><img src=\"https://colab.research.google.com/assets/colab-badge.svg\" alt=\"Open In Colab\"/></a> (ToDo)"
   ]
  },
  {
   "cell_type": "markdown",
   "metadata": {
    "vscode": {
     "languageId": "raw"
    }
   },
   "source": [
    "> Song reference - ToDo"
   ]
  },
  {
   "cell_type": "markdown",
   "metadata": {
    "vscode": {
     "languageId": "raw"
    }
   },
   "source": [
    "# 📌 Նկարագիր\n",
    "\n",
    "[📚 Ամբողջական նյութը]()\n",
    "\n",
    "#### 📺 Տեսանյութեր\n",
    "#### 🏡 Տնային"
   ]
  },
  {
   "cell_type": "markdown",
   "metadata": {
    "vscode": {
     "languageId": "raw"
    }
   },
   "source": [
    "# 📚 Pydantic Tutorial\n",
    "\n",
    "## What is Pydantic?\n",
    "\n",
    "**Pydantic** is a Python library that provides data validation and settings management using Python type annotations. It's designed to make data validation simple, fast, and reliable.\n",
    "\n",
    "### Key Features:\n",
    "- **Type Safety**: Uses Python type hints for validation\n",
    "- **Fast**: Written in Rust (v2) for performance\n",
    "- **Easy to Use**: Intuitive API design\n",
    "- **Comprehensive**: Supports complex data structures\n",
    "- **Integration**: Works seamlessly with FastAPI\n",
    "\n",
    "### Why Use Pydantic?\n",
    "1. **Data Validation**: Automatically validates input data\n",
    "2. **Type Conversion**: Converts compatible types automatically\n",
    "3. **Error Handling**: Provides detailed error messages\n",
    "4. **Documentation**: Auto-generates JSON schemas\n",
    "5. **IDE Support**: Full type checking and autocomplete\n",
    "\n",
    "## Installation\n",
    "\n",
    "```bash\n",
    "pip install pydantic\n",
    "```\n",
    "\n",
    "For email validation and other extras:\n",
    "```bash\n",
    "pip install pydantic[email]\n",
    "```"
   ]
  },
  {
   "cell_type": "markdown",
   "metadata": {},
   "source": [
    "Reminder - [dataclasses](../python/17_dataclass_iterator_generator_context_manager.ipynb)"
   ]
  },
  {
   "cell_type": "markdown",
   "metadata": {},
   "source": [
    "\n",
    "- [docs](https://docs.pydantic.dev/latest/)\n",
    "- [16 minute video by ArjanCodes](https://www.youtube.com/watch?v=Vj-iU-8_xLs)\n",
    "- [10 minute video comparing different data classes by mCoding](https://www.youtube.com/watch?v=vCLetdhswMg)"
   ]
  },
  {
   "cell_type": "code",
   "execution_count": null,
   "metadata": {},
   "outputs": [],
   "source": [
    "!pip install pydantic"
   ]
  },
  {
   "cell_type": "code",
   "execution_count": 1,
   "metadata": {},
   "outputs": [],
   "source": [
    "from typing import Optional\n",
    "from pydantic import BaseModel"
   ]
  },
  {
   "cell_type": "markdown",
   "metadata": {},
   "source": [
    "## Basic Pydantic Models\n",
    "\n",
    "A Pydantic model is a class that inherits from `BaseModel`. All attributes are defined with type annotations."
   ]
  },
  {
   "cell_type": "code",
   "execution_count": 2,
   "metadata": {},
   "outputs": [],
   "source": [
    "user_data = {\n",
    "    \"id\": 1,\n",
    "    \"name\": \"Faylo Bobol\",\n",
    "    \"email\": \"faylo@bolol.am\",\n",
    "    \"age\": 30,\n",
    "    # is_active optional\n",
    "}"
   ]
  },
  {
   "cell_type": "code",
   "execution_count": 3,
   "metadata": {},
   "outputs": [
    {
     "name": "stdout",
     "output_type": "stream",
     "text": [
      "id=1 name='Faylo Bobol' email='faylo@bolol.am' age=30 is_active=True\n",
      "User name: Faylo Bobol\n",
      "User email: faylo@bolol.am\n"
     ]
    }
   ],
   "source": [
    "# Basic Pydantic Model\n",
    "class User(BaseModel):\n",
    "    id: int\n",
    "    name: str\n",
    "    email: str\n",
    "    age: Optional[int] = None\n",
    "    is_active: bool = True\n",
    "\n",
    "\n",
    "user = User(**user_data)\n",
    "\n",
    "print(user)\n",
    "print(f\"User name: {user.name}\")\n",
    "print(f\"User email: {user.email}\")"
   ]
  },
  {
   "cell_type": "code",
   "execution_count": 5,
   "metadata": {},
   "outputs": [
    {
     "name": "stdout",
     "output_type": "stream",
     "text": [
      "\n",
      "As dictionary:\n",
      "{'id': 1, 'name': 'Faylo Bobol', 'email': 'faylo@bolol.am', 'age': 30, 'is_active': True}\n",
      "\n",
      "As JSON:\n",
      "{\n",
      "    \"id\": 1,\n",
      "    \"name\": \"Faylo Bobol\",\n",
      "    \"email\": \"faylo@bolol.am\",\n",
      "    \"age\": 30,\n",
      "    \"is_active\": true\n",
      "}\n"
     ]
    }
   ],
   "source": [
    "# Convert to dictionary\n",
    "print(\"\\nAs dictionary:\")\n",
    "print(user.model_dump())\n",
    "\n",
    "# Convert to JSON\n",
    "print(\"\\nAs JSON:\")\n",
    "print(user.model_dump_json(indent=4))"
   ]
  },
  {
   "cell_type": "code",
   "execution_count": 6,
   "metadata": {},
   "outputs": [
    {
     "name": "stdout",
     "output_type": "stream",
     "text": [
      "{'id': 1, 'name': 'Faylo Bobol'}\n",
      "{'email': 'faylo@bolol.am', 'age': 30, 'is_active': True}\n"
     ]
    }
   ],
   "source": [
    "print(user.model_dump(include={\"id\", \"name\"}))\n",
    "print(user.model_dump(exclude={\"id\", \"name\"}))"
   ]
  },
  {
   "cell_type": "markdown",
   "metadata": {},
   "source": [
    "## Data Validation\n",
    "\n",
    "Pydantic automatically validates data types and provides helpful error messages."
   ]
  },
  {
   "cell_type": "code",
   "execution_count": 7,
   "metadata": {},
   "outputs": [
    {
     "name": "stdout",
     "output_type": "stream",
     "text": [
      "=== Type Conversion ===\n",
      "ID (converted from string): 123 (type: <class 'int'>)\n",
      "Age (converted from string): 25 (type: <class 'int'>)\n"
     ]
    }
   ],
   "source": [
    "# Type conversion - Pydantic tries to convert compatible types\n",
    "print(\"=== Type Conversion ===\")\n",
    "user_flexible = User(id=\"123\", \n",
    "                     name=\"Barxudarum\", \n",
    "                     email=\"barxudarum@panir.com\", \n",
    "                     age=\"25\")\n",
    "\n",
    "print(f\"ID (converted from string): {user_flexible.id} (type: {type(user_flexible.id)})\")\n",
    "print(f\"Age (converted from string): {user_flexible.age} (type: {type(user_flexible.age)})\")\n"
   ]
  },
  {
   "cell_type": "code",
   "execution_count": 8,
   "metadata": {},
   "outputs": [
    {
     "ename": "ValidationError",
     "evalue": "1 validation error for User\nid\n  Input should be a valid integer, unable to parse string as an integer [type=int_parsing, input_value='not_a_number', input_type=str]\n    For further information visit https://errors.pydantic.dev/2.11/v/int_parsing",
     "output_type": "error",
     "traceback": [
      "\u001b[1;31m---------------------------------------------------------------------------\u001b[0m",
      "\u001b[1;31mValidationError\u001b[0m                           Traceback (most recent call last)",
      "Cell \u001b[1;32mIn[8], line 1\u001b[0m\n\u001b[1;32m----> 1\u001b[0m invalid_user \u001b[38;5;241m=\u001b[39m \u001b[43mUser\u001b[49m\u001b[43m(\u001b[49m\u001b[38;5;28;43mid\u001b[39;49m\u001b[38;5;241;43m=\u001b[39;49m\u001b[38;5;124;43m\"\u001b[39;49m\u001b[38;5;124;43mnot_a_number\u001b[39;49m\u001b[38;5;124;43m\"\u001b[39;49m\u001b[43m,\u001b[49m\u001b[43m \u001b[49m\u001b[43mname\u001b[49m\u001b[38;5;241;43m=\u001b[39;49m\u001b[38;5;124;43m\"\u001b[39;49m\u001b[38;5;124;43mSpiridon\u001b[39;49m\u001b[38;5;124;43m\"\u001b[39;49m\u001b[43m,\u001b[49m\u001b[43m \u001b[49m\u001b[43memail\u001b[49m\u001b[38;5;241;43m=\u001b[39;49m\u001b[38;5;124;43m\"\u001b[39;49m\u001b[38;5;124;43mtervigen@xunk.am\u001b[39;49m\u001b[38;5;124;43m\"\u001b[39;49m\u001b[43m)\u001b[49m\n",
      "File \u001b[1;32mc:\\Users\\hayk_\\.conda\\envs\\sl\\lib\\site-packages\\pydantic\\main.py:253\u001b[0m, in \u001b[0;36mBaseModel.__init__\u001b[1;34m(self, **data)\u001b[0m\n\u001b[0;32m    251\u001b[0m \u001b[38;5;66;03m# `__tracebackhide__` tells pytest and some other tools to omit this function from tracebacks\u001b[39;00m\n\u001b[0;32m    252\u001b[0m __tracebackhide__ \u001b[38;5;241m=\u001b[39m \u001b[38;5;28;01mTrue\u001b[39;00m\n\u001b[1;32m--> 253\u001b[0m validated_self \u001b[38;5;241m=\u001b[39m \u001b[38;5;28;43mself\u001b[39;49m\u001b[38;5;241;43m.\u001b[39;49m\u001b[43m__pydantic_validator__\u001b[49m\u001b[38;5;241;43m.\u001b[39;49m\u001b[43mvalidate_python\u001b[49m\u001b[43m(\u001b[49m\u001b[43mdata\u001b[49m\u001b[43m,\u001b[49m\u001b[43m \u001b[49m\u001b[43mself_instance\u001b[49m\u001b[38;5;241;43m=\u001b[39;49m\u001b[38;5;28;43mself\u001b[39;49m\u001b[43m)\u001b[49m\n\u001b[0;32m    254\u001b[0m \u001b[38;5;28;01mif\u001b[39;00m \u001b[38;5;28mself\u001b[39m \u001b[38;5;129;01mis\u001b[39;00m \u001b[38;5;129;01mnot\u001b[39;00m validated_self:\n\u001b[0;32m    255\u001b[0m     warnings\u001b[38;5;241m.\u001b[39mwarn(\n\u001b[0;32m    256\u001b[0m         \u001b[38;5;124m'\u001b[39m\u001b[38;5;124mA custom validator is returning a value other than `self`.\u001b[39m\u001b[38;5;130;01m\\n\u001b[39;00m\u001b[38;5;124m'\u001b[39m\n\u001b[0;32m    257\u001b[0m         \u001b[38;5;124m\"\u001b[39m\u001b[38;5;124mReturning anything other than `self` from a top level model validator isn\u001b[39m\u001b[38;5;124m'\u001b[39m\u001b[38;5;124mt supported when validating via `__init__`.\u001b[39m\u001b[38;5;130;01m\\n\u001b[39;00m\u001b[38;5;124m\"\u001b[39m\n\u001b[0;32m    258\u001b[0m         \u001b[38;5;124m'\u001b[39m\u001b[38;5;124mSee the `model_validator` docs (https://docs.pydantic.dev/latest/concepts/validators/#model-validators) for more details.\u001b[39m\u001b[38;5;124m'\u001b[39m,\n\u001b[0;32m    259\u001b[0m         stacklevel\u001b[38;5;241m=\u001b[39m\u001b[38;5;241m2\u001b[39m,\n\u001b[0;32m    260\u001b[0m     )\n",
      "\u001b[1;31mValidationError\u001b[0m: 1 validation error for User\nid\n  Input should be a valid integer, unable to parse string as an integer [type=int_parsing, input_value='not_a_number', input_type=str]\n    For further information visit https://errors.pydantic.dev/2.11/v/int_parsing"
     ]
    }
   ],
   "source": [
    "invalid_user = User(id=\"not_a_number\", name=\"Spiridon\", email=\"tervigen@xunk.am\")"
   ]
  },
  {
   "cell_type": "code",
   "execution_count": 9,
   "metadata": {},
   "outputs": [
    {
     "ename": "ValidationError",
     "evalue": "1 validation error for User\nname\n  Field required [type=missing, input_value={'id': 509, 'email': 'tervigen@xunk.am'}, input_type=dict]\n    For further information visit https://errors.pydantic.dev/2.11/v/missing",
     "output_type": "error",
     "traceback": [
      "\u001b[1;31m---------------------------------------------------------------------------\u001b[0m",
      "\u001b[1;31mValidationError\u001b[0m                           Traceback (most recent call last)",
      "Cell \u001b[1;32mIn[9], line 1\u001b[0m\n\u001b[1;32m----> 1\u001b[0m less_data \u001b[38;5;241m=\u001b[39m \u001b[43mUser\u001b[49m\u001b[43m(\u001b[49m\u001b[38;5;28;43mid\u001b[39;49m\u001b[38;5;241;43m=\u001b[39;49m\u001b[38;5;241;43m509\u001b[39;49m\u001b[43m,\u001b[49m\u001b[43m \u001b[49m\u001b[43memail\u001b[49m\u001b[38;5;241;43m=\u001b[39;49m\u001b[38;5;124;43m\"\u001b[39;49m\u001b[38;5;124;43mtervigen@xunk.am\u001b[39;49m\u001b[38;5;124;43m\"\u001b[39;49m\u001b[43m)\u001b[49m\n",
      "File \u001b[1;32mc:\\Users\\hayk_\\.conda\\envs\\sl\\lib\\site-packages\\pydantic\\main.py:253\u001b[0m, in \u001b[0;36mBaseModel.__init__\u001b[1;34m(self, **data)\u001b[0m\n\u001b[0;32m    251\u001b[0m \u001b[38;5;66;03m# `__tracebackhide__` tells pytest and some other tools to omit this function from tracebacks\u001b[39;00m\n\u001b[0;32m    252\u001b[0m __tracebackhide__ \u001b[38;5;241m=\u001b[39m \u001b[38;5;28;01mTrue\u001b[39;00m\n\u001b[1;32m--> 253\u001b[0m validated_self \u001b[38;5;241m=\u001b[39m \u001b[38;5;28;43mself\u001b[39;49m\u001b[38;5;241;43m.\u001b[39;49m\u001b[43m__pydantic_validator__\u001b[49m\u001b[38;5;241;43m.\u001b[39;49m\u001b[43mvalidate_python\u001b[49m\u001b[43m(\u001b[49m\u001b[43mdata\u001b[49m\u001b[43m,\u001b[49m\u001b[43m \u001b[49m\u001b[43mself_instance\u001b[49m\u001b[38;5;241;43m=\u001b[39;49m\u001b[38;5;28;43mself\u001b[39;49m\u001b[43m)\u001b[49m\n\u001b[0;32m    254\u001b[0m \u001b[38;5;28;01mif\u001b[39;00m \u001b[38;5;28mself\u001b[39m \u001b[38;5;129;01mis\u001b[39;00m \u001b[38;5;129;01mnot\u001b[39;00m validated_self:\n\u001b[0;32m    255\u001b[0m     warnings\u001b[38;5;241m.\u001b[39mwarn(\n\u001b[0;32m    256\u001b[0m         \u001b[38;5;124m'\u001b[39m\u001b[38;5;124mA custom validator is returning a value other than `self`.\u001b[39m\u001b[38;5;130;01m\\n\u001b[39;00m\u001b[38;5;124m'\u001b[39m\n\u001b[0;32m    257\u001b[0m         \u001b[38;5;124m\"\u001b[39m\u001b[38;5;124mReturning anything other than `self` from a top level model validator isn\u001b[39m\u001b[38;5;124m'\u001b[39m\u001b[38;5;124mt supported when validating via `__init__`.\u001b[39m\u001b[38;5;130;01m\\n\u001b[39;00m\u001b[38;5;124m\"\u001b[39m\n\u001b[0;32m    258\u001b[0m         \u001b[38;5;124m'\u001b[39m\u001b[38;5;124mSee the `model_validator` docs (https://docs.pydantic.dev/latest/concepts/validators/#model-validators) for more details.\u001b[39m\u001b[38;5;124m'\u001b[39m,\n\u001b[0;32m    259\u001b[0m         stacklevel\u001b[38;5;241m=\u001b[39m\u001b[38;5;241m2\u001b[39m,\n\u001b[0;32m    260\u001b[0m     )\n",
      "\u001b[1;31mValidationError\u001b[0m: 1 validation error for User\nname\n  Field required [type=missing, input_value={'id': 509, 'email': 'tervigen@xunk.am'}, input_type=dict]\n    For further information visit https://errors.pydantic.dev/2.11/v/missing"
     ]
    }
   ],
   "source": [
    "less_data = User(id=509, email=\"tervigen@xunk.am\")"
   ]
  },
  {
   "cell_type": "markdown",
   "metadata": {},
   "source": [
    "## Field Constraints and Custom Validators\n",
    "\n",
    "Pydantic provides Field constraints and custom validators for more sophisticated validation."
   ]
  },
  {
   "cell_type": "code",
   "execution_count": 10,
   "metadata": {},
   "outputs": [],
   "source": [
    "# Advanced model with Field constraints and custom validators\n",
    "from pydantic import Field\n",
    "from datetime import datetime\n",
    "\n",
    "class AdvancedUser(BaseModel):\n",
    "    id: int = Field(gt=0, description=\"User ID must be positive\") # greater than\n",
    "    username: str = Field(min_length=3, max_length=20, description=\"Username between 3-20 characters\")\n",
    "    email: str = Field(description=\"Valid email address\")\n",
    "    age: Optional[int] = Field(default=None, ge=0, le=100, description=\"Age between 0-100\")\n",
    "    password: str = Field(min_length=8, description=\"Password minimum 8 characters\")\n",
    "    confirm_password: str = Field(description=\"Password confirmation\")\n",
    "    full_name: str = Field(description=\"Full name\")\n",
    "    \n",
    "    created_at: datetime = Field(default_factory=datetime.now)\n"
   ]
  },
  {
   "cell_type": "code",
   "execution_count": 11,
   "metadata": {},
   "outputs": [
    {
     "name": "stdout",
     "output_type": "stream",
     "text": [
      "✅ User created successfully!\n",
      "{'id': 1, 'username': 'Faylo509', 'email': 'panir@hamov.am', 'age': 25, 'full_name': 'Faylo Bobolyan', 'created_at': datetime.datetime(2025, 8, 13, 17, 41, 48, 33783)}\n"
     ]
    }
   ],
   "source": [
    "advanced_user = AdvancedUser(\n",
    "    id=1,\n",
    "    username=\"Faylo509\",\n",
    "    email=\"panir@hamov.am\",\n",
    "    age=25,\n",
    "    password=\"hndkahav\",\n",
    "    confirm_password=\"hndkahav\",\n",
    "    full_name=\"Faylo Bobolyan\"\n",
    ")\n",
    "print(\"✅ User created successfully!\")\n",
    "print(advanced_user.model_dump(exclude={'password', 'confirm_password'}))"
   ]
  },
  {
   "cell_type": "code",
   "execution_count": 12,
   "metadata": {},
   "outputs": [
    {
     "ename": "ValidationError",
     "evalue": "1 validation error for AdvancedUser\nid\n  Input should be greater than 0 [type=greater_than, input_value=-3, input_type=int]\n    For further information visit https://errors.pydantic.dev/2.11/v/greater_than",
     "output_type": "error",
     "traceback": [
      "\u001b[1;31m---------------------------------------------------------------------------\u001b[0m",
      "\u001b[1;31mValidationError\u001b[0m                           Traceback (most recent call last)",
      "Cell \u001b[1;32mIn[12], line 1\u001b[0m\n\u001b[1;32m----> 1\u001b[0m advanced_user \u001b[38;5;241m=\u001b[39m \u001b[43mAdvancedUser\u001b[49m\u001b[43m(\u001b[49m\n\u001b[0;32m      2\u001b[0m \u001b[43m    \u001b[49m\u001b[38;5;28;43mid\u001b[39;49m\u001b[38;5;241;43m=\u001b[39;49m\u001b[38;5;241;43m-\u001b[39;49m\u001b[38;5;241;43m3\u001b[39;49m\u001b[43m,\u001b[49m\n\u001b[0;32m      3\u001b[0m \u001b[43m    \u001b[49m\u001b[43musername\u001b[49m\u001b[38;5;241;43m=\u001b[39;49m\u001b[38;5;124;43m\"\u001b[39;49m\u001b[38;5;124;43mFaylo509\u001b[39;49m\u001b[38;5;124;43m\"\u001b[39;49m\u001b[43m,\u001b[49m\n\u001b[0;32m      4\u001b[0m \u001b[43m    \u001b[49m\u001b[43memail\u001b[49m\u001b[38;5;241;43m=\u001b[39;49m\u001b[38;5;124;43m\"\u001b[39;49m\u001b[38;5;124;43mpanir@hamov.am\u001b[39;49m\u001b[38;5;124;43m\"\u001b[39;49m\u001b[43m,\u001b[49m\n\u001b[0;32m      5\u001b[0m \u001b[43m    \u001b[49m\u001b[43mage\u001b[49m\u001b[38;5;241;43m=\u001b[39;49m\u001b[38;5;241;43m25\u001b[39;49m\u001b[43m,\u001b[49m\n\u001b[0;32m      6\u001b[0m \u001b[43m    \u001b[49m\u001b[43mpassword\u001b[49m\u001b[38;5;241;43m=\u001b[39;49m\u001b[38;5;124;43m\"\u001b[39;49m\u001b[38;5;124;43mhndkahav\u001b[39;49m\u001b[38;5;124;43m\"\u001b[39;49m\u001b[43m,\u001b[49m\n\u001b[0;32m      7\u001b[0m \u001b[43m    \u001b[49m\u001b[43mconfirm_password\u001b[49m\u001b[38;5;241;43m=\u001b[39;49m\u001b[38;5;124;43m\"\u001b[39;49m\u001b[38;5;124;43mhndkahav\u001b[39;49m\u001b[38;5;124;43m\"\u001b[39;49m\u001b[43m,\u001b[49m\n\u001b[0;32m      8\u001b[0m \u001b[43m    \u001b[49m\u001b[43mfull_name\u001b[49m\u001b[38;5;241;43m=\u001b[39;49m\u001b[38;5;124;43m\"\u001b[39;49m\u001b[38;5;124;43mFaylo Bobolyan\u001b[39;49m\u001b[38;5;124;43m\"\u001b[39;49m\n\u001b[0;32m      9\u001b[0m \u001b[43m)\u001b[49m\n\u001b[0;32m     10\u001b[0m \u001b[38;5;28mprint\u001b[39m(\u001b[38;5;124m\"\u001b[39m\u001b[38;5;124m✅ User created successfully!\u001b[39m\u001b[38;5;124m\"\u001b[39m)\n\u001b[0;32m     11\u001b[0m \u001b[38;5;28mprint\u001b[39m(advanced_user\u001b[38;5;241m.\u001b[39mmodel_dump(exclude\u001b[38;5;241m=\u001b[39m{\u001b[38;5;124m'\u001b[39m\u001b[38;5;124mpassword\u001b[39m\u001b[38;5;124m'\u001b[39m, \u001b[38;5;124m'\u001b[39m\u001b[38;5;124mconfirm_password\u001b[39m\u001b[38;5;124m'\u001b[39m}))\n",
      "File \u001b[1;32mc:\\Users\\hayk_\\.conda\\envs\\sl\\lib\\site-packages\\pydantic\\main.py:253\u001b[0m, in \u001b[0;36mBaseModel.__init__\u001b[1;34m(self, **data)\u001b[0m\n\u001b[0;32m    251\u001b[0m \u001b[38;5;66;03m# `__tracebackhide__` tells pytest and some other tools to omit this function from tracebacks\u001b[39;00m\n\u001b[0;32m    252\u001b[0m __tracebackhide__ \u001b[38;5;241m=\u001b[39m \u001b[38;5;28;01mTrue\u001b[39;00m\n\u001b[1;32m--> 253\u001b[0m validated_self \u001b[38;5;241m=\u001b[39m \u001b[38;5;28;43mself\u001b[39;49m\u001b[38;5;241;43m.\u001b[39;49m\u001b[43m__pydantic_validator__\u001b[49m\u001b[38;5;241;43m.\u001b[39;49m\u001b[43mvalidate_python\u001b[49m\u001b[43m(\u001b[49m\u001b[43mdata\u001b[49m\u001b[43m,\u001b[49m\u001b[43m \u001b[49m\u001b[43mself_instance\u001b[49m\u001b[38;5;241;43m=\u001b[39;49m\u001b[38;5;28;43mself\u001b[39;49m\u001b[43m)\u001b[49m\n\u001b[0;32m    254\u001b[0m \u001b[38;5;28;01mif\u001b[39;00m \u001b[38;5;28mself\u001b[39m \u001b[38;5;129;01mis\u001b[39;00m \u001b[38;5;129;01mnot\u001b[39;00m validated_self:\n\u001b[0;32m    255\u001b[0m     warnings\u001b[38;5;241m.\u001b[39mwarn(\n\u001b[0;32m    256\u001b[0m         \u001b[38;5;124m'\u001b[39m\u001b[38;5;124mA custom validator is returning a value other than `self`.\u001b[39m\u001b[38;5;130;01m\\n\u001b[39;00m\u001b[38;5;124m'\u001b[39m\n\u001b[0;32m    257\u001b[0m         \u001b[38;5;124m\"\u001b[39m\u001b[38;5;124mReturning anything other than `self` from a top level model validator isn\u001b[39m\u001b[38;5;124m'\u001b[39m\u001b[38;5;124mt supported when validating via `__init__`.\u001b[39m\u001b[38;5;130;01m\\n\u001b[39;00m\u001b[38;5;124m\"\u001b[39m\n\u001b[0;32m    258\u001b[0m         \u001b[38;5;124m'\u001b[39m\u001b[38;5;124mSee the `model_validator` docs (https://docs.pydantic.dev/latest/concepts/validators/#model-validators) for more details.\u001b[39m\u001b[38;5;124m'\u001b[39m,\n\u001b[0;32m    259\u001b[0m         stacklevel\u001b[38;5;241m=\u001b[39m\u001b[38;5;241m2\u001b[39m,\n\u001b[0;32m    260\u001b[0m     )\n",
      "\u001b[1;31mValidationError\u001b[0m: 1 validation error for AdvancedUser\nid\n  Input should be greater than 0 [type=greater_than, input_value=-3, input_type=int]\n    For further information visit https://errors.pydantic.dev/2.11/v/greater_than"
     ]
    }
   ],
   "source": [
    "advanced_user = AdvancedUser(\n",
    "    id=-3,\n",
    "    username=\"Faylo509\",\n",
    "    email=\"panir@hamov.am\",\n",
    "    age=25,\n",
    "    password=\"hndkahav\",\n",
    "    confirm_password=\"hndkahav\",\n",
    "    full_name=\"Faylo Bobolyan\"\n",
    ")\n",
    "print(\"✅ User created successfully!\")\n",
    "print(advanced_user.model_dump(exclude={'password', 'confirm_password'}))"
   ]
  },
  {
   "cell_type": "code",
   "execution_count": 13,
   "metadata": {},
   "outputs": [
    {
     "name": "stdout",
     "output_type": "stream",
     "text": [
      "❌ Validation failed:\n",
      "  ('id',): Input should be greater than 0\n",
      "  ('password',): String should have at least 8 characters\n"
     ]
    }
   ],
   "source": [
    "from pydantic import ValidationError\n",
    "\n",
    "try:\n",
    "    advanced_user = AdvancedUser(\n",
    "    id=-3,\n",
    "    username=\"Faylo509\",\n",
    "    email=\"panir@hamov.am\",\n",
    "    age=25,\n",
    "    password=\"hndk\",\n",
    "    confirm_password=\"hndkahav\",\n",
    "    full_name=\"Faylo Bobolyan\"\n",
    ")\n",
    "\n",
    "except ValidationError as e:\n",
    "    print(\"❌ Validation failed:\")\n",
    "    for error in e.errors():\n",
    "        print(f\"  {error['loc']}: {error['msg']}\")"
   ]
  },
  {
   "cell_type": "markdown",
   "metadata": {},
   "source": [
    "### Custom validators"
   ]
  },
  {
   "cell_type": "code",
   "execution_count": 14,
   "metadata": {},
   "outputs": [],
   "source": [
    "import re # regular expresstion\n",
    "from pydantic import field_validator, model_validator\n",
    "\n",
    "\n",
    "class AdvancedUser(BaseModel):\n",
    "    id: int = Field(gt=0, description=\"User ID must be positive\") # greater than\n",
    "    username: str = Field(min_length=3, max_length=20, description=\"Username between 3-20 characters\")\n",
    "    email: str = Field(description=\"Valid email address\")\n",
    "    age: Optional[int] = Field(default=None, ge=0, le=100, description=\"Age between 0-100\")\n",
    "    password: str = Field(min_length=8, description=\"Password minimum 8 characters\")\n",
    "    confirm_password: str = Field(description=\"Password confirmation\")\n",
    "    full_name: str = Field(description=\"Full name\")\n",
    "\n",
    "    # https://stackoverflow.com/questions/76972389/fastapi-pydantic-how-to-validate-email\n",
    "    @field_validator('email') \n",
    "    @classmethod\n",
    "    def validate_email(cls, v):\n",
    "        # Simple email validation\n",
    "        pattern = r'^[a-zA-Z0-9._%+-]+@[a-zA-Z0-9.-]+\\.[a-zA-Z]{2,}$'\n",
    "        if not re.match(pattern, v):\n",
    "            raise ValueError('Invalid email format')\n",
    "        return v\n",
    "    \n",
    "    @field_validator('username')\n",
    "    @classmethod\n",
    "    def validate_username(cls, v):\n",
    "        if not v.isalnum():\n",
    "            raise ValueError('Username must be alphanumeric')\n",
    "        return v\n",
    "    \n",
    "    @field_validator('password')\n",
    "    @classmethod\n",
    "    def validate_password(cls, v):\n",
    "        if not any(c.isupper() for c in v):\n",
    "            raise ValueError('Password must contain at least one uppercase letter')\n",
    "        if not any(c.islower() for c in v):\n",
    "            raise ValueError('Password must contain at least one lowercase letter')\n",
    "        if not any(c.isdigit() for c in v):\n",
    "            raise ValueError('Password must contain at least one digit')\n",
    "        return v\n",
    "\n",
    "    # Validate that passwords match, after setting the values\n",
    "    @model_validator(mode='after')\n",
    "    def validate_passwords_match(self):\n",
    "        if self.password != self.confirm_password:\n",
    "            raise ValueError('Passwords do not match')\n",
    "        return self"
   ]
  },
  {
   "cell_type": "code",
   "execution_count": 15,
   "metadata": {},
   "outputs": [
    {
     "name": "stdout",
     "output_type": "stream",
     "text": [
      "❌ Validation failed:\n",
      "  ('id',): Input should be greater than 0\n"
     ]
    }
   ],
   "source": [
    "try:\n",
    "    advanced_user = AdvancedUser(\n",
    "    id=-3,\n",
    "    username=\"Faylo509\",\n",
    "    email=\"panir@hamov.am\",\n",
    "    age=25,\n",
    "    password=\"Sovorakan_hav509\",\n",
    "    confirm_password=\"hndkahav\",\n",
    "    full_name=\"Faylo Bobolyan\"\n",
    ")\n",
    "\n",
    "except ValidationError as e:\n",
    "    print(\"❌ Validation failed:\")\n",
    "    for error in e.errors():\n",
    "        print(f\"  {error['loc']}: {error['msg']}\")"
   ]
  },
  {
   "cell_type": "code",
   "execution_count": 16,
   "metadata": {},
   "outputs": [
    {
     "name": "stdout",
     "output_type": "stream",
     "text": [
      "❌ Validation failed:\n",
      "  (): Value error, Passwords do not match\n"
     ]
    }
   ],
   "source": [
    "try:\n",
    "    advanced_user = AdvancedUser(\n",
    "    id=3,\n",
    "    username=\"Faylo509\",\n",
    "    email=\"panir@hamov.am\",\n",
    "    age=25,\n",
    "    password=\"Sovorakan_hav509\",\n",
    "    confirm_password=\"hndkahav\",\n",
    "    full_name=\"Faylo Bobolyan\"\n",
    ")\n",
    "\n",
    "except ValidationError as e:\n",
    "    print(\"❌ Validation failed:\")\n",
    "    for error in e.errors():\n",
    "        print(f\"  {error['loc']}: {error['msg']}\")"
   ]
  },
  {
   "cell_type": "markdown",
   "metadata": {},
   "source": [
    "## Config\n",
    "https://docs.pydantic.dev/latest/api/config/"
   ]
  },
  {
   "cell_type": "code",
   "execution_count": 17,
   "metadata": {},
   "outputs": [],
   "source": [
    "class AdvancedUser(BaseModel):\n",
    "    id: int = Field(gt=0, description=\"User ID must be positive\") # greater than\n",
    "    username: str = Field(min_length=3, max_length=20, description=\"Username between 3-20 characters\")\n",
    "    email: str = Field(description=\"Valid email address\")\n",
    "    age: Optional[int] = Field(default=None, ge=0, le=100, description=\"Age between 0-100\")\n",
    "    password: str = Field(min_length=8, description=\"Password minimum 8 characters\")\n",
    "    confirm_password: str = Field(description=\"Password confirmation\")\n",
    "    full_name: str = Field(description=\"Full name\")\n",
    "\n",
    "    class Config: # https://docs.pydantic.dev/latest/api/config/\n",
    "        str_to_upper = True  \n",
    "        # frozen = True      "
   ]
  },
  {
   "cell_type": "code",
   "execution_count": 18,
   "metadata": {},
   "outputs": [
    {
     "name": "stdout",
     "output_type": "stream",
     "text": [
      "id=3 username='FAYLO509' email='PANIR@HAMOV.AM' age=25 password='SOVORAKAN_HAV509' confirm_password='HNDKAHAV' full_name='FAYLO BOBOLYAN'\n",
      "id=10 username='FAYLO509' email='PANIR@HAMOV.AM' age=25 password='SOVORAKAN_HAV509' confirm_password='HNDKAHAV' full_name='FAYLO BOBOLYAN'\n"
     ]
    }
   ],
   "source": [
    "advanced_user = AdvancedUser(\n",
    "    id=3,\n",
    "    username=\"Faylo509\",\n",
    "    email=\"panir@hamov.am\",\n",
    "    age=25,\n",
    "    password=\"Sovorakan_hav509\",\n",
    "    confirm_password=\"hndkahav\",\n",
    "    full_name=\"Faylo Bobolyan\"\n",
    ")\n",
    "\n",
    "print(advanced_user)\n",
    "\n",
    "advanced_user.id = 10\n",
    "print(advanced_user)\n"
   ]
  },
  {
   "cell_type": "markdown",
   "metadata": {},
   "source": [
    "## Json Schema"
   ]
  },
  {
   "cell_type": "code",
   "execution_count": null,
   "metadata": {},
   "outputs": [],
   "source": [
    "advanced_user.model_json_schema()"
   ]
  },
  {
   "cell_type": "markdown",
   "metadata": {},
   "source": [
    "## Enum\n",
    "An Enum (Enumeration) is a way to create a set of symbolic names bound to unique, constant values. It provides a structured way to define a collection of related constants.\n",
    "\n",
    "[geeksforgeeks](https://www.geeksforgeeks.org/python/enum-in-python/)"
   ]
  },
  {
   "cell_type": "code",
   "execution_count": 21,
   "metadata": {},
   "outputs": [
    {
     "name": "stdout",
     "output_type": "stream",
     "text": [
      "Role: admin\n",
      "Role value: admin\n",
      "Role name: ADMIN\n",
      "\n",
      "All roles:\n",
      "  ADMIN: admin\n",
      "  USER: user\n",
      "  MODERATOR: moderator\n"
     ]
    }
   ],
   "source": [
    "from enum import Enum\n",
    "\n",
    "# Basic Enum example\n",
    "class UserRole(str, Enum):\n",
    "    ADMIN = \"admin\"\n",
    "    USER = \"user\"\n",
    "    MODERATOR = \"moderator\"\n",
    "\n",
    "# Usage\n",
    "role = UserRole.ADMIN\n",
    "print(f\"Role: {role}\")  # Role: admin\n",
    "print(f\"Role value: {role.value}\")  # Role value: admin\n",
    "print(f\"Role name: {role.name}\")  # Role name: ADMIN\n",
    "\n",
    "# You can iterate over enum values\n",
    "print(\"\\nAll roles:\")\n",
    "for role in UserRole:\n",
    "    print(f\"  {role.name}: {role.value}\")"
   ]
  },
  {
   "cell_type": "markdown",
   "metadata": {},
   "source": [
    "### Why enum?"
   ]
  },
  {
   "cell_type": "markdown",
   "metadata": {},
   "source": [
    "1. Type Safety and Validation\n"
   ]
  },
  {
   "cell_type": "code",
   "execution_count": 23,
   "metadata": {},
   "outputs": [
    {
     "name": "stdout",
     "output_type": "stream",
     "text": [
      "=== Type Safety Demo ===\n",
      "check_user_permission('admni') = 'No access' (Typo, but no error!)\n",
      "check_user_permission_safe(UserRole.ADMIN) = 'Full access' (Safe!)\n"
     ]
    }
   ],
   "source": [
    "# Without Enum - prone to errors\n",
    "def check_user_permission(role: str):\n",
    "    if role == \"admin\":  # Typo risk: \"admni\", \"Admin\", etc.\n",
    "        return \"Full access\"\n",
    "    elif role == \"user\":\n",
    "        return \"Limited access\"\n",
    "    else:\n",
    "        return \"No access\"\n",
    "\n",
    "# With Enum - type safe\n",
    "def check_user_permission_safe(role: UserRole):\n",
    "    if role == UserRole.ADMIN:  # IDE autocomplete, no typos\n",
    "        return \"Full access\"\n",
    "    elif role == UserRole.USER:\n",
    "        return \"Limited access\"\n",
    "    else:\n",
    "        return \"No access\"\n",
    "\n",
    "# Demonstration\n",
    "print(\"=== Type Safety Demo ===\")\n",
    "print(f\"{check_user_permission('admni') = }\", \"(Typo, but no error!)\")\n",
    "print(f\"{check_user_permission_safe(UserRole.ADMIN) = }\", \"(Safe!)\")"
   ]
  },
  {
   "cell_type": "markdown",
   "metadata": {},
   "source": [
    "2. Centralized Constants\n"
   ]
  },
  {
   "cell_type": "code",
   "execution_count": 24,
   "metadata": {},
   "outputs": [],
   "source": [
    "class User(BaseModel):\n",
    "    role: str \n",
    "    status: str \n",
    "    \n",
    "user = User(role=\"admin\", status=\"active\")\n",
    "\n",
    "# Bad: Magic strings scattered throughout code\n",
    "if user.role == \"admin\":  # Magic string\n",
    "    pass\n",
    "if user.status == \"active\":  # Another magic string\n",
    "    pass\n",
    "\n",
    "# Good: Centralized in Enum\n",
    "class UserStatus(str, Enum):\n",
    "    ACTIVE = \"active\"\n",
    "    INACTIVE = \"inactive\"\n",
    "    SUSPENDED = \"suspended\"\n",
    "\n",
    "if user.role == UserRole.ADMIN:  # Clear, centralized\n",
    "    pass\n",
    "if user.status == UserStatus.ACTIVE:  # Clear, centralized\n",
    "    pass"
   ]
  },
  {
   "cell_type": "markdown",
   "metadata": {},
   "source": [
    "1. IDE Support and Autocomplete\n"
   ]
  },
  {
   "cell_type": "code",
   "execution_count": null,
   "metadata": {},
   "outputs": [],
   "source": [
    "# With Enum, your IDE provides:\n",
    "# - Autocomplete for UserRole.\n",
    "# - Error detection for invalid values\n",
    "# - Refactoring support\n",
    "\n",
    "role = UserRole.  # IDE shows: ADMIN, USER, MODERATOR"
   ]
  },
  {
   "cell_type": "markdown",
   "metadata": {},
   "source": [
    "### Enum vs typing.Literal"
   ]
  },
  {
   "cell_type": "code",
   "execution_count": null,
   "metadata": {},
   "outputs": [
    {
     "name": "stdout",
     "output_type": "stream",
     "text": [
      "=== Enum vs Literal Comparison ===\n"
     ]
    }
   ],
   "source": [
    "from typing import Literal\n",
    "\n",
    "# Using Literal\n",
    "def process_with_literal(status: Literal[\"pending\", \"approved\", \"rejected\"]):\n",
    "    return f\"Processing {status}\"\n",
    "\n",
    "# Using Enum\n",
    "class Status(str, Enum):\n",
    "    PENDING = \"pending\"\n",
    "    APPROVED = \"approved\"\n",
    "    REJECTED = \"rejected\"\n",
    "\n",
    "def process_with_enum(status: Status):\n",
    "    return f\"Processing {status.value}\"\n",
    "    "
   ]
  },
  {
   "cell_type": "code",
   "execution_count": null,
   "metadata": {},
   "outputs": [
    {
     "name": "stdout",
     "output_type": "stream",
     "text": [
      "=== Runtime Validation ===\n",
      "invalid\n",
      "invalid\n"
     ]
    }
   ],
   "source": [
    "# 1. Runtime Validation\n",
    "def test_literal(value: Literal[\"a\", \"b\", \"c\"]):\n",
    "    # No runtime validation - any string can be passed\n",
    "    return value\n",
    "\n",
    "def test_enum(value: Status):\n",
    "    # Runtime validation when creating enum instance\n",
    "    return value\n",
    "\n",
    "print(\"=== Runtime Validation ===\")\n",
    "print(test_literal(\"invalid\"))  # No error!\n",
    "\n",
    "print(test_enum(Status(\"invalid\")))  # Will raise ValueError\n"
   ]
  },
  {
   "cell_type": "code",
   "execution_count": 29,
   "metadata": {},
   "outputs": [
    {
     "name": "stdout",
     "output_type": "stream",
     "text": [
      "\n",
      "=== Iteration ===\n",
      "Status: PENDING = pending\n",
      "Status: APPROVED = approved\n",
      "Status: REJECTED = rejected\n"
     ]
    }
   ],
   "source": [
    "\n",
    "# 2. Iteration and Introspection\n",
    "print(\"\\n=== Iteration ===\")\n",
    "# Literal - cannot iterate\n",
    "# for item in Literal[\"a\", \"b\", \"c\"]:  # Not possible\n",
    "\n",
    "# Enum - can iterate\n",
    "for status in Status:\n",
    "    print(f\"Status: {status.name} = {status.value}\")\n",
    "\n"
   ]
  },
  {
   "cell_type": "code",
   "execution_count": 30,
   "metadata": {},
   "outputs": [
    {
     "name": "stdout",
     "output_type": "stream",
     "text": [
      "\n",
      "=== Extended Methods ===\n",
      "Is approved final? True\n",
      "Initial status: pending\n"
     ]
    }
   ],
   "source": [
    "# 3. Extensibility\n",
    "class ExtendedStatus(str, Enum):\n",
    "    PENDING = \"pending\"\n",
    "    APPROVED = \"approved\"\n",
    "    REJECTED = \"rejected\"\n",
    "    \n",
    "    def is_final(self) -> bool:\n",
    "        \"\"\"Check if status is final (approved or rejected)\"\"\"\n",
    "        return self in (self.APPROVED, self.REJECTED)\n",
    "    \n",
    "    @classmethod\n",
    "    def get_initial_status(cls):\n",
    "        \"\"\"Get the initial status for new items\"\"\"\n",
    "        return cls.PENDING\n",
    "\n",
    "status = ExtendedStatus.APPROVED\n",
    "print(f\"\\n=== Extended Methods ===\")\n",
    "print(f\"Is {status.value} final? {status.is_final()}\")\n",
    "print(f\"Initial status: {ExtendedStatus.get_initial_status().value}\")"
   ]
  },
  {
   "cell_type": "markdown",
   "metadata": {},
   "source": [
    "### Enums with Pydantic"
   ]
  },
  {
   "cell_type": "code",
   "execution_count": 31,
   "metadata": {},
   "outputs": [
    {
     "name": "stdout",
     "output_type": "stream",
     "text": [
      "❌ Error: 'panir' is not a valid UserRole\n",
      "✅ Correct: moderator\n"
     ]
    }
   ],
   "source": [
    "from enum import Enum\n",
    "from pydantic import BaseModel, ValidationError\n",
    "\n",
    "class UserRole(str, Enum):\n",
    "    ADMIN = \"admin\"\n",
    "    USER = \"user\"\n",
    "    MODERATOR = \"moderator\"\n",
    "\n",
    "\n",
    "try:\n",
    "    role = UserRole(\"panir\")\n",
    "except ValueError as e:\n",
    "    print(f\"❌ Error: {e}\")\n",
    "\n",
    "# Correct usage:\n",
    "role = UserRole.MODERATOR\n",
    "print(f\"✅ Correct: {role}\")\n"
   ]
  },
  {
   "cell_type": "code",
   "execution_count": 33,
   "metadata": {},
   "outputs": [
    {
     "name": "stdout",
     "output_type": "stream",
     "text": [
      "\n",
      "=== Pydantic with Enum ===\n",
      "User: id=1 role=<UserRole.ADMIN: 'admin'> name='Mavses'\n",
      "Role type: <enum 'UserRole'>\n",
      "Role value: admin\n",
      "\n",
      "❌ Validation Error:\n",
      "  ('role',): Input should be 'admin', 'user' or 'moderator'\n"
     ]
    }
   ],
   "source": [
    "# Pydantic Model with Enum\n",
    "class UserWithRole(BaseModel):\n",
    "    id: int\n",
    "    role: UserRole\n",
    "    name: str\n",
    "\n",
    "# Valid creation\n",
    "user_with_role = UserWithRole(id=1, role=\"admin\", name=\"Mavses\")\n",
    "print(f\"\\n=== Pydantic with Enum ===\")\n",
    "print(f\"User: {user_with_role}\")\n",
    "print(f\"Role type: {type(user_with_role.role)}\")\n",
    "print(f\"Role value: {user_with_role.role.value}\")\n",
    "\n",
    "# Pydantic automatically validates enum values\n",
    "wrong_role = \"panir\"\n",
    "\n",
    "try:\n",
    "    invalid_user = UserWithRole(id=2, role=wrong_role, name=\"Goro\")\n",
    "except ValidationError as e:\n",
    "    print(f\"\\n❌ Validation Error:\")\n",
    "    for error in e.errors():\n",
    "        print(f\"  {error['loc']}: {error['msg']}\")"
   ]
  },
  {
   "cell_type": "markdown",
   "metadata": {},
   "source": [
    "We can also make it so it exports the value instead of the enum object itself\n"
   ]
  },
  {
   "cell_type": "code",
   "execution_count": null,
   "metadata": {},
   "outputs": [
    {
     "data": {
      "text/plain": [
       "'user'"
      ]
     },
     "execution_count": 78,
     "metadata": {},
     "output_type": "execute_result"
    }
   ],
   "source": [
    "class UserWithRole(BaseModel):\n",
    "    id: int\n",
    "    role: UserRole\n",
    "    name: str\n",
    "\n",
    "    # class Config:\n",
    "    #     use_enum_values = True\n",
    "        \n",
    "user = UserWithRole(id=509, role=UserRole.USER, name=\"DVD Gugo\")\n",
    "\n",
    "user.role"
   ]
  },
  {
   "cell_type": "markdown",
   "metadata": {},
   "source": [
    "### We can add methods to enums"
   ]
  },
  {
   "cell_type": "code",
   "execution_count": 79,
   "metadata": {},
   "outputs": [
    {
     "name": "stdout",
     "output_type": "stream",
     "text": [
      "\n",
      "=== Advanced Enum Example ===\n",
      "Initial task: id=1 title='Fix bug' priority=<Priority.HIGH: 'high'> status=<TaskStatus.TODO: 'todo'>\n"
     ]
    }
   ],
   "source": [
    "# Complex example with multiple enums\n",
    "class Priority(str, Enum):\n",
    "    LOW = \"low\"\n",
    "    MEDIUM = \"medium\"\n",
    "    HIGH = \"high\"\n",
    "    CRITICAL = \"critical\"\n",
    "    \n",
    "    def __lt__(self, other):\n",
    "        \"\"\"Enable priority comparison\"\"\"\n",
    "        order = {\"low\": 1, \"medium\": 2, \"high\": 3, \"critical\": 4}\n",
    "        return order[self.value] < order[other.value]\n",
    "\n",
    "class TaskStatus(str, Enum):\n",
    "    TODO = \"todo\"\n",
    "    IN_PROGRESS = \"in_progress\"\n",
    "    REVIEW = \"review\"\n",
    "    DONE = \"done\"\n",
    "    CANCELLED = \"cancelled\"\n",
    "    \n",
    "    def can_transition_to(self, new_status: 'TaskStatus') -> bool:\n",
    "        \"\"\"Define valid status transitions\"\"\"\n",
    "        transitions = {\n",
    "            self.TODO: [self.IN_PROGRESS, self.CANCELLED],\n",
    "            self.IN_PROGRESS: [self.REVIEW, self.CANCELLED],\n",
    "            self.REVIEW: [self.DONE, self.IN_PROGRESS],\n",
    "            self.DONE: [],\n",
    "            self.CANCELLED: [self.TODO]\n",
    "        }\n",
    "        return new_status in transitions.get(self, [])\n",
    "\n",
    "class Task(BaseModel):\n",
    "    id: int\n",
    "    title: str\n",
    "    priority: Priority\n",
    "    status: TaskStatus = TaskStatus.TODO\n",
    "    \n",
    "    def update_status(self, new_status: TaskStatus) -> bool:\n",
    "        \"\"\"Update status with validation\"\"\"\n",
    "        if self.status.can_transition_to(new_status):\n",
    "            self.status = new_status\n",
    "            return True\n",
    "        return False\n",
    "\n",
    "# Usage example\n",
    "print(\"\\n=== Advanced Enum Example ===\")\n",
    "task = Task(id=1, title=\"Fix bug\", priority=Priority.HIGH)\n",
    "print(f\"Initial task: {task}\")\n"
   ]
  },
  {
   "cell_type": "code",
   "execution_count": 80,
   "metadata": {},
   "outputs": [
    {
     "name": "stdout",
     "output_type": "stream",
     "text": [
      "✅ Status updated: in_progress\n",
      "❌ Invalid transition from IN_PROGRESS to DONE (must go through REVIEW)\n"
     ]
    }
   ],
   "source": [
    "\n",
    "# Valid transition\n",
    "if task.update_status(TaskStatus.IN_PROGRESS):\n",
    "    print(f\"✅ Status updated: {task.status}\")\n",
    "else:\n",
    "    print(\"❌ Invalid status transition\")\n",
    "\n",
    "# Invalid transition\n",
    "if task.update_status(TaskStatus.DONE):\n",
    "    print(f\"✅ Status updated: {task.status}\")\n",
    "else:\n",
    "    print(\"❌ Invalid transition from IN_PROGRESS to DONE (must go through REVIEW)\")\n"
   ]
  },
  {
   "cell_type": "code",
   "execution_count": 82,
   "metadata": {},
   "outputs": [
    {
     "name": "stdout",
     "output_type": "stream",
     "text": [
      "\n",
      "Priority comparison:\n",
      "High < Critical: True\n"
     ]
    }
   ],
   "source": [
    "# Priority comparison\n",
    "high_priority = Priority.HIGH\n",
    "critical_priority = Priority.CRITICAL\n",
    "print(f\"\\nPriority comparison:\")\n",
    "print(f\"High < Critical: {high_priority < critical_priority}\")\n"
   ]
  },
  {
   "cell_type": "code",
   "execution_count": 83,
   "metadata": {},
   "outputs": [
    {
     "name": "stdout",
     "output_type": "stream",
     "text": [
      "\n",
      "JSON output: {\n",
      "  \"id\": 1,\n",
      "  \"title\": \"Fix bug\",\n",
      "  \"priority\": \"high\",\n",
      "  \"status\": \"in_progress\"\n",
      "}\n"
     ]
    }
   ],
   "source": [
    "\n",
    "# JSON serialization\n",
    "print(f\"\\nJSON output: {task.model_dump_json(indent=2)}\")"
   ]
  },
  {
   "cell_type": "markdown",
   "metadata": {},
   "source": [
    "## Complex Data Structures and Nested Models\n",
    "\n",
    "Pydantic can handle complex nested structures, lists, and enums.\n"
   ]
  },
  {
   "cell_type": "code",
   "execution_count": 91,
   "metadata": {},
   "outputs": [
    {
     "name": "stdout",
     "output_type": "stream",
     "text": [
      "=== Complex User Created ===\n",
      "Role: admin\n",
      "Address: Padnijni Pskov, Hervashen\n",
      "\n",
      "=== JSON Representation ===\n",
      "{\n",
      "  \"id\": 1,\n",
      "  \"role\": \"admin\",\n",
      "  \"status\": \"active\",\n",
      "  \"address\": {\n",
      "    \"street\": \"Padnijni Pskov\",\n",
      "    \"city\": \"Hervashen\",\n",
      "    \"postal_code\": \"10001\"\n",
      "  }\n",
      "}\n"
     ]
    }
   ],
   "source": [
    "from enum import Enum\n",
    "from typing import Optional, List, Dict, Union\n",
    "from datetime import datetime\n",
    "from pydantic import BaseModel, Field\n",
    "\n",
    "class UserRole(str, Enum):\n",
    "    ADMIN = \"admin\"\n",
    "    USER = \"user\"\n",
    "\n",
    "class Status(str, Enum):\n",
    "    ACTIVE = \"active\"\n",
    "    INACTIVE = \"inactive\"\n",
    "\n",
    "# Simplified nested models\n",
    "class Address(BaseModel):\n",
    "    street: str\n",
    "    city: str\n",
    "    postal_code: str = Field(pattern=r'^\\d{5}$')  # 5-digit ZIP\n",
    "\n",
    "\n",
    "# Simplified complex user model\n",
    "class ComplexUser(BaseModel):\n",
    "    id: int\n",
    "    role: UserRole\n",
    "    status: Status = Status.ACTIVE\n",
    "    address: Optional[Address] = None\n",
    "    created_at: datetime = Field(default_factory=datetime.now)\n",
    "\n",
    "# Example data\n",
    "user_data = {\n",
    "    \"id\": 1,\n",
    "    \"role\": \"admin\",\n",
    "    # no status -> default\n",
    "    \"address\": {\n",
    "        \"street\": \"Padnijni Pskov\",\n",
    "        \"city\": \"Hervashen\",\n",
    "        \"postal_code\": \"10001\"\n",
    "    },\n",
    "    \n",
    "}\n",
    "\n",
    "# Create complex user\n",
    "user = ComplexUser(**user_data)\n",
    "print(\"=== Complex User Created ===\")\n",
    "print(f\"Role: {user.role}\")\n",
    "print(f\"Address: {user.address.street}, {user.address.city}\")\n",
    "\n",
    "\n",
    "# JSON output\n",
    "print(\"\\n=== JSON Representation ===\")\n",
    "print(user.model_dump_json(indent=2, exclude={'created_at'}))"
   ]
  },
  {
   "cell_type": "markdown",
   "metadata": {},
   "source": [
    "# 🚀 FastAPI Tutorial\n",
    "\n",
    "## What is FastAPI?\n",
    "\n",
    "**FastAPI** is a modern, fast (high-performance) web framework for building APIs with Python 3.7+ based on standard Python type hints.\n",
    "\n",
    "### Key Features:\n",
    "- **Fast**: One of the fastest Python frameworks available\n",
    "- **Easy**: Designed to be easy to use and learn\n",
    "- **Standards-based**: Based on OpenAPI and JSON Schema\n",
    "- **Automatic docs**: Interactive API documentation\n",
    "- **Type Safety**: Full type checking with Pydantic\n",
    "- **Modern**: Uses async/await for high performance\n",
    "\n",
    "### Why FastAPI?\n",
    "1. **Performance**: Comparable to NodeJS and Go\n",
    "2. **Developer Experience**: Great autocomplete and error detection\n",
    "3. **Standards**: Follows web standards (OpenAPI, JSON Schema)\n",
    "4. **Documentation**: Automatic interactive docs\n",
    "5. **Production Ready**: Used by major companies\n",
    "\n",
    "## Understanding REST APIs\n",
    "\n",
    "### What is REST?\n",
    "\n",
    "**REST** (Representational State Transfer) is an architectural style for designing networked applications. A RESTful API follows REST principles.\n",
    "\n",
    "#### REST Principles:\n",
    "1. **Stateless**: Each request contains all information needed\n",
    "2. **Client-Server**: Separation of concerns\n",
    "3. **Cacheable**: Responses should be cacheable when possible\n",
    "4. **Uniform Interface**: Consistent way to interact with resources\n",
    "5. **Layered System**: Architecture can have multiple layers\n",
    "\n",
    "#### HTTP Methods (Verbs):\n",
    "- **GET**: Retrieve data (Read)\n",
    "- **POST**: Create new resources (Create)\n",
    "- **PUT**: Update entire resource (Update/Replace)\n",
    "- **PATCH**: Partial update (Modify)\n",
    "- **DELETE**: Remove resource (Delete)\n",
    "\n",
    "#### HTTP Status Codes:\n",
    "- **200**: OK - Success\n",
    "- **201**: Created - Resource created successfully\n",
    "- **400**: Bad Request - Invalid request\n",
    "- **401**: Unauthorized - Authentication required\n",
    "- **403**: Forbidden - Access denied\n",
    "- **404**: Not Found - Resource doesn't exist\n",
    "- **422**: Unprocessable Entity - Validation error\n",
    "- **500**: Internal Server Error - Server error\n",
    "\n",
    "### REST API Structure\n",
    "```\n",
    "GET    /users           # Get all users\n",
    "GET    /users/123       # Get user with ID 123\n",
    "POST   /users           # Create new user\n",
    "PUT    /users/123       # Update user 123 (full update)\n",
    "PATCH  /users/123       # Partially update user 123\n",
    "DELETE /users/123       # Delete user 123\n",
    "```"
   ]
  },
  {
   "cell_type": "code",
   "execution_count": null,
   "metadata": {},
   "outputs": [],
   "source": [
    "# FastAPI Installation and Setup\n",
    "# !pip install fastapi uvicorn\n",
    "\n",
    "from fastapi import FastAPI, HTTPException, Query, Path, Body, Depends\n",
    "from fastapi.responses import HTMLResponse\n",
    "from typing import List, Optional\n",
    "import uvicorn\n",
    "\n",
    "# Create FastAPI instance\n",
    "app = FastAPI(\n",
    "    title=\"My API\",\n",
    "    description=\"A sample API built with FastAPI\",\n",
    "    version=\"1.0.0\"\n",
    ")\n",
    "\n",
    "print(\"FastAPI app created!\")"
   ]
  },
  {
   "cell_type": "markdown",
   "metadata": {},
   "source": [
    "## Basic FastAPI Routes\n",
    "\n",
    "Let's create some basic API endpoints to understand how FastAPI works."
   ]
  },
  {
   "cell_type": "code",
   "execution_count": null,
   "metadata": {},
   "outputs": [],
   "source": [
    "# Basic Routes\n",
    "\n",
    "# Root endpoint\n",
    "@app.get(\"/\")\n",
    "async def root():\n",
    "    return {\"message\": \"Hello World\"}\n",
    "\n",
    "# Simple GET endpoint\n",
    "@app.get(\"/hello/{name}\")\n",
    "async def say_hello(name: str):\n",
    "    return {\"message\": f\"Hello {name}!\"}\n",
    "\n",
    "# GET with query parameters\n",
    "@app.get(\"/items/\")\n",
    "async def read_items(skip: int = 0, limit: int = 10):\n",
    "    return {\"skip\": skip, \"limit\": limit}\n",
    "\n",
    "# Multiple path parameters\n",
    "@app.get(\"/users/{user_id}/items/{item_id}\")\n",
    "async def read_user_item(user_id: int, item_id: str):\n",
    "    return {\"user_id\": user_id, \"item_id\": item_id}\n",
    "\n",
    "# Optional query parameters\n",
    "@app.get(\"/search/\")\n",
    "async def search_items(q: Optional[str] = None, category: str = \"all\"):\n",
    "    if q:\n",
    "        return {\"query\": q, \"category\": category, \"results\": f\"Results for '{q}' in {category}\"}\n",
    "    return {\"message\": \"No query provided\", \"category\": category}\n",
    "\n",
    "print(\"Basic routes defined!\")"
   ]
  },
  {
   "cell_type": "markdown",
   "metadata": {},
   "source": [
    "## Using Pydantic Models with FastAPI\n",
    "\n",
    "FastAPI integrates seamlessly with Pydantic for request/response validation."
   ]
  },
  {
   "cell_type": "code",
   "execution_count": null,
   "metadata": {},
   "outputs": [],
   "source": [
    "# Pydantic models for API\n",
    "class UserCreate(BaseModel):\n",
    "    username: str = Field(min_length=3, max_length=20)\n",
    "    email: str = Field(description=\"Valid email address\")\n",
    "    full_name: str\n",
    "    age: Optional[int] = Field(default=None, ge=0, le=150)\n",
    "\n",
    "class UserResponse(BaseModel):\n",
    "    id: int\n",
    "    username: str\n",
    "    email: str\n",
    "    full_name: str\n",
    "    age: Optional[int]\n",
    "    is_active: bool = True\n",
    "    created_at: datetime\n",
    "\n",
    "class UserUpdate(BaseModel):\n",
    "    username: Optional[str] = Field(default=None, min_length=3, max_length=20)\n",
    "    email: Optional[str] = None\n",
    "    full_name: Optional[str] = None\n",
    "    age: Optional[int] = Field(default=None, ge=0, le=150)\n",
    "    is_active: Optional[bool] = None\n",
    "\n",
    "# In-memory database (for demo purposes)\n",
    "fake_users_db = {}\n",
    "user_id_counter = 1\n",
    "\n",
    "# API endpoints with Pydantic models\n",
    "\n",
    "@app.post(\"/users/\", response_model=UserResponse)\n",
    "async def create_user(user: UserCreate):\n",
    "    global user_id_counter\n",
    "    \n",
    "    # Check if username already exists\n",
    "    for existing_user in fake_users_db.values():\n",
    "        if existing_user['username'] == user.username:\n",
    "            raise HTTPException(status_code=400, detail=\"Username already exists\")\n",
    "    \n",
    "    # Create new user\n",
    "    new_user = {\n",
    "        \"id\": user_id_counter,\n",
    "        \"username\": user.username,\n",
    "        \"email\": user.email,\n",
    "        \"full_name\": user.full_name,\n",
    "        \"age\": user.age,\n",
    "        \"is_active\": True,\n",
    "        \"created_at\": datetime.now()\n",
    "    }\n",
    "    \n",
    "    fake_users_db[user_id_counter] = new_user\n",
    "    user_id_counter += 1\n",
    "    \n",
    "    return new_user\n",
    "\n",
    "@app.get(\"/users/\", response_model=List[UserResponse])\n",
    "async def get_users(skip: int = 0, limit: int = 10):\n",
    "    users = list(fake_users_db.values())\n",
    "    return users[skip:skip + limit]\n",
    "\n",
    "@app.get(\"/users/{user_id}\", response_model=UserResponse)\n",
    "async def get_user(user_id: int = Path(description=\"The ID of the user to get\")):\n",
    "    if user_id not in fake_users_db:\n",
    "        raise HTTPException(status_code=404, detail=\"User not found\")\n",
    "    return fake_users_db[user_id]\n",
    "\n",
    "@app.put(\"/users/{user_id}\", response_model=UserResponse)\n",
    "async def update_user(user_id: int, user_update: UserUpdate):\n",
    "    if user_id not in fake_users_db:\n",
    "        raise HTTPException(status_code=404, detail=\"User not found\")\n",
    "    \n",
    "    stored_user = fake_users_db[user_id]\n",
    "    update_data = user_update.model_dump(exclude_unset=True)\n",
    "    \n",
    "    for field, value in update_data.items():\n",
    "        stored_user[field] = value\n",
    "    \n",
    "    return stored_user\n",
    "\n",
    "@app.delete(\"/users/{user_id}\")\n",
    "async def delete_user(user_id: int):\n",
    "    if user_id not in fake_users_db:\n",
    "        raise HTTPException(status_code=404, detail=\"User not found\")\n",
    "    \n",
    "    deleted_user = fake_users_db.pop(user_id)\n",
    "    return {\"message\": f\"User {deleted_user['username']} deleted successfully\"}\n",
    "\n",
    "print(\"User API endpoints defined!\")"
   ]
  },
  {
   "cell_type": "markdown",
   "metadata": {},
   "source": [
    "## Advanced FastAPI Features\n",
    "\n",
    "### Query Parameters with Validation\n",
    "### Dependencies\n",
    "### Error Handling\n",
    "### Background Tasks"
   ]
  },
  {
   "cell_type": "code",
   "execution_count": null,
   "metadata": {},
   "outputs": [],
   "source": [
    "# Advanced Query Parameters with Validation\n",
    "@app.get(\"/advanced-search/\")\n",
    "async def advanced_search(\n",
    "    q: str = Query(description=\"Search query\", min_length=1, max_length=50),\n",
    "    category: str = Query(default=\"all\", regex=\"^(all|books|electronics|clothing)$\"),\n",
    "    min_price: float = Query(default=0, ge=0, description=\"Minimum price\"),\n",
    "    max_price: float = Query(default=1000, le=10000, description=\"Maximum price\"),\n",
    "    sort_by: str = Query(default=\"relevance\", regex=\"^(relevance|price|date)$\"),\n",
    "    page: int = Query(default=1, ge=1, le=100, description=\"Page number\")\n",
    "):\n",
    "    return {\n",
    "        \"query\": q,\n",
    "        \"category\": category,\n",
    "        \"price_range\": {\"min\": min_price, \"max\": max_price},\n",
    "        \"sort_by\": sort_by,\n",
    "        \"page\": page,\n",
    "        \"results\": f\"Found results for '{q}' in {category}\"\n",
    "    }\n",
    "\n",
    "# Dependencies\n",
    "async def get_current_user_id(user_id: int = Query(description=\"Current user ID\")):\n",
    "    # In a real app, this would validate JWT token\n",
    "    if user_id <= 0:\n",
    "        raise HTTPException(status_code=400, detail=\"Invalid user ID\")\n",
    "    return user_id\n",
    "\n",
    "async def get_pagination_params(skip: int = Query(default=0, ge=0), limit: int = Query(default=10, ge=1, le=100)):\n",
    "    return {\"skip\": skip, \"limit\": limit}\n",
    "\n",
    "@app.get(\"/my-profile/\")\n",
    "async def get_my_profile(current_user_id: int = Depends(get_current_user_id)):\n",
    "    if current_user_id not in fake_users_db:\n",
    "        raise HTTPException(status_code=404, detail=\"User not found\")\n",
    "    return fake_users_db[current_user_id]\n",
    "\n",
    "@app.get(\"/users-paginated/\", response_model=List[UserResponse])\n",
    "async def get_users_paginated(\n",
    "    pagination: dict = Depends(get_pagination_params),\n",
    "    current_user_id: int = Depends(get_current_user_id)\n",
    "):\n",
    "    users = list(fake_users_db.values())\n",
    "    skip = pagination[\"skip\"]\n",
    "    limit = pagination[\"limit\"]\n",
    "    return users[skip:skip + limit]\n",
    "\n",
    "# Custom Exception Handler\n",
    "class CustomException(Exception):\n",
    "    def __init__(self, message: str):\n",
    "        self.message = message\n",
    "\n",
    "@app.exception_handler(CustomException)\n",
    "async def custom_exception_handler(request, exc: CustomException):\n",
    "    return {\"error\": \"Custom Error\", \"message\": exc.message, \"status_code\": 400}\n",
    "\n",
    "@app.get(\"/trigger-error/\")\n",
    "async def trigger_error():\n",
    "    raise CustomException(\"This is a custom error!\")\n",
    "\n",
    "# Background Tasks\n",
    "from fastapi import BackgroundTasks\n",
    "import time\n",
    "\n",
    "def write_log(message: str):\n",
    "    # Simulate time-consuming task\n",
    "    time.sleep(2)\n",
    "    print(f\"LOG: {message} - {datetime.now()}\")\n",
    "\n",
    "@app.post(\"/send-notification/\")\n",
    "async def send_notification(email: str, background_tasks: BackgroundTasks):\n",
    "    background_tasks.add_task(write_log, f\"Notification sent to {email}\")\n",
    "    return {\"message\": \"Notification will be sent in the background\"}\n",
    "\n",
    "# Health check endpoint\n",
    "@app.get(\"/health/\")\n",
    "async def health_check():\n",
    "    return {\n",
    "        \"status\": \"healthy\",\n",
    "        \"timestamp\": datetime.now(),\n",
    "        \"version\": \"1.0.0\",\n",
    "        \"users_count\": len(fake_users_db)\n",
    "    }\n",
    "\n",
    "print(\"Advanced FastAPI features added!\")"
   ]
  },
  {
   "cell_type": "markdown",
   "metadata": {},
   "source": [
    "## Running the FastAPI Server\n",
    "\n",
    "To run your FastAPI application, you have several options:"
   ]
  },
  {
   "cell_type": "code",
   "execution_count": null,
   "metadata": {},
   "outputs": [],
   "source": [
    "# Running FastAPI Server\n",
    "\n",
    "# Option 1: Run with uvicorn directly (uncomment to run)\n",
    "# if __name__ == \"__main__\":\n",
    "#     uvicorn.run(app, host=\"0.0.0.0\", port=8000)\n",
    "\n",
    "# Option 2: Save to a file (e.g., main.py) and run from terminal:\n",
    "# uvicorn main:app --reload\n",
    "\n",
    "# Option 3: Run in development mode with auto-reload\n",
    "# uvicorn main:app --reload --host 0.0.0.0 --port 8000\n",
    "\n",
    "# Get the OpenAPI schema\n",
    "print(\"=== OpenAPI Schema Info ===\")\n",
    "print(f\"Title: {app.title}\")\n",
    "print(f\"Version: {app.version}\")\n",
    "print(f\"Description: {app.description}\")\n",
    "\n",
    "# List all routes\n",
    "print(\"\\n=== Available Routes ===\")\n",
    "for route in app.routes:\n",
    "    if hasattr(route, 'methods') and hasattr(route, 'path'):\n",
    "        methods = ', '.join(route.methods)\n",
    "        print(f\"{methods}: {route.path}\")\n",
    "\n",
    "print(\"\\n🌐 Once running, visit:\")\n",
    "print(\"📖 Interactive docs: http://localhost:8000/docs\")\n",
    "print(\"📋 Alternative docs: http://localhost:8000/redoc\")\n",
    "print(\"🔧 OpenAPI schema: http://localhost:8000/openapi.json\")\n",
    "\n",
    "# Example of testing endpoints (you would normally use requests library)\n",
    "print(\"\\n=== Example API Usage ===\")\n",
    "print(\"# Create a user\")\n",
    "print(\"POST /users/\")\n",
    "print(\"Body: {\")\n",
    "print('  \"username\": \"johndoe\",')\n",
    "print('  \"email\": \"john@example.com\",')\n",
    "print('  \"full_name\": \"John Doe\",')\n",
    "print('  \"age\": 30')\n",
    "print(\"}\")\n",
    "\n",
    "print(\"\\n# Get all users\")\n",
    "print(\"GET /users/\")\n",
    "\n",
    "print(\"\\n# Get specific user\")\n",
    "print(\"GET /users/1\")\n",
    "\n",
    "print(\"\\n# Update user\")\n",
    "print(\"PUT /users/1\")\n",
    "print(\"Body: {\")\n",
    "print('  \"full_name\": \"John Smith\"')\n",
    "print(\"}\")\n",
    "\n",
    "print(\"\\n# Delete user\")\n",
    "print(\"DELETE /users/1\")"
   ]
  },
  {
   "cell_type": "markdown",
   "metadata": {},
   "source": [
    "## FastAPI vs Flask Comparison\n",
    "\n",
    "Let's compare FastAPI with Flask, the most popular Python web framework, to understand their differences and use cases."
   ]
  },
  {
   "cell_type": "code",
   "execution_count": null,
   "metadata": {},
   "outputs": [],
   "source": [
    "### 1. Basic API Structure Comparison\n",
    "\n",
    "#### Flask Version:\n",
    "```python\n",
    "from flask import Flask, request, jsonify\n",
    "\n",
    "app = Flask(__name__)\n",
    "\n",
    "@app.route('/')\n",
    "def hello():\n",
    "    return {\"message\": \"Hello World\"}\n",
    "\n",
    "@app.route('/users/<int:user_id>')\n",
    "def get_user(user_id):\n",
    "    return {\"user_id\": user_id}\n",
    "\n",
    "@app.route('/users', methods=['POST'])\n",
    "def create_user():\n",
    "    data = request.get_json()\n",
    "    # Manual validation required\n",
    "    if not data or 'name' not in data:\n",
    "        return {\"error\": \"Name is required\"}, 400\n",
    "    return {\"message\": f\"User {data['name']} created\"}, 201\n",
    "\n",
    "if __name__ == '__main__':\n",
    "    app.run(debug=True)\n",
    "```\n",
    "\n",
    "#### FastAPI Version:\n",
    "```python\n",
    "from fastapi import FastAPI\n",
    "from pydantic import BaseModel\n",
    "\n",
    "app = FastAPI()\n",
    "\n",
    "class UserCreate(BaseModel):\n",
    "    name: str\n",
    "\n",
    "@app.get(\"/\")\n",
    "async def hello():\n",
    "    return {\"message\": \"Hello World\"}\n",
    "\n",
    "@app.get(\"/users/{user_id}\")\n",
    "async def get_user(user_id: int):\n",
    "    return {\"user_id\": user_id}\n",
    "\n",
    "@app.post(\"/users/\")\n",
    "async def create_user(user: UserCreate):\n",
    "    # Automatic validation with Pydantic\n",
    "    return {\"message\": f\"User {user.name} created\"}\n",
    "\n",
    "# Run with: uvicorn main:app --reload\n",
    "```"
   ]
  },
  {
   "cell_type": "code",
   "execution_count": null,
   "metadata": {},
   "outputs": [],
   "source": [
    "### 2. Request Validation Comparison\n",
    "\n",
    "**Flask**: Manual validation (tedious and error-prone)  \n",
    "**FastAPI**: Automatic validation with Pydantic (declarative and robust)"
   ]
  },
  {
   "cell_type": "code",
   "execution_count": null,
   "metadata": {},
   "outputs": [],
   "source": [
    "# Demonstration of validation differences\n",
    "print(\"=== VALIDATION COMPARISON DEMO ===\\n\")\n",
    "\n",
    "# Simulate Flask-style manual validation\n",
    "def flask_style_validation():\n",
    "    print(\"🌶️ FLASK - Manual Validation:\")\n",
    "    \n",
    "    # Simulating request data\n",
    "    request_data = {\"name\": \"John\", \"age\": \"not_a_number\", \"email\": \"invalid_email\"}\n",
    "    \n",
    "    errors = []\n",
    "    \n",
    "    # Manual validation (tedious!)\n",
    "    if 'name' not in request_data:\n",
    "        errors.append(\"Name is required\")\n",
    "    elif len(request_data['name']) < 2:\n",
    "        errors.append(\"Name too short\")\n",
    "    \n",
    "    if 'age' in request_data:\n",
    "        try:\n",
    "            age = int(request_data['age'])\n",
    "            if age < 0:\n",
    "                errors.append(\"Age cannot be negative\")\n",
    "        except ValueError:\n",
    "            errors.append(\"Age must be a number\")\n",
    "    \n",
    "    if 'email' in request_data:\n",
    "        if '@' not in request_data['email']:\n",
    "            errors.append(\"Invalid email format\")\n",
    "    \n",
    "    if errors:\n",
    "        print(f\"❌ Validation errors: {errors}\")\n",
    "        return False\n",
    "    \n",
    "    print(\"✅ Validation passed\")\n",
    "    return True\n",
    "\n",
    "# FastAPI automatic validation\n",
    "class UserValidation(BaseModel):\n",
    "    name: str = Field(min_length=2)\n",
    "    age: int = Field(ge=0)\n",
    "    email: str = Field(regex=r'^[^@]+@[^@]+\\.[^@]+$')\n",
    "\n",
    "def fastapi_style_validation():\n",
    "    print(\"\\n⚡ FASTAPI - Automatic Validation:\")\n",
    "    \n",
    "    request_data = {\"name\": \"John\", \"age\": \"not_a_number\", \"email\": \"invalid_email\"}\n",
    "    \n",
    "    try:\n",
    "        user = UserValidation(**request_data)\n",
    "        print(\"✅ Validation passed\")\n",
    "        return True\n",
    "    except ValidationError as e:\n",
    "        print(f\"❌ Validation errors:\")\n",
    "        for error in e.errors():\n",
    "            print(f\"   {error['loc'][0]}: {error['msg']}\")\n",
    "        return False\n",
    "\n",
    "flask_style_validation()\n",
    "fastapi_style_validation()"
   ]
  },
  {
   "cell_type": "code",
   "execution_count": null,
   "metadata": {},
   "outputs": [],
   "source": [
    "### 3. Async Support Comparison\n",
    "\n",
    "**Flask**: Synchronous by default (blocking operations)  \n",
    "**FastAPI**: Native async/await support (concurrent processing)"
   ]
  },
  {
   "cell_type": "code",
   "execution_count": null,
   "metadata": {},
   "outputs": [],
   "source": [
    "# Async Support Demonstration\n",
    "import asyncio\n",
    "import time\n",
    "\n",
    "print(\"=== ASYNC SUPPORT DEMO ===\\n\")\n",
    "\n",
    "# Flask - Synchronous (blocking)\n",
    "def flask_sync_endpoint():\n",
    "    print(\"🌶️ FLASK - Synchronous:\")\n",
    "    start = time.time()\n",
    "    \n",
    "    # Simulate database call\n",
    "    time.sleep(0.1)  # Blocking call\n",
    "    \n",
    "    end = time.time()\n",
    "    print(f\"✅ Request completed in {end - start:.3f}s\")\n",
    "    return {\"data\": \"result\"}\n",
    "\n",
    "# FastAPI - Asynchronous (non-blocking)\n",
    "async def fastapi_async_endpoint():\n",
    "    print(\"\\n⚡ FASTAPI - Asynchronous:\")\n",
    "    start = time.time()\n",
    "    \n",
    "    # Simulate async database call\n",
    "    await asyncio.sleep(0.1)  # Non-blocking call\n",
    "    \n",
    "    end = time.time()\n",
    "    print(f\"✅ Request completed in {end - start:.3f}s\")\n",
    "    return {\"data\": \"result\"}\n",
    "\n",
    "# Demonstrate the difference\n",
    "print(\"Single request timing:\")\n",
    "flask_sync_endpoint()\n",
    "asyncio.run(fastapi_async_endpoint())\n",
    "\n",
    "print(\"\\nConcurrency simulation (5 requests):\")\n",
    "\n",
    "# Flask-style sequential processing\n",
    "def simulate_flask_concurrent():\n",
    "    start = time.time()\n",
    "    for i in range(5):\n",
    "        time.sleep(0.1)  # Each request blocks\n",
    "    end = time.time()\n",
    "    print(f\"🌶️ Flask (sequential): {end - start:.3f}s for 5 requests\")\n",
    "\n",
    "# FastAPI-style concurrent processing\n",
    "async def simulate_fastapi_concurrent():\n",
    "    start = time.time()\n",
    "    tasks = [asyncio.sleep(0.1) for _ in range(5)]\n",
    "    await asyncio.gather(*tasks)  # All requests processed concurrently\n",
    "    end = time.time()\n",
    "    print(f\"⚡ FastAPI (concurrent): {end - start:.3f}s for 5 requests\")\n",
    "\n",
    "simulate_flask_concurrent()\n",
    "asyncio.run(simulate_fastapi_concurrent())"
   ]
  },
  {
   "cell_type": "code",
   "execution_count": null,
   "metadata": {},
   "outputs": [],
   "source": [
    "### 4. Documentation and Type Hints Comparison\n",
    "\n",
    "#### Documentation:\n",
    "\n",
    "| Feature | Flask | FastAPI |\n",
    "|---------|-------|---------|\n",
    "| Auto Documentation | ❌ No | ✅ Built-in |\n",
    "| API Schema | ❌ Manual | ✅ OpenAPI |\n",
    "| Interactive Docs | ⚠️ Extensions | ✅ Swagger UI, ReDoc |\n",
    "| Schema Validation | ❌ No | ✅ Yes |\n",
    "\n",
    "#### Type Hints and IDE Support:\n",
    "\n",
    "| Feature | Flask | FastAPI |\n",
    "|---------|-------|---------|\n",
    "| Type Hint Support | ⚠️ Limited | ✅ Full Support |\n",
    "| Path Parameters | ❌ Always strings | ✅ Auto conversion |\n",
    "| Request Validation | ❌ Manual | ✅ Automatic |\n",
    "| IDE Autocomplete | ⚠️ Basic | ✅ Excellent |\n",
    "\n",
    "**FastAPI Documentation URLs:**\n",
    "- 📖 Interactive docs: `/docs`\n",
    "- 📋 Alternative docs: `/redoc`\n",
    "- 🔧 OpenAPI schema: `/openapi.json`"
   ]
  },
  {
   "cell_type": "code",
   "execution_count": null,
   "metadata": {},
   "outputs": [],
   "source": [
    "### 5. Performance Comparison\n",
    "\n",
    "#### Typical Benchmarks:\n",
    "- **Flask**: ~30,000 requests/second\n",
    "- **FastAPI**: ~60,000+ requests/second (with async)\n",
    "\n",
    "> **Note**: FastAPI often performs better due to async support and optimized internals"
   ]
  },
  {
   "cell_type": "code",
   "execution_count": null,
   "metadata": {},
   "outputs": [],
   "source": [
    "# Performance Testing Demo\n",
    "import time\n",
    "\n",
    "def performance_test():\n",
    "    print(\"=== PERFORMANCE COMPARISON DEMO ===\\n\")\n",
    "    \n",
    "    # Simulate request processing\n",
    "    iterations = 1000\n",
    "    \n",
    "    # Flask-style processing (synchronous)\n",
    "    start = time.time()\n",
    "    for _ in range(iterations):\n",
    "        # Simulate request handling overhead\n",
    "        data = {\"name\": \"test\", \"age\": 25}\n",
    "        # Manual validation would add overhead\n",
    "        pass\n",
    "    flask_time = time.time() - start\n",
    "    \n",
    "    # FastAPI-style processing (with validation)\n",
    "    class TestModel(BaseModel):\n",
    "        name: str\n",
    "        age: int\n",
    "    \n",
    "    start = time.time()\n",
    "    for _ in range(iterations):\n",
    "        # Automatic validation and serialization\n",
    "        data = {\"name\": \"test\", \"age\": 25}\n",
    "        TestModel(**data)\n",
    "    fastapi_time = time.time() - start\n",
    "    \n",
    "    print(f\"🌶️ Flask-style ({iterations} requests): {flask_time:.4f}s\")\n",
    "    print(f\"⚡ FastAPI-style ({iterations} requests): {fastapi_time:.4f}s\")\n",
    "    \n",
    "    if fastapi_time > flask_time:\n",
    "        print(f\"📊 FastAPI overhead: {((fastapi_time / flask_time - 1) * 100):.1f}% (due to validation)\")\n",
    "    else:\n",
    "        print(f\"📊 FastAPI is {((flask_time / fastapi_time - 1) * 100):.1f}% faster\")\n",
    "\n",
    "performance_test()"
   ]
  },
  {
   "cell_type": "code",
   "execution_count": null,
   "metadata": {},
   "outputs": [],
   "source": [
    "### 6. Ecosystem and Extensions Comparison\n",
    "\n",
    "| Feature | Flask | FastAPI |\n",
    "|---------|-------|---------|\n",
    "| **Template Engine** | Jinja2 (built-in) | Jinja2 (optional) |\n",
    "| **Database ORM** | SQLAlchemy (Flask-SQLAlchemy) | SQLAlchemy, Tortoise ORM |\n",
    "| **Authentication** | Flask-Login, Flask-JWT-Extended | Built-in OAuth2/JWT support |\n",
    "| **API Documentation** | Flask-RESTX, Flask-Swagger | Built-in (Swagger UI, ReDoc) |\n",
    "| **Validation** | WTForms, Marshmallow | Pydantic (built-in) |\n",
    "| **Testing** | pytest, Flask's test client | pytest, TestClient (built-in) |\n",
    "| **Admin Interface** | Flask-Admin | FastAPI-Admin, SQLAdmin |\n",
    "| **Migration** | Flask-Migrate | Alembic |\n",
    "| **Caching** | Flask-Caching | aiocache, Redis |\n",
    "| **Background Tasks** | Celery | Built-in background tasks, Celery |"
   ]
  },
  {
   "cell_type": "code",
   "execution_count": null,
   "metadata": {},
   "outputs": [],
   "source": [
    "### 7. Use Cases and Learning Curve\n",
    "\n",
    "#### 🌶️ Flask Best For:\n",
    "- 🌐 Traditional web applications with templates\n",
    "- 📊 Admin dashboards and internal tools\n",
    "- 🔧 Microservices with simple requirements\n",
    "- 📚 Educational projects and prototypes\n",
    "- 🎨 Applications requiring fine-grained control\n",
    "- 💼 Existing codebases with Flask integration\n",
    "\n",
    "#### ⚡ FastAPI Best For:\n",
    "- 🚀 Modern REST APIs and microservices\n",
    "- 📱 Mobile app backends\n",
    "- 🤖 Machine learning model serving\n",
    "- 🔗 API-first applications\n",
    "- ⚡ High-performance real-time applications\n",
    "- 📈 Data science and analytics APIs\n",
    "- 🔄 Integration APIs and webhooks\n",
    "\n",
    "#### Learning and Development Comparison:\n",
    "\n",
    "| Aspect | Flask | FastAPI |\n",
    "|--------|-------|---------|\n",
    "| **Beginner Friendliness** | ✅ Very Easy | ⚠️ Medium |\n",
    "| **Documentation Quality** | ✅ Excellent | ✅ Excellent |\n",
    "| **Community Size** | ✅ Large | ⚠️ Growing |\n",
    "| **Job Market** | ✅ Many opportunities | 📈 Rapidly growing |\n",
    "| **Development Speed** | ⚠️ Slower (more setup) | ✅ Faster (less boilerplate) |\n",
    "| **Debugging** | ✅ Mature tools | ✅ Good tools |\n",
    "| **Type Safety** | ❌ Limited | ✅ Excellent |\n",
    "| **Modern Features** | ⚠️ Requires extensions | ✅ Built-in |"
   ]
  },
  {
   "cell_type": "code",
   "execution_count": null,
   "metadata": {},
   "outputs": [],
   "source": [
    "### 8. Comprehensive Feature Comparison\n",
    "\n",
    "| Feature | Flask | FastAPI |\n",
    "|---------|-------|---------|\n",
    "| **Released** | 2010 | 2018 |\n",
    "| **Type Hints** | ⚠️ Limited | ✅ Full Support |\n",
    "| **Async/Await** | ⚠️ Extension | ✅ Native |\n",
    "| **Auto Documentation** | ❌ No | ✅ Built-in |\n",
    "| **Request Validation** | ❌ Manual | ✅ Automatic |\n",
    "| **Response Serialization** | ❌ Manual | ✅ Automatic |\n",
    "| **Performance** | ⚠️ Good | ✅ Excellent |\n",
    "| **Learning Curve** | ✅ Easy | ⚠️ Medium |\n",
    "| **Community** | ✅ Large | 📈 Growing |\n",
    "| **Flexibility** | ✅ High | ⚠️ Opinionated |\n",
    "| **Boilerplate** | ⚠️ More | ✅ Less |\n",
    "| **Testing** | ✅ Mature | ✅ Excellent |\n",
    "| **Deployment** | ✅ Many options | ✅ Modern options |\n",
    "| **WebSocket Support** | ⚠️ Extension | ✅ Built-in |\n",
    "| **Background Tasks** | ⚠️ External | ✅ Built-in |\n",
    "| **Dependency Injection** | ❌ Manual | ✅ Built-in |\n",
    "| **OpenAPI Schema** | ⚠️ Extension | ✅ Automatic |\n",
    "| **Production Ready** | ✅ Very Mature | ✅ Production Ready |"
   ]
  },
  {
   "cell_type": "code",
   "execution_count": null,
   "metadata": {},
   "outputs": [],
   "source": [
    "### 9. Migration Considerations and Final Recommendations\n",
    "\n",
    "#### 🔄 Flask to FastAPI Migration:\n",
    "- ✅ Similar routing concepts\n",
    "- ✅ Can reuse business logic\n",
    "- ⚠️ Need to add Pydantic models\n",
    "- ⚠️ Convert to async (optional but recommended)\n",
    "- ⚠️ Update dependencies and middleware\n",
    "- ✅ Testing patterns are similar\n",
    "\n",
    "#### 📈 FastAPI to Flask Migration:\n",
    "- ⚠️ Lose automatic validation\n",
    "- ⚠️ Need manual documentation\n",
    "- ⚠️ More boilerplate code required\n",
    "- ✅ More flexibility in some areas\n",
    "- ⚠️ May need additional extensions\n",
    "\n",
    "---\n",
    "\n",
    "## 🎯 Final Recommendations\n",
    "\n",
    "### 🌶️ Choose Flask When:\n",
    "- Building traditional web applications\n",
    "- Need maximum flexibility and control\n",
    "- Team is new to web development\n",
    "- Working with legacy systems\n",
    "- Building simple, small applications\n",
    "- Fine-grained customization is required\n",
    "\n",
    "### ⚡ Choose FastAPI When:\n",
    "- Building modern APIs\n",
    "- Type safety is important\n",
    "- Need automatic documentation\n",
    "- Performance is critical\n",
    "- Building microservices\n",
    "- Team values modern Python features\n",
    "- Integrating with ML/AI models\n",
    "\n",
    "---\n",
    "\n",
    "## 🎯 Conclusion\n",
    "\n",
    "**Both frameworks are excellent choices!**\n",
    "\n",
    "- **Flask**: Mature, flexible, great for learning\n",
    "- **FastAPI**: Modern, fast, API-focused\n",
    "\n",
    "**Choice depends on project requirements and team preferences**"
   ]
  },
  {
   "cell_type": "markdown",
   "metadata": {},
   "source": [
    "## Testing Your API\n",
    "\n",
    "FastAPI makes it easy to test your API endpoints."
   ]
  },
  {
   "cell_type": "code",
   "execution_count": null,
   "metadata": {},
   "outputs": [],
   "source": [
    "# Testing FastAPI with TestClient\n",
    "from fastapi.testclient import TestClient\n",
    "\n",
    "# Create a test client\n",
    "client = TestClient(app)\n",
    "\n",
    "def test_api_endpoints():\n",
    "    print(\"=== Testing API Endpoints ===\")\n",
    "    \n",
    "    # Test root endpoint\n",
    "    response = client.get(\"/\")\n",
    "    print(f\"GET /: {response.status_code} - {response.json()}\")\n",
    "    \n",
    "    # Test hello endpoint\n",
    "    response = client.get(\"/hello/FastAPI\")\n",
    "    print(f\"GET /hello/FastAPI: {response.status_code} - {response.json()}\")\n",
    "    \n",
    "    # Test search with query parameters\n",
    "    response = client.get(\"/search/?q=python&category=books\")\n",
    "    print(f\"GET /search/: {response.status_code} - {response.json()}\")\n",
    "    \n",
    "    # Test creating a user\n",
    "    user_data = {\n",
    "        \"username\": \"testuser\",\n",
    "        \"email\": \"test@example.com\",\n",
    "        \"full_name\": \"Test User\",\n",
    "        \"age\": 25\n",
    "    }\n",
    "    response = client.post(\"/users/\", json=user_data)\n",
    "    print(f\"POST /users/: {response.status_code} - {response.json()}\")\n",
    "    \n",
    "    if response.status_code == 200:\n",
    "        user_id = response.json()[\"id\"]\n",
    "        \n",
    "        # Test getting the user\n",
    "        response = client.get(f\"/users/{user_id}\")\n",
    "        print(f\"GET /users/{user_id}: {response.status_code} - {response.json()}\")\n",
    "        \n",
    "        # Test updating the user\n",
    "        update_data = {\"full_name\": \"Updated Test User\"}\n",
    "        response = client.put(f\"/users/{user_id}\", json=update_data)\n",
    "        print(f\"PUT /users/{user_id}: {response.status_code} - {response.json()}\")\n",
    "        \n",
    "        # Test getting all users\n",
    "        response = client.get(\"/users/\")\n",
    "        print(f\"GET /users/: {response.status_code} - Found {len(response.json())} users\")\n",
    "    \n",
    "    # Test error handling\n",
    "    response = client.get(\"/users/999\")  # Non-existent user\n",
    "    print(f\"GET /users/999 (not found): {response.status_code} - {response.json()}\")\n",
    "    \n",
    "    # Test validation error\n",
    "    invalid_user = {\"username\": \"ab\", \"email\": \"invalid\"}  # Too short username, invalid email\n",
    "    response = client.post(\"/users/\", json=invalid_user)\n",
    "    print(f\"POST /users/ (invalid): {response.status_code} - {response.json()}\")\n",
    "\n",
    "# Run the tests\n",
    "test_api_endpoints()"
   ]
  },
  {
   "cell_type": "markdown",
   "metadata": {},
   "source": [
    "## Best Practices\n",
    "\n",
    "### Pydantic Best Practices:\n",
    "1. **Use Field constraints** for validation\n",
    "2. **Create separate models** for requests and responses\n",
    "3. **Use custom validators** for complex validation logic\n",
    "4. **Leverage type hints** for better IDE support\n",
    "5. **Document your models** with descriptions\n",
    "\n",
    "### FastAPI Best Practices:\n",
    "1. **Use dependency injection** for reusable logic\n",
    "2. **Separate concerns** - models, routes, business logic\n",
    "3. **Handle errors gracefully** with proper HTTP status codes\n",
    "4. **Use background tasks** for time-consuming operations\n",
    "5. **Add proper documentation** to your endpoints\n",
    "6. **Use environment variables** for configuration\n",
    "7. **Implement proper authentication** and authorization\n",
    "8. **Add logging** for debugging and monitoring\n",
    "\n",
    "### Project Structure:\n",
    "```\n",
    "my_fastapi_project/\n",
    "├── app/\n",
    "│   ├── __init__.py\n",
    "│   ├── main.py          # FastAPI app\n",
    "│   ├── models/          # Pydantic models\n",
    "│   │   ├── __init__.py\n",
    "│   │   └── user.py\n",
    "│   ├── routers/         # API routes\n",
    "│   │   ├── __init__.py\n",
    "│   │   └── users.py\n",
    "│   ├── dependencies/    # Dependency functions\n",
    "│   │   ├── __init__.py\n",
    "│   │   └── auth.py\n",
    "│   └── database/        # Database connection\n",
    "│       ├── __init__.py\n",
    "│       └── connection.py\n",
    "├── tests/               # Test files\n",
    "├── requirements.txt     # Dependencies\n",
    "└── README.md           # Documentation\n",
    "```\n",
    "\n",
    "## Summary\n",
    "\n",
    "### What We Learned:\n",
    "\n",
    "#### Pydantic:\n",
    "- ✅ Data validation with type hints\n",
    "- ✅ Field constraints and custom validators\n",
    "- ✅ Nested models and complex structures\n",
    "- ✅ Automatic type conversion\n",
    "- ✅ Detailed error messages\n",
    "\n",
    "#### FastAPI:\n",
    "- ✅ REST API principles and HTTP methods\n",
    "- ✅ Creating API endpoints with different HTTP methods\n",
    "- ✅ Request/response validation with Pydantic\n",
    "- ✅ Query parameters and path parameters\n",
    "- ✅ Dependency injection\n",
    "- ✅ Error handling and custom exceptions\n",
    "- ✅ Background tasks\n",
    "- ✅ Automatic API documentation\n",
    "- ✅ Testing with TestClient\n",
    "\n",
    "### Next Steps:\n",
    "1. **Database Integration** - Use SQLAlchemy or other ORMs\n",
    "2. **Authentication** - Implement JWT or OAuth2\n",
    "3. **Middleware** - Add CORS, logging, rate limiting\n",
    "4. **Deployment** - Deploy to production with Docker\n",
    "5. **Monitoring** - Add health checks and metrics\n",
    "6. **Security** - Input sanitization, rate limiting"
   ]
  },
  {
   "cell_type": "markdown",
   "metadata": {},
   "source": [
    "# 🛠️ Գործնական\n",
    "\n",
    "## Exercise 1: Pydantic Models\n",
    "Create a `Book` model with the following fields:\n",
    "- `id`: integer (positive)\n",
    "- `title`: string (3-100 characters)\n",
    "- `author`: string (2-50 characters)  \n",
    "- `isbn`: string (must match ISBN-10 or ISBN-13 format)\n",
    "- `price`: float (positive)\n",
    "- `publication_year`: integer (1900-2024)\n",
    "- `genre`: enum (fiction, non-fiction, science, history, biography)\n",
    "- `available`: boolean (default True)\n",
    "\n",
    "Add custom validators to ensure:\n",
    "- ISBN format is correct\n",
    "- Publication year is not in the future\n",
    "- Title and author don't contain only numbers\n",
    "\n",
    "## Exercise 2: FastAPI Blog API\n",
    "Create a simple blog API with the following endpoints:\n",
    "\n",
    "### Models needed:\n",
    "- `Post` (id, title, content, author_id, created_at, published)\n",
    "- `Author` (id, name, email, bio)\n",
    "- `Comment` (id, post_id, author_name, content, created_at)\n",
    "\n",
    "### Endpoints to implement:\n",
    "- `GET /posts/` - Get all posts (with pagination)\n",
    "- `GET /posts/{post_id}` - Get specific post\n",
    "- `POST /posts/` - Create new post\n",
    "- `PUT /posts/{post_id}` - Update post\n",
    "- `DELETE /posts/{post_id}` - Delete post\n",
    "- `GET /posts/{post_id}/comments` - Get post comments\n",
    "- `POST /posts/{post_id}/comments` - Add comment to post\n",
    "- `GET /authors/` - Get all authors\n",
    "- `POST /authors/` - Create new author\n",
    "\n",
    "## Exercise 3: Advanced Features\n",
    "Extend the blog API with:\n",
    "- Search functionality (by title, author, content)\n",
    "- Filtering (by publication date, author, published status)\n",
    "- Authentication simulation (using dependency injection)\n",
    "- Error handling for all edge cases\n",
    "- Background task for sending \"new post\" notifications\n",
    "\n",
    "## Challenge: E-commerce API\n",
    "Create a mini e-commerce API with products, orders, and customers:\n",
    "- Implement proper relationships between models\n",
    "- Add inventory management\n",
    "- Include order status tracking\n",
    "- Add product search and filtering\n",
    "- Implement proper error handling and validation"
   ]
  },
  {
   "cell_type": "markdown",
   "metadata": {},
   "source": [
    "# 🏡Տնային\n",
    "\n",
    "## Homework 1: Library Management System (Pydantic Focus)\n",
    "Create Pydantic models for a library management system:\n",
    "\n",
    "### Required Models:\n",
    "1. **Member**\n",
    "   - member_id, name, email, phone, address, membership_date\n",
    "   - Add validation for email and phone formats\n",
    "   - Add age calculation from birth_date\n",
    "\n",
    "2. **Book** \n",
    "   - book_id, title, authors (list), isbn, genre, publication_year, pages\n",
    "   - Custom validator for ISBN format\n",
    "   - Ensure publication_year is reasonable\n",
    "\n",
    "3. **BorrowRecord**\n",
    "   - record_id, member_id, book_id, borrow_date, due_date, return_date\n",
    "   - Automatically calculate due_date (14 days from borrow_date)\n",
    "   - Validate that return_date is not before borrow_date\n",
    "\n",
    "### Requirements:\n",
    "- Use proper Field constraints\n",
    "- Add comprehensive custom validators\n",
    "- Include proper error handling examples\n",
    "- Create test data and demonstrate validation\n",
    "\n",
    "## Homework 2: Task Management API (FastAPI Focus)  \n",
    "Build a complete task management REST API:\n",
    "\n",
    "### Features Required:\n",
    "1. **User Management**\n",
    "   - Register, login (simulation), get profile\n",
    "   - Users can only access their own tasks\n",
    "\n",
    "2. **Task Management**\n",
    "   - CRUD operations for tasks\n",
    "   - Tasks have: title, description, status, priority, due_date, assigned_user\n",
    "   - Filter tasks by status, priority, due date\n",
    "   - Search tasks by title/description\n",
    "\n",
    "3. **Advanced Features**\n",
    "   - Task status transitions (todo → in_progress → done)\n",
    "   - Bulk operations (mark multiple tasks as done)\n",
    "   - Task statistics endpoint\n",
    "   - Export tasks to JSON\n",
    "\n",
    "### Technical Requirements:\n",
    "- Use proper HTTP status codes\n",
    "- Implement comprehensive error handling\n",
    "- Add request/response logging\n",
    "- Include API documentation\n",
    "- Write unit tests for all endpoints\n",
    "- Use dependency injection for user authentication\n",
    "\n",
    "## Homework 3: Integration Project\n",
    "Combine both technologies to create a **Recipe Sharing Platform**:\n",
    "\n",
    "### Models (Pydantic):\n",
    "- User, Recipe, Ingredient, Review, Category\n",
    "- Complex validation rules\n",
    "- Nested structures for ingredients with quantities\n",
    "\n",
    "### API (FastAPI):\n",
    "- Complete CRUD for all entities\n",
    "- Recipe search and filtering\n",
    "- User authentication simulation\n",
    "- Recipe rating system\n",
    "- Favorite recipes functionality\n",
    "- Recipe recommendation endpoint\n",
    "\n",
    "### Deliverables:\n",
    "1. Working FastAPI application\n",
    "2. Comprehensive test suite\n",
    "3. API documentation (auto-generated + manual)\n",
    "4. Example client code showing API usage\n",
    "5. Performance considerations document\n",
    "\n",
    "### Bonus Points:\n",
    "- Implement caching for frequently accessed recipes\n",
    "- Add image upload simulation for recipes\n",
    "- Create a simple HTML frontend\n",
    "- Add rate limiting for API endpoints\n",
    "- Implement soft delete functionality"
   ]
  },
  {
   "cell_type": "markdown",
   "metadata": {},
   "source": [
    "# 🎲 00\n",
    "- ▶️[Video]()\n",
    "- 🔗[Random link]()\n",
    "- 🇦🇲🎶[]()\n",
    "- 🌐🎶[]()\n",
    "- 🤌[Կարգին]()"
   ]
  },
  {
   "cell_type": "markdown",
   "metadata": {
    "id": "TfbUegKqXVyH"
   },
   "source": [
    "\n",
    "<a href=\"http://s01.flagcounter.com/more/1oO\"><img src=\"https://s01.flagcounter.com/count2/1oO/bg_FFFFFF/txt_000000/border_CCCCCC/columns_2/maxflags_10/viewers_0/labels_0/pageviews_1/flags_0/percent_0/\" alt=\"Flag Counter\"></a>\n"
   ]
  }
 ],
 "metadata": {
  "colab": {
   "authorship_tag": "ABX9TyOx7X+DxNeKu1zUVVCmsSHJ",
   "provenance": [
    {
     "file_id": "1_9UtYmPVVGmnWIKdBzPYkbtTlTbd0clo",
     "timestamp": 1735604987843
    },
    {
     "file_id": "15x56uwwONMo_ilzUJgt6UcX1d552xH6X",
     "timestamp": 1708441161475
    },
    {
     "file_id": "1LbG88IWtk30WlIoINzG4_vXHoJAvoDaP",
     "timestamp": 1683614319950
    }
   ]
  },
  "kernelspec": {
   "display_name": "sl",
   "language": "python",
   "name": "python3"
  },
  "language_info": {
   "codemirror_mode": {
    "name": "ipython",
    "version": 3
   },
   "file_extension": ".py",
   "mimetype": "text/x-python",
   "name": "python",
   "nbconvert_exporter": "python",
   "pygments_lexer": "ipython3",
   "version": "3.10.16"
  }
 },
 "nbformat": 4,
 "nbformat_minor": 0
}

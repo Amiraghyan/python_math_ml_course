{
 "cells": [
  {
   "cell_type": "raw",
   "metadata": {
    "vscode": {
     "languageId": "raw"
    }
   },
   "source": [
    "---\n",
    "title: \"13 FastAPI, Pydantic\"\n",
    "lightbox: true\n",
    "format: \n",
    "  html:\n",
    "    code-fold: false\n",
    "number-offset: 1\n",
    "---"
   ]
  },
  {
   "cell_type": "markdown",
   "metadata": {
    "vscode": {
     "languageId": "raw"
    }
   },
   "source": [
    "![image.png](../background_photos/libs_13_arty_stolbs.jpg)\n",
    "[լուսանկարի հղումը](https://unsplash.com/photos/Zn8psrnZiE4), Հեղինակ՝ [Aram Ramazyan](https://unsplash.com/@alien4you2)"
   ]
  },
  {
   "cell_type": "markdown",
   "metadata": {
    "vscode": {
     "languageId": "raw"
    }
   },
   "source": [
    "<a href=\"ToDo\" target=\"_parent\"><img src=\"https://colab.research.google.com/assets/colab-badge.svg\" alt=\"Open In Colab\"/></a> (ToDo)"
   ]
  },
  {
   "cell_type": "markdown",
   "metadata": {
    "vscode": {
     "languageId": "raw"
    }
   },
   "source": [
    "> Song reference - ToDo"
   ]
  },
  {
   "cell_type": "markdown",
   "metadata": {
    "vscode": {
     "languageId": "raw"
    }
   },
   "source": [
    "# 📌 Նկարագիր\n",
    "\n",
    "[📚 Ամբողջական նյութը]()\n",
    "\n",
    "#### 📺 Տեսանյութեր\n",
    "#### 🏡 Տնային"
   ]
  },
  {
   "cell_type": "markdown",
   "metadata": {
    "vscode": {
     "languageId": "raw"
    }
   },
   "source": [
    "# 📚 Pydantic Tutorial\n",
    "\n",
    "## What is Pydantic?\n",
    "\n",
    "**Pydantic** is a Python library that provides data validation and settings management using Python type annotations. It's designed to make data validation simple, fast, and reliable.\n",
    "\n",
    "### Key Features:\n",
    "- **Type Safety**: Uses Python type hints for validation\n",
    "- **Fast**: Written in Rust (v2) for performance\n",
    "- **Easy to Use**: Intuitive API design\n",
    "- **Comprehensive**: Supports complex data structures\n",
    "- **Integration**: Works seamlessly with FastAPI\n",
    "\n",
    "### Why Use Pydantic?\n",
    "1. **Data Validation**: Automatically validates input data\n",
    "2. **Type Conversion**: Converts compatible types automatically\n",
    "3. **Error Handling**: Provides detailed error messages\n",
    "4. **Documentation**: Auto-generates JSON schemas\n",
    "5. **IDE Support**: Full type checking and autocomplete\n",
    "\n",
    "## Installation\n",
    "\n",
    "```bash\n",
    "pip install pydantic\n",
    "```\n",
    "\n",
    "For email validation and other extras:\n",
    "```bash\n",
    "pip install pydantic[email]\n",
    "```"
   ]
  },
  {
   "cell_type": "markdown",
   "metadata": {},
   "source": [
    "Reminder - [dataclasses](../python/17_dataclass_iterator_generator_context_manager.ipynb)"
   ]
  },
  {
   "cell_type": "markdown",
   "metadata": {},
   "source": [
    "\n",
    "- [docs](https://docs.pydantic.dev/latest/)\n",
    "- [16 minute video by ArjanCodes](https://www.youtube.com/watch?v=Vj-iU-8_xLs)\n",
    "- [10 minute video comparing different data classes by mCoding](https://www.youtube.com/watch?v=vCLetdhswMg)"
   ]
  },
  {
   "cell_type": "code",
   "execution_count": null,
   "metadata": {},
   "outputs": [],
   "source": [
    "!pip install pydantic"
   ]
  },
  {
   "cell_type": "code",
   "execution_count": 34,
   "metadata": {},
   "outputs": [],
   "source": [
    "from typing import Optional\n",
    "from pydantic import BaseModel"
   ]
  },
  {
   "cell_type": "markdown",
   "metadata": {},
   "source": [
    "## Basic Pydantic Models\n",
    "\n",
    "A Pydantic model is a class that inherits from `BaseModel`. All attributes are defined with type annotations."
   ]
  },
  {
   "cell_type": "code",
   "execution_count": null,
   "metadata": {},
   "outputs": [],
   "source": [
    "user_data = {\n",
    "    \"id\": 1,\n",
    "    \"name\": \"Faylo Bobol\",\n",
    "    \"email\": \"faylo@bolol.am\",\n",
    "    \"age\": 30, # optional\n",
    "    # is_active default = True\n",
    "}"
   ]
  },
  {
   "cell_type": "code",
   "execution_count": 36,
   "metadata": {},
   "outputs": [
    {
     "name": "stdout",
     "output_type": "stream",
     "text": [
      "id=1 name='Faylo Bobol' email='faylo@bolol.am' age=30 is_active=True\n",
      "User name: Faylo Bobol\n",
      "User email: faylo@bolol.am\n"
     ]
    }
   ],
   "source": [
    "# Basic Pydantic Model\n",
    "class User(BaseModel):\n",
    "    id: int\n",
    "    name: str\n",
    "    email: str\n",
    "    age: Optional[int] = None\n",
    "    is_active: bool = True\n",
    "\n",
    "\n",
    "user = User(**user_data) # User(id=user_data[\"id\"])\n",
    "\n",
    "print(user)\n",
    "print(f\"User name: {user.name}\")\n",
    "print(f\"User email: {user.email}\")"
   ]
  },
  {
   "cell_type": "code",
   "execution_count": 37,
   "metadata": {},
   "outputs": [
    {
     "name": "stdout",
     "output_type": "stream",
     "text": [
      "\n",
      "As dictionary:\n",
      "{'id': 1, 'name': 'Faylo Bobol', 'email': 'faylo@bolol.am', 'age': 30, 'is_active': True}\n",
      "\n",
      "As JSON:\n",
      "{\n",
      "    \"id\": 1,\n",
      "    \"name\": \"Faylo Bobol\",\n",
      "    \"email\": \"faylo@bolol.am\",\n",
      "    \"age\": 30,\n",
      "    \"is_active\": true\n",
      "}\n"
     ]
    }
   ],
   "source": [
    "# Convert to dictionary\n",
    "print(\"\\nAs dictionary:\")\n",
    "print(user.model_dump())\n",
    "\n",
    "# Convert to JSON\n",
    "print(\"\\nAs JSON:\")\n",
    "print(user.model_dump_json(indent=4))"
   ]
  },
  {
   "cell_type": "code",
   "execution_count": 38,
   "metadata": {},
   "outputs": [
    {
     "name": "stdout",
     "output_type": "stream",
     "text": [
      "{'id': 1, 'name': 'Faylo Bobol'}\n",
      "{'email': 'faylo@bolol.am', 'age': 30, 'is_active': True}\n"
     ]
    }
   ],
   "source": [
    "print(user.model_dump(include={\"id\", \"name\"}))\n",
    "print(user.model_dump(exclude={\"id\", \"name\"}))"
   ]
  },
  {
   "cell_type": "markdown",
   "metadata": {},
   "source": [
    "## Data Validation\n",
    "\n",
    "Pydantic automatically validates data types and provides helpful error messages."
   ]
  },
  {
   "cell_type": "code",
   "execution_count": 41,
   "metadata": {},
   "outputs": [
    {
     "name": "stdout",
     "output_type": "stream",
     "text": [
      "=== Type Conversion ===\n",
      "ID (converted from string): 123 (type: <class 'int'>)\n",
      "Age (converted from string): 25 (type: <class 'int'>)\n"
     ]
    }
   ],
   "source": [
    "# Type conversion - Pydantic tries to convert compatible types\n",
    "print(\"=== Type Conversion ===\")\n",
    "user_flexible = User(id=\"123\", \n",
    "                     name=\"Barxudarum\", \n",
    "                     email=\"barxudarum@panir.com\", \n",
    "                     age=\"25\")\n",
    "\n",
    "print(f\"ID (converted from string): {user_flexible.id} (type: {type(user_flexible.id)})\")\n",
    "print(f\"Age (converted from string): {user_flexible.age} (type: {type(user_flexible.age)})\")\n"
   ]
  },
  {
   "cell_type": "code",
   "execution_count": 42,
   "metadata": {},
   "outputs": [
    {
     "ename": "ValidationError",
     "evalue": "1 validation error for User\nid\n  Input should be a valid integer, unable to parse string as an integer [type=int_parsing, input_value='not_a_number', input_type=str]\n    For further information visit https://errors.pydantic.dev/2.11/v/int_parsing",
     "output_type": "error",
     "traceback": [
      "\u001b[1;31m---------------------------------------------------------------------------\u001b[0m",
      "\u001b[1;31mValidationError\u001b[0m                           Traceback (most recent call last)",
      "Cell \u001b[1;32mIn[42], line 1\u001b[0m\n\u001b[1;32m----> 1\u001b[0m invalid_user \u001b[38;5;241m=\u001b[39m \u001b[43mUser\u001b[49m\u001b[43m(\u001b[49m\u001b[38;5;28;43mid\u001b[39;49m\u001b[38;5;241;43m=\u001b[39;49m\u001b[38;5;124;43m\"\u001b[39;49m\u001b[38;5;124;43mnot_a_number\u001b[39;49m\u001b[38;5;124;43m\"\u001b[39;49m\u001b[43m,\u001b[49m\u001b[43m \u001b[49m\u001b[43mname\u001b[49m\u001b[38;5;241;43m=\u001b[39;49m\u001b[38;5;124;43m\"\u001b[39;49m\u001b[38;5;124;43mSpiridon\u001b[39;49m\u001b[38;5;124;43m\"\u001b[39;49m\u001b[43m,\u001b[49m\u001b[43m \u001b[49m\u001b[43memail\u001b[49m\u001b[38;5;241;43m=\u001b[39;49m\u001b[38;5;124;43m\"\u001b[39;49m\u001b[38;5;124;43mtervigen@xunk.am\u001b[39;49m\u001b[38;5;124;43m\"\u001b[39;49m\u001b[43m)\u001b[49m\n",
      "File \u001b[1;32mc:\\Users\\hayk_\\.conda\\envs\\sl\\lib\\site-packages\\pydantic\\main.py:253\u001b[0m, in \u001b[0;36mBaseModel.__init__\u001b[1;34m(self, **data)\u001b[0m\n\u001b[0;32m    251\u001b[0m \u001b[38;5;66;03m# `__tracebackhide__` tells pytest and some other tools to omit this function from tracebacks\u001b[39;00m\n\u001b[0;32m    252\u001b[0m __tracebackhide__ \u001b[38;5;241m=\u001b[39m \u001b[38;5;28;01mTrue\u001b[39;00m\n\u001b[1;32m--> 253\u001b[0m validated_self \u001b[38;5;241m=\u001b[39m \u001b[38;5;28;43mself\u001b[39;49m\u001b[38;5;241;43m.\u001b[39;49m\u001b[43m__pydantic_validator__\u001b[49m\u001b[38;5;241;43m.\u001b[39;49m\u001b[43mvalidate_python\u001b[49m\u001b[43m(\u001b[49m\u001b[43mdata\u001b[49m\u001b[43m,\u001b[49m\u001b[43m \u001b[49m\u001b[43mself_instance\u001b[49m\u001b[38;5;241;43m=\u001b[39;49m\u001b[38;5;28;43mself\u001b[39;49m\u001b[43m)\u001b[49m\n\u001b[0;32m    254\u001b[0m \u001b[38;5;28;01mif\u001b[39;00m \u001b[38;5;28mself\u001b[39m \u001b[38;5;129;01mis\u001b[39;00m \u001b[38;5;129;01mnot\u001b[39;00m validated_self:\n\u001b[0;32m    255\u001b[0m     warnings\u001b[38;5;241m.\u001b[39mwarn(\n\u001b[0;32m    256\u001b[0m         \u001b[38;5;124m'\u001b[39m\u001b[38;5;124mA custom validator is returning a value other than `self`.\u001b[39m\u001b[38;5;130;01m\\n\u001b[39;00m\u001b[38;5;124m'\u001b[39m\n\u001b[0;32m    257\u001b[0m         \u001b[38;5;124m\"\u001b[39m\u001b[38;5;124mReturning anything other than `self` from a top level model validator isn\u001b[39m\u001b[38;5;124m'\u001b[39m\u001b[38;5;124mt supported when validating via `__init__`.\u001b[39m\u001b[38;5;130;01m\\n\u001b[39;00m\u001b[38;5;124m\"\u001b[39m\n\u001b[0;32m    258\u001b[0m         \u001b[38;5;124m'\u001b[39m\u001b[38;5;124mSee the `model_validator` docs (https://docs.pydantic.dev/latest/concepts/validators/#model-validators) for more details.\u001b[39m\u001b[38;5;124m'\u001b[39m,\n\u001b[0;32m    259\u001b[0m         stacklevel\u001b[38;5;241m=\u001b[39m\u001b[38;5;241m2\u001b[39m,\n\u001b[0;32m    260\u001b[0m     )\n",
      "\u001b[1;31mValidationError\u001b[0m: 1 validation error for User\nid\n  Input should be a valid integer, unable to parse string as an integer [type=int_parsing, input_value='not_a_number', input_type=str]\n    For further information visit https://errors.pydantic.dev/2.11/v/int_parsing"
     ]
    }
   ],
   "source": [
    "invalid_user = User(id=\"not_a_number\", name=\"Spiridon\", email=\"tervigen@xunk.am\")"
   ]
  },
  {
   "cell_type": "code",
   "execution_count": 43,
   "metadata": {},
   "outputs": [
    {
     "ename": "ValidationError",
     "evalue": "1 validation error for User\nname\n  Field required [type=missing, input_value={'id': 509, 'email': 'tervigen@xunk.am'}, input_type=dict]\n    For further information visit https://errors.pydantic.dev/2.11/v/missing",
     "output_type": "error",
     "traceback": [
      "\u001b[1;31m---------------------------------------------------------------------------\u001b[0m",
      "\u001b[1;31mValidationError\u001b[0m                           Traceback (most recent call last)",
      "Cell \u001b[1;32mIn[43], line 1\u001b[0m\n\u001b[1;32m----> 1\u001b[0m less_data \u001b[38;5;241m=\u001b[39m \u001b[43mUser\u001b[49m\u001b[43m(\u001b[49m\u001b[38;5;28;43mid\u001b[39;49m\u001b[38;5;241;43m=\u001b[39;49m\u001b[38;5;241;43m509\u001b[39;49m\u001b[43m,\u001b[49m\u001b[43m \u001b[49m\u001b[43memail\u001b[49m\u001b[38;5;241;43m=\u001b[39;49m\u001b[38;5;124;43m\"\u001b[39;49m\u001b[38;5;124;43mtervigen@xunk.am\u001b[39;49m\u001b[38;5;124;43m\"\u001b[39;49m\u001b[43m)\u001b[49m\n",
      "File \u001b[1;32mc:\\Users\\hayk_\\.conda\\envs\\sl\\lib\\site-packages\\pydantic\\main.py:253\u001b[0m, in \u001b[0;36mBaseModel.__init__\u001b[1;34m(self, **data)\u001b[0m\n\u001b[0;32m    251\u001b[0m \u001b[38;5;66;03m# `__tracebackhide__` tells pytest and some other tools to omit this function from tracebacks\u001b[39;00m\n\u001b[0;32m    252\u001b[0m __tracebackhide__ \u001b[38;5;241m=\u001b[39m \u001b[38;5;28;01mTrue\u001b[39;00m\n\u001b[1;32m--> 253\u001b[0m validated_self \u001b[38;5;241m=\u001b[39m \u001b[38;5;28;43mself\u001b[39;49m\u001b[38;5;241;43m.\u001b[39;49m\u001b[43m__pydantic_validator__\u001b[49m\u001b[38;5;241;43m.\u001b[39;49m\u001b[43mvalidate_python\u001b[49m\u001b[43m(\u001b[49m\u001b[43mdata\u001b[49m\u001b[43m,\u001b[49m\u001b[43m \u001b[49m\u001b[43mself_instance\u001b[49m\u001b[38;5;241;43m=\u001b[39;49m\u001b[38;5;28;43mself\u001b[39;49m\u001b[43m)\u001b[49m\n\u001b[0;32m    254\u001b[0m \u001b[38;5;28;01mif\u001b[39;00m \u001b[38;5;28mself\u001b[39m \u001b[38;5;129;01mis\u001b[39;00m \u001b[38;5;129;01mnot\u001b[39;00m validated_self:\n\u001b[0;32m    255\u001b[0m     warnings\u001b[38;5;241m.\u001b[39mwarn(\n\u001b[0;32m    256\u001b[0m         \u001b[38;5;124m'\u001b[39m\u001b[38;5;124mA custom validator is returning a value other than `self`.\u001b[39m\u001b[38;5;130;01m\\n\u001b[39;00m\u001b[38;5;124m'\u001b[39m\n\u001b[0;32m    257\u001b[0m         \u001b[38;5;124m\"\u001b[39m\u001b[38;5;124mReturning anything other than `self` from a top level model validator isn\u001b[39m\u001b[38;5;124m'\u001b[39m\u001b[38;5;124mt supported when validating via `__init__`.\u001b[39m\u001b[38;5;130;01m\\n\u001b[39;00m\u001b[38;5;124m\"\u001b[39m\n\u001b[0;32m    258\u001b[0m         \u001b[38;5;124m'\u001b[39m\u001b[38;5;124mSee the `model_validator` docs (https://docs.pydantic.dev/latest/concepts/validators/#model-validators) for more details.\u001b[39m\u001b[38;5;124m'\u001b[39m,\n\u001b[0;32m    259\u001b[0m         stacklevel\u001b[38;5;241m=\u001b[39m\u001b[38;5;241m2\u001b[39m,\n\u001b[0;32m    260\u001b[0m     )\n",
      "\u001b[1;31mValidationError\u001b[0m: 1 validation error for User\nname\n  Field required [type=missing, input_value={'id': 509, 'email': 'tervigen@xunk.am'}, input_type=dict]\n    For further information visit https://errors.pydantic.dev/2.11/v/missing"
     ]
    }
   ],
   "source": [
    "less_data = User(id=509, email=\"tervigen@xunk.am\")"
   ]
  },
  {
   "cell_type": "markdown",
   "metadata": {},
   "source": [
    "## Field Constraints and Custom Validators\n",
    "\n",
    "Pydantic provides Field constraints and custom validators for more sophisticated validation."
   ]
  },
  {
   "cell_type": "code",
   "execution_count": 44,
   "metadata": {},
   "outputs": [],
   "source": [
    "# Advanced model with Field constraints and custom validators\n",
    "from pydantic import Field\n",
    "from datetime import datetime\n",
    "\n",
    "class AdvancedUser(BaseModel):\n",
    "    id: int = Field(gt=0, description=\"User ID must be positive\") # greater than\n",
    "    username: str = Field(min_length=3, max_length=20, description=\"Username between 3-20 characters\")\n",
    "    email: str = Field(description=\"Valid email address\")\n",
    "    age: Optional[int] = Field(default=None, ge=0, le=100, description=\"Age between 0-100\")\n",
    "    password: str = Field(min_length=8, description=\"Password minimum 8 characters\")\n",
    "    confirm_password: str = Field(description=\"Password confirmation\")\n",
    "    full_name: str = Field(description=\"Full name\")\n",
    "    \n",
    "    created_at: datetime = Field(default_factory=datetime.now)\n"
   ]
  },
  {
   "cell_type": "code",
   "execution_count": 45,
   "metadata": {},
   "outputs": [
    {
     "name": "stdout",
     "output_type": "stream",
     "text": [
      "✅ User created successfully!\n",
      "{'id': 1, 'username': 'Faylo509', 'email': 'panir@hamov.am', 'age': 25, 'full_name': 'Faylo Bobolyan', 'created_at': datetime.datetime(2025, 8, 13, 18, 25, 25, 638385)}\n"
     ]
    }
   ],
   "source": [
    "advanced_user = AdvancedUser(\n",
    "    id=1,\n",
    "    username=\"Faylo509\",\n",
    "    email=\"panir@hamov.am\",\n",
    "    age=25,\n",
    "    password=\"hndkahav\",\n",
    "    confirm_password=\"hndkahav\",\n",
    "    full_name=\"Faylo Bobolyan\"\n",
    ")\n",
    "print(\"✅ User created successfully!\")\n",
    "print(advanced_user.model_dump(exclude={'password', 'confirm_password'}))"
   ]
  },
  {
   "cell_type": "code",
   "execution_count": 46,
   "metadata": {},
   "outputs": [
    {
     "ename": "ValidationError",
     "evalue": "1 validation error for AdvancedUser\nid\n  Input should be greater than 0 [type=greater_than, input_value=-3, input_type=int]\n    For further information visit https://errors.pydantic.dev/2.11/v/greater_than",
     "output_type": "error",
     "traceback": [
      "\u001b[1;31m---------------------------------------------------------------------------\u001b[0m",
      "\u001b[1;31mValidationError\u001b[0m                           Traceback (most recent call last)",
      "Cell \u001b[1;32mIn[46], line 1\u001b[0m\n\u001b[1;32m----> 1\u001b[0m advanced_user \u001b[38;5;241m=\u001b[39m \u001b[43mAdvancedUser\u001b[49m\u001b[43m(\u001b[49m\n\u001b[0;32m      2\u001b[0m \u001b[43m    \u001b[49m\u001b[38;5;28;43mid\u001b[39;49m\u001b[38;5;241;43m=\u001b[39;49m\u001b[38;5;241;43m-\u001b[39;49m\u001b[38;5;241;43m3\u001b[39;49m\u001b[43m,\u001b[49m\n\u001b[0;32m      3\u001b[0m \u001b[43m    \u001b[49m\u001b[43musername\u001b[49m\u001b[38;5;241;43m=\u001b[39;49m\u001b[38;5;124;43m\"\u001b[39;49m\u001b[38;5;124;43mFaylo509\u001b[39;49m\u001b[38;5;124;43m\"\u001b[39;49m\u001b[43m,\u001b[49m\n\u001b[0;32m      4\u001b[0m \u001b[43m    \u001b[49m\u001b[43memail\u001b[49m\u001b[38;5;241;43m=\u001b[39;49m\u001b[38;5;124;43m\"\u001b[39;49m\u001b[38;5;124;43mpanir@hamov.am\u001b[39;49m\u001b[38;5;124;43m\"\u001b[39;49m\u001b[43m,\u001b[49m\n\u001b[0;32m      5\u001b[0m \u001b[43m    \u001b[49m\u001b[43mage\u001b[49m\u001b[38;5;241;43m=\u001b[39;49m\u001b[38;5;241;43m25\u001b[39;49m\u001b[43m,\u001b[49m\n\u001b[0;32m      6\u001b[0m \u001b[43m    \u001b[49m\u001b[43mpassword\u001b[49m\u001b[38;5;241;43m=\u001b[39;49m\u001b[38;5;124;43m\"\u001b[39;49m\u001b[38;5;124;43mhndkahav\u001b[39;49m\u001b[38;5;124;43m\"\u001b[39;49m\u001b[43m,\u001b[49m\n\u001b[0;32m      7\u001b[0m \u001b[43m    \u001b[49m\u001b[43mconfirm_password\u001b[49m\u001b[38;5;241;43m=\u001b[39;49m\u001b[38;5;124;43m\"\u001b[39;49m\u001b[38;5;124;43mhndkahav\u001b[39;49m\u001b[38;5;124;43m\"\u001b[39;49m\u001b[43m,\u001b[49m\n\u001b[0;32m      8\u001b[0m \u001b[43m    \u001b[49m\u001b[43mfull_name\u001b[49m\u001b[38;5;241;43m=\u001b[39;49m\u001b[38;5;124;43m\"\u001b[39;49m\u001b[38;5;124;43mFaylo Bobolyan\u001b[39;49m\u001b[38;5;124;43m\"\u001b[39;49m\n\u001b[0;32m      9\u001b[0m \u001b[43m)\u001b[49m\n\u001b[0;32m     10\u001b[0m \u001b[38;5;28mprint\u001b[39m(\u001b[38;5;124m\"\u001b[39m\u001b[38;5;124m✅ User created successfully!\u001b[39m\u001b[38;5;124m\"\u001b[39m)\n\u001b[0;32m     11\u001b[0m \u001b[38;5;28mprint\u001b[39m(advanced_user\u001b[38;5;241m.\u001b[39mmodel_dump(exclude\u001b[38;5;241m=\u001b[39m{\u001b[38;5;124m'\u001b[39m\u001b[38;5;124mpassword\u001b[39m\u001b[38;5;124m'\u001b[39m, \u001b[38;5;124m'\u001b[39m\u001b[38;5;124mconfirm_password\u001b[39m\u001b[38;5;124m'\u001b[39m}))\n",
      "File \u001b[1;32mc:\\Users\\hayk_\\.conda\\envs\\sl\\lib\\site-packages\\pydantic\\main.py:253\u001b[0m, in \u001b[0;36mBaseModel.__init__\u001b[1;34m(self, **data)\u001b[0m\n\u001b[0;32m    251\u001b[0m \u001b[38;5;66;03m# `__tracebackhide__` tells pytest and some other tools to omit this function from tracebacks\u001b[39;00m\n\u001b[0;32m    252\u001b[0m __tracebackhide__ \u001b[38;5;241m=\u001b[39m \u001b[38;5;28;01mTrue\u001b[39;00m\n\u001b[1;32m--> 253\u001b[0m validated_self \u001b[38;5;241m=\u001b[39m \u001b[38;5;28;43mself\u001b[39;49m\u001b[38;5;241;43m.\u001b[39;49m\u001b[43m__pydantic_validator__\u001b[49m\u001b[38;5;241;43m.\u001b[39;49m\u001b[43mvalidate_python\u001b[49m\u001b[43m(\u001b[49m\u001b[43mdata\u001b[49m\u001b[43m,\u001b[49m\u001b[43m \u001b[49m\u001b[43mself_instance\u001b[49m\u001b[38;5;241;43m=\u001b[39;49m\u001b[38;5;28;43mself\u001b[39;49m\u001b[43m)\u001b[49m\n\u001b[0;32m    254\u001b[0m \u001b[38;5;28;01mif\u001b[39;00m \u001b[38;5;28mself\u001b[39m \u001b[38;5;129;01mis\u001b[39;00m \u001b[38;5;129;01mnot\u001b[39;00m validated_self:\n\u001b[0;32m    255\u001b[0m     warnings\u001b[38;5;241m.\u001b[39mwarn(\n\u001b[0;32m    256\u001b[0m         \u001b[38;5;124m'\u001b[39m\u001b[38;5;124mA custom validator is returning a value other than `self`.\u001b[39m\u001b[38;5;130;01m\\n\u001b[39;00m\u001b[38;5;124m'\u001b[39m\n\u001b[0;32m    257\u001b[0m         \u001b[38;5;124m\"\u001b[39m\u001b[38;5;124mReturning anything other than `self` from a top level model validator isn\u001b[39m\u001b[38;5;124m'\u001b[39m\u001b[38;5;124mt supported when validating via `__init__`.\u001b[39m\u001b[38;5;130;01m\\n\u001b[39;00m\u001b[38;5;124m\"\u001b[39m\n\u001b[0;32m    258\u001b[0m         \u001b[38;5;124m'\u001b[39m\u001b[38;5;124mSee the `model_validator` docs (https://docs.pydantic.dev/latest/concepts/validators/#model-validators) for more details.\u001b[39m\u001b[38;5;124m'\u001b[39m,\n\u001b[0;32m    259\u001b[0m         stacklevel\u001b[38;5;241m=\u001b[39m\u001b[38;5;241m2\u001b[39m,\n\u001b[0;32m    260\u001b[0m     )\n",
      "\u001b[1;31mValidationError\u001b[0m: 1 validation error for AdvancedUser\nid\n  Input should be greater than 0 [type=greater_than, input_value=-3, input_type=int]\n    For further information visit https://errors.pydantic.dev/2.11/v/greater_than"
     ]
    }
   ],
   "source": [
    "advanced_user = AdvancedUser(\n",
    "    id=-3,\n",
    "    username=\"Faylo509\",\n",
    "    email=\"panir@hamov.am\",\n",
    "    age=25,\n",
    "    password=\"hndkahav\",\n",
    "    confirm_password=\"hndkahav\",\n",
    "    full_name=\"Faylo Bobolyan\"\n",
    ")\n",
    "print(\"✅ User created successfully!\")\n",
    "print(advanced_user.model_dump(exclude={'password', 'confirm_password'}))"
   ]
  },
  {
   "cell_type": "code",
   "execution_count": 49,
   "metadata": {},
   "outputs": [
    {
     "name": "stdout",
     "output_type": "stream",
     "text": [
      "❌ Validation failed:\n",
      "  ('id',): Input should be greater than 0\n",
      "  ('age',): Input should be less than or equal to 100\n",
      "  ('password',): String should have at least 8 characters\n"
     ]
    }
   ],
   "source": [
    "from pydantic import ValidationError\n",
    "\n",
    "try:\n",
    "    advanced_user = AdvancedUser(\n",
    "    id=-3,\n",
    "    username=\"Faylo509\",\n",
    "    email=\"panir@hamov.am\",\n",
    "    age=123,\n",
    "    password=\"hndk\",\n",
    "    confirm_password=\"hndkahav\",\n",
    "    full_name=\"Faylo Bobolyan\"\n",
    ")\n",
    "\n",
    "except ValidationError as e:\n",
    "    print(\"❌ Validation failed:\")\n",
    "    for error in e.errors():\n",
    "        print(f\"  {error['loc']}: {error['msg']}\")"
   ]
  },
  {
   "cell_type": "markdown",
   "metadata": {},
   "source": [
    "### Custom validators"
   ]
  },
  {
   "cell_type": "code",
   "execution_count": 59,
   "metadata": {},
   "outputs": [],
   "source": [
    "import re # regular expresstion\n",
    "from pydantic import field_validator, model_validator\n",
    "\n",
    "\n",
    "class AdvancedUser(BaseModel):\n",
    "    id: int = Field(gt=0, description=\"User ID must be positive\") # greater than\n",
    "    username: str = Field(min_length=3, max_length=20, description=\"Username between 3-20 characters\")\n",
    "    email: str = Field(description=\"Valid email address\")\n",
    "    age: Optional[int] = Field(default=None, ge=0, le=100, description=\"Age between 0-100\")\n",
    "    password: str = Field(min_length=8, description=\"Password minimum 8 characters\")\n",
    "    confirm_password: str = Field(description=\"Password confirmation\")\n",
    "    full_name: str = Field(description=\"Full name\")\n",
    "\n",
    "    # https://stackoverflow.com/questions/76972389/fastapi-pydantic-how-to-validate-email\n",
    "    @field_validator('email') \n",
    "    @classmethod\n",
    "    def validate_email(cls, v):\n",
    "        # Simple email validation\n",
    "        pattern = r'^[a-zA-Z0-9._%+-]+@[a-zA-Z0-9.-]+\\.[a-zA-Z]{2,}$'\n",
    "        if not re.match(pattern, v):\n",
    "            raise ValueError('Invalid email format')\n",
    "        return v\n",
    "    \n",
    "    @field_validator('username')\n",
    "    @classmethod\n",
    "    def validate_username(cls, v):\n",
    "        if not v.isalnum():\n",
    "            raise ValueError('Username must be alphanumeric')\n",
    "        return v\n",
    "    \n",
    "    @field_validator('password')\n",
    "    @classmethod\n",
    "    def validate_password(cls, v):\n",
    "        if not any(c.isupper() for c in v):\n",
    "            raise ValueError('Password must contain at least one uppercase letter')\n",
    "        if not any(c.islower() for c in v):\n",
    "            raise ValueError('Password must contain at least one lowercase letter')\n",
    "        if not any(c.isdigit() for c in v):\n",
    "            raise ValueError('Password must contain at least one digit')\n",
    "        return v\n",
    "\n",
    "    # # Validate that passwords match, after setting the values\n",
    "    @model_validator(mode='after')\n",
    "    def validate_passwords_match(self):\n",
    "        if self.password != self.confirm_password:\n",
    "            raise ValueError('Passwords do not match')\n",
    "        return self"
   ]
  },
  {
   "cell_type": "code",
   "execution_count": 60,
   "metadata": {},
   "outputs": [
    {
     "name": "stdout",
     "output_type": "stream",
     "text": [
      "❌ Validation failed:\n",
      "  (): Value error, Passwords do not match\n"
     ]
    }
   ],
   "source": [
    "try:\n",
    "    advanced_user = AdvancedUser(\n",
    "    id=3,\n",
    "    username=\"Faylo509\",\n",
    "    email=\"panir@hamov.am\",\n",
    "    age=25,\n",
    "    password=\"Sovorakan_hav509\",\n",
    "    confirm_password=\"hndkahav\",\n",
    "    full_name=\"Faylo Bobolyan\"\n",
    ")\n",
    "\n",
    "except ValidationError as e:\n",
    "    print(\"❌ Validation failed:\")\n",
    "    for error in e.errors():\n",
    "        print(f\"  {error['loc']}: {error['msg']}\")"
   ]
  },
  {
   "cell_type": "code",
   "execution_count": 16,
   "metadata": {},
   "outputs": [
    {
     "name": "stdout",
     "output_type": "stream",
     "text": [
      "❌ Validation failed:\n",
      "  (): Value error, Passwords do not match\n"
     ]
    }
   ],
   "source": [
    "try:\n",
    "    advanced_user = AdvancedUser(\n",
    "    id=3,\n",
    "    username=\"Faylo509\",\n",
    "    email=\"panir@hamov.am\",\n",
    "    age=25,\n",
    "    password=\"Sovorakan_hav509\",\n",
    "    confirm_password=\"hndkahav\",\n",
    "    full_name=\"Faylo Bobolyan\"\n",
    ")\n",
    "\n",
    "except ValidationError as e:\n",
    "    print(\"❌ Validation failed:\")\n",
    "    for error in e.errors():\n",
    "        print(f\"  {error['loc']}: {error['msg']}\")"
   ]
  },
  {
   "cell_type": "markdown",
   "metadata": {},
   "source": [
    "## Config\n",
    "https://docs.pydantic.dev/latest/api/config/"
   ]
  },
  {
   "cell_type": "code",
   "execution_count": 66,
   "metadata": {},
   "outputs": [],
   "source": [
    "class AdvancedUser(BaseModel):\n",
    "    id: int = Field(gt=0, description=\"User ID must be positive\") # greater than\n",
    "    username: str = Field(min_length=3, max_length=20, description=\"Username between 3-20 characters\")\n",
    "    email: str = Field(description=\"Valid email address\")\n",
    "    age: Optional[int] = Field(default=None, ge=0, le=100, description=\"Age between 0-100\")\n",
    "    password: str = Field(min_length=8, description=\"Password minimum 8 characters\")\n",
    "    confirm_password: str = Field(description=\"Password confirmation\")\n",
    "    full_name: str = Field(description=\"Full name\")\n",
    "\n",
    "    class Config: # https://docs.pydantic.dev/latest/api/config/\n",
    "        str_to_upper = True  \n",
    "        # frozen = True      "
   ]
  },
  {
   "cell_type": "code",
   "execution_count": 67,
   "metadata": {},
   "outputs": [
    {
     "name": "stdout",
     "output_type": "stream",
     "text": [
      "id=3 username='FAYLO509' email='PANIR@HAMOV.AM' age=25 password='SOVORAKAN_HAV509' confirm_password='HNDKAHAV' full_name='FAYLO BOBOLYAN'\n",
      "id=10 username='FAYLO509' email='PANIR@HAMOV.AM' age=25 password='SOVORAKAN_HAV509' confirm_password='HNDKAHAV' full_name='FAYLO BOBOLYAN'\n"
     ]
    }
   ],
   "source": [
    "advanced_user = AdvancedUser(\n",
    "    id=3,\n",
    "    username=\"Faylo509\",\n",
    "    email=\"panir@hamov.am\",\n",
    "    age=25,\n",
    "    password=\"Sovorakan_hav509\",\n",
    "    confirm_password=\"hndkahav\",\n",
    "    full_name=\"Faylo Bobolyan\"\n",
    ")\n",
    "\n",
    "print(advanced_user)\n",
    "\n",
    "advanced_user.id = 10\n",
    "print(advanced_user)\n"
   ]
  },
  {
   "cell_type": "markdown",
   "metadata": {},
   "source": [
    "## Json Schema"
   ]
  },
  {
   "cell_type": "code",
   "execution_count": 68,
   "metadata": {},
   "outputs": [
    {
     "data": {
      "text/plain": [
       "{'properties': {'id': {'description': 'User ID must be positive',\n",
       "   'exclusiveMinimum': 0,\n",
       "   'title': 'Id',\n",
       "   'type': 'integer'},\n",
       "  'username': {'description': 'Username between 3-20 characters',\n",
       "   'maxLength': 20,\n",
       "   'minLength': 3,\n",
       "   'title': 'Username',\n",
       "   'type': 'string'},\n",
       "  'email': {'description': 'Valid email address',\n",
       "   'title': 'Email',\n",
       "   'type': 'string'},\n",
       "  'age': {'anyOf': [{'maximum': 100, 'minimum': 0, 'type': 'integer'},\n",
       "    {'type': 'null'}],\n",
       "   'default': None,\n",
       "   'description': 'Age between 0-100',\n",
       "   'title': 'Age'},\n",
       "  'password': {'description': 'Password minimum 8 characters',\n",
       "   'minLength': 8,\n",
       "   'title': 'Password',\n",
       "   'type': 'string'},\n",
       "  'confirm_password': {'description': 'Password confirmation',\n",
       "   'title': 'Confirm Password',\n",
       "   'type': 'string'},\n",
       "  'full_name': {'description': 'Full name',\n",
       "   'title': 'Full Name',\n",
       "   'type': 'string'}},\n",
       " 'required': ['id',\n",
       "  'username',\n",
       "  'email',\n",
       "  'password',\n",
       "  'confirm_password',\n",
       "  'full_name'],\n",
       " 'title': 'AdvancedUser',\n",
       " 'type': 'object'}"
      ]
     },
     "execution_count": 68,
     "metadata": {},
     "output_type": "execute_result"
    }
   ],
   "source": [
    "advanced_user.model_json_schema()"
   ]
  },
  {
   "cell_type": "markdown",
   "metadata": {},
   "source": [
    "## Enum\n",
    "An Enum (Enumeration) is a way to create a set of symbolic names bound to unique, constant values. It provides a structured way to define a collection of related constants.\n",
    "\n",
    "[geeksforgeeks](https://www.geeksforgeeks.org/python/enum-in-python/)"
   ]
  },
  {
   "cell_type": "code",
   "execution_count": 71,
   "metadata": {},
   "outputs": [
    {
     "name": "stdout",
     "output_type": "stream",
     "text": [
      "UserRole.ADMIN\n",
      "Role: admin\n",
      "Role value: admin\n",
      "Role name: ADMIN\n",
      "\n",
      "All roles:\n",
      "  ADMIN: admin\n",
      "  USER: user\n",
      "  MODERATOR: moderator\n"
     ]
    }
   ],
   "source": [
    "from enum import Enum\n",
    "\n",
    "# Basic Enum example\n",
    "class UserRole(str, Enum):\n",
    "    ADMIN = \"admin\"\n",
    "    USER = \"user\"\n",
    "    MODERATOR = \"moderator\"\n",
    "\n",
    "# Usage\n",
    "role = UserRole.ADMIN\n",
    "print(role)\n",
    "print(f\"Role: {role}\")  # Role: admin\n",
    "print(f\"Role value: {role.value}\")  # Role value: admin\n",
    "print(f\"Role name: {role.name}\")  # Role name: ADMIN\n",
    "\n",
    "# # You can iterate over enum values\n",
    "print(\"\\nAll roles:\")\n",
    "for role in UserRole:\n",
    "    print(f\"  {role.name}: {role.value}\")"
   ]
  },
  {
   "cell_type": "markdown",
   "metadata": {},
   "source": [
    "### Why enum?"
   ]
  },
  {
   "cell_type": "markdown",
   "metadata": {},
   "source": [
    "1. Type Safety and Validation\n"
   ]
  },
  {
   "cell_type": "code",
   "execution_count": 73,
   "metadata": {},
   "outputs": [
    {
     "name": "stdout",
     "output_type": "stream",
     "text": [
      "=== Type Safety Demo ===\n",
      "check_user_permission_safe(UserRole.ADMIN) = 'Full access' (Safe!)\n"
     ]
    }
   ],
   "source": [
    "# Without Enum - prone to errors\n",
    "def check_user_permission(role: str):\n",
    "    if role == \"admin\":  # Typo risk: \"admni\", \"Admin\", etc.\n",
    "        return \"Full access\"\n",
    "    elif role == \"user\":\n",
    "        return \"Limited access\"\n",
    "    else:\n",
    "        return \"No access\"\n",
    "\n",
    "# With Enum - type safe\n",
    "def check_user_permission_safe(role: UserRole):\n",
    "    if role == UserRole.ADMIN:  # IDE autocomplete, no typos\n",
    "        return \"Full access\"\n",
    "    elif role == UserRole.USER:\n",
    "        return \"Limited access\"\n",
    "    else:\n",
    "        return \"No access\"\n",
    "\n",
    "# Demonstration\n",
    "print(\"=== Type Safety Demo ===\")\n",
    "# print(f\"{check_user_permission('admni') = }\", \"(Typo, but no error!)\")\n",
    "print(f\"{check_user_permission_safe(UserRole.ADMIN) = }\", \"(Safe!)\")"
   ]
  },
  {
   "cell_type": "markdown",
   "metadata": {},
   "source": [
    "2. Centralized Constants\n"
   ]
  },
  {
   "cell_type": "code",
   "execution_count": 76,
   "metadata": {},
   "outputs": [],
   "source": [
    "class User(BaseModel):\n",
    "    role: str \n",
    "    status: str \n",
    "    \n",
    "user = User(role=\"admin\", status=\"active\")\n",
    "\n",
    "# Bad: Magic strings scattered throughout code\n",
    "if user.role == \"admin\":  # Magic string\n",
    "    pass\n",
    "if user.status == \"active\":  # Another magic string\n",
    "    pass\n",
    "\n",
    "# Good: Centralized in Enum\n",
    "class UserStatus(str, Enum):\n",
    "    ACTIVE = \"active\"\n",
    "    INACTIVE = \"inactive\"\n",
    "    SUSPENDED = \"suspended\"\n",
    "\n",
    "if user.role == UserRole.ADMIN:  # Clear, centralized\n",
    "    pass\n",
    "if user.status == UserStatus.ACTIVE:  # Clear, centralized\n",
    "    pass"
   ]
  },
  {
   "cell_type": "markdown",
   "metadata": {},
   "source": [
    "1. IDE Support and Autocomplete\n"
   ]
  },
  {
   "cell_type": "code",
   "execution_count": null,
   "metadata": {},
   "outputs": [],
   "source": [
    "# With Enum, your IDE provides:\n",
    "# - Autocomplete for UserRole.\n",
    "# - Error detection for invalid values\n",
    "# - Refactoring support\n",
    "\n",
    "role = UserRole.  # IDE shows: ADMIN, USER, MODERATOR"
   ]
  },
  {
   "cell_type": "markdown",
   "metadata": {},
   "source": [
    "### Enum vs typing.Literal"
   ]
  },
  {
   "cell_type": "code",
   "execution_count": 77,
   "metadata": {},
   "outputs": [],
   "source": [
    "from typing import Literal\n",
    "\n",
    "# Using Literal\n",
    "def process_with_literal(status: Literal[\"pending\", \"approved\", \"rejected\"]):\n",
    "    return f\"Processing {status}\"\n",
    "\n",
    "# Using Enum\n",
    "class Status(str, Enum):\n",
    "    PENDING = \"pending\"\n",
    "    APPROVED = \"approved\"\n",
    "    REJECTED = \"rejected\"\n",
    "\n",
    "def process_with_enum(status: Status):\n",
    "    return f\"Processing {status.value}\"\n",
    "    "
   ]
  },
  {
   "cell_type": "code",
   "execution_count": 78,
   "metadata": {},
   "outputs": [
    {
     "name": "stdout",
     "output_type": "stream",
     "text": [
      "=== Runtime Validation ===\n",
      "invalid\n"
     ]
    },
    {
     "ename": "ValueError",
     "evalue": "'invalid' is not a valid Status",
     "output_type": "error",
     "traceback": [
      "\u001b[1;31m---------------------------------------------------------------------------\u001b[0m",
      "\u001b[1;31mValueError\u001b[0m                                Traceback (most recent call last)",
      "Cell \u001b[1;32mIn[78], line 13\u001b[0m\n\u001b[0;32m     10\u001b[0m \u001b[38;5;28mprint\u001b[39m(\u001b[38;5;124m\"\u001b[39m\u001b[38;5;124m=== Runtime Validation ===\u001b[39m\u001b[38;5;124m\"\u001b[39m)\n\u001b[0;32m     11\u001b[0m \u001b[38;5;28mprint\u001b[39m(test_literal(\u001b[38;5;124m\"\u001b[39m\u001b[38;5;124minvalid\u001b[39m\u001b[38;5;124m\"\u001b[39m))  \u001b[38;5;66;03m# No error!\u001b[39;00m\n\u001b[1;32m---> 13\u001b[0m \u001b[38;5;28mprint\u001b[39m(test_enum(\u001b[43mStatus\u001b[49m\u001b[43m(\u001b[49m\u001b[38;5;124;43m\"\u001b[39;49m\u001b[38;5;124;43minvalid\u001b[39;49m\u001b[38;5;124;43m\"\u001b[39;49m\u001b[43m)\u001b[49m))  \u001b[38;5;66;03m# Will raise ValueError\u001b[39;00m\n",
      "File \u001b[1;32mc:\\Users\\hayk_\\.conda\\envs\\sl\\lib\\enum.py:385\u001b[0m, in \u001b[0;36mEnumMeta.__call__\u001b[1;34m(cls, value, names, module, qualname, type, start)\u001b[0m\n\u001b[0;32m    360\u001b[0m \u001b[38;5;250m\u001b[39m\u001b[38;5;124;03m\"\"\"\u001b[39;00m\n\u001b[0;32m    361\u001b[0m \u001b[38;5;124;03mEither returns an existing member, or creates a new enum class.\u001b[39;00m\n\u001b[0;32m    362\u001b[0m \n\u001b[1;32m   (...)\u001b[0m\n\u001b[0;32m    382\u001b[0m \u001b[38;5;124;03m`type`, if set, will be mixed in as the first base class.\u001b[39;00m\n\u001b[0;32m    383\u001b[0m \u001b[38;5;124;03m\"\"\"\u001b[39;00m\n\u001b[0;32m    384\u001b[0m \u001b[38;5;28;01mif\u001b[39;00m names \u001b[38;5;129;01mis\u001b[39;00m \u001b[38;5;28;01mNone\u001b[39;00m:  \u001b[38;5;66;03m# simple value lookup\u001b[39;00m\n\u001b[1;32m--> 385\u001b[0m     \u001b[38;5;28;01mreturn\u001b[39;00m \u001b[38;5;28;43mcls\u001b[39;49m\u001b[38;5;241;43m.\u001b[39;49m\u001b[38;5;21;43m__new__\u001b[39;49m\u001b[43m(\u001b[49m\u001b[38;5;28;43mcls\u001b[39;49m\u001b[43m,\u001b[49m\u001b[43m \u001b[49m\u001b[43mvalue\u001b[49m\u001b[43m)\u001b[49m\n\u001b[0;32m    386\u001b[0m \u001b[38;5;66;03m# otherwise, functional API: we're creating a new Enum type\u001b[39;00m\n\u001b[0;32m    387\u001b[0m \u001b[38;5;28;01mreturn\u001b[39;00m \u001b[38;5;28mcls\u001b[39m\u001b[38;5;241m.\u001b[39m_create_(\n\u001b[0;32m    388\u001b[0m         value,\n\u001b[0;32m    389\u001b[0m         names,\n\u001b[1;32m   (...)\u001b[0m\n\u001b[0;32m    393\u001b[0m         start\u001b[38;5;241m=\u001b[39mstart,\n\u001b[0;32m    394\u001b[0m         )\n",
      "File \u001b[1;32mc:\\Users\\hayk_\\.conda\\envs\\sl\\lib\\enum.py:710\u001b[0m, in \u001b[0;36mEnum.__new__\u001b[1;34m(cls, value)\u001b[0m\n\u001b[0;32m    708\u001b[0m ve_exc \u001b[38;5;241m=\u001b[39m \u001b[38;5;167;01mValueError\u001b[39;00m(\u001b[38;5;124m\"\u001b[39m\u001b[38;5;132;01m%r\u001b[39;00m\u001b[38;5;124m is not a valid \u001b[39m\u001b[38;5;132;01m%s\u001b[39;00m\u001b[38;5;124m\"\u001b[39m \u001b[38;5;241m%\u001b[39m (value, \u001b[38;5;28mcls\u001b[39m\u001b[38;5;241m.\u001b[39m\u001b[38;5;18m__qualname__\u001b[39m))\n\u001b[0;32m    709\u001b[0m \u001b[38;5;28;01mif\u001b[39;00m result \u001b[38;5;129;01mis\u001b[39;00m \u001b[38;5;28;01mNone\u001b[39;00m \u001b[38;5;129;01mand\u001b[39;00m exc \u001b[38;5;129;01mis\u001b[39;00m \u001b[38;5;28;01mNone\u001b[39;00m:\n\u001b[1;32m--> 710\u001b[0m     \u001b[38;5;28;01mraise\u001b[39;00m ve_exc\n\u001b[0;32m    711\u001b[0m \u001b[38;5;28;01melif\u001b[39;00m exc \u001b[38;5;129;01mis\u001b[39;00m \u001b[38;5;28;01mNone\u001b[39;00m:\n\u001b[0;32m    712\u001b[0m     exc \u001b[38;5;241m=\u001b[39m \u001b[38;5;167;01mTypeError\u001b[39;00m(\n\u001b[0;32m    713\u001b[0m             \u001b[38;5;124m'\u001b[39m\u001b[38;5;124merror in \u001b[39m\u001b[38;5;132;01m%s\u001b[39;00m\u001b[38;5;124m._missing_: returned \u001b[39m\u001b[38;5;132;01m%r\u001b[39;00m\u001b[38;5;124m instead of None or a valid member\u001b[39m\u001b[38;5;124m'\u001b[39m\n\u001b[0;32m    714\u001b[0m             \u001b[38;5;241m%\u001b[39m (\u001b[38;5;28mcls\u001b[39m\u001b[38;5;241m.\u001b[39m\u001b[38;5;18m__name__\u001b[39m, result)\n\u001b[0;32m    715\u001b[0m             )\n",
      "\u001b[1;31mValueError\u001b[0m: 'invalid' is not a valid Status"
     ]
    }
   ],
   "source": [
    "# 1. Runtime Validation\n",
    "def test_literal(value: Literal[\"a\", \"b\", \"c\"]):\n",
    "    # No runtime validation - any string can be passed\n",
    "    return value\n",
    "\n",
    "def test_enum(value: Status):\n",
    "    # Runtime validation when creating enum instance\n",
    "    return value\n",
    "\n",
    "print(\"=== Runtime Validation ===\")\n",
    "print(test_literal(\"invalid\"))  # No error!\n",
    "\n",
    "print(test_enum(Status(\"invalid\")))  # Will raise ValueError\n"
   ]
  },
  {
   "cell_type": "code",
   "execution_count": 79,
   "metadata": {},
   "outputs": [
    {
     "name": "stdout",
     "output_type": "stream",
     "text": [
      "\n",
      "=== Iteration ===\n",
      "Status: PENDING = pending\n",
      "Status: APPROVED = approved\n",
      "Status: REJECTED = rejected\n"
     ]
    }
   ],
   "source": [
    "\n",
    "# 2. Iteration and Introspection\n",
    "print(\"\\n=== Iteration ===\")\n",
    "# Literal - cannot iterate\n",
    "# for item in Literal[\"a\", \"b\", \"c\"]:  # Not possible\n",
    "\n",
    "# Enum - can iterate\n",
    "for status in Status:\n",
    "    print(f\"Status: {status.name} = {status.value}\")\n",
    "\n"
   ]
  },
  {
   "cell_type": "code",
   "execution_count": 83,
   "metadata": {},
   "outputs": [
    {
     "name": "stdout",
     "output_type": "stream",
     "text": [
      "\n",
      "=== Extended Methods ===\n",
      "Is pending final? False\n",
      "Initial status: pending\n"
     ]
    }
   ],
   "source": [
    "# 3. Extensibility\n",
    "class ExtendedStatus(str, Enum):\n",
    "    PENDING = \"pending\"\n",
    "    APPROVED = \"approved\"\n",
    "    REJECTED = \"rejected\"\n",
    "    \n",
    "    def is_final(self) -> bool:\n",
    "        \"\"\"Check if status is final (approved or rejected)\"\"\"\n",
    "        return self in (self.APPROVED, self.REJECTED)\n",
    "    \n",
    "    @classmethod\n",
    "    def get_initial_status(cls):\n",
    "        \"\"\"Get the initial status for new items\"\"\"\n",
    "        return cls.PENDING\n",
    "\n",
    "status = ExtendedStatus.PENDING\n",
    "print(f\"=== Extended Methods ===\")\n",
    "print(f\"Is {status.value} final? {status.is_final()}\")\n",
    "print(f\"Initial status: {ExtendedStatus.get_initial_status().value}\")"
   ]
  },
  {
   "cell_type": "markdown",
   "metadata": {},
   "source": [
    "### Enums with Pydantic"
   ]
  },
  {
   "cell_type": "code",
   "execution_count": 84,
   "metadata": {},
   "outputs": [
    {
     "name": "stdout",
     "output_type": "stream",
     "text": [
      "❌ Error: 'panir' is not a valid UserRole\n",
      "✅ Correct: moderator\n"
     ]
    }
   ],
   "source": [
    "from enum import Enum\n",
    "from pydantic import BaseModel, ValidationError\n",
    "\n",
    "class UserRole(str, Enum):\n",
    "    ADMIN = \"admin\"\n",
    "    USER = \"user\"\n",
    "    MODERATOR = \"moderator\"\n",
    "\n",
    "try:\n",
    "    role = UserRole(\"panir\")\n",
    "except ValueError as e:\n",
    "    print(f\"❌ Error: {e}\")\n",
    "\n",
    "# Correct usage:\n",
    "role = UserRole.MODERATOR\n",
    "print(f\"✅ Correct: {role}\")\n"
   ]
  },
  {
   "cell_type": "code",
   "execution_count": 86,
   "metadata": {},
   "outputs": [
    {
     "name": "stdout",
     "output_type": "stream",
     "text": [
      "\n",
      "=== Pydantic with Enum ===\n",
      "User: id=1 role=<UserRole.ADMIN: 'admin'> name='Mavses'\n",
      "Role type: <enum 'UserRole'>\n",
      "Role value: admin\n",
      "\n",
      "❌ Validation Error:\n",
      "  ('role',): Input should be 'admin', 'user' or 'moderator'\n"
     ]
    }
   ],
   "source": [
    "# Pydantic Model with Enum\n",
    "class UserWithRole(BaseModel):\n",
    "    id: int\n",
    "    role: UserRole\n",
    "    name: str\n",
    "\n",
    "# Valid creation\n",
    "user_with_role = UserWithRole(id=1, role=\"admin\", name=\"Mavses\") # hardcoded\n",
    "print(f\"\\n=== Pydantic with Enum ===\")\n",
    "print(f\"User: {user_with_role}\")\n",
    "print(f\"Role type: {type(user_with_role.role)}\")\n",
    "print(f\"Role value: {user_with_role.role.value}\")\n",
    "\n",
    "# # Pydantic automatically validates enum values\n",
    "wrong_role = \"panir\"\n",
    "\n",
    "try:\n",
    "    invalid_user = UserWithRole(id=2, role=wrong_role, name=\"Goro\")\n",
    "except ValidationError as e:\n",
    "    print(f\"\\n❌ Validation Error:\")\n",
    "    for error in e.errors():\n",
    "        print(f\"  {error['loc']}: {error['msg']}\")"
   ]
  },
  {
   "cell_type": "markdown",
   "metadata": {},
   "source": [
    "We can also make it so it exports the value instead of the enum object itself\n"
   ]
  },
  {
   "cell_type": "code",
   "execution_count": 89,
   "metadata": {},
   "outputs": [
    {
     "data": {
      "text/plain": [
       "<UserRole.USER: 'user'>"
      ]
     },
     "execution_count": 89,
     "metadata": {},
     "output_type": "execute_result"
    }
   ],
   "source": [
    "class UserWithRole(BaseModel):\n",
    "    id: int\n",
    "    role: UserRole\n",
    "    name: str\n",
    "\n",
    "    # class Config:\n",
    "    #     use_enum_values = True\n",
    "        \n",
    "user = UserWithRole(id=509, role=UserRole.USER, name=\"DVD Gugo\")\n",
    "\n",
    "user.role"
   ]
  },
  {
   "cell_type": "markdown",
   "metadata": {},
   "source": [
    "### We can add methods to enums"
   ]
  },
  {
   "cell_type": "code",
   "execution_count": 90,
   "metadata": {},
   "outputs": [],
   "source": [
    "# Complex example with multiple enums\n",
    "class Priority(str, Enum):\n",
    "    LOW = \"low\"\n",
    "    MEDIUM = \"medium\"\n",
    "    HIGH = \"high\"\n",
    "    CRITICAL = \"critical\"\n",
    "    \n",
    "    def __lt__(self, other):\n",
    "        \"\"\"Enable priority comparison\"\"\"\n",
    "        order = {\"low\": 1, \"medium\": 2, \"high\": 3, \"critical\": 4}\n",
    "        return order[self.value] < order[other.value]\n",
    "\n",
    "class TaskStatus(str, Enum):\n",
    "    TODO = \"todo\"\n",
    "    IN_PROGRESS = \"in_progress\"\n",
    "    REVIEW = \"review\"\n",
    "    DONE = \"done\"\n",
    "    CANCELLED = \"cancelled\"\n",
    "    \n",
    "    def can_transition_to(self, new_status: 'TaskStatus') -> bool:\n",
    "        \"\"\"Define valid status transitions\"\"\"\n",
    "        transitions = {\n",
    "            self.TODO: [self.IN_PROGRESS, self.CANCELLED],\n",
    "            self.IN_PROGRESS: [self.REVIEW, self.CANCELLED],\n",
    "            self.REVIEW: [self.DONE, self.IN_PROGRESS],\n",
    "            self.DONE: [],\n",
    "            self.CANCELLED: [self.TODO]\n",
    "        }\n",
    "        return new_status in transitions.get(self, [])\n",
    "\n"
   ]
  },
  {
   "cell_type": "code",
   "execution_count": 91,
   "metadata": {},
   "outputs": [
    {
     "name": "stdout",
     "output_type": "stream",
     "text": [
      "\n",
      "=== Advanced Enum Example ===\n",
      "Initial task: id=1 title='Fix bug' priority=<Priority.HIGH: 'high'> status=<TaskStatus.TODO: 'todo'>\n"
     ]
    }
   ],
   "source": [
    "\n",
    "class Task(BaseModel):\n",
    "    id: int\n",
    "    title: str\n",
    "    priority: Priority\n",
    "    status: TaskStatus = TaskStatus.TODO\n",
    "    \n",
    "    def update_status(self, new_status: TaskStatus) -> bool:\n",
    "        \"\"\"Update status with validation\"\"\"\n",
    "        if self.status.can_transition_to(new_status):\n",
    "            self.status = new_status\n",
    "            return True\n",
    "        return False\n",
    "\n",
    "# Usage example\n",
    "print(\"\\n=== Advanced Enum Example ===\")\n",
    "task = Task(id=1, title=\"Fix bug\", priority=Priority.HIGH)\n",
    "print(f\"Initial task: {task}\")"
   ]
  },
  {
   "cell_type": "code",
   "execution_count": 92,
   "metadata": {},
   "outputs": [
    {
     "name": "stdout",
     "output_type": "stream",
     "text": [
      "✅ Status updated: in_progress\n",
      "❌ Invalid transition from IN_PROGRESS to DONE (must go through REVIEW)\n"
     ]
    }
   ],
   "source": [
    "\n",
    "# Valid transition\n",
    "if task.update_status(TaskStatus.IN_PROGRESS):\n",
    "    print(f\"✅ Status updated: {task.status}\")\n",
    "else:\n",
    "    print(\"❌ Invalid status transition\")\n",
    "\n",
    "# Invalid transition\n",
    "if task.update_status(TaskStatus.DONE):\n",
    "    print(f\"✅ Status updated: {task.status}\")\n",
    "else:\n",
    "    print(\"❌ Invalid transition from IN_PROGRESS to DONE (must go through REVIEW)\")\n"
   ]
  },
  {
   "cell_type": "code",
   "execution_count": 93,
   "metadata": {},
   "outputs": [
    {
     "name": "stdout",
     "output_type": "stream",
     "text": [
      "\n",
      "Priority comparison:\n",
      "High < Critical: True\n"
     ]
    }
   ],
   "source": [
    "# Priority comparison\n",
    "high_priority = Priority.HIGH\n",
    "critical_priority = Priority.CRITICAL\n",
    "print(f\"\\nPriority comparison:\")\n",
    "print(f\"High < Critical: {high_priority < critical_priority}\")\n"
   ]
  },
  {
   "cell_type": "code",
   "execution_count": 94,
   "metadata": {},
   "outputs": [
    {
     "name": "stdout",
     "output_type": "stream",
     "text": [
      "\n",
      "JSON output: {\n",
      "  \"id\": 1,\n",
      "  \"title\": \"Fix bug\",\n",
      "  \"priority\": \"high\",\n",
      "  \"status\": \"in_progress\"\n",
      "}\n"
     ]
    }
   ],
   "source": [
    "\n",
    "# JSON serialization\n",
    "print(f\"\\nJSON output: {task.model_dump_json(indent=2)}\")"
   ]
  },
  {
   "cell_type": "markdown",
   "metadata": {},
   "source": [
    "## Complex Data Structures and Nested Models\n",
    "\n",
    "Pydantic can handle complex nested structures, lists, and enums.\n"
   ]
  },
  {
   "cell_type": "code",
   "execution_count": 96,
   "metadata": {},
   "outputs": [
    {
     "ename": "ValidationError",
     "evalue": "1 validation error for ComplexUser\naddress.postal_code\n  String should match pattern '^\\d{5}$' [type=string_pattern_mismatch, input_value='0031', input_type=str]\n    For further information visit https://errors.pydantic.dev/2.11/v/string_pattern_mismatch",
     "output_type": "error",
     "traceback": [
      "\u001b[1;31m---------------------------------------------------------------------------\u001b[0m",
      "\u001b[1;31mValidationError\u001b[0m                           Traceback (most recent call last)",
      "Cell \u001b[1;32mIn[96], line 43\u001b[0m\n\u001b[0;32m     30\u001b[0m user_data \u001b[38;5;241m=\u001b[39m {\n\u001b[0;32m     31\u001b[0m     \u001b[38;5;124m\"\u001b[39m\u001b[38;5;124mid\u001b[39m\u001b[38;5;124m\"\u001b[39m: \u001b[38;5;241m1\u001b[39m,\n\u001b[0;32m     32\u001b[0m     \u001b[38;5;124m\"\u001b[39m\u001b[38;5;124mrole\u001b[39m\u001b[38;5;124m\"\u001b[39m: \u001b[38;5;124m\"\u001b[39m\u001b[38;5;124madmin\u001b[39m\u001b[38;5;124m\"\u001b[39m,\n\u001b[1;32m   (...)\u001b[0m\n\u001b[0;32m     39\u001b[0m     \n\u001b[0;32m     40\u001b[0m }\n\u001b[0;32m     42\u001b[0m \u001b[38;5;66;03m# Create complex user\u001b[39;00m\n\u001b[1;32m---> 43\u001b[0m user \u001b[38;5;241m=\u001b[39m ComplexUser(\u001b[38;5;241m*\u001b[39m\u001b[38;5;241m*\u001b[39muser_data)\n\u001b[0;32m     44\u001b[0m \u001b[38;5;28mprint\u001b[39m(\u001b[38;5;124m\"\u001b[39m\u001b[38;5;124m=== Complex User Created ===\u001b[39m\u001b[38;5;124m\"\u001b[39m)\n\u001b[0;32m     45\u001b[0m \u001b[38;5;28mprint\u001b[39m(\u001b[38;5;124mf\u001b[39m\u001b[38;5;124m\"\u001b[39m\u001b[38;5;124mRole: \u001b[39m\u001b[38;5;132;01m{\u001b[39;00muser\u001b[38;5;241m.\u001b[39mrole\u001b[38;5;132;01m}\u001b[39;00m\u001b[38;5;124m\"\u001b[39m)\n",
      "File \u001b[1;32mc:\\Users\\hayk_\\.conda\\envs\\sl\\lib\\site-packages\\pydantic\\main.py:253\u001b[0m, in \u001b[0;36mBaseModel.__init__\u001b[1;34m(self, **data)\u001b[0m\n\u001b[0;32m    251\u001b[0m \u001b[38;5;66;03m# `__tracebackhide__` tells pytest and some other tools to omit this function from tracebacks\u001b[39;00m\n\u001b[0;32m    252\u001b[0m __tracebackhide__ \u001b[38;5;241m=\u001b[39m \u001b[38;5;28;01mTrue\u001b[39;00m\n\u001b[1;32m--> 253\u001b[0m validated_self \u001b[38;5;241m=\u001b[39m \u001b[38;5;28;43mself\u001b[39;49m\u001b[38;5;241;43m.\u001b[39;49m\u001b[43m__pydantic_validator__\u001b[49m\u001b[38;5;241;43m.\u001b[39;49m\u001b[43mvalidate_python\u001b[49m\u001b[43m(\u001b[49m\u001b[43mdata\u001b[49m\u001b[43m,\u001b[49m\u001b[43m \u001b[49m\u001b[43mself_instance\u001b[49m\u001b[38;5;241;43m=\u001b[39;49m\u001b[38;5;28;43mself\u001b[39;49m\u001b[43m)\u001b[49m\n\u001b[0;32m    254\u001b[0m \u001b[38;5;28;01mif\u001b[39;00m \u001b[38;5;28mself\u001b[39m \u001b[38;5;129;01mis\u001b[39;00m \u001b[38;5;129;01mnot\u001b[39;00m validated_self:\n\u001b[0;32m    255\u001b[0m     warnings\u001b[38;5;241m.\u001b[39mwarn(\n\u001b[0;32m    256\u001b[0m         \u001b[38;5;124m'\u001b[39m\u001b[38;5;124mA custom validator is returning a value other than `self`.\u001b[39m\u001b[38;5;130;01m\\n\u001b[39;00m\u001b[38;5;124m'\u001b[39m\n\u001b[0;32m    257\u001b[0m         \u001b[38;5;124m\"\u001b[39m\u001b[38;5;124mReturning anything other than `self` from a top level model validator isn\u001b[39m\u001b[38;5;124m'\u001b[39m\u001b[38;5;124mt supported when validating via `__init__`.\u001b[39m\u001b[38;5;130;01m\\n\u001b[39;00m\u001b[38;5;124m\"\u001b[39m\n\u001b[0;32m    258\u001b[0m         \u001b[38;5;124m'\u001b[39m\u001b[38;5;124mSee the `model_validator` docs (https://docs.pydantic.dev/latest/concepts/validators/#model-validators) for more details.\u001b[39m\u001b[38;5;124m'\u001b[39m,\n\u001b[0;32m    259\u001b[0m         stacklevel\u001b[38;5;241m=\u001b[39m\u001b[38;5;241m2\u001b[39m,\n\u001b[0;32m    260\u001b[0m     )\n",
      "\u001b[1;31mValidationError\u001b[0m: 1 validation error for ComplexUser\naddress.postal_code\n  String should match pattern '^\\d{5}$' [type=string_pattern_mismatch, input_value='0031', input_type=str]\n    For further information visit https://errors.pydantic.dev/2.11/v/string_pattern_mismatch"
     ]
    }
   ],
   "source": [
    "from enum import Enum\n",
    "from typing import Optional\n",
    "from datetime import datetime\n",
    "from pydantic import BaseModel, Field\n",
    "\n",
    "class UserRole(str, Enum):\n",
    "    ADMIN = \"admin\"\n",
    "    USER = \"user\"\n",
    "\n",
    "class Status(str, Enum):\n",
    "    ACTIVE = \"active\"\n",
    "    INACTIVE = \"inactive\"\n",
    "\n",
    "# Simplified nested models\n",
    "class Address(BaseModel):\n",
    "    street: str\n",
    "    city: str\n",
    "    postal_code: str = Field(pattern=r'^\\d{5}$')  # 5-digit ZIP\n",
    "\n",
    "\n",
    "# Simplified complex user model\n",
    "class ComplexUser(BaseModel):\n",
    "    id: int\n",
    "    role: UserRole\n",
    "    status: Status = Status.ACTIVE\n",
    "    address: Optional[Address] = None\n",
    "    created_at: datetime = Field(default_factory=datetime.now)\n",
    "\n",
    "# Example data\n",
    "user_data = {\n",
    "    \"id\": 1,\n",
    "    \"role\": \"admin\",\n",
    "    # no status -> default\n",
    "    \"address\": {\n",
    "        \"street\": \"Padnijni Pskov\",\n",
    "        \"city\": \"Hervashen\",\n",
    "        \"postal_code\": \"0031\"\n",
    "    },\n",
    "    \n",
    "}\n",
    "\n",
    "# Create complex user\n",
    "user = ComplexUser(**user_data)\n",
    "print(\"=== Complex User Created ===\")\n",
    "print(f\"Role: {user.role}\")\n",
    "print(f\"Address: {user.address.street}, {user.address.city}\")\n",
    "\n",
    "\n",
    "# JSON output\n",
    "print(\"\\n=== JSON Representation ===\")\n",
    "print(user.model_dump_json(indent=2, exclude={'created_at'}))"
   ]
  },
  {
   "cell_type": "markdown",
   "metadata": {},
   "source": [
    "# 🎲 31 (13)\n",
    "- ▶️[TED (20 hours to learn anything)](https://youtu.be/5MgBikgcWnY)\n",
    "- 🔗[Random link](https://youtu.be/-N_RZJUAQY4)\n",
    "- 🇦🇲🎶[5am (Ուր էլ գնաս)](https://www.youtube.com/watch?v=XFUrPRTI2e6)\n",
    "- 🌐🎶[Bob Dylan (Buckets of Rain)](https://www.youtube.com/watch?v=jGsOmKZXDvo)\n",
    "- 🤌[Կարգին](https://www.youtube.com/watch?v=C9Y8rmQIsU8)"
   ]
  },
  {
   "cell_type": "markdown",
   "metadata": {
    "id": "TfbUegKqXVyH"
   },
   "source": [
    "\n",
    "<a href=\"http://s01.flagcounter.com/more/1oO\"><img src=\"https://s01.flagcounter.com/count2/1oO/bg_FFFFFF/txt_000000/border_CCCCCC/columns_2/maxflags_10/viewers_0/labels_0/pageviews_1/flags_0/percent_0/\" alt=\"Flag Counter\"></a>\n"
   ]
  }
 ],
 "metadata": {
  "colab": {
   "authorship_tag": "ABX9TyOx7X+DxNeKu1zUVVCmsSHJ",
   "provenance": [
    {
     "file_id": "1_9UtYmPVVGmnWIKdBzPYkbtTlTbd0clo",
     "timestamp": 1735604987843
    },
    {
     "file_id": "15x56uwwONMo_ilzUJgt6UcX1d552xH6X",
     "timestamp": 1708441161475
    },
    {
     "file_id": "1LbG88IWtk30WlIoINzG4_vXHoJAvoDaP",
     "timestamp": 1683614319950
    }
   ]
  },
  "kernelspec": {
   "display_name": "sl",
   "language": "python",
   "name": "python3"
  },
  "language_info": {
   "codemirror_mode": {
    "name": "ipython",
    "version": 3
   },
   "file_extension": ".py",
   "mimetype": "text/x-python",
   "name": "python",
   "nbconvert_exporter": "python",
   "pygments_lexer": "ipython3",
   "version": "3.10.16"
  }
 },
 "nbformat": 4,
 "nbformat_minor": 0
}

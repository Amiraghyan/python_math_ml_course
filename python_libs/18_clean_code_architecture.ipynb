{
 "cells": [
  {
   "cell_type": "raw",
   "metadata": {
    "vscode": {
     "languageId": "raw"
    }
   },
   "source": [
    "---\n",
    "title: \"18 Best practices for coding in ML/DS\"\n",
    "lightbox: true\n",
    "format: \n",
    "  html:\n",
    "    code-fold: false\n",
    "number-offset: 1\n",
    "---"
   ]
  },
  {
   "cell_type": "markdown",
   "metadata": {
    "vscode": {
     "languageId": "raw"
    }
   },
   "source": [
    "![image.png](../background_photos/libs_18_star_trails.jpg)\n",
    "Դիլիջան, [լուսանկարի հղումը](https://unsplash.com/photos/the-night-sky-with-many-stars-in-the-sky-eZz9bGV0ikg), Հեղինակ՝ [Davit Hovakimyan](https://unsplash.com/@the_beauty_of_light)\n",
    "      "
   ]
  },
  {
   "cell_type": "markdown",
   "metadata": {
    "vscode": {
     "languageId": "raw"
    }
   },
   "source": [
    "# 📌 Նկարագիր\n",
    "\n",
    "Դասը անցկացրեց [Մհեր Խաչատրյանը](https://linkedin.com/in/mherkhachatryan)\n",
    "\n",
    "- [📚 Ամբողջական նյութը](18_clean_code_architecture.ipynb.ipynb)\n",
    "- [📺 Տեսագրությունը](https://www.youtube.com/watch?v=OWyDEth9BDE)\n",
    "\n",
    "Նյութեր\n",
    "\n",
    "- [Սլայդերը](https://docs.google.com/presentation/d/1VbAE4vRMyy5hW6wT_26Zb2u8hPenhchX/edit?usp=sharing&ouid=104807993375550847696&rtpof=true&sd=true)\n",
    "- [Refactoring Guru](https://refactoring.guru)\n",
    "- [Clean Code գիրք](https://www.amazon.com/Clean-Code-Handbook-Software-Craftsmanship)\n",
    "- [Clean Architecture գիրք](https://www.amazon.com/Clean-Architecture-Craftsmans-Software-Structure)\n",
    "- 🤫 Անվճար գրքեր քաշելու կայքեր - [1](https://annas-archive.org/), [2](http://libgen.rs/)/[3](http://libgen.is/)"
   ]
  },
  {
   "cell_type": "markdown",
   "metadata": {},
   "source": [
    "# 🎲 35 (18)\n",
    "- ▶️[Terence Tao](https://www.youtube.com/watch?v=YdOXS_9_P4U)\n",
    "- 🔗[Random link](https://www.youtube.com/shorts/7AopAQ4dPpk)\n",
    "- 🇦🇲🎶[Տիգրան Համասյան (Areg's Calling)](https://www.youtube.com/watch?v=lRXpObffNBI)\n",
    "- 🌐🎶[Pink Floyd (Talkin' Hawkin')](https://www.youtube.com/watch?v=x1r_5rvJNII)\n",
    "- 🤌[Կարգին](https://www.youtube.com/watch?v=LM7MbxiVpNg)"
   ]
  },
  {
   "cell_type": "markdown",
   "metadata": {
    "id": "TfbUegKqXVyH"
   },
   "source": [
    "\n",
    "<a href=\"http://s01.flagcounter.com/more/1oO\"><img src=\"https://s01.flagcounter.com/count2/1oO/bg_FFFFFF/txt_000000/border_CCCCCC/columns_2/maxflags_10/viewers_0/labels_0/pageviews_1/flags_0/percent_0/\" alt=\"Flag Counter\"></a>\n"
   ]
  }
 ],
 "metadata": {
  "colab": {
   "authorship_tag": "ABX9TyOx7X+DxNeKu1zUVVCmsSHJ",
   "provenance": [
    {
     "file_id": "1_9UtYmPVVGmnWIKdBzPYkbtTlTbd0clo",
     "timestamp": 1735604987843
    },
    {
     "file_id": "15x56uwwONMo_ilzUJgt6UcX1d552xH6X",
     "timestamp": 1708441161475
    },
    {
     "file_id": "1LbG88IWtk30WlIoINzG4_vXHoJAvoDaP",
     "timestamp": 1683614319950
    }
   ]
  },
  "kernelspec": {
   "display_name": "Python 3",
   "name": "python3"
  },
  "language_info": {
   "codemirror_mode": {
    "name": "ipython",
    "version": 3
   },
   "file_extension": ".py",
   "mimetype": "text/x-python",
   "name": "python",
   "nbconvert_exporter": "python",
   "pygments_lexer": "ipython3",
   "version": "3.10.14"
  }
 },
 "nbformat": 4,
 "nbformat_minor": 0
}

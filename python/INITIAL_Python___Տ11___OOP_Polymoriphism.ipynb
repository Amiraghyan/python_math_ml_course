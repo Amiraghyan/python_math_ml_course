{
  "cells": [
    {
      "cell_type": "code",
      "execution_count": null,
      "metadata": {
        "id": "PttHtVzC8nWC"
      },
      "outputs": [],
      "source": [
        "import json\n",
        "PATH = \"imdb_top_999.json\"\n",
        "\n",
        "with open(PATH, \"r\") as f:\n",
        "    data = json.load(f)\n",
        "\n",
        "KEYS_TO_DELETE = ['Meta_score', \"No_of_Votes\", \"Overview\"]\n",
        "\n",
        "\n",
        "for i in data.keys():\n",
        "    for k in KEYS_TO_DELETE:\n",
        "        del data[i][k]\n",
        "\n",
        "for i in data.keys():\n",
        "    data[i][\"Name\"] = i\n"
      ]
    },
    {
      "cell_type": "code",
      "execution_count": null,
      "metadata": {
        "colab": {
          "base_uri": "https://localhost:8080/"
        },
        "id": "GcOxW-JxWJJG",
        "outputId": "645973fa-a888-4578-9303-aadba82cf611"
      },
      "outputs": [
        {
          "name": "stdout",
          "output_type": "stream",
          "text": [
            "11\n",
            "2\n"
          ]
        }
      ],
      "source": [
        "# +\n",
        "\n",
        "print(\"1\" + \"1\")\n",
        "print(1 + 1)\n",
        "# print(KarginHaxordum + )"
      ]
    },
    {
      "cell_type": "code",
      "execution_count": null,
      "metadata": {
        "id": "MMQ3VA5p8p1e"
      },
      "outputs": [],
      "source": [
        "class Kino:\n",
        "    def __init__(self, Name, Released_Year, Runtime, Genre, IMDB_Rating, Director,\n",
        "                Star1, Star2, Star3, Star4, Gross):\n",
        "        self.name = Name\n",
        "        self.release_year = Released_Year\n",
        "        self.runtime = Runtime\n",
        "        self.genre = Genre\n",
        "        self.rating = IMDB_Rating\n",
        "        self.director = Director\n",
        "        self.star1 = Star1\n",
        "        self.star2 = Star2\n",
        "        self.star3 = Star3\n",
        "        self.star4 = Star4\n",
        "        self.gross = Gross\n",
        "\n",
        "    def get_actors(self):\n",
        "        self.star_string = \", \".join([self.star1, self.star2, self.star3, self.star4])\n",
        "        return self.star_string\n",
        "\n",
        "    def get_info(self):\n",
        "        self.info = f\"Was released in {self.release_year} by {self.director}\"\n",
        "        return self.info\n",
        "\n"
      ]
    },
    {
      "cell_type": "code",
      "execution_count": null,
      "metadata": {
        "colab": {
          "base_uri": "https://localhost:8080/"
        },
        "id": "RA2essoi-Rv4",
        "outputId": "37b08952-abdf-4708-ca1c-312f2b6c96ed"
      },
      "outputs": [
        {
          "name": "stdout",
          "output_type": "stream",
          "text": [
            "Colin Firth, Geoffrey Rush, Helena Bonham Carter, Derek Jacobi\n",
            "Was released in 2010 by Tom Hooper\n",
            "<__main__.Kino object at 0x7a6dd3125bd0>\n"
          ]
        }
      ],
      "source": [
        "k1 = Kino(**data[\"The King's Speech\"])\n",
        "\n",
        "print(k1.get_actors())\n",
        "print(k1.get_info())\n",
        "print(k1)"
      ]
    },
    {
      "cell_type": "markdown",
      "metadata": {
        "id": "lV03tiLI83uZ"
      },
      "source": [
        "# Magic (dunder) methods"
      ]
    },
    {
      "cell_type": "markdown",
      "metadata": {
        "id": "LLzvSNt5-sNU"
      },
      "source": [
        "__init__(self, *args, **kwargs) - Class constructor, called when a new object is created. \\\n",
        "__del__(self) - Class destructor, called when an object is about to be destroyed. \\\n",
        "__str__(self) - Called by str() and print() to provide a human-readable string representation of the object.\\\n",
        "__repr__(self) - Called by repr() to provide an\n",
        "unambiguous string representation of the object, often used for debugging. \\\n",
        "__eq__(self, other) - Implements the equality operator (==) to compare two objects for equality. \\\n",
        "__ne__(self, other) - Implements the not equal operator (!=) to compare two objects for inequality. \\\n",
        "__lt__(self, other) - Implements the less than operator (<) for object comparison. \\\n",
        "__le__(self, other) - Implements the less than or equal to operator (<=) for object comparison. \\\n",
        "__gt__(self, other) - Implements the greater than operator (>) for object comparison.\\\n",
        "__ge__(self, other) - Implements the greater than or equal to operator (>=) for object comparison.\\\n",
        "__add__(self, other) - Implements the addition operator (+).\\\n",
        "__sub__(self, other) - Implements the subtraction operator (-).\\\n",
        "__mul__(self, other) - Implements the multiplication operator (*).\\\n",
        "__truediv__(self, other) - Implements the division operator (/).\\\n",
        "__floordiv__(self, other) - Implements the floor division operator (//). \\\n",
        "__mod__(self, other) - Implements the modulo operator (%).\\\n",
        "__pow__(self, other) - Implements the power operator (**).\\\n",
        "__getitem__(self, index) - Allows access to items in a collection (like lists or dictionaries) using square brackets ([]).\\\n",
        "__setitem__(self, index, value) - Allows setting the value of an item in a collection using square brackets ([]).\\\n",
        "__delitem__(self, index) - Allows deleting an item from a collection using the del keyword. \\\n",
        "__len__(self) - Called by the len() built-in function to return the number of items in a collection. \\\n",
        "__iter__(self) - Returns an iterator object for the class, allowing the use of the class in a for loop. \\\n",
        "__next__(self) - Called by the next() built-in function to get the next item in an iterable object. \\\n",
        "__contains__(self, item) - Called by the in keyword to check if an item is in a collection. \\\n",
        "__enter__(self) - Called when entering a context manager (used with with statement). \\\n",
        "__exit__(self, exc_type, exc_val, exc_tb) - Called when exiting a context manager (used with with  statement).\\"
      ]
    },
    {
      "cell_type": "code",
      "execution_count": null,
      "metadata": {
        "colab": {
          "base_uri": "https://localhost:8080/"
        },
        "id": "1UNq76re85yG",
        "outputId": "ca717937-0624-4460-fe1d-e58716002196"
      },
      "outputs": [
        {
          "name": "stdout",
          "output_type": "stream",
          "text": [
            "<__main__.Kino object at 0x7a6dd30b8f90>\n"
          ]
        }
      ],
      "source": [
        "movie = Kino(**data[\"Forrest Gump\"])\n",
        "print(movie)"
      ]
    },
    {
      "cell_type": "markdown",
      "metadata": {
        "id": "LYqFcijK9k27"
      },
      "source": [
        "## repr, str"
      ]
    },
    {
      "cell_type": "markdown",
      "metadata": {
        "id": "GjTJGIi3-TOB"
      },
      "source": [
        "### str"
      ]
    },
    {
      "cell_type": "code",
      "execution_count": null,
      "metadata": {
        "colab": {
          "base_uri": "https://localhost:8080/"
        },
        "id": "FxlFdnfP9A_J",
        "outputId": "33392215-4984-46e3-c128-bf6475642032"
      },
      "outputs": [
        {
          "name": "stdout",
          "output_type": "stream",
          "text": [
            "[2, 3]\n"
          ]
        }
      ],
      "source": [
        "print([2, 3])"
      ]
    },
    {
      "cell_type": "code",
      "execution_count": null,
      "metadata": {
        "colab": {
          "base_uri": "https://localhost:8080/"
        },
        "id": "RgwOTWtx9DLW",
        "outputId": "38d53d3b-493e-4a37-abe5-bc03ca9abd10"
      },
      "outputs": [
        {
          "name": "stdout",
          "output_type": "stream",
          "text": [
            "<__main__.Kino object at 0x7a6dd30b8f90>\n"
          ]
        }
      ],
      "source": [
        "print(movie)"
      ]
    },
    {
      "cell_type": "code",
      "execution_count": null,
      "metadata": {
        "colab": {
          "base_uri": "https://localhost:8080/"
        },
        "id": "Qve9gg0O9iWj",
        "outputId": "912b4e7b-4d78-4868-b0fc-c13d3f90a831"
      },
      "outputs": [
        {
          "name": "stdout",
          "output_type": "stream",
          "text": [
            "<__main__.Kino object at 0x7a6dd30b8f90>\n",
            "<__main__.Kino object at 0x7a6dd30b8f90>\n"
          ]
        }
      ],
      "source": [
        "a = str(movie)\n",
        "print(movie.__str__())\n",
        "print(a)"
      ]
    },
    {
      "cell_type": "code",
      "execution_count": null,
      "metadata": {
        "id": "aXqBnNt59pw-"
      },
      "outputs": [],
      "source": [
        "class Kino:\n",
        "    def __init__(self, Name, Released_Year, Runtime, Genre, IMDB_Rating, Director,\n",
        "                Star1, Star2, Star3, Star4, Gross):\n",
        "        self.name = Name\n",
        "        self.release_year = Released_Year\n",
        "        self.runtime = Runtime\n",
        "        self.genre = Genre\n",
        "        self.rating = IMDB_Rating\n",
        "        self.director = Director\n",
        "        self.star1 = Star1\n",
        "        self.star2 = Star2\n",
        "        self.star3 = Star3\n",
        "        self.star4 = Star4\n",
        "        self.gross = Gross\n",
        "\n",
        "    def __str__(self):\n",
        "        return f\"{self.name} by {self.director}, released in {self.release_year}\"\n",
        "\n",
        "    def get_actors(self):\n",
        "        self.star_string = \", \".join([self.star1, self.star2, self.star3, self.star4])\n",
        "        return self.star_string\n",
        "\n",
        "    def get_info(self):\n",
        "        self.info = f\"Was released in {self.release_year} by {self.director}\"\n",
        "        return self.info\n",
        "\n",
        "\n",
        "movie = Kino(**data[\"Forrest Gump\"])"
      ]
    },
    {
      "cell_type": "code",
      "execution_count": null,
      "metadata": {
        "id": "eYvfGyjcZWqA"
      },
      "outputs": [],
      "source": []
    },
    {
      "cell_type": "code",
      "execution_count": null,
      "metadata": {
        "colab": {
          "base_uri": "https://localhost:8080/",
          "height": 52
        },
        "id": "XyCDfMg497nF",
        "outputId": "ec8bd7a3-6d19-4419-c983-78bceadf13cd"
      },
      "outputs": [
        {
          "name": "stdout",
          "output_type": "stream",
          "text": [
            "Forrest Gump by Robert Zemeckis, released in 1994\n"
          ]
        },
        {
          "data": {
            "application/vnd.google.colaboratory.intrinsic+json": {
              "type": "string"
            },
            "text/plain": [
              "'Forrest Gump by Robert Zemeckis, released in 1994'"
            ]
          },
          "execution_count": 16,
          "metadata": {},
          "output_type": "execute_result"
        }
      ],
      "source": [
        "print(movie)\n",
        "\n",
        "movie.__str__()"
      ]
    },
    {
      "cell_type": "code",
      "execution_count": null,
      "metadata": {
        "colab": {
          "base_uri": "https://localhost:8080/"
        },
        "id": "Vf0Wi-ji9-Yy",
        "outputId": "cd99b345-7147-4607-e2dd-a3f1fcb64f31"
      },
      "outputs": [
        {
          "name": "stdout",
          "output_type": "stream",
          "text": [
            "<__main__.Kino object at 0x7a6dd3153c10>\n"
          ]
        }
      ],
      "source": [
        "a = repr(movie)\n",
        "print(a)"
      ]
    },
    {
      "cell_type": "markdown",
      "metadata": {
        "id": "47BNwj0R-VeN"
      },
      "source": [
        "### repr"
      ]
    },
    {
      "cell_type": "code",
      "execution_count": null,
      "metadata": {
        "id": "B2LEPstC-DcB"
      },
      "outputs": [],
      "source": [
        "class Kino:\n",
        "    def __init__(self, Name, Released_Year, Runtime, Genre, IMDB_Rating, Director,\n",
        "                Star1, Star2, Star3, Star4, Gross):\n",
        "        self.name = Name\n",
        "        self.release_year = Released_Year\n",
        "        self.runtime = Runtime\n",
        "        self.genre = Genre\n",
        "        self.rating = IMDB_Rating\n",
        "        self.director = Director\n",
        "        self.star1 = Star1\n",
        "        self.star2 = Star2\n",
        "        self.star3 = Star3\n",
        "        self.star4 = Star4\n",
        "        self.gross = Gross\n",
        "\n",
        "    def __str__(self):\n",
        "        return f\"{self.name} by {self.director}, released in {self.release_year}\"\n",
        "\n",
        "    def __repr__(self):\n",
        "        return f\"to create run Kino(**data['{self.name}']))\"\n",
        "\n",
        "    def get_actors(self):\n",
        "        self.star_string = \", \".join([self.star1, self.star2, self.star3, self.star4])\n",
        "        return self.star_string\n",
        "\n",
        "    def get_info(self):\n",
        "        self.info = f\"Was released in {self.release_year} by {self.director}\"\n",
        "        return self.info\n",
        "\n",
        "\n",
        "movie = Kino(**data[\"Forrest Gump\"])"
      ]
    },
    {
      "cell_type": "code",
      "execution_count": null,
      "metadata": {
        "colab": {
          "base_uri": "https://localhost:8080/"
        },
        "id": "iBPJzL3H-Q3l",
        "outputId": "618e8039-71a1-491f-fa41-a9d30ea038d2"
      },
      "outputs": [
        {
          "name": "stdout",
          "output_type": "stream",
          "text": [
            "to create run Kino(**data['Forrest Gump']))\n"
          ]
        }
      ],
      "source": [
        "print(movie) # str եթե կա, եթե չէ repr"
      ]
    },
    {
      "cell_type": "code",
      "execution_count": null,
      "metadata": {
        "colab": {
          "base_uri": "https://localhost:8080/",
          "height": 35
        },
        "id": "hWfZg5yF-Yd4",
        "outputId": "00c85c3f-1d43-46ae-926a-68daa375af85"
      },
      "outputs": [
        {
          "data": {
            "application/vnd.google.colaboratory.intrinsic+json": {
              "type": "string"
            },
            "text/plain": [
              "\"to create run Kino(**data['Forrest Gump']))\""
            ]
          },
          "execution_count": 20,
          "metadata": {},
          "output_type": "execute_result"
        }
      ],
      "source": [
        "repr(movie)"
      ]
    },
    {
      "cell_type": "markdown",
      "metadata": {
        "id": "tBwFb_I7_dkX"
      },
      "source": [
        "## __eq__, __ne__, __lt__, __le__, __gt__, __ge__"
      ]
    },
    {
      "cell_type": "markdown",
      "metadata": {
        "id": "lehuih8OAN-4"
      },
      "source": [
        "### eq"
      ]
    },
    {
      "cell_type": "code",
      "execution_count": null,
      "metadata": {
        "id": "cB3Bqanr-ast"
      },
      "outputs": [],
      "source": [
        "class Kino:\n",
        "    def __init__(self, Name, Released_Year, Runtime, Genre, IMDB_Rating, Director,\n",
        "                Star1, Star2, Star3, Star4, Gross):\n",
        "        self.name = Name\n",
        "        self.release_year = Released_Year\n",
        "        self.runtime = Runtime\n",
        "        self.genre = Genre\n",
        "        self.rating = IMDB_Rating\n",
        "        self.director = Director\n",
        "        self.star1 = Star1\n",
        "        self.star2 = Star2\n",
        "        self.star3 = Star3\n",
        "        self.star4 = Star4\n",
        "        self.gross = Gross\n",
        "\n",
        "    def __str__(self):\n",
        "        return f\"{self.name} by {self.director}, released in {self.release_year}\"\n",
        "\n",
        "    def __repr__(self):\n",
        "        return f\"to create run Kino(**data['{self.name}']))\"\n",
        "\n",
        "    def get_actors(self):\n",
        "        self.star_string = \", \".join([self.star1, self.star2, self.star3, self.star4])\n",
        "        return self.star_string\n",
        "\n",
        "    def get_info(self):\n",
        "        self.info = f\"Was released in {self.release_year} by {self.director}\"\n",
        "        return self.info\n",
        "\n",
        "\n",
        "\n",
        "movie1 = Kino(**data[\"Forrest Gump\"])\n",
        "movie2 = Kino(**data['The Shawshank Redemption'])"
      ]
    },
    {
      "cell_type": "code",
      "execution_count": null,
      "metadata": {
        "colab": {
          "base_uri": "https://localhost:8080/"
        },
        "id": "C2s0GPQhACL8",
        "outputId": "e15c5133-e370-47df-e1c4-c9b5639a45f6"
      },
      "outputs": [
        {
          "data": {
            "text/plain": [
              "True"
            ]
          },
          "execution_count": 25,
          "metadata": {},
          "output_type": "execute_result"
        }
      ],
      "source": [
        "movie1 == movie1"
      ]
    },
    {
      "cell_type": "code",
      "execution_count": null,
      "metadata": {
        "id": "G5xjD-A7AIQq"
      },
      "outputs": [],
      "source": [
        "class Kino:\n",
        "    def __init__(self, Name, Released_Year, Runtime, Genre, IMDB_Rating, Director,\n",
        "                Star1, Star2, Star3, Star4, Gross):\n",
        "        self.name = Name\n",
        "        self.release_year = Released_Year\n",
        "        self.runtime = Runtime\n",
        "        self.genre = Genre\n",
        "        self.rating = IMDB_Rating\n",
        "        self.director = Director\n",
        "        self.star1 = Star1\n",
        "        self.star2 = Star2\n",
        "        self.star3 = Star3\n",
        "        self.star4 = Star4\n",
        "        self.gross = Gross\n",
        "\n",
        "    def __eq__(self, other): # equal\n",
        "        return self.director == other.director\n",
        "\n",
        "\n",
        "movie1 = Kino(**data['The Godfather'])\n",
        "movie2 = Kino(**data[\"The Godfather: Part II\"])\n",
        "movie3 = Kino(**data['The Shawshank Redemption'])"
      ]
    },
    {
      "cell_type": "code",
      "execution_count": null,
      "metadata": {},
      "outputs": [],
      "source": []
    },
    {
      "cell_type": "code",
      "execution_count": null,
      "metadata": {
        "colab": {
          "base_uri": "https://localhost:8080/",
          "height": 35
        },
        "id": "1HJtqTVQY_l7",
        "outputId": "ae95c425-cbf4-4e61-bdf8-3ccdda376fc1"
      },
      "outputs": [
        {
          "data": {
            "application/vnd.google.colaboratory.intrinsic+json": {
              "type": "string"
            },
            "text/plain": [
              "'Francis Ford Coppola'"
            ]
          },
          "execution_count": 36,
          "metadata": {},
          "output_type": "execute_result"
        }
      ],
      "source": [
        "# data['The Godfather']\n",
        "movie1.director\n"
      ]
    },
    {
      "cell_type": "code",
      "execution_count": null,
      "metadata": {
        "colab": {
          "base_uri": "https://localhost:8080/"
        },
        "id": "vTB2WAdfAurQ",
        "outputId": "a71f5a69-f5ea-4128-ac75-983ac07c64bf"
      },
      "outputs": [
        {
          "name": "stdout",
          "output_type": "stream",
          "text": [
            "3\n",
            "3\n"
          ]
        }
      ],
      "source": [
        "print(movie1 == movie2) # -> movie1.__eq__(movie2)\n",
        "print(movie1 == movie3)"
      ]
    },
    {
      "cell_type": "code",
      "execution_count": null,
      "metadata": {
        "colab": {
          "base_uri": "https://localhost:8080/"
        },
        "id": "ymsqS4oDBORo",
        "outputId": "79bddb51-4b81-4e0d-e742-ced7973ac358"
      },
      "outputs": [
        {
          "name": "stdout",
          "output_type": "stream",
          "text": [
            "False\n"
          ]
        }
      ],
      "source": [
        "print(movie2 != movie3)"
      ]
    },
    {
      "cell_type": "markdown",
      "metadata": {
        "id": "PB5Vi6H5BpMK"
      },
      "source": [
        "## not equal"
      ]
    },
    {
      "cell_type": "code",
      "execution_count": null,
      "metadata": {
        "id": "9wqw3WZLBabb"
      },
      "outputs": [],
      "source": [
        "class Kino:\n",
        "    def __init__(self, Name, Released_Year, Runtime, Genre, IMDB_Rating, Director,\n",
        "                Star1, Star2, Star3, Star4, Gross):\n",
        "        self.name = Name\n",
        "        self.release_year = Released_Year\n",
        "        self.runtime = Runtime\n",
        "        self.genre = Genre\n",
        "        self.rating = IMDB_Rating\n",
        "        self.director = Director\n",
        "        self.star1 = Star1\n",
        "        self.star2 = Star2\n",
        "        self.star3 = Star3\n",
        "        self.star4 = Star4\n",
        "        self.gross = Gross\n",
        "\n",
        "    def __eq__(self, other):\n",
        "        return self.director == other.director\n",
        "\n",
        "    def __ne__(self, other): # not equal\n",
        "        return not self.__eq__(other)\n",
        "\n",
        "\n",
        "movie1 = Kino(**data['The Godfather'])\n",
        "movie2 = Kino(**data[\"The Godfather: Part II\"])\n",
        "movie3 = Kino(**data['The Shawshank Redemption'])"
      ]
    },
    {
      "cell_type": "code",
      "execution_count": null,
      "metadata": {
        "colab": {
          "base_uri": "https://localhost:8080/"
        },
        "id": "RO8RDMuuB1Wl",
        "outputId": "58cce879-8a02-4bea-b3b7-24c4a2aec468"
      },
      "outputs": [
        {
          "name": "stdout",
          "output_type": "stream",
          "text": [
            "False\n"
          ]
        }
      ],
      "source": [
        "print(movie1 != movie2)"
      ]
    },
    {
      "cell_type": "code",
      "execution_count": null,
      "metadata": {
        "colab": {
          "base_uri": "https://localhost:8080/"
        },
        "id": "JuClBQLsB3iS",
        "outputId": "836d726f-f375-4b18-d460-96ea98fc5048"
      },
      "outputs": [
        {
          "name": "stdout",
          "output_type": "stream",
          "text": [
            "True\n"
          ]
        }
      ],
      "source": [
        "print(movie2 != movie3)"
      ]
    },
    {
      "cell_type": "markdown",
      "metadata": {
        "id": "NzqL8PwzB5NH"
      },
      "source": [
        "## less than, less than or equal, greater than, greater than or equal"
      ]
    },
    {
      "cell_type": "code",
      "execution_count": null,
      "metadata": {
        "id": "v_9CaiGvB4Kz"
      },
      "outputs": [],
      "source": [
        "class Kino:\n",
        "    def __init__(self, Name, Released_Year, Runtime, Genre, IMDB_Rating, Director,\n",
        "                Star1, Star2, Star3, Star4, Gross):\n",
        "        self.name = Name\n",
        "        self.release_year = Released_Year\n",
        "        self.runtime = Runtime\n",
        "        self.genre = Genre\n",
        "        self.rating = IMDB_Rating\n",
        "        self.director = Director\n",
        "        self.star1 = Star1\n",
        "        self.star2 = Star2\n",
        "        self.star3 = Star3\n",
        "        self.star4 = Star4\n",
        "        self.gross = Gross\n",
        "\n",
        "    def __lt__(self, other): # less than\n",
        "        return self.rating < other.rating\n",
        "\n",
        "movie1 = Kino(**data['The Godfather'])\n",
        "movie2 = Kino(**data[\"The Godfather: Part II\"])\n",
        "movie3 = Kino(**data['The Shawshank Redemption'])"
      ]
    },
    {
      "cell_type": "code",
      "execution_count": null,
      "metadata": {
        "colab": {
          "base_uri": "https://localhost:8080/"
        },
        "id": "71TvrXfkCH89",
        "outputId": "c8eb75c7-39d3-4854-e702-0f554d62bb14"
      },
      "outputs": [
        {
          "name": "stdout",
          "output_type": "stream",
          "text": [
            "False\n"
          ]
        }
      ],
      "source": [
        "print(movie1 < movie2)"
      ]
    },
    {
      "cell_type": "code",
      "execution_count": null,
      "metadata": {
        "colab": {
          "base_uri": "https://localhost:8080/",
          "height": 141
        },
        "id": "up1CA4MWCKmj",
        "outputId": "93033744-15a4-4ec3-ac51-390174acff54"
      },
      "outputs": [
        {
          "ename": "TypeError",
          "evalue": "'<=' not supported between instances of 'Kino' and 'Kino'",
          "output_type": "error",
          "traceback": [
            "\u001b[0;31m---------------------------------------------------------------------------\u001b[0m",
            "\u001b[0;31mTypeError\u001b[0m                                 Traceback (most recent call last)",
            "\u001b[0;32m<ipython-input-41-f1c00aa2ab3a>\u001b[0m in \u001b[0;36m<cell line: 0>\u001b[0;34m()\u001b[0m\n\u001b[0;32m----> 1\u001b[0;31m \u001b[0mprint\u001b[0m\u001b[0;34m(\u001b[0m\u001b[0mmovie1\u001b[0m \u001b[0;34m<=\u001b[0m \u001b[0mmovie2\u001b[0m\u001b[0;34m)\u001b[0m\u001b[0;34m\u001b[0m\u001b[0;34m\u001b[0m\u001b[0m\n\u001b[0m",
            "\u001b[0;31mTypeError\u001b[0m: '<=' not supported between instances of 'Kino' and 'Kino'"
          ]
        }
      ],
      "source": [
        "print(movie1 <= movie2)"
      ]
    },
    {
      "cell_type": "code",
      "execution_count": null,
      "metadata": {
        "id": "FmMt8gwzCRZw"
      },
      "outputs": [],
      "source": [
        "class Kino:\n",
        "    def __init__(self, Name, Released_Year, Runtime, Genre, IMDB_Rating, Director,\n",
        "                Star1, Star2, Star3, Star4, Gross):\n",
        "        self.name = Name\n",
        "        self.release_year = Released_Year\n",
        "        self.runtime = Runtime\n",
        "        self.genre = Genre\n",
        "        self.rating = IMDB_Rating\n",
        "        self.director = Director\n",
        "        self.star1 = Star1\n",
        "        self.star2 = Star2\n",
        "        self.star3 = Star3\n",
        "        self.star4 = Star4\n",
        "        self.gross = Gross\n",
        "\n",
        "    def __lt__(self, other):\n",
        "        return self.rating < other.rating\n",
        "\n",
        "    def __le__(self, other): # less or equal\n",
        "        return self.rating <= other.rating\n",
        "\n",
        "\n",
        "movie1 = Kino(**data['The Godfather'])\n",
        "movie2 = Kino(**data[\"The Godfather: Part II\"])\n",
        "movie3 = Kino(**data['The Shawshank Redemption'])"
      ]
    },
    {
      "cell_type": "code",
      "execution_count": null,
      "metadata": {
        "colab": {
          "base_uri": "https://localhost:8080/"
        },
        "id": "NpLrvIRKCVYz",
        "outputId": "97394f8f-3772-433f-bba7-82104162faad"
      },
      "outputs": [
        {
          "name": "stdout",
          "output_type": "stream",
          "text": [
            "True\n"
          ]
        }
      ],
      "source": [
        "print(movie2 <= movie3)"
      ]
    },
    {
      "cell_type": "markdown",
      "metadata": {
        "id": "Pzmbk0c1Cepm"
      },
      "source": [
        "**greater than ու greater than or equalը նման ձևով**"
      ]
    },
    {
      "cell_type": "markdown",
      "metadata": {
        "id": "PL3IZ2n0Cmde"
      },
      "source": [
        "## add, sub, mul, truediv, floordiv, mod, pow"
      ]
    },
    {
      "cell_type": "code",
      "execution_count": null,
      "metadata": {
        "colab": {
          "base_uri": "https://localhost:8080/",
          "height": 175
        },
        "id": "g9E2k_x7CuKV",
        "outputId": "52ad49e2-3fa0-4215-cb27-f5e3db5bd1c3"
      },
      "outputs": [
        {
          "ename": "TypeError",
          "evalue": "unsupported operand type(s) for +: 'Kino' and 'Kino'",
          "output_type": "error",
          "traceback": [
            "\u001b[0;31m---------------------------------------------------------------------------\u001b[0m",
            "\u001b[0;31mTypeError\u001b[0m                                 Traceback (most recent call last)",
            "\u001b[0;32m<ipython-input-59-205a91fb7f6d>\u001b[0m in \u001b[0;36m<cell line: 1>\u001b[0;34m()\u001b[0m\n\u001b[0;32m----> 1\u001b[0;31m \u001b[0mmovie1\u001b[0m \u001b[0;34m+\u001b[0m \u001b[0mmovie2\u001b[0m\u001b[0;34m\u001b[0m\u001b[0;34m\u001b[0m\u001b[0m\n\u001b[0m",
            "\u001b[0;31mTypeError\u001b[0m: unsupported operand type(s) for +: 'Kino' and 'Kino'"
          ]
        }
      ],
      "source": [
        "movie1 + movie2"
      ]
    },
    {
      "cell_type": "code",
      "execution_count": null,
      "metadata": {
        "colab": {
          "base_uri": "https://localhost:8080/",
          "height": 175
        },
        "id": "9m-tzPLfC1Dj",
        "outputId": "7cdfba21-b97c-4e70-bf2a-5c8a5d1ee07a"
      },
      "outputs": [
        {
          "ename": "AttributeError",
          "evalue": "'Kino' object has no attribute '__add__'",
          "output_type": "error",
          "traceback": [
            "\u001b[0;31m---------------------------------------------------------------------------\u001b[0m",
            "\u001b[0;31mAttributeError\u001b[0m                            Traceback (most recent call last)",
            "\u001b[0;32m<ipython-input-60-d2e93785a7d5>\u001b[0m in \u001b[0;36m<cell line: 1>\u001b[0;34m()\u001b[0m\n\u001b[0;32m----> 1\u001b[0;31m \u001b[0mmovie1\u001b[0m\u001b[0;34m.\u001b[0m\u001b[0m__add__\u001b[0m\u001b[0;34m(\u001b[0m\u001b[0mmovie2\u001b[0m\u001b[0;34m)\u001b[0m\u001b[0;34m\u001b[0m\u001b[0;34m\u001b[0m\u001b[0m\n\u001b[0m",
            "\u001b[0;31mAttributeError\u001b[0m: 'Kino' object has no attribute '__add__'"
          ]
        }
      ],
      "source": [
        "movie1.__add__(movie2)"
      ]
    },
    {
      "cell_type": "code",
      "execution_count": null,
      "metadata": {
        "id": "0baD1iFqC22U"
      },
      "outputs": [],
      "source": [
        "class Kino:\n",
        "    def __init__(self, Name, Released_Year, Runtime, Genre, IMDB_Rating, Director,\n",
        "                Star1, Star2, Star3, Star4, Gross):\n",
        "        self.name = Name\n",
        "        self.release_year = Released_Year\n",
        "        self.runtime = Runtime\n",
        "        self.genre = Genre\n",
        "        self.rating = IMDB_Rating\n",
        "        self.director = Director\n",
        "        self.star1 = Star1\n",
        "        self.star2 = Star2\n",
        "        self.star3 = Star3\n",
        "        self.star4 = Star4\n",
        "        self.gross = Gross\n",
        "\n",
        "    def __add__(self, other):\n",
        "        print(f\"adding {self.name} and {other.name}\")\n",
        "        return int(self.runtime.split()[0]) + int(other.runtime.split()[0])\n",
        "\n",
        "\n",
        "movie1 = Kino(**data['The Godfather'])\n",
        "movie2 = Kino(**data[\"The Godfather: Part II\"])\n",
        "movie3 = Kino(**data['The Shawshank Redemption'])"
      ]
    },
    {
      "cell_type": "code",
      "execution_count": null,
      "metadata": {
        "colab": {
          "base_uri": "https://localhost:8080/"
        },
        "id": "xu7zoz54DFqL",
        "outputId": "43cda6d9-b592-4dd4-f4ba-00328522576a"
      },
      "outputs": [
        {
          "name": "stdout",
          "output_type": "stream",
          "text": [
            "adding The Godfather and The Godfather: Part II\n"
          ]
        },
        {
          "data": {
            "text/plain": [
              "377"
            ]
          },
          "execution_count": 43,
          "metadata": {},
          "output_type": "execute_result"
        }
      ],
      "source": [
        "movie1 + movie2"
      ]
    },
    {
      "cell_type": "code",
      "execution_count": null,
      "metadata": {
        "id": "TvhQ3G2uDIYw"
      },
      "outputs": [],
      "source": [
        "class Kino:\n",
        "    def __init__(self, Name, Released_Year, Runtime, Genre, IMDB_Rating, Director,\n",
        "                Star1, Star2, Star3, Star4, Gross):\n",
        "        self.name = Name\n",
        "        self.release_year = Released_Year\n",
        "        self.runtime = Runtime\n",
        "        self.genre = Genre\n",
        "        self.rating = IMDB_Rating\n",
        "        self.director = Director\n",
        "        self.star1 = Star1\n",
        "        self.star2 = Star2\n",
        "        self.star3 = Star3\n",
        "        self.star4 = Star4\n",
        "        self.gross = Gross\n",
        "\n",
        "    def __truediv__(self, other): # /\n",
        "        return self.rating / other.rating\n",
        "\n",
        "    def __floordiv__(self, other): # //\n",
        "        return \"երկուսն էլ լավն են\"\n",
        "\n",
        "movie1 = Kino(**data['The Godfather'])\n",
        "movie2 = Kino(**data[\"The Godfather: Part II\"])\n",
        "movie3 = Kino(**data['The Shawshank Redemption'])"
      ]
    },
    {
      "cell_type": "code",
      "execution_count": null,
      "metadata": {
        "colab": {
          "base_uri": "https://localhost:8080/"
        },
        "id": "dgHlca0DDwyR",
        "outputId": "2f0f1d5a-f62a-4fb4-981f-be599f1ce26d"
      },
      "outputs": [
        {
          "data": {
            "text/plain": [
              "1.0108695652173914"
            ]
          },
          "execution_count": 64,
          "metadata": {},
          "output_type": "execute_result"
        }
      ],
      "source": [
        "movie3 / movie1"
      ]
    },
    {
      "cell_type": "code",
      "execution_count": null,
      "metadata": {
        "colab": {
          "base_uri": "https://localhost:8080/",
          "height": 36
        },
        "id": "EazTxr3ADx77",
        "outputId": "e6a94acc-b2c1-4ff7-b0fc-0d65b7fa7feb"
      },
      "outputs": [
        {
          "data": {
            "application/vnd.google.colaboratory.intrinsic+json": {
              "type": "string"
            },
            "text/plain": [
              "'երկուսն էլ լավն են'"
            ]
          },
          "execution_count": 65,
          "metadata": {},
          "output_type": "execute_result"
        }
      ],
      "source": [
        "movie3 // movie1"
      ]
    },
    {
      "cell_type": "markdown",
      "metadata": {
        "id": "Pmw3-CHbEejy"
      },
      "source": [
        "## len"
      ]
    },
    {
      "cell_type": "code",
      "execution_count": null,
      "metadata": {
        "id": "2Iyh71rLD-S3"
      },
      "outputs": [],
      "source": [
        "class Kino:\n",
        "    def __init__(self, Name, Released_Year, Runtime, Genre, IMDB_Rating, Director,\n",
        "                Star1, Star2, Star3, Star4, Gross):\n",
        "        self.name = Name\n",
        "        self.release_year = Released_Year\n",
        "        self.runtime = Runtime\n",
        "        self.genre = Genre\n",
        "        self.rating = IMDB_Rating\n",
        "        self.director = Director\n",
        "        self.star1 = Star1\n",
        "        self.star2 = Star2\n",
        "        self.star3 = Star3\n",
        "        self.star4 = Star4\n",
        "        self.gross = Gross\n",
        "\n",
        "    def __len__(self):\n",
        "        duration = int(self.runtime.split()[0])\n",
        "        return duration // 60 + 1 # must be integer\n",
        "\n",
        "movie1 = Kino(**data['The Godfather'])\n",
        "movie2 = Kino(**data[\"The Godfather: Part II\"])\n",
        "movie3 = Kino(**data['The Shawshank Redemption'])"
      ]
    },
    {
      "cell_type": "code",
      "execution_count": null,
      "metadata": {
        "colab": {
          "base_uri": "https://localhost:8080/"
        },
        "id": "VGvE_aRpEsFV",
        "outputId": "6e596116-0e46-437a-db5e-9f9772b133bb"
      },
      "outputs": [
        {
          "data": {
            "text/plain": [
              "3"
            ]
          },
          "execution_count": 45,
          "metadata": {},
          "output_type": "execute_result"
        }
      ],
      "source": [
        "len(movie1)"
      ]
    },
    {
      "cell_type": "markdown",
      "metadata": {
        "id": "K4psKyfSFySa"
      },
      "source": [
        "## getting indexes\n",
        "__getitem__,\n",
        "__setitem__,\n",
        "__delitem__,"
      ]
    },
    {
      "cell_type": "code",
      "execution_count": null,
      "metadata": {
        "id": "Knj3SuEsFhQC"
      },
      "outputs": [],
      "source": [
        "class Genre:\n",
        "    def __init__(self, name, description, kinoner=None):\n",
        "        self.name = name\n",
        "        self.description = description\n",
        "        self.kinoner = kinoner if kinoner else []\n",
        "\n",
        "    def number_of_films(self):\n",
        "        return len(self.kinoner)\n",
        "\n",
        "    def get_average_rating(self):\n",
        "        total = 0\n",
        "        for k in self.kinoner:\n",
        "            total += k.rating\n",
        "        return total / self.number_of_films()"
      ]
    },
    {
      "cell_type": "code",
      "execution_count": null,
      "metadata": {
        "id": "z4rPG_ySGMtb"
      },
      "outputs": [],
      "source": [
        "movies_list = [Kino(**data[i]) for i in data.keys()]\n",
        "\n",
        "movies_by_genre = {}\n",
        "\n",
        "for movie in movies_list:\n",
        "    for g in movie.genre.split(\", \"):\n",
        "        if g in movies_by_genre.keys():\n",
        "            movies_by_genre[g].append(movie)\n",
        "        else:\n",
        "            movies_by_genre[g] = [movie]\n"
      ]
    },
    {
      "cell_type": "code",
      "execution_count": null,
      "metadata": {
        "id": "1dWTgj3fF97J"
      },
      "outputs": [],
      "source": [
        "drama = Genre(name=\"Drama\", description=\"Լացելու կինոներ\", kinoner=movies_by_genre['Drama'])"
      ]
    },
    {
      "cell_type": "code",
      "execution_count": null,
      "metadata": {
        "colab": {
          "base_uri": "https://localhost:8080/"
        },
        "id": "fq8Av0aKGC3F",
        "outputId": "a2441a2d-47f2-47be-84b9-c02680896d6f"
      },
      "outputs": [
        {
          "data": {
            "text/plain": [
              "7.95905947441221"
            ]
          },
          "execution_count": 80,
          "metadata": {},
          "output_type": "execute_result"
        }
      ],
      "source": [
        "drama.get_average_rating()"
      ]
    },
    {
      "cell_type": "code",
      "execution_count": null,
      "metadata": {
        "colab": {
          "base_uri": "https://localhost:8080/"
        },
        "id": "OFzJ-_deGxZP",
        "outputId": "c5b438b6-d9bb-4eaf-bc28-e9cdec6942b9"
      },
      "outputs": [
        {
          "data": {
            "text/plain": [
              "<__main__.Kino at 0x7a6dd3151950>"
            ]
          },
          "execution_count": 50,
          "metadata": {},
          "output_type": "execute_result"
        }
      ],
      "source": [
        "drama.kinoner[0]"
      ]
    },
    {
      "cell_type": "markdown",
      "metadata": {
        "id": "IgO0fi7xG9B9"
      },
      "source": [
        "### demo"
      ]
    },
    {
      "cell_type": "code",
      "execution_count": null,
      "metadata": {
        "colab": {
          "base_uri": "https://localhost:8080/",
          "height": 263
        },
        "id": "LdKaEClmG-g6",
        "outputId": "22383c81-808c-4f29-e44a-1a5e1958e78f"
      },
      "outputs": [
        {
          "name": "stdout",
          "output_type": "stream",
          "text": [
            "1\n"
          ]
        },
        {
          "name": "stderr",
          "output_type": "stream",
          "text": [
            "<>:4: SyntaxWarning: 'set' object is not subscriptable; perhaps you missed a comma?\n",
            "<>:4: SyntaxWarning: 'set' object is not subscriptable; perhaps you missed a comma?\n",
            "<ipython-input-53-595096effeb4>:4: SyntaxWarning: 'set' object is not subscriptable; perhaps you missed a comma?\n",
            "  print({1,2,3}[0])\n"
          ]
        },
        {
          "ename": "TypeError",
          "evalue": "'set' object is not subscriptable",
          "output_type": "error",
          "traceback": [
            "\u001b[0;31m---------------------------------------------------------------------------\u001b[0m",
            "\u001b[0;31mTypeError\u001b[0m                                 Traceback (most recent call last)",
            "\u001b[0;32m<ipython-input-53-595096effeb4>\u001b[0m in \u001b[0;36m<cell line: 0>\u001b[0;34m()\u001b[0m\n\u001b[1;32m      2\u001b[0m \u001b[0;34m\u001b[0m\u001b[0m\n\u001b[1;32m      3\u001b[0m \u001b[0mprint\u001b[0m\u001b[0;34m(\u001b[0m\u001b[0;34m[\u001b[0m\u001b[0;36m1\u001b[0m\u001b[0;34m,\u001b[0m\u001b[0;36m2\u001b[0m\u001b[0;34m,\u001b[0m\u001b[0;36m3\u001b[0m\u001b[0;34m]\u001b[0m\u001b[0;34m[\u001b[0m\u001b[0;36m0\u001b[0m\u001b[0;34m]\u001b[0m\u001b[0;34m)\u001b[0m\u001b[0;34m\u001b[0m\u001b[0;34m\u001b[0m\u001b[0m\n\u001b[0;32m----> 4\u001b[0;31m \u001b[0mprint\u001b[0m\u001b[0;34m(\u001b[0m\u001b[0;34m{\u001b[0m\u001b[0;36m1\u001b[0m\u001b[0;34m,\u001b[0m\u001b[0;36m2\u001b[0m\u001b[0;34m,\u001b[0m\u001b[0;36m3\u001b[0m\u001b[0;34m}\u001b[0m\u001b[0;34m[\u001b[0m\u001b[0;36m0\u001b[0m\u001b[0;34m]\u001b[0m\u001b[0;34m)\u001b[0m\u001b[0;34m\u001b[0m\u001b[0;34m\u001b[0m\u001b[0m\n\u001b[0m",
            "\u001b[0;31mTypeError\u001b[0m: 'set' object is not subscriptable"
          ]
        }
      ],
      "source": [
        "drama[0]\n",
        "\n",
        "print([1,2,3][0])\n",
        "print({1,2,3}[0])\n"
      ]
    },
    {
      "cell_type": "code",
      "execution_count": null,
      "metadata": {
        "id": "lG_cYav7GfG4"
      },
      "outputs": [],
      "source": [
        "class Genre:\n",
        "    def __init__(self, name, description, kinoner=None):\n",
        "        self.name = name\n",
        "        self.description = description\n",
        "        self.kinoner = kinoner if kinoner else []\n",
        "\n",
        "    def get_average_rating(self):\n",
        "        total = 0\n",
        "        for k in self.kinoner:\n",
        "            total += k.rating\n",
        "        return total / self.number_of_films()\n",
        "\n",
        "    def number_of_films(self):\n",
        "        return len(self.kinoner)\n",
        "\n",
        "    def __getitem__(self, index):\n",
        "        return self.kinoner[index]\n",
        "\n",
        "    def __setitem__(self, index, value):\n",
        "        self.kinoner[index] = value\n",
        "\n",
        "    def __delitem__(self, index):\n",
        "        del self.kinoner[index]\n"
      ]
    },
    {
      "cell_type": "code",
      "execution_count": null,
      "metadata": {
        "id": "sib6FtmKG700"
      },
      "outputs": [],
      "source": [
        "drama = Genre(name=\"Drama\", description=\"Լացելու կինոներ\", kinoner=movies_by_genre['Drama'])"
      ]
    },
    {
      "cell_type": "code",
      "execution_count": null,
      "metadata": {
        "colab": {
          "base_uri": "https://localhost:8080/"
        },
        "id": "BY9byLE9HFS8",
        "outputId": "91192aaa-4632-4b75-c8bc-404ace6f3547"
      },
      "outputs": [
        {
          "data": {
            "text/plain": [
              "<__main__.Kino at 0x7a6dd3151950>"
            ]
          },
          "execution_count": 56,
          "metadata": {},
          "output_type": "execute_result"
        }
      ],
      "source": [
        "drama[0] # drama.__getitem__(0)"
      ]
    },
    {
      "cell_type": "code",
      "execution_count": null,
      "metadata": {
        "id": "TeTQJRJCHGIi"
      },
      "outputs": [],
      "source": [
        "drama[0] = \"կարգին հաղորդում\" # drama.__setitem__(0, \"կարգին հաղորդում\")"
      ]
    },
    {
      "cell_type": "code",
      "execution_count": null,
      "metadata": {
        "colab": {
          "base_uri": "https://localhost:8080/",
          "height": 35
        },
        "id": "rSZgIXpXHSQQ",
        "outputId": "54bbeb31-e9c4-44ef-f28f-340b9db1008d"
      },
      "outputs": [
        {
          "data": {
            "application/vnd.google.colaboratory.intrinsic+json": {
              "type": "string"
            },
            "text/plain": [
              "'կարգին հաղորդում'"
            ]
          },
          "execution_count": 60,
          "metadata": {},
          "output_type": "execute_result"
        }
      ],
      "source": [
        "drama[0]"
      ]
    },
    {
      "cell_type": "code",
      "execution_count": null,
      "metadata": {
        "id": "vLfL5HdtHTb3"
      },
      "outputs": [],
      "source": [
        "drama.kinoner"
      ]
    },
    {
      "cell_type": "code",
      "execution_count": null,
      "metadata": {
        "id": "G-aapzS8HVrN"
      },
      "outputs": [],
      "source": [
        "del drama[0]"
      ]
    },
    {
      "cell_type": "code",
      "execution_count": null,
      "metadata": {
        "colab": {
          "base_uri": "https://localhost:8080/"
        },
        "id": "bvaKRc_oHZMk",
        "outputId": "7bafe5f5-7afe-4534-d708-e3212c5a0ae3"
      },
      "outputs": [
        {
          "data": {
            "text/plain": [
              "[<__main__.Kino at 0x7a6dd3152910>,\n",
              " <__main__.Kino at 0x7a6d9d3e2990>,\n",
              " <__main__.Kino at 0x7a6dd310dbd0>,\n",
              " <__main__.Kino at 0x7a6d9d403a90>]"
            ]
          },
          "execution_count": 63,
          "metadata": {},
          "output_type": "execute_result"
        }
      ],
      "source": [
        "drama[:4]"
      ]
    },
    {
      "cell_type": "markdown",
      "metadata": {
        "id": "4GfmHzNcH3sU"
      },
      "source": [
        "# contains"
      ]
    },
    {
      "cell_type": "code",
      "execution_count": null,
      "metadata": {
        "id": "uEkzYhGOH5N3"
      },
      "outputs": [],
      "source": [
        "class Kino:\n",
        "    def __init__(self, Name, Released_Year, Runtime, Genre, IMDB_Rating, Director,\n",
        "                Star1, Star2, Star3, Star4, Gross):\n",
        "        self.name = Name\n",
        "        self.release_year = Released_Year\n",
        "        self.runtime = Runtime\n",
        "        self.genre = Genre\n",
        "        self.rating = IMDB_Rating\n",
        "        self.director = Director\n",
        "        self.star1 = Star1\n",
        "        self.star2 = Star2\n",
        "        self.star3 = Star3\n",
        "        self.star4 = Star4\n",
        "        self.gross = Gross\n",
        "\n",
        "\n",
        "    def get_actors(self):\n",
        "        self.star_string = \", \".join([self.star1, self.star2, self.star3, self.star4])\n",
        "        return self.star_string\n",
        "\n",
        "    def __contains__(self, other) -> bool:\n",
        "        return self.star1 in other.get_actors()\n",
        "\n",
        "movie1 = Kino(**data['The Godfather'])\n",
        "movie2 = Kino(**data[\"The Godfather: Part II\"])\n",
        "movie3 = Kino(**data['The Shawshank Redemption'])"
      ]
    },
    {
      "cell_type": "code",
      "execution_count": null,
      "metadata": {
        "colab": {
          "base_uri": "https://localhost:8080/"
        },
        "id": "e7uaNhr2ILQ2",
        "outputId": "e755f893-f596-4e2d-86d2-c0d6af48b9da"
      },
      "outputs": [
        {
          "data": {
            "text/plain": [
              "False"
            ]
          },
          "execution_count": 65,
          "metadata": {},
          "output_type": "execute_result"
        }
      ],
      "source": [
        "movie1 in movie3\n",
        "\n"
      ]
    },
    {
      "cell_type": "code",
      "execution_count": null,
      "metadata": {
        "colab": {
          "base_uri": "https://localhost:8080/"
        },
        "id": "megUZfqxIYPf",
        "outputId": "3afecfff-728e-40e3-ac40-e4637cfafeab"
      },
      "outputs": [
        {
          "name": "stdout",
          "output_type": "stream",
          "text": [
            "sdasdaasdasd\n",
            "7\n"
          ]
        }
      ],
      "source": [
        "print(\"sdasda\" + \"asdasd\")\n",
        "print(3 + 4)\n"
      ]
    },
    {
      "cell_type": "markdown",
      "metadata": {
        "id": "jSdKVC2KIjXm"
      },
      "source": [
        "# Polymorphism OOP - 2"
      ]
    },
    {
      "cell_type": "code",
      "execution_count": null,
      "metadata": {
        "colab": {
          "base_uri": "https://localhost:8080/"
        },
        "id": "z9mfSgkhJOMC",
        "outputId": "21ab9051-66b9-46ef-f4be-584792401074"
      },
      "outputs": [
        {
          "name": "stdout",
          "output_type": "stream",
          "text": [
            "340\n",
            "5599\n",
            "28.274328\n",
            "78.5398\n"
          ]
        }
      ],
      "source": [
        "class Rectangle:\n",
        "    def __init__(self, width, height):\n",
        "        self.width = width\n",
        "        self.height = height\n",
        "\n",
        "    def calculate_rect_area(self):\n",
        "        return self.width * self.height\n",
        "\n",
        "class Circle:\n",
        "    def __init__(self, radius):\n",
        "        self.radius = radius\n",
        "\n",
        "    def calculate_circle_area(self):\n",
        "        return 3.141592 * self.radius ** 2\n",
        "\n",
        "rect1 = Rectangle(34, 10)\n",
        "rect2 = Rectangle(11, 509)\n",
        "circle1 = Circle(3)\n",
        "circle2 = Circle(5)\n",
        "\n",
        "print(rect1.calculate_rect_area())\n",
        "print(rect2.calculate_rect_area())\n",
        "print(circle1.calculate_circle_area())\n",
        "print(circle2.calculate_circle_area())"
      ]
    },
    {
      "cell_type": "code",
      "execution_count": null,
      "metadata": {
        "colab": {
          "base_uri": "https://localhost:8080/"
        },
        "id": "2zzq6B8NKQWb",
        "outputId": "99cc136f-a9a7-45d4-efb1-78d410134514"
      },
      "outputs": [
        {
          "name": "stdout",
          "output_type": "stream",
          "text": [
            "340\n",
            "5599\n",
            "28.274328000000004\n",
            "78.5398\n"
          ]
        }
      ],
      "source": [
        "class Rectangle:\n",
        "    def __init__(self, width, height):\n",
        "        self.width = width\n",
        "        self.height = height\n",
        "\n",
        "    def calculate_rect_area(self):\n",
        "        return self.width * self.height\n",
        "\n",
        "class Circle:\n",
        "    def __init__(self, radius):\n",
        "        self.radius = radius\n",
        "\n",
        "    def calculate_circle_area(self):\n",
        "        return 3.141592 * self.radius * self.radius\n",
        "\n",
        "rect1 = Rectangle(34, 10)\n",
        "rect2 = Rectangle(11, 509)\n",
        "circle1 = Circle(3)\n",
        "circle2 = Circle(5)\n",
        "\n",
        "for r in [rect1, rect2]:\n",
        "    print(r.calculate_rect_area())\n",
        "\n",
        "\n",
        "for c in [circle1, circle2]:\n",
        "    print(c.calculate_circle_area())\n"
      ]
    },
    {
      "cell_type": "code",
      "execution_count": null,
      "metadata": {
        "colab": {
          "base_uri": "https://localhost:8080/"
        },
        "id": "GzsyE4MZKdnn",
        "outputId": "7dc4a4ae-2a49-4e3d-85d0-cbbd4dbc49ea"
      },
      "outputs": [
        {
          "name": "stdout",
          "output_type": "stream",
          "text": [
            "340\n",
            "5599\n",
            "28.274328000000004\n",
            "78.5398\n"
          ]
        }
      ],
      "source": [
        "class Rectangle:\n",
        "    def __init__(self, width, height):\n",
        "        self.width = width\n",
        "        self.height = height\n",
        "\n",
        "    def calculate_area(self):\n",
        "        return self.width * self.height\n",
        "\n",
        "class Circle:\n",
        "    def __init__(self, radius):\n",
        "        self.radius = radius\n",
        "\n",
        "    def calculate_area(self):\n",
        "        return 3.141592 * self.radius * self.radius\n",
        "\n",
        "rect1 = Rectangle(34, 10)\n",
        "rect2 = Rectangle(11, 509)\n",
        "circle1 = Circle(3)\n",
        "circle2 = Circle(5)\n",
        "\n",
        "for shape in [rect1, rect2, circle1, circle2]:\n",
        "    print(shape.calculate_area())\n",
        "\n"
      ]
    },
    {
      "cell_type": "code",
      "execution_count": null,
      "metadata": {
        "colab": {
          "base_uri": "https://localhost:8080/"
        },
        "id": "-bBCpW0OLbqn",
        "outputId": "18c3aff9-a73f-4b49-9f27-377ef2060b1b"
      },
      "outputs": [
        {
          "name": "stdout",
          "output_type": "stream",
          "text": [
            "340\n"
          ]
        }
      ],
      "source": [
        "class Rectangle:\n",
        "    def __init__(self, width, height):\n",
        "        self.width = width\n",
        "        self.height = height\n",
        "\n",
        "    def calculate_area(self):\n",
        "        return self.width * self.height\n",
        "\n",
        "class Circle:\n",
        "    def __init__(self, radius):\n",
        "        self.radius = radius\n",
        "\n",
        "    def calculate_area(self):\n",
        "        return 3.141592 * self.radius * self.radius\n",
        "\n",
        "rect1 = Rectangle(34, 10)\n",
        "rect2 = Rectangle(11, 509)\n",
        "circle1 = Circle(3)\n",
        "circle2 = Circle(5)\n",
        "\n",
        "def area(shape):\n",
        "    return shape.calculate_area()\n",
        "\n",
        "print(area(rect1))"
      ]
    },
    {
      "cell_type": "code",
      "execution_count": null,
      "metadata": {
        "colab": {
          "base_uri": "https://localhost:8080/",
          "height": 36
        },
        "id": "MF7YnZysppFM",
        "outputId": "52a12622-07d7-4ea0-efda-724b7dfd768c"
      },
      "outputs": [
        {
          "data": {
            "application/vnd.google.colaboratory.intrinsic+json": {
              "type": "string"
            },
            "text/plain": [
              "'Բարև'"
            ]
          },
          "execution_count": 113,
          "metadata": {},
          "output_type": "execute_result"
        }
      ],
      "source": [
        "class Armenian:\n",
        "    def barevel(self):\n",
        "        return \"Բարև\"\n",
        "\n",
        "class SpyurqaArmenian:\n",
        "    def barevel(self):\n",
        "        return \"Փարևև, բաբամ\"\n",
        "\n",
        "a = Armenian()\n",
        "s = SpyurqaArmenian()\n",
        "\n",
        "def barev(mard):\n",
        "    return mard.barevel()\n",
        "\n",
        "barev(a)"
      ]
    },
    {
      "cell_type": "code",
      "execution_count": null,
      "metadata": {
        "id": "vO4X6YeGLpM3"
      },
      "outputs": [],
      "source": [
        "էս մեր area-ն, polymorphic ֆունկցիայա"
      ]
    },
    {
      "cell_type": "markdown",
      "metadata": {
        "id": "Sedl6-icI60S"
      },
      "source": [
        "# PEP8"
      ]
    },
    {
      "cell_type": "markdown",
      "metadata": {
        "id": "QDkeNkZAJGYf"
      },
      "source": [
        "[Docs](https://peps.python.org/pep-0008/) \\\n",
        "[լավ նյութ](https://realpython.com/python-pep8/#:~:text=PEP%208%2C%20sometimes%20spelled%20PEP8,and%20consistency%20of%20Python%20code.)"
      ]
    },
    {
      "cell_type": "code",
      "execution_count": null,
      "metadata": {
        "colab": {
          "base_uri": "https://localhost:8080/"
        },
        "id": "lzV5iO7_ORJr",
        "outputId": "f9263e0e-d4d1-419b-f3d1-b5021773328e"
      },
      "outputs": [
        {
          "name": "stdout",
          "output_type": "stream",
          "text": [
            "The Zen of Python, by Tim Peters\n",
            "\n",
            "Beautiful is better than ugly.\n",
            "Explicit is better than implicit.\n",
            "Simple is better than complex.\n",
            "Complex is better than complicated.\n",
            "Flat is better than nested.\n",
            "Sparse is better than dense.\n",
            "Readability counts.\n",
            "Special cases aren't special enough to break the rules.\n",
            "Although practicality beats purity.\n",
            "Errors should never pass silently.\n",
            "Unless explicitly silenced.\n",
            "In the face of ambiguity, refuse the temptation to guess.\n",
            "There should be one-- and preferably only one --obvious way to do it.\n",
            "Although that way may not be obvious at first unless you're Dutch.\n",
            "Now is better than never.\n",
            "Although never is often better than *right* now.\n",
            "If the implementation is hard to explain, it's a bad idea.\n",
            "If the implementation is easy to explain, it may be a good idea.\n",
            "Namespaces are one honking great idea -- let's do more of those!\n"
          ]
        }
      ],
      "source": [
        "import this"
      ]
    },
    {
      "cell_type": "code",
      "execution_count": null,
      "metadata": {
        "id": "oowFRbTSOSAb"
      },
      "outputs": [],
      "source": []
    }
  ],
  "metadata": {
    "colab": {
      "provenance": []
    },
    "kernelspec": {
      "display_name": "Python 3",
      "name": "python3"
    },
    "language_info": {
      "name": "python"
    }
  },
  "nbformat": 4,
  "nbformat_minor": 0
}

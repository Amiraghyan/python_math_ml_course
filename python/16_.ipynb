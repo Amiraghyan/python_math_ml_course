{
 "cells": [
  {
   "cell_type": "markdown",
   "id": "1c80606e",
   "metadata": {},
   "source": [
    "![image.png](../background_photos/py_16_souvenirs.jpg)\n",
    "Երևան, Մոսկովյան, [լուսանկարի հղումը](https://unsplash.com/photos/2En8C4tnTSo), Հեղինակ՝ [Taguhi Kirakosyan](https://unsplash.com/@taguhi_kirakosyan)"
   ]
  },
  {
   "cell_type": "markdown",
   "id": "66b645ee",
   "metadata": {},
   "source": []
  }
 ],
 "metadata": {
  "language_info": {
   "name": "python"
  }
 },
 "nbformat": 4,
 "nbformat_minor": 5
}

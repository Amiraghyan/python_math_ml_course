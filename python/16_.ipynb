{
 "cells": [
  {
   "cell_type": "markdown",
   "id": "1c80606e",
   "metadata": {},
   "source": [
    "![image.png](../background_photos/py_16_souvenirs.jpg)\n",
    "Երևան, Մոսկովյան, [լուսանկարի հղումը](https://unsplash.com/photos/2En8C4tnTSo), Հեղինակ՝ [Taguhi Kirakosyan](https://unsplash.com/@taguhi_kirakosyan)"
   ]
  },
  {
   "cell_type": "markdown",
   "id": "66b645ee",
   "metadata": {},
   "source": []
  },
  {
   "cell_type": "markdown",
   "id": "7e6812fa",
   "metadata": {},
   "source": [
    "# 🎲 16\n",
    "- ▶️[Video](https://www.youtube.com/watch?v=iLX_r_WPrIw)\n",
    "- ▶️[Video 🔥](https://www.youtube.com/watch?v=6_2ZJ4QW_O4)\n",
    "- 🇦🇲🎶[Chepitch](https://www.youtube.com/watch?v=X4AXWYw5e00)\n",
    "- 🌐🎶[5'nizza](https://www.youtube.com/watch?v=dqswOhKg9tE)\n",
    "- 🤌[Կարգին](https://www.youtube.com/watch?v=DmUrhTAdAD4)"
   ]
  }
 ],
 "metadata": {
  "language_info": {
   "name": "python"
  }
 },
 "nbformat": 4,
 "nbformat_minor": 5
}

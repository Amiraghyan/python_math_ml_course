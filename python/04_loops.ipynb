{
  "cells": [
    {
      "cell_type": "raw",
      "metadata": {
        "vscode": {
          "languageId": "raw"
        }
      },
      "source": [
        "---\n",
        "title: \"04 Loops, For, While, Break, Continue, Else\"\n",
        "format: \n",
        "  html:\n",
        "    code-fold: false\n",
        "number-offset: 1\n",
        "---"
      ]
    },
    {
      "cell_type": "markdown",
      "metadata": {},
      "source": [
        "![image.png](wallpapers/04_fruits.jpg)\n",
        "[լուսանկարի հղումը](https://unsplash.com/photos/hHxAXrbzG4U), Հեղինակ՝ [Naz Israyelyan](https://unsplash.com/@nazisrayelyan)"
      ]
    },
    {
      "cell_type": "markdown",
      "metadata": {
        "colab_type": "text",
        "id": "view-in-github"
      },
      "source": [
        "<a href=\"https://colab.research.google.com/github/HaykTarkhanyan/python_math_ml_course/blob/main/%5BInitial%5D_Python_%7C_%D5%8F4_%7C_For%2C_while_%D6%81%D5%AB%D5%AF%D5%AC%D5%A5%D6%80.ipynb\" target=\"_parent\"><img src=\"https://colab.research.google.com/assets/colab-badge.svg\" alt=\"Open In Colab\"/></a> (ToDo)"
      ]
    },
    {
      "cell_type": "markdown",
      "metadata": {
        "id": "yZSRnMonPIBB"
      },
      "source": [
        "`while` my_guitar_gently_weeps: \\\n",
        "(c) [Beatles](https://www.youtube.com/watch?v=VJDJs9dumZI)"
      ]
    },
    {
      "cell_type": "markdown",
      "metadata": {
        "id": "2cZ-yX1jqd_0"
      },
      "source": [
        "# For"
      ]
    },
    {
      "cell_type": "markdown",
      "metadata": {
        "id": "u_yr_A_r0E3k"
      },
      "source": [
        "## For ցիկլը տարբեր տվյաների կառուցվածների վրա"
      ]
    },
    {
      "cell_type": "markdown",
      "metadata": {
        "id": "ew7CgC2P28Wz"
      },
      "source": [
        "### for լիստ"
      ]
    },
    {
      "cell_type": "code",
      "execution_count": 1,
      "metadata": {
        "id": "qRQinpwpjNgY"
      },
      "outputs": [],
      "source": [
        "anunner = [\"Լեռնիկ\", \"Սանասար\", \"Թելման\", \"Ժորիկ\", \"Ժորժիկ\", \"Այծեմնիկ\",\n",
        "           \"Սպիրիդոն\", \"Սուլեյման\", \"Տարզան\", \"Թորգոմիկ\", \"Կճեպ\", \"Խփո\",\n",
        "           \"Դառվիս\", \"Վիտյոկ\", \"Մոզգ\", \"Բութուլ\", \"Տալաշ\", \"Բերիմոռ\",\n",
        "           \"Ֆայլո\", \"Գոռո\", \"Մավսես\", \"Դրակոն\", \"Լութո\", \"Բարշամ\",\n",
        "           \"Էռնեստո Փարպեցի\", \"Բարխուդարում\", \"Բոբոլ\", \"Հռազմիկ\"]"
      ]
    },
    {
      "cell_type": "code",
      "execution_count": 2,
      "metadata": {
        "colab": {
          "base_uri": "https://localhost:8080/"
        },
        "id": "7DntbI-Mses4",
        "outputId": "d8d3a259-8122-43b1-a314-25efb144147e"
      },
      "outputs": [
        {
          "name": "stdout",
          "output_type": "stream",
          "text": [
            "Լեռնիկն կարգինի հերոս է\n",
            "Սանասարն կարգինի հերոս է\n",
            "Թելմանն կարգինի հերոս է\n",
            "Ժորիկն կարգինի հերոս է\n",
            "Ժորժիկն կարգինի հերոս է\n",
            "Այծեմնիկն կարգինի հերոս է\n",
            "Սպիրիդոնն կարգինի հերոս է\n",
            "Սուլեյմանն կարգինի հերոս է\n",
            "Տարզանն կարգինի հերոս է\n",
            "Թորգոմիկն կարգինի հերոս է\n",
            "Կճեպն կարգինի հերոս է\n"
          ]
        }
      ],
      "source": [
        "print(f\"{anunner[0]}ն կարգինի հերոս է\")\n",
        "print(f\"{anunner[1]}ն կարգինի հերոս է\")\n",
        "print(f\"{anunner[2]}ն կարգինի հերոս է\")\n",
        "print(f\"{anunner[3]}ն կարգինի հերոս է\")\n",
        "print(f\"{anunner[4]}ն կարգինի հերոս է\")\n",
        "print(f\"{anunner[5]}ն կարգինի հերոս է\")\n",
        "print(f\"{anunner[6]}ն կարգինի հերոս է\")\n",
        "print(f\"{anunner[7]}ն կարգինի հերոս է\")\n",
        "print(f\"{anunner[8]}ն կարգինի հերոս է\")\n",
        "print(f\"{anunner[9]}ն կարգինի հերոս է\")\n",
        "print(f\"{anunner[10]}ն կարգինի հերոս է\") # և այլն\n",
        "\n",
        "# փոխել ն-ն ը-ւ"
      ]
    },
    {
      "cell_type": "code",
      "execution_count": 3,
      "metadata": {
        "colab": {
          "base_uri": "https://localhost:8080/"
        },
        "id": "19SoRTAxOSMT",
        "outputId": "35193a9c-6ffb-4137-9b98-b514090e5528"
      },
      "outputs": [
        {
          "name": "stdout",
          "output_type": "stream",
          "text": [
            "Լեռնիկն կարգինի հերոս է\n",
            "Սանասարն կարգինի հերոս է\n"
          ]
        }
      ],
      "source": [
        "# anunner[0], annuner[1], anunner[2]\n",
        "a = anunner[0]\n",
        "print(f\"{a}ն կարգինի հերոս է\")\n",
        "\n",
        "a = anunner[1]\n",
        "print(f\"{a}ն կարգինի հերոս է\")\n",
        "\n"
      ]
    },
    {
      "cell_type": "code",
      "execution_count": 4,
      "metadata": {
        "colab": {
          "base_uri": "https://localhost:8080/"
        },
        "id": "aKiD5DPR2Iwu",
        "outputId": "5a4822b8-24a1-4ca6-9724-c2a1d5488533"
      },
      "outputs": [
        {
          "name": "stdout",
          "output_type": "stream",
          "text": [
            "Լեռնիկն կարգինի հերոս է\n",
            "Սանասարն կարգինի հերոս է\n",
            "Թելմանն կարգինի հերոս է\n",
            "Ժորիկն կարգինի հերոս է\n",
            "Ժորժիկն կարգինի հերոս է\n",
            "Այծեմնիկն կարգինի հերոս է\n",
            "Սպիրիդոնն կարգինի հերոս է\n",
            "Սուլեյմանն կարգինի հերոս է\n",
            "Տարզանն կարգինի հերոս է\n",
            "Թորգոմիկն կարգինի հերոս է\n",
            "Կճեպն կարգինի հերոս է\n",
            "Խփոն կարգինի հերոս է\n",
            "Դառվիսն կարգինի հերոս է\n",
            "Վիտյոկն կարգինի հերոս է\n",
            "Մոզգն կարգինի հերոս է\n",
            "Բութուլն կարգինի հերոս է\n",
            "Տալաշն կարգինի հերոս է\n",
            "Բերիմոռն կարգինի հերոս է\n",
            "Ֆայլոն կարգինի հերոս է\n",
            "Գոռոն կարգինի հերոս է\n",
            "Մավսեսն կարգինի հերոս է\n",
            "Դրակոնն կարգինի հերոս է\n",
            "Լութոն կարգինի հերոս է\n",
            "Բարշամն կարգինի հերոս է\n",
            "Էռնեստո Փարպեցին կարգինի հերոս է\n",
            "Բարխուդարումն կարգինի հերոս է\n",
            "Բոբոլն կարգինի հերոս է\n",
            "Հռազմիկն կարգինի հերոս է\n"
          ]
        }
      ],
      "source": [
        "for a in anunner:\n",
        "    print(f\"{a}ն կարգինի հերոս է\")"
      ]
    },
    {
      "cell_type": "markdown",
      "metadata": {
        "id": "Ff0c4TyD3Gjw"
      },
      "source": [
        "```python\n",
        "for փոփոխական in ինչ-որ բան որը ունի էլեմենտներ:\n",
        "    արա էս ինչ բանը\n",
        "```\n",
        "\n"
      ]
    },
    {
      "cell_type": "code",
      "execution_count": 6,
      "metadata": {
        "colab": {
          "base_uri": "https://localhost:8080/"
        },
        "id": "mJ10PSt73zex",
        "outputId": "31f42a32-75ce-417f-a0d4-7fcfc4f21ce9"
      },
      "outputs": [
        {
          "name": "stdout",
          "output_type": "stream",
          "text": [
            "9\n",
            "12\n"
          ]
        }
      ],
      "source": [
        "sirac_tver = [0, 5, 9, 12]\n",
        "for tiv in sirac_tver:\n",
        "\t# print(tiv)\n",
        "\tif tiv > 5:\n",
        "\t\tprint(tiv)"
      ]
    },
    {
      "cell_type": "markdown",
      "metadata": {
        "id": "S0Y0WAdN3BLz"
      },
      "source": [
        "### for range"
      ]
    },
    {
      "cell_type": "markdown",
      "metadata": {
        "id": "b53K6tMSpaUn"
      },
      "source": [
        "նույնիսկ եթե կարողանաինք միշտ մենք ուղղակի listով ցուցակ սարքել, rangeը ավելի նախընտրելիա, որովհետև նույնիսկ միլիոն թիվ պարունակի, հիշողությունում զբաղեցնումա նույն քանակի տեղ (3 թիվա պահում, start, end, step)"
      ]
    },
    {
      "cell_type": "code",
      "execution_count": null,
      "metadata": {
        "id": "t4Nta-3N3DZO"
      },
      "outputs": [],
      "source": []
    },
    {
      "cell_type": "code",
      "execution_count": null,
      "metadata": {
        "colab": {
          "base_uri": "https://localhost:8080/"
        },
        "id": "LiUyLSDQeTW0",
        "outputId": "d485849b-c99f-46de-872b-62e15e910071"
      },
      "outputs": [
        {
          "name": "stdout",
          "output_type": "stream",
          "text": [
            "range(3, 21)\n",
            "range(3, 1000000000000000000000000000)\n"
          ]
        }
      ],
      "source": [
        "print(range(3,21))\n",
        "# print(list(range(3,21)))\n",
        "\n",
        "print(range(3, 1000000000000000000000000000))\n",
        "# print(list(range(3, 100000000000000000000000000)))"
      ]
    },
    {
      "cell_type": "code",
      "execution_count": 7,
      "metadata": {
        "colab": {
          "base_uri": "https://localhost:8080/"
        },
        "id": "PoW9kYu31Dz1",
        "outputId": "d1e749a2-7709-4c51-8698-15e364e42458"
      },
      "outputs": [
        {
          "name": "stdout",
          "output_type": "stream",
          "text": [
            "[1, 2, 3, 4, 5, 6, 7, 8, 9]\n",
            "2\n",
            "4\n",
            "6\n",
            "8\n",
            "2\n",
            "4\n",
            "6\n",
            "8\n"
          ]
        }
      ],
      "source": [
        "lst = list(range(1,10))\n",
        "print(lst)\n",
        "\n",
        "# for i in lst:\n",
        "for i in list(range(1,10)):\n",
        "    if i % 2 == 0:\n",
        "        print(i)\n",
        "\n",
        "for i in range(1,10):\n",
        "    if i % 2 == 0:\n",
        "        print(i)\n"
      ]
    },
    {
      "cell_type": "code",
      "execution_count": null,
      "metadata": {
        "colab": {
          "base_uri": "https://localhost:8080/"
        },
        "id": "6ci_kiTU-Wco",
        "outputId": "312b8ea2-effb-49ec-ef92-2b85150cc29e"
      },
      "outputs": [
        {
          "name": "stdout",
          "output_type": "stream",
          "text": [
            "1\n",
            "2\n",
            "3\n",
            "4\n",
            "4\n"
          ]
        }
      ],
      "source": [
        "for i in range(1,5): # i - iterator / iterable\n",
        "    print(i)"
      ]
    },
    {
      "cell_type": "markdown",
      "metadata": {
        "id": "Yy29-6TzJveV"
      },
      "source": [
        "#### Առաջադրանք 1\n",
        "հաշվել թե քանի զույգ թիվ կա 1-ից 10 միջակայքում\n"
      ]
    },
    {
      "cell_type": "code",
      "execution_count": 10,
      "metadata": {
        "colab": {
          "base_uri": "https://localhost:8080/"
        },
        "id": "8hEvUQvHJ3vP",
        "outputId": "3ee1ca37-cab3-47e7-c5e0-bd39398ff3fe"
      },
      "outputs": [
        {
          "name": "stdout",
          "output_type": "stream",
          "text": [
            "2 ն զույգ է\n",
            "1\n",
            "4 ն զույգ է\n",
            "2\n",
            "6 ն զույգ է\n",
            "3\n",
            "8 ն զույգ է\n",
            "4\n",
            "ընդհանուր քանակ 4\n"
          ]
        }
      ],
      "source": [
        "count = 0\n",
        "\n",
        "for i in range(1,10):\n",
        "    if i % 2 == 0:\n",
        "        print(i, \"ն զույգ է\")\n",
        "        count += 1\n",
        "        print(count)\n",
        "\n",
        "print(\"ընդհանուր քանակ\", count)"
      ]
    },
    {
      "cell_type": "code",
      "execution_count": 17,
      "metadata": {
        "colab": {
          "base_uri": "https://localhost:8080/"
        },
        "id": "grx0ZKHzJ3zv",
        "outputId": "b7ff3dbe-a3e4-43d2-f622-097aeb6aa11f"
      },
      "outputs": [
        {
          "name": "stdout",
          "output_type": "stream",
          "text": [
            "i = 1\n",
            "0\n",
            "\n",
            "i = 2\n",
            "2 ն զույգ է\n",
            "1\n",
            "\n",
            "i = 3\n",
            "0\n",
            "\n",
            "i = 4\n",
            "4 ն զույգ է\n",
            "1\n",
            "\n",
            "i = 5\n",
            "0\n",
            "\n",
            "i = 6\n",
            "6 ն զույգ է\n",
            "1\n",
            "\n",
            "i = 7\n",
            "0\n",
            "\n",
            "i = 8\n",
            "8 ն զույգ է\n",
            "1\n",
            "\n",
            "ընդհանուր քանակ 1\n"
          ]
        }
      ],
      "source": [
        "for i in range(1,9): \n",
        "    print(f\"{i = }\")\n",
        "    count = 0\n",
        "    if i % 2 == 0:\n",
        "        print(i, \"ն զույգ է\")\n",
        "        count += 1\n",
        "    print(count)\n",
        "    print()\n",
        "\n",
        "print(\"ընդհանուր քանակ\", count)"
      ]
    },
    {
      "cell_type": "markdown",
      "metadata": {
        "id": "6DSq_J6vJ6_v"
      },
      "source": [
        "#### Առաջադրանք 2\n",
        "խնդրել մարդուն որ ասի թե քանի թիվա ուզում ներմուծի, *ներմուծի* ու պահել ցուցակի մեջ\n"
      ]
    },
    {
      "cell_type": "code",
      "execution_count": 27,
      "metadata": {
        "id": "FlXy-OHfJ-dn"
      },
      "outputs": [
        {
          "name": "stdout",
          "output_type": "stream",
          "text": [
            "[0, 1, 2]\n",
            "i-n skzbum 0\n",
            "[1, 2]\n",
            "i-n skzbum 2\n"
          ]
        },
        {
          "ename": "IndexError",
          "evalue": "list assignment index out of range",
          "output_type": "error",
          "traceback": [
            "\u001b[1;31m---------------------------------------------------------------------------\u001b[0m",
            "\u001b[1;31mIndexError\u001b[0m                                Traceback (most recent call last)",
            "Input \u001b[1;32mIn [27]\u001b[0m, in \u001b[0;36m<cell line: 7>\u001b[1;34m()\u001b[0m\n\u001b[0;32m      9\u001b[0m     \u001b[38;5;28mprint\u001b[39m(\u001b[38;5;124m\"\u001b[39m\u001b[38;5;124mi-n skzbum\u001b[39m\u001b[38;5;124m\"\u001b[39m, i)\n\u001b[0;32m     10\u001b[0m     \u001b[38;5;66;03m# i = i - 1000\u001b[39;00m\n\u001b[0;32m     11\u001b[0m     \u001b[38;5;66;03m# print(\"i-n verjum\", i)\u001b[39;00m\n\u001b[1;32m---> 12\u001b[0m     \u001b[38;5;28;01mdel\u001b[39;00m h[i]\n\u001b[0;32m     13\u001b[0m     \u001b[38;5;66;03m# x = input()\u001b[39;00m\n\u001b[0;32m     14\u001b[0m     \u001b[38;5;66;03m# lst.append(x)\u001b[39;00m\n\u001b[0;32m     16\u001b[0m \u001b[38;5;28mprint\u001b[39m(lst)\n",
            "\u001b[1;31mIndexError\u001b[0m: list assignment index out of range"
          ]
        }
      ],
      "source": [
        "# n = int(input())\n",
        "\n",
        "lst = []\n",
        "\n",
        "h = [0, 1, 2]\n",
        "\n",
        "for i in h:\n",
        "    print(h)\n",
        "    print(\"i-n skzbum\", i)\n",
        "    # i = i - 1000\n",
        "    # print(\"i-n verjum\", i)\n",
        "    del h[i]\n",
        "    # x = input()\n",
        "    # lst.append(x)\n",
        "\n",
        "print(lst)"
      ]
    },
    {
      "cell_type": "code",
      "execution_count": null,
      "metadata": {
        "id": "YvhXpTLdJ-gI"
      },
      "outputs": [],
      "source": []
    },
    {
      "cell_type": "code",
      "execution_count": null,
      "metadata": {
        "id": "8A4CCDtk5MRv"
      },
      "outputs": [],
      "source": [
        "# խնդրել մարդուն որ ասի թե քանի թիվա ուզում ներմուծի, օգնել որ ներմուծի ու տպել դրանք\n",
        "n = int(input())\n",
        "for _ in range(n): # արա n անգամ\n",
        "    bar = input()\n",
        "    print('դուք ներմուծեցիք', bar)"
      ]
    },
    {
      "cell_type": "markdown",
      "metadata": {
        "id": "VOygVIDI5yLT"
      },
      "source": [
        "Բայց ախր հեչ կարևոր չէր ստեղ i-ն,  \n",
        "\n",
        "Նման դեպքերում երբ մեզ իրականում փոփոխականը պետք չի, իրա անունը դնում ենք _\n",
        "\n",
        "_ -> ինչորայա"
      ]
    },
    {
      "cell_type": "markdown",
      "metadata": {
        "id": "HYBS6DMhBm0W"
      },
      "source": [
        "#### Առաջադրանք 3\n",
        "տպել զույգ ինդեքսով սիրված թվերը\n"
      ]
    },
    {
      "cell_type": "code",
      "execution_count": null,
      "metadata": {
        "colab": {
          "base_uri": "https://localhost:8080/"
        },
        "id": "GhPuRGggKPUO",
        "outputId": "c3ba3891-fe06-4fb1-d992-975926abb3e8"
      },
      "outputs": [
        {
          "name": "stdout",
          "output_type": "stream",
          "text": [
            "[3, 1, 112, 8]\n"
          ]
        }
      ],
      "source": [
        "tver = [3, 4, 1, 0, 112, 509, 8]\n",
        "\n",
        "print(tver[::2])"
      ]
    },
    {
      "cell_type": "code",
      "execution_count": null,
      "metadata": {
        "colab": {
          "base_uri": "https://localhost:8080/"
        },
        "id": "gAAgkmCeKPfn",
        "outputId": "c75358e8-5804-4987-bed5-4d314e4eb885"
      },
      "outputs": [
        {
          "name": "stdout",
          "output_type": "stream",
          "text": [
            "[0, 1, 2, 3, 4, 5, 6]\n",
            "3\n",
            "1\n",
            "112\n",
            "8\n"
          ]
        }
      ],
      "source": [
        "tver = [3, 4, 1, 0, 112, 509, 8]\n",
        "indexneri_lst = [0, 1, 2, 3, 4, 5, 6]\n",
        "\n",
        "# for i in indexneri_lst:\n",
        "#     if i % 2 == 0:\n",
        "#         print(tver[i])\n",
        "\n",
        "# for i in indexneri_lst[::2]:\n",
        "#     print(tver[i])\n",
        "\n",
        "\n",
        "indexneri_lst = list(range(len(tver)))\n",
        "print(indexneri_lst)\n",
        "\n",
        "for i in range(len(tver)):\n",
        "    if i % 2 == 0:\n",
        "        print(tver[i])\n"
      ]
    },
    {
      "cell_type": "markdown",
      "metadata": {
        "id": "NbpB83MrKXde"
      },
      "source": [
        "for-ը ուրիշ կոդերի հետ"
      ]
    },
    {
      "cell_type": "code",
      "execution_count": null,
      "metadata": {
        "colab": {
          "base_uri": "https://localhost:8080/"
        },
        "id": "BnE8k0Tx6A9i",
        "outputId": "134ed5e5-2162-44dc-e51c-556314bf8e1a"
      },
      "outputs": [
        {
          "name": "stdout",
          "output_type": "stream",
          "text": [
            "4 մինչև for\n",
            "0 for-ի մեջ\n",
            "1 for-ի մեջ\n",
            "2 for-ի մեջ\n",
            "3 for-ի մեջ\n",
            "4 for-ի մեջ\n",
            "5 for-ի մեջ\n",
            "6 for-ի մեջ\n",
            "6 for-ից դուրս\n"
          ]
        }
      ],
      "source": [
        "tver = [3, 4, 1, 0, 112, 509, 8]\n",
        "\n",
        "a = 4\n",
        "print(a, \"մինչև for\")\n",
        "for a in range(len(tver)):\n",
        "    print(a, 'for-ի մեջ')\n",
        "    if a % 2 == 0:\n",
        "        pass\n",
        "\n",
        "print(a, 'for-ից դուրս')\n",
        "\n",
        "for a in range(len(tver)):\n",
        "    pass"
      ]
    },
    {
      "cell_type": "markdown",
      "metadata": {
        "id": "xto-QRrong32"
      },
      "source": [
        "### For string"
      ]
    },
    {
      "cell_type": "code",
      "execution_count": 28,
      "metadata": {
        "colab": {
          "base_uri": "https://localhost:8080/"
        },
        "id": "vk3jrgHTnkFf",
        "outputId": "c0a246d4-eba3-45f9-c780-aaa903f6129d"
      },
      "outputs": [
        {
          "name": "stdout",
          "output_type": "stream",
          "text": [
            "3\n"
          ]
        }
      ],
      "source": [
        "# հաշվել տեքսի մեջ a-երի քանակը\n",
        "\n",
        "s = \"ցիկլները շատ լավ բան են\"\n",
        "\n",
        "count_a = 0\n",
        "for i in s: # for i in \"ցիկլները շատ լավ բան են\"\n",
        "    # print(i)\n",
        "    if i == 'ա':\n",
        "        count_a += 1\n",
        "\n",
        "print(count_a)"
      ]
    },
    {
      "cell_type": "markdown",
      "metadata": {
        "id": "hjZGc0xjqpJ5"
      },
      "source": [
        "## break"
      ]
    },
    {
      "cell_type": "markdown",
      "metadata": {
        "id": "A2X8ETorqttg"
      },
      "source": [
        "Իսկ ինչ եթե ինչ-որ պահից սկսած էլ մնացած էլեմենտների համար չենք ուզում աշխատացնենք ծրագիրը, մեզ ինչ պետք էր արեցինք"
      ]
    },
    {
      "cell_type": "code",
      "execution_count": 31,
      "metadata": {
        "colab": {
          "base_uri": "https://localhost:8080/"
        },
        "id": "L_EUpE3eKzu_",
        "outputId": "55f46452-964f-4fce-859d-019143ce2ed2"
      },
      "outputs": [
        {
          "name": "stdout",
          "output_type": "stream",
          "text": [
            "դարակի մեջ դրված էր գրիչ\n",
            "շանունակում ենք ման գալ\n",
            "դարակի մեջ դրված էր պանիր\n",
            "շանունակում ենք ման գալ\n",
            "դարակի մեջ դրված էր հարթուկ\n",
            "շանունակում ենք ման գալ\n",
            "դարակի մեջ դրված էր նասկու թայ\n",
            "ուռաաա, գտա\n",
            "1\n"
          ]
        }
      ],
      "source": [
        "irer = ['գրիչ', \"պանիր\", \"հարթուկ\", \"նասկու թայ\",\"մակարոն\", \"գիրք\",  \"ատամի խոզանակ\", \"փիղ\"]\n",
        "\n",
        "for i in irer:\n",
        "    print(f'դարակի մեջ դրված էր {i}')\n",
        "    if i == 'նասկու թայ':\n",
        "        print('ուռաաա, գտա')\n",
        "        break\n",
        "    print('շանունակում ենք ման գալ')\n",
        "    \n",
        "print(1)"
      ]
    },
    {
      "cell_type": "code",
      "execution_count": null,
      "metadata": {
        "colab": {
          "base_uri": "https://localhost:8080/"
        },
        "id": "DHMTAf-hBwDy",
        "outputId": "bba80680-8754-4e7d-95a4-a9c13fdf345c"
      },
      "outputs": [
        {
          "name": "stdout",
          "output_type": "stream",
          "text": [
            "0\n"
          ]
        }
      ],
      "source": [
        "for i in range(10):\n",
        "    print(i)\n",
        "    break"
      ]
    },
    {
      "cell_type": "markdown",
      "metadata": {
        "id": "Q19XU5CXsfpC"
      },
      "source": [
        "## Continue"
      ]
    },
    {
      "cell_type": "markdown",
      "metadata": {
        "id": "o0dHLiS_K4af"
      },
      "source": [
        "Արմատ հաշվել"
      ]
    },
    {
      "cell_type": "code",
      "execution_count": 34,
      "metadata": {
        "colab": {
          "base_uri": "https://localhost:8080/"
        },
        "id": "1tqBeR-YscSv",
        "outputId": "59a568ff-25d1-4973-d045-3f17bbdba757"
      },
      "outputs": [
        {
          "name": "stdout",
          "output_type": "stream",
          "text": [
            "փորձեմ հաշվել 1-ի արմատը\n",
            "արմատնա՝ 1.0\n",
            "\n",
            "փորձեմ հաշվել 4-ի արմատը\n",
            "արմատնա՝ 2.0\n",
            "\n",
            "փորձեմ հաշվել 509-ի արմատը\n",
            "արմատնա՝ 22.561028345356956\n",
            "\n",
            "փորձեմ հաշվել -3-ի արմատը\n",
            "Հլը մի րոպե, մենք սենց չէինք պայմանավորվել, բաց եմ թողնում -3ը\n",
            "\n",
            "փորձեմ հաշվել 49-ի արմատը\n",
            "արմատնա՝ 7.0\n",
            "\n",
            "փորձեմ հաշվել -13-ի արմատը\n",
            "Հլը մի րոպե, մենք սենց չէինք պայմանավորվել, բաց եմ թողնում -13ը\n",
            "\n"
          ]
        }
      ],
      "source": [
        "for i in [1, 4, 509, -3, 49, -13]:\n",
        "    print(f\"փորձեմ հաշվել {i}-ի արմատը\")\n",
        "\n",
        "    if i < 0:\n",
        "        print(f'Հլը մի րոպե, մենք սենց չէինք պայմանավորվել, բաց եմ թողնում {i}ը')\n",
        "        print()\n",
        "        continue\n",
        "\n",
        "    print(f\"արմատնա՝ {i ** 0.5}\")\n",
        "    print()"
      ]
    },
    {
      "cell_type": "markdown",
      "metadata": {
        "id": "nm6k0bkD2NSW"
      },
      "source": [
        "### Կարանք միաժամանակ համ break համ continue ունենանք"
      ]
    },
    {
      "cell_type": "markdown",
      "metadata": {
        "id": "3rWz1VF4K7c-"
      },
      "source": [
        "13ից վախեցողի խնդիր, արմատ հաշվել\n"
      ]
    },
    {
      "cell_type": "code",
      "execution_count": null,
      "metadata": {
        "colab": {
          "base_uri": "https://localhost:8080/"
        },
        "id": "G-E05JcN2Lw-",
        "outputId": "9b89c751-48fb-4b79-af69-8bd20ae3d8e3"
      },
      "outputs": [
        {
          "name": "stdout",
          "output_type": "stream",
          "text": [
            "փորձենք հաշվել -1ի արմատը\n",
            "ախր չեմ կարա է բացասականի արմատը հաշվեմ\n",
            "\n",
            "փորձենք հաշվել 9ի արմատը\n",
            "արմատնա՝ 3.0\n",
            "\n",
            "փորձենք հաշվել 4ի արմատը\n",
            "արմատնա՝ 2.0\n",
            "\n",
            "փորձենք հաշվել -2ի արմատը\n",
            "ախր չեմ կարա է բացասականի արմատը հաշվեմ\n",
            "\n",
            "փորձենք հաշվել 13ի արմատը\n",
            "վայ-վայ, վախեցա, էլ չեմ հաշվի ես քո համար արմատներ, ես քեզ վստահում էի, իսկ դու․․․ օ՜հ, ինչպես կարող էիր, մեր մեջ ամենինչ վերջացած է, չեմ ուզում քեզ այլևս տեսնել, մոռացիր իմ գոյության մասին, դու այլևս իմ կյանքում տեղ չունես, ես անիծում եմ այն օրը երբ մենք հանդիպեցինք, երբ այգում տխուր նստած էի, նոր էի վերջացրել Ռեմարկի գիրքս կարդալը, դու էլ անտրամ հենված էիր ծառի կոճին, հայացքներով հանդիպեցինք՝ քաջություն արեցիր մոտենալ, և պարզվեց որ երկուսս էլ նույն հերոսի մահի պատճառով էինք տխուր, Ռեմարկի մոտ շատ լավա ստացվում սիրտը կոտրել իր գրքի հերոսի, փաստորեն դու էլ իմ սիրտը կոտրելու մասնագետ ես, ախր մենք այնքան բանի միջով ենք իրար հետ անցել, այնքան հրաշալի օրեր ենք ունեցել, հիշում ես երբ ամբողջ գիշեր աստերին էինք նայում ու դու ինձ սովորացնում էիր համաստեղությունները, կամ երբ միասին Արագած էինք բարձրացել և ինձ քո ուսերի վրա նստացրեցիր որ ես այդ պահին ամենաբարձր մարդը լինեմ Հայաստանում, հիշում ես երբ ծնվեց մեր դուստրը՝ Սեցիլիան, աչքերս լցվում են երբ հիշում եմ ինչպես ասեց նա իր առաջին քայլը, դու էլ իր համար ճոճարան կառուցեցիր, դե ճոճարան ասելս մեքենայի անիվը կախեցիր մեր տնկած թթենու ճյուղերից մեկից, հիշի են օրը երբ մեր առաջնեկ Իգնասիոյին պետք է առաջին անգամ դպրոց ուղղարկեինք, են որ լարված էինք արդյող կհարմարվի թե չէ, ինքն էլ եկավ ճակատին աստղ նկարած ասեց որ բոլորից ամենալավը նա է պատասխանել ուսուցչի տված հանելուկներին, դե իհարկե լավ կպատասխաներ՝ ամեն գիշեր հեքիաթ պատմելուց առաջ միասին տարբեր տրամաբանական խնդիրների էինք քննարկում հիշու՞մ ես, ոնց կարաիր դու այս ամենը ավիրեիր, ինչպես կարող էիր ինձ ասել հաշվեմ 13ի արմատը, ախր դու գիտես որ ես էդ թիվը չեմ սիրում, վստահ եղիր դատարանը իմ օգտին կկայացնի որոշումը, երեխաները կմնան ինձ հետ, իհարկե դատարանը իմ կողքին կլինի, ով էլ լսի թե ինչ ես դու արել միանգամից կպաշտպանի ինձ, ասել հաշվի 13ի արմատը, ինչպես կարող ես քո երեխաների մորը այդպիսի բան ասել, այն բոլոր խոստումներից հետո, գամակ էինք գնել, ասում էիր ես ավելի շատ գամակի մեջ եմ սիրում քնել, արի մենք ոչ թե մի բարձի ծերանանք այլ նույն գամակի մեջ, իսկ հիմա՝ տես թե ինչի ենք հասել, սա գրելուն զուգահեռ խարույկի մեջ եմ քցում մեր բոլոր միասնական նկարները և են նվերը որն ինձ արեցիր մեր առաջին տարելիցին, այն 365էջանոց ժողովածուն բանաստեղծությունների որոնք գրում էիր ամեն գիշեր մեր այդ օրվա և մեր սիրո մասին, լավ, մի տեսակ եթե սենց շարունակեմ մնացած նյութը ցիկլերի չեմ հասցնի մինչև դասը, ես այսօր թողնում եմ քեզ իմ սերն ու հեռանում, իմ սրտին այսօր մի նոր վերք է ավելանում Ու իմ սերը պոկված ճյուղի, պոկված ճյուղի, ճյուղի նման, օրորվում է աշնան քամուց, աշնան քամուց, աշնան քամուց, հաջողություն սրիկա\n",
            "\n"
          ]
        }
      ],
      "source": [
        "for num in [-1, 9, 4, -2, 13, 16, 36]:\n",
        "    print(f\"փորձենք հաշվել {num}ի արմատը\")\n",
        "\n",
        "    if num < 0:\n",
        "        print('ախր չեմ կարա է բացասականի արմատը հաշվեմ\\n')\n",
        "        continue\n",
        "\n",
        "    if num == 13:\n",
        "        print(\"վայ-վայ, վախեցա, էլ չեմ հաշվի ես քո համար արմատներ, ես քեզ վստահում էի, իսկ դու․․․ օ՜հ, ինչպես կարող էիր, մեր մեջ ամենինչ վերջացած է, չեմ ուզում քեզ այլևս տեսնել, մոռացիր իմ գոյության մասին, դու այլևս իմ կյանքում տեղ չունես, ես անիծում եմ այն օրը երբ մենք հանդիպեցինք, երբ այգում տխուր նստած էի, նոր էի վերջացրել Ռեմարկի գիրքս կարդալը, դու էլ անտրամ հենված էիր ծառի կոճին, հայացքներով հանդիպեցինք՝ քաջություն արեցիր մոտենալ, և պարզվեց որ երկուսս էլ նույն հերոսի մահի պատճառով էինք տխուր, Ռեմարկի մոտ շատ լավա ստացվում սիրտը կոտրել իր գրքի հերոսի, փաստորեն դու էլ իմ սիրտը կոտրելու մասնագետ ես, ախր մենք այնքան բանի միջով ենք իրար հետ անցել, այնքան հրաշալի օրեր ենք ունեցել, հիշում ես երբ ամբողջ գիշեր աստերին էինք նայում ու դու ինձ սովորացնում էիր համաստեղությունները, կամ երբ միասին Արագած էինք բարձրացել և ինձ քո ուսերի վրա նստացրեցիր որ ես այդ պահին ամենաբարձր մարդը լինեմ Հայաստանում, հիշում ես երբ ծնվեց մեր դուստրը՝ Սեցիլիան, աչքերս լցվում են երբ հիշում եմ ինչպես ասեց նա իր առաջին քայլը, դու էլ իր համար ճոճարան կառուցեցիր, դե ճոճարան ասելս մեքենայի անիվը կախեցիր մեր տնկած թթենու ճյուղերից մեկից, հիշի են օրը երբ մեր առաջնեկ Իգնասիոյին պետք է առաջին անգամ դպրոց ուղղարկեինք, են որ լարված էինք արդյող կհարմարվի թե չէ, ինքն էլ եկավ ճակատին աստղ նկարած ասեց որ բոլորից ամենալավը նա է պատասխանել ուսուցչի տված հանելուկներին, դե իհարկե լավ կպատասխաներ՝ ամեն գիշեր հեքիաթ պատմելուց առաջ միասին տարբեր տրամաբանական խնդիրների էինք քննարկում հիշու՞մ ես, ոնց կարաիր դու այս ամենը ավիրեիր, ինչպես կարող էիր ինձ ասել հաշվեմ 13ի արմատը, ախր դու գիտես որ ես էդ թիվը չեմ սիրում, վստահ եղիր դատարանը իմ օգտին կկայացնի որոշումը, երեխաները կմնան ինձ հետ, իհարկե դատարանը իմ կողքին կլինի, ով էլ լսի թե ինչ ես դու արել միանգամից կպաշտպանի ինձ, ասել հաշվի 13ի արմատը, ինչպես կարող ես քո երեխաների մորը այդպիսի բան ասել, այն բոլոր խոստումներից հետո, գամակ էինք գնել, ասում էիր ես ավելի շատ գամակի մեջ եմ սիրում քնել, արի մենք ոչ թե մի բարձի ծերանանք այլ նույն գամակի մեջ, իսկ հիմա՝ տես թե ինչի ենք հասել, սա գրելուն զուգահեռ խարույկի մեջ եմ քցում մեր բոլոր միասնական նկարները և են նվերը որն ինձ արեցիր մեր առաջին տարելիցին, այն 365էջանոց ժողովածուն բանաստեղծությունների որոնք գրում էիր ամեն գիշեր մեր այդ օրվա և մեր սիրո մասին, լավ, մի տեսակ եթե սենց շարունակեմ մնացած նյութը ցիկլերի չեմ հասցնի մինչև դասը, ես այսօր թողնում եմ քեզ իմ սերն ու հեռանում, իմ սրտին այսօր մի նոր վերք է ավելանում Ու իմ սերը պոկված ճյուղի, պոկված ճյուղի, ճյուղի նման, օրորվում է աշնան քամուց, աշնան քամուց, աշնան քամուց, հաջողություն սրիկա\\n\")\n",
        "        break\n",
        "\n",
        "    print(f\"արմատնա՝ {num ** 0.5}\\n\")\n",
        "\n"
      ]
    },
    {
      "cell_type": "markdown",
      "metadata": {
        "id": "RHCi1UR91eDu"
      },
      "source": [
        "## for else\n",
        "Ինչի ա անունը հենց else -> https://www.youtube.com/watch?v=6Im38sF-sjo\n"
      ]
    },
    {
      "cell_type": "markdown",
      "metadata": {
        "id": "61Cc3GMb1gB9"
      },
      "source": [
        "Ինչքան էլ խառնող ու տարօրինակ չլինի բայց forն էլ elseունի,\n",
        "\n",
        "կարող ենք պատկերացնել սենց, for ենք ֆռում որ ինչ-որ պայման կատարվի՝ գտնենք նասկու թայը օրինակ ու break անենք, դուրս գանք for-ից\n",
        "\n",
        "եթե դուրս չենք գալիս՝ պայմանը տեղի չի ունենում որով պետքա դուրս գանք նաև աշխատումա elseի կտորը վերջում"
      ]
    },
    {
      "cell_type": "code",
      "execution_count": null,
      "metadata": {
        "colab": {
          "base_uri": "https://localhost:8080/"
        },
        "id": "8OE56ylOW3nY",
        "outputId": "5a143bad-5c15-4cd7-9ab5-e9f1cbe2480a"
      },
      "outputs": [
        {
          "name": "stdout",
          "output_type": "stream",
          "text": [
            "դարակի մեջ դրված էր գրիչ  .....   շանունակում ենք ման գալ\n",
            "դարակի մեջ դրված էր պանիր  .....   շանունակում ենք ման գալ\n",
            "դարակի մեջ դրված էր հարթուկ  .....   շանունակում ենք ման գալ\n",
            "դարակի մեջ դրված էր մակարոն  .....   շանունակում ենք ման գալ\n",
            "դարակի մեջ դրված էր գիրք  .....   շանունակում ենք ման գալ\n",
            "դարակի մեջ դրված էր ատամի խոզանակ  .....   շանունակում ենք ման գալ\n",
            "դարակի մեջ դրված էր փիղ  .....   շանունակում ենք ման գալ\n",
            "չգտա\n"
          ]
        }
      ],
      "source": [
        "irer = ['գրիչ', \"պանիր\", \"հարթուկ\", \"մակարոն\", \"գիրք\",  \"ատամի խոզանակ\", \"փիղ\"]\n",
        "\n",
        "\n",
        "for i in irer:\n",
        "    print(f'դարակի մեջ դրված էր {i}', end=\"  .....   \")\n",
        "    if i == 'նասկու թայ':\n",
        "        print('ուռաաա, գտա')\n",
        "        break\n",
        "    print('շանունակում ենք ման գալ')\n",
        "else: # կարող ենք պատկերացնել որպես nobreak (վիդեո ուղարկեմ անունի հետ կապված)\n",
        "    print(\"չգտա\")"
      ]
    },
    {
      "cell_type": "markdown",
      "metadata": {
        "id": "J0nCsYBdLYHz"
      },
      "source": [
        "#### Առաջադրանք 1\n",
        "ցուցակ ա տված թվերի՝ եթե բոլորը կենտ են տպել բոլորը կենտ են, եթե չէ տպել որ կա զույց թիվ\n"
      ]
    },
    {
      "cell_type": "code",
      "execution_count": null,
      "metadata": {
        "id": "6vaxrGP3LXcV"
      },
      "outputs": [],
      "source": []
    },
    {
      "cell_type": "code",
      "execution_count": null,
      "metadata": {
        "id": "03C-UXtpLc_2"
      },
      "outputs": [],
      "source": []
    },
    {
      "cell_type": "code",
      "execution_count": null,
      "metadata": {
        "colab": {
          "base_uri": "https://localhost:8080/"
        },
        "id": "Bnl2DY-cYpvK",
        "outputId": "fd3ba77d-99a1-42c6-80ba-a88b605d4409"
      },
      "outputs": [
        {
          "name": "stdout",
          "output_type": "stream",
          "text": [
            "զույգ թիվ կա\n"
          ]
        }
      ],
      "source": [
        "# ցուցակ ա տված թվերի՝ եթե բոլորը կենտ են տպել բոլորը կենտ են, եթե չէ տպել որ կա զույց թիվ\n",
        "\n",
        "tver = [1, 1, 3, 4, 2, 5, 4]\n",
        "\n",
        "for i in tver:\n",
        "    if i % 2 == 0:\n",
        "        print(\"զույգ թիվ կա\")\n",
        "        break\n",
        "else:\n",
        "    print(\"Բոլորը կենտ են\")\n",
        "\n",
        "# if tver[0] % 2 == 0 or tver[1] % 2 == :\n",
        "#     print(\"զույգ թիվ կա\")\n",
        "# else:\n",
        "#     print(\"Բոլորը կենտ են\")"
      ]
    },
    {
      "cell_type": "code",
      "execution_count": null,
      "metadata": {
        "id": "01QZjaYpYqNh"
      },
      "outputs": [],
      "source": []
    },
    {
      "cell_type": "markdown",
      "metadata": {
        "id": "HSrymnvVLmjR"
      },
      "source": [
        "#### Առաջադրանք 2\n",
        "Պարզել թիվը պարզ ա թե չէ"
      ]
    },
    {
      "cell_type": "code",
      "execution_count": null,
      "metadata": {
        "colab": {
          "base_uri": "https://localhost:8080/"
        },
        "id": "ZIdJS1OjgAww",
        "outputId": "969cc3b3-3cfd-4220-8d7a-d6292662afba"
      },
      "outputs": [
        {
          "name": "stdout",
          "output_type": "stream",
          "text": [
            "113\n",
            "պարզ\n"
          ]
        }
      ],
      "source": [
        "n = int(input())\n",
        "\n",
        "baj = 0\n",
        "\n",
        "for i in range(2, n):\n",
        "    if n % i == 0:\n",
        "        print(\"պարզ չի\")\n",
        "        break\n",
        "else:\n",
        "    print(\"պարզ\")"
      ]
    },
    {
      "cell_type": "markdown",
      "metadata": {
        "id": "64Ihc4IAGPVw"
      },
      "source": [
        "# While"
      ]
    },
    {
      "cell_type": "markdown",
      "metadata": {
        "id": "z_KQ_ApxGpRf"
      },
      "source": [
        "Աշխատացնել ծրագիրը քանի դեռ ինչ-որ պայման չի բավարարվել\n",
        "\n",
        "`while`ը հիմնականում օգտագործում ենք երբ չգիտենք թե ինչքան պետքա աշխատի մեր կոդը, չկա նենց բան որ էս ցուցակի էլենետներով անցի հերիքա, պետքա ենքան աշխատի մինչև ինչ-որ պայման բավարարվի, դրանով իրանք ավելի ճկուն են forից բայց նաև ավելի վտանգավոր՝ անվերջ ցիկլերի պատճառով (սա կխոսենք դեռ)"
      ]
    },
    {
      "cell_type": "code",
      "execution_count": null,
      "metadata": {
        "id": "5tJWJLo-f2Wa"
      },
      "outputs": [],
      "source": [
        "while պայման (bool):\n",
        "    արա էս-էս բանը"
      ]
    },
    {
      "cell_type": "code",
      "execution_count": null,
      "metadata": {
        "id": "ta9D-6eJGRPn"
      },
      "outputs": [],
      "source": [
        "while True:\n",
        "    print('պանիր')"
      ]
    },
    {
      "cell_type": "markdown",
      "metadata": {
        "id": "sZ9PKfS3L7jy"
      },
      "source": [
        "1 4 թվերի գումարը\n"
      ]
    },
    {
      "cell_type": "code",
      "execution_count": 39,
      "metadata": {
        "colab": {
          "base_uri": "https://localhost:8080/"
        },
        "id": "7W06InAAHP2q",
        "outputId": "c2534e80-fc15-4dd8-dd93-b912b0c6aafb"
      },
      "outputs": [
        {
          "name": "stdout",
          "output_type": "stream",
          "text": [
            "10\n"
          ]
        }
      ],
      "source": [
        "gumar = 0\n",
        "for i in range(1,5):\n",
        "    gumar += i\n",
        "\n",
        "print(gumar)"
      ]
    },
    {
      "cell_type": "code",
      "execution_count": null,
      "metadata": {
        "colab": {
          "base_uri": "https://localhost:8080/"
        },
        "id": "MwqM78mNL5dP",
        "outputId": "7ea19134-7974-4ccc-a730-caa470122fbf"
      },
      "outputs": [
        {
          "name": "stdout",
          "output_type": "stream",
          "text": [
            "գումարը մեծացրեցինք 1ով\n",
            "i-ն դարձրեցինք 2\n",
            "\n",
            "գումարը մեծացրեցինք 2ով\n",
            "i-ն դարձրեցինք 3\n",
            "\n",
            "գումարը մեծացրեցինք 3ով\n",
            "i-ն դարձրեցինք 4\n",
            "\n",
            "գումարը մեծացրեցինք 4ով\n",
            "i-ն դարձրեցինք 5\n",
            "\n",
            "10\n"
          ]
        }
      ],
      "source": [
        "i = 1\n",
        "gumar = 0\n",
        "while i <= 4:\n",
        "    gumar += i\n",
        "    print(f'գումարը մեծացրեցինք {i}ով')\n",
        "\n",
        "    i = i + 1\n",
        "    print(f'i-ն դարձրեցինք {i}')\n",
        "    print()\n",
        "\n",
        "print(gumar)"
      ]
    },
    {
      "cell_type": "markdown",
      "metadata": {
        "id": "4XkVg0WXMANJ"
      },
      "source": [
        "#### Առաջադրանք 1\n",
        "թիվ գուշակելու խնդիր: Մենք թիվ ենք մտապահել, մարդը փորձում ա գուշակի\n"
      ]
    },
    {
      "cell_type": "code",
      "execution_count": 1,
      "metadata": {
        "colab": {
          "base_uri": "https://localhost:8080/"
        },
        "id": "aM5ynK-bInPU",
        "outputId": "b3e37df4-2cdc-42cc-a42e-dbb4b1317278"
      },
      "outputs": [
        {
          "name": "stdout",
          "output_type": "stream",
          "text": [
            "Գուշակեցիր\n"
          ]
        }
      ],
      "source": [
        "mtapahac = '509'\n",
        "gushakac = input()\n",
        "\n",
        "while gushakac != mtapahac:\n",
        "    gushakac = input()\n",
        "\n",
        "print(\"Գուշակեցիր\")"
      ]
    },
    {
      "cell_type": "code",
      "execution_count": null,
      "metadata": {
        "colab": {
          "base_uri": "https://localhost:8080/"
        },
        "id": "L0q_5ADXHubR",
        "outputId": "9fdb47fd-1ef8-4f8c-f935-381cc1767b10"
      },
      "outputs": [
        {
          "name": "stdout",
          "output_type": "stream",
          "text": [
            "Նորից փորձիր\n",
            "Նորից փորձիր\n",
            "Գուշակեցիր\n"
          ]
        }
      ],
      "source": [
        "mtapahac = '509'\n",
        "\n",
        "while True:\n",
        "    gushakac = input()\n",
        "\n",
        "    if gushakac == mtapahac:\n",
        "        print(\"Գուշակեցիր\")\n",
        "        break\n",
        "    else:\n",
        "        print(\"Նորից փորձիր\")\n",
        "\n"
      ]
    },
    {
      "cell_type": "code",
      "execution_count": null,
      "metadata": {
        "colab": {
          "base_uri": "https://localhost:8080/"
        },
        "id": "00yjCoPI0fn9",
        "outputId": "ac9c2cb1-7d76-4f14-9fa5-63322411d8ea"
      },
      "outputs": [
        {
          "name": "stdout",
          "output_type": "stream",
          "text": [
            "6\n",
            "6\n"
          ]
        }
      ],
      "source": [
        "mtapahac = 7\n",
        "gushakel = False\n",
        "\n",
        "while not gushakel:\n",
        "    gushakutun = int(input('Մուտք գործեք Ձեր գուշակությունը\\n'))\n",
        "    print(gushakutun)\n",
        "\n",
        "    if gushakutun == mtapahac:\n",
        "        print('հաղթեցիր')\n",
        "        gushakel = True\n",
        "    else:\n",
        "        print(f'հըըն, իմ մտապահած թիվը {gushakutun} չէր\\n')\n"
      ]
    },
    {
      "cell_type": "code",
      "execution_count": null,
      "metadata": {
        "id": "z9MBwfEUInXS"
      },
      "outputs": [],
      "source": []
    },
    {
      "cell_type": "markdown",
      "metadata": {
        "id": "geG1gfAtIrLF"
      },
      "source": [
        "### break"
      ]
    },
    {
      "cell_type": "markdown",
      "metadata": {
        "id": "FCBU3IRBMfq2"
      },
      "source": [
        "for-ի նման, ենքան շատ իմաստ չունի ստեղ breakը ինչքան for-ում բայց կարանք օգտագործենք\n"
      ]
    },
    {
      "cell_type": "markdown",
      "metadata": {
        "id": "ZUi6gmzGMi2_"
      },
      "source": [
        "#### Առաջադրանք 2\n",
        " նույն գուշակելու խնդիրը ուղղակի ստեղ 3 փորձ ունենք"
      ]
    },
    {
      "cell_type": "code",
      "execution_count": null,
      "metadata": {
        "colab": {
          "base_uri": "https://localhost:8080/"
        },
        "id": "gXzdEqnnIgIQ",
        "outputId": "e1212ccd-f670-4ac6-db0c-0c89b6a04557"
      },
      "outputs": [
        {
          "name": "stdout",
          "output_type": "stream",
          "text": [
            "Մուտք գործեք Ձեր գուշակությունը\n",
            "7\n",
            "7\n",
            "հաղթեցիր\n"
          ]
        }
      ],
      "source": [
        "mtapahac = 7\n",
        "gushakel = False\n",
        "pordzeri_qanak = 3\n",
        "\n",
        "while not gushakel:\n",
        "    if pordzeri_qanak == 0:\n",
        "        print(\"Փորձերը վերջացան\")\n",
        "        break\n",
        "\n",
        "    gushakutun = int(input('Մուտք գործեք Ձեր գուշակությունը\\n'))\n",
        "    print(gushakutun)\n",
        "\n",
        "    if gushakutun == mtapahac:\n",
        "        print('հաղթեցիր')\n",
        "        gushakel = True\n",
        "    else:\n",
        "        print(f'հըըն, իմ մտապահած թիվը {gushakutun} չէր\\n')\n",
        "\n",
        "    pordzeri_qanak -= 1\n",
        "\n",
        "\n"
      ]
    },
    {
      "cell_type": "markdown",
      "metadata": {
        "id": "CftDyC1rzIPF"
      },
      "source": [
        "![while meme.jpg](data:image/jpeg;base64,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)"
      ]
    },
    {
      "cell_type": "markdown",
      "metadata": {
        "id": "MwH0iNMJKCsk"
      },
      "source": [
        "## Continue"
      ]
    },
    {
      "cell_type": "code",
      "execution_count": null,
      "metadata": {
        "colab": {
          "base_uri": "https://localhost:8080/"
        },
        "id": "FSx4Z_bWJd1Z",
        "outputId": "99f07aba-ef0c-4738-d5b5-2c2159da59d1"
      },
      "outputs": [
        {
          "name": "stdout",
          "output_type": "stream",
          "text": [
            "1\n",
            "2\n",
            "4\n",
            "5\n",
            "6\n"
          ]
        }
      ],
      "source": [
        "# ToDO - something meaningful\n",
        "\n",
        "i = 0\n",
        "\n",
        "while i < 6:\n",
        "    i += 1\n",
        "    if i == 3:\n",
        "        continue\n",
        "    print(i)"
      ]
    },
    {
      "cell_type": "markdown",
      "metadata": {
        "id": "D8Cu2DUsKE6u"
      },
      "source": [
        "## while else"
      ]
    },
    {
      "cell_type": "markdown",
      "metadata": {
        "id": "a86dbB0XNpAV"
      },
      "source": [
        "#### Առաջադրանք 1\n",
        "Պարզել մուտքում տրված բոլոր թվերը կենտ են թե զույգ թիվ էլ կա"
      ]
    },
    {
      "cell_type": "code",
      "execution_count": null,
      "metadata": {
        "colab": {
          "base_uri": "https://localhost:8080/"
        },
        "id": "yA8tOvxcc4b5",
        "outputId": "029b294f-f488-4abe-89a4-f7bcf4d9117c"
      },
      "outputs": [
        {
          "name": "stdout",
          "output_type": "stream",
          "text": [
            "3\n",
            "5\n",
            "x\n",
            "Բոլորը կենտ են\n"
          ]
        }
      ],
      "source": [
        "der_ashxatum_enq = True\n",
        "\n",
        "while der_ashxatum_enq:\n",
        "    mutq = input()\n",
        "    if mutq == \"x\":\n",
        "        der_ashxatum_enq = False\n",
        "    else:\n",
        "        mutq = int(mutq)\n",
        "\n",
        "        if mutq % 2 == 0:\n",
        "            print(\"զույգ թիվ կա\")\n",
        "            break\n",
        "else:\n",
        "    print(\"Բոլորը կենտ են\")"
      ]
    },
    {
      "cell_type": "markdown",
      "metadata": {},
      "source": [
        "\n",
        "<a href=\"http://s01.flagcounter.com/more/1oO\"><img src=\"https://s01.flagcounter.com/count2/1oO/bg_FFFFFF/txt_000000/border_CCCCCC/columns_2/maxflags_10/viewers_0/labels_0/pageviews_1/flags_0/percent_0/\" alt=\"Flag Counter\"></a>\n"
      ]
    }
  ],
  "metadata": {
    "colab": {
      "authorship_tag": "ABX9TyPAXkpeHemfikIur21Az5ma",
      "include_colab_link": true,
      "provenance": []
    },
    "kernelspec": {
      "display_name": "Python 3",
      "name": "python3"
    },
    "language_info": {
      "codemirror_mode": {
        "name": "ipython",
        "version": 3
      },
      "file_extension": ".py",
      "mimetype": "text/x-python",
      "name": "python",
      "nbconvert_exporter": "python",
      "pygments_lexer": "ipython3",
      "version": "3.10.14"
    }
  },
  "nbformat": 4,
  "nbformat_minor": 0
}

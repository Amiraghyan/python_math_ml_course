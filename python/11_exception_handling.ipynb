{
 "cells": [
  {
   "cell_type": "raw",
   "metadata": {
    "vscode": {
     "languageId": "raw"
    }
   },
   "source": [
    "---\n",
    "title: \"11 Exception handling\"\n",
    "lightbox: true\n",
    "format: \n",
    "  html:\n",
    "    code-fold: false\n",
    "number-offset: 1\n",
    "---"
   ]
  },
  {
   "cell_type": "markdown",
   "metadata": {
    "vscode": {
     "languageId": "raw"
    }
   },
   "source": [
    "![image.png](../background_photos/py_11_bright_hill.jpg)\n",
    "[լուսանկարի հղումը](https://unsplash.com/photos/a-large-mountain-with-a-very-tall-cliff-UiP9KfVe3aQ), Հեղինակ՝ [Artur Adilkhanian](https://unsplash.com/@br00m)"
   ]
  },
  {
   "cell_type": "markdown",
   "metadata": {
    "vscode": {
     "languageId": "raw"
    }
   },
   "source": [
    "<a href=\"https://colab.research.google.com/github/HaykTarkhanyan/python_math_ml_course/blob/main/%5BInitial%5D_Python_%7C_%D5%8F4_%7C_For%2C_while_%D6%81%D5%AB%D5%AF%D5%AC%D5%A5%D6%80.ipynb\" target=\"_parent\"><img src=\"https://colab.research.google.com/assets/colab-badge.svg\" alt=\"Open In Colab\"/></a> (ToDo)"
   ]
  },
  {
   "cell_type": "markdown",
   "metadata": {
    "vscode": {
     "languageId": "raw"
    }
   },
   "source": [
    "Song reference - ToDo"
   ]
  },
  {
   "cell_type": "markdown",
   "metadata": {
    "vscode": {
     "languageId": "raw"
    }
   },
   "source": [
    "# 🎦 Տեսադասեր + լրացուցիչ (ToDo)\n",
    "\n",
    "ToDo\n",
    "1. [Տեսություն 2025](https://youtu.be/TIWU_bjFuUc) \\\n",
    "2. [Տեսություն 2023 (ToDo)]()  \\\n",
    "3. [Գործնական 2025](https://youtu.be/zf8xEfdLXRo) \\\n",
    "4. [Գործնական 2023 (ToDo)]()  \\\n",
    "5. [Որոշ տնայինների լուծումներ (ToDo)]()\n",
    "    \n",
    "Google Forms ToDo"
   ]
  },
  {
   "cell_type": "markdown",
   "metadata": {
    "vscode": {
     "languageId": "raw"
    }
   },
   "source": [
    "# 📚 Նյութը"
   ]
  },
  {
   "cell_type": "markdown",
   "metadata": {
    "id": "a_THIQmQz7uO"
   },
   "source": [
    "## Բովանդակություն"
   ]
  },
  {
   "cell_type": "markdown",
   "metadata": {
    "id": "8r8uh9mkcbvV"
   },
   "source": [
    "1. Ինչի՞ համար են պետք ընդհանրապես\n",
    "2. try / except\n",
    "3. try-except specific error(s)\n",
    "    a. handling multiple with one statement\n",
    "4. printing exception message (and traceback)\n",
    "5. else\n",
    "6. finally\n",
    "7. raising exceptions\n",
    "8. assert\n",
    "9. hierarchy of exceptions\n",
    "10. Look before you leap / Easier to ask forgiveness than permission\n",
    "11. custom exceptions (later)"
   ]
  },
  {
   "cell_type": "markdown",
   "metadata": {
    "id": "KcpbMvOZk_Rk"
   },
   "source": [
    "## Try"
   ]
  },
  {
   "cell_type": "markdown",
   "metadata": {
    "id": "5BQuSeaalClR"
   },
   "source": [
    "Երբեմն մենք ուզում ենք որ կոդը շարունակի աշխատել նույնիսկ եթե ինչ-որ խնդրիա հանդիպում, կարողա նաև իմամանաք որ որոշ դեպքերում կարողա խնդիր առաջանա որին կարող ենք լուծում տամ, բայց դե եթե կոդը ղարդվեց՝ դե արի ու լուծի խնդիրը հիմա \\\n",
    "\n",
    "կարողա՞ ծրագիր ենք գրել որ մարդը յութուբի լինքա տալիս մենք գնում ենք վիդյոն քաշում ենք, հիմա եթե ինտերնետ չլինի, դա մեր կոդի սխալից չի, չարժի ամբողջ հավելվածը ջարդվի, ավելի լավա ուղղակի բռնենք որ տենց բանա եղել ու լուծում տանք"
   ]
  },
  {
   "cell_type": "code",
   "execution_count": 1,
   "metadata": {
    "executionInfo": {
     "elapsed": 311,
     "status": "ok",
     "timestamp": 1737198759954,
     "user": {
      "displayName": "509 Academy",
      "userId": "04290973032679126188"
     },
     "user_tz": -60
    },
    "id": "If8InyHAbZsK"
   },
   "outputs": [],
   "source": [
    "a = 3\n",
    "\n",
    "def divide509_by(x):\n",
    "    return 509 / x"
   ]
  },
  {
   "cell_type": "code",
   "execution_count": 4,
   "metadata": {
    "colab": {
     "base_uri": "https://localhost:8080/",
     "height": 263
    },
    "executionInfo": {
     "elapsed": 269,
     "status": "error",
     "timestamp": 1737198777078,
     "user": {
      "displayName": "509 Academy",
      "userId": "04290973032679126188"
     },
     "user_tz": -60
    },
    "id": "FaqlLRz-l_VM",
    "outputId": "cbe66c4e-cbab-43fb-d9ad-7293dc8712da"
   },
   "outputs": [
    {
     "ename": "TypeError",
     "evalue": "unsupported operand type(s) for /: 'int' and 'str'",
     "output_type": "error",
     "traceback": [
      "\u001b[1;31m---------------------------------------------------------------------------\u001b[0m",
      "\u001b[1;31mTypeError\u001b[0m                                 Traceback (most recent call last)",
      "Input \u001b[1;32mIn [4]\u001b[0m, in \u001b[0;36m<cell line: 3>\u001b[1;34m()\u001b[0m\n\u001b[0;32m      1\u001b[0m \u001b[38;5;66;03m# divide509_by(4)\u001b[39;00m\n\u001b[0;32m      2\u001b[0m \u001b[38;5;66;03m# divide509_by(0)\u001b[39;00m\n\u001b[1;32m----> 3\u001b[0m \u001b[43mdivide509_by\u001b[49m\u001b[43m(\u001b[49m\u001b[38;5;124;43m\"\u001b[39;49m\u001b[38;5;124;43ma\u001b[39;49m\u001b[38;5;124;43m\"\u001b[39;49m\u001b[43m)\u001b[49m\n",
      "Input \u001b[1;32mIn [1]\u001b[0m, in \u001b[0;36mdivide509_by\u001b[1;34m(x)\u001b[0m\n\u001b[0;32m      3\u001b[0m \u001b[38;5;28;01mdef\u001b[39;00m \u001b[38;5;21mdivide509_by\u001b[39m(x):\n\u001b[1;32m----> 4\u001b[0m     \u001b[38;5;28;01mreturn\u001b[39;00m \u001b[38;5;241;43m509\u001b[39;49m\u001b[43m \u001b[49m\u001b[38;5;241;43m/\u001b[39;49m\u001b[43m \u001b[49m\u001b[43mx\u001b[49m\n",
      "\u001b[1;31mTypeError\u001b[0m: unsupported operand type(s) for /: 'int' and 'str'"
     ]
    }
   ],
   "source": [
    "# divide509_by(4)\n",
    "# divide509_by(0)\n",
    "divide509_by(\"a\")\n"
   ]
  },
  {
   "cell_type": "markdown",
   "metadata": {
    "id": "G3hhgz77pXnX"
   },
   "source": [
    "### Հաճախ հանդիպող errorներ\n",
    "1. ImportError: an import fails;\n",
    "2. IndexError: a list is indexed with an out-of-range number;\n",
    "3. NameError: an unknown variable is used;\n",
    "4. SyntaxError: the code can't be parsed properly;\n",
    "5. TypeError: a function is called on a value of an inappropriate type;\n",
    "6. ValueError: a function is called on a value of the correct type, but with an inappropriate value."
   ]
  },
  {
   "cell_type": "markdown",
   "metadata": {
    "id": "YHtHZ2SzmgIp"
   },
   "source": [
    "### Մի հատ try except"
   ]
  },
  {
   "cell_type": "code",
   "execution_count": 5,
   "metadata": {
    "colab": {
     "base_uri": "https://localhost:8080/",
     "height": 193
    },
    "executionInfo": {
     "elapsed": 331,
     "status": "error",
     "timestamp": 1737198943703,
     "user": {
      "displayName": "509 Academy",
      "userId": "04290973032679126188"
     },
     "user_tz": -60
    },
    "id": "9LTmjSn7b2SC",
    "outputId": "01b29293-39e8-4fd4-9c66-b4bf44bcb600"
   },
   "outputs": [
    {
     "ename": "TypeError",
     "evalue": "unsupported operand type(s) for /: 'int' and 'str'",
     "output_type": "error",
     "traceback": [
      "\u001b[1;31m---------------------------------------------------------------------------\u001b[0m",
      "\u001b[1;31mTypeError\u001b[0m                                 Traceback (most recent call last)",
      "Input \u001b[1;32mIn [5]\u001b[0m, in \u001b[0;36m<cell line: 1>\u001b[1;34m()\u001b[0m\n\u001b[1;32m----> 1\u001b[0m tiv \u001b[38;5;241m=\u001b[39m \u001b[38;5;241;43m5\u001b[39;49m\u001b[43m \u001b[49m\u001b[38;5;241;43m/\u001b[39;49m\u001b[43m \u001b[49m\u001b[38;5;124;43m\"\u001b[39;49m\u001b[38;5;124;43ma\u001b[39;49m\u001b[38;5;124;43m\"\u001b[39;49m\n\u001b[0;32m      2\u001b[0m \u001b[38;5;28mprint\u001b[39m(tiv)\n\u001b[0;32m      4\u001b[0m \u001b[38;5;28mprint\u001b[39m(\u001b[38;5;124m'\u001b[39m\u001b[38;5;124mես դեռ ողջ եմ, ուռաաա\u001b[39m\u001b[38;5;124m'\u001b[39m)\n",
      "\u001b[1;31mTypeError\u001b[0m: unsupported operand type(s) for /: 'int' and 'str'"
     ]
    }
   ],
   "source": [
    "tiv = 5 / \"a\"\n",
    "print(tiv)\n",
    "\n",
    "print('ես դեռ ողջ եմ, ուռաաա')"
   ]
  },
  {
   "cell_type": "code",
   "execution_count": 7,
   "metadata": {
    "colab": {
     "base_uri": "https://localhost:8080/"
    },
    "executionInfo": {
     "elapsed": 359,
     "status": "ok",
     "timestamp": 1737199131157,
     "user": {
      "displayName": "509 Academy",
      "userId": "04290973032679126188"
     },
     "user_tz": -60
    },
    "id": "35X6uugJk-id",
    "outputId": "ba33d1e0-4c77-4f73-8517-9fbcbfe28fad"
   },
   "outputs": [
    {
     "name": "stdout",
     "output_type": "stream",
     "text": [
      "մի բան են չէր\n",
      "ես դեռ ողջ եմ, ուռաաա\n"
     ]
    }
   ],
   "source": [
    "try:\n",
    "    tiv = 5 / 0\n",
    "    print(tiv)\n",
    "except: # if try-ում մի բան ավիրվեց\n",
    "    print('մի բան են չէր')\n",
    "\n",
    "print('ես դեռ ողջ եմ, ուռաաա')"
   ]
  },
  {
   "cell_type": "markdown",
   "metadata": {
    "id": "7PTTW5F0mjn5"
   },
   "source": [
    "### մի քանի հատ try except"
   ]
  },
  {
   "cell_type": "code",
   "execution_count": null,
   "metadata": {},
   "outputs": [],
   "source": [
    "if \n",
    "else \n",
    "\n",
    "if ..\n",
    "\n",
    "elif\n",
    "elif\n",
    "else"
   ]
  },
  {
   "cell_type": "code",
   "execution_count": 8,
   "metadata": {},
   "outputs": [
    {
     "data": {
      "text/plain": [
       "TypeError"
      ]
     },
     "execution_count": 8,
     "metadata": {},
     "output_type": "execute_result"
    }
   ],
   "source": [
    "TypeError"
   ]
  },
  {
   "cell_type": "code",
   "execution_count": 12,
   "metadata": {
    "colab": {
     "base_uri": "https://localhost:8080/"
    },
    "executionInfo": {
     "elapsed": 363,
     "status": "ok",
     "timestamp": 1737199549718,
     "user": {
      "displayName": "509 Academy",
      "userId": "04290973032679126188"
     },
     "user_tz": -60
    },
    "id": "Jn4JPd95md17",
    "outputId": "471d212d-b651-4ea5-d71e-03d5e2102e10"
   },
   "outputs": [
    {
     "name": "stdout",
     "output_type": "stream",
     "text": [
      "չգիտենք ինչ խնդիր ա\n",
      "ես դեռ ողջ եմ, ուռաաա\n"
     ]
    }
   ],
   "source": [
    "try:\n",
    "    # tiv = 5 / 0\n",
    "    # print(tiv)\n",
    "    print(asdasdasdasd)\n",
    "\n",
    "except ZeroDivisionError: # elif error == \"zero division error\":\n",
    "    print('ախր բայց չի կարելի է զրոյի բաժանել')\n",
    "except TypeError: # elif error == \"type error\":\n",
    "    print('եթե դժվար չի թիվ տուր էլի, ո՞նց ես ուզում թիվը տեքստի վրա բաժանեմ, կարա՞մ, դու կարա՞ս, դե ես էլ չեմ կարա')\n",
    "except: # else\n",
    "    print(\"չգիտենք ինչ խնդիր ա\")\n",
    "\n",
    "print('ես դեռ ողջ եմ, ուռաաա')"
   ]
  },
  {
   "cell_type": "markdown",
   "metadata": {
    "id": "F5mLEaFbm3bk"
   },
   "source": [
    "### ցանկացած exception բռնցնել"
   ]
  },
  {
   "cell_type": "code",
   "execution_count": 13,
   "metadata": {
    "colab": {
     "base_uri": "https://localhost:8080/",
     "height": 147
    },
    "executionInfo": {
     "elapsed": 468,
     "status": "error",
     "timestamp": 1718900704353,
     "user": {
      "displayName": "509 Academy",
      "userId": "04290973032679126188"
     },
     "user_tz": -240
    },
    "id": "lg3qa3gldzpZ",
    "outputId": "10d3fc67-84de-469f-f48c-f3488a5e78ce"
   },
   "outputs": [
    {
     "ename": "TypeError",
     "evalue": "unsupported operand type(s) for /: 'int' and 'str'",
     "output_type": "error",
     "traceback": [
      "\u001b[1;31m---------------------------------------------------------------------------\u001b[0m",
      "\u001b[1;31mTypeError\u001b[0m                                 Traceback (most recent call last)",
      "Input \u001b[1;32mIn [13]\u001b[0m, in \u001b[0;36m<cell line: 1>\u001b[1;34m()\u001b[0m\n\u001b[1;32m----> 1\u001b[0m tiv \u001b[38;5;241m=\u001b[39m \u001b[38;5;241;43m5\u001b[39;49m\u001b[43m \u001b[49m\u001b[38;5;241;43m/\u001b[39;49m\u001b[43m \u001b[49m\u001b[38;5;124;43m\"\u001b[39;49m\u001b[38;5;124;43ma\u001b[39;49m\u001b[38;5;124;43m\"\u001b[39;49m\n",
      "\u001b[1;31mTypeError\u001b[0m: unsupported operand type(s) for /: 'int' and 'str'"
     ]
    }
   ],
   "source": [
    "tiv = 5 / \"a\""
   ]
  },
  {
   "cell_type": "code",
   "execution_count": 14,
   "metadata": {
    "colab": {
     "base_uri": "https://localhost:8080/"
    },
    "executionInfo": {
     "elapsed": 246,
     "status": "ok",
     "timestamp": 1737199645401,
     "user": {
      "displayName": "509 Academy",
      "userId": "04290973032679126188"
     },
     "user_tz": -60
    },
    "id": "WLIe9WLdlisM",
    "outputId": "69b09c20-0fb4-4dd9-ef67-231f21bd049c"
   },
   "outputs": [
    {
     "name": "stdout",
     "output_type": "stream",
     "text": [
      "ինչ-որ բան են չգնաց\n"
     ]
    }
   ],
   "source": [
    "try:\n",
    "    # tiv = 5 / a\n",
    "    tiv = 5 / \"a\"\n",
    "    print(tiv)\n",
    "except Exception:\n",
    "    print('ինչ-որ բան են չգնաց')\n",
    "except TypeError:\n",
    "    print('եթե դժվար չի թիվ տուր էլի, ո՞նց ես ուզում թիվը տեքստի վրա բաժանեմ, կարա՞մ, դու կարա՞ս, դե ես էլ չեմ կարա')\n"
   ]
  },
  {
   "cell_type": "markdown",
   "metadata": {
    "id": "Cdr5naSwnaN5"
   },
   "source": [
    "նկատենք որ հենց մի հատ exception բռցնումա էլ մնացածը չի ստուգում, elifների նմանա, դրա համար պետքա ուշադիր լինենք հերթկաանության հետ"
   ]
  },
  {
   "cell_type": "markdown",
   "metadata": {
    "id": "mTJCL9ZdnDRy"
   },
   "source": [
    "### մի տողով մի քանի տեսակի exception handle անել"
   ]
  },
  {
   "cell_type": "code",
   "execution_count": 16,
   "metadata": {
    "colab": {
     "base_uri": "https://localhost:8080/"
    },
    "executionInfo": {
     "elapsed": 1716,
     "status": "ok",
     "timestamp": 1737199744959,
     "user": {
      "displayName": "509 Academy",
      "userId": "04290973032679126188"
     },
     "user_tz": -60
    },
    "id": "tF5Qa9C2nIcJ",
    "outputId": "4b0b27e0-24ff-4468-d238-2a4b366d67ea"
   },
   "outputs": [
    {
     "name": "stdout",
     "output_type": "stream",
     "text": [
      "կամ ուզում ես որ զրոյի բաժանեմ, կամ ընդհանրապես թիվ չես տվել, բա եղա՞վ տենց\n"
     ]
    }
   ],
   "source": [
    "try:\n",
    "    a = int(input())\n",
    "    tiv = 5 / a\n",
    "    print(tiv)\n",
    "\n",
    "except ValueError:\n",
    "    print('Մուտքը սխալ էր')\n",
    "except (TypeError, ZeroDivisionError): # if error in (Type, Zero)\n",
    "    print(\"կամ ուզում ես որ զրոյի բաժանեմ, կամ ընդհանրապես թիվ չես տվել, բա եղա՞վ տենց\")\n"
   ]
  },
  {
   "cell_type": "markdown",
   "metadata": {
    "id": "uScNDXmRnI7p"
   },
   "source": [
    "### Տպել թե ինչ Exceptionա"
   ]
  },
  {
   "cell_type": "code",
   "execution_count": 17,
   "metadata": {
    "colab": {
     "base_uri": "https://localhost:8080/",
     "height": 141
    },
    "executionInfo": {
     "elapsed": 272,
     "status": "error",
     "timestamp": 1737199977886,
     "user": {
      "displayName": "509 Academy",
      "userId": "04290973032679126188"
     },
     "user_tz": -60
    },
    "id": "hDDYraCkL_ho",
    "outputId": "e02d0836-6beb-447f-8f77-198a08bf8908"
   },
   "outputs": [
    {
     "ename": "ValueError",
     "evalue": "invalid literal for int() with base 10: 'asdfasdfa'",
     "output_type": "error",
     "traceback": [
      "\u001b[1;31m---------------------------------------------------------------------------\u001b[0m",
      "\u001b[1;31mValueError\u001b[0m                                Traceback (most recent call last)",
      "Input \u001b[1;32mIn [17]\u001b[0m, in \u001b[0;36m<cell line: 1>\u001b[1;34m()\u001b[0m\n\u001b[1;32m----> 1\u001b[0m \u001b[38;5;28;43mint\u001b[39;49m\u001b[43m(\u001b[49m\u001b[38;5;124;43m\"\u001b[39;49m\u001b[38;5;124;43masdfasdfa\u001b[39;49m\u001b[38;5;124;43m\"\u001b[39;49m\u001b[43m)\u001b[49m\n",
      "\u001b[1;31mValueError\u001b[0m: invalid literal for int() with base 10: 'asdfasdfa'"
     ]
    }
   ],
   "source": [
    "int(\"asdfasdfa\")"
   ]
  },
  {
   "cell_type": "code",
   "execution_count": 19,
   "metadata": {},
   "outputs": [
    {
     "ename": "ZeroDivisionError",
     "evalue": "division by zero",
     "output_type": "error",
     "traceback": [
      "\u001b[1;31m---------------------------------------------------------------------------\u001b[0m",
      "\u001b[1;31mZeroDivisionError\u001b[0m                         Traceback (most recent call last)",
      "Input \u001b[1;32mIn [19]\u001b[0m, in \u001b[0;36m<cell line: 1>\u001b[1;34m()\u001b[0m\n\u001b[1;32m----> 1\u001b[0m \u001b[38;5;241;43m5\u001b[39;49m\u001b[43m \u001b[49m\u001b[38;5;241;43m/\u001b[39;49m\u001b[43m \u001b[49m\u001b[38;5;241;43m0\u001b[39;49m\n",
      "\u001b[1;31mZeroDivisionError\u001b[0m: division by zero"
     ]
    }
   ],
   "source": [
    "5 / 0"
   ]
  },
  {
   "cell_type": "code",
   "execution_count": 20,
   "metadata": {
    "colab": {
     "base_uri": "https://localhost:8080/"
    },
    "executionInfo": {
     "elapsed": 3418,
     "status": "ok",
     "timestamp": 1737199961812,
     "user": {
      "displayName": "509 Academy",
      "userId": "04290973032679126188"
     },
     "user_tz": -60
    },
    "id": "4GhZ5qHTnL6-",
    "outputId": "cfb8860f-10db-475b-9b56-825859aec732"
   },
   "outputs": [
    {
     "name": "stdout",
     "output_type": "stream",
     "text": [
      "Մուտքը սխալ էր\n",
      "Փայթնը մեր վրա ղջայնացավ ու բղավեց invalid literal for int() with base 10: 'rtvybuhi'\n"
     ]
    }
   ],
   "source": [
    "try:\n",
    "    a = int(input())\n",
    "    tiv = 5 / a\n",
    "    print(tiv)\n",
    "\n",
    "except ValueError as e:\n",
    "    print('Մուտքը սխալ էր')\n",
    "    print(f\"Փայթնը մեր վրա ղջայնացավ ու բղավեց {e}\")\n",
    "except (TypeError, ZeroDivisionError) as errorik:\n",
    "    print(\"կամ ուզում ես որ զրոյի բաժանեմ, կամ ընդհանրապես թիվ չես տվել, բա եղա՞վ տենց\")\n",
    "    print(f\"Փայթնը մեր վրա ղջայնացավ ու բղավեց {errorik}\")\n",
    "\n",
    "\n"
   ]
  },
  {
   "cell_type": "markdown",
   "metadata": {
    "id": "m8-33Ksco2vg"
   },
   "source": [
    "### Կարանք վերջում ուղղակի չնշանեք Exceptionի տեսակը, ինքը կհասկանա Exception որպես"
   ]
  },
  {
   "cell_type": "markdown",
   "metadata": {
    "id": "aEqFF4Nbo94f"
   },
   "source": [
    "Բայց դե էդ դեպքում չենք կարողանա տպենք նամակը"
   ]
  },
  {
   "cell_type": "code",
   "execution_count": 22,
   "metadata": {
    "colab": {
     "base_uri": "https://localhost:8080/",
     "height": 238
    },
    "executionInfo": {
     "elapsed": 30,
     "status": "error",
     "timestamp": 1718901192546,
     "user": {
      "displayName": "509 Academy",
      "userId": "04290973032679126188"
     },
     "user_tz": -240
    },
    "id": "RX67b62AfXTJ",
    "outputId": "e5fe5b61-9d32-434b-ced1-3b07243949c7"
   },
   "outputs": [
    {
     "ename": "ZeroDivisionError",
     "evalue": "division by zero",
     "output_type": "error",
     "traceback": [
      "\u001b[1;31m---------------------------------------------------------------------------\u001b[0m",
      "\u001b[1;31mZeroDivisionError\u001b[0m                         Traceback (most recent call last)",
      "Input \u001b[1;32mIn [22]\u001b[0m, in \u001b[0;36m<cell line: 1>\u001b[1;34m()\u001b[0m\n\u001b[1;32m----> 1\u001b[0m \u001b[43mdivide509_by\u001b[49m\u001b[43m(\u001b[49m\u001b[38;5;241;43m0\u001b[39;49m\u001b[43m)\u001b[49m\n",
      "Input \u001b[1;32mIn [1]\u001b[0m, in \u001b[0;36mdivide509_by\u001b[1;34m(x)\u001b[0m\n\u001b[0;32m      3\u001b[0m \u001b[38;5;28;01mdef\u001b[39;00m \u001b[38;5;21mdivide509_by\u001b[39m(x):\n\u001b[1;32m----> 4\u001b[0m     \u001b[38;5;28;01mreturn\u001b[39;00m \u001b[38;5;241;43m509\u001b[39;49m\u001b[43m \u001b[49m\u001b[38;5;241;43m/\u001b[39;49m\u001b[43m \u001b[49m\u001b[43mx\u001b[49m\n",
      "\u001b[1;31mZeroDivisionError\u001b[0m: division by zero"
     ]
    }
   ],
   "source": [
    "divide509_by(0)"
   ]
  },
  {
   "cell_type": "code",
   "execution_count": null,
   "metadata": {
    "colab": {
     "base_uri": "https://localhost:8080/"
    },
    "executionInfo": {
     "elapsed": 2850,
     "status": "ok",
     "timestamp": 1737200010669,
     "user": {
      "displayName": "509 Academy",
      "userId": "04290973032679126188"
     },
     "user_tz": -60
    },
    "id": "5XhCIm-YoiaB",
    "outputId": "7a0366dc-e29e-495a-8e90-c6d5871ef02e"
   },
   "outputs": [
    {
     "name": "stdout",
     "output_type": "stream",
     "text": [
      "չգիտեմ ինչ սխալ գնաց, բայց մի բան սխալ գնաց, զգում եմ division by zero\n"
     ]
    }
   ],
   "source": [
    "\n",
    "try:\n",
    "    a = int(input())\n",
    "    tiv = 5 / a\n",
    "    print(tiv)\n",
    "\n",
    "except ValueError as e:\n",
    "    print('Մուտքը սխալ էր')\n",
    "    print(f\"Փայթնը մեր վրա ղջայնացավ ու բղավեց {e}\")\n",
    "# except (TypeError, ZeroDivisionError) as errorik:\n",
    "#     print(\"կամ ուզում ես որ զրոյի բաժանեմ, կամ ընդհանրապես թիվ չես տվել, բա եղա՞վ տենց\")\n",
    "#     print(f\"Փայթնը մեր վրա ղջայնացավ ու բղավեց {errorik}\")\n",
    "except Exception as e:\n",
    "    print('չգիտեմ ինչ սխալ գնաց, բայց մի բան սխալ գնաց, զգում եմ', e)"
   ]
  },
  {
   "cell_type": "markdown",
   "metadata": {
    "id": "r6_iM8bZrwJY"
   },
   "source": [
    "### ավելի մանրամասն գտնել թե ինչը են չէր"
   ]
  },
  {
   "cell_type": "code",
   "execution_count": 26,
   "metadata": {
    "colab": {
     "base_uri": "https://localhost:8080/"
    },
    "executionInfo": {
     "elapsed": 2400,
     "status": "ok",
     "timestamp": 1737200659999,
     "user": {
      "displayName": "509 Academy",
      "userId": "04290973032679126188"
     },
     "user_tz": -60
    },
    "id": "tHzYr8gtr1y2",
    "outputId": "1589e2be-e6ea-400f-c686-5ae67cccccdd"
   },
   "outputs": [
    {
     "name": "stdout",
     "output_type": "stream",
     "text": [
      "չգիտեմ ինչ սխալ գնաց, բայց մի բան սխալ գնաց, զգում եմ\n",
      "օձը ասումա division by zero\n",
      "Traceback (most recent call last):\n",
      "  File \"C:\\Users\\hayk_\\AppData\\Local\\Temp\\ipykernel_10612\\3585152945.py\", line 7, in <cell line: 5>\n",
      "    tiv = 5 / a\n",
      "ZeroDivisionError: division by zero\n",
      "\n"
     ]
    }
   ],
   "source": [
    "import traceback\n",
    "\n",
    "# traceback.print_exc()\n",
    "\n",
    "try:\n",
    "    a = int(input())\n",
    "    tiv = 5 / a\n",
    "    print(tiv)\n",
    "\n",
    "except Exception as e:\n",
    "    print('չգիտեմ ինչ սխալ գնաց, բայց մի բան սխալ գնաց, զգում եմ')\n",
    "    print(f'օձը ասումա {e}')\n",
    "    # traceback.print_exc()\n",
    "\n",
    "    trace = traceback.format_exc()\n",
    "    print(trace)\n"
   ]
  },
  {
   "cell_type": "markdown",
   "metadata": {
    "id": "WKBpzKvvqPPW"
   },
   "source": [
    "## Else, էլի else, լավ էլի դե"
   ]
  },
  {
   "cell_type": "markdown",
   "metadata": {
    "id": "qdAOwG-1tQQz"
   },
   "source": [
    "Else ը գալիսա մեր Exceptionներից հետո"
   ]
  },
  {
   "cell_type": "code",
   "execution_count": null,
   "metadata": {
    "colab": {
     "base_uri": "https://localhost:8080/"
    },
    "executionInfo": {
     "elapsed": 1967,
     "status": "ok",
     "timestamp": 1737200904603,
     "user": {
      "displayName": "509 Academy",
      "userId": "04290973032679126188"
     },
     "user_tz": -60
    },
    "id": "TEyiO3EkpFTt",
    "outputId": "37e8a490-a258-4dc0-bc69-9a9966c2d78f"
   },
   "outputs": [
    {
     "name": "stdout",
     "output_type": "stream",
     "text": [
      "5.0\n",
      "ոչ մի խնդիր չառաջացավ, էս ցրել ես հա՞ կոդը ինչ-որ տեղից\n"
     ]
    },
    {
     "ename": "NameError",
     "evalue": "name 'ura_namak' is not defined",
     "output_type": "error",
     "traceback": [
      "\u001b[1;31m---------------------------------------------------------------------------\u001b[0m",
      "\u001b[1;31mNameError\u001b[0m                                 Traceback (most recent call last)",
      "Input \u001b[1;32mIn [29]\u001b[0m, in \u001b[0;36m<cell line: 3>\u001b[1;34m()\u001b[0m\n\u001b[0;32m     12\u001b[0m \u001b[38;5;28;01melse\u001b[39;00m: \u001b[38;5;66;03m# no problem\u001b[39;00m\n\u001b[0;32m     13\u001b[0m     \u001b[38;5;28mprint\u001b[39m(\u001b[38;5;124m\"\u001b[39m\u001b[38;5;124mոչ մի խնդիր չառաջացավ, էս ցրել ես հա՞ կոդը ինչ-որ տեղից\u001b[39m\u001b[38;5;124m\"\u001b[39m)\n\u001b[1;32m---> 14\u001b[0m     \u001b[38;5;28mprint\u001b[39m(\u001b[43mura_namak\u001b[49m)\n",
      "\u001b[1;31mNameError\u001b[0m: name 'ura_namak' is not defined"
     ]
    }
   ],
   "source": [
    "import traceback\n",
    "\n",
    "try:\n",
    "    a = int(input())\n",
    "    tiv = 5 / a\n",
    "    print(tiv)\n",
    "\n",
    "except Exception as e: # if problem\n",
    "    print('չգիտեմ ինչ սխալ գնաց, բայց մի բան սխալ գնաց, զգում եմ')\n",
    "    print(f'օձը ասումա {e}')\n",
    "    traceback.print_exc()\n",
    "else: # no problem\n",
    "    print(\"ոչ մի խնդիր չառաջացավ, էս ցրել ես հա՞ կոդը ինչ-որ տեղից\")\n"
   ]
  },
  {
   "cell_type": "markdown",
   "metadata": {},
   "source": [
    "Ինչի՞ else-ը try-ում չգրենք"
   ]
  },
  {
   "cell_type": "code",
   "execution_count": 30,
   "metadata": {},
   "outputs": [
    {
     "name": "stdout",
     "output_type": "stream",
     "text": [
      "5.0\n",
      "ոչ մի խնդիր չառաջացավ, էս ցրել ես հա՞ կոդը ինչ-որ տեղից\n",
      "չգիտեմ ինչ սխալ գնաց, բայց մի բան սխալ գնաց, զգում եմ\n",
      "օձը ասումա name 'ura_namak' is not defined\n"
     ]
    },
    {
     "name": "stderr",
     "output_type": "stream",
     "text": [
      "Traceback (most recent call last):\n",
      "  File \"C:\\Users\\hayk_\\AppData\\Local\\Temp\\ipykernel_10612\\781789221.py\", line 8, in <cell line: 3>\n",
      "    print(ura_namak)\n",
      "NameError: name 'ura_namak' is not defined\n"
     ]
    }
   ],
   "source": [
    "import traceback\n",
    "\n",
    "try:\n",
    "    a = int(input())\n",
    "    tiv = 5 / a\n",
    "    print(tiv)\n",
    "    print(\"ոչ մի խնդիր չառաջացավ, էս ցրել ես հա՞ կոդը ինչ-որ տեղից\")\n",
    "    print(ura_namak)\n",
    "except Exception as e: # if problem\n",
    "    print('չգիտեմ ինչ սխալ գնաց, բայց մի բան սխալ գնաց, զգում եմ')\n",
    "    print(f'օձը ասումա {e}')\n",
    "    traceback.print_exc()\n",
    "else: # no problem\n",
    "    print(\"ոչ մի խնդիր չառաջացավ, էս ցրել ես հա՞ կոդը ինչ-որ տեղից\")\n",
    "    print(ura_namak)"
   ]
  },
  {
   "cell_type": "markdown",
   "metadata": {
    "id": "qLIhnPQTtTfM"
   },
   "source": [
    "## և վերջապես"
   ]
  },
  {
   "cell_type": "markdown",
   "metadata": {
    "id": "u7oAOo_8vnuL"
   },
   "source": [
    "Finally blockը աշխատելույա ցանկացած դեպքում կապ չունի tryում սաղ ճիշտ կաշխատի, թե խնդիր կլինի ու կընկնի exceptների մեջ"
   ]
  },
  {
   "cell_type": "code",
   "execution_count": null,
   "metadata": {
    "colab": {
     "base_uri": "https://localhost:8080/",
     "height": 530
    },
    "executionInfo": {
     "elapsed": 2231,
     "status": "error",
     "timestamp": 1737201674286,
     "user": {
      "displayName": "509 Academy",
      "userId": "04290973032679126188"
     },
     "user_tz": -60
    },
    "id": "7p9gaKUxtIYV",
    "outputId": "1691356e-7125-4cdd-eaeb-a024193a7e2d"
   },
   "outputs": [
    {
     "name": "stdout",
     "output_type": "stream",
     "text": [
      "try 5.0\n"
     ]
    },
    {
     "ename": "ZeroDivisionError",
     "evalue": "division by zero",
     "output_type": "error",
     "traceback": [
      "\u001b[1;31m---------------------------------------------------------------------------\u001b[0m",
      "\u001b[1;31mZeroDivisionError\u001b[0m                         Traceback (most recent call last)",
      "Input \u001b[1;32mIn [34]\u001b[0m, in \u001b[0;36m<cell line: 1>\u001b[1;34m()\u001b[0m\n\u001b[0;32m      9\u001b[0m     \u001b[38;5;66;03m# ...\u001b[39;00m\n\u001b[0;32m     10\u001b[0m \u001b[38;5;28;01melse\u001b[39;00m:\n\u001b[1;32m---> 11\u001b[0m     \u001b[38;5;28mprint\u001b[39m(\u001b[38;5;241;43m3\u001b[39;49m\u001b[43m \u001b[49m\u001b[38;5;241;43m/\u001b[39;49m\u001b[43m \u001b[49m\u001b[38;5;241;43m0\u001b[39;49m)\n\u001b[0;32m     12\u001b[0m     \u001b[38;5;28mprint\u001b[39m(\u001b[38;5;124m\"\u001b[39m\u001b[38;5;124melse\u001b[39m\u001b[38;5;124m\"\u001b[39m, \u001b[38;5;124m\"\u001b[39m\u001b[38;5;124mոչ մի խնդիր չառաջացավ, էս ցրել ես հա՞ կոդը ինչ-որ տեղից\u001b[39m\u001b[38;5;124m\"\u001b[39m)\n",
      "\u001b[1;31mZeroDivisionError\u001b[0m: division by zero",
      "\nDuring handling of the above exception, another exception occurred:\n",
      "\u001b[1;31mZeroDivisionError\u001b[0m                         Traceback (most recent call last)",
      "Input \u001b[1;32mIn [34]\u001b[0m, in \u001b[0;36m<cell line: 1>\u001b[1;34m()\u001b[0m\n\u001b[0;32m     12\u001b[0m     \u001b[38;5;28mprint\u001b[39m(\u001b[38;5;124m\"\u001b[39m\u001b[38;5;124melse\u001b[39m\u001b[38;5;124m\"\u001b[39m, \u001b[38;5;124m\"\u001b[39m\u001b[38;5;124mոչ մի խնդիր չառաջացավ, էս ցրել ես հա՞ կոդը ինչ-որ տեղից\u001b[39m\u001b[38;5;124m\"\u001b[39m)\n\u001b[0;32m     14\u001b[0m \u001b[38;5;28;01mfinally\u001b[39;00m:\n\u001b[1;32m---> 15\u001b[0m     \u001b[38;5;28mprint\u001b[39m(\u001b[38;5;241;43m1\u001b[39;49m\u001b[43m \u001b[49m\u001b[38;5;241;43m/\u001b[39;49m\u001b[43m \u001b[49m\u001b[38;5;241;43m0\u001b[39;49m)\n\u001b[0;32m     16\u001b[0m     \u001b[38;5;28mprint\u001b[39m(tiv)\n\u001b[0;32m     17\u001b[0m     \u001b[38;5;28mprint\u001b[39m(\u001b[38;5;124m\"\u001b[39m\u001b[38;5;124mfinally\u001b[39m\u001b[38;5;124m\"\u001b[39m,\u001b[38;5;124m'\u001b[39m\u001b[38;5;124mլավ թե վատ ամեն դեպքում մենք մեր գործը արեցինք\u001b[39m\u001b[38;5;124m'\u001b[39m)\n",
      "\u001b[1;31mZeroDivisionError\u001b[0m: division by zero"
     ]
    }
   ],
   "source": [
    "try:\n",
    "    a = int(input())\n",
    "    tiv = 5 / a\n",
    "    print(\"try\", tiv)\n",
    "    # ...\n",
    "except Exception as e:\n",
    "    print(f'exception, օձը ասումա {e}')\n",
    "    print(1 / 0)\n",
    "    # ...\n",
    "else:\n",
    "    print(3 / 0)\n",
    "    print(\"else\", \"ոչ մի խնդիր չառաջացավ, էս ցրել ես հա՞ կոդը ինչ-որ տեղից\")\n",
    "\n",
    "finally:\n",
    "    # print(1 / 0)\n",
    "    print(tiv)\n",
    "    print(\"finally\", 'լավ թե վատ ամեն դեպքում մենք մեր գործը արեցինք')\n",
    "\n",
    "print(\"okay\")\n"
   ]
  },
  {
   "cell_type": "markdown",
   "metadata": {
    "id": "sk6IhYUdwIaa"
   },
   "source": [
    "Գուցե tryը նենց exception քցի որ մենք չենք կարացել բռնենք, մի դեպքում կոդը ստոպ կլիներ ու ներքևում գրածը չէր կատարվի, իսկ էս դեպքում օքեյա"
   ]
  },
  {
   "cell_type": "code",
   "execution_count": null,
   "metadata": {
    "colab": {
     "base_uri": "https://localhost:8080/",
     "height": 228
    },
    "executionInfo": {
     "elapsed": 10662,
     "status": "error",
     "timestamp": 1708445873945,
     "user": {
      "displayName": "509 Academy",
      "userId": "04290973032679126188"
     },
     "user_tz": -240
    },
    "id": "UtXy_TZZwCOZ",
    "outputId": "399e2334-7160-4a17-c5cc-d0f918a21fd7"
   },
   "outputs": [
    {
     "name": "stdout",
     "output_type": "stream",
     "text": [
      "123e\n"
     ]
    },
    {
     "ename": "NameError",
     "evalue": "name 'error' is not defined",
     "output_type": "error",
     "traceback": [
      "\u001b[0;31m---------------------------------------------------------------------------\u001b[0m",
      "\u001b[0;31mNameError\u001b[0m                                 Traceback (most recent call last)",
      "\u001b[0;32m<ipython-input-49-03a9524fe82c>\u001b[0m in \u001b[0;36m<cell line: 10>\u001b[0;34m()\u001b[0m\n\u001b[1;32m      8\u001b[0m     \u001b[0;32mpass\u001b[0m\u001b[0;34m\u001b[0m\u001b[0;34m\u001b[0m\u001b[0m\n\u001b[1;32m      9\u001b[0m \u001b[0;34m\u001b[0m\u001b[0m\n\u001b[0;32m---> 10\u001b[0;31m \u001b[0mprint\u001b[0m\u001b[0;34m(\u001b[0m\u001b[0merror\u001b[0m\u001b[0;34m)\u001b[0m\u001b[0;34m\u001b[0m\u001b[0;34m\u001b[0m\u001b[0m\n\u001b[0m\u001b[1;32m     11\u001b[0m \u001b[0;34m\u001b[0m\u001b[0m\n\u001b[1;32m     12\u001b[0m \u001b[0;31m# except ValueError as e:\u001b[0m\u001b[0;34m\u001b[0m\u001b[0;34m\u001b[0m\u001b[0m\n",
      "\u001b[0;31mNameError\u001b[0m: name 'error' is not defined"
     ]
    }
   ],
   "source": [
    "try:\n",
    "    a = int(input())\n",
    "    tiv = 5 / a\n",
    "    print(tiv)\n",
    "\n",
    "# with open(..) as f:\n",
    "\n",
    "except ValueError as e:\n",
    "    print(f'օձը ասումա {e}')\n",
    "    print(5/0)\n",
    "else:\n",
    "    print(\"ոչ մի խնդիր չառաջացավ, էս ցրել ես հա՞ կոդը ինչ-որ տեղից\")\n",
    "finally:\n",
    "    print('լավ թե վատ ամեն դեպքում մենք մեր գործը արեցինք')\n"
   ]
  },
  {
   "cell_type": "markdown",
   "metadata": {
    "id": "wSAXyyaHwyAp"
   },
   "source": [
    "Հիմնականում finallyն օգտագործվումա file փակելու, դատաբազային միացումը կտրելու ու նման բաժանվելական գործերում"
   ]
  },
  {
   "cell_type": "code",
   "execution_count": 36,
   "metadata": {
    "executionInfo": {
     "elapsed": 317,
     "status": "ok",
     "timestamp": 1737202922768,
     "user": {
      "displayName": "509 Academy",
      "userId": "04290973032679126188"
     },
     "user_tz": -60
    },
    "id": "pz50stwgj7WP"
   },
   "outputs": [],
   "source": [
    "try:\n",
    "    print(4/0)\n",
    "except:\n",
    "    pass"
   ]
  },
  {
   "cell_type": "markdown",
   "metadata": {
    "id": "qY5xMWe2xAx4"
   },
   "source": [
    "**Հերթականությունը**\n",
    "```python\n",
    "try:\n",
    "    ...\n",
    "except Error:\n",
    "    ...\n",
    "except UrishError:\n",
    "    ...\n",
    "except:\n",
    "    ...\n",
    "else:\n",
    "    ...\n",
    "finally:\n",
    "    ...\n",
    "```"
   ]
  },
  {
   "cell_type": "markdown",
   "metadata": {
    "id": "SwTU8-EGxb0_"
   },
   "source": [
    "## raise"
   ]
  },
  {
   "cell_type": "code",
   "execution_count": 38,
   "metadata": {
    "colab": {
     "base_uri": "https://localhost:8080/",
     "height": 245
    },
    "executionInfo": {
     "elapsed": 1634,
     "status": "error",
     "timestamp": 1737203079067,
     "user": {
      "displayName": "509 Academy",
      "userId": "04290973032679126188"
     },
     "user_tz": -60
    },
    "id": "UVcRe3hlxc00",
    "outputId": "94d9895b-f70d-431e-fd1c-7ee52d4c3fa9"
   },
   "outputs": [
    {
     "name": "stdout",
     "output_type": "stream",
     "text": [
      "Բարև Յուրիկ ձյա\n"
     ]
    },
    {
     "ename": "ValueError",
     "evalue": "հաջող Վալոդիկ",
     "output_type": "error",
     "traceback": [
      "\u001b[1;31m---------------------------------------------------------------------------\u001b[0m",
      "\u001b[1;31mValueError\u001b[0m                                Traceback (most recent call last)",
      "Input \u001b[1;32mIn [38]\u001b[0m, in \u001b[0;36m<cell line: 5>\u001b[1;34m()\u001b[0m\n\u001b[0;32m      3\u001b[0m n \u001b[38;5;241m=\u001b[39m \u001b[38;5;28mint\u001b[39m(\u001b[38;5;28minput\u001b[39m())\n\u001b[0;32m      5\u001b[0m \u001b[38;5;28;01mif\u001b[39;00m n \u001b[38;5;241m==\u001b[39m \u001b[38;5;241m5\u001b[39m:\n\u001b[1;32m----> 6\u001b[0m     \u001b[38;5;28;01mraise\u001b[39;00m \u001b[38;5;167;01mValueError\u001b[39;00m(\u001b[38;5;124m'\u001b[39m\u001b[38;5;124mհաջող Վալոդիկ\u001b[39m\u001b[38;5;124m'\u001b[39m)\n\u001b[0;32m      9\u001b[0m \u001b[38;5;28mprint\u001b[39m(\u001b[38;5;124m\"\u001b[39m\u001b[38;5;124mhello\u001b[39m\u001b[38;5;124m\"\u001b[39m)\n",
      "\u001b[1;31mValueError\u001b[0m: հաջող Վալոդիկ"
     ]
    }
   ],
   "source": [
    "print(\"Բարև Յուրիկ ձյա\")\n",
    "\n",
    "n = int(input())\n",
    "\n",
    "if n == 5:\n",
    "    raise ValueError('հաջող Վալոդիկ')\n",
    "\n",
    "\n",
    "print(\"hello\")"
   ]
  },
  {
   "cell_type": "markdown",
   "metadata": {
    "id": "zulCytYjy9yx"
   },
   "source": [
    "## assert"
   ]
  },
  {
   "cell_type": "code",
   "execution_count": 40,
   "metadata": {
    "colab": {
     "base_uri": "https://localhost:8080/",
     "height": 228
    },
    "executionInfo": {
     "elapsed": 2507,
     "status": "error",
     "timestamp": 1737203176718,
     "user": {
      "displayName": "509 Academy",
      "userId": "04290973032679126188"
     },
     "user_tz": -60
    },
    "id": "GDAfgDcuyWC_",
    "outputId": "3c58fcb4-4e6d-4792-b37f-954f08a5e9a4"
   },
   "outputs": [
    {
     "ename": "AssertionError",
     "evalue": "",
     "output_type": "error",
     "traceback": [
      "\u001b[1;31m---------------------------------------------------------------------------\u001b[0m",
      "\u001b[1;31mAssertionError\u001b[0m                            Traceback (most recent call last)",
      "Input \u001b[1;32mIn [40]\u001b[0m, in \u001b[0;36m<cell line: 6>\u001b[1;34m()\u001b[0m\n\u001b[0;32m      1\u001b[0m num \u001b[38;5;241m=\u001b[39m \u001b[38;5;28mint\u001b[39m(\u001b[38;5;28minput\u001b[39m())\n\u001b[0;32m      3\u001b[0m \u001b[38;5;66;03m# if num < 0:\u001b[39;00m\n\u001b[0;32m      4\u001b[0m \u001b[38;5;66;03m#     raise Exception()\u001b[39;00m\n\u001b[1;32m----> 6\u001b[0m \u001b[38;5;28;01massert\u001b[39;00m num \u001b[38;5;241m>\u001b[39m\u001b[38;5;241m=\u001b[39m \u001b[38;5;241m0\u001b[39m\n\u001b[0;32m      8\u001b[0m \u001b[38;5;28mprint\u001b[39m(num\u001b[38;5;241m*\u001b[39m\u001b[38;5;241m*\u001b[39m\u001b[38;5;241m0.5\u001b[39m)\n",
      "\u001b[1;31mAssertionError\u001b[0m: "
     ]
    }
   ],
   "source": [
    "num = int(input())\n",
    "\n",
    "# if num < 0:\n",
    "#     raise Exception()\n",
    "\n",
    "assert num >= 0\n",
    "\n",
    "print(num**0.5)"
   ]
  },
  {
   "cell_type": "code",
   "execution_count": 42,
   "metadata": {
    "colab": {
     "base_uri": "https://localhost:8080/",
     "height": 245
    },
    "executionInfo": {
     "elapsed": 4462,
     "status": "error",
     "timestamp": 1737203218737,
     "user": {
      "displayName": "509 Academy",
      "userId": "04290973032679126188"
     },
     "user_tz": -60
    },
    "id": "xfaDQWTVzMd_",
    "outputId": "2ff9135b-9d3e-47fd-d6f7-9757b905795e"
   },
   "outputs": [
    {
     "ename": "AssertionError",
     "evalue": "-1 պետքա զրոյից մեծ լինի, եթե մեծ էլ չէ, գոնե հավասար, բացասականը էդ արդեն չափերը անցնելա",
     "output_type": "error",
     "traceback": [
      "\u001b[1;31m---------------------------------------------------------------------------\u001b[0m",
      "\u001b[1;31mAssertionError\u001b[0m                            Traceback (most recent call last)",
      "Input \u001b[1;32mIn [42]\u001b[0m, in \u001b[0;36m<cell line: 3>\u001b[1;34m()\u001b[0m\n\u001b[0;32m      1\u001b[0m num \u001b[38;5;241m=\u001b[39m \u001b[38;5;28mint\u001b[39m(\u001b[38;5;28minput\u001b[39m())\n\u001b[1;32m----> 3\u001b[0m \u001b[38;5;28;01massert\u001b[39;00m num \u001b[38;5;241m>\u001b[39m\u001b[38;5;241m=\u001b[39m \u001b[38;5;241m0\u001b[39m, \u001b[38;5;124mf\u001b[39m\u001b[38;5;124m\"\u001b[39m\u001b[38;5;132;01m{\u001b[39;00mnum\u001b[38;5;132;01m}\u001b[39;00m\u001b[38;5;124m պետքա զրոյից մեծ լինի, եթե մեծ էլ չէ, գոնե հավասար, բացասականը էդ արդեն չափերը անցնելա\u001b[39m\u001b[38;5;124m\"\u001b[39m\n\u001b[0;32m      5\u001b[0m \u001b[38;5;28mprint\u001b[39m(num\u001b[38;5;241m*\u001b[39m\u001b[38;5;241m*\u001b[39m\u001b[38;5;241m0.5\u001b[39m)\n",
      "\u001b[1;31mAssertionError\u001b[0m: -1 պետքա զրոյից մեծ լինի, եթե մեծ էլ չէ, գոնե հավասար, բացասականը էդ արդեն չափերը անցնելա"
     ]
    }
   ],
   "source": [
    "num = int(input())\n",
    "\n",
    "assert num >= 0, f\"{num} պետքա զրոյից մեծ լինի, եթե մեծ էլ չէ, գոնե հավասար, բացասականը էդ արդեն չափերը անցնելա\"\n",
    "\n",
    "print(num**0.5)"
   ]
  },
  {
   "cell_type": "code",
   "execution_count": null,
   "metadata": {},
   "outputs": [],
   "source": [
    "4 -> 3\n",
    "\n",
    "assert code(4) == 3\n",
    "assert code(5) == 4"
   ]
  },
  {
   "cell_type": "markdown",
   "metadata": {
    "id": "-2Kn7c91zrtG"
   },
   "source": [
    "assertները թեթև հարմար ձև են վստահացնելու որ ծրագիրը չի գա նենց դեպքի որը մենք չենք ակնկալում, հատկապես օգտակար են երբ թեստեր ենք գրում, օրինակ հենց profound.academyի աշխատելու նման"
   ]
  },
  {
   "cell_type": "code",
   "execution_count": 46,
   "metadata": {
    "colab": {
     "base_uri": "https://localhost:8080/",
     "height": 263
    },
    "executionInfo": {
     "elapsed": 4989,
     "status": "error",
     "timestamp": 1737203532568,
     "user": {
      "displayName": "509 Academy",
      "userId": "04290973032679126188"
     },
     "user_tz": -60
    },
    "id": "EnZtmpWDy6AH",
    "outputId": "6c41f50d-b079-4900-c13f-45ee2783a3c7"
   },
   "outputs": [
    {
     "name": "stdout",
     "output_type": "stream",
     "text": [
      "Matucel pizza\n"
     ]
    }
   ],
   "source": [
    "age = int(input())\n",
    "patver = input()\n",
    "\n",
    "menu = [\"pizza\", \"gazar\"]\n",
    "\n",
    "assert age >= 18, \"Not allowed, too young\"\n",
    "assert patver in menu, f\"We don't serve {patver}.\\nPlease select from {menu}\"\n",
    "\n",
    "print(f\"Matucel {patver}\")\n"
   ]
  },
  {
   "cell_type": "code",
   "execution_count": 58,
   "metadata": {
    "colab": {
     "base_uri": "https://localhost:8080/",
     "height": 176
    },
    "executionInfo": {
     "elapsed": 268,
     "status": "error",
     "timestamp": 1737203587604,
     "user": {
      "displayName": "509 Academy",
      "userId": "04290973032679126188"
     },
     "user_tz": -60
    },
    "id": "cV9g2gYby6pV",
    "outputId": "d0b7b9cc-fb3a-4902-bd6d-440e40648fd7"
   },
   "outputs": [
    {
     "ename": "MerError",
     "evalue": "asda",
     "output_type": "error",
     "traceback": [
      "\u001b[0;31m---------------------------------------------------------------------------\u001b[0m",
      "\u001b[0;31mMerError\u001b[0m                                  Traceback (most recent call last)",
      "\u001b[0;32m<ipython-input-58-06840d9a9184>\u001b[0m in \u001b[0;36m<cell line: 0>\u001b[0;34m()\u001b[0m\n\u001b[1;32m      2\u001b[0m     \u001b[0;32mpass\u001b[0m\u001b[0;34m\u001b[0m\u001b[0;34m\u001b[0m\u001b[0m\n\u001b[1;32m      3\u001b[0m \u001b[0;34m\u001b[0m\u001b[0m\n\u001b[0;32m----> 4\u001b[0;31m \u001b[0;32mraise\u001b[0m \u001b[0mMerError\u001b[0m\u001b[0;34m(\u001b[0m\u001b[0;34m\"asda\"\u001b[0m\u001b[0;34m)\u001b[0m\u001b[0;34m\u001b[0m\u001b[0;34m\u001b[0m\u001b[0m\n\u001b[0m",
      "\u001b[0;31mMerError\u001b[0m: asda"
     ]
    }
   ],
   "source": [
    "class MerError(Exception):\n",
    "    pass\n",
    "\n",
    "raise MerError(\"asda\")"
   ]
  },
  {
   "cell_type": "markdown",
   "metadata": {},
   "source": [
    "## Warnings\n",
    "[Լավ նյութ](https://www.geeksforgeeks.org/warnings-in-python/)"
   ]
  },
  {
   "cell_type": "code",
   "execution_count": 1,
   "metadata": {},
   "outputs": [
    {
     "name": "stdout",
     "output_type": "stream",
     "text": [
      "1\n",
      "2\n"
     ]
    },
    {
     "name": "stderr",
     "output_type": "stream",
     "text": [
      "C:\\Users\\hayk_\\AppData\\Local\\Temp\\ipykernel_8804\\110363617.py:4: UserWarning: Բալես, զգույշ չմրսես\n",
      "  warnings.warn(\"Բալես, զգույշ չմրսես\")\n"
     ]
    }
   ],
   "source": [
    "import warnings\n",
    "\n",
    "print(1)\n",
    "warnings.warn(\"Բալես, զգույշ չմրսես\")\n",
    "print(2)"
   ]
  },
  {
   "cell_type": "code",
   "execution_count": 2,
   "metadata": {},
   "outputs": [
    {
     "name": "stderr",
     "output_type": "stream",
     "text": [
      "C:\\Users\\hayk_\\AppData\\Local\\Temp\\ipykernel_8804\\1897345263.py:2: DeprecationWarning: old_function() is deprecated; use new_function()\n",
      "  warnings.warn(\"old_function() is deprecated; use new_function()\", DeprecationWarning)\n"
     ]
    }
   ],
   "source": [
    "def old_function():\n",
    "    warnings.warn(\"old_function() is deprecated; use new_function()\", DeprecationWarning)\n",
    "\n",
    "old_function()"
   ]
  },
  {
   "cell_type": "markdown",
   "metadata": {},
   "source": [
    "Warning Categories\n",
    "In Python there are a variety of built-in exceptions which reflect categories of warning, some of them are:\n",
    "- Warning Class: It is the super class of all warning category classes and a subclass of the Exception class.\n",
    "- UserWarning Class: warn() function default category.\n",
    "- DeprecationWarning Class: Base category for alerts regarding obsolete features when those warnings are for other developers (triggered by code in __main__ unless ignored).\n",
    "- SyntaxWarning Class: Base class for warnings of suspicious syntactic attributes.\n",
    "- RuntimeWarning Class: Base class for warnings of suspicious run time attributes.\n",
    "- FutureWarning Class: Base class for warnings on obsolete features when certain warnings are meant for end-users of Python-written programs.\n",
    "- PendingDeprecationWarning Class: Base class for warnings of an outdated attribute.\n",
    "- ImportWarning Class: Base class for warnings caused during a module importation process.\n",
    "- UnicodeWarning Class: Base class for Unicode based warnings.\n",
    "- BytesWarning Class: Base class for bytes and bytearray based warnings.\n",
    "- ResourceWarning Class: Base class for resource-related warnings."
   ]
  },
  {
   "cell_type": "code",
   "execution_count": 3,
   "metadata": {},
   "outputs": [
    {
     "name": "stderr",
     "output_type": "stream",
     "text": [
      "C:\\Users\\hayk_\\AppData\\Local\\Temp\\ipykernel_8804\\922855606.py:4: UserWarning: Geeks 4 Geeks\n",
      "  warnings.warn('Geeks 4 Geeks')\n",
      "C:\\Users\\hayk_\\AppData\\Local\\Temp\\ipykernel_8804\\922855606.py:5: UserWarning: Do not show this message\n",
      "  warnings.warn('Do not show this message')\n"
     ]
    }
   ],
   "source": [
    "import warnings\n",
    "\n",
    "# displaying warning\n",
    "warnings.warn('Geeks 4 Geeks')\n",
    "warnings.warn('Do not show this message')\n"
   ]
  },
  {
   "cell_type": "code",
   "execution_count": 4,
   "metadata": {},
   "outputs": [],
   "source": [
    "import warnings\n",
    "\n",
    "warnings.filterwarnings(\"ignore\")  # ignore all warnings\n",
    "# displaying warning\n",
    "warnings.warn('Geeks 4 Geeks')\n",
    "warnings.warn('Do not show this message')\n",
    "\n"
   ]
  },
  {
   "cell_type": "code",
   "execution_count": 5,
   "metadata": {},
   "outputs": [],
   "source": [
    "import warnings\n",
    "\n",
    "warnings.filterwarnings(\"ignore\", \".*do not*.\")  # ignore all warnings\n",
    "# displaying warning\n",
    "warnings.warn('Geeks 4 Geeks')\n",
    "warnings.warn('Do not show this message')\n",
    "\n"
   ]
  },
  {
   "cell_type": "code",
   "execution_count": 6,
   "metadata": {},
   "outputs": [
    {
     "name": "stdout",
     "output_type": "stream",
     "text": [
      "Warning category: UserWarning\n",
      "Message: Negative input; returning 0\n",
      "Origin: C:\\Users\\hayk_\\AppData\\Local\\Temp\\ipykernel_8804\\4150241946.py, line 5\n"
     ]
    }
   ],
   "source": [
    "import warnings\n",
    "\n",
    "def square_root(x):\n",
    "    if x < 0:\n",
    "        warnings.warn(\"Negative input; returning 0\", UserWarning)\n",
    "        return 0\n",
    "    return x ** 0.5\n",
    "\n",
    "# Example: catching warnings\n",
    "with warnings.catch_warnings(record=True) as caught:\n",
    "    warnings.simplefilter(\"always\")  # Ensure all warnings are captured\n",
    "    result = square_root(-4)\n",
    "    assert result == 0\n",
    "    # `caught` is a list of WarningMessage objects\n",
    "    assert len(caught) == 1\n",
    "    \n",
    "    wm = caught[0]\n",
    "    print(f\"Warning category: {wm.category.__name__}\")\n",
    "    print(f\"Message: {wm.message}\")\n",
    "    print(f\"Origin: {wm.filename}, line {wm.lineno}\")\n"
   ]
  },
  {
   "cell_type": "markdown",
   "metadata": {
    "id": "r_3IP74A3E_b"
   },
   "source": [
    "## Մոտեցումներ"
   ]
  },
  {
   "cell_type": "markdown",
   "metadata": {
    "id": "X_reRBY-3NHL"
   },
   "source": [
    "1. Easier to Ask Forgiveness than Permission (EAFP)\n",
    "2. Look Before You Leap (LBYL)\n",
    "\n",
    "[Նյութ](https://realpython.com/python-lbyl-vs-eafp/) (էս լավ կայքա)"
   ]
  },
  {
   "cell_type": "code",
   "execution_count": 7,
   "metadata": {
    "colab": {
     "base_uri": "https://localhost:8080/",
     "height": 211
    },
    "executionInfo": {
     "elapsed": 1828,
     "status": "error",
     "timestamp": 1737204074261,
     "user": {
      "displayName": "509 Academy",
      "userId": "04290973032679126188"
     },
     "user_tz": -60
    },
    "id": "iT0tXmClaOrA",
    "outputId": "4576a122-d85b-4b76-a4fe-a54575163791"
   },
   "outputs": [
    {
     "name": "stdout",
     "output_type": "stream",
     "text": [
      "մի բան են չէր\n",
      "ես դեռ ողջ եմ, ուռաաա\n"
     ]
    }
   ],
   "source": [
    "try:\n",
    "    x = 0\n",
    "    tiv = 5 / x\n",
    "    print(tiv)\n",
    "except: # if try-ում մի բան ավիրվեց\n",
    "    print('մի բան են չէր')\n",
    "\n",
    "print('ես դեռ ողջ եմ, ուռաաա')"
   ]
  },
  {
   "cell_type": "code",
   "execution_count": null,
   "metadata": {
    "colab": {
     "base_uri": "https://localhost:8080/"
    },
    "executionInfo": {
     "elapsed": 287,
     "status": "ok",
     "timestamp": 1737203804635,
     "user": {
      "displayName": "509 Academy",
      "userId": "04290973032679126188"
     },
     "user_tz": -60
    },
    "id": "D7-k-iqzaVtQ",
    "outputId": "ea5646a5-3d5f-4291-d48c-ec4e791bf6db"
   },
   "outputs": [
    {
     "name": "stdout",
     "output_type": "stream",
     "text": [
      "String chi kareli\n"
     ]
    }
   ],
   "source": [
    "x = \"a\"\n",
    "\n",
    "if x == 0:\n",
    "    print(\"zro chi kareli\")\n",
    "elif type(x)==str: # isinstance(x, str)\n",
    "    print(\"String chi kareli\")\n",
    "else:\n",
    "    tiv = 5 / x\n",
    "    print(tiv)\n"
   ]
  },
  {
   "cell_type": "markdown",
   "metadata": {
    "id": "6DM_if0f0Iw-"
   },
   "source": [
    "## Exceptionների hierarchy"
   ]
  },
  {
   "cell_type": "code",
   "execution_count": 11,
   "metadata": {},
   "outputs": [
    {
     "ename": "KeyboardInterrupt",
     "evalue": "",
     "output_type": "error",
     "traceback": [
      "\u001b[1;31m---------------------------------------------------------------------------\u001b[0m",
      "\u001b[1;31mKeyboardInterrupt\u001b[0m                         Traceback (most recent call last)",
      "Input \u001b[1;32mIn [11]\u001b[0m, in \u001b[0;36m<cell line: 3>\u001b[1;34m()\u001b[0m\n\u001b[0;32m      1\u001b[0m \u001b[38;5;28;01mimport\u001b[39;00m \u001b[38;5;21;01mtime\u001b[39;00m\n\u001b[1;32m----> 3\u001b[0m \u001b[43mtime\u001b[49m\u001b[38;5;241;43m.\u001b[39;49m\u001b[43msleep\u001b[49m\u001b[43m(\u001b[49m\u001b[38;5;241;43m10\u001b[39;49m\u001b[43m)\u001b[49m \u001b[38;5;66;03m#cntrl c\u001b[39;00m\n",
      "\u001b[1;31mKeyboardInterrupt\u001b[0m: "
     ]
    }
   ],
   "source": [
    "import time\n",
    "\n",
    "time.sleep(10) # cntrl c"
   ]
  },
  {
   "cell_type": "markdown",
   "metadata": {
    "id": "b3ApAdsk0zVt"
   },
   "source": [
    "BaseException \\\n",
    " ├── BaseExceptionGroup \\\n",
    " ├── GeneratorExit \\\n",
    " ├── KeyboardInterrupt \\\n",
    " ├── SystemExit\n",
    " └── Exception\n",
    "      ├── ArithmeticError\n",
    "      │    ├── FloatingPointError\n",
    "      │    ├── OverflowError\n",
    "      │    └── ZeroDivisionError\n",
    "      ├── AssertionError\n",
    "      ├── AttributeError\n",
    "      ├── BufferError\n",
    "      ├── EOFError\n",
    "      ├── ExceptionGroup [BaseExceptionGroup]\n",
    "      ├── ImportError\n",
    "      │    └── ModuleNotFoundError\n",
    "      ├── LookupError\n",
    "      │    ├── IndexError\n",
    "      │    └── KeyError\n",
    "      ├── MemoryError\n",
    "      ├── NameError\n",
    "      │    └── UnboundLocalError\n",
    "      ├── OSError\n",
    "      │    ├── BlockingIOError\n",
    "      │    ├── ChildProcessError\n",
    "      │    ├── ConnectionError\n",
    "      │    │    ├── BrokenPipeError\n",
    "      │    │    ├── ConnectionAbortedError\n",
    "      │    │    ├── ConnectionRefusedError\n",
    "      │    │    └── ConnectionResetError\n",
    "      │    ├── FileExistsError\n",
    "      │    ├── FileNotFoundError\n",
    "      │    ├── InterruptedError\n",
    "      │    ├── IsADirectoryError\n",
    "      │    ├── NotADirectoryError\n",
    "      │    ├── PermissionError\n",
    "      │    ├── ProcessLookupError\n",
    "      │    └── TimeoutError\n",
    "      ├── ReferenceError\n",
    "      ├── RuntimeError\n",
    "      │    ├── NotImplementedError\n",
    "      │    └── RecursionError\n",
    "      ├── StopAsyncIteration\n",
    "      ├── StopIteration\n",
    "      ├── SyntaxError\n",
    "      │    └── IndentationError\n",
    "      │         └── TabError\n",
    "      ├── SystemError\n",
    "      ├── TypeError\n",
    "      ├── ValueError\n",
    "      │    └── UnicodeError\n",
    "      │         ├── UnicodeDecodeError\n",
    "      │         ├── UnicodeEncodeError\n",
    "      │         └── UnicodeTranslateError\n",
    "      └── Warning\n",
    "           ├── BytesWarning\n",
    "           ├── DeprecationWarning\n",
    "           ├── EncodingWarning\n",
    "           ├── FutureWarning\n",
    "           ├── ImportWarning\n",
    "           ├── PendingDeprecationWarning\n",
    "           ├── ResourceWarning\n",
    "           ├── RuntimeWarning\n",
    "           ├── SyntaxWarning\n",
    "           ├── UnicodeWarning\n",
    "           └── UserWarning"
   ]
  },
  {
   "cell_type": "code",
   "execution_count": null,
   "metadata": {
    "id": "hTStoky20x3o"
   },
   "outputs": [],
   "source": [
    "\n",
    "BaseException\n",
    " ├── BaseExceptionGroup\n",
    " ├── GeneratorExit\n",
    " ├── KeyboardInterrupt\n",
    " ├── SystemExit\n",
    " └── Exception\n",
    "      ├── ArithmeticError\n",
    "      │    ├── FloatingPointError\n",
    "      │    ├── OverflowError\n",
    "      │    └── ZeroDivisionError\n",
    "      ├── AssertionError\n",
    "      ├── AttributeError\n",
    "      ├── BufferError\n",
    "      ├── EOFError\n",
    "      ├── ExceptionGroup [BaseExceptionGroup]\n",
    "      ├── ImportError\n",
    "      │    └── ModuleNotFoundError\n",
    "      ├── LookupError\n",
    "      │    ├── IndexError\n",
    "      │    └── KeyError\n",
    "      ├── MemoryError\n",
    "      ├── NameError\n",
    "      │    └── UnboundLocalError\n",
    "      ├── OSError\n",
    "      │    ├── BlockingIOError\n",
    "      │    ├── ChildProcessError\n",
    "      │    ├── ConnectionError\n",
    "      │    │    ├── BrokenPipeError\n",
    "      │    │    ├── ConnectionAbortedError\n",
    "      │    │    ├── ConnectionRefusedError\n",
    "      │    │    └── ConnectionResetError\n",
    "      │    ├── FileExistsError\n",
    "      │    ├── FileNotFoundError\n",
    "      │    ├── InterruptedError\n",
    "      │    ├── IsADirectoryError\n",
    "      │    ├── NotADirectoryError\n",
    "      │    ├── PermissionError\n",
    "      │    ├── ProcessLookupError\n",
    "      │    └── TimeoutError\n",
    "      ├── ReferenceError\n",
    "      ├── RuntimeError\n",
    "      │    ├── NotImplementedError\n",
    "      │    └── RecursionError\n",
    "      ├── StopAsyncIteration\n",
    "      ├── StopIteration\n",
    "      ├── SyntaxError\n",
    "      │    └── IndentationError\n",
    "      │         └── TabError\n",
    "      ├── SystemError\n",
    "      ├── TypeError\n",
    "      ├── ValueError\n",
    "      │    └── UnicodeError\n",
    "      │         ├── UnicodeDecodeError\n",
    "      │         ├── UnicodeEncodeError\n",
    "      │         └── UnicodeTranslateError\n",
    "      └── Warning\n",
    "           ├── BytesWarning\n",
    "           ├── DeprecationWarning\n",
    "           ├── EncodingWarning\n",
    "           ├── FutureWarning\n",
    "           ├── ImportWarning\n",
    "           ├── PendingDeprecationWarning\n",
    "           ├── ResourceWarning\n",
    "           ├── RuntimeWarning\n",
    "           ├── SyntaxWarning\n",
    "           ├── UnicodeWarning\n",
    "           └── UserWarning\n"
   ]
  },
  {
   "cell_type": "code",
   "execution_count": 12,
   "metadata": {
    "colab": {
     "base_uri": "https://localhost:8080/"
    },
    "executionInfo": {
     "elapsed": 12064,
     "status": "ok",
     "timestamp": 1708446750690,
     "user": {
      "displayName": "509 Academy",
      "userId": "04290973032679126188"
     },
     "user_tz": -240
    },
    "id": "eC7wYscRXFjS",
    "outputId": "c74ea31d-1212-4d67-95f7-3fe117c814a9"
   },
   "outputs": [
    {
     "ename": "MerSepakanException",
     "evalue": "",
     "output_type": "error",
     "traceback": [
      "\u001b[1;31m---------------------------------------------------------------------------\u001b[0m",
      "\u001b[1;31mMerSepakanException\u001b[0m                       Traceback (most recent call last)",
      "Input \u001b[1;32mIn [12]\u001b[0m, in \u001b[0;36m<cell line: 8>\u001b[1;34m()\u001b[0m\n\u001b[0;32m      7\u001b[0m ser \u001b[38;5;241m=\u001b[39m \u001b[38;5;28minput\u001b[39m(\u001b[38;5;124m\"\u001b[39m\u001b[38;5;124mԴուք սիրու՞մ եք կարգին հաղորդում\u001b[39m\u001b[38;5;124m\"\u001b[39m)\n\u001b[0;32m      8\u001b[0m \u001b[38;5;28;01mif\u001b[39;00m ser \u001b[38;5;241m!=\u001b[39m \u001b[38;5;124m\"\u001b[39m\u001b[38;5;124mշատ\u001b[39m\u001b[38;5;124m\"\u001b[39m:\n\u001b[1;32m----> 9\u001b[0m     \u001b[38;5;28;01mraise\u001b[39;00m MerSepakanException()\n",
      "\u001b[1;31mMerSepakanException\u001b[0m: "
     ]
    }
   ],
   "source": [
    "class MerSepakanException(Exception):\n",
    "    pass\n",
    "    # def __init__(self):\n",
    "    #     # self.message = message\n",
    "    #     super().__init__(self.message)\n",
    "\n",
    "ser = input(\"Դուք սիրու՞մ եք կարգին հաղորդում\")\n",
    "if ser != \"շատ\":\n",
    "    raise MerSepakanException()\n"
   ]
  },
  {
   "cell_type": "code",
   "execution_count": null,
   "metadata": {
    "colab": {
     "base_uri": "https://localhost:8080/",
     "height": 193
    },
    "executionInfo": {
     "elapsed": 3127,
     "status": "error",
     "timestamp": 1708446761862,
     "user": {
      "displayName": "509 Academy",
      "userId": "04290973032679126188"
     },
     "user_tz": -240
    },
    "id": "_wxQZNikXGL9",
    "outputId": "4bb83982-2951-4248-b68f-21cc775bd416"
   },
   "outputs": [
    {
     "name": "stdout",
     "output_type": "stream",
     "text": [
      "Դուք սիրու՞մ եք կարգին հաղորդումադսֆ\n"
     ]
    },
    {
     "ename": "MerSepakanException",
     "evalue": "",
     "output_type": "error",
     "traceback": [
      "\u001b[0;31m---------------------------------------------------------------------------\u001b[0m",
      "\u001b[0;31mMerSepakanException\u001b[0m                       Traceback (most recent call last)",
      "\u001b[0;32m<ipython-input-55-97792bd6e7fd>\u001b[0m in \u001b[0;36m<cell line: 8>\u001b[0;34m()\u001b[0m\n\u001b[1;32m      7\u001b[0m \u001b[0mser\u001b[0m \u001b[0;34m=\u001b[0m \u001b[0minput\u001b[0m\u001b[0;34m(\u001b[0m\u001b[0;34m\"Դուք սիրու՞մ եք կարգին հաղորդում\"\u001b[0m\u001b[0;34m)\u001b[0m\u001b[0;34m\u001b[0m\u001b[0;34m\u001b[0m\u001b[0m\n\u001b[1;32m      8\u001b[0m \u001b[0;32mif\u001b[0m \u001b[0mser\u001b[0m \u001b[0;34m!=\u001b[0m \u001b[0;34m\"շատ\"\u001b[0m\u001b[0;34m:\u001b[0m\u001b[0;34m\u001b[0m\u001b[0;34m\u001b[0m\u001b[0m\n\u001b[0;32m----> 9\u001b[0;31m     \u001b[0;32mraise\u001b[0m \u001b[0mMerSepakanException\u001b[0m\u001b[0;34m(\u001b[0m\u001b[0;34m)\u001b[0m\u001b[0;34m\u001b[0m\u001b[0;34m\u001b[0m\u001b[0m\n\u001b[0m",
      "\u001b[0;31mMerSepakanException\u001b[0m: "
     ]
    }
   ],
   "source": [
    "class MerSepakanException(Exception):\n",
    "    pass\n",
    "    # def __init__(self):\n",
    "    #     # self.message = message\n",
    "    #     super().__init__(self.message)\n",
    "\n",
    "ser = input(\"Դուք սիրու՞մ եք կարգին հաղորդում\")\n",
    "if ser != \"շատ\":\n",
    "    raise MerSepakanException()\n"
   ]
  },
  {
   "cell_type": "code",
   "execution_count": null,
   "metadata": {
    "colab": {
     "base_uri": "https://localhost:8080/",
     "height": 193
    },
    "executionInfo": {
     "elapsed": 1872,
     "status": "error",
     "timestamp": 1708446889881,
     "user": {
      "displayName": "509 Academy",
      "userId": "04290973032679126188"
     },
     "user_tz": -240
    },
    "id": "mUIwS5SPXLMs",
    "outputId": "c890c37e-9b7f-45eb-b6d3-2bddabf63d58"
   },
   "outputs": [
    {
     "name": "stdout",
     "output_type": "stream",
     "text": [
      "Դուք սիրու՞մ եք կարգին հաղորդումsedrtyu\n"
     ]
    },
    {
     "ename": "MerSepakanException",
     "evalue": "Բա չես ամանչում, ասում ես sedrtyu",
     "output_type": "error",
     "traceback": [
      "\u001b[0;31m---------------------------------------------------------------------------\u001b[0m",
      "\u001b[0;31mMerSepakanException\u001b[0m                       Traceback (most recent call last)",
      "\u001b[0;32m<ipython-input-60-8f288f8bebd0>\u001b[0m in \u001b[0;36m<cell line: 7>\u001b[0;34m()\u001b[0m\n\u001b[1;32m      6\u001b[0m \u001b[0mser\u001b[0m \u001b[0;34m=\u001b[0m \u001b[0minput\u001b[0m\u001b[0;34m(\u001b[0m\u001b[0;34m\"Դուք սիրու՞մ եք կարգին հաղորդում\"\u001b[0m\u001b[0;34m)\u001b[0m\u001b[0;34m\u001b[0m\u001b[0;34m\u001b[0m\u001b[0m\n\u001b[1;32m      7\u001b[0m \u001b[0;32mif\u001b[0m \u001b[0mser\u001b[0m \u001b[0;34m!=\u001b[0m \u001b[0;34m\"շատ\"\u001b[0m\u001b[0;34m:\u001b[0m\u001b[0;34m\u001b[0m\u001b[0;34m\u001b[0m\u001b[0m\n\u001b[0;32m----> 8\u001b[0;31m     \u001b[0;32mraise\u001b[0m \u001b[0mMerSepakanException\u001b[0m\u001b[0;34m(\u001b[0m\u001b[0;34mf\"Բա չես ամանչում, ասում ես {ser}\"\u001b[0m\u001b[0;34m)\u001b[0m\u001b[0;34m\u001b[0m\u001b[0;34m\u001b[0m\u001b[0m\n\u001b[0m",
      "\u001b[0;31mMerSepakanException\u001b[0m: Բա չես ամանչում, ասում ես sedrtyu"
     ]
    }
   ],
   "source": [
    "class MerSepakanException(Exception):\n",
    "    def __init__(self, namak):\n",
    "        self.message = namak\n",
    "        super().__init__(self.message)\n",
    "\n",
    "ser = input(\"Դուք սիրու՞մ եք կարգին հաղորդում\")\n",
    "if ser != \"շատ\":\n",
    "    raise MerSepakanException(f\"Բա չես ամանչում, ասում ես {ser}\")\n"
   ]
  },
  {
   "cell_type": "markdown",
   "metadata": {},
   "source": [
    "# 🛠️ Գործնական (ToDo)\n"
   ]
  },
  {
   "cell_type": "markdown",
   "metadata": {},
   "source": [
    "# 🏡Տնային\n",
    "https://www.notion.so/shudadi-shudada/Password-generator-validator-1b58d0610fed81d0bbf9e756e1152297\n"
   ]
  },
  {
   "cell_type": "markdown",
   "metadata": {},
   "source": [
    "# 🎲 11\n",
    "- ▶️[TED](https://www.youtube.com/watch?v=5MgBikgcWnY)\n",
    "- ▶️[Random link](https://www.youtube.com/watch?v=zBJU9ndpH1Q)\n",
    "- 🇦🇲🎶[Որդան կարմիր](https://www.youtube.com/watch?v=6WzSYhnImrM)\n",
    "- 🌐🎶[Chris Isaac](https://www.youtube.com/watch?v=oadhHk2xs6c)\n",
    "- 🤌[Կարգին](https://www.youtube.com/watch?v=bG0Vzk2SuQU)"
   ]
  },
  {
   "cell_type": "markdown",
   "metadata": {
    "id": "TfbUegKqXVyH"
   },
   "source": [
    "\n",
    "<a href=\"http://s01.flagcounter.com/more/1oO\"><img src=\"https://s01.flagcounter.com/count2/1oO/bg_FFFFFF/txt_000000/border_CCCCCC/columns_2/maxflags_10/viewers_0/labels_0/pageviews_1/flags_0/percent_0/\" alt=\"Flag Counter\"></a>\n"
   ]
  }
 ],
 "metadata": {
  "colab": {
   "authorship_tag": "ABX9TyOx7X+DxNeKu1zUVVCmsSHJ",
   "provenance": [
    {
     "file_id": "1_9UtYmPVVGmnWIKdBzPYkbtTlTbd0clo",
     "timestamp": 1735604987843
    },
    {
     "file_id": "15x56uwwONMo_ilzUJgt6UcX1d552xH6X",
     "timestamp": 1708441161475
    },
    {
     "file_id": "1LbG88IWtk30WlIoINzG4_vXHoJAvoDaP",
     "timestamp": 1683614319950
    }
   ]
  },
  "kernelspec": {
   "display_name": "thesis",
   "language": "python",
   "name": "python3"
  },
  "language_info": {
   "codemirror_mode": {
    "name": "ipython",
    "version": 3
   },
   "file_extension": ".py",
   "mimetype": "text/x-python",
   "name": "python",
   "nbconvert_exporter": "python",
   "pygments_lexer": "ipython3",
   "version": "3.10.18"
  }
 },
 "nbformat": 4,
 "nbformat_minor": 0
}

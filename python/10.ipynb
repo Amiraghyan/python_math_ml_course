{
 "cells": [
  {
   "cell_type": "markdown",
   "id": "2bb81ec6",
   "metadata": {},
   "source": [
    "![image.png](../background_photos/py_10_branches.jpg)\n",
    "Կոնդ, [լուսանկարի հղումը](https://unsplash.com/photos/green-leaves-on-brown-tree-branch-during-daytime-TYV7sMRR4Yo), Հեղինակ՝ [Robert Levonyan](https://unsplash.com/@robertlevonyan)"
   ]
  },
  {
   "cell_type": "markdown",
   "id": "ff01d523",
   "metadata": {},
   "source": [
    "Photo by <a href=\"https://unsplash.com/@robertlevonyan?utm_content=creditCopyText&utm_medium=referral&utm_source=unsplash\">Robert Levonyan</a> on <a href=\"https://unsplash.com/photos/green-leaves-on-brown-tree-branch-during-daytime-TYV7sMRR4Yo?utm_content=creditCopyText&utm_medium=referral&utm_source=unsplash\">Unsplash</a>\n",
    "      "
   ]
  }
 ],
 "metadata": {
  "language_info": {
   "name": "python"
  }
 },
 "nbformat": 4,
 "nbformat_minor": 5
}

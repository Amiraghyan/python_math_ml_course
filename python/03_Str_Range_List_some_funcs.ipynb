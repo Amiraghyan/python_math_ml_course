{
  "cells": [
    {
      "cell_type": "raw",
      "metadata": {
        "vscode": {
          "languageId": "raw"
        }
      },
      "source": [
        "---\n",
        "title: \"03 String, Range, List, some functions\"\n",
        "format: \n",
        "  html:\n",
        "    code-fold: false\n",
        "number-offset: 1\n",
        "---"
      ]
    },
    {
      "cell_type": "markdown",
      "metadata": {},
      "source": [
        "![image.png](wallpapers/03_kamaz.jpg)\n",
        "Խաչիկ, Վայոց ձոր, [լուսանկարի հղումը](https://unsplash.com/photos/a-truck-is-parked-next-to-a-pile-of-hay-KoJ60CNlYGM) Հեղինակ՝ [Ani Adiglozalyan](https://unsplash.com/@aniadigyozalyan)"
      ]
    },
    {
      "cell_type": "markdown",
      "metadata": {
        "colab_type": "text",
        "id": "view-in-github"
      },
      "source": [
        "<a href=\"https://colab.research.google.com/github/HaykTarkhanyan/python_math_ml_course/blob/main/python/03_Str_Range_List_some_funcs.ipynb\" target=\"_parent\"><img src=\"https://colab.research.google.com/assets/colab-badge.svg\" alt=\"Open In Colab\"/></a> (Կարողա մի թեթև հին լինի կոլաբում նյութը)"
      ]
    },
    {
      "cell_type": "markdown",
      "metadata": {
        "id": "AWweratqbY40"
      },
      "source": [
        "Shindler's `[11, 509]` \\\n",
        "(c) [John Williams](https://www.youtube.com/watch?v=YqVRcFQagtI)"
      ]
    },
    {
      "cell_type": "markdown",
      "metadata": {},
      "source": [
        "# 🎦 Տեսադասեր + լրացուցիչ\n",
        "\n",
        "ToDo\n",
        "1. [Տեսություն 2025]() \\\n",
        "2. [Տեսություն 2023]()  \\\n",
        "3. [Գործնական 2025]() \\\n",
        "4. [Գործնական 2023]()  \\\n",
        "5. [Որոշ տնայինների լուծումներ]()\n",
        "\n",
        "**Նշումներ։**\n",
        "\n",
        "Դասընթացին մասնակցության ու կարծիք հայտնելու [Google Form](https://docs.google.com/forms/d/e/1FAIpQLSdNKMw-yUTJcFj2fPWuRyCbpO73hndI6aAhLxwFF1_58Nqe7w/viewform?usp=sharing)"
      ]
    },
    {
      "cell_type": "markdown",
      "metadata": {},
      "source": [
        "# 📚 Նյութը"
      ]
    },
    {
      "cell_type": "markdown",
      "metadata": {
        "id": "dfZ8O3TTMPQT"
      },
      "source": [
        "## Տողեր (string)"
      ]
    },
    {
      "cell_type": "markdown",
      "metadata": {
        "id": "yOlOgbEmN6x6"
      },
      "source": [
        "### Տողերի ստեղծում և escape(/)"
      ]
    },
    {
      "cell_type": "code",
      "execution_count": null,
      "metadata": {
        "colab": {
          "base_uri": "https://localhost:8080/"
        },
        "id": "j3nJT8TKJoX5",
        "outputId": "f3916aa4-f6c0-4569-d2b4-58d0d3c6e351"
      },
      "outputs": [
        {
          "name": "stdout",
          "output_type": "stream",
          "text": [
            "Բարևներ\n",
            "<class 'str'>\n"
          ]
        }
      ],
      "source": [
        "a = \"\"\"Բարևներ\"\"\" # նույննա ինչ մի չակերտով ՝ a = \"Բարևներ\"\n",
        "print(a)\n",
        "print(type(a))"
      ]
    },
    {
      "cell_type": "code",
      "execution_count": null,
      "metadata": {
        "colab": {
          "base_uri": "https://localhost:8080/"
        },
        "id": "2o6WFXGovokq",
        "outputId": "2e6c66b5-1dac-4977-f559-2bb6858cf058"
      },
      "outputs": [
        {
          "name": "stdout",
          "output_type": "stream",
          "text": [
            "1\n",
            "2\n",
            "asdasgudasfafsf\n",
            "sdfsdfsdfs\n"
          ]
        }
      ],
      "source": [
        "# 1\n",
        "print(1) \n",
        "a = '''asdasgudasfafsf \n",
        "sdfsdfsdfs'''\n",
        "print(2) \n",
        "\n",
        "print(a)"
      ]
    },
    {
      "cell_type": "code",
      "execution_count": 2,
      "metadata": {
        "colab": {
          "base_uri": "https://localhost:8080/"
        },
        "id": "pusDpSBGONEX",
        "outputId": "c7421314-135d-42c3-8f97-a190387ba3fd"
      },
      "outputs": [
        {
          "name": "stdout",
          "output_type": "stream",
          "text": [
            "Բարևներ, ինչ կա չկա, էլի են հին տներն եք մնում, \n",
            " Թութը թափ եք տալիս, ուրիշ ինչ կա չկա, դե լավ դե լավ մնացեք \n"
          ]
        }
      ],
      "source": [
        "a = \"Բարևներ, ինչ կա չկա, էլի են հին տներն եք մնում, \\n \\\n",
        "Թութը թափ եք տալիս, \\\n",
        "ուրիշ ինչ կա չկա, \\\n",
        "դե լավ դե լավ մնացեք \\\n",
        "\" # '''\n",
        "print(a)\n"
      ]
    },
    {
      "cell_type": "code",
      "execution_count": null,
      "metadata": {
        "colab": {
          "base_uri": "https://localhost:8080/",
          "height": 106
        },
        "id": "eF460rdXMJ47",
        "outputId": "3cea00ea-2194-4683-8da6-abbe9d3fac26"
      },
      "outputs": [
        {
          "name": "stdout",
          "output_type": "stream",
          "text": [
            "Cheese\n",
            "Hayk's cheese\n"
          ]
        }
      ],
      "source": [
        "a = 'Cheese' \n",
        "b = 'Hayk's cheese'\n",
        "\n",
        "print(a)\n",
        "print(b)"
      ]
    },
    {
      "cell_type": "code",
      "execution_count": null,
      "metadata": {
        "colab": {
          "base_uri": "https://localhost:8080/"
        },
        "id": "G-SZHcAcMtSy",
        "outputId": "f31e520c-02bd-405b-9b5e-70168256fe94"
      },
      "outputs": [
        {
          "name": "stdout",
          "output_type": "stream",
          "text": [
            "Hayk\"s cheese\n"
          ]
        }
      ],
      "source": [
        "# Կարող ենք ուղղել հետևյալ կերպ\n",
        "b = \"Hayk\\\"s cheese\"\n",
        "print(b)"
      ]
    },
    {
      "cell_type": "markdown",
      "metadata": {
        "id": "E4JFBJK6M6Mx"
      },
      "source": [
        "(double click before reading)\n",
        "\n",
        "Երբ նոր տող գնալիս \\n էինք գրում, իրականում ահա թե ինչ էր տեղի ունենում՝\n",
        "\n",
        "Python-ը տեսնում էր \\ նշանը, գիտեր որ դա հատուկ նշանա ու պետքա ասի իրեն թե ինքը ինչ անի հաջորդ քայլում, եթե տեսնի n գնա հաջորդ տող, որոշ այլ բաներ ունի նաև\n",
        "\n",
        "1. \\ - escape character\n",
        "2. \\' - '\n",
        "3. \\\" - \"\n",
        "4. \\t - tab\n",
        "5. \\n - new line\n",
        "6. \\\\ - \\"
      ]
    },
    {
      "cell_type": "code",
      "execution_count": 14,
      "metadata": {
        "colab": {
          "base_uri": "https://localhost:8080/"
        },
        "id": "bqMkYGgQMzYV",
        "outputId": "d2b60138-c58c-4e11-a234-ce7cc82f051a"
      },
      "outputs": [
        {
          "name": "stdout",
          "output_type": "stream",
          "text": [
            "Hayk\\s cheese\n"
          ]
        }
      ],
      "source": [
        "print('Hayk\\\\s cheese')\n",
        "\n"
      ]
    },
    {
      "cell_type": "code",
      "execution_count": null,
      "metadata": {
        "colab": {
          "base_uri": "https://localhost:8080/"
        },
        "id": "HeW5ypldNvEp",
        "outputId": "51078682-d020-4ab3-ee85-80dec20a6206"
      },
      "outputs": [
        {
          "name": "stdout",
          "output_type": "stream",
          "text": [
            "Hayk\n",
            "s cheese\n"
          ]
        }
      ],
      "source": [
        "print('Hayk\\ns cheese')"
      ]
    },
    {
      "cell_type": "code",
      "execution_count": null,
      "metadata": {
        "colab": {
          "base_uri": "https://localhost:8080/"
        },
        "id": "xCToesXdNwou",
        "outputId": "2b0d40e3-cd67-4e5f-adaa-d4ae4de4769a"
      },
      "outputs": [
        {
          "name": "stdout",
          "output_type": "stream",
          "text": [
            "Hayk\ts cheese\n",
            "Hayk\\s cheese\n"
          ]
        }
      ],
      "source": [
        "print('Hayk\\ts cheese')\n",
        "\n",
        "print('Hayk\\\\s cheese')\n",
        "\n",
        "print(\"\\\"Hayk\\'s cheese\\\"\")\n"
      ]
    },
    {
      "cell_type": "markdown",
      "metadata": {
        "id": "seYq9Y1lOFsP"
      },
      "source": [
        "### String-երով գործողություններ"
      ]
    },
    {
      "cell_type": "markdown",
      "metadata": {
        "id": "-0IcN_vBPEzC"
      },
      "source": [
        "#### Գումարում"
      ]
    },
    {
      "cell_type": "code",
      "execution_count": 4,
      "metadata": {
        "id": "UITSPbZxOvkD"
      },
      "outputs": [],
      "source": [
        "skizb = \"Ես տողի սկիզբն եմ\"\n",
        "verj = 'ես էլ վերջը'"
      ]
    },
    {
      "cell_type": "code",
      "execution_count": 5,
      "metadata": {
        "colab": {
          "base_uri": "https://localhost:8080/"
        },
        "id": "WzC_Y7jFOzgr",
        "outputId": "066ea9de-ed1a-4afa-eef5-9f669bfe11f3"
      },
      "outputs": [
        {
          "name": "stdout",
          "output_type": "stream",
          "text": [
            "Ես տողի սկիզբն եմես էլ վերջը\n"
          ]
        }
      ],
      "source": [
        "print(skizb + verj)"
      ]
    },
    {
      "cell_type": "code",
      "execution_count": 6,
      "metadata": {
        "colab": {
          "base_uri": "https://localhost:8080/"
        },
        "id": "1dBq23R7O1mY",
        "outputId": "5c1fff95-531f-4bd1-88a8-ede4ec209be9"
      },
      "outputs": [
        {
          "name": "stdout",
          "output_type": "stream",
          "text": [
            "Ես տողի սկիզբն եմ - ես էլ վերջը\n"
          ]
        }
      ],
      "source": [
        "print(skizb + \" - \" + verj) # print(skizb, verj, sep=\" - \")"
      ]
    },
    {
      "cell_type": "code",
      "execution_count": 7,
      "metadata": {
        "colab": {
          "base_uri": "https://localhost:8080/",
          "height": 141
        },
        "id": "4rM4koeQxqJc",
        "outputId": "e845ea71-c8f7-410a-e926-e571853aa887"
      },
      "outputs": [
        {
          "ename": "TypeError",
          "evalue": "can only concatenate str (not \"int\") to str",
          "output_type": "error",
          "traceback": [
            "\u001b[1;31m---------------------------------------------------------------------------\u001b[0m",
            "\u001b[1;31mTypeError\u001b[0m                                 Traceback (most recent call last)",
            "Input \u001b[1;32mIn [7]\u001b[0m, in \u001b[0;36m<cell line: 1>\u001b[1;34m()\u001b[0m\n\u001b[1;32m----> 1\u001b[0m \u001b[38;5;28mprint\u001b[39m(\u001b[43mskizb\u001b[49m\u001b[43m \u001b[49m\u001b[38;5;241;43m+\u001b[39;49m\u001b[43m \u001b[49m\u001b[38;5;241;43m1231231231\u001b[39;49m \u001b[38;5;241m+\u001b[39m verj \u001b[38;5;241m+\u001b[39m \u001b[38;5;124m'\u001b[39m\u001b[38;5;124mպանիր\u001b[39m\u001b[38;5;124m'\u001b[39m)\n",
            "\u001b[1;31mTypeError\u001b[0m: can only concatenate str (not \"int\") to str"
          ]
        }
      ],
      "source": [
        "print(skizb + 1231231231 + verj + 'պանիր')"
      ]
    },
    {
      "cell_type": "code",
      "execution_count": 8,
      "metadata": {
        "colab": {
          "base_uri": "https://localhost:8080/"
        },
        "id": "OMSQemwlO5kQ",
        "outputId": "460f45a2-9c95-4de8-ae24-5c11fdb5501d"
      },
      "outputs": [
        {
          "name": "stdout",
          "output_type": "stream",
          "text": [
            "Ես տողի սկիզբն եմ1231231231ես էլ վերջըպանիր\n"
          ]
        }
      ],
      "source": [
        "# կարանք մի քանի հատ գումարենք միանգամից\n",
        "print(skizb + str(1231231231) + verj + 'պանիր')"
      ]
    },
    {
      "cell_type": "code",
      "execution_count": 9,
      "metadata": {
        "colab": {
          "base_uri": "https://localhost:8080/"
        },
        "id": "39mFGEj_PAua",
        "outputId": "a5bbdf86-49a6-44e6-c5cb-bc8d41b10e9a"
      },
      "outputs": [
        {
          "name": "stdout",
          "output_type": "stream",
          "text": [
            "22\n"
          ]
        }
      ],
      "source": [
        "print('2' + \"2\")"
      ]
    },
    {
      "cell_type": "code",
      "execution_count": 21,
      "metadata": {
        "colab": {
          "base_uri": "https://localhost:8080/",
          "height": 141
        },
        "id": "d1wF8KsVPKwb",
        "outputId": "879ff4f6-ee56-4235-8950-cdef7dae740b"
      },
      "outputs": [
        {
          "ename": "TypeError",
          "evalue": "can only concatenate str (not \"bool\") to str",
          "output_type": "error",
          "traceback": [
            "\u001b[1;31m---------------------------------------------------------------------------\u001b[0m",
            "\u001b[1;31mTypeError\u001b[0m                                 Traceback (most recent call last)",
            "Input \u001b[1;32mIn [21]\u001b[0m, in \u001b[0;36m<cell line: 1>\u001b[1;34m()\u001b[0m\n\u001b[1;32m----> 1\u001b[0m \u001b[38;5;28mprint\u001b[39m(\u001b[38;5;124;43m'\u001b[39;49m\u001b[38;5;124;43m2\u001b[39;49m\u001b[38;5;124;43m'\u001b[39;49m\u001b[43m \u001b[49m\u001b[38;5;241;43m+\u001b[39;49m\u001b[43m \u001b[49m\u001b[38;5;28;43;01mTrue\u001b[39;49;00m)\n",
            "\u001b[1;31mTypeError\u001b[0m: can only concatenate str (not \"bool\") to str"
          ]
        }
      ],
      "source": [
        "print('2' + True)"
      ]
    },
    {
      "cell_type": "markdown",
      "metadata": {
        "id": "Nj-ZlWVnPP55"
      },
      "source": [
        "#### Բազմապատկում"
      ]
    },
    {
      "cell_type": "code",
      "execution_count": null,
      "metadata": {
        "id": "M-N-u-7rPOw4"
      },
      "outputs": [],
      "source": [
        "a = 'բարև'\n",
        "\n",
        "# 5 * 3\n",
        "# 5 + 5 + 5"
      ]
    },
    {
      "cell_type": "code",
      "execution_count": 13,
      "metadata": {
        "colab": {
          "base_uri": "https://localhost:8080/",
          "height": 245
        },
        "id": "q_v-yN30PWXN",
        "outputId": "fb3c9bac-1743-4fb3-b16f-9fedac50a445"
      },
      "outputs": [
        {
          "name": "stdout",
          "output_type": "stream",
          "text": [
            "*\n",
            "**\n",
            "***\n",
            "****\n"
          ]
        },
        {
          "ename": "TypeError",
          "evalue": "can't multiply sequence by non-int of type 'float'",
          "output_type": "error",
          "traceback": [
            "\u001b[1;31m---------------------------------------------------------------------------\u001b[0m",
            "\u001b[1;31mTypeError\u001b[0m                                 Traceback (most recent call last)",
            "Input \u001b[1;32mIn [13]\u001b[0m, in \u001b[0;36m<cell line: 6>\u001b[1;34m()\u001b[0m\n\u001b[0;32m      3\u001b[0m \u001b[38;5;28mprint\u001b[39m(\u001b[38;5;124m\"\u001b[39m\u001b[38;5;124m*\u001b[39m\u001b[38;5;124m\"\u001b[39m \u001b[38;5;241m*\u001b[39m \u001b[38;5;241m3\u001b[39m) \u001b[38;5;66;03m# \"*\" + \"*\" + \"*\"\u001b[39;00m\n\u001b[0;32m      4\u001b[0m \u001b[38;5;28mprint\u001b[39m(\u001b[38;5;124m\"\u001b[39m\u001b[38;5;124m*\u001b[39m\u001b[38;5;124m\"\u001b[39m \u001b[38;5;241m*\u001b[39m \u001b[38;5;241m4\u001b[39m)\n\u001b[1;32m----> 6\u001b[0m \u001b[38;5;28mprint\u001b[39m(\u001b[38;5;124;43m\"\u001b[39;49m\u001b[38;5;124;43m*\u001b[39;49m\u001b[38;5;124;43m\"\u001b[39;49m\u001b[38;5;241;43m*\u001b[39;49m\u001b[38;5;241;43m4.5\u001b[39;49m) \u001b[38;5;66;03m# problem\u001b[39;00m\n",
            "\u001b[1;31mTypeError\u001b[0m: can't multiply sequence by non-int of type 'float'"
          ]
        }
      ],
      "source": [
        "print(\"*\")\n",
        "print(\"*\" * 2)\n",
        "print(\"*\" * 3) # \"*\" + \"*\" + \"*\"\n",
        "print(\"*\" * 4)\n",
        "\n",
        "print(\"*\"*4.5) # problem"
      ]
    },
    {
      "cell_type": "code",
      "execution_count": 14,
      "metadata": {
        "colab": {
          "base_uri": "https://localhost:8080/"
        },
        "id": "HCre22jTPUci",
        "outputId": "ef91686e-5938-47cc-e8f3-bc5ec8a65668"
      },
      "outputs": [
        {
          "name": "stdout",
          "output_type": "stream",
          "text": [
            "Բարևներ, ինչ կա չկա, էլի են հին տներն եք մնում, \n",
            " Թութը թափ եք տալիս, ուրիշ ինչ կա չկա, դե լավ դե լավ մնացեք Բարևներ, ինչ կա չկա, էլի են հին տներն եք մնում, \n",
            " Թութը թափ եք տալիս, ուրիշ ինչ կա չկա, դե լավ դե լավ մնացեք Բարևներ, ինչ կա չկա, էլի են հին տներն եք մնում, \n",
            " Թութը թափ եք տալիս, ուրիշ ինչ կա չկա, դե լավ դե լավ մնացեք Բարևներ, ինչ կա չկա, էլի են հին տներն եք մնում, \n",
            " Թութը թափ եք տալիս, ուրիշ ինչ կա չկա, դե լավ դե լավ մնացեք \n",
            "Բարևներ, ինչ կա չկա, էլի են հին տներն եք մնում, \n",
            " Թութը թափ եք տալիս, ուրիշ ինչ կա չկա, դե լավ դե լավ մնացեք 1111\n",
            "Բարևներ, ինչ կա չկա, էլի են հին տներն եք մնում, \n",
            " Թութը թափ եք տալիս, ուրիշ ինչ կա չկա, դե լավ դե լավ մնացեք  Բարևներ, ինչ կա չկա, էլի են հին տներն եք մնում, \n",
            " Թութը թափ եք տալիս, ուրիշ ինչ կա չկա, դե լավ դե լավ մնացեք  Բարևներ, ինչ կա չկա, էլի են հին տներն եք մնում, \n",
            " Թութը թափ եք տալիս, ուրիշ ինչ կա չկա, դե լավ դե լավ մնացեք  Բարևներ, ինչ կա չկա, էլի են հին տներն եք մնում, \n",
            " Թութը թափ եք տալիս, ուրիշ ինչ կա չկա, դե լավ դե լավ մնացեք  \n"
          ]
        }
      ],
      "source": [
        "print(a * 4)\n",
        "print(a + \"1\"*4)\n",
        "print((a + \" \") * 4)"
      ]
    },
    {
      "cell_type": "code",
      "execution_count": 26,
      "metadata": {
        "colab": {
          "base_uri": "https://localhost:8080/"
        },
        "id": "6Bl05uuTPi_9",
        "outputId": "61207c97-80fb-4283-e7d9-7ccd5785fe1e"
      },
      "outputs": [
        {
          "name": "stdout",
          "output_type": "stream",
          "text": [
            "բարևբարևբարև $$$$\n"
          ]
        }
      ],
      "source": [
        "print(a * 3 + \" \" + '$' *4)"
      ]
    },
    {
      "cell_type": "markdown",
      "metadata": {
        "id": "US4_0p7yXLgB"
      },
      "source": [
        "### Հստակ նիշեր վերցնել (indexing, slicing)"
      ]
    },
    {
      "cell_type": "markdown",
      "metadata": {
        "id": "PysSLCy9H8XF"
      },
      "source": [
        "#### indexing"
      ]
    },
    {
      "cell_type": "code",
      "execution_count": 15,
      "metadata": {
        "colab": {
          "base_uri": "https://localhost:8080/"
        },
        "id": "VKnASB55XQIu",
        "outputId": "bdfb568a-f38a-48f7-d34b-c137599f35c8"
      },
      "outputs": [
        {
          "name": "stdout",
          "output_type": "stream",
          "text": [
            "Բարև\n",
            "4\n"
          ]
        }
      ],
      "source": [
        "a = 'Բարև'\n",
        "print(a)\n",
        "print(len(a)) # len('Բարև') length"
      ]
    },
    {
      "cell_type": "code",
      "execution_count": null,
      "metadata": {},
      "outputs": [],
      "source": []
    },
    {
      "cell_type": "code",
      "execution_count": 18,
      "metadata": {
        "colab": {
          "base_uri": "https://localhost:8080/"
        },
        "id": "xGmHL5eLXUCO",
        "outputId": "22ef0c9c-b362-4fda-f3c5-7dfc2bf1bac9"
      },
      "outputs": [
        {
          "name": "stdout",
          "output_type": "stream",
          "text": [
            "Բ\n",
            "և\n"
          ]
        }
      ],
      "source": [
        "print(\"Բարև\"[0])\n",
        "print(a[3])"
      ]
    },
    {
      "cell_type": "code",
      "execution_count": 19,
      "metadata": {},
      "outputs": [],
      "source": [
        "b = \"asdfghkhreadsfgjygfadsfhytsdfhytsfdacdvgfh\""
      ]
    },
    {
      "cell_type": "code",
      "execution_count": 21,
      "metadata": {},
      "outputs": [
        {
          "name": "stdout",
          "output_type": "stream",
          "text": [
            "h\n"
          ]
        }
      ],
      "source": [
        "print(b[-1])"
      ]
    },
    {
      "cell_type": "code",
      "execution_count": 31,
      "metadata": {
        "colab": {
          "base_uri": "https://localhost:8080/",
          "height": 141
        },
        "id": "V-d64MMQy5sS",
        "outputId": "f7006f0c-dc5e-4008-cd5c-63df7e8dd408"
      },
      "outputs": [
        {
          "ename": "IndexError",
          "evalue": "string index out of range",
          "output_type": "error",
          "traceback": [
            "\u001b[1;31m---------------------------------------------------------------------------\u001b[0m",
            "\u001b[1;31mIndexError\u001b[0m                                Traceback (most recent call last)",
            "Input \u001b[1;32mIn [31]\u001b[0m, in \u001b[0;36m<cell line: 1>\u001b[1;34m()\u001b[0m\n\u001b[1;32m----> 1\u001b[0m \u001b[38;5;28mprint\u001b[39m(\u001b[43ma\u001b[49m\u001b[43m[\u001b[49m\u001b[38;5;241;43m4\u001b[39;49m\u001b[43m]\u001b[49m)\n",
            "\u001b[1;31mIndexError\u001b[0m: string index out of range"
          ]
        }
      ],
      "source": [
        "print(a[4])"
      ]
    },
    {
      "cell_type": "code",
      "execution_count": 36,
      "metadata": {},
      "outputs": [
        {
          "name": "stdout",
          "output_type": "stream",
          "text": [
            "g\n"
          ]
        }
      ],
      "source": [
        "print(b[-3])"
      ]
    },
    {
      "cell_type": "code",
      "execution_count": null,
      "metadata": {
        "colab": {
          "base_uri": "https://localhost:8080/"
        },
        "id": "wJPbmQS2zLbm",
        "outputId": "b98b1591-1e44-425b-f208-d242aac41808"
      },
      "outputs": [
        {
          "name": "stdout",
          "output_type": "stream",
          "text": [
            "և\n"
          ]
        }
      ],
      "source": [
        "print(a[4-1])"
      ]
    },
    {
      "cell_type": "code",
      "execution_count": null,
      "metadata": {
        "colab": {
          "base_uri": "https://localhost:8080/"
        },
        "id": "WZx0DzBtXfso",
        "outputId": "9f8955d4-91a5-4ede-9de8-02f5547b4fab"
      },
      "outputs": [
        {
          "name": "stdout",
          "output_type": "stream",
          "text": [
            "և\n"
          ]
        }
      ],
      "source": [
        "print(a[len(a) - 1]) # ի՞նչ կտպի ըստ ձեզ"
      ]
    },
    {
      "cell_type": "code",
      "execution_count": null,
      "metadata": {
        "colab": {
          "base_uri": "https://localhost:8080/"
        },
        "id": "DzzWPYm0Xg1W",
        "outputId": "b3370834-a98e-43fa-87ac-a15b8f52165f"
      },
      "outputs": [
        {
          "name": "stdout",
          "output_type": "stream",
          "text": [
            "և\n"
          ]
        }
      ],
      "source": [
        "print(a[len(a)-1])"
      ]
    },
    {
      "cell_type": "code",
      "execution_count": 22,
      "metadata": {
        "colab": {
          "base_uri": "https://localhost:8080/"
        },
        "id": "7LJv61DbYv6Y",
        "outputId": "d3780bac-38b9-488b-96bd-3e63aa86f4c3"
      },
      "outputs": [
        {
          "name": "stdout",
          "output_type": "stream",
          "text": [
            "ա\n"
          ]
        }
      ],
      "source": [
        "print(a[-3])"
      ]
    },
    {
      "cell_type": "markdown",
      "metadata": {
        "id": "QCIOQ1nmZzA2"
      },
      "source": [
        "![python indexing.png](data:image/png;base64,iVBORw0KGgoAAAANSUhEUgAABXwAAAMPCAYAAABmFx0OAAAAAXNSR0IArs4c6QAAAARnQU1BAACxjwv8YQUAAAAJcEhZcwAAFiUAABYlAUlSJPAAAP+lSURBVHhe7N0HfFvluQbwR3tY3nsncfZekARIIIFAaRktLd2lk94ubgd00zIKbWmBtre7hS6gC0rLaKFAJpC99068ty3bsva45zs6iS0dObFjW5bk589Psc9nxTGSLOk85z3vqwlJQERERERERERERERJT6t8JCIiIiIiIiIiIqIkx8CXiIiIiIiIiIiIKEUw8CUiIiIiIiIiIiJKEQx8iYiIiIiIiIiIiFIEA18iIiIiIiIiIiKiFMHAl4iIiIiIiIiIiChFMPAlIiIiIiIiIiIiShEMfImIiIiIiIiIiIhSBANfIiIiIiIiIiIiohTBwJeIiIiIiIiIiIgoRTDwJSIiIiIiIiIiIkoRDHyJiIiIiIiIiIiIUgQDXyIiIiIiIiIiIqIUwcCXiIiIiIiIiIiIKEUw8CUiIiIiIiIiIiJKEQx8iYiIiIiIiIiIiFIEA18iIiIiIiIiIiKiFMHAl4iIiIiIiIiIiChFMPAlIiIiIiIiIiIiShEMfImIiIiIiIiIiIhSBANfIiIiIiIiIiIiohTBwJeIiIiIiIiIiIgoRTDwJSIiIiIiIiIiIkoRDHyJiIiIiIiIiIiIUgQDXyIiIiIiIiIiIqIUwcCXiIiIiIiIiIiIKEUw8CUiIiIiIiIiIiJKEQx8iYiIiIiIiIiIiFIEA18iIiIiIiIiIiKiFMHAl4iIiIiIiIiIiChFMPAlIiIiIiIiIiIiShEMfImIiIiIiIiIiIhSBANfIiIiIiIiIiIiohTBwJeIiIiIiIiIiIgoRTDwJSIiIiIiIiIiIkoRDHyJiIiIiIiIiIiIUgQDXyIiIiIiIiIiIqIUwcCXiIiIiIiIiIiIKEUw8CUiIiIiIiIiIiJKEQx8iYiIiIiIiIiIiFIEA18iIiIiIiIiIiKiFMHAl4iIiIiIiIiIiChFMPAlIiIiIiIiIiIiShEMfImIiIiIiIiIiIhSBANfIiIiIiIiIiIiohTBwJeIiIiIiIiIiIgoRTDwJSIiIiIiIiIiIkoRDHyJiIiIiIiIiIiIUgQDXyIiIiIiIiIiIqIUwcCXiIiIiIiIiIiIKEUw8CUiIiIiIiIiIiJKEQx8iYiIiIiIiIiIiFIEA18iIiIiIiIiIiKiFMHAl4iIiIiIiIiIiChFMPAlIiIiIiIiIiIiShEMfImIiIiIiIiIiIhSBANfIiIiIiIiIiIiohTBwJeIiIiIiIiIiIgoRTDwJSIiIiIiIiIiIkoRDHyJiIiIiIiIiIiIUgQDXyIiIiIiIiIiIqIUwcCXiIiIiIiIiIiIKEUw8CUiIiIiIiIiIiJKEQx8iYiIiIiIiIiIiFIEA18iIiIiIiIiIiKiFMHAl4iIiIiIiIiIiChFMPAlIiIiIiIiIiIiShEMfImIiIiIiIiIiIhSBANfIiIiIiIiIiIiohTBwJeIiIiIiIiIiIgoRTDwJSIiIiIiIiIiIkoRDHyJiIiIiIiIiIiIUgQDXyIiIiIiIiIiIqIUwcCXiIiIiIiIiIiIKEUw8CUiIiIiIiIiIiJKEZqQRPmciIiIiIiIEpDD2wR/0I1Oz2mEpP/kNZ+0FnDJnw9ErzXDZiiSPlqQbixGtnmi8hUiIiJKVQx8iYiIiIjoookQsql3D1pch9DpOgWd1hQOFk0TkW+dIX1eolyThsrtt+N01zq0itvWfUa+rbs8NecC315fi7x2PnqdGTZ9gRz8WqWPxbZ5mJF7C3LMVco1iIiIKNUw8CUiIiIioosiwsbtTb/Cic6X0eY6CrunGnqtCVZDAbJNlcgxT0GedboS/s5EvmUGNBqN8rfpfERF76aGH+Gk/RX5tg0Hu8PfdTPpMjE1+61YVvpFlNgWQyP9R0RERKmFgS8REREREV2Uw+3/wn9O34FuT720FXu3QgSMmaYK5FmmojBtLrLNk+QAONsyCemGYuVaFG1Lw0+wpuZueAO90tbI77KJKt9bpvwRRp1NWaGhCtq7Eerqlvaqw9ua/DxoLebwBhER0Rhi4EtEREREREMmKlD/euSdqOvZghCCyur5ibYCIvzNNEoX6aPNWAiboRgGnUUOgaHRyB9FFXCWaYLyt8ann++eI7dyCIUGd9sOlbgv3jHlD5iZeyu0Gs7yHgrf/kPwbdsF/7GTCHb1nKuR1pYVw3jFUhiXLIKGwS8REY0hBr5ERERERDRkB1r/hn8c/xCCIZ+ycnHSDIVy+JhlqpDrWMVHUTKZaSqX1sODxsQlyzQRBml7vAwd++6WLHgC3dJnA++uycPYdJbzFgCLVhBiuFusK03NvgHvm/FPaDV6ZYXOJ9DcCvc/nodv03b4du2Tt/vTmEwwzJ8N41WXw/LBW6ErKVK+QkREFF8MfImIiIiIaMj+dfzj2NPyR4QQUFYAvcaMLPNE2MWAsdDwe87Kg8YMBUg3FCLTXCl/fxEEi37AM3NugUFnVa6Zev55/KM41PY0vEGntBWSw92pOW+Th+CJ4FtIk24bcRudjz/kQa+3Bftan1JVDIuw/fMLj8Gkz1BWaCD+/YfR+7un4Hn+ZQTtXcpqbJoMGyzvvAlpX/wUdKVsW0JERPHHwJeIiIiIiIbs/3ZNRbvrhPRZ3+5EUdp8XFH6NTi8DbB7zqChdxc63afQ422Uvjpyux25lql468Sfoip7dcoOHWt2HsChtmfQKN2GOq0JE9JXYFrOjbAZiy4Y8saytubbeL3uewiG/MpK2Gfm70WBdQ6H6Z2H6NXb8+V74PrXf6SNwbXYENW+1k9/BOnf+CKg0ymrRERE8aG7V6J8TkREREREdEGigndD3YMIRYWHs/LejctKv4iKjMtQYluEfMtMFNsWIs8yDVZDDnQaAzx+B4L9qoIvhsvfjkxTJSZmXgVNivaftRkKpNtwIQqsszEp62pUZa2WbsO8i26/4Ak4cLDt74jut1yefhkK0xj4no/72RfR++s/AF6vsjIIgQACJ8/AsGgedOWlEP2piYiI4oXd+YmIiIiIaEianPtiDhMrS7/0XMWtaDcggsqFhR/DleXflC7fxlXl9+GaygextPgOzMq7FRMzr0a2eRLM+mzpbwwtEDOmcDuHs0y6DJTaFqPQOueiqnr7K06bHzMcb3UdRWgEq69TkevJpxFyupStPtqCPJiuuRKWW2+CtrhQWe0TbG1H708fQ6hXtOUgIiKKH7Z0ICIiIiKiIdnS+FP899SXEERkhe9nF+yXK1IvpNfXAoe3Ge5AF7o8NXD77fLngaBbbv/gC7rkQWNuf6e8Hd0SwqzLwvtnvihXEqdqS4fR8INtRfJt3/+2nJn3Ltw69S8c3DaAQE0d2lbciFCPQ1kJ00+pkls2GGbPgCYzA96Nm9D7418hUC8G5PURrR0yH/sRzNdfM+Qq35DbjWBzG4JdXQh19UgL59l1N5ugK8y/4L+hyc+D1jK8gwdERJT4GPgSEREREdGQ/PvU57C98VfoP7BN+PqSLpiHMQDMH/TIgaQ/6IbD1wxPoEsOhsWa6AXs8ndK3z8LRdZ5cuVwKg9tGw2/2bsEDY4d0v3WV51darsUH5/7htxug9S8m7ah85aPIOTzKSth6d+6C9Y7PgGN0p835PHA8aNfoffRX8rtHPozXXsVsp+Q1vWDC9V9+w/Bt20X/GdqEWrrCAe+3Q6cb9ddazZBk5d7wdYc2rwcaKTriu+kzcyAJjMThrkzYJg3e8iBNBERJS4GvkRERERENCR/OngtTtnXRASH2eaJuGPh0VELDrs8tXIlsFmfiUxThbJKQ/Hssduwr/XPEUF9mqEQdy6ugU5rVFaoP/+ho2hb9Q4gKvDNe+NF6GdMU7bCAvWN6HzfJ+W/078aV5NhQ87Tv5f7+Z4vVBXVxO4X/wvfpu3w7dqHQHOr8pXRIX4ubUYG9DOnIe1/b4dx6WKGvkREKYI9fImIiIiIaEjaYvR9LbDOGdX2Cpmmcnm4GMPei5dprlRVgPb6muEPuZUtiqYrK4Vp9ZXQaPt2nY1XLIG2vEzZ6qMrLYblPe+Q9rIjd7NFda77uZeBoLrv9Vn+/YfheOj/0PvIL+F+ac2oh72C+LkCdQ3wvLIOrr8+i1BUZTIRESUvBr5ERERERDRoospWtFlAVOCbZaqU/mR1YCLLMsa+j+zuM+dtFzCeiSpY252fRdpdn4XltnfLH21f/V9o02K3EzG//Xpos7OUrT7ul18bMPAVlb09P/g/uP/+HIL2LmU1voJtnfztJSJKIQx8iYiIiIho0OyeaulPdThYlDZ/VCt8afiyRIVvjPtI9EvmXTcww/zZSPvC/yD9rs/B9sVPwXjZpQO2PhBVvqYrlqiqfAOnquE7ekIVrIvBbL0/+Q08L69F6DwVwKPNeLn6ZyYiouTFHr5ERERERDRoe1r+hOdOfALBUGRP04/PeR3lGZcz9E1g1V0b8ceDqxEIeZWVsPfPeB5Tc27gfTdC3M+/DPvtXwT8fmUlzHbvV2D77McjglXPaxtg//jnEXL0Kit9tAV5MMydBW1xgbytqyiPaMkR7OqWB7r17xccS7C5TQ6W+wt19cjVxBqTCfq5M5H+jS9AV1mufJWIiJIdA18iIiIiojHkD7pxumsdur0NsOizUJ6+DOnGEuWriWdN9d14o/4hBEORYdaXFtfIfXYpcbW7juPne+YgEPQoK2HXT/w/LCn5LDQ8AXREBFrb0b78bQhKH/szXXsVsp/4JaDXy9sihLV/+HPwrNmoCm0Ni+fD8oF3wTBruhz8iopiXVnk84LowRvs7la2Bib/HB5PRHVxqEf6u13d4cB3xlTop0xSvkJERKmAgS8RERERURTRp7axdzc63KfO1Tya9Vmw6LORZZqIbPNEZXX4tjf9Cnua/wiHvwkmbQYqMq/A6sqHYNLZlGskln8c+yD2t/0VoVDfgCeboQhfXFwNvdaorFAi8gc9+O6WTARCkYHvirK7sbLiXmg1OmWFhqvjnR+Fd8ObEUGuNj8X+fs2QmMM/5543tgC+wc+paru1U+pQvoDX4fp6hUDto4gIiI6Hx7CJSIiIiJSiKB3d8vvsabmW1hfex821j4gffxO+FJzP9bV3Iu10tc21H0HJ+2vwRd0KX/z4m2qfxR1jq3y4Kxm5z7sbv4d2pyHIqrxEkmb65iqGjHTVBFxqjklJr3WpHxGo82waK6qJ66otA1U1ylb0vPN359DyKl+DrF+8sMwrVrOsJeIiC4aA18ioosQ6nXCf7oG3s3b4XllHTwvrzl3EWuB2nqEPJH98YiIKLE5vE3YWPc9rK/5DrY1/hxnujbA7jmDLk+1fBFhbHX369jX+hQ21n5XDoTfrPshur31yne4OF2eGunPvgBVtHio7dkqzsVTVhKL3V0t/bSRP1uWeQL7vxL1Y5g9PWZg69u1DwgGEbR3w7P+Dfnz/nQVZTDf/BZVWExERDQUfBUhIhqCUHcPvK9vgfP3f4HzJ7+B47s/Rs89P0D3t79/7uJ48EdwSF9zP/0c/IeOxqzcICKixCLC3tfrvy8HvSLk7R/AxiJC2ZruN7Cp4VFsrH0Q3Z6+qr2R0OtrScgKX1EB7Ql0SZ9FBb6mSunP8Rn4iseOqM72BZLj9V6vNUt/Rt5Xdu+FH/M0NIZF86GJEdoG6xrk323/wSMItUT2+BXM118NbVaGskVERHRxGPgSEQ2S//gpuP78D/Q88DAc330Uzif+Bu+mbfAfO4HAyTPnLqLC1/X7P6PnwUfhePhn8LyyFsGOTuW7EBFRohHh7ZbGn2Bn02PwBZ3SyuCDLxF+ihYQ25p+gWC/nrapyu6plv5U3z55lunjrsJXPG42N/xIbv8hLmtr7sZr1d+ULzubH8Ou5sdxyr4GLc5DCRUGZ8eoxhZV5tFV2zQ8utLimLeov6ZO+hUKwbtOXd0rmG6+ntW9REQ0bHwlISIaBBH2Oh9/Eo4f/wq+HXsH1a4h2NIG93Mvw/Hor+D+x4sINrcqXyEiokQiBpCJgC5W2KvXmOUBbWJQm15rkVbUoaYI/nY1/w6n7K+lfGgmAt9Y/495lqkxT19PZae71sutPUSwu6/1Sbna+/W678qXDWf7Ptfeh3W192BD3QM42PYMXP4O5W+PnTRDgfIZjTZ9ZZnyWZ9AXUM48N28HaGowFdbkAfDzGnj7neJiIhGHgNfIqILEP14XX/8K9z/+o88bGOoxCl7zl//Ae5nnmfoS0SUYMSp+JvqH1GCuMggszhtAVaUfxMrK+7H1ZXfwTWVD+KK0i8jxzJZ+mpkINPra8abDQ/D63coK6lJrvCN0Woi01SpqhpNdQfbnpYeN+IMHvXtISpmRd9n0fP5UNsz2NzwKDbU3o811XfjUPsz8AXEwQW6ENEu43jnS9jZ/LgcrB/u+Bdqe7bAE0iO3zNR5Rsd3gbFnAeXG/4Tp1S/S4ZF86CxiJYbREREw8PAl4jofDxeuJ9/Wb4MFPZq0qxyRYa2qAAY4E26GPDm/P2f4f7PqwjaRe9DIiJKBJsbfoI21xGEQpGVdvmWGbiq4h5cVnon5uV/EHPzP4BlJV+UA+BV5fcjwyQq9yKDHNHT93TX2pgVsKmiy10d/b8tsxkLlc/GD2+wJ+ZtEYuoAm927sf2pl9ifc39csVvu+uE8tWx5w+4lc8Si6iQFpeN0u0lKqZFaL6u9l65fcaOpt/KLTOc/qEfjI8XbUWpKvAN1DXKoW+wS3r8RDEsnIcQq3uJiGgEMPAlIjoP7+798Ly0BoH6RmVFodNBVzUB5huvg/XjH0TaZz6GtM9+HGkffT9MK6+ANjdHuWIfEfq6nnoGvi07BtUSgoiIRldj7x7sa31K1XtXtHG4vPQrmJZ9IwxyG4c+Jl0G5uS/D5cWfQZajU5ZDROhnmgNEUrhXr52r7qlg2h5MejkM4VMznoLMowl0mdD+38Xwa/o/buu5ts4aX817gcIzPosVQg5UOX2WDptXye3Sqnr2SpX4ouK6UbHbpzs/C+2NPxEDoHX1dwrV02Lyl+Xb+zbZUTTlUqPj6jbOuTxwLdzLzQxbm/D7OkxB70RERENFV9NiIgGEOrukSt7fQcOKysKnQ6GxfPlkDf9O19H+t1fQtodt4e3v30XbN+6E5YP3QrdpErpWTbyada3ez9cz7yAwCkxDZuIiMbS1safxmzlMCPvHZiVdys0moHfKi8s/BjyLbNU1xGn8Dc4dsY9xIsXh7dZFQxmmMqVz8aXaTk3YFXF/bDq86QtdegrDhwMFAaLgwP72/6C9bX3Y2/LE3Ft8ZBpVLffEC1Jhphbj7qanjel3yL1ULOzRNuMmp43sKPpV3LV9KaGR+RAOJRgwXUs7rUbVf17Bf3M6aqAmIiI6GIw8CUiGoBv/yH4du9DqCeyT5x+QjmsH3kvLO9+O3TlpXIAfI7BAMO82XIAbP3o+8NfjyKmMns2bEKwW30qHxERxYfoA3q04wVVoGTWZeGy0rtg0FqVldjE4Kv5BbcBoci3055AF/a0PnHeoCqZiSrL6DDbZihSBYjjgXgMFKbNV7YiidtkVeX9cs/nSZnXKI8n9W0k2oBsrHsQW5t+FrfWBGZ9pvJZJBFCJ5KJmSulW2xwu6tNvbuxtfHnWFtzD1pdBxMm9NUW5kETI8D1bt4BxBjYpi3IVbaIiIiGh4EvEVEsgYD8ZlxViWsywnTdKhgvWwKNNfI03/60WZmwvOsmmG+4VtXeQfTw9f53LQJHE6d3HxHReCKCrTfrfxizundO3ntRZJ0XM6SJJqqAM03iwF7kdY91vIBO10llK7XIFb5Rt1mWqVL6c/wFvoKoznUH1IPbFhR+BMtKvqQM/bsXV5Z/CwVWdUW40O46hk31j8rBb0cc+vqKMDrW/SXaJiRSdWxFxuW4tPizqMxYjmxzFQy62KH5WeJgy7HOF+Q2Dw2921UHJsaCfOA/xnNJqE3dfkJbph7wRkREdLEY+BIRxRCoa5Cre4NRb8gNU6pgunoFdOJN+QWISg3Le94O4xWXqoa5eXfuhW/7blb5EhGNAVHdK/dOjRrUJnrRXlr8OVVv3oFkmsoxLedm1fXFqeZ7Wv6o6g2c7Nx+u/JZJJ3GpHw2vojb42jnC6r7WQSqCws/IT8uRM9nEVyKgX+i/cPM3HfFrPYVLRW2N/4Sa+PQ1zfLrG7pIDgSsK3D8rKvyYG5uO1WVTwgV0zPzf8gSmyLodfGbplxqP0fcugrqqf9QY+yOjY0RqPy2YXpCgowmANNREREg8HAl4goBu/WXQicqla2+hiuWALdlEnK1oXpZ02H+ea3Qj+hQlkJC/U64RZtHWL8G0RENLoOtj+t9EyNDNXm5d+GPOt0ZWtwFhXdDotenMkRGdTsbX0Sne7UqvKVB3vFCCJFUD4eWzqIQWGiKjb6NpmWezOyzBOUrTC91oQZue+QK32XFN8Bq0Gcuh95m/Xv67u14adw+kanxYPNWBQzTpb/XxKs/61omzExcxXm5r8fl5V8Ua6YFrfhqor7cHnJXajKuka6FdW7tMc7X8K62vvwZv3DcgX1WNFVlkt38+B+N3Rl6gFvREREF4uBLxFRNI8X/r0HEKxvVBbCRMWuYeFc6IoKlJXBMS67BIbF81RVvv59B+E/flL6xK+sEBFRPHj96rMritMWYF7+hwZd3XtWoXW2HORFh06pWOXr8Xcpn0USlc7jLagS4eyu5scRirp/xaC2+dLjaKDes+Lxclnpl7Ci7JvIMKrbgQjhvr7fxcb6B1EtfT7S1b6iBUesgN4uPWYTfdigqJjOs0zFlOy34vKyL+Oq8nuUAYvq39vT9jVy65Y36x9Bj7dBWY0vXWnxoG9RbWa68hkREdHwMfAlIoriP1UN/7FTCPZGTsw2LJoHvaju7T+kbRBEUGxcdin0onKjn2BLG7wHjiDYLnr/ERFRvMzOfy9KbIvOhXLiFPzLS7+CLPNEeXuoRBuIWBWbqVblKw/1YgGirLF3D5p696oC0iLbfBSlzYsZqJ4lqlYvKfo0VlV+R25NECscPtviQbQm2Nn0W3R76pWvDJ8ITWO1Q3D4mhI+8O3vbLsMUfE7J+99MUNf0dd3f9tfpduzdcz6E2tMg2/rQERENFIY+BIRRfFu26ke1qbTwTBvdnj4xkUwLlkE/dQq6Vk38mnXv2c//NW1yhYREcXDpMyrcVXFPXKF4KLC2+XgbXrOTdDGGKg1GOOlyrfTE3uoV7qx+LwBZyo62vEC/EGX9Fnk7TG/4DZluNj5iRYPCwo+gpXl92JmXuy+viJgP921Rh7mtrbmWyNa7ZttnqC6z7pEy44Ea+kwGGIYnqiYXlp8B4w6m7QS+f/lDXTDrMvEWPXH1VeUST/S+Pr9ICKiscfAl4ioH9Fb17f3IAKNTcpKmK6oEPqZ06DNzlJWhkY3oRz6WTOgzcxQVsL8B44gIALfYOTgICIiGhoxQKvNdQSd7tPwBUQQNzARtk3NfitWlH0DV5bdjUWFnxhUSHc+56vydflHpxdrvPX6WqQ/1YFghjGyT32qE0Hs0Y7npVsi8rVbVIpPy75RegQMfhdras5bz/X1zTDFbvEgDhzsbvn9uWpfXzDyDKSLkWmS7rOoEFLu0ZykuWS+dTqWl30dS0s+j9L0SyLug9l570GacWjtuEaSNl88LxAREcUXA18ion58R0/I1b0hj1dZCTNcMh+6iZXK1sXRz5wKbUmRshUWtHfJLSSCXd3KChERDZU4vX5d7T1YW/Nt+SIGNXkDvcpXByZOCc80j0xYeb4q38Pt/0QolLoH9gy6yB71qa62Z4s8CCz6Pp2cfZ08EG2ozvb1vbriO6jKWj1gYHy22vdg2zPDfjxlmSaosnvxWI0V6CcL0SpjWckX5appMUxxYeEn5IsI1PUai3Kt+NMU5KnCdSIiotHGwJeIqB//rr0InBY7PP2YjDBcsgD6CeXKwsUxzJgKXVTgKwQOHUUgakAcEREN3tbGn2Jrw89xsO1p7Gt9EpsaHkFNz5uIdz9SES4ZdWnSZ5Hhzramn8OZIlW+FG7nEF3dK8wruC1mH9nBEGHl/IKP4Kryb8vVvukDDHQToeym+odxsuu1YT2+c81TpZ81cldQVC6LCvlkZtXnYkr29XKLBxH0ioto+TBW7RwEvWgHxsCXiIjijIEvEZFCbudw6BiCrW3KSpjovWaYPBEa6/CqQ3SVZdBNqgQskZVQ/iPHEWxsVraIiGiojra/GBHAiUFN9Y7tca+qLbTOwcTMlaogrbl3P053rUMwyat85aFeUT1e9ZrxVd0rQtGT9ldUgW+2eSJKbaKVwPCCPTGEbEX5N3BN5QMDVvs2O/fjzfofwumLfL8yFJnm2GctiUA5mQa3DSTTVI4sU4V8GXNGDm0jIqL4Y+BLRKQYsJ3DgjnQioEbw2UwwDBrOvRRVb7+6jr4Dx9DsLtHWSEioqEQAW/0qej+gFv5LH5Eb2BxKnmskG5n828RSvLhbXZ3tSoMzDJPkP4cP9WLrc4jMds5VGVdK93/I9M2ILra16BVV43XdL8xrIMIYmhbrPvN7j4j/Solf+CbSPSVHNpGRETxx8CXiEjh37YLgZPSjk5/JiP082ZDV1aiLAyPfu4saKO/l88H71bp3z4T1UqCiIiSTmXGcpTYFqlCXxHQtboOqSpkk0kg5FFFhGM5DGssVHdvjFkBOzX7Rmgvsp3DQM5W+y4p/pzqe4tK4+EcRMgyVUr3ZYzAN0UqfBOJtrR4TFtKEBHR+MTAl4hIEuzohHfPfgSaW5WVsJFq53CWflIldNL3i27r4Nt3EP7jp6U9OL+yQkREyUgMgpuX/yFE93IVAd3RjucRq/crJY8zcuAbeR+adVkoS780ZoA6XKLaVwx0K06LfRChx9ugbA2NeJya9VnSZ5E/s90rDnwz8CUiIkp2DHyJiCT+fYfCw9oCkZUyI9bOQaFJs8K4aD70UVW+wYYmOfQNtncqK0RElKym5dwIiy5b+iwyTDthf1XVCoCShwjtG2L0hi5KmyeHvqNFhL6z894tPZwid93Ez9PlvfiK3FhVvu3OYxf9/WgAJhNvUSIiijsGvkREgQC8ew4gUFuvLChGuJ3DWcZF86CrmiA9A0ftuO3ZD391rbJFRETJSgyMKstYGmN42z44fI3KFiWbxt49cHibpM8i47vKzCtV9/VIK0ybI+24qf8N+ee5yDYheZZp0p9RFb6eavbwHWG6ijK2dCAiorhj4EtE416gqQV+UV3b1qGshBmmVMEwfcqItXM4S1dZBsPsGdBmZigrYf4DR8I9hNnWgYgo6U3OuhbRp+CL4XK1PVuStsrXF4z/ILxEclJUaMdoyTEhc8WoB756jUn5LJL4dy82ns00V6qCyF5fM/yh8X0/jzRdfi4rfImIKO4Y+BLRuOfbvhuBYyfV7RyWLgr32x1pBgP082dDVx7V1sHeBd+R42zrQESUAqpE4BsjBKzuij30Kxl0eapVP7teY1a1BUhV8n0XFdbbDEVyS4fRvg1cAXvMx43oxXux1aNZxkrpT/XftbvPSP+fjCiJiIiSGQNfIhrXQr1OeLfsQKCmTlkJ0+ZkwzB3FrT5ecrKyDLMnQldeamy1cd/6CgC9Tzdl4go2eVapiDbLA4aRgZq9aIHbJIObnN4m6U/I4PALNOEcdEBwO23o9m5TxW6lqUvGdX+vWe1uY5Kf6pvaPEYu9iwOUtU+Mb4uw6fdD9f3LckIiKiBMHAl4jGNd/RE/CLqtpep7ISJoa16WdOg8ZkVFZGlq60BLrKcsBiVlbCAmdqEGxrV7aIiCiZlaZdgui2DnJwl0IJqRgoNh76k4retiL0jQ5dKzNGv52D0Ny7VxU2i6A501ihbA2dzVgUI0IOV/iOixQ/jrSZ6cpnRERE8cHAl4iSkhiw5t2wCZ6X18Cz7g0ERVVscOgVU/5dexE4XaNsKXQ6GC5ZAN2EcmVhdOinTIKusEDZCgs2tyLY1a1sERHRYOi14uBZZOjoDohwbmzlWqepwlDRx7eHg9uSjsffpXwWKc8yVfpzdANvf9CNesc2VTuJWEPXhiLLFLvC1+6pUYXLNDzyWV0c3EZERHHEwJeIko7/+Ck4//AX9Nz/MLq//X3p4w/R+9s/wbf/MEIer3KtCwt2dMInhrW1tikrYbqyEhjmzIA2e3RP0RT9gXWF+cpWmGgxIX6ekNOlrBAR0YVkmyeogivRbzbWKfDxlGeOHch1MVBLGfG4H1udR2B3qx/PpelLhlVdLPr/mvXivU7kY9Tha+Ljc4RpM1jhS0RE8cXAl4iSiqjsdf3xr3A99Qx8e/YjcPIM/PsOwfm7P6P3N39E4NQZ5ZoXJvrl+o+dUoXExiULoZs0QdkaPdqCPGjSbcpWn2BrO0I9DmWLiIguRLQViCYCsrEOrWyi3UGMwFdUbFJyMRuyYz6a9rf9FT3eemVrdJy0vyL92+qzmAYaDDgUsap85YMlbOlARESU1Bj4ElHy8Hjh/vercL/4ihyK9icPX3t5LTyvrEOwvUNZPT+5d2+jGEDTj8kI/bzZcpXvaNNmZECTZlW2+oQcvQh5PMoWERFdiBgcFl2lKHquMrSikSKC0XRjsfRZ5OPscPuzWFvzbZzqem3UDjAc7XxB1c7BZihCecYSVVg7VDZjoarVgPy7M7xvS0RERGOMgS8RJQ3f4WPwrn0DgYYmZSVS0N4F93Mvwb/3oLRxgX6+Hi/8R0+q2jnoK8pgmDwRGqtFWRk9A1X4Blo75NCXiIgGJ9cyVRV8iV65nZ7TylZikYd/MYxOKqL9wey890Cr0SkrYaJae3fz77Gu5j5sqP0OTtpfg8s/uAPPg9HYuwfNvftUYXJZ+hJ5aNtwyQdLoh6KouWIapGIiIiSCgNfIkoa3tc3w3fgEBAIKCtqvkPH4N28HcG28+9sidA4UN+oauegnzEV2pIiZWuM+LwI+f3KBhERXYgcWsUYiCQHZVGVkYnAHehiBWUSWlT4CZTYFkl3nXoXqqb7Dbxe9z2sr70Pa2u+hS0NP5XW3oTL36lc4+LsbXkCvqBT+iwygJ2d/x7pz+HvyuWap6raQogQu9OdmAdLiIiIaHAY+BJRUgh194RbMFwgyIXPB8+GTfAfO6EsxOY/cQrB5hZlq49++hRoiwuVrdEnWjpoTEZlS6HXQ6OLrCAiIqKBFaXNi9nLtMm5V1UZmQgs+mwW+CahXMsUXF7yFZSkL44Z+oqgVAS/2xp/gY11D2Jd7b1YW3O3HP6e6loz5BBVVPce7XgewVDkgW7RzqEqazW0w+zfK2SaK5XPIrW7jiXk7w4RERENDgNfIkoKop1DoLpOVd0bKzAVwbD/4NHztkUInK5R9QHWZKRDP2UStNnDP0VysAxzZkJXXqpshf9/9FUToMnKVFaIiOhCMk0VcggWXTZ7pmtjQlb4ivYAmhgVyZT4pua8DVeV34NJWdfEDH3P6vU145T9tXPh79nK39eqv4E36n6Inc2PYVfz4zjW+W+c6lqruuyUvrau5h6lLUlk8Dot92aY9dnK1vBkm9X9r4VOtxiCy8CXiIgoWTHwJaKkEBCBb3TvXpMRhksXQFtZriyEyQPctu9GoK5BWVGT2znYu5StMDnsLchTtuLDuGIpzO9/J8w3XgfTW66G5YO3wnzDddAVqSfOExFRbHqtSe5pGl3lK1o6uAPDO6WeqD/xWJua/VZcVf5tXF76ZeRYJkur5w/vRfhb3fU69rU+Jbd9EAHwhtoHsL72O1hfcx/W1dyrumyUvn60QwxrizzQLfr2Li76JDShkdmNE8PoYg1+6/LWSP82A9+RosnIkP7gQR4iIoofBr5ElPjEgLXjpxBqi6zIFQPWLLfcAOOieeoq30NH5VA3FhEIB5tbEZQ+9qcvL4U2J0fZig9daQnSPvEhpD/wDaTf91Wkf/3zMCycK32BLR2IiIZiQsYKVcWlGNwmTovnqek00ioyLseK8m9gVfn9WFJ8B0pssds8xCIel12eavlS79iOmu7XVRe7J3aF7Zy896LIKlqYjEx4KKrNbUZ1dfxA/z5dHF15Cav6iYgorhj4ElHC89fUwX/itDqgnTEVhvlz5IsmP7IyV1T3yhXBMYafBZpaEOzqVrb6aHKyAZtV2Yof0cZBV1YC/eSJ0KSnK6tERDQUlXLgqw5UqrvHrq2D6Oka40eiFCHC0jn578OV5d/Eyor7pI/fwsy8W5FvnaWqNh8JM3JvwZKS/4VWM7IHhUVLlOjfnXYne/iOJNE2jLcmERHFEwNfIkp4vt37EaipU7YUOh30M6fJA9b0M6dCX1qsfCFMruKtb0Swu0dZ6RNsbZOHwEXTlRRBl83euUREySjXMhU2o3gtiAyuTna+ghDGJvDt9JyJeVq8GNrG9Cd1pBkK5DYPy8u+Lrd6WFVxP64s6wt/9RqLdK2LT/71GjPm5r9fDpTzLNOV1ZGTL3/PyJ/P7qmWHqN8kBIRESUrBr5ElNhEO4e9B+Twtj9tfi7006fIA9Z0Eyrk7WiiyjfYYVe2+gQbY1T46nTQFuazwpaIKEkN2MfXuR+tzkNj0o+019ci/an+dzNF31Se3p1yxGOw0DobM3NviQh/r6l8EEuL78CsvFsxMfNqFFhnIds8CVmmidLfiR0GiyGEeZYZmJL9Vqwo/6YcIBenzR+Vx41c4Rv1fUXbCZef/a+JiIiSFQNfIkpoA7ZzEGFvcaH8uS4/F5rMDOkZLfIpLdjWgZCjV9nqE+joVK1rszOhsYqdLiIiSlbTc25CdB9V0VbhYNvfx6TK1+FrUgXNolrTrE+ds0ncAfWBVYoMf5eVfvFcaLuy4l6sLL9PDoKvrvyOHAZfLV2uqfxuxOXqygfk61xVfg8uL70LedaRr+w9K9s8UfpTHSSLHsOJNrjNG3SirmcbdjX/Dt2eqLO/xplAcyu8W3fC9eTTcP3jBfikz4OtkfMuiIho/GLgS0QJbaB2DoZF86CfUBHeNhigzctVBbZBux2hXnXgC6cTIa9X2QjT5uZAk25TtoiIKBlVZa2GVS+Gb0aGVwfanobLH/8gpN11TPozMjDLMk+Q/rxwlWayBKkiFGR/igsTbR8K0+agMuMKzMx7J+bmf0C+LCv5IlaUfV2uCO5/WVj4cczKexfK0i+FXmtWvsvoyDSWS49I9WNSbuuQYPft7ubfYX3tfdhQ+x2sqfkWdjT/Fofa/4FT9jU4KV3EkMZO9+kLXly+DuU7JqeQ0wXXY0+i96GfwvHwz9ErXXq+/xP0PPgoHD/4KXp/9Qc4n3oG7udfhmft6/Bt3x0eaFxdK4fCovUZERGlNk0o0Q7bEhGdFQig556H4PrT3yIqfHWlJUj/3t0wv221sgL0/uJ3cP7i9wg0Nikr0vUqSpH+4Ddhfmvf9YSeBx6BU3qTHOpxKCuAYelipN99J4zLFisrRESUjP55/CPY2yI9xyOgrIRdP+knWFL8OURXAI8WUVn8f7umoctTK231vd2elfduvGvqU9Bq9MoK8NPdM9DmPCp91nc9EQ6+f8aLyDIpBzcTwP2bzAiEPMpWWGXmCnx41mvQaQzKCiUb8Rj9ya4pCAQj79trJ/xQDqRHekjcxRLtWf5y+O1yYHv2d0W0ozDrsuSqebEi+mMbdekxA+z+TNJ1KjIuR6F1Lgqss0e9xYoIZUUQK97bDsR252dg++r/yoUNF+J9Yyvst38BwZY2ZaUfoxHadBs0tjR5MPC5i9UiXazQio8W8bn53DOONjMDpuVLoZ83G9KNoawSEVEyY4UvESWsYKcdfjF4Lbqdw8yp0EUNaRO9fDVpURW+7Z3qCgaPF8GGpoiwV9Dm5UCbwQpfIqJkt6jwdhh1adJnkaHFtsafo7r7DYT6haqjSVQaOrziIGTkv1eUNk/6M/Jnq0xfrgqim3v344367yfUaevZltin/lNyyzSVRz9MZeEK38TR6T6lOoDS5alBs3Of9Lv9Omqky9GO57G/9Snsa33yvJftTb/E+trv4ED72LR7Ga5Ag/T+OMacCplXeq/b3iFX84qqXlHd613/Jjz/eQ3uZ56H809/Q++v/wDHj36FXuXiePQX6Pn+/8lBMof1ERGlBga+RJSw/NIb1ZD0hjWa6N+rU/r3niUCYE1WZE9EEfaKN8MhT1/7hkCsEFjCHr5ERKmhxLYYEzNXInp4m2ivsL72ftTEKfQ92PZ0zCAp1mC52XnvgUFrlT6LDFN3N/8eG+u+ixbngYTopTrQqf+U/GKF+YnWriPbPGFEH3/trqM41PZMUga++smTpLtr5G6LULcDnlfXw/n7vyB0nipkIiJKHgx8iShhhVraEepR9+DVVZbJFbn9aQao0BWBcbCnR9kCAo2NcuVwNF1RYXjwGxERJTUxLGtJ8R2w6NS9fE/b12BdzX14s+6HONW1Rj413O45I19c/k7lWsPX5joiVxoGQ5HBiRiOJSp8o0OriowrMDXnraogWLSF2N3ye6ytuUf6eV+LS1BN41OsMN/hbU6ox1y2eTLm5X8YmaZKaWtkwk6jLjnP7jJMrYLtjk/AuHi+quBhOOS5GazwJSJKCbp7JcrnREQJJXDiNLxvbkOwuVVZCTO/7VoY5s9WtsI00ntT7+tb4D96QlkJ00+ZBOPCudAqb4a9GzfDu2Yjgh39duxNRphvvA6GRdKbZn1i9KkjIqKLl24shSfQhTrHFlX1nt1zGvWO7Wh1HUZj7y6c7lonX2q630Rtzyac6lqLTuk6bdLXe32t8AXd8AbCbYAM2gufCWJ3n8GGugdxpmuDtBX5b88v+DCm59ysCnZFP18RBjc6dsPhbZRW+gKXYMgv/yziZxI/hwiojNp06LTx75m7t/WJiP6pQpa5Uvr/ui0ufV5Fiwxx34nbQ7TtEH1YaWSctL+KZucB6bPIx95lCdTDV6cxyr2tc81VMEi/B75Q+IwtcWDkYhSnLcCy0i+iyDpP+p0cuWrZWLybtsvvac8XphovuwTGK5ZITwiDqMkyGsPvbydWwDB3pnL2WwE02VlyP15x1po8oNjvV/7C4FhvezeMly+BZjA/AxERJTQObSOihOV5aY084MK376CyIj1pZaQj85H7Yb7lBmWlT/eXvgXnE3+X9lD6drBNK5fD9vXPw7BoHuQhcA/+CM7fPRXRw1c/sRLpD34DputWKStERJTsRK/PV858BQfbn0YoqtL2QsQgKL3OApu+AGnGQug1Zph0GbDos87FYSKgja6IDFcMV+Nwxz/hC4gwqu9tthgs9eE5a1BsXTBguHSs4z9YX3cfGnp2SH9TfZp5mqEQlRlXIMtUKf2ME2CQfsYLneKu15pRZJ2PfOvMYYdafzp4LU7Z10T8bKM9tE2EvI29u9HiPCRXTne4j0u3rUtu3bF6wkPS/cL++yNhTc238Ebd9+WQt79vX+aRg9ZE0+Y6hkbHTrgDdrj8dvm3QPzsYtvj75Eeo+ffxRXD3SozlssXs/R7PdpGemhbtFB3DwL1jQi0tgO9vXL7skBrB0KtbXI/36BDWnO6EHL3heNy6waXW7quCxqzEYa5s5D2xU9BV1muXIOIiJIZA18iSljerbvg+M7D8G7erqxADm7Tv30XjFcsVVb69Nz/MJyPP4mQ9Kb2LMO8WUi/96swrliGQFMLer52P9wv/Ff5aphp9VWwfe3zqqphIiJKbqJicUPtAzjU/syQQ98LEaFw9GnlYoBU/5C3v/kFH8HNk38rV/Oez4VC37NE+CvC3AvR68wotMzGNZXfQ65lirJ6cWIFvqW2S/HxuW+MSOArKjV7vE1w+zvlima7+zRaXUfQ4twvB3xuv2jJFL59xf/7O6b8ATNzb5VuU1YjDpf4PVlfe58q8P3i4jPyAYZkIFqoiMp+j1KRfz5mXSbM+pFrhXAhox34DkQUOIhWZiGnG0GnUx7odnb3XxMMIiQCX6cIfE0wzJwObVnkUGQiIkpeDHyJKGEF7V1w/fGvcL8k7Vx29UCTngbTW6+B5V03QxfjDamo3O396WPh/mMKXUkR0r/3LZhvuBbeN7ag54FH5WnF/aXdcTvSPv1RaAvzlRUiIkoVIvTd3vhznLC/Kk/5HyiQHU3i1PGbJj8mfxxMla0Iffe0/lH6+CJ8QZe0Mvyf+aaq32Bh4celf//iw9G/H303DrU/GxGei+BZnPZvMeTK1cY2YxH0A7S+cPia4A+I/59IomJX/lrIjV5vi1ylKcJzu3TpH/JGm5n3Ltw69S8XDNHpwva1PoV/Hv8ogiGfshL2sTkb5R7TF6okp/Mbq8CXiIjGLwa+RJTQgi1t8B0+Jn1shTY3Rz7dLHpg21nu516S31D7Dx1VViQGAzJ//CAs730HnI89EQ6E6xqUL0pPgmlWZHz/27C85+18g01ElKJEe4eanjdwvONlNDh2ysGvCBfjEf6KkPeqinswNfvGIVWiiqB6X8uT2Nf2FLo99dLK8H7WFWV3Y2XFvcPqx7qx7rtYV3OPqgrUJFdLhk+LtxkKoBug8rjX1xKz32og5JEHhA31/1H0RBZBuo6B77BVd23EHw+ulu4Lr7ISdtusVzAp6xoGvsPEwJeIiOKNQ9uIKKGJQFY/oRyGWdPlXrtiCMVAxCA239adcg+zc4JBeQCGfkoV3P/8N3xbdkS82dZPnigPbNNXTVBWiIgo1YhTtwutc1BgnY2CtFkotS1CUdo8ua9tsW2hfEk3liDDVA6rIUeuUBXBpDhF/GKJnr1Tct6KpSVfGHLYK4jgtChtLjKln0mnNcLjtw/qVPWBiHB0sBXGAxG3y/7Wv6hCQRHYhk+l70KPt0Guzo11cfnbz12v/+XsULzBErdtecZl0m37+Zi9lGnoujzV8lC+ECIf8/MKPiTdxpN4Gw/TiA9tIyIiugBW+BJRyvCfOIWeb34XntfEZPQ+omLCdP01cDzyc3kQXH+WW26A9UufhmHGVGWFiIjGA0+gG26fXXo3HN52KNWnIoAUbQRENapP2hZ9ZMUAKLHm8neei71ECwLRbqH/W+l0UzHMumxkGItRaJ2Hyszl0se5wwpZBVHt2+DYjlbnEdg9p+H0dcgfB/M23mLIRr5lBlZVfgfZponK6sXxBz146dTnsbP5MVUwONrE4Lw86wwUWGeizLYUhWlz5duXQeTIqOvZht/tX64K80eiFQhJzxes8CUiojhj4EtEKSNQW4/ur39HFeqmfeaj0M+ZCefv/qzq3yuGtVlv/xC0WfEb3EFERMlDtIMQrQbc/i64A13nKvTk9gRyW4g+aYYCubVBmr4AWeaRH3QlQuqzfW1FxexgWiCIdgu55inIs05TVoan3XUcr9d9F0c7XoDT3yGtjN6uhM1QJFdh55gnIc8yHbmWqdL/y9QR+3+hPuLx/Mj2Crlau7+RaAVCDHyJiCj+GPgSUcoI9TrRfee34Xr6OWUlzPK+W6DJzJCD4EC12HEPY/9eIiKioROh76muNajr2YxubwMc3sZz1c7y8DW5T696F0O0Xxhoz+Nsawb5OtJ2urEYWaZKOeTNNFaMSoBOke7fZGbgO0oY+BIRUbwx8CWilNL1+W/A9eTTylaY6S2rEHK64N+5F8Fep7IqvZ+eUoWMB78B09UrlBUiIiIaLBH8OnzN6PU2n6t2PtsKI1ajBdEjeaAWDJmmCjkjFh9FCwxRLa0fYPgbjQ4GvqOHgS8REcUbA18iSimxAl/DkkUItrUjcPKMshJmWn2V3NLBMH+2skJEREQ0Pn13S5bcNqR/dfbCwk/ghqpfQqfRKyt0MRj4EhFRvLH7PhGlFG1GOmCJrAjyHz+FYFOrstVHP3kSdIX5yhYRERHR+JVtnqCqwK7r2Sr9yfogIiKiZMPAl4hSirYgLxz69hPs6ESwt1fZ6hNobYN3xx749hxAoK4BQYd0HZ70QERERONQoXWu9Gdk4NvhPo4eT4OyRURERMmCLR2IKKX0/vS36P3l7xFs7qvoPfskF901UGOzQVdWDG1FGfTlJdAWF0GbkwVtmhUwm6ERF4sJMEmXIZ5eJ0JnbWGe9L3SpH8odr9CIiIiokSxq/lxvHDy0wiGfMpK2I1Vv8aiok9I76NYK3Sx2NKBiIjijYEvEaWUoQS+sWiMRiDNCm26DRpbGrTSRWxrDAblGoOjycuBcfYMGC+7BPopVYDZpHyFiIiIKPF0eWrx812z4Qn2SFt9u4gVGVfggzP/A5Mu8gwqGrzur9wH5+//DASDyooaA18iIhpJDHyJKKUMN/AdSZqsTFjfdwssn/gg9BMqlFUiIiKixPT7/Vehuvt16b1TXzCp15rxjil/wMzcW6HVsMr3YnR/7X44H3+KgS8REcUNX7GJKOWJoFcjx77xPb4VsnfBt/8QQi3tygoRERFR4ppXcBs0msjA0R904836h9Hjq1dWaKi0ebnSm1G2+CIiovhh4EtE444mI12uuBX9ejWjXUVh0AM6PtUSERFR4puWcwOK0xaq+vU2OHZgd/PvEQwN3IOWhifk9iifERERDR9TCCIaJ8J1voJhzkxYPvI+WD/9UZg/eCvMN10P05WXwbBgDvTTJkMnwuCiQmizs6CxmKVnyqE/VYq/p586GaaVy6ErK1FWiYiIiBJXmqEAS0v+F0ZdmrQVWZEqhrrV9LyJUJzPmBovArV1ALstEhHRCGEPXyJKKbF6+EZLu+N2pH36o9AW5iPk8SLY1i5fP9jegVCPA0GHE6HeXukifXRIH10uwD+0ihZNug362dNhvHQhtCVF0Oj1yleIiIiIEpcn0I1nj92Go50vIhRV0Tsl+21497S/wqizKSs0GF3/+3W4/vLseXv4ikG/2c/+cciDgomIiGJh4EtEKeVCga8mzYqM738blve8nUMxiIiIiGKo6X4Tzxx7P7o8tdJW3+4iB7hdnM53fgSeDZvOW8HLwJeIiEYSX6WJaFzRVZRBW1TAsJeIiIhoABUZl2NBwUehHWCAm8vPgbRERESJjIEvEY0r+imToBOBLxERERENaGHhx1GctijmALfD7c8iFBq4PQERERGNLQa+RDSu6KdPgba4UNkiIiIiolgyTeUDDnDb1vRzBDG0+QZEREQUPwx8iWjc0OZkQzd1MrTZWcoKEREREQ1kWs4NmJi5Cpqofr3NvfvR6T6lbBEREVGiYeBLROOGfuZU6EuLlS0iIiIiOh+TLgNTs29QtXUQ2l3HEOo30I2IiIgSBwNfIho3dJMnQVOYp2wRERER0fnU9mxBTc8bMfv1aqLaPBAREVHiYOBLROODyRge2JbPwJeIiIjofBp792BTw6NYX3MvDrY9jRAiA1+9xow8y3SGvkRERAmKgS8RjQv6kmLoJ1ZAY7UoK0RERER0lsPbhOOdL2FD3YNYV3MPNtQ8gBP2V+ALOqWvRrZumJB5FbLME5QtIiIiSjQMfIloXNBNnwxtcaGyRURERERuvx11PVvwZv0jWFPzLayvvQ8bax/E0Y4X4A50StdQ9+gtTluAK8q+Co1Gp6wQERFRomHgS0Tjgn7mNOg4sI2IiIhIbtmwq/l3csi7tuYeOeTd1fw46nq2wh90SdeIPYytLH0Zrqq4B5UZK9jOgYiIKIEx8CWi1GcyQldeCm1WprJARERENL6Ilg2H2/+JjWdbNtR+B9saf46T9lcGrOY9K9s8EZcWfxYrK+7FtJyboNVwN5KIiCiR8ZWaiFJKqNcJeLzKVpguNwfa7CzpE556SEREROOHP+jGma71/Vo23I8NSssGu+eMdI2BQ15BBL0LCz+OleX34cryuzE561pW9l4ETUGe9AdvNyIiih8GvkSUOjxeBBtbEOxxKAthYlCbxmRUtoiIiIjGh+1Nv8I60Ze3Ltyyoal3z3lbNghmXRbKMy7DkuLPYWXF/VhRdjfmFXwINkORcg0aKn15KQNfIiKKKwa+RJQyAu2dCNrt0icBZYWIiIhofBItHDbVP4ozXRvg9p+/ZYNeY0ZR2gLMzf8AVlV8ByvL78WKsm9iXv4HkW2eoFyLLpqRhQeU+oIOL5z7GuBr6FJWiGgsMfAlopQRbGlFsLtH2SIiIiIavzyBbvT6W6TPzt+bd0buLXK7hlUV9+HKsm9hScnnUJW1GjYjK3qJaHCcu+rQ8svX0fzQa2j87ito/+M2aefs/C1jiGh0MfAlopQRbO9QtXMgIiIiGo9EYJtnng5N1IA10bJhYuYqXF56l9yy4aqKe3BZ6Z2YlnMj8qzTlGvRSNJXlrGlA6W0jr/tQuuv3kTXy4fR8ZddaHpkHdzHW5WvEtFYYOBLRCkj2NoOOHqVrT6azAxoLGZli4iIiCj1mXQZWF72VRSnLUK2eRKKbQvPtWy4qvyecy0biqxzodfyfdJo0k6awMCXUlrP2mMI2EV/8DBfvR2OTadY5Us0hhj4ElHKCLa2xWzpoM3PhSYjXdkiIiIiGh9Eu4aVFfdiVcX9WFne17JhQuYKmPVZyrVotOkqyqBh4EspzFtnVz7r423sRijEwJdorDDwJaKUEeyS3lQ4+44sExEREY1neq0JU7PfKlf2Tsu5gS0bxoguPxc60daBiIgoThj4ElHKEC0dQjF6+GrS0qAxmZQtIiIiIqL40s+YJu19c/ebiIjig684RJQSQr1OwONVtiLpigqgzcxQtoiIiIiI4sswZ8b5+/gaTWz7QEREI4aBLxGlhGBbO4IxqnsFTX4ee/gSERER0ZgxLJwLzXkqfHUVpWC3UyIiGikMfIkoJQRdLsCrrvAVQa++tAgaq0VZISIiIiKKL92s6dCYB24xJvr8ssKXKJKnuhPuYy1wvH4KPRtPouuFA2h/Yjs6nthx7tKz4YT8Na90Xb/dqfxNItKEODaRiFKAd8sOOL7ziPyxP8O8WUi/96swrlimrBARERERxV/HjR+Ad/N2IMYuuO3Oz8D21f8FdDplhSh57C2+GyFvQNkKK7hzJYq/eg00usHVGYpw11fTAV9zDzxnOhBy++Ct70LI44evxSH/3gR7PPB3udD/0IixLEuujhcftRlm6DPNMFbkQJdlgaEoHYbCdBgrc8JXJhpHGPgSUUrwvLQGjh/8FL59B5WVMPPbVsP2lTugnz1DWSEiIiIiir/eR3+Jnu//BAhEBmNC+v1fQ9qnP8rBbpSUhhr4uo+3ondrNTQh6dfB7YW/xQFvnR3e2k74Wx3wSZ8H3X7l2kNnKM2Sg199gQ36PBsMZVkwVebIAbCxMhuGwgw5ECZKZQx8iSglDBT4Wj/2AVjv+AT0FWXKChERERFR/PkPH0P7W96DkEM9dyL7L7+BafVV0h462zpQ8jk448FwFW4/eR9birLv3whEBb7emk403v9fOHfWIBQMIeRVKnhHmQiBDQVpMJZnyyGwCINF8CtCYLkauDBdWkuH1mJQ/gZRcuPhQyJKCSG/H6EY1RK6kiLosjOVLSIiIiKisaGfMRXGa1aoqnh1FWXQz5rOsJeSlnlWserx6z7RKu2kKRv9ODadhv2F/fDUdMpVvfEIewVfvR3O3fWwP38Abb/bguYfrUfTw2vQ9IPX0PTQa2j87qtoevAVtP5mE7qk67iPNoP1kZTMGPgSUUoI2u0IOdVN+rViAEZ6urJFRERERDR2bHfcDuPSRefCMRH2pn3+k9AVF8rbRMnIOq8UGm1U4Hu4GQGneqi2aNcQKwgeLI1JD2NFtnzRZZqV1aGTewPXd8khcM/6E+h8Zg9afvkGmh9dh6YfrkHj915F8w/Xwv7cfvgau5W/RZQ82NKBiFJC709/i95f/h7B5lZlRaLTIfPHD8Ly/ncqC0REREREY8u7cTM8m7bJg6d0kyphvvEt0FguPrgiGmvtf9qGui8/h5A/qKyETV3zWVhEGNyv+rfz6d2o+dwzquv2Jwe6ldlyqwV9lhX6wnRozeFWC1qTDro8m3zMJNDtli+iB3BQDHmr7kTA7pIHv/mahh/SinDZNCkPaQvKYF1cDtuKKpgm5ipfJUpsDHyJKCXECny1eTnIeOgemN/+VmWFiIiIiGjshTwe+aPGZJI/EiWzntdP4tStv0fIF9lir+IXtyL71gUR1b+itULzo+vh3FMHf6dL+mUIKT10w/10RdgrD1krz4I2wwx9pkUOeLVmvfId1HytDrliV7SICHa75e2AdPFUd8DX1CMHwf7mbvjt0r93kUQPYNvSStgun8Tgl5ICA18iSgmxAl/95IlIf+Ab4QEYRERERERENOJEwHrkkocR6AkfyDir6CtXo/CuVdBEDW4Toa/rUDP8dme40l0Eu/np0iU8VG2kiH9H9Aj21trhb+0JfxTVv3IFcA8CXa4hVwL3D37TV0+DsYTzYigxMfAlopTAwJeIiIiIiGhsHLv6Z3DubZArds/KvGEWJjz+fmj0iTE+6mz1r7jIbSB63PCLbSUE9pxph09UAw+iElgEv+krqqT/x5nSx8nQWo3KV4gSg+5eifI5EVHS8m3bBd+OPQj19g1u0+Zkw7RqOfRVE5QVIiIiIiIiGmm9W8/AdagpYiBbsMeDvE9epqrwHSuiJ68+xwpjWRbM0wpgmVuCtKUT5D7D1vnSZW74o2lCLjQGHQIdvQP2GhZhsetAIzyn2uFv7IYuU7SlSJf+kb72FURjiYEvEaWEwInT8O/eh2CnXVmRnuAmT5Kre3XlpcoKERERERERjbTenbVwbq+JqPANOjxyD199bpqykph0aUYY8m0wVeXBuqBMDoBFICz69OqzLOeGwsXib+qBc3cdfLV2BHo90BekQ5fOIYw09hj4ElFK0Bj0CDS1ItTaJr3q+qHLz4P5lhtguvIyaGyJ/QaDiIiIiIgomXkbutD938NAMLJrqGVmEaxzS5Kq8lUEwKYJObAuLJN/fuPEXLllw4DBbyAIz6k2uA42wVfTCWgh9/YVVcJEY4WBLxGlBG1WBrSF+dCVFkM/bTKMK5fDcuN1rO4lIiIiIiIaZVqzAR1/2IZQILIFgj4nDRnXTYdGmxhtHYZC9B7W59vkql/z1HzoizPlCmYx+C1Wq4f+bR4CHU65slknXTRs80BjgEPbiIiIiIiIiIjoooW8ARxe9ii8ZzqUlTDT1HxM3/j5lKh2DXr8cO2pQ/fa4+h68SA8R1swUKSmzTDJw9yy3joTmTfOgdZqUL5CFB+s8CUiIiIiIiIioosmBrN5TrbBubc+YnCb6Geb/4llCTO4bThExa8Y+JY2rxTGimxo003w1nQi5PYr1+gT8gTgOdYK95EWBNp7oS+wQZ/Hal+KHwa+REREREREREQ0LLosC3rWHkewx6OsABkrJiPzpjnQaFMn6NSY9DBPLYB1TjEMpZlydfNAbR4Cnc7wULfGbmg0Whgrctjbl+KCgS8REREREREREQ2LoSAdQYcXnuoOueo1bXEF8j99OUyTcpFMQ9sGS5dhlvv7igFvotevv7EbAbtL+Wo/YqibqPY93opAlwumiXnQpZuULxKNDvbwJSIiIiIiIiKiYfPV2dGz8ST87b2wzClB+pVVKRn2Rgt2u9H16hF0rzmGrhcOIuj0Kl+JJHr7Zr1tNnI/uBhpSyrHxW1DY4OBLxERERERERER0TCJPsb2Fw6g8+k95x3qZltRhZz3LETWTRzoRqODgS8REREREREREdEICHr86Hn1KOz/OXjeal9TVR6ybpyNnA8sgmlSnrJKNDIY+BIREREREREREY0gUe0rKn07n9kDz+l2ZTWSGACX+bZZyJIuGddOZ7UvjRgGvkRERERERERERCPsbG/fjr/sQs/6E8AAEZx5RhEyr5sO2/Iqubev1sLgl4aHgS8REREREREREdEo6d16Bh1/2y1X/A7U4kFU+1rnlyFt2QSkL6+CZV4J9NlW5atEQ8PAl4iIiIiIiIiIaBT56u3oEC0eLjDQ7Wzwa5lVBOvicunzUpimFkCj0SjXILowBr5ERERERERERESjbLAD3c4Sg93MMwthmVkM87QCmKcXMPylQWHgS0REREREREREFCdioJv9hQNy+OvYWj1gb9+zRNWvaVIeTJNzz4W/6SuqoGPLBxoAA18iIiIiIiIiIqI4EtW+zq3V6HrpMLpfPQLP6XblK+d3Nvy1La2EZU4J0ldPg7EkU/kqURgDXyIiIiIiIiIiojHga3XAsfEE3Aea0CN9dO5tuGDF71mG0iy50jfjmmnIuHY6tFaD8hUa7xj4EhERERERERERjaFgtxuOrWfg3FkH174GOPfVw9fYrXz1/MwzipB53XTkfGCRXP1LxMCXiIiIiIiIiIgoAYhWD+5DTXAfbob7WAt6t1XDfbQFAbtLuUZsotVD5ttmIef9i5Bx1WRpgYPdxjMGvkRERERERERERAlGVP327q6Th7x5jrXCua8Brn31CLp8yjXU0pZMQN7ty5B18xxotAx9xysGvkRERERERERERAlM9PoVlb/OXXVwvHESvVurBwx+RYuHsh/cBNuyCaz0HacY+BIRERERERERESUB0fLBtacOvZur0fH0bniOtiBWtCeGuZU+eANMMwqhYeg77jDwJSIiIiIiIiIiSiIi+O159Sg6n92LrhcOIBRUx3vZ75yH0u/dCH1umrJC44VW+UhERERERERERDRsnupO5TMaLVoxpO2GWSj68ipk3hS7X6/9xYNoe3wLgr1eZYXGC1b4EhERERERERHRkLmPt8Kx8QR8TT1Av3jJW98FQ0nmufaxGpMexsoc6ZIN69xSaC2G8BdoRLgPN6Hp4XXoen6/qtJXn29Dyb3XI/vdCzjEbRxh4EtEREREREREREMSsLtQe9e/4Nh0Gv7mHmU1NjnwLcuCoSwT1gVlSF8+GWlLKhn8jiAR+tZ95Xk4Np+JCN8FMcSt4ie3wLqwTLozGPqOBwx8iYiIiIiIiIhoQCLc7XnjFAKdTpin5iPt0ko4d9bh+A2/RsgXUK41OCL8tc4vQ8ZbpiPnXQtgKMlQvkLD5dh4EjV3PANvnV1Z6ZNxzTQU3/MWmDnEbVxg4EtERERERBRD0O2Ht7YD/iYHAnYn/HYXNNJ/gr/LiUCXW1VFdT7GihxoLXoYKrJhmVYIXZZF+QoRUeLyNfeg9ZdvoGfdcfl50FyVh/zPLZe/dvr9fxpy4HuWaDUgetAWfnEljKWZyioNV9vvt6Lhnv/E7NsrhriV3HM9DLy9Ux4DXyIiIiKiFCUCS8/xFjj3Nkhv/JVFiaEiC6YJudAX2Hg6bQyiJ2Xv1mp4jrXAW9cJX0svgt1u+LtE4BsWkLbFZSgMpVnQWfTQSzva5qp82K6YhIzV06G18j4gosQkwt6WH69H+5PbEXT6lFXIFb5lP3oHTt78W/jbepXVoRPVvnkfXYrib6yGNs2orNJwBD1+NN7/Mlp/s0naiIz8xO2d+/5FKGDInvIY+BIRERERpSDX/gbYXzgI18FGuA82RVSihvsoSpd8m1xtap5WIAfAYpjOeCdut+Yfb4BrVy08NaM7ZV70VMy8bjryPr6MpzQTUUISz4fNj66NWS06c89X0fXiAfS8fgpBl/fcAbFo8tkSNR3hwW4xaDNMKH/kFmS9fTY0Wq2ySsPhq7ej4Z6XYH9OPcSNoe/4wMCXiIiIiCjFiIqshrv/DftLhxBy9VVkxSJOqRWn58oBsHQxVebAPC1f+pgLfVG6cq3xQYQStXc8jc5/7VdVRY2WszvexfdeD53NpKwSEY09cbbD6ff9EZ7T7cpKH8ucYlT94+Py85brUBNCHj8GipdCngC89Xa49jfKAbGvsVv5Sh/r/FJM+ttHoc9LU1ZouMQQt5r/fRbO3XWq9kMMfVOf7l6J8jkREREREaWAlkfXoePvuy4Y9gpBp1ce7uKWdth7t5yB60CjtJPYDOeeenhOtiHQ5YLWaoQuPfXDSO/pdjTc+5IcXMRNIAiXdHsbijJgnVcq7YVzkA4RJYaWX7yBnlePqsJC85QCue+udUEpNAYdDMUZ8pkjxvLsmBfThBxY55bAIj3H6XPT0LuzVvX6JKp/jeJ6fB4cMeKArqE4XX4tFweCIyivPaFeT/h64gAvb/eUwgpfIiIiIqIUIiqyTrzt1/C3X3xPxbPEabai16xoPSCmshtF+4fpBTBNLUjJCd/iFNjjb/11zOnmohrKUNhX8SwGrumHMHRNVA/7mrvhl3a6xefRTFV5mPTn22CanK+sEBGNHW9NJ07c8rh8IKw/8VxY/vDbkfWOuRfVA170l2350Xo0P7oOoUBQWQ2zSK81U176FLTj4ABjPHW/egRND62RD+TGqvS1La9C8VevkQN8hr6pg4EvEREREVEKaf31JjR8+z8I+SOnpssD2swGuWI30DW0YWOCCH+NpVkwTc6DZWaxXIllmVYI09T8lBr81vLjDWh9fBN8DeFTjtOvniqfaizCXV2e7dy+sC7DLN0m5vDGIIhTmv1tDnhr7eh8Zg88R1tUpz8XSTvchXeuhEbHHpZENLaaf7IeTQ++qgpl01dNxYTfv39YLWh8rQ6cuOHX8JxoU1b6TH7+dtgum8jgcYSdL/QVMq6ZJr8GMfRNHQx8iYgGEAgE0NPTA71eD6vVCi0HCBARURKo/p+/wf7s3oghLSKcLLn3emitBgS63XLoKKq3PGfa4avuhN/uUq45OKIiSJy+K6pSTZOky9R8+ZRdEfxa5pQkdQAsgghxCnPv9ho5JM9YPR3W2cXQmPXKNYZHVLd1vXAQ9d94QVWFbZqUi8n/+ZQ8TI+IaKwEpNeE42/7dcwDU5P+8hHpeXHqsEPB5h+tQ9P3XlMFyrkfXIyyR94OjV6nrNBIYeg7vjDwJSKK4dChQ9i3bx/q6+thMpmQkZEBnU4nf8zKykJOTg4KCwvlz0UgTERElCiOLP8xPIcjd9Its4owdc3n5F6LQlCEvvV2Ofj11dnhEeHvsVZ4znTAU92OUIyWA+djEJW/5VlyKJp+1RQUfHY5oE3unUXR3kGXK6qiR/51XoS+dV/6Jzr+vlvaiNwdq3r6Y0hfOZk720Q0Zjr/sRc1n/k7Qv6olgtzijHlxU9BazMqKxdPPMceXfUz+NsiD3yJfrLTX/+8/JFGHkPf8YOBLxFRlKamJvzsZz/Dc889J1f49pefn4+CggKUlZVh4sSJ8mXSpEmoqKhAbm4uw18iIhpz+yfei0C3R9kKy3nvQpT/5JYBK6ZEAOw+2XYuABaD21xHmuQQODiIwW/9iZ30KS/+j9z6gQbWu7UaJ27+LUK+yNYbBZ9ZjuJ738K2DkQ0JkSP8dPv+wN6Xj+lCgTLfnAz8j66ZMQO6J36wJ/Q88qRiDNShIlP3obMt0xn4DhKROjb8Zdd6HrhgOq2Fxj6pgbdvRLlcyIikuzcuRP/+te/UFtbq6z0cTqdaG1txcmTJ7Fjxw5s374dx44dQ11dHZqbm+FyueTQ12w2swUEERGNiaaHXgMCkTtwGddNh+2KKmgG2EmXB5IVZ8A8rQBpl1TAPL0QllnFMEsXMWFd9P5FIICgw6v8jYEFnV5kXj8Dpsoc7iiehwjGO/+yU26x0V/A4UHehy9l4EtEY6Jn/Qm0/voNhLyRB6PE0M7ib78FuszB9y6/kJD0WtX98iHVmQ46qwEZq6dJr1l8HhwNoh2TGMTqb3fCc6xFuiOULyg8p9rha+yWrpcPQ1E6X8uTFANfIqIox48fx5YtW9DSIr34XYDH45HbPuzatSsi/HU4HHLga7FYYDCkziAbIiJKfM2PrFUFvmIAju2KSQMGvtH0OVZ5h1CEv9Y5xTDPLIJlXinMk/Ohz7bKoW7QEVlFfJYIj/M/cwUM+dJOIg1Io9fKfYI9x1sjdrYDPR65IluXaVFWiIjip/H+l+E+1KQKAfP/53JkXDt90K8jgyH6pHf+ZZf8mtJfoMOJvNuX8cDXKBIHHS8U+vo7nbBdOkGeA0DJh4EvEVEU0cZBBLgiuB1K15v+4e/BgwflCmHxvUTom5aWxnYPREQUFyMR+PYndvTEQDbr3BKkLSyHeUYhLDOK5JYNoipY9O3VaDRyACwqwLKun4nsd86HxsiBOxcS6HGj+9WjkdVtgSCsosp6Wr58uxIRxYv7eKt8lkh0ACteB8oeugn63DRlZWTo0ozoWXcc3upOZSVMnPmQfeuCEf/3KNKFQl/5ftFrkba4gq/pSYiBLxFRFDGYTRCVuZmZmXJv3ry8PLlNQzAYhN/vv2AQ3NXVhSNHjsiD30RPYEEMerNarfLnREREo2WkA9/+zrZ+sMwJh79igI91bimsi8phk3YIM946E9k3z4GhKPxaSudnyE1D6283q+4vUR2defXUpB98R0TJpeOpHeh65Siie/dm3zIXOe9ZOCotFnz1XXC8eVr1b9oumwDTVB74Gm3nDX0DQXhOtsFQkimf6cP7Irkw8CUiiiKC3mnTpmHhwoWYPXs2Fi1ahEsvvRSzZs1CVVUVJkyYIIfAIvQVPXsDgcj+Vv2Jnr8i+D169Ch8Ph8KCwvlQJkvlkRENFpGM/DtT4S/YkdRtH6Qq3+XTpD7/rIia/BE1Zz9mT3wdziVlbCg24dc9vElojhruO9l+Oq6lK0+YlibsTxrVHq5BrrcsP9rn6qPr3VhebiylAe+Rt3Z0Ne5ux6+psih5aLa23O6A7allfL1uB+bPBj4EhENoLe391z4O3PmTMyZMweXXXYZLr/8cjn8raiokAPcrKysC4a/nZ2dOHTokNziIT8/H9nZ2WzxQEREoyJegS+NDNfBRrj2N0ZUVbGPLxHFm6+5B43fexUhj19ZCTNPKUDhnSuhNY3OvovOYkBbjDMdTJPzeaZDHIkw11CcDufuOgQ6Iw9C+tscCHa7kbFqGls7JBEGvkREUURVrhjA9uyzz2Ljxo1obW2V2zGcrcwVIXBBQYEcAC9dujQi/BX9et1ut9zPN7rtg1gT1b4dHR1yhbC4GI1G5atEREQjg4FvcvG39qAnRh/f9BVVcvX0aFTUERFFc26rQeffdqsqbbPfNQ8Z143ssLb+xJkOsV63DPk2ZL1jHl+34ki85mitRjg2nkTIF1nIJIa4iaGtop0TX5eSAwNfIqIoW7duxS9+8Qu8/PLL8vC1vXv3yuuTJk0619/3rOjwd+rUqXKQq9Vq5T6+IuTtT/QArq6uRmNjI0pKSlBUVMRKXyIiGlEMfJOLxqBD+5+2q0IW87QCuU0G7zMiigcxQLJ7zTFVL93825eNav/WoNuPlp+sV71uWWYXI+vGWdJzIFvbxJN47fE1dsO1v0HVz9d9tAVp80thLBud9h40svibQ0TUT11dHZ577jns2bMHXm94Oq0IbtevX49Tp07J2wMRA9kWL16MT3/60/jSl76E9773vXK/XxH+9id6+b755pt48skn5d6+IgQmIiKi8UlUVOmy1K0bRKuH6InpRESjxXOiVRX2CpbZJaMauvpqO2M+1xnLsxkqjgHRuqPgs8thWzpBdfv76u1o/r8N8Lf3KiuUyBj4EhEpRP/dNWvWYPPmzXJbh/5EqwZRzTsY4npi4NtnPvMZfPKTn5QHv8Vq3bBu3To8//zzaG5uVlaIiIhovBE71+bJ6tYNzl11CPGgMBHFibfWHjPwNZRmKp+NDvcAQbMuw6R8RvEmDkQW3HEl9Dnqg5E9G0+i46mdqrNSKPEw8CUiUhw/fhwbNmyQ2y30J8LaBQsWoLy8XFkZnMzMTNx666341Kc+hWXLliE9PV35Spio9H3llVewb98+VvkSERGNY+LUZUQVsnnr7AjYXcoWEdHoCnnFsDZ1Ra3WPLiil4vlPhD7bAZjhajwVTYo7mxXViHnA4uh0UXGhmKoX+vjW+ThbrGCekocDHyJiCSi1+5///tfuV+vqPTtTwxlW7VqFYqLpZ2xIRLVvqtXr8ZnP/tZLFq0SFXpW1NTg/3796Ozs1NZISIiGnn+Zgd3zBKYdVF5zF69ouIueggsEdFo0BekxwxYO/+xB4HOyLMfR4ro39uz7jhCMapFrYsq2L93DImzT/I/sQy2FVWqM1DOtnYIRfVdpsTC3x4iIsmhQ4fkVg7t7e3KSpioyn3LW94iD2XT6XTK6tCI0PfSSy/FzTffHLNKWPzb0VXFREREI8lbF7tHIiUGyyxR4atOWtwHG6Hh/UZEcRA+00D9PNT8o/Voengt7M/th+dMh7I6fOIMhrbfbYFTrvCNfKKzzCmGsTxL2aKxYijNQtGXV0Gfa1VW+oghf6499TyYnMB090qUz4mIxiXRr/evf/2r3FPX7XYrq2GXX3453v3ud6OyslJZuXh5eXlyNa9oHdFfWloaLrnkElRUVCgrREREF6/9ie0Idke+nhlLMpDznoWqUzMpMYhKqpafbVRNqRdDizKunipdIUbZHRHRCNIYdLD/Yy9C3sizHUV1r2t/I9yHm+E52gLnnnr0bquG52Q73Psa4drXMOSL/cUD6H7tKDqe2iF9f3XrmsI7rkTapdL+V4wAmuLLWJYFf0cvnDtqI8PdQBBBtw+Z189gJXaC0oR4jhARjXM7d+7ED37wA2zdulVZCRMB7Z133om3v/3t8tC2kfDAAw/gySefjAiWJ02ahLvvvltuG0FERDRcx9/2a/RurY7YMbNdNgFVz35C3qGnxHRw3kPw1dmVrbDM66Zjwp8+BI2eO9NENLqCHj/qv/6CfNDwQgO5NCY99Hlp0FxkICt6lA9EX2DD1P98CsaJucoKjTXRwuHELY/Dc6JNWQnTZpgw5YX/gXlW0UU/Fmj08J0DEY1rol/vm2++iRMnTigrfUR17+LFi0cs7BXy8/NVw9uIiIhGktasVz6jZGKZnI/o/pkDTa8nIhpp4kyDgs8uR/bNc6G1nH9Qmxjc5avvkoPbi7kMRATJ+Z+6AgYxsI0ShmjtkPNe9VlCwW4Pul46dMEDBDQ2GPgS0bjW0NCAffv2qXr3iure5cuXs80CERERxYVpSp7q9GVvXRdCLjE5n4ho9Jmq8lB451Uo+NwKWOaXqp6TRpMIe/M+uhR5t13C9kMJKOfdC6DLVhdC9aw/wcA3QfG3iIjGtS1btuDUqVPKVh9R2Ttr1iyYTCZlZfSIHsJer1fZIiIiovFIPiU2qlevqKLz1naCXfiIKF7MM4pQ8JkrUPy1a1BwxwpY55desOJ3uMxTClD4xZXyv6fLVg8Io7EnqnytiytUr1OuQ43wN/UoW5RIGPgS0bglgtbdu3ejrq5OWQmzWq1YtGgRysrKlJXRJaqLe3t7lS0iIiIaj8SAtljVdOEJ9soGEVEcaDPMyFg9HUVfvApFX7sGRd+4Frm3XYqMa6fDtqIK5mmFMFXmwFiRfdGXtEsqkXXjbOR/drn8bxR8bjkMRWx9l8iybp4rPTgiX6dEW4eeN08hxCrfhMOhbUQ0bg00rG3u3Ln42te+hssuu0xZGTm//vWv8dhjj6G1tVVZCXvooYfwnve8R9kiIiK6eCff+Th6Npwcl0PbfM09MBQmZ2AghuIcWvywakJ+8TeuRcEXruQpzkQ0psRzlK/FEe7fK3/0KV+5OPo8mzygTVSO6rNGbmYKjR5fqwNHLnkEgZ6+AeRC1k2zUfnb93HAaIJh4EtE49ZA4evHPvYx3H777SguLlZWRg4DXyIiGm3jIfD1VHfCV9MhB7wBu0v+KP5//a290MmT48Wk93SYJuTAekkF9ElyivCB6Q/I/w/95dw6H+U/e5e0I53aYT0RESW+Ezf+Bo7NZyLeY+jzbZix7U7oMszKCiUCxu9ENC51dnbi8OHD6OjoUFbCsrOzMWfOHBQUFCgrREREyc9bY0/qPrBBtx/drx1F22Ob0fjgK2j6/qtofOg1NP1wDZofWYvmR9eh+Ufr0f7kdrT8eL38uVhr+sEa+frO3XURO6eJKlZbB+ehJulnVzaIiIjGUPrKKaq2Dv5WB9zHWpPidXY8YeBLROPSwYMHUV1djUAg8rTJefPmoaqqCjodq2iIiCh1eOvs0Ej/Jau2X70ph7dNSrjb+ffd6N18Bp4TbfKpxbGIHVAR9Lb/fiuavv8aul4+nPA7o6bJ+Yi+m8TQNga+RESUCGyXTVQNbhN61h1jH98Ew8CXiMYdEfLu2rULNTU1ykqYCHkXLlyIiooKZYWIiCj5aEz6WLO/kpa3phMtv3gdzp218A8Q7l6IqA5ufngtPKfalZXEZCrPku67yDtPDMTx253KFhER0dixzCyCLkbP5e7/HpZesBj4JhIGvkQ07jQ3N+PAgQNob4/c6SssLMS0adOQlZWlrBARESUfU0V2ShWEBh0eBLojB8RcDOeeerT88g0gEFRWEo+hXHoPEiOs99Ymd0sOIiJKDdoMM6yLylVVvq5DzXAfbeFrVQJh4EtE446o7hXtHKKJ6t4JEyYoW/GTnp4Oi4WTaYmIUknI5YNzXwPsz+5Fz9rj8NXZla+MPjH5PLpKNJkZy7JgnVui6m0riGpmY0U20i6pRPqKKuR+6BKkXzkZ1nmlMa/f+Y898DV0K1uJJ1YPX0G0rmBbByIiSgRZN89FdB/fkMePrpcOsco3gTDwJaJxxePxyIFvbW2tshJmNBrj0s6ht7cXXq9X2QrLz8+HzWZTtoiIKBU4d9Wh+Ydr5KFiTT94DW2Pb0HI7Ve+SkMhqony71iBrJtmwzytAGmXVCDrxtnI+8QyFH/zWhR9fTWKvno1Cr8iXe5cKX8s+to18vWjK5BEe4SeN08lbJ9B8xR1D19BPmDAqikiIkoA6SsnQ59tVbb6sK1DYmHgS0TjysmTJ3Hs2DE4nZG98ERlrxjWNtqVth0dHXA4Lq7/IBERJY/O5/fLQ8LE1Ore7TVo/8tOuE+28lTHi5Rx7XQUfXkVikW4+7XVKJQ+L7pzFQo+uxw5714gTw23LZsoV8jalk44d32t1ah8hz6O9celHdLEbOtgKI3dVsrX0pPEI/eIiCiVGPJtsAzQ1sHXmLhn0Yw3DHyJaFzZsmWLHPpGW7RoESZOnKhsjQ4RMouwVwyN6y8jI4MtHYiIUkzP2mMRVS7+Vocc/GqY914UrUkP84wiZN44G+lXTYZlVjH0Bec/O0Zc31iZo2qR4K0X1bLKRgIyiZ85iq+2kwW+RESUMAZq6+DYdDphz6IZbxj4EtG40drair1796KlpUVZCcvOzsaCBQvkoW2jSQyJi1XdW1RUxEFxRETD5HjjFJofWYvGB/6L1t9sQtDpU74yNrwxevZ6G7pY4Rtn+vw05bM+wQRvrWEozVSF1L5W6f0DHztERJQgRFsHrUV9Fg3bOiQOBr5ENG7s2LFDbucQXWE7a9YsTJkyBSaTSVkZHW1tbTED38zMTFit6h5IREQ0OK79DWh+eC2af7Q+fHl0HTr/vls+rbD7taNof2I7Op7YIV96NpxAz8aT8sV9tBme6g4EXWMbDlN8eWsTux+uLsOsmtuW6D8zERGNL3JbhznFqgOUjs1nEOiMbJ9IY4OBLxGNC2JY2+7du1FXV6eshOl0OsyfP3/Uh7UJp06dkquMo5WWlrLCl4hoGMTORc+m0+eCW9E+oeUXr8vBb9NDa9D8iPTx4TXypfkH0seHXgtfvi9dviddHnxFHq7W/qftciAsguCA3SV/L0puGpNeFZ6Kx0fMyWgJQvQhjv6hE/1nJiIaD7zVneh65Qg6/rwT3poOZXX8Ev3zo9s6iNcr1/5GHqRMAAx8iWhcEJW9Bw4cQE9Pj7ISJoJe0c4hNzdXWRk9IvCNbichKnuLi4ths52/DyEREQ0s5FWfou852Yb2p3bAuasW3tpOucWCuDi2nEGvcrE/fwCdT+9Gyy/fkCuDzwXC338NjQ++IreHECGwuJ5zbz1D4GQk7W8mWxsNUeEbi6+Jg3CIiMZSx992oUm8TxBnFT26Hq5DTUn3GjOSROAbPbhNcGxmH99EwMCXiFKeaOHw+uuv4/jx48pKn6VLl8rtHEZbd3c3amtrVYGzCHvz8/PlSmMiIro4aZdUxtzhEMNDBktc11ffJQfCIuBt+90WJQSWdup+2BcCt/9xG9xHW8b1Dl4yCR8MiHxsGCtEBa2ykYCMlbF/PvH4ZMUUEdHYcO2pl9tFuXbXwVvdIX8u5geM52Gs5plFMBSmK1t9xMF2Dqkdewx8iSjlNTQ0YP/+/ejoiDztJl7D2oSTJ0+qqnuFSZMmIS8vT9kiIqKLYZlfGnOHYyT46u1yBU/3K0fkELjpkXVo/N6raP/tZvgaWHGZjIxlmcpniclQmqVq6SAEPcnTazro9MqnPrsONqJ3azW61xyF/Tnpvdifd6LtN5uk36O1aP7JBnSvPwE/ez0SURLo+PMOue//WUFxoLjNMa4PAGtNelgXlasOursONiEgvQ7Q2GLgS0Qpb8uWLTh69KhqWNvChQsxY8aMUR/WJgzUv3fatGkoKSlRtoiI6GKIHQ7L7OKYVb7mKQUwVebIVZ1yZecwiQC464UDaBL9gR9dC+fuOlZdUlz4mkWwoGzEmQhvRUVbrIuoeBd9tLtePoyOv+9Gy89fR+ODr6Lxe6+E+2SLftniFGhRKf/wWjnsbZGHK66VW6h0vXCQE92JKKGJlk7drx5VPVcZcm3QxDhAN56IwDcUo++8r9bOs6HGGANfIkppnZ2d2L59u2pYm9FoxJIlSzBhwgRlZXTF6t8rfoaysjJkZiZ2pRERUTIwVeXFrIos/PIqFH39GhR/Y3X48q3rUHx3+JJ72yXIvnU+0q+cDPO0QuizLMrfujCxMyOqFRu//xqcu+sjQt9QMKh8RjR0olo9VoDgq7PH/eCCCHrbn9whPc5fDQ84jHmRviaHuq+hWe5ruQ6tv3oDnU/vQdd/DsmDEJ07auE+3CwHxP62XnnAYtDhRe/WM2j9zSb4O1jlS0SJy3OsFd7GyLN6xFBQy5zihG4RFA+WWbEPuDsPiMFtygaNCQa+RJTSdu3ahUOHDsHrjTylRFTWzpo1C+npo3MKcH8ejweNjY3s30tENIoGGnSVdeNsZN+64Nyl8AtXofCL4UvRXatQ9OWrUfiVq1H0tWtQ9I3VKLzrajkIFiGwdV4pDEUZyndSE31/e147Kodd/UPfQLdb/hhNJ+0cEl2IoSxL2kdW7yWPRUsHMaCo5dF1cq/KjqdjX+wvHIDj9ZNw7W2QhyUOdbih90w7QgEeJCGixCUOXEVX96YtKIN5ekHMg83jiXlWUczQ23OiNe4HKSkSA18iSlkiaN26dSuqq6uVlTARsF5xxRVxGdYmNDU1oaurS9nqI/r3FhRIbxKIiGhMiF6pojLYtnQCsm6ajbyPL0Phl8JBcP8QWITCWTfPgaE4dvjbHRX6BkS1Yox9HF2Wddyf+hlvga7Y4XsiEy1KEoGo7hUtGvr3rBwN1gVlQ6quT1VBt1++zb01nXKA3rMxfOndVi1XRot1URlNqUEcGOmR7ufuDScuePE1diPki2xNR/ElDmxFB762lVOgy+RzlyHfBn2BuogqHPgqGzQmGPgSUcoSg9JEdW90ZW1paSnmzp2L3NxcZWV0icC5ra1N2epTWVkZt5+BiCjVeWo6EN0rLlz1O7S9DRG2iSBYhMAZ105H7gcWo0BUA395ldwSIl3awYtVzXM29PXWd8HfFPm6c5Y+xxqzcpNGj7e2U1VhpDEakrIiS4TX8fypNTpNzNN0L5bGYoChIB3GSbnyoEXbiirkf+pyFH7+Kuk+GZ9nO4mQV0z5b31sMxofFD2PX0Xjd6WLaJHR7yKvSZcm6TotP90oD5HksLvk1fXvQ+f6W4s+1he6NIn7/4FX0PHXXXLPbPZFjS+f9LruPq6+3cXBqpF8jkxmxjL1sFF/m0P1+kvxpbtXonxORJRSXnjhBbz22mtwOKQXm36uvfZaXH/99cjJyVFWRtcbb7yB119/Hd3dkX2fxM+wdOlSGAzSjicREQ1L22Ob4T3TqWyFmSfnIffDS6DRDa/GQaPXQp9vg2VOCUyV2Qj2euE51qLKkj2n2uU2DyFPED3r1ad/5n10qTxAbrTDxt5Np+F487RqR0tULg/3tkg2jd99BQhE3g7pKyYj49pp0o564t4WrT/biJA3sqJPVFFlvWNe3AIGccDEfagZvqZu+TE/GPq8NJinFsAyuwTW+WWwLZkA2xVVyLh6KjKumYp06WPm1dOQsWqKfPAk+8Y5yunA4y808TX3oP33W9Hx1A50vXgADuk5Q0y2dx9qkvs1n714z3TIa+LSu6MGvbvC/ZDdx1vhb+yWn5O0Fr6XTBb+Fgdq7/wnul46LA+16n9fD3Rx7W+QK73l+1167REV8aYJo/9aQmHd/zkk3V+HIl7TxQGs4m9eC1167HZS44392b3yGQr9ifdN4qD5eHvfkUh4yxNRShLD2vbt26calCZ69i5atAglJSXKyugSbSVEpXF7e7uyEiZ+DtHD12LhaUBERCPB19Kjqn7UZY78jljakgkoumslMm+aEzN4a//zTthfOqjuSarTyO0juIM+9vT5aQl/Pxgr1GFOoMcd92qp7PcuQMk3rkXubZci54OLB7wUfHY5SsQwxG9ei6KvXoMi0RJF9Me+cyUKv7RSrpLP/9QVyP3QJch6x1xkrJ4O27KJ0OVYlX9pfBGVvS0/2YCWn22E481Tcgg4WMFuD5y76+SwuOmRdWh6eG34ABMr6ZKC60CjHN5fzP3lOd2OrhcOoPEHa9C97jjv8zgRrTdCUQdwLbOLYciTXktIZqzIll6zlA2Ftzb+g0YpEgNfIkpJBw8elFspBAKR1TEzZ87E5MmTYTKZlJXRJfr3ip/D6Yw87a6qqkoe2EZERCNDVEFFn24ZDs2UjRFknlEkh762KyerQjlR4evaU6fayTGWZkFfYFO2iM5PDqUTgKjQFYFu0Z0rpcf81QNezoa6IhgWrVCsi8phmpoPQ0mmfOBlPFR4iYpd3wDtXKL1rDmGjqe2D3nAXTRfvR1tIvj9wRp0/mu/KpSixKNNNw77YKRzWzVaf70JoaizF2h0uPbUQxN1U2dKz3NgO4dzxHuc6BkF/lZxIIu30Vhi4EtEKUkEvnV10g53P2JY28KFC1FRUaGsjL5jx47JoW+0qVOnyhW+REQ0fCI0ERVz0QylmapAdqTIoe+XV0kfC1U7OUGnerCS6PU3Wj8L0WgzlGXBWD7wRTfOh661/W4Lmr4neu2+gvY/boO3QT2st7/WxzYh0DsyA9jEQaberWfQ/Mg6dP59N0PfBGeZWYyMa2fANHF4czx6t5yWK4XZz3d0+Tuc8MQ4oGy7YhL791LCY+BLRClHtHM4fPgwOjoip0oXFhZi9uzZcR2UduTIETQ2NipbYUajEdOnT5d/HiIiGj6vtDMWaxbaaPfLFe0dxMApbZpRWRmY7ZIK7hwSpSBxunfzj9ah/Yltcj9e0Wah5Ufr4W/vVa4RSVQCi5YM0WcBiDMAMm+YJbe9yPnQYvlSeNcq5N4W3s66aTYs80oGfE5zH25C86Pr0PUcK30TmXi9yLt9GYq+vhrF37oOxaIVSoxL0ddWo+AzVyDnfYtink0SdHjRveZoRF9ZGnmuvfXyQZX+dDYTzFPyeRCXEh4DXyJKOQO1c5g1axYqKyvlSt94EEPazpw5g66uyCoPUdkrfg727yUiGhne2k5VeCKICt/R3h/LvHEWbMvPX+kjhr6lXTGJp38SpaDOp3dHtHIQbRban9qBtse3qHt5S+T2MzHOSMh+x1yIwYrhi9Iq44uilUZ4u/DLV6P4a6vl7bQllTHDJs/JNjlw7t1yJuZzIiUG69wSZL9zHgq/cJV0Hw9w+dJVKPiScv9/5WrYrqpS3efOPfUxD3bSyHFsUA9gNZRnQ2uLT3tAouFg4EtEKWegdg5z5sxBWVmZsjL6RDuH2tpaVfAs2jmwupeIaOR4TrTFzDZiDb4aaVqTXu5bGjpPmGuZUxquBiKilBPs8ai6VIqKQNHmwRFjmFowqlrwrPQrJ4cHQYn2GcpFa9bDUBr+3DKzSO6PLHoli+A3//bLoLWqzy4Qlb4t/7dhwApjSg6i77U+2wrjhBxYZ5dAl2ZSvZwFOpwM9kdZ16tHVIGvbdkEnrFDSYGBLxGllPO1c5g2bRqysrKUldF39OhRVTsHQfwcJSUlyhYREQ2XmHquidrp1WWYYSzLVLZGl23pBBiLMpQttYxrpwGG+JxdQkTxlXXLPOiL1b//YmBRy883IuDwKivnpzHplc/OTxxksq2oQsGXrkLeJ5ZBazUoX+nTs/EkOp7aydP9U0TPmyfh2HRa1apDVJpyJtboEZX7nlPtiO7fm75yCs/YoaTAwJeIUsr52jmUlpYqW6NP/PunT59Ge3u7shKWnp6OiRMnIjMzPiEEEdF44NxVq9oRNk2OX389bYZZrsyLVfEj2jmIcIbVQESpSVTditYLRjEkMopjSzV6t1WPShWmId+G/M9cIff8jQ6fRIVx6+Nb2NohBYj7UrQICdpdykqY6CObdeMsuRKYRodrX73qvYUu2wrrfA5hpeTAZwciSimJ0s7BbrejoaEBTqdTWQmrqqqSq3vj1UeYiCjVeWs64atTT8QXAWw8K59MVXkxdwDFJHbLjELuHBKlKFFxm/P+RciWLtHhmwjrup7fH7OX70gQoW/BZ5fLZxlEP8eIXsLN/7cBwV6fskLJqHdXHZybz6iCx7TLJ8J22US+towiMVxRE3W8xDytAPr8NGWLKLEx8CWilCGGpIm+uYnQzqGmpkb1cwhiWFt+Pvs4EhGNlHB1rzpMSVtcLr3Tjd9b3ehTPs8SO+RiKjsRpS4R+uZ96BIYYrR26Fl/AkHn6IWuosdvwR1XQp+jHgYst3Z4ejdbOyQx+7/2wR9V3au1GOTKbtG6iEaPc4f67CHLnNhn8xAlIga+RJQyTp48ifr6elU7h7HomXvq1Cm0trYqW33Ky8uRk5OjbBER0XD1SjtksaaUpy2bGNedMm91R8xTp9NEBRZ3DolSnghe01dNVf2+e+vscB+T3hOOYmsF25VVyPnA4pgVxq2/fAOeU23KCiUb0bs3usrUuqCM1b2jLNDpgutgo+r3Vtz2Id7ulCQY+BJRyhgoZJ06dapc5RtPoo9wW1vkm2ur1SpX+LJ/LxHRyHHtrlNV4BgrsmEsj99ZHYK3ujNmnpN2aSU0caw0ptQgBnhFZwreGvuAleSUGLJunhOzp6o4EyHWgamRIiqM8z+xDGlLKlUhoOdkG1p+9SYwSm0laHSJ1hzRv/dZN86GLp3VvaPJub8B/o7I1nyCbckEVvhS0uC7TyJKGQOFrJMnT0Zubq6yMvpE396mpiY4HA5lJay4uFhu58D+vUREI8d9Ql05Jypw4tm/19/WK+2Ud8Ws4DMUqU/xJroQU0W2Kh8UlaJwR57FRIklbWEZtGaDstXHNUDrmZF0trVDrBYynf/Yg97ddTGfoyjBxagm9bc6ePBnlPVuPq1qhSJ69RtiDGckSlQMfIkoJXg8HjQ3NydEyCr694rAN7q1REVFRVyDZyKiVCcGtgW7PcpWH/OU/Lie6ura34CAQ/1zGArSERrNsj5KWcaqvJhVZN5aUUnOx1Si0maY5TMMop9/eke5wvcs0doh64ZZ0g8S+e+L58m2324eteFxNHqM5erHU8fTe+A52srnglHUs+GE6uwhW5xbRRENFwNfIkoJnZ2d6OrqUoWsopVDRkZ8q6tiVRoLop0DA18iopEjTlWOtcNrmpwX1wrf3h01qkogsWUoyZD207lzSENnnlIQ86BF784aVT9PSizWReozDLx10nvUqMFbo0G0dij43HLoc6zKSp+uVw7DfaSFIWGSsS2vUoWM4sBP+x+3IdDeq6zQSHMfaY6oiNfotci4fobqYApRImPgS0Qpobe3V67yjSaqe+Md+NbW1qK9vV3ZChMVxmVlZcjOzlZWiIhouDw1nTGr5iyzS+LaN7d3e42qEkjQF6bHDO2ILsQ8qyjmQQvnTtGzmlWaicy6sEwV0InhaeL5Kh5hq3lGEbLfOU/VS1hU+Xb8dZfq4BQltpz3LIChRN1GwP78fnT+Yx/vz1ESdPmUz8JMUwtgWzaBr+mUVBj4ElFK6O7uhsulrpwQFbVpaWnK1ugTFcaipYOoOO4vKytLbi9hsViUFSIiGq5AqyOiAuesePbYEyGO+4B6krcgTsXlvuHYES0/NDFSU1EFmegM+TaYKnOUrT6uQ00xD3JQ4jBNjl2d7TnRFrf7Lu/jy6DLVr/ntD9/AIEYg6gocVlmFyP73QtUAb6vpQdtj2+WK1FZtT3ycj+wGHrpeVjQF9hQ8OnLoU03ydtEyYKBLxGlBNFCIbp/r2AwGKDXx2/HTlT2trS0wOv1Kith5eXlyMlR77gREdHFEzu8sXZ0Yw1NGi2OzafhH+C0WvPU2MEPxYfrYGPMathwj1VlI4FZxPDBqEpR94kWBr4JbqCWMp4YAyZHixgulfU2dS9fX70d9hcPsio0yeR+cHH4+SDq9US0NerZdJptXkZB4ReuQvHXV6PkW9eh5JvXIuvmuXE9c4hoJPARS0Q0gk6dOiUHvtEmTZqEggJpx5+IiEaMt9auClDiHeb1rDkWs52DYCzLTIpgMVWFK6+VjX7i3fLjYpkn5yO6B7Q4Ld/X1K1sUSIS1dm6TLOy1Scc+CobcZDzoUugsxqVrT7tj2+Bn1W+SUW8ruXfvgy6DPXjquulwwO+BtHFM5RlIffDl6LgC1ch54OXQJum/l0iSnQMfImIRtCxY8fQ3NysbPWpqqpi4EtENMJCXr/0Z2QgJoesceI53Y7ezadV1XJnt0wDDN6i+Ohed1wVhIjAxCjtyCcD05TYlaK++i7VgQ5KLKKdS/TvvvukaOkQv/vNPLMIlrklqp/DdbgJ9hcOsMo3yWSsnobM66arqradW8/Aub2GzwlEpMLAl4hohIihccePH0dra6uyEiYGtVVWViI9PV1ZISKiVODcVgN/i7qdkGAosMEQx/CZIrn2N8At97uNDEEss4ugMSd+D19Bn2eLecDA19It/W8x3Elkpsn5qrDeWxt7yORoEb2qc2+7FBqd+jHU8dR2BHoj249RYtNlWpD7kSWqSlMxXKz9D1sRCvA5gYgiMfAlIhohdXV18iW6f+/06dPlgW1ERJRaHFvOxDyVVsQr1lnF7Pc3RoJuP1p/sylmoJV5/SzV8KNEZShMR3RLByHcykTZoIQ0UDsOT3VHXCsxRUWodV6pusr3UDMcr59kVWiSsUj3pRjiFn1/dq89Dl9Dl7JFRBTGd6FERCPk6NGjaGxsVLb6TJkyBUVFRcoWERGlCucAPWIF6+JyVYUfxYfjjVPoevmw6pR1MWk98/oZqlOiE5XoIRmK8QALdLuVz5KLc089Ov+5D51P70HH33cP//L0bjjePJWQoeVA7TjEkK140maYkXf7Zaoq35DHj7bHNiHgYJVvMtGa9ci4ZprqOczf0Sv/LrCXLxH1x8CXiGgEBAIBHDlyBE1NTcpKmNFolAPfvDzpjT8REaUUX504RTv2DrZ1YTk0SRIsppKA3YW2376JQKdLWemT+75FMIihfklCnJKfKpy76tD8wzVoUi7ND68dmcsP1shDqxIt9BUVvtFVmIK3plP6UeP7s4oqX/O0AlXFsWNLNbpfPYpQMKisUDLIvG4GDLlWZatPr+jjy/uSiPph4EtENALsdjtOnDghf+yvvLwcZWVlMJlMygoREaWCQKdTDhdj0Zj0sMxSn3ZLo8/+z31wbD6jCgDFlPucD12SNO0cUo39X/vkcNFztEWuch2Ry4k29LxxSm7fgQTrXyoPBozx6y9+7niH06LKN/s9CxGKOgAlqnxbf74RPevZ2iGZmKbmx3x9EX3L2eqFiPrjOx4iSgkiUNXrx64SpqamBh0dHcpWn2nTprF/LxFRHIn+rfFwvj6q1tnFcvsAii9RPdn62GaEnD5lpU/uhy+VQ18aG54zonetsjHCPCdbEUywykYRsuoL1MN6fXEe3HZW9tvnwDQxR9nqI9psiErplp9uRPcrR+T7ydfUo3yVEpE4aGVdWKY6g8R9rAUhX0DZIiJi4EtEKSInJwdWq/r0Jo/HA59PveM30k6dOoXW1lZlq8+kSZNQUFCgbBER0UiSA5WoKrpwEDv6iUp44n7sfyd91RTpXXaM8j4aVa2/fhOe463S3RJ5v6QtrkDOuxeyuncMGctjV7yOBGNljqpdQSKwyG0dlA2F62BTXJ6fohlKs5D/P5dDm2ZUVvr0bj2Dph+tQ9MP1qDpe6+i6buvyAGwr6FbuQYlGjG8LfqxFXR4Y7ayIYoHX0uP6rVXl2GW/oz/8x314bseIkoJFoslZtsEMUQtus3CaKiurkZbW+QgDhFAV1ZWIjMzU1khIqKRFGsSvr/VAU91p7I1ejy19pi5jVhKWzaR/XtHia+5B17p/hXVvGcvQZcPjtdPysPAQoHISk/RXqPgjhUwFKurLSl+sm6ZB9uVk+VBdIaijJG5FGfIYb4IMhE1lCwRhAe3Rf5c3jq79HiNz1kI0XLeNR9ZN86OeTAq2O2Bc3cdOp/Zg/andqDp0bVo+fnrqt8nSgwm0ZNZq45yfI3dY3JAgSjWwfbwgT6+FxpLDHyJKCVkZGTAZrNBG/Xm5/Dhw3JvXVHpO1rE925ubobD4VBWwkQrh/z8fOh0OmWFiIhGknl2MUIx9iW6Xz486kFF0OGJWbCoz7LAMquIOzkjSPSmFEFU08Nr0fTdV9H4vVfQKD4ql6YHX5GrE/0dTuVv9Ml62yykr5zC+2OMpS0qR9GXV6H4G6tRJF3Ex+FfrkXR165B5vUzY4ZfY80sPQ/EOvAjDlKMRdGbaDNR8LnlyLppzgUPSIkAuP3P2xOuNzKFGYozpYeQ+r7xNnWpqiyJ4iHkFQeyIp9XdJmiwpfGEgNfIkoJIlitqqqSg9/+RG/dF198Efv27Ru10LezsxNdXV0IBCL7ZhUWFqp+HiIiGjmij6HOoj5F2f7cvlE/tTW8c6Mmqg7HunWAxqyPmSd5qtW95hOZCMZafvE6mh5aE+4z+qN1aH9yu1zJ2/n07nOXll++Acem0+rqoopsOeDSWA3KCo2ltEsrkfOehcj9wGLkjMTl/YvkMF+jT8xdWtPkgpgHGtwHmxAao57D5hlFKLprJXJvuxTGCeqevv3ps6zR+Q0lCF2M1hyCqPDV8E6jMSBaOkQ/8vT56rZbFF8MfIkoZcydOxfl5eXKVp9169bht7/9LdauXYumpib4/SN7Kt1AbSOKiorYzoGIaBQZ8m2wLpae96NCFdehZrT9bkvMis+R4j3dEbOSyt/pRMvPXof9hQPyKdKBUfwZBiKCzlgFrZ6TbapQNFGJsLfpodfQ/Mg6dL10CO7jrUMeyKcxaOFvd3J/k8aEabJo6aBs9OM+0TomFb5nidC38EtXyRXSubddAuv8Umgt6oMiOe9dGLP9AyUu8XrDCl+KN/Ha7KsTba6iDrqWZ6ven1F86e6VKJ8TESU10dJBVPSKAWper1dZlV6EgkGcPHlSXhetF8RwNZfLBb1eD7PZrGoDMVQ7d+7Ehg0b0N7erqyErV69GpdddpncX5iIiEaHqPDtevGA9GTfb0cjEJQnlgfsLsAfgC43LWagcbFEGNn86Lrw948iBue4DzTCfbARrr0N0qUe/vZeBJxeaI36mEOTRlwghPY/bY+8TSTWuSVIu6QyKXbARIuGjid2yP15L1bQ6YPnVDsCHb3QmAwwFIpqo+Ta+Wx+ZK3qtHrbZRNhu2IS+0QnOFGF2fbYJvlx2F/I7ZPW+t6nnpXzngUwiarbODxGxTAly8wiWOcUwzytEOZZ0sfJ+bDMLoKpMkfu9Zv9vkXQZ6sHIlNiiPXcYF06Ael8bqA4855uR+tvNqvec2S/az7SFpQx9B1DDHyJKGWkpaXJg9Lq6urkqtvoFgtiqNqePXuwfft2HDt2TL6eCIBFdW5vr7QzKL0YGY3GIQfAmzZtwubNm9HT06OsSE+uOh2uv/56LFiwQA6WiYhodBiLM9C7rUYehtSfCFRc+xvhOd4qV4d6z3Qg0N4rPUFr5T67F0tUsoiw17H+xIDVsiFvIDw87lQ7nHvq4TrUBJcSAPsau+QAGP4QtGmmUTkdXWvSo+23m1VtJ0TIk3nj7IQPA0TP3oZ7XkKwVx2KDUkgCF+99Bq/uzZ8/0vfT5dpSaoQi4FvchP9xL31XcpWWHQAfFY8A9+zxHOCqSoPaZdUwDKvVG67YV1cgay3zoI+L025FiUa95FmtP9hW+yAbT4DNoqv7lePovulQ6rHY/6nroj7cxpFYuBLRClF9M0VFbUi8BUBb3ToK4hevvX19di1a5cc/h44cABHjhyRq4BFCCwqgJ1Opxz8DiYA/s9//oNt27bB5+t7A5+Tk4O3ve1tmDFjhrJCRESjQWPSQ59rg2PzaQR7onq1i8CvqRsuEbrua5ADYNE/Uw5hpW330Ra49zXKvW39zT3Sx054oy7O7TVw7qyVryf+Ttd/D6HjyR0xK/QGEuhyyd8r/DNI/+4B6WfYWy/9+83wNXcj5PJDazaMWBWyuE26/31I+n/vOxApiAA17/ZlY95j+ELsz+1H13+kncfo00MrsuUKZdvl4bDT1xw5LHUgIU9ADt9d0n3vPdMuB6jGihxoDIk/VJWBb3ITv/OitctgWjiMReDbn6hIFgGwaJWTqH2RxzvxnO54/SRaf7MJHun1K/pxVXTnKuhLMuQiFqJ4af3Nm/L7q/6PR/E+pPhrq+XnFBo7mhCbvBBRihHB66uvvoo///nP2L17t1y9O1iiQri0tBSTJk3CxIkT5YvYFkFybm6uPIStf8Vud3c37r77bjz//PPKStj8+fPx1a9+FcuWLVNWiIhotAQ9fnT8eac81Cu6mm4g2gwT9BnhSl+xQyIm2Mfib3PIVb1nd5/PbkcT1XD+tsG/3ghih8hYniX3uROnUVsXlcM8JR+i4k6XM7wqVFEh2/rLNxAKRA6Hmrbhf2GeVZTQgUDN/z6Djr/siqgWEvdR6XdvgHlqAXzNPWj6wWtwHWhShcLieoFut7IVm+hhmnnddGS9ax7M0wsT+rbYW3y3XDHeX+GdK1H01WsSPrgnoP2Jbai76zmE/Bce0lb1j48h/crJYxb4UmITVb2tv3ozfBBBukQ/94nXjsn/+RT0w3ztIBoK8X7o6PIfywdV+7PMLsbU1z6bFAdWUxkrfIko5Yh2ChMmTEBJSYkczop+vg6HY1DD2kRY3NHRIVf77tix41wF8PHjx+W1EydOoLq6Wr6cOXNGrux944035Krg/pYsWYKVK1fKlb5ERDS6RDWaeWYRtDaTHPb5BhH6iqpPcV1xEe0XxMCRWBcxBCeoXE9cYgU3ovK08M5V8g63aBkh4hpx3QsKBOXvL9oNRLR+2N8ot30I+YJygKkxDn2HKegNoPNf+yJCU8FQlA7b0gkJXR3a/sR2eMXOY78fXZdhQtkP3y4PnuuQvt67+Ywq8BABev4nL4Ptkorw/dUee2CeCO1F1aWYaK+1GGGuEsO1EvP2YIVvkpPuO3EwKvr3MJaxrvClxCXOEGl88L+w/2OvfNZKLPn/cznSr5rM5wWKK/FaKg5EqNqLvH0u0q+eysfjGGPgS0QpSYS+FRUVmDNnDsrLy+XgVVTnipMaxMC2WK0eYhHtH1paWnD06FE5/BXD2US/3rNBr+jfK9pDRH+/VatWydW9oq8wERGNvrOhr3lCLvQF6Qh5/Ah0xQ5oR5K+wCaHvXkfvlSu0DVNzkfaglKYxM+RmyZXjwYdHoSiQrtY5NYPSvjrPtwE96EmOeAU7SbEgLhAj1vuQTuY0611mWbY/7JL1Xoi2OtB7gcWJ3R1qGij0Rt1Grx8+0n3paj8dbx+ShX2CrnvWYCCz18F24rJMFVkQ5tugr/FId/+KoEgPMda4TnVhpDbD8vM4oSsRGLgm9xEmwRxAGMwLWAY+NJARDuaxgdfUZ2xcVb68ioUfuEq+TWHKJ6aH3pNqThXFhSFd62CeXLiHkwdLxj4ElFKE4HrlClTcOmll2LWrFlyCCzaM2RlZcn9eUXVr6jqHUp3GxECd3V1nRv2Fh325uXl4aabbsLcuXM5sI2IKI5EEGqszEHawjIYJ+bIk+cNBemAXiNX6Y50+Ju2uAL5H1uKnPctgsaol/vwitYM4lRGq/QzWKR/3zKnBKYpBTCUZECfbpZ+hsCghpGJgNdzWhn6dkAMfKuHc0et3DbCUJguB7/nI4Imx+YzqkpZf6cLmW+dCb3o05mgO2Li/9ux7nhkxVAgKN8WvtrI4XxnZd0wSw7eRWCmNevl1g/WOdL9X54NrXTfeGs6Y97//qYe+RRpEaabpftJl25SvpIYGPgmN7mfdozBbbEw8KWBeKXnvc6/745ZKZ7z/sXI/5/LYJlbwscOxZVzRw2aHlqjOqAlXkuL7loFrdWorNBYYeBLROOCwWBAQUGBXPG7dOlSOfydPHnyuR694msiHBbBr2gBEQxefCiwevVqOfAV35OIiOJPhCxnJ8+LHq0ieBXhrwhiDcUZ0BemQ2s2QmczyZWwGrMhZggr99gtzZTD1bMXQ2EGLAvKkLFqKvI+vASZb5sVc6dGhL+Gogz537cuLIdlTjGs0g65ZV4JTKVZ0GVbpH1zLYJ2l/I3BiDaPnQ65R1+z/FWuepXBJeDCfxEVWz3y1GTs6Xvl+htHcTPZX9mr6p3rfjZYxFhb8GdK+UK7/4htmiHIW5z89R8+T4Pdnvk/r/RxM6qCJNFO45EC1IZ+CY/99FWefBjrKr0/hj40kDE7/rZ1wBxAE+8dqUtmYCsG2cj/3PLYZ3DsJfiSxyUbrzvZXkQbXR1b+7HliCD7RwSAoe2EdG4J6p1Gxsb5b68p0+fRk1NDerq6uS15uZmuf/vYAJgUTE8e/ZsfOYzn8Hy5cthMiVWlRAR0Xgnqny99Xa51YOvxYGQxyevi2BR9PGNflesNemgyxOVsMqCRGsyQF+aCVN5ttzO4WKISeve2g65WlWcCinaOIiqVre0My9aUVyIcUIOZmz50gVbEPik/6djy38if+wvbekETP7XJxJ2mIoYwlf98T+j+79HEDpP71MRyGfdMBsFdyyHeXZxRNgbTXxPx8YTsP9rP+zPH4h5ir2hLBMztt8lVwQnArFDfWDGgxzaluTsz+9H9e1/veAZBhzaRucjzvToXnNMPoCnTTPKBzAtM4ugyzr/2R5Eo6H5x+vR/Og61cFyMdNg4l8+DMv0QmWFxhIDXyKiKE6nUw5+xYA28VGEv21tbeju7kZ7e7vcA1hcR1zEzmV6ejqKioowc+ZM3HzzzXL7CIuFb76IiOjCRPjsreuUWw649jXCub8B3hOt8JxoG7DdkKhcnvzCJwcV2J76wJ/Q80pkcKrNMGHmtrvktg6JqnfrGdR/89/hytsYt4OomM64Zhqy371QruAdLNETuf3JHeh8Zg98DZGn2dsunySHbsMNwj3VnfLBBBFIny+EFre/1mJQtvqIqeeib7PjzVOo/eKzqqCw7Ac3I++jS6Q7ksFgMvDV23Fo8cPqivUoDHyJKBl0/fsQ6r72vOo1VCj6ytVy/14ekEwMDHyJiC7gbAWwCH3FgDYR/Io18VGr1coD4UR7CNGzt7i4WB4YR0RENFRiuJjnVHu4d++uOvmjt7ZTbkMgAkDBPK0QRV9ehcybZ0MjvQZdSNtjm+XgVPQO7k8ExrZlExI6XOp+9Qi6XzoM5956ufewCH6Nldmwzi2V2xqISuWLqW4TFc9dLxxA5z/2ondrdfj7VmSj9IEbkPnWGcO6Tdp+t0XutRx0++S+zudjyEuDxqy+TsgTgL/NAdehJnlYU3TgPfnf/wPbkkoGg0nkyNJH5Qr+82HgS0SJTrRwqP38s8qgtsjXJjHXoPLX75HPQqLEwMCXiIiIiCjBBLpcctWvr6FbDv9EECwqOsUQuIxrp8uDyQZDBMfH3/orhHyRgW/p925E/ieWJXyVqKiOdB1qht/uhPhJjWVZMM8Y/mnMosWDc2s1utcdR9Dlkwf9Zd44O2bF7WCJ++v4Db+WfuYLD+i6WCKYnvraZzmNP8mISm1RWR5r6NZZDHwpGXirO+E+0iS/Nvlaes69thhKMpEpvTYZpOdoSk3iNa7+my/Kgyij2y2JFldlP3w7st42k89hCYSBLxERERFRghPVvyKcHerUa9G3eP+0B1Snk2fdNBuVv30fNPrxfdqluH1E+DsS7S3s/9qH6v/52wV7tQ5H8beuQ8EdK3i6bJLpfHo3aj73zHkfGwx8KZH1vH4S7qMt8gBCz7EWeBu7Eehw9gW+RenS43cK8j6+FNaFZXwcpxhxplHTQ6+h/YntqgNXon2R6Cuff/tl0nuUiz9oSiOPgS8RERERUQo7euX/wX2wCf3f9ouAs/ALV8E8o3BIO+aid64+26psUX9d/z2C07c9AYxC4Ct2qDNXT0Pp92+CoThDWaVkIXpHH73iJwh6Bx7KyMCXElXXfw6h5VdvwHO8Ff6WyCGg0TKunoqiL18N6+JyPpZThOgr3/KTDWj52QYEneFht/2JnvLF37wWOr43SDgMfImIiIiIUljj915Fy4/WIxSIDCJF6GuuysNQdgbSFpSh6Our5SnxFEn0Bj7zsT+jd/MZVW/DiyWCXjGUTgyoy3r7XJhnFeF8g+AoMYkq8iOXPgJvnV1ZUWPgS4nq2DU/H3CAZiyi0rP0wbcBPBMhJbT+8k20/HwjfI3dykqfrBtmofi+62GakKusUCJh4EtERERElMKcu+tw6r1/gL+tV1m5eCKAnPLC/8C6sJTBVAyOjSfl21tUQflauiOqqqMFu9zw211yb+L+xG1sKMqA1myAoTwLpqo82C5yQB0ljlPv/B26NxzHQEdYGPhSotpbfLeqLdD5GCtzMPlfn5B7jlNy6/r3IdR97Xn4GtS96cUZP+U/eScsc0t4IDJBMfAlIiIiIkphorpQVPg2P7pOVeV7MSp/+W5kvWs+NAk+8G0sids80OY4b0FcQPQPli7Ru2NakwH6/DQ58B2J3sKUGOq/9jxaH98iPThiPygY+FKiOn7jb1RnLuhsJnlQmzjrwP7cftXjuvzHtyD3A4sTfjAoDUyEvU0Pr4Frf6OqulsMaSt/+O3IuH6G9F6AldyJioEvEREREVGKE+0Gmr7/mrRjvg+BTpeyenGqnv040ldUMZgiGoL2J7ah7q7nBhzcxsCXElXPhhNo/ukGIBCCVrSZmZIPY3m2fCaCaVoBTn/oCblPdX85H1yM8kfeDo1ep6xQMnHtb0Dt55+Fc19DzLC36AsrkXf7Mgb6CY6BLxERERHROOCrt6PrlSNwvH4KnjPt8FV3yi0FBkOXYZZbCqRdWonS790AfU6a8hUiGoye9cdx6r1/RMgX+9R4Br6UyBxbz8hVvCLwNU3MjRjQVf3Jv6Hzn3sjqnxtV0xC1TMfg8bAwDfZiLC36Qdr0P3yYYSiKrdFy6HCz1+FgjtWQGs1KKuUqBj4EhERERGNI+7DTfDW2uGrs8PfJQLfCwdM2nQT9JkWWOeXwjQlX1klosESFZBHr/gJgl6/shKJgS8lq5afbkTDd/4L9GsZJPr4ztj6pTELfEVoGbC7YZ5dBH2/cJrO70Jhb95Hl6Lgc8thKM5QVimRMfAlIiIiIiIiGkWir/P+CfcOOPyKgS8lq94tZ3Di7Y9FVK9rLQbMOvxN6NJNykr8iN6z7X/ZiaDdBfOMQuR9bClM0wukXy3+bp1Pz2vH0PaHLej+7xFV2Cvkvn8Rir5xLcPeJMLuykRERERERESjSJwKry9IV7aIUodlZpFc/dlf0OWD53S7aijlaDs7aExUqDo2n0bb77ag+Ufr5P7DNDBxuzX+cA26Xo4d9mbdMAv5n1vBsDfJMPAlIiIiIiIiGmWWyfmD6aBClFS0GWbo823KVh/nzhpo4piz9rx+Ug57XfsbIwaN2V88iECnU9mi/oJuPzqe2oGmH74m3V+1qgFtggh7C+5cCdNUtnNKNgx8iYiIiIiIiEaZeXYxNFruglPqMYrKz6iWCZ5THTEDxNHgPt6K5ofXqsJewVCYDmh5pCWar7kHrf/P3n3A11XX7wN/clf23qtp0713KYUWaMsqe4MgQxBEQVFwofwE5S+ogKAMQUCGiMhepRRKW+jee6dpVrP3viv/+/nmhN6VNGmTm3uT5+3rSO7JaMa9J7nP+Zzn+9wqlDy+3Ov3TXSEvaET01iJEYD424aIiIiIiIioj4XPGYY2ZiY0ABmTIjym160VDfBFpYMEl2VPrUDDmlyvoWX8TbOgjwnVbpFoWHUYJY9+ibKnv4Y5r0rb64phb+Bj4EtERERERETUx8KmZSCIk4Y0ABkSIz1CQWtZA4L6uMNEKgkqX9mAmg93Om54hr2RC0Yh9uqpCNIz+hISjkuvccmfl6Hy9Y2w1TRrrzlG+phlobvk++Yz7A1wvNcTERERERER9TFjYgSCs+K0W0QDhyEpAu5xq6Wsvs8nfGve247K1zfA3mTR9hxjGhKL1J8vaK+bGOQkGK/7cj9KH/0SpY9/hYbVh71OQ8vPMVHC3p9xsncgYOBLRERERERE5AOm7HhO+dKAY0iSCV/thsZW3tCnHb61n+5B6d+/hrWkXtvjSqocQqdleHQLDzbNO4+i9Inlaqq34vWNsHTy/ZKAPPmes5B411wYGZIPCAx8iYiIiIiIiHwgeEisxyQkUaBTC6O5VzrUNMPeatNu9S4VYj7+FVoPlnudIg6dmIq4q6cN6ioHc341Kl5ai5I/LUP5s9+gaXNBpwF8xOnZSPnlQsTfOBPGFIa9AwUDXyIiIiIiIiIfMCRE8DJpGnCMKZHaS8e0WWywVjdpt3qPWqTtb1+jaefRTgPMxO/PgcHL5zQYSNBb+e9NKH7kC5Q8vhy1n+2Bvdmz8kJIhUPCraci5RcLEHfNVOhCjdpraCBg4EtERERERETkA4bkCPTxOlZEPieVDt7u17bS+l6tdehYpK12yR6vi7QJme6NOm/soKtOcQ56Zfq5+n9bYZXvvxeyMJtM9ab++myk3HsWIk7LHvTVFwMRA18iIiIiIiIiHzBlxjJYoQHHEBemveTK1tCqvdQ7GlYdRuW/vS/S1iHmkknQx4RqtwY+b0Gv7OtMyMgkJP3w9PYKh+/OhEHqOGhAYuBLRERERERE5ANBJoP2EtHAEWTUay/1HVtNM8qe/hqWYu9Tq0ImV6PPHzvgu3tl0ll6jKWjt7tBr9Q3xN8wAym/WqgWZouYM4wnnwY4Br5EREREREREROS3Kt/cjIY1uV1WRIRNSEXw8ATt1sDSmleNhm9yUP3ONpT8cSlKHv0SpY8vP27Qq48KQfSF41V9Q/K98xFz6UQYYrxPZNPAEtTmbUlDIiIiIiIiIupVEljlXP6SWtDK2fB3v4fIM0Zw4o4C1vbU36LN7Ha/fsdxvz7z5O/XEmgecjxuzLmV2h7vUn4+H8k/XxDwE74S7lryq9B6pAq22mbH1gJzYQ3MBdWwljfAnFOJ40V5atr57NGqqzf81GEIGZ/i+DHw+DKYMPAlIiIiIiIi8gEGvjRQ9WXge/T3S1D+9Ddos9m1Pd6NXPwDhM8aEnCPI6mraD1UrgLelv1l34a7lsLa9sC3rkV7y+OToDd85hBEzh2uFq9j0Dt4MfAlIiIiIiIi8gEGvjRQ9VXgK121h7/zKixH67Q93kl1wfgdv4IuMljb499aDpbBnFfdHvDmV6M1pxzmgppuTe96I0GvhLxhM4eoft6wqRnQhRq119JgxMCXiIiIiIiIyAcY+NJA1VeBb+HPP0TFK+sBe9fRVcScoRj+3m0+WUCup2SC11JeD2tJA1qPVB4LeAtr0XqoQk3xnihZjC18VhYiHFvYKY5tQhqCQrg4JDHwJSIiIiIiIvIJBr40UPVF4CvB6MELn4elqFbb07mku+Yi9f/O6/f+XnuLFeaCqm/DXUtpPWzlDbDIVubYtLqGk2EaEouQUUkIGZ2E4JGJapqX1Q3kjoEvERERERERkQ8w8KWBqi8C35I/L0PpY18dt7tXZP3jasRcMRlBOt8GvhLwth4sU/27ElBbSuphKXL8t6xRhbvW8nr1NidCahqMyZGOLQr6mFCYsmLbb2fEIGR4AoIdm+wn8oaBLxEREREREZEPMPClgaq3A1+ZjD104QtoPVyh7enaqC9/hNAp6Y5/yjePIekWbtyQh9Yj1TA7PkfVv1tYc1L1DEKmdyXYDRmdrF42JEbA6Nj00aEwZcSoCgei7mDgS0REREREROQDnQW+Iz+9A+GnZDHwpYBkbzBj58jf92rgW/mv9Sj81cdos7p+TFmczVbXot06ZsL+38KQEK7d6hsSQkvQ27y9CI1bCtG8tVDtOxny9XQEvMFD49TUrikzxvHfRIa7dFIY+BIRERERERH5QGtOBQ7Mfxq2hlZtT3vgM2bVPTCmR2t7iAJL846jOHDOsx4nMsZ88xOEjEvRbnWfLHJ26PIXHR+3GHCKrKTiIGrBKNQt2Ys2t0XcJhc/jCBT7y/YJp9L66FyNKzPQ8uBcrTsLUHz7mK0nURNQ/CQOBizYlXAGzIyUVU0tAe9sdBxwTXqJQx8iYiIiIiIiHzA3mpF6Z+WofbzvWhrtqjwJ/bySUj62Vn9vtgU0Ykq+9tKFD+81KVrV7pmx66/F7rIYG1P99Uu3oMjt7yBNqtrd2/k/FEIn56B0idWePT69mbg29HL27K/DI0b89GaU46mLUU9rmvo6OBt796NgjHFsSVHwJge0x7yZsZyipf6DANfIiIiIiIiIh+R1fob1x1BW4sFumAjwudlwxATpr2WKLBYimqRe/1raN5VDOd4KWxaBkYu/gGCjD0PYY/c/AZqP93tMcWb/ebNaNpW6HUht/F774cxKVK71XMyySs9vC37S9XEskzjq+1QhcvX1RUJb00pUTBlxcEoXbwpkdAnRCA4MwaGxEjVx6uPDtHemqhvMfAlIiIiIiIiIqIeK39uNYp+txhwC2CT7jkTqfef3ePJdXN+NQ4sfAbWykZtT7vQiakY+ckPULN4Nwrufsdj+jf9jxcibEq6mqI9XmewpbQO9mYr7LXNsNY0qx5eW3mDWnTtRELe8FlZKuRV9QyO2zK9K1O8hphQ7a2IfI+BLxERERERERER9UjT5nzk/+Q9tO4rcwlITanRyH7vVoSMStT2dF/lqxtQ+IuPPBZrS//DBUj8wWlo2VeK/fOf9ugLlg5cY0Y0jImRxw18rRUNqoNXFn+z1jbD5rgtNQ7dJVUN8rVJ0Bs6MQ1hUzNUyMuAl/wJA18iIiIiIiIiIuq25p1HVW9v3bIDLguriaR7zkDq/eecUC/14WtfQf2yg2izH5vglYUNRy37EYKzE2Cva0HOlS+jcUuhx7/b10JGJiF0chpCJ6WpgFkFvcknXiNB1JcY+BIRERERERER0XFZSurRtCkfVf/dgjpZfNCtZ1emXoc8c6UKZ3tKenT3nvI4rBWudQ6RZ41E9n9vRpChPUCufnsb8u9626PWoS90VDaEjklG6LhUBI9LVtUNRP6OgS8REREREREREXWq/pscWEvr0bDqMJq2FqJ5d4nHhK0s0JZ45+mIvXwSQkYlqeqDnmhYfRg5V7zsUdeQ9odFSPrB6YCuvapBpnwL7/8YNR/ugr3JrPb1JtOQWPX5h4xOQvDIRDXJGzIiEUEhPft6iPoTA18iIiIiIiIiIvJKFjHLv/d9Ffiau1jQTALfsGmZMMSFImxWFuKunAJjWrT22uMrf2ENin77qccCcKO+/BFCp6QjyKmbVxZXk0nf2i/2wXKkSi2+diJkglcfHQpjSiSCh8bDkByJkOEJqrJBNj17eSlAMfAlIqJBq7y8HBUVFbBarYiKikJSUhJCQ/lHHRERERFRB+nqLfvbSrS5BbFdMcSHI/3RixBz6UQE6brX5Xv0gU9R/vwal39HpoQn7PuN6vF1J5O+DeuPwFJQoxZfM+dXdxpGuwseEuf44EEwJoZDFxkCY1JE+8JriZHQcZKXBgAGvkRENCgdOHAAS5Yswd69e9Ha2orExERccMEFmDlzJkNfIiIiIiKN1CzUrzzU40XSUn4+H8k/X9DtxduO3PIGaj/Z7dILbMqMwdiN96np4eOxFNV0+1M0ZcRoLxENTD1fMpGIiGgAWLx4MV5++WV89tln+Oqrr/DWW2/h3XffRWFhofYWRERERER0oowZsWqKtrukPsE9r7W3WGFvtmi3umZMj1FBbnc2ooGOgS8REQ1KxcXFqKmp0W6127dvn9pPRERERETtos8dA2N697t4gzNjEXvNVESeNQJB2kJr3WFKj3Hp6RXW8gbUfrrHZeqXiI6PlQ5ERDQo/fKXv1RTvc6ys7Px29/+FvPnz9f2EBERERENbtaqJtQt3Yem7UVoa7Z825OrM+gRFGaETrYQk9onjGlRCJ85BMHZCdqe7pF/4/B3X3f8g65dwSFjU5By71mIOnes+reI6PgY+BIR0aDEwJeIiIiIqPusFQ2wN1u1W0CQPgi6MBN0oUa1uNrJkkXYcq58GY1bCj36giX0jTxzhAqSI+cNhz42THsNEXnDSgciIiIiIiIiIuqSISFCLaLWsRnTolXvbm+EvUIXFYKE78+BPvzYtHCHlr0lKH9uFUr+8hWK/99SVL21Ba25ldpricgdA18iIiIiIiIiIup30hccd/10oJPuXwl+K/61HqWPL0fJI1+g8tUNDH6JvGDgS0RERERERERE/U6mfJN+NBcJN85SdRGdac2pQPW721HC4JfIKwa+RERERERERETkF4zpMUj+2ZlIvvcshE3JAIK8T/sKS1ENg18iLxj4EhERERERERGR35DQN/HO05HyqwVIunsewqakq8XhOuMe/Jb9/WvULd2H1iNV2lsQDS5BbQ7ay0RERIPGL3/5S7z11lvarXbZ2dn47W9/i/nz52t7iIiIiIioP9nrWtCw/giad5WgYVUOGtfnwd5s0V7rnS4qGCHDExE8PAHGjBgYkyOhCzEiqItpYXe66BCETUqDaWictococDDwJSKiQYmBLxERERFR4LC3WtG8rRCNa/PQsCEPjeuPwFbTrL22a4bECOiCDdqt7tFHhSBkbDLSH7kIhvhwbS9RYGClAxERERERERER+TUJbMNPGYqEO09Dys/nI/U35yDmkoldVj10sJY3wFxY06OteU+Jqolo+DoHbXa79pGIAgMDXyIiIiIiIiIiCggS/IZNzUDC92ar4Df5vvmIuXgCDLFh2lv0rua9JQCvjacAw8CXiIiIiIiIiIgCTsjYlPbF3X6xACn3n424a6YhdHJat6Z+uys4Kw7oQfcvkT9g4EtERERERERERAFJJn4l+JWJ3+R7z0Lqr85Gyv3nIP7GWYg8YwTCZ2XBlBUL05D2rTMdr3feYq+cgojTsxGkY+BLgYWLthER0aDERduIiIiIiAYuS1ENWgtq0NZihbWiAdDiL3NRrdeKBmN6tMcgb9iUDASPTNRuEQUOBr5ERDQoMfAlIiIiIiKigYiVDkREREREREREREQDBANfIiIiIiIiIiIiogGCgS8RERERERERERHRAMHAl4iISNPU1ASz2azdIiIiIiIiIgo8DHyJiIg0lZWVaGxs1G4RERERERERBR4Gvn2orbkFtqMlsOUVwF5eCVgs2muIiKi/mUwmGAwG7VY7i+M4bbVatVtEREREREREgYeBbx9pM5vR+uVK1N55H6ouvA71v/l/MG/ahraWVu0tiIioP8XGxiI8PFy7dYzUOrS28lhNREREREREgYmBbx+xbt+FpmdfgnnVetiOlqL53Y9R/8Cjaj8REfW/qKgohIaGareOqaqqQkNDg3aLiIiIiIiIKLAw8O0DUuXQ9J93Ydm5V9vTzrJzD2zFpdotIiLqTzExMQgLC9NuHVNTU6OmfImIiIiIiIgCUVCbg/Yy9QbHt7N16XI0PPKUCnid6UcMQ9SfH0TwGXO0PRSo5HJvWdhJFnhqaWlRt2Ui0Ln7U14v/aDBwcHQ6/WIjIxERkYGEhISPHpDicj3li9fjieeeAI7d+7U9rRbtGgRfvzjH2PMmDHaHiIiIiIiIqLAwcC3l9krKlH/uz+h5cPP1KRvhyC9HiHXXIrwn9wBw4hh2l4KFBLolpWVobi4GKWlpepluey7sLAQ9fX1ahpQpgKdez9ra2vVolByybjRaER8fLwKkCZMmIBp06YhMzOTwS9RP9qyZQv+/Oc/Y926ddqednPmzMG9996L6dOna3uIiIiIiIiIAgcD397k+FY2//d9NPz1Odhyjmg72+mzMhH58P0IOedMgCFfQJDwVkLd3NxcHDx4EAcOHMChQ4dw+PBhtd9ms2lv2TOJiYlYsGABLrnkEkyaNMnrolFE1PdycnLw8MMPq0lfZ6NHj8ZvfvMbzJs3T9tDREREREREFDjY4duL7GUVqs7Blleo7dEYDAi56FyYpkxk2BsAJMiVUPfDDz/E888/ryYA//SnP+GNN97A+vXrUV5efsJhr5D3f/fdd/H0009jzZo1qvqBiHyvs0Xb5DEpVS1EREREREREgYiBby9pM5vR/NYHMG/cBjj1uArDqOEIPudM6NKStT3kz3bt2oWXX34Zjz32GF555RVs27at1xdwslgsWL16tfr40h/q3P1LRL4h0/bSre1OJvh5IoaIiIiIiIgCFQPfXmLdtRetS5bBXlyi7WkXFBqCkKsuhmHcaG0P+TOpcfj000/VdK/09PaELMwmq/4nJSW5bNLdK12+3mzYsAEffPABCgoKtD1E5EsS+IaEhGi32skJHrPZrN0iIiIiIiIiCizs8O0FMt3b8OhTaH7tf7BX12h7HYKCEHLOWQj/9U9gnDhO20n+LC8vD7///e+xbNkybY+nsLAwNRmYkJCgwqK4uLhvF2breNmZTO9KeLx7927s3btXLfLmTD7W/fffj4suuoiLuBH5mNS2vPjii6pqxZl0+N5www1eKx+IiIiIiIiI/BkD315g2bId9b99BOb1m7U97XQJcYh86FcIueR8NelL/k+6e//4xz/iq6++gt1u1/a2h7wZGRnIysrC0KFDMXz4cGRmZqrp3fT0dK+XhTuTCoetW7eqHuAVK1agtrZWe0277373u7j99tvVxyQi35GwV7aSEterM+644w7cdttt6oQMERERERERUSBhpcNJkunelk+WwnogR9ujCQpC8NlnwjhjCsPeACKBq6zML8GuTqdTQe8pp5yC66+/HnfddZeaxL3vvvtw7bXX4rTTTsOYMWOOG/YKmf6dNWsWbr31VkydOtVjknfdunUqbCYi35IaFnmcu5N6FzlRQ0RERERERBRoGPieJOnutazb7Frl4KCLj0XwwjNgGMqJzUAiwez555+vpm0vv/xyfOc738HPf/5zFfJefPHFGDZsGIKDg7W37rlJkybh1FNPRWxsrLanXVFRkbqk3HmqmIj6XnR0tNfAt7q6mgu3ERERERERUUBi4HsS2mw2tCz+stPpXsOEsQA7WQOOXMJ93XXX4YEHHsC9996LGTNmnFTI6278+PGqHsKZLBIlPb/yXyLyHZm2D3Ics91J2MuF24iIiIiIiCgQMfA9CfbCYli37eZ07wAlk399sWCTdADLgm/uqqqq0NDQoN0iIl+Qx3l4eLh26xiZtufEPREREREREQUiBr4nqq0NLR9/Dsu+g9qOY1TYy+le6kRcXJzXgKmmpoYTvkQ+1tmJHXk8stKBiIiIiIiIAhED3xNkr6yCec0G2ItdV3aXBdpMZ57G6V7qlPSFequIkICpublZu0VE/YknYIiIiIiIiChQMfA9EW1taP1iJayHDms7jjHNPRWGMSM53UtEREREREREREQ+x8D3BNiqqtH65UrY8gq1Pe2CTCYEnzcfhhHZ2h4iIvJnMm0vC7cRERERERERDRQMfE+AZfV6WKW712rV9rQzTByrpnul1oGIiPxfZ53a/qytth72iiq0tZq1PURERERERETHMPDtKccTbPPy1bDlFWg72sl0b8gFZ8Mwari2h4iI/F1nndr+yC5Xl6xYjcaX30Djsy+j5eMlsJeWa68lIiIiIiIiasfAt4daN2+DZc8+tDW3aHvaGcaNgumU6dDFxmh7iIiIeoe9rAIt732C+j88hsa//B2NTz2PxkefQuvK1Whr4mKPREREREREdAwD3x5os9lgXr0B9vwibY8mKAimObOgH5Kp7SAiIuodEvY2v/sxGp9/FdZtu76tcrDm5sOydpPj9ZzyJSIiIiIiomMY+PaA/WgprBu2wOZ48u1MpnqNp82CLi1Z20NERHTy2hqb0LpkGZpf/S9sh/O0vcfIIqLyNkREREREREQdGPh2l9WK1hWrPLp7hen0U2DI4nQvERH1LsvGrWj+34ewegl7dXGxMMpCoTHR2h4iIiIiIiIiBr7dZt2fg5a3P4I154i2p11QaAhMZ82FfugQbQ8REdHJsxUUoeXdj2Hdsdtxw6btbWcYmY3Q669E8MXnQZ+SpO0lIiIiIiIiYuDbLbJAW/M7H8G6Z7+25xjTaafAOGW8Cn6JiIh6RasZLR8tQevKNbC7VTboM9MRetO1CL/rNhjHj3Hs0GuvGXikrkK6iuXqGi5OR0RERERE1D0MfLvB/M1amJevgr26RtvTLig8DKaFZ8AwLEvbQ0REdPIsew+g9cuVsBUVa3vaye+dkEsXIeSi86BLiNP2njwJVqWfvq2+AbDbtb39Sxark9C76akX0OjY5GV7KReoIyIiIiIiOh4Gvsch070tn30J66HD2p52QXo9gs85C8FzZyMoMkLbS0REdJJazWhdusLrVSXGmVMRfOE50GekantOjgS95vWb0fTqW2h69mU0vvAazN+sg72uXnuL/iGfV8snS9HwxLNoet3xub36XzQ+9jRaV67mpC8REREREdFxMPA9DsvaTbBu362CX2e6jDSEXH4hDCOGaXuIiGigsFqtaGtr0275luVgDszrNsFeUaXtaadLSkDIxefDOG60tuck2Wwwr16Pxr88jcZHn0Tj3/+Jhj/+FQ2PPgXLmg39Gqxatu5E8/8+gM1psTqpdpDfyfYyTvkSERERERF1hYHvcVi274KtuFS71U6me0MuPAemKRMBg0HbS3RyoqKiEBLCLmgif1BbW4umJtfuXF+xrFoP28Ec7dYxwfPnwjRnJoLCQrU9J8eyfTeaXnkT5jUbXHqCzRu2oPm9T2HLL9T2+FZbXT1aFn8J676D2p5j5PexvaZOu0VERERERETeMPDtQpvNpqoc7FVu3b1JCTDNOxW6tGRtD9HJS0xMVKEvEflWWFgYTCaTdqudBL4VFRVobW3V9viGWqRs937Y3LpqZbrXNH8uDNm90xlvKyhC0+v/g3nNRrS1mrW9x5jXboQ154h2y4ccv3dbv14Ly9oN7X3Cbuw1NY7vUaN2i4iIiIiIiLxh4NsFuZy2TcJeq1Xb084wagR0CfHaLaKesdlssPvJokhEBKSmpiImJka7dUxxcTFqalxP+PU1a04urEVHVfDpzHTKdBjHjAT0em3PSWg1qwXQzMu+9hqqCvvREtgKj3oNg/uSZd9BNL/9Iaz7D2l7XLVV17LDl4ioj+wracKLq4tx77uHcNOr+zy2u946iEeW5OGZlUV4a3MZthc2oL7F9fcVERER+QcGvl2QnkB7g+eTYcPIbOjiY7VbRD0jAVIjJ9SI/EZaWhpiYz2P6Xl5eaisrNRu+YZ1zwEVtrrQ62GcOhH6IenajpNj3roTrZ8tg62oWNvjXVtlFez1vlu8zXrwMJpf/x8s6zf7PGgmIhrsNhypw+8+OYL7PzysQt93tpZ5bK+tK8FjXxbiQcfb3fP2IVzyj12Y89gWXPb8LjzyeR5W5dQyACYiIvITDHy7IIvFuNc5CF1iPILCw7RbRD0jgW9zMyfUiPzFkCFDEB/vedVGfn6+zwNfu+qordVutdPFRkOflYmgyEhtz4mTKofmt96HZddebU/n2iwWBNl8czWChL1NL/0bLR8shr288++59PtywpeIqPcdLGvG1sJ6lDdYUNdiQ5PZ7rHVt9pQ1WRBRaMFJXVm5FW1YE9xE5bsrsJjXxTiupf24Ny/b1eh8ca8epit/bP4KRERETHw7ZpcUmv3/ENFn5YCXdTJP/EmIqL+l5WV5TXwPXr0qM8rHVTY6xZo6pKTEBR98v3e0g8sgWpXVQ4urFbVZd/Xuhv2CltZBWwlZZwAJiLqZRZbm9p6yt7WhharXQXBhTWtKuh9duVRXPnP3Tjrya2qHuKD7RU4WuvbTnwiIqLBjoFvF6yFxWqayF1QaAhgMGi3iIgokEVHRyM5ORkhIY5ju5P+WLhNAl97Y5N2q50uLha6iHDt1omRsLf1y6/R8v6nx61y6GDv675cmw3mzdvR9OzL3Qp7O9gdn7+9qlq7RUREvSEx0oiEcKN268RZ7W2obbEiv6oFG47Uq3qIH755AAuf2q56gBfvqmTtAxH5JTkxtTGvTp2kkq7yzjapt5GTWzyWkb9j4NuV1ha0WS3aDY0EvUFB2g0iIhoI0tPTERcXp906pqqqCg1eutz7hEytWtx+5zgEhYcCwSbtVs91hL2Nz7wEy6592t5jjFMmQD8kQ7t1jL26Bm1NruFzb5HPyfzNOjQ+8Sxa3v3Ya9hrGDNSXVHjTi0m51Z7QUREJ2dOdjTunJeGRePjkB4drO09ORL+Sj1EcZ0Z+0ub8c6WMnz/jf244ZW9Kvhl5QMR9Sc5BklwKzU0cx/finmPb8OVL+xRJ6mkq7yz7efv5TjebreqsHliWSGKangFA/knBr49JE8+g1jnQEQ0oMiibWFhnt3sUunQ1EehpztbZbUKQnuTXKXS+sWK9rB32872qiIn+sx0hN56A4zTJ2t7nEh/r5dao5NlL6tA6+Iv0fDY0zAvX+Ux0SyL1EnYG3b7jTDNnuFxRY0tvxD2Ct92KxMRDXQxoXpcPT0JL94wBl/fOwX7f3dKp9vGX07HW7eOw4MXDMVlkxO6FRBL9UOTxY6jtWYs3VOFe9/NwfOrijghR0Q+J8cdmeK9+sXdqn5GamjW5dYhp6IZ+dUt6iSVdJV3tpU1WNTbSVj8xyV5KgCWl4n8DQPfHmKdAxHRwBMeHu5R6SBk0bbGxkbtVt9qa2pEW4vnhID09waFhmq3uk8t0Pb2R2h86gWvYa8uKQEh11yK4HlzoIuL8fjdZq+pQVsvf+223Dw0/+ddNDz5D5g3bPXs4tXrYZwxBeE//B5CLjgH+nGj1aJ1zmy5+bAVFquOYSIi6h1BQUGICNYjNdqE7IRQjErufJuWGYGLJyXgnvkZePa6UfjyJ5NVAHzT7JRuhb/S+XuwvFmFLB/vrND2EhH1LZnolasL5CoDmeL9fE+Vqp+RGhq5IqGn5H0qGy34cHsFXl5TjNyKFu01RP6BgS8REQ16UVFRXgPflpYWWLzULPiSPjmxZwuFtpph2boTTf98HY1PPQ/Ljt0eYW9QeBhCLjwXYddcBn1GqteeYHteIWyl5Y4X7NqeE6cqHNZvRtM/XkHjP1+Ddd9Bj89JaiuMs6Yh/Ee3IuSyC6BLiINhxDDokhK1N2gnPccWx/vbK9njS0TUH3S6IIQYdYgONSAlyoTRyaEqAP7L5cPx6Y8m4rWbxuD7p6ViTHIYgg3en27a7G04VN6MxbuqsK/EN1fSENHgtb2wAT995yDueuuguspApnjl5FNvkKsX5OTVsv3825T8CwNfIiIa9BISEhAZ6RmqSqWDryZ8e4P9aAlaPl2KxseeQdNrb3ldoE3C3uCF8xB6w5XQZ2epfVLtoIuPVS93sJVVqOBYhb4nymaD9Ug+Wt79BI2PPInmN9+DvaRMe+UxUpUUvPAMRPz0TgSfdTqCwtonmg0jh6vA25110zZYc/O0W0RE1J9kOlgC4MQIIyamhePKaUn44yXZWHL3JCy5axLuPzcLk9MjPMJfmY5bc7gW64/UaXuIiHqXTPW+tbkMP/zvAby+vhR5Va29FvQ6K6mzYFNePft8ya8w8CUiokHPYDBAp/P8lejLDt/OSM1D23HqC9QE7aZtaHr5DdT/6W9o+WIF2uo9F5tTNQ4Xn4fwu74P44Sx2l7H1z9pPHQZadqtY8xfrmzv2a3reS+ZdPW2ON6/6dmXVV9v6zfrPPt6HeRzCr10ESLu+xGCz5zzbdgr9JlpKvQNCnedPrbs3APLmo2wV1Zpe4iIyB/I9G+oUYeECCOy4kJw+vBo3Hd2Bt7+/jjcfWY6okJc64MKqltR6NiIiHpbRYMFj31ZgF9oHbv1rTbVJ+5NdkKIqqV54ooRqqJm1b1TvXaY7/jNTHUVw1zHsc2ZXLVwuKIZRypZ60D+g4EvERENejExMV4Xbauvr0dzc7N2q28FBQcDRs+OeKku8BbedpCuXpmgbXj0b2h88d+wHcpVk7Xu9MOGIPQ7VyLiZz+Ecdok1ZfbwZCdBf2IYYD01DuxHshB8+v/Q8t/34d1x+72gLWL8Lmtth62nCMwL/sajS+82j7V+++3vU4af7s423evRvjd34dx0niXz0nINLJx9nToszK0Pe0k4G7+YDFav/z6hMJoIiLyDYM+CLFhRoxIDMVlUxIxe5jr1TQy5ZtX1cKpOCLqVVIV89uPcvHYF/korDHDYvMMeuWqg7kjYvDMNSPx/u0T8JfLhuO201JVRc3sYVFeO8wnpIWpqxjmDI/SPsoxUhNRXOu2PgVRP2LgS+RD5eXl2L59O8rKPC9plkWjTCaTdouIfCk6OlrVOrg/BuUxKwu3WX2wQFh7j26EdusYWTitzez5x2NbXT3Mazei8flX1QStefk33oNh6cadMRXhd96C8O9/99saB2eq03f+PBhHDtf2HGPesAUNf30O9X/+Oxqf+xeaXnoDTa+86XVrfP4VtSBb3e/+pCZ7LTv3ei7M5iD/nmnubBX0ht1+k9fPqYNx+iQYJ4xBkOPrcGbdvQ/Njn+z9bNlapq4N7qGiYiob0jtQ0qU0bF5LuomQYy3MIaI6ETINO/vPsnFfzaVorrZ6nWqd2xKGB69NBuv3DgGN85OwYS0cCRGGhEZolcVNXpdkPaWruRYJlcxjEgM81iksrHVhiYz/x4l/6F/0EF7mdyY12yAZcsOtDUdm+6SRWSkZ9CQlantIepaa2srjhw5gs2bN2PJkiV4//33cfDgQdicJvBksvCiiy7C5MmTvV5WTkR9b+/evdizZ49HhcOUKVMwfvx4r4u69aYgkxHmr75RdQVw+sNUFx3VXmsQGQE4fh/JlK11z360LvkKzf96E+alyztdwEyXmozg+fMQfsfNCDl/IXSxMdprPOkdb2srK4ftwGG0uU01y0StTA5b1m1C67Kv0er4N71t5tXrYd25F/aKSq9TxkL6goMdn0v4D25Wfb26KM+Q25lasM5igXXvAcfHda1wkMlh25EC2KtroAsJhi4m2vF95IkzIiJ/VNtsw9cHa7Ct0PXkpHT/ThsSiSFxfft7logGNunr/XxPFR75PA9f7qtGo5fwVWplrp2RhIcuHIbzxsUhOdKoJn0lyO2JHUWN+CanFjXNx4ZCYsIMOGNkDKZkdv23LZGvMPDtAgNfOlk5OTlYtmyZCnnffvttrFixAiUlJS5hrxg1ahQWLVqErKzOp9yIqG/l5eVhx44dqK52DU+HDRuGiRMnqingvmbevB223fvQ1nrs0laZ5G1zfE6qKmHjVlhWrUfL+4vR8uFnal+bxaK9pROZ6p00DmHXXoaw710P09QJHhOy7iRw1sfHqs5gW+FRl999vUEWZjNNm4zQ6y5H2C3fgXHcKAQZXCscOiPBtYTaEjq7h9H28gpYNu+ALb8Q+pQkFVwHGY3aa4nI33U8Qf/F+4fx4Ke5eHplEd7fVoH9pU1otdpVHUCYqXvHCvJvzRYbVuXUYXO+axWPBL1yWfXQeAa+RHRi5HfJm5tK8fBnediS34BmLwuzyVTvzxdm4q4z0jE6OQyhpp4HvR3kxNXKgzUege+ZDHzJjzDw7QIDXzoZhYWFeP311/Gvf/0LW7ZsUYs/uQe9omO698wzz0RkpGuvGRH5jjxG5bFaXOzaNxsVFaWm79PSPBc1621t1bWqBsFeXqntcbBYYMvNh2Xzdlg2bYNl+y4VyMJLzYOQCdqQc85C2G03IOTic1UAim5eOSALqOmHOn6/2dtgLy5FW0Ojy7TxCQk2wTBqOEIuOrf9czp3PnTxsdoruycoJAR6x+9fe30D7EXFHqGv1DnY8gqgcxxPjRPHqklfIvJ/0tv65FeFePTzfGwraEBpvQWVjVYUOvZvK2jEkj1VeH97BQ6UNSE8WK/CX5nEosAkwb1cav31oVptTzsJeiUkYeBLRCeivsWGf28owV+XFaruXrOXihhZZO2BRUNx+dREJEQYOq1s6K5vcmqwdG81mi3HgmUGvuRv+BcTUR9Zv369muitqKjQ9niSgHf+/Pm48MILfRImEVHnkpKSVLjrrrS0VC3e5gvSV2uYPN5j8bTuUL24p0xH2B03IeLXP0Xw2Wci6AROIkk4G3b7dxH2w+/BJJULaSmOnZ6LyR2PdBIbp05E6FWXIuK+HyHip3fCdOpMBIWFam/RM4bxY1QHccjlF0CXnKjtdaWmoZu4OjJRIJBprLe3lOP5b44ir6oVLU7TWNLnWttixdFas7ps9sXVxbjupT246sXdeGZlEXIr+DgPRBKwGE4yZCEiclbRYMFTywvwh8V56soQWQjSmZwkXDQ+Dv93wVCcOy5OdfSe6FSvs5omq8t0r5B/K9jAYxz5Dwa+PSUTVZ30EhI5k8vCGxsbtVueDAYD5s2bh9tvvx3jxo3T9hJRf0lMTPQ6ZS8nbXwV+OrT0xB66SIYp006bgXDt/R66IcPRehVlyD81/cg7KZroc9I1V55YuTzCL/lOkT+5qeIuOs2hF5/JYLPX6ACZeOUCWrTj8yGYeyob2+rbcYUBM+fi5ArLkLY7Tci4hd3I/KBexHi+JrkCpmTpULfH9yCsJuvg3Gi47jpFIxL4K0bMazH08NE1D+2FtTji73VKHc8Wfe2oE4Hm+PJe12LTU39rjhQgwc/PYLLXtiFu946iFU5tSo4JiKiwUfC3ue+LsIzK4+qE4Tewt7rZiTh0cuGY+6IaLUYW2+Rf0p+PzmTPvKkSK4lQf6DlQ5d8FbpYK+pVZfKypNcoq5ISLR79261yn+blycyer0ep556Kk4//XSfdIMSUddkUbaNGzeqhduc61dk4cW5c+eqhdt6YyLgeAyZ6dDFxQAtrbA3NKKtuUVVFriTgNM4egSC585GyNWXIOy7V8M4fnTv9ddKkJyS1B7inj4bxlnTYJwy0fHfqTCddgpMUyc5/u1TYTrztPbbji143hyELFqIkMsWqQXZDCOzT3iitzNS1yDBr/o+ycfW69TCbsFnOP7tyy+EYfhQxxvxfDaRv/tkVyX+u6kM9a3dH6SQJ9eyAro8yd9T3Igv9lbhUHkzMmKCkRLFJ9mdkVA8v6pVTaSFmxzH9n6cspXOyxWOzRkrHYiop6QS6OkVhXhhVTHK6j1PHCaEG3HH3DT8bEEmRiaFwuj4e7E3eTuWZSeG4qxRsTyWkd9g4NsF84YtsGzdqVYndxZ84Tkwjhut3ep/bTYbgixWtLW0AI7/ypPfID7Z7Xcdl4bLlK+s+m82m12CX7vdjrKyMhX2ymJtoaG9G4oQUc/t3LlTBb7Nbh2x06dPV5P4JpMPAgW9HoaRw1VYqk9JVpUKhiHpqsZAAljD6BEwTpuM4DNOU5O0sgha8OwZalG0viILuuliY6AfkgHDiGFqM04YA8PYkd/eVtuwLPV5qpC3D38PSaevVE8Yp06C0fFfw7RJCLn0ArUQnHz/iMi/SQApge/ne6tdasLlCfqEtAgEG4NQ3eR6qawzeR/paKxttmFvSRNWH65FiEGHsSnh/Rpm+qPthQ3445I8tZDRGxtL1ar1snBRfy2Ex8CXiE6W9PT+aWkBXllbgirH7wpvYe+d89Lw47PS1QnB3v69IJ3Bn++twtrcOm1POx7LyN8w8O2CLIqjJnyrXFdslykieZIbdAKdhr1Jgl7pK7QdyHF8ntthXrMR1gOH20NfB5nyCjL27+c4mIWHh2P48OFqhX/pBpXQV2oenCcH5TJxCX2lvzczMxNGrixP1K8k7N2xY4dHhcOECRMwadIk9bj2FVlArWO61jRnJkzTJ8N4ygyEnDdfTdCqq03GjIQuMmLQTrTKlLM+O0udhJXOYE72EgWG4lozPt1Vic35rsfauSOj8dvzh+KnCzJx3rg4xIYZUNFo6TT8laf4EvyW11uwv7QZUaF6jGPo+60NR+rwp6X5eG9rBUrq2hfEk4nouHAjJqVH9Mv3iYEvEZ0oOVn4+Z4q/OGzPCzeXanqflyj3mNh74/OTEdypMnxp2HvH+dkonjJ7ipsLWzQ9rQ7LTsaF09OUMdYIn/AZ0Zd0CUmQOd4MunOuv8Q7BVV2q1+YrXCtj8HjX97AdU3/AA1t9yN+vsfRt3Pfouq869GzU13oeXjJY7Ps9LrpcDkGzK9K5eC33XXXfjBD36gLgmX7l5ne/fuxTvvvKP+K1O/RNR/YmNjERbmedyvq6vzmPr1FRVqZqTBOH0KguedCsPEcdDFx3GSlYgCVkmdGSW1Zu3WMcmRwRieGKKCv/mjY/DgBUPx/u0T8Mw1I7HAcTsqxPsgg/Q2ymI972wpV93A1B6MrDxYiy/3VavaDJmAk026kKU7eU9J5+tMEBH5G6nyeX5VEX794WEs31+jpmzdZSeE4JfnDlFhb1KEsc+q2Lwt2CaMei5MSf6FgW8XDFkZ7T2Kbqz7DsJeVqHd6gdWK8w79qD+/x5F4zMvw15cqr3iGMvWHaj76W/R9MJrsJWUaXupv8jk7tlnn43rrrsO2dnZ0LlNoa1atQrvv/8+ioqKtD1E1B9kgle6fN1JF7evFm4jIhropIe30ez5ZD0zNhhDYtuPwSaDDvGOJ+wT0sJx4+wUvHbzOLx92zh8/7RUpEcHq7dxJqHvpvx6j4mrwUqCb1nkTmovnEkPcn5VCwqrW7U9RET+LbeiBX/+okDVOOwpbkKL1XNISqpqfn1uFm4/PbVPw15RWm9WU77uEhz/rizcRuQvGPh2QS9dhEMygRDXPyotO/fCVljk+Iup+4tM9CarTPY++hRav1mrwt/OtLW0ovGlN2Be9rVHDzH5noS+5557Li6//HJV4eDMYrFgyZIlaquq6ufpcaJBLDg42GMKn4iIepdMmrpfhivUdJRjcyaX40YE65EWbcKZo2Lwx0uy8eatY1XwK5fuOitvsKDc8UR8sJPp3q8P1WJtbq1Ht6Woauq8JoOIyJ9IX+8jn+fjhW+OqjogObnnbu7waDzi+N1w7YwkdSVIXy+yLCfN8hybs2CDTtUQhZkYsZH/4L3xOIxjR0GfmKDdatdWUwvLxm2wl5Zre3xHVmtvfucj1S3cVdjbQT7X1iXLYM3N0/ZQf5KKh4svvhjz589XLzuTCcL33nsPK1asUJePE5HvxcXFea10kLoVVq4QEfUvmfqVCapTh0XjpwsycPGkePUku8PEtHBMTI/Qbg1e63JrVc+l+3RvB5lMK2MwPujIiQCZlNyYV4ejtZzwJv8nYe9jX+bjv5tLUdviuTibHP8vm5yA/3dJNs4dF6dODvY1qZbYUdSowmdnwxNDMcKx9XXYTNQTDHyPwzhtkupOdNe6fBWsBw/DZWlhHzCvWqf+bXu162IHQaEh0Ccnti/e43aQUZ3D5ZXaLepvMt176aWXYtq0aR4r/kuP71tvvYWtW7eitZV/iBH5WmhoqJrydVdTU4PGRvYdEpHvSUizeFclbnp1HxY9swP3vnsIG/MCu2KmqKZVbSdKpoBHJYXh9rlpuG5GEsYkh6kn/b+/cBjOGRunvdXgJAHJv9aWYM1h79O9QlVqtPbPlYrUP+Tx9v+W5KljyJUv7MEFz+zEP1cdVccXIn8kweqr60vwvy3lXvt65QqPu89Mx58uG45ThkYixOibaEsmew9XNHtMGg+LD0F2Qqh2i8g/MPA9Dgl8DRPGqEVznFn3HoB5yw7Ya3w3idlms8G8cjVsbtO6QXo9TGeehshH/w/B5y/0/Fxz89WkL/mPiRMnqknfESNGePT5btmyRfX55uVxKpvIX0jg29TEahwi8r2VB6vx+JcFeGdLGb7aX4MXVxfjua+LVLAXqCy2NrWdDL0uCFMzIvDny4djyd2T8Ox1o3D22NhBfTltxzTcu9vK0Wzp/KqUzio1+pqENnUtrJLoD6tzavHu1nIcKGtGfnULdh5txIc7KrnIIfktuUpB7rPewt4pjmP/XxzH/l+fOwTDE0LU1R++Imuy6dwG7GTSWK4wGZXMwJf8CwPfbgheMA/67KHarWNaP1kK6559PpvybSsph/XAYbQ1uE6Z6dJSEHrdFQhZtNDxeQ5BkFvnMPkf6fOVWgcJfb31+S5fvlxVO9TWMqgnIiIazHYdbcLmggY0WexotdpR53jyKxNG0lc72MmTfFkgJysuBClRJp9NePmjVTm1avX6zqbh/IGsai+r25PvFVS3quNGx9S3LN4nt2U/kb/ZcKQOb20uUxUk7haOicWjl2bj6ulJiAs3qp53XxqXGo7LpyaoReI6yMnGy6cmItIHlRJEPcHAtxtMM6fCMGIY4LaQj2XbTpg3bPXZlK95x27YSsq0W8eYzjodhvGj1ecnU8AeAbR83uyS8Tsdfb7nnHOO6g11JkHvF198gQMHDmh7iMgXZME296l7IqL+VN9i9Qjw5EpSCWyI5JJ8CUZ+/l6Omojz17BXyH2Wd9v+IRUeUuXhzNs+ov4mx7Cle6vVSSz32oRZWZH40RnpagHP/rqaQ6Z5L5+SiNdvHotnrhmJF28YjccuH47J6eHs7yW/w2e13RAUE43gc86CYdgQbc8xvpzytRcUoa3WLVx2HFSMk8ZBn5ykbrZVVqOtqVm93EGfkYqg6CjtFvkTme696qqrMHv2bISEhGh72+3evRvbtm3jAm5EPhQTE4PIyEiP0Ff6tmUyn4jI1+QvzM66WGlwk47Lv60owAMf52Jzfr3XGgcJJ2Sjwc3bcYTHFvJHS/dW4e0t5R6LTkpn75XTEtXibP19TJPF4aRW4sbZKbhuRjJGJob6tFaCqLt4r+ymkHPOhGHCWO9Tvms3eSyi1hdshUWwu3XxBkWEq7BXFm1Dqxn2iiq0Nbte+qBLSIAuPFy7Rf5m7NixuPzyyzF8+HBtTzvpC/3mm29w+PBhbQ8R9TWZvJ80aRKSk5O1Pe1h74QJE5CSkqLtISIi6l+yCNeTXxXgiS8LcbiixWsnskzD3X56KqZk+PfzgPZQmpNxviYBWmIkT2aTf+i4WuHRpfnYW9LocTLirNExuGBCAkL9pLpHeuQl+JVJY1/XShB1FwPfbupqyrf5v+/Bsn4L2ix926VmO1rq0d9rGJKBoOhI9bJl+07H25Sol53psxxvE8MJX382Z84cTJs2zWPKd/v27Th06BCsVvadEfnKwoULcf311+O8885TL1999dW48sorMWSI5/GfiIjI12Rxtt8vzsMzK4+itN7iUe8hAeqi8XF4+OJsnD8+HqEmz15JCYxl8wfSw5wUadJuka+ES1g1iHuvyX/I1QrPryrCw5/lYXthg8cJLJmmvWpqIkYlcVE0op7gEb4HZMrXOGWijHtpe9rZcvPR8sFiWHPytD19QAI/u+dlWrJgW1CUFvjuPYi2iir1sjPD6BHQJcZrt8gfhYWFYcaMGcjMzNT2tJMu39zcXNTU9P0EORG1k2D3e9/7Hh544AHcf//9+OUvf6lqV4KDuSAmEVFvkGlO1gycGAl7H/syH29uKlWLoLlPwUWFGHDzqSl49LLhmDcyutNpOAlUvE0F9weDLkhNy1HfkDBNNndSN8rOUepvckz7w2d5+NPSAvWy+3FJjmkXTIjHwrFxMOh5fyXqCf6l1QMy5Rty5cUwygJpbr8cWz75HOav16CtvkHb07ushcVoq/P82KrKQWomrFZYd+yBrdRtUbdgEwwjs6GLjdF2kL+aOXMmRo4c6dEdun//fpSUeE5uE1HfkZMw6enpyM7OVp2+RETUe2SaU6Y6qWcktHt1fQn+t6Xc6+Jscon+j89KxwPnZ2FcShhDdVJkYbZGs+f9JT06GBmxPJlN/afjBNYra0tQXGv2WKRNjmFXTE3AjbOTERPqeaUCEXWNfwX0kOn0UxzbbOhiorU97dpaWtH82lswr90I9EW1Q2sL2qydf1xLzhFYDx/x6O+ViWRd6rEuSvJfsoCbhEsRERHannb79u1j4EtEREQDhkxzclKr5z7fU4V3t3oPe8emhOHhi4fhZwsykBZt4sQsfaus3ozyes/nkUbHY1Cmq4n6Q0fYKyew6lo6v1rhvoWZGJ4Qyml0ohPAwLeHgkKCEXrNJTBOm4QgtwXcrHsPoOn1/8GyfXef9/l+S6dTBz/Lmg2w5RVqO48xOT5PfVqqdov83YgRI5CYmKjdaldaWoqjR4+itdU/etaIiIiIyLek1/KD7RXIrXAd7hCyONtDFw7D9bOSERtmZDBCLjqd8I0JRoZjI/I1uVrhv5vL1DHN2wksmT7/+dmZ6mqF0clhPIFFdIIY+J4Aw9jRCL7oXLUYmrvWxV+i8flXYd26E21NzdrevqNLiEeb2QzzqvWwFRVre9tJ3YNh8njokxO0PeTvZMI3Odl1IttiseDIkSOoqvLsZyYiIiKigU1Wr/9iXzW+2l/tccmzhL2/OGcILpwYr1aMJ3JXUN2CQrcF+uRS+XCTjpP25HNyPHtna7mqcahu8gx7ZYG2/3fJMNx9ZjqvViA6SQx8T1DoVZfAOH8ugtwuvxct732C2p89gOb3P20PYc1m7TW9TxcbDeuuvbDlHGlf2M2Jac4sGEePbO/4pYCQlZWFpKQkjx7fnJwclJW59TMTERER0YD3xb4qvL2lHDXNruGIdPZeOS0RiybEd7o4GxfIo6omC6oaXZ8nSod2UpTrQuREvrAut1ZV08hJCPcah4VjYvHopdm4aloSokMNvFqB6CTxt/8JkmqH8Juugen0WYDJ85el1DvU/+JB1N33O7R+sw726hrA5nkG62S1NTah5dMvYD10WNvTLkivh+nUmdBlpml7KBBER0cjIyPDo8dXAt/y8nLtFhERERENBlLl8Pr6UvVf93DkrNExuGBCQqdhr5DQJDqEwx+DlUxTltVbUNPsGvimRJnURuRLUt+wdG81VufUwuZ2tYJM9t52WirOHBWDMBNjKqLewEfSSZBqh7DvXQ/T7OkqAHYnC7m1Ll2Omtt/hsYn/wHL7n29XvPQunwVrFt2eCzWpstIg2HKBOhiY7Q9FCg66/GVCV+r2xQ3EREREQ1M0nP55qYyfLKzAq1Wu7a3XXZCCM4bF49RSaHaHu9kslMmPGlwkgXbSurMHuEaA1/qD2sP12L5gRo0W1yPZ9LZe/PsFFw0MYFXJBD1Ij6aTlLwgnmIfOA+BJ95OoLCvP/B1VZTi8anX0LtD3+Blg8/g62iErC7HuROlEwS28oqtFvtZLo35MJz2uscKOB01uNbUlKC+vp6bQ8RERHRwFJU06o2OtZzKYFvo9n1eYMEIpdOTsDFk+KP28Eqnb/uvb80eORVtSCv0nOhv5RoBr7kWzLdu/JQLbYUuD6flePZJZPjccXURE72EvUyPqJ6gXHaJET89qcIvnQRdCnJnXbmSjhb99s/oumF12E7UoA2S9+cbddlpsN01unQpbmGhhQYpMc3Pj5eu3XM0aNHUV1drd0iIiKinpInnPtKmtTmbWVw8o2M2GA10eXOYmtTGwFfH6rBmxvLvAbgskDbTbNTEB/OqgbqWnGtGcV1nuvJcMKXfE2me1ccqEGL23TvlIxwVU0jC7QRUe9i4NtLpN4h+i8PIfL/7oNx5lToYqIBvedKuWra9/FnUP/Ik7Du2iejm9prekdQeBhCr7kUhvFjtD0UaKTHNyEhASa3buiCggJUVVVpt4iIiKgnNhypw51vHsD5T+9Q2w2v7MWyfTyR2h8MuiAYjzOZOpjlVrTgf5vL1H3WW8/lNdMSMS4lnAsa0XHlV3tO+MrJlqy4EOgdj0MiX5ArFtbm1nmd7j1jZCzmDI+CjvdHol7HwLcXSY+vhK0x//wrwu++DYaxoxAUGqK91lXLe5+g8a/Pwbxpm0f/7gkzGBB83gKEXHI+9EkJ2k4KRElJSYiKitJutSsuLkZtba12i4iIiLpLnmzKQjHvby/HkaoWtS3dU4XPdlepnlTyD3Ut1kE/eS33VbmffrC9Ai1uvb0dPZcXTEw4bpUDkTyWZMLXvRJkaHyI2oh8ZWtBPdYfqfc63SuLtEWHeA7KEdHJY+DbB/SpyQi/5weI/uvDCL7wXOgkfPUy7dvy6Reof+BRtHy8BLbiUrSZPS+3Udra0NbUgjZLFwt2GQwwThyLsFuug2H0CG0nBSpZtM098JWwt6mpSbtFRERE3SULF0mXZZNT8CFhmixm5byPfCPK8eQ+KsSzjqCm2aq2weyTXRV4bV0pKhtdvw/suaSeypf+XsdmdzyXdJYabVIbkS/ISayvD9ViXa7n4NK0IZGYlhnBqxWI+gj/WuhD0u0b/eT/Q/g9d8AwYphjh1F7zTGWrTtQ99PfouEPj8H89VrYjuTDXlGlqh/sDY1oq6uH9XAeWj77Era8Au293Ghhb8T9P4Vp5lQVHLfVNcBeXQN7SRlshcUum+yzV1Sirb6h1yslqHd4m/Bl4EtERHRi1MJVXrphJQdxD0Oo78WEGhAT5hn4SnuBe4XBYLK9sAH/3VSGPSWNHvfLs8fGqt5e9lxSd6mrGbws2CZ1DrIR+YJM90p3b22z69UbY1PCMHd4DBIjPDMSIuodDHz7mNQ8hN9xMyJ+8zOYZkxRt921tbSi+a0PUHPTj1Bzy49R/7tH0fDk82hx7Gt87l+o/eF9aHr2ZdiLS7X3OCZIr4dhwhiE/+Ju9V/b0RJYvl6Hplf+g8bHn0PNj3/t+Jh3u2y1jn31f3gcTS+/gdZv1sGakwt7bZ3jL2wuXuIv4uLiEBYWpt06RgLf1lauXk1ERESBS7oavdU1Sr3GYK3YkK/73a3lkF5p94XrshNCcMmkBNXfy55L6q4Dpc04UNas3WqXEG5UdQ7hnBInH+iY7l2bW+txEmvW0Eicms3uXqK+xCO9j4RccDYif/8rBC+Yh6CIcG2vKwl+LTt2o/m/76Px7/9E3S8eRMOf/w7Lpu2d9vwGRUYg7KZrERQWhsa//RNVV9yMquvvQP1Df0Hjcy/DvOxrWLZsd9laHfua//026n//GKqv+h6qr7kNTc/9C5ade9HWyAlSfxAaGorgYM+TA7JoW0NDg3aLiIiIKDClxwSrTlpnja22QVmxIaHIRzsq8NbmctS4TcFJlcOlkxPUZnK8TNQdcgIht7LZoxM7S+vv5SX05AudTffKsX/2sGhkxno+3+1v8th5a3MZ7n33EP656iiKajhsRYGLfzX4kFQ8RP7pdwi5+hLokhMRZPC8lK2n7DW1aHn7I9Td/SsV2toO5wHWnnWf2XLz0fCXp1Fz20/Q/M7Hqu4BdvbZ9SeD476h03k+PM1ms+NHw58NERFRf5MnhXIJ/sa8OrXtK2ka9AuO9YRBFwSjwTV0Knd8T8sbOlnTYgD7+lANXltfisMVzR5TcBdOjFdVDvHhJ/+8gQaPg2XN2F/a5HF/GhrHBdvIN+T34Rf7qr1O954/IQ4XToiH3o+me+XEm/we//MX+fjFezl4cXUxfvNRLn7r2OR3PVEgYuDrY7KgW9Qf7kfEL34Mw+QJ0EVHeV3QrSfMazbAll+o3TpxEvzW3/8HNP7zddjLK7W91B9iYmK8VjoQERGRb8mTwNyKFnywvQIPfXoEN726D3Mf34pT/7IFl/xjF658YY/azn96B6Y/skm9Tt5G3lbeR8Lgo7WcEHKXEes54SvTvTLlO5hIkPDS6mKsz61TXdPOpMLhmmmJGJcSzolM6pF9pU3YX+pa5yBGp4RhVFKodouo76w9XIslu6u8dvfOHxXrV33k8nv++VVFuPT5XXjhm2IU1phR12JTJyHf3lKGq1/cg2tf2oNHluThmZVFHpv8vv/+v/er3/2y3fXWQfW2r60rcfwNUM+TwdRvGPj2A+nxDbv5WsQ8/xjCfngLjFMmtE/8RkZ4XdjN8Reeeh9dfJzXDuAuGQzqfYJCQ77dZF9npFai5Y23Ydm2s30lE+oX0dHRXgPfuro6NDd7/vFGREREvUsu45TLOS/5x04seGobfvjmATz5VSHecTz5W5dbh0PlzWoF/Pzq9k0WSDro2Cevk7eRt5X3kTB43uPbMOah9Wpb8OQ29WRQniQO5ieC3iZ8ZQpMnmAPlh5f+Trf3FSGj3dWoMXqegWXdK1eNyMJF0xMgEHPsJe6T44p+0oaPS5FlxMsw+JDWA1CfU7ugysP1WJzQb3HdO/cEdE4c1SMX3X35lQ0Y3VOnZqMr22xunzOjWa7+n0vtTuPfVmIBz854rHJ7/s3N5Xina1lapOgV9725+/lOP4G2I0z/7oV9394WJ3gk3CZyFd4tO9H+mFZiLjvLsT97yVE/eUhhH3vephOnw3DmJHQjxgGw/Ch0GdnwTBuNILPX4iIX98D06xpXU8ESzgcGQF9WgoMjvc1nToDwYsWIuSic7/dZJ9h1HD1NkHhYep9nNnLKmErLlXhL/mX8vJy1NfXa7eIiIiot8mTMZnMvfnVfepyzuUHapBb2YLiOjNqmq1ostg9JjGdyevkbeRt5X0kDJYnkzJtJ9s3ObXqyaA8SRzMTwS9TfiKRvPg6PGVsPe5r4vwytoSFSg4k97eq6Yn4rqZyQjj4lrUQxJOyaXp7scpTveSryzdW4WPd1SgxfG70JlM9545MhbJkV6G3PqRHI+lTsg9nO4g+5sdX0tVkwUVjZ6b/L6X47j87pKtvtWm3rbM8XHlb4DtRY14duVR3PCvvfjbioJBc1KT+h//gvADQTHR7Yu6/d99iHvnZSSsXozE9UsR//UniP/qAyR89T5iXnwSYbdcB9OCedAlJWjv6SYoCLq0FIRefyWi//G4et+4D15HzD+fRPRzj327yb74z95C9PNPIOTyi6BLTT4WIsvHGDYEhmFZ7dPARERERIOEBK4ypfN/H+eqYFamTVvdJi9PlsXWpp4MypNE5yeCcsnoT985OGi6AtWEr5fJ1cLqVhQ4vi8DWUfY++zXR9V9zN3ZY2Nx8+wUpPvRJc8UOOQYsuNoo3brmDHJYRiTwso46ltSgfTZ7ipVK+LOH6d7hQS2NU09WwepJ2z2NjU5vNfxPXniy0J1/GfoS77AwNePqRoHqXlwqmAwzZmlpnO9LfgmQXDEvT9C5K9+AtNps9orIjohIbNpzkxEPfoAwu+6Fcbxo9X7y1Rx+N23qwXmiIiIiAaT97aV4y9fFGBvSVOvB72d6XgiKFN5r68vxQ//e0BVSQz0J4MZMcFId2zuGlptHhOvA83ne6rw7w1lKKu3eEyUzcqKxG1zUlV/b1+GIvK9l58BDSxy0koW/5MTJ86kImR0cqj6L1Ffkfvf4t2VWLKnUp3cdCbHtHPHxvvddK8oqzer47EzudJCtt4kv+9LHf/O21vKseJgjbaXqO8w8A0wEsSGXHYBdNlZLtUOQVGRCLv+SoScfWaXQa87CZXD77gZ0c/+GVGP/h+iX/grQq+4sEcfg4iIiCjQySXQn+ysVCvbd1XZIDUEi8bH4funpeKRS7Lx2k1j8OINo/HgBUNx0+wULBgd47Wq4Hgk+JPJX+n1/f3ivAE/ASS9tOEmzyfUMvFaVmfWbg1MRypbVCjnHvbK5c53npGOc8bF9XnPqkxXsxt44NlT0ogdRY0ex7CJ6eGY3McnEYi2FtSr6d6SOtffXVEhBlwwIR5nOX4/+tt9UELqPMcxucTt987wxFA8emk23rp1HO5yHJfdf7fLy7OyojrdZKJevm53ctyX6efl+2s8eraJehsD3wAUetUlatE349QJ0GemQ5+VifAf3IywW66HLi1Ze6ueMYwdjZBLzodx8nhWORAREdGg8+W+ajWV5B6USCApT/SeuWYkVt07FV/fOwUv3jAGf7wkGz88Iw1XTk3CdTOScc/8DPzl8uF47eZx6m02/nI6PrhjAp64YgTuXZCpnjBeOz1JPRHsaspOpqKO1prV5f4DPfRNijIhMcL1e1HdZEV188Cebk52fN3Jka51DdkJIeo+cuXURIQa+RSNTsy2ggZsL/KshRmbEq5OKBD1FVmo7ZNdlVh+oFpNsjo7Y2Q0Lp2cgJjQLtYi6icy3St9++6/+2WBwznZUbh4UgIevHDot7/b9//uFLXJy+/cPq7Tbcndk7D8nsnqZLAc353J7/m1h+uwKY9r81Df4l8TAahjKjfuwzcQ+7+XEPfJfxBx7w9POOwl/9PU1ITWVs8zflFRUQgJYSBPRETUm6RzUJ54VTfZtD3tJJi9b2Em/nnDGNw4OwWzh0U5nriFIjXahIQIo5reCTXp1MJa0aEGFV6mOV4nbzMtMwLnjYvDbael4v7zhqgnjE9eNUI9EVz5sylqakgmgr1NA8sEkFxeKpf9f763Sts78MQ6vmdxbuF3X3cp+gO5X3z3lORvg38JA340Lx1XT09CRLD/BSIUGOTk0LbCBo86BznGTEoPZ50D9SlZqO3D7RUei27K/e+8cfHqPhjktli8P8iralETvu7k97xU34QYdYh3PHY6frePSm7f5OXM2JBOt6y4EFVjISeDbzwlxWPaV7rqCznhS32MgW8Ak+BX+nz1aSkuPb8U+Hbv3o2ioiLt1jGpqamIjo7WbhEREVFvkMvrD1d6XmIvl59eOyMJQ+OCVRCn78GlqHLZarDjiWJkiF6FmvKEUSY75YmgTNrJ1JBMBL9561gV/Lo/GZTPRT4vCaMHqpgwA2JCXb9umQyTsHsgTzZLcPDjs9LxilYH8tpNY3Hb6amO+wj/nqcTtzm/HhuO1HtMKk7KCO/zTmga3LpaqO38CXGO33fxfV5Tc6KKa9snfN2lOH5fy3Yy5DEnJ4OnZkZgRGKotrdddbMVVY0D+2oW6n8MfIn8iEz2btq0CW+99RYOHjyo7W2n1+sRGxuL8PBwbQ8RERH1BvWEz7E5kwB2emak6uHr7akk+XgyNSQTwacOi8bDFw1TAaD7BJ4EN+7hzUAyJE4moTwnnKuaLKraYaCSEECChIVjYlUdyClDo9T9zR+n3yhw7CluUh2+zqSSZnJ6BMamss6B+kZXC7XJIpSXTEpQJ7n8lUwkN7a6Xt0jU8kyoduTk7xdiQzWq5O/zgbDyU3qfwx8ifyAzWbDgQMH8O677+Lxxx/H4sWLUVPjunJneno6hg4ditBQ17ODREREdHKGxAWr8NHZ+NQwTMmM6POFreTjp8eYcNeZ6bj1tFSPSd+BLC7MoCaf3cmT4NIBvnCbhLsSxkkdCBdPo5Mli07Kgo/So+pMFp6S45gETkR9oauF2s4dF4/TR0T79XR5YY1ntUJ8hFH9fuotmY6/LzJiPE9uNpptHhUYRL2JgS9RP5Ke3kOHDqmA97nnnsNTTz2FtWvXqklfZyaTCWeccQZGjhyp7SEiIqLeMmtoFH597hBcNjlBTdnKRNztc9Mwb2SM9hZ9S8K/JMcTzOtnJuOcsbHa3oFP6hyk1sGdrJbuvmI6EXVu/ZE6rMut9ailmZkVoSbIOT1OfUGme78+VIs1h2u9LtQmVQ7RbpOt/kamkt0nkzv73XSiDLogGL2c2JOHq/tjlqg3MfAl8jEJeQsKCrBhwwY10fvMM8/g0UcfxUcffYSKigrtrY6RKofp06dj0aJFyMjI0PYSERFRb5F6hbkjovHsdaOw7hfT8NGdE3Dl1ESEOvb7igQy0u0rl78OltX0ZepLKh3cF66TOofqJl7mSn1H7mNLdlfi1x/k4KZX93Vr+7+Pc/HulnK/69UuqmnF+tx6FLgt1iYnr6ZmRHqtTSHqDXKS4fM9Vaht9qxE8OeF2jpInYK3SgWd41e/jidJaABg4EuDmoSvxcXF2Lt3L3bu3Nmtbc+ePcjPz0dZWVm3Nunilfdbt24dPvvsM/znP//BP/7xD1Xd8Oc//xnvv/++WqBNah3chYWFYdasWbj55psxZcoUFf4SERFR75PL66VXVS6BlnoHWaTN1+TS/plDI9UCS4OFqnWIcK11kDoHqXUg6iuvrSvBrf/ej+e+LsY7W8u6tf19RRHu+t9BXPfyHjz2RQHyq/wj+N1Z1IgtBZ6LtU2X6d5hUb3WQ0rkTKZ71x6uU4sFuk+p+vtCbR1Uf6/Z8zm4BNYZPjhR0mq1q+8jUV8JanPQXiYaVKqrq7Fq1Sps3rwZpaWlKvztDqPRiISEhG536ZaXl6O+vh61tbUoKSlRt83mri9TlGBXOntPOeUUXHrppZg2bRq7e4mIiE7QkcoWPPTpEbyyrkTb0+7m2Sn43QVDMTTetb+3P1ltbXh6ZRH+32d5qOhkBe8zR8Xgd4uGqv8Guq/2Vzt+Nnn4+pDr2gV3nZGufjYJbmFwb2poteFgWTO+2FuF3cVNqkv57LFxmDU0EuGmgXGSfcWBGjy0+Ij6r7MHHd9b+f76kr88DjccqVOfx+LdVdqenpHLs+WkzG/Pz8IlkxO0vf1DwqJHPs/Do0vz0WI51gUqJ7B+de4QVVUjLxP1tvW5dfj94jws2VPlEvjKFSoPnD8U10xP9OvuXuGrY1Jn/44s3Cm/y6XnmKgv6B900F4mGlTWrFmDp59+GkuXLlU9urm5ud3acnJy1MTuli1burXt379fvZ9MEkvw622S15mEyRL0XnHFFbjqqqswbtw41eFLREREJ6am2YqVB2uwrbBB29NOQhsJTXuzq+9kyRNkmfrZW9KkniR6I09CzxwZ41dB9YmS6sStBQ3YebRR29NuRFIoZg+L9rqoW29ZurcaD35yBO9tK8eOow3Ykt+AxbsqsfFIHcyOTywm1Ijo0MBeRE/uQ3Lfd78vyf3e1ycM/OVxeLCsCV/uc3xPTnBCVwZpZXG0yY7P+9Ts/g1q5HHz301l2F3s+viRS+mvnZ6E8Wnh2h6i3iMnGv63pRxvbipFs9OJBnH5lATcfGoqogLg2OmrY5JcMbTF8Xvum0O12p52cjXRvBED43c5+See7qNBS0Jemez1FxL0zpkzBzfeeCPuvfdeXH311cjKymKNAxER0SAjE1JjUwZHUKMqHbyEulLpINUOfUU6XOWJ/trcOlQ5XpZLe2tbrGq1dpn8vO/dHNzy2l516b5MhErARwPDKUOj1RT3yZAgdZwfdG3LlKXcP93NyopUdQ5EfeGTXRV4Y0OpR3ev/O46c2QskiP77kRdb4oK0Ts2z1BXerFl6y1S1+Rt0TaivsbAlwYtCVL7O0yVjt5Ro0bh/PPPx6233opf/OIX+P73v4/x48cjOJgLLBAREQ1GstjS6ORQ9d+BTlZDT4o0elx2nlfVora+Ik/0O5velYm10nozVuXUqsvlr/rnHlzw7A7c8/YhNU1Z6LY4FgWWUJMOt52WhqeuGqGmEU8ZGtXlNj41XN1PRYjjfiph6t1npuOMkbFqX3+RQEqm48vcFp3KTghR0/FJfViHQoPXsn3VeHpFEfaUNHp098ripzIZ6+9VDh3kce1tivdAWbPaiAIdA18atEaOHIlhw4b5tC5BAl6Z2p0+fTrOPfdcXH/99bjrrrvwm9/8BrfffrtamI1dvURERIObPFkekxKGUcn9P0HY1+RrTYk2IdEtnKpqtKKqqe8WbpOFrCTIk2C9M1LrINO/+dUtWJdbh5fXFOOetw/i6hd342/Li1Bc23cTyNS3JBT93pxUPHPNKLz9/XFdbp/+cCI2/nI6vvnZVHz5k8l45/vjccmkBBUc9ydZrE0uRbe5LdY2OT0CUzMjAiZ0o8AhYa/0RctibRbp43EiNQjnjo0PmOleIY+R4Y5jgRwPnMnJFFnYUSp+emNRtc4mhmW6WE4+EvUVdvjSoJWUlISYmBjEx8erBdIkiM3Ozu6TbeLEiWrhtVNPPRULFy7Eeeedh4suughnn322muaNiopy/MLh+RciIqK+EEgdvh3kKeZ2x+fr3m0rBlKHr5DgdFNePY46BagStk7LjMTpw2NUONsXhsQGq1BdHxSEykYL6rqobZBMTT6nRnP79O+mvDoVBMglzN4uCfYX7PD1Tuf4mZsMOkRok95dbfJ5xYUbkR7TvnJ/TJhRvW9/kvve+9sr8MGOCtX53UHui9fOSMLFk+L77HFDg1NH2LvqUC1anO5zQq5GufnUFFzjuO+FBeCCl/tKmrCvtEm71X68L6kzY8ORepQ4jvdyQjLO8bg/0cdUXmUrPttdqbr5nckVBOeNj0Os42MT9YWgNgftZaJByWKxoKqqCo2Nnk+oeosEy9HR0ezjJSIi6gcSdvliJe7eZLW14UHH5/z/luRpe46RcExW9vZ1YNdX1uTU4qHFeVi6t0rb0+6201LV1ykhW1+RsKy22YqCarN6Qv7GhhLHE//jX8orT/sl4Pg/x+fnz8H7igM1ju/tEfVfZw867vdy3/elQHwc+isJjuR7+faWcpfL6uUkye8uyMLFkxK0PUQnL7eiRdXbvL6+1CPslTqe62cm4VfnZmFEYgiCggLrRIPZ8fU8s/Io/uj4XVvR6HpViQS8ESa9OukjU8DjUsORHm36dkG6yOD25/b1rZ2fLKxosGD9kfau7cpGq7a33X0LM9WxOFz7OES9jRO+NOhJCBsREYHY2Ng+26SmgRO8RERE/SMQJ3zlUlMJdWTCqMltFfSBNuErk7Mb8+qxo8j15HtadDBmZEUiLabvAl+D4/ssT7blMmS5DH7BmDi1GJcMcsnCbu7fe2f+fP/pwAnfgUmmLN/ZWqamEJ3JtOA105P4vaRe9e7Wcvxz9VF1THQmYe91M5Jw39mZGJkkz3cDb6pcQl05qSgVQlKT4lyRIudSOk4KSiXD7qONWO/4nSzHMTmJ9uW+anyxtxrLHS/LbW/bmsN1OFTWrK4OcZ60lKnoSyYn4LThUQEXklPgYAJFREREROSHsuJCkDUIph7V1+nY3EmY5R5o9RV50i+X709MC1fdri/eMAbL7pmM/902Dr86ZwjOHiMrzx9b90EW7rpsSgIy+jCMJvJG6hyk7mW/2yS6BEjS39uXE/E0+EjdgQSaJXWu068dYe/Pz87EaKnGCcCwt4NM7cpCjHLVRmcVPdJZLJO8EgzLJLBssmCibB23vW1yokumot0XuJszPAqnDY9m2Et9ioEvEREREZEfigszID7cs9uvzvEEsqtLSAONQR+EVMcTbgmsnEnYK325vqQu4Q3Wq89nQmo4LpqYgF+cMwSv3DgGb902Dk9cMQKPXpqNP182HGePiVOfO5Ev7SlpX6zNubtXTEwPx5TMiIAO3sj/fJNTixUHqj0WBzx7bCx+MC8t4MNeIZPJo5LC8MD5Wfj9hUNVN3tfko9/5dREjE8d+AuzUv9i4EtEREREg1JdixX1XSzU1d+So0xI8rLiebPFjmZz51UDgSjF8bWmRB+boBVqwtdpITdfkxAgxKhDbJhB1UrMyY5SvcJ3zk3DqY6XQ018KkW+t62gAduLXGsxxNiU8D4Pqmhwke7etYfrUFrvOt2bHh2M88fFY2rGwDnBIF9HmuN3kFzh8dat4/DIJdlqYl4mmXuLfKy5I2Lw0IXDcNmUxH5f/JEGPt7DiIiIiGhAkxW2ExybO7nUUjZ/pUJQx+auxWL3WDgn0EmoKqugO7Pa25BX1aK6E/2BUa9DZIheLdjDJ+rUH+QE1d6SRhRWuz4mZDp+dHKox5Q80cmQhcbW5dZ6TPdK7+xZo2MG3HFQ6hXkGD8+NRw/PCMNH905AR/+YIJaWO3a6UmYOzwG2Qmh3QqBpRpiTHIYZmVFYYHje3XXGel4/eYx6mqRCyfGqytJiPoa/1IhIiIiogEtzKTzugq2PId1fyLrTzr7vFXg28ViYoFoSFwIMr10jxbXmtVGRMCh8mbVqSonQ5xJncPkjIiAXDSL/JOcXNha2KDuc84kyJyWGYmRiaHanoFHHkfydcrvpbNGxeCe+Rl48qoR+M/3xmLZTyZj529nYv/vTuly2/zr6Vhy9yS8c/s4vHbzODx44VBVETQsPhihRsZw5Bu8pxERERHRgCZTO8F6x+Y2lSOTo/4yPeqNfN7e4huZ7h1ogW9qlEn15rqTBXLcV4YnGqwOVzQjt7JFu3UM6xyot609XItvDtWqxcqcTc0MxynDogZNf7lMMcuCnlKxJAsiDo0PwcikUIxK7nobkRiqFiPNjA1RVRHSxy8VQVykjXyJgS8RERERDXhJjidrUu3grKrRqgLFQCOLfbuv+B3oZJpZ6ivcV0gvq7egtI4TvkTiQGkzDpS5TlyyzoF6m5wI/XhnJbYU1Gt72slJ09nDojE1M0LbQ0T+jIEvEREREQ14saEGxLkFItLfK4Gi2TqwwtNAJFNPEvi6L1InHb751Z4TjUSDjYRwuZXNaHXr7x6VHIYxKWGsc6BeIb8Pl+yuwme7Kz2uJBmXGobZw6IQFcL+WaJAwMCXiIiIiAY8uRzTPUyU/t6SOjPK6jlB6g+8LVInlxNLh29FQ+BNYhP1ps76rIfFh6iFpIh6gyzS9tbmMuRVudYdyXTvwjFxOGNkDGsJiAIEA18iIiIiGvCkS082d3mVLWqKlPpfVrz3n5GE8rIRDWbSZe2tgkY6RYd6edwQ9ZRMkb+ztRyrcmo9FgY8ZWgkzhsXh5hQTvcSBQoGvkREREQ04MmCYN4WBZM+TPdOTH9ndzwRH2AVvkpnC7dJIM9QngY76bKWChpn0nkdF2bolwW0ZOp+e2GD2jiBH/ikyuHD7RX4wLE1u1U5pEcH48qpiZiTHcXpXqIAwsCXiIiIiAY8vS4IIxNDkZ3gOgmnejErmgOqx9dib1PbQNPZwm1yGTsnfGmwk4lL96nLmFADYsJcHy99TcLdp1cU4qLnduKSf+xS228/ysW+kibtLSgQSZXD+9srcNStNkSqHC6ZHI/LpiQixMj4iCiQ8BFLRERERIOC9FwOi3ftupQA5UhVCwoCaGEwiXwG4oSvTI5JpUNmbLC2p52EvVK9wcX1aDCrbLR4TNLqHM/mdT6cuJTH4Ec7KvDMyqPYlFf/7fT9fzaV4u8rCpFbwUn8QNRR5bA6p1Z12zuTKgcJe9O8XH1BRP6NgS8RERERDQqq69KxuTtS2aI26n/eqjcCMZQn6m2NrTY0mV0vtZfpy2CD7wLflQer8dr6Uhwqb3aZNq5vsWH5gVpsOFKn7aFAsvxADRbvquy0yuH04dHQ6VjlQBRoGPgSERER0aAgQeKopFCPyoADpYHV4yshj2mArpvT2eJ6DOVpsJN41e422p8YYURSpG8mL2UK9KMdlVh/pM6jWkIcKm9CTkVg9aETVAezdPfmVbVqe9qxyoEo8PGRS0RERESDgvT4Sq2De2VARaMFR2tb/a4yQD6fVqvrxJWQOauBunCOhPIyhS1hgzMJe7lw28AkNQVc9OvEyGJtclzzBalwWJ1Thxa3KdAOFlub6tvmzzJwyO+YL/ZV46v91R4hPqsciAIfA18iol7U2tqKqqoqFBQUYO/evdi5c+e32549e5Cfn4+WFj5hJSLqL95qHaSzUMJEf6sMKKs3o9xLeGKx2b1O2A0EEl7JFPbwRNeuZQmS9pc2qUvHKTDJNGqCY3PXaPasKqDukalb2fqaPO7W5dZhT0mjtsc7/iwDi1R0yHRvTbPrcTUh3IiLJiawyoEowDHwJSI6CRLwSri7Zs0afPjhh/j3v/+Nl156Cc899xz+9re/4a9//eu321NPPYXnn38er776Kj7++GNs3rwZlZWVsNv5hzERka9464gV/lgZIIuVlbitmC6kZ7F5AIcq7YvruYbyEnDnOn4++ZzyDVhhJh3Cgz27SOTUhXtVAXWPTNXK1te25Ndj/ZF6r1ccOJMfI3+WgUFC/BUHa7HJ8bN1/5mdNToGiybEs8qBKMDxEUxEdAKamprUxO7777+Pf/zjH/jLX/6Chx56CH/84x/xzDPP4D//+Q8+++wzfPXVV99un3/+Od544w088sgj+P3vf48nnnhChcNLlixRobHVatU+OhER9ZWUKJPqiA2EyoDqJiuqmjwnfGW4t9li87sKit4yKjkUo5PDtFvHyIRvIHUtkyupIQnWOza3x56vplQDnUxHy+Rlf5BuXunopYFj7eFarDhQ41HRMTYlDBdPTFBXWhBRYGPgS0TUQ3l5eSrolQnexx57TIW4W7duVVUONlv3LjUtLy/H6tWr8eyzz+JPf/qTCo2XL1+u9nPil4io70hlgFQ6ZMS49vhKZYCEvv4UokrFREG19yBMqh6k8mEgigzWqwlf93Brf2mzWmBooAbdg0FSlElVOzjz1ZRqoOtsQrqvySSonGyRYyQNDNKzvHRfNbYU1Gt72snJmIVj4rBgTKzqhyaiwMbAl4ioByTslYBX6hlkMreiokJ7zYnr+Jgy8fvaa6+p8LixseuONCIiOnFD4zx7fKUyQEINf1llXkJNCaA7C1kaWwduV6ZMgk5MD1ebM7mcfG9Jo9/8jKjnwoyeoaVM98qiidS1IPlfP2RwpXVmx8/HPGB7wwejFQdrsGR3pcd075SMcJw3Lg7Jkf0zSU5EvYuBLxFRN0lf76effooPPvgAZWVl2t7eI4u8ScWDTA5/9NFHKghmzQMRUe/rrDJgx9FGNUHqDyTUlAC6s5ClsKbV7xaZ601yWfHYFNfAV2zMq8eGI3XaLQo0SZHeJ3wrGy1ckO84gg3e6zD6OixXXeKOjQYGuc8s31/jUY8j960zRsZizvAoLtRGNEAw8CUi6qbq6mrs2LGj07A3MjISI0aMwOzZszF//nxccskluO6663D99der7aKLLsKcOXMwcuRIhId7PokV0g28cuVK/P3vf1d1D1LzUFJSwuCXiKgXSVXA6ORQj8qAnPJmbCts8IvgaV9JE/aVdt6ZKZO/A/kS685+RlJxsbWgQV2STIEnJdqkerTdyc+VC/J1rbOwXE4M5Vb03fdOus27228uU/isXPFvaw7XYcWBao8aFZnuPXNUDKJDfF8bQgPHrqON+Mc3Rfj7iiKsPFCDhlaeyOtP+gcdtJeJiKgLzc3NWLVqFQ4dOoQ2p9VsY2NjVch77rnn4rzzzsP555+Ps88+W/130aJFWLhwIRYsWICZM2di4sSJGD16NBITE6HT6dDQ0ACz2fMJe319PXbv3q3+rdLSUhUEh4aGqqBY3o+IiE6cVAa0qHqAJlWb0EGGaePDDJiUEYHUaM9QylckcP7vpjJ8sqsKtk4mfOsdT6KmZkZg7ogYbc/AIj8j+coPlDUhp5XGG6YAAETnSURBVNz1Z6RzvE6mtEckclGh45H798qDNS73cyHBjmy+FmbSY1tBA9bmuk5px4UZMT0rEtkJ/Jl2xqALwq7iJnXCw5kcC9JjgjEhLUJ1lPe2dY6f1Rd7a9S/czzTh0Ri/ugYxDp+nuR/ZLr39fWl+GJftTqWdpDp3mumJ+O6mUkINTLwpRPz8c5K/Oajw3h7S7n6vbPMcT8LNekwOb1vjk10fAx8iYi6ScJWmbbdv3+/CmqFXq9X07x33323muAdN24c0tLSEBcXpwJa53BW3j81NRVjxoxR4W92djaioqJUVURdXZ3XKV7pCN62bZsKf2WyWN5G3icsLEw9GSYiohMjCyDtLm5SFQHO6lpsGJkUihlZkdoe35NARwLf/WWdT/jKk/XhCaGYNiQSUSEGbe/AEhWqx6GyFvUzcg6+JXiSsHfW0Cg+iTwOfwt8jfogNQG2LrdeTYN2aLW2YWJ6BGb24+PO30UE63GgtAkbjrh+7+QEkUxHx4UbMSoprNcfE0t2V+HTXZUuAaEccyQkdP48xNSMCMf9KhYxYQPzmBToPt9TjVfWFqO03vUKiRlDInDzqamYkMrnF3Ri5Dj0n42leGdLufodLWsMVDdZHccCowp8492uTiDfYOBLRNQD8fHx6r+yqJoEuJMnT8a1116LqVOnwmjs/i8yedvMzExMnz4d6enpMBgMqK2tVUGy8/RwB3ndzp07sW/fPvU2MTExiI6OVu9HREQ9F2rUqVqAnUcb1JOSDs0WOyJDDBifGo6EfniCIpdD/8/xhOmtzWUeC+q4iw83YkpGBIbEuS5AN1CY9EGodPxsdh5tRLlThYNcimzS61TlQ0ZssLaXvPG3wFfCpKM1ZnVSw/lnKhP36dHBamp9oJ7AOFky2d5e4dCIvKpjvb0SxEoH8tbCBpTWm5ERE9yrx67lB2rwlWNzlhxpQojjGFrb4jqsIMcjuV8x8D0xcvz/fE8VnlpehMW7q9TvKPlZ9sZjQgI5+b3iHt5zupd6Q4Pj/vXFvhqXqzfkbiZXbZyWHYUUx/GdfI+BLxFRD0jIKh28Q4cOxYQJE3DhhRdiypQpCAk5sSfbEvzKpO/48ePVx5awV6Z9pT7CG+kRlmnfyspKNS2ckJDA0JeI6ARI8GS22bH7aBMOlh875so5N+mcG5EUqsILX9uUV49X15Wq6WPP03+u5PJ4uYR6XKr3XvhAJz8jCbUPVzRjc/6xy9jl+1LRaFFB98wsTvl2xd8CXyELEe5yPO6kUqWDPO6ksmBcSrh67JF30n9c02RTgXmT0wkhCfBqm23YUSjT07VoMrfXPJxsUCgh4ed7qzwqOGLDDY7HJ1DTzMC3t8j3+tmVhXhocR7WHq5TC4hK2C7TuCMTQ086xJc+1dfWl3r0MXO6l3qDTPSucNzHNrhdNSUL5J7hOCakMvDtFwx8iYh6SCZ7hw8frgLflJSUHk32dkYWfJPQV/p9pa7BZrN12u9rsViQm5urpowlLJbQl3+gERH1nDyBLqo1q8oA50uTJfCVSbrhjifZEpr4Ssd075ubStWksTNZvEwCXueQRwIeuYR7Tnb0gA09w006tTidBFzOHaLyvZKAkFO+XfPHwDc2zICDZc0qRHSu6lAnWljV0SWDPgiZcSGoarJgZ1Gjy/dPQnM5jpXUmbHuSD0+2Vmpqh7kOCcdySfyPS2rt6hKB5kedtYR6DLw7T3y8/r7iqPqsSE/R7Pjd1Cj2a56zOVnOyEt/IQDfDlevrmpDG9vLVcnXDpwupd6iwS+8rvGPfAdkxymjgkMfPsHA18iIj8hfcBJSUlqYrij31d4C37tdjsKCwtVtYNMHEsITUREPSOBoWyHypuQ47TKvTwfLqxpVZUKMp3Sm5dHd+Wr/dV4YVWx4/NpcZnulUvdF46JVb3DzsGdhD3JkUZMzojwWL1/oJATmuHBejXlK1PPHeT7wynf4/PHwFd+VmX1ZuzwUtUhE92yaOJAvT/3hkjH40FORknvcUc46EyOXxK+yPd2e2EjPthegS/3VaOgukUFfxIaysmj7pC6G5na29bNwFeOUxdMiIfJwAWGe0Kme/+7uQwf76zwWKhTfmZ1ju/z8MQwVTV0IuTKkTc2lmGf01S9mJQejhtmJWOy478cHqGTwcDXPzHwJSLyM879vl0t7CaTvrJfFoqTtyciop5LijSiqsmGLfn1LtOzEj5JQCLh1NiUsD7vFZUn4s99c1Stni7/trPzx8fhB/PS1LSdTCM7k89PVueXz3Ggig01OH5GVmzjlG+P+WPgK+I6qeqQKgJZNLE/6lQChQRzMrErdS4S3B4obXZ5XHTomPitbbY6jmWt2JTXgE92VajKmA+3V2BHUYPaL4cbOb7JtKc7CXTl/uMe+MqUqAQ8MoXaQd7/vHFxmD86huFhDx0qa1bBvPSVeyM/B1m0b6LjWC8T8j31ya5KtRCoTNE7u2RSPG44JUX11hOdDAa+/omn3oiI/JRUO8yZMwc/+clPcM8992DatGkwmUzaa9sdOHBAbZ11/hIRUdckpLjY8aT3vPFx2p5jqpts+Mc3R/H7xXkek1G9KbeiBX9fUYj3tpV7LNQmQe5FExMwe2gUhsWHeATP+0ubseFInZoQG6jkMnZ5wnja8PYrXzrY29qwpaDe43Jz8n8ymT4tM1JNrzuTAHJPceOAvj/3BjnRkxZtwt1npuPVm8fg2ulJXZ6UkuBXaiCKasw4VN6Mb3Jq8eLqYtz/4WFc+cJuzHlsCxY9s0Pdlv2f7a7Cxrw6dWxynyAWEu7I5kymspOjTAx7T4Cc0JKF9zojJwHXHK5Vx/qeKqppVSfLnKfpRXZCCGYPi0YSp+mJBiwGvkREfk6C34ULF+Kqq67ymORtampSi7iVlJRoe4iIqKckSL16WiJmZUVqe9pJoCiTVdKp+6O3DqgVzns7iJKFeR78NBf/3uD5sSWMXjQ+HosmxCPYqMPE9HCMT3Wd5JUwRvptdxd7nwwbKGTRojNHxXoEhBJibDhSr4IpChw6XZCa4p2U4XqJukyObsxrUBP31DUJVqNDDZg7PBpPXjUC/755DC6bnNCtqxEkQKxzHG/k8ZNf3YI9xU34an8Nnl15VIW+t/17H658YQ9ufHUvPt1Vpb3XMXJslM2ZLCgnG/VcaZ1ZXcHRFQnq95Q0qisbemLN4Tp8c6jGoypicnoEpmZGqMciEQ1MDHyJiALE6aefruobdDrXQ/e+fftQXFys3SIiop6SabmFY+Nw5xnpXqsRJIhdnVOHe94+hKte3I0nlhWocORobav2Ft0n7yOTczJBd++7h3DDv/bi3a3lqGtx7cIU80ZE49IpCYgNa+/bPGVYFGYNdQ2lxQbHx/vmUG2Pg4BAIlO+p2ZHYUaW66X+EmJIB7PUA1BgGZsapkIn9yqB9k5t//95yuJoH+2owO8+PqKmZE/7yxac+/cd+PuKIvU6X5G+XJmsPWdcHJ69bpQKfm+aneJxcqQrEt6q+gfHcUhC4KO1ZhUES5e5t2OTN9OHRKiaCeo5mZZu9FLL4UxCernSpCePDfndtTm/HgfLXd9HTgrI4ogDuQqIiNjhS0QUMGRhtj179mDv3r2qu7dDS0sLZs6cidGjR/MyOiKiE2TUB2FEYqh6IixPjivcLn+VYFH6DwurW7H+SD0+3lGB19eX4dmvi/D0yu5vL60uwX83leOD7eVYl1uHo3VmyOJL7mTa+GcLM3HGyBgY9O2BWLAhCLXNNnXJu/PnN1i6bOPCDGpBu7WO75vztFqd43syNjUcs4e5Vj6Q/3b4CpPjMSfBokyoy+JgHST8GpUUqi4399Yr2x+qmyzYWdSoFlZ8e0s5/rqsUG1ysmb14VrsLWlCQU0r8qpakOv4Xsuk67jUMHUyyVfkGCA9r0PjQ9Rx49xxsRiXEu74HNoXX3PuKO9tEi5fMyNJnaTq+FtUqgTkxNj728rx1uZyLHN8747XGTxYyWNgheNx6r4InjvpbJZFOkcldS+oXXmgBq+tL1X3S2ezh0XihlkpavE/ot7ADl//xMCXiCiAVFZWqtBX/ttBwt8JEyZg7NixCAkJ0fYSEVFPyaTcKMeTk8RIk6oI8DalJ0Fjs8WuFkmSEKWysWebvI9M0cn7S9DrdlW0IlNX9yzIxCWTExBiPBaKSJAiwfT+0ibsclrcRz5ERaMFQ+JCMDMryqchky/J11VWb8YOx9fu3EcpC0clO35mEoScyIJGA5k/B75yf5ap0l1Hm1wmECXLjw83YpLj55ka3bcVATIBuepQLRbvqlT9qB3b147v2cc7K/GfjWV4cnkhnvyqCP/ZVKYm8+WEw/6yZnVflMdxi+NrkCoK+bwlzJTQTk68nDI0WgV0vibBb7jj35XQeWJ6BM4bH68mfi+dkqgmqlPke+r4POU45q2ft6cSHD8rWVTyplNSEBGiV8fOf60twR+X5OP19SX45lAdtkrXdkGDui++v619cbJMx/EqPYYhkPgmpwZL91arn0lXGs12tXCbXO1wPHLffsNx/5VueLl/dpCg/cppSbhqWqLL7xeik8HA1z8x8CUiCiB2ux1bt25Ffn6+tqddenq6Cn1jY2O1PUREdCIk9B2RGOZ4Uh2OumarmtZz7z7sS9LH+cCiobhwYrwKbdzFhBpQ0WhVi/A4r8w/WKZ8pdpBLmt2D7yFVASM4SXKLvw58BWRIXrsLm5SIaozeRxKgD8u1bXjtzct21eNX35wGM+uLMKy/TWO71Ptt5tUpEg3tAST8r0rr7eg1nE8aDS3B7xdHRPkVXNHxGDh6Fj1dfQXXVCQCvfkexwXbkRmTDAmpUdg/qhYFfZ9d1Yyzhkbpx4zHSdK5ORJT0JgmeyVhePumJumpnY/2VWJBz7OVVPQUj1Q22JTIWb7x21ToZCc8Mopb1ZXOIQadRirppAH9xVqS/dU4fO91V5PADqTWoeRSaHqxN7xTiasO1ynuuGl+9fZjCERuGl2quqD7+0rAyXsf+qrQvzi/Rw8vqzA61UuEvjLSRbpnZd/PzbMyGnvAYCBr39i4EtEFEBMJhPWr1+PAwcOOP4oPPZXYWRkJKZNm4a0tDRtDxERnSiZopUV8E8bEY2MmGDkV7V4VDz0NglLZMGlX52bhXkjYzp9Mi8L7Mhl29JZK0FZB/mNUFTbqibspmZG9stkoS9I4H24okU9qXQOpmSqUio55mRHD/rwyJm/B75S63CwrBkbj9S7VA5IdYlMMs51PAb7goS3cqn7GxtLv607cN46pl8lYOvJ+R6pXTl7TBxuOTUFI5MkUNNe4Qfk2CHBWrjj+CGLvSVGGDEsIRQzsiJx7rg4XDczCbedloprpiep22c57h/ZjtfLiSX3459Uztx/XpbjeDVEdQfL9+iZlUfxx8/z1AJw8j5dfd8sjld2dAXLCaruVhQMVCsO1GC5Y3MmYbr8XnA+sSffUrmaYUpmhON3VNcB2gfbK/DfTWXqBIWziycl4LoZSY7fFb1/NcR/HI+nJ5YVIsdxjJafr7erXKQXem9JIzYcaVAd2J/vqXI8zuzIigsZsL+3BgMGvv6Jp1KIiAJIdHQ0UlNTERbm+odxUVERqqo8V1EmIqITI5N5Q2KDceucVLx16zg8ccUILBgdoy5f7k3y8a51PPmWhZZkpf1ThkYe9zLbkYmhjidQsR6LMskTLrk0XbogByqZ8JWwQ6bTnEk4JyFCICz2RcfIhN+o5FBVpeJMfp77ShvVxGBfkM5dqRlosXR/mrUrcmLo6mlJeNxxnPjTZdk4NVu6bLVX+in53ksALOGv1D9I4CYnTaQLW0LBG2en4Punp2JKhutCiULC7AVjYtWVEMW1Zjz8WR7+vqIQ+VWtLidiuiI1A1Lz8OLqYlWjQa6ki1k2dzJ1Ln3SXZGrIGRCva7FdSE4qQuaOzxGhf29TTqbdxQ2qKC3qwl4OYki1RRVTRYV/koH9m8+ysVP3j6IjW5hIRGdHAa+REQBRqZ4Y2Jcp3Ik7G1s7PqPPyIi6hkJRORy6PGp4Wry7bWbx2Hlz6bgsx9NUgHwvQsycdcZ6T3eHrkkG6/dNAZf3TMF634xDU9eOUJNyclK+925BFxCz4smxuP8CXHanmMOlDXj3+tLB3SAIqGFLNLmTqYFJXSgwCITYN6qOKRORSbZ+8LwhBCMOMGpUjkhI+HoVVMT8djlw/HpDyfhy59Mwd+uHqG6cuV4EciXqMuEvHyNciVBZ4uryVUQsl/CR5nqfWVtCcrqLbB30kkgb+vt40g4LNUOWwoatD3UwWhoPxmS7bivOpOFQ+XklnT0dkZOaOwubvD4ecwaGqn6f2Xau7fJ1RdRjq2z+0BnJACWkPiDbRX4k+O+xPCfqPew0oGIKMDINK/0+FZUVGh7HH8sWSw47bTTMH78eMcfcTyXR0TUmzom4ST8TYgwqrBH+kVPGx717aXxPdlkgk4uVx8WH6I+ngQr0r/bE/I+NrsEvE0ui8vJYFVBdYt6/UCtdpCv7UBp+wSb8zShdITKIlUzsyK1PeTvlQ5Cfp7SybzmcJ3LZKDkRlMzI9T9uLdJd6w8nqXa4WitTKW6hlQmvU712spCiNIjfMbIGFw5LVFVNdx1RgbunJeOy6YkOB7L0RiVFIqkSMfjOMSgTthId+5AIVUpcv/ZVugayMqEqFRhvLKuRF2S39Bq+7ZLu4McM88dG4u/XD4cv7tgqOoNlmOWTJ86/5ylPiPS8b2ToFyOh4ORfI/dr8yQ6d5THb8rGlvtHosatiFInbQYnhiq7T1G+tzf2VKOD3dUunyf5WoSqes42/Ez6Yv7qJwEOFLVgq35rv3y3SU1H3mO95fH3sT0cHWygQIHKx38EwNfIqIAU15ejo0bN6K4uFjb027KlCkq8A0J8bz8i4iIeoeEvzIBJ2FGqEmvAtWebvK+8uT4ZKas5POQ1falW3N7YaNL8NkxMSWhzPjUiAHXaSthhVxGLpeDy9fZQboqEyNMamGqjkWoBrtACHzl55lf3Yot+Q0qROwgAcKMIZGq07q3qcdPlAkLRseq6fr5o2NUgCs1BvfMz8BPHZssRCa3Jag8b3yc6oeWEzUSxCVKwBvc/liWx5d8vIFIpjXX5dZjvdvUpZxk2pRXrxYEk8DWnUyl3rcwE784Z4gK7ZMiTapzVk5yldZb1ARqBwn2ZaJ4UkbEoO3y7SzwlSs55HguVQfO4a0c99JigjErK0rdB53JVR7vbCnDDrfah1OGRan6IOlt7gvyGJAF5WY5/h3pfp6QFo5ZQ6NcNrkyIyHcoEJpb6GwfK1yAkYqUqY5HvsUOBj4+ieOgRERBZi4uDhERHj2qTU1NcFsPjblRUREA1tMqB43zk5WoYA76T6VxXPe3FSqnlwPNHKp82i33lcJRD7ZWYFHPs9TAclA/LoHqtQoE1KjTdqtdtLxKhN/fVXTEWzUqZMmp2VH48qpSWo7f3ycmhCXigmZnpRp/vSYYBVYStdtqEmnKlUGC7lMP8bLyRMJd6qbrR4Lggnp/H3wgmG4c16a4/sX/G0gKcG4BOYzh0R6TG/KCRznKxWonUyhywmPKRmuFTbSPf3xjgos3eu5fofUoEgdiruxKeGqDqcvyc917vBoddLkwQuHemwy7S3VSF/+ZLKqNZK3dSfVPDuKGvp8oVSiwYCBLxFRgDEajdDruYotEdFgJxNVwxNCcc30RLVqvjMJy/aXNuFfa0vw9aGBt4ibTA1NSvfsSpVV4GVl+iv/uRunPb4Flz2/Cze9uq9b27Uv7cHcx7dizEPrPTbZ//SKQoYQfSQrPkSFq+5k4k+2viQBrgS5snVM7FI7uQohOqS9y7c7Fo6JxaOXZuOKqYnqfdwnn+V7LUF6ZqzrtJ+EvSW1DHzdBTn+J527Z4yM9TjW7XMc3z/bXeWxsKGcJHGf6Jc6h9HJoeq/fU1qTeTkSLzj33Lf5KqTtGiT+lyunJaEX54zxCP0lRN38rUdLOMCnEQni4EvEREREVGAknBq4dg41S/q/mReQt/1uXX409J8LNtXre0dGCRUONvxdc8b4RoWyCXocqlwvnRJFjRgyZ4qvLO1rFvbRzsq1AJS+0ubPTbZLxPT8jbUu2Txqd1HG9WK/eR/pMfYPaB1J2HkZZMTVFevXL4dZuo8ZogLbw8DncmxqqrJ0uVCZIOVBO7yPXWf8pUTIUv2VGLx7spvr2aQ75+EvVVO1ShCTqhIzUJfLNZ2IuREgPRoLxgTiznDo7S9x5gdX5tzTRERnRgGvkREREREAUyeON80OwU3nJLsMQUml1yvOlSLhz49grc2lw2oQGX6kAj1NXd2mbJMismlz3L5eXc26SKV4Mkb2S89s31VLzBYyIS01G3IffH+Dw+rCewz/7oVP/zvAa7O76dmZEU6Ns8qsQ4yyXvzqSn4/UXD1JUG7scgd8lRJrXInbuaJqtaJI5cSTja2ZRvSZ0FH2yXE1W16rZ0Ku93WxRPDI0LUZ3A/ka6m0ONvGqRqK8w8CUiIiIiCnByqewP5qbhuhlJXkNfWUjlnrcP4aoXd+OJZQUqdAv08Fe+zsunJOLeBZl93k0pJETpJA+mLsj04eJdlaoy44wntqq6DbkvPrvyqJrA3l7UqHo73Rf/kp+vLPIlCzhR/5Hp3ltOTVV1De7kcff7C4figfOz1MsyeX88YUYdwoM9Q76yegtK2ePrlUz5ylUcZ491/RnIMWl1Ti3e2VquTkZ11t8rYa8/Br5E1LcY+BIRERERBTiZAhuRGIqfn53pNfSVy2OlJ3PFgRr8cUk+rnxhN879+3Z8/9/78czKIqzKqQ3IftqIYD2ucXy9L94wBnedkY70PlwJXBajmuzYAkmUl/5VuR3pJXDrKzJ9+PSKIlWHsa+0WdVtyH2xtsWqJrDdpxE7SF2H1JUMpkXS/JHUxsweFoXHLh+OJ64Yge+flqq2Z64ZibduHYfvzUlVvazd7T7OjPUe4kulQ7VbFQG1k+P75PRwnD8u3uMYJydKZMp3ye6qTvt7JewN76Jmg4gGJv2DDtrLREQUAKqrq/H111/jyJEj2p52M2bMwLRp0xAe7trxRUREg4MuKAhx2pN7CU5k0Rv3ME1uS0AgYZuEbntLGrE6pw4fbq/Aq+tK1H9lsTcJiGPDjAgz+f/ltjJVmBplwqnDonDRpHjMyY7C2NRwFXRIuJkeE9yjbUxKqFoZXxYTmjU0Sm0SPN46JxXzR8fCGEABpNwf5FL5HYWNqttYTgScPy4O3z0lBanRJu2t+tY3h2rxnuN+JROc3R2QlmnRH56RriYaDX7SOzqYyc9AriKYmB6h+mSle3V6VqQKH+WyfPfF2boiPbLbChqwLrfepadV7pszhkRiUoCdVOkNKw/WYIVjcybH8TMdx6GOyVwJ1OUxW95gxo6iRpdje6OqpbGpY/4Bx+b8OJNj4aWTEzA6ue+vgjgR3r52OZ7PdXztssAfBQapRZKfpVxN5EwWWJVjRmofnoylzgW1OWgvExFRAMjJycHDDz+M5cuXa3va3XHHHbjtttuQmJio7SEiosHIamtToe1jXxbgzU1lPVr8RsLMMKMe4cE61bU5MS0Cc0dEY8HoWAxL8P9Lgu32NrQ6vv4Wi83xdbfBYuv5wj96nU59H5xzRnlZwm/3yelAUNdixb6SJjX5J6vnj0kJU4FKdy6/7w3vbS3HQ4vzsKOoQdvTOQkQL5uSgOtmJmNSeria4KaB5+U1xXjo0zzkVx+bRpWf9YMXDMW9CzO1PYOHdKw/6NicjUwKxe8WDcX1s5K1Pe3Ht68O1OAPi4/g60Ptvb0dpMtduFejXDElEQ9eOBQT0vxzIOQJx+8pOT7IcaqD1IjIfUGmxykwyBVCcj9+emWRtqfdJZNkMccsTM2M1PaQL3Gun4iIiIhoAJFL4CXU++35WXjI8US/J/22svK7TP9Kp6pMkb2zRVtc64VdeOTzfL9ftEymByX4kOnklCiTuny8p5tcni7TjPHhxzb5eIEY9gqZcp4+JBIXO554nzUqBkNig30W9opTs6Mxe5jnk335fmYnhGLR+DjVw/zaTWPw6Y8mqqBHFv9i2DtwDYmTx5rrxJ9MCFY1WlTnM7Ufi2VzJse304dH46KJCeoKBmcS9LqHvUImhDumhP2Rt0X8ih2/f+Sk5UBaZJSoPzDwJSIiIiIaYOTyX1nw6s55aapnU/o2JVhzDwm6IpcMN1nsKG+wYNfRRjz/zVHVE0mBR+4Pcum9BL09ufy+NyRHGvGLs4fgxRtGq2D3kUuy8cEdE7D6vqlY9pPJqn/5/vOG4MppSZiYFo74CCN7ewe4uDCD+jk7s7e1ocxxrCmr58JtXZHH8aIJ8ThrdIy2p3NyskdqIPy5vzcrLkRtzqyO3z2rcuqw9rDrFDMR9QwDXyIiIiKiAUimweQJ//jUcNw4O0UFa1/8ZLKapJQFzuaOiOl2ACzhb2FNK47W+veEL/kfuR/KyYfrZiSrYPeHZ6ThvHFxmJoRoSYPJZCSrmGZzJa3pYFvfFq4WghOjk8d5OURCaFqMn+wkUUUnb8XxzMqKRQXT0w47tUbMaEGxIYZfH6SpycmpodjRlakxxUUWwrqsTa3jhPfRCeBgS8RERER0QAmIZpcHi/B2qS0cDVJKZ2O/7llLFb+bAo++9EkNXV57fQkZHfR05sSaeLCK3RC5D4YZtKpYFeCrWCGu4OahHsXTYzHHaenqkWdZPvxmem4fGrioJzujgkzqHC2u+R7JFO+i8bHd1k1I7UZUp/hz6JC9JiaGeGxQFuLxY6tBQ3YU9Ko7SGinmLgS0REREQ0SEjIJpOU0kubERusJsTmj45RU5dPXjUCy37SHgDLpfezso5N4EmocN74OMfbxqrbREQnQ0LeX507BEvunqS2ny3M6PKE00CmCwpyHJu1G90UG6bHgjGxmJLR+WJsRkMQDH5+YkWmj+eNiMHpw6O0PcdsOFKH9bl12i0i6ikGvkREREREg5Q82ZZeVwl2ZfEcucReAmC59P6d28fh87snqQ7gD38wQU0FZ8VxwpeITp5MqcrEd0eHqyyMKF3T1D1y7D5zVAwunJjQaR1EenSwOrHn76Tn+9Rh0R6Bv3Q67yluRIXjv+Tf5MSCt+l8+fvCpGfs2F/4nSciIiIiom/JEzQJYjJjQzAzKxIXT0rAWaNikB5tYiBDROQn5GoNqXU4Y2S0tseVUd/5hG99iw0b8+rxzMoi3PTqPsz602YsemYH3tpcpl7nS3LlidQ6TE6P0Pa0k+74faVNOFjWrO0hfyXVHPLzy044Vs0RHWpQ+4Y57SPfYuBLREREREReScArq8JLCOzPC/8QEQ0ksliZ2WbXbnVuQlqYOinnPh0rU79Sm5ER0z7h6xzwXvvSHsx5bAuufGE3HvzkCN7ZUoYtBQ34an8NnvqqECsP1qj38SWpF5qcEeHRSZxb2YLDFQx8/Z2E9ldMTcTT14zEr88ZgvsWZuIZx8u3zElR/e3UP/idJyIiIiIiIiLqBzId6V7LUFZvRk5583GnbeVk3KWTE3DjKSlICDeqfRKanj0mFvNGxmB3cSOeWFaAq17c/W3A+9GOCuwpbkJ+dQsqGi1ostjVNG2r1a6C351FDerj+JJ8HVI/kRjR/jV0KK41o6TOrN0ifxbpuB/PHxWDn5+TiV+fO0QtwpgaZdJeS/2BgS8RERERERERUT+Q/vSkSNeg02pvwwfbK/G3FYXIrWjR9noXH27Aj89Kx7u3j8eLN4zGny7LxpiUUPz5i3xc/eIe/HFJPlYcqPk24G222GFva9Pe25WEvmab99f1tY4+Z2dNZjsaW31bMUEnLtioU33cUgsllSO8MKh/BbU5aC8TEVEAyMnJwcMPP4zly5dre9rdcccduO2225CYmKjtISIiIiIifybTvA99modnvy7S9rST/l2Z/I0O1avpyfQYmYD1nJisa7GiqKYVlQ0WFdZKmCuVEI1mG1od/+0s3PVGqhV+t2gorpmRpO3xnbWHa/HQ4jx8vqdK29PurjPS8bsLhiLBbfqXiLrGCV8iIiIiIiIion4gVQynD49WYaszmfKtarKoHttdR5tUx+47W8s8tiV7qlQVw2HH2xXWtOJorfm4k7zO5N9fMDoGD14wFC/eMAYXTIzXXuNbSZEmj0oHIcG1TPoSUc8w8CUiIiIiIiIi6gey4NW54+Jw7Yykb3t43UlwK3ULEny6by1aB293yb+xaHwcHrkkG5/9aBJW/mwKXrt5HO6Zn4FZWZGICNZrb+lbskioTDW7k8y6J1PKRNSOgS8RERERERERUT+JDdPjjrlpuHNeWqeh78mQjymB8lu3jlMBr0zy/vCMNMwfHaMmi9OiTYgONcCgZ+kq0UDBwJeIKMC0trbCYrFot4iIiIiIKJAFBQUhKcKIny7IwCs3jcFlkxNUf+/JkPefOzwGT1wxAl/8ZDKevHIELp6UoALe1GiTer3JIAtrMeQlGoi4aBsRUYBZs2YNHnvsMWzZskXb0+5nP/sZbrrpJkRHR2t7iIiIiIgokEh1Q3WTFUcqW7Alvx6HK1rUomxFNWb1Om8SIgxqUbdgg04tbiah7ojEUNWLK5O74Sadqo7wZ/L1PvTpEbyyrkTb0+7m2Slq0bah8SHaHiLqDga+REQB5oMPPsDTTz+NQ4cOaXvaPfzww7juuuug1/dP7xYREREREfUO6eWVhdfMVjsstja1yf+8Meh0MOqDIMO60oMrwa/JcdvfQ15nDHyJehcrHYiIAkxxcTFqamq0W+0iIyMRFRXFsJeIiIiIaACQRcxkAbW4cCOSo0zIiA1GZmyI100qGmSyN97xtjLRG2L0/4leIupbDHyJiAJIU1MTCgoKUFdXp+1pl5WVhfj4eO0WEREREREREQ1WDHyJiALI3r17kZOTA7PZrO1pN2TIEAa+RERERERERMTAl4goUNhsNqxfvx6HDx/W9rSTGocxY8YgJSVF20NEREREREREgxUDXyKiACHTvRs2bEBVVZW2p11ycjJGjx6NmJgYbQ8REREREVHgqG+xoa7Fqt0iopPFwJeIKABIjcN//vMfbNu2TU36Ops5cyays7O1W0RERERERIGltN6MsnqLdusYWYwu0bERUc8w8CUi8mMS7u7cuRMvv/wyli5dipqaGu017WJjY3HaaaepDl8iIiIiIqJAdLCsWW3Ogg06xIYZEGZidEXUU3zUEBH5KQl7t27din/84x/46KOPUFFRob2mnXT3zps3D1OnTkVwcLC2l4iIiIiIyL+ZrW3IrWjBxrw6vLi6GK+tL0FFo+uE7/DEUIxwbEFBQdoeIuquoDYH7WUiIvITTU1Nqq/31VdfVQu1yW1nEvZK0HvPPffg1FNPVbeJiIiIiIj80fbCBjy9ogjf5LRfsShJlMXWBpsdaLZIf68NrVbHDScXTIjHgxcMxYysSG0PEXUXA18iIj9TWFiIVatW4c0338SuXbs8Ons7wt7vf//7asI3NDRUew0REREREZF/qWiw4LEvC/D0ikI0ml1D3c4khBvx6/Oy8KMz0lS1AxH1DB81RER+QqZ4N23apPp6//a3v2H79u0Me4mIiIiIKKA1me0oqzd3O+wVZ42OwXnj4hj2Ep0gTvgSEXWThK/So1tVVYXa2lo0NjbieIdQCWgjIyNdOnbDwsLUYmtRUVEwGAxqX0lJCVauXIkPPvhABb3uFQ5C3m/WrFm48cYbVY0Dw14iIiIiIvJ3Rypb8NCnR/DKuhJtT+ck4L1scgLuW5iJyRkRMOjZ30t0Ihj4EhEdR2trKw4dOoQ9e/Zg//79KCoqQllZmQp93Sdw3RmNRsTHx7uEszExMUhNTUV6ejqysrLUvtWrV+Pjjz9GQUGBuu1OAuK5c+fi5ptvxuTJk9nZS0REREREAcFqa8PTK4vw/z7L81iYrUNUiAGT0yNw3cwkXDgxHqlRJoa9RCeBgS8RURfKy8vVommffPIJ1q1bh5qa9kUGeoNM7I4aNQp2ux25ubmor6/XXuMqIyMD5557Lq688kr19gx7iYiIiIgokNQ2W9XCbWsO16GoplXtS4gwIiM2WPX1Zjr+mxRpQkyYAeEmHYKCGPYSnQwGvkREnZDJXqlYkE5dmfA93jRvb5NAeNy4cTj//PPVlpaWpr2GiIiIiIgosMikb5PFBovjv8KgC4JRr4MM8hod/6dz3Cai3sHAl4ioE1u3bsUTTzyBNWvW+DzslW7f+fPn46abbsK0adPY10tERERERERE3cLlDomIOiGLqO3cudNr2Cu1CtLFm5SU1OkWHR397aJsPSWXMMlibwx6iYiIiIiIiKgnOOFLROSF1Dn8+te/xnvvvaftaSeLp40fPx5Dhw5VoW5XgWxFRQW2bduGAwcOqAXepKu3J2TBt9NPPx3f+c53cMoppyAqKkp7DRERERERERGRdwx8iYi8qK6uxgMPPKAWa3Mmnbr33HMPzjjjDAQHB2t72wPixsZGFezK+8pib3l5ediyZYsKfeX2idZCzJgxA7fccgvmzp3L0JeIiIiIiIiIusTAl4jIi6amJjz00EN49913YbVatb1QC6edd955GD58uLanXUfYW1ZWhuLiYhX2lpaWwmw2a2/hyWQyYeTIkWqTf2/Pnj0oKSlx+fc6MPQlIiIiIiIiou5g4EtE1IlnnnkG//rXv1Q1Q2/LyMhQNQ3nnHOO+m9dXR2WL1+OL774Atu3b0d9fb32lscw9CUiIiIiIiKi49E/6KC9TERETiwWC/bv36+mbnvr3FhCQoIKbi+//HJ897vfxdSpUxESEqIWeJNu4KysLDQ0NKh/U2oinB09elRNEMfFxSElJcWlUoKIiIiIiIiISDDwJSLqhISzMml76NAhFcKeKL1er6ogJOi94IILcMMNN6gOYFkAzpm8XXp6utqk71eqIaTqwRlDXyIiIiIiIiLqCgNfIqJOGI1GJCUlwWAwqFoHqV2w2+3aa7sWFhamQt7Ro0fj1FNPxaJFi3Dttddi/vz5SE1NVR+zM8nJyRgxYoSaMM7Pz2foS0RERERERETdxg5fIqLjkMXYvvrqK6xdu1aFrTLtKxO47sLDw1XQGxMTo4LYIUOGYNiwYSr0lX09JWHvSy+9hI8//hhVVVXa3mPY6UtERERERERE7hj4EhF1kwS/EsJWVlZ6DXwl1JUuXpnQjYyM1PaenL179+Lll1/G0qVL1b/vjqEvERERERERETlj4EtE5Od27NiBt99+G0uWLEF5ebm29xiGvkRERERERETUgR2+RER+rrudvtINLJt0DxMRERERERHR4MTAl4goAEhVRFZWVpehb319PbKzs1VAHBQUpL2GiIiIiIiIiAYTBr5ERAHieKFvUVERDAYDRo0apd6WiIiIiIiIiAYfBr5ERAGkI/RtaWlBQUGBS+hrt9tRXFyMzMxMDB8+nNUORERERERERIOQTvsvEREFiCFDhuA73/mOWqQtPDxc29tOFnX74osvkJOTo+0hIiIiIiIiosGEgS8RUQCSCd4rrrgCEydOVDUOztasWYPNmzejublZ20NEREREREREgwUrHYiIAlRqaqoKdQ8cOIC6ujptL1THb1xcHMaOHav+S0RERERERCeuosGCtYfr8MH2CryxsQxvbS7Hsv3V2FfaBFsbEBtmRLCBM5XkP4LaHLSXiYgowMjibY8++iiWLl0Kq9Wq7W2vffjNb36Ds88+Gzod//AgIiIiIiLqCbO1DRvy6vDfTWVYc7gWZfVmtFjaHPvtsLW1QR8UBJNBh1CjDuPTwvGdGUlYNCEeCRFcS4X6Hyd8iYgCmCziJgu17du3Dw0NDdpeoLa2FomJiRgzZgwiIyO1vURERERERHQ8G/Pq8fvFR/DkVwVYc7gOhTVm1Dbb0Gyxw2xrg8WxyX/ldl2LDYXVrfj6UA2Ka80YkRjK0Jf6HQNfIqIAJxO8u3fvRmFhobanXVVVlap9GDp0KEwmk7aXiIiIiIiIvKlvseG1dSV48NMjWHmwBuUNVrRa7TjetfE2exsazXYcKGtS4XBWXDDSY4K11xL5HgNfIqIAFxUVhZycHBw8eBBms1nb2z7l29TUhKSkJLUx9CUiIiIiIvJuX0kT/vJFAf7xzVHkVLSg1dqGnnagSg1EbmUzTHodJqaHIyrEdYFtIl9h4EtEFOCMRiOCg4NV6Hv06FE4V7OXlJSgrKxMTQHLAm7h4eEICgrSXktERERERDS4FdW0qqneP36ej8/3VKOy0ao6ejuTHh2M7IRQNdXbZLFre4+Ruoejta3IiAnGtCGs16P+wUXbiIgGAIvFgldeeQUvv/yy6vR1l5WVhfPOOw+XXnopRo4cCYOBZ5qJiIiIiGjwyq1owfvby/Hh9krsKWlEbbNVhbXejE0Jw6Lx8Vg4JhajkkNh0AWhodWGtbl1eOGbo9iQV6+9ZTu94/XXTE/CA+dnYYzjfYl8jRO+REQDgF6vV4u0lZeXIy8vz6XaQUi9w969exEWFqYC34iICO01REREREREg4NULmwpaMATywrwyNJ8fLqrCjkVzSq8tXvJehPCjbh+VjL+74JhuGxKAkYnhyEhwoToUINamG1MSjhGJoWhuM6MwxUt2ntBdf7Kom4S9k5IC9f2EvmOTvsvEREFuCFDhuDKK6/EvHnzEBnpeemQ9PkePnwY1dXV2h4iIiIiIqLBQTp6f/lBDr7z8h68uLoYu442orLR0ulU75SMCPzl8uH44yXZmJUVibhwI0yGYzGaVOWFmXSYNzIa54+PV+Gws8MVzWoj6g8MfImIBpAZM2bglltuwYUXXojU1FTV3dtBpoBlnyzyRkRERERENJh8ua8ab2woVZO4dS021cHrjSy0dtPsFDx77ShcPT1JTfIa9J2vgxJs0GH6kAi1SJszCZKPVLaojmAiX2PgS0Q0wEjoe+edd+Lmm2/GzJkz1bSvyWTC5MmTcfrppyMhIUF7SyIiIiIiosGhqtGiFmSzd7KUlQS3C0bH4OXvjsZfLhuOmVmRaoK3O2SBtnTH5k4miKsc/yaRr3HRNiKiAUoqHLZt24Z169ahubkZc+bMUWGwt7oHIiIiIiKigeytTWV4aPER7C1p0va0k4leCXpvPjUFM7KiEBdmQIixZ/ORja02PPjpETz2ZYG2p918x8d98IJhmDsiWttD5BsMfImIiIiIiIiIaEArrjXj8S8L8M/VxahrsSI7IQSLxsfjoonxmJQRgdgwg5ryPRESrT20OA8PfXpE29PuzFEx+N2ioeq/RL7EwJeIiIiIiIiIiAY0u70N1U1WHCxvRrPFjrRok1poLTJE77IY24mSsFemfJ0x8KX+wg5fIiIiIiIiIiIa0HS6IMRHGFU3r1QsjEoKVbd7I+w1W9vQarVrt4j6HwNfIiIiIiIiIiIaFPS6IBgcW1BQkLbn5JXVm1HeYNFuHSP9wFEheu0Wke8w8CUiIiIiIiIiIjpBUhVR1egZ+MaEGhATZtBuEfkOA18iIiIiIiIiIqITdKi8WW3ukiKNSI40abeIfIeBLxERERERERER0QmQ/t7thQ3YX+oa+MqCcFlxIQgzMXoj3+O9joiIiIiIiIiI6ASsPFiNL/dXeyzaNjE9XG292RVM1F0MfImIiIiIiIiIiHpoX0kT3thYhs359dqeY8amhDu2MO0WkW8x8CUiIiIiIiIiIuoBCXsf+zIf720rR4vFdbpXgt7Th0erWgei/sDAl4iIiIiIiIiIqJs25tXjd5/k4n9bylHfYtP2tgs26LBofDzOHRcHnY51DtQ/GPgSEREREREREREdR0WDBU+vKMQP/rMfn+ys9Ah7xSlDI7FoQjxiw/TaHiLfC2pz0F4mIiIiIiIiIiIiJxLsLttfjZdWF2PdkTrUNFlhtXvGaVLl8MtzhuCa6UkIMXLGkvoPA18iIiIiIiIiIiI3EvRuOFKHf60twVf7q1HdZEWL1bWvt4OEvfcuyMQ1M5IQEczpXupfDHyJiIiIiIiIiIg0HRO9EvRuzqtTQW+T28JszhaOiVVh7+kjohn2kl9g4EtERERERERERIOe2dqGbw7V4B/fHMXqnNouJ3pFQrgR185Iwm2npWJMSphasI3IHzDwJSIiIiIiIiKiQUsmeiXofXNTGdYcrkVxrRnNXUz0SrA7a2gU7pyXhnPGxiIm1AC9Lkh7LVH/Y+BLRERERERERESDTlFNKxbvqsS72yqws6hBLcbWYm2DvYuoLDHCiAsnxqugN/X/t3dvMXZd5QHHv73PZe6e8fiK48QxrpMmFFIaLgESNUGNuKiFIijQ8AAtUisVtbSqKiEeWqS+tHlsJCq1QkhVRSu1AokWAaIBBaFyaUIJSkgCCXbtOL6NPRfPjD2Xs0/nnFmtCWM7nvHMOfGe38868nxrb1vzNA9/rVlruCf663lsH6jHDSM9Ua+Kvrw8CL4AAAAAbBqtoxu+8Pjp+PQjL8RTJ2Zi6kIj5q5wdMPPquZZbOmtxkBPHtnSn5ZKHvHWW7fGH957Q9yxd7C9Bt3kcBEAAAAANo0fnZiJf/3+6fj2ock4Pb1w1bG3ZbFoxtnZhTg6PhdHxi+0P4fOXIh/fvRkfO3p8fQWdJfgCwAAAMCmMXW+EWdmFmKhsX6/9D4zX8SPT862j4mAbhN8AQAAANg09ozUY89wT5rWz86heuxa+kC3Cb4AAAAAbBo3j/bG228fjdt296eVa/eGfUPxlgPDUa24uI3uc2kbAAAAAJvK9Fwjnjk5G9/8yWT8dOx8Wr28nmoeN4z0xPbBalq5qHWJ28Gd/bF/e2/01eytpPsEXwAAAAA2nUbRjNn5IuYbL31pW2vfbq2SRzVfuYO3tVSrZJFf4hl0g+ALAAAAAFAS9pkDAAAAAJSE4AsAAAAAUBKCLwAAAABASTjDF6DbGo1onBqL5tnxKMbORvP8xRtis+EtkW8djnx4OLLRrZH11NMTAAAAgJUEX4AuKU6NxeKzP43F5w5H45lno3HseDSOHIvi3Ln0RkRl547Id++Myq6lz003RL5vb9RffXvkr9gVkfslDQAAAODFBF+ADmhOnYvG8ZNRTExGludRjE/E/Pe+HwvffjQWnnw6muem05tXUKtFZd/e6L3/3qjfd3fUXvvqyEe3pocAAAAAgi/AhmvOzMaFf/tqzH3jW1GcOBlRrUZx/EQ0Dh+N5tx8emsVarWo3X5L9P32e6P3XW+PfNeO9AAAAADY7ARfgA228MMn49ynHoz5R/4zrayP6v6bov93Hoje971L9AUAAADaHAAJsMGKYyeiOT6ZppdQqUS+daR9bm8+MtzeDXw5i4eOxOxnPxdzD38zmtMzaRUAAADYzOzwBdhgc19+OKYffKi90/eSeupR3XdjVA/sX76gbekT/X3toyBaZ/0Wx09G48jz7cvdLnXWb/1X3xyDf/qxqL/xV64YiAEAAIDyE3wBNtiVgm9l/01Rf/Mbon73XVG7846o7N0TWU89PV3WOPZCLD7xdFz4ytdj7qtfj+Lk6fQkqdWi/yMfjIE/+N2o3LQ3LQIAAACbkSMdALokf8Wu6P/Qb8XQJ/8k+t7/7qgeuHlF7G2p3LAnet721hj8+O9H33t+PfId29KTZGEh5r72SMx/57Fozp5PiwAAAMBmJPgCdEn99a+Nnrfd1z7G4WpUbr4x+j78gajf86aIvt60uqxx+EjMfeXhaPzP0bQCAAAAbEaCL0CX5Ht2RTayJU1Xp3rLgeh7729E7eCBtHLR/Lf/KxZ+8EQ05+bTCgAAALDZCL4AXZLV65FVVn/JWv2eu6J29xsjGxpMK8uKU2Ox8OgPojhxMq0AAAAAm43gC3CdyQb6o+f+e6N668G0ctH8dx+LxecOpwkAAADYbARfgOtQ/c472p9sYCCtLFt89lAsPvFUFFPn0goAAACwmQi+AF3SnJiK5vnzaVqd1i7f2l13RmXf3rSSLCzE/De+FY0fPRNRFGkRAAAA2CwEX4ANVkxeOuw2Tp2+pp24tTtfE7VfPBhRffE5wPOPPR7nv/iVWDx0RPQFAACATUbwBdhgxemxS4fdRrH0sJmG1avcsCdqb3p9VPbsTivLmjOzceELX4rZz34uFp95LmJxMT0BAAAAyk7wBeiSYmIimjMzaVqbnrfeE7XX/XJkPfW0sqw4NRYX/unzMfPpz8Tcw99sz3b7AgAAQPkJvgBd0hyfjObs2s7w/T+Vm2+M3nf+WlQOHlj6if7iH+nFxGSc/5cvxvRf/03MfuYfY/47j0YxPiH8AgAAQIkJvgBd0oq9zbn5NK1d/b67o++B90blwM0rom/rEreFx5+Mmb/9bEw/+FDM/t0/xIUvPxyLT/04mtPXtrsYAAAAePmpfGpJ+hqADbDwve/HwqM/aJ+t+7OaF+aWj2T4pdvSytpkvb1R/YX9kdVqUZw4Fc3JqYhGIz1NFhaiceT5mP/ef8fC409E8eyhaDz/QhTPH4vFw0ejOHN26TMezYmJpW9s6f9sHRHx8/EYAAAAeNnLmkvS1wBsgJmH/r69w7Y4eTqtXDT0l5+I/o88EFl/X1pZu9YRDnP/8Uhc+PyXYuG7j7Xnl5KPDEe29Km8YldkQ4ORDfRHdf9N0fPO+6P26tsiqtX0JgAAAHA9sMMXYINdbodvSyuq1l7zqsgGB9LK2rV2+tYOvjIq+29q7/ZtHRlRtI5tWFxMb6zU2mXcnJhs7/ZtPHc4Fp/+Scw/+njkS99P9bZbIh8aTG8CAAAA1wO/rwvQRc2JqWiev7aL216kVov6618bA3/0ezH4Zx+L/vf/ZlRvvzWirze9cBUWFmLx2Z9GMXYmLQAAAADXC8EXoIsax09GMTGVpvWT79weve96Rwx+4uPL4feB90X9rtdFZffOqzqmIe/tjaxaSxMAAABwvRB8ATZYPrwlsr5Ln9FbTExEc2YmTevv/8PvJ/+4/en/2Eej7wPviZ573xLVWw9GZc/u9tm9P3tBW+vfVO94VftvAAAA4Pri0jaADTb35Ydj+sGHYuGHT6aViyo7t8fQX/159L77HWll47Uuc2scPhqN5w5FY+xsFGfORnNyKmKx0X7eOgO49533R+WV+9ozAAAAcP0QfAE22JWCb8uWB/8i+j/8was6agEAAADgShzpALDRqpWln7ZZGlYqzoxHMb1xxzoAAAAAm4fgC7DB8q0jkQ0MpGml4vjJaE5MpgkAAABg7QRfgA2WjbQubetN00qNoy+0d/kCAAAAXCvBF2CDZf39kfX2pGmlxqnTUUydSxMAAADA2gm+ABussmNbZEODaVqpOHbckQ4AAADAuhB8ATZarRZZf19EtZoWXqyYmIzGqbFozs2nFQAAAIC1EXwBOiAf3Rr54BUubjt2PIqzzvEFAAAAro3gC9ABreCbDfSnaaXGiVPRnJxKEwAAAMDaCL4AHZCNjkQ2cIUdvsdPRCH4AgAAANdI8AXogMrOHZFtufzFbY3nX4jizNk0AQAAAKyN4AvQAdn20civEHyLM+PRnJlNEwAAAMDaCL4AHVDZvi2yoaE0rdSKvcXpsWjOnk8rAAAAAKsn+AJ0QL5ze+Qjw0tfXP7HbnH8ZBQTk2kCAAAAWD3BF6BDspHhyPr70rRSMT5phy8AAABwTQRfgA6p7N4Z+fCWNK1UjJ2N5vRMmgAAAABWT/AF6JBsdCSygYE0rVRMTERzRvAFAAAA1k7wBeiQys4dkW0ZTNNKTUc6AAAAANdI8AXokGz7aORXCr5T5wRfAAAA4JoIvgAdkrcvbetP00qNU2PRPDedJgAAAIDVE3wBOqSyY1tkQ5ff4dtSTE3Z5QsAAACsmeAL0Cm1WmRbhiLrqaeFlYrTZ+zyBQAAANZM8AXooHzbaGSDA2kCAAAAWF+CL0AH5VuHIxu4fPBtTs9Ec24uTQAAAACrI/gCdNBL7fBtnD7bjr4AAAAAayH4AnRQ69K2rK83TZewMB/NxcU0AAAAAKyO4AvQQZXWDt+B/jQBAAAArC/BF6CDstGRKwff2fPRvOAMXwAAAGBtBF+ADspHt0Y+OJimlRqnzzjDFwAAAFgzwRegg1q7e7MtgxHValr5OQsLEY1GGgAAAABWR/AF6LDlXb4DaQIAAABYP4IvQIe1gq+L2wAAAICNIPgCdNjyxW12+AIAAADrT/AF6LD2Dt8hwRcAAABYf4IvQIdVto1e9kiH5vx8NFsXtwEAAACsgeAL0GHLRzpcOvgWZ8ajOTObJgAAAIDVEXwBOqx1pEM+OJimF2vH3rn5NAEAAACsjuAL0GHt3b099TQBAAAArB/BF6ALWtE3E30BAACAdSb4AnRB3rq4bXAgTQAAAADrQ/AF6IKsXouoVtMEAAAAsD4EX4AuyIe3RNbXlyYAAACA9SH4AnRBvmN75FuG0gQAAACwPgRfAAAAAICSEHwBuiAbHoqsrzdNAAAAAOtD8AXognzn9siGBtMEAAAAsD4EX4BuqFSWPwAAAADrSPAF6IJ860hk/X1puigb6I/oqacJAAAAYHUEX4AuyEeGl+Puz8m3bY3cUQ8AAADAGgm+AC8jWb3uqAcAAABgzQRfAAAAAICSEHwBAAAAAEpC8AXoknx0a2QDA2lKenoiqtU0AAAAAKyO4AvQJbXX3B6VG/ekaVnttluismd3mgAAAABWJ2suSV8D0EGNw0fjwuf/Pea+8a1oTk9Hvn1b9H/0Q1G/757IeurpLQAAAICrJ/gCdFFzZjYWnngqijPjUd23Nyr790XW35eeAgAAAKyO4AsAAAAAUBLO8AUAAAAAKAnBFwAAAACgJARfAAAAAICSEHwBAAAAAEpC8AUAAAAAKAnBFwAAAACgJARfAAAAAICSEHwBAAAAAEpC8AUAAAAAKAnBFwAAAACgJARfAAAAAICSEHwBAAAAAEpC8AUAAAAAKAnBFwAAAACgJARfAAAAAICSEHwBAAAAAEpC8AUAAAAAKAnBFwAAAACgJARfAAAAAICSEHwBAAAAAEpC8AUAAAAAKAnBFwAAAACgJARfAAAAAICSEHwBAAAAAEpC8AUAAAAAKAnBFwAAAACgJARfAAAAAICSEHwBAAAAAEpC8AUAAAAAKAnBFwAAAACgJARfAAAAAICSEHwBAAAAAEpC8AUAAAAAKAnBFwAAAACgJARfAAAAAICSEHwBAAAAAEpC8AUAAAAAKAnBFwAAAACgJARfAAAAAICSEHwBAAAAAEpC8AUAAAAAKAnBFwAAAACgJARfAAAAAICSEHwBAAAAAEpC8AUAAAAAKAnBFwAAAACgJARfAAAAAICSEHwBAAAAAEpC8AUAAAAAKAnBFwAAAACgJARfAAAAAICSEHwBAAAAAEpC8AUAAAAAKAnBFwAAAACgJARfAAAAAICSEHwBAAAAAEpC8AUAAAAAKAnBFwAAAACgJARfAAAAAICSEHwBAAAAAEpC8AUAAAAAKAnBFwAAAACgJARfAAAAAICSEHwBAAAAAEpC8AUAAAAAKAnBFwAAAACgJARfAAAAAICSEHwBAAAAAEpC8AUAAAAAKAnBFwAAAACgJARfAAAAAICSEHwBAAAAAEpC8AUAAAAAKIWI/wXo3bYvXGOgKQAAAABJRU5ErkJggg==)"
      ]
    },
    {
      "cell_type": "code",
      "execution_count": null,
      "metadata": {
        "colab": {
          "base_uri": "https://localhost:8080/"
        },
        "id": "abziLgIxjd1J",
        "outputId": "c1556b3f-412b-42e9-8c20-5dcc643b27bc"
      },
      "outputs": [
        {
          "name": "stdout",
          "output_type": "stream",
          "text": [
            "ր\n",
            "ր\n"
          ]
        }
      ],
      "source": [
        "print(a[2])\n",
        "print(a[-2]) # len(a) - 2 -> 4 - 2 = 2"
      ]
    },
    {
      "cell_type": "markdown",
      "metadata": {
        "id": "ZdxXK_NrH_eq"
      },
      "source": [
        "#### slicing"
      ]
    },
    {
      "cell_type": "code",
      "execution_count": null,
      "metadata": {
        "colab": {
          "base_uri": "https://localhost:8080/"
        },
        "id": "0yZZgiUZXilK",
        "outputId": "03c0af74-d868-4b45-d772-9fcfd1729736"
      },
      "outputs": [
        {
          "name": "stdout",
          "output_type": "stream",
          "text": [
            "\n"
          ]
        }
      ],
      "source": [
        "print(a[0:-4]) # սկիզբը ներառյալ, վերջը չէ\n",
        "# a[0] + a[1] (a[2]-ը չկա)\n",
        "\n",
        "# -4-1 -> -5 + 4 -> -1"
      ]
    },
    {
      "cell_type": "code",
      "execution_count": 24,
      "metadata": {
        "colab": {
          "base_uri": "https://localhost:8080/"
        },
        "id": "VAVFabbn0FqM",
        "outputId": "c226cbd1-e075-4f74-8ef6-0e74418ca5b6"
      },
      "outputs": [
        {
          "name": "stdout",
          "output_type": "stream",
          "text": [
            "Բարև\n"
          ]
        }
      ],
      "source": [
        "print(a[0:12345678]) # a[4]-ը չի աշխատում, բայց ստեղ գրում ենք մինչև 4, դա հենց նրանիցա որ վերջը չենք վերցնում"
      ]
    },
    {
      "cell_type": "code",
      "execution_count": null,
      "metadata": {
        "colab": {
          "base_uri": "https://localhost:8080/"
        },
        "id": "vNOTg1BhX3ma",
        "outputId": "c7c7b971-ebe3-4faf-a23b-1f451b4c399f"
      },
      "outputs": [
        {
          "name": "stdout",
          "output_type": "stream",
          "text": [
            "Բարև\n"
          ]
        }
      ],
      "source": [
        "print(a[0:412345678])"
      ]
    },
    {
      "cell_type": "code",
      "execution_count": 34,
      "metadata": {
        "colab": {
          "base_uri": "https://localhost:8080/"
        },
        "id": "-OKXZ3X7YBxK",
        "outputId": "bafedda7-2d7d-45f5-dde4-882a29a6575a"
      },
      "outputs": [
        {
          "name": "stdout",
          "output_type": "stream",
          "text": [
            "Բա\n",
            "Բա\n"
          ]
        }
      ],
      "source": [
        "print(a[0:2])\n",
        "print(a[:2]) # եթե բաց թողենք առաջին թիվը կհասկանա որ ուղղակի զրոյիցա սկսվում"
      ]
    },
    {
      "cell_type": "code",
      "execution_count": 35,
      "metadata": {
        "colab": {
          "base_uri": "https://localhost:8080/"
        },
        "id": "tdzgnN38YD8P",
        "outputId": "93b1c3a5-d97d-478e-cfb1-830858cc21e5"
      },
      "outputs": [
        {
          "name": "stdout",
          "output_type": "stream",
          "text": [
            "արև\n",
            "արև\n"
          ]
        }
      ],
      "source": [
        "print(a[1:4])\n",
        "print(a[1:]) # նույն ձև էլ երկրորդը բաց թողելով հասկանումա որ մինչև վերջ ենք ուզում"
      ]
    },
    {
      "cell_type": "code",
      "execution_count": 45,
      "metadata": {
        "colab": {
          "base_uri": "https://localhost:8080/"
        },
        "id": "9vm5-HDYIqrF",
        "outputId": "99aeee7c-04de-4417-d1a2-4cb7e3c73a51"
      },
      "outputs": [
        {
          "name": "stdout",
          "output_type": "stream",
          "text": [
            "ար\n",
            "ար\n"
          ]
        }
      ],
      "source": [
        "print(a[-3:-1])\n",
        "print(a[1:3])\n"
      ]
    },
    {
      "cell_type": "markdown",
      "metadata": {
        "id": "UY3IvYs6Z_Wt"
      },
      "source": [
        "կարող ենք նաև թռինչք ունենալ"
      ]
    },
    {
      "cell_type": "code",
      "execution_count": 37,
      "metadata": {
        "id": "qaSk1Er_Z940"
      },
      "outputs": [],
      "source": [
        "a = 'abcdefghk'"
      ]
    },
    {
      "cell_type": "code",
      "execution_count": null,
      "metadata": {
        "id": "baFTK_WMYMN_"
      },
      "outputs": [],
      "source": [
        "a['սկսի ստեղից':'գնա մինչև ստեղ(ոչ ներառյալ)':'այ էսքան մեծ քայլով']"
      ]
    },
    {
      "cell_type": "code",
      "execution_count": 38,
      "metadata": {
        "colab": {
          "base_uri": "https://localhost:8080/"
        },
        "id": "ig9p434BK77D",
        "outputId": "1178c5e4-1c7a-40ff-e148-5a36ffa423af"
      },
      "outputs": [
        {
          "name": "stdout",
          "output_type": "stream",
          "text": [
            "ce\n"
          ]
        }
      ],
      "source": [
        "print(a[2:5:2])"
      ]
    },
    {
      "cell_type": "code",
      "execution_count": 47,
      "metadata": {
        "colab": {
          "base_uri": "https://localhost:8080/"
        },
        "id": "wa-kTSWZLJCn",
        "outputId": "d47f9969-0d62-43f2-8031-34d9444ab036"
      },
      "outputs": [
        {
          "name": "stdout",
          "output_type": "stream",
          "text": [
            "kgeca\n"
          ]
        }
      ],
      "source": [
        "# abcdefghk\n",
        "print(a[::-2])\n"
      ]
    },
    {
      "cell_type": "code",
      "execution_count": 42,
      "metadata": {
        "colab": {
          "base_uri": "https://localhost:8080/"
        },
        "id": "UQ0IKP7-LsNf",
        "outputId": "c1915c07-21e3-40fe-e2ab-a6bb14760a55"
      },
      "outputs": [
        {
          "name": "stdout",
          "output_type": "stream",
          "text": [
            "khgfed\n"
          ]
        }
      ],
      "source": [
        "print(a[8:2:-1])"
      ]
    },
    {
      "cell_type": "code",
      "execution_count": 52,
      "metadata": {
        "colab": {
          "base_uri": "https://localhost:8080/"
        },
        "id": "DYLgvnBWaEaq",
        "outputId": "ce936e3d-6c99-4d10-8941-7e6cc3d3d877"
      },
      "outputs": [
        {
          "name": "stdout",
          "output_type": "stream",
          "text": [
            "khgfedcba\n"
          ]
        }
      ],
      "source": [
        "print(a[::-1]) # a[4:6:1]"
      ]
    },
    {
      "cell_type": "code",
      "execution_count": null,
      "metadata": {
        "colab": {
          "base_uri": "https://localhost:8080/"
        },
        "id": "v-lPH129aF6r",
        "outputId": "c61d0a8e-d344-4c6f-acef-cebc60d41fc0"
      },
      "outputs": [
        {
          "name": "stdout",
          "output_type": "stream",
          "text": [
            "khgfedcba\n"
          ]
        }
      ],
      "source": [
        "print(a[::-1])"
      ]
    },
    {
      "cell_type": "code",
      "execution_count": 53,
      "metadata": {
        "colab": {
          "base_uri": "https://localhost:8080/"
        },
        "id": "mte70uOx108F",
        "outputId": "46203df1-7989-4d1c-ab03-7ce9392a86b5"
      },
      "outputs": [
        {
          "name": "stdout",
          "output_type": "stream",
          "text": [
            "defg\n"
          ]
        }
      ],
      "source": [
        "print(a[3:7]) # 7 - 3"
      ]
    },
    {
      "cell_type": "code",
      "execution_count": null,
      "metadata": {
        "colab": {
          "base_uri": "https://localhost:8080/"
        },
        "id": "yoUoqYBFMryJ",
        "outputId": "c15b992c-d7e2-41cf-e5a4-8f8858e69a5c"
      },
      "outputs": [
        {
          "name": "stdout",
          "output_type": "stream",
          "text": [
            "9\n"
          ]
        }
      ],
      "source": [
        "print(len(a))"
      ]
    },
    {
      "cell_type": "code",
      "execution_count": null,
      "metadata": {
        "colab": {
          "base_uri": "https://localhost:8080/"
        },
        "id": "2X-CgXwcMg4x",
        "outputId": "68941f7a-482f-4269-d288-a5ce216d460d"
      },
      "outputs": [
        {
          "name": "stdout",
          "output_type": "stream",
          "text": [
            "khgfedcba\n"
          ]
        }
      ],
      "source": [
        "print(a[8::-1])"
      ]
    },
    {
      "cell_type": "code",
      "execution_count": null,
      "metadata": {
        "colab": {
          "base_uri": "https://localhost:8080/",
          "height": 36
        },
        "id": "LGA15gANMGRV",
        "outputId": "e2ca19e6-b72e-4013-bfd5-77310481324a"
      },
      "outputs": [
        {
          "data": {
            "application/vnd.google.colaboratory.intrinsic+json": {
              "type": "string"
            },
            "text/plain": [
              "'def'"
            ]
          },
          "execution_count": 60,
          "metadata": {},
          "output_type": "execute_result"
        }
      ],
      "source": [
        "a[3:6] # -> 6-3 = 3"
      ]
    },
    {
      "cell_type": "code",
      "execution_count": null,
      "metadata": {
        "colab": {
          "base_uri": "https://localhost:8080/"
        },
        "id": "e2b7vB0faIHs",
        "outputId": "9ec46b10-82fb-4e50-df21-77e1ba964055"
      },
      "outputs": [
        {
          "name": "stdout",
          "output_type": "stream",
          "text": [
            "13579\n"
          ]
        }
      ],
      "source": [
        "print(a[::2])"
      ]
    },
    {
      "cell_type": "code",
      "execution_count": null,
      "metadata": {
        "colab": {
          "base_uri": "https://localhost:8080/"
        },
        "id": "OFaamPTEaNfi",
        "outputId": "0308127f-3902-4468-9677-f59bbd377d97"
      },
      "outputs": [
        {
          "name": "stdout",
          "output_type": "stream",
          "text": [
            "2468\n"
          ]
        }
      ],
      "source": [
        "print(a[1::2])"
      ]
    },
    {
      "cell_type": "code",
      "execution_count": null,
      "metadata": {
        "colab": {
          "base_uri": "https://localhost:8080/"
        },
        "id": "bimvXiBXaVpL",
        "outputId": "a2c4a7f8-94f1-446a-bc52-8a0791530aa4"
      },
      "outputs": [
        {
          "name": "stdout",
          "output_type": "stream",
          "text": [
            "8642\n"
          ]
        }
      ],
      "source": [
        "print(a[7:0:-2])"
      ]
    },
    {
      "cell_type": "code",
      "execution_count": null,
      "metadata": {
        "colab": {
          "base_uri": "https://localhost:8080/"
        },
        "id": "ISGbL-zyaYXR",
        "outputId": "df905c1b-e1e4-46e0-d79e-7e3ccc3ca83b"
      },
      "outputs": [
        {
          "name": "stdout",
          "output_type": "stream",
          "text": [
            "789\n"
          ]
        }
      ],
      "source": [
        "# 123456789\n",
        "print(a[6:]) # a[x:y] -> y-x"
      ]
    },
    {
      "cell_type": "code",
      "execution_count": null,
      "metadata": {
        "colab": {
          "base_uri": "https://localhost:8080/"
        },
        "id": "T4Rkp1erMldC",
        "outputId": "b36364f5-6e80-4d63-d36c-97a13bae92e8"
      },
      "outputs": [
        {
          "name": "stdout",
          "output_type": "stream",
          "text": [
            "abcdef\n"
          ]
        }
      ],
      "source": [
        "print(a)\n",
        "a = \"abcdef\""
      ]
    },
    {
      "cell_type": "code",
      "execution_count": null,
      "metadata": {
        "colab": {
          "base_uri": "https://localhost:8080/",
          "height": 110
        },
        "id": "w5xVQskEuNbk",
        "outputId": "34d92f24-4508-4b88-f8aa-b8ec5baa2452"
      },
      "outputs": [
        {
          "ename": "SyntaxError",
          "evalue": "invalid syntax (<ipython-input-56-98a858089493>, line 1)",
          "output_type": "error",
          "traceback": [
            "\u001b[0;36m  File \u001b[0;32m\"<ipython-input-56-98a858089493>\"\u001b[0;36m, line \u001b[0;32m1\u001b[0m\n\u001b[0;31m    print([-36:6000]) # ...123456789......\u001b[0m\n\u001b[0m              ^\u001b[0m\n\u001b[0;31mSyntaxError\u001b[0m\u001b[0;31m:\u001b[0m invalid syntax\n"
          ]
        }
      ],
      "source": [
        "print(a[-36:6000]) # ...123456789......"
      ]
    },
    {
      "cell_type": "code",
      "execution_count": null,
      "metadata": {
        "colab": {
          "base_uri": "https://localhost:8080/"
        },
        "id": "SsZdsRzpM7fD",
        "outputId": "2c5753c2-f71f-4d0c-8f62-2ad9a14a207e"
      },
      "outputs": [
        {
          "name": "stdout",
          "output_type": "stream",
          "text": [
            "ef\n",
            "ef\n"
          ]
        }
      ],
      "source": [
        "a = \"abcdefgh\"\n",
        "print(a[-4:-2]) # a[8-4:8-2] -> a[4:6]\n",
        "print(a[4:6])"
      ]
    },
    {
      "cell_type": "code",
      "execution_count": 56,
      "metadata": {
        "colab": {
          "base_uri": "https://localhost:8080/"
        },
        "id": "owMRSBoRahLk",
        "outputId": "7f88e23b-a553-43b4-ec0a-8e11f5036e1d"
      },
      "outputs": [
        {
          "name": "stdout",
          "output_type": "stream",
          "text": [
            "abcdefghk___khgfedcba\n"
          ]
        }
      ],
      "source": [
        "print(a + '___' + a[::-1])\n"
      ]
    },
    {
      "cell_type": "code",
      "execution_count": null,
      "metadata": {
        "colab": {
          "base_uri": "https://localhost:8080/"
        },
        "id": "6ids-KuZLB7a",
        "outputId": "178c6dd8-f535-4988-877f-8713ad4e87b8"
      },
      "outputs": [
        {
          "name": "stdout",
          "output_type": "stream",
          "text": [
            "43\n",
            "234\n"
          ]
        }
      ],
      "source": [
        "a = '123456789'\n",
        "# print(a[2:8:-1])\n",
        "print(a[3:1:-1])\n",
        "print(a[1:3])"
      ]
    },
    {
      "cell_type": "code",
      "execution_count": null,
      "metadata": {
        "colab": {
          "base_uri": "https://localhost:8080/"
        },
        "id": "UYftY_E821CI",
        "outputId": "a5f7c0de-e97a-45df-f37d-963a2f09af06"
      },
      "outputs": [
        {
          "name": "stdout",
          "output_type": "stream",
          "text": [
            "25\n"
          ]
        }
      ],
      "source": [
        "a[3:19:4]\n",
        "\n",
        "# 3, 7 (3+4), 11 (7 + 4), 15 (11 + 4)\n",
        "\n",
        "# 13, 100, 4\n",
        "\n",
        "a = \"01234567891011\"\n",
        "print(a[2:8:3])"
      ]
    },
    {
      "cell_type": "markdown",
      "metadata": {
        "id": "m4gn1-99ebmP"
      },
      "source": [
        "### Range (string-երի թեմայից չի)"
      ]
    },
    {
      "cell_type": "code",
      "execution_count": 50,
      "metadata": {
        "colab": {
          "base_uri": "https://localhost:8080/"
        },
        "id": "GDXKmI01gvkY",
        "outputId": "7d7df3d7-b8c3-449a-a588-40b978bf159f"
      },
      "outputs": [
        {
          "name": "stdout",
          "output_type": "stream",
          "text": [
            "range(-3, 4)\n",
            "[-3, -2, -1, 0, 1, 2, 3]\n",
            "<class 'range'>\n",
            "abcdefghk\n",
            "bcd\n"
          ]
        }
      ],
      "source": [
        "# a = '0123456789'\n",
        "\n",
        "# [1:9:3] -> 1, 4, 7\n",
        "# a[1] + a[4] + a[7]\n",
        "# print(a[1:4])\n",
        "\n",
        "\n",
        "print(range(-3,4)) # a[1:4]\n",
        "print(list(range(-3, 4)))\n",
        "print(type(range(-3,4)))\n",
        "\n",
        "print(a)\n",
        "print(a[1:4])"
      ]
    },
    {
      "cell_type": "code",
      "execution_count": null,
      "metadata": {
        "colab": {
          "base_uri": "https://localhost:8080/",
          "height": 36
        },
        "id": "cnM1-C0QPiL3",
        "outputId": "5d5ba5b4-5916-4e8d-86b9-a2b9cc1bb194"
      },
      "outputs": [
        {
          "name": "stdout",
          "output_type": "stream",
          "text": [
            "98765432\n"
          ]
        }
      ],
      "source": [
        "a = '0123456789'\n",
        "print(a[1:15:-1]) #-> 1, 4, 7"
      ]
    },
    {
      "cell_type": "code",
      "execution_count": 53,
      "metadata": {
        "colab": {
          "base_uri": "https://localhost:8080/"
        },
        "id": "WuPJ6zsue48g",
        "outputId": "76000f7c-2cd1-47ce-f688-f84a80189b79"
      },
      "outputs": [
        {
          "name": "stdout",
          "output_type": "stream",
          "text": [
            "[30, 27, 24, 21, 18]\n"
          ]
        }
      ],
      "source": [
        "print(list(range(30, 15, -3))) # a[1:15:3]"
      ]
    },
    {
      "cell_type": "code",
      "execution_count": null,
      "metadata": {
        "colab": {
          "base_uri": "https://localhost:8080/"
        },
        "id": "i_G4LXYuP_WQ",
        "outputId": "6de89bdb-c406-408c-e9bc-913b686cf517"
      },
      "outputs": [
        {
          "name": "stdout",
          "output_type": "stream",
          "text": [
            "bcd\n",
            "[1, 2, 3]\n"
          ]
        }
      ],
      "source": [
        "# list(range(3,10,2))\n",
        "# a[3:10:2]\n",
        "\n",
        "a = \"abcd\"\n",
        "print(a[1:4])\n",
        "print(list(range(1,4)))"
      ]
    },
    {
      "cell_type": "code",
      "execution_count": null,
      "metadata": {
        "colab": {
          "base_uri": "https://localhost:8080/"
        },
        "id": "818SmRdBe7jU",
        "outputId": "36b7e27e-e7a7-4fce-f5da-04e37d5927b6"
      },
      "outputs": [
        {
          "name": "stdout",
          "output_type": "stream",
          "text": [
            "[]\n"
          ]
        }
      ],
      "source": [
        "# print(list(range(10,15,3)))\n",
        "# print(list(range(18, 10, -1.5)))\n",
        "\n",
        "# ...2..5.8 9 10 11 12 13 14 15 16 17 18\n",
        "\n",
        "print(list(range(10,15,-3)))\n",
        "\n",
        "range(10,15, 2)\n",
        "range(1, 100000000, 3)"
      ]
    },
    {
      "cell_type": "code",
      "execution_count": 54,
      "metadata": {
        "colab": {
          "base_uri": "https://localhost:8080/"
        },
        "id": "UaUu7CmWe-U8",
        "outputId": "c1d9ecf5-5c43-4ed0-e8dc-008eeab35a93"
      },
      "outputs": [
        {
          "data": {
            "text/plain": [
              "[0, 1, 2, 3, 4, 5, 6, 7, 8, 9, 10, 11, 12, 13, 14]"
            ]
          },
          "execution_count": 54,
          "metadata": {},
          "output_type": "execute_result"
        }
      ],
      "source": [
        "# a[:15]\n",
        "list(range(15)) # range(0,15)"
      ]
    },
    {
      "cell_type": "code",
      "execution_count": null,
      "metadata": {
        "id": "jyqtsFGs4XQZ"
      },
      "outputs": [],
      "source": [
        "a[3:]\n",
        "# համարժեքը չկա"
      ]
    },
    {
      "cell_type": "code",
      "execution_count": 55,
      "metadata": {
        "colab": {
          "base_uri": "https://localhost:8080/"
        },
        "id": "1b4sjBgHRCw1",
        "outputId": "13984843-2a39-4d84-8cb2-afc67d20bf3c"
      },
      "outputs": [
        {
          "data": {
            "text/plain": [
              "[2, 3, 4, 5, 6, 7, 8, 9, 10, 11, 12, 13, 14]"
            ]
          },
          "execution_count": 55,
          "metadata": {},
          "output_type": "execute_result"
        }
      ],
      "source": [
        "# a[2:15]\n",
        "list(range(2, 15)) # range(2,15,1)"
      ]
    },
    {
      "cell_type": "code",
      "execution_count": null,
      "metadata": {
        "colab": {
          "base_uri": "https://localhost:8080/"
        },
        "id": "7yJPpE3dRH64",
        "outputId": "af8509ed-c5a0-469a-9393-01c6f17c0a77"
      },
      "outputs": [
        {
          "data": {
            "text/plain": [
              "[2]"
            ]
          },
          "execution_count": 70,
          "metadata": {},
          "output_type": "execute_result"
        }
      ],
      "source": [
        "# a[2:15:3]\n",
        "list(range(2, 1, -8)) # try also 2, 11,1\n",
        "\n",
        "# -7 -6 -5 ... -1 0 1 2\n",
        "# -7 -6 -5 ... -1 0 1 2 3\n",
        "\n"
      ]
    },
    {
      "cell_type": "code",
      "execution_count": null,
      "metadata": {
        "colab": {
          "base_uri": "https://localhost:8080/"
        },
        "id": "s5cFGjdgfEYh",
        "outputId": "0a843b47-3ef8-4682-9055-7e4a5cd39333"
      },
      "outputs": [
        {
          "data": {
            "text/plain": [
              "[-4, -2, 0]"
            ]
          },
          "execution_count": 71,
          "metadata": {},
          "output_type": "execute_result"
        }
      ],
      "source": [
        "list(range(-4, 1, 2)) # սկիզբ, ավարտ, քայլ"
      ]
    },
    {
      "cell_type": "code",
      "execution_count": null,
      "metadata": {
        "colab": {
          "base_uri": "https://localhost:8080/"
        },
        "id": "hmd7FX1gfJu6",
        "outputId": "be07e4f3-4dc0-4d99-f9ab-c9e676c36fb8"
      },
      "outputs": [
        {
          "data": {
            "text/plain": [
              "[]"
            ]
          },
          "execution_count": 72,
          "metadata": {},
          "output_type": "execute_result"
        }
      ],
      "source": [
        "list(range(1, 5, -2))"
      ]
    },
    {
      "cell_type": "markdown",
      "metadata": {
        "id": "RjtrFMPMbL0m"
      },
      "source": [
        "### Formatting"
      ]
    },
    {
      "cell_type": "markdown",
      "metadata": {
        "id": "OCNtOqr0c7tC"
      },
      "source": [
        "#### Formated string\n",
        "հավես բաներ որոնք կարելի ա f string-երով անել. [կարճ վիդեո](https://www.youtube.com/watch?v=EoNOWVYKyo0)"
      ]
    },
    {
      "cell_type": "code",
      "execution_count": 56,
      "metadata": {
        "id": "4X95_jvgbFGO"
      },
      "outputs": [],
      "source": [
        "anun = 'John'\n",
        "azganun = \"Smith\"\n",
        "tariq = 25"
      ]
    },
    {
      "cell_type": "code",
      "execution_count": null,
      "metadata": {
        "colab": {
          "base_uri": "https://localhost:8080/"
        },
        "id": "QahEqOEbbQNg",
        "outputId": "1e73fc33-1e51-4156-c68a-3a47ee15715c"
      },
      "outputs": [
        {
          "name": "stdout",
          "output_type": "stream",
          "text": [
            "Իմ անունն John է, իսկ ազգանունը Smith ես 25 տարեկան եմ\n"
          ]
        }
      ],
      "source": [
        "# Ներկայացնել John-ին\n",
        "print('Իմ անունն', anun, 'է, իսկ ազգանունը', azganun, \"ես\", tariq, \"տարեկան եմ\")"
      ]
    },
    {
      "cell_type": "code",
      "execution_count": 77,
      "metadata": {
        "colab": {
          "base_uri": "https://localhost:8080/"
        },
        "id": "fplQ7r8jP7rJ",
        "outputId": "75b8daab-781e-45dc-a24c-a864125df119"
      },
      "outputs": [
        {
          "name": "stdout",
          "output_type": "stream",
          "text": [
            "Իմ անունն John է, իսկ ազգանունը Smith ես 25 տարեկան եմ\n"
          ]
        }
      ],
      "source": [
        "# Ներկայացնել John-ին\n",
        "print('Իմ անունն', anun, 'է, իսկ ազգանունը', azganun, \"ես\", tariq, \"տարեկան եմ\")"
      ]
    },
    {
      "cell_type": "code",
      "execution_count": 57,
      "metadata": {
        "colab": {
          "base_uri": "https://localhost:8080/"
        },
        "id": "p9eJKFsNQPZq",
        "outputId": "17d9823b-8780-4200-9da2-46fdd6640004"
      },
      "outputs": [
        {
          "name": "stdout",
          "output_type": "stream",
          "text": [
            "Իմ անունն anun, է իսկ ազգանունը azganun ես tariq տարեկան եմ\n"
          ]
        }
      ],
      "source": [
        "print('Իմ անունն anun, է իսկ ազգանունը azganun ես tariq տարեկան եմ')"
      ]
    },
    {
      "cell_type": "code",
      "execution_count": 58,
      "metadata": {
        "colab": {
          "base_uri": "https://localhost:8080/"
        },
        "id": "pi9ubb79bRxJ",
        "outputId": "4df5ed41-02a8-4b8c-f74b-e26db63ddff3"
      },
      "outputs": [
        {
          "name": "stdout",
          "output_type": "stream",
          "text": [
            "Իմ անուննը John է իսկ ազգանունը Smith ես 25 տարեկան եմ\n"
          ]
        }
      ],
      "source": [
        "print('Իմ անուննը {} է իսկ ազգանունը {} ես {} տարեկան եմ'.format(anun, azganun, tariq))"
      ]
    },
    {
      "cell_type": "code",
      "execution_count": 59,
      "metadata": {
        "colab": {
          "base_uri": "https://localhost:8080/"
        },
        "id": "YAU0E37FvznF",
        "outputId": "16833f64-42a2-4282-b771-4ef05fefe086"
      },
      "outputs": [
        {
          "name": "stdout",
          "output_type": "stream",
          "text": [
            "Իմ անուննը {anun} է իսկ ազգանունը {azganun} ես {tariq} տարեկան եմ\n"
          ]
        }
      ],
      "source": [
        "text = 'Իմ անուննը {anun} է իսկ ազգանունը {azganun} ես {tariq} տարեկան եմ'\n",
        "print(text)"
      ]
    },
    {
      "cell_type": "code",
      "execution_count": 61,
      "metadata": {
        "colab": {
          "base_uri": "https://localhost:8080/"
        },
        "id": "v13ocBdhuYuq",
        "outputId": "45a3704a-dc94-4c0e-c15b-f0ac8e17c2cb"
      },
      "outputs": [
        {
          "name": "stdout",
          "output_type": "stream",
          "text": [
            "Իմ անուննը՝John է իսկ ազգանունը Smith ես 25 տարեկան եմ\n"
          ]
        }
      ],
      "source": [
        "print(f\"Իմ անուննը՝{anun} է իսկ ազգանունը {azganun} ես {tariq} տարեկան եմ\")"
      ]
    },
    {
      "cell_type": "code",
      "execution_count": 62,
      "metadata": {
        "colab": {
          "base_uri": "https://localhost:8080/"
        },
        "id": "IHkWME7Pcm24",
        "outputId": "50c51e32-1f0e-40ef-a1b1-d272eb7d1233"
      },
      "outputs": [
        {
          "name": "stdout",
          "output_type": "stream",
          "text": [
            "Իմ անուննը John է իսկ ազգանունը Smithյան ես 29 տարեկան եմ\n"
          ]
        }
      ],
      "source": [
        "print(f\"Իմ անուննը {anun} է իսկ ազգանունը {azganun+'յան'} ես {tariq+4} տարեկան եմ\")"
      ]
    },
    {
      "cell_type": "code",
      "execution_count": 83,
      "metadata": {
        "colab": {
          "base_uri": "https://localhost:8080/"
        },
        "id": "7W_mGeKtMfWH",
        "outputId": "10920374-2cae-423d-f37a-110070b07ce7"
      },
      "outputs": [
        {
          "name": "stdout",
          "output_type": "stream",
          "text": [
            "John-Smith\n"
          ]
        }
      ],
      "source": [
        "print(anun, azganun, sep=\"-\") # չենք կարա վերագրենք փոփ․"
      ]
    },
    {
      "cell_type": "code",
      "execution_count": 84,
      "metadata": {
        "colab": {
          "base_uri": "https://localhost:8080/"
        },
        "id": "Dq3G2soaMkB0",
        "outputId": "1066c7fa-7742-4050-ce09-8154afeb0cf7"
      },
      "outputs": [
        {
          "name": "stdout",
          "output_type": "stream",
          "text": [
            "John-Smith\n"
          ]
        }
      ],
      "source": [
        "name = f\"{anun}-{azganun}\"\n",
        "print(name)"
      ]
    },
    {
      "cell_type": "code",
      "execution_count": null,
      "metadata": {
        "colab": {
          "base_uri": "https://localhost:8080/"
        },
        "id": "aRHZUEZRcy1b",
        "outputId": "bda8decd-691e-4c46-e7e9-86130bc1d09e"
      },
      "outputs": [
        {
          "name": "stdout",
          "output_type": "stream",
          "text": [
            "Իմ անուննը John է իսկ ազգանունը Smith հաջորդ տարի ես կլինեմ 26 տարեկան\n"
          ]
        }
      ],
      "source": [
        "print(f\"Իմ անուննը {anun} է իսկ ազգանունը {azganun} հաջորդ տարի ես կլինեմ {tariq + 1} տարեկան\")"
      ]
    },
    {
      "cell_type": "code",
      "execution_count": null,
      "metadata": {
        "colab": {
          "base_uri": "https://localhost:8080/"
        },
        "id": "HwO8SXKi3GWX",
        "outputId": "2938cb1f-47cf-4118-8614-11a4652eb0b8"
      },
      "outputs": [
        {
          "name": "stdout",
          "output_type": "stream",
          "text": [
            "4\n",
            "shat_erkar_popoghakan = shat_erkar_popoghakan =    4\n",
            "shat_erkar_popoghakan =        4\n"
          ]
        }
      ],
      "source": [
        "shat_erkar_popoghakan = 4\n",
        "print(shat_erkar_popoghakan)\n",
        "print(f\"shat_erkar_popoghakan = {shat_erkar_popoghakan = }\")\n",
        "print(f\"{shat_erkar_popoghakan = }\")\n",
        "\n",
        "# print(f\"\"\"{a} \n",
        "# {x} = {a *3}\n",
        "# \"\"\")"
      ]
    },
    {
      "cell_type": "code",
      "execution_count": null,
      "metadata": {},
      "outputs": [
        {
          "ename": "ValueError",
          "evalue": "Unknown format code 'r' for object of type 'float'",
          "output_type": "error",
          "traceback": [
            "\u001b[1;31m---------------------------------------------------------------------------\u001b[0m",
            "\u001b[1;31mValueError\u001b[0m                                Traceback (most recent call last)",
            "Input \u001b[1;32mIn [66]\u001b[0m, in \u001b[0;36m<cell line: 3>\u001b[1;34m()\u001b[0m\n\u001b[0;32m      1\u001b[0m num \u001b[38;5;241m=\u001b[39m \u001b[38;5;241m5.123456432\u001b[39m\n\u001b[1;32m----> 3\u001b[0m \u001b[38;5;28mprint\u001b[39m(\u001b[38;5;124mf\u001b[39m\u001b[38;5;124m\"\u001b[39m\u001b[38;5;132;01m{\u001b[39;00mnum\u001b[38;5;132;01m:\u001b[39;00m\u001b[38;5;124m.0r\u001b[39m\u001b[38;5;132;01m}\u001b[39;00m\u001b[38;5;124m\"\u001b[39m)\n\u001b[0;32m      5\u001b[0m a \u001b[38;5;241m=\u001b[39m \u001b[38;5;124mf\u001b[39m\u001b[38;5;124m\"\u001b[39m\u001b[38;5;132;01m{\u001b[39;00mnum\u001b[38;5;132;01m:\u001b[39;00m\u001b[38;5;124m.1f\u001b[39m\u001b[38;5;132;01m}\u001b[39;00m\u001b[38;5;124m\"\u001b[39m\n\u001b[0;32m      6\u001b[0m \u001b[38;5;28mprint\u001b[39m(a, \u001b[38;5;28mtype\u001b[39m(a))\n",
            "\u001b[1;31mValueError\u001b[0m: Unknown format code 'r' for object of type 'float'"
          ]
        }
      ],
      "source": [
        "\n",
        "num = 5.123456432\n",
        "\n",
        "print(f\"{num:.0f}\")\n",
        "\n",
        "a = f\"{num:.1f}\"\n",
        "print(a, type(a))"
      ]
    },
    {
      "cell_type": "code",
      "execution_count": 69,
      "metadata": {
        "colab": {
          "base_uri": "https://localhost:8080/"
        },
        "id": "PaKLohAzRfgj",
        "outputId": "46337835-bf47-47cd-82b3-d29cf7918b17"
      },
      "outputs": [
        {
          "name": "stdout",
          "output_type": "stream",
          "text": [
            "ազգանունը {}\n",
            "ազգանունը TArk\n"
          ]
        }
      ],
      "source": [
        "surname = \"ազգանունը {}\"\n",
        "print(surname)\n",
        "\n",
        "surname_input = input()\n",
        "\n",
        "print(surname.format(surname_input))"
      ]
    },
    {
      "cell_type": "markdown",
      "metadata": {
        "id": "Y28qGTTRc95N"
      },
      "source": [
        "#### Raw string"
      ]
    },
    {
      "cell_type": "code",
      "execution_count": 70,
      "metadata": {
        "colab": {
          "base_uri": "https://localhost:8080/"
        },
        "id": "4zi9naFgc3hb",
        "outputId": "f508c7c3-b85f-44de-adc4-b7deafa72547"
      },
      "outputs": [
        {
          "name": "stdout",
          "output_type": "stream",
          "text": [
            "ես առաջին տողն եմ \n",
            " ես էլ երկրորդ\n"
          ]
        }
      ],
      "source": [
        "print('ես առաջին տողն եմ \\n ես էլ երկրորդ')"
      ]
    },
    {
      "cell_type": "code",
      "execution_count": 71,
      "metadata": {
        "id": "O26H5w3pNlhk"
      },
      "outputs": [
        {
          "name": "stdout",
          "output_type": "stream",
          "text": [
            "ես առաջին տողն եմ \\n ես էլ երկրորդ\n"
          ]
        }
      ],
      "source": [
        "a = r'ես առաջին տողն եմ \\n ես էլ երկրորդ'\n",
        "print(a)"
      ]
    },
    {
      "cell_type": "code",
      "execution_count": null,
      "metadata": {
        "colab": {
          "base_uri": "https://localhost:8080/"
        },
        "id": "RWVexBbOdC3v",
        "outputId": "116b75d2-a4d0-4070-a0e7-07a998d82be4"
      },
      "outputs": [
        {
          "name": "stdout",
          "output_type": "stream",
          "text": [
            "ես առաջին տողն եմ \\n ես էլ երկրորդ\n"
          ]
        }
      ],
      "source": [
        "print(a)"
      ]
    },
    {
      "cell_type": "code",
      "execution_count": 72,
      "metadata": {
        "colab": {
          "base_uri": "https://localhost:8080/"
        },
        "id": "_dDrbgOazX7s",
        "outputId": "70abc0c5-37c8-4857-9db8-84d252409775"
      },
      "outputs": [
        {
          "name": "stdout",
          "output_type": "stream",
          "text": [
            "Desktop\tut\n",
            "ur.txt\n"
          ]
        }
      ],
      "source": [
        "print(\"Desktop\\tut\\nur.txt\")"
      ]
    },
    {
      "cell_type": "code",
      "execution_count": 73,
      "metadata": {
        "colab": {
          "base_uri": "https://localhost:8080/"
        },
        "id": "lfSqlPWOTfm8",
        "outputId": "61e29eae-0298-429e-9eac-6b5ab285acb4"
      },
      "outputs": [
        {
          "name": "stdout",
          "output_type": "stream",
          "text": [
            "Desktop\\tut\\nur.txt\n"
          ]
        }
      ],
      "source": [
        "print(\"Desktop\\\\tut\\\\nur.txt\")"
      ]
    },
    {
      "cell_type": "code",
      "execution_count": 74,
      "metadata": {
        "colab": {
          "base_uri": "https://localhost:8080/"
        },
        "id": "F5CDoJnQTRFs",
        "outputId": "241cf32d-6e95-4e56-ed6e-d18baa6a19ab"
      },
      "outputs": [
        {
          "name": "stdout",
          "output_type": "stream",
          "text": [
            "Desktop\\tut\\nur.txt\n"
          ]
        }
      ],
      "source": [
        "print(r\"Desktop\\tut\\nur.txt\")"
      ]
    },
    {
      "cell_type": "markdown",
      "metadata": {
        "id": "aI183FV6dw4O"
      },
      "source": [
        "### Immutability"
      ]
    },
    {
      "cell_type": "code",
      "execution_count": 79,
      "metadata": {
        "id": "WHnX-syIdUNo"
      },
      "outputs": [],
      "source": [
        "s = 'պրնիր'"
      ]
    },
    {
      "cell_type": "code",
      "execution_count": 77,
      "metadata": {
        "colab": {
          "base_uri": "https://localhost:8080/",
          "height": 141
        },
        "id": "SUGq3iQLUyrj",
        "outputId": "dc5e7e17-3d69-4244-ba9b-c28b26b7450a"
      },
      "outputs": [
        {
          "ename": "TypeError",
          "evalue": "'str' object does not support item assignment",
          "output_type": "error",
          "traceback": [
            "\u001b[1;31m---------------------------------------------------------------------------\u001b[0m",
            "\u001b[1;31mTypeError\u001b[0m                                 Traceback (most recent call last)",
            "Input \u001b[1;32mIn [77]\u001b[0m, in \u001b[0;36m<cell line: 1>\u001b[1;34m()\u001b[0m\n\u001b[1;32m----> 1\u001b[0m \u001b[43ms\u001b[49m\u001b[43m[\u001b[49m\u001b[38;5;241;43m1\u001b[39;49m\u001b[43m]\u001b[49m \u001b[38;5;241m=\u001b[39m \u001b[38;5;124m\"\u001b[39m\u001b[38;5;124mա\u001b[39m\u001b[38;5;124m\"\u001b[39m\n",
            "\u001b[1;31mTypeError\u001b[0m: 'str' object does not support item assignment"
          ]
        }
      ],
      "source": [
        "s[1] = \"ա\""
      ]
    },
    {
      "cell_type": "code",
      "execution_count": 78,
      "metadata": {
        "colab": {
          "base_uri": "https://localhost:8080/"
        },
        "id": "UGpai5DFd1Zl",
        "outputId": "d35831a6-449f-4af4-da12-3df1291dc845"
      },
      "outputs": [
        {
          "name": "stdout",
          "output_type": "stream",
          "text": [
            "պանիր\n"
          ]
        }
      ],
      "source": [
        "# s[1] = \"ր\"\n",
        "s = \"պանիր\"\n",
        "print(s)"
      ]
    },
    {
      "cell_type": "code",
      "execution_count": 80,
      "metadata": {
        "colab": {
          "base_uri": "https://localhost:8080/"
        },
        "id": "c7Yc6BM1d4fJ",
        "outputId": "42e88623-1372-4fe3-9dac-ef7ea1a7b3d0"
      },
      "outputs": [
        {
          "name": "stdout",
          "output_type": "stream",
          "text": [
            "պանիր\n"
          ]
        }
      ],
      "source": [
        "s = s[0] + \"ա\" + s[2:]\n",
        "print(s)"
      ]
    },
    {
      "cell_type": "markdown",
      "metadata": {
        "id": "e3McpAKDeYEu"
      },
      "source": [
        "### in"
      ]
    },
    {
      "cell_type": "code",
      "execution_count": null,
      "metadata": {
        "id": "vsRiOWv9d94y"
      },
      "outputs": [],
      "source": [
        "s = 'աղցան սոխ'"
      ]
    },
    {
      "cell_type": "code",
      "execution_count": 83,
      "metadata": {
        "colab": {
          "base_uri": "https://localhost:8080/"
        },
        "id": "fk3JyifOed1n",
        "outputId": "69c26d0d-29bc-4fea-bcaf-a940f4814df8"
      },
      "outputs": [
        {
          "name": "stdout",
          "output_type": "stream",
          "text": [
            "True\n",
            "True\n"
          ]
        }
      ],
      "source": [
        "print('ա' in s)\n",
        "print('ան' in s)"
      ]
    },
    {
      "cell_type": "code",
      "execution_count": 85,
      "metadata": {
        "colab": {
          "base_uri": "https://localhost:8080/"
        },
        "id": "BkutRmbHef3Y",
        "outputId": "2cb78ad2-c3a8-4255-ee3c-df546cf71821"
      },
      "outputs": [
        {
          "name": "stdout",
          "output_type": "stream",
          "text": [
            "False\n",
            "True\n"
          ]
        }
      ],
      "source": [
        "print('ղա' in s)\n",
        "print('աղ' in s)"
      ]
    },
    {
      "cell_type": "code",
      "execution_count": 112,
      "metadata": {
        "colab": {
          "base_uri": "https://localhost:8080/"
        },
        "id": "iZdQB-__aRuD",
        "outputId": "8fd4376e-2661-4b51-a826-186fae5ed336"
      },
      "outputs": [
        {
          "name": "stdout",
          "output_type": "stream",
          "text": [
            "False\n"
          ]
        }
      ],
      "source": [
        "print('բիբառ' in s)"
      ]
    },
    {
      "cell_type": "markdown",
      "metadata": {
        "id": "WfKo6rHa7n5h"
      },
      "source": [
        "## List (ցուցակ)"
      ]
    },
    {
      "cell_type": "markdown",
      "metadata": {
        "id": "BuMI2hks88rf"
      },
      "source": [
        "### Հայտարարումը"
      ]
    },
    {
      "cell_type": "code",
      "execution_count": null,
      "metadata": {
        "colab": {
          "base_uri": "https://localhost:8080/"
        },
        "id": "nftRBWd17qLc",
        "outputId": "d89e193e-8d06-4ff3-8bb1-816d27b8ee94"
      },
      "outputs": [
        {
          "name": "stdout",
          "output_type": "stream",
          "text": [
            "[1, 3.14, 'կարտոֆիլ', [25, 33], 5]\n",
            "<class 'list'>\n",
            "[3.14, 'կարտոֆիլ']\n",
            "[1, 2]\n",
            "1 3.14 կարտոֆիլ [25, 33] 5\n"
          ]
        }
      ],
      "source": [
        "a = [1, 3.14, \"կարտոֆիլ\", [25,33], 5]\n",
        "\n",
        "print(a)\n",
        "print(type(a))\n",
        "print(a[1:3])\n",
        "print(list(range(1,3)))\n"
      ]
    },
    {
      "cell_type": "code",
      "execution_count": 87,
      "metadata": {
        "colab": {
          "base_uri": "https://localhost:8080/"
        },
        "id": "LBc8J2KC0m1W",
        "outputId": "2ab43b01-3608-4e4d-e004-93ec6745cc53"
      },
      "outputs": [
        {
          "name": "stdout",
          "output_type": "stream",
          "text": [
            "3.14\n"
          ]
        }
      ],
      "source": [
        "print(a[1])"
      ]
    },
    {
      "cell_type": "code",
      "execution_count": 88,
      "metadata": {
        "colab": {
          "base_uri": "https://localhost:8080/"
        },
        "id": "5GaGfMZwWIgd",
        "outputId": "1da70fa1-14b6-4848-ca0c-9c41b177d0e3"
      },
      "outputs": [
        {
          "name": "stdout",
          "output_type": "stream",
          "text": [
            "5\n"
          ]
        }
      ],
      "source": [
        "print(a[-1])"
      ]
    },
    {
      "cell_type": "code",
      "execution_count": 89,
      "metadata": {
        "colab": {
          "base_uri": "https://localhost:8080/"
        },
        "id": "1fGA1f38WN_J",
        "outputId": "be775932-b6e6-445a-b010-08d61266b396"
      },
      "outputs": [
        {
          "name": "stdout",
          "output_type": "stream",
          "text": [
            "['կարտոֆիլ', [25, 33]]\n"
          ]
        }
      ],
      "source": [
        "print(a[2:4])\n"
      ]
    },
    {
      "cell_type": "code",
      "execution_count": 90,
      "metadata": {
        "colab": {
          "base_uri": "https://localhost:8080/"
        },
        "id": "CHVhXHJW7yjN",
        "outputId": "9866b9fd-db7a-4676-b4fe-2185a4b90633"
      },
      "outputs": [
        {
          "name": "stdout",
          "output_type": "stream",
          "text": [
            "[25, 33]\n",
            "33\n",
            "33\n"
          ]
        }
      ],
      "source": [
        "print(a[3])\n",
        "\n",
        "print(a[3][1])\n",
        "\n",
        "print([25, 33][1])"
      ]
    },
    {
      "cell_type": "code",
      "execution_count": 91,
      "metadata": {
        "colab": {
          "base_uri": "https://localhost:8080/"
        },
        "id": "b5v82TV1ahiY",
        "outputId": "0ccb04c2-b1b1-4bb7-90f5-ca8064fbd37d"
      },
      "outputs": [
        {
          "data": {
            "text/plain": [
              "[1, 3.14, 'կարտոֆիլ']"
            ]
          },
          "execution_count": 91,
          "metadata": {},
          "output_type": "execute_result"
        }
      ],
      "source": [
        "a[:3]"
      ]
    },
    {
      "cell_type": "code",
      "execution_count": null,
      "metadata": {
        "id": "e_reHepV7zIv"
      },
      "outputs": [],
      "source": []
    },
    {
      "cell_type": "code",
      "execution_count": 96,
      "metadata": {
        "colab": {
          "base_uri": "https://localhost:8080/"
        },
        "id": "4X4zM85C701Z",
        "outputId": "24bedbc5-adcf-4a42-a9a6-31681b78b123"
      },
      "outputs": [
        {
          "name": "stdout",
          "output_type": "stream",
          "text": [
            "[1, 5, 3, 50, 9]\n"
          ]
        }
      ],
      "source": [
        "a = [1,\n",
        "     5,\n",
        "     3,\n",
        "     50,\n",
        "     9]\n",
        "print(a)"
      ]
    },
    {
      "cell_type": "code",
      "execution_count": 99,
      "metadata": {
        "colab": {
          "base_uri": "https://localhost:8080/"
        },
        "id": "zUEggM8Q0uKB",
        "outputId": "915e5b96-51a9-4a32-d072-47dc7b1d5a81"
      },
      "outputs": [
        {
          "name": "stdout",
          "output_type": "stream",
          "text": [
            "[509, 5, 3, 50, 9]\n"
          ]
        }
      ],
      "source": [
        "# s[1] = \"ա\"\n",
        "a[0] = 509\n",
        "print(a) # mutable"
      ]
    },
    {
      "cell_type": "code",
      "execution_count": 100,
      "metadata": {
        "colab": {
          "base_uri": "https://localhost:8080/"
        },
        "id": "rx7w_ErR77QR",
        "outputId": "d7219e02-f242-4819-c80c-217c9a8117db"
      },
      "outputs": [
        {
          "name": "stdout",
          "output_type": "stream",
          "text": [
            "False\n",
            "False\n"
          ]
        }
      ],
      "source": [
        "print(12 in a)\n",
        "print(11 in a)"
      ]
    },
    {
      "cell_type": "code",
      "execution_count": null,
      "metadata": {
        "colab": {
          "base_uri": "https://localhost:8080/"
        },
        "id": "ZAUbWBos9AV_",
        "outputId": "71648e32-a0a5-48b0-f37d-9f3f31b5248a"
      },
      "outputs": [
        {
          "name": "stdout",
          "output_type": "stream",
          "text": [
            "['b', 'a', 'r', 'e', 'v']\n",
            "[\n"
          ]
        }
      ],
      "source": [
        "a = list(\"barev\")\n",
        "print(a)\n",
        "\n",
        "print(str([1,2,3]))"
      ]
    },
    {
      "cell_type": "markdown",
      "metadata": {
        "id": "6JqkeZyw9FRg"
      },
      "source": [
        "### Գումարում, թվով բազմապատկում "
      ]
    },
    {
      "cell_type": "code",
      "execution_count": 101,
      "metadata": {
        "colab": {
          "base_uri": "https://localhost:8080/"
        },
        "id": "1oClTE_Q77_h",
        "outputId": "b140d20e-015a-4a0d-bef6-ce516076942a"
      },
      "outputs": [
        {
          "name": "stdout",
          "output_type": "stream",
          "text": [
            "[2, 4, 6]\n",
            "[509, 5, 3, 50, 9]\n"
          ]
        }
      ],
      "source": [
        "b = [2, 4, 6]\n",
        "print(b)\n",
        "\n",
        "print(a)"
      ]
    },
    {
      "cell_type": "code",
      "execution_count": 102,
      "metadata": {
        "colab": {
          "base_uri": "https://localhost:8080/"
        },
        "id": "FGjcwYcY8BTG",
        "outputId": "31a87d7d-0d5f-4774-9d55-f7316cebbd07"
      },
      "outputs": [
        {
          "data": {
            "text/plain": [
              "[509, 5, 3, 50, 9, 2, 4, 6]"
            ]
          },
          "execution_count": 102,
          "metadata": {},
          "output_type": "execute_result"
        }
      ],
      "source": [
        "a + b"
      ]
    },
    {
      "cell_type": "code",
      "execution_count": 103,
      "metadata": {
        "colab": {
          "base_uri": "https://localhost:8080/"
        },
        "id": "rUR5m_Te8B72",
        "outputId": "809e375f-103f-49cd-8af6-df9c15b002b9"
      },
      "outputs": [
        {
          "data": {
            "text/plain": [
              "[2, 4, 6, 2, 4, 6, 2, 4, 6]"
            ]
          },
          "execution_count": 103,
          "metadata": {},
          "output_type": "execute_result"
        }
      ],
      "source": [
        "b * 3"
      ]
    },
    {
      "cell_type": "code",
      "execution_count": null,
      "metadata": {
        "colab": {
          "base_uri": "https://localhost:8080/"
        },
        "id": "WRxhzmb4bFsU",
        "outputId": "63f924fb-b701-49ff-897c-48767258e441"
      },
      "outputs": [
        {
          "name": "stdout",
          "output_type": "stream",
          "text": [
            "[2, 4, 6]\n"
          ]
        }
      ],
      "source": [
        "print(b)"
      ]
    },
    {
      "cell_type": "code",
      "execution_count": 106,
      "metadata": {},
      "outputs": [],
      "source": [
        "b += [5]"
      ]
    },
    {
      "cell_type": "code",
      "execution_count": 148,
      "metadata": {},
      "outputs": [
        {
          "data": {
            "text/plain": [
              "[2, 4, 6, 5]"
            ]
          },
          "execution_count": 148,
          "metadata": {},
          "output_type": "execute_result"
        }
      ],
      "source": [
        "b"
      ]
    },
    {
      "cell_type": "code",
      "execution_count": null,
      "metadata": {
        "colab": {
          "base_uri": "https://localhost:8080/"
        },
        "id": "tKG4_aJb8DdC",
        "outputId": "787a060d-3e53-448a-d879-23c70f7fa295"
      },
      "outputs": [
        {
          "name": "stdout",
          "output_type": "stream",
          "text": [
            "[2, 4, 6, 5, 5, 5]\n"
          ]
        }
      ],
      "source": [
        "# b = b + 5 # b += 5\n",
        "b = b + [5]\n",
        "b += [5]\n",
        "print(b)"
      ]
    },
    {
      "cell_type": "code",
      "execution_count": 108,
      "metadata": {
        "colab": {
          "base_uri": "https://localhost:8080/"
        },
        "id": "I0x7FzTD8Gtk",
        "outputId": "20d9857a-d8e2-408f-9946-f64f18eca8c6"
      },
      "outputs": [
        {
          "name": "stdout",
          "output_type": "stream",
          "text": [
            "[509, 5, 3, 50, 9, 5, [1, 2, 4], 5, [1, 2, 4]]\n"
          ]
        }
      ],
      "source": [
        "a.append(5)\n",
        "\n",
        "a.append([1,2, 4])\n",
        "\n",
        "# a = a.append(5)\n",
        "\n",
        "print(a)"
      ]
    },
    {
      "cell_type": "code",
      "execution_count": 111,
      "metadata": {
        "colab": {
          "base_uri": "https://localhost:8080/"
        },
        "id": "yX1bXXGA8KgP",
        "outputId": "29163230-6379-406a-d730-3c584ed15f49"
      },
      "outputs": [
        {
          "data": {
            "text/plain": [
              "[509, 5, 5, [1, 2, 4], 5, [1, 2, 4]]"
            ]
          },
          "execution_count": 111,
          "metadata": {},
          "output_type": "execute_result"
        }
      ],
      "source": [
        "del a[2] # delete\n",
        "a"
      ]
    },
    {
      "cell_type": "markdown",
      "metadata": {
        "id": "UDfUcgr49Kp6"
      },
      "source": [
        "### ցուցակների վրա հաճախ կիրառվող ֆունկցիաներ (հրամաններ)"
      ]
    },
    {
      "cell_type": "code",
      "execution_count": 112,
      "metadata": {
        "colab": {
          "base_uri": "https://localhost:8080/",
          "height": 193
        },
        "id": "VKlK6jRh8OGX",
        "outputId": "bb923274-7ee4-4866-9b6b-1de60a83d0cc"
      },
      "outputs": [
        {
          "name": "stdout",
          "output_type": "stream",
          "text": [
            "801.4\n"
          ]
        }
      ],
      "source": [
        "a = [1, 3.4, 654, 143]\n",
        "print(sum(a))\n",
        "\n",
        "# b = [\"a\", \"b\", \"c\"]\n",
        "# print(sum(b))"
      ]
    },
    {
      "cell_type": "code",
      "execution_count": 113,
      "metadata": {
        "colab": {
          "base_uri": "https://localhost:8080/"
        },
        "id": "kkf1b83a8jBJ",
        "outputId": "63d06300-75af-4189-f4ce-1a2f7cbfb9e0"
      },
      "outputs": [
        {
          "name": "stdout",
          "output_type": "stream",
          "text": [
            "654\n"
          ]
        }
      ],
      "source": [
        "print(max(a))"
      ]
    },
    {
      "cell_type": "code",
      "execution_count": 114,
      "metadata": {
        "colab": {
          "base_uri": "https://localhost:8080/"
        },
        "id": "LLUDA-am8kA1",
        "outputId": "bc17bd28-0065-44ab-96fd-1c373875c2eb"
      },
      "outputs": [
        {
          "name": "stdout",
          "output_type": "stream",
          "text": [
            "1\n"
          ]
        }
      ],
      "source": [
        "print(min(a))"
      ]
    },
    {
      "cell_type": "code",
      "execution_count": 115,
      "metadata": {
        "colab": {
          "base_uri": "https://localhost:8080/"
        },
        "id": "eGGWTlFH8klg",
        "outputId": "23a98045-9fec-41f1-c094-ee49dda107e0"
      },
      "outputs": [
        {
          "name": "stdout",
          "output_type": "stream",
          "text": [
            "4\n"
          ]
        }
      ],
      "source": [
        "print(len(a)) # length"
      ]
    },
    {
      "cell_type": "markdown",
      "metadata": {
        "id": "CsLxZg4MbhTt"
      },
      "source": [
        "## Թվերի վրա հաճախ կիրառվող ֆունկցիաներ (հրամաններ)"
      ]
    },
    {
      "cell_type": "code",
      "execution_count": 117,
      "metadata": {
        "colab": {
          "base_uri": "https://localhost:8080/"
        },
        "id": "pfLzU-G5blWL",
        "outputId": "5489c5a1-25c6-42f0-d5ab-b3d3174b82af"
      },
      "outputs": [
        {
          "name": "stdout",
          "output_type": "stream",
          "text": [
            "509\n"
          ]
        }
      ],
      "source": [
        "a = -509\n",
        "print(abs(a)) # absolute value, բացարձակ արժեք, մոդուլ"
      ]
    },
    {
      "cell_type": "code",
      "execution_count": null,
      "metadata": {
        "colab": {
          "base_uri": "https://localhost:8080/"
        },
        "id": "K34nPTKkbpBX",
        "outputId": "1be6b2f4-82fc-402b-bb7f-2ccd1092c409"
      },
      "outputs": [
        {
          "name": "stdout",
          "output_type": "stream",
          "text": [
            "0.6299605249474366\n"
          ]
        }
      ],
      "source": [
        "a = 4 # a**3\n",
        "print(pow(a, (1/3))) # power ասիճան pow(a, b) նշանակումա a-ի b աստիճան"
      ]
    },
    {
      "cell_type": "code",
      "execution_count": 119,
      "metadata": {
        "colab": {
          "base_uri": "https://localhost:8080/"
        },
        "id": "cW0SQRMZbxEj",
        "outputId": "b02cc242-8794-4146-c64d-88d0f7697984"
      },
      "outputs": [
        {
          "name": "stdout",
          "output_type": "stream",
          "text": [
            "3.14159-ն կլորացնենք -> 3\n",
            "3.89-ն կլորացնենք -> 4\n",
            "4\n",
            "-4\n",
            "3.142\n"
          ]
        }
      ],
      "source": [
        "a = 3.14159\n",
        "b = 3.89\n",
        "# print(round(a))\n",
        "print(f\"{a}-ն կլորացնենք -> {round(a)}\")\n",
        "print(f\"{b}-ն կլորացնենք -> {round(b)}\")\n",
        "\n",
        "print(round(3.5))\n",
        "\n",
        "print(round(-3.7))\n",
        "\n",
        "print(round(a, 3)) # ստորակետից հետո քանի նիշի ճշտությամբ ենք ուզում կլորացնել"
      ]
    },
    {
      "cell_type": "code",
      "execution_count": 169,
      "metadata": {
        "colab": {
          "base_uri": "https://localhost:8080/",
          "height": 141
        },
        "id": "paWSDLYQZk-U",
        "outputId": "3b3de3c7-a7a1-4898-b13e-85cc54beff36"
      },
      "outputs": [
        {
          "ename": "NameError",
          "evalue": "name 'cos' is not defined",
          "output_type": "error",
          "traceback": [
            "\u001b[1;31m---------------------------------------------------------------------------\u001b[0m",
            "\u001b[1;31mNameError\u001b[0m                                 Traceback (most recent call last)",
            "Input \u001b[1;32mIn [169]\u001b[0m, in \u001b[0;36m<cell line: 1>\u001b[1;34m()\u001b[0m\n\u001b[1;32m----> 1\u001b[0m \u001b[43mcos\u001b[49m(\u001b[38;5;241m3\u001b[39m)\n",
            "\u001b[1;31mNameError\u001b[0m: name 'cos' is not defined"
          ]
        }
      ],
      "source": [
        "cos(3)"
      ]
    },
    {
      "cell_type": "markdown",
      "metadata": {
        "id": "JwFHS8XNc5rY"
      },
      "source": [
        "## Մեծացնենք մեր ֆունկցիաների հավաքածուն"
      ]
    },
    {
      "cell_type": "markdown",
      "metadata": {},
      "source": [
        "### math"
      ]
    },
    {
      "cell_type": "code",
      "execution_count": 120,
      "metadata": {
        "id": "53eNFkyic3oC"
      },
      "outputs": [],
      "source": [
        "import math # import-ների մասին դեռ կխոսենք"
      ]
    },
    {
      "cell_type": "code",
      "execution_count": 122,
      "metadata": {
        "colab": {
          "base_uri": "https://localhost:8080/"
        },
        "id": "TGYRrxq1c9Bj",
        "outputId": "55183495-c7d5-413c-8779-9eb062849f3e"
      },
      "outputs": [
        {
          "name": "stdout",
          "output_type": "stream",
          "text": [
            "4\n",
            "3\n"
          ]
        }
      ],
      "source": [
        "a = 3.5\n",
        "\n",
        "print(math.ceil(a)) # առաստաղ\n",
        "print(math.floor(a)) # հատակ # int(a)"
      ]
    },
    {
      "cell_type": "code",
      "execution_count": 173,
      "metadata": {},
      "outputs": [
        {
          "name": "stdout",
          "output_type": "stream",
          "text": [
            "The Zen of Python, by Tim Peters\n",
            "\n",
            "Beautiful is better than ugly.\n",
            "Explicit is better than implicit.\n",
            "Simple is better than complex.\n",
            "Complex is better than complicated.\n",
            "Flat is better than nested.\n",
            "Sparse is better than dense.\n",
            "Readability counts.\n",
            "Special cases aren't special enough to break the rules.\n",
            "Although practicality beats purity.\n",
            "Errors should never pass silently.\n",
            "Unless explicitly silenced.\n",
            "In the face of ambiguity, refuse the temptation to guess.\n",
            "There should be one-- and preferably only one --obvious way to do it.\n",
            "Although that way may not be obvious at first unless you're Dutch.\n",
            "Now is better than never.\n",
            "Although never is often better than *right* now.\n",
            "If the implementation is hard to explain, it's a bad idea.\n",
            "If the implementation is easy to explain, it may be a good idea.\n",
            "Namespaces are one honking great idea -- let's do more of those!\n"
          ]
        }
      ],
      "source": [
        "import this"
      ]
    },
    {
      "cell_type": "code",
      "execution_count": 123,
      "metadata": {
        "colab": {
          "base_uri": "https://localhost:8080/"
        },
        "id": "M0hQWGU6dnq6",
        "outputId": "a6f77f2a-6308-48cb-c012-472d414dde50"
      },
      "outputs": [
        {
          "name": "stdout",
          "output_type": "stream",
          "text": [
            "4\n",
            "3\n"
          ]
        }
      ],
      "source": [
        "from math import ceil, floor\n",
        "\n",
        "a = 3.5\n",
        "print(ceil(a)) # առաստաղ\n",
        "print(floor(a)) # հատակ"
      ]
    },
    {
      "cell_type": "code",
      "execution_count": 124,
      "metadata": {
        "colab": {
          "base_uri": "https://localhost:8080/"
        },
        "id": "1sEFBhBQdLdW",
        "outputId": "4154b753-80e6-462f-86f8-2687e918a4fc"
      },
      "outputs": [
        {
          "name": "stdout",
          "output_type": "stream",
          "text": [
            "5.0\n"
          ]
        }
      ],
      "source": [
        "a = 25\n",
        "print(math.sqrt(a)) # square root, քառակուսի արմատ"
      ]
    },
    {
      "cell_type": "code",
      "execution_count": 125,
      "metadata": {
        "colab": {
          "base_uri": "https://localhost:8080/"
        },
        "id": "J8RitKamdX_F",
        "outputId": "033dda40-ef20-4baa-b0f2-0a4d76c6ee6f"
      },
      "outputs": [
        {
          "name": "stdout",
          "output_type": "stream",
          "text": [
            "1.0\n"
          ]
        }
      ],
      "source": [
        "a = 0\n",
        "print(math.cos(a))"
      ]
    },
    {
      "cell_type": "code",
      "execution_count": 126,
      "metadata": {},
      "outputs": [
        {
          "name": "stdout",
          "output_type": "stream",
          "text": [
            "Help on built-in module math:\n",
            "\n",
            "NAME\n",
            "    math\n",
            "\n",
            "DESCRIPTION\n",
            "    This module provides access to the mathematical functions\n",
            "    defined by the C standard.\n",
            "\n",
            "FUNCTIONS\n",
            "    acos(x, /)\n",
            "        Return the arc cosine (measured in radians) of x.\n",
            "        \n",
            "        The result is between 0 and pi.\n",
            "    \n",
            "    acosh(x, /)\n",
            "        Return the inverse hyperbolic cosine of x.\n",
            "    \n",
            "    asin(x, /)\n",
            "        Return the arc sine (measured in radians) of x.\n",
            "        \n",
            "        The result is between -pi/2 and pi/2.\n",
            "    \n",
            "    asinh(x, /)\n",
            "        Return the inverse hyperbolic sine of x.\n",
            "    \n",
            "    atan(x, /)\n",
            "        Return the arc tangent (measured in radians) of x.\n",
            "        \n",
            "        The result is between -pi/2 and pi/2.\n",
            "    \n",
            "    atan2(y, x, /)\n",
            "        Return the arc tangent (measured in radians) of y/x.\n",
            "        \n",
            "        Unlike atan(y/x), the signs of both x and y are considered.\n",
            "    \n",
            "    atanh(x, /)\n",
            "        Return the inverse hyperbolic tangent of x.\n",
            "    \n",
            "    ceil(x, /)\n",
            "        Return the ceiling of x as an Integral.\n",
            "        \n",
            "        This is the smallest integer >= x.\n",
            "    \n",
            "    comb(n, k, /)\n",
            "        Number of ways to choose k items from n items without repetition and without order.\n",
            "        \n",
            "        Evaluates to n! / (k! * (n - k)!) when k <= n and evaluates\n",
            "        to zero when k > n.\n",
            "        \n",
            "        Also called the binomial coefficient because it is equivalent\n",
            "        to the coefficient of k-th term in polynomial expansion of the\n",
            "        expression (1 + x)**n.\n",
            "        \n",
            "        Raises TypeError if either of the arguments are not integers.\n",
            "        Raises ValueError if either of the arguments are negative.\n",
            "    \n",
            "    copysign(x, y, /)\n",
            "        Return a float with the magnitude (absolute value) of x but the sign of y.\n",
            "        \n",
            "        On platforms that support signed zeros, copysign(1.0, -0.0)\n",
            "        returns -1.0.\n",
            "    \n",
            "    cos(x, /)\n",
            "        Return the cosine of x (measured in radians).\n",
            "    \n",
            "    cosh(x, /)\n",
            "        Return the hyperbolic cosine of x.\n",
            "    \n",
            "    degrees(x, /)\n",
            "        Convert angle x from radians to degrees.\n",
            "    \n",
            "    dist(p, q, /)\n",
            "        Return the Euclidean distance between two points p and q.\n",
            "        \n",
            "        The points should be specified as sequences (or iterables) of\n",
            "        coordinates.  Both inputs must have the same dimension.\n",
            "        \n",
            "        Roughly equivalent to:\n",
            "            sqrt(sum((px - qx) ** 2.0 for px, qx in zip(p, q)))\n",
            "    \n",
            "    erf(x, /)\n",
            "        Error function at x.\n",
            "    \n",
            "    erfc(x, /)\n",
            "        Complementary error function at x.\n",
            "    \n",
            "    exp(x, /)\n",
            "        Return e raised to the power of x.\n",
            "    \n",
            "    expm1(x, /)\n",
            "        Return exp(x)-1.\n",
            "        \n",
            "        This function avoids the loss of precision involved in the direct evaluation of exp(x)-1 for small x.\n",
            "    \n",
            "    fabs(x, /)\n",
            "        Return the absolute value of the float x.\n",
            "    \n",
            "    factorial(x, /)\n",
            "        Find x!.\n",
            "        \n",
            "        Raise a ValueError if x is negative or non-integral.\n",
            "    \n",
            "    floor(x, /)\n",
            "        Return the floor of x as an Integral.\n",
            "        \n",
            "        This is the largest integer <= x.\n",
            "    \n",
            "    fmod(x, y, /)\n",
            "        Return fmod(x, y), according to platform C.\n",
            "        \n",
            "        x % y may differ.\n",
            "    \n",
            "    frexp(x, /)\n",
            "        Return the mantissa and exponent of x, as pair (m, e).\n",
            "        \n",
            "        m is a float and e is an int, such that x = m * 2.**e.\n",
            "        If x is 0, m and e are both 0.  Else 0.5 <= abs(m) < 1.0.\n",
            "    \n",
            "    fsum(seq, /)\n",
            "        Return an accurate floating point sum of values in the iterable seq.\n",
            "        \n",
            "        Assumes IEEE-754 floating point arithmetic.\n",
            "    \n",
            "    gamma(x, /)\n",
            "        Gamma function at x.\n",
            "    \n",
            "    gcd(*integers)\n",
            "        Greatest Common Divisor.\n",
            "    \n",
            "    hypot(...)\n",
            "        hypot(*coordinates) -> value\n",
            "        \n",
            "        Multidimensional Euclidean distance from the origin to a point.\n",
            "        \n",
            "        Roughly equivalent to:\n",
            "            sqrt(sum(x**2 for x in coordinates))\n",
            "        \n",
            "        For a two dimensional point (x, y), gives the hypotenuse\n",
            "        using the Pythagorean theorem:  sqrt(x*x + y*y).\n",
            "        \n",
            "        For example, the hypotenuse of a 3/4/5 right triangle is:\n",
            "        \n",
            "            >>> hypot(3.0, 4.0)\n",
            "            5.0\n",
            "    \n",
            "    isclose(a, b, *, rel_tol=1e-09, abs_tol=0.0)\n",
            "        Determine whether two floating point numbers are close in value.\n",
            "        \n",
            "          rel_tol\n",
            "            maximum difference for being considered \"close\", relative to the\n",
            "            magnitude of the input values\n",
            "          abs_tol\n",
            "            maximum difference for being considered \"close\", regardless of the\n",
            "            magnitude of the input values\n",
            "        \n",
            "        Return True if a is close in value to b, and False otherwise.\n",
            "        \n",
            "        For the values to be considered close, the difference between them\n",
            "        must be smaller than at least one of the tolerances.\n",
            "        \n",
            "        -inf, inf and NaN behave similarly to the IEEE 754 Standard.  That\n",
            "        is, NaN is not close to anything, even itself.  inf and -inf are\n",
            "        only close to themselves.\n",
            "    \n",
            "    isfinite(x, /)\n",
            "        Return True if x is neither an infinity nor a NaN, and False otherwise.\n",
            "    \n",
            "    isinf(x, /)\n",
            "        Return True if x is a positive or negative infinity, and False otherwise.\n",
            "    \n",
            "    isnan(x, /)\n",
            "        Return True if x is a NaN (not a number), and False otherwise.\n",
            "    \n",
            "    isqrt(n, /)\n",
            "        Return the integer part of the square root of the input.\n",
            "    \n",
            "    lcm(*integers)\n",
            "        Least Common Multiple.\n",
            "    \n",
            "    ldexp(x, i, /)\n",
            "        Return x * (2**i).\n",
            "        \n",
            "        This is essentially the inverse of frexp().\n",
            "    \n",
            "    lgamma(x, /)\n",
            "        Natural logarithm of absolute value of Gamma function at x.\n",
            "    \n",
            "    log(...)\n",
            "        log(x, [base=math.e])\n",
            "        Return the logarithm of x to the given base.\n",
            "        \n",
            "        If the base not specified, returns the natural logarithm (base e) of x.\n",
            "    \n",
            "    log10(x, /)\n",
            "        Return the base 10 logarithm of x.\n",
            "    \n",
            "    log1p(x, /)\n",
            "        Return the natural logarithm of 1+x (base e).\n",
            "        \n",
            "        The result is computed in a way which is accurate for x near zero.\n",
            "    \n",
            "    log2(x, /)\n",
            "        Return the base 2 logarithm of x.\n",
            "    \n",
            "    modf(x, /)\n",
            "        Return the fractional and integer parts of x.\n",
            "        \n",
            "        Both results carry the sign of x and are floats.\n",
            "    \n",
            "    nextafter(x, y, /)\n",
            "        Return the next floating-point value after x towards y.\n",
            "    \n",
            "    perm(n, k=None, /)\n",
            "        Number of ways to choose k items from n items without repetition and with order.\n",
            "        \n",
            "        Evaluates to n! / (n - k)! when k <= n and evaluates\n",
            "        to zero when k > n.\n",
            "        \n",
            "        If k is not specified or is None, then k defaults to n\n",
            "        and the function returns n!.\n",
            "        \n",
            "        Raises TypeError if either of the arguments are not integers.\n",
            "        Raises ValueError if either of the arguments are negative.\n",
            "    \n",
            "    pow(x, y, /)\n",
            "        Return x**y (x to the power of y).\n",
            "    \n",
            "    prod(iterable, /, *, start=1)\n",
            "        Calculate the product of all the elements in the input iterable.\n",
            "        \n",
            "        The default start value for the product is 1.\n",
            "        \n",
            "        When the iterable is empty, return the start value.  This function is\n",
            "        intended specifically for use with numeric values and may reject\n",
            "        non-numeric types.\n",
            "    \n",
            "    radians(x, /)\n",
            "        Convert angle x from degrees to radians.\n",
            "    \n",
            "    remainder(x, y, /)\n",
            "        Difference between x and the closest integer multiple of y.\n",
            "        \n",
            "        Return x - n*y where n*y is the closest integer multiple of y.\n",
            "        In the case where x is exactly halfway between two multiples of\n",
            "        y, the nearest even value of n is used. The result is always exact.\n",
            "    \n",
            "    sin(x, /)\n",
            "        Return the sine of x (measured in radians).\n",
            "    \n",
            "    sinh(x, /)\n",
            "        Return the hyperbolic sine of x.\n",
            "    \n",
            "    sqrt(x, /)\n",
            "        Return the square root of x.\n",
            "    \n",
            "    tan(x, /)\n",
            "        Return the tangent of x (measured in radians).\n",
            "    \n",
            "    tanh(x, /)\n",
            "        Return the hyperbolic tangent of x.\n",
            "    \n",
            "    trunc(x, /)\n",
            "        Truncates the Real x to the nearest Integral toward 0.\n",
            "        \n",
            "        Uses the __trunc__ magic method.\n",
            "    \n",
            "    ulp(x, /)\n",
            "        Return the value of the least significant bit of the float x.\n",
            "\n",
            "DATA\n",
            "    e = 2.718281828459045\n",
            "    inf = inf\n",
            "    nan = nan\n",
            "    pi = 3.141592653589793\n",
            "    tau = 6.283185307179586\n",
            "\n",
            "FILE\n",
            "    (built-in)\n",
            "\n",
            "\n"
          ]
        }
      ],
      "source": [
        "help(math)"
      ]
    },
    {
      "cell_type": "code",
      "execution_count": 127,
      "metadata": {
        "colab": {
          "base_uri": "https://localhost:8080/"
        },
        "id": "HOpkSNVXdlNM",
        "outputId": "550f33e7-a3d7-441b-dbfa-4a1971d5a275"
      },
      "outputs": [
        {
          "name": "stdout",
          "output_type": "stream",
          "text": [
            "Help on built-in function sqrt in module math:\n",
            "\n",
            "sqrt(x, /)\n",
            "    Return the square root of x.\n",
            "\n"
          ]
        }
      ],
      "source": [
        "help(math.sqrt)\n"
      ]
    },
    {
      "cell_type": "code",
      "execution_count": null,
      "metadata": {
        "colab": {
          "base_uri": "https://localhost:8080/"
        },
        "id": "rXeknD6ZaU_3",
        "outputId": "0be6f254-fc07-4e06-91be-29d9afa5a7a9"
      },
      "outputs": [
        {
          "name": "stdout",
          "output_type": "stream",
          "text": [
            "Help on built-in module math:\n",
            "\n",
            "NAME\n",
            "    math\n",
            "\n",
            "DESCRIPTION\n",
            "    This module provides access to the mathematical functions\n",
            "    defined by the C standard.\n",
            "\n",
            "FUNCTIONS\n",
            "    acos(x, /)\n",
            "        Return the arc cosine (measured in radians) of x.\n",
            "        \n",
            "        The result is between 0 and pi.\n",
            "    \n",
            "    acosh(x, /)\n",
            "        Return the inverse hyperbolic cosine of x.\n",
            "    \n",
            "    asin(x, /)\n",
            "        Return the arc sine (measured in radians) of x.\n",
            "        \n",
            "        The result is between -pi/2 and pi/2.\n",
            "    \n",
            "    asinh(x, /)\n",
            "        Return the inverse hyperbolic sine of x.\n",
            "    \n",
            "    atan(x, /)\n",
            "        Return the arc tangent (measured in radians) of x.\n",
            "        \n",
            "        The result is between -pi/2 and pi/2.\n",
            "    \n",
            "    atan2(y, x, /)\n",
            "        Return the arc tangent (measured in radians) of y/x.\n",
            "        \n",
            "        Unlike atan(y/x), the signs of both x and y are considered.\n",
            "    \n",
            "    atanh(x, /)\n",
            "        Return the inverse hyperbolic tangent of x.\n",
            "    \n",
            "    ceil(x, /)\n",
            "        Return the ceiling of x as an Integral.\n",
            "        \n",
            "        This is the smallest integer >= x.\n",
            "    \n",
            "    comb(n, k, /)\n",
            "        Number of ways to choose k items from n items without repetition and without order.\n",
            "        \n",
            "        Evaluates to n! / (k! * (n - k)!) when k <= n and evaluates\n",
            "        to zero when k > n.\n",
            "        \n",
            "        Also called the binomial coefficient because it is equivalent\n",
            "        to the coefficient of k-th term in polynomial expansion of the\n",
            "        expression (1 + x)**n.\n",
            "        \n",
            "        Raises TypeError if either of the arguments are not integers.\n",
            "        Raises ValueError if either of the arguments are negative.\n",
            "    \n",
            "    copysign(x, y, /)\n",
            "        Return a float with the magnitude (absolute value) of x but the sign of y.\n",
            "        \n",
            "        On platforms that support signed zeros, copysign(1.0, -0.0)\n",
            "        returns -1.0.\n",
            "    \n",
            "    cos(x, /)\n",
            "        Return the cosine of x (measured in radians).\n",
            "    \n",
            "    cosh(x, /)\n",
            "        Return the hyperbolic cosine of x.\n",
            "    \n",
            "    degrees(x, /)\n",
            "        Convert angle x from radians to degrees.\n",
            "    \n",
            "    dist(p, q, /)\n",
            "        Return the Euclidean distance between two points p and q.\n",
            "        \n",
            "        The points should be specified as sequences (or iterables) of\n",
            "        coordinates.  Both inputs must have the same dimension.\n",
            "        \n",
            "        Roughly equivalent to:\n",
            "            sqrt(sum((px - qx) ** 2.0 for px, qx in zip(p, q)))\n",
            "    \n",
            "    erf(x, /)\n",
            "        Error function at x.\n",
            "    \n",
            "    erfc(x, /)\n",
            "        Complementary error function at x.\n",
            "    \n",
            "    exp(x, /)\n",
            "        Return e raised to the power of x.\n",
            "    \n",
            "    expm1(x, /)\n",
            "        Return exp(x)-1.\n",
            "        \n",
            "        This function avoids the loss of precision involved in the direct evaluation of exp(x)-1 for small x.\n",
            "    \n",
            "    fabs(x, /)\n",
            "        Return the absolute value of the float x.\n",
            "    \n",
            "    factorial(x, /)\n",
            "        Find x!.\n",
            "        \n",
            "        Raise a ValueError if x is negative or non-integral.\n",
            "    \n",
            "    floor(x, /)\n",
            "        Return the floor of x as an Integral.\n",
            "        \n",
            "        This is the largest integer <= x.\n",
            "    \n",
            "    fmod(x, y, /)\n",
            "        Return fmod(x, y), according to platform C.\n",
            "        \n",
            "        x % y may differ.\n",
            "    \n",
            "    frexp(x, /)\n",
            "        Return the mantissa and exponent of x, as pair (m, e).\n",
            "        \n",
            "        m is a float and e is an int, such that x = m * 2.**e.\n",
            "        If x is 0, m and e are both 0.  Else 0.5 <= abs(m) < 1.0.\n",
            "    \n",
            "    fsum(seq, /)\n",
            "        Return an accurate floating point sum of values in the iterable seq.\n",
            "        \n",
            "        Assumes IEEE-754 floating point arithmetic.\n",
            "    \n",
            "    gamma(x, /)\n",
            "        Gamma function at x.\n",
            "    \n",
            "    gcd(*integers)\n",
            "        Greatest Common Divisor.\n",
            "    \n",
            "    hypot(...)\n",
            "        hypot(*coordinates) -> value\n",
            "        \n",
            "        Multidimensional Euclidean distance from the origin to a point.\n",
            "        \n",
            "        Roughly equivalent to:\n",
            "            sqrt(sum(x**2 for x in coordinates))\n",
            "        \n",
            "        For a two dimensional point (x, y), gives the hypotenuse\n",
            "        using the Pythagorean theorem:  sqrt(x*x + y*y).\n",
            "        \n",
            "        For example, the hypotenuse of a 3/4/5 right triangle is:\n",
            "        \n",
            "            >>> hypot(3.0, 4.0)\n",
            "            5.0\n",
            "    \n",
            "    isclose(a, b, *, rel_tol=1e-09, abs_tol=0.0)\n",
            "        Determine whether two floating point numbers are close in value.\n",
            "        \n",
            "          rel_tol\n",
            "            maximum difference for being considered \"close\", relative to the\n",
            "            magnitude of the input values\n",
            "          abs_tol\n",
            "            maximum difference for being considered \"close\", regardless of the\n",
            "            magnitude of the input values\n",
            "        \n",
            "        Return True if a is close in value to b, and False otherwise.\n",
            "        \n",
            "        For the values to be considered close, the difference between them\n",
            "        must be smaller than at least one of the tolerances.\n",
            "        \n",
            "        -inf, inf and NaN behave similarly to the IEEE 754 Standard.  That\n",
            "        is, NaN is not close to anything, even itself.  inf and -inf are\n",
            "        only close to themselves.\n",
            "    \n",
            "    isfinite(x, /)\n",
            "        Return True if x is neither an infinity nor a NaN, and False otherwise.\n",
            "    \n",
            "    isinf(x, /)\n",
            "        Return True if x is a positive or negative infinity, and False otherwise.\n",
            "    \n",
            "    isnan(x, /)\n",
            "        Return True if x is a NaN (not a number), and False otherwise.\n",
            "    \n",
            "    isqrt(n, /)\n",
            "        Return the integer part of the square root of the input.\n",
            "    \n",
            "    lcm(*integers)\n",
            "        Least Common Multiple.\n",
            "    \n",
            "    ldexp(x, i, /)\n",
            "        Return x * (2**i).\n",
            "        \n",
            "        This is essentially the inverse of frexp().\n",
            "    \n",
            "    lgamma(x, /)\n",
            "        Natural logarithm of absolute value of Gamma function at x.\n",
            "    \n",
            "    log(...)\n",
            "        log(x, [base=math.e])\n",
            "        Return the logarithm of x to the given base.\n",
            "        \n",
            "        If the base not specified, returns the natural logarithm (base e) of x.\n",
            "    \n",
            "    log10(x, /)\n",
            "        Return the base 10 logarithm of x.\n",
            "    \n",
            "    log1p(x, /)\n",
            "        Return the natural logarithm of 1+x (base e).\n",
            "        \n",
            "        The result is computed in a way which is accurate for x near zero.\n",
            "    \n",
            "    log2(x, /)\n",
            "        Return the base 2 logarithm of x.\n",
            "    \n",
            "    modf(x, /)\n",
            "        Return the fractional and integer parts of x.\n",
            "        \n",
            "        Both results carry the sign of x and are floats.\n",
            "    \n",
            "    nextafter(x, y, /)\n",
            "        Return the next floating-point value after x towards y.\n",
            "    \n",
            "    perm(n, k=None, /)\n",
            "        Number of ways to choose k items from n items without repetition and with order.\n",
            "        \n",
            "        Evaluates to n! / (n - k)! when k <= n and evaluates\n",
            "        to zero when k > n.\n",
            "        \n",
            "        If k is not specified or is None, then k defaults to n\n",
            "        and the function returns n!.\n",
            "        \n",
            "        Raises TypeError if either of the arguments are not integers.\n",
            "        Raises ValueError if either of the arguments are negative.\n",
            "    \n",
            "    pow(x, y, /)\n",
            "        Return x**y (x to the power of y).\n",
            "    \n",
            "    prod(iterable, /, *, start=1)\n",
            "        Calculate the product of all the elements in the input iterable.\n",
            "        \n",
            "        The default start value for the product is 1.\n",
            "        \n",
            "        When the iterable is empty, return the start value.  This function is\n",
            "        intended specifically for use with numeric values and may reject\n",
            "        non-numeric types.\n",
            "    \n",
            "    radians(x, /)\n",
            "        Convert angle x from degrees to radians.\n",
            "    \n",
            "    remainder(x, y, /)\n",
            "        Difference between x and the closest integer multiple of y.\n",
            "        \n",
            "        Return x - n*y where n*y is the closest integer multiple of y.\n",
            "        In the case where x is exactly halfway between two multiples of\n",
            "        y, the nearest even value of n is used. The result is always exact.\n",
            "    \n",
            "    sin(x, /)\n",
            "        Return the sine of x (measured in radians).\n",
            "    \n",
            "    sinh(x, /)\n",
            "        Return the hyperbolic sine of x.\n",
            "    \n",
            "    sqrt(x, /)\n",
            "        Return the square root of x.\n",
            "    \n",
            "    tan(x, /)\n",
            "        Return the tangent of x (measured in radians).\n",
            "    \n",
            "    tanh(x, /)\n",
            "        Return the hyperbolic tangent of x.\n",
            "    \n",
            "    trunc(x, /)\n",
            "        Truncates the Real x to the nearest Integral toward 0.\n",
            "        \n",
            "        Uses the __trunc__ magic method.\n",
            "    \n",
            "    ulp(x, /)\n",
            "        Return the value of the least significant bit of the float x.\n",
            "\n",
            "DATA\n",
            "    e = 2.718281828459045\n",
            "    inf = inf\n",
            "    nan = nan\n",
            "    pi = 3.141592653589793\n",
            "    tau = 6.283185307179586\n",
            "\n",
            "FILE\n",
            "    (built-in)\n",
            "\n",
            "\n"
          ]
        }
      ],
      "source": [
        "help(math)"
      ]
    },
    {
      "cell_type": "markdown",
      "metadata": {},
      "source": [
        "### random"
      ]
    },
    {
      "cell_type": "code",
      "execution_count": 128,
      "metadata": {},
      "outputs": [],
      "source": [
        "import random"
      ]
    },
    {
      "cell_type": "code",
      "execution_count": 132,
      "metadata": {},
      "outputs": [
        {
          "name": "stdout",
          "output_type": "stream",
          "text": [
            "16\n"
          ]
        }
      ],
      "source": [
        "print(random.randint(2, 20)) # երկու եզրն էլ ներառյալ"
      ]
    },
    {
      "cell_type": "code",
      "execution_count": 133,
      "metadata": {},
      "outputs": [
        {
          "name": "stdout",
          "output_type": "stream",
          "text": [
            "rock\n"
          ]
        }
      ],
      "source": [
        "lst = [\"rock\", \"paper\", \"scissors\"]\n",
        "\n",
        "print(random.choice(lst))"
      ]
    },
    {
      "cell_type": "markdown",
      "metadata": {
        "id": "74EknVt5bj1q"
      },
      "source": [
        "# 🏡Տնային\n",
        "## Հիմնական տնային\n",
        "1. Profound [բաժին 9](https://profound.academy/hy/python-introduction/flszat-nMh1l21kkviihZwWp6kf) (Փոփոխականներ և տիպեր) - 11-ից մինչև վերջ\n",
        "2. Profound [բաժին 11](https://profound.academy/hy/python-introduction/t-ev-8ySmzO4GeplCVSpx4bKq) (Տողեր) - լրիվ\n",
        "3. Profound [բաժին 13](https://profound.academy/hy/python-introduction/c-gDnwq469j11pIUXpMNvg) (Ցուցակներ և միջակայքեր) - լրիվ\n",
        "\n",
        "## Նշումներ\n",
        "- 13.17-ը `range` օգտագործելով փորձեք լուծել\n",
        "  \n",
        "\n",
        "## Լուծումներ\n",
        "- [Որոշ խնդիրների վիդեոլուծումներ (ToDo)](ToDo)\n",
        "- [Բոլոր խնդիրների լուծումներ / նշումներ (ToDo)]()\n"
      ]
    },
    {
      "cell_type": "markdown",
      "metadata": {},
      "source": [
        "# 🛠️ Գործնական (ToDo)\n",
        "[**Տեսագրությունը** (ToDo)]()"
      ]
    },
    {
      "cell_type": "markdown",
      "metadata": {},
      "source": [
        "# 🎲 3\n",
        "- ▶️[Video](https://www.youtube.com/watch?v=_uk_6vfqwTA)\n",
        "- ▶️[Video 🔥](https://www.youtube.com/watch?v=gHdDxKy2QW0)\n",
        "- 🇦🇲🎶[Առասպել](https://www.youtube.com/watch?v=unIEZFN2CnI)\n",
        "- 🌐🎶[Eric Clapton](https://www.youtube.com/watch?v=pKwQlm-wldA)\n",
        "- 🤌[Կարգին](https://www.youtube.com/watch?v=LTFdwmRrjBY)"
      ]
    },
    {
      "cell_type": "markdown",
      "metadata": {},
      "source": [
        "<a href=\"http://s01.flagcounter.com/more/1oO\"><img src=\"https://s01.flagcounter.com/count2/1oO/bg_FFFFFF/txt_000000/border_CCCCCC/columns_2/maxflags_10/viewers_0/labels_0/pageviews_1/flags_0/percent_0/\" alt=\"Flag Counter\"></a>\n"
      ]
    }
  ],
  "metadata": {
    "colab": {
      "authorship_tag": "ABX9TyPdv23qR7SZ3afRFpIsbRwC",
      "include_colab_link": true,
      "provenance": []
    },
    "kernelspec": {
      "display_name": "Python 3",
      "name": "python3"
    },
    "language_info": {
      "codemirror_mode": {
        "name": "ipython",
        "version": 3
      },
      "file_extension": ".py",
      "mimetype": "text/x-python",
      "name": "python",
      "nbconvert_exporter": "python",
      "pygments_lexer": "ipython3",
      "version": "3.10.14"
    }
  },
  "nbformat": 4,
  "nbformat_minor": 0
}

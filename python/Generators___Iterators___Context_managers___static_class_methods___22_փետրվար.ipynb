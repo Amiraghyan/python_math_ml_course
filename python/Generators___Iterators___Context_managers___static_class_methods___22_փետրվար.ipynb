{
  "cells": [
    {
      "cell_type": "markdown",
      "metadata": {
        "id": "UWxOC381i25i"
      },
      "source": [
        "# Generators\n",
        "\n",
        "Լավ նյութեր\n",
        "1. https://realpython.com/introduction-to-python-generators/\n",
        "2. https://www.youtube.com/watch?v=bD05uGo_sVI"
      ]
    },
    {
      "cell_type": "code",
      "execution_count": null,
      "metadata": {
        "colab": {
          "base_uri": "https://localhost:8080/"
        },
        "id": "OqgR4BV9bPBO",
        "outputId": "4f1c6d30-8cf3-4dbc-ce9a-93925ecad0f9"
      },
      "outputs": [
        {
          "name": "stdout",
          "output_type": "stream",
          "text": [
            "<class 'range'>\n"
          ]
        }
      ],
      "source": [
        "print(type(range(1,3)))"
      ]
    },
    {
      "cell_type": "code",
      "execution_count": null,
      "metadata": {
        "colab": {
          "base_uri": "https://localhost:8080/"
        },
        "id": "rvT6WVTri0bL",
        "outputId": "600a2dfa-563d-4049-8452-a875bbf3b90c"
      },
      "outputs": [
        {
          "name": "stdout",
          "output_type": "stream",
          "text": [
            "[9, 4, 1, 0, 1, 4]\n",
            "{0, 9, 4, 1}\n",
            "<generator object <genexpr> at 0x7cb848d64f20>\n",
            "(9, 4, 1, 0, 1, 4)\n"
          ]
        }
      ],
      "source": [
        "a = [i**2 for i in range(-3, 3)]\n",
        "print(a)\n",
        "a = {i**2 for i in range(-3, 3)}\n",
        "print(a)\n",
        "a = (i**2 for i in range(-3, 3))\n",
        "print(a)\n",
        "a = tuple(i**2 for i in range(-3, 3))\n",
        "print(a)"
      ]
    },
    {
      "cell_type": "code",
      "execution_count": null,
      "metadata": {
        "colab": {
          "base_uri": "https://localhost:8080/"
        },
        "id": "6kzJTKNymQpC",
        "outputId": "47006aac-0eff-4f6d-8166-f763fdd8fe19"
      },
      "outputs": [
        {
          "name": "stdout",
          "output_type": "stream",
          "text": [
            "1\n",
            "4\n",
            "9\n",
            "16\n",
            "25\n",
            "36\n",
            "49\n",
            "64\n",
            "81\n",
            "100\n",
            "1\n",
            "4\n",
            "9\n",
            "16\n",
            "25\n",
            "36\n",
            "49\n",
            "64\n",
            "81\n",
            "100\n"
          ]
        }
      ],
      "source": [
        "for i in [1,2,3,4,5,6,7,8,9,10]:\n",
        "    print(i**2)\n",
        "\n",
        "for i in range(1,11):\n",
        "    print(i**2)"
      ]
    },
    {
      "cell_type": "code",
      "execution_count": null,
      "metadata": {
        "colab": {
          "base_uri": "https://localhost:8080/"
        },
        "id": "CvlBfAhWnBmp",
        "outputId": "0471e6a4-88ef-48b2-e332-1ff9396e142f"
      },
      "outputs": [
        {
          "name": "stdout",
          "output_type": "stream",
          "text": [
            "120\n",
            "48\n"
          ]
        }
      ],
      "source": [
        "print([1,2,3,4,5,6,7,8,9,10].__sizeof__())\n",
        "print(range(1,11).__sizeof__())"
      ]
    },
    {
      "cell_type": "code",
      "execution_count": null,
      "metadata": {
        "colab": {
          "base_uri": "https://localhost:8080/"
        },
        "id": "WLRsjg7CnBrD",
        "outputId": "10bcd1be-3837-446b-eff4-c8739ef9c974"
      },
      "outputs": [
        {
          "name": "stdout",
          "output_type": "stream",
          "text": [
            "136\n",
            "48\n"
          ]
        }
      ],
      "source": [
        "print([1,2,3,4,5,6,7,8,9,10,11].__sizeof__())\n",
        "print(range(1,1000000000000000000000000000000000000000).__sizeof__())\n",
        "\n",
        "\n",
        "for i in range(1, 10, 3):\n"
      ]
    },
    {
      "cell_type": "markdown",
      "metadata": {
        "id": "DOJiV1TFl1yU"
      },
      "source": [
        "https://media.licdn.com/dms/image/D4D12AQF2avI7qeUjMw/article-cover_image-shrink_600_2000/0/1682146643594?e=2147483647&v=beta&t=dM5iWQnf5chDAWdEpOpc0IV-Q6XeY2-TKq6Z_RYv36M"
      ]
    },
    {
      "cell_type": "markdown",
      "metadata": {
        "id": "Akm_FWbyn1SY"
      },
      "source": [
        "## քառակուսի բարձրացնելու օրինակ"
      ]
    },
    {
      "cell_type": "code",
      "execution_count": null,
      "metadata": {
        "colab": {
          "base_uri": "https://localhost:8080/"
        },
        "id": "g8evHjoEsyJt",
        "outputId": "4cd8a90d-a793-4f20-e667-dbd3e2caf559"
      },
      "outputs": [
        {
          "name": "stdout",
          "output_type": "stream",
          "text": [
            "[25, 16, 9, 4, 1, 0, 1, 4, 9, 16]\n"
          ]
        }
      ],
      "source": [
        "def qarakusi_bardzracnel(tver):\n",
        "    qarakusiner = []\n",
        "    for i in tver:\n",
        "        qarakusiner.append(i**2)\n",
        "    return qarakusiner\n",
        "\n",
        "tver = list(range(-5, 5))\n",
        "print(qarakusi_bardzracnel(tver))"
      ]
    },
    {
      "cell_type": "code",
      "execution_count": null,
      "metadata": {
        "colab": {
          "base_uri": "https://localhost:8080/"
        },
        "id": "ZHFsok8RtF8l",
        "outputId": "a454e828-5586-40f6-f47b-63c2d8a51003"
      },
      "outputs": [
        {
          "name": "stdout",
          "output_type": "stream",
          "text": [
            "<generator object qarakusi_bardzracnel at 0x7cb848d67a00>\n"
          ]
        }
      ],
      "source": [
        "def qarakusi_bardzracnel(tver):\n",
        "    for i in tver:\n",
        "        yield i**2\n",
        "\n",
        "tver = list(range(-5, 5))\n",
        "print(qarakusi_bardzracnel(tver))\n",
        "\n"
      ]
    },
    {
      "cell_type": "code",
      "execution_count": null,
      "metadata": {
        "id": "_3Nola6StPeW"
      },
      "outputs": [],
      "source": [
        "generator = qarakusi_bardzracnel(tver)"
      ]
    },
    {
      "cell_type": "code",
      "execution_count": null,
      "metadata": {
        "colab": {
          "base_uri": "https://localhost:8080/"
        },
        "id": "KWNUPgJweGtJ",
        "outputId": "aff0dd90-4188-48f6-b8a1-da7ea7068781"
      },
      "outputs": [
        {
          "data": {
            "text/plain": [
              "9"
            ]
          },
          "execution_count": 58,
          "metadata": {},
          "output_type": "execute_result"
        }
      ],
      "source": [
        "next(generator)"
      ]
    },
    {
      "cell_type": "code",
      "execution_count": null,
      "metadata": {
        "colab": {
          "base_uri": "https://localhost:8080/"
        },
        "id": "sJl6k3r_tPip",
        "outputId": "e1a7ecc2-0c21-463a-cd91-508400484ef6"
      },
      "outputs": [
        {
          "name": "stdout",
          "output_type": "stream",
          "text": [
            "25\n",
            "16\n",
            "9\n",
            "4\n",
            "1\n",
            "0\n",
            "1\n",
            "4\n",
            "9\n",
            "16\n"
          ]
        }
      ],
      "source": [
        "for i in generator:\n",
        "    print(i)"
      ]
    },
    {
      "cell_type": "code",
      "execution_count": null,
      "metadata": {
        "colab": {
          "base_uri": "https://localhost:8080/",
          "height": 220
        },
        "id": "2am7rBYQtPl-",
        "outputId": "b0b1611a-8faf-4afa-946e-e3f9630d80c8"
      },
      "outputs": [
        {
          "ename": "StopIteration",
          "evalue": "",
          "output_type": "error",
          "traceback": [
            "\u001b[0;31m---------------------------------------------------------------------------\u001b[0m",
            "\u001b[0;31mStopIteration\u001b[0m                             Traceback (most recent call last)",
            "\u001b[0;32m<ipython-input-60-4f9d40761108>\u001b[0m in \u001b[0;36m<cell line: 1>\u001b[0;34m()\u001b[0m\n\u001b[0;32m----> 1\u001b[0;31m \u001b[0mnext\u001b[0m\u001b[0;34m(\u001b[0m\u001b[0mgenerator\u001b[0m\u001b[0;34m)\u001b[0m\u001b[0;34m\u001b[0m\u001b[0;34m\u001b[0m\u001b[0m\n\u001b[0m\u001b[1;32m      2\u001b[0m \u001b[0mnext\u001b[0m\u001b[0;34m(\u001b[0m\u001b[0mgenerator\u001b[0m\u001b[0;34m)\u001b[0m\u001b[0;34m\u001b[0m\u001b[0;34m\u001b[0m\u001b[0m\n\u001b[1;32m      3\u001b[0m \u001b[0mnext\u001b[0m\u001b[0;34m(\u001b[0m\u001b[0mgenerator\u001b[0m\u001b[0;34m)\u001b[0m\u001b[0;34m\u001b[0m\u001b[0;34m\u001b[0m\u001b[0m\n\u001b[1;32m      4\u001b[0m \u001b[0mnext\u001b[0m\u001b[0;34m(\u001b[0m\u001b[0mgenerator\u001b[0m\u001b[0;34m)\u001b[0m\u001b[0;34m\u001b[0m\u001b[0;34m\u001b[0m\u001b[0m\n\u001b[1;32m      5\u001b[0m \u001b[0mnext\u001b[0m\u001b[0;34m(\u001b[0m\u001b[0mgenerator\u001b[0m\u001b[0;34m)\u001b[0m\u001b[0;34m\u001b[0m\u001b[0;34m\u001b[0m\u001b[0m\n",
            "\u001b[0;31mStopIteration\u001b[0m: "
          ]
        }
      ],
      "source": [
        "next(generator)\n",
        "next(generator)\n",
        "next(generator)\n",
        "next(generator)\n",
        "next(generator)\n",
        "next(generator)\n",
        "next(generator)"
      ]
    },
    {
      "cell_type": "code",
      "execution_count": null,
      "metadata": {
        "colab": {
          "base_uri": "https://localhost:8080/"
        },
        "id": "w-Ed0SZctPn2",
        "outputId": "a7c0126b-919b-4d43-c5bb-ff7787173997"
      },
      "outputs": [
        {
          "data": {
            "text/plain": [
              "4"
            ]
          },
          "execution_count": 51,
          "metadata": {},
          "output_type": "execute_result"
        }
      ],
      "source": [
        "next(generator)"
      ]
    },
    {
      "cell_type": "markdown",
      "metadata": {
        "id": "Wzbdcml6tpVy"
      },
      "source": [
        "Comprehension-ի տեսքով"
      ]
    },
    {
      "cell_type": "code",
      "execution_count": null,
      "metadata": {
        "colab": {
          "base_uri": "https://localhost:8080/"
        },
        "id": "uJ8qXEHStPqO",
        "outputId": "5b7c6492-4ebd-4339-b62b-cb11efaca9f1"
      },
      "outputs": [
        {
          "name": "stdout",
          "output_type": "stream",
          "text": [
            "[25, 16, 9, 4, 1, 0, 1, 4, 9, 16]\n"
          ]
        }
      ],
      "source": [
        "qarakusiner = [i**2 for i in range(-5, 5)]\n",
        "print(qarakusiner)"
      ]
    },
    {
      "cell_type": "code",
      "execution_count": null,
      "metadata": {
        "colab": {
          "base_uri": "https://localhost:8080/"
        },
        "id": "GUhxVwP5tn-E",
        "outputId": "b3545b4c-7718-454f-e5f0-7db8f4d113a1"
      },
      "outputs": [
        {
          "name": "stdout",
          "output_type": "stream",
          "text": [
            "<generator object <genexpr> at 0x7cb848d67b50>\n"
          ]
        }
      ],
      "source": [
        "qarakusiner = (i**2 for i in range(-5, 5))\n",
        "print(qarakusiner)"
      ]
    },
    {
      "cell_type": "code",
      "execution_count": null,
      "metadata": {
        "colab": {
          "base_uri": "https://localhost:8080/"
        },
        "id": "G-JA9kZDtoAK",
        "outputId": "3ee61b4c-e813-4aee-ed92-c50735c8968c"
      },
      "outputs": [
        {
          "name": "stdout",
          "output_type": "stream",
          "text": [
            "range(3, 5)\n",
            "[3, 4]\n"
          ]
        }
      ],
      "source": [
        "next(qarakusiner)\n",
        "\n",
        "print(range(3,5))\n",
        "print(list(range(3,5)))"
      ]
    },
    {
      "cell_type": "code",
      "execution_count": null,
      "metadata": {
        "colab": {
          "base_uri": "https://localhost:8080/"
        },
        "id": "p2ZnXpRctoCl",
        "outputId": "8323059f-b39f-43a4-f2e0-06dd5ccc89ee"
      },
      "outputs": [
        {
          "data": {
            "text/plain": [
              "[4, 1, 0, 1, 4, 9, 16]"
            ]
          },
          "execution_count": 66,
          "metadata": {},
          "output_type": "execute_result"
        }
      ],
      "source": [
        "list(qarakusiner)"
      ]
    },
    {
      "cell_type": "code",
      "execution_count": null,
      "metadata": {
        "colab": {
          "base_uri": "https://localhost:8080/"
        },
        "id": "dfKz2tpVtoEl",
        "outputId": "127a1f97-3694-459a-b79a-f02f2db57b22"
      },
      "outputs": [
        {
          "data": {
            "text/plain": [
              "[-5, -4, -3, -2, -1, 0, 1, 2, 3, 4]"
            ]
          },
          "execution_count": 67,
          "metadata": {},
          "output_type": "execute_result"
        }
      ],
      "source": [
        "list(range(-5,5))"
      ]
    },
    {
      "cell_type": "markdown",
      "metadata": {
        "id": "r48IZRTCuJOY"
      },
      "source": [
        "## Անունների օրինակ"
      ]
    },
    {
      "cell_type": "code",
      "execution_count": null,
      "metadata": {
        "colab": {
          "base_uri": "https://localhost:8080/"
        },
        "id": "tBIzSBvojPon",
        "outputId": "93abaae5-d9c2-4647-ebfc-8d99235482bb"
      },
      "outputs": [
        {
          "name": "stderr",
          "output_type": "stream",
          "text": [
            "100%|██████████| 8000000/8000000 [00:08<00:00, 958284.74it/s]\n"
          ]
        }
      ],
      "source": [
        "names = [\"Լեռնիկ\", \"Սանասար\", \"Թելման\", \"Ժորիկ\", \"Ժորժիկ\", \"Այծեմնիկ\",\n",
        "        \"Սպիրիդոն\", \"Սուլեյման\", \"Տարզան\", \"Թորգոմիկ\", \"Կճեպ\", \"Խփո\",\n",
        "        \"Դառվիս\", \"Վիտյոկ\", \"Մոզգ\", \"Բութուլ\", \"Տալաշ\", \"Բերիմոռ\",\n",
        "        \"Ֆայլո\", \"Գոռո\", \"Մավսես\", \"Դրակոն\", \"Լութո\", \"Բարշամ\",\n",
        "        \"Էռնեստո Փարպեցի\", \"Բարխուդարում\", \"Բոբոլ\", \"Հռազմիկ\"]\n",
        "\n",
        "from random import choice\n",
        "from tqdm import tqdm\n",
        "\n",
        "with open(\"guests.txt\", \"w\") as f:\n",
        "    for _ in tqdm(range(8_000_000)):\n",
        "        f.write(f\"{choice(names)}\\n\")"
      ]
    },
    {
      "cell_type": "code",
      "execution_count": null,
      "metadata": {
        "id": "GrW0JVxjkWJ0"
      },
      "outputs": [],
      "source": [
        "def get_guests():\n",
        "    with open(\"guests.txt\") as f:\n",
        "        guests = []\n",
        "        for i in f:\n",
        "            guests.append(i)\n",
        "    return guests\n",
        "\n",
        "kargin_heurer = get_guests()"
      ]
    },
    {
      "cell_type": "code",
      "execution_count": null,
      "metadata": {
        "colab": {
          "base_uri": "https://localhost:8080/"
        },
        "id": "pCtTqOEbu03A",
        "outputId": "4574991f-224b-4e58-de26-f8d7b7dbc4de"
      },
      "outputs": [
        {
          "name": "stdout",
          "output_type": "stream",
          "text": [
            "['Ժորիկ\\n', 'Տալաշ\\n', 'Սուլեյման\\n', 'Էռնեստո Փարպեցի\\n', 'Հռազմիկ\\n']\n"
          ]
        }
      ],
      "source": [
        "print(kargin_heurer[:5])"
      ]
    },
    {
      "cell_type": "code",
      "execution_count": null,
      "metadata": {
        "id": "XDzv_zycumdd"
      },
      "outputs": [],
      "source": [
        "def barevel(heurer):\n",
        "    for i in heurer:\n",
        "        print(f\"Hello {i}\")"
      ]
    },
    {
      "cell_type": "code",
      "execution_count": null,
      "metadata": {
        "id": "42pCYnbvvGyp"
      },
      "outputs": [],
      "source": [
        "barevel(kargin_heurer)"
      ]
    },
    {
      "cell_type": "markdown",
      "metadata": {
        "id": "T1Ve5NgWTZR_"
      },
      "source": []
    },
    {
      "cell_type": "code",
      "execution_count": null,
      "metadata": {
        "id": "g-ACPAfSvIvc"
      },
      "outputs": [],
      "source": [
        "def barevel(heurer):\n",
        "    for i in heurer:\n",
        "        yield f\"Hello {i}\""
      ]
    },
    {
      "cell_type": "code",
      "execution_count": null,
      "metadata": {
        "colab": {
          "base_uri": "https://localhost:8080/"
        },
        "id": "EA6LSyItvSOL",
        "outputId": "475ff053-feac-4bfe-d835-508e2ea0a7cd"
      },
      "outputs": [
        {
          "name": "stdout",
          "output_type": "stream",
          "text": [
            "<generator object barevel at 0x7cb814f067a0>\n"
          ]
        }
      ],
      "source": [
        "barev = barevel(kargin_heurer)\n",
        "print(barev)"
      ]
    },
    {
      "cell_type": "code",
      "execution_count": null,
      "metadata": {
        "colab": {
          "base_uri": "https://localhost:8080/",
          "height": 36
        },
        "id": "dkgcNVF8vWTZ",
        "outputId": "10105b69-1d79-4ace-a393-9f4922251bdd"
      },
      "outputs": [
        {
          "data": {
            "application/vnd.google.colaboratory.intrinsic+json": {
              "type": "string"
            },
            "text/plain": [
              "'Hello Էռնեստո Փարպեցի\\n'"
            ]
          },
          "execution_count": 80,
          "metadata": {},
          "output_type": "execute_result"
        }
      ],
      "source": [
        "next(barev)"
      ]
    },
    {
      "cell_type": "code",
      "execution_count": null,
      "metadata": {
        "colab": {
          "base_uri": "https://localhost:8080/"
        },
        "id": "4HlhbiJlvZtT",
        "outputId": "733c6776-3f3a-46f1-96d5-0ccfca39e70c"
      },
      "outputs": [
        {
          "name": "stdout",
          "output_type": "stream",
          "text": [
            "դիմավորեք\n",
            "Hello Հռազմիկ\n",
            "\n",
            "հաջող\n",
            "դիմավորեք\n",
            "Hello Գոռո\n",
            "\n",
            "հաջող\n",
            "դիմավորեք\n",
            "Hello Լեռնիկ\n",
            "\n",
            "հաջող\n",
            "դիմավորեք\n",
            "Hello Վիտյոկ\n",
            "\n",
            "հաջող\n",
            "դիմավորեք\n",
            "Hello Լութո\n",
            "\n",
            "հաջող\n",
            "դիմավորեք\n",
            "Hello Դառվիս\n",
            "\n",
            "հաջող\n",
            "դիմավորեք\n",
            "Hello Ժորժիկ\n",
            "\n",
            "հաջող\n",
            "դիմավորեք\n",
            "Hello Բարշամ\n",
            "\n",
            "հաջող\n",
            "դիմավորեք\n",
            "Hello Բութուլ\n",
            "\n",
            "հաջող\n",
            "դիմավորեք\n",
            "Hello Դառվիս\n",
            "\n",
            "հաջող\n",
            "դիմավորեք\n",
            "Hello Ժորիկ\n",
            "\n",
            "հաջող\n"
          ]
        }
      ],
      "source": [
        "for _ in range(3):\n",
        "    print(\"դիմավորեք\")\n",
        "    print(next(barev))\n",
        "    print(\"հաջող\")"
      ]
    },
    {
      "cell_type": "markdown",
      "metadata": {
        "id": "x9QYhZz6v8a6"
      },
      "source": [
        "Կամ եկեք ընդհանրապես չծանրացնենք կոմպը, տող առ տող կարդանք"
      ]
    },
    {
      "cell_type": "code",
      "execution_count": null,
      "metadata": {
        "id": "ia1ZkJr8v4Fi"
      },
      "outputs": [],
      "source": [
        "def get_guests_and_great():\n",
        "    with open(\"guests.txt\") as f:\n",
        "        for i in f:\n",
        "            yield f\"բարև {i}\"\n",
        "\n",
        "kargin_heurer = get_guests_and_great()"
      ]
    },
    {
      "cell_type": "code",
      "execution_count": null,
      "metadata": {
        "colab": {
          "base_uri": "https://localhost:8080/",
          "height": 36
        },
        "id": "S8QN5hBovxtn",
        "outputId": "9d366c37-11e8-4712-e9e3-4e291713bb6b"
      },
      "outputs": [
        {
          "data": {
            "application/vnd.google.colaboratory.intrinsic+json": {
              "type": "string"
            },
            "text/plain": [
              "'բարև Տալաշ\\n'"
            ]
          },
          "execution_count": 84,
          "metadata": {},
          "output_type": "execute_result"
        }
      ],
      "source": [
        "next(kargin_heurer)"
      ]
    },
    {
      "cell_type": "markdown",
      "metadata": {
        "id": "S_iLGBxKwnrf"
      },
      "source": [
        "## Memory usage"
      ]
    },
    {
      "cell_type": "code",
      "execution_count": null,
      "metadata": {
        "colab": {
          "base_uri": "https://localhost:8080/"
        },
        "id": "DQ9q4ZLfgYVr",
        "outputId": "ed840b20-b50b-4852-95bd-189076a020a5"
      },
      "outputs": [
        {
          "name": "stdout",
          "output_type": "stream",
          "text": [
            "93\n"
          ]
        }
      ],
      "source": [
        "skzbnakan = get_memory_usage()\n",
        "print(skzbnakan)"
      ]
    },
    {
      "cell_type": "code",
      "execution_count": null,
      "metadata": {
        "colab": {
          "base_uri": "https://localhost:8080/"
        },
        "id": "e_86D5JHwMjQ",
        "outputId": "e90ab350-9c97-4a85-acaa-08a6b848bfc2"
      },
      "outputs": [
        {
          "name": "stdout",
          "output_type": "stream",
          "text": [
            "93\n"
          ]
        }
      ],
      "source": [
        "import os\n",
        "import psutil\n",
        "\n",
        "def get_memory_usage():\n",
        "    process = psutil.Process(os.getpid())\n",
        "    return process.memory_info().rss // 1024 // 1024  # in mb\n",
        "\n",
        "print(get_memory_usage())\n"
      ]
    },
    {
      "cell_type": "code",
      "execution_count": null,
      "metadata": {
        "colab": {
          "base_uri": "https://localhost:8080/"
        },
        "id": "PYVWf8Ytwb07",
        "outputId": "c7b10a3d-283b-49be-c424-64c2f58c2241"
      },
      "outputs": [
        {
          "name": "stdout",
          "output_type": "stream",
          "text": [
            "Ժորիկ\n",
            "\n"
          ]
        }
      ],
      "source": [
        "def get_guests():\n",
        "    with open(\"guests.txt\") as f:\n",
        "        guests = []\n",
        "        for i in f:\n",
        "            guests.append(i)\n",
        "    return guests\n",
        "\n",
        "kargin_heurer = get_guests()\n",
        "print(kargin_heurer[0])"
      ]
    },
    {
      "cell_type": "code",
      "execution_count": null,
      "metadata": {
        "colab": {
          "base_uri": "https://localhost:8080/"
        },
        "id": "U5Oz8nngwual",
        "outputId": "fcaa56d1-d3da-4343-cbde-13bffb5b08ac"
      },
      "outputs": [
        {
          "data": {
            "text/plain": [
              "808"
            ]
          },
          "execution_count": 5,
          "metadata": {},
          "output_type": "execute_result"
        }
      ],
      "source": [
        "get_memory_usage() - skzbnakan"
      ]
    },
    {
      "cell_type": "markdown",
      "metadata": {
        "id": "xipx227hxPLp"
      },
      "source": [
        "Generatorով"
      ]
    },
    {
      "cell_type": "code",
      "execution_count": null,
      "metadata": {
        "colab": {
          "base_uri": "https://localhost:8080/"
        },
        "id": "RA7srty8wsyx",
        "outputId": "09f0ed88-6734-47e7-f5fb-f77e7c72fbe8"
      },
      "outputs": [
        {
          "name": "stdout",
          "output_type": "stream",
          "text": [
            "բարև Ժորիկ\n",
            "\n"
          ]
        }
      ],
      "source": [
        "def get_guests_and_great():\n",
        "    with open(\"guests.txt\") as f:\n",
        "        for i in f:\n",
        "            yield f\"բարև {i}\"\n",
        "\n",
        "kargin_heurer = get_guests_and_great()\n",
        "\n",
        "print(next(kargin_heurer))"
      ]
    },
    {
      "cell_type": "code",
      "execution_count": null,
      "metadata": {
        "colab": {
          "base_uri": "https://localhost:8080/"
        },
        "id": "3-9OD4N_wwI_",
        "outputId": "6e3b3277-9301-4257-c83e-646f2e082eef"
      },
      "outputs": [
        {
          "data": {
            "text/plain": [
              "14"
            ]
          },
          "execution_count": 4,
          "metadata": {},
          "output_type": "execute_result"
        }
      ],
      "source": [
        "get_memory_usage() - skzbnakan"
      ]
    },
    {
      "cell_type": "markdown",
      "metadata": {
        "id": "QMwzleNtsKu-"
      },
      "source": [
        "# Iterators, iterables\n",
        "Նյութեր\n",
        "1. https://realpython.com/python-iterators-iterables/#iterating-through-iterables-with-for-loops\n",
        "2. https://www.programiz.com/python-programming/iterator\n",
        "3. https://www.youtube.com/watch?v=jTYiNjvnHZY\n",
        "4. https://www.youtube.com/watch?v=C3Z9lJXI6Qw\n"
      ]
    },
    {
      "cell_type": "markdown",
      "metadata": {
        "id": "GZGUk9DF6o__"
      },
      "source": [
        "եկեք հիմա էլ նայենք ոնցա աշխատում for loopը"
      ]
    },
    {
      "cell_type": "code",
      "execution_count": null,
      "metadata": {
        "colab": {
          "base_uri": "https://localhost:8080/"
        },
        "id": "-in4Cp84xrC9",
        "outputId": "5e7d03f8-c1d3-4bfd-8fd3-2a3cacd68e9f"
      },
      "outputs": [
        {
          "name": "stdout",
          "output_type": "stream",
          "text": [
            "1\n",
            "2\n",
            "3\n"
          ]
        }
      ],
      "source": [
        "a = [1, 2, 3]\n",
        "\n",
        "for i in a:\n",
        "    print(i)\n"
      ]
    },
    {
      "cell_type": "code",
      "execution_count": null,
      "metadata": {
        "colab": {
          "base_uri": "https://localhost:8080/",
          "height": 147
        },
        "id": "gxoLDlMg68rK",
        "outputId": "8f971998-9e78-4108-98b1-392180f206c3"
      },
      "outputs": [
        {
          "ename": "TypeError",
          "evalue": "'list' object is not an iterator",
          "output_type": "error",
          "traceback": [
            "\u001b[0;31m---------------------------------------------------------------------------\u001b[0m",
            "\u001b[0;31mTypeError\u001b[0m                                 Traceback (most recent call last)",
            "\u001b[0;32m<ipython-input-37-15841f3f11d4>\u001b[0m in \u001b[0;36m<cell line: 1>\u001b[0;34m()\u001b[0m\n\u001b[0;32m----> 1\u001b[0;31m \u001b[0mnext\u001b[0m\u001b[0;34m(\u001b[0m\u001b[0ma\u001b[0m\u001b[0;34m)\u001b[0m\u001b[0;34m\u001b[0m\u001b[0;34m\u001b[0m\u001b[0m\n\u001b[0m",
            "\u001b[0;31mTypeError\u001b[0m: 'list' object is not an iterator"
          ]
        }
      ],
      "source": [
        "next(a) # a.__next__()"
      ]
    },
    {
      "cell_type": "code",
      "execution_count": null,
      "metadata": {
        "colab": {
          "base_uri": "https://localhost:8080/"
        },
        "id": "tbs9YH836_e5",
        "outputId": "9ada050b-8eb2-4fea-f9f8-6bc24328a137"
      },
      "outputs": [
        {
          "name": "stdout",
          "output_type": "stream",
          "text": [
            "<class 'list'>\n",
            "<class 'list_iterator'>\n"
          ]
        }
      ],
      "source": [
        "print(type(a))\n",
        "a_iter = iter(a) # __iter__()\n",
        "print(type(a_iter))"
      ]
    },
    {
      "cell_type": "code",
      "execution_count": null,
      "metadata": {
        "colab": {
          "base_uri": "https://localhost:8080/"
        },
        "id": "qY3ESyfO7GJ9",
        "outputId": "90d1b549-fcb9-41e7-e08f-a2708e71ff5e"
      },
      "outputs": [
        {
          "data": {
            "text/plain": [
              "2"
            ]
          },
          "execution_count": 10,
          "metadata": {},
          "output_type": "execute_result"
        }
      ],
      "source": [
        "next(a_iter)"
      ]
    },
    {
      "cell_type": "code",
      "execution_count": null,
      "metadata": {
        "colab": {
          "base_uri": "https://localhost:8080/"
        },
        "id": "5mN6M0Gf7KJ0",
        "outputId": "15dcd2ae-754b-495f-fc2c-a23cc1aed57f"
      },
      "outputs": [
        {
          "data": {
            "text/plain": [
              "3"
            ]
          },
          "execution_count": 41,
          "metadata": {},
          "output_type": "execute_result"
        }
      ],
      "source": [
        "next(a_iter)"
      ]
    },
    {
      "cell_type": "code",
      "execution_count": null,
      "metadata": {
        "id": "Rq81cXxR7PGE"
      },
      "outputs": [],
      "source": [
        "class VrazList:\n",
        "    def __init__(self, lst):\n",
        "        self.lst = lst\n",
        "#\n",
        "    def __iter__(self):\n",
        "        pass\n"
      ]
    },
    {
      "cell_type": "code",
      "execution_count": null,
      "metadata": {
        "colab": {
          "base_uri": "https://localhost:8080/"
        },
        "id": "VFMp3Ztk7b6T",
        "outputId": "e43d05de-b100-40db-df30-9cec2b1a9dda"
      },
      "outputs": [
        {
          "name": "stdout",
          "output_type": "stream",
          "text": [
            "<__main__.VrazList object at 0x78957420e980>\n",
            "<class '__main__.VrazList'>\n",
            "[1, 2, 3, 4, 5]\n"
          ]
        }
      ],
      "source": [
        "a = VrazList([1,2,3,4,5])\n",
        "print(a)\n",
        "print(type(a))\n",
        "print(a.lst)"
      ]
    },
    {
      "cell_type": "code",
      "execution_count": null,
      "metadata": {
        "colab": {
          "base_uri": "https://localhost:8080/",
          "height": 165
        },
        "id": "F_IlCbXU7j2W",
        "outputId": "28f34028-ed2c-4dd3-d922-86690bd37b6f"
      },
      "outputs": [
        {
          "ename": "TypeError",
          "evalue": "iter() returned non-iterator of type 'NoneType'",
          "output_type": "error",
          "traceback": [
            "\u001b[0;31m---------------------------------------------------------------------------\u001b[0m",
            "\u001b[0;31mTypeError\u001b[0m                                 Traceback (most recent call last)",
            "\u001b[0;32m<ipython-input-24-c324de4f8f18>\u001b[0m in \u001b[0;36m<cell line: 1>\u001b[0;34m()\u001b[0m\n\u001b[0;32m----> 1\u001b[0;31m \u001b[0;32mfor\u001b[0m \u001b[0mi\u001b[0m \u001b[0;32min\u001b[0m \u001b[0ma\u001b[0m\u001b[0;34m:\u001b[0m\u001b[0;34m\u001b[0m\u001b[0;34m\u001b[0m\u001b[0m\n\u001b[0m\u001b[1;32m      2\u001b[0m     \u001b[0mprint\u001b[0m\u001b[0;34m(\u001b[0m\u001b[0mi\u001b[0m\u001b[0;34m)\u001b[0m\u001b[0;34m\u001b[0m\u001b[0;34m\u001b[0m\u001b[0m\n",
            "\u001b[0;31mTypeError\u001b[0m: iter() returned non-iterator of type 'NoneType'"
          ]
        }
      ],
      "source": [
        "for i in a:\n",
        "    print(i)"
      ]
    },
    {
      "cell_type": "code",
      "execution_count": null,
      "metadata": {
        "id": "C-J1FH5l8AUe"
      },
      "outputs": [],
      "source": [
        "class VrazList:\n",
        "    def __init__(self, lst):\n",
        "        self.lst = lst\n",
        "        self.index = 0\n",
        "\n",
        "    def __iter__(self):\n",
        "        return self\n",
        "\n",
        "    def __next__(self):\n",
        "        current = self.lst[self.index]\n",
        "        self.index += 2\n",
        "        return current"
      ]
    },
    {
      "cell_type": "code",
      "execution_count": null,
      "metadata": {
        "colab": {
          "base_uri": "https://localhost:8080/",
          "height": 384
        },
        "id": "Jn3xXNSZ7mpd",
        "outputId": "0b763726-07e8-4fe2-a155-433973070898"
      },
      "outputs": [
        {
          "name": "stdout",
          "output_type": "stream",
          "text": [
            "1\n",
            "3\n",
            "5\n"
          ]
        },
        {
          "ename": "IndexError",
          "evalue": "list index out of range",
          "output_type": "error",
          "traceback": [
            "\u001b[0;31m---------------------------------------------------------------------------\u001b[0m",
            "\u001b[0;31mIndexError\u001b[0m                                Traceback (most recent call last)",
            "\u001b[0;32m<ipython-input-26-6b2576012047>\u001b[0m in \u001b[0;36m<cell line: 3>\u001b[0;34m()\u001b[0m\n\u001b[1;32m      1\u001b[0m \u001b[0ma\u001b[0m \u001b[0;34m=\u001b[0m \u001b[0mVrazList\u001b[0m\u001b[0;34m(\u001b[0m\u001b[0;34m[\u001b[0m\u001b[0;36m1\u001b[0m\u001b[0;34m,\u001b[0m\u001b[0;36m2\u001b[0m\u001b[0;34m,\u001b[0m\u001b[0;36m3\u001b[0m\u001b[0;34m,\u001b[0m\u001b[0;36m4\u001b[0m\u001b[0;34m,\u001b[0m\u001b[0;36m5\u001b[0m\u001b[0;34m]\u001b[0m\u001b[0;34m)\u001b[0m\u001b[0;34m\u001b[0m\u001b[0;34m\u001b[0m\u001b[0m\n\u001b[1;32m      2\u001b[0m \u001b[0;34m\u001b[0m\u001b[0m\n\u001b[0;32m----> 3\u001b[0;31m \u001b[0;32mfor\u001b[0m \u001b[0mi\u001b[0m \u001b[0;32min\u001b[0m \u001b[0ma\u001b[0m\u001b[0;34m:\u001b[0m\u001b[0;34m\u001b[0m\u001b[0;34m\u001b[0m\u001b[0m\n\u001b[0m\u001b[1;32m      4\u001b[0m     \u001b[0mprint\u001b[0m\u001b[0;34m(\u001b[0m\u001b[0mi\u001b[0m\u001b[0;34m)\u001b[0m\u001b[0;34m\u001b[0m\u001b[0;34m\u001b[0m\u001b[0m\n",
            "\u001b[0;32m<ipython-input-25-b3d60f4a1eb8>\u001b[0m in \u001b[0;36m__next__\u001b[0;34m(self)\u001b[0m\n\u001b[1;32m      8\u001b[0m \u001b[0;34m\u001b[0m\u001b[0m\n\u001b[1;32m      9\u001b[0m     \u001b[0;32mdef\u001b[0m \u001b[0m__next__\u001b[0m\u001b[0;34m(\u001b[0m\u001b[0mself\u001b[0m\u001b[0;34m)\u001b[0m\u001b[0;34m:\u001b[0m\u001b[0;34m\u001b[0m\u001b[0;34m\u001b[0m\u001b[0m\n\u001b[0;32m---> 10\u001b[0;31m         \u001b[0mcurrent\u001b[0m \u001b[0;34m=\u001b[0m \u001b[0mself\u001b[0m\u001b[0;34m.\u001b[0m\u001b[0mlst\u001b[0m\u001b[0;34m[\u001b[0m\u001b[0mself\u001b[0m\u001b[0;34m.\u001b[0m\u001b[0mindex\u001b[0m\u001b[0;34m]\u001b[0m\u001b[0;34m\u001b[0m\u001b[0;34m\u001b[0m\u001b[0m\n\u001b[0m\u001b[1;32m     11\u001b[0m         \u001b[0mself\u001b[0m\u001b[0;34m.\u001b[0m\u001b[0mindex\u001b[0m \u001b[0;34m+=\u001b[0m \u001b[0;36m2\u001b[0m\u001b[0;34m\u001b[0m\u001b[0;34m\u001b[0m\u001b[0m\n\u001b[1;32m     12\u001b[0m         \u001b[0;32mreturn\u001b[0m \u001b[0mcurrent\u001b[0m\u001b[0;34m\u001b[0m\u001b[0;34m\u001b[0m\u001b[0m\n",
            "\u001b[0;31mIndexError\u001b[0m: list index out of range"
          ]
        }
      ],
      "source": [
        "a = VrazList([1,2,3,4,5])\n",
        "\n",
        "for i in a:\n",
        "    print(i)"
      ]
    },
    {
      "cell_type": "code",
      "execution_count": null,
      "metadata": {
        "id": "p6tJnDH68eie"
      },
      "outputs": [],
      "source": [
        "class VrazList:\n",
        "    def __init__(self, lst):\n",
        "        self.lst = lst\n",
        "        self.index = 0\n",
        "\n",
        "    def __iter__(self):\n",
        "        return self\n",
        "\n",
        "    def __next__(self):\n",
        "        if self.index >= len(self.lst):\n",
        "            raise StopIteration\n",
        "\n",
        "        current = self.lst[self.index]\n",
        "        self.index += 2\n",
        "        return current"
      ]
    },
    {
      "cell_type": "code",
      "execution_count": null,
      "metadata": {
        "colab": {
          "base_uri": "https://localhost:8080/"
        },
        "id": "h-mV6hwI9IEe",
        "outputId": "39758c6d-fca2-43da-817e-cad855e0e425"
      },
      "outputs": [
        {
          "name": "stdout",
          "output_type": "stream",
          "text": [
            "1\n",
            "9\n",
            "25\n"
          ]
        }
      ],
      "source": [
        "a = VrazList([1,2,3,4,5])\n",
        "\n",
        "for i in a:\n",
        "    print(i**2)\n",
        "\n"
      ]
    },
    {
      "cell_type": "code",
      "execution_count": null,
      "metadata": {
        "id": "AGyQEe6qkFNv"
      },
      "outputs": [],
      "source": [
        "a = VrazList([1,2,3,4,5])\n"
      ]
    },
    {
      "cell_type": "code",
      "execution_count": null,
      "metadata": {
        "colab": {
          "base_uri": "https://localhost:8080/"
        },
        "id": "0aaEmR2C97Ju",
        "outputId": "49ce17a0-375c-49a5-eb35-7bf206a582f9"
      },
      "outputs": [
        {
          "name": "stdout",
          "output_type": "stream",
          "text": [
            "1\n",
            "9\n",
            "25\n"
          ]
        }
      ],
      "source": [
        "while True:\n",
        "    try:\n",
        "        i = next(a)\n",
        "        print(i**2)\n",
        "\n",
        "    except StopIteration:\n",
        "        break"
      ]
    },
    {
      "cell_type": "markdown",
      "metadata": {
        "id": "HbjTW58J3Tbe"
      },
      "source": [
        "# Context managers\n",
        "լավ նյութ՝ https://www.youtube.com/watch?v=-aKFBoZpiqA"
      ]
    },
    {
      "cell_type": "code",
      "execution_count": null,
      "metadata": {
        "colab": {
          "base_uri": "https://localhost:8080/"
        },
        "id": "bTbHi1Ma3VBW",
        "outputId": "c17054cf-6da3-4618-b4d7-e60527511e02"
      },
      "outputs": [
        {
          "name": "stdout",
          "output_type": "stream",
          "text": [
            "False\n",
            "True\n"
          ]
        }
      ],
      "source": [
        "f = open(\"panir.txt\", \"w\")\n",
        "f.write(\"պանիր պանիր պանիր\")\n",
        "\n",
        "print(f.closed)\n",
        "f.close()\n",
        "print(f.closed)\n"
      ]
    },
    {
      "cell_type": "code",
      "execution_count": null,
      "metadata": {
        "colab": {
          "base_uri": "https://localhost:8080/"
        },
        "id": "e9hyDqm-3djN",
        "outputId": "3eb5f942-7721-446c-bd91-dd73ab0bf28c"
      },
      "outputs": [
        {
          "name": "stdout",
          "output_type": "stream",
          "text": [
            "True\n"
          ]
        }
      ],
      "source": [
        "with open(\"panir.txt\", \"w\") as f:\n",
        "    f.write(\"պանիր պանիր պանիր\")\n",
        "\n",
        "print(f.closed)\n",
        "# ոնցա՞ հասկանում որ պետքա close անի վերջում"
      ]
    },
    {
      "cell_type": "code",
      "execution_count": null,
      "metadata": {
        "id": "_g4w58fC3mRY"
      },
      "outputs": [],
      "source": [
        "class Bacich:\n",
        "    def __init__(self, name, mode):\n",
        "        self.name = name\n",
        "        self.mode = mode\n",
        "\n",
        "    def __enter__(self):\n",
        "        print(f\"\\nհեսա փորձելու ենք բացել {self.name}-ը {self.mode} նպատակով\")\n",
        "        self.file = open(self.name, self.mode)\n",
        "        return self.file\n",
        "\n",
        "    def __exit__(self, exc_type, exc_val, traceback):\n",
        "        print(\"\\nփակենք\")\n",
        "        self.file.close()"
      ]
    },
    {
      "cell_type": "code",
      "execution_count": null,
      "metadata": {
        "colab": {
          "base_uri": "https://localhost:8080/"
        },
        "id": "ugFBXmjy4lj8",
        "outputId": "51464f82-7d11-4c02-e798-04d969dfaf7b"
      },
      "outputs": [
        {
          "name": "stdout",
          "output_type": "stream",
          "text": [
            "\n",
            "հեսա փորձելու ենք բացել panir.txt-ը r նպատակով\n"
          ]
        },
        {
          "data": {
            "text/plain": [
              "<_io.TextIOWrapper name='panir.txt' mode='r' encoding='UTF-8'>"
            ]
          },
          "execution_count": 42,
          "metadata": {},
          "output_type": "execute_result"
        }
      ],
      "source": [
        "a = Bacich(\"panir.txt\", \"r\")\n",
        "a.__enter__()"
      ]
    },
    {
      "cell_type": "code",
      "execution_count": null,
      "metadata": {
        "colab": {
          "base_uri": "https://localhost:8080/",
          "height": 220
        },
        "id": "sIN72tBF4v9a",
        "outputId": "43dee284-3460-4db0-9afd-90f795acb8e5"
      },
      "outputs": [
        {
          "ename": "AttributeError",
          "evalue": "__exit__",
          "output_type": "error",
          "traceback": [
            "\u001b[0;31m---------------------------------------------------------------------------\u001b[0m",
            "\u001b[0;31mAttributeError\u001b[0m                            Traceback (most recent call last)",
            "\u001b[0;32m<ipython-input-45-5a9188259cde>\u001b[0m in \u001b[0;36m<cell line: 1>\u001b[0;34m()\u001b[0m\n\u001b[0;32m----> 1\u001b[0;31m \u001b[0;32mwith\u001b[0m \u001b[0mBacich\u001b[0m\u001b[0;34m(\u001b[0m\u001b[0;34m\"panir.txt\"\u001b[0m\u001b[0;34m,\u001b[0m \u001b[0;34m\"r\"\u001b[0m\u001b[0;34m)\u001b[0m \u001b[0;32mas\u001b[0m \u001b[0mf\u001b[0m\u001b[0;34m:\u001b[0m\u001b[0;34m\u001b[0m\u001b[0;34m\u001b[0m\u001b[0m\n\u001b[0m\u001b[1;32m      2\u001b[0m     \u001b[0;31m# some code\u001b[0m\u001b[0;34m\u001b[0m\u001b[0;34m\u001b[0m\u001b[0m\n\u001b[1;32m      3\u001b[0m     \u001b[0mprint\u001b[0m\u001b[0;34m(\u001b[0m\u001b[0mf\u001b[0m\u001b[0;34m.\u001b[0m\u001b[0mread\u001b[0m\u001b[0;34m(\u001b[0m\u001b[0;34m)\u001b[0m\u001b[0;34m)\u001b[0m\u001b[0;34m\u001b[0m\u001b[0;34m\u001b[0m\u001b[0m\n\u001b[1;32m      4\u001b[0m \u001b[0;34m\u001b[0m\u001b[0m\n\u001b[1;32m      5\u001b[0m \u001b[0mprint\u001b[0m\u001b[0;34m(\u001b[0m\u001b[0mf\u001b[0m\u001b[0;34m.\u001b[0m\u001b[0mclosed\u001b[0m\u001b[0;34m)\u001b[0m\u001b[0;34m\u001b[0m\u001b[0;34m\u001b[0m\u001b[0m\n",
            "\u001b[0;31mAttributeError\u001b[0m: __exit__"
          ]
        }
      ],
      "source": [
        "with Bacich(\"panir.txt\", \"r\") as f:\n",
        "    # some code\n",
        "    print(f.read())\n",
        "\n",
        "print(f.closed)\n",
        "\n",
        "f = Bacich(\"panir.txt\", \"r\").__enter__()\n",
        "# some code\n",
        "Bacich(\"panir.txt\", \"r\").__exit__()"
      ]
    },
    {
      "cell_type": "markdown",
      "metadata": {
        "id": "50U2Mr5U5ods"
      },
      "source": [
        "աշխատեց enterը հետո withի մեջի կոդը, հետո exitը\n"
      ]
    },
    {
      "cell_type": "code",
      "execution_count": null,
      "metadata": {
        "id": "JNOj7uK05an9"
      },
      "outputs": [],
      "source": [
        "# exc_type ... ի պահով"
      ]
    },
    {
      "cell_type": "code",
      "execution_count": null,
      "metadata": {
        "id": "aLwtrnbF5-2S"
      },
      "outputs": [],
      "source": [
        "class Bacich:\n",
        "    def __init__(self, name, mode):\n",
        "        self.name = name\n",
        "        self.mode = mode\n",
        "\n",
        "    def __enter__(self):\n",
        "        print(\"\\nհեսա փորձելու ենք բացել {self.name}ը {self.mode} նպատակով\\n\")\n",
        "        self.file = open(self.name, self.mode)\n",
        "        return self.file\n",
        "\n",
        "    def __exit__(self, exc_type, exc_val, traceback):\n",
        "        print(\"\\nփակենք\")\n",
        "        print(\"exc_type =\", exc_type)\n",
        "        print(\"exc_val =\", exc_val)\n",
        "        print(\"traceback = \", traceback)\n",
        "        self.file.close()\n"
      ]
    },
    {
      "cell_type": "code",
      "execution_count": null,
      "metadata": {
        "colab": {
          "base_uri": "https://localhost:8080/"
        },
        "id": "bNniHNzq6B1b",
        "outputId": "af6371e2-4917-4183-ce4a-b5d5c2fcba11"
      },
      "outputs": [
        {
          "name": "stdout",
          "output_type": "stream",
          "text": [
            "\n",
            "հեսա փորձելու ենք բացել {self.name}ը {self.mode} նպատակով\n",
            "\n",
            "ա\n",
            "պանիր պանիր պանիր\n",
            "\n",
            "փակենք\n",
            "exc_type = None\n",
            "exc_val = None\n",
            "traceback =  None\n",
            "True\n"
          ]
        }
      ],
      "source": [
        "with Bacich(\"panir.txt\", \"r\") as f:\n",
        "    print(\"ա\")\n",
        "    print(f.read())\n",
        "\n",
        "print(f.closed)"
      ]
    },
    {
      "cell_type": "code",
      "execution_count": null,
      "metadata": {
        "colab": {
          "base_uri": "https://localhost:8080/",
          "height": 366
        },
        "id": "4oDKaqN66bSZ",
        "outputId": "f9ed0701-4a9e-4d0d-95aa-29c66267a150"
      },
      "outputs": [
        {
          "name": "stdout",
          "output_type": "stream",
          "text": [
            "\n",
            "հեսա փորձելու ենք բացել {self.name}ը {self.mode} նպատակով\n",
            "\n",
            "ա\n",
            "\n",
            "փակենք\n",
            "exc_type = <class 'NameError'>\n",
            "exc_val = name 'lav_katakner_haykic' is not defined\n",
            "traceback =  <traceback object at 0x78953f2bc500>\n"
          ]
        },
        {
          "ename": "NameError",
          "evalue": "name 'lav_katakner_haykic' is not defined",
          "output_type": "error",
          "traceback": [
            "\u001b[0;31m---------------------------------------------------------------------------\u001b[0m",
            "\u001b[0;31mNameError\u001b[0m                                 Traceback (most recent call last)",
            "\u001b[0;32m<ipython-input-53-f271eca65ed7>\u001b[0m in \u001b[0;36m<cell line: 1>\u001b[0;34m()\u001b[0m\n\u001b[1;32m      1\u001b[0m \u001b[0;32mwith\u001b[0m \u001b[0mBacich\u001b[0m\u001b[0;34m(\u001b[0m\u001b[0;34m\"panir.txt\"\u001b[0m\u001b[0;34m,\u001b[0m \u001b[0;34m\"r\"\u001b[0m\u001b[0;34m)\u001b[0m \u001b[0;32mas\u001b[0m \u001b[0mf\u001b[0m\u001b[0;34m:\u001b[0m\u001b[0;34m\u001b[0m\u001b[0;34m\u001b[0m\u001b[0m\n\u001b[1;32m      2\u001b[0m     \u001b[0mprint\u001b[0m\u001b[0;34m(\u001b[0m\u001b[0;34m\"ա\"\u001b[0m\u001b[0;34m)\u001b[0m\u001b[0;34m\u001b[0m\u001b[0;34m\u001b[0m\u001b[0m\n\u001b[0;32m----> 3\u001b[0;31m     \u001b[0mprint\u001b[0m\u001b[0;34m(\u001b[0m\u001b[0mlav_katakner_haykic\u001b[0m\u001b[0;34m)\u001b[0m\u001b[0;34m\u001b[0m\u001b[0;34m\u001b[0m\u001b[0m\n\u001b[0m\u001b[1;32m      4\u001b[0m     \u001b[0mprint\u001b[0m\u001b[0;34m(\u001b[0m\u001b[0mf\u001b[0m\u001b[0;34m.\u001b[0m\u001b[0mread\u001b[0m\u001b[0;34m(\u001b[0m\u001b[0;34m)\u001b[0m\u001b[0;34m)\u001b[0m\u001b[0;34m\u001b[0m\u001b[0;34m\u001b[0m\u001b[0m\n",
            "\u001b[0;31mNameError\u001b[0m: name 'lav_katakner_haykic' is not defined"
          ]
        }
      ],
      "source": [
        "\n",
        "with Bacich(\"panir.txt\", \"r\") as f:\n",
        "    print(\"ա\")\n",
        "    print(lav_katakner_haykic)\n",
        "    print(f.read())"
      ]
    },
    {
      "cell_type": "code",
      "execution_count": null,
      "metadata": {
        "id": "xsT3snb9nJ8F"
      },
      "outputs": [],
      "source": [
        "f = Bacich(..).__enter__()\n",
        "try:\n",
        "    # some code\n",
        "except Exception as e:\n",
        "    Bacich().__exit__(e, traceback)"
      ]
    },
    {
      "cell_type": "code",
      "execution_count": null,
      "metadata": {
        "colab": {
          "base_uri": "https://localhost:8080/"
        },
        "id": "CNVAf3mD9YJM",
        "outputId": "6396ea89-b63a-47bd-e87a-b5a2d22935dd"
      },
      "outputs": [
        {
          "name": "stdout",
          "output_type": "stream",
          "text": [
            "True\n"
          ]
        }
      ],
      "source": [
        "print(f.closed)\n"
      ]
    },
    {
      "cell_type": "markdown",
      "metadata": {
        "id": "ivDlKKm-6o2d"
      },
      "source": [
        "## հլը մի րոպե, բայց openը ֆունցկիայա ոչ թե class"
      ]
    },
    {
      "cell_type": "code",
      "execution_count": null,
      "metadata": {
        "colab": {
          "base_uri": "https://localhost:8080/"
        },
        "id": "1j3GLhRK6hDT",
        "outputId": "f9b70a6f-6085-4327-8a8e-2716190d452e"
      },
      "outputs": [
        {
          "data": {
            "text/plain": [
              "builtin_function_or_method"
            ]
          },
          "execution_count": 54,
          "metadata": {},
          "output_type": "execute_result"
        }
      ],
      "source": [
        "type(open)"
      ]
    },
    {
      "cell_type": "code",
      "execution_count": null,
      "metadata": {
        "id": "o4k4wcsk6l_F"
      },
      "outputs": [],
      "source": [
        "from contextlib import contextmanager\n",
        "\n",
        "@contextmanager\n",
        "def bacich(name, mode):\n",
        "    print(f\"հեսա փորձելու ենք բացել {name}ը {mode} նպատակով\\n\")\n",
        "    file = open(name, mode)\n",
        "    yield file\n",
        "    print(\"\\nժամանակն է փակելու ֆայլը\")\n",
        "    file.close()\n",
        "\n",
        "\n",
        "# class Bacich:\n",
        "#     def __init__(self, name, mode):\n",
        "#         self.name = name\n",
        "#         self.mode = mode\n",
        "\n",
        "#     def __enter__(self):\n",
        "#         print(\"\\nհեսա փորձելու ենք բացել {self.name}ը {self.mode} նպատակով\\n\")\n",
        "#         self.file = open(self.name, self.mode)\n",
        "#         return self.file\n",
        "\n",
        "#     def __exit__(self, exc_type, exc_val, traceback):\n",
        "#         print(\"\\nփակենք\")\n",
        "#         print(\"exc_type =\", exc_type)\n",
        "#         print(\"exc_val =\", exc_val)\n",
        "#         print(\"traceback = \", traceback)\n",
        "#         self.file.close()\n",
        "\n"
      ]
    },
    {
      "cell_type": "code",
      "execution_count": null,
      "metadata": {
        "colab": {
          "base_uri": "https://localhost:8080/"
        },
        "id": "AvOG23N97dXG",
        "outputId": "92cd437c-ae32-4e10-f9a9-690156e0f6f4"
      },
      "outputs": [
        {
          "name": "stdout",
          "output_type": "stream",
          "text": [
            "հեսա փորձելու ենք բացել panir.txtը r նպատակով\n",
            "\n",
            "a\n",
            "պանիր պանիր պանիր\n",
            "\n",
            "ժամանակն է փակելու ֆայլը\n",
            "True\n"
          ]
        }
      ],
      "source": [
        "with bacich(\"panir.txt\", \"r\") as f:\n",
        "    print(\"a\")\n",
        "    print(f.read())\n",
        "\n",
        "print(f.closed)"
      ]
    },
    {
      "cell_type": "markdown",
      "metadata": {
        "id": "uv1GYX-88ON4"
      },
      "source": [
        "\n",
        "\n",
        "1. Աշխատումա բացիչ ֆունկցիայի բոլոր տողերը մինչև yield\n",
        "2. yield արած արժեքը վերագրվումա fին\n",
        "3. աշխատումա withի միջի կոդը\n",
        "4. աշխատումա yieldից հետո գրվածը\n",
        "\n"
      ]
    },
    {
      "cell_type": "code",
      "execution_count": null,
      "metadata": {
        "colab": {
          "base_uri": "https://localhost:8080/",
          "height": 256
        },
        "id": "DXDMlJ147kL4",
        "outputId": "be3c0ace-85ff-4de2-ca33-b17c6ae8590a"
      },
      "outputs": [
        {
          "name": "stdout",
          "output_type": "stream",
          "text": [
            "հեսա փորձելու ենք բացել panir.txtը r նպատակով\n",
            "\n",
            "a\n"
          ]
        },
        {
          "ename": "NameError",
          "evalue": "name 'lav_katakner_haykic_2' is not defined",
          "output_type": "error",
          "traceback": [
            "\u001b[0;31m---------------------------------------------------------------------------\u001b[0m",
            "\u001b[0;31mNameError\u001b[0m                                 Traceback (most recent call last)",
            "\u001b[0;32m<ipython-input-57-4c2c382e0e7f>\u001b[0m in \u001b[0;36m<cell line: 1>\u001b[0;34m()\u001b[0m\n\u001b[1;32m      1\u001b[0m \u001b[0;32mwith\u001b[0m \u001b[0mbacich\u001b[0m\u001b[0;34m(\u001b[0m\u001b[0;34m\"panir.txt\"\u001b[0m\u001b[0;34m,\u001b[0m \u001b[0;34m\"r\"\u001b[0m\u001b[0;34m)\u001b[0m \u001b[0;32mas\u001b[0m \u001b[0mf\u001b[0m\u001b[0;34m:\u001b[0m\u001b[0;34m\u001b[0m\u001b[0;34m\u001b[0m\u001b[0m\n\u001b[1;32m      2\u001b[0m     \u001b[0mprint\u001b[0m\u001b[0;34m(\u001b[0m\u001b[0;34m\"a\"\u001b[0m\u001b[0;34m)\u001b[0m\u001b[0;34m\u001b[0m\u001b[0;34m\u001b[0m\u001b[0m\n\u001b[0;32m----> 3\u001b[0;31m     \u001b[0mprint\u001b[0m\u001b[0;34m(\u001b[0m\u001b[0mlav_katakner_haykic_2\u001b[0m\u001b[0;34m)\u001b[0m\u001b[0;34m\u001b[0m\u001b[0;34m\u001b[0m\u001b[0m\n\u001b[0m\u001b[1;32m      4\u001b[0m     \u001b[0mprint\u001b[0m\u001b[0;34m(\u001b[0m\u001b[0mf\u001b[0m\u001b[0;34m.\u001b[0m\u001b[0mread\u001b[0m\u001b[0;34m(\u001b[0m\u001b[0;34m)\u001b[0m\u001b[0;34m)\u001b[0m\u001b[0;34m\u001b[0m\u001b[0;34m\u001b[0m\u001b[0m\n",
            "\u001b[0;31mNameError\u001b[0m: name 'lav_katakner_haykic_2' is not defined"
          ]
        }
      ],
      "source": [
        "with bacich(\"panir.txt\", \"r\") as f:\n",
        "    print(\"a\")\n",
        "    print(lav_katakner_haykic_2)\n",
        "    print(f.read())\n"
      ]
    },
    {
      "cell_type": "code",
      "execution_count": null,
      "metadata": {
        "colab": {
          "base_uri": "https://localhost:8080/"
        },
        "id": "Qp7xFptD86KJ",
        "outputId": "8f6943c4-ffc8-423a-f31c-bf01afa9af68"
      },
      "outputs": [
        {
          "data": {
            "text/plain": [
              "False"
            ]
          },
          "execution_count": 96,
          "metadata": {},
          "output_type": "execute_result"
        }
      ],
      "source": [
        "f.closed"
      ]
    },
    {
      "cell_type": "code",
      "execution_count": null,
      "metadata": {
        "id": "fbZHB4Wt8kXh"
      },
      "outputs": [],
      "source": [
        "from contextlib import contextmanager\n",
        "\n",
        "@contextmanager\n",
        "def bacich(name, mode):\n",
        "    try:\n",
        "        print(f\"հեսա փորձելու ենք բացել {name}ը {mode} նպատակով\\n\")\n",
        "        file = open(name, mode)\n",
        "        yield file\n",
        "    finally: # որ միշտ աշխատի\n",
        "        print(\"\\nժամանակն է փակելու ֆայլը\")\n",
        "        file.close()\n"
      ]
    },
    {
      "cell_type": "code",
      "execution_count": null,
      "metadata": {
        "colab": {
          "base_uri": "https://localhost:8080/",
          "height": 293
        },
        "id": "yCBleyiT8xI7",
        "outputId": "27d46807-bf78-45a5-f762-733707ca3616"
      },
      "outputs": [
        {
          "name": "stdout",
          "output_type": "stream",
          "text": [
            "հեսա փորձելու ենք բացել panir.txtը r նպատակով\n",
            "\n",
            "a\n",
            "\n",
            "ժամանակն է փակելու ֆայլը\n"
          ]
        },
        {
          "ename": "NameError",
          "evalue": "name 'lav_katakner_haykic_2' is not defined",
          "output_type": "error",
          "traceback": [
            "\u001b[0;31m---------------------------------------------------------------------------\u001b[0m",
            "\u001b[0;31mNameError\u001b[0m                                 Traceback (most recent call last)",
            "\u001b[0;32m<ipython-input-59-4c2c382e0e7f>\u001b[0m in \u001b[0;36m<cell line: 1>\u001b[0;34m()\u001b[0m\n\u001b[1;32m      1\u001b[0m \u001b[0;32mwith\u001b[0m \u001b[0mbacich\u001b[0m\u001b[0;34m(\u001b[0m\u001b[0;34m\"panir.txt\"\u001b[0m\u001b[0;34m,\u001b[0m \u001b[0;34m\"r\"\u001b[0m\u001b[0;34m)\u001b[0m \u001b[0;32mas\u001b[0m \u001b[0mf\u001b[0m\u001b[0;34m:\u001b[0m\u001b[0;34m\u001b[0m\u001b[0;34m\u001b[0m\u001b[0m\n\u001b[1;32m      2\u001b[0m     \u001b[0mprint\u001b[0m\u001b[0;34m(\u001b[0m\u001b[0;34m\"a\"\u001b[0m\u001b[0;34m)\u001b[0m\u001b[0;34m\u001b[0m\u001b[0;34m\u001b[0m\u001b[0m\n\u001b[0;32m----> 3\u001b[0;31m     \u001b[0mprint\u001b[0m\u001b[0;34m(\u001b[0m\u001b[0mlav_katakner_haykic_2\u001b[0m\u001b[0;34m)\u001b[0m\u001b[0;34m\u001b[0m\u001b[0;34m\u001b[0m\u001b[0m\n\u001b[0m\u001b[1;32m      4\u001b[0m     \u001b[0mprint\u001b[0m\u001b[0;34m(\u001b[0m\u001b[0mf\u001b[0m\u001b[0;34m.\u001b[0m\u001b[0mread\u001b[0m\u001b[0;34m(\u001b[0m\u001b[0;34m)\u001b[0m\u001b[0;34m)\u001b[0m\u001b[0;34m\u001b[0m\u001b[0;34m\u001b[0m\u001b[0m\n",
            "\u001b[0;31mNameError\u001b[0m: name 'lav_katakner_haykic_2' is not defined"
          ]
        }
      ],
      "source": [
        "with bacich(\"panir.txt\", \"r\") as f:\n",
        "    print(\"a\")\n",
        "    print(lav_katakner_haykic_2)\n",
        "    print(f.read())"
      ]
    },
    {
      "cell_type": "code",
      "execution_count": null,
      "metadata": {
        "colab": {
          "base_uri": "https://localhost:8080/"
        },
        "id": "4DCGEbM98yXA",
        "outputId": "302c3c4e-aa34-44a1-94bc-ba894faf24fc"
      },
      "outputs": [
        {
          "name": "stdout",
          "output_type": "stream",
          "text": [
            "True\n"
          ]
        }
      ],
      "source": [
        "print(f.closed)"
      ]
    },
    {
      "cell_type": "markdown",
      "metadata": {
        "id": "aIq9--7R_OUY"
      },
      "source": [
        "## Օրինակներ"
      ]
    },
    {
      "cell_type": "markdown",
      "metadata": {
        "id": "krQVsSblD_dp"
      },
      "source": [
        "### timer"
      ]
    },
    {
      "cell_type": "code",
      "execution_count": null,
      "metadata": {
        "id": "m2UaVj4E_Pio"
      },
      "outputs": [],
      "source": [
        "import time\n",
        "from contextlib import contextmanager\n",
        "\n",
        "@contextmanager\n",
        "def timer_context():\n",
        "    start_time = time.time()\n",
        "    yield\n",
        "    end_time = time.time()\n",
        "    print(f\"Elapsed time: {end_time - start_time} seconds\")\n"
      ]
    },
    {
      "cell_type": "code",
      "execution_count": null,
      "metadata": {
        "colab": {
          "base_uri": "https://localhost:8080/"
        },
        "id": "XLitLENj_yk1",
        "outputId": "c46c14ae-5ef8-4711-89bf-7d839d2abebc"
      },
      "outputs": [
        {
          "name": "stdout",
          "output_type": "stream",
          "text": [
            "սկսել երգել\n",
            "շուդադի շուդադա վիզաութ յոռ լավ\n",
            "Elapsed time: 3.003969669342041 seconds\n"
          ]
        }
      ],
      "source": [
        "with timer_context():\n",
        "    print(\"սկսել երգել\")\n",
        "    print(\"շուդադի շուդադա վիզաութ յոռ լավ\")\n",
        "    time.sleep(3)\n"
      ]
    },
    {
      "cell_type": "markdown",
      "metadata": {
        "id": "sNMAqKpqD9dX"
      },
      "source": [
        "### print saver"
      ]
    },
    {
      "cell_type": "code",
      "execution_count": null,
      "metadata": {
        "id": "PLSEyi3gAVgx"
      },
      "outputs": [],
      "source": [
        "import io\n",
        "import sys\n",
        "from datetime import datetime\n",
        "from contextlib import contextmanager\n",
        "\n",
        "@contextmanager\n",
        "def save_prints():\n",
        "    time_st = datetime.now().strftime(\"%H:%M:%S\")\n",
        "\n",
        "    new_out = io.StringIO()\n",
        "    old_out = sys.stdout\n",
        "    sys.stdout = new_out\n",
        "    try:\n",
        "        yield\n",
        "    finally:\n",
        "        with open(f\"outputs_{time_st}.txt\", \"w\") as f:\n",
        "            f.write(new_out.getvalue())\n",
        "\n",
        "        sys.stdout = old_out\n"
      ]
    },
    {
      "cell_type": "code",
      "execution_count": null,
      "metadata": {
        "id": "h4B_HrzgAjN9"
      },
      "outputs": [],
      "source": [
        "with save_prints():\n",
        "    print(\"սկսել երգել\")\n",
        "    print(\"շուդադի շուդադա վիզաութ յոռ լավ\")"
      ]
    }
  ],
  "metadata": {
    "colab": {
      "provenance": []
    },
    "kernelspec": {
      "display_name": "Python 3",
      "name": "python3"
    },
    "language_info": {
      "name": "python"
    }
  },
  "nbformat": 4,
  "nbformat_minor": 0
}

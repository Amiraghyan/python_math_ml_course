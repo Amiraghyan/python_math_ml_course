{
  "cells": [
    {
      "cell_type": "markdown",
      "metadata": {
        "id": "UWxOC381i25i"
      },
      "source": [
        "# Generators\n",
        "\n",
        "Լավ նյութեր\n",
        "1. https://realpython.com/introduction-to-python-generators/\n",
        "2. https://www.youtube.com/watch?v=bD05uGo_sVI"
      ]
    },
    {
      "cell_type": "code",
      "source": [
        "print(type(range(1,3)))"
      ],
      "metadata": {
        "colab": {
          "base_uri": "https://localhost:8080/"
        },
        "id": "OqgR4BV9bPBO",
        "outputId": "4f1c6d30-8cf3-4dbc-ce9a-93925ecad0f9"
      },
      "execution_count": null,
      "outputs": [
        {
          "output_type": "stream",
          "name": "stdout",
          "text": [
            "<class 'range'>\n"
          ]
        }
      ]
    },
    {
      "cell_type": "code",
      "execution_count": null,
      "metadata": {
        "colab": {
          "base_uri": "https://localhost:8080/"
        },
        "id": "rvT6WVTri0bL",
        "outputId": "600a2dfa-563d-4049-8452-a875bbf3b90c"
      },
      "outputs": [
        {
          "output_type": "stream",
          "name": "stdout",
          "text": [
            "[9, 4, 1, 0, 1, 4]\n",
            "{0, 9, 4, 1}\n",
            "<generator object <genexpr> at 0x7cb848d64f20>\n",
            "(9, 4, 1, 0, 1, 4)\n"
          ]
        }
      ],
      "source": [
        "a = [i**2 for i in range(-3, 3)]\n",
        "print(a)\n",
        "a = {i**2 for i in range(-3, 3)}\n",
        "print(a)\n",
        "a = (i**2 for i in range(-3, 3))\n",
        "print(a)\n",
        "a = tuple(i**2 for i in range(-3, 3))\n",
        "print(a)"
      ]
    },
    {
      "cell_type": "code",
      "execution_count": null,
      "metadata": {
        "colab": {
          "base_uri": "https://localhost:8080/"
        },
        "id": "6kzJTKNymQpC",
        "outputId": "47006aac-0eff-4f6d-8166-f763fdd8fe19"
      },
      "outputs": [
        {
          "output_type": "stream",
          "name": "stdout",
          "text": [
            "1\n",
            "4\n",
            "9\n",
            "16\n",
            "25\n",
            "36\n",
            "49\n",
            "64\n",
            "81\n",
            "100\n",
            "1\n",
            "4\n",
            "9\n",
            "16\n",
            "25\n",
            "36\n",
            "49\n",
            "64\n",
            "81\n",
            "100\n"
          ]
        }
      ],
      "source": [
        "for i in [1,2,3,4,5,6,7,8,9,10]:\n",
        "    print(i**2)\n",
        "\n",
        "for i in range(1,11):\n",
        "    print(i**2)"
      ]
    },
    {
      "cell_type": "code",
      "execution_count": null,
      "metadata": {
        "colab": {
          "base_uri": "https://localhost:8080/"
        },
        "id": "CvlBfAhWnBmp",
        "outputId": "0471e6a4-88ef-48b2-e332-1ff9396e142f"
      },
      "outputs": [
        {
          "output_type": "stream",
          "name": "stdout",
          "text": [
            "120\n",
            "48\n"
          ]
        }
      ],
      "source": [
        "print([1,2,3,4,5,6,7,8,9,10].__sizeof__())\n",
        "print(range(1,11).__sizeof__())"
      ]
    },
    {
      "cell_type": "code",
      "execution_count": null,
      "metadata": {
        "colab": {
          "base_uri": "https://localhost:8080/"
        },
        "id": "WLRsjg7CnBrD",
        "outputId": "10bcd1be-3837-446b-eff4-c8739ef9c974"
      },
      "outputs": [
        {
          "output_type": "stream",
          "name": "stdout",
          "text": [
            "136\n",
            "48\n"
          ]
        }
      ],
      "source": [
        "print([1,2,3,4,5,6,7,8,9,10,11].__sizeof__())\n",
        "print(range(1,1000000000000000000000000000000000000000).__sizeof__())\n",
        "\n",
        "\n",
        "for i in range(1, 10, 3):\n"
      ]
    },
    {
      "cell_type": "markdown",
      "metadata": {
        "id": "DOJiV1TFl1yU"
      },
      "source": [
        "https://media.licdn.com/dms/image/D4D12AQF2avI7qeUjMw/article-cover_image-shrink_600_2000/0/1682146643594?e=2147483647&v=beta&t=dM5iWQnf5chDAWdEpOpc0IV-Q6XeY2-TKq6Z_RYv36M"
      ]
    },
    {
      "cell_type": "markdown",
      "metadata": {
        "id": "Akm_FWbyn1SY"
      },
      "source": [
        "## քառակուսի բարձրացնելու օրինակ"
      ]
    },
    {
      "cell_type": "code",
      "execution_count": null,
      "metadata": {
        "colab": {
          "base_uri": "https://localhost:8080/"
        },
        "id": "g8evHjoEsyJt",
        "outputId": "4cd8a90d-a793-4f20-e667-dbd3e2caf559"
      },
      "outputs": [
        {
          "output_type": "stream",
          "name": "stdout",
          "text": [
            "[25, 16, 9, 4, 1, 0, 1, 4, 9, 16]\n"
          ]
        }
      ],
      "source": [
        "def qarakusi_bardzracnel(tver):\n",
        "    qarakusiner = []\n",
        "    for i in tver:\n",
        "        qarakusiner.append(i**2)\n",
        "    return qarakusiner\n",
        "\n",
        "tver = list(range(-5, 5))\n",
        "print(qarakusi_bardzracnel(tver))"
      ]
    },
    {
      "cell_type": "code",
      "execution_count": null,
      "metadata": {
        "colab": {
          "base_uri": "https://localhost:8080/"
        },
        "id": "ZHFsok8RtF8l",
        "outputId": "a454e828-5586-40f6-f47b-63c2d8a51003"
      },
      "outputs": [
        {
          "output_type": "stream",
          "name": "stdout",
          "text": [
            "<generator object qarakusi_bardzracnel at 0x7cb848d67a00>\n"
          ]
        }
      ],
      "source": [
        "def qarakusi_bardzracnel(tver):\n",
        "    for i in tver:\n",
        "        yield i**2\n",
        "\n",
        "tver = list(range(-5, 5))\n",
        "print(qarakusi_bardzracnel(tver))\n",
        "\n"
      ]
    },
    {
      "cell_type": "code",
      "execution_count": null,
      "metadata": {
        "id": "_3Nola6StPeW"
      },
      "outputs": [],
      "source": [
        "generator = qarakusi_bardzracnel(tver)"
      ]
    },
    {
      "cell_type": "code",
      "source": [
        "next(generator)"
      ],
      "metadata": {
        "colab": {
          "base_uri": "https://localhost:8080/"
        },
        "id": "KWNUPgJweGtJ",
        "outputId": "aff0dd90-4188-48f6-b8a1-da7ea7068781"
      },
      "execution_count": null,
      "outputs": [
        {
          "output_type": "execute_result",
          "data": {
            "text/plain": [
              "9"
            ]
          },
          "metadata": {},
          "execution_count": 58
        }
      ]
    },
    {
      "cell_type": "code",
      "execution_count": null,
      "metadata": {
        "colab": {
          "base_uri": "https://localhost:8080/"
        },
        "id": "sJl6k3r_tPip",
        "outputId": "e1a7ecc2-0c21-463a-cd91-508400484ef6"
      },
      "outputs": [
        {
          "output_type": "stream",
          "name": "stdout",
          "text": [
            "25\n",
            "16\n",
            "9\n",
            "4\n",
            "1\n",
            "0\n",
            "1\n",
            "4\n",
            "9\n",
            "16\n"
          ]
        }
      ],
      "source": [
        "for i in generator:\n",
        "    print(i)"
      ]
    },
    {
      "cell_type": "code",
      "execution_count": null,
      "metadata": {
        "colab": {
          "base_uri": "https://localhost:8080/",
          "height": 220
        },
        "id": "2am7rBYQtPl-",
        "outputId": "b0b1611a-8faf-4afa-946e-e3f9630d80c8"
      },
      "outputs": [
        {
          "output_type": "error",
          "ename": "StopIteration",
          "evalue": "",
          "traceback": [
            "\u001b[0;31m---------------------------------------------------------------------------\u001b[0m",
            "\u001b[0;31mStopIteration\u001b[0m                             Traceback (most recent call last)",
            "\u001b[0;32m<ipython-input-60-4f9d40761108>\u001b[0m in \u001b[0;36m<cell line: 1>\u001b[0;34m()\u001b[0m\n\u001b[0;32m----> 1\u001b[0;31m \u001b[0mnext\u001b[0m\u001b[0;34m(\u001b[0m\u001b[0mgenerator\u001b[0m\u001b[0;34m)\u001b[0m\u001b[0;34m\u001b[0m\u001b[0;34m\u001b[0m\u001b[0m\n\u001b[0m\u001b[1;32m      2\u001b[0m \u001b[0mnext\u001b[0m\u001b[0;34m(\u001b[0m\u001b[0mgenerator\u001b[0m\u001b[0;34m)\u001b[0m\u001b[0;34m\u001b[0m\u001b[0;34m\u001b[0m\u001b[0m\n\u001b[1;32m      3\u001b[0m \u001b[0mnext\u001b[0m\u001b[0;34m(\u001b[0m\u001b[0mgenerator\u001b[0m\u001b[0;34m)\u001b[0m\u001b[0;34m\u001b[0m\u001b[0;34m\u001b[0m\u001b[0m\n\u001b[1;32m      4\u001b[0m \u001b[0mnext\u001b[0m\u001b[0;34m(\u001b[0m\u001b[0mgenerator\u001b[0m\u001b[0;34m)\u001b[0m\u001b[0;34m\u001b[0m\u001b[0;34m\u001b[0m\u001b[0m\n\u001b[1;32m      5\u001b[0m \u001b[0mnext\u001b[0m\u001b[0;34m(\u001b[0m\u001b[0mgenerator\u001b[0m\u001b[0;34m)\u001b[0m\u001b[0;34m\u001b[0m\u001b[0;34m\u001b[0m\u001b[0m\n",
            "\u001b[0;31mStopIteration\u001b[0m: "
          ]
        }
      ],
      "source": [
        "next(generator)\n",
        "next(generator)\n",
        "next(generator)\n",
        "next(generator)\n",
        "next(generator)\n",
        "next(generator)\n",
        "next(generator)"
      ]
    },
    {
      "cell_type": "code",
      "execution_count": null,
      "metadata": {
        "colab": {
          "base_uri": "https://localhost:8080/"
        },
        "id": "w-Ed0SZctPn2",
        "outputId": "a7c0126b-919b-4d43-c5bb-ff7787173997"
      },
      "outputs": [
        {
          "data": {
            "text/plain": [
              "4"
            ]
          },
          "execution_count": 51,
          "metadata": {},
          "output_type": "execute_result"
        }
      ],
      "source": [
        "next(generator)"
      ]
    },
    {
      "cell_type": "markdown",
      "metadata": {
        "id": "Wzbdcml6tpVy"
      },
      "source": [
        "Comprehension-ի տեսքով"
      ]
    },
    {
      "cell_type": "code",
      "execution_count": null,
      "metadata": {
        "colab": {
          "base_uri": "https://localhost:8080/"
        },
        "id": "uJ8qXEHStPqO",
        "outputId": "5b7c6492-4ebd-4339-b62b-cb11efaca9f1"
      },
      "outputs": [
        {
          "output_type": "stream",
          "name": "stdout",
          "text": [
            "[25, 16, 9, 4, 1, 0, 1, 4, 9, 16]\n"
          ]
        }
      ],
      "source": [
        "qarakusiner = [i**2 for i in range(-5, 5)]\n",
        "print(qarakusiner)"
      ]
    },
    {
      "cell_type": "code",
      "execution_count": null,
      "metadata": {
        "colab": {
          "base_uri": "https://localhost:8080/"
        },
        "id": "GUhxVwP5tn-E",
        "outputId": "b3545b4c-7718-454f-e5f0-7db8f4d113a1"
      },
      "outputs": [
        {
          "output_type": "stream",
          "name": "stdout",
          "text": [
            "<generator object <genexpr> at 0x7cb848d67b50>\n"
          ]
        }
      ],
      "source": [
        "qarakusiner = (i**2 for i in range(-5, 5))\n",
        "print(qarakusiner)"
      ]
    },
    {
      "cell_type": "code",
      "execution_count": null,
      "metadata": {
        "colab": {
          "base_uri": "https://localhost:8080/"
        },
        "id": "G-JA9kZDtoAK",
        "outputId": "3ee61b4c-e813-4aee-ed92-c50735c8968c"
      },
      "outputs": [
        {
          "output_type": "stream",
          "name": "stdout",
          "text": [
            "range(3, 5)\n",
            "[3, 4]\n"
          ]
        }
      ],
      "source": [
        "next(qarakusiner)\n",
        "\n",
        "print(range(3,5))\n",
        "print(list(range(3,5)))"
      ]
    },
    {
      "cell_type": "code",
      "execution_count": null,
      "metadata": {
        "colab": {
          "base_uri": "https://localhost:8080/"
        },
        "id": "p2ZnXpRctoCl",
        "outputId": "8323059f-b39f-43a4-f2e0-06dd5ccc89ee"
      },
      "outputs": [
        {
          "output_type": "execute_result",
          "data": {
            "text/plain": [
              "[4, 1, 0, 1, 4, 9, 16]"
            ]
          },
          "metadata": {},
          "execution_count": 66
        }
      ],
      "source": [
        "list(qarakusiner)"
      ]
    },
    {
      "cell_type": "code",
      "execution_count": null,
      "metadata": {
        "colab": {
          "base_uri": "https://localhost:8080/"
        },
        "id": "dfKz2tpVtoEl",
        "outputId": "127a1f97-3694-459a-b79a-f02f2db57b22"
      },
      "outputs": [
        {
          "output_type": "execute_result",
          "data": {
            "text/plain": [
              "[-5, -4, -3, -2, -1, 0, 1, 2, 3, 4]"
            ]
          },
          "metadata": {},
          "execution_count": 67
        }
      ],
      "source": [
        "list(range(-5,5))"
      ]
    },
    {
      "cell_type": "markdown",
      "metadata": {
        "id": "r48IZRTCuJOY"
      },
      "source": [
        "## Անունների օրինակ"
      ]
    },
    {
      "cell_type": "code",
      "execution_count": null,
      "metadata": {
        "colab": {
          "base_uri": "https://localhost:8080/"
        },
        "id": "tBIzSBvojPon",
        "outputId": "93abaae5-d9c2-4647-ebfc-8d99235482bb"
      },
      "outputs": [
        {
          "output_type": "stream",
          "name": "stderr",
          "text": [
            "100%|██████████| 8000000/8000000 [00:08<00:00, 958284.74it/s]\n"
          ]
        }
      ],
      "source": [
        "names = [\"Լեռնիկ\", \"Սանասար\", \"Թելման\", \"Ժորիկ\", \"Ժորժիկ\", \"Այծեմնիկ\",\n",
        "        \"Սպիրիդոն\", \"Սուլեյման\", \"Տարզան\", \"Թորգոմիկ\", \"Կճեպ\", \"Խփո\",\n",
        "        \"Դառվիս\", \"Վիտյոկ\", \"Մոզգ\", \"Բութուլ\", \"Տալաշ\", \"Բերիմոռ\",\n",
        "        \"Ֆայլո\", \"Գոռո\", \"Մավսես\", \"Դրակոն\", \"Լութո\", \"Բարշամ\",\n",
        "        \"Էռնեստո Փարպեցի\", \"Բարխուդարում\", \"Բոբոլ\", \"Հռազմիկ\"]\n",
        "\n",
        "from random import choice\n",
        "from tqdm import tqdm\n",
        "\n",
        "with open(\"guests.txt\", \"w\") as f:\n",
        "    for _ in tqdm(range(8_000_000)):\n",
        "        f.write(f\"{choice(names)}\\n\")"
      ]
    },
    {
      "cell_type": "code",
      "execution_count": null,
      "metadata": {
        "id": "GrW0JVxjkWJ0"
      },
      "outputs": [],
      "source": [
        "def get_guests():\n",
        "    with open(\"guests.txt\") as f:\n",
        "        guests = []\n",
        "        for i in f:\n",
        "            guests.append(i)\n",
        "    return guests\n",
        "\n",
        "kargin_heurer = get_guests()"
      ]
    },
    {
      "cell_type": "code",
      "execution_count": null,
      "metadata": {
        "colab": {
          "base_uri": "https://localhost:8080/"
        },
        "id": "pCtTqOEbu03A",
        "outputId": "4574991f-224b-4e58-de26-f8d7b7dbc4de"
      },
      "outputs": [
        {
          "output_type": "stream",
          "name": "stdout",
          "text": [
            "['Ժորիկ\\n', 'Տալաշ\\n', 'Սուլեյման\\n', 'Էռնեստո Փարպեցի\\n', 'Հռազմիկ\\n']\n"
          ]
        }
      ],
      "source": [
        "print(kargin_heurer[:5])"
      ]
    },
    {
      "cell_type": "code",
      "execution_count": null,
      "metadata": {
        "id": "XDzv_zycumdd"
      },
      "outputs": [],
      "source": [
        "def barevel(heurer):\n",
        "    for i in heurer:\n",
        "        print(f\"Hello {i}\")"
      ]
    },
    {
      "cell_type": "code",
      "execution_count": null,
      "metadata": {
        "id": "42pCYnbvvGyp"
      },
      "outputs": [],
      "source": [
        "barevel(kargin_heurer)"
      ]
    },
    {
      "cell_type": "markdown",
      "metadata": {
        "id": "T1Ve5NgWTZR_"
      },
      "source": []
    },
    {
      "cell_type": "code",
      "execution_count": null,
      "metadata": {
        "id": "g-ACPAfSvIvc"
      },
      "outputs": [],
      "source": [
        "def barevel(heurer):\n",
        "    for i in heurer:\n",
        "        yield f\"Hello {i}\""
      ]
    },
    {
      "cell_type": "code",
      "execution_count": null,
      "metadata": {
        "colab": {
          "base_uri": "https://localhost:8080/"
        },
        "id": "EA6LSyItvSOL",
        "outputId": "475ff053-feac-4bfe-d835-508e2ea0a7cd"
      },
      "outputs": [
        {
          "output_type": "stream",
          "name": "stdout",
          "text": [
            "<generator object barevel at 0x7cb814f067a0>\n"
          ]
        }
      ],
      "source": [
        "barev = barevel(kargin_heurer)\n",
        "print(barev)"
      ]
    },
    {
      "cell_type": "code",
      "execution_count": null,
      "metadata": {
        "colab": {
          "base_uri": "https://localhost:8080/",
          "height": 36
        },
        "id": "dkgcNVF8vWTZ",
        "outputId": "10105b69-1d79-4ace-a393-9f4922251bdd"
      },
      "outputs": [
        {
          "output_type": "execute_result",
          "data": {
            "text/plain": [
              "'Hello Էռնեստո Փարպեցի\\n'"
            ],
            "application/vnd.google.colaboratory.intrinsic+json": {
              "type": "string"
            }
          },
          "metadata": {},
          "execution_count": 80
        }
      ],
      "source": [
        "next(barev)"
      ]
    },
    {
      "cell_type": "code",
      "execution_count": null,
      "metadata": {
        "id": "4HlhbiJlvZtT",
        "colab": {
          "base_uri": "https://localhost:8080/"
        },
        "outputId": "733c6776-3f3a-46f1-96d5-0ccfca39e70c"
      },
      "outputs": [
        {
          "output_type": "stream",
          "name": "stdout",
          "text": [
            "դիմավորեք\n",
            "Hello Հռազմիկ\n",
            "\n",
            "հաջող\n",
            "դիմավորեք\n",
            "Hello Գոռո\n",
            "\n",
            "հաջող\n",
            "դիմավորեք\n",
            "Hello Լեռնիկ\n",
            "\n",
            "հաջող\n",
            "դիմավորեք\n",
            "Hello Վիտյոկ\n",
            "\n",
            "հաջող\n",
            "դիմավորեք\n",
            "Hello Լութո\n",
            "\n",
            "հաջող\n",
            "դիմավորեք\n",
            "Hello Դառվիս\n",
            "\n",
            "հաջող\n",
            "դիմավորեք\n",
            "Hello Ժորժիկ\n",
            "\n",
            "հաջող\n",
            "դիմավորեք\n",
            "Hello Բարշամ\n",
            "\n",
            "հաջող\n",
            "դիմավորեք\n",
            "Hello Բութուլ\n",
            "\n",
            "հաջող\n",
            "դիմավորեք\n",
            "Hello Դառվիս\n",
            "\n",
            "հաջող\n",
            "դիմավորեք\n",
            "Hello Ժորիկ\n",
            "\n",
            "հաջող\n"
          ]
        }
      ],
      "source": [
        "for _ in range(3):\n",
        "    print(\"դիմավորեք\")\n",
        "    print(next(barev))\n",
        "    print(\"հաջող\")"
      ]
    },
    {
      "cell_type": "markdown",
      "metadata": {
        "id": "x9QYhZz6v8a6"
      },
      "source": [
        "Կամ եկեք ընդհանրապես չծանրացնենք կոմպը, տող առ տող կարդանք"
      ]
    },
    {
      "cell_type": "code",
      "execution_count": null,
      "metadata": {
        "id": "ia1ZkJr8v4Fi"
      },
      "outputs": [],
      "source": [
        "def get_guests_and_great():\n",
        "    with open(\"guests.txt\") as f:\n",
        "        for i in f:\n",
        "            yield f\"բարև {i}\"\n",
        "\n",
        "kargin_heurer = get_guests_and_great()"
      ]
    },
    {
      "cell_type": "code",
      "execution_count": null,
      "metadata": {
        "colab": {
          "base_uri": "https://localhost:8080/",
          "height": 36
        },
        "id": "S8QN5hBovxtn",
        "outputId": "9d366c37-11e8-4712-e9e3-4e291713bb6b"
      },
      "outputs": [
        {
          "output_type": "execute_result",
          "data": {
            "text/plain": [
              "'բարև Տալաշ\\n'"
            ],
            "application/vnd.google.colaboratory.intrinsic+json": {
              "type": "string"
            }
          },
          "metadata": {},
          "execution_count": 84
        }
      ],
      "source": [
        "next(kargin_heurer)"
      ]
    },
    {
      "cell_type": "markdown",
      "metadata": {
        "id": "S_iLGBxKwnrf"
      },
      "source": [
        "## Memory usage"
      ]
    },
    {
      "cell_type": "code",
      "source": [
        "skzbnakan = get_memory_usage()\n",
        "print(skzbnakan)"
      ],
      "metadata": {
        "colab": {
          "base_uri": "https://localhost:8080/"
        },
        "id": "DQ9q4ZLfgYVr",
        "outputId": "ed840b20-b50b-4852-95bd-189076a020a5"
      },
      "execution_count": null,
      "outputs": [
        {
          "output_type": "stream",
          "name": "stdout",
          "text": [
            "93\n"
          ]
        }
      ]
    },
    {
      "cell_type": "code",
      "execution_count": null,
      "metadata": {
        "colab": {
          "base_uri": "https://localhost:8080/"
        },
        "id": "e_86D5JHwMjQ",
        "outputId": "e90ab350-9c97-4a85-acaa-08a6b848bfc2"
      },
      "outputs": [
        {
          "output_type": "stream",
          "name": "stdout",
          "text": [
            "93\n"
          ]
        }
      ],
      "source": [
        "import os\n",
        "import psutil\n",
        "\n",
        "def get_memory_usage():\n",
        "    process = psutil.Process(os.getpid())\n",
        "    return process.memory_info().rss // 1024 // 1024  # in mb\n",
        "\n",
        "print(get_memory_usage())\n"
      ]
    },
    {
      "cell_type": "code",
      "execution_count": null,
      "metadata": {
        "colab": {
          "base_uri": "https://localhost:8080/"
        },
        "id": "PYVWf8Ytwb07",
        "outputId": "c7b10a3d-283b-49be-c424-64c2f58c2241"
      },
      "outputs": [
        {
          "output_type": "stream",
          "name": "stdout",
          "text": [
            "Ժորիկ\n",
            "\n"
          ]
        }
      ],
      "source": [
        "def get_guests():\n",
        "    with open(\"guests.txt\") as f:\n",
        "        guests = []\n",
        "        for i in f:\n",
        "            guests.append(i)\n",
        "    return guests\n",
        "\n",
        "kargin_heurer = get_guests()\n",
        "print(kargin_heurer[0])"
      ]
    },
    {
      "cell_type": "code",
      "execution_count": null,
      "metadata": {
        "colab": {
          "base_uri": "https://localhost:8080/"
        },
        "id": "U5Oz8nngwual",
        "outputId": "fcaa56d1-d3da-4343-cbde-13bffb5b08ac"
      },
      "outputs": [
        {
          "output_type": "execute_result",
          "data": {
            "text/plain": [
              "808"
            ]
          },
          "metadata": {},
          "execution_count": 5
        }
      ],
      "source": [
        "get_memory_usage() - skzbnakan"
      ]
    },
    {
      "cell_type": "markdown",
      "metadata": {
        "id": "xipx227hxPLp"
      },
      "source": [
        "Generatorով"
      ]
    },
    {
      "cell_type": "code",
      "execution_count": null,
      "metadata": {
        "colab": {
          "base_uri": "https://localhost:8080/"
        },
        "id": "RA7srty8wsyx",
        "outputId": "09f0ed88-6734-47e7-f5fb-f77e7c72fbe8"
      },
      "outputs": [
        {
          "output_type": "stream",
          "name": "stdout",
          "text": [
            "բարև Ժորիկ\n",
            "\n"
          ]
        }
      ],
      "source": [
        "def get_guests_and_great():\n",
        "    with open(\"guests.txt\") as f:\n",
        "        for i in f:\n",
        "            yield f\"բարև {i}\"\n",
        "\n",
        "kargin_heurer = get_guests_and_great()\n",
        "\n",
        "print(next(kargin_heurer))"
      ]
    },
    {
      "cell_type": "code",
      "execution_count": null,
      "metadata": {
        "colab": {
          "base_uri": "https://localhost:8080/"
        },
        "id": "3-9OD4N_wwI_",
        "outputId": "6e3b3277-9301-4257-c83e-646f2e082eef"
      },
      "outputs": [
        {
          "output_type": "execute_result",
          "data": {
            "text/plain": [
              "14"
            ]
          },
          "metadata": {},
          "execution_count": 4
        }
      ],
      "source": [
        "get_memory_usage() - skzbnakan"
      ]
    },
    {
      "cell_type": "markdown",
      "metadata": {
        "id": "QMwzleNtsKu-"
      },
      "source": [
        "# Iterators, iterables\n",
        "Նյութեր\n",
        "1. https://realpython.com/python-iterators-iterables/#iterating-through-iterables-with-for-loops\n",
        "2. https://www.programiz.com/python-programming/iterator\n",
        "3. https://www.youtube.com/watch?v=jTYiNjvnHZY\n",
        "4. https://www.youtube.com/watch?v=C3Z9lJXI6Qw\n"
      ]
    },
    {
      "cell_type": "markdown",
      "metadata": {
        "id": "GZGUk9DF6o__"
      },
      "source": [
        "եկեք հիմա էլ նայենք ոնցա աշխատում for loopը"
      ]
    },
    {
      "cell_type": "code",
      "execution_count": null,
      "metadata": {
        "colab": {
          "base_uri": "https://localhost:8080/"
        },
        "id": "-in4Cp84xrC9",
        "outputId": "5e7d03f8-c1d3-4bfd-8fd3-2a3cacd68e9f"
      },
      "outputs": [
        {
          "output_type": "stream",
          "name": "stdout",
          "text": [
            "1\n",
            "2\n",
            "3\n"
          ]
        }
      ],
      "source": [
        "a = [1, 2, 3]\n",
        "\n",
        "for i in a:\n",
        "    print(i)\n"
      ]
    },
    {
      "cell_type": "code",
      "execution_count": null,
      "metadata": {
        "colab": {
          "base_uri": "https://localhost:8080/",
          "height": 147
        },
        "id": "gxoLDlMg68rK",
        "outputId": "8f971998-9e78-4108-98b1-392180f206c3"
      },
      "outputs": [
        {
          "output_type": "error",
          "ename": "TypeError",
          "evalue": "'list' object is not an iterator",
          "traceback": [
            "\u001b[0;31m---------------------------------------------------------------------------\u001b[0m",
            "\u001b[0;31mTypeError\u001b[0m                                 Traceback (most recent call last)",
            "\u001b[0;32m<ipython-input-37-15841f3f11d4>\u001b[0m in \u001b[0;36m<cell line: 1>\u001b[0;34m()\u001b[0m\n\u001b[0;32m----> 1\u001b[0;31m \u001b[0mnext\u001b[0m\u001b[0;34m(\u001b[0m\u001b[0ma\u001b[0m\u001b[0;34m)\u001b[0m\u001b[0;34m\u001b[0m\u001b[0;34m\u001b[0m\u001b[0m\n\u001b[0m",
            "\u001b[0;31mTypeError\u001b[0m: 'list' object is not an iterator"
          ]
        }
      ],
      "source": [
        "next(a) # a.__next__()"
      ]
    },
    {
      "cell_type": "code",
      "execution_count": null,
      "metadata": {
        "colab": {
          "base_uri": "https://localhost:8080/"
        },
        "id": "tbs9YH836_e5",
        "outputId": "9ada050b-8eb2-4fea-f9f8-6bc24328a137"
      },
      "outputs": [
        {
          "output_type": "stream",
          "name": "stdout",
          "text": [
            "<class 'list'>\n",
            "<class 'list_iterator'>\n"
          ]
        }
      ],
      "source": [
        "print(type(a))\n",
        "a_iter = iter(a) # __iter__()\n",
        "print(type(a_iter))"
      ]
    },
    {
      "cell_type": "code",
      "execution_count": null,
      "metadata": {
        "colab": {
          "base_uri": "https://localhost:8080/"
        },
        "id": "qY3ESyfO7GJ9",
        "outputId": "90d1b549-fcb9-41e7-e08f-a2708e71ff5e"
      },
      "outputs": [
        {
          "output_type": "execute_result",
          "data": {
            "text/plain": [
              "2"
            ]
          },
          "metadata": {},
          "execution_count": 10
        }
      ],
      "source": [
        "next(a_iter)"
      ]
    },
    {
      "cell_type": "code",
      "execution_count": null,
      "metadata": {
        "colab": {
          "base_uri": "https://localhost:8080/"
        },
        "id": "5mN6M0Gf7KJ0",
        "outputId": "15dcd2ae-754b-495f-fc2c-a23cc1aed57f"
      },
      "outputs": [
        {
          "output_type": "execute_result",
          "data": {
            "text/plain": [
              "3"
            ]
          },
          "metadata": {},
          "execution_count": 41
        }
      ],
      "source": [
        "next(a_iter)"
      ]
    },
    {
      "cell_type": "code",
      "execution_count": null,
      "metadata": {
        "id": "Rq81cXxR7PGE"
      },
      "outputs": [],
      "source": [
        "class VrazList:\n",
        "    def __init__(self, lst):\n",
        "        self.lst = lst\n",
        "#\n",
        "    def __iter__(self):\n",
        "        pass\n"
      ]
    },
    {
      "cell_type": "code",
      "execution_count": null,
      "metadata": {
        "colab": {
          "base_uri": "https://localhost:8080/"
        },
        "id": "VFMp3Ztk7b6T",
        "outputId": "e43d05de-b100-40db-df30-9cec2b1a9dda"
      },
      "outputs": [
        {
          "output_type": "stream",
          "name": "stdout",
          "text": [
            "<__main__.VrazList object at 0x78957420e980>\n",
            "<class '__main__.VrazList'>\n",
            "[1, 2, 3, 4, 5]\n"
          ]
        }
      ],
      "source": [
        "a = VrazList([1,2,3,4,5])\n",
        "print(a)\n",
        "print(type(a))\n",
        "print(a.lst)"
      ]
    },
    {
      "cell_type": "code",
      "execution_count": null,
      "metadata": {
        "colab": {
          "base_uri": "https://localhost:8080/",
          "height": 165
        },
        "id": "F_IlCbXU7j2W",
        "outputId": "28f34028-ed2c-4dd3-d922-86690bd37b6f"
      },
      "outputs": [
        {
          "output_type": "error",
          "ename": "TypeError",
          "evalue": "iter() returned non-iterator of type 'NoneType'",
          "traceback": [
            "\u001b[0;31m---------------------------------------------------------------------------\u001b[0m",
            "\u001b[0;31mTypeError\u001b[0m                                 Traceback (most recent call last)",
            "\u001b[0;32m<ipython-input-24-c324de4f8f18>\u001b[0m in \u001b[0;36m<cell line: 1>\u001b[0;34m()\u001b[0m\n\u001b[0;32m----> 1\u001b[0;31m \u001b[0;32mfor\u001b[0m \u001b[0mi\u001b[0m \u001b[0;32min\u001b[0m \u001b[0ma\u001b[0m\u001b[0;34m:\u001b[0m\u001b[0;34m\u001b[0m\u001b[0;34m\u001b[0m\u001b[0m\n\u001b[0m\u001b[1;32m      2\u001b[0m     \u001b[0mprint\u001b[0m\u001b[0;34m(\u001b[0m\u001b[0mi\u001b[0m\u001b[0;34m)\u001b[0m\u001b[0;34m\u001b[0m\u001b[0;34m\u001b[0m\u001b[0m\n",
            "\u001b[0;31mTypeError\u001b[0m: iter() returned non-iterator of type 'NoneType'"
          ]
        }
      ],
      "source": [
        "for i in a:\n",
        "    print(i)"
      ]
    },
    {
      "cell_type": "code",
      "execution_count": null,
      "metadata": {
        "id": "C-J1FH5l8AUe"
      },
      "outputs": [],
      "source": [
        "class VrazList:\n",
        "    def __init__(self, lst):\n",
        "        self.lst = lst\n",
        "        self.index = 0\n",
        "\n",
        "    def __iter__(self):\n",
        "        return self\n",
        "\n",
        "    def __next__(self):\n",
        "        current = self.lst[self.index]\n",
        "        self.index += 2\n",
        "        return current"
      ]
    },
    {
      "cell_type": "code",
      "execution_count": null,
      "metadata": {
        "colab": {
          "base_uri": "https://localhost:8080/",
          "height": 384
        },
        "id": "Jn3xXNSZ7mpd",
        "outputId": "0b763726-07e8-4fe2-a155-433973070898"
      },
      "outputs": [
        {
          "output_type": "stream",
          "name": "stdout",
          "text": [
            "1\n",
            "3\n",
            "5\n"
          ]
        },
        {
          "output_type": "error",
          "ename": "IndexError",
          "evalue": "list index out of range",
          "traceback": [
            "\u001b[0;31m---------------------------------------------------------------------------\u001b[0m",
            "\u001b[0;31mIndexError\u001b[0m                                Traceback (most recent call last)",
            "\u001b[0;32m<ipython-input-26-6b2576012047>\u001b[0m in \u001b[0;36m<cell line: 3>\u001b[0;34m()\u001b[0m\n\u001b[1;32m      1\u001b[0m \u001b[0ma\u001b[0m \u001b[0;34m=\u001b[0m \u001b[0mVrazList\u001b[0m\u001b[0;34m(\u001b[0m\u001b[0;34m[\u001b[0m\u001b[0;36m1\u001b[0m\u001b[0;34m,\u001b[0m\u001b[0;36m2\u001b[0m\u001b[0;34m,\u001b[0m\u001b[0;36m3\u001b[0m\u001b[0;34m,\u001b[0m\u001b[0;36m4\u001b[0m\u001b[0;34m,\u001b[0m\u001b[0;36m5\u001b[0m\u001b[0;34m]\u001b[0m\u001b[0;34m)\u001b[0m\u001b[0;34m\u001b[0m\u001b[0;34m\u001b[0m\u001b[0m\n\u001b[1;32m      2\u001b[0m \u001b[0;34m\u001b[0m\u001b[0m\n\u001b[0;32m----> 3\u001b[0;31m \u001b[0;32mfor\u001b[0m \u001b[0mi\u001b[0m \u001b[0;32min\u001b[0m \u001b[0ma\u001b[0m\u001b[0;34m:\u001b[0m\u001b[0;34m\u001b[0m\u001b[0;34m\u001b[0m\u001b[0m\n\u001b[0m\u001b[1;32m      4\u001b[0m     \u001b[0mprint\u001b[0m\u001b[0;34m(\u001b[0m\u001b[0mi\u001b[0m\u001b[0;34m)\u001b[0m\u001b[0;34m\u001b[0m\u001b[0;34m\u001b[0m\u001b[0m\n",
            "\u001b[0;32m<ipython-input-25-b3d60f4a1eb8>\u001b[0m in \u001b[0;36m__next__\u001b[0;34m(self)\u001b[0m\n\u001b[1;32m      8\u001b[0m \u001b[0;34m\u001b[0m\u001b[0m\n\u001b[1;32m      9\u001b[0m     \u001b[0;32mdef\u001b[0m \u001b[0m__next__\u001b[0m\u001b[0;34m(\u001b[0m\u001b[0mself\u001b[0m\u001b[0;34m)\u001b[0m\u001b[0;34m:\u001b[0m\u001b[0;34m\u001b[0m\u001b[0;34m\u001b[0m\u001b[0m\n\u001b[0;32m---> 10\u001b[0;31m         \u001b[0mcurrent\u001b[0m \u001b[0;34m=\u001b[0m \u001b[0mself\u001b[0m\u001b[0;34m.\u001b[0m\u001b[0mlst\u001b[0m\u001b[0;34m[\u001b[0m\u001b[0mself\u001b[0m\u001b[0;34m.\u001b[0m\u001b[0mindex\u001b[0m\u001b[0;34m]\u001b[0m\u001b[0;34m\u001b[0m\u001b[0;34m\u001b[0m\u001b[0m\n\u001b[0m\u001b[1;32m     11\u001b[0m         \u001b[0mself\u001b[0m\u001b[0;34m.\u001b[0m\u001b[0mindex\u001b[0m \u001b[0;34m+=\u001b[0m \u001b[0;36m2\u001b[0m\u001b[0;34m\u001b[0m\u001b[0;34m\u001b[0m\u001b[0m\n\u001b[1;32m     12\u001b[0m         \u001b[0;32mreturn\u001b[0m \u001b[0mcurrent\u001b[0m\u001b[0;34m\u001b[0m\u001b[0;34m\u001b[0m\u001b[0m\n",
            "\u001b[0;31mIndexError\u001b[0m: list index out of range"
          ]
        }
      ],
      "source": [
        "a = VrazList([1,2,3,4,5])\n",
        "\n",
        "for i in a:\n",
        "    print(i)"
      ]
    },
    {
      "cell_type": "code",
      "execution_count": null,
      "metadata": {
        "id": "p6tJnDH68eie"
      },
      "outputs": [],
      "source": [
        "class VrazList:\n",
        "    def __init__(self, lst):\n",
        "        self.lst = lst\n",
        "        self.index = 0\n",
        "\n",
        "    def __iter__(self):\n",
        "        return self\n",
        "\n",
        "    def __next__(self):\n",
        "        if self.index >= len(self.lst):\n",
        "            raise StopIteration\n",
        "\n",
        "        current = self.lst[self.index]\n",
        "        self.index += 2\n",
        "        return current"
      ]
    },
    {
      "cell_type": "code",
      "execution_count": null,
      "metadata": {
        "colab": {
          "base_uri": "https://localhost:8080/"
        },
        "id": "h-mV6hwI9IEe",
        "outputId": "39758c6d-fca2-43da-817e-cad855e0e425"
      },
      "outputs": [
        {
          "output_type": "stream",
          "name": "stdout",
          "text": [
            "1\n",
            "9\n",
            "25\n"
          ]
        }
      ],
      "source": [
        "a = VrazList([1,2,3,4,5])\n",
        "\n",
        "for i in a:\n",
        "    print(i**2)\n",
        "\n"
      ]
    },
    {
      "cell_type": "code",
      "source": [
        "a = VrazList([1,2,3,4,5])\n"
      ],
      "metadata": {
        "id": "AGyQEe6qkFNv"
      },
      "execution_count": null,
      "outputs": []
    },
    {
      "cell_type": "code",
      "execution_count": null,
      "metadata": {
        "id": "0aaEmR2C97Ju",
        "colab": {
          "base_uri": "https://localhost:8080/"
        },
        "outputId": "49ce17a0-375c-49a5-eb35-7bf206a582f9"
      },
      "outputs": [
        {
          "output_type": "stream",
          "name": "stdout",
          "text": [
            "1\n",
            "9\n",
            "25\n"
          ]
        }
      ],
      "source": [
        "while True:\n",
        "    try:\n",
        "        i = next(a)\n",
        "        print(i**2)\n",
        "\n",
        "    except StopIteration:\n",
        "        break"
      ]
    },
    {
      "cell_type": "markdown",
      "metadata": {
        "id": "HbjTW58J3Tbe"
      },
      "source": [
        "# Context managers\n",
        "լավ նյութ՝ https://www.youtube.com/watch?v=-aKFBoZpiqA"
      ]
    },
    {
      "cell_type": "code",
      "execution_count": null,
      "metadata": {
        "colab": {
          "base_uri": "https://localhost:8080/"
        },
        "id": "bTbHi1Ma3VBW",
        "outputId": "c17054cf-6da3-4618-b4d7-e60527511e02"
      },
      "outputs": [
        {
          "output_type": "stream",
          "name": "stdout",
          "text": [
            "False\n",
            "True\n"
          ]
        }
      ],
      "source": [
        "f = open(\"panir.txt\", \"w\")\n",
        "f.write(\"պանիր պանիր պանիր\")\n",
        "\n",
        "print(f.closed)\n",
        "f.close()\n",
        "print(f.closed)\n"
      ]
    },
    {
      "cell_type": "code",
      "execution_count": null,
      "metadata": {
        "colab": {
          "base_uri": "https://localhost:8080/"
        },
        "id": "e9hyDqm-3djN",
        "outputId": "3eb5f942-7721-446c-bd91-dd73ab0bf28c"
      },
      "outputs": [
        {
          "output_type": "stream",
          "name": "stdout",
          "text": [
            "True\n"
          ]
        }
      ],
      "source": [
        "with open(\"panir.txt\", \"w\") as f:\n",
        "    f.write(\"պանիր պանիր պանիր\")\n",
        "\n",
        "print(f.closed)\n",
        "# ոնցա՞ հասկանում որ պետքա close անի վերջում"
      ]
    },
    {
      "cell_type": "code",
      "execution_count": null,
      "metadata": {
        "id": "_g4w58fC3mRY"
      },
      "outputs": [],
      "source": [
        "class Bacich:\n",
        "    def __init__(self, name, mode):\n",
        "        self.name = name\n",
        "        self.mode = mode\n",
        "\n",
        "    def __enter__(self):\n",
        "        print(f\"\\nհեսա փորձելու ենք բացել {self.name}-ը {self.mode} նպատակով\")\n",
        "        self.file = open(self.name, self.mode)\n",
        "        return self.file\n",
        "\n",
        "    def __exit__(self, exc_type, exc_val, traceback):\n",
        "        print(\"\\nփակենք\")\n",
        "        self.file.close()"
      ]
    },
    {
      "cell_type": "code",
      "execution_count": null,
      "metadata": {
        "colab": {
          "base_uri": "https://localhost:8080/"
        },
        "id": "ugFBXmjy4lj8",
        "outputId": "51464f82-7d11-4c02-e798-04d969dfaf7b"
      },
      "outputs": [
        {
          "output_type": "stream",
          "name": "stdout",
          "text": [
            "\n",
            "հեսա փորձելու ենք բացել panir.txt-ը r նպատակով\n"
          ]
        },
        {
          "output_type": "execute_result",
          "data": {
            "text/plain": [
              "<_io.TextIOWrapper name='panir.txt' mode='r' encoding='UTF-8'>"
            ]
          },
          "metadata": {},
          "execution_count": 42
        }
      ],
      "source": [
        "a = Bacich(\"panir.txt\", \"r\")\n",
        "a.__enter__()"
      ]
    },
    {
      "cell_type": "code",
      "execution_count": null,
      "metadata": {
        "colab": {
          "base_uri": "https://localhost:8080/",
          "height": 220
        },
        "id": "sIN72tBF4v9a",
        "outputId": "43dee284-3460-4db0-9afd-90f795acb8e5"
      },
      "outputs": [
        {
          "output_type": "error",
          "ename": "AttributeError",
          "evalue": "__exit__",
          "traceback": [
            "\u001b[0;31m---------------------------------------------------------------------------\u001b[0m",
            "\u001b[0;31mAttributeError\u001b[0m                            Traceback (most recent call last)",
            "\u001b[0;32m<ipython-input-45-5a9188259cde>\u001b[0m in \u001b[0;36m<cell line: 1>\u001b[0;34m()\u001b[0m\n\u001b[0;32m----> 1\u001b[0;31m \u001b[0;32mwith\u001b[0m \u001b[0mBacich\u001b[0m\u001b[0;34m(\u001b[0m\u001b[0;34m\"panir.txt\"\u001b[0m\u001b[0;34m,\u001b[0m \u001b[0;34m\"r\"\u001b[0m\u001b[0;34m)\u001b[0m \u001b[0;32mas\u001b[0m \u001b[0mf\u001b[0m\u001b[0;34m:\u001b[0m\u001b[0;34m\u001b[0m\u001b[0;34m\u001b[0m\u001b[0m\n\u001b[0m\u001b[1;32m      2\u001b[0m     \u001b[0;31m# some code\u001b[0m\u001b[0;34m\u001b[0m\u001b[0;34m\u001b[0m\u001b[0m\n\u001b[1;32m      3\u001b[0m     \u001b[0mprint\u001b[0m\u001b[0;34m(\u001b[0m\u001b[0mf\u001b[0m\u001b[0;34m.\u001b[0m\u001b[0mread\u001b[0m\u001b[0;34m(\u001b[0m\u001b[0;34m)\u001b[0m\u001b[0;34m)\u001b[0m\u001b[0;34m\u001b[0m\u001b[0;34m\u001b[0m\u001b[0m\n\u001b[1;32m      4\u001b[0m \u001b[0;34m\u001b[0m\u001b[0m\n\u001b[1;32m      5\u001b[0m \u001b[0mprint\u001b[0m\u001b[0;34m(\u001b[0m\u001b[0mf\u001b[0m\u001b[0;34m.\u001b[0m\u001b[0mclosed\u001b[0m\u001b[0;34m)\u001b[0m\u001b[0;34m\u001b[0m\u001b[0;34m\u001b[0m\u001b[0m\n",
            "\u001b[0;31mAttributeError\u001b[0m: __exit__"
          ]
        }
      ],
      "source": [
        "with Bacich(\"panir.txt\", \"r\") as f:\n",
        "    # some code\n",
        "    print(f.read())\n",
        "\n",
        "print(f.closed)\n",
        "\n",
        "f = Bacich(\"panir.txt\", \"r\").__enter__()\n",
        "# some code\n",
        "Bacich(\"panir.txt\", \"r\").__exit__()"
      ]
    },
    {
      "cell_type": "markdown",
      "metadata": {
        "id": "50U2Mr5U5ods"
      },
      "source": [
        "աշխատեց enterը հետո withի մեջի կոդը, հետո exitը\n"
      ]
    },
    {
      "cell_type": "code",
      "execution_count": null,
      "metadata": {
        "id": "JNOj7uK05an9"
      },
      "outputs": [],
      "source": [
        "# exc_type ... ի պահով"
      ]
    },
    {
      "cell_type": "code",
      "execution_count": null,
      "metadata": {
        "id": "aLwtrnbF5-2S"
      },
      "outputs": [],
      "source": [
        "class Bacich:\n",
        "    def __init__(self, name, mode):\n",
        "        self.name = name\n",
        "        self.mode = mode\n",
        "\n",
        "    def __enter__(self):\n",
        "        print(\"\\nհեսա փորձելու ենք բացել {self.name}ը {self.mode} նպատակով\\n\")\n",
        "        self.file = open(self.name, self.mode)\n",
        "        return self.file\n",
        "\n",
        "    def __exit__(self, exc_type, exc_val, traceback):\n",
        "        print(\"\\nփակենք\")\n",
        "        print(\"exc_type =\", exc_type)\n",
        "        print(\"exc_val =\", exc_val)\n",
        "        print(\"traceback = \", traceback)\n",
        "        self.file.close()\n"
      ]
    },
    {
      "cell_type": "code",
      "execution_count": null,
      "metadata": {
        "colab": {
          "base_uri": "https://localhost:8080/"
        },
        "id": "bNniHNzq6B1b",
        "outputId": "af6371e2-4917-4183-ce4a-b5d5c2fcba11"
      },
      "outputs": [
        {
          "output_type": "stream",
          "name": "stdout",
          "text": [
            "\n",
            "հեսա փորձելու ենք բացել {self.name}ը {self.mode} նպատակով\n",
            "\n",
            "ա\n",
            "պանիր պանիր պանիր\n",
            "\n",
            "փակենք\n",
            "exc_type = None\n",
            "exc_val = None\n",
            "traceback =  None\n",
            "True\n"
          ]
        }
      ],
      "source": [
        "with Bacich(\"panir.txt\", \"r\") as f:\n",
        "    print(\"ա\")\n",
        "    print(f.read())\n",
        "\n",
        "print(f.closed)"
      ]
    },
    {
      "cell_type": "code",
      "execution_count": null,
      "metadata": {
        "colab": {
          "base_uri": "https://localhost:8080/",
          "height": 366
        },
        "id": "4oDKaqN66bSZ",
        "outputId": "f9ed0701-4a9e-4d0d-95aa-29c66267a150"
      },
      "outputs": [
        {
          "output_type": "stream",
          "name": "stdout",
          "text": [
            "\n",
            "հեսա փորձելու ենք բացել {self.name}ը {self.mode} նպատակով\n",
            "\n",
            "ա\n",
            "\n",
            "փակենք\n",
            "exc_type = <class 'NameError'>\n",
            "exc_val = name 'lav_katakner_haykic' is not defined\n",
            "traceback =  <traceback object at 0x78953f2bc500>\n"
          ]
        },
        {
          "output_type": "error",
          "ename": "NameError",
          "evalue": "name 'lav_katakner_haykic' is not defined",
          "traceback": [
            "\u001b[0;31m---------------------------------------------------------------------------\u001b[0m",
            "\u001b[0;31mNameError\u001b[0m                                 Traceback (most recent call last)",
            "\u001b[0;32m<ipython-input-53-f271eca65ed7>\u001b[0m in \u001b[0;36m<cell line: 1>\u001b[0;34m()\u001b[0m\n\u001b[1;32m      1\u001b[0m \u001b[0;32mwith\u001b[0m \u001b[0mBacich\u001b[0m\u001b[0;34m(\u001b[0m\u001b[0;34m\"panir.txt\"\u001b[0m\u001b[0;34m,\u001b[0m \u001b[0;34m\"r\"\u001b[0m\u001b[0;34m)\u001b[0m \u001b[0;32mas\u001b[0m \u001b[0mf\u001b[0m\u001b[0;34m:\u001b[0m\u001b[0;34m\u001b[0m\u001b[0;34m\u001b[0m\u001b[0m\n\u001b[1;32m      2\u001b[0m     \u001b[0mprint\u001b[0m\u001b[0;34m(\u001b[0m\u001b[0;34m\"ա\"\u001b[0m\u001b[0;34m)\u001b[0m\u001b[0;34m\u001b[0m\u001b[0;34m\u001b[0m\u001b[0m\n\u001b[0;32m----> 3\u001b[0;31m     \u001b[0mprint\u001b[0m\u001b[0;34m(\u001b[0m\u001b[0mlav_katakner_haykic\u001b[0m\u001b[0;34m)\u001b[0m\u001b[0;34m\u001b[0m\u001b[0;34m\u001b[0m\u001b[0m\n\u001b[0m\u001b[1;32m      4\u001b[0m     \u001b[0mprint\u001b[0m\u001b[0;34m(\u001b[0m\u001b[0mf\u001b[0m\u001b[0;34m.\u001b[0m\u001b[0mread\u001b[0m\u001b[0;34m(\u001b[0m\u001b[0;34m)\u001b[0m\u001b[0;34m)\u001b[0m\u001b[0;34m\u001b[0m\u001b[0;34m\u001b[0m\u001b[0m\n",
            "\u001b[0;31mNameError\u001b[0m: name 'lav_katakner_haykic' is not defined"
          ]
        }
      ],
      "source": [
        "\n",
        "with Bacich(\"panir.txt\", \"r\") as f:\n",
        "    print(\"ա\")\n",
        "    print(lav_katakner_haykic)\n",
        "    print(f.read())"
      ]
    },
    {
      "cell_type": "code",
      "source": [
        "f = Bacich(..).__enter__()\n",
        "try:\n",
        "    # some code\n",
        "except Exception as e:\n",
        "    Bacich().__exit__(e, traceback)"
      ],
      "metadata": {
        "id": "xsT3snb9nJ8F"
      },
      "execution_count": null,
      "outputs": []
    },
    {
      "cell_type": "code",
      "execution_count": null,
      "metadata": {
        "colab": {
          "base_uri": "https://localhost:8080/"
        },
        "id": "CNVAf3mD9YJM",
        "outputId": "6396ea89-b63a-47bd-e87a-b5a2d22935dd"
      },
      "outputs": [
        {
          "name": "stdout",
          "output_type": "stream",
          "text": [
            "True\n"
          ]
        }
      ],
      "source": [
        "print(f.closed)\n"
      ]
    },
    {
      "cell_type": "markdown",
      "metadata": {
        "id": "ivDlKKm-6o2d"
      },
      "source": [
        "## հլը մի րոպե, բայց openը ֆունցկիայա ոչ թե class"
      ]
    },
    {
      "cell_type": "code",
      "execution_count": null,
      "metadata": {
        "colab": {
          "base_uri": "https://localhost:8080/"
        },
        "id": "1j3GLhRK6hDT",
        "outputId": "f9b70a6f-6085-4327-8a8e-2716190d452e"
      },
      "outputs": [
        {
          "output_type": "execute_result",
          "data": {
            "text/plain": [
              "builtin_function_or_method"
            ]
          },
          "metadata": {},
          "execution_count": 54
        }
      ],
      "source": [
        "type(open)"
      ]
    },
    {
      "cell_type": "code",
      "execution_count": null,
      "metadata": {
        "id": "o4k4wcsk6l_F"
      },
      "outputs": [],
      "source": [
        "from contextlib import contextmanager\n",
        "\n",
        "@contextmanager\n",
        "def bacich(name, mode):\n",
        "    print(f\"հեսա փորձելու ենք բացել {name}ը {mode} նպատակով\\n\")\n",
        "    file = open(name, mode)\n",
        "    yield file\n",
        "    print(\"\\nժամանակն է փակելու ֆայլը\")\n",
        "    file.close()\n",
        "\n",
        "\n",
        "# class Bacich:\n",
        "#     def __init__(self, name, mode):\n",
        "#         self.name = name\n",
        "#         self.mode = mode\n",
        "\n",
        "#     def __enter__(self):\n",
        "#         print(\"\\nհեսա փորձելու ենք բացել {self.name}ը {self.mode} նպատակով\\n\")\n",
        "#         self.file = open(self.name, self.mode)\n",
        "#         return self.file\n",
        "\n",
        "#     def __exit__(self, exc_type, exc_val, traceback):\n",
        "#         print(\"\\nփակենք\")\n",
        "#         print(\"exc_type =\", exc_type)\n",
        "#         print(\"exc_val =\", exc_val)\n",
        "#         print(\"traceback = \", traceback)\n",
        "#         self.file.close()\n",
        "\n"
      ]
    },
    {
      "cell_type": "code",
      "execution_count": null,
      "metadata": {
        "colab": {
          "base_uri": "https://localhost:8080/"
        },
        "id": "AvOG23N97dXG",
        "outputId": "92cd437c-ae32-4e10-f9a9-690156e0f6f4"
      },
      "outputs": [
        {
          "output_type": "stream",
          "name": "stdout",
          "text": [
            "հեսա փորձելու ենք բացել panir.txtը r նպատակով\n",
            "\n",
            "a\n",
            "պանիր պանիր պանիր\n",
            "\n",
            "ժամանակն է փակելու ֆայլը\n",
            "True\n"
          ]
        }
      ],
      "source": [
        "with bacich(\"panir.txt\", \"r\") as f:\n",
        "    print(\"a\")\n",
        "    print(f.read())\n",
        "\n",
        "print(f.closed)"
      ]
    },
    {
      "cell_type": "markdown",
      "metadata": {
        "id": "uv1GYX-88ON4"
      },
      "source": [
        "\n",
        "\n",
        "1. Աշխատումա բացիչ ֆունկցիայի բոլոր տողերը մինչև yield\n",
        "2. yield արած արժեքը վերագրվումա fին\n",
        "3. աշխատումա withի միջի կոդը\n",
        "4. աշխատումա yieldից հետո գրվածը\n",
        "\n"
      ]
    },
    {
      "cell_type": "code",
      "execution_count": null,
      "metadata": {
        "colab": {
          "base_uri": "https://localhost:8080/",
          "height": 256
        },
        "id": "DXDMlJ147kL4",
        "outputId": "be3c0ace-85ff-4de2-ca33-b17c6ae8590a"
      },
      "outputs": [
        {
          "output_type": "stream",
          "name": "stdout",
          "text": [
            "հեսա փորձելու ենք բացել panir.txtը r նպատակով\n",
            "\n",
            "a\n"
          ]
        },
        {
          "output_type": "error",
          "ename": "NameError",
          "evalue": "name 'lav_katakner_haykic_2' is not defined",
          "traceback": [
            "\u001b[0;31m---------------------------------------------------------------------------\u001b[0m",
            "\u001b[0;31mNameError\u001b[0m                                 Traceback (most recent call last)",
            "\u001b[0;32m<ipython-input-57-4c2c382e0e7f>\u001b[0m in \u001b[0;36m<cell line: 1>\u001b[0;34m()\u001b[0m\n\u001b[1;32m      1\u001b[0m \u001b[0;32mwith\u001b[0m \u001b[0mbacich\u001b[0m\u001b[0;34m(\u001b[0m\u001b[0;34m\"panir.txt\"\u001b[0m\u001b[0;34m,\u001b[0m \u001b[0;34m\"r\"\u001b[0m\u001b[0;34m)\u001b[0m \u001b[0;32mas\u001b[0m \u001b[0mf\u001b[0m\u001b[0;34m:\u001b[0m\u001b[0;34m\u001b[0m\u001b[0;34m\u001b[0m\u001b[0m\n\u001b[1;32m      2\u001b[0m     \u001b[0mprint\u001b[0m\u001b[0;34m(\u001b[0m\u001b[0;34m\"a\"\u001b[0m\u001b[0;34m)\u001b[0m\u001b[0;34m\u001b[0m\u001b[0;34m\u001b[0m\u001b[0m\n\u001b[0;32m----> 3\u001b[0;31m     \u001b[0mprint\u001b[0m\u001b[0;34m(\u001b[0m\u001b[0mlav_katakner_haykic_2\u001b[0m\u001b[0;34m)\u001b[0m\u001b[0;34m\u001b[0m\u001b[0;34m\u001b[0m\u001b[0m\n\u001b[0m\u001b[1;32m      4\u001b[0m     \u001b[0mprint\u001b[0m\u001b[0;34m(\u001b[0m\u001b[0mf\u001b[0m\u001b[0;34m.\u001b[0m\u001b[0mread\u001b[0m\u001b[0;34m(\u001b[0m\u001b[0;34m)\u001b[0m\u001b[0;34m)\u001b[0m\u001b[0;34m\u001b[0m\u001b[0;34m\u001b[0m\u001b[0m\n",
            "\u001b[0;31mNameError\u001b[0m: name 'lav_katakner_haykic_2' is not defined"
          ]
        }
      ],
      "source": [
        "with bacich(\"panir.txt\", \"r\") as f:\n",
        "    print(\"a\")\n",
        "    print(lav_katakner_haykic_2)\n",
        "    print(f.read())\n"
      ]
    },
    {
      "cell_type": "code",
      "execution_count": null,
      "metadata": {
        "colab": {
          "base_uri": "https://localhost:8080/"
        },
        "id": "Qp7xFptD86KJ",
        "outputId": "8f6943c4-ffc8-423a-f31c-bf01afa9af68"
      },
      "outputs": [
        {
          "data": {
            "text/plain": [
              "False"
            ]
          },
          "execution_count": 96,
          "metadata": {},
          "output_type": "execute_result"
        }
      ],
      "source": [
        "f.closed"
      ]
    },
    {
      "cell_type": "code",
      "execution_count": null,
      "metadata": {
        "id": "fbZHB4Wt8kXh"
      },
      "outputs": [],
      "source": [
        "from contextlib import contextmanager\n",
        "\n",
        "@contextmanager\n",
        "def bacich(name, mode):\n",
        "    try:\n",
        "        print(f\"հեսա փորձելու ենք բացել {name}ը {mode} նպատակով\\n\")\n",
        "        file = open(name, mode)\n",
        "        yield file\n",
        "    finally: # որ միշտ աշխատի\n",
        "        print(\"\\nժամանակն է փակելու ֆայլը\")\n",
        "        file.close()\n"
      ]
    },
    {
      "cell_type": "code",
      "execution_count": null,
      "metadata": {
        "colab": {
          "base_uri": "https://localhost:8080/",
          "height": 293
        },
        "id": "yCBleyiT8xI7",
        "outputId": "27d46807-bf78-45a5-f762-733707ca3616"
      },
      "outputs": [
        {
          "output_type": "stream",
          "name": "stdout",
          "text": [
            "հեսա փորձելու ենք բացել panir.txtը r նպատակով\n",
            "\n",
            "a\n",
            "\n",
            "ժամանակն է փակելու ֆայլը\n"
          ]
        },
        {
          "output_type": "error",
          "ename": "NameError",
          "evalue": "name 'lav_katakner_haykic_2' is not defined",
          "traceback": [
            "\u001b[0;31m---------------------------------------------------------------------------\u001b[0m",
            "\u001b[0;31mNameError\u001b[0m                                 Traceback (most recent call last)",
            "\u001b[0;32m<ipython-input-59-4c2c382e0e7f>\u001b[0m in \u001b[0;36m<cell line: 1>\u001b[0;34m()\u001b[0m\n\u001b[1;32m      1\u001b[0m \u001b[0;32mwith\u001b[0m \u001b[0mbacich\u001b[0m\u001b[0;34m(\u001b[0m\u001b[0;34m\"panir.txt\"\u001b[0m\u001b[0;34m,\u001b[0m \u001b[0;34m\"r\"\u001b[0m\u001b[0;34m)\u001b[0m \u001b[0;32mas\u001b[0m \u001b[0mf\u001b[0m\u001b[0;34m:\u001b[0m\u001b[0;34m\u001b[0m\u001b[0;34m\u001b[0m\u001b[0m\n\u001b[1;32m      2\u001b[0m     \u001b[0mprint\u001b[0m\u001b[0;34m(\u001b[0m\u001b[0;34m\"a\"\u001b[0m\u001b[0;34m)\u001b[0m\u001b[0;34m\u001b[0m\u001b[0;34m\u001b[0m\u001b[0m\n\u001b[0;32m----> 3\u001b[0;31m     \u001b[0mprint\u001b[0m\u001b[0;34m(\u001b[0m\u001b[0mlav_katakner_haykic_2\u001b[0m\u001b[0;34m)\u001b[0m\u001b[0;34m\u001b[0m\u001b[0;34m\u001b[0m\u001b[0m\n\u001b[0m\u001b[1;32m      4\u001b[0m     \u001b[0mprint\u001b[0m\u001b[0;34m(\u001b[0m\u001b[0mf\u001b[0m\u001b[0;34m.\u001b[0m\u001b[0mread\u001b[0m\u001b[0;34m(\u001b[0m\u001b[0;34m)\u001b[0m\u001b[0;34m)\u001b[0m\u001b[0;34m\u001b[0m\u001b[0;34m\u001b[0m\u001b[0m\n",
            "\u001b[0;31mNameError\u001b[0m: name 'lav_katakner_haykic_2' is not defined"
          ]
        }
      ],
      "source": [
        "with bacich(\"panir.txt\", \"r\") as f:\n",
        "    print(\"a\")\n",
        "    print(lav_katakner_haykic_2)\n",
        "    print(f.read())"
      ]
    },
    {
      "cell_type": "code",
      "execution_count": null,
      "metadata": {
        "colab": {
          "base_uri": "https://localhost:8080/"
        },
        "id": "4DCGEbM98yXA",
        "outputId": "302c3c4e-aa34-44a1-94bc-ba894faf24fc"
      },
      "outputs": [
        {
          "output_type": "stream",
          "name": "stdout",
          "text": [
            "True\n"
          ]
        }
      ],
      "source": [
        "print(f.closed)"
      ]
    },
    {
      "cell_type": "markdown",
      "metadata": {
        "id": "aIq9--7R_OUY"
      },
      "source": [
        "## Օրինակներ"
      ]
    },
    {
      "cell_type": "markdown",
      "metadata": {
        "id": "krQVsSblD_dp"
      },
      "source": [
        "### timer"
      ]
    },
    {
      "cell_type": "code",
      "execution_count": null,
      "metadata": {
        "id": "m2UaVj4E_Pio"
      },
      "outputs": [],
      "source": [
        "import time\n",
        "from contextlib import contextmanager\n",
        "\n",
        "@contextmanager\n",
        "def timer_context():\n",
        "    start_time = time.time()\n",
        "    yield\n",
        "    end_time = time.time()\n",
        "    print(f\"Elapsed time: {end_time - start_time} seconds\")\n"
      ]
    },
    {
      "cell_type": "code",
      "execution_count": null,
      "metadata": {
        "colab": {
          "base_uri": "https://localhost:8080/"
        },
        "id": "XLitLENj_yk1",
        "outputId": "c46c14ae-5ef8-4711-89bf-7d839d2abebc"
      },
      "outputs": [
        {
          "output_type": "stream",
          "name": "stdout",
          "text": [
            "սկսել երգել\n",
            "շուդադի շուդադա վիզաութ յոռ լավ\n",
            "Elapsed time: 3.003969669342041 seconds\n"
          ]
        }
      ],
      "source": [
        "with timer_context():\n",
        "    print(\"սկսել երգել\")\n",
        "    print(\"շուդադի շուդադա վիզաութ յոռ լավ\")\n",
        "    time.sleep(3)\n"
      ]
    },
    {
      "cell_type": "markdown",
      "metadata": {
        "id": "sNMAqKpqD9dX"
      },
      "source": [
        "### print saver"
      ]
    },
    {
      "cell_type": "code",
      "execution_count": null,
      "metadata": {
        "id": "PLSEyi3gAVgx"
      },
      "outputs": [],
      "source": [
        "import io\n",
        "import sys\n",
        "from datetime import datetime\n",
        "from contextlib import contextmanager\n",
        "\n",
        "@contextmanager\n",
        "def save_prints():\n",
        "    time_st = datetime.now().strftime(\"%H:%M:%S\")\n",
        "\n",
        "    new_out = io.StringIO()\n",
        "    old_out = sys.stdout\n",
        "    sys.stdout = new_out\n",
        "    try:\n",
        "        yield\n",
        "    finally:\n",
        "        with open(f\"outputs_{time_st}.txt\", \"w\") as f:\n",
        "            f.write(new_out.getvalue())\n",
        "\n",
        "        sys.stdout = old_out\n"
      ]
    },
    {
      "cell_type": "code",
      "execution_count": null,
      "metadata": {
        "id": "h4B_HrzgAjN9"
      },
      "outputs": [],
      "source": [
        "with save_prints():\n",
        "    print(\"սկսել երգել\")\n",
        "    print(\"շուդադի շուդադա վիզաութ յոռ լավ\")"
      ]
    },
    {
      "cell_type": "markdown",
      "metadata": {
        "id": "h63Kh89mEBc3"
      },
      "source": [
        "## Վարժություն\n",
        "\n",
        "երեք հատ ֆոլդր կա, ուզում ենք կոդ գրենք որ հերթով կմտնի ամեն մի folderի մեջ (chdir) կտպի մեջը ինչ ֆայլեր կան ու հետ կգա նախորդ directoryի իրա,\n",
        "\n",
        "գրեք այդ կոդը)"
      ]
    },
    {
      "cell_type": "markdown",
      "metadata": {
        "id": "a4nnatAFJZes"
      },
      "source": [
        "# Static/class methods\n",
        "լավ նյութ մեր ընկեր Coreyից https://www.youtube.com/watch?v=rq8cL2XMM5M"
      ]
    },
    {
      "cell_type": "markdown",
      "metadata": {
        "id": "f3-mM-_CQOkl"
      },
      "source": [
        "## s👵 method"
      ]
    },
    {
      "cell_type": "code",
      "execution_count": null,
      "metadata": {
        "id": "5-1sqWZcOs2q"
      },
      "outputs": [],
      "source": [
        "import os"
      ]
    },
    {
      "cell_type": "code",
      "execution_count": null,
      "metadata": {
        "id": "GzBDQC6DCe8r"
      },
      "outputs": [],
      "source": [
        "class FolderAnalyser:\n",
        "    author = \"Մարդ Մարդի Մարդուկյան\" # class variable\n",
        "\n",
        "    def __init__(self, path):\n",
        "        self.path = path # instance variable\n",
        "\n",
        "    def get_files(self):\n",
        "        res = \"-\".join(os.listdir(self.path))\n",
        "        return res\n"
      ]
    },
    {
      "cell_type": "code",
      "execution_count": null,
      "metadata": {
        "id": "UtsVU9jbMjRE"
      },
      "outputs": [],
      "source": [
        "a = FolderAnalyser(\"sample_data\")"
      ]
    },
    {
      "cell_type": "code",
      "execution_count": null,
      "metadata": {
        "colab": {
          "base_uri": "https://localhost:8080/"
        },
        "id": "EF4aV-r6MoPj",
        "outputId": "9d01fc56-79ff-468b-dd16-b2809448af6b"
      },
      "outputs": [
        {
          "output_type": "stream",
          "name": "stdout",
          "text": [
            "Մարդ Մարդի Մարդուկյան\n"
          ]
        }
      ],
      "source": [
        "print(a.author)"
      ]
    },
    {
      "cell_type": "code",
      "execution_count": null,
      "metadata": {
        "colab": {
          "base_uri": "https://localhost:8080/"
        },
        "id": "Dmd8OLUcOl0Q",
        "outputId": "aeffd148-f80b-418a-868c-c6956a40c450"
      },
      "outputs": [
        {
          "output_type": "stream",
          "name": "stdout",
          "text": [
            "README.md-anscombe.json-california_housing_test.csv-mnist_test.csv-california_housing_train.csv-mnist_train_small.csv\n"
          ]
        }
      ],
      "source": [
        "print(a.get_files())"
      ]
    },
    {
      "cell_type": "code",
      "source": [
        "def get_haves_output(s):\n",
        "    return \"🧀\" + s + \"🧀\"\n",
        "\n",
        "\n",
        "get_haves_output(\"A\")"
      ],
      "metadata": {
        "colab": {
          "base_uri": "https://localhost:8080/",
          "height": 35
        },
        "id": "YVtY3TmkgNsc",
        "outputId": "74769f8f-1b24-4c25-cb48-101af9a8d3a9"
      },
      "execution_count": null,
      "outputs": [
        {
          "output_type": "execute_result",
          "data": {
            "text/plain": [
              "'🧀A🧀'"
            ],
            "application/vnd.google.colaboratory.intrinsic+json": {
              "type": "string"
            }
          },
          "metadata": {},
          "execution_count": 22
        }
      ]
    },
    {
      "cell_type": "code",
      "execution_count": null,
      "metadata": {
        "id": "LbPvKz2XMvyW"
      },
      "outputs": [],
      "source": [
        "\n",
        "class FolderAnalyser:\n",
        "    author = \"Մարդ Մարդի Մարդուկյան\" # class variable\n",
        "\n",
        "    def __init__(self, path):\n",
        "        self.path = path # instance variable\n",
        "\n",
        "    def get_files(self):\n",
        "        res = \" \".join(os.listdir(self.path))\n",
        "        return res\n",
        "\n",
        "    def get_haves_output(s):\n",
        "        return \"🧀\" + s + \"🧀\"\n"
      ]
    },
    {
      "cell_type": "code",
      "execution_count": null,
      "metadata": {
        "colab": {
          "base_uri": "https://localhost:8080/",
          "height": 176
        },
        "id": "IyBGEWonMzPy",
        "outputId": "34a25c86-5bd3-4f3e-bfc9-99bd25659333"
      },
      "outputs": [
        {
          "output_type": "error",
          "ename": "TypeError",
          "evalue": "FolderAnalyser.get_haves_output() takes 1 positional argument but 2 were given",
          "traceback": [
            "\u001b[0;31m---------------------------------------------------------------------------\u001b[0m",
            "\u001b[0;31mTypeError\u001b[0m                                 Traceback (most recent call last)",
            "\u001b[0;32m<ipython-input-21-1addbb7ccbe8>\u001b[0m in \u001b[0;36m<cell line: 0>\u001b[0;34m()\u001b[0m\n\u001b[1;32m      1\u001b[0m \u001b[0ma\u001b[0m \u001b[0;34m=\u001b[0m \u001b[0mFolderAnalyser\u001b[0m\u001b[0;34m(\u001b[0m\u001b[0;34m\"sample_data\"\u001b[0m\u001b[0;34m)\u001b[0m\u001b[0;34m\u001b[0m\u001b[0;34m\u001b[0m\u001b[0m\n\u001b[1;32m      2\u001b[0m \u001b[0;34m\u001b[0m\u001b[0m\n\u001b[0;32m----> 3\u001b[0;31m \u001b[0ma\u001b[0m\u001b[0;34m.\u001b[0m\u001b[0mget_haves_output\u001b[0m\u001b[0;34m(\u001b[0m\u001b[0;34m\"համով\"\u001b[0m\u001b[0;34m)\u001b[0m\u001b[0;34m\u001b[0m\u001b[0;34m\u001b[0m\u001b[0m\n\u001b[0m",
            "\u001b[0;31mTypeError\u001b[0m: FolderAnalyser.get_haves_output() takes 1 positional argument but 2 were given"
          ]
        }
      ],
      "source": [
        "a = FolderAnalyser(\"sample_data\")\n",
        "\n",
        "a.get_haves_output(\"համով\")"
      ]
    },
    {
      "cell_type": "code",
      "execution_count": null,
      "metadata": {
        "id": "94hl0QMUOAS1"
      },
      "outputs": [],
      "source": [
        "class FolderAnalyser:\n",
        "    author = \"Մարդ Մարդի Մարդուկյան\" # class variable\n",
        "\n",
        "    def __init__(self, path):\n",
        "        self.path = path # instance variable\n",
        "\n",
        "    @staticmethod\n",
        "    def get_haves_output(s):\n",
        "        return \"🧀\" + s + \"🧀\"\n",
        "\n",
        "    def get_files(self):\n",
        "        res = \" \".join(os.listdir(self.path))\n",
        "        return self.get_haves_output(res)\n",
        "\n"
      ]
    },
    {
      "cell_type": "code",
      "execution_count": null,
      "metadata": {
        "colab": {
          "base_uri": "https://localhost:8080/"
        },
        "id": "Qz0mfwMUOjU7",
        "outputId": "d9c91b18-7d69-45c9-d903-e34c81457136"
      },
      "outputs": [
        {
          "output_type": "stream",
          "name": "stdout",
          "text": [
            "🧀համով🧀\n",
            "🧀README.md anscombe.json california_housing_test.csv mnist_test.csv california_housing_train.csv mnist_train_small.csv🧀\n"
          ]
        }
      ],
      "source": [
        "a = FolderAnalyser(\"sample_data\")\n",
        "\n",
        "print(a.get_haves_output(\"համով\"))\n",
        "\n",
        "print(a.get_files())"
      ]
    },
    {
      "cell_type": "code",
      "source": [
        "def get_haves_output(s):\n",
        "    return \"🧀\" + s + \"🧀\""
      ],
      "metadata": {
        "id": "n9gOE2EgrCqV"
      },
      "execution_count": null,
      "outputs": []
    },
    {
      "cell_type": "code",
      "execution_count": null,
      "metadata": {
        "colab": {
          "base_uri": "https://localhost:8080/",
          "height": 35
        },
        "id": "PWuIN4pfPr17",
        "outputId": "232b5b88-f006-4740-eba1-a8bd6e9107dc"
      },
      "outputs": [
        {
          "output_type": "execute_result",
          "data": {
            "text/plain": [
              "'🧀համով🧀'"
            ],
            "application/vnd.google.colaboratory.intrinsic+json": {
              "type": "string"
            }
          },
          "metadata": {},
          "execution_count": 26
        }
      ],
      "source": [
        "FolderAnalyser.get_haves_output(\"համով\")"
      ]
    },
    {
      "cell_type": "markdown",
      "metadata": {
        "id": "bCey-vKWPQFf"
      },
      "source": [
        "## Ախր բայց `get_haves_output` ը կապ չունի instanceի հետ, ինքը ոչ մեկի հետ էլ կապ չունի նենցա"
      ]
    },
    {
      "cell_type": "code",
      "execution_count": null,
      "metadata": {
        "id": "-mpaysNlPFUN"
      },
      "outputs": [],
      "source": [
        "class FolderAnalyser:\n",
        "    author = \"Մարդ Մարդի Մարդուկյան\" # class variable\n",
        "\n",
        "    def __init__(self, path):\n",
        "        self.path = path # instance variable\n",
        "\n",
        "    @staticmethod\n",
        "    def get_haves_output(self, s):\n",
        "        return \"🧀\" + s + \"🧀\"\n",
        "\n",
        "    def get_files(self):\n",
        "        res = \" \".join(os.listdir(self.path))\n",
        "        return self.get_haves_output(res)\n",
        "\n"
      ]
    },
    {
      "cell_type": "code",
      "execution_count": null,
      "metadata": {
        "colab": {
          "base_uri": "https://localhost:8080/"
        },
        "id": "lN8GMLbGPhKR",
        "outputId": "ff2c1582-d0e8-4c65-d58e-6b3baa04fe12"
      },
      "outputs": [
        {
          "output_type": "stream",
          "name": "stdout",
          "text": [
            "🧀համով🧀\n",
            "🧀README.md anscombe.json mnist_train_small.csv mnist_test.csv california_housing_test.csv california_housing_train.csv🧀\n"
          ]
        }
      ],
      "source": [
        "a = FolderAnalyser(\"sample_data\")\n",
        "\n",
        "print(a.get_haves_output(\"համով\"))\n",
        "\n",
        "print(a.get_files())"
      ]
    },
    {
      "cell_type": "code",
      "execution_count": null,
      "metadata": {
        "colab": {
          "base_uri": "https://localhost:8080/",
          "height": 36
        },
        "id": "dHZdwEj5PiNQ",
        "outputId": "521bd064-e38b-4541-8b51-765820ec80c1"
      },
      "outputs": [
        {
          "output_type": "execute_result",
          "data": {
            "text/plain": [
              "'🧀համով🧀'"
            ],
            "application/vnd.google.colaboratory.intrinsic+json": {
              "type": "string"
            }
          },
          "metadata": {},
          "execution_count": 27
        }
      ],
      "source": [
        "FolderAnalyser.get_haves_output(\"համով\")"
      ]
    },
    {
      "cell_type": "markdown",
      "metadata": {
        "id": "k8Z1mSdaPzpX"
      },
      "source": [
        "Ստատիկ մեթոդը ոնց-որ սովորական ֆունկցիա լինի, բոլորից անկախ իրա աջը քաշած run լինող, բայց տրամաբանորեն կախվածա classի հետ, դրա համար իրան ներառում ենք classում (բայց որպես `staticmethod` որովհետև կլասի հետ կապ չունի, ստատիկա ինքը, ինչ էլ լինի նույնա)"
      ]
    },
    {
      "cell_type": "code",
      "execution_count": null,
      "metadata": {
        "id": "42qaT1eqPnOE"
      },
      "outputs": [],
      "source": []
    },
    {
      "cell_type": "markdown",
      "metadata": {
        "id": "bENfJK1TQvXh"
      },
      "source": [
        "## class method"
      ]
    },
    {
      "cell_type": "markdown",
      "metadata": {
        "id": "S4rg3f-PUGS5"
      },
      "source": [
        "ընտիր կլասս են սարքել, լիքը մարդ օգտագործելուա, եկեք հաշվենք տեսնենք քանի անգամ են օգտագործել"
      ]
    },
    {
      "cell_type": "code",
      "execution_count": null,
      "metadata": {
        "id": "ujGL-uQYQ3jL"
      },
      "outputs": [],
      "source": [
        "class FolderAnalyser:\n",
        "    count = 0\n",
        "    author = \"Մարդ Մարդի Մարդուկյան\" # class variable\n",
        "\n",
        "    def __init__(self, path):\n",
        "        FolderAnalyser.count += 1\n",
        "        self.path = path # instance variable\n",
        "\n",
        "    @staticmethod\n",
        "    def get_haves_output(s):\n",
        "        return \"🧀\" + s + \"🧀\"\n",
        "\n",
        "    def get_files(self):\n",
        "        res = \" \".join(os.listdir(self.path))\n",
        "        return self.get_haves_output(res)\n",
        "\n",
        "    def get_num_uses(self):\n",
        "        return FolderAnalyser.count\n"
      ]
    },
    {
      "cell_type": "code",
      "execution_count": null,
      "metadata": {
        "id": "ePPhQBzAUuZ0"
      },
      "outputs": [],
      "source": [
        "a1 = FolderAnalyser(\"a\")\n",
        "a2 = FolderAnalyser(\"b\")\n",
        "a3 = FolderAnalyser(\"c\")\n"
      ]
    },
    {
      "cell_type": "code",
      "source": [
        "a3.count"
      ],
      "metadata": {
        "colab": {
          "base_uri": "https://localhost:8080/"
        },
        "id": "h4QuNwSQiST-",
        "outputId": "ac6279ff-6036-4817-81e1-17113dafaf23"
      },
      "execution_count": null,
      "outputs": [
        {
          "output_type": "execute_result",
          "data": {
            "text/plain": [
              "3"
            ]
          },
          "metadata": {},
          "execution_count": 30
        }
      ]
    },
    {
      "cell_type": "code",
      "execution_count": null,
      "metadata": {
        "colab": {
          "base_uri": "https://localhost:8080/",
          "height": 141
        },
        "id": "sBZilOt-UvPt",
        "outputId": "695131ce-1b40-4ec3-9181-04aacb6408ef"
      },
      "outputs": [
        {
          "output_type": "error",
          "ename": "TypeError",
          "evalue": "FolderAnalyser.get_num_uses() missing 1 required positional argument: 'self'",
          "traceback": [
            "\u001b[0;31m---------------------------------------------------------------------------\u001b[0m",
            "\u001b[0;31mTypeError\u001b[0m                                 Traceback (most recent call last)",
            "\u001b[0;32m<ipython-input-29-928c4da534c0>\u001b[0m in \u001b[0;36m<cell line: 0>\u001b[0;34m()\u001b[0m\n\u001b[0;32m----> 1\u001b[0;31m \u001b[0mprint\u001b[0m\u001b[0;34m(\u001b[0m\u001b[0mFolderAnalyser\u001b[0m\u001b[0;34m.\u001b[0m\u001b[0mget_num_uses\u001b[0m\u001b[0;34m(\u001b[0m\u001b[0;34m)\u001b[0m\u001b[0;34m)\u001b[0m\u001b[0;34m\u001b[0m\u001b[0;34m\u001b[0m\u001b[0m\n\u001b[0m",
            "\u001b[0;31mTypeError\u001b[0m: FolderAnalyser.get_num_uses() missing 1 required positional argument: 'self'"
          ]
        }
      ],
      "source": [
        "\n",
        "\n",
        "print(FolderAnalyser.get_num_uses())"
      ]
    },
    {
      "cell_type": "code",
      "execution_count": null,
      "metadata": {
        "colab": {
          "base_uri": "https://localhost:8080/",
          "height": 147
        },
        "id": "AoF4gRObU-sn",
        "outputId": "2fdbbab4-94bf-4597-9831-d0df2166a74d"
      },
      "outputs": [
        {
          "output_type": "error",
          "ename": "TypeError",
          "evalue": "FolderAnalyser.get_num_uses() takes 0 positional arguments but 1 was given",
          "traceback": [
            "\u001b[0;31m---------------------------------------------------------------------------\u001b[0m",
            "\u001b[0;31mTypeError\u001b[0m                                 Traceback (most recent call last)",
            "\u001b[0;32m<ipython-input-102-5cf515be0cf6>\u001b[0m in \u001b[0;36m<cell line: 1>\u001b[0;34m()\u001b[0m\n\u001b[0;32m----> 1\u001b[0;31m \u001b[0ma1\u001b[0m\u001b[0;34m.\u001b[0m\u001b[0mget_num_uses\u001b[0m\u001b[0;34m(\u001b[0m\u001b[0;34m)\u001b[0m\u001b[0;34m\u001b[0m\u001b[0;34m\u001b[0m\u001b[0m\n\u001b[0m",
            "\u001b[0;31mTypeError\u001b[0m: FolderAnalyser.get_num_uses() takes 0 positional arguments but 1 was given"
          ]
        }
      ],
      "source": [
        "a1.get_num_uses()"
      ]
    },
    {
      "cell_type": "markdown",
      "metadata": {
        "id": "2467dchSWltE"
      },
      "source": [
        "եկեք հստակ նշենք որ ինքը `classmethod`ա"
      ]
    },
    {
      "cell_type": "code",
      "execution_count": null,
      "metadata": {
        "id": "liavZoUDUxv6"
      },
      "outputs": [],
      "source": [
        "class FolderAnalyser:\n",
        "    count = 0\n",
        "    author = \"Մարդ Մարդի Մարդուկյան\" # class variable\n",
        "\n",
        "    def __init__(self, path):\n",
        "        FolderAnalyser.count += 1\n",
        "        self.path = path # instance variable\n",
        "\n",
        "    @staticmethod\n",
        "    def get_haves_output(s):\n",
        "        return \"🧀\" + s + \"🧀\"\n",
        "\n",
        "    def get_files(self):\n",
        "        res = \" \".join(os.listdir(self.path))\n",
        "        return self.get_haves_output(res)\n",
        "\n",
        "    @classmethod\n",
        "    def get_num_uses(cls): # ենթադրումա որ cls պետքա փոխանցվի իրան\n",
        "        return cls.count\n"
      ]
    },
    {
      "cell_type": "code",
      "execution_count": null,
      "metadata": {
        "id": "5u2-VlKAVRWZ"
      },
      "outputs": [],
      "source": [
        "a1 = FolderAnalyser(\"a\")\n",
        "a2 = FolderAnalyser(\"b\")\n",
        "a3 = FolderAnalyser(\"c\")\n"
      ]
    },
    {
      "cell_type": "code",
      "execution_count": null,
      "metadata": {
        "colab": {
          "base_uri": "https://localhost:8080/"
        },
        "id": "QrGDOk52VTCO",
        "outputId": "e247e42b-252b-4602-b86c-cfaa9036ae68"
      },
      "outputs": [
        {
          "output_type": "stream",
          "name": "stdout",
          "text": [
            "3\n",
            "3\n"
          ]
        }
      ],
      "source": [
        "print(FolderAnalyser.get_num_uses())\n",
        "print(a1.get_num_uses())"
      ]
    },
    {
      "cell_type": "markdown",
      "metadata": {
        "id": "zxV9qihkW_Tj"
      },
      "source": [
        "### մի քիչ ավելի հետաքրքիր դարձնենք"
      ]
    },
    {
      "cell_type": "code",
      "execution_count": null,
      "metadata": {
        "id": "XnmpRtfoVVk_"
      },
      "outputs": [],
      "source": [
        "from datetime import datetime\n",
        "\n",
        "class FolderAnalyser:\n",
        "    count = 0\n",
        "    creation_times = []\n",
        "    author = \"Մարդ Մարդի Մարդուկյան\" # class variable\n",
        "\n",
        "    def __init__(self, path):\n",
        "        FolderAnalyser.count += 1\n",
        "        FolderAnalyser.creation_times.append(datetime.now().strftime(\"%H:%M:%S\"))\n",
        "        self.path = path # instance variable\n",
        "\n",
        "    @staticmethod\n",
        "    def get_haves_output(s):\n",
        "        return \"🧀\" + s + \"🧀\"\n",
        "\n",
        "    def get_files(self):\n",
        "        res = \" \".join(os.listdir(self.path))\n",
        "        return self.get_haves_output(res)\n",
        "\n",
        "    @classmethod\n",
        "    def get_num_uses(cls):\n",
        "        return FolderAnalyser.count\n",
        "\n",
        "    @classmethod\n",
        "    def get_last_usage_time(cls):\n",
        "        if cls.creation_times:\n",
        "            return cls.creation_times[-1]\n",
        "\n"
      ]
    },
    {
      "cell_type": "code",
      "execution_count": null,
      "metadata": {
        "id": "dLMz7snZWRyM"
      },
      "outputs": [],
      "source": [
        "a1 = FolderAnalyser(\"a\")\n",
        "a2 = FolderAnalyser(\"b\")\n",
        "a3 = FolderAnalyser(\"c\")\n"
      ]
    },
    {
      "cell_type": "code",
      "execution_count": null,
      "metadata": {
        "colab": {
          "base_uri": "https://localhost:8080/"
        },
        "id": "zF_SksSGXvma",
        "outputId": "1e9d96a8-89bd-437b-f889-b361361ab5ed"
      },
      "outputs": [
        {
          "output_type": "execute_result",
          "data": {
            "text/plain": [
              "6"
            ]
          },
          "metadata": {},
          "execution_count": 37
        }
      ],
      "source": [
        "FolderAnalyser.get_num_uses()"
      ]
    },
    {
      "cell_type": "code",
      "source": [
        "FolderAnalyser.get_last_usage_time()"
      ],
      "metadata": {
        "colab": {
          "base_uri": "https://localhost:8080/",
          "height": 35
        },
        "id": "Mcnn5GMajD-B",
        "outputId": "af22a17c-e861-4cd5-d6e0-298e5247a264"
      },
      "execution_count": null,
      "outputs": [
        {
          "output_type": "execute_result",
          "data": {
            "text/plain": [
              "'12:32:32'"
            ],
            "application/vnd.google.colaboratory.intrinsic+json": {
              "type": "string"
            }
          },
          "metadata": {},
          "execution_count": 38
        }
      ]
    },
    {
      "cell_type": "markdown",
      "metadata": {
        "id": "pWqVyN0zYI7j"
      },
      "source": [
        "### Հաճախ օգտագործվումա որպես ալտերնատիվ init"
      ]
    },
    {
      "cell_type": "code",
      "execution_count": null,
      "metadata": {
        "id": "zL1YYPO8YNSH"
      },
      "outputs": [],
      "source": [
        "class KarginHaxordum:\n",
        "    def __init__(self, hamar, derasanner, text):\n",
        "        self.hamar = hamar\n",
        "        self.derasanner = derasanner\n",
        "        self.text = text\n",
        "\n",
        "    def nkarel(self):\n",
        "        print(f\"Կանչել {' '.join(self.derasanner)}\")\n",
        "        print(f\"Խնրդել որ ասեն {self.text}\")\n"
      ]
    },
    {
      "cell_type": "code",
      "execution_count": null,
      "metadata": {
        "id": "M3tjSpU6ZQwu"
      },
      "outputs": [],
      "source": [
        "kargin = KarginHaxordum(258, [\"Հայկո\", \"Մկո\", \"Լիքը մարդ\"], \"Ուշադրությունը այստեղ դունչիկը բարձր բարձր այ էդպես շատ շավ է շատ ժպտա ժպտա ժպտա տիկին ջան ձեզ չեմ ասում երեխաին եմ ասում լավ ուշադրություն ասեք պանիր պատրաստ է վաղը ժամը մեկին կգաք ձեր նկարները կստանաք; շհնորհակալություն; հաջողություն ազիզ ջան դու այդպես էլ  չժպտացիր; բարիրգուն  ձյաձ ջան; բարև ձեզ; կարանք թեթևի մեջ նկարվենք; բոլորո՞վ; հա սաղս; գնացեք զգույշ այնտեղ լույսերը լարերը տղա ջան զգույշ; ձյաջ ջան գիտես մեզ ինչ նկարա պետք  խոսքի իրեքս հարձակվում ենք չորսի վրա խոսքի ան; հասկանալիա այսինքն կոմոզիցիա երեք հոգի  հարձակվումա չորսի վրա երեք հոգին դոմինանտ չորս հոգին ավելի պասիվ լավ; ուրեմն տղաներ փոխում եք ձեռքը  որպեսզի երևա ձեր դեմքերը դուք երեքով հարձակվողները ավելի ջղայն դեմքերով ավելի հաղթական հպարտ դեմքերով; մի վայրկյան մի վայրկյան  իսկ չորսդ պաշտպանվում եք ավելի նվաստ ավեօի ճորտատիրական վախոցած դուքնպաշտպանվում եք հասկանում եք իրանցից այսպես այսպես չշարժվեք չշարժվեք; ըհմ շատ  լավ է շատ լավ է դունչիկը ավելի բարձր ժամով տղա դու ահա էսպես ժպտում ենք, վերջ տղաներ;  մերսի ձյաձ ջան; վաղը մեկ անց կես կգաք եա ձեր նկարները կտամ յոթ հատ չէ՞; չէ երկու հատ ձյաձ ջան; չհասկացա յոթ հոգով նկարվում եք ընդամենը երկու նկար եք վերցնում; ձյաձ ջան ասինք երկու հատա պետք մի տե; բայց ինչու; դե տռենեռնա ասել վաղը երկու հատ նկար կբերեք իրեքը չորսի վրա  \")"
      ]
    },
    {
      "cell_type": "code",
      "execution_count": null,
      "metadata": {
        "colab": {
          "base_uri": "https://localhost:8080/"
        },
        "id": "fSb82l6eZFL-",
        "outputId": "5e720a45-69de-43ff-8458-f508614994de"
      },
      "outputs": [
        {
          "output_type": "stream",
          "name": "stdout",
          "text": [
            "Կանչել Հայկո Մկո Լիքը մարդ\n",
            "Խնրդել որ ասեն Ուշադրությունը այստեղ դունչիկը բարձր բարձր այ էդպես շատ շավ է շատ ժպտա ժպտա ժպտա տիկին ջան ձեզ չեմ ասում երեխաին եմ ասում լավ ուշադրություն ասեք պանիր պատրաստ է վաղը ժամը մեկին կգաք ձեր նկարները կստանաք; շհնորհակալություն; հաջողություն ազիզ ջան դու այդպես էլ  չժպտացիր; բարիրգուն  ձյաձ ջան; բարև ձեզ; կարանք թեթևի մեջ նկարվենք; բոլորո՞վ; հա սաղս; գնացեք զգույշ այնտեղ լույսերը լարերը տղա ջան զգույշ; ձյաջ ջան գիտես մեզ ինչ նկարա պետք  խոսքի իրեքս հարձակվում ենք չորսի վրա խոսքի ան; հասկանալիա այսինքն կոմոզիցիա երեք հոգի  հարձակվումա չորսի վրա երեք հոգին դոմինանտ չորս հոգին ավելի պասիվ լավ; ուրեմն տղաներ փոխում եք ձեռքը  որպեսզի երևա ձեր դեմքերը դուք երեքով հարձակվողները ավելի ջղայն դեմքերով ավելի հաղթական հպարտ դեմքերով; մի վայրկյան մի վայրկյան  իսկ չորսդ պաշտպանվում եք ավելի նվաստ ավեօի ճորտատիրական վախոցած դուքնպաշտպանվում եք հասկանում եք իրանցից այսպես այսպես չշարժվեք չշարժվեք; ըհմ շատ  լավ է շատ լավ է դունչիկը ավելի բարձր ժամով տղա դու ահա էսպես ժպտում ենք, վերջ տղաներ;  մերսի ձյաձ ջան; վաղը մեկ անց կես կգաք եա ձեր նկարները կտամ յոթ հատ չէ՞; չէ երկու հատ ձյաձ ջան; չհասկացա յոթ հոգով նկարվում եք ընդամենը երկու նկար եք վերցնում; ձյաձ ջան ասինք երկու հատա պետք մի տե; բայց ինչու; դե տռենեռնա ասել վաղը երկու հատ նկար կբերեք իրեքը չորսի վրա  \n"
          ]
        }
      ],
      "source": [
        "kargin.nkarel()"
      ]
    },
    {
      "cell_type": "code",
      "execution_count": null,
      "metadata": {
        "id": "zly8wnUQZ5dj"
      },
      "outputs": [],
      "source": [
        "info = [258, \"Հայկո,Մկո,Լիքը մարդ\", \"Ուշադրությունը այստեղ դունչիկը բարձր, լավ ուշադրություն ասեք պանիր\"]"
      ]
    },
    {
      "cell_type": "code",
      "execution_count": null,
      "metadata": {
        "id": "kzuazGyhaQGF"
      },
      "outputs": [],
      "source": [
        "kargin = KarginHaxordum(info[0], info[1].split(\",\"), info[2])"
      ]
    },
    {
      "cell_type": "code",
      "execution_count": null,
      "metadata": {
        "colab": {
          "base_uri": "https://localhost:8080/"
        },
        "id": "BE3mZRBuaW8_",
        "outputId": "bae2ad6d-36ec-435b-c86a-30d61dfffdeb"
      },
      "outputs": [
        {
          "output_type": "stream",
          "name": "stdout",
          "text": [
            "Կանչել Հայկո Մկո Լիքը մարդ\n",
            "Խնրդել որ ասեն Ուշադրությունը այստեղ դունչիկը բարձր, լավ ուշադրություն ասեք պանիր\n"
          ]
        }
      ],
      "source": [
        "kargin.nkarel()"
      ]
    },
    {
      "cell_type": "markdown",
      "metadata": {
        "id": "JJCBgmF2aZv1"
      },
      "source": [
        "Հո ամեն անգամ սենց չենք գրելու չէ"
      ]
    },
    {
      "cell_type": "code",
      "execution_count": null,
      "metadata": {
        "id": "L_R39KiIaX4d"
      },
      "outputs": [],
      "source": [
        "class KarginHaxordum:\n",
        "    def __init__(self, hamar, derasanner, text):\n",
        "        self.hamar = hamar\n",
        "        self.derasanner = derasanner\n",
        "        self.text = text\n",
        "\n",
        "    def nkarel(self):\n",
        "        print(f\"Կանչել {' '.join(self.derasanner)}\")\n",
        "        print(f\"Խնրդել որ ասեն {self.text}\")\n",
        "\n",
        "    @classmethod\n",
        "    def from_list(cls, info):\n",
        "        return cls(info[0], info[1].split(\",\"), info[2])\n",
        "\n"
      ]
    },
    {
      "cell_type": "code",
      "execution_count": null,
      "metadata": {
        "id": "TbaqmqrSap9k"
      },
      "outputs": [],
      "source": [
        "kargin = KarginHaxordum.from_list(info)"
      ]
    },
    {
      "cell_type": "code",
      "execution_count": null,
      "metadata": {
        "colab": {
          "base_uri": "https://localhost:8080/"
        },
        "id": "iaN2OzZzauQL",
        "outputId": "facd98c6-c6ac-4bc8-ea64-49cc18653b15"
      },
      "outputs": [
        {
          "output_type": "stream",
          "name": "stdout",
          "text": [
            "Կանչել Հայկո Մկո Լիքը մարդ\n",
            "Խնրդել որ ասեն Ուշադրությունը այստեղ դունչիկը բարձր, լավ ուշադրություն ասեք պանիր\n"
          ]
        }
      ],
      "source": [
        "kargin.nkarel()"
      ]
    },
    {
      "cell_type": "code",
      "source": [
        "kargin = KarginHaxordum(258, ....)"
      ],
      "metadata": {
        "id": "v_GDRZjy7Ux1"
      },
      "execution_count": null,
      "outputs": []
    },
    {
      "cell_type": "code",
      "execution_count": null,
      "metadata": {
        "colab": {
          "base_uri": "https://localhost:8080/"
        },
        "id": "cPf-NULHavSD",
        "outputId": "3bfd4a9a-ae58-422e-8b76-a15cfc891f69"
      },
      "outputs": [
        {
          "output_type": "execute_result",
          "data": {
            "text/plain": [
              "dict_keys(['a'])"
            ]
          },
          "metadata": {},
          "execution_count": 144
        }
      ],
      "source": [
        "d = {\"a\": 3}\n",
        "\n",
        "d.keys()"
      ]
    }
  ],
  "metadata": {
    "colab": {
      "provenance": []
    },
    "kernelspec": {
      "display_name": "Python 3",
      "name": "python3"
    },
    "language_info": {
      "name": "python"
    }
  },
  "nbformat": 4,
  "nbformat_minor": 0
}
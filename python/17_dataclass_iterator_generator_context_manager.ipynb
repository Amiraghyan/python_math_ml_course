{
 "cells": [
  {
   "cell_type": "raw",
   "id": "71378f7e",
   "metadata": {
    "vscode": {
     "languageId": "raw"
    }
   },
   "source": [
    "---\n",
    "title: \"17 OOP 4: Data Class, Iterators, Generators, Context Managers\"\n",
    "lightbox: true\n",
    "format: \n",
    "  html:\n",
    "    code-fold: false\n",
    "number-offset: 1\n",
    "---"
   ]
  },
  {
   "cell_type": "markdown",
   "id": "4d394899",
   "metadata": {
    "vscode": {
     "languageId": "raw"
    }
   },
   "source": [
    "![image.png](../background_photos/py_17_dadivank.jpg)\n",
    "Դադիվանք, [լուսանկարի հղումը](https://unsplash.com/photos/brown-brick-building-near-green-trees-during-daytime-GC2KWL157yE), Հեղինակ՝ [Naré Gevorgyan](https://unsplash.com/@lusenkar)"
   ]
  },
  {
   "cell_type": "markdown",
   "id": "578c2e2b",
   "metadata": {
    "vscode": {
     "languageId": "raw"
    }
   },
   "source": [
    "# 📚 Նյութը"
   ]
  },
  {
   "cell_type": "markdown",
   "id": "4a8c8eff",
   "metadata": {},
   "source": [
    "## Dataclasses\n",
    "- [Python docs](https://docs.python.org/3/library/dataclasses.html)\n",
    "- [Fantastic video by ArjanCodes](https://www.youtube.com/watch?v=CvQ7e6yUtnw)\n",
    "- [Blog post by Real Python](https://realpython.com/python-data-classes/)"
   ]
  },
  {
   "cell_type": "code",
   "execution_count": null,
   "id": "0b6a6f2d",
   "metadata": {},
   "outputs": [
    {
     "name": "stdout",
     "output_type": "stream",
     "text": [
      "<__main__.Person object at 0x0000023A18696710>\n"
     ]
    }
   ],
   "source": [
    "class Person:\n",
    "    def __init__(self, first_name, last_name, id_number=None):\n",
    "        self.first_name = first_name\n",
    "        self.last_name = last_name\n",
    "        self.id_number = id_number\n",
    "        \n",
    "p = Person(\"John\", \"Smith\", \"509\")\n",
    "\n",
    "print(p)"
   ]
  },
  {
   "cell_type": "code",
   "execution_count": null,
   "id": "c79c5770",
   "metadata": {},
   "outputs": [
    {
     "name": "stdout",
     "output_type": "stream",
     "text": [
      "Person(John, Smith, 509)\n"
     ]
    }
   ],
   "source": [
    "class Person:\n",
    "    def __init__(self, first_name, last_name, id_number=None):\n",
    "        self.first_name = first_name\n",
    "        self.last_name = last_name\n",
    "        self.id_number = id_number\n",
    "        \n",
    "    def __repr__(self):\n",
    "        return f\"Person({self.first_name}, {self.last_name}, {self.id_number})\"\n",
    "    \n",
    "p = Person(\"John\", \"Smith\", \"509\")\n",
    "\n",
    "print(p)"
   ]
  },
  {
   "cell_type": "code",
   "execution_count": null,
   "id": "648afecb",
   "metadata": {},
   "outputs": [
    {
     "name": "stdout",
     "output_type": "stream",
     "text": [
      "Person(first_name='John', last_name='Smith', id_number='509')\n"
     ]
    }
   ],
   "source": [
    "from dataclasses import dataclass\n",
    "\n",
    "@dataclass\n",
    "class Person:\n",
    "    first_name: str # type hint\n",
    "    last_name: str\n",
    "    id_number: str\n",
    "\n",
    "p = Person(\"John\", \"Smith\", \"509\")"
   ]
  },
  {
   "cell_type": "markdown",
   "id": "e709255d",
   "metadata": {},
   "source": [
    "Here, `__init__`, `__repr__`, and `__eq__` come for free. \n"
   ]
  },
  {
   "cell_type": "code",
   "execution_count": 54,
   "id": "af2a5cfa",
   "metadata": {},
   "outputs": [
    {
     "ename": "NameError",
     "evalue": "name 'last_name' is not defined",
     "output_type": "error",
     "traceback": [
      "\u001b[1;31m---------------------------------------------------------------------------\u001b[0m",
      "\u001b[1;31mNameError\u001b[0m                                 Traceback (most recent call last)",
      "Input \u001b[1;32mIn [54]\u001b[0m, in \u001b[0;36m<cell line: 3>\u001b[1;34m()\u001b[0m\n\u001b[0;32m      1\u001b[0m \u001b[38;5;28;01mfrom\u001b[39;00m \u001b[38;5;21;01mdataclasses\u001b[39;00m \u001b[38;5;28;01mimport\u001b[39;00m dataclass\n\u001b[0;32m      3\u001b[0m \u001b[38;5;129m@dataclass\u001b[39m\n\u001b[1;32m----> 4\u001b[0m \u001b[38;5;28;01mclass\u001b[39;00m \u001b[38;5;21;01mPerson\u001b[39;00m:\n\u001b[0;32m      5\u001b[0m     first_name: \u001b[38;5;28mstr\u001b[39m    \u001b[38;5;66;03m# becomes a field\u001b[39;00m\n\u001b[0;32m      6\u001b[0m     last_name          \u001b[38;5;66;03m# no annotation → ignored by dataclasses\u001b[39;00m\n",
      "Input \u001b[1;32mIn [54]\u001b[0m, in \u001b[0;36mPerson\u001b[1;34m()\u001b[0m\n\u001b[0;32m      3\u001b[0m \u001b[38;5;129m@dataclass\u001b[39m\n\u001b[0;32m      4\u001b[0m \u001b[38;5;28;01mclass\u001b[39;00m \u001b[38;5;21;01mPerson\u001b[39;00m:\n\u001b[0;32m      5\u001b[0m     first_name: \u001b[38;5;28mstr\u001b[39m    \u001b[38;5;66;03m# becomes a field\u001b[39;00m\n\u001b[1;32m----> 6\u001b[0m     \u001b[43mlast_name\u001b[49m          \u001b[38;5;66;03m# no annotation → ignored by dataclasses\u001b[39;00m\n\u001b[0;32m      7\u001b[0m     id_number: \u001b[38;5;28mstr\u001b[39m\n",
      "\u001b[1;31mNameError\u001b[0m: name 'last_name' is not defined"
     ]
    }
   ],
   "source": [
    "from dataclasses import dataclass\n",
    "\n",
    "@dataclass\n",
    "class Person:\n",
    "    first_name: str    # becomes a field\n",
    "    last_name          # no annotation → ignored by dataclasses\n",
    "    id_number: str     # becomes a field\n",
    "\n",
    "p = Person(\"John\", \"Smith\", \"509\")"
   ]
  },
  {
   "cell_type": "markdown",
   "id": "73dc6511",
   "metadata": {},
   "source": [
    "### Default values"
   ]
  },
  {
   "cell_type": "code",
   "execution_count": null,
   "id": "23248846",
   "metadata": {},
   "outputs": [
    {
     "data": {
      "text/plain": [
       "datetime.date(2025, 6, 20)"
      ]
     },
     "execution_count": 56,
     "metadata": {},
     "output_type": "execute_result"
    }
   ],
   "source": []
  },
  {
   "cell_type": "code",
   "execution_count": null,
   "id": "fe42eb8b",
   "metadata": {},
   "outputs": [
    {
     "name": "stdout",
     "output_type": "stream",
     "text": [
      "չունի 2025-06-20 []\n"
     ]
    }
   ],
   "source": [
    "from dataclasses import dataclass, field\n",
    "from datetime import date\n",
    "\n",
    "@dataclass\n",
    "class Person:\n",
    "    first_name: str\n",
    "    last_name: str\n",
    "    id_number: str\n",
    "    email: str = \"չունի\"                                # simple default\n",
    "    signup_date: date = field(default_factory=date.today)  # today by default\n",
    "    lst: list = field(default_factory=list)  # empty list by default\n",
    "# Usage\n",
    "p = Person(\"John\", \"Smith\", \"509\")\n",
    "print(p.email, p.signup_date, p.lst)\n"
   ]
  },
  {
   "cell_type": "markdown",
   "id": "2426d289",
   "metadata": {},
   "source": [
    "### Excluding arguments for the initializer"
   ]
  },
  {
   "cell_type": "code",
   "execution_count": null,
   "id": "e968d421",
   "metadata": {},
   "outputs": [
    {
     "ename": "TypeError",
     "evalue": "Person.__init__() missing 1 required positional argument: 'secret_code'",
     "output_type": "error",
     "traceback": [
      "\u001b[1;31m---------------------------------------------------------------------------\u001b[0m",
      "\u001b[1;31mTypeError\u001b[0m                                 Traceback (most recent call last)",
      "Input \u001b[1;32mIn [60]\u001b[0m, in \u001b[0;36m<cell line: 9>\u001b[1;34m()\u001b[0m\n\u001b[0;32m      6\u001b[0m     secret_code: \u001b[38;5;28mstr\u001b[39m\u001b[38;5;66;03m# = field(init=False)  # not passed to __init__\u001b[39;00m\n\u001b[0;32m      8\u001b[0m \u001b[38;5;66;03m# Usage\u001b[39;00m\n\u001b[1;32m----> 9\u001b[0m p \u001b[38;5;241m=\u001b[39m \u001b[43mPerson\u001b[49m\u001b[43m(\u001b[49m\u001b[38;5;124;43m\"\u001b[39;49m\u001b[38;5;124;43mJohn\u001b[39;49m\u001b[38;5;124;43m\"\u001b[39;49m\u001b[43m,\u001b[49m\u001b[43m \u001b[49m\u001b[38;5;124;43m\"\u001b[39;49m\u001b[38;5;124;43mSmith\u001b[39;49m\u001b[38;5;124;43m\"\u001b[39;49m\u001b[43m,\u001b[49m\u001b[43m \u001b[49m\u001b[38;5;124;43m\"\u001b[39;49m\u001b[38;5;124;43m509\u001b[39;49m\u001b[38;5;124;43m\"\u001b[39;49m\u001b[43m)\u001b[49m\n",
      "\u001b[1;31mTypeError\u001b[0m: Person.__init__() missing 1 required positional argument: 'secret_code'"
     ]
    }
   ],
   "source": [
    "@dataclass\n",
    "class Person:\n",
    "    first_name: str\n",
    "    last_name: str\n",
    "    id_number: str\n",
    "    secret_code: str = field(init=False)  # not passed to __init__\n",
    "\n",
    "# Usage\n",
    "p = Person(\"John\", \"Smith\", \"509\")\n"
   ]
  },
  {
   "cell_type": "code",
   "execution_count": null,
   "id": "8fe2e413",
   "metadata": {},
   "outputs": [
    {
     "name": "stdout",
     "output_type": "stream",
     "text": [
      "Person(first_name='John', last_name='Smith', id_number='509')\n"
     ]
    }
   ],
   "source": [
    "class Person:\n",
    "    def __init__(self, first_name, last_name, id_number=None):\n",
    "        self.first_name = first_name\n",
    "        self.last_name = last_name\n",
    "        self.id_number = id_number\n",
    "        \n",
    "        \n",
    "        self.full_name = f\"{self.first_name} {self.last_name}\"  # computed property\n",
    "        if self.name == \"a\":\n",
    "            raise ValueError(\"Name cannot be 'a'\")  # validation\n",
    "# Usage\n",
    "p = Person(\"John\", \"Smith\", \"509\", \"12321\")\n",
    "print(p)"
   ]
  },
  {
   "cell_type": "markdown",
   "id": "3ecdd93a",
   "metadata": {},
   "source": [
    "### `__post_init__`"
   ]
  },
  {
   "cell_type": "code",
   "execution_count": null,
   "id": "456b5b64",
   "metadata": {},
   "outputs": [
    {
     "name": "stdout",
     "output_type": "stream",
     "text": [
      "John Smith\n"
     ]
    }
   ],
   "source": [
    "@dataclass\n",
    "class Person:\n",
    "    first_name: str\n",
    "    last_name: str\n",
    "    id_number: str\n",
    "    full_name: str = field(init=False)\n",
    "\n",
    "    def __post_init__(self):\n",
    "        # derive full_name from other fields\n",
    "        object.__setattr__(self, 'full_name', f\"{self.first_name} {self.last_name}\")\n",
    "\n",
    "# Usage\n",
    "p = Person(\"John\", \"Smith\", \"509\")\n",
    "print(p.full_name)\n"
   ]
  },
  {
   "cell_type": "markdown",
   "id": "f7874a7b",
   "metadata": {},
   "source": [
    "### Freezing a data class"
   ]
  },
  {
   "cell_type": "code",
   "execution_count": 69,
   "id": "14cc0b46",
   "metadata": {},
   "outputs": [
    {
     "ename": "FrozenInstanceError",
     "evalue": "cannot assign to field 'first_name'",
     "output_type": "error",
     "traceback": [
      "\u001b[1;31m---------------------------------------------------------------------------\u001b[0m",
      "\u001b[1;31mFrozenInstanceError\u001b[0m                       Traceback (most recent call last)",
      "Input \u001b[1;32mIn [69]\u001b[0m, in \u001b[0;36m<cell line: 10>\u001b[1;34m()\u001b[0m\n\u001b[0;32m      7\u001b[0m \u001b[38;5;66;03m# Usage\u001b[39;00m\n\u001b[0;32m      8\u001b[0m p \u001b[38;5;241m=\u001b[39m Person(\u001b[38;5;124m\"\u001b[39m\u001b[38;5;124mJohn\u001b[39m\u001b[38;5;124m\"\u001b[39m, \u001b[38;5;124m\"\u001b[39m\u001b[38;5;124mSmith\u001b[39m\u001b[38;5;124m\"\u001b[39m, \u001b[38;5;124m\"\u001b[39m\u001b[38;5;124m509\u001b[39m\u001b[38;5;124m\"\u001b[39m)\n\u001b[1;32m---> 10\u001b[0m \u001b[43mp\u001b[49m\u001b[38;5;241;43m.\u001b[39;49m\u001b[43mfirst_name\u001b[49m \u001b[38;5;241m=\u001b[39m \u001b[38;5;124m\"\u001b[39m\u001b[38;5;124mjohnny la gente esta muy loca\u001b[39m\u001b[38;5;124m\"\u001b[39m  \u001b[38;5;66;03m# FrozenInstanceError\u001b[39;00m\n",
      "File \u001b[1;32m<string>:4\u001b[0m, in \u001b[0;36m__setattr__\u001b[1;34m(self, name, value)\u001b[0m\n",
      "\u001b[1;31mFrozenInstanceError\u001b[0m: cannot assign to field 'first_name'"
     ]
    }
   ],
   "source": [
    "@dataclass(frozen=True)\n",
    "class Person:\n",
    "    first_name: str\n",
    "    last_name: str\n",
    "    id_number: str\n",
    "\n",
    "# Usage\n",
    "p = Person(\"John\", \"Smith\", \"509\")\n",
    "\n",
    "p.first_name = \"johnny la gente esta muy loca\"  # FrozenInstanceError"
   ]
  },
  {
   "cell_type": "markdown",
   "id": "6adcab3a",
   "metadata": {},
   "source": [
    "### Regular staff"
   ]
  },
  {
   "cell_type": "code",
   "execution_count": 71,
   "id": "686cfc9b",
   "metadata": {},
   "outputs": [
    {
     "name": "stdout",
     "output_type": "stream",
     "text": [
      "\n",
      "🧀\n",
      "🧀🧀\n",
      "🧀🧀🧀\n",
      "🧀🧀🧀🧀\n",
      "🧀🧀🧀🧀🧀\n",
      "🧀🧀🧀🧀🧀🧀\n",
      "🧀🧀🧀🧀🧀🧀🧀\n",
      "🧀🧀🧀🧀🧀🧀🧀🧀\n",
      "🧀🧀🧀🧀🧀🧀🧀🧀🧀\n",
      "🧀🧀🧀🧀🧀🧀🧀🧀🧀🧀\n",
      "🧀🧀🧀🧀🧀🧀🧀🧀🧀🧀🧀\n",
      "🧀🧀🧀🧀🧀🧀🧀🧀🧀🧀🧀🧀\n",
      "🧀🧀🧀🧀🧀🧀🧀🧀🧀🧀🧀🧀🧀\n",
      "🧀🧀🧀🧀🧀🧀🧀🧀🧀🧀🧀🧀🧀🧀\n"
     ]
    }
   ],
   "source": [
    "@dataclass(frozen=True)\n",
    "class Person:\n",
    "    first_name: str\n",
    "    last_name: str\n",
    "    id_number: str\n",
    "\n",
    "    def get_paniramid(self):\n",
    "        for i in range(15):\n",
    "            print(\"🧀\"*i)\n",
    "\n",
    "p = Person(\"John\", \"Smith\", \"509\")\n",
    "\n",
    "p.get_paniramid()  "
   ]
  },
  {
   "cell_type": "markdown",
   "id": "254dfdd0",
   "metadata": {},
   "source": [
    "## Generators\n",
    "\n",
    "Լավ նյութեր\n",
    "1. https://realpython.com/introduction-to-python-generators/\n",
    "2. https://www.youtube.com/watch?v=bD05uGo_sVI"
   ]
  },
  {
   "cell_type": "code",
   "execution_count": 73,
   "id": "5748fadd",
   "metadata": {},
   "outputs": [
    {
     "name": "stdout",
     "output_type": "stream",
     "text": [
      "<class 'range'>\n",
      "range(1, 3)\n"
     ]
    }
   ],
   "source": [
    "\n",
    "print(type(range(1,3)))\n",
    "print(range(1,3))"
   ]
  },
  {
   "cell_type": "code",
   "execution_count": 74,
   "id": "7ab02c6f",
   "metadata": {},
   "outputs": [
    {
     "name": "stdout",
     "output_type": "stream",
     "text": [
      "[9, 4, 1, 0, 1, 4]\n",
      "{0, 9, 4, 1}\n",
      "<generator object <genexpr> at 0x0000023A186F35A0>\n",
      "(9, 4, 1, 0, 1, 4)\n"
     ]
    }
   ],
   "source": [
    "a = [i**2 for i in range(-3, 3)]\n",
    "print(a)\n",
    "a = {i**2 for i in range(-3, 3)}\n",
    "print(a)\n",
    "a = (i**2 for i in range(-3, 3))\n",
    "print(a)\n",
    "a = tuple(i**2 for i in range(-3, 3))\n",
    "print(a)"
   ]
  },
  {
   "cell_type": "code",
   "execution_count": 75,
   "id": "aed6868f",
   "metadata": {},
   "outputs": [
    {
     "name": "stdout",
     "output_type": "stream",
     "text": [
      "1\n",
      "4\n",
      "9\n",
      "16\n",
      "25\n",
      "36\n",
      "49\n",
      "64\n",
      "81\n",
      "100\n",
      "1\n",
      "4\n",
      "9\n",
      "16\n",
      "25\n",
      "36\n",
      "49\n",
      "64\n",
      "81\n",
      "100\n"
     ]
    }
   ],
   "source": [
    "for i in [1,2,3,4,5,6,7,8,9,10]:\n",
    "    print(i**2)\n",
    "\n",
    "for i in range(1,11):\n",
    "    print(i**2)"
   ]
  },
  {
   "cell_type": "code",
   "execution_count": 76,
   "id": "46786476",
   "metadata": {},
   "outputs": [
    {
     "name": "stdout",
     "output_type": "stream",
     "text": [
      "120\n",
      "48\n"
     ]
    }
   ],
   "source": [
    "print([1,2,3,4,5,6,7,8,9,10].__sizeof__())\n",
    "print(range(1,11).__sizeof__())"
   ]
  },
  {
   "cell_type": "code",
   "execution_count": null,
   "id": "4cb259b6",
   "metadata": {},
   "outputs": [
    {
     "name": "stdout",
     "output_type": "stream",
     "text": [
      "136\n",
      "48\n"
     ]
    }
   ],
   "source": [
    "print([1,2,3,4,5,6,7,8,9,10,11].__sizeof__())\n",
    "print(range(1, 1000000000000000000000000000000000000000).__sizeof__())\n",
    "\n",
    "\n",
    "# # start = 1\n",
    "# end = 10\n",
    "# step = 3\n",
    "# start = 4 + 3 = 7 \n",
    "for i in range(1, 10, 3):\n",
    "    start, stop, step   "
   ]
  },
  {
   "cell_type": "markdown",
   "id": "12430987",
   "metadata": {},
   "source": [
    "![image.png](assets/generator_gif.gif)"
   ]
  },
  {
   "cell_type": "markdown",
   "id": "96b2109c",
   "metadata": {},
   "source": [
    "### քառակուսի բարձրացնելու օրինակ"
   ]
  },
  {
   "cell_type": "code",
   "execution_count": 78,
   "id": "384d3b18",
   "metadata": {},
   "outputs": [
    {
     "name": "stdout",
     "output_type": "stream",
     "text": [
      "[25, 16, 9, 4, 1, 0, 1, 4, 9, 16]\n"
     ]
    }
   ],
   "source": [
    "def qarakusi_bardzracnel(tver):\n",
    "    qarakusiner = []\n",
    "    for i in tver:\n",
    "        qarakusiner.append(i**2)\n",
    "    return qarakusiner\n",
    "\n",
    "tver = list(range(-5, 5))\n",
    "print(qarakusi_bardzracnel(tver))"
   ]
  },
  {
   "cell_type": "code",
   "execution_count": null,
   "id": "0412101a",
   "metadata": {},
   "outputs": [
    {
     "name": "stdout",
     "output_type": "stream",
     "text": [
      "<generator object qarakusi_bardzracnel at 0x0000023A18715F50>\n"
     ]
    }
   ],
   "source": [
    "def qarakusi_bardzracnel(tver):\n",
    "    for i in tver:\n",
    "        yield i**2\n",
    "\n",
    "tver = list(range(-5, 5))\n",
    "print(qarakusi_bardzracnel(tver))"
   ]
  },
  {
   "cell_type": "code",
   "execution_count": 83,
   "id": "12bbab8d",
   "metadata": {},
   "outputs": [],
   "source": [
    "generator = qarakusi_bardzracnel(tver)"
   ]
  },
  {
   "cell_type": "code",
   "execution_count": 87,
   "id": "b190b0e6",
   "metadata": {},
   "outputs": [
    {
     "data": {
      "text/plain": [
       "4"
      ]
     },
     "execution_count": 87,
     "metadata": {},
     "output_type": "execute_result"
    }
   ],
   "source": [
    "next(generator)"
   ]
  },
  {
   "cell_type": "code",
   "execution_count": 88,
   "id": "5e1674df",
   "metadata": {},
   "outputs": [
    {
     "name": "stdout",
     "output_type": "stream",
     "text": [
      "1\n",
      "0\n",
      "1\n",
      "4\n",
      "9\n",
      "16\n"
     ]
    }
   ],
   "source": [
    "for i in generator:\n",
    "    print(i)"
   ]
  },
  {
   "cell_type": "code",
   "execution_count": null,
   "id": "7eb47f14",
   "metadata": {},
   "outputs": [
    {
     "ename": "StopIteration",
     "evalue": "",
     "output_type": "error",
     "traceback": [
      "\u001b[1;31m---------------------------------------------------------------------------\u001b[0m",
      "\u001b[1;31mStopIteration\u001b[0m                             Traceback (most recent call last)",
      "Input \u001b[1;32mIn [89]\u001b[0m, in \u001b[0;36m<cell line: 1>\u001b[1;34m()\u001b[0m\n\u001b[1;32m----> 1\u001b[0m \u001b[38;5;28;43mnext\u001b[39;49m\u001b[43m(\u001b[49m\u001b[43mgenerator\u001b[49m\u001b[43m)\u001b[49m\n\u001b[0;32m      2\u001b[0m \u001b[38;5;28mnext\u001b[39m(generator)\n\u001b[0;32m      3\u001b[0m \u001b[38;5;28mnext\u001b[39m(generator)\n",
      "\u001b[1;31mStopIteration\u001b[0m: "
     ]
    }
   ],
   "source": [
    "next(generator) # .__next__()\n",
    "next(generator)\n",
    "next(generator)\n",
    "next(generator)\n",
    "next(generator)\n",
    "next(generator)\n",
    "next(generator)"
   ]
  },
  {
   "cell_type": "markdown",
   "id": "41a28e90",
   "metadata": {},
   "source": [
    "Comprehension-ի տեսքով"
   ]
  },
  {
   "cell_type": "code",
   "execution_count": 90,
   "id": "433e2aef",
   "metadata": {},
   "outputs": [
    {
     "name": "stdout",
     "output_type": "stream",
     "text": [
      "[25, 16, 9, 4, 1, 0, 1, 4, 9, 16]\n"
     ]
    }
   ],
   "source": [
    "qarakusiner = [i**2 for i in range(-5, 5)]\n",
    "print(qarakusiner)"
   ]
  },
  {
   "cell_type": "code",
   "execution_count": 91,
   "id": "e27f7f9d",
   "metadata": {},
   "outputs": [
    {
     "name": "stdout",
     "output_type": "stream",
     "text": [
      "<generator object <genexpr> at 0x0000023A18717C30>\n"
     ]
    }
   ],
   "source": [
    "qarakusiner = (i**2 for i in range(-5, 5))\n",
    "print(qarakusiner)"
   ]
  },
  {
   "cell_type": "code",
   "execution_count": 92,
   "id": "41d7cc90",
   "metadata": {},
   "outputs": [
    {
     "data": {
      "text/plain": [
       "25"
      ]
     },
     "execution_count": 92,
     "metadata": {},
     "output_type": "execute_result"
    }
   ],
   "source": [
    "next(qarakusiner)\n",
    "\n",
    "# print(range(3,5))\n",
    "# print(list(range(3,5)))"
   ]
  },
  {
   "cell_type": "code",
   "execution_count": 93,
   "id": "efcaa7d5",
   "metadata": {},
   "outputs": [
    {
     "data": {
      "text/plain": [
       "[16, 9, 4, 1, 0, 1, 4, 9, 16]"
      ]
     },
     "execution_count": 93,
     "metadata": {},
     "output_type": "execute_result"
    }
   ],
   "source": [
    "list(qarakusiner)"
   ]
  },
  {
   "cell_type": "code",
   "execution_count": null,
   "id": "83d84995",
   "metadata": {},
   "outputs": [
    {
     "data": {
      "text/plain": [
       "[-5, -4, -3, -2, -1, 0, 1, 2, 3, 4]"
      ]
     },
     "execution_count": 94,
     "metadata": {},
     "output_type": "execute_result"
    }
   ],
   "source": [
    "list(range(-5,5))\n",
    "\n",
    "# [next(), StopIteration "
   ]
  },
  {
   "cell_type": "markdown",
   "id": "61d2a185",
   "metadata": {},
   "source": [
    "## Iterators, iterables\n",
    "Նյութեր\n",
    "1. https://realpython.com/python-iterators-iterables/#iterating-through-iterables-with-for-loops\n",
    "2. https://www.programiz.com/python-programming/iterator\n",
    "3. https://www.youtube.com/watch?v=jTYiNjvnHZY\n",
    "4. https://www.youtube.com/watch?v=C3Z9lJXI6Qw\n"
   ]
  },
  {
   "cell_type": "markdown",
   "id": "0e470bb7",
   "metadata": {},
   "source": [
    "եկեք հիմա էլ նայենք ոնցա աշխատում for loopը"
   ]
  },
  {
   "cell_type": "code",
   "execution_count": null,
   "id": "68b95d39",
   "metadata": {},
   "outputs": [
    {
     "name": "stdout",
     "output_type": "stream",
     "text": [
      "1\n",
      "2\n",
      "3\n"
     ]
    }
   ],
   "source": [
    "lst = [1, 2, 3]\n",
    "\n",
    "for i in lst:\n",
    "    print(i)\n",
    "    \n",
    "# lst[0] # lst.__getitem__(0)\n",
    "# print(lst) # lst.__str__()\n",
    "\n",
    "# {1,2,3}[0]\n",
    "# lst -> for loop "
   ]
  },
  {
   "cell_type": "code",
   "execution_count": 97,
   "id": "9da0fac8",
   "metadata": {},
   "outputs": [
    {
     "ename": "TypeError",
     "evalue": "'list' object is not an iterator",
     "output_type": "error",
     "traceback": [
      "\u001b[1;31m---------------------------------------------------------------------------\u001b[0m",
      "\u001b[1;31mTypeError\u001b[0m                                 Traceback (most recent call last)",
      "Input \u001b[1;32mIn [97]\u001b[0m, in \u001b[0;36m<cell line: 3>\u001b[1;34m()\u001b[0m\n\u001b[0;32m      1\u001b[0m lst \u001b[38;5;241m=\u001b[39m [\u001b[38;5;241m1\u001b[39m, \u001b[38;5;241m2\u001b[39m, \u001b[38;5;241m3\u001b[39m]\n\u001b[1;32m----> 3\u001b[0m \u001b[38;5;28;43mnext\u001b[39;49m\u001b[43m(\u001b[49m\u001b[43mlst\u001b[49m\u001b[43m)\u001b[49m \u001b[38;5;66;03m# a.__next__()\u001b[39;00m\n",
      "\u001b[1;31mTypeError\u001b[0m: 'list' object is not an iterator"
     ]
    }
   ],
   "source": [
    "lst = [1, 2, 3]\n",
    "\n",
    "next(lst) # a.__next__()"
   ]
  },
  {
   "cell_type": "code",
   "execution_count": 98,
   "id": "0981ddfd",
   "metadata": {},
   "outputs": [
    {
     "data": {
      "text/plain": [
       "list"
      ]
     },
     "execution_count": 98,
     "metadata": {},
     "output_type": "execute_result"
    }
   ],
   "source": [
    "type(lst)"
   ]
  },
  {
   "cell_type": "code",
   "execution_count": 99,
   "id": "c06f3f7d",
   "metadata": {},
   "outputs": [
    {
     "data": {
      "text/plain": [
       "<list_iterator at 0x23a186ecf70>"
      ]
     },
     "execution_count": 99,
     "metadata": {},
     "output_type": "execute_result"
    }
   ],
   "source": [
    "iter(lst)"
   ]
  },
  {
   "cell_type": "code",
   "execution_count": 101,
   "id": "79d2f15c",
   "metadata": {},
   "outputs": [
    {
     "name": "stdout",
     "output_type": "stream",
     "text": [
      "<class 'list'>\n",
      "<class 'list_iterator'>\n"
     ]
    }
   ],
   "source": [
    "print(type(lst))\n",
    "a_iter = iter(lst) # __iter__()\n",
    "print(type(a_iter))"
   ]
  },
  {
   "cell_type": "code",
   "execution_count": null,
   "id": "3e84b3b3",
   "metadata": {},
   "outputs": [
    {
     "ename": "StopIteration",
     "evalue": "",
     "output_type": "error",
     "traceback": [
      "\u001b[1;31m---------------------------------------------------------------------------\u001b[0m",
      "\u001b[1;31mStopIteration\u001b[0m                             Traceback (most recent call last)",
      "Input \u001b[1;32mIn [105]\u001b[0m, in \u001b[0;36m<cell line: 1>\u001b[1;34m()\u001b[0m\n\u001b[1;32m----> 1\u001b[0m \u001b[38;5;28;43mnext\u001b[39;49m\u001b[43m(\u001b[49m\u001b[43ma_iter\u001b[49m\u001b[43m)\u001b[49m\n",
      "\u001b[1;31mStopIteration\u001b[0m: "
     ]
    }
   ],
   "source": [
    "next(a_iter) # a_iter.__next__()"
   ]
  },
  {
   "cell_type": "code",
   "execution_count": 106,
   "id": "cbca67b9",
   "metadata": {},
   "outputs": [],
   "source": [
    "class VrazList:\n",
    "    def __init__(self, lst):\n",
    "        self.lst = lst\n",
    "\n",
    "    def __iter__(self):\n",
    "        pass\n"
   ]
  },
  {
   "cell_type": "code",
   "execution_count": 107,
   "id": "e6695b71",
   "metadata": {},
   "outputs": [
    {
     "name": "stdout",
     "output_type": "stream",
     "text": [
      "<__main__.VrazList object at 0x0000023A186EEB00>\n",
      "<class '__main__.VrazList'>\n",
      "[1, 2, 3, 4, 5]\n"
     ]
    }
   ],
   "source": [
    "a = VrazList([1,2,3,4,5])\n",
    "print(a)\n",
    "print(type(a))\n",
    "print(a.lst)"
   ]
  },
  {
   "cell_type": "code",
   "execution_count": 108,
   "id": "003b1250",
   "metadata": {},
   "outputs": [
    {
     "ename": "TypeError",
     "evalue": "iter() returned non-iterator of type 'NoneType'",
     "output_type": "error",
     "traceback": [
      "\u001b[1;31m---------------------------------------------------------------------------\u001b[0m",
      "\u001b[1;31mTypeError\u001b[0m                                 Traceback (most recent call last)",
      "Input \u001b[1;32mIn [108]\u001b[0m, in \u001b[0;36m<cell line: 1>\u001b[1;34m()\u001b[0m\n\u001b[1;32m----> 1\u001b[0m \u001b[38;5;28;01mfor\u001b[39;00m i \u001b[38;5;129;01min\u001b[39;00m a:\n\u001b[0;32m      2\u001b[0m     \u001b[38;5;28mprint\u001b[39m(i)\n",
      "\u001b[1;31mTypeError\u001b[0m: iter() returned non-iterator of type 'NoneType'"
     ]
    }
   ],
   "source": [
    "for i in a:\n",
    "    print(i)"
   ]
  },
  {
   "cell_type": "code",
   "execution_count": 109,
   "id": "c7c15279",
   "metadata": {},
   "outputs": [],
   "source": [
    "class VrazList:\n",
    "    def __init__(self, lst):\n",
    "        self.lst = lst\n",
    "        self.index = 0\n",
    "\n",
    "    def __iter__(self):\n",
    "        return self\n",
    "\n",
    "    def __next__(self):\n",
    "        current = self.lst[self.index]\n",
    "        self.index += 2\n",
    "        return current"
   ]
  },
  {
   "cell_type": "code",
   "execution_count": 111,
   "id": "4fd1bd9b",
   "metadata": {},
   "outputs": [
    {
     "name": "stdout",
     "output_type": "stream",
     "text": [
      "1\n",
      "2\n",
      "3\n",
      "4\n",
      "5\n"
     ]
    }
   ],
   "source": [
    "for i in [1, 2, 3, 4, 5]:\n",
    "    print(i)"
   ]
  },
  {
   "cell_type": "code",
   "execution_count": null,
   "id": "3f84e41c",
   "metadata": {},
   "outputs": [
    {
     "name": "stdout",
     "output_type": "stream",
     "text": [
      "<class '__main__.VrazList'>\n",
      "1\n",
      "3\n",
      "5\n"
     ]
    },
    {
     "ename": "IndexError",
     "evalue": "list index out of range",
     "output_type": "error",
     "traceback": [
      "\u001b[1;31m---------------------------------------------------------------------------\u001b[0m",
      "\u001b[1;31mIndexError\u001b[0m                                Traceback (most recent call last)",
      "Input \u001b[1;32mIn [110]\u001b[0m, in \u001b[0;36m<cell line: 7>\u001b[1;34m()\u001b[0m\n\u001b[0;32m      3\u001b[0m \u001b[38;5;66;03m# a_iter = iter(a)\u001b[39;00m\n\u001b[0;32m      4\u001b[0m \u001b[38;5;66;03m# next(a_iter)\u001b[39;00m\n\u001b[0;32m      5\u001b[0m \u001b[38;5;28mprint\u001b[39m(\u001b[38;5;28mtype\u001b[39m(a))\n\u001b[1;32m----> 7\u001b[0m \u001b[38;5;28;01mfor\u001b[39;00m i \u001b[38;5;129;01min\u001b[39;00m a:\n\u001b[0;32m      8\u001b[0m     \u001b[38;5;28mprint\u001b[39m(i)\n",
      "Input \u001b[1;32mIn [109]\u001b[0m, in \u001b[0;36mVrazList.__next__\u001b[1;34m(self)\u001b[0m\n\u001b[0;32m      9\u001b[0m \u001b[38;5;28;01mdef\u001b[39;00m \u001b[38;5;21m__next__\u001b[39m(\u001b[38;5;28mself\u001b[39m):\n\u001b[1;32m---> 10\u001b[0m     current \u001b[38;5;241m=\u001b[39m \u001b[38;5;28;43mself\u001b[39;49m\u001b[38;5;241;43m.\u001b[39;49m\u001b[43mlst\u001b[49m\u001b[43m[\u001b[49m\u001b[38;5;28;43mself\u001b[39;49m\u001b[38;5;241;43m.\u001b[39;49m\u001b[43mindex\u001b[49m\u001b[43m]\u001b[49m\n\u001b[0;32m     11\u001b[0m     \u001b[38;5;28mself\u001b[39m\u001b[38;5;241m.\u001b[39mindex \u001b[38;5;241m+\u001b[39m\u001b[38;5;241m=\u001b[39m \u001b[38;5;241m2\u001b[39m\n\u001b[0;32m     12\u001b[0m     \u001b[38;5;28;01mreturn\u001b[39;00m current\n",
      "\u001b[1;31mIndexError\u001b[0m: list index out of range"
     ]
    }
   ],
   "source": [
    "a = VrazList([1,2,3,4,5])\n",
    "\n",
    "# a_iter = iter(a)\n",
    "# next(a_iter)\n",
    "print(type(a))\n",
    "\n",
    "for i in a:\n",
    "    print(i)\n",
    "    \n",
    "# a -> iter(a)\n",
    "# next(a)\n",
    "# next(a)\n",
    "# while StopIteration:\n",
    "    \n",
    "    \n"
   ]
  },
  {
   "cell_type": "code",
   "execution_count": 112,
   "id": "e3647030",
   "metadata": {},
   "outputs": [],
   "source": [
    "class VrazList:\n",
    "    def __init__(self, lst):\n",
    "        self.lst = lst\n",
    "        self.index = 0\n",
    "\n",
    "    def __iter__(self):\n",
    "        return self\n",
    "\n",
    "    def __next__(self):\n",
    "        if self.index >= len(self.lst):\n",
    "            raise StopIteration\n",
    "\n",
    "        current = self.lst[self.index]\n",
    "        self.index += 2\n",
    "        return current"
   ]
  },
  {
   "cell_type": "code",
   "execution_count": null,
   "id": "49611344",
   "metadata": {},
   "outputs": [
    {
     "name": "stdout",
     "output_type": "stream",
     "text": [
      "1\n",
      "3\n",
      "5\n"
     ]
    }
   ],
   "source": [
    "a = VrazList([1,2,3,4,5])\n",
    "\n",
    "for i in a:\n",
    "    print(i)\n"
   ]
  },
  {
   "cell_type": "code",
   "execution_count": 116,
   "id": "b1967f7d",
   "metadata": {},
   "outputs": [],
   "source": [
    "a = VrazList([1,2,3,4,5])\n"
   ]
  },
  {
   "cell_type": "code",
   "execution_count": null,
   "id": "f9f4b54b",
   "metadata": {},
   "outputs": [
    {
     "name": "stdout",
     "output_type": "stream",
     "text": [
      "1\n",
      "3\n",
      "5\n"
     ]
    }
   ],
   "source": [
    "while True:\n",
    "    try:\n",
    "        i = next(a)\n",
    "        print(i)\n",
    "\n",
    "    except StopIteration:\n",
    "        break\n"
   ]
  },
  {
   "cell_type": "markdown",
   "id": "9ab6d71a",
   "metadata": {},
   "source": [
    "## Context managers (with)\n",
    "լավ նյութ՝ https://www.youtube.com/watch?v=-aKFBoZpiqA"
   ]
  },
  {
   "cell_type": "code",
   "execution_count": 124,
   "id": "6d99adb4",
   "metadata": {},
   "outputs": [
    {
     "name": "stdout",
     "output_type": "stream",
     "text": [
      "False\n",
      "True\n"
     ]
    }
   ],
   "source": [
    "f = open(\"panir.txt\", \"w\")\n",
    "f.write(\"պանիր պանիր պանիր\")\n",
    "\n",
    "print(f.closed)  # False\n",
    "\n",
    "f.close()\n",
    "print(f.closed)  # True"
   ]
  },
  {
   "cell_type": "code",
   "execution_count": null,
   "id": "ebbd02d2",
   "metadata": {},
   "outputs": [
    {
     "name": "stdout",
     "output_type": "stream",
     "text": [
      "True\n"
     ]
    }
   ],
   "source": [
    "with open(\"panir.txt\", \"w\") as f:\n",
    "    f.write(\"պանիր պանիր պանիր\")\n",
    "\n",
    "# f.__exit__(None, None, None)  # f.close() is called automatically\n",
    "\n",
    "print(f.closed)\n",
    "# ոնցա՞ հասկանում որ պետքա close անի վերջում"
   ]
  },
  {
   "cell_type": "markdown",
   "id": "603465a3",
   "metadata": {},
   "source": [
    "Իրականում մենք ճկունություն ունենք ոչ միայն ընդգծելու թե ինչ պետք ա աշխատեի էդ `f.write(\"պանիր պանիր պանիր\")`-ից հետո (էս դեպքում՝ `f.close()`), բայց նաև ինչ աշխատի մինչև էդ with-ի մեջ եղած կոդը"
   ]
  },
  {
   "cell_type": "code",
   "execution_count": 126,
   "id": "c8d9803b",
   "metadata": {},
   "outputs": [],
   "source": [
    "class Bacich:\n",
    "    def __init__(self, name, mode):\n",
    "        self.name = name\n",
    "        self.mode = mode\n",
    "\n",
    "    def __enter__(self):\n",
    "        print(f\"\\nհեսա փորձելու ենք բացել {self.name}-ը {self.mode} նպատակով\")\n",
    "        self.file = open(self.name, self.mode)\n",
    "        return self.file\n",
    "\n",
    "    def __exit__(self, exc_type, exc_val, traceback):\n",
    "        print(\"\\nփակենք\")\n",
    "        self.file.close()"
   ]
  },
  {
   "cell_type": "code",
   "execution_count": 127,
   "id": "87f828ba",
   "metadata": {},
   "outputs": [
    {
     "name": "stdout",
     "output_type": "stream",
     "text": [
      "\n",
      "հեսա փորձելու ենք բացել panir.txt-ը r նպատակով\n"
     ]
    },
    {
     "data": {
      "text/plain": [
       "<_io.TextIOWrapper name='panir.txt' mode='r' encoding='UTF-8'>"
      ]
     },
     "execution_count": 127,
     "metadata": {},
     "output_type": "execute_result"
    }
   ],
   "source": [
    "a = Bacich(\"panir.txt\", \"r\")\n",
    "a.__enter__()"
   ]
  },
  {
   "cell_type": "code",
   "execution_count": 128,
   "id": "4a1991a1",
   "metadata": {},
   "outputs": [
    {
     "data": {
      "text/plain": [
       "<_io.TextIOWrapper name='panir.txt' mode='r' encoding='UTF-8'>"
      ]
     },
     "execution_count": 128,
     "metadata": {},
     "output_type": "execute_result"
    }
   ],
   "source": [
    "a.file"
   ]
  },
  {
   "cell_type": "code",
   "execution_count": 129,
   "id": "80fe76c2",
   "metadata": {},
   "outputs": [
    {
     "name": "stdout",
     "output_type": "stream",
     "text": [
      "\n",
      "հեսա փորձելու ենք բացել panir.txt-ը r նպատակով\n",
      "պանիր պանիր պանիր\n",
      "\n",
      "փակենք\n"
     ]
    }
   ],
   "source": [
    "\n",
    "with Bacich(\"panir.txt\", \"r\") as f:\n",
    "    # some code\n",
    "    print(f.read())\n",
    "\n",
    "# print(f.closed)\n",
    "# # Bacich(\"panir.txt\", \"r\") -> __enter__()\n",
    "# enter's returns -> f\n",
    "\n",
    "# print(f.read())\n",
    "\n",
    "# f.__exit__(None, None, None)  # __exit__ is called automatically\n",
    "\n",
    "\n",
    "# f = Bacich(\"panir.txt\", \"r\").__enter__()\n",
    "# # some code\n",
    "# Bacich(\"panir.txt\", \"r\").__exit__()"
   ]
  },
  {
   "cell_type": "code",
   "execution_count": 131,
   "id": "853c5fd7",
   "metadata": {},
   "outputs": [
    {
     "data": {
      "text/plain": [
       "True"
      ]
     },
     "execution_count": 131,
     "metadata": {},
     "output_type": "execute_result"
    }
   ],
   "source": [
    "f.closed\n"
   ]
  },
  {
   "cell_type": "markdown",
   "id": "e7825b97",
   "metadata": {},
   "source": [
    "աշխատեց `enter`-ը հետո `with`-ի մեջի կոդը, հետո `exit`-ը\n"
   ]
  },
  {
   "cell_type": "code",
   "execution_count": null,
   "id": "bb5c9ba9",
   "metadata": {},
   "outputs": [],
   "source": [
    "# exc_type ... "
   ]
  },
  {
   "cell_type": "code",
   "execution_count": 132,
   "id": "b34c4427",
   "metadata": {},
   "outputs": [],
   "source": [
    "class Bacich:\n",
    "    def __init__(self, name, mode):\n",
    "        self.name = name\n",
    "        self.mode = mode\n",
    "\n",
    "    def __enter__(self):\n",
    "        print(\"\\nհեսա փորձելու ենք բացել {self.name}ը {self.mode} նպատակով\\n\")\n",
    "        self.file = open(self.name, self.mode)\n",
    "        return self.file\n",
    "\n",
    "    def __exit__(self, exc_type, exc_val, traceback):\n",
    "        print(\"\\nփակենք\")\n",
    "        print(\"exc_type =\", exc_type) # exception type\n",
    "        print(\"exc_val =\", exc_val)\n",
    "        print(\"traceback = \", traceback)\n",
    "        self.file.close()\n"
   ]
  },
  {
   "cell_type": "code",
   "execution_count": 133,
   "id": "d79b6b11",
   "metadata": {},
   "outputs": [
    {
     "name": "stdout",
     "output_type": "stream",
     "text": [
      "\n",
      "հեսա փորձելու ենք բացել {self.name}ը {self.mode} նպատակով\n",
      "\n",
      "ա\n",
      "պանիր պանիր պանիր\n",
      "\n",
      "փակենք\n",
      "exc_type = None\n",
      "exc_val = None\n",
      "traceback =  None\n",
      "True\n"
     ]
    }
   ],
   "source": [
    "with Bacich(\"panir.txt\", \"r\") as f:\n",
    "    print(\"ա\")\n",
    "    print(f.read())\n",
    "\n",
    "print(f.closed)"
   ]
  },
  {
   "cell_type": "code",
   "execution_count": null,
   "id": "22807c46",
   "metadata": {},
   "outputs": [
    {
     "name": "stdout",
     "output_type": "stream",
     "text": [
      "\n",
      "հեսա փորձելու ենք բացել {self.name}ը {self.mode} նպատակով\n",
      "\n",
      "ա\n",
      "\n",
      "փակենք\n",
      "exc_type = <class 'NameError'>\n",
      "exc_val = name 'lav_katakner_haykic' is not defined\n",
      "traceback =  <traceback object at 0x0000023A1873C180>\n"
     ]
    },
    {
     "ename": "NameError",
     "evalue": "name 'lav_katakner_haykic' is not defined",
     "output_type": "error",
     "traceback": [
      "\u001b[1;31m---------------------------------------------------------------------------\u001b[0m",
      "\u001b[1;31mNameError\u001b[0m                                 Traceback (most recent call last)",
      "Input \u001b[1;32mIn [134]\u001b[0m, in \u001b[0;36m<cell line: 1>\u001b[1;34m()\u001b[0m\n\u001b[0;32m      1\u001b[0m \u001b[38;5;28;01mwith\u001b[39;00m Bacich(\u001b[38;5;124m\"\u001b[39m\u001b[38;5;124mpanir.txt\u001b[39m\u001b[38;5;124m\"\u001b[39m, \u001b[38;5;124m\"\u001b[39m\u001b[38;5;124mr\u001b[39m\u001b[38;5;124m\"\u001b[39m) \u001b[38;5;28;01mas\u001b[39;00m f:\n\u001b[0;32m      2\u001b[0m     \u001b[38;5;28mprint\u001b[39m(\u001b[38;5;124m\"\u001b[39m\u001b[38;5;124mա\u001b[39m\u001b[38;5;124m\"\u001b[39m)\n\u001b[1;32m----> 3\u001b[0m     \u001b[38;5;28mprint\u001b[39m(\u001b[43mlav_katakner_haykic\u001b[49m)\n\u001b[0;32m      4\u001b[0m     \u001b[38;5;28mprint\u001b[39m(f\u001b[38;5;241m.\u001b[39mread())\n",
      "\u001b[1;31mNameError\u001b[0m: name 'lav_katakner_haykic' is not defined"
     ]
    }
   ],
   "source": [
    "with Bacich(\"panir.txt\", \"r\") as f:\n",
    "    print(\"ա\")\n",
    "    print(lav_katakner_haykic)\n",
    "    print(f.read())\n",
    "    \n",
    "# ...\n",
    "# f.__exit__(Errort, ...., traceback)"
   ]
  },
  {
   "cell_type": "markdown",
   "id": "5810bdfc",
   "metadata": {},
   "source": [
    "ԻՆչ-որ հարցրեք - հլը մի րոպե բայց, բայց open-ը ֆունցկիա ա ոչ թե class, էս ո՞նց ա աշխատում"
   ]
  },
  {
   "cell_type": "markdown",
   "id": "d3c63798",
   "metadata": {},
   "source": [
    "### Ֆունկցիաների համար - contextmanager decorator"
   ]
  },
  {
   "cell_type": "code",
   "execution_count": 135,
   "id": "a1e26ef1",
   "metadata": {},
   "outputs": [
    {
     "data": {
      "text/plain": [
       "builtin_function_or_method"
      ]
     },
     "execution_count": 135,
     "metadata": {},
     "output_type": "execute_result"
    }
   ],
   "source": [
    "type(open)"
   ]
  },
  {
   "cell_type": "code",
   "execution_count": 136,
   "id": "9f81367c",
   "metadata": {},
   "outputs": [],
   "source": [
    "from contextlib import contextmanager\n",
    "\n",
    "@contextmanager\n",
    "def bacich(name, mode):\n",
    "    # __enter__ method\n",
    "    print(f\"հեսա փորձելու ենք բացել {name}ը {mode} նպատակով\\n\")\n",
    "    file = open(name, mode)\n",
    "    yield file # return\n",
    "    # __exit__ method\n",
    "    print(\"\\nժամանակն է փակելու ֆայլը\")\n",
    "    file.close()\n",
    "\n",
    "\n",
    "# class Bacich:\n",
    "#     def __init__(self, name, mode):\n",
    "#         self.name = name\n",
    "#         self.mode = mode\n",
    "\n",
    "#     def __enter__(self):\n",
    "#         print(\"\\nհեսա փորձելու ենք բացել {self.name}ը {self.mode} նպատակով\\n\")\n",
    "#         self.file = open(self.name, self.mode)\n",
    "#         return self.file\n",
    "\n",
    "#     def __exit__(self, exc_type, exc_val, traceback):\n",
    "#         print(\"\\nփակենք\")\n",
    "#         print(\"exc_type =\", exc_type)\n",
    "#         print(\"exc_val =\", exc_val)\n",
    "#         print(\"traceback = \", traceback)\n",
    "#         self.file.close()\n",
    "\n"
   ]
  },
  {
   "cell_type": "code",
   "execution_count": 137,
   "id": "91f401b1",
   "metadata": {},
   "outputs": [
    {
     "name": "stdout",
     "output_type": "stream",
     "text": [
      "հեսա փորձելու ենք բացել panir.txtը r նպատակով\n",
      "\n",
      "a\n",
      "պանիր պանիր պանիր\n",
      "\n",
      "ժամանակն է փակելու ֆայլը\n",
      "True\n"
     ]
    }
   ],
   "source": [
    "with bacich(\"panir.txt\", \"r\") as f:\n",
    "    print(\"a\")\n",
    "    print(f.read())\n",
    "\n",
    "print(f.closed)"
   ]
  },
  {
   "cell_type": "markdown",
   "id": "c288a996",
   "metadata": {},
   "source": [
    "\n",
    "\n",
    "1. Աշխատումա բացիչ ֆունկցիայի բոլոր տողերը մինչև yield\n",
    "2. yield արած արժեքը վերագրվումա fին\n",
    "3. աշխատումա withի միջի կոդը\n",
    "4. աշխատումա yieldից հետո գրվածը\n",
    "\n"
   ]
  },
  {
   "cell_type": "code",
   "execution_count": 45,
   "id": "13d88173",
   "metadata": {},
   "outputs": [
    {
     "ename": "NameError",
     "evalue": "name 'bacich' is not defined",
     "output_type": "error",
     "traceback": [
      "\u001b[1;31m---------------------------------------------------------------------------\u001b[0m",
      "\u001b[1;31mNameError\u001b[0m                                 Traceback (most recent call last)",
      "Input \u001b[1;32mIn [45]\u001b[0m, in \u001b[0;36m<cell line: 1>\u001b[1;34m()\u001b[0m\n\u001b[1;32m----> 1\u001b[0m \u001b[38;5;28;01mwith\u001b[39;00m \u001b[43mbacich\u001b[49m(\u001b[38;5;124m\"\u001b[39m\u001b[38;5;124mpanir.txt\u001b[39m\u001b[38;5;124m\"\u001b[39m, \u001b[38;5;124m\"\u001b[39m\u001b[38;5;124mr\u001b[39m\u001b[38;5;124m\"\u001b[39m) \u001b[38;5;28;01mas\u001b[39;00m f:\n\u001b[0;32m      2\u001b[0m     \u001b[38;5;28mprint\u001b[39m(\u001b[38;5;124m\"\u001b[39m\u001b[38;5;124ma\u001b[39m\u001b[38;5;124m\"\u001b[39m)\n\u001b[0;32m      3\u001b[0m     \u001b[38;5;28mprint\u001b[39m(lav_katakner_haykic_2)\n",
      "\u001b[1;31mNameError\u001b[0m: name 'bacich' is not defined"
     ]
    }
   ],
   "source": [
    "with bacich(\"panir.txt\", \"r\") as f:\n",
    "    print(\"a\")\n",
    "    print(lav_katakner_haykic_2)\n",
    "    print(f.read())\n"
   ]
  },
  {
   "cell_type": "code",
   "execution_count": 46,
   "id": "499d1a05",
   "metadata": {},
   "outputs": [
    {
     "data": {
      "text/plain": [
       "True"
      ]
     },
     "execution_count": 46,
     "metadata": {},
     "output_type": "execute_result"
    }
   ],
   "source": [
    "f.closed"
   ]
  },
  {
   "cell_type": "code",
   "execution_count": 138,
   "id": "60e5ad49",
   "metadata": {},
   "outputs": [],
   "source": [
    "from contextlib import contextmanager\n",
    "\n",
    "@contextmanager\n",
    "def bacich(name, mode):\n",
    "    try:\n",
    "        print(f\"հեսա փորձելու ենք բացել {name}ը {mode} նպատակով\\n\")\n",
    "        file = open(name, mode)\n",
    "        yield file\n",
    "    finally: # որ միշտ աշխատի\n",
    "        print(\"\\nժամանակն է փակելու ֆայլը\")\n",
    "        file.close()\n"
   ]
  },
  {
   "cell_type": "code",
   "execution_count": 139,
   "id": "0f95b481",
   "metadata": {},
   "outputs": [
    {
     "name": "stdout",
     "output_type": "stream",
     "text": [
      "հեսա փորձելու ենք բացել panir.txtը r նպատակով\n",
      "\n",
      "a\n",
      "\n",
      "ժամանակն է փակելու ֆայլը\n"
     ]
    },
    {
     "ename": "NameError",
     "evalue": "name 'lav_katakner_haykic_2' is not defined",
     "output_type": "error",
     "traceback": [
      "\u001b[1;31m---------------------------------------------------------------------------\u001b[0m",
      "\u001b[1;31mNameError\u001b[0m                                 Traceback (most recent call last)",
      "Input \u001b[1;32mIn [139]\u001b[0m, in \u001b[0;36m<cell line: 1>\u001b[1;34m()\u001b[0m\n\u001b[0;32m      1\u001b[0m \u001b[38;5;28;01mwith\u001b[39;00m bacich(\u001b[38;5;124m\"\u001b[39m\u001b[38;5;124mpanir.txt\u001b[39m\u001b[38;5;124m\"\u001b[39m, \u001b[38;5;124m\"\u001b[39m\u001b[38;5;124mr\u001b[39m\u001b[38;5;124m\"\u001b[39m) \u001b[38;5;28;01mas\u001b[39;00m f:\n\u001b[0;32m      2\u001b[0m     \u001b[38;5;28mprint\u001b[39m(\u001b[38;5;124m\"\u001b[39m\u001b[38;5;124ma\u001b[39m\u001b[38;5;124m\"\u001b[39m)\n\u001b[1;32m----> 3\u001b[0m     \u001b[38;5;28mprint\u001b[39m(\u001b[43mlav_katakner_haykic_2\u001b[49m)\n\u001b[0;32m      4\u001b[0m     \u001b[38;5;28mprint\u001b[39m(f\u001b[38;5;241m.\u001b[39mread())\n",
      "\u001b[1;31mNameError\u001b[0m: name 'lav_katakner_haykic_2' is not defined"
     ]
    }
   ],
   "source": [
    "with bacich(\"panir.txt\", \"r\") as f:\n",
    "    print(\"a\")\n",
    "    print(lav_katakner_haykic_2)\n",
    "    print(f.read())"
   ]
  },
  {
   "cell_type": "code",
   "execution_count": 140,
   "id": "8d859732",
   "metadata": {},
   "outputs": [
    {
     "name": "stdout",
     "output_type": "stream",
     "text": [
      "True\n"
     ]
    }
   ],
   "source": [
    "print(f.closed)"
   ]
  },
  {
   "cell_type": "markdown",
   "id": "e659cdbd",
   "metadata": {},
   "source": [
    "### Օրինակ - timer"
   ]
  },
  {
   "cell_type": "code",
   "execution_count": 141,
   "id": "86d95fe3",
   "metadata": {},
   "outputs": [],
   "source": [
    "import time\n",
    "from contextlib import contextmanager\n",
    "\n",
    "@contextmanager\n",
    "def timer():\n",
    "    start_time = time.time()\n",
    "    yield\n",
    "    end_time = time.time()\n",
    "    print(f\"Duration: {end_time - start_time} seconds\")\n"
   ]
  },
  {
   "cell_type": "code",
   "execution_count": null,
   "id": "43e3743b",
   "metadata": {},
   "outputs": [
    {
     "name": "stdout",
     "output_type": "stream",
     "text": [
      "սկսենք երգել\n",
      "շուդադի շուդադա վիզաութ յոռ լավ\n",
      "պակլոն պակլոն պակլոն \n",
      "Duration: 2.0101306438446045 seconds\n"
     ]
    }
   ],
   "source": [
    "with timer():\n",
    "    print(\"սկսենք երգել\")\n",
    "    print(\"շուդադի շուդադա վիզաութ յոռ լավ\")\n",
    "    time.sleep(2)\n",
    "    print(\"պակլոն \"*3)"
   ]
  },
  {
   "cell_type": "markdown",
   "id": "a5a1e2c4",
   "metadata": {},
   "source": [
    "## Պրոեկտի համար թիմերի բաժանվել"
   ]
  },
  {
   "cell_type": "code",
   "execution_count": 1,
   "id": "badbd802",
   "metadata": {},
   "outputs": [
    {
     "name": "stdout",
     "output_type": "stream",
     "text": [
      "Num players: 10\n",
      "Num teams: 3.3333333333333335\n",
      "2\n",
      "2\n",
      "['Մարդ 5', 'Մարդ 6', 'Մարդ 3']\n",
      "['Մարդ 8', 'Մարդ 7', 'Մարդ 10']\n",
      "['Մարդ 9', 'Մարդ 1']\n",
      "['Մարդ 2', 'Մարդ 4']\n"
     ]
    }
   ],
   "source": [
    "import random\n",
    "\n",
    "TEAM_SIZE = 3\n",
    "teams = []\n",
    "lst = [f\"Մարդ {i}\" for i in range(1, 11)]\n",
    "# 3 player teams\n",
    "random.shuffle(lst)\n",
    "\n",
    "num_players = len(lst)\n",
    "num_teams = num_players / 3\n",
    "\n",
    "print(f\"Num players: {len(lst)}\")\n",
    "print(f\"Num teams: {num_teams}\")\n",
    "\n",
    "if num_players % num_teams != 0:\n",
    "    num_teams = int(num_teams) + 1\n",
    "\n",
    "print(num_players % num_teams)\n",
    "if num_players % TEAM_SIZE == 1:\n",
    "    num_teams -= 2\n",
    "    \n",
    "print(num_teams)\n",
    "for i in range(num_teams):\n",
    "    print(lst[3*i:3*(i+1)])\n",
    "    \n",
    "if num_players % TEAM_SIZE == 1:\n",
    "    print(lst[-4:-2])\n",
    "    print(lst[-2:])"
   ]
  },
  {
   "cell_type": "markdown",
   "id": "b6b19d59",
   "metadata": {},
   "source": [
    "# 🎲 17\n",
    "- ▶️[Video]()\n",
    "- ▶️[Video 🔥](https://www.youtube.com/watch?v=YNBFcq3G-Gc)\n",
    "- 🇦🇲🎶[Շուշիկի Բենդ](https://www.youtube.com/watch?v=7WsTQCPI8A0)\n",
    "- 🌐🎶[Earth, Wind & Fire](https://www.youtube.com/watch?v=Gs069dndIYk)\n",
    "- 🤌[Կարգին](https://www.youtube.com/watch?v=OiLneEZ-2xk)"
   ]
  },
  {
   "cell_type": "markdown",
   "id": "ddd25c61",
   "metadata": {},
   "source": [
    "\n",
    "<a href=\"http://s01.flagcounter.com/more/1oO\"><img src=\"https://s01.flagcounter.com/count2/1oO/bg_FFFFFF/txt_000000/border_CCCCCC/columns_2/maxflags_10/viewers_0/labels_0/pageviews_1/flags_0/percent_0/\" alt=\"Flag Counter\"></a>\n"
   ]
  }
 ],
 "metadata": {
  "kernelspec": {
   "display_name": "thesis",
   "language": "python",
   "name": "python3"
  },
  "language_info": {
   "codemirror_mode": {
    "name": "ipython",
    "version": 3
   },
   "file_extension": ".py",
   "mimetype": "text/x-python",
   "name": "python",
   "nbconvert_exporter": "python",
   "pygments_lexer": "ipython3",
   "version": "3.10.18"
  }
 },
 "nbformat": 4,
 "nbformat_minor": 5
}

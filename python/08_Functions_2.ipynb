{
 "cells": [
  {
   "cell_type": "raw",
   "metadata": {},
   "source": [
    "---\n",
    "title: \"08 Functions 2\"\n",
    "format: \n",
    "  html:\n",
    "    code-fold: false\n",
    "number-offset: 1\n",
    "---"
   ]
  },
  {
   "cell_type": "markdown",
   "metadata": {},
   "source": [
    "![image.png](wallpapers/08_rainbow.jpg)\n",
    "Երևան, [լուսանկարի հղումը](https://unsplash.com/photos/j2C7ud0cXRw), Հեղինակ՝ [Gor Davtyan](https://unsplash.com/@gev__avetisyan)"
   ]
  },
  {
   "cell_type": "markdown",
   "metadata": {},
   "source": [
    "<a href=\"https://colab.research.google.com/github/HaykTarkhanyan/python_math_ml_course/blob/main/%5BInitial%5D_Python_%7C_%D5%8F4_%7C_For%2C_while_%D6%81%D5%AB%D5%AF%D5%AC%D5%A5%D6%80.ipynb\" target=\"_parent\"><img src=\"https://colab.research.google.com/assets/colab-badge.svg\" alt=\"Open In Colab\"/></a> (ToDo)"
   ]
  },
  {
   "cell_type": "markdown",
   "metadata": {},
   "source": [
    "Quote: ToDo"
   ]
  },
  {
   "cell_type": "markdown",
   "metadata": {},
   "source": [
    "# 🎦 Տեսադասեր + լրացուցիչ ToDo\n",
    "\n",
    "ToDo\n",
    "1. [Տեսություն 2025](https://youtu.be/TIWU_bjFuUc) \\\n",
    "2. [Տեսություն 2023 (ToDo)]()  \\\n",
    "3. [Գործնական 2025](https://youtu.be/zf8xEfdLXRo) \\\n",
    "4. [Գործնական 2023 (ToDo)]()  \\\n",
    "5. [Որոշ տնայինների լուծումներ (ToDo)]()\n",
    "    \n",
    "Google Forms ToDo"
   ]
  },
  {
   "cell_type": "markdown",
   "metadata": {},
   "source": [
    "# 📚 Նյութը"
   ]
  },
  {
   "cell_type": "markdown",
   "metadata": {
    "id": "coU7yL_597RT"
   },
   "source": [
    "## Docstrings"
   ]
  },
  {
   "cell_type": "code",
   "execution_count": 1,
   "metadata": {
    "colab": {
     "base_uri": "https://localhost:8080/"
    },
    "executionInfo": {
     "elapsed": 308,
     "status": "ok",
     "timestamp": 1734631186331,
     "user": {
      "displayName": "509 Academy",
      "userId": "04290973032679126188"
     },
     "user_tz": -60
    },
    "id": "4f5w0oda9epP",
    "outputId": "dfd6755c-115e-4941-e704-dbdc6c6c3f45"
   },
   "outputs": [
    {
     "name": "stdout",
     "output_type": "stream",
     "text": [
      "Help on built-in function sum in module builtins:\n",
      "\n",
      "sum(iterable, /, start=0)\n",
      "    Return the sum of a 'start' value (default: 0) plus an iterable of numbers\n",
      "    \n",
      "    When the iterable is empty, return the start value.\n",
      "    This function is intended specifically for use with numeric values and may\n",
      "    reject non-numeric types.\n",
      "\n"
     ]
    }
   ],
   "source": [
    "help(sum)"
   ]
  },
  {
   "cell_type": "code",
   "execution_count": null,
   "metadata": {
    "id": "I4MWr4pM3Icn"
   },
   "outputs": [],
   "source": [
    "https://pandas.pydata.org/docs/reference/api/pandas.Series.values.html\n",
    "\n",
    "https://github.com/pandas-dev/pandas/blob/v2.0.0/pandas/core/series.py#L681-L721"
   ]
  },
  {
   "cell_type": "code",
   "execution_count": 6,
   "metadata": {
    "executionInfo": {
     "elapsed": 293,
     "status": "ok",
     "timestamp": 1734631447332,
     "user": {
      "displayName": "509 Academy",
      "userId": "04290973032679126188"
     },
     "user_tz": -60
    },
    "id": "Ui3Fctmz6I-M"
   },
   "outputs": [],
   "source": [
    "def calculate_square_root(x): # documentation string -> docstring\n",
    "    \"\"\"Function calculates the square root of an input\n",
    "\n",
    "    Note:\n",
    "        If the input is a negative number, will return a warning message\n",
    "\n",
    "    Args:\n",
    "        x (float): Number to calculate the square root of\n",
    "\n",
    "    Returns:\n",
    "        sqrt_x (float or str): if applicable will return square root of the input\n",
    "                               otherwise will return an error message\n",
    "\n",
    "    Examples:\n",
    "        >>>calculate_square_root(4)\n",
    "        2\n",
    "    \"\"\"\n",
    "    if x < 0:\n",
    "        sqrt_x = 'նո նո նո, չի կարելի'\n",
    "    else:\n",
    "        sqrt_x = x**0.5\n",
    "\n",
    "    return sqrt_x"
   ]
  },
  {
   "cell_type": "code",
   "execution_count": 4,
   "metadata": {
    "colab": {
     "base_uri": "https://localhost:8080/"
    },
    "executionInfo": {
     "elapsed": 449,
     "status": "ok",
     "timestamp": 1734631448899,
     "user": {
      "displayName": "509 Academy",
      "userId": "04290973032679126188"
     },
     "user_tz": -60
    },
    "id": "vI2HZ97Q7Ju-",
    "outputId": "4a3515b4-7fb0-4e37-fdf6-415a7e1c8e0a"
   },
   "outputs": [
    {
     "data": {
      "text/plain": [
       "1.0"
      ]
     },
     "execution_count": 4,
     "metadata": {},
     "output_type": "execute_result"
    }
   ],
   "source": [
    "calculate_square_root(1)"
   ]
  },
  {
   "cell_type": "code",
   "execution_count": 5,
   "metadata": {
    "colab": {
     "base_uri": "https://localhost:8080/"
    },
    "executionInfo": {
     "elapsed": 5,
     "status": "ok",
     "timestamp": 1734631449266,
     "user": {
      "displayName": "509 Academy",
      "userId": "04290973032679126188"
     },
     "user_tz": -60
    },
    "id": "_Tob-FF8-ARS",
    "outputId": "4c516cd1-377d-48ae-e9c8-f1fa480bac31"
   },
   "outputs": [
    {
     "name": "stdout",
     "output_type": "stream",
     "text": [
      "Help on function calculate_square_root in module __main__:\n",
      "\n",
      "calculate_square_root(x)\n",
      "    Function calculates the square root of an input\n",
      "    \n",
      "    Note:\n",
      "        If the input is a negative number, will return a warning message\n",
      "    \n",
      "    Args:\n",
      "        x (float): Number to calculate the square root of\n",
      "    \n",
      "    Returns:\n",
      "        sqrt_x (float or str): if applicable will return square root of the input\n",
      "                               otherwise will return an error message\n",
      "    \n",
      "    Examples:\n",
      "        >>>calculate_square_root(4)\n",
      "        2\n",
      "\n"
     ]
    }
   ],
   "source": [
    "help(calculate_square_root)"
   ]
  },
  {
   "cell_type": "code",
   "execution_count": null,
   "metadata": {
    "colab": {
     "base_uri": "https://localhost:8080/",
     "height": 89
    },
    "executionInfo": {
     "elapsed": 429,
     "status": "ok",
     "timestamp": 1712765734176,
     "user": {
      "displayName": "509 Academy",
      "userId": "04290973032679126188"
     },
     "user_tz": -240
    },
    "id": "MmWqZWOmZM6H",
    "outputId": "ee547daf-7885-4a49-b7ab-eaf25dff0ab2"
   },
   "outputs": [
    {
     "data": {
      "application/vnd.google.colaboratory.intrinsic+json": {
       "type": "string"
      },
      "text/plain": [
       "'Function calculates the square root of an input\\n\\n    Note:\\n        If the input is a negative number, will return a warning message\\n\\n    Args:\\n        x (float): Number to calculate the square root of\\n\\n    Returns:\\n        sqrt_x (float or str): if applicable will return square root of the input\\n                               otherwise will return an error message\\n\\n    Examples:\\n        >>>calculate_square_root(4)\\n        2\\n    '"
      ]
     },
     "execution_count": 6,
     "metadata": {},
     "output_type": "execute_result"
    }
   ],
   "source": [
    "calculate_square_root.__doc__"
   ]
  },
  {
   "cell_type": "code",
   "execution_count": 8,
   "metadata": {
    "colab": {
     "base_uri": "https://localhost:8080/"
    },
    "executionInfo": {
     "elapsed": 328,
     "status": "ok",
     "timestamp": 1734631782296,
     "user": {
      "displayName": "509 Academy",
      "userId": "04290973032679126188"
     },
     "user_tz": -60
    },
    "id": "0C6GUbx9HFbG",
    "outputId": "7d56a17f-619d-4c93-c1c3-c4428d346796"
   },
   "outputs": [
    {
     "data": {
      "text/plain": [
       "function"
      ]
     },
     "execution_count": 8,
     "metadata": {},
     "output_type": "execute_result"
    }
   ],
   "source": [
    "type(calculate_square_root)"
   ]
  },
  {
   "cell_type": "code",
   "execution_count": 7,
   "metadata": {
    "id": "E__BZLNI7Rrx"
   },
   "outputs": [],
   "source": [
    "import random"
   ]
  },
  {
   "cell_type": "code",
   "execution_count": 8,
   "metadata": {
    "colab": {
     "base_uri": "https://localhost:8080/"
    },
    "executionInfo": {
     "elapsed": 349,
     "status": "ok",
     "timestamp": 1712765751548,
     "user": {
      "displayName": "509 Academy",
      "userId": "04290973032679126188"
     },
     "user_tz": -240
    },
    "id": "OZ7OmJjc7S_6",
    "outputId": "723703cf-b6b3-4baf-b35c-fd4718d74f29"
   },
   "outputs": [
    {
     "data": {
      "text/plain": [
       "<module 'random' from 'c:\\\\Users\\\\hayk_\\\\.conda\\\\envs\\\\thesis\\\\lib\\\\random.py'>"
      ]
     },
     "execution_count": 8,
     "metadata": {},
     "output_type": "execute_result"
    }
   ],
   "source": [
    "random # hover on random"
   ]
  },
  {
   "cell_type": "code",
   "execution_count": null,
   "metadata": {
    "id": "xyCa5J5EY4lH"
   },
   "outputs": [],
   "source": [
    "print(help(random))"
   ]
  },
  {
   "cell_type": "markdown",
   "metadata": {
    "id": "Lgldad5X-LHh"
   },
   "source": [
    "Կարանք նաև երբ օրինակներ ենք գրում, իրանց որպես թեստեր օգտագործենք [Doctest](https://docs.python.org/3/library/doctest.html) գրադարանի միջոցով \n",
    "[Վիդյո](https://www.youtube.com/watch?v=JheIJurFvHs) \n",
    "\n",
    "\n",
    "**Նյութեր**\n",
    "1. Ընդհանուր լավ նյութ, ու օրինակներ docstringների ֆորմատների [link](https://www.datacamp.com/tutorial/docstrings-python)\n",
    "2. Documentation ստեղծել [Sphinx](https://www.sphinx-doc.org/en/master/)"
   ]
  },
  {
   "cell_type": "markdown",
   "metadata": {
    "id": "3VXeENuU_WyQ"
   },
   "source": [
    "## Type hints (տեսակի հուշում)"
   ]
  },
  {
   "cell_type": "markdown",
   "metadata": {
    "id": "b0Z3osWe_udg"
   },
   "source": [
    "Pythonը dynamically typed (փոփոխականը կարա տեսակը հանգիստ փոխի) լեզու ա, բայց երբեմն հստակ իմանում ենք թե  ինչ տեսակի պետք ա լինի փոփոխականը, կամ թե օրինակ ինչ տեսակի արժեքա վերադարձնում ֆունկցին, լավ կլինի կարանանք հուշենք դա մարդակց որ մեր կոդի հետ աշխատալու են (նաև մեզ)"
   ]
  },
  {
   "cell_type": "code",
   "execution_count": 10,
   "metadata": {
    "id": "CuPfZ_3u_YL4"
   },
   "outputs": [],
   "source": [
    "x: int = \"աաաա\"\n",
    "a :str = 'պանիր'\n"
   ]
  },
  {
   "cell_type": "code",
   "execution_count": 11,
   "metadata": {
    "colab": {
     "base_uri": "https://localhost:8080/"
    },
    "executionInfo": {
     "elapsed": 18,
     "status": "ok",
     "timestamp": 1712766376471,
     "user": {
      "displayName": "509 Academy",
      "userId": "04290973032679126188"
     },
     "user_tz": -240
    },
    "id": "tmh7mdyoAJ54",
    "outputId": "c30768dd-a96f-43e2-88d1-55feea45b226"
   },
   "outputs": [
    {
     "name": "stdout",
     "output_type": "stream",
     "text": [
      "աաաա\n",
      "պանիր\n"
     ]
    }
   ],
   "source": [
    "print(x)\n",
    "print(a)"
   ]
  },
  {
   "cell_type": "code",
   "execution_count": 12,
   "metadata": {
    "colab": {
     "base_uri": "https://localhost:8080/"
    },
    "executionInfo": {
     "elapsed": 466,
     "status": "ok",
     "timestamp": 1712766355754,
     "user": {
      "displayName": "509 Academy",
      "userId": "04290973032679126188"
     },
     "user_tz": -240
    },
    "id": "aSKs0E_IAMZ3",
    "outputId": "5722e924-ac9e-43c8-a056-caf684af2e86"
   },
   "outputs": [
    {
     "name": "stdout",
     "output_type": "stream",
     "text": [
      "պանիր\n"
     ]
    }
   ],
   "source": [
    "# բայց դե կարանք հանգիստ խախտենք էլ\n",
    "x: float = 'պանիր'\n",
    "print(x)"
   ]
  },
  {
   "cell_type": "markdown",
   "metadata": {
    "id": "ODkxoG1sAUK6"
   },
   "source": [
    "## Ֆունկցիաններում"
   ]
  },
  {
   "cell_type": "code",
   "execution_count": null,
   "metadata": {
    "colab": {
     "base_uri": "https://localhost:8080/"
    },
    "executionInfo": {
     "elapsed": 621,
     "status": "ok",
     "timestamp": 1712766562163,
     "user": {
      "displayName": "509 Academy",
      "userId": "04290973032679126188"
     },
     "user_tz": -240
    },
    "id": "yaTa3oZSAWT2",
    "outputId": "18ed3c45-14b2-40b7-ad8e-c3dd46a09459"
   },
   "outputs": [
    {
     "data": {
      "text/plain": [
       "'panir'"
      ]
     },
     "execution_count": 14,
     "metadata": {},
     "output_type": "execute_result"
    }
   ],
   "source": [
    "gner: dict[str, int] = {\n",
    "    'chocolate': 130, # իրականում բայց պետքա լինի՝ \"չունենք\"\n",
    "    'vanilla': 120\n",
    "}\n",
    "\n",
    "def ponchiki_calculator(qanak: int, tesak: str, pudrayov: bool) -> float: # եթե բան չվերադարձներ կգրեինք -> None\n",
    "    \"\"\"Function calculates how much eating ponchiks will cost us\n",
    "\n",
    "    Args:\n",
    "        qanak (int): number of ponchiks we are going to buy and then eat, am nyam nyam\n",
    "        tesak (str): either chocolate or vanilla\n",
    "        pudrayov (bool): of course pudrayov, I have to spill it all over my shirt\n",
    "\n",
    "    Returns:\n",
    "        gin (float): how much this paradise for stomach will cost\n",
    "    \"\"\"\n",
    "    gin = qanak * gner[tesak]\n",
    "    \n",
    "    return gin\n",
    "\n",
    "ponchiki_calculator(3, 'vanilla', True)"
   ]
  },
  {
   "cell_type": "code",
   "execution_count": null,
   "metadata": {
    "id": "xnfVsiqLEF7k"
   },
   "outputs": [],
   "source": [
    "def count_number_of_occurances(lst: list, element):\n",
    "    \"\"\"Function counts how many times a given element appears in the given list\n",
    "\n",
    "    Args:\n",
    "        ...\n",
    "        ալարում եմ ես գրեմ, դուք բայց մի ալարեք :)\n",
    "    \"\"\"\n",
    "    return lst.count(element) # wait to see the suggestions after adding the hint"
   ]
  },
  {
   "cell_type": "markdown",
   "metadata": {
    "id": "6tw8hOT5CjF5"
   },
   "source": [
    "### Նյութեր\n",
    "\n",
    "1. [Documentation](https://docs.python.org/3/library/typing.html)\n",
    "2. [կարճ ու լավ վիդյո](https://docs.python.org/3/library/typing.html)\n",
    "3. [երկար ու լավ վիդյո (սա խորհուրդ կտամ նայել էս երեք ռեսուրների մեջից)](https://www.youtube.com/watch?v=QORvB-_mbZ0)\n",
    "4. [Pydantic](https://docs.pydantic.dev/latest/), [mypy](https://docs.pydantic.dev/latest/integrations/mypy/)"
   ]
  },
  {
   "cell_type": "markdown",
   "metadata": {
    "id": "zhmFk2Pzu1I7"
   },
   "source": [
    "## Scopes (LEGB rule)\n",
    "\n",
    "Local Enclosing Global Builtin\n",
    "\n",
    "[Լավ վիդեո](https://www.youtube.com/watch?v=QVdf0LgmICw)"
   ]
  },
  {
   "cell_type": "code",
   "execution_count": null,
   "metadata": {
    "id": "aIdSBdcAR4IW"
   },
   "outputs": [
    {
     "data": {
      "text/plain": [
       "<function print>"
      ]
     },
     "execution_count": 16,
     "metadata": {},
     "output_type": "execute_result"
    }
   ],
   "source": [
    "ValueError\n",
    "print"
   ]
  },
  {
   "cell_type": "code",
   "execution_count": 21,
   "metadata": {
    "colab": {
     "base_uri": "https://localhost:8080/"
    },
    "executionInfo": {
     "elapsed": 648,
     "status": "ok",
     "timestamp": 1712767135978,
     "user": {
      "displayName": "509 Academy",
      "userId": "04290973032679126188"
     },
     "user_tz": -240
    },
    "id": "a0B2X8zuu6it",
    "outputId": "6834b464-ebf3-4e5f-b219-b217aa450707"
   },
   "outputs": [
    {
     "name": "stdout",
     "output_type": "stream",
     "text": [
      "չայ\n",
      "ջուր\n"
     ]
    }
   ],
   "source": [
    "# L -> E -> G -> B\n",
    "heghuk = 'ջուր' # global\n",
    "\n",
    "def tun():\n",
    "    heghuk = 'չայ' # local\n",
    "    print(heghuk)\n",
    "\n",
    "tun()\n",
    "print(heghuk)"
   ]
  },
  {
   "cell_type": "code",
   "execution_count": 26,
   "metadata": {
    "colab": {
     "base_uri": "https://localhost:8080/"
    },
    "executionInfo": {
     "elapsed": 1332,
     "status": "ok",
     "timestamp": 1712767170596,
     "user": {
      "displayName": "509 Academy",
      "userId": "04290973032679126188"
     },
     "user_tz": -240
    },
    "id": "hL2dOup7vjfc",
    "outputId": "28f2ba01-8dd4-4cba-ce11-1d15dd25dfc8"
   },
   "outputs": [
    {
     "name": "stdout",
     "output_type": "stream",
     "text": [
      "local\n",
      "global\n"
     ]
    }
   ],
   "source": [
    "# ֆունկցիաներից դուրս ամենինչ globalա, ու բոլորը տեղյալ են էդ փոփոխականից, ֆունկցիայի ներսը ոնց-որ առանձնացված տուն լինի\n",
    "\n",
    "a = 'global'\n",
    "\n",
    "def tun():\n",
    "    a = 'local'\n",
    "    print(a)\n",
    "\n",
    "tun()\n",
    "print(a)\n",
    "\n"
   ]
  },
  {
   "cell_type": "code",
   "execution_count": null,
   "metadata": {
    "colab": {
     "base_uri": "https://localhost:8080/"
    },
    "executionInfo": {
     "elapsed": 627,
     "status": "ok",
     "timestamp": 1712767406227,
     "user": {
      "displayName": "509 Academy",
      "userId": "04290973032679126188"
     },
     "user_tz": -240
    },
    "id": "bzl4oiBAv7HI",
    "outputId": "2014bf31-fd2a-4ffc-9e97-b760b3c3b6c7"
   },
   "outputs": [
    {
     "ename": "SyntaxError",
     "evalue": "name 'a' is parameter and global (3724067465.py, line 5)",
     "output_type": "error",
     "traceback": [
      "\u001b[1;36m  Input \u001b[1;32mIn [30]\u001b[1;36m\u001b[0m\n\u001b[1;33m    global a\u001b[0m\n\u001b[1;37m    ^\u001b[0m\n\u001b[1;31mSyntaxError\u001b[0m\u001b[1;31m:\u001b[0m name 'a' is parameter and global\n"
     ]
    }
   ],
   "source": [
    "# ֆունկցիաներից դուրս ամենինչ globalա, ու բոլորը տեղյալ են էդ փոփոխականից, ֆունկցիայի ներսը ոնց-որ առանձնացված տուն լինի\n",
    "a = 'panir'\n",
    "\n",
    "def tun():\n",
    "    # global a\n",
    "    a = 'local'\n",
    "    print(a)\n",
    "\n",
    "tun()\n",
    "print(a)\n",
    "\n"
   ]
  },
  {
   "cell_type": "code",
   "execution_count": null,
   "metadata": {
    "colab": {
     "base_uri": "https://localhost:8080/"
    },
    "executionInfo": {
     "elapsed": 456,
     "status": "ok",
     "timestamp": 1712767552394,
     "user": {
      "displayName": "509 Academy",
      "userId": "04290973032679126188"
     },
     "user_tz": -240
    },
    "id": "zULalIrrwIgk",
    "outputId": "f0869336-89ab-4c1f-b1e9-4df4e1823ee5"
   },
   "outputs": [
    {
     "name": "stdout",
     "output_type": "stream",
     "text": [
      "senyak global\n",
      "tun global\n",
      "durs global\n"
     ]
    }
   ],
   "source": [
    "# L E G B\n",
    "a = 'global'\n",
    "def tun():\n",
    "    a = 'enclosed'\n",
    "    def senyak():\n",
    "        a = 'local'\n",
    "        print(\"senyak\",a)\n",
    "\n",
    "    senyak()\n",
    "    print(\"tun\", a)\n",
    "\n",
    "tun()\n",
    "print(\"durs\", a)"
   ]
  },
  {
   "cell_type": "code",
   "execution_count": 38,
   "metadata": {
    "colab": {
     "base_uri": "https://localhost:8080/"
    },
    "executionInfo": {
     "elapsed": 382,
     "status": "ok",
     "timestamp": 1712767593364,
     "user": {
      "displayName": "509 Academy",
      "userId": "04290973032679126188"
     },
     "user_tz": -240
    },
    "id": "tSucnLLTwbrC",
    "outputId": "22999b7c-c319-41c1-89a5-c6835013230a"
   },
   "outputs": [
    {
     "name": "stdout",
     "output_type": "stream",
     "text": [
      "local\n",
      "enclosed\n",
      "global\n"
     ]
    }
   ],
   "source": [
    "a = 'global'\n",
    "def tun():\n",
    "    a = 'enclosed'\n",
    "    def senyak():\n",
    "        # nonlocal a\n",
    "        a = 'local'\n",
    "        print(a)\n",
    "\n",
    "    senyak()\n",
    "    print(a)\n",
    "\n",
    "tun()\n",
    "print(a)"
   ]
  },
  {
   "cell_type": "code",
   "execution_count": 39,
   "metadata": {
    "colab": {
     "base_uri": "https://localhost:8080/"
    },
    "executionInfo": {
     "elapsed": 373,
     "status": "ok",
     "timestamp": 1712767927641,
     "user": {
      "displayName": "509 Academy",
      "userId": "04290973032679126188"
     },
     "user_tz": -240
    },
    "id": "3huy3uidwC2q",
    "outputId": "8bb2fc09-7c3c-44bb-ac6e-586d46425043"
   },
   "outputs": [
    {
     "name": "stdout",
     "output_type": "stream",
     "text": [
      "['ArithmeticError', 'AssertionError', 'AttributeError', 'BaseException', 'BlockingIOError', 'BrokenPipeError', 'BufferError', 'BytesWarning', 'ChildProcessError', 'ConnectionAbortedError', 'ConnectionError', 'ConnectionRefusedError', 'ConnectionResetError', 'DeprecationWarning', 'EOFError', 'Ellipsis', 'EncodingWarning', 'EnvironmentError', 'Exception', 'False', 'FileExistsError', 'FileNotFoundError', 'FloatingPointError', 'FutureWarning', 'GeneratorExit', 'IOError', 'ImportError', 'ImportWarning', 'IndentationError', 'IndexError', 'InterruptedError', 'IsADirectoryError', 'KeyError', 'KeyboardInterrupt', 'LookupError', 'MemoryError', 'ModuleNotFoundError', 'NameError', 'None', 'NotADirectoryError', 'NotImplemented', 'NotImplementedError', 'OSError', 'OverflowError', 'PendingDeprecationWarning', 'PermissionError', 'ProcessLookupError', 'RecursionError', 'ReferenceError', 'ResourceWarning', 'RuntimeError', 'RuntimeWarning', 'StopAsyncIteration', 'StopIteration', 'SyntaxError', 'SyntaxWarning', 'SystemError', 'SystemExit', 'TabError', 'TimeoutError', 'True', 'TypeError', 'UnboundLocalError', 'UnicodeDecodeError', 'UnicodeEncodeError', 'UnicodeError', 'UnicodeTranslateError', 'UnicodeWarning', 'UserWarning', 'ValueError', 'Warning', 'WindowsError', 'ZeroDivisionError', '__IPYTHON__', '__build_class__', '__debug__', '__doc__', '__import__', '__loader__', '__name__', '__package__', '__spec__', 'abs', 'aiter', 'all', 'anext', 'any', 'ascii', 'bin', 'bool', 'breakpoint', 'bytearray', 'bytes', 'callable', 'chr', 'classmethod', 'compile', 'complex', 'copyright', 'credits', 'delattr', 'dict', 'dir', 'display', 'divmod', 'enumerate', 'eval', 'exec', 'execfile', 'filter', 'float', 'format', 'frozenset', 'get_ipython', 'getattr', 'globals', 'hasattr', 'hash', 'help', 'hex', 'id', 'input', 'int', 'isinstance', 'issubclass', 'iter', 'len', 'license', 'list', 'locals', 'map', 'max', 'memoryview', 'min', 'next', 'object', 'oct', 'open', 'ord', 'pow', 'print', 'property', 'range', 'repr', 'reversed', 'round', 'runfile', 'set', 'setattr', 'slice', 'sorted', 'staticmethod', 'str', 'sum', 'super', 'tuple', 'type', 'vars', 'zip']\n"
     ]
    }
   ],
   "source": [
    "import builtins\n",
    "\n",
    "print(dir(builtins))"
   ]
  },
  {
   "cell_type": "markdown",
   "metadata": {
    "id": "fggbALH_G3Ob"
   },
   "source": [
    "## Mutuble objects as arguments"
   ]
  },
  {
   "cell_type": "markdown",
   "metadata": {
    "id": "c-BMD4nD_iyB"
   },
   "source": [
    "### regular arguments"
   ]
  },
  {
   "cell_type": "code",
   "execution_count": 48,
   "metadata": {
    "id": "kV6qFFsKG6g3"
   },
   "outputs": [],
   "source": [
    "def avelacru_element(lst):\n",
    "    lst.append('panir')\n",
    "    return lst\n"
   ]
  },
  {
   "cell_type": "code",
   "execution_count": 49,
   "metadata": {
    "colab": {
     "base_uri": "https://localhost:8080/"
    },
    "executionInfo": {
     "elapsed": 20,
     "status": "ok",
     "timestamp": 1712768357333,
     "user": {
      "displayName": "509 Academy",
      "userId": "04290973032679126188"
     },
     "user_tz": -240
    },
    "id": "Ngs2KgwpPdW4",
    "outputId": "3ad53c09-2cf8-4591-cd85-2cd8427eb41a"
   },
   "outputs": [
    {
     "name": "stdout",
     "output_type": "stream",
     "text": [
      "[0, 1, 2, 3, 4, 5, 6, 7, 8, 9]\n"
     ]
    }
   ],
   "source": [
    "lst_1 = list(range(10))\n",
    "print(lst_1)"
   ]
  },
  {
   "cell_type": "code",
   "execution_count": 50,
   "metadata": {
    "colab": {
     "base_uri": "https://localhost:8080/"
    },
    "executionInfo": {
     "elapsed": 11,
     "status": "ok",
     "timestamp": 1712768358899,
     "user": {
      "displayName": "509 Academy",
      "userId": "04290973032679126188"
     },
     "user_tz": -240
    },
    "id": "r2f2aZ1HPtzJ",
    "outputId": "3ac5a78f-85f7-4b48-e5e6-7f086e45ac50"
   },
   "outputs": [
    {
     "name": "stdout",
     "output_type": "stream",
     "text": [
      "[0, 1, 2, 3, 4, 5, 6, 7, 8, 9, 'panir']\n"
     ]
    }
   ],
   "source": [
    "lst_avelacrac = avelacru_element(lst_1)\n",
    "print(lst_avelacrac)"
   ]
  },
  {
   "cell_type": "code",
   "execution_count": 51,
   "metadata": {},
   "outputs": [
    {
     "name": "stdout",
     "output_type": "stream",
     "text": [
      "[0, 1, 2, 3, 4, 5, 6, 7, 8, 9, 'panir']\n"
     ]
    }
   ],
   "source": [
    "print(lst_1)"
   ]
  },
  {
   "cell_type": "code",
   "execution_count": 44,
   "metadata": {
    "colab": {
     "base_uri": "https://localhost:8080/"
    },
    "executionInfo": {
     "elapsed": 14,
     "status": "ok",
     "timestamp": 1712768360718,
     "user": {
      "displayName": "509 Academy",
      "userId": "04290973032679126188"
     },
     "user_tz": -240
    },
    "id": "iMxcuMb8P0OG",
    "outputId": "94b4a4ef-bb8d-4c47-e43a-f0b8988b5e05"
   },
   "outputs": [
    {
     "name": "stdout",
     "output_type": "stream",
     "text": [
      "[0, 1, 2, 3, 4, 5, 6, 7, 8, 9, 'panir']\n",
      "[0, 1, 2, 3, 4, 5, 6, 7, 8, 9, 'panir']\n"
     ]
    }
   ],
   "source": [
    "print(lst_avelacrac)\n",
    "print(lst_1)\n",
    "# վայ"
   ]
  },
  {
   "cell_type": "code",
   "execution_count": 52,
   "metadata": {
    "colab": {
     "base_uri": "https://localhost:8080/"
    },
    "executionInfo": {
     "elapsed": 1924,
     "status": "ok",
     "timestamp": 1712768822864,
     "user": {
      "displayName": "509 Academy",
      "userId": "04290973032679126188"
     },
     "user_tz": -240
    },
    "id": "fDSYCO27P6hy",
    "outputId": "c306b6e0-8896-4668-e06e-275f8abe4fe9"
   },
   "outputs": [
    {
     "name": "stdout",
     "output_type": "stream",
     "text": [
      "2321052600704\n",
      "2321052600704\n"
     ]
    }
   ],
   "source": [
    "print(id(lst_avelacrac))\n",
    "print(id(lst_1))"
   ]
  },
  {
   "cell_type": "code",
   "execution_count": null,
   "metadata": {},
   "outputs": [
    {
     "name": "stdout",
     "output_type": "stream",
     "text": [
      "[0, 1, 2, 3, 4, 5, 6, 7, 8, 9, 'panir']\n"
     ]
    }
   ],
   "source": [
    "def avelacru_element():\n",
    "    print(id(lst))\n",
    "    lst.append('panir')\n",
    "    return lst\n"
   ]
  },
  {
   "cell_type": "code",
   "execution_count": 54,
   "metadata": {},
   "outputs": [
    {
     "name": "stdout",
     "output_type": "stream",
     "text": [
      "2321052600704\n",
      "[0, 1, 2, 3, 4, 5, 6, 7, 8, 9, 'panir', 'panir']\n"
     ]
    }
   ],
   "source": [
    "lst_avelacrac = avelacru_element(lst_1)\n",
    "print(lst_avelacrac)"
   ]
  },
  {
   "cell_type": "code",
   "execution_count": 55,
   "metadata": {
    "colab": {
     "base_uri": "https://localhost:8080/"
    },
    "executionInfo": {
     "elapsed": 525,
     "status": "ok",
     "timestamp": 1712768894839,
     "user": {
      "displayName": "509 Academy",
      "userId": "04290973032679126188"
     },
     "user_tz": -240
    },
    "id": "6xdhbH8F-m7t",
    "outputId": "4e4c9f7f-7012-48a9-a9fd-bdac13686baf"
   },
   "outputs": [
    {
     "name": "stdout",
     "output_type": "stream",
     "text": [
      "[0, 1, 2, 3, 4, 5, 6, 7, 8, 9, 'panir', 'panir']\n",
      "[0, 1, 2, 3, 4, 5, 6, 7, 8, 9, 'panir', 'panir']\n",
      "2321052600704\n",
      "2321074452096\n"
     ]
    }
   ],
   "source": [
    "print(lst_1)\n",
    "print(lst_1.copy())\n",
    "\n",
    "print(id(lst_1))\n",
    "print(id(lst_1.copy()))\n"
   ]
  },
  {
   "cell_type": "code",
   "execution_count": 56,
   "metadata": {
    "colab": {
     "base_uri": "https://localhost:8080/"
    },
    "executionInfo": {
     "elapsed": 852,
     "status": "ok",
     "timestamp": 1712768937866,
     "user": {
      "displayName": "509 Academy",
      "userId": "04290973032679126188"
     },
     "user_tz": -240
    },
    "id": "sIffTXJ0QEnR",
    "outputId": "3315609a-acb9-4778-d660-78ef2b933b65"
   },
   "outputs": [
    {
     "name": "stdout",
     "output_type": "stream",
     "text": [
      "2321052166464\n",
      "[0, 1, 2, 3, 4, 5, 6, 7, 8, 9]\n",
      "[0, 1, 2, 3, 4, 5, 6, 7, 8, 9, 'panir']\n",
      "[0, 1, 2, 3, 4, 5, 6, 7, 8, 9]\n"
     ]
    }
   ],
   "source": [
    "lst_1 = list(range(10))\n",
    "\n",
    "lst_avelacrac_okay_klini_senc = avelacru_element(lst_1.copy())\n",
    "\n",
    "print(lst_1.copy())\n",
    "print(lst_avelacrac_okay_klini_senc)\n",
    "print(lst_1)"
   ]
  },
  {
   "cell_type": "code",
   "execution_count": null,
   "metadata": {
    "colab": {
     "base_uri": "https://localhost:8080/"
    },
    "executionInfo": {
     "elapsed": 415,
     "status": "ok",
     "timestamp": 1707110111832,
     "user": {
      "displayName": "509 Academy",
      "userId": "04290973032679126188"
     },
     "user_tz": -240
    },
    "id": "bPsZFek5QXjN",
    "outputId": "4508aa44-3191-4fde-957b-a3c4eb243cff"
   },
   "outputs": [
    {
     "name": "stdout",
     "output_type": "stream",
     "text": [
      "132371578933952\n",
      "132371593482112\n"
     ]
    }
   ],
   "source": [
    "print(id(lst_1.copy()))\n",
    "print(id(lst_avelacrac_okay_klini_senc))"
   ]
  },
  {
   "cell_type": "markdown",
   "metadata": {
    "id": "LPoCrB8tQg-J"
   },
   "source": [
    "### Mutable objects as default arguments"
   ]
  },
  {
   "cell_type": "code",
   "execution_count": 59,
   "metadata": {
    "colab": {
     "base_uri": "https://localhost:8080/"
    },
    "executionInfo": {
     "elapsed": 645,
     "status": "ok",
     "timestamp": 1712769104132,
     "user": {
      "displayName": "509 Academy",
      "userId": "04290973032679126188"
     },
     "user_tz": -240
    },
    "id": "fhgG8jRFs3F2",
    "outputId": "fa471756-9370-4499-c2e4-d77361262613"
   },
   "outputs": [
    {
     "name": "stdout",
     "output_type": "stream",
     "text": [
      "{'artist_name': 'Կոմիտաս', 'songs': ['Գարուն ա']}\n"
     ]
    }
   ],
   "source": [
    "def create_album(album_name, songs=[]):\n",
    "\treturn {'artist_name': album_name,\n",
    "            'songs': songs}\n",
    "\n",
    "# print(create_album(\"Կոմիտաս\"))\n",
    "# \n",
    "print(create_album(\"Կոմիտաս\", [\"Գարուն ա\"]))"
   ]
  },
  {
   "cell_type": "code",
   "execution_count": 70,
   "metadata": {
    "colab": {
     "base_uri": "https://localhost:8080/"
    },
    "executionInfo": {
     "elapsed": 15,
     "status": "ok",
     "timestamp": 1712769223366,
     "user": {
      "displayName": "509 Academy",
      "userId": "04290973032679126188"
     },
     "user_tz": -240
    },
    "id": "4P7Vle9qUav0",
    "outputId": "145e27d6-c1f0-46cd-ed3c-5d128d2cea29"
   },
   "outputs": [
    {
     "name": "stdout",
     "output_type": "stream",
     "text": [
      "2321052170240\n",
      "2321052170240\n",
      "pf ={'album_name': 'Pink Floyd', 'songs': []}\n",
      "rh = {'album_name': 'Radiohead', 'songs': []}\n",
      "Breathe\n",
      "{'album_name': 'Pink Floyd', 'songs': ['Breathe']}\n",
      "Reckoner\n",
      "{'album_name': 'Radiohead', 'songs': ['Breathe', 'Reckoner']}\n"
     ]
    }
   ],
   "source": [
    "def create_album(album_name: str, songs=[]):\n",
    "    print(id(songs))\n",
    "    return {'album_name': album_name,\n",
    "            'songs': songs}\n",
    "\n",
    "def add_song(album: dict, song: str):\n",
    "    print(song)\n",
    "    album['songs'].append(song)\n",
    "    return album\n",
    "\n",
    "pf = create_album('Pink Floyd')\n",
    "rh = create_album('Radiohead')\n",
    "\n",
    "print(f\"{pf =}\")\n",
    "print(f\"{rh = }\")\n",
    "# print()\n",
    "\n",
    "print(add_song(pf, 'Breathe'))\n",
    "print(add_song(rh, 'Reckoner'))\n"
   ]
  },
  {
   "cell_type": "code",
   "execution_count": null,
   "metadata": {},
   "outputs": [],
   "source": [
    "հիշողությոն պահել create_album,\n",
    "1233 -> album_name\n",
    "1234 -> songs, value -> []"
   ]
  },
  {
   "cell_type": "code",
   "execution_count": null,
   "metadata": {},
   "outputs": [],
   "source": [
    "pf = {\"artist_name\": \"Pink Floyd\", \"songs\": են ինչ պահված ա 1234} # []\n",
    "rf = {\"artist_name\": \"Radiohead\", \"songs\": են ինչ պահված ա 1234} # []\n",
    "\n",
    "print(add_song(pf, 'Breathe'))\n",
    "# 1234 [] -> [\"Breathe\"]\n",
    "print(add_song(rh, 'Reckoner'))\n"
   ]
  },
  {
   "cell_type": "code",
   "execution_count": null,
   "metadata": {},
   "outputs": [],
   "source": [
    "# 1.\n",
    "# հիշողությոն պահել create_album,\n",
    "# 1233 -> album_name\n",
    "# 1234 -> songs, value -> []\n",
    "\n",
    "# pf = {\"Pink Floyd\", \"songs\": են ինչ պահված ա 1234}\n",
    "# rf = {\"Radiohead\", \"songs\": են ինչ պահված ա 1234}\n",
    "\n",
    "# 1234 [] -> [\"Breathe\"]\n",
    "# 1234 [\"Breathe\"] -> [\"Breathe\", \"Reckoner\"]"
   ]
  },
  {
   "cell_type": "markdown",
   "metadata": {
    "id": "RlFnhCJyV4cu"
   },
   "source": [
    "կարանք ուղղենք գրելով"
   ]
  },
  {
   "cell_type": "code",
   "execution_count": null,
   "metadata": {
    "colab": {
     "base_uri": "https://localhost:8080/"
    },
    "executionInfo": {
     "elapsed": 21,
     "status": "ok",
     "timestamp": 1712770013299,
     "user": {
      "displayName": "509 Academy",
      "userId": "04290973032679126188"
     },
     "user_tz": -240
    },
    "id": "onvBNweMV3Qe",
    "outputId": "2ac6f71d-ac9e-4818-acbb-74e801e2a680"
   },
   "outputs": [
    {
     "name": "stdout",
     "output_type": "stream",
     "text": [
      "2321051439168\n",
      "2321047237952\n",
      "{'album_name': 'Pink Floyd', 'songs': []}\n",
      "{'album_name': 'Radiohead', 'songs': []}\n",
      "\n",
      "{'album_name': 'Pink Floyd', 'songs': ['Breath']}\n",
      "{'album_name': 'Radiohead', 'songs': ['Reckoner']}\n"
     ]
    }
   ],
   "source": [
    "def create_album(album_name, songs=None):\n",
    "    if songs is None: # ուռաաա, հազիվ is-ը օգտագործեցինք\n",
    "        songs = []\n",
    "    print(id(songs))\n",
    "    return {'album_name': album_name,\n",
    "            'songs': songs}\n",
    "\n",
    "def add_song(album, song):\n",
    "    # print(song)\n",
    "    album['songs'].append(song)\n",
    "    return album\n",
    "\n",
    "pf = create_album('Pink Floyd')\n",
    "rh = create_album('Radiohead')\n",
    "# pf = {'album_name': 'Pink Floyd', 'songs': []}\n",
    "# rh = {'album_name': 'Radiohead', 'songs': []}\n",
    "\n",
    "print(pf)\n",
    "print(rh)\n",
    "print()\n",
    "\n",
    "print(add_song(pf, 'Breath'))\n",
    "print(add_song(rh, 'Reckoner'))"
   ]
  },
  {
   "cell_type": "markdown",
   "metadata": {
    "id": "fyv_TpvAHVvB"
   },
   "source": [
    "## Lambdas (anonymous functions) (ոտի վրա ֆունկցիաներ)"
   ]
  },
  {
   "cell_type": "markdown",
   "metadata": {
    "id": "-2wIEuKyaWiU"
   },
   "source": [
    "Syntax-ը\n",
    "\n",
    "```python\n",
    "lambda արգումենտներ: ինչ-որ բան որ պետքա վերադարձնենք\n",
    "```\n"
   ]
  },
  {
   "cell_type": "code",
   "execution_count": 73,
   "metadata": {
    "executionInfo": {
     "elapsed": 280,
     "status": "ok",
     "timestamp": 1734632428223,
     "user": {
      "displayName": "509 Academy",
      "userId": "04290973032679126188"
     },
     "user_tz": -60
    },
    "id": "ZB5ELhBAJhcc"
   },
   "outputs": [
    {
     "name": "stdout",
     "output_type": "stream",
     "text": [
      "64\n"
     ]
    }
   ],
   "source": [
    "def xoranard(x):\n",
    "    return x**3\n",
    "\n",
    "print(xoranard(4))"
   ]
  },
  {
   "cell_type": "code",
   "execution_count": 72,
   "metadata": {
    "colab": {
     "base_uri": "https://localhost:8080/"
    },
    "executionInfo": {
     "elapsed": 268,
     "status": "ok",
     "timestamp": 1734632451526,
     "user": {
      "displayName": "509 Academy",
      "userId": "04290973032679126188"
     },
     "user_tz": -60
    },
    "id": "JE3PLFDpYsr9",
    "outputId": "f0293d73-a2d2-4e88-a59e-44091baccaa9"
   },
   "outputs": [
    {
     "name": "stdout",
     "output_type": "stream",
     "text": [
      "64\n"
     ]
    }
   ],
   "source": [
    "xoranard = lambda x: x**3\n",
    "\n",
    "print(xoranard(4))"
   ]
  },
  {
   "cell_type": "markdown",
   "metadata": {
    "id": "n-tJ7tFcbIQU"
   },
   "source": [
    "### Մի քանի արգումենտով lambda"
   ]
  },
  {
   "cell_type": "code",
   "execution_count": 74,
   "metadata": {
    "colab": {
     "base_uri": "https://localhost:8080/"
    },
    "executionInfo": {
     "elapsed": 258,
     "status": "ok",
     "timestamp": 1734632502098,
     "user": {
      "displayName": "509 Academy",
      "userId": "04290973032679126188"
     },
     "user_tz": -60
    },
    "id": "KSnpv9dhY0J1",
    "outputId": "1a651b3f-034c-4214-d4b7-a967c719ff9b"
   },
   "outputs": [
    {
     "name": "stdout",
     "output_type": "stream",
     "text": [
      "16\n",
      "16\n"
     ]
    }
   ],
   "source": [
    "def bardzarcru_astican(x, y):\n",
    "    return x**y\n",
    "\n",
    "print(bardzarcru_astican(2, 4))\n",
    "\n",
    "bardzarcru_astican = lambda x, y: x**y\n",
    "print(bardzarcru_astican(2,4))"
   ]
  },
  {
   "cell_type": "markdown",
   "metadata": {
    "id": "hkMNQpIdbB3E"
   },
   "source": [
    "### default argumentով lambda"
   ]
  },
  {
   "cell_type": "code",
   "execution_count": 75,
   "metadata": {
    "colab": {
     "base_uri": "https://localhost:8080/"
    },
    "executionInfo": {
     "elapsed": 238,
     "status": "ok",
     "timestamp": 1734632513653,
     "user": {
      "displayName": "509 Academy",
      "userId": "04290973032679126188"
     },
     "user_tz": -60
    },
    "id": "mnYhHyWkZ3sd",
    "outputId": "5bd38b1f-d7c8-4e95-cb74-a718f922ac39"
   },
   "outputs": [
    {
     "name": "stdout",
     "output_type": "stream",
     "text": [
      "8\n",
      "16\n",
      "8\n",
      "16\n"
     ]
    }
   ],
   "source": [
    "def bardzarcru_astican(x, y=3):\n",
    "    return x**y\n",
    "\n",
    "print(bardzarcru_astican(2))\n",
    "print(bardzarcru_astican(2, 4))\n",
    "\n",
    "bardzarcru_astican = lambda x, y=3: x**y\n",
    "print(bardzarcru_astican(2))\n",
    "print(bardzarcru_astican(2, 4))"
   ]
  },
  {
   "cell_type": "markdown",
   "metadata": {
    "id": "RcvsQhLka-W8"
   },
   "source": [
    "### մի քանի բան վերադարձնել"
   ]
  },
  {
   "cell_type": "code",
   "execution_count": 76,
   "metadata": {
    "colab": {
     "base_uri": "https://localhost:8080/"
    },
    "executionInfo": {
     "elapsed": 317,
     "status": "ok",
     "timestamp": 1734632541288,
     "user": {
      "displayName": "509 Academy",
      "userId": "04290973032679126188"
     },
     "user_tz": -60
    },
    "id": "iwd6Fp4WJ-c7",
    "outputId": "ade70509-96a0-4698-9a99-fb2c6c993fe8"
   },
   "outputs": [
    {
     "name": "stdout",
     "output_type": "stream",
     "text": [
      "(8, 2)\n"
     ]
    }
   ],
   "source": [
    "def bardzarcru_astican(x, y=3):\n",
    "    return x**y, x\n",
    "\n",
    "print(bardzarcru_astican(2, 3))\n"
   ]
  },
  {
   "cell_type": "code",
   "execution_count": 77,
   "metadata": {
    "colab": {
     "base_uri": "https://localhost:8080/",
     "height": 158
    },
    "executionInfo": {
     "elapsed": 414,
     "status": "error",
     "timestamp": 1734632545152,
     "user": {
      "displayName": "509 Academy",
      "userId": "04290973032679126188"
     },
     "user_tz": -60
    },
    "id": "iFtHb8VAaiIF",
    "outputId": "af929c71-2421-44c9-9350-611ca8409bf0"
   },
   "outputs": [
    {
     "ename": "TypeError",
     "evalue": "'tuple' object is not callable",
     "output_type": "error",
     "traceback": [
      "\u001b[1;31m---------------------------------------------------------------------------\u001b[0m",
      "\u001b[1;31mTypeError\u001b[0m                                 Traceback (most recent call last)",
      "Input \u001b[1;32mIn [77]\u001b[0m, in \u001b[0;36m<cell line: 2>\u001b[1;34m()\u001b[0m\n\u001b[0;32m      1\u001b[0m bardzarcru_astican \u001b[38;5;241m=\u001b[39m \u001b[38;5;28;01mlambda\u001b[39;00m x, y: x\u001b[38;5;241m*\u001b[39m\u001b[38;5;241m*\u001b[39my, x\n\u001b[1;32m----> 2\u001b[0m \u001b[38;5;28mprint\u001b[39m(\u001b[43mbardzarcru_astican\u001b[49m\u001b[43m(\u001b[49m\u001b[38;5;241;43m2\u001b[39;49m\u001b[43m,\u001b[49m\u001b[43m \u001b[49m\u001b[38;5;241;43m3\u001b[39;49m\u001b[43m)\u001b[49m)\n",
      "\u001b[1;31mTypeError\u001b[0m: 'tuple' object is not callable"
     ]
    }
   ],
   "source": [
    "bardzarcru_astican = lambda x, y: x**y, x\n",
    "print(bardzarcru_astican(2, 3))\n"
   ]
  },
  {
   "cell_type": "code",
   "execution_count": 78,
   "metadata": {
    "colab": {
     "base_uri": "https://localhost:8080/"
    },
    "executionInfo": {
     "elapsed": 304,
     "status": "ok",
     "timestamp": 1734632549748,
     "user": {
      "displayName": "509 Academy",
      "userId": "04290973032679126188"
     },
     "user_tz": -60
    },
    "id": "UsAVvzrMa4Vi",
    "outputId": "30a6cbc5-743e-49c7-80ff-bf2dccc22157"
   },
   "outputs": [
    {
     "name": "stdout",
     "output_type": "stream",
     "text": [
      "(8, 2, 3)\n"
     ]
    }
   ],
   "source": [
    "bardzarcru_astican = lambda x, y: (x**y, x, y)\n",
    "print(bardzarcru_astican(2, 3))\n"
   ]
  },
  {
   "cell_type": "markdown",
   "metadata": {
    "id": "X8cfTfN8Hdu-"
   },
   "source": [
    "## Higher order functions (բարձրակարգ ֆունկցիաներ)\n",
    "կալդո ֆունկցիաներ (զուտ են ռեկլամն էի հիշել \"բարձրակարգ\" բառի պատճառով, լուրջ անուն չի)"
   ]
  },
  {
   "cell_type": "code",
   "execution_count": null,
   "metadata": {
    "id": "hn6ZXXPkHcQ-"
   },
   "outputs": [],
   "source": [
    "# ֆունկցիա որը մուտքում ընդունումա ֆունկցիա"
   ]
  },
  {
   "cell_type": "code",
   "execution_count": 79,
   "metadata": {
    "id": "7_yl5qLbdiU9"
   },
   "outputs": [],
   "source": [
    "def ispanakan(anun):\n",
    "    return f\"Բարև {anun}իտո\"\n",
    "\n",
    "# ispanakan = lambda anun: f\"Բարև {anun}իտո\"\n",
    "\n",
    "def vracakan(anun):\n",
    "    return f\"Բարև {anun}իձե\""
   ]
  },
  {
   "cell_type": "code",
   "execution_count": 80,
   "metadata": {
    "colab": {
     "base_uri": "https://localhost:8080/"
    },
    "executionInfo": {
     "elapsed": 407,
     "status": "ok",
     "timestamp": 1712771872520,
     "user": {
      "displayName": "509 Academy",
      "userId": "04290973032679126188"
     },
     "user_tz": -240
    },
    "id": "JhpnFgFJVOj5",
    "outputId": "f5367849-2eed-432a-fec4-001fe97ece6f"
   },
   "outputs": [
    {
     "name": "stdout",
     "output_type": "stream",
     "text": [
      "Բարև Հայկիտո\n",
      "Բարև Հայկիձե\n"
     ]
    }
   ],
   "source": [
    "anun = 'Հայկ'\n",
    "print(ispanakan(anun))\n",
    "print(vracakan(anun))"
   ]
  },
  {
   "cell_type": "code",
   "execution_count": 85,
   "metadata": {
    "id": "P441eqwQKQZ6"
   },
   "outputs": [
    {
     "data": {
      "text/plain": [
       "'Բարև Haykիտո'"
      ]
     },
     "execution_count": 85,
     "metadata": {},
     "output_type": "execute_result"
    }
   ],
   "source": [
    "def barevel(anun, style):\n",
    "    if style == \"vracakan\":\n",
    "        func = vracakan\n",
    "        # return vracakan(anun)\n",
    "    elif style == \"ispanakan\":\n",
    "        func = ispanakan\n",
    "        # return ispanakan(anun)\n",
    "    return func(anun)    \n",
    "barevel(\"Hayk\", \"ispanakan\")"
   ]
  },
  {
   "cell_type": "code",
   "execution_count": 86,
   "metadata": {
    "id": "4fQ52OkhdY71"
   },
   "outputs": [],
   "source": [
    "def barevel(anun, specific_barev_func):\n",
    "    return specific_barev_func(anun) # vracakan(anun)"
   ]
  },
  {
   "cell_type": "code",
   "execution_count": 88,
   "metadata": {
    "colab": {
     "base_uri": "https://localhost:8080/"
    },
    "executionInfo": {
     "elapsed": 601,
     "status": "ok",
     "timestamp": 1712771995179,
     "user": {
      "displayName": "509 Academy",
      "userId": "04290973032679126188"
     },
     "user_tz": -240
    },
    "id": "sUFKrbCXeG0_",
    "outputId": "fb88f0e6-3311-434a-e1b3-26fd2e8ec094"
   },
   "outputs": [
    {
     "name": "stdout",
     "output_type": "stream",
     "text": [
      "<class 'function'>\n",
      "Բարև Հայկիտո\n",
      "Բարև Հայկիձե\n"
     ]
    }
   ],
   "source": [
    "anun = 'Հայկ'\n",
    "print(type(ispanakan))\n",
    "print(barevel(anun, ispanakan))\n",
    "\n",
    "print(barevel(anun, vracakan))\n"
   ]
  },
  {
   "cell_type": "markdown",
   "metadata": {
    "id": "G5CTfJdve_mR"
   },
   "source": [
    "քանի որ եսիմինչ բան չենք անում, չարժի առանձին ֆունկցիա սարքենք ինչ-որ տեղ անուն դնենք իրան, հետո կանչենք \\\n",
    "Ավելի լավա ուղղակի ոտի վրա արագ սարքենք իրան, հետո մոռանանք որ գոյություն ունի\n"
   ]
  },
  {
   "cell_type": "code",
   "execution_count": 89,
   "metadata": {
    "colab": {
     "base_uri": "https://localhost:8080/"
    },
    "executionInfo": {
     "elapsed": 614,
     "status": "ok",
     "timestamp": 1712772180984,
     "user": {
      "displayName": "509 Academy",
      "userId": "04290973032679126188"
     },
     "user_tz": -240
    },
    "id": "gjh50EQDeN3B",
    "outputId": "6598b944-edd1-4532-e992-008a01fa1135"
   },
   "outputs": [
    {
     "name": "stdout",
     "output_type": "stream",
     "text": [
      "Բարև Հայկիսիմո\n",
      "Բարև Հայկ ջան\n"
     ]
    }
   ],
   "source": [
    "print(barevel(anun, lambda anun: f\"Բարև {anun}իսիմո\"))\n",
    "print(barevel(anun, lambda anun: f\"Բարև {anun} ջան\")) # одноразовый\n"
   ]
  },
  {
   "cell_type": "markdown",
   "metadata": {
    "id": "cLH3DHSLmXk6"
   },
   "source": [
    "### Մեզ հայտնի ֆունկցիաներից"
   ]
  },
  {
   "cell_type": "code",
   "execution_count": null,
   "metadata": {
    "colab": {
     "base_uri": "https://localhost:8080/"
    },
    "executionInfo": {
     "elapsed": 448,
     "status": "ok",
     "timestamp": 1712772225454,
     "user": {
      "displayName": "509 Academy",
      "userId": "04290973032679126188"
     },
     "user_tz": -240
    },
    "id": "KQdz0Y7vmXEx",
    "outputId": "c69c07ea-4fa5-4eb4-f072-325dad0934ff"
   },
   "outputs": [
    {
     "name": "stdout",
     "output_type": "stream",
     "text": [
      "1\n"
     ]
    }
   ],
   "source": [
    "tver = [1, 11, 509, 32, 231, 1132, 111]\n",
    "\n",
    "print(max(tver))"
   ]
  },
  {
   "cell_type": "code",
   "execution_count": 91,
   "metadata": {
    "colab": {
     "base_uri": "https://localhost:8080/"
    },
    "executionInfo": {
     "elapsed": 396,
     "status": "ok",
     "timestamp": 1712772277370,
     "user": {
      "displayName": "509 Academy",
      "userId": "04290973032679126188"
     },
     "user_tz": -240
    },
    "id": "VoGz3DJoIIrS",
    "outputId": "ac841e13-dabc-40ea-e3b9-22fc1d6733f0"
   },
   "outputs": [
    {
     "name": "stdout",
     "output_type": "stream",
     "text": [
      "Help on built-in function max in module builtins:\n",
      "\n",
      "max(...)\n",
      "    max(iterable, *[, default=obj, key=func]) -> value\n",
      "    max(arg1, arg2, *args, *[, key=func]) -> value\n",
      "    \n",
      "    With a single iterable argument, return its biggest item. The\n",
      "    default keyword-only argument specifies an object to return if\n",
      "    the provided iterable is empty.\n",
      "    With two or more arguments, return the largest argument.\n",
      "\n"
     ]
    }
   ],
   "source": [
    "help(max)"
   ]
  },
  {
   "cell_type": "code",
   "execution_count": 92,
   "metadata": {
    "colab": {
     "base_uri": "https://localhost:8080/"
    },
    "executionInfo": {
     "elapsed": 487,
     "status": "ok",
     "timestamp": 1712772322622,
     "user": {
      "displayName": "509 Academy",
      "userId": "04290973032679126188"
     },
     "user_tz": -240
    },
    "id": "ICzVSpU8m7Qu",
    "outputId": "1e8bd2c2-70ee-4586-befa-7737f358fd52"
   },
   "outputs": [
    {
     "name": "stdout",
     "output_type": "stream",
     "text": [
      "111\n"
     ]
    }
   ],
   "source": [
    "print(max(tver, key=lambda x: str(x).count('1'))) # նենց անենք որ ըստ մեկերի քանակի սորտավորի"
   ]
  },
  {
   "cell_type": "code",
   "execution_count": 93,
   "metadata": {
    "colab": {
     "base_uri": "https://localhost:8080/"
    },
    "executionInfo": {
     "elapsed": 632,
     "status": "ok",
     "timestamp": 1712772657318,
     "user": {
      "displayName": "509 Academy",
      "userId": "04290973032679126188"
     },
     "user_tz": -240
    },
    "id": "ODeRBX3Sm7S_",
    "outputId": "25dca8a8-7aa9-4846-8371-f279736b0668"
   },
   "outputs": [
    {
     "name": "stdout",
     "output_type": "stream",
     "text": [
      "(4, 2)\n"
     ]
    }
   ],
   "source": [
    "tveri_zueger = ((1,10), (2,24), (3, 2), (4, 2))\n",
    "print(max(tveri_zueger))\n",
    "\n",
    "# x = (1, 10)\n",
    "# lambda x: x[0] * x[1]"
   ]
  },
  {
   "cell_type": "code",
   "execution_count": 94,
   "metadata": {
    "colab": {
     "base_uri": "https://localhost:8080/"
    },
    "executionInfo": {
     "elapsed": 17,
     "status": "ok",
     "timestamp": 1712772657319,
     "user": {
      "displayName": "509 Academy",
      "userId": "04290973032679126188"
     },
     "user_tz": -240
    },
    "id": "iOloURHsnB2S",
    "outputId": "a53ce24e-4318-4a62-e281-0dce2d98788c"
   },
   "outputs": [
    {
     "name": "stdout",
     "output_type": "stream",
     "text": [
      "(2, 24)\n"
     ]
    }
   ],
   "source": [
    "print(max(tveri_zueger, key=lambda x: x[0]*x[1]))"
   ]
  },
  {
   "cell_type": "code",
   "execution_count": 95,
   "metadata": {
    "id": "8BUwxuZenJO9"
   },
   "outputs": [],
   "source": [
    "def count_ones(x):\n",
    "    return str(x).count('1')"
   ]
  },
  {
   "cell_type": "code",
   "execution_count": 96,
   "metadata": {
    "colab": {
     "base_uri": "https://localhost:8080/"
    },
    "executionInfo": {
     "elapsed": 459,
     "status": "ok",
     "timestamp": 1712772681935,
     "user": {
      "displayName": "509 Academy",
      "userId": "04290973032679126188"
     },
     "user_tz": -240
    },
    "id": "MZxfXCwymtmA",
    "outputId": "60b81539-29f4-43c0-f25f-87c1a06dcdb2"
   },
   "outputs": [
    {
     "name": "stdout",
     "output_type": "stream",
     "text": [
      "[1, 11, 509, 32, 231, 1132, 111]\n",
      "[509, 32, 1, 231, 11, 1132, 111]\n"
     ]
    }
   ],
   "source": [
    "print(tver)\n",
    "\n",
    "tver.sort(key=count_ones)\n",
    "print(tver)"
   ]
  },
  {
   "cell_type": "markdown",
   "metadata": {
    "id": "twKirpbEfWWo"
   },
   "source": [
    "## Map, filter, reduce"
   ]
  },
  {
   "cell_type": "markdown",
   "metadata": {
    "id": "PI3_nTd8lO_i"
   },
   "source": [
    "### Map"
   ]
  },
  {
   "cell_type": "code",
   "execution_count": null,
   "metadata": {
    "colab": {
     "base_uri": "https://localhost:8080/",
     "height": 145
    },
    "executionInfo": {
     "elapsed": 419,
     "status": "error",
     "timestamp": 1705594865494,
     "user": {
      "displayName": "509 Academy",
      "userId": "04290973032679126188"
     },
     "user_tz": -240
    },
    "id": "ZBS5gMyLjIbT",
    "outputId": "34d1cfd4-1139-48c1-d866-7c01e69a1cfc"
   },
   "outputs": [
    {
     "ename": "SyntaxError",
     "evalue": "invalid syntax. Perhaps you forgot a comma? (<ipython-input-58-9aa394208246>, line 1)",
     "output_type": "error",
     "traceback": [
      "\u001b[0;36m  File \u001b[0;32m\"<ipython-input-58-9aa394208246>\"\u001b[0;36m, line \u001b[0;32m1\u001b[0m\n\u001b[0;31m    map(ինչ-որ ֆունկցիա, հավաքածու)\u001b[0m\n\u001b[0m        ^\u001b[0m\n\u001b[0;31mSyntaxError\u001b[0m\u001b[0;31m:\u001b[0m invalid syntax. Perhaps you forgot a comma?\n"
     ]
    }
   ],
   "source": [
    "map(ինչ-որ ֆունկցիա, հավաքածու)"
   ]
  },
  {
   "cell_type": "code",
   "execution_count": 99,
   "metadata": {},
   "outputs": [
    {
     "data": {
      "text/plain": [
       "range(1, 4)"
      ]
     },
     "execution_count": 99,
     "metadata": {},
     "output_type": "execute_result"
    }
   ],
   "source": [
    "range(1,4)"
   ]
  },
  {
   "cell_type": "code",
   "execution_count": 100,
   "metadata": {
    "colab": {
     "base_uri": "https://localhost:8080/"
    },
    "executionInfo": {
     "elapsed": 503,
     "status": "ok",
     "timestamp": 1712772795069,
     "user": {
      "displayName": "509 Academy",
      "userId": "04290973032679126188"
     },
     "user_tz": -240
    },
    "id": "wemBjFETfaAg",
    "outputId": "c212db21-c9d9-47b3-f6ac-a31207b187b1"
   },
   "outputs": [
    {
     "data": {
      "text/plain": [
       "<map at 0x21c69723550>"
      ]
     },
     "execution_count": 100,
     "metadata": {},
     "output_type": "execute_result"
    }
   ],
   "source": [
    "map(lambda x: x**2, [5,0,9])"
   ]
  },
  {
   "cell_type": "code",
   "execution_count": 101,
   "metadata": {
    "colab": {
     "base_uri": "https://localhost:8080/"
    },
    "executionInfo": {
     "elapsed": 572,
     "status": "ok",
     "timestamp": 1712772801870,
     "user": {
      "displayName": "509 Academy",
      "userId": "04290973032679126188"
     },
     "user_tz": -240
    },
    "id": "DApUTr__jFZk",
    "outputId": "baa03dc6-77d4-437c-b6a0-8e0f981482fc"
   },
   "outputs": [
    {
     "data": {
      "text/plain": [
       "[25, 0, 81]"
      ]
     },
     "execution_count": 101,
     "metadata": {},
     "output_type": "execute_result"
    }
   ],
   "source": [
    "list(map(lambda x: x**2, [5,0,9]))"
   ]
  },
  {
   "cell_type": "code",
   "execution_count": 103,
   "metadata": {
    "id": "j15onKcVOILa"
   },
   "outputs": [
    {
     "data": {
      "text/plain": [
       "[25, 0, 81]"
      ]
     },
     "execution_count": 103,
     "metadata": {},
     "output_type": "execute_result"
    }
   ],
   "source": [
    "def qarakusi(x):\n",
    "    return x**2\n",
    "\n",
    "list(map(qarakusi, [5,0,9]))"
   ]
  },
  {
   "cell_type": "code",
   "execution_count": 104,
   "metadata": {
    "colab": {
     "base_uri": "https://localhost:8080/"
    },
    "executionInfo": {
     "elapsed": 498,
     "status": "ok",
     "timestamp": 1712772900703,
     "user": {
      "displayName": "509 Academy",
      "userId": "04290973032679126188"
     },
     "user_tz": -240
    },
    "id": "KikYlEaGjGmD",
    "outputId": "fde168fb-1b65-4e85-dff9-a486b83209fe"
   },
   "outputs": [
    {
     "data": {
      "text/plain": [
       "[25, 0, 81]"
      ]
     },
     "execution_count": 104,
     "metadata": {},
     "output_type": "execute_result"
    }
   ],
   "source": [
    "[qarakusi(i) for i in [5, 0, 9]]"
   ]
  },
  {
   "cell_type": "code",
   "execution_count": 105,
   "metadata": {
    "colab": {
     "base_uri": "https://localhost:8080/"
    },
    "executionInfo": {
     "elapsed": 542,
     "status": "ok",
     "timestamp": 1712773046245,
     "user": {
      "displayName": "509 Academy",
      "userId": "04290973032679126188"
     },
     "user_tz": -240
    },
    "id": "B-Xo1hFnj-A2",
    "outputId": "b4a28a7a-7864-481e-de28-e0a9673e38e4"
   },
   "outputs": [
    {
     "data": {
      "text/plain": [
       "[True, False, True, True, False]"
      ]
     },
     "execution_count": 105,
     "metadata": {},
     "output_type": "execute_result"
    }
   ],
   "source": [
    "list(map(bool, [1, '', 3, -1, 0]))"
   ]
  },
  {
   "cell_type": "code",
   "execution_count": 107,
   "metadata": {
    "colab": {
     "base_uri": "https://localhost:8080/"
    },
    "executionInfo": {
     "elapsed": 5987,
     "status": "ok",
     "timestamp": 1712773111053,
     "user": {
      "displayName": "509 Academy",
      "userId": "04290973032679126188"
     },
     "user_tz": -240
    },
    "id": "8foA1n4HOhp_",
    "outputId": "09c1daba-b303-404e-a79e-ed963303d782"
   },
   "outputs": [
    {
     "data": {
      "text/plain": [
       "[1, 3, 4]"
      ]
     },
     "execution_count": 107,
     "metadata": {},
     "output_type": "execute_result"
    }
   ],
   "source": [
    "\n",
    "# \"1 3 4\"\n",
    "# [1, 3, 4]\n",
    "[int(i) for i in input().split()]\n",
    "list(map(int, input().split()))"
   ]
  },
  {
   "cell_type": "markdown",
   "metadata": {
    "id": "vdx72eqRlFsC"
   },
   "source": [
    "Ինչի՞ ուղղակի list comprehension չօգտագործենք\n",
    "https://stackoverflow.com/questions/1247486/list-comprehension-vs-map\n"
   ]
  },
  {
   "cell_type": "markdown",
   "metadata": {
    "id": "Rp4WOwd_oXI9"
   },
   "source": [
    "### Filter"
   ]
  },
  {
   "cell_type": "code",
   "execution_count": 108,
   "metadata": {
    "colab": {
     "base_uri": "https://localhost:8080/"
    },
    "executionInfo": {
     "elapsed": 18,
     "status": "ok",
     "timestamp": 1712773174886,
     "user": {
      "displayName": "509 Academy",
      "userId": "04290973032679126188"
     },
     "user_tz": -240
    },
    "id": "YCGJh_7GPCdQ",
    "outputId": "991b1f77-93c6-411c-ef8a-d33f640446c7"
   },
   "outputs": [
    {
     "data": {
      "text/plain": [
       "[0]"
      ]
     },
     "execution_count": 108,
     "metadata": {},
     "output_type": "execute_result"
    }
   ],
   "source": [
    "[i for i in [5, 0, 9] if i % 2 == 0]"
   ]
  },
  {
   "cell_type": "code",
   "execution_count": null,
   "metadata": {
    "colab": {
     "base_uri": "https://localhost:8080/"
    },
    "executionInfo": {
     "elapsed": 480,
     "status": "ok",
     "timestamp": 1712773214127,
     "user": {
      "displayName": "509 Academy",
      "userId": "04290973032679126188"
     },
     "user_tz": -240
    },
    "id": "21EYDR7UoX40",
    "outputId": "0b940160-e49c-4c2e-be9a-6b34dac08a09"
   },
   "outputs": [
    {
     "name": "stdout",
     "output_type": "stream",
     "text": [
      "[2, 4, 6]\n"
     ]
    }
   ],
   "source": [
    "numbers = [1, 2, 3, 4, 5, 6]\n",
    "even_numbers = filter(lambda x: x % 2 == 0, numbers)\n",
    "print(list(even_numbers))\n",
    "\n",
    "# for i in numbers:\n",
    "#     if func(i):\n",
    "#         a.append(i)"
   ]
  },
  {
   "cell_type": "code",
   "execution_count": null,
   "metadata": {
    "colab": {
     "base_uri": "https://localhost:8080/"
    },
    "executionInfo": {
     "elapsed": 416,
     "status": "ok",
     "timestamp": 1712773230451,
     "user": {
      "displayName": "509 Academy",
      "userId": "04290973032679126188"
     },
     "user_tz": -240
    },
    "id": "QGTkemafZ8xr",
    "outputId": "be7c785c-58a7-4d05-81ac-fe45709f8e27"
   },
   "outputs": [
    {
     "name": "stdout",
     "output_type": "stream",
     "text": [
      "<filter object at 0x78513db7f790>\n"
     ]
    }
   ],
   "source": [
    "print(filter(lambda x: x % 2 == 0, numbers))"
   ]
  },
  {
   "cell_type": "code",
   "execution_count": null,
   "metadata": {
    "colab": {
     "base_uri": "https://localhost:8080/"
    },
    "executionInfo": {
     "elapsed": 22,
     "status": "ok",
     "timestamp": 1712773235287,
     "user": {
      "displayName": "509 Academy",
      "userId": "04290973032679126188"
     },
     "user_tz": -240
    },
    "id": "9NKcY-TxoiHX",
    "outputId": "95993a98-5838-4b9a-ea5d-070eea0e09a8"
   },
   "outputs": [
    {
     "data": {
      "text/plain": [
       "[2, 4, 6]"
      ]
     },
     "execution_count": 74,
     "metadata": {},
     "output_type": "execute_result"
    }
   ],
   "source": [
    "[i for i in numbers if i % 2 == 0]"
   ]
  },
  {
   "cell_type": "code",
   "execution_count": 110,
   "metadata": {
    "id": "SHthFi5EoqL3"
   },
   "outputs": [],
   "source": [
    "# ստանալ բառերը որոնք մեծատառով են սկսվում\n",
    "barer = ['Պանիր', \"բարև\", \"պոնչիկ\"]"
   ]
  },
  {
   "cell_type": "code",
   "execution_count": 111,
   "metadata": {
    "colab": {
     "base_uri": "https://localhost:8080/"
    },
    "executionInfo": {
     "elapsed": 337,
     "status": "ok",
     "timestamp": 1712773267149,
     "user": {
      "displayName": "509 Academy",
      "userId": "04290973032679126188"
     },
     "user_tz": -240
    },
    "id": "dBep3Tyjo0QG",
    "outputId": "a59adfaf-d598-43b6-9de3-3f21614c7dd0"
   },
   "outputs": [
    {
     "data": {
      "text/plain": [
       "['Պանիր']"
      ]
     },
     "execution_count": 111,
     "metadata": {},
     "output_type": "execute_result"
    }
   ],
   "source": [
    "list(filter(lambda x: x[0].isupper(), barer))"
   ]
  },
  {
   "cell_type": "code",
   "execution_count": null,
   "metadata": {
    "colab": {
     "base_uri": "https://localhost:8080/"
    },
    "executionInfo": {
     "elapsed": 396,
     "status": "ok",
     "timestamp": 1712773275573,
     "user": {
      "displayName": "509 Academy",
      "userId": "04290973032679126188"
     },
     "user_tz": -240
    },
    "id": "eheSU5HvpHUQ",
    "outputId": "645c8a2f-9b2c-4c7f-cf9a-78e08ed1aac4"
   },
   "outputs": [
    {
     "data": {
      "text/plain": [
       "['Պանիր']"
      ]
     },
     "execution_count": 77,
     "metadata": {},
     "output_type": "execute_result"
    }
   ],
   "source": [
    "[x for x in barer if x[0].isupper()]"
   ]
  },
  {
   "cell_type": "markdown",
   "metadata": {
    "id": "e1rgsCcipZ8-"
   },
   "source": [
    "### Reduce"
   ]
  },
  {
   "cell_type": "code",
   "execution_count": 112,
   "metadata": {
    "colab": {
     "base_uri": "https://localhost:8080/"
    },
    "executionInfo": {
     "elapsed": 422,
     "status": "ok",
     "timestamp": 1712773576071,
     "user": {
      "displayName": "509 Academy",
      "userId": "04290973032679126188"
     },
     "user_tz": -240
    },
    "id": "u20n-nZIpbW1",
    "outputId": "84515283-10a2-47c7-e322-4a0768d2d72e"
   },
   "outputs": [
    {
     "name": "stdout",
     "output_type": "stream",
     "text": [
      "120\n"
     ]
    }
   ],
   "source": [
    "from functools import reduce\n",
    "\n",
    "numbers = [1, 2, 3, 4, 5]\n",
    "product = reduce(lambda x, y: x*y, numbers)\n",
    "print(product)"
   ]
  },
  {
   "cell_type": "code",
   "execution_count": null,
   "metadata": {
    "id": "IACzvKYEpncr"
   },
   "outputs": [],
   "source": [
    "1*2 = 2\n",
    "[1, 2, 3, 4, 5] -> [2, 3, 4, 5]\n",
    "\n",
    "2*3 = 6\n",
    "[2, 3, 4, 5] -> [6, 4, 5]\n",
    "\n",
    "6 * 4 = 24\n",
    "[6, 4, 5] -> [24, 5]\n",
    "\n",
    "24*5 = 120"
   ]
  },
  {
   "cell_type": "markdown",
   "metadata": {},
   "source": [
    "# 🛠️ Գործնական (ToDo)\n"
   ]
  },
  {
   "cell_type": "markdown",
   "metadata": {},
   "source": [
    "## Գաղտնաբառի ստեղծում\n",
    "Գրել ֆունկցիա որը ստեղծում ա տրված երկարության (default 10), ու բարդության (easy, medium, harc) գաղտնաբառ:\n",
    "\n",
    "Հեշտ գաղտնաբառը մենակ թվեր ա պարունակում, միջինը նաև տառեր իսկ դժվարը սիմվոլներ էլ։"
   ]
  },
  {
   "cell_type": "code",
   "execution_count": null,
   "metadata": {},
   "outputs": [
    {
     "name": "stdout",
     "output_type": "stream",
     "text": [
      "Սխալ մուտք\n"
     ]
    },
    {
     "data": {
      "text/plain": [
       "'ISyTG'"
      ]
     },
     "execution_count": 20,
     "metadata": {},
     "output_type": "execute_result"
    }
   ],
   "source": [
    "import string\n",
    "import random\n",
    "\n",
    "numbers = string.digits\n",
    "letters = string.ascii_letters\n",
    "symbols = \")(*&^%$$%^&*())(*&^%$%^&*)\"\n",
    "\n",
    "def generate_password(difficulty: str, password_length: str=10) -> str:\n",
    "    \"\"\"Returns of a ....\n",
    "    \n",
    "    Args:\n",
    "        difficulty (str): one of [\"easy\", \"medium\"] ...\n",
    "        \n",
    "    Return:\n",
    "    ...\n",
    "    \"\"\"\n",
    "    char_option = {\n",
    "        \"easy\": numbers, \n",
    "        \"medium\": numbers + letters,\n",
    "        \"hard\": numbers + letters + symbols\n",
    "    }\n",
    "    \n",
    "    if difficulty not in char_option:\n",
    "        print(\"Սխալ մուտք\")\n",
    "        return None\n",
    "    \n",
    "    chars = char_option[difficulty]\n",
    "        \n",
    "    password = \"\"\n",
    "    for _ in range(password_length):\n",
    "        password += random.choice(chars)\n",
    "        \n",
    "    return password + chars\n",
    "\n",
    "\n",
    "generate_password(\"medum\")\n",
    "\n",
    "\n",
    "\"\".join(random.sample(letters, 5))\n"
   ]
  },
  {
   "cell_type": "markdown",
   "metadata": {},
   "source": [
    "## Կոպեկ քցել\n",
    "(Կոդը մաքուր չի)"
   ]
  },
  {
   "cell_type": "code",
   "execution_count": null,
   "metadata": {},
   "outputs": [],
   "source": [
    "NUM_ITER = 10_000\n",
    "\n",
    "def flip_coin_n_times(n: int, return_percentage: bool = True) -> int:\n",
    "    \"\"\"Func..\n",
    "\n",
    "    Args:\n",
    "        n (int): _description_\n",
    "\n",
    "    Returns:\n",
    "        int: _description_\n",
    "    \"\"\"\n",
    "    flip_coin = lambda : random.choice([0, 1])\n",
    "    \n",
    "    results = []\n",
    "    for _ in range(n):\n",
    "        results.append(flip_coin())\n",
    "    \n",
    "    num_1s = sum(results)\n",
    "    \n",
    "    if return_percentage:\n",
    "        return num_1s / n\n",
    "    \n",
    "    return num_1s\n",
    "\n",
    "def get_distribution(num_iter: int = NUM_ITER, return_percentage: bool = True):\n",
    "    count_dict = {}\n",
    "\n",
    "    for _ in range(num_iter):\n",
    "        num_1s = flip_coin_n_times(5, False)\n",
    "        \n",
    "        if num_1s not in count_dict:\n",
    "            count_dict[num_1s] = 1\n",
    "        else:\n",
    "            count_dict[num_1s] += 1\n",
    "          \n",
    "    \n",
    "    items_sorted = sorted(count_dict.items(), key=lambda x: x[1])\n",
    "    count_dict = dict(items_sorted)\n",
    "    print(count_dict)\n",
    "    \n",
    "    if return_percentage:\n",
    "        def get_perc(x):\n",
    "            return (x, count_dict[x] / num_iter * 100)\n",
    "        \n",
    "        count_dict = dict(map(get_perc, count_dict))\n",
    "\n",
    "    return count_dict"
   ]
  },
  {
   "cell_type": "code",
   "execution_count": 109,
   "metadata": {},
   "outputs": [],
   "source": [
    "NUM_ITER = 1_000\n",
    "\n",
    "percentages = []\n",
    "for i in range(1, NUM_ITER+1):\n",
    "    percentages.append(flip_coin_n_times(i))"
   ]
  },
  {
   "cell_type": "code",
   "execution_count": null,
   "metadata": {},
   "outputs": [
    {
     "data": {
      "application/vnd.plotly.v1+json": {
       "config": {
        "plotlyServerURL": "https://plot.ly"
       },
       "data": [
        {
         "hovertemplate": "x=%{x}<br>y=%{y}<extra></extra>",
         "legendgroup": "",
         "line": {
          "color": "#636efa",
          "dash": "solid"
         },
         "marker": {
          "symbol": "circle"
         },
         "mode": "lines",
         "name": "",
         "orientation": "v",
         "showlegend": false,
         "type": "scatter",
         "x": [
          1,
          2,
          3,
          4,
          5,
          6,
          7,
          8,
          9,
          10,
          11,
          12,
          13,
          14,
          15,
          16,
          17,
          18,
          19,
          20,
          21,
          22,
          23,
          24,
          25,
          26,
          27,
          28,
          29,
          30,
          31,
          32,
          33,
          34,
          35,
          36,
          37,
          38,
          39,
          40,
          41,
          42,
          43,
          44,
          45,
          46,
          47,
          48,
          49,
          50,
          51,
          52,
          53,
          54,
          55,
          56,
          57,
          58,
          59,
          60,
          61,
          62,
          63,
          64,
          65,
          66,
          67,
          68,
          69,
          70,
          71,
          72,
          73,
          74,
          75,
          76,
          77,
          78,
          79,
          80,
          81,
          82,
          83,
          84,
          85,
          86,
          87,
          88,
          89,
          90,
          91,
          92,
          93,
          94,
          95,
          96,
          97,
          98,
          99,
          100,
          101,
          102,
          103,
          104,
          105,
          106,
          107,
          108,
          109,
          110,
          111,
          112,
          113,
          114,
          115,
          116,
          117,
          118,
          119,
          120,
          121,
          122,
          123,
          124,
          125,
          126,
          127,
          128,
          129,
          130,
          131,
          132,
          133,
          134,
          135,
          136,
          137,
          138,
          139,
          140,
          141,
          142,
          143,
          144,
          145,
          146,
          147,
          148,
          149,
          150,
          151,
          152,
          153,
          154,
          155,
          156,
          157,
          158,
          159,
          160,
          161,
          162,
          163,
          164,
          165,
          166,
          167,
          168,
          169,
          170,
          171,
          172,
          173,
          174,
          175,
          176,
          177,
          178,
          179,
          180,
          181,
          182,
          183,
          184,
          185,
          186,
          187,
          188,
          189,
          190,
          191,
          192,
          193,
          194,
          195,
          196,
          197,
          198,
          199,
          200,
          201,
          202,
          203,
          204,
          205,
          206,
          207,
          208,
          209,
          210,
          211,
          212,
          213,
          214,
          215,
          216,
          217,
          218,
          219,
          220,
          221,
          222,
          223,
          224,
          225,
          226,
          227,
          228,
          229,
          230,
          231,
          232,
          233,
          234,
          235,
          236,
          237,
          238,
          239,
          240,
          241,
          242,
          243,
          244,
          245,
          246,
          247,
          248,
          249,
          250,
          251,
          252,
          253,
          254,
          255,
          256,
          257,
          258,
          259,
          260,
          261,
          262,
          263,
          264,
          265,
          266,
          267,
          268,
          269,
          270,
          271,
          272,
          273,
          274,
          275,
          276,
          277,
          278,
          279,
          280,
          281,
          282,
          283,
          284,
          285,
          286,
          287,
          288,
          289,
          290,
          291,
          292,
          293,
          294,
          295,
          296,
          297,
          298,
          299,
          300,
          301,
          302,
          303,
          304,
          305,
          306,
          307,
          308,
          309,
          310,
          311,
          312,
          313,
          314,
          315,
          316,
          317,
          318,
          319,
          320,
          321,
          322,
          323,
          324,
          325,
          326,
          327,
          328,
          329,
          330,
          331,
          332,
          333,
          334,
          335,
          336,
          337,
          338,
          339,
          340,
          341,
          342,
          343,
          344,
          345,
          346,
          347,
          348,
          349,
          350,
          351,
          352,
          353,
          354,
          355,
          356,
          357,
          358,
          359,
          360,
          361,
          362,
          363,
          364,
          365,
          366,
          367,
          368,
          369,
          370,
          371,
          372,
          373,
          374,
          375,
          376,
          377,
          378,
          379,
          380,
          381,
          382,
          383,
          384,
          385,
          386,
          387,
          388,
          389,
          390,
          391,
          392,
          393,
          394,
          395,
          396,
          397,
          398,
          399,
          400,
          401,
          402,
          403,
          404,
          405,
          406,
          407,
          408,
          409,
          410,
          411,
          412,
          413,
          414,
          415,
          416,
          417,
          418,
          419,
          420,
          421,
          422,
          423,
          424,
          425,
          426,
          427,
          428,
          429,
          430,
          431,
          432,
          433,
          434,
          435,
          436,
          437,
          438,
          439,
          440,
          441,
          442,
          443,
          444,
          445,
          446,
          447,
          448,
          449,
          450,
          451,
          452,
          453,
          454,
          455,
          456,
          457,
          458,
          459,
          460,
          461,
          462,
          463,
          464,
          465,
          466,
          467,
          468,
          469,
          470,
          471,
          472,
          473,
          474,
          475,
          476,
          477,
          478,
          479,
          480,
          481,
          482,
          483,
          484,
          485,
          486,
          487,
          488,
          489,
          490,
          491,
          492,
          493,
          494,
          495,
          496,
          497,
          498,
          499,
          500,
          501,
          502,
          503,
          504,
          505,
          506,
          507,
          508,
          509,
          510,
          511,
          512,
          513,
          514,
          515,
          516,
          517,
          518,
          519,
          520,
          521,
          522,
          523,
          524,
          525,
          526,
          527,
          528,
          529,
          530,
          531,
          532,
          533,
          534,
          535,
          536,
          537,
          538,
          539,
          540,
          541,
          542,
          543,
          544,
          545,
          546,
          547,
          548,
          549,
          550,
          551,
          552,
          553,
          554,
          555,
          556,
          557,
          558,
          559,
          560,
          561,
          562,
          563,
          564,
          565,
          566,
          567,
          568,
          569,
          570,
          571,
          572,
          573,
          574,
          575,
          576,
          577,
          578,
          579,
          580,
          581,
          582,
          583,
          584,
          585,
          586,
          587,
          588,
          589,
          590,
          591,
          592,
          593,
          594,
          595,
          596,
          597,
          598,
          599,
          600,
          601,
          602,
          603,
          604,
          605,
          606,
          607,
          608,
          609,
          610,
          611,
          612,
          613,
          614,
          615,
          616,
          617,
          618,
          619,
          620,
          621,
          622,
          623,
          624,
          625,
          626,
          627,
          628,
          629,
          630,
          631,
          632,
          633,
          634,
          635,
          636,
          637,
          638,
          639,
          640,
          641,
          642,
          643,
          644,
          645,
          646,
          647,
          648,
          649,
          650,
          651,
          652,
          653,
          654,
          655,
          656,
          657,
          658,
          659,
          660,
          661,
          662,
          663,
          664,
          665,
          666,
          667,
          668,
          669,
          670,
          671,
          672,
          673,
          674,
          675,
          676,
          677,
          678,
          679,
          680,
          681,
          682,
          683,
          684,
          685,
          686,
          687,
          688,
          689,
          690,
          691,
          692,
          693,
          694,
          695,
          696,
          697,
          698,
          699,
          700,
          701,
          702,
          703,
          704,
          705,
          706,
          707,
          708,
          709,
          710,
          711,
          712,
          713,
          714,
          715,
          716,
          717,
          718,
          719,
          720,
          721,
          722,
          723,
          724,
          725,
          726,
          727,
          728,
          729,
          730,
          731,
          732,
          733,
          734,
          735,
          736,
          737,
          738,
          739,
          740,
          741,
          742,
          743,
          744,
          745,
          746,
          747,
          748,
          749,
          750,
          751,
          752,
          753,
          754,
          755,
          756,
          757,
          758,
          759,
          760,
          761,
          762,
          763,
          764,
          765,
          766,
          767,
          768,
          769,
          770,
          771,
          772,
          773,
          774,
          775,
          776,
          777,
          778,
          779,
          780,
          781,
          782,
          783,
          784,
          785,
          786,
          787,
          788,
          789,
          790,
          791,
          792,
          793,
          794,
          795,
          796,
          797,
          798,
          799,
          800,
          801,
          802,
          803,
          804,
          805,
          806,
          807,
          808,
          809,
          810,
          811,
          812,
          813,
          814,
          815,
          816,
          817,
          818,
          819,
          820,
          821,
          822,
          823,
          824,
          825,
          826,
          827,
          828,
          829,
          830,
          831,
          832,
          833,
          834,
          835,
          836,
          837,
          838,
          839,
          840,
          841,
          842,
          843,
          844,
          845,
          846,
          847,
          848,
          849,
          850,
          851,
          852,
          853,
          854,
          855,
          856,
          857,
          858,
          859,
          860,
          861,
          862,
          863,
          864,
          865,
          866,
          867,
          868,
          869,
          870,
          871,
          872,
          873,
          874,
          875,
          876,
          877,
          878,
          879,
          880,
          881,
          882,
          883,
          884,
          885,
          886,
          887,
          888,
          889,
          890,
          891,
          892,
          893,
          894,
          895,
          896,
          897,
          898,
          899,
          900,
          901,
          902,
          903,
          904,
          905,
          906,
          907,
          908,
          909,
          910,
          911,
          912,
          913,
          914,
          915,
          916,
          917,
          918,
          919,
          920,
          921,
          922,
          923,
          924,
          925,
          926,
          927,
          928,
          929,
          930,
          931,
          932,
          933,
          934,
          935,
          936,
          937,
          938,
          939,
          940,
          941,
          942,
          943,
          944,
          945,
          946,
          947,
          948,
          949,
          950,
          951,
          952,
          953,
          954,
          955,
          956,
          957,
          958,
          959,
          960,
          961,
          962,
          963,
          964,
          965,
          966,
          967,
          968,
          969,
          970,
          971,
          972,
          973,
          974,
          975,
          976,
          977,
          978,
          979,
          980,
          981,
          982,
          983,
          984,
          985,
          986,
          987,
          988,
          989,
          990,
          991,
          992,
          993,
          994,
          995,
          996,
          997,
          998,
          999,
          1000
         ],
         "xaxis": "x",
         "y": [
          0,
          1,
          0.3333333333333333,
          0.5,
          0.8,
          0.5,
          0.42857142857142855,
          0.5,
          0.7777777777777778,
          0.3,
          0.5454545454545454,
          0.3333333333333333,
          0.38461538461538464,
          0.42857142857142855,
          0.4666666666666667,
          0.6875,
          0.7647058823529411,
          0.3888888888888889,
          0.5263157894736842,
          0.4,
          0.38095238095238093,
          0.45454545454545453,
          0.6086956521739131,
          0.4583333333333333,
          0.52,
          0.6153846153846154,
          0.48148148148148145,
          0.39285714285714285,
          0.5517241379310345,
          0.3333333333333333,
          0.5806451612903226,
          0.625,
          0.3939393939393939,
          0.5294117647058824,
          0.3142857142857143,
          0.5555555555555556,
          0.3783783783783784,
          0.6052631578947368,
          0.41025641025641024,
          0.6,
          0.4878048780487805,
          0.4523809523809524,
          0.3953488372093023,
          0.4772727272727273,
          0.37777777777777777,
          0.5217391304347826,
          0.5531914893617021,
          0.6666666666666666,
          0.40816326530612246,
          0.48,
          0.45098039215686275,
          0.5961538461538461,
          0.41509433962264153,
          0.4444444444444444,
          0.43636363636363634,
          0.5178571428571429,
          0.43859649122807015,
          0.5517241379310345,
          0.5423728813559322,
          0.5,
          0.4918032786885246,
          0.4838709677419355,
          0.5396825396825397,
          0.5,
          0.4307692307692308,
          0.5,
          0.4925373134328358,
          0.4852941176470588,
          0.5362318840579711,
          0.5857142857142857,
          0.5211267605633803,
          0.4861111111111111,
          0.4657534246575342,
          0.4864864864864865,
          0.6266666666666667,
          0.47368421052631576,
          0.4805194805194805,
          0.5128205128205128,
          0.5063291139240507,
          0.45,
          0.48148148148148145,
          0.5,
          0.46987951807228917,
          0.5476190476190477,
          0.5058823529411764,
          0.47674418604651164,
          0.4942528735632184,
          0.4431818181818182,
          0.449438202247191,
          0.5444444444444444,
          0.5054945054945055,
          0.5543478260869565,
          0.5483870967741935,
          0.5851063829787234,
          0.4421052631578947,
          0.59375,
          0.5257731958762887,
          0.5510204081632653,
          0.47474747474747475,
          0.54,
          0.45544554455445546,
          0.4411764705882353,
          0.44660194174757284,
          0.5384615384615384,
          0.580952380952381,
          0.5,
          0.5233644859813084,
          0.49074074074074076,
          0.5045871559633027,
          0.45454545454545453,
          0.45045045045045046,
          0.5535714285714286,
          0.504424778761062,
          0.5350877192982456,
          0.4782608695652174,
          0.5431034482758621,
          0.5213675213675214,
          0.5338983050847458,
          0.5210084033613446,
          0.5,
          0.5041322314049587,
          0.47540983606557374,
          0.4634146341463415,
          0.3951612903225806,
          0.44,
          0.5555555555555556,
          0.5433070866141733,
          0.5625,
          0.5736434108527132,
          0.5076923076923077,
          0.45038167938931295,
          0.5,
          0.5112781954887218,
          0.5,
          0.562962962962963,
          0.5220588235294118,
          0.5182481751824818,
          0.5217391304347826,
          0.48201438848920863,
          0.5928571428571429,
          0.5035460992907801,
          0.49295774647887325,
          0.5664335664335665,
          0.5347222222222222,
          0.5103448275862069,
          0.4863013698630137,
          0.42857142857142855,
          0.5135135135135135,
          0.42953020134228187,
          0.5666666666666667,
          0.4768211920529801,
          0.5131578947368421,
          0.5359477124183006,
          0.5064935064935064,
          0.535483870967742,
          0.5384615384615384,
          0.5414012738853503,
          0.4240506329113924,
          0.5345911949685535,
          0.5,
          0.4968944099378882,
          0.4567901234567901,
          0.5030674846625767,
          0.4268292682926829,
          0.4484848484848485,
          0.5,
          0.5449101796407185,
          0.4583333333333333,
          0.4911242603550296,
          0.45294117647058824,
          0.47368421052631576,
          0.563953488372093,
          0.4682080924855491,
          0.5114942528735632,
          0.52,
          0.4659090909090909,
          0.4745762711864407,
          0.550561797752809,
          0.5642458100558659,
          0.5,
          0.4419889502762431,
          0.4835164835164835,
          0.5409836065573771,
          0.5434782608695652,
          0.4918918918918919,
          0.489247311827957,
          0.46524064171123,
          0.5478723404255319,
          0.47619047619047616,
          0.45789473684210524,
          0.5654450261780105,
          0.53125,
          0.5233160621761658,
          0.5,
          0.4666666666666667,
          0.45918367346938777,
          0.5126903553299492,
          0.4696969696969697,
          0.5025125628140703,
          0.52,
          0.5074626865671642,
          0.5247524752475248,
          0.5320197044334976,
          0.5441176470588235,
          0.48292682926829267,
          0.46601941747572817,
          0.5410628019323671,
          0.47115384615384615,
          0.5789473684210527,
          0.48095238095238096,
          0.4834123222748815,
          0.5235849056603774,
          0.4694835680751174,
          0.4953271028037383,
          0.49767441860465117,
          0.5324074074074074,
          0.4423963133640553,
          0.5321100917431193,
          0.5296803652968036,
          0.4772727272727273,
          0.4479638009049774,
          0.49099099099099097,
          0.4663677130044843,
          0.5,
          0.5066666666666667,
          0.5221238938053098,
          0.4713656387665198,
          0.5175438596491229,
          0.5589519650655022,
          0.4434782608695652,
          0.5367965367965368,
          0.5301724137931034,
          0.463519313304721,
          0.5085470085470085,
          0.5234042553191489,
          0.5084745762711864,
          0.45147679324894513,
          0.49159663865546216,
          0.5188284518828452,
          0.525,
          0.5103734439834025,
          0.5082644628099173,
          0.5102880658436214,
          0.4918032786885246,
          0.46122448979591835,
          0.483739837398374,
          0.4574898785425101,
          0.46774193548387094,
          0.5220883534136547,
          0.568,
          0.5219123505976095,
          0.47619047619047616,
          0.5177865612648221,
          0.5,
          0.5529411764705883,
          0.46875,
          0.46303501945525294,
          0.5465116279069767,
          0.5019305019305019,
          0.5153846153846153,
          0.4789272030651341,
          0.5190839694656488,
          0.5095057034220533,
          0.4583333333333333,
          0.5471698113207547,
          0.5112781954887218,
          0.5393258426966292,
          0.5634328358208955,
          0.483271375464684,
          0.4740740740740741,
          0.4907749077490775,
          0.5036764705882353,
          0.4981684981684982,
          0.5072992700729927,
          0.5381818181818182,
          0.4891304347826087,
          0.4584837545126354,
          0.4748201438848921,
          0.5053763440860215,
          0.4607142857142857,
          0.5231316725978647,
          0.45390070921985815,
          0.4911660777385159,
          0.4859154929577465,
          0.5614035087719298,
          0.4755244755244755,
          0.4912891986062718,
          0.5138888888888888,
          0.5432525951557093,
          0.4724137931034483,
          0.4845360824742268,
          0.5273972602739726,
          0.515358361774744,
          0.4897959183673469,
          0.48135593220338985,
          0.48986486486486486,
          0.5016835016835017,
          0.49328859060402686,
          0.5284280936454849,
          0.4166666666666667,
          0.4883720930232558,
          0.48013245033112584,
          0.5016501650165016,
          0.5032894736842105,
          0.49836065573770494,
          0.4869281045751634,
          0.49185667752442996,
          0.5032467532467533,
          0.5275080906148867,
          0.4967741935483871,
          0.5080385852090032,
          0.483974358974359,
          0.5079872204472844,
          0.5,
          0.49523809523809526,
          0.5158227848101266,
          0.4952681388012618,
          0.5471698113207547,
          0.5015673981191222,
          0.51875,
          0.5451713395638629,
          0.4937888198757764,
          0.4613003095975232,
          0.5092592592592593,
          0.48923076923076925,
          0.49693251533742333,
          0.5107033639143731,
          0.5,
          0.45288753799392095,
          0.49393939393939396,
          0.5166163141993958,
          0.5451807228915663,
          0.5075075075075075,
          0.4820359281437126,
          0.5552238805970149,
          0.5178571428571429,
          0.49258160237388726,
          0.4970414201183432,
          0.4277286135693215,
          0.5,
          0.5102639296187683,
          0.5058479532163743,
          0.4956268221574344,
          0.5261627906976745,
          0.5101449275362319,
          0.5260115606936416,
          0.5504322766570605,
          0.5028735632183908,
          0.5358166189111748,
          0.48,
          0.5128205128205128,
          0.4460227272727273,
          0.49008498583569404,
          0.4632768361581921,
          0.523943661971831,
          0.5056179775280899,
          0.5210084033613446,
          0.4888268156424581,
          0.4763231197771588,
          0.5055555555555555,
          0.554016620498615,
          0.5082872928176796,
          0.46831955922865015,
          0.510989010989011,
          0.5150684931506849,
          0.5218579234972678,
          0.5286103542234333,
          0.46467391304347827,
          0.48509485094850946,
          0.5864864864864865,
          0.522911051212938,
          0.5241935483870968,
          0.4584450402144772,
          0.5320855614973262,
          0.5306666666666666,
          0.4946808510638298,
          0.506631299734748,
          0.4894179894179894,
          0.49340369393139843,
          0.5263157894736842,
          0.5511811023622047,
          0.5026178010471204,
          0.4725848563968668,
          0.4739583333333333,
          0.4857142857142857,
          0.5854922279792746,
          0.5478036175710594,
          0.4793814432989691,
          0.5038560411311054,
          0.47435897435897434,
          0.4833759590792839,
          0.5357142857142857,
          0.4707379134860051,
          0.5,
          0.45569620253164556,
          0.4823232323232323,
          0.4811083123425693,
          0.49246231155778897,
          0.47619047619047616,
          0.525,
          0.46384039900249374,
          0.48009950248756217,
          0.49627791563275436,
          0.5173267326732673,
          0.4567901234567901,
          0.4975369458128079,
          0.4914004914004914,
          0.5196078431372549,
          0.4669926650366748,
          0.5097560975609756,
          0.49635036496350365,
          0.5218446601941747,
          0.49878934624697335,
          0.5555555555555556,
          0.4674698795180723,
          0.4807692307692308,
          0.5059952038369304,
          0.48086124401913877,
          0.4701670644391408,
          0.5166666666666667,
          0.5201900237529691,
          0.523696682464455,
          0.524822695035461,
          0.49528301886792453,
          0.5294117647058824,
          0.5117370892018779,
          0.48009367681498827,
          0.5257009345794392,
          0.4662004662004662,
          0.5023255813953489,
          0.505800464037123,
          0.5254629629629629,
          0.5103926096997691,
          0.5207373271889401,
          0.4827586206896552,
          0.536697247706422,
          0.4805491990846682,
          0.4497716894977169,
          0.5353075170842825,
          0.4659090909090909,
          0.46938775510204084,
          0.5180995475113123,
          0.49887133182844245,
          0.4954954954954955,
          0.5280898876404494,
          0.4730941704035874,
          0.5100671140939598,
          0.5267857142857143,
          0.46325167037861914,
          0.5288888888888889,
          0.47671840354767187,
          0.4778761061946903,
          0.47240618101545256,
          0.5088105726872246,
          0.44835164835164837,
          0.506578947368421,
          0.43544857768052514,
          0.4868995633187773,
          0.4989106753812636,
          0.48478260869565215,
          0.5292841648590022,
          0.46320346320346323,
          0.5118790496760259,
          0.4870689655172414,
          0.5053763440860215,
          0.48068669527896996,
          0.5224839400428265,
          0.4658119658119658,
          0.47974413646055436,
          0.46808510638297873,
          0.4585987261146497,
          0.4809322033898305,
          0.49471458773784355,
          0.5021097046413502,
          0.5305263157894737,
          0.5357142857142857,
          0.45073375262054505,
          0.5271966527196653,
          0.46555323590814196,
          0.5125,
          0.48440748440748443,
          0.5373443983402489,
          0.5113871635610766,
          0.4896694214876033,
          0.5051546391752577,
          0.5061728395061729,
          0.5174537987679672,
          0.5245901639344263,
          0.4867075664621677,
          0.48775510204081635,
          0.5437881873727087,
          0.49390243902439024,
          0.513184584178499,
          0.5161943319838057,
          0.503030303030303,
          0.5120967741935484,
          0.49899396378269617,
          0.4919678714859438,
          0.5190380761523046,
          0.514,
          0.49500998003992014,
          0.5039840637450199,
          0.5188866799204771,
          0.4583333333333333,
          0.48514851485148514,
          0.4901185770750988,
          0.5325443786982249,
          0.4704724409448819,
          0.4950884086444008,
          0.49411764705882355,
          0.5283757338551859,
          0.47265625,
          0.5263157894736842,
          0.5038910505836576,
          0.47572815533980584,
          0.5368217054263565,
          0.48549323017408125,
          0.528957528957529,
          0.4797687861271676,
          0.5173076923076924,
          0.4894433781190019,
          0.49808429118773945,
          0.4818355640535373,
          0.5095419847328244,
          0.47619047619047616,
          0.4790874524714829,
          0.4478178368121442,
          0.5113636363636364,
          0.5160680529300568,
          0.4641509433962264,
          0.5160075329566854,
          0.4548872180451128,
          0.5196998123827392,
          0.4850187265917603,
          0.5121495327102804,
          0.4925373134328358,
          0.5065176908752328,
          0.5315985130111525,
          0.49165120593692024,
          0.4722222222222222,
          0.47504621072088726,
          0.46863468634686345,
          0.5046040515653776,
          0.5110294117647058,
          0.46972477064220186,
          0.489010989010989,
          0.5009140767824497,
          0.5,
          0.517304189435337,
          0.5181818181818182,
          0.46098003629764067,
          0.4692028985507246,
          0.49909584086799275,
          0.44765342960288806,
          0.4882882882882883,
          0.4892086330935252,
          0.5314183123877917,
          0.514336917562724,
          0.4937388193202147,
          0.4589285714285714,
          0.5026737967914439,
          0.5231316725978647,
          0.46714031971580816,
          0.5372340425531915,
          0.504424778761062,
          0.4734982332155477,
          0.48324514991181655,
          0.4595070422535211,
          0.4973637961335677,
          0.5140350877192983,
          0.4956217162872154,
          0.5017482517482518,
          0.4816753926701571,
          0.4930313588850174,
          0.4852173913043478,
          0.5121527777777778,
          0.4852686308492201,
          0.4826989619377163,
          0.4905008635578584,
          0.47758620689655173,
          0.4578313253012048,
          0.5017182130584192,
          0.4751286449399657,
          0.4982876712328767,
          0.5282051282051282,
          0.49146757679180886,
          0.4906303236797274,
          0.4574829931972789,
          0.5042444821731749,
          0.4966101694915254,
          0.4890016920473773,
          0.49493243243243246,
          0.4924114671163575,
          0.4797979797979798,
          0.46050420168067224,
          0.49161073825503354,
          0.5108877721943048,
          0.48327759197324416,
          0.5292153589315526,
          0.49333333333333335,
          0.47753743760399336,
          0.5099667774086378,
          0.48258706467661694,
          0.5281456953642384,
          0.49421487603305786,
          0.5346534653465347,
          0.4876441515650741,
          0.5115131578947368,
          0.5041050903119869,
          0.4639344262295082,
          0.4959083469721768,
          0.5294117647058824,
          0.4796084828711256,
          0.5130293159609121,
          0.5008130081300813,
          0.5146103896103896,
          0.4829821717990275,
          0.529126213592233,
          0.5525040387722132,
          0.5,
          0.5539452495974235,
          0.5337620578778135,
          0.48635634028892455,
          0.5416666666666666,
          0.5312,
          0.476038338658147,
          0.49920255183413076,
          0.5238853503184714,
          0.5087440381558028,
          0.5079365079365079,
          0.4976228209191759,
          0.5332278481012658,
          0.47709320695102686,
          0.4810725552050473,
          0.5118110236220472,
          0.5188679245283019,
          0.5039246467817896,
          0.5,
          0.49139280125195617,
          0.4921875,
          0.48985959438377535,
          0.5233644859813084,
          0.48833592534992226,
          0.515527950310559,
          0.5131782945736434,
          0.5061919504643962,
          0.4992272024729521,
          0.5030864197530864,
          0.4776579352850539,
          0.49230769230769234,
          0.5207373271889401,
          0.4647239263803681,
          0.5145482388973966,
          0.4908256880733945,
          0.5374045801526718,
          0.5015243902439024,
          0.502283105022831,
          0.5075987841945289,
          0.5144157814871017,
          0.48484848484848486,
          0.5173978819969742,
          0.49697885196374625,
          0.5158371040723982,
          0.4759036144578313,
          0.5022556390977444,
          0.5045045045045045,
          0.4947526236881559,
          0.49850299401197606,
          0.5037369207772795,
          0.49701492537313435,
          0.5022354694485842,
          0.5223214285714286,
          0.4962852897473997,
          0.5,
          0.5155555555555555,
          0.5207100591715976,
          0.5007385524372231,
          0.5058997050147492,
          0.47128129602356406,
          0.5088235294117647,
          0.5227606461086637,
          0.4868035190615836,
          0.4685212298682284,
          0.48391812865497075,
          0.5138686131386861,
          0.5087463556851312,
          0.4745269286754003,
          0.5072674418604651,
          0.5108853410740203,
          0.5202898550724637,
          0.516642547033285,
          0.5014450867052023,
          0.5281385281385281,
          0.4610951008645533,
          0.5007194244604316,
          0.47988505747126436,
          0.45480631276901007,
          0.5071633237822349,
          0.5007153075822603,
          0.5214285714285715,
          0.4992867332382311,
          0.5170940170940171,
          0.5035561877667141,
          0.5014204545454546,
          0.500709219858156,
          0.5028328611898017,
          0.49222065063649223,
          0.4858757062146893,
          0.4978843441466855,
          0.5267605633802817,
          0.5358649789029536,
          0.5042134831460674,
          0.49368863955119213,
          0.5210084033613446,
          0.5272727272727272,
          0.5097765363128491,
          0.4797768479776848,
          0.5055710306406686,
          0.5076495132127955,
          0.5041666666666667,
          0.4882108183079057,
          0.5,
          0.5228215767634855,
          0.47790055248618785,
          0.4979310344827586,
          0.5137741046831956,
          0.49105914718019256,
          0.4835164835164835,
          0.4842249657064472,
          0.5315068493150685,
          0.4829001367989056,
          0.5027322404371585,
          0.5129604365620737,
          0.49727520435967304,
          0.4748299319727891,
          0.5285326086956522,
          0.4816824966078697,
          0.489159891598916,
          0.5087956698240866,
          0.47297297297297297,
          0.5222672064777328,
          0.5026954177897575,
          0.4791386271870794,
          0.47446236559139787,
          0.487248322147651,
          0.5201072386058981,
          0.47523427041499333,
          0.49064171122994654,
          0.5340453938584779,
          0.48533333333333334,
          0.4980026631158455,
          0.4787234042553192,
          0.5073041168658698,
          0.47480106100795755,
          0.48874172185430464,
          0.5092592592592593,
          0.4848084544253633,
          0.5105540897097626,
          0.4993412384716733,
          0.4789473684210526,
          0.519053876478318,
          0.5091863517060368,
          0.5399737876802096,
          0.5301047120418848,
          0.5111111111111111,
          0.48172323759791125,
          0.5136897001303781,
          0.4986979166666667,
          0.4980494148244473,
          0.4883116883116883,
          0.48638132295719844,
          0.4805699481865285,
          0.49805950840879687,
          0.5,
          0.5587096774193548,
          0.4652061855670103,
          0.5122265122265123,
          0.5038560411311054,
          0.5070603337612324,
          0.48846153846153845,
          0.4942381562099872,
          0.489769820971867,
          0.4763729246487867,
          0.5,
          0.5248407643312102,
          0.5229007633587787,
          0.4714104193138501,
          0.4949238578680203,
          0.47782002534854245,
          0.5,
          0.5132743362831859,
          0.49242424242424243,
          0.510718789407314,
          0.5050377833753149,
          0.5031446540880503,
          0.4962311557788945,
          0.49435382685069007,
          0.5100250626566416,
          0.49937421777221525,
          0.5075,
          0.5118601747815231,
          0.5074812967581047,
          0.5180572851805728,
          0.4975124378109453,
          0.4968944099378882,
          0.5012406947890818,
          0.4758364312267658,
          0.4777227722772277,
          0.5129789864029666,
          0.5222222222222223,
          0.4747225647348952,
          0.4815270935960591,
          0.5055350553505535,
          0.5417690417690417,
          0.4822085889570552,
          0.5183823529411765,
          0.4908200734394125,
          0.511002444987775,
          0.5103785103785103,
          0.47560975609756095,
          0.49086479902557856,
          0.4854014598540146,
          0.46780072904009723,
          0.5194174757281553,
          0.5212121212121212,
          0.4915254237288136,
          0.5405078597339782,
          0.501207729468599,
          0.5186972255729795,
          0.5012048192771085,
          0.49578820697954273,
          0.5204326923076923,
          0.5114045618247299,
          0.5143884892086331,
          0.5041916167664671,
          0.47248803827751196,
          0.5137395459976105,
          0.4904534606205251,
          0.47079856972586415,
          0.4988095238095238,
          0.4887039239001189,
          0.5,
          0.4863582443653618,
          0.495260663507109,
          0.4840236686390533,
          0.4657210401891253,
          0.4946871310507674,
          0.4964622641509434,
          0.48056537102473496,
          0.5047058823529412,
          0.5252643948296122,
          0.4847417840375587,
          0.5169988276670574,
          0.4918032786885246,
          0.4888888888888889,
          0.49182242990654207,
          0.514585764294049,
          0.48834498834498835,
          0.4551804423748545,
          0.5127906976744186,
          0.47619047619047616,
          0.4976798143851508,
          0.47740440324449596,
          0.48148148148148145,
          0.5098265895953757,
          0.476905311778291,
          0.5051903114186851,
          0.5241935483870968,
          0.49597238204833144,
          0.5137931034482759,
          0.4971297359357061,
          0.4954128440366973,
          0.5108820160366552,
          0.5022883295194508,
          0.4948571428571429,
          0.5319634703196348,
          0.475484606613455,
          0.5056947608200456,
          0.48350398179749715,
          0.525,
          0.48354143019296253,
          0.5045351473922902,
          0.522083805209513,
          0.4796380090497738,
          0.49265536723163844,
          0.48419864559819414,
          0.5253664036076663,
          0.5123873873873874,
          0.5275590551181102,
          0.5,
          0.5050505050505051,
          0.5179372197309418,
          0.5151175811870101,
          0.5022371364653244,
          0.5027932960893855,
          0.4921875,
          0.5206243032329989,
          0.4888641425389755,
          0.4883203559510567,
          0.47,
          0.4916759156492786,
          0.5011086474501109,
          0.5227021040974529,
          0.4856194690265487,
          0.5314917127071823,
          0.4977924944812362,
          0.49834619625137816,
          0.5286343612334802,
          0.5181518151815182,
          0.5142857142857142,
          0.4983534577387486,
          0.5274122807017544,
          0.5016429353778752,
          0.474835886214442,
          0.4885245901639344,
          0.5131004366812227,
          0.5081788440567067,
          0.48474945533769065,
          0.499455930359086,
          0.4956521739130435,
          0.495114006514658,
          0.5368763557483731,
          0.5070422535211268,
          0.5086580086580087,
          0.5481081081081081,
          0.5086393088552916,
          0.48004314994606256,
          0.5010775862068966,
          0.5199138858988159,
          0.5129032258064516,
          0.45005370569280345,
          0.4613733905579399,
          0.47481243301178994,
          0.493576017130621,
          0.5144385026737968,
          0.5267094017094017,
          0.48452508004268946,
          0.4968017057569296,
          0.4994675186368477,
          0.48829787234042554,
          0.49946865037194477,
          0.5233545647558386,
          0.49946977730646874,
          0.5,
          0.5259259259259259,
          0.5,
          0.4963041182682154,
          0.46624472573839665,
          0.5163329820864068,
          0.4726315789473684,
          0.5247108307045215,
          0.4800420168067227,
          0.45855194123819515,
          0.4968553459119497,
          0.4806282722513089,
          0.48640167364016734,
          0.4890282131661442,
          0.5062630480167014,
          0.5130344108446299,
          0.496875,
          0.4994797086368366,
          0.4698544698544699,
          0.4994807892004154,
          0.508298755186722,
          0.49326424870466323,
          0.515527950310559,
          0.4870734229576008,
          0.506198347107438,
          0.48606811145510836,
          0.5144329896907216,
          0.5169927909371782,
          0.4897119341563786,
          0.513874614594039,
          0.4856262833675565,
          0.4676923076923077,
          0.5092213114754098,
          0.510747185261003,
          0.4887525562372188,
          0.4882533197139939,
          0.5265306122448979,
          0.5137614678899083,
          0.5254582484725051,
          0.5198372329603256,
          0.49085365853658536,
          0.49238578680203043,
          0.49290060851926976,
          0.5086119554204661,
          0.4959514170040486,
          0.4954499494438827,
          0.502020202020202,
          0.49747729566094856,
          0.5282258064516129,
          0.513595166163142,
          0.5171026156941649,
          0.49748743718592964,
          0.5080321285140562,
          0.4834503510531595,
          0.49799599198396793,
          0.47147147147147145,
          0.516
         ],
         "yaxis": "y"
        }
       ],
       "layout": {
        "legend": {
         "tracegroupgap": 0
        },
        "margin": {
         "t": 60
        },
        "template": {
         "data": {
          "bar": [
           {
            "error_x": {
             "color": "#2a3f5f"
            },
            "error_y": {
             "color": "#2a3f5f"
            },
            "marker": {
             "line": {
              "color": "#E5ECF6",
              "width": 0.5
             },
             "pattern": {
              "fillmode": "overlay",
              "size": 10,
              "solidity": 0.2
             }
            },
            "type": "bar"
           }
          ],
          "barpolar": [
           {
            "marker": {
             "line": {
              "color": "#E5ECF6",
              "width": 0.5
             },
             "pattern": {
              "fillmode": "overlay",
              "size": 10,
              "solidity": 0.2
             }
            },
            "type": "barpolar"
           }
          ],
          "carpet": [
           {
            "aaxis": {
             "endlinecolor": "#2a3f5f",
             "gridcolor": "white",
             "linecolor": "white",
             "minorgridcolor": "white",
             "startlinecolor": "#2a3f5f"
            },
            "baxis": {
             "endlinecolor": "#2a3f5f",
             "gridcolor": "white",
             "linecolor": "white",
             "minorgridcolor": "white",
             "startlinecolor": "#2a3f5f"
            },
            "type": "carpet"
           }
          ],
          "choropleth": [
           {
            "colorbar": {
             "outlinewidth": 0,
             "ticks": ""
            },
            "type": "choropleth"
           }
          ],
          "contour": [
           {
            "colorbar": {
             "outlinewidth": 0,
             "ticks": ""
            },
            "colorscale": [
             [
              0,
              "#0d0887"
             ],
             [
              0.1111111111111111,
              "#46039f"
             ],
             [
              0.2222222222222222,
              "#7201a8"
             ],
             [
              0.3333333333333333,
              "#9c179e"
             ],
             [
              0.4444444444444444,
              "#bd3786"
             ],
             [
              0.5555555555555556,
              "#d8576b"
             ],
             [
              0.6666666666666666,
              "#ed7953"
             ],
             [
              0.7777777777777778,
              "#fb9f3a"
             ],
             [
              0.8888888888888888,
              "#fdca26"
             ],
             [
              1,
              "#f0f921"
             ]
            ],
            "type": "contour"
           }
          ],
          "contourcarpet": [
           {
            "colorbar": {
             "outlinewidth": 0,
             "ticks": ""
            },
            "type": "contourcarpet"
           }
          ],
          "heatmap": [
           {
            "colorbar": {
             "outlinewidth": 0,
             "ticks": ""
            },
            "colorscale": [
             [
              0,
              "#0d0887"
             ],
             [
              0.1111111111111111,
              "#46039f"
             ],
             [
              0.2222222222222222,
              "#7201a8"
             ],
             [
              0.3333333333333333,
              "#9c179e"
             ],
             [
              0.4444444444444444,
              "#bd3786"
             ],
             [
              0.5555555555555556,
              "#d8576b"
             ],
             [
              0.6666666666666666,
              "#ed7953"
             ],
             [
              0.7777777777777778,
              "#fb9f3a"
             ],
             [
              0.8888888888888888,
              "#fdca26"
             ],
             [
              1,
              "#f0f921"
             ]
            ],
            "type": "heatmap"
           }
          ],
          "heatmapgl": [
           {
            "colorbar": {
             "outlinewidth": 0,
             "ticks": ""
            },
            "colorscale": [
             [
              0,
              "#0d0887"
             ],
             [
              0.1111111111111111,
              "#46039f"
             ],
             [
              0.2222222222222222,
              "#7201a8"
             ],
             [
              0.3333333333333333,
              "#9c179e"
             ],
             [
              0.4444444444444444,
              "#bd3786"
             ],
             [
              0.5555555555555556,
              "#d8576b"
             ],
             [
              0.6666666666666666,
              "#ed7953"
             ],
             [
              0.7777777777777778,
              "#fb9f3a"
             ],
             [
              0.8888888888888888,
              "#fdca26"
             ],
             [
              1,
              "#f0f921"
             ]
            ],
            "type": "heatmapgl"
           }
          ],
          "histogram": [
           {
            "marker": {
             "pattern": {
              "fillmode": "overlay",
              "size": 10,
              "solidity": 0.2
             }
            },
            "type": "histogram"
           }
          ],
          "histogram2d": [
           {
            "colorbar": {
             "outlinewidth": 0,
             "ticks": ""
            },
            "colorscale": [
             [
              0,
              "#0d0887"
             ],
             [
              0.1111111111111111,
              "#46039f"
             ],
             [
              0.2222222222222222,
              "#7201a8"
             ],
             [
              0.3333333333333333,
              "#9c179e"
             ],
             [
              0.4444444444444444,
              "#bd3786"
             ],
             [
              0.5555555555555556,
              "#d8576b"
             ],
             [
              0.6666666666666666,
              "#ed7953"
             ],
             [
              0.7777777777777778,
              "#fb9f3a"
             ],
             [
              0.8888888888888888,
              "#fdca26"
             ],
             [
              1,
              "#f0f921"
             ]
            ],
            "type": "histogram2d"
           }
          ],
          "histogram2dcontour": [
           {
            "colorbar": {
             "outlinewidth": 0,
             "ticks": ""
            },
            "colorscale": [
             [
              0,
              "#0d0887"
             ],
             [
              0.1111111111111111,
              "#46039f"
             ],
             [
              0.2222222222222222,
              "#7201a8"
             ],
             [
              0.3333333333333333,
              "#9c179e"
             ],
             [
              0.4444444444444444,
              "#bd3786"
             ],
             [
              0.5555555555555556,
              "#d8576b"
             ],
             [
              0.6666666666666666,
              "#ed7953"
             ],
             [
              0.7777777777777778,
              "#fb9f3a"
             ],
             [
              0.8888888888888888,
              "#fdca26"
             ],
             [
              1,
              "#f0f921"
             ]
            ],
            "type": "histogram2dcontour"
           }
          ],
          "mesh3d": [
           {
            "colorbar": {
             "outlinewidth": 0,
             "ticks": ""
            },
            "type": "mesh3d"
           }
          ],
          "parcoords": [
           {
            "line": {
             "colorbar": {
              "outlinewidth": 0,
              "ticks": ""
             }
            },
            "type": "parcoords"
           }
          ],
          "pie": [
           {
            "automargin": true,
            "type": "pie"
           }
          ],
          "scatter": [
           {
            "fillpattern": {
             "fillmode": "overlay",
             "size": 10,
             "solidity": 0.2
            },
            "type": "scatter"
           }
          ],
          "scatter3d": [
           {
            "line": {
             "colorbar": {
              "outlinewidth": 0,
              "ticks": ""
             }
            },
            "marker": {
             "colorbar": {
              "outlinewidth": 0,
              "ticks": ""
             }
            },
            "type": "scatter3d"
           }
          ],
          "scattercarpet": [
           {
            "marker": {
             "colorbar": {
              "outlinewidth": 0,
              "ticks": ""
             }
            },
            "type": "scattercarpet"
           }
          ],
          "scattergeo": [
           {
            "marker": {
             "colorbar": {
              "outlinewidth": 0,
              "ticks": ""
             }
            },
            "type": "scattergeo"
           }
          ],
          "scattergl": [
           {
            "marker": {
             "colorbar": {
              "outlinewidth": 0,
              "ticks": ""
             }
            },
            "type": "scattergl"
           }
          ],
          "scattermapbox": [
           {
            "marker": {
             "colorbar": {
              "outlinewidth": 0,
              "ticks": ""
             }
            },
            "type": "scattermapbox"
           }
          ],
          "scatterpolar": [
           {
            "marker": {
             "colorbar": {
              "outlinewidth": 0,
              "ticks": ""
             }
            },
            "type": "scatterpolar"
           }
          ],
          "scatterpolargl": [
           {
            "marker": {
             "colorbar": {
              "outlinewidth": 0,
              "ticks": ""
             }
            },
            "type": "scatterpolargl"
           }
          ],
          "scatterternary": [
           {
            "marker": {
             "colorbar": {
              "outlinewidth": 0,
              "ticks": ""
             }
            },
            "type": "scatterternary"
           }
          ],
          "surface": [
           {
            "colorbar": {
             "outlinewidth": 0,
             "ticks": ""
            },
            "colorscale": [
             [
              0,
              "#0d0887"
             ],
             [
              0.1111111111111111,
              "#46039f"
             ],
             [
              0.2222222222222222,
              "#7201a8"
             ],
             [
              0.3333333333333333,
              "#9c179e"
             ],
             [
              0.4444444444444444,
              "#bd3786"
             ],
             [
              0.5555555555555556,
              "#d8576b"
             ],
             [
              0.6666666666666666,
              "#ed7953"
             ],
             [
              0.7777777777777778,
              "#fb9f3a"
             ],
             [
              0.8888888888888888,
              "#fdca26"
             ],
             [
              1,
              "#f0f921"
             ]
            ],
            "type": "surface"
           }
          ],
          "table": [
           {
            "cells": {
             "fill": {
              "color": "#EBF0F8"
             },
             "line": {
              "color": "white"
             }
            },
            "header": {
             "fill": {
              "color": "#C8D4E3"
             },
             "line": {
              "color": "white"
             }
            },
            "type": "table"
           }
          ]
         },
         "layout": {
          "annotationdefaults": {
           "arrowcolor": "#2a3f5f",
           "arrowhead": 0,
           "arrowwidth": 1
          },
          "autotypenumbers": "strict",
          "coloraxis": {
           "colorbar": {
            "outlinewidth": 0,
            "ticks": ""
           }
          },
          "colorscale": {
           "diverging": [
            [
             0,
             "#8e0152"
            ],
            [
             0.1,
             "#c51b7d"
            ],
            [
             0.2,
             "#de77ae"
            ],
            [
             0.3,
             "#f1b6da"
            ],
            [
             0.4,
             "#fde0ef"
            ],
            [
             0.5,
             "#f7f7f7"
            ],
            [
             0.6,
             "#e6f5d0"
            ],
            [
             0.7,
             "#b8e186"
            ],
            [
             0.8,
             "#7fbc41"
            ],
            [
             0.9,
             "#4d9221"
            ],
            [
             1,
             "#276419"
            ]
           ],
           "sequential": [
            [
             0,
             "#0d0887"
            ],
            [
             0.1111111111111111,
             "#46039f"
            ],
            [
             0.2222222222222222,
             "#7201a8"
            ],
            [
             0.3333333333333333,
             "#9c179e"
            ],
            [
             0.4444444444444444,
             "#bd3786"
            ],
            [
             0.5555555555555556,
             "#d8576b"
            ],
            [
             0.6666666666666666,
             "#ed7953"
            ],
            [
             0.7777777777777778,
             "#fb9f3a"
            ],
            [
             0.8888888888888888,
             "#fdca26"
            ],
            [
             1,
             "#f0f921"
            ]
           ],
           "sequentialminus": [
            [
             0,
             "#0d0887"
            ],
            [
             0.1111111111111111,
             "#46039f"
            ],
            [
             0.2222222222222222,
             "#7201a8"
            ],
            [
             0.3333333333333333,
             "#9c179e"
            ],
            [
             0.4444444444444444,
             "#bd3786"
            ],
            [
             0.5555555555555556,
             "#d8576b"
            ],
            [
             0.6666666666666666,
             "#ed7953"
            ],
            [
             0.7777777777777778,
             "#fb9f3a"
            ],
            [
             0.8888888888888888,
             "#fdca26"
            ],
            [
             1,
             "#f0f921"
            ]
           ]
          },
          "colorway": [
           "#636efa",
           "#EF553B",
           "#00cc96",
           "#ab63fa",
           "#FFA15A",
           "#19d3f3",
           "#FF6692",
           "#B6E880",
           "#FF97FF",
           "#FECB52"
          ],
          "font": {
           "color": "#2a3f5f"
          },
          "geo": {
           "bgcolor": "white",
           "lakecolor": "white",
           "landcolor": "#E5ECF6",
           "showlakes": true,
           "showland": true,
           "subunitcolor": "white"
          },
          "hoverlabel": {
           "align": "left"
          },
          "hovermode": "closest",
          "mapbox": {
           "style": "light"
          },
          "paper_bgcolor": "white",
          "plot_bgcolor": "#E5ECF6",
          "polar": {
           "angularaxis": {
            "gridcolor": "white",
            "linecolor": "white",
            "ticks": ""
           },
           "bgcolor": "#E5ECF6",
           "radialaxis": {
            "gridcolor": "white",
            "linecolor": "white",
            "ticks": ""
           }
          },
          "scene": {
           "xaxis": {
            "backgroundcolor": "#E5ECF6",
            "gridcolor": "white",
            "gridwidth": 2,
            "linecolor": "white",
            "showbackground": true,
            "ticks": "",
            "zerolinecolor": "white"
           },
           "yaxis": {
            "backgroundcolor": "#E5ECF6",
            "gridcolor": "white",
            "gridwidth": 2,
            "linecolor": "white",
            "showbackground": true,
            "ticks": "",
            "zerolinecolor": "white"
           },
           "zaxis": {
            "backgroundcolor": "#E5ECF6",
            "gridcolor": "white",
            "gridwidth": 2,
            "linecolor": "white",
            "showbackground": true,
            "ticks": "",
            "zerolinecolor": "white"
           }
          },
          "shapedefaults": {
           "line": {
            "color": "#2a3f5f"
           }
          },
          "ternary": {
           "aaxis": {
            "gridcolor": "white",
            "linecolor": "white",
            "ticks": ""
           },
           "baxis": {
            "gridcolor": "white",
            "linecolor": "white",
            "ticks": ""
           },
           "bgcolor": "#E5ECF6",
           "caxis": {
            "gridcolor": "white",
            "linecolor": "white",
            "ticks": ""
           }
          },
          "title": {
           "x": 0.05
          },
          "xaxis": {
           "automargin": true,
           "gridcolor": "white",
           "linecolor": "white",
           "ticks": "",
           "title": {
            "standoff": 15
           },
           "zerolinecolor": "white",
           "zerolinewidth": 2
          },
          "yaxis": {
           "automargin": true,
           "gridcolor": "white",
           "linecolor": "white",
           "ticks": "",
           "title": {
            "standoff": 15
           },
           "zerolinecolor": "white",
           "zerolinewidth": 2
          }
         }
        },
        "xaxis": {
         "anchor": "y",
         "domain": [
          0,
          1
         ],
         "title": {
          "text": "x"
         }
        },
        "yaxis": {
         "anchor": "x",
         "domain": [
          0,
          1
         ],
         "title": {
          "text": "y"
         }
        }
       }
      }
     },
     "metadata": {},
     "output_type": "display_data"
    }
   ],
   "source": [
    "# import matplotlib.pyplot as plt\n",
    "\n",
    "# plt.plot(percentages)\n",
    "import plotly.express as px \n",
    "\n",
    "px.line(x=range(1, NUM_ITER+1), y=percentages)\n",
    "# add horizontal line at 50%\n",
    "\n",
    "Bernuli distribution "
   ]
  },
  {
   "cell_type": "code",
   "execution_count": 105,
   "metadata": {},
   "outputs": [
    {
     "name": "stdout",
     "output_type": "stream",
     "text": [
      "{5: 3033, 0: 3152, 1: 15405, 4: 15873, 2: 31103, 3: 31434}\n"
     ]
    },
    {
     "data": {
      "text/plain": [
       "{5: 3.033,\n",
       " 0: 3.152,\n",
       " 1: 15.405,\n",
       " 4: 15.873000000000001,\n",
       " 2: 31.102999999999998,\n",
       " 3: 31.434}"
      ]
     },
     "execution_count": 105,
     "metadata": {},
     "output_type": "execute_result"
    }
   ],
   "source": [
    "get_distribution(100_000)"
   ]
  },
  {
   "cell_type": "markdown",
   "metadata": {},
   "source": [
    "# 🏡Տնային\n",
    "## Հիմնական տնային\n",
    "1. Profound [բաժին 28](https://profound.academy/hy/python-introduction/f-YMOie0f7QDVQcwZx9Jks) (Lambda և բարձր կարգի ֆունկցիաներ) - լրիվ\n",
    "2. Կարող եք նաև անել տնայիններ Profound-ի միջին մակարդակի դասընթացի համապատասխան [բաժնից](https://profound.academy/hy/python-mid/d-ev-keyword-5LvKxDSUICCBH7Z96b1n)\n",
    "\n",
    "## Լուծումներ\n",
    "- [Որոշ խնդիրների վիդեոլուծումներ (ToDo)](ToDo)\n",
    "- [Բոլոր խնդիրների լուծումներ / նշումներ (ToDo)]()\n"
   ]
  },
  {
   "cell_type": "markdown",
   "metadata": {},
   "source": [
    "# 🎲 8\n",
    "- ▶️[Video](https://www.youtube.com/watch?v=r9LCwI5iErE)\n",
    "- ▶️[Video 🔥](https://youtu.be/7juVCQFAVys)\n",
    "- 🇦🇲🎶[Հարաքաշ](https://www.youtube.com/watch?v=_jYAMVQYYJM)\n",
    "- 🌐🎶[Debussy](https://www.youtube.com/watch?v=0tsRu5_pmVo)\n",
    "- 🤌[Կարգին](https://www.youtube.com/watch?v=Cwo1ZwjbfBg)"
   ]
  },
  {
   "cell_type": "markdown",
   "metadata": {},
   "source": [
    "\n",
    "<a href=\"http://s01.flagcounter.com/more/1oO\"><img src=\"https://s01.flagcounter.com/count2/1oO/bg_FFFFFF/txt_000000/border_CCCCCC/columns_2/maxflags_10/viewers_0/labels_0/pageviews_1/flags_0/percent_0/\" alt=\"Flag Counter\"></a>\n"
   ]
  }
 ],
 "metadata": {
  "colab": {
   "authorship_tag": "ABX9TyNFvj8xPbakjA6hRSBTsBj9",
   "provenance": [
    {
     "file_id": "1JVw8Xaj6Z2bN0dvY51AKWiutz-cwauZ3",
     "timestamp": 1734627312643
    },
    {
     "file_id": "1QXB9qZTX3Uuc29Pq_2AcIxwZovDYcYgN",
     "timestamp": 1712764647483
    },
    {
     "file_id": "1U8VjCYcEFdXBzqYLeBuv1vEOy1XvWonx",
     "timestamp": 1683302002877
    }
   ]
  },
  "kernelspec": {
   "display_name": "Python 3",
   "name": "python3"
  },
  "language_info": {
   "codemirror_mode": {
    "name": "ipython",
    "version": 3
   },
   "file_extension": ".py",
   "mimetype": "text/x-python",
   "name": "python",
   "nbconvert_exporter": "python",
   "pygments_lexer": "ipython3",
   "version": "3.10.14"
  }
 },
 "nbformat": 4,
 "nbformat_minor": 0
}

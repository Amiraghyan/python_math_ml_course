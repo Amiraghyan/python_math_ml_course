{
 "cells": [
  {
   "cell_type": "raw",
   "metadata": {},
   "source": [
    "---\n",
    "title: \"08 Functions 2\"\n",
    "format: \n",
    "  html:\n",
    "    code-fold: false\n",
    "number-offset: 1\n",
    "---"
   ]
  },
  {
   "cell_type": "markdown",
   "metadata": {
    "id": "coU7yL_597RT"
   },
   "source": [
    "# Docstrings"
   ]
  },
  {
   "cell_type": "code",
   "execution_count": 1,
   "metadata": {
    "colab": {
     "base_uri": "https://localhost:8080/"
    },
    "executionInfo": {
     "elapsed": 308,
     "status": "ok",
     "timestamp": 1734631186331,
     "user": {
      "displayName": "509 Academy",
      "userId": "04290973032679126188"
     },
     "user_tz": -60
    },
    "id": "4f5w0oda9epP",
    "outputId": "dfd6755c-115e-4941-e704-dbdc6c6c3f45"
   },
   "outputs": [
    {
     "name": "stdout",
     "output_type": "stream",
     "text": [
      "Help on built-in function sum in module builtins:\n",
      "\n",
      "sum(iterable, /, start=0)\n",
      "    Return the sum of a 'start' value (default: 0) plus an iterable of numbers\n",
      "    \n",
      "    When the iterable is empty, return the start value.\n",
      "    This function is intended specifically for use with numeric values and may\n",
      "    reject non-numeric types.\n",
      "\n"
     ]
    }
   ],
   "source": [
    "help(sum)"
   ]
  },
  {
   "cell_type": "code",
   "execution_count": null,
   "metadata": {
    "id": "rYnVY-w02waO"
   },
   "outputs": [],
   "source": [
    "a = 3\n",
    "\n",
    "print(help(a))"
   ]
  },
  {
   "cell_type": "code",
   "execution_count": null,
   "metadata": {
    "id": "I4MWr4pM3Icn"
   },
   "outputs": [],
   "source": [
    "https://pandas.pydata.org/docs/reference/api/pandas.Series.values.html\n",
    "\n",
    "https://github.com/pandas-dev/pandas/blob/v2.0.0/pandas/core/series.py#L681-L721"
   ]
  },
  {
   "cell_type": "code",
   "execution_count": 2,
   "metadata": {
    "executionInfo": {
     "elapsed": 293,
     "status": "ok",
     "timestamp": 1734631447332,
     "user": {
      "displayName": "509 Academy",
      "userId": "04290973032679126188"
     },
     "user_tz": -60
    },
    "id": "Ui3Fctmz6I-M"
   },
   "outputs": [],
   "source": [
    "def calculate_square_root(x): # documentation string -> docstring\n",
    "    \"\"\"Function calculates the square root of an input\n",
    "\n",
    "    Note:\n",
    "        If the input is a negative number, will return a warning message\n",
    "\n",
    "    Args:\n",
    "        x (float): Number to calculate the square root of\n",
    "\n",
    "    Returns:\n",
    "        sqrt_x (float or str): if applicable will return square root of the input\n",
    "                               otherwise will return an error message\n",
    "\n",
    "    Examples:\n",
    "        >>>calculate_square_root(4)\n",
    "        2\n",
    "    \"\"\"\n",
    "    if x < 0:\n",
    "        sqrt_x = 'նո նո նո, չի կարելի'\n",
    "    else:\n",
    "        sqrt_x = x**0.5\n",
    "\n",
    "    return sqrt_x"
   ]
  },
  {
   "cell_type": "code",
   "execution_count": 6,
   "metadata": {
    "colab": {
     "base_uri": "https://localhost:8080/"
    },
    "executionInfo": {
     "elapsed": 449,
     "status": "ok",
     "timestamp": 1734631448899,
     "user": {
      "displayName": "509 Academy",
      "userId": "04290973032679126188"
     },
     "user_tz": -60
    },
    "id": "vI2HZ97Q7Ju-",
    "outputId": "4a3515b4-7fb0-4e37-fdf6-415a7e1c8e0a"
   },
   "outputs": [
    {
     "data": {
      "text/plain": [
       "1.0"
      ]
     },
     "execution_count": 6,
     "metadata": {},
     "output_type": "execute_result"
    }
   ],
   "source": [
    "calculate_square_root(1)"
   ]
  },
  {
   "cell_type": "code",
   "execution_count": 3,
   "metadata": {
    "colab": {
     "base_uri": "https://localhost:8080/"
    },
    "executionInfo": {
     "elapsed": 5,
     "status": "ok",
     "timestamp": 1734631449266,
     "user": {
      "displayName": "509 Academy",
      "userId": "04290973032679126188"
     },
     "user_tz": -60
    },
    "id": "_Tob-FF8-ARS",
    "outputId": "4c516cd1-377d-48ae-e9c8-f1fa480bac31"
   },
   "outputs": [
    {
     "name": "stdout",
     "output_type": "stream",
     "text": [
      "Help on function calculate_square_root in module __main__:\n",
      "\n",
      "calculate_square_root(x)\n",
      "    Function calculates the square root of an input\n",
      "    \n",
      "    Note:\n",
      "        If the input is a negative number, will return a warning message\n",
      "    \n",
      "    Args:\n",
      "        x (float): Number to calculate the square root of\n",
      "    \n",
      "    Returns:\n",
      "        sqrt_x (float or str): if applicable will return square root of the input\n",
      "                               otherwise will return an error message\n",
      "    \n",
      "    Examples:\n",
      "        >>>calculate_square_root(4)\n",
      "        2\n",
      "\n"
     ]
    }
   ],
   "source": [
    "help(calculate_square_root)"
   ]
  },
  {
   "cell_type": "code",
   "execution_count": null,
   "metadata": {
    "colab": {
     "base_uri": "https://localhost:8080/",
     "height": 89
    },
    "executionInfo": {
     "elapsed": 429,
     "status": "ok",
     "timestamp": 1712765734176,
     "user": {
      "displayName": "509 Academy",
      "userId": "04290973032679126188"
     },
     "user_tz": -240
    },
    "id": "MmWqZWOmZM6H",
    "outputId": "ee547daf-7885-4a49-b7ab-eaf25dff0ab2"
   },
   "outputs": [
    {
     "data": {
      "application/vnd.google.colaboratory.intrinsic+json": {
       "type": "string"
      },
      "text/plain": [
       "'Function calculates the square root of an input\\n\\n    Note:\\n        If the input is a negative number, will return a warning message\\n\\n    Args:\\n        x (float): Number to calculate the square root of\\n\\n    Returns:\\n        sqrt_x (float or str): if applicable will return square root of the input\\n                               otherwise will return an error message\\n\\n    Examples:\\n        >>>calculate_square_root(4)\\n        2\\n    '"
      ]
     },
     "execution_count": 6,
     "metadata": {},
     "output_type": "execute_result"
    }
   ],
   "source": [
    "calculate_square_root.__doc__"
   ]
  },
  {
   "cell_type": "code",
   "execution_count": 8,
   "metadata": {
    "colab": {
     "base_uri": "https://localhost:8080/"
    },
    "executionInfo": {
     "elapsed": 328,
     "status": "ok",
     "timestamp": 1734631782296,
     "user": {
      "displayName": "509 Academy",
      "userId": "04290973032679126188"
     },
     "user_tz": -60
    },
    "id": "0C6GUbx9HFbG",
    "outputId": "7d56a17f-619d-4c93-c1c3-c4428d346796"
   },
   "outputs": [
    {
     "data": {
      "text/plain": [
       "function"
      ]
     },
     "execution_count": 8,
     "metadata": {},
     "output_type": "execute_result"
    }
   ],
   "source": [
    "type(calculate_square_root)"
   ]
  },
  {
   "cell_type": "code",
   "execution_count": 4,
   "metadata": {
    "id": "E__BZLNI7Rrx"
   },
   "outputs": [],
   "source": [
    "import random"
   ]
  },
  {
   "cell_type": "code",
   "execution_count": null,
   "metadata": {
    "colab": {
     "base_uri": "https://localhost:8080/"
    },
    "executionInfo": {
     "elapsed": 349,
     "status": "ok",
     "timestamp": 1712765751548,
     "user": {
      "displayName": "509 Academy",
      "userId": "04290973032679126188"
     },
     "user_tz": -240
    },
    "id": "OZ7OmJjc7S_6",
    "outputId": "723703cf-b6b3-4baf-b35c-fd4718d74f29"
   },
   "outputs": [
    {
     "data": {
      "text/plain": [
       "<module 'random' from '/usr/lib/python3.10/random.py'>"
      ]
     },
     "execution_count": 8,
     "metadata": {},
     "output_type": "execute_result"
    }
   ],
   "source": [
    "random # hover on random"
   ]
  },
  {
   "cell_type": "code",
   "execution_count": 5,
   "metadata": {
    "id": "xyCa5J5EY4lH"
   },
   "outputs": [
    {
     "name": "stdout",
     "output_type": "stream",
     "text": [
      "Help on module random:\n",
      "\n",
      "NAME\n",
      "    random - Random variable generators.\n",
      "\n",
      "MODULE REFERENCE\n",
      "    https://docs.python.org/3.10/library/random.html\n",
      "    \n",
      "    The following documentation is automatically generated from the Python\n",
      "    source files.  It may be incomplete, incorrect or include features that\n",
      "    are considered implementation detail and may vary between Python\n",
      "    implementations.  When in doubt, consult the module reference at the\n",
      "    location listed above.\n",
      "\n",
      "DESCRIPTION\n",
      "        bytes\n",
      "        -----\n",
      "               uniform bytes (values between 0 and 255)\n",
      "    \n",
      "        integers\n",
      "        --------\n",
      "               uniform within range\n",
      "    \n",
      "        sequences\n",
      "        ---------\n",
      "               pick random element\n",
      "               pick random sample\n",
      "               pick weighted random sample\n",
      "               generate random permutation\n",
      "    \n",
      "        distributions on the real line:\n",
      "        ------------------------------\n",
      "               uniform\n",
      "               triangular\n",
      "               normal (Gaussian)\n",
      "               lognormal\n",
      "               negative exponential\n",
      "               gamma\n",
      "               beta\n",
      "               pareto\n",
      "               Weibull\n",
      "    \n",
      "        distributions on the circle (angles 0 to 2pi)\n",
      "        ---------------------------------------------\n",
      "               circular uniform\n",
      "               von Mises\n",
      "    \n",
      "    General notes on the underlying Mersenne Twister core generator:\n",
      "    \n",
      "    * The period is 2**19937-1.\n",
      "    * It is one of the most extensively tested generators in existence.\n",
      "    * The random() method is implemented in C, executes in a single Python step,\n",
      "      and is, therefore, threadsafe.\n",
      "\n",
      "CLASSES\n",
      "    _random.Random(builtins.object)\n",
      "        Random\n",
      "            SystemRandom\n",
      "    \n",
      "    class Random(_random.Random)\n",
      "     |  Random(x=None)\n",
      "     |  \n",
      "     |  Random number generator base class used by bound module functions.\n",
      "     |  \n",
      "     |  Used to instantiate instances of Random to get generators that don't\n",
      "     |  share state.\n",
      "     |  \n",
      "     |  Class Random can also be subclassed if you want to use a different basic\n",
      "     |  generator of your own devising: in that case, override the following\n",
      "     |  methods:  random(), seed(), getstate(), and setstate().\n",
      "     |  Optionally, implement a getrandbits() method so that randrange()\n",
      "     |  can cover arbitrarily large ranges.\n",
      "     |  \n",
      "     |  Method resolution order:\n",
      "     |      Random\n",
      "     |      _random.Random\n",
      "     |      builtins.object\n",
      "     |  \n",
      "     |  Methods defined here:\n",
      "     |  \n",
      "     |  __getstate__(self)\n",
      "     |      # Issue 17489: Since __reduce__ was defined to fix #759889 this is no\n",
      "     |      # longer called; we leave it here because it has been here since random was\n",
      "     |      # rewritten back in 2001 and why risk breaking something.\n",
      "     |  \n",
      "     |  __init__(self, x=None)\n",
      "     |      Initialize an instance.\n",
      "     |      \n",
      "     |      Optional argument x controls seeding, as for Random.seed().\n",
      "     |  \n",
      "     |  __reduce__(self)\n",
      "     |      Helper for pickle.\n",
      "     |  \n",
      "     |  __setstate__(self, state)\n",
      "     |  \n",
      "     |  betavariate(self, alpha, beta)\n",
      "     |      Beta distribution.\n",
      "     |      \n",
      "     |      Conditions on the parameters are alpha > 0 and beta > 0.\n",
      "     |      Returned values range between 0 and 1.\n",
      "     |  \n",
      "     |  choice(self, seq)\n",
      "     |      Choose a random element from a non-empty sequence.\n",
      "     |  \n",
      "     |  choices(self, population, weights=None, *, cum_weights=None, k=1)\n",
      "     |      Return a k sized list of population elements chosen with replacement.\n",
      "     |      \n",
      "     |      If the relative weights or cumulative weights are not specified,\n",
      "     |      the selections are made with equal probability.\n",
      "     |  \n",
      "     |  expovariate(self, lambd)\n",
      "     |      Exponential distribution.\n",
      "     |      \n",
      "     |      lambd is 1.0 divided by the desired mean.  It should be\n",
      "     |      nonzero.  (The parameter would be called \"lambda\", but that is\n",
      "     |      a reserved word in Python.)  Returned values range from 0 to\n",
      "     |      positive infinity if lambd is positive, and from negative\n",
      "     |      infinity to 0 if lambd is negative.\n",
      "     |  \n",
      "     |  gammavariate(self, alpha, beta)\n",
      "     |      Gamma distribution.  Not the gamma function!\n",
      "     |      \n",
      "     |      Conditions on the parameters are alpha > 0 and beta > 0.\n",
      "     |      \n",
      "     |      The probability distribution function is:\n",
      "     |      \n",
      "     |                  x ** (alpha - 1) * math.exp(-x / beta)\n",
      "     |        pdf(x) =  --------------------------------------\n",
      "     |                    math.gamma(alpha) * beta ** alpha\n",
      "     |  \n",
      "     |  gauss(self, mu, sigma)\n",
      "     |      Gaussian distribution.\n",
      "     |      \n",
      "     |      mu is the mean, and sigma is the standard deviation.  This is\n",
      "     |      slightly faster than the normalvariate() function.\n",
      "     |      \n",
      "     |      Not thread-safe without a lock around calls.\n",
      "     |  \n",
      "     |  getstate(self)\n",
      "     |      Return internal state; can be passed to setstate() later.\n",
      "     |  \n",
      "     |  lognormvariate(self, mu, sigma)\n",
      "     |      Log normal distribution.\n",
      "     |      \n",
      "     |      If you take the natural logarithm of this distribution, you'll get a\n",
      "     |      normal distribution with mean mu and standard deviation sigma.\n",
      "     |      mu can have any value, and sigma must be greater than zero.\n",
      "     |  \n",
      "     |  normalvariate(self, mu, sigma)\n",
      "     |      Normal distribution.\n",
      "     |      \n",
      "     |      mu is the mean, and sigma is the standard deviation.\n",
      "     |  \n",
      "     |  paretovariate(self, alpha)\n",
      "     |      Pareto distribution.  alpha is the shape parameter.\n",
      "     |  \n",
      "     |  randbytes(self, n)\n",
      "     |      Generate n random bytes.\n",
      "     |  \n",
      "     |  randint(self, a, b)\n",
      "     |      Return random integer in range [a, b], including both end points.\n",
      "     |  \n",
      "     |  randrange(self, start, stop=None, step=1)\n",
      "     |      Choose a random item from range(start, stop[, step]).\n",
      "     |      \n",
      "     |      This fixes the problem with randint() which includes the\n",
      "     |      endpoint; in Python this is usually not what you want.\n",
      "     |  \n",
      "     |  sample(self, population, k, *, counts=None)\n",
      "     |      Chooses k unique random elements from a population sequence or set.\n",
      "     |      \n",
      "     |      Returns a new list containing elements from the population while\n",
      "     |      leaving the original population unchanged.  The resulting list is\n",
      "     |      in selection order so that all sub-slices will also be valid random\n",
      "     |      samples.  This allows raffle winners (the sample) to be partitioned\n",
      "     |      into grand prize and second place winners (the subslices).\n",
      "     |      \n",
      "     |      Members of the population need not be hashable or unique.  If the\n",
      "     |      population contains repeats, then each occurrence is a possible\n",
      "     |      selection in the sample.\n",
      "     |      \n",
      "     |      Repeated elements can be specified one at a time or with the optional\n",
      "     |      counts parameter.  For example:\n",
      "     |      \n",
      "     |          sample(['red', 'blue'], counts=[4, 2], k=5)\n",
      "     |      \n",
      "     |      is equivalent to:\n",
      "     |      \n",
      "     |          sample(['red', 'red', 'red', 'red', 'blue', 'blue'], k=5)\n",
      "     |      \n",
      "     |      To choose a sample from a range of integers, use range() for the\n",
      "     |      population argument.  This is especially fast and space efficient\n",
      "     |      for sampling from a large population:\n",
      "     |      \n",
      "     |          sample(range(10000000), 60)\n",
      "     |  \n",
      "     |  seed(self, a=None, version=2)\n",
      "     |      Initialize internal state from a seed.\n",
      "     |      \n",
      "     |      The only supported seed types are None, int, float,\n",
      "     |      str, bytes, and bytearray.\n",
      "     |      \n",
      "     |      None or no argument seeds from current time or from an operating\n",
      "     |      system specific randomness source if available.\n",
      "     |      \n",
      "     |      If *a* is an int, all bits are used.\n",
      "     |      \n",
      "     |      For version 2 (the default), all of the bits are used if *a* is a str,\n",
      "     |      bytes, or bytearray.  For version 1 (provided for reproducing random\n",
      "     |      sequences from older versions of Python), the algorithm for str and\n",
      "     |      bytes generates a narrower range of seeds.\n",
      "     |  \n",
      "     |  setstate(self, state)\n",
      "     |      Restore internal state from object returned by getstate().\n",
      "     |  \n",
      "     |  shuffle(self, x, random=None)\n",
      "     |      Shuffle list x in place, and return None.\n",
      "     |      \n",
      "     |      Optional argument random is a 0-argument function returning a\n",
      "     |      random float in [0.0, 1.0); if it is the default None, the\n",
      "     |      standard random.random will be used.\n",
      "     |  \n",
      "     |  triangular(self, low=0.0, high=1.0, mode=None)\n",
      "     |      Triangular distribution.\n",
      "     |      \n",
      "     |      Continuous distribution bounded by given lower and upper limits,\n",
      "     |      and having a given mode value in-between.\n",
      "     |      \n",
      "     |      http://en.wikipedia.org/wiki/Triangular_distribution\n",
      "     |  \n",
      "     |  uniform(self, a, b)\n",
      "     |      Get a random number in the range [a, b) or [a, b] depending on rounding.\n",
      "     |  \n",
      "     |  vonmisesvariate(self, mu, kappa)\n",
      "     |      Circular data distribution.\n",
      "     |      \n",
      "     |      mu is the mean angle, expressed in radians between 0 and 2*pi, and\n",
      "     |      kappa is the concentration parameter, which must be greater than or\n",
      "     |      equal to zero.  If kappa is equal to zero, this distribution reduces\n",
      "     |      to a uniform random angle over the range 0 to 2*pi.\n",
      "     |  \n",
      "     |  weibullvariate(self, alpha, beta)\n",
      "     |      Weibull distribution.\n",
      "     |      \n",
      "     |      alpha is the scale parameter and beta is the shape parameter.\n",
      "     |  \n",
      "     |  ----------------------------------------------------------------------\n",
      "     |  Class methods defined here:\n",
      "     |  \n",
      "     |  __init_subclass__(**kwargs) from builtins.type\n",
      "     |      Control how subclasses generate random integers.\n",
      "     |      \n",
      "     |      The algorithm a subclass can use depends on the random() and/or\n",
      "     |      getrandbits() implementation available to it and determines\n",
      "     |      whether it can generate random integers from arbitrarily large\n",
      "     |      ranges.\n",
      "     |  \n",
      "     |  ----------------------------------------------------------------------\n",
      "     |  Data descriptors defined here:\n",
      "     |  \n",
      "     |  __dict__\n",
      "     |      dictionary for instance variables (if defined)\n",
      "     |  \n",
      "     |  __weakref__\n",
      "     |      list of weak references to the object (if defined)\n",
      "     |  \n",
      "     |  ----------------------------------------------------------------------\n",
      "     |  Data and other attributes defined here:\n",
      "     |  \n",
      "     |  VERSION = 3\n",
      "     |  \n",
      "     |  ----------------------------------------------------------------------\n",
      "     |  Methods inherited from _random.Random:\n",
      "     |  \n",
      "     |  getrandbits(self, k, /)\n",
      "     |      getrandbits(k) -> x.  Generates an int with k random bits.\n",
      "     |  \n",
      "     |  random(self, /)\n",
      "     |      random() -> x in the interval [0, 1).\n",
      "     |  \n",
      "     |  ----------------------------------------------------------------------\n",
      "     |  Static methods inherited from _random.Random:\n",
      "     |  \n",
      "     |  __new__(*args, **kwargs) from builtins.type\n",
      "     |      Create and return a new object.  See help(type) for accurate signature.\n",
      "    \n",
      "    class SystemRandom(Random)\n",
      "     |  SystemRandom(x=None)\n",
      "     |  \n",
      "     |  Alternate random number generator using sources provided\n",
      "     |  by the operating system (such as /dev/urandom on Unix or\n",
      "     |  CryptGenRandom on Windows).\n",
      "     |  \n",
      "     |   Not available on all systems (see os.urandom() for details).\n",
      "     |  \n",
      "     |  Method resolution order:\n",
      "     |      SystemRandom\n",
      "     |      Random\n",
      "     |      _random.Random\n",
      "     |      builtins.object\n",
      "     |  \n",
      "     |  Methods defined here:\n",
      "     |  \n",
      "     |  getrandbits(self, k)\n",
      "     |      getrandbits(k) -> x.  Generates an int with k random bits.\n",
      "     |  \n",
      "     |  getstate = _notimplemented(self, *args, **kwds)\n",
      "     |  \n",
      "     |  randbytes(self, n)\n",
      "     |      Generate n random bytes.\n",
      "     |  \n",
      "     |  random(self)\n",
      "     |      Get the next random number in the range [0.0, 1.0).\n",
      "     |  \n",
      "     |  seed(self, *args, **kwds)\n",
      "     |      Stub method.  Not used for a system random number generator.\n",
      "     |  \n",
      "     |  setstate = _notimplemented(self, *args, **kwds)\n",
      "     |  \n",
      "     |  ----------------------------------------------------------------------\n",
      "     |  Methods inherited from Random:\n",
      "     |  \n",
      "     |  __getstate__(self)\n",
      "     |      # Issue 17489: Since __reduce__ was defined to fix #759889 this is no\n",
      "     |      # longer called; we leave it here because it has been here since random was\n",
      "     |      # rewritten back in 2001 and why risk breaking something.\n",
      "     |  \n",
      "     |  __init__(self, x=None)\n",
      "     |      Initialize an instance.\n",
      "     |      \n",
      "     |      Optional argument x controls seeding, as for Random.seed().\n",
      "     |  \n",
      "     |  __reduce__(self)\n",
      "     |      Helper for pickle.\n",
      "     |  \n",
      "     |  __setstate__(self, state)\n",
      "     |  \n",
      "     |  betavariate(self, alpha, beta)\n",
      "     |      Beta distribution.\n",
      "     |      \n",
      "     |      Conditions on the parameters are alpha > 0 and beta > 0.\n",
      "     |      Returned values range between 0 and 1.\n",
      "     |  \n",
      "     |  choice(self, seq)\n",
      "     |      Choose a random element from a non-empty sequence.\n",
      "     |  \n",
      "     |  choices(self, population, weights=None, *, cum_weights=None, k=1)\n",
      "     |      Return a k sized list of population elements chosen with replacement.\n",
      "     |      \n",
      "     |      If the relative weights or cumulative weights are not specified,\n",
      "     |      the selections are made with equal probability.\n",
      "     |  \n",
      "     |  expovariate(self, lambd)\n",
      "     |      Exponential distribution.\n",
      "     |      \n",
      "     |      lambd is 1.0 divided by the desired mean.  It should be\n",
      "     |      nonzero.  (The parameter would be called \"lambda\", but that is\n",
      "     |      a reserved word in Python.)  Returned values range from 0 to\n",
      "     |      positive infinity if lambd is positive, and from negative\n",
      "     |      infinity to 0 if lambd is negative.\n",
      "     |  \n",
      "     |  gammavariate(self, alpha, beta)\n",
      "     |      Gamma distribution.  Not the gamma function!\n",
      "     |      \n",
      "     |      Conditions on the parameters are alpha > 0 and beta > 0.\n",
      "     |      \n",
      "     |      The probability distribution function is:\n",
      "     |      \n",
      "     |                  x ** (alpha - 1) * math.exp(-x / beta)\n",
      "     |        pdf(x) =  --------------------------------------\n",
      "     |                    math.gamma(alpha) * beta ** alpha\n",
      "     |  \n",
      "     |  gauss(self, mu, sigma)\n",
      "     |      Gaussian distribution.\n",
      "     |      \n",
      "     |      mu is the mean, and sigma is the standard deviation.  This is\n",
      "     |      slightly faster than the normalvariate() function.\n",
      "     |      \n",
      "     |      Not thread-safe without a lock around calls.\n",
      "     |  \n",
      "     |  lognormvariate(self, mu, sigma)\n",
      "     |      Log normal distribution.\n",
      "     |      \n",
      "     |      If you take the natural logarithm of this distribution, you'll get a\n",
      "     |      normal distribution with mean mu and standard deviation sigma.\n",
      "     |      mu can have any value, and sigma must be greater than zero.\n",
      "     |  \n",
      "     |  normalvariate(self, mu, sigma)\n",
      "     |      Normal distribution.\n",
      "     |      \n",
      "     |      mu is the mean, and sigma is the standard deviation.\n",
      "     |  \n",
      "     |  paretovariate(self, alpha)\n",
      "     |      Pareto distribution.  alpha is the shape parameter.\n",
      "     |  \n",
      "     |  randint(self, a, b)\n",
      "     |      Return random integer in range [a, b], including both end points.\n",
      "     |  \n",
      "     |  randrange(self, start, stop=None, step=1)\n",
      "     |      Choose a random item from range(start, stop[, step]).\n",
      "     |      \n",
      "     |      This fixes the problem with randint() which includes the\n",
      "     |      endpoint; in Python this is usually not what you want.\n",
      "     |  \n",
      "     |  sample(self, population, k, *, counts=None)\n",
      "     |      Chooses k unique random elements from a population sequence or set.\n",
      "     |      \n",
      "     |      Returns a new list containing elements from the population while\n",
      "     |      leaving the original population unchanged.  The resulting list is\n",
      "     |      in selection order so that all sub-slices will also be valid random\n",
      "     |      samples.  This allows raffle winners (the sample) to be partitioned\n",
      "     |      into grand prize and second place winners (the subslices).\n",
      "     |      \n",
      "     |      Members of the population need not be hashable or unique.  If the\n",
      "     |      population contains repeats, then each occurrence is a possible\n",
      "     |      selection in the sample.\n",
      "     |      \n",
      "     |      Repeated elements can be specified one at a time or with the optional\n",
      "     |      counts parameter.  For example:\n",
      "     |      \n",
      "     |          sample(['red', 'blue'], counts=[4, 2], k=5)\n",
      "     |      \n",
      "     |      is equivalent to:\n",
      "     |      \n",
      "     |          sample(['red', 'red', 'red', 'red', 'blue', 'blue'], k=5)\n",
      "     |      \n",
      "     |      To choose a sample from a range of integers, use range() for the\n",
      "     |      population argument.  This is especially fast and space efficient\n",
      "     |      for sampling from a large population:\n",
      "     |      \n",
      "     |          sample(range(10000000), 60)\n",
      "     |  \n",
      "     |  shuffle(self, x, random=None)\n",
      "     |      Shuffle list x in place, and return None.\n",
      "     |      \n",
      "     |      Optional argument random is a 0-argument function returning a\n",
      "     |      random float in [0.0, 1.0); if it is the default None, the\n",
      "     |      standard random.random will be used.\n",
      "     |  \n",
      "     |  triangular(self, low=0.0, high=1.0, mode=None)\n",
      "     |      Triangular distribution.\n",
      "     |      \n",
      "     |      Continuous distribution bounded by given lower and upper limits,\n",
      "     |      and having a given mode value in-between.\n",
      "     |      \n",
      "     |      http://en.wikipedia.org/wiki/Triangular_distribution\n",
      "     |  \n",
      "     |  uniform(self, a, b)\n",
      "     |      Get a random number in the range [a, b) or [a, b] depending on rounding.\n",
      "     |  \n",
      "     |  vonmisesvariate(self, mu, kappa)\n",
      "     |      Circular data distribution.\n",
      "     |      \n",
      "     |      mu is the mean angle, expressed in radians between 0 and 2*pi, and\n",
      "     |      kappa is the concentration parameter, which must be greater than or\n",
      "     |      equal to zero.  If kappa is equal to zero, this distribution reduces\n",
      "     |      to a uniform random angle over the range 0 to 2*pi.\n",
      "     |  \n",
      "     |  weibullvariate(self, alpha, beta)\n",
      "     |      Weibull distribution.\n",
      "     |      \n",
      "     |      alpha is the scale parameter and beta is the shape parameter.\n",
      "     |  \n",
      "     |  ----------------------------------------------------------------------\n",
      "     |  Class methods inherited from Random:\n",
      "     |  \n",
      "     |  __init_subclass__(**kwargs) from builtins.type\n",
      "     |      Control how subclasses generate random integers.\n",
      "     |      \n",
      "     |      The algorithm a subclass can use depends on the random() and/or\n",
      "     |      getrandbits() implementation available to it and determines\n",
      "     |      whether it can generate random integers from arbitrarily large\n",
      "     |      ranges.\n",
      "     |  \n",
      "     |  ----------------------------------------------------------------------\n",
      "     |  Data descriptors inherited from Random:\n",
      "     |  \n",
      "     |  __dict__\n",
      "     |      dictionary for instance variables (if defined)\n",
      "     |  \n",
      "     |  __weakref__\n",
      "     |      list of weak references to the object (if defined)\n",
      "     |  \n",
      "     |  ----------------------------------------------------------------------\n",
      "     |  Data and other attributes inherited from Random:\n",
      "     |  \n",
      "     |  VERSION = 3\n",
      "     |  \n",
      "     |  ----------------------------------------------------------------------\n",
      "     |  Static methods inherited from _random.Random:\n",
      "     |  \n",
      "     |  __new__(*args, **kwargs) from builtins.type\n",
      "     |      Create and return a new object.  See help(type) for accurate signature.\n",
      "\n",
      "FUNCTIONS\n",
      "    betavariate(alpha, beta) method of Random instance\n",
      "        Beta distribution.\n",
      "        \n",
      "        Conditions on the parameters are alpha > 0 and beta > 0.\n",
      "        Returned values range between 0 and 1.\n",
      "    \n",
      "    choice(seq) method of Random instance\n",
      "        Choose a random element from a non-empty sequence.\n",
      "    \n",
      "    choices(population, weights=None, *, cum_weights=None, k=1) method of Random instance\n",
      "        Return a k sized list of population elements chosen with replacement.\n",
      "        \n",
      "        If the relative weights or cumulative weights are not specified,\n",
      "        the selections are made with equal probability.\n",
      "    \n",
      "    expovariate(lambd) method of Random instance\n",
      "        Exponential distribution.\n",
      "        \n",
      "        lambd is 1.0 divided by the desired mean.  It should be\n",
      "        nonzero.  (The parameter would be called \"lambda\", but that is\n",
      "        a reserved word in Python.)  Returned values range from 0 to\n",
      "        positive infinity if lambd is positive, and from negative\n",
      "        infinity to 0 if lambd is negative.\n",
      "    \n",
      "    gammavariate(alpha, beta) method of Random instance\n",
      "        Gamma distribution.  Not the gamma function!\n",
      "        \n",
      "        Conditions on the parameters are alpha > 0 and beta > 0.\n",
      "        \n",
      "        The probability distribution function is:\n",
      "        \n",
      "                    x ** (alpha - 1) * math.exp(-x / beta)\n",
      "          pdf(x) =  --------------------------------------\n",
      "                      math.gamma(alpha) * beta ** alpha\n",
      "    \n",
      "    gauss(mu, sigma) method of Random instance\n",
      "        Gaussian distribution.\n",
      "        \n",
      "        mu is the mean, and sigma is the standard deviation.  This is\n",
      "        slightly faster than the normalvariate() function.\n",
      "        \n",
      "        Not thread-safe without a lock around calls.\n",
      "    \n",
      "    getrandbits(k, /) method of Random instance\n",
      "        getrandbits(k) -> x.  Generates an int with k random bits.\n",
      "    \n",
      "    getstate() method of Random instance\n",
      "        Return internal state; can be passed to setstate() later.\n",
      "    \n",
      "    lognormvariate(mu, sigma) method of Random instance\n",
      "        Log normal distribution.\n",
      "        \n",
      "        If you take the natural logarithm of this distribution, you'll get a\n",
      "        normal distribution with mean mu and standard deviation sigma.\n",
      "        mu can have any value, and sigma must be greater than zero.\n",
      "    \n",
      "    normalvariate(mu, sigma) method of Random instance\n",
      "        Normal distribution.\n",
      "        \n",
      "        mu is the mean, and sigma is the standard deviation.\n",
      "    \n",
      "    paretovariate(alpha) method of Random instance\n",
      "        Pareto distribution.  alpha is the shape parameter.\n",
      "    \n",
      "    randbytes(n) method of Random instance\n",
      "        Generate n random bytes.\n",
      "    \n",
      "    randint(a, b) method of Random instance\n",
      "        Return random integer in range [a, b], including both end points.\n",
      "    \n",
      "    random() method of Random instance\n",
      "        random() -> x in the interval [0, 1).\n",
      "    \n",
      "    randrange(start, stop=None, step=1) method of Random instance\n",
      "        Choose a random item from range(start, stop[, step]).\n",
      "        \n",
      "        This fixes the problem with randint() which includes the\n",
      "        endpoint; in Python this is usually not what you want.\n",
      "    \n",
      "    sample(population, k, *, counts=None) method of Random instance\n",
      "        Chooses k unique random elements from a population sequence or set.\n",
      "        \n",
      "        Returns a new list containing elements from the population while\n",
      "        leaving the original population unchanged.  The resulting list is\n",
      "        in selection order so that all sub-slices will also be valid random\n",
      "        samples.  This allows raffle winners (the sample) to be partitioned\n",
      "        into grand prize and second place winners (the subslices).\n",
      "        \n",
      "        Members of the population need not be hashable or unique.  If the\n",
      "        population contains repeats, then each occurrence is a possible\n",
      "        selection in the sample.\n",
      "        \n",
      "        Repeated elements can be specified one at a time or with the optional\n",
      "        counts parameter.  For example:\n",
      "        \n",
      "            sample(['red', 'blue'], counts=[4, 2], k=5)\n",
      "        \n",
      "        is equivalent to:\n",
      "        \n",
      "            sample(['red', 'red', 'red', 'red', 'blue', 'blue'], k=5)\n",
      "        \n",
      "        To choose a sample from a range of integers, use range() for the\n",
      "        population argument.  This is especially fast and space efficient\n",
      "        for sampling from a large population:\n",
      "        \n",
      "            sample(range(10000000), 60)\n",
      "    \n",
      "    seed(a=None, version=2) method of Random instance\n",
      "        Initialize internal state from a seed.\n",
      "        \n",
      "        The only supported seed types are None, int, float,\n",
      "        str, bytes, and bytearray.\n",
      "        \n",
      "        None or no argument seeds from current time or from an operating\n",
      "        system specific randomness source if available.\n",
      "        \n",
      "        If *a* is an int, all bits are used.\n",
      "        \n",
      "        For version 2 (the default), all of the bits are used if *a* is a str,\n",
      "        bytes, or bytearray.  For version 1 (provided for reproducing random\n",
      "        sequences from older versions of Python), the algorithm for str and\n",
      "        bytes generates a narrower range of seeds.\n",
      "    \n",
      "    setstate(state) method of Random instance\n",
      "        Restore internal state from object returned by getstate().\n",
      "    \n",
      "    shuffle(x, random=None) method of Random instance\n",
      "        Shuffle list x in place, and return None.\n",
      "        \n",
      "        Optional argument random is a 0-argument function returning a\n",
      "        random float in [0.0, 1.0); if it is the default None, the\n",
      "        standard random.random will be used.\n",
      "    \n",
      "    triangular(low=0.0, high=1.0, mode=None) method of Random instance\n",
      "        Triangular distribution.\n",
      "        \n",
      "        Continuous distribution bounded by given lower and upper limits,\n",
      "        and having a given mode value in-between.\n",
      "        \n",
      "        http://en.wikipedia.org/wiki/Triangular_distribution\n",
      "    \n",
      "    uniform(a, b) method of Random instance\n",
      "        Get a random number in the range [a, b) or [a, b] depending on rounding.\n",
      "    \n",
      "    vonmisesvariate(mu, kappa) method of Random instance\n",
      "        Circular data distribution.\n",
      "        \n",
      "        mu is the mean angle, expressed in radians between 0 and 2*pi, and\n",
      "        kappa is the concentration parameter, which must be greater than or\n",
      "        equal to zero.  If kappa is equal to zero, this distribution reduces\n",
      "        to a uniform random angle over the range 0 to 2*pi.\n",
      "    \n",
      "    weibullvariate(alpha, beta) method of Random instance\n",
      "        Weibull distribution.\n",
      "        \n",
      "        alpha is the scale parameter and beta is the shape parameter.\n",
      "\n",
      "DATA\n",
      "    __all__ = ['Random', 'SystemRandom', 'betavariate', 'choice', 'choices...\n",
      "\n",
      "FILE\n",
      "    c:\\users\\hayk_\\.conda\\envs\\thesis\\lib\\random.py\n",
      "\n",
      "\n",
      "None\n"
     ]
    }
   ],
   "source": [
    "print(help(random))"
   ]
  },
  {
   "cell_type": "markdown",
   "metadata": {
    "id": "Lgldad5X-LHh"
   },
   "source": [
    "Կարանք նաև երբ օրինակներ ենք գրում, իրանց որպես թեստեր օգտագործենք [Doctest](https://docs.python.org/3/library/doctest.html) գրադարանի միջոցով \\\\\n",
    "[Վիդյո](https://www.youtube.com/watch?v=JheIJurFvHs) \\\\\n",
    "\\\n",
    "**Նյութեր**\n",
    "1. Ընդհանուր լավ նյութ, ու օրինակներ docstringների ֆորմատների [link](https://www.datacamp.com/tutorial/docstrings-python)\n",
    "2. Documentation ստեղծել [Sphinx](https://www.sphinx-doc.org/en/master/)"
   ]
  },
  {
   "cell_type": "markdown",
   "metadata": {
    "id": "3VXeENuU_WyQ"
   },
   "source": [
    "# Type hints (տեսակի հուշում)"
   ]
  },
  {
   "cell_type": "markdown",
   "metadata": {
    "id": "b0Z3osWe_udg"
   },
   "source": [
    "Pythonը dynamically typed (փոփոխականը կարա տեսակը հանգիստ փոխի) լեզույա, բայց երբեմն հսատակ իմանում ենք թե  ինչ տեսակի պետքա լինի փոփոխականը, կամ թե օրինակ ինչ տեսակի արժեքա վերադարձնում ֆունկցին, լավ կլինի կարանանք հուշենք դա մարդակց որ մեր կոդի հետ աշխատալու են (նաև մեզ)"
   ]
  },
  {
   "cell_type": "code",
   "execution_count": 6,
   "metadata": {
    "id": "CuPfZ_3u_YL4"
   },
   "outputs": [],
   "source": [
    "x: int = \"աաաա\"\n",
    "a :str = 'պանիր'\n"
   ]
  },
  {
   "cell_type": "code",
   "execution_count": 7,
   "metadata": {
    "colab": {
     "base_uri": "https://localhost:8080/"
    },
    "executionInfo": {
     "elapsed": 18,
     "status": "ok",
     "timestamp": 1712766376471,
     "user": {
      "displayName": "509 Academy",
      "userId": "04290973032679126188"
     },
     "user_tz": -240
    },
    "id": "tmh7mdyoAJ54",
    "outputId": "c30768dd-a96f-43e2-88d1-55feea45b226"
   },
   "outputs": [
    {
     "name": "stdout",
     "output_type": "stream",
     "text": [
      "աաաա\n",
      "պանիր\n"
     ]
    }
   ],
   "source": [
    "print(x)\n",
    "print(a)"
   ]
  },
  {
   "cell_type": "code",
   "execution_count": 8,
   "metadata": {
    "colab": {
     "base_uri": "https://localhost:8080/"
    },
    "executionInfo": {
     "elapsed": 466,
     "status": "ok",
     "timestamp": 1712766355754,
     "user": {
      "displayName": "509 Academy",
      "userId": "04290973032679126188"
     },
     "user_tz": -240
    },
    "id": "aSKs0E_IAMZ3",
    "outputId": "5722e924-ac9e-43c8-a056-caf684af2e86"
   },
   "outputs": [
    {
     "name": "stdout",
     "output_type": "stream",
     "text": [
      "պանիր\n"
     ]
    }
   ],
   "source": [
    "# բայց դե կարանք հանգիստ խախտենք էլ\n",
    "x: float = 'պանիր'\n",
    "print(x)"
   ]
  },
  {
   "cell_type": "markdown",
   "metadata": {
    "id": "ODkxoG1sAUK6"
   },
   "source": [
    "## Ֆունկցիաններում"
   ]
  },
  {
   "cell_type": "code",
   "execution_count": null,
   "metadata": {
    "colab": {
     "base_uri": "https://localhost:8080/"
    },
    "executionInfo": {
     "elapsed": 621,
     "status": "ok",
     "timestamp": 1712766562163,
     "user": {
      "displayName": "509 Academy",
      "userId": "04290973032679126188"
     },
     "user_tz": -240
    },
    "id": "yaTa3oZSAWT2",
    "outputId": "18ed3c45-14b2-40b7-ad8e-c3dd46a09459"
   },
   "outputs": [
    {
     "data": {
      "text/plain": [
       "360"
      ]
     },
     "execution_count": 18,
     "metadata": {},
     "output_type": "execute_result"
    }
   ],
   "source": [
    "gner: dict[str, int] = {\n",
    "    'chocolate': 130, # իրականում բայց պետքա լինի՝ \"չունենք\"\n",
    "    'vanilla': 120\n",
    "}\n",
    "\n",
    "def ponchiki_calculator(qanak: int, tesak: str, pudrayov: bool) -> float: # եթե բան չվերադարձներ կգրեինք -> None\n",
    "    \"\"\"Function calculates how much eating ponchiks will cost us\n",
    "\n",
    "    Args:\n",
    "        qanak (int): number of ponchiks we are going to buy and then eat, am nyam nyam\n",
    "        tesak (str): either chocolate or vanilla\n",
    "        pudrayov (bool): of course pudrayov, I have to spill it all over my shirt\n",
    "\n",
    "    Returns:\n",
    "        gin (float): how much this paradise for stomach will cost\n",
    "    \"\"\"\n",
    "    gin = qanak * gner[tesak]\n",
    "\n",
    "    return gin\n",
    "\n",
    "ponchiki_calculator(3, 'vanilla', True)"
   ]
  },
  {
   "cell_type": "code",
   "execution_count": null,
   "metadata": {
    "id": "xnfVsiqLEF7k"
   },
   "outputs": [],
   "source": [
    "def count_number_of_occurances(lst: list, element):\n",
    "    \"\"\"Function counts how many times a given element appears in the given list\n",
    "\n",
    "    Args:\n",
    "        ...\n",
    "        ալարում եմ ես գրեմ, դուք բայց մի ալարեք :)\n",
    "    \"\"\"\n",
    "    return lst.count(element) # wait to see the suggestions after adding the hint"
   ]
  },
  {
   "cell_type": "markdown",
   "metadata": {
    "id": "6tw8hOT5CjF5"
   },
   "source": [
    "## Նյութեր\n",
    "1. [Documentation](https://docs.python.org/3/library/typing.html)\n",
    "2. [կարճ ու լավ վիդյո](https://docs.python.org/3/library/typing.html)\n",
    "3. [երկար ու լավ վիդյո (սա խորհուրդ կտամ նայել էս երեք ռեսուրների մեջից)](https://www.youtube.com/watch?v=QORvB-_mbZ0)"
   ]
  },
  {
   "cell_type": "markdown",
   "metadata": {
    "id": "zhmFk2Pzu1I7"
   },
   "source": [
    "# Scopes (LEGB rule)\n",
    "\n",
    "Local Enclosing Global Builtin"
   ]
  },
  {
   "cell_type": "markdown",
   "metadata": {
    "id": "_Ke8OMgKw5Dn"
   },
   "source": [
    "https://www.youtube.com/watch?v=QVdf0LgmICw"
   ]
  },
  {
   "cell_type": "code",
   "execution_count": null,
   "metadata": {
    "id": "aIdSBdcAR4IW"
   },
   "outputs": [],
   "source": [
    "ValueError"
   ]
  },
  {
   "cell_type": "code",
   "execution_count": null,
   "metadata": {
    "colab": {
     "base_uri": "https://localhost:8080/"
    },
    "executionInfo": {
     "elapsed": 648,
     "status": "ok",
     "timestamp": 1712767135978,
     "user": {
      "displayName": "509 Academy",
      "userId": "04290973032679126188"
     },
     "user_tz": -240
    },
    "id": "a0B2X8zuu6it",
    "outputId": "6834b464-ebf3-4e5f-b219-b217aa450707"
   },
   "outputs": [
    {
     "name": "stdout",
     "output_type": "stream",
     "text": [
      "chae\n",
      "hajox\n",
      "jur\n"
     ]
    }
   ],
   "source": [
    "heghuk = 'jur'\n",
    "\n",
    "def tun(a):\n",
    "    heghuk = 'chae'\n",
    "    print(heghuk)\n",
    "\n",
    "tun(4)\n",
    "print(heghuk)"
   ]
  },
  {
   "cell_type": "code",
   "execution_count": null,
   "metadata": {
    "colab": {
     "base_uri": "https://localhost:8080/"
    },
    "executionInfo": {
     "elapsed": 1332,
     "status": "ok",
     "timestamp": 1712767170596,
     "user": {
      "displayName": "509 Academy",
      "userId": "04290973032679126188"
     },
     "user_tz": -240
    },
    "id": "hL2dOup7vjfc",
    "outputId": "28f2ba01-8dd4-4cba-ce11-1d15dd25dfc8"
   },
   "outputs": [
    {
     "name": "stdout",
     "output_type": "stream",
     "text": [
      "local\n",
      "global\n"
     ]
    }
   ],
   "source": [
    "# ֆունկցիաներից դուրս ամենինչ globalա, ու բոլորը տեղյալ են էդ փոփոխականից, ֆունկցիայի ներսը ոնց-որ առանձնացված տուն լինի\n",
    "\n",
    "a = 'global'\n",
    "\n",
    "def tun():\n",
    "    a = 'local'\n",
    "    print(a)\n",
    "\n",
    "tun()\n",
    "print(a)\n",
    "\n"
   ]
  },
  {
   "cell_type": "code",
   "execution_count": null,
   "metadata": {
    "colab": {
     "base_uri": "https://localhost:8080/"
    },
    "executionInfo": {
     "elapsed": 627,
     "status": "ok",
     "timestamp": 1712767406227,
     "user": {
      "displayName": "509 Academy",
      "userId": "04290973032679126188"
     },
     "user_tz": -240
    },
    "id": "bzl4oiBAv7HI",
    "outputId": "2014bf31-fd2a-4ffc-9e97-b760b3c3b6c7"
   },
   "outputs": [
    {
     "name": "stdout",
     "output_type": "stream",
     "text": [
      "local\n",
      "local\n"
     ]
    }
   ],
   "source": [
    "# ֆունկցիաներից դուրս ամենինչ globalա, ու բոլորը տեղյալ են էդ փոփոխականից, ֆունկցիայի ներսը ոնց-որ առանձնացված տուն լինի\n",
    "a = 'panir'\n",
    "\n",
    "def tun():\n",
    "    global a\n",
    "    a = 'local'\n",
    "    print(a)\n",
    "\n",
    "tun()\n",
    "print(a)\n",
    "\n"
   ]
  },
  {
   "cell_type": "code",
   "execution_count": null,
   "metadata": {
    "colab": {
     "base_uri": "https://localhost:8080/"
    },
    "executionInfo": {
     "elapsed": 945,
     "status": "ok",
     "timestamp": 1681143342695,
     "user": {
      "displayName": "509 Academy",
      "userId": "04290973032679126188"
     },
     "user_tz": -240
    },
    "id": "lcwqWtJq8vnv",
    "outputId": "7b2c640d-f0de-4b8f-f131-03ab229a1af9"
   },
   "outputs": [
    {
     "name": "stdout",
     "output_type": "stream",
     "text": [
      "4\n",
      "3\n"
     ]
    }
   ],
   "source": []
  },
  {
   "cell_type": "code",
   "execution_count": null,
   "metadata": {
    "colab": {
     "base_uri": "https://localhost:8080/"
    },
    "executionInfo": {
     "elapsed": 456,
     "status": "ok",
     "timestamp": 1712767552394,
     "user": {
      "displayName": "509 Academy",
      "userId": "04290973032679126188"
     },
     "user_tz": -240
    },
    "id": "zULalIrrwIgk",
    "outputId": "f0869336-89ab-4c1f-b1e9-4df4e1823ee5"
   },
   "outputs": [
    {
     "name": "stdout",
     "output_type": "stream",
     "text": [
      "local\n",
      "enclosed\n",
      "global\n"
     ]
    }
   ],
   "source": [
    "a = 'global'\n",
    "def tun():\n",
    "    a = 'enclosed'\n",
    "    def senyak():\n",
    "        a = 'local'\n",
    "        print(a)\n",
    "\n",
    "    senyak()\n",
    "    print(a)\n",
    "\n",
    "tun()\n",
    "print(a)"
   ]
  },
  {
   "cell_type": "code",
   "execution_count": null,
   "metadata": {
    "colab": {
     "base_uri": "https://localhost:8080/"
    },
    "executionInfo": {
     "elapsed": 382,
     "status": "ok",
     "timestamp": 1712767593364,
     "user": {
      "displayName": "509 Academy",
      "userId": "04290973032679126188"
     },
     "user_tz": -240
    },
    "id": "tSucnLLTwbrC",
    "outputId": "22999b7c-c319-41c1-89a5-c6835013230a"
   },
   "outputs": [
    {
     "name": "stdout",
     "output_type": "stream",
     "text": [
      "local\n",
      "local\n",
      "global\n"
     ]
    }
   ],
   "source": [
    "a = 'global'\n",
    "def tun():\n",
    "    a = 'enclosed'\n",
    "    def senyak():\n",
    "        nonlocal a\n",
    "        a = 'local'\n",
    "        print(a)\n",
    "\n",
    "    senyak()\n",
    "    print(a)\n",
    "\n",
    "tun()\n",
    "print(a)"
   ]
  },
  {
   "cell_type": "code",
   "execution_count": null,
   "metadata": {
    "colab": {
     "base_uri": "https://localhost:8080/"
    },
    "executionInfo": {
     "elapsed": 459,
     "status": "ok",
     "timestamp": 1681140131085,
     "user": {
      "displayName": "509 Academy",
      "userId": "04290973032679126188"
     },
     "user_tz": -240
    },
    "id": "0ahSH7xPweZJ",
    "outputId": "70aa2e2e-5426-464d-eacc-5577c8e536ee"
   },
   "outputs": [
    {
     "name": "stdout",
     "output_type": "stream",
     "text": [
      "enclosed\n",
      "enclosed\n",
      "global\n"
     ]
    }
   ],
   "source": [
    "a = 'global'\n",
    "def tun():\n",
    "    a = 'enclosed'\n",
    "    def senyak():\n",
    "        print(a)\n",
    "        int(3.5)\n",
    "    senyak()\n",
    "    print(a)\n",
    "\n",
    "tun()\n",
    "\n",
    "print(a)\n",
    "\n",
    "# L E G B"
   ]
  },
  {
   "cell_type": "code",
   "execution_count": null,
   "metadata": {
    "colab": {
     "base_uri": "https://localhost:8080/",
     "height": 180
    },
    "executionInfo": {
     "elapsed": 408,
     "status": "error",
     "timestamp": 1712767813005,
     "user": {
      "displayName": "509 Academy",
      "userId": "04290973032679126188"
     },
     "user_tz": -240
    },
    "id": "tIL6NR-G6VyJ",
    "outputId": "b7fe0082-ca0e-42ae-cf38-cccb823888e6"
   },
   "outputs": [
    {
     "ename": "TypeError",
     "evalue": "'int' object is not callable",
     "output_type": "error",
     "traceback": [
      "\u001b[0;31m---------------------------------------------------------------------------\u001b[0m",
      "\u001b[0;31mTypeError\u001b[0m                                 Traceback (most recent call last)",
      "\u001b[0;32m<ipython-input-45-ae9afca7aba8>\u001b[0m in \u001b[0;36m<cell line: 3>\u001b[0;34m()\u001b[0m\n\u001b[1;32m      1\u001b[0m \u001b[0;31m# list = 3\u001b[0m\u001b[0;34m\u001b[0m\u001b[0;34m\u001b[0m\u001b[0m\n\u001b[1;32m      2\u001b[0m \u001b[0;34m\u001b[0m\u001b[0m\n\u001b[0;32m----> 3\u001b[0;31m \u001b[0mprint\u001b[0m\u001b[0;34m(\u001b[0m\u001b[0mlist\u001b[0m\u001b[0;34m(\u001b[0m\u001b[0;34m(\u001b[0m\u001b[0;36m1\u001b[0m\u001b[0;34m,\u001b[0m\u001b[0;36m2\u001b[0m\u001b[0;34m)\u001b[0m\u001b[0;34m)\u001b[0m\u001b[0;34m)\u001b[0m\u001b[0;34m\u001b[0m\u001b[0;34m\u001b[0m\u001b[0m\n\u001b[0m",
      "\u001b[0;31mTypeError\u001b[0m: 'int' object is not callable"
     ]
    }
   ],
   "source": [
    "# list = 3\n",
    "\n",
    "print(list(1,2))"
   ]
  },
  {
   "cell_type": "code",
   "execution_count": null,
   "metadata": {
    "colab": {
     "base_uri": "https://localhost:8080/"
    },
    "executionInfo": {
     "elapsed": 373,
     "status": "ok",
     "timestamp": 1712767927641,
     "user": {
      "displayName": "509 Academy",
      "userId": "04290973032679126188"
     },
     "user_tz": -240
    },
    "id": "3huy3uidwC2q",
    "outputId": "8bb2fc09-7c3c-44bb-ac6e-586d46425043"
   },
   "outputs": [
    {
     "name": "stdout",
     "output_type": "stream",
     "text": [
      "['BPF', 'LOG4', 'NV_MAGICCONST', 'RECIP_BPF', 'Random', 'SG_MAGICCONST', 'SystemRandom', 'TWOPI', '_ONE', '_Sequence', '_Set', '__all__', '__builtins__', '__cached__', '__doc__', '__file__', '__loader__', '__name__', '__package__', '__spec__', '_accumulate', '_acos', '_bisect', '_ceil', '_cos', '_e', '_exp', '_floor', '_index', '_inst', '_isfinite', '_log', '_os', '_pi', '_random', '_repeat', '_sha512', '_sin', '_sqrt', '_test', '_test_generator', '_urandom', '_warn', 'betavariate', 'choice', 'choices', 'expovariate', 'gammavariate', 'gauss', 'getrandbits', 'getstate', 'lognormvariate', 'normalvariate', 'paretovariate', 'randbytes', 'randint', 'random', 'randrange', 'sample', 'seed', 'setstate', 'shuffle', 'triangular', 'uniform', 'vonmisesvariate', 'weibullvariate']\n"
     ]
    }
   ],
   "source": [
    "import builtins\n",
    "\n",
    "print(dir(builtins))"
   ]
  },
  {
   "cell_type": "markdown",
   "metadata": {
    "id": "fggbALH_G3Ob"
   },
   "source": [
    "# Mutuble objects as arguments"
   ]
  },
  {
   "cell_type": "markdown",
   "metadata": {
    "id": "c-BMD4nD_iyB"
   },
   "source": [
    "## regular arguments"
   ]
  },
  {
   "cell_type": "code",
   "execution_count": null,
   "metadata": {
    "colab": {
     "base_uri": "https://localhost:8080/"
    },
    "executionInfo": {
     "elapsed": 29,
     "status": "ok",
     "timestamp": 1712768485593,
     "user": {
      "displayName": "509 Academy",
      "userId": "04290973032679126188"
     },
     "user_tz": -240
    },
    "id": "Hf95La6t81Zw",
    "outputId": "b887732d-cfef-47ff-8459-b6b711eb952f"
   },
   "outputs": [
    {
     "name": "stdout",
     "output_type": "stream",
     "text": [
      "132290486511872\n",
      "132290486511872\n",
      "[1, 2, 3, 4]\n",
      "[1, 2, 3, 4]\n"
     ]
    }
   ],
   "source": [
    "lst = [1,2,3]\n",
    "\n",
    "nor_lst = lst\n",
    "#  ==\n",
    "#  is\n",
    "print(id(lst))\n",
    "print(id())\n",
    "nor_lst.append(4)\n",
    "\n",
    "print(lst)\n",
    "print(nor_lst)"
   ]
  },
  {
   "cell_type": "code",
   "execution_count": null,
   "metadata": {
    "id": "kV6qFFsKG6g3"
   },
   "outputs": [],
   "source": [
    "def avelacru_element(lst):\n",
    "    lst.append('panir')\n",
    "    return lst\n"
   ]
  },
  {
   "cell_type": "code",
   "execution_count": null,
   "metadata": {
    "colab": {
     "base_uri": "https://localhost:8080/"
    },
    "executionInfo": {
     "elapsed": 20,
     "status": "ok",
     "timestamp": 1712768357333,
     "user": {
      "displayName": "509 Academy",
      "userId": "04290973032679126188"
     },
     "user_tz": -240
    },
    "id": "Ngs2KgwpPdW4",
    "outputId": "3ad53c09-2cf8-4591-cd85-2cd8427eb41a"
   },
   "outputs": [
    {
     "name": "stdout",
     "output_type": "stream",
     "text": [
      "[0, 1, 2, 3, 4, 5, 6, 7, 8, 9]\n"
     ]
    }
   ],
   "source": [
    "lst_1 = list(range(10))\n",
    "print(lst_1)"
   ]
  },
  {
   "cell_type": "code",
   "execution_count": null,
   "metadata": {
    "colab": {
     "base_uri": "https://localhost:8080/"
    },
    "executionInfo": {
     "elapsed": 11,
     "status": "ok",
     "timestamp": 1712768358899,
     "user": {
      "displayName": "509 Academy",
      "userId": "04290973032679126188"
     },
     "user_tz": -240
    },
    "id": "r2f2aZ1HPtzJ",
    "outputId": "3ac5a78f-85f7-4b48-e5e6-7f086e45ac50"
   },
   "outputs": [
    {
     "name": "stdout",
     "output_type": "stream",
     "text": [
      "[0, 1, 2, 3, 4, 5, 6, 7, 8, 9, 'panir']\n"
     ]
    }
   ],
   "source": [
    "lst_avelacrac = avelacru_element(lst_1)\n",
    "print(lst_avelacrac)"
   ]
  },
  {
   "cell_type": "code",
   "execution_count": null,
   "metadata": {
    "colab": {
     "base_uri": "https://localhost:8080/"
    },
    "executionInfo": {
     "elapsed": 14,
     "status": "ok",
     "timestamp": 1712768360718,
     "user": {
      "displayName": "509 Academy",
      "userId": "04290973032679126188"
     },
     "user_tz": -240
    },
    "id": "iMxcuMb8P0OG",
    "outputId": "94b4a4ef-bb8d-4c47-e43a-f0b8988b5e05"
   },
   "outputs": [
    {
     "name": "stdout",
     "output_type": "stream",
     "text": [
      "[0, 1, 2, 3, 4, 5, 6, 7, 8, 9, 'panir']\n",
      "[0, 1, 2, 3, 4, 5, 6, 7, 8, 9, 'panir']\n"
     ]
    }
   ],
   "source": [
    "print(lst_avelacrac)\n",
    "print(lst_1)\n",
    "# վայ"
   ]
  },
  {
   "cell_type": "code",
   "execution_count": null,
   "metadata": {
    "colab": {
     "base_uri": "https://localhost:8080/"
    },
    "executionInfo": {
     "elapsed": 1924,
     "status": "ok",
     "timestamp": 1712768822864,
     "user": {
      "displayName": "509 Academy",
      "userId": "04290973032679126188"
     },
     "user_tz": -240
    },
    "id": "fDSYCO27P6hy",
    "outputId": "c306b6e0-8896-4668-e06e-275f8abe4fe9"
   },
   "outputs": [
    {
     "name": "stdout",
     "output_type": "stream",
     "text": [
      "132291325598272\n",
      "132291325598272\n"
     ]
    }
   ],
   "source": [
    "print(id(lst_avelacrac))\n",
    "print(id(lst_1))"
   ]
  },
  {
   "cell_type": "code",
   "execution_count": null,
   "metadata": {
    "colab": {
     "base_uri": "https://localhost:8080/"
    },
    "executionInfo": {
     "elapsed": 525,
     "status": "ok",
     "timestamp": 1712768894839,
     "user": {
      "displayName": "509 Academy",
      "userId": "04290973032679126188"
     },
     "user_tz": -240
    },
    "id": "6xdhbH8F-m7t",
    "outputId": "4e4c9f7f-7012-48a9-a9fd-bdac13686baf"
   },
   "outputs": [
    {
     "name": "stdout",
     "output_type": "stream",
     "text": [
      "[0, 1, 2, 3, 4, 5, 6, 7, 8, 9, 'panir']\n",
      "[0, 1, 2, 3, 4, 5, 6, 7, 8, 9, 'panir']\n",
      "132291325598272\n",
      "132290486508608\n"
     ]
    }
   ],
   "source": [
    "print(lst_1)\n",
    "print(lst_1.copy())\n",
    "\n",
    "print(id(lst_1))\n",
    "print(id(lst_1.copy()))\n"
   ]
  },
  {
   "cell_type": "code",
   "execution_count": null,
   "metadata": {
    "colab": {
     "base_uri": "https://localhost:8080/"
    },
    "executionInfo": {
     "elapsed": 852,
     "status": "ok",
     "timestamp": 1712768937866,
     "user": {
      "displayName": "509 Academy",
      "userId": "04290973032679126188"
     },
     "user_tz": -240
    },
    "id": "sIffTXJ0QEnR",
    "outputId": "3315609a-acb9-4778-d660-78ef2b933b65"
   },
   "outputs": [
    {
     "name": "stdout",
     "output_type": "stream",
     "text": [
      "[0, 1, 2, 3, 4, 5, 6, 7, 8, 9]\n",
      "[0, 1, 2, 3, 4, 5, 6, 7, 8, 9, 'panir']\n",
      "[0, 1, 2, 3, 4, 5, 6, 7, 8, 9]\n"
     ]
    }
   ],
   "source": [
    "lst_1 = list(range(10))\n",
    "\n",
    "lst_avelacrac_okay_klini_senc = avelacru_element(lst_1.copy())\n",
    "\n",
    "print(lst_1.copy())\n",
    "print(lst_avelacrac_okay_klini_senc)\n",
    "print(lst_1)"
   ]
  },
  {
   "cell_type": "code",
   "execution_count": null,
   "metadata": {
    "colab": {
     "base_uri": "https://localhost:8080/"
    },
    "executionInfo": {
     "elapsed": 415,
     "status": "ok",
     "timestamp": 1707110111832,
     "user": {
      "displayName": "509 Academy",
      "userId": "04290973032679126188"
     },
     "user_tz": -240
    },
    "id": "bPsZFek5QXjN",
    "outputId": "4508aa44-3191-4fde-957b-a3c4eb243cff"
   },
   "outputs": [
    {
     "name": "stdout",
     "output_type": "stream",
     "text": [
      "132371578933952\n",
      "132371593482112\n"
     ]
    }
   ],
   "source": [
    "print(id(lst_1.copy()))\n",
    "print(id(lst_avelacrac_okay_klini_senc))"
   ]
  },
  {
   "cell_type": "markdown",
   "metadata": {
    "id": "LPoCrB8tQg-J"
   },
   "source": [
    "## Mutable objects as default arguments"
   ]
  },
  {
   "cell_type": "code",
   "execution_count": null,
   "metadata": {
    "colab": {
     "base_uri": "https://localhost:8080/"
    },
    "executionInfo": {
     "elapsed": 645,
     "status": "ok",
     "timestamp": 1712769104132,
     "user": {
      "displayName": "509 Academy",
      "userId": "04290973032679126188"
     },
     "user_tz": -240
    },
    "id": "fhgG8jRFs3F2",
    "outputId": "fa471756-9370-4499-c2e4-d77361262613"
   },
   "outputs": [
    {
     "name": "stdout",
     "output_type": "stream",
     "text": [
      "{'album_name': 'Կոմիտաս', 'songs': ['Գարուն ա']}\n"
     ]
    }
   ],
   "source": [
    "def create_album(album_name, songs=[]):\n",
    "\treturn {'album_name': album_name,\n",
    "            'songs': songs}\n",
    "\n",
    "# print(create_album(\"Կոմիտաս\"))\n",
    "\n",
    "print(create_album(\"Կոմիտաս\", [\"Գարուն ա\"]))"
   ]
  },
  {
   "cell_type": "code",
   "execution_count": null,
   "metadata": {
    "colab": {
     "base_uri": "https://localhost:8080/"
    },
    "executionInfo": {
     "elapsed": 15,
     "status": "ok",
     "timestamp": 1712769223366,
     "user": {
      "displayName": "509 Academy",
      "userId": "04290973032679126188"
     },
     "user_tz": -240
    },
    "id": "4P7Vle9qUav0",
    "outputId": "145e27d6-c1f0-46cd-ed3c-5d128d2cea29"
   },
   "outputs": [
    {
     "name": "stdout",
     "output_type": "stream",
     "text": [
      "{'album_name': 'Pink Floyd', 'songs': []}\n",
      "{'album_name': 'Radiohead', 'songs': []}\n",
      "\n",
      "Breathe\n",
      "{'album_name': 'Pink Floyd', 'songs': ['Breathe']}\n",
      "Reckoner\n",
      "{'album_name': 'Radiohead', 'songs': ['Breathe', 'Reckoner']}\n"
     ]
    }
   ],
   "source": [
    "def create_album(album_name, songs=[]):\n",
    "\treturn {'album_name': album_name,\n",
    "            'songs': songs}\n",
    "\n",
    "def add_song(album, song):\n",
    "    print(song)\n",
    "    album['songs'].append(song)\n",
    "    return album\n",
    "\n",
    "pf = create_album('Pink Floyd')\n",
    "rh = create_album('Radiohead')\n",
    "\n",
    "print(pf)\n",
    "print(rh)\n",
    "print()\n",
    "\n",
    "print(add_song(pf, 'Breathe'))\n",
    "print(add_song(rh, 'Reckoner'))\n",
    "\n",
    "# 1.\n",
    "# հիշողությոն պահել create_album,\n",
    "# 1233 -> album_name\n",
    "# 1234 -> songs, value -> []\n",
    "\n",
    "# pf = {\"Pink Floyd\", \"songs\": են ինչ պահված ա 1234}\n",
    "# rf = {\"Radiohead\", \"songs\": են ինչ պահված ա 1234}\n",
    "\n",
    "# 1234 [] -> [\"Breathe\"]\n",
    "# 1234 [\"Breathe\"] -> [\"Breathe\", \"Reckoner\"]"
   ]
  },
  {
   "cell_type": "markdown",
   "metadata": {
    "id": "RlFnhCJyV4cu"
   },
   "source": [
    "կարանք ուղղենք գրելով"
   ]
  },
  {
   "cell_type": "code",
   "execution_count": null,
   "metadata": {
    "colab": {
     "base_uri": "https://localhost:8080/"
    },
    "executionInfo": {
     "elapsed": 9,
     "status": "ok",
     "timestamp": 1712770342053,
     "user": {
      "displayName": "509 Academy",
      "userId": "04290973032679126188"
     },
     "user_tz": -240
    },
    "id": "0i2mgFr0DqIC",
    "outputId": "a5ec8753-d00d-4e71-f81a-64991db2a129"
   },
   "outputs": [
    {
     "name": "stdout",
     "output_type": "stream",
     "text": [
      "True\n",
      "True\n",
      "132290323284352\n",
      "132290323215680\n",
      "132290323284352\n",
      "False\n",
      "True\n"
     ]
    }
   ],
   "source": [
    "a = []\n",
    "b = []\n",
    "c = a\n",
    "\n",
    "print(a == b)\n",
    "print(a == c)\n",
    "\n",
    "print(id(a))\n",
    "print(id(b))\n",
    "print(id(c))\n",
    "\n",
    "print(a is b)\n",
    "print(a is c)"
   ]
  },
  {
   "cell_type": "code",
   "execution_count": null,
   "metadata": {
    "colab": {
     "base_uri": "https://localhost:8080/"
    },
    "executionInfo": {
     "elapsed": 21,
     "status": "ok",
     "timestamp": 1712770013299,
     "user": {
      "displayName": "509 Academy",
      "userId": "04290973032679126188"
     },
     "user_tz": -240
    },
    "id": "onvBNweMV3Qe",
    "outputId": "2ac6f71d-ac9e-4818-acbb-74e801e2a680"
   },
   "outputs": [
    {
     "name": "stdout",
     "output_type": "stream",
     "text": [
      "{'album_name': 'Pink Floyd', 'songs': []}\n",
      "{'album_name': 'Radiohead', 'songs': []}\n",
      "\n",
      "{'album_name': 'Pink Floyd', 'songs': ['Breath']}\n",
      "{'album_name': 'Radiohead', 'songs': ['Reckoner']}\n"
     ]
    }
   ],
   "source": [
    "def create_album(album_name, songs=None):\n",
    "    if songs is None: # ուռաաա, հազիվ is-ը օգտագործեցինք\n",
    "        songs = []\n",
    "    return {'album_name':album_name,\n",
    "            'songs': songs}\n",
    "\n",
    "def add_song(album, song):\n",
    "    # print(song)\n",
    "    album['songs'].append(song)\n",
    "    return album\n",
    "\n",
    "pf = create_album('Pink Floyd')\n",
    "rh = create_album('Radiohead')\n",
    "# pf = {'album_name': 'Pink Floyd', 'songs': []}\n",
    "# rh = {'album_name': 'Radiohead', 'songs': []}\n",
    "\n",
    "print(pf)\n",
    "print(rh)\n",
    "print()\n",
    "\n",
    "print(add_song(pf, 'Breath'))\n",
    "print(add_song(rh, 'Reckoner'))"
   ]
  },
  {
   "cell_type": "code",
   "execution_count": null,
   "metadata": {
    "id": "KdYKM4n01771"
   },
   "outputs": [],
   "source": []
  },
  {
   "cell_type": "markdown",
   "metadata": {
    "id": "fyv_TpvAHVvB"
   },
   "source": [
    "# Lambdas (anonymous functions) (ոտի վրա ֆունկցիաներ)"
   ]
  },
  {
   "cell_type": "markdown",
   "metadata": {
    "id": "-2wIEuKyaWiU"
   },
   "source": [
    "Syntaxը\n",
    "\n",
    "```python\n",
    "lambda արգումենտներ: ինչ-որ բան որ պետքա վերադարձնենք\n",
    "```\n"
   ]
  },
  {
   "cell_type": "code",
   "execution_count": 9,
   "metadata": {
    "executionInfo": {
     "elapsed": 280,
     "status": "ok",
     "timestamp": 1734632428223,
     "user": {
      "displayName": "509 Academy",
      "userId": "04290973032679126188"
     },
     "user_tz": -60
    },
    "id": "ZB5ELhBAJhcc"
   },
   "outputs": [],
   "source": [
    "def xoranard(x):\n",
    "    return x**3"
   ]
  },
  {
   "cell_type": "code",
   "execution_count": 10,
   "metadata": {
    "colab": {
     "base_uri": "https://localhost:8080/"
    },
    "executionInfo": {
     "elapsed": 268,
     "status": "ok",
     "timestamp": 1734632451526,
     "user": {
      "displayName": "509 Academy",
      "userId": "04290973032679126188"
     },
     "user_tz": -60
    },
    "id": "JE3PLFDpYsr9",
    "outputId": "f0293d73-a2d2-4e88-a59e-44091baccaa9"
   },
   "outputs": [
    {
     "name": "stdout",
     "output_type": "stream",
     "text": [
      "64\n"
     ]
    }
   ],
   "source": [
    "xoranard = lambda x: x**3\n",
    "\n",
    "print(xoranard(4))"
   ]
  },
  {
   "cell_type": "markdown",
   "metadata": {
    "id": "n-tJ7tFcbIQU"
   },
   "source": [
    "### Մի քանի արգումենտով lambda"
   ]
  },
  {
   "cell_type": "code",
   "execution_count": 11,
   "metadata": {
    "colab": {
     "base_uri": "https://localhost:8080/"
    },
    "executionInfo": {
     "elapsed": 258,
     "status": "ok",
     "timestamp": 1734632502098,
     "user": {
      "displayName": "509 Academy",
      "userId": "04290973032679126188"
     },
     "user_tz": -60
    },
    "id": "KSnpv9dhY0J1",
    "outputId": "1a651b3f-034c-4214-d4b7-a967c719ff9b"
   },
   "outputs": [
    {
     "name": "stdout",
     "output_type": "stream",
     "text": [
      "16\n",
      "16\n"
     ]
    }
   ],
   "source": [
    "def bardzarcru_astican(x, y):\n",
    "    return x**y\n",
    "\n",
    "print(bardzarcru_astican(2, 4))\n",
    "\n",
    "bardzarcru_astican = lambda x, y: x**y\n",
    "print(bardzarcru_astican(2,4))"
   ]
  },
  {
   "cell_type": "code",
   "execution_count": null,
   "metadata": {
    "id": "JoYHwcuy-JuY"
   },
   "outputs": [],
   "source": []
  },
  {
   "cell_type": "markdown",
   "metadata": {
    "id": "hkMNQpIdbB3E"
   },
   "source": [
    "### default argumentով lambda"
   ]
  },
  {
   "cell_type": "code",
   "execution_count": 12,
   "metadata": {
    "colab": {
     "base_uri": "https://localhost:8080/"
    },
    "executionInfo": {
     "elapsed": 238,
     "status": "ok",
     "timestamp": 1734632513653,
     "user": {
      "displayName": "509 Academy",
      "userId": "04290973032679126188"
     },
     "user_tz": -60
    },
    "id": "mnYhHyWkZ3sd",
    "outputId": "5bd38b1f-d7c8-4e95-cb74-a718f922ac39"
   },
   "outputs": [
    {
     "name": "stdout",
     "output_type": "stream",
     "text": [
      "8\n",
      "16\n",
      "8\n",
      "16\n"
     ]
    }
   ],
   "source": [
    "def bardzarcru_astican(x, y=3):\n",
    "    return x**y\n",
    "\n",
    "print(bardzarcru_astican(2))\n",
    "print(bardzarcru_astican(2, 4))\n",
    "\n",
    "bardzarcru_astican = lambda x, y=3: x**y\n",
    "print(bardzarcru_astican(2))\n",
    "print(bardzarcru_astican(2, 4))"
   ]
  },
  {
   "cell_type": "markdown",
   "metadata": {
    "id": "RcvsQhLka-W8"
   },
   "source": [
    "### մի քանի բան վերադարձնել"
   ]
  },
  {
   "cell_type": "code",
   "execution_count": 13,
   "metadata": {
    "colab": {
     "base_uri": "https://localhost:8080/"
    },
    "executionInfo": {
     "elapsed": 317,
     "status": "ok",
     "timestamp": 1734632541288,
     "user": {
      "displayName": "509 Academy",
      "userId": "04290973032679126188"
     },
     "user_tz": -60
    },
    "id": "iwd6Fp4WJ-c7",
    "outputId": "ade70509-96a0-4698-9a99-fb2c6c993fe8"
   },
   "outputs": [
    {
     "name": "stdout",
     "output_type": "stream",
     "text": [
      "(8, 2)\n"
     ]
    }
   ],
   "source": [
    "def bardzarcru_astican(x, y=3):\n",
    "    return x**y, x\n",
    "\n",
    "print(bardzarcru_astican(2, 3))\n"
   ]
  },
  {
   "cell_type": "code",
   "execution_count": 14,
   "metadata": {
    "colab": {
     "base_uri": "https://localhost:8080/",
     "height": 158
    },
    "executionInfo": {
     "elapsed": 414,
     "status": "error",
     "timestamp": 1734632545152,
     "user": {
      "displayName": "509 Academy",
      "userId": "04290973032679126188"
     },
     "user_tz": -60
    },
    "id": "iFtHb8VAaiIF",
    "outputId": "af929c71-2421-44c9-9350-611ca8409bf0"
   },
   "outputs": [
    {
     "ename": "TypeError",
     "evalue": "'tuple' object is not callable",
     "output_type": "error",
     "traceback": [
      "\u001b[1;31m---------------------------------------------------------------------------\u001b[0m",
      "\u001b[1;31mTypeError\u001b[0m                                 Traceback (most recent call last)",
      "Input \u001b[1;32mIn [14]\u001b[0m, in \u001b[0;36m<cell line: 2>\u001b[1;34m()\u001b[0m\n\u001b[0;32m      1\u001b[0m bardzarcru_astican \u001b[38;5;241m=\u001b[39m \u001b[38;5;28;01mlambda\u001b[39;00m x, y: x\u001b[38;5;241m*\u001b[39m\u001b[38;5;241m*\u001b[39my, x\n\u001b[1;32m----> 2\u001b[0m \u001b[38;5;28mprint\u001b[39m(\u001b[43mbardzarcru_astican\u001b[49m\u001b[43m(\u001b[49m\u001b[38;5;241;43m2\u001b[39;49m\u001b[43m,\u001b[49m\u001b[43m \u001b[49m\u001b[38;5;241;43m3\u001b[39;49m\u001b[43m)\u001b[49m)\n",
      "\u001b[1;31mTypeError\u001b[0m: 'tuple' object is not callable"
     ]
    }
   ],
   "source": [
    "bardzarcru_astican = lambda x, y: x**y, x\n",
    "print(bardzarcru_astican(2, 3))\n"
   ]
  },
  {
   "cell_type": "code",
   "execution_count": 15,
   "metadata": {
    "colab": {
     "base_uri": "https://localhost:8080/"
    },
    "executionInfo": {
     "elapsed": 304,
     "status": "ok",
     "timestamp": 1734632549748,
     "user": {
      "displayName": "509 Academy",
      "userId": "04290973032679126188"
     },
     "user_tz": -60
    },
    "id": "UsAVvzrMa4Vi",
    "outputId": "30a6cbc5-743e-49c7-80ff-bf2dccc22157"
   },
   "outputs": [
    {
     "name": "stdout",
     "output_type": "stream",
     "text": [
      "(8, 2, 3)\n"
     ]
    }
   ],
   "source": [
    "bardzarcru_astican = lambda x, y: (x**y, x, y)\n",
    "print(bardzarcru_astican(2, 3))\n"
   ]
  },
  {
   "cell_type": "markdown",
   "metadata": {
    "id": "X8cfTfN8Hdu-"
   },
   "source": [
    "# Higher order functions (բարձրակարգ ֆունկցիաներ)\n",
    "կալդո ֆունկցիաներ (զուտ են ռեկլամն էի հիշել \"բարձրակարգ\" բառի պատճառով, լուրջ անուն չի)"
   ]
  },
  {
   "cell_type": "code",
   "execution_count": null,
   "metadata": {
    "id": "hn6ZXXPkHcQ-"
   },
   "outputs": [],
   "source": [
    "# ֆունկցիա որը մուտքում ընդունումա ֆունկցիա"
   ]
  },
  {
   "cell_type": "code",
   "execution_count": null,
   "metadata": {
    "id": "7_yl5qLbdiU9"
   },
   "outputs": [],
   "source": [
    "def ispanakan(anun):\n",
    "    return f\"Բարև {anun}իտո\"\n",
    "\n",
    "# ispanakan = lambda anun: f\"Բարև {anun}իտո\"\n",
    "\n",
    "def vracakan(anun):\n",
    "    return f\"Բարև {anun}իձե\""
   ]
  },
  {
   "cell_type": "code",
   "execution_count": null,
   "metadata": {
    "colab": {
     "base_uri": "https://localhost:8080/"
    },
    "executionInfo": {
     "elapsed": 407,
     "status": "ok",
     "timestamp": 1712771872520,
     "user": {
      "displayName": "509 Academy",
      "userId": "04290973032679126188"
     },
     "user_tz": -240
    },
    "id": "JhpnFgFJVOj5",
    "outputId": "f5367849-2eed-432a-fec4-001fe97ece6f"
   },
   "outputs": [
    {
     "name": "stdout",
     "output_type": "stream",
     "text": [
      "Բարև Հայկիտո\n",
      "Բարև Հայկիձե\n"
     ]
    }
   ],
   "source": [
    "anun = 'Հայկ'\n",
    "print(ispanakan(anun))\n",
    "print(vracakan(anun))"
   ]
  },
  {
   "cell_type": "code",
   "execution_count": null,
   "metadata": {
    "id": "P441eqwQKQZ6"
   },
   "outputs": [],
   "source": [
    "def barevel(anun, voch):\n",
    "    if voch = \"vracakan\":\n",
    "        return vracakan(anun)\n",
    "    elif voch == \"\"..."
   ]
  },
  {
   "cell_type": "code",
   "execution_count": null,
   "metadata": {
    "id": "4fQ52OkhdY71"
   },
   "outputs": [],
   "source": [
    "def barevel(anun, specific_barev):\n",
    "    return specific_barev(anun) # vracakan(anun)"
   ]
  },
  {
   "cell_type": "code",
   "execution_count": null,
   "metadata": {
    "colab": {
     "base_uri": "https://localhost:8080/"
    },
    "executionInfo": {
     "elapsed": 601,
     "status": "ok",
     "timestamp": 1712771995179,
     "user": {
      "displayName": "509 Academy",
      "userId": "04290973032679126188"
     },
     "user_tz": -240
    },
    "id": "sUFKrbCXeG0_",
    "outputId": "fb88f0e6-3311-434a-e1b3-26fd2e8ec094"
   },
   "outputs": [
    {
     "name": "stdout",
     "output_type": "stream",
     "text": [
      "Բարև Հայկիտո\n",
      "Բարև Հայկիձե\n"
     ]
    }
   ],
   "source": [
    "anun = 'Հայկ'\n",
    "print(barevel(anun, ispanakan))\n",
    "\n",
    "print(barevel(anun, vracakan))\n"
   ]
  },
  {
   "cell_type": "markdown",
   "metadata": {
    "id": "G5CTfJdve_mR"
   },
   "source": [
    "քանի որ եսիմինչ բան չենք անում, չարժի առանձին ֆունկցիա սարքենք ինչ-որ տեղ անուն դնենք իրան, հետո կանչենք \\\n",
    "Ավելի լավա ուղղակի ոտի վրա արագ սարքենք իրան, հետո մոռանանք որ գոյություն ունի\n"
   ]
  },
  {
   "cell_type": "code",
   "execution_count": null,
   "metadata": {
    "colab": {
     "base_uri": "https://localhost:8080/"
    },
    "executionInfo": {
     "elapsed": 614,
     "status": "ok",
     "timestamp": 1712772180984,
     "user": {
      "displayName": "509 Academy",
      "userId": "04290973032679126188"
     },
     "user_tz": -240
    },
    "id": "gjh50EQDeN3B",
    "outputId": "6598b944-edd1-4532-e992-008a01fa1135"
   },
   "outputs": [
    {
     "name": "stdout",
     "output_type": "stream",
     "text": [
      "Բարև Հայկիսիմո\n",
      "Բարև Հայկ ջան\n"
     ]
    }
   ],
   "source": [
    "print(barevel(anun, lambda anun: f\"Բարև {anun}իսիմո\"))\n",
    "print(barevel(anun, lambda anun: f\"Բարև {anun} ջան\")) # одноразовый\n"
   ]
  },
  {
   "cell_type": "markdown",
   "metadata": {
    "id": "cLH3DHSLmXk6"
   },
   "source": [
    "### Մեզ հայտնի ֆունկցիաներից"
   ]
  },
  {
   "cell_type": "code",
   "execution_count": null,
   "metadata": {
    "colab": {
     "base_uri": "https://localhost:8080/"
    },
    "executionInfo": {
     "elapsed": 448,
     "status": "ok",
     "timestamp": 1712772225454,
     "user": {
      "displayName": "509 Academy",
      "userId": "04290973032679126188"
     },
     "user_tz": -240
    },
    "id": "KQdz0Y7vmXEx",
    "outputId": "c69c07ea-4fa5-4eb4-f072-325dad0934ff"
   },
   "outputs": [
    {
     "name": "stdout",
     "output_type": "stream",
     "text": [
      "1132\n"
     ]
    }
   ],
   "source": [
    "tver = [1, 11, 509, 32, 231, 1132, 111]\n",
    "\n",
    "print(max(tver))"
   ]
  },
  {
   "cell_type": "code",
   "execution_count": null,
   "metadata": {
    "colab": {
     "base_uri": "https://localhost:8080/"
    },
    "executionInfo": {
     "elapsed": 396,
     "status": "ok",
     "timestamp": 1712772277370,
     "user": {
      "displayName": "509 Academy",
      "userId": "04290973032679126188"
     },
     "user_tz": -240
    },
    "id": "VoGz3DJoIIrS",
    "outputId": "ac841e13-dabc-40ea-e3b9-22fc1d6733f0"
   },
   "outputs": [
    {
     "name": "stdout",
     "output_type": "stream",
     "text": [
      "Help on built-in function max in module builtins:\n",
      "\n",
      "max(...)\n",
      "    max(iterable, *[, default=obj, key=func]) -> value\n",
      "    max(arg1, arg2, *args, *[, key=func]) -> value\n",
      "    \n",
      "    With a single iterable argument, return its biggest item. The\n",
      "    default keyword-only argument specifies an object to return if\n",
      "    the provided iterable is empty.\n",
      "    With two or more arguments, return the largest argument.\n",
      "\n"
     ]
    }
   ],
   "source": [
    "help(max)"
   ]
  },
  {
   "cell_type": "code",
   "execution_count": null,
   "metadata": {
    "colab": {
     "base_uri": "https://localhost:8080/"
    },
    "executionInfo": {
     "elapsed": 487,
     "status": "ok",
     "timestamp": 1712772322622,
     "user": {
      "displayName": "509 Academy",
      "userId": "04290973032679126188"
     },
     "user_tz": -240
    },
    "id": "ICzVSpU8m7Qu",
    "outputId": "1e8bd2c2-70ee-4586-befa-7737f358fd52"
   },
   "outputs": [
    {
     "name": "stdout",
     "output_type": "stream",
     "text": [
      "111\n"
     ]
    }
   ],
   "source": [
    "print(max(tver, key=lambda x: str(x).count('1'))) # նենց անենք որ ըստ մեկերի քանակի սորտավորի"
   ]
  },
  {
   "cell_type": "code",
   "execution_count": null,
   "metadata": {
    "colab": {
     "base_uri": "https://localhost:8080/"
    },
    "executionInfo": {
     "elapsed": 632,
     "status": "ok",
     "timestamp": 1712772657318,
     "user": {
      "displayName": "509 Academy",
      "userId": "04290973032679126188"
     },
     "user_tz": -240
    },
    "id": "ODeRBX3Sm7S_",
    "outputId": "25dca8a8-7aa9-4846-8371-f279736b0668"
   },
   "outputs": [
    {
     "name": "stdout",
     "output_type": "stream",
     "text": [
      "(4, 2)\n"
     ]
    }
   ],
   "source": [
    "tveri_zueger = ((1,10), (2,5), (3, 2), (4, 2))\n",
    "print(max(tveri_zueger))\n",
    "\n",
    "# x = (1, 10)\n",
    "# lambda x: x[0] * x[1]"
   ]
  },
  {
   "cell_type": "code",
   "execution_count": null,
   "metadata": {
    "colab": {
     "base_uri": "https://localhost:8080/"
    },
    "executionInfo": {
     "elapsed": 17,
     "status": "ok",
     "timestamp": 1712772657319,
     "user": {
      "displayName": "509 Academy",
      "userId": "04290973032679126188"
     },
     "user_tz": -240
    },
    "id": "iOloURHsnB2S",
    "outputId": "a53ce24e-4318-4a62-e281-0dce2d98788c"
   },
   "outputs": [
    {
     "name": "stdout",
     "output_type": "stream",
     "text": [
      "(1, 10)\n"
     ]
    }
   ],
   "source": [
    "print(max(tveri_zueger, key=lambda x: x[0]*x[1]))"
   ]
  },
  {
   "cell_type": "code",
   "execution_count": null,
   "metadata": {
    "id": "3pLwslj4nCH7"
   },
   "outputs": [],
   "source": []
  },
  {
   "cell_type": "code",
   "execution_count": null,
   "metadata": {
    "colab": {
     "base_uri": "https://localhost:8080/"
    },
    "executionInfo": {
     "elapsed": 12,
     "status": "ok",
     "timestamp": 1681137569996,
     "user": {
      "displayName": "509 Academy",
      "userId": "04290973032679126188"
     },
     "user_tz": -240
    },
    "id": "vrRTMFIjmgiJ",
    "outputId": "f76cbe07-4293-408d-ff94-797e1e19e91d"
   },
   "outputs": [
    {
     "name": "stdout",
     "output_type": "stream",
     "text": [
      "111\n"
     ]
    }
   ],
   "source": []
  },
  {
   "cell_type": "code",
   "execution_count": null,
   "metadata": {
    "id": "8BUwxuZenJO9"
   },
   "outputs": [],
   "source": [
    "def count_ones(x):\n",
    "    return str(x).count('1')"
   ]
  },
  {
   "cell_type": "code",
   "execution_count": null,
   "metadata": {
    "colab": {
     "base_uri": "https://localhost:8080/"
    },
    "executionInfo": {
     "elapsed": 459,
     "status": "ok",
     "timestamp": 1712772681935,
     "user": {
      "displayName": "509 Academy",
      "userId": "04290973032679126188"
     },
     "user_tz": -240
    },
    "id": "MZxfXCwymtmA",
    "outputId": "60b81539-29f4-43c0-f25f-87c1a06dcdb2"
   },
   "outputs": [
    {
     "name": "stdout",
     "output_type": "stream",
     "text": [
      "[1, 11, 509, 32, 231, 1132, 111]\n",
      "[509, 32, 1, 231, 11, 1132, 111]\n"
     ]
    }
   ],
   "source": [
    "print(tver)\n",
    "\n",
    "tver.sort(key=count_ones)\n",
    "print(tver)"
   ]
  },
  {
   "cell_type": "markdown",
   "metadata": {
    "id": "twKirpbEfWWo"
   },
   "source": [
    "# Map, filter, reduce"
   ]
  },
  {
   "cell_type": "markdown",
   "metadata": {
    "id": "PI3_nTd8lO_i"
   },
   "source": [
    "## Map"
   ]
  },
  {
   "cell_type": "code",
   "execution_count": null,
   "metadata": {
    "colab": {
     "base_uri": "https://localhost:8080/",
     "height": 145
    },
    "executionInfo": {
     "elapsed": 419,
     "status": "error",
     "timestamp": 1705594865494,
     "user": {
      "displayName": "509 Academy",
      "userId": "04290973032679126188"
     },
     "user_tz": -240
    },
    "id": "ZBS5gMyLjIbT",
    "outputId": "34d1cfd4-1139-48c1-d866-7c01e69a1cfc"
   },
   "outputs": [
    {
     "ename": "SyntaxError",
     "evalue": "invalid syntax. Perhaps you forgot a comma? (<ipython-input-58-9aa394208246>, line 1)",
     "output_type": "error",
     "traceback": [
      "\u001b[0;36m  File \u001b[0;32m\"<ipython-input-58-9aa394208246>\"\u001b[0;36m, line \u001b[0;32m1\u001b[0m\n\u001b[0;31m    map(ինչ-որ ֆունկցիա, հավաքածու)\u001b[0m\n\u001b[0m        ^\u001b[0m\n\u001b[0;31mSyntaxError\u001b[0m\u001b[0;31m:\u001b[0m invalid syntax. Perhaps you forgot a comma?\n"
     ]
    }
   ],
   "source": [
    "map(ինչ-որ ֆունկցիա, հավաքածու)"
   ]
  },
  {
   "cell_type": "code",
   "execution_count": null,
   "metadata": {
    "colab": {
     "base_uri": "https://localhost:8080/"
    },
    "executionInfo": {
     "elapsed": 418,
     "status": "ok",
     "timestamp": 1712772851326,
     "user": {
      "displayName": "509 Academy",
      "userId": "04290973032679126188"
     },
     "user_tz": -240
    },
    "id": "bpaLnofFN5Ts",
    "outputId": "a40ff5f1-f200-4266-8a54-a04d763f1e84"
   },
   "outputs": [
    {
     "data": {
      "text/plain": [
       "range(1, 4)"
      ]
     },
     "execution_count": 63,
     "metadata": {},
     "output_type": "execute_result"
    }
   ],
   "source": [
    "range(1,4)"
   ]
  },
  {
   "cell_type": "code",
   "execution_count": null,
   "metadata": {
    "colab": {
     "base_uri": "https://localhost:8080/"
    },
    "executionInfo": {
     "elapsed": 503,
     "status": "ok",
     "timestamp": 1712772795069,
     "user": {
      "displayName": "509 Academy",
      "userId": "04290973032679126188"
     },
     "user_tz": -240
    },
    "id": "wemBjFETfaAg",
    "outputId": "c212db21-c9d9-47b3-f6ac-a31207b187b1"
   },
   "outputs": [
    {
     "data": {
      "text/plain": [
       "<map at 0x78513d9c04f0>"
      ]
     },
     "execution_count": 61,
     "metadata": {},
     "output_type": "execute_result"
    }
   ],
   "source": [
    "map(lambda x: x**2, [5,0,9])"
   ]
  },
  {
   "cell_type": "code",
   "execution_count": null,
   "metadata": {
    "colab": {
     "base_uri": "https://localhost:8080/"
    },
    "executionInfo": {
     "elapsed": 572,
     "status": "ok",
     "timestamp": 1712772801870,
     "user": {
      "displayName": "509 Academy",
      "userId": "04290973032679126188"
     },
     "user_tz": -240
    },
    "id": "DApUTr__jFZk",
    "outputId": "baa03dc6-77d4-437c-b6a0-8e0f981482fc"
   },
   "outputs": [
    {
     "data": {
      "text/plain": [
       "[25, 0, 81]"
      ]
     },
     "execution_count": 62,
     "metadata": {},
     "output_type": "execute_result"
    }
   ],
   "source": [
    "list(map(lambda x: x**2, [5,0,9]))"
   ]
  },
  {
   "cell_type": "code",
   "execution_count": null,
   "metadata": {
    "id": "j15onKcVOILa"
   },
   "outputs": [],
   "source": [
    "def qarakusi(x):\n",
    "    return x**2\n",
    "\n",
    "list(map(qarakusi, [5,0,9]))"
   ]
  },
  {
   "cell_type": "code",
   "execution_count": null,
   "metadata": {
    "colab": {
     "base_uri": "https://localhost:8080/"
    },
    "executionInfo": {
     "elapsed": 498,
     "status": "ok",
     "timestamp": 1712772900703,
     "user": {
      "displayName": "509 Academy",
      "userId": "04290973032679126188"
     },
     "user_tz": -240
    },
    "id": "KikYlEaGjGmD",
    "outputId": "fde168fb-1b65-4e85-dff9-a486b83209fe"
   },
   "outputs": [
    {
     "data": {
      "text/plain": [
       "[25, 0, 81]"
      ]
     },
     "execution_count": 64,
     "metadata": {},
     "output_type": "execute_result"
    }
   ],
   "source": [
    "[qarakusi(i) for i in [5, 0, 9]]"
   ]
  },
  {
   "cell_type": "code",
   "execution_count": null,
   "metadata": {
    "colab": {
     "base_uri": "https://localhost:8080/"
    },
    "executionInfo": {
     "elapsed": 542,
     "status": "ok",
     "timestamp": 1712773046245,
     "user": {
      "displayName": "509 Academy",
      "userId": "04290973032679126188"
     },
     "user_tz": -240
    },
    "id": "B-Xo1hFnj-A2",
    "outputId": "b4a28a7a-7864-481e-de28-e0a9673e38e4"
   },
   "outputs": [
    {
     "data": {
      "text/plain": [
       "[True, False, True, True, False]"
      ]
     },
     "execution_count": 65,
     "metadata": {},
     "output_type": "execute_result"
    }
   ],
   "source": [
    "list(map(bool, [1, '', 3, -1, 0]))"
   ]
  },
  {
   "cell_type": "code",
   "execution_count": null,
   "metadata": {
    "colab": {
     "base_uri": "https://localhost:8080/"
    },
    "executionInfo": {
     "elapsed": 392,
     "status": "ok",
     "timestamp": 1705595087081,
     "user": {
      "displayName": "509 Academy",
      "userId": "04290973032679126188"
     },
     "user_tz": -240
    },
    "id": "1rNiguwskTup",
    "outputId": "9e473b6c-2fe8-4af2-89b7-482c8786d00e"
   },
   "outputs": [
    {
     "data": {
      "text/plain": [
       "[1, 27, -1, 0]"
      ]
     },
     "execution_count": 64,
     "metadata": {},
     "output_type": "execute_result"
    }
   ],
   "source": [
    "def xoranard(x):\n",
    "    return x**3\n",
    "\n",
    "list(map(xoranard, [1, 3, -1, 0]))\n",
    "\n"
   ]
  },
  {
   "cell_type": "code",
   "execution_count": null,
   "metadata": {
    "colab": {
     "base_uri": "https://localhost:8080/"
    },
    "executionInfo": {
     "elapsed": 5987,
     "status": "ok",
     "timestamp": 1712773111053,
     "user": {
      "displayName": "509 Academy",
      "userId": "04290973032679126188"
     },
     "user_tz": -240
    },
    "id": "8foA1n4HOhp_",
    "outputId": "09c1daba-b303-404e-a79e-ed963303d782"
   },
   "outputs": [
    {
     "name": "stdout",
     "output_type": "stream",
     "text": [
      "1 3 4\n",
      "1 3 4\n"
     ]
    },
    {
     "data": {
      "text/plain": [
       "[1, 9, 16]"
      ]
     },
     "execution_count": 67,
     "metadata": {},
     "output_type": "execute_result"
    }
   ],
   "source": [
    "\n",
    "# \"1 3 4\"\n",
    "# [1, 3, 4]\n",
    "[int(i) for i in input().split()]\n",
    "list(map(lambda x: int(x)**2, input().split()))"
   ]
  },
  {
   "cell_type": "markdown",
   "metadata": {
    "id": "vdx72eqRlFsC"
   },
   "source": [
    "Ինչի՞ ուղղակի list comprehension չօգտագործենք\n",
    "https://stackoverflow.com/questions/1247486/list-comprehension-vs-map\n"
   ]
  },
  {
   "cell_type": "markdown",
   "metadata": {
    "id": "Rp4WOwd_oXI9"
   },
   "source": [
    "## Filter"
   ]
  },
  {
   "cell_type": "code",
   "execution_count": null,
   "metadata": {
    "colab": {
     "base_uri": "https://localhost:8080/"
    },
    "executionInfo": {
     "elapsed": 18,
     "status": "ok",
     "timestamp": 1712773174886,
     "user": {
      "displayName": "509 Academy",
      "userId": "04290973032679126188"
     },
     "user_tz": -240
    },
    "id": "YCGJh_7GPCdQ",
    "outputId": "991b1f77-93c6-411c-ef8a-d33f640446c7"
   },
   "outputs": [
    {
     "data": {
      "text/plain": [
       "[0]"
      ]
     },
     "execution_count": 71,
     "metadata": {},
     "output_type": "execute_result"
    }
   ],
   "source": [
    "[i for i in [5, 0, 9] if i % 2 == 0]"
   ]
  },
  {
   "cell_type": "code",
   "execution_count": null,
   "metadata": {
    "colab": {
     "base_uri": "https://localhost:8080/"
    },
    "executionInfo": {
     "elapsed": 480,
     "status": "ok",
     "timestamp": 1712773214127,
     "user": {
      "displayName": "509 Academy",
      "userId": "04290973032679126188"
     },
     "user_tz": -240
    },
    "id": "21EYDR7UoX40",
    "outputId": "0b940160-e49c-4c2e-be9a-6b34dac08a09"
   },
   "outputs": [
    {
     "name": "stdout",
     "output_type": "stream",
     "text": [
      "[2, 4, 6]\n"
     ]
    }
   ],
   "source": [
    "numbers = [1, 2, 3, 4, 5, 6]\n",
    "even_numbers = filter(lambda x: x % 2 == 0, numbers)\n",
    "print(list(even_numbers))"
   ]
  },
  {
   "cell_type": "code",
   "execution_count": null,
   "metadata": {
    "colab": {
     "base_uri": "https://localhost:8080/"
    },
    "executionInfo": {
     "elapsed": 416,
     "status": "ok",
     "timestamp": 1712773230451,
     "user": {
      "displayName": "509 Academy",
      "userId": "04290973032679126188"
     },
     "user_tz": -240
    },
    "id": "QGTkemafZ8xr",
    "outputId": "be7c785c-58a7-4d05-81ac-fe45709f8e27"
   },
   "outputs": [
    {
     "name": "stdout",
     "output_type": "stream",
     "text": [
      "<filter object at 0x78513db7f790>\n"
     ]
    }
   ],
   "source": [
    "print(filter(lambda x: x % 2 == 0, numbers))"
   ]
  },
  {
   "cell_type": "code",
   "execution_count": null,
   "metadata": {
    "colab": {
     "base_uri": "https://localhost:8080/"
    },
    "executionInfo": {
     "elapsed": 22,
     "status": "ok",
     "timestamp": 1712773235287,
     "user": {
      "displayName": "509 Academy",
      "userId": "04290973032679126188"
     },
     "user_tz": -240
    },
    "id": "9NKcY-TxoiHX",
    "outputId": "95993a98-5838-4b9a-ea5d-070eea0e09a8"
   },
   "outputs": [
    {
     "data": {
      "text/plain": [
       "[2, 4, 6]"
      ]
     },
     "execution_count": 74,
     "metadata": {},
     "output_type": "execute_result"
    }
   ],
   "source": [
    "[i for i in numbers if i % 2 == 0]"
   ]
  },
  {
   "cell_type": "code",
   "execution_count": null,
   "metadata": {
    "id": "SHthFi5EoqL3"
   },
   "outputs": [],
   "source": [
    "# ստանալ բառերը որոնք մեծատառով են սկսվում\n",
    "barer = ['Պանիր', \"բարև\", \"պոնչիկ\"]"
   ]
  },
  {
   "cell_type": "code",
   "execution_count": null,
   "metadata": {
    "colab": {
     "base_uri": "https://localhost:8080/"
    },
    "executionInfo": {
     "elapsed": 337,
     "status": "ok",
     "timestamp": 1712773267149,
     "user": {
      "displayName": "509 Academy",
      "userId": "04290973032679126188"
     },
     "user_tz": -240
    },
    "id": "dBep3Tyjo0QG",
    "outputId": "a59adfaf-d598-43b6-9de3-3f21614c7dd0"
   },
   "outputs": [
    {
     "data": {
      "text/plain": [
       "['Պանիր']"
      ]
     },
     "execution_count": 76,
     "metadata": {},
     "output_type": "execute_result"
    }
   ],
   "source": [
    "list(filter(lambda x: x[0].isupper(), barer))"
   ]
  },
  {
   "cell_type": "code",
   "execution_count": null,
   "metadata": {
    "colab": {
     "base_uri": "https://localhost:8080/"
    },
    "executionInfo": {
     "elapsed": 396,
     "status": "ok",
     "timestamp": 1712773275573,
     "user": {
      "displayName": "509 Academy",
      "userId": "04290973032679126188"
     },
     "user_tz": -240
    },
    "id": "eheSU5HvpHUQ",
    "outputId": "645c8a2f-9b2c-4c7f-cf9a-78e08ed1aac4"
   },
   "outputs": [
    {
     "data": {
      "text/plain": [
       "['Պանիր']"
      ]
     },
     "execution_count": 77,
     "metadata": {},
     "output_type": "execute_result"
    }
   ],
   "source": [
    "[x for x in barer if x[0].isupper()]"
   ]
  },
  {
   "cell_type": "markdown",
   "metadata": {
    "id": "e1rgsCcipZ8-"
   },
   "source": [
    "## Reduce"
   ]
  },
  {
   "cell_type": "code",
   "execution_count": null,
   "metadata": {
    "colab": {
     "base_uri": "https://localhost:8080/"
    },
    "executionInfo": {
     "elapsed": 422,
     "status": "ok",
     "timestamp": 1712773576071,
     "user": {
      "displayName": "509 Academy",
      "userId": "04290973032679126188"
     },
     "user_tz": -240
    },
    "id": "u20n-nZIpbW1",
    "outputId": "84515283-10a2-47c7-e322-4a0768d2d72e"
   },
   "outputs": [
    {
     "name": "stdout",
     "output_type": "stream",
     "text": [
      "120\n"
     ]
    }
   ],
   "source": [
    "from functools import reduce\n",
    "\n",
    "numbers = [1, 2, 3, 4, 5]\n",
    "product = reduce(lambda x, y: x*y, numbers)\n",
    "print(product)"
   ]
  },
  {
   "cell_type": "code",
   "execution_count": null,
   "metadata": {
    "id": "IACzvKYEpncr"
   },
   "outputs": [],
   "source": [
    "1*2 = 2\n",
    "[1, 2, 3, 4, 5] -> [2, 3, 4, 5]\n",
    "\n",
    "2*3 = 6\n",
    "[2, 3, 4, 5] -> [6, 4, 5]\n",
    "\n",
    "6 * 4 = 24\n",
    "[6, 4, 5] -> [24, 5]\n",
    "\n",
    "24*5 = 120"
   ]
  }
 ],
 "metadata": {
  "colab": {
   "authorship_tag": "ABX9TyNFvj8xPbakjA6hRSBTsBj9",
   "provenance": [
    {
     "file_id": "1JVw8Xaj6Z2bN0dvY51AKWiutz-cwauZ3",
     "timestamp": 1734627312643
    },
    {
     "file_id": "1QXB9qZTX3Uuc29Pq_2AcIxwZovDYcYgN",
     "timestamp": 1712764647483
    },
    {
     "file_id": "1U8VjCYcEFdXBzqYLeBuv1vEOy1XvWonx",
     "timestamp": 1683302002877
    }
   ]
  },
  "kernelspec": {
   "display_name": "Python 3",
   "name": "python3"
  },
  "language_info": {
   "codemirror_mode": {
    "name": "ipython",
    "version": 3
   },
   "file_extension": ".py",
   "mimetype": "text/x-python",
   "name": "python",
   "nbconvert_exporter": "python",
   "pygments_lexer": "ipython3",
   "version": "3.10.14"
  }
 },
 "nbformat": 4,
 "nbformat_minor": 0
}

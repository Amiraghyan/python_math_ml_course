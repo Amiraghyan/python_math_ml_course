{
 "cells": [
  {
   "cell_type": "raw",
   "metadata": {
    "vscode": {
     "languageId": "raw"
    }
   },
   "source": [
    "---\n",
    "title: \"12 Streamlit, Recursion, Misc\"\n",
    "format: \n",
    "  html:\n",
    "    code-fold: false\n",
    "number-offset: 1\n",
    "---"
   ]
  },
  {
   "cell_type": "markdown",
   "metadata": {
    "vscode": {
     "languageId": "raw"
    }
   },
   "source": [
    "![image.png](../background_photos/py_12_rise_in_stone.jpg)\n",
    "[լուսանկարի հղումը (todo)](), Հեղինակ՝ [Vazgen](https://unsplash.com/@koryunhills)"
   ]
  },
  {
   "cell_type": "markdown",
   "metadata": {
    "vscode": {
     "languageId": "raw"
    }
   },
   "source": [
    "<a href=\"ToDo\" target=\"_parent\"><img src=\"https://colab.research.google.com/assets/colab-badge.svg\" alt=\"Open In Colab\"/></a> (ToDo)"
   ]
  },
  {
   "cell_type": "markdown",
   "metadata": {
    "vscode": {
     "languageId": "raw"
    }
   },
   "source": [
    "Song reference - ToDo"
   ]
  },
  {
   "cell_type": "markdown",
   "metadata": {
    "vscode": {
     "languageId": "raw"
    }
   },
   "source": [
    "# 🎦 Տեսադասեր + լրացուցիչ (ToDo)\n",
    "\n",
    "ToDo\n",
    "1. [Տեսություն 2025](https://youtu.be/TIWU_bjFuUc) \\\n",
    "2. [Տեսություն 2023 (ToDo)]()  \\\n",
    "3. [Գործնական 2025](https://youtu.be/zf8xEfdLXRo) \\\n",
    "4. [Գործնական 2023 (ToDo)]()  \\\n",
    "5. [Որոշ տնայինների լուծումներ (ToDo)]()\n",
    "    \n",
    "Google Forms ToDo"
   ]
  },
  {
   "cell_type": "markdown",
   "metadata": {},
   "source": []
  },
  {
   "cell_type": "markdown",
   "metadata": {
    "vscode": {
     "languageId": "raw"
    }
   },
   "source": [
    "# 📚 Նյութը"
   ]
  },
  {
   "cell_type": "markdown",
   "metadata": {},
   "source": [
    "## Streamlit\n",
    "- Gallery (official) - https://streamlit.io/gallery\n",
    "- Gallery (repo) - https://github.com/jrieke/best-of-streamlit\n",
    "- Example - https://prettymapp.streamlit.app/?ref=streamlit-io-gallery-favorites\n",
    "- Cheatsheet - https://luluwu-cheatsheet.streamlit.app/\n",
    "- Reference - https://docs.streamlit.io/develop/api-reference"
   ]
  },
  {
   "cell_type": "code",
   "execution_count": null,
   "metadata": {},
   "outputs": [],
   "source": [
    "!pip install streamlit\n",
    "!conda install streamlit"
   ]
  },
  {
   "cell_type": "markdown",
   "metadata": {},
   "source": [
    "place the code below into file `app.py`"
   ]
  },
  {
   "cell_type": "code",
   "execution_count": null,
   "metadata": {},
   "outputs": [],
   "source": [
    "\"\"\"\n",
    "streamlit run streamlit_app.py\n",
    "\n",
    "- Gallery (official) - https://streamlit.io/gallery\n",
    "- Gallery (repo) - https://github.com/jrieke/best-of-streamlit\n",
    "- Example - https://prettymapp.streamlit.app/?ref=streamlit-io-gallery-favorites\n",
    "- Cheatsheet - https://luluwu-cheatsheet.streamlit.app/\n",
    "- Reference - https://docs.streamlit.io/develop/api-reference\n",
    "\n",
    "pip install streamlit\n",
    "conda install streamlit\n",
    "\"\"\"\n",
    "from time import sleep\n",
    "\n",
    "import pandas as pd\n",
    "import streamlit as st\n",
    "import plotly.express as px\n",
    "\n",
    "# with st.echo():\n",
    "#     # congrats\n",
    "#     st.balloons()\n",
    "#     st.snow()\n",
    "    \n",
    "\n",
    "\n",
    "with st.echo():\n",
    "    # ---------- Displaying Text  ----------\n",
    "    # Title and Header\n",
    "    st.title(\"My Streamlit App\")\n",
    "    st.header(\"Welcome!\")\n",
    "\n",
    "with st.echo():\n",
    "    # Text\n",
    "    st.subheader(\"Text\")\n",
    "    st.text(\"This is a text block.\")\n",
    "\n",
    "with st.echo():\n",
    "    # Markdown\n",
    "    st.subheader(\"Markdown\")\n",
    "    st.markdown(\"This is a markdown block. You can write *italic*, **bold**, or even use [links](https://www.streamlit.io/).\")\n",
    "\n",
    "st.divider()\n",
    "# Latex\n",
    "st.subheader(\"Latex\")\n",
    "with st.echo():\n",
    "    st.latex(r\"Y = \\alpha + \\beta X_i\")\n",
    "\n",
    "with st.echo():\n",
    "    st.write(\"You can also use LaTeX for mathematical expressions like this: $E = mc^2$\")\n",
    "\n",
    "\n",
    "st.divider()\n",
    "st.subheader(\"Table\")\n",
    "with st.echo():\n",
    "    # ---------- Displaying DataFrames  ----------\n",
    "    # Displaying a Table\n",
    "    st.dataframe([{ 'Name': \"Գինի\", 'Age': 3 }, { 'Name': \"Պանիր\", 'Age': 1 }])\n",
    "\n",
    "with st.echo():\n",
    "    # DataFrame\n",
    "    data = {'Name': ['Մալխաս', 'Բարխուդարում', 'Մատատյան ու Մարոխյան'], 'Age': [3, 4, 1]}\n",
    "    df = pd.DataFrame(data)\n",
    "    st.dataframe(df)\n",
    "\n",
    "with st.echo():\n",
    "    st.json({\n",
    "        \"Product\": \"Պանիր\",\n",
    "        \"Type\": \"Չանախ\",\n",
    "    })\n",
    "\n",
    "# Plotly\n",
    "st.subheader(\"Plotly Bar Chart\")\n",
    "\n",
    "with st.echo():\n",
    "    st.divider()\n",
    "    fig = px.bar(df, x='Name', y='Age')\n",
    "    st.plotly_chart(fig)\n",
    "\n",
    "with st.echo():\n",
    "    st.line_chart([10, 14, 19, 20, 25, 30, 35, 40, 45, 50, 55, 60])\n",
    "\n",
    "st.divider()\n",
    "st.subheader(\"Interactive Widgets\")\n",
    "with st.echo():\n",
    "    # Interactive Widgets\n",
    "    # # # Button\n",
    "    if st.button(\"Click me!\"):\n",
    "        st.write(\"Button clicked!\")\n",
    "\n",
    "with st.echo():\n",
    "    # Checkbox\n",
    "    checkbox_value = st.checkbox(\"Check me!\")\n",
    "    if checkbox_value:\n",
    "        st.write(\"Checkbox checked!\")\n",
    "\n",
    "with st.echo():\n",
    "    # Selectbox\n",
    "    option = st.selectbox(\"Choose an option\", ['Option 1', 'Option 2', 'Option 3'])\n",
    "    st.write(\"You selected:\", option)\n",
    "\n",
    "with st.echo():\n",
    "    # Slider\n",
    "    slider_value = st.slider(\"Slide me\", 0, 100, step=5)\n",
    "    st.write(\"Slider value:\", slider_value)\n",
    "\n",
    "with st.echo():\n",
    "    num_input_value = st.number_input(\"Num input\", min_value=0.0, max_value=100., step=5.0) # պետքա float լինի\n",
    "    st.write(\"Number input value:\", num_input_value)\n",
    "\n",
    "with st.echo():\n",
    "    text = st.text_input(\"please input text\")\n",
    "    st.write(\"Text input value:\", text)\n",
    "\n",
    "with st.echo():\n",
    "    # File Uploader\n",
    "    uploaded_file = st.file_uploader(\"Upload a file\")\n",
    "    if uploaded_file is not None:\n",
    "        st.write(\"File uploaded!\")\n",
    "\n",
    "st.divider()\n",
    "# Displaying Progress\n",
    "st.subheader(\"Progress\")\n",
    "\n",
    "# with st.echo():\n",
    "#     progress_bar = st.progress(0)\n",
    "\n",
    "#     for i in range(100):\n",
    "#         sleep(0.1)\n",
    "#         progress_bar.progress(i + 1)\n",
    "\n",
    "with st.echo():\n",
    "    # Sidebar\n",
    "    st.sidebar.header(\"Sidebar\")\n",
    "    st.sidebar.text(\"This is a sidebar.\")\n",
    "\n",
    "with st.echo():\n",
    "    rating1 = st.feedback(\"stars\")\n",
    "    rating2 = st.feedback(\"faces\")\n",
    "    st.write(f\"Rating 1: {rating1}\")\n",
    "    st.write(f\"Rating 2: {rating2}\")\n",
    "\n",
    "with st.echo():\n",
    "    color = st.color_picker(\"Pick a color\")\n",
    "    st.write(\"Selected color:\", color)\n",
    "    \n",
    "with st.echo():\n",
    "    enable = st.checkbox(\"Enable camera\")\n",
    "    picture = st.camera_input(\"Take a picture\", disabled=not enable)\n",
    "\n",
    "    if picture:\n",
    "        st.image(picture)\n",
    "        \n",
    "with st.echo():\n",
    "    audio_value = st.audio_input(\"Record a voice message\")\n",
    "\n",
    "    if audio_value:\n",
    "        st.audio(audio_value)\n",
    "        \n",
    "with st.echo():\n",
    "    col1, col2, col3 = st.columns(3)\n",
    "\n",
    "    with col1:\n",
    "        st.header(\"A cat\")\n",
    "        st.image(\"https://static.streamlit.io/examples/cat.jpg\")\n",
    "\n",
    "    with col2:\n",
    "        st.header(\"A dog\")\n",
    "        st.image(\"https://static.streamlit.io/examples/dog.jpg\")\n",
    "\n",
    "    with col3:\n",
    "        st.header(\"An owl\")\n",
    "        st.image(\"https://static.streamlit.io/examples/owl.jpg\")"
   ]
  },
  {
   "cell_type": "markdown",
   "metadata": {},
   "source": [
    "# Recursion"
   ]
  },
  {
   "cell_type": "markdown",
   "metadata": {},
   "source": [
    "See https://github.com/HaykTarkhanyan/python_math_ml_course/blob/main/python/Recursion.ipynb"
   ]
  },
  {
   "cell_type": "markdown",
   "metadata": {},
   "source": [
    "## Decorators"
   ]
  },
  {
   "cell_type": "markdown",
   "metadata": {},
   "source": [
    "See \n",
    "https://github.com/HaykTarkhanyan/python_math_ml_course/blob/main/python/Decorators.ipynb"
   ]
  },
  {
   "cell_type": "markdown",
   "metadata": {},
   "source": [
    "# 🛠️ Գործնական\n"
   ]
  },
  {
   "cell_type": "markdown",
   "metadata": {},
   "source": [
    "# 🏡Տնային\n"
   ]
  },
  {
   "cell_type": "markdown",
   "metadata": {},
   "source": [
    "# 🎲 00\n",
    "- ▶️[Video]()\n",
    "- ▶️[Video 🔥]()\n",
    "- 🇦🇲🎶[]()\n",
    "- 🌐🎶[]()\n",
    "- 🤌[]()"
   ]
  },
  {
   "cell_type": "markdown",
   "metadata": {
    "id": "TfbUegKqXVyH"
   },
   "source": [
    "\n",
    "<a href=\"http://s01.flagcounter.com/more/1oO\"><img src=\"https://s01.flagcounter.com/count2/1oO/bg_FFFFFF/txt_000000/border_CCCCCC/columns_2/maxflags_10/viewers_0/labels_0/pageviews_1/flags_0/percent_0/\" alt=\"Flag Counter\"></a>\n"
   ]
  }
 ],
 "metadata": {
  "colab": {
   "authorship_tag": "ABX9TyOx7X+DxNeKu1zUVVCmsSHJ",
   "provenance": [
    {
     "file_id": "1_9UtYmPVVGmnWIKdBzPYkbtTlTbd0clo",
     "timestamp": 1735604987843
    },
    {
     "file_id": "15x56uwwONMo_ilzUJgt6UcX1d552xH6X",
     "timestamp": 1708441161475
    },
    {
     "file_id": "1LbG88IWtk30WlIoINzG4_vXHoJAvoDaP",
     "timestamp": 1683614319950
    }
   ]
  },
  "kernelspec": {
   "display_name": "Python 3",
   "name": "python3"
  },
  "language_info": {
   "codemirror_mode": {
    "name": "ipython",
    "version": 3
   },
   "file_extension": ".py",
   "mimetype": "text/x-python",
   "name": "python",
   "nbconvert_exporter": "python",
   "pygments_lexer": "ipython3",
   "version": "3.10.14"
  }
 },
 "nbformat": 4,
 "nbformat_minor": 0
}

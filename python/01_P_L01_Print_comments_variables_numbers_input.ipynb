{
  "cells": [
    {
      "cell_type": "markdown",
      "metadata": {
        "colab_type": "text",
        "id": "view-in-github"
      },
      "source": [
        "<a href=\"https://colab.research.google.com/github/HaykTarkhanyan/python_math_ml_course/blob/main/01_P_L01_Print_comments_variables_numbers_input.ipynb\" target=\"_parent\"><img src=\"https://colab.research.google.com/assets/colab-badge.svg\" alt=\"Open In Colab\"/></a>"
      ]
    },
    {
      "cell_type": "markdown",
      "metadata": {
        "id": "kO5vDhRwSWRR"
      },
      "source": [
        "`print(\"Բարևևևևևևև, եեեեերկիր\")` \\\n",
        "(с) [Shushan Petrosyan, Inga Anush Arshakyanner,\n",
        "Armen Martirosyan, Dodo Babayan](https://youtu.be/iZuZX06jvOo?t=81)"
      ]
    },
    {
      "cell_type": "markdown",
      "metadata": {
        "id": "S6rW9XxHlgrh"
      },
      "source": [
        "# Արտածում (Print(տպել))"
      ]
    },
    {
      "cell_type": "markdown",
      "metadata": {
        "id": "fwIHHbVlmfC_"
      },
      "source": [
        "Python-ում տվյալները արտածելու համար պարզապես գրում ենք print (տպել), ապա բաց փակագծերի մեջ թե ինչ ենք ուզում արտածել"
      ]
    },
    {
      "cell_type": "code",
      "execution_count": null,
      "metadata": {
        "colab": {
          "base_uri": "https://localhost:8080/"
        },
        "id": "zZKbJcXK-caS",
        "outputId": "40f0db7e-b750-4653-c9e6-63f8bc66d575"
      },
      "outputs": [
        {
          "name": "stdout",
          "output_type": "stream",
          "text": [
            "509\n"
          ]
        }
      ],
      "source": [
        "print(510)\n",
        "\n",
        "# print      (    509   )"
      ]
    },
    {
      "cell_type": "markdown",
      "metadata": {
        "id": "ngvg03NdmYP2"
      },
      "source": [
        "նույն ձև կարող ենք նաև տեքստ արտածել (տպել)"
      ]
    },
    {
      "cell_type": "code",
      "execution_count": null,
      "metadata": {
        "colab": {
          "base_uri": "https://localhost:8080/"
        },
        "id": "ECZ-gAVMlyvJ",
        "outputId": "8e8e551b-03f0-4497-c20f-15a201d56d3f"
      },
      "outputs": [
        {
          "name": "stdout",
          "output_type": "stream",
          "text": [
            "panir\n"
          ]
        }
      ],
      "source": [
        "print(\"panir\")\n",
        "# print(\"panir\") # կապ չունի մի չակերտ('') կդնենք թե երկու(\"\"), կարևորը նույն քանակությամբ"
      ]
    },
    {
      "cell_type": "markdown",
      "metadata": {
        "id": "y3uOCzGpmXq1"
      },
      "source": [
        "Կարող ենք նաև միանգամից մի քանի բան տպել"
      ]
    },
    {
      "cell_type": "code",
      "execution_count": null,
      "metadata": {
        "colab": {
          "base_uri": "https://localhost:8080/"
        },
        "id": "nkNYHe4Mdytu",
        "outputId": "3d379900-1df5-4e65-db86-a8bda7a5a2b7"
      },
      "outputs": [
        {
          "name": "stdout",
          "output_type": "stream",
          "text": [
            "Hello Malmo\n"
          ]
        }
      ],
      "source": [
        "print(\"Hello\", \"Malmo\")  # նկատենք որ արժեքները իրարից առանձնացվում են այս դեպքում բացատով, սրան դեռ կանդրադառնանք"
      ]
    },
    {
      "cell_type": "code",
      "execution_count": null,
      "metadata": {
        "colab": {
          "base_uri": "https://localhost:8080/"
        },
        "id": "EzCLYZ-VmmeB",
        "outputId": "e947d740-9056-4271-ba7d-d2bf8e76a0de"
      },
      "outputs": [
        {
          "name": "stdout",
          "output_type": "stream",
          "text": [
            "Hello Malmo 12 points go to\n"
          ]
        }
      ],
      "source": [
        "print('Hello', \"Malmo\", 12, 'points go to')"
      ]
    },
    {
      "cell_type": "markdown",
      "metadata": {
        "id": "-LsViS0Om-cf"
      },
      "source": [
        "Կարող ենք տարբեր տողերի վրա գրել հրամանները և Python-ը վերևից ներքև կարդալով կկատարի հրամանները"
      ]
    },
    {
      "cell_type": "code",
      "execution_count": null,
      "metadata": {
        "colab": {
          "base_uri": "https://localhost:8080/"
        },
        "id": "jJndmxEgnIr0",
        "outputId": "3c7f0a77-6e77-4684-af45-acabe43b0626"
      },
      "outputs": [
        {
          "name": "stdout",
          "output_type": "stream",
          "text": [
            "Hello Malmo 12 points go to\n",
            "Armenia\n"
          ]
        }
      ],
      "source": [
        "print('Hello', 'Malmo', 12, 'points go to')\n",
        "print('Armenia')"
      ]
    },
    {
      "cell_type": "markdown",
      "metadata": {
        "id": "aG8H7j8hFUq1"
      },
      "source": [
        "**Առաջադրանք** տպել \"Hello World!\" տեքստը և ուրախանալ"
      ]
    },
    {
      "cell_type": "code",
      "execution_count": null,
      "metadata": {
        "colab": {
          "base_uri": "https://localhost:8080/"
        },
        "id": "szISteUvml3w",
        "outputId": "884f75d2-3644-460c-afae-1443b2aae669"
      },
      "outputs": [
        {
          "name": "stdout",
          "output_type": "stream",
          "text": [
            "Hello World!\n"
          ]
        }
      ],
      "source": [
        "print(\"Hello World!\")"
      ]
    },
    {
      "cell_type": "code",
      "execution_count": null,
      "metadata": {
        "colab": {
          "base_uri": "https://localhost:8080/"
        },
        "id": "nfFH-okPFQOc",
        "outputId": "4feb6af2-8e06-4510-a6d9-87fcc460a27e"
      },
      "outputs": [
        {
          "name": "stdout",
          "output_type": "stream",
          "text": [
            "Hello World!\n"
          ]
        }
      ],
      "source": [
        "print(\"Hello World!\")"
      ]
    },
    {
      "cell_type": "markdown",
      "metadata": {
        "id": "z00pqiineD56"
      },
      "source": [
        "### sep"
      ]
    },
    {
      "cell_type": "markdown",
      "metadata": {
        "id": "VaTSmmc9n8Kg"
      },
      "source": [
        "եթե ուզում ենք որ արժեքները իրարից առանձնացվեն ոչթե բացատով այլ մեր ուզած բանով, ապա պետք է `print` հրամանի մեջ ավելացնենք՝ `print('ինչ-որ բան', 'ինչ-որ ուրիշ բան', sep='¯\\_(ツ)_/¯')`\n",
        "\n",
        "sep-ը գալիսա անգլերեն separator բառից, separate` բաժանել, separator՝ բաժանիչ կամ առանձնացնիչ (չգիտեմ ոնց թարգմանեմ :))"
      ]
    },
    {
      "cell_type": "code",
      "execution_count": null,
      "metadata": {
        "colab": {
          "base_uri": "https://localhost:8080/"
        },
        "id": "Dzs5_xtwpuXX",
        "outputId": "03f87c8a-a0b7-47c6-aef3-8ac4e25fdf42"
      },
      "outputs": [
        {
          "name": "stdout",
          "output_type": "stream",
          "text": [
            "ինչ-որ բան ինչ-որ ուրիշ բան\n",
            "ինչ-որ բան¯\\_(ツ)_/¯ինչ-որ ուրիշ բան\n",
            "1*2*3\n"
          ]
        }
      ],
      "source": [
        "print('ինչ-որ բան', 'ինչ-որ ուրիշ բան', sep=\" \")\n",
        "print('ինչ-որ բան', 'ինչ-որ ուրիշ բան', sep='¯\\_(ツ)_/¯')\n",
        "# print('ինչ-որ բան', sep=\"*\", 'ինչ-որ ուրիշ բան')\n",
        "\n",
        "print(\"1\", 2, 3, sep=\"*\")\n",
        "\n",
        "# default -> \" \""
      ]
    },
    {
      "cell_type": "markdown",
      "metadata": {
        "id": "qHBY_wiMeFoy"
      },
      "source": [
        "### end"
      ]
    },
    {
      "cell_type": "markdown",
      "metadata": {
        "id": "qTepikR1p4XW"
      },
      "source": [
        "Նաև կարող ենք նկատել որ եթե մի քանի տող print հրամաններ ունենք, ամեն մեկը արտածումա նոր տողի վրա, դա էլ կարող ենք փոխել\n",
        "\n",
        "Python-ում եթե ինչ-որ բան ուզում ենք նոր տողից տպել գրում ենք \\n (n-ը new բառիցա) գալիս, իսկ \\ը նրա համարա որ Python-ը հասկանա որ սովորական n տառը չենք ուզում տպենք"
      ]
    },
    {
      "cell_type": "code",
      "execution_count": null,
      "metadata": {
        "colab": {
          "base_uri": "https://localhost:8080/"
        },
        "id": "ze4pEQjgNg2k",
        "outputId": "73d55605-b5ba-4ea1-b45d-f20134145ae7"
      },
      "outputs": [
        {
          "name": "stdout",
          "output_type": "stream",
          "text": [
            "aaaa\n",
            "bbbb\n",
            "aaaa\n",
            "bbbb\n"
          ]
        }
      ],
      "source": [
        "print(\"aaaa\\nbbbb\")\n",
        "\n",
        "print(\"aaaa\")\n",
        "print(\"bbbb\")\n",
        "\n"
      ]
    },
    {
      "cell_type": "code",
      "execution_count": null,
      "metadata": {
        "colab": {
          "base_uri": "https://localhost:8080/"
        },
        "id": "zpqb7XgwqI7J",
        "outputId": "97d7d5bd-6093-4b73-b70d-d42f400526ed"
      },
      "outputs": [
        {
          "name": "stdout",
          "output_type": "stream",
          "text": [
            "ես առաջին տողի վրա եմ.ես էլ երկրորդ\n"
          ]
        }
      ],
      "source": [
        "print('ես առաջին տողի վրա եմ', end=\"\\n\")\n",
        "print('ես էլ երկրորդ')"
      ]
    },
    {
      "cell_type": "markdown",
      "metadata": {
        "id": "lrrcZfJBq9YX"
      },
      "source": [
        "Ինչպես տեսանք վերևում sep պարամետրը ավելացնելով փոխում էինք թե ինչպես արժեքները իրարից առանձնացվեն մեկ print հրամանում իսկ end ով կփոխենք թե ինչպես տարբեր տողերի print-երը իրարից առանձնացվեն (կամ էլ ուղղակի մեր պրինտի վերջում կարտածենք ինչ ուզենք)"
      ]
    },
    {
      "cell_type": "code",
      "execution_count": null,
      "metadata": {
        "colab": {
          "base_uri": "https://localhost:8080/"
        },
        "id": "pu14k9xOq93J",
        "outputId": "c29c53ba-1404-4aa4-aad2-6ea2df6e0cfd"
      },
      "outputs": [
        {
          "name": "stdout",
          "output_type": "stream",
          "text": [
            "Hello Malmo 12 points go to-Armenia\n"
          ]
        }
      ],
      "source": [
        "print('Hello', 'Malmo', 12, 'points go to', end='\\n') # սա այն տարբերակնա երբ end չենք տալիս (default տարբերակը)\n",
        "print('Armenia')"
      ]
    },
    {
      "cell_type": "code",
      "execution_count": null,
      "metadata": {
        "colab": {
          "base_uri": "https://localhost:8080/"
        },
        "id": "AzUh1X9YrDY5",
        "outputId": "f181a241-b77d-466b-9a0e-d1e0b5662fa9"
      },
      "outputs": [
        {
          "name": "stdout",
          "output_type": "stream",
          "text": [
            "Hello-Malmo-12-points go to... դրամատիկ դադար ...Armenia\n"
          ]
        }
      ],
      "source": [
        "print('Hello', 'Malmo', 12, 'points go to', end='... դրամատիկ դադար ...', sep=\"-\")\n",
        "print('Armenia')"
      ]
    },
    {
      "cell_type": "markdown",
      "metadata": {
        "id": "QzUfNa2SrcDG"
      },
      "source": [
        "Այս ամենը կարող ենք նաև միաժամանակ օգտագործել"
      ]
    },
    {
      "cell_type": "code",
      "execution_count": null,
      "metadata": {
        "id": "F1GGjU-Irhab"
      },
      "outputs": [],
      "source": [
        "print('ես առաջին print-ն եմ')\n",
        "print('իմ վերջում կլինի 5 հատ աստղանիշով', end='*****')\n",
        "print(3, 4, 1, 0, 'I love', 'կարգին հաղորդում')\n",
        "print('հեսա ներևում կտպենք նույն վերևի տողը ուղղակի ամենինչ իրարից գծիկով առանձնացված կլինի ու վերջում էլ կգրենք շնորհավոր ամանոր')\n",
        "print('ես երրորդ պրինտն եմ', 3, 4, 1, 0, 'I love', 'կարգին հաղորդում', sep='-', end='շնորհավոր ամանոր')\n",
        "\n"
      ]
    },
    {
      "cell_type": "markdown",
      "metadata": {
        "id": "lkcBydkqtJYn"
      },
      "source": [
        "Նկատենք որ\n",
        "1. 3, 4, 1, 0 թվերը միանգամից երկրորդ տողում են *****-ներից հետո, ոչ թե նոր տողից\n",
        "2. վերջին տողում հաղորդում բառից հետո - չկա\n"
      ]
    },
    {
      "cell_type": "markdown",
      "metadata": {
        "id": "M27JpC4MwM2f"
      },
      "source": [
        "# Comment-ներ (մեկնաբանություններ)\n"
      ]
    },
    {
      "cell_type": "markdown",
      "metadata": {
        "id": "LTvhic9BwQ0P"
      },
      "source": [
        "եթե ուզում ենք գրենք ծրագրի մասը որը նախատեսվածա մարդկանց համար (օրինակ հենց մեր), այլ ոչ թե համակարգչի դա կարող ենք անել այ սենց"
      ]
    },
    {
      "cell_type": "code",
      "execution_count": null,
      "metadata": {
        "colab": {
          "base_uri": "https://localhost:8080/"
        },
        "id": "Ynie4zv_wP-m",
        "outputId": "77bf5c4a-aa00-432e-fd75-a64e3a6998ab"
      },
      "outputs": [
        {
          "name": "stdout",
          "output_type": "stream",
          "text": [
            "1\n",
            "2\n"
          ]
        }
      ],
      "source": [
        "print(1)\n",
        "# ես տեսանելի եմ ձեզ, բայց համակարգիչը ինձ չի տեսնում\n",
        "print(2) # a"
      ]
    },
    {
      "cell_type": "code",
      "execution_count": null,
      "metadata": {
        "colab": {
          "base_uri": "https://localhost:8080/"
        },
        "id": "2V1Awjsowdi-",
        "outputId": "921293b6-a6d3-4200-fc84-831f3bfbf2d5"
      },
      "outputs": [
        {
          "name": "stdout",
          "output_type": "stream",
          "text": [
            "1\n",
            "2\n"
          ]
        }
      ],
      "source": [
        "print(1)\n",
        "\"\"\"Triple quotes\n",
        "ես մի քանի տողի վրա կարող եմ լինել,\n",
        "և մեկա\n",
        "կոդի աշխատելու վրա չեմ ազդի, բայց ես comment չեմ\n",
        "\"\"\"\n",
        "print(2)"
      ]
    },
    {
      "cell_type": "markdown",
      "metadata": {
        "id": "G6iC9ReKzuI3"
      },
      "source": [
        "# Փոփոխականներ (Variables)\n"
      ]
    },
    {
      "cell_type": "markdown",
      "metadata": {
        "id": "ULc0hEge2K21"
      },
      "source": [
        "Փոփոխականների միջոցով կարող ենք արժեքը հարմար պահել հիշողությունում և ապագայում օգտագործենք"
      ]
    },
    {
      "cell_type": "code",
      "execution_count": null,
      "metadata": {
        "colab": {
          "base_uri": "https://localhost:8080/"
        },
        "id": "U5YVPfXSzyKs",
        "outputId": "e67ebd9c-869e-4b75-c199-c4694bea8202"
      },
      "outputs": [
        {
          "name": "stdout",
          "output_type": "stream",
          "text": [
            "points go to\n",
            "138334359461680 138334359461680\n"
          ]
        }
      ],
      "source": [
        "a = \"points go to\"\n",
        "print(a)"
      ]
    },
    {
      "cell_type": "markdown",
      "metadata": {
        "id": "TKYiGxFh0lRf"
      },
      "source": [
        "### Փոփականների անվանում (Variable naming)"
      ]
    },
    {
      "cell_type": "code",
      "execution_count": null,
      "metadata": {
        "colab": {
          "base_uri": "https://localhost:8080/",
          "height": 109
        },
        "id": "kcXJW6-r1V42",
        "outputId": "f421f9ec-0ded-4088-bf87-10ef476e4fb8"
      },
      "outputs": [
        {
          "ename": "SyntaxError",
          "evalue": "invalid decimal literal (<ipython-input-31-04740db77c5e>, line 10)",
          "output_type": "error",
          "traceback": [
            "\u001b[0;36m  File \u001b[0;32m\"<ipython-input-31-04740db77c5e>\"\u001b[0;36m, line \u001b[0;32m10\u001b[0m\n\u001b[0;31m    2myvar = \"պանիր\"\u001b[0m\n\u001b[0m    ^\u001b[0m\n\u001b[0;31mSyntaxError\u001b[0m\u001b[0;31m:\u001b[0m invalid decimal literal\n"
          ]
        }
      ],
      "source": [
        "# կարելիա\n",
        "myvar = \"պանիր\" # var-ը variable-ի կարճնա ուղղակի\n",
        "my_var = \"պանիր\" # snake case\n",
        "_my_var = \"պանիր\"\n",
        "myVar = \"պանիր\" # camel case\n",
        "MYVAR = \"պանիր\"\n",
        "myvar2 = \"պանիր\"\n",
        "\n",
        "# չի կարելի\n",
        "2myvar = \"պանիր\"\n",
        "my-var = \"պանիր\"\n",
        "my var = \"պանիր\""
      ]
    },
    {
      "cell_type": "markdown",
      "metadata": {
        "id": "SQhZGxhc3LgO"
      },
      "source": [
        "1. Թույատրվուվումա օգտագործել հետևյալ նիշերւ՝ A-z, 0-9, և _\n",
        "2. Եթե երկու բառից կազմված անունա պայմանավորվածությունակ առանձնացնել իրարից _-ով\n",
        "3. իրավունք չունենք սկսել անունտ թվող, բայց _ ով կարող ենք\n",
        "4. մեծատառ փոքրատառը կապ ունեն, NAME ու name-ը նույն բանը չեն"
      ]
    },
    {
      "cell_type": "markdown",
      "metadata": {
        "id": "nI7M-d9Z6yqk"
      },
      "source": [
        "### Ամրագրված անուններ"
      ]
    },
    {
      "cell_type": "markdown",
      "metadata": {
        "id": "UyBJBYng7AsO"
      },
      "source": [
        "**չենք կարող օգտագործել հետևյալ անունները**\n",
        "\n",
        "False, def, if, raise, None, del, import, return, True, elif, in, try, and\n",
        "else, is, while, as, except, lambda, with, assert, finally, nonlocal, yield, break, for, not,\n",
        "class, from, or, continue, global, pass\n",
        "\n",
        "**Չարժի օգտագործել՝**\n",
        "O, I, l\n",
        "շատ հեշտ ա շփոթել 0, 1-ի հետ\n"
      ]
    },
    {
      "cell_type": "code",
      "execution_count": null,
      "metadata": {
        "colab": {
          "base_uri": "https://localhost:8080/",
          "height": 106
        },
        "id": "ZuiAZehb7GNM",
        "outputId": "1207c2a7-f379-441e-95fd-60f7e8a4cbcb"
      },
      "outputs": [
        {
          "ename": "SyntaxError",
          "evalue": "cannot assign to True (<ipython-input-30-cee96fa4ba6e>, line 1)",
          "output_type": "error",
          "traceback": [
            "\u001b[0;36m  File \u001b[0;32m\"<ipython-input-30-cee96fa4ba6e>\"\u001b[0;36m, line \u001b[0;32m1\u001b[0m\n\u001b[0;31m    True = 5\u001b[0m\n\u001b[0m    ^\u001b[0m\n\u001b[0;31mSyntaxError\u001b[0m\u001b[0;31m:\u001b[0m cannot assign to True\n"
          ]
        }
      ],
      "source": [
        "True = 5"
      ]
    },
    {
      "cell_type": "code",
      "execution_count": null,
      "metadata": {
        "id": "K1IBG7Tb7MKl"
      },
      "outputs": [],
      "source": [
        "print = 11"
      ]
    },
    {
      "cell_type": "code",
      "execution_count": null,
      "metadata": {
        "colab": {
          "base_uri": "https://localhost:8080/",
          "height": 141
        },
        "id": "E1LfXlgz9hbS",
        "outputId": "ac532274-8179-4619-85d3-04569cd7f64f"
      },
      "outputs": [
        {
          "ename": "TypeError",
          "evalue": "'int' object is not callable",
          "output_type": "error",
          "traceback": [
            "\u001b[0;31m---------------------------------------------------------------------------\u001b[0m",
            "\u001b[0;31mTypeError\u001b[0m                                 Traceback (most recent call last)",
            "\u001b[0;32m<ipython-input-20-e01230acb4d4>\u001b[0m in \u001b[0;36m<cell line: 1>\u001b[0;34m()\u001b[0m\n\u001b[0;32m----> 1\u001b[0;31m \u001b[0mprint\u001b[0m\u001b[0;34m(\u001b[0m\u001b[0;34m\"բարև\"\u001b[0m\u001b[0;34m)\u001b[0m\u001b[0;34m\u001b[0m\u001b[0;34m\u001b[0m\u001b[0m\n\u001b[0m",
            "\u001b[0;31mTypeError\u001b[0m: 'int' object is not callable"
          ]
        }
      ],
      "source": [
        "print(\"բարև\")"
      ]
    },
    {
      "cell_type": "code",
      "execution_count": null,
      "metadata": {
        "id": "1VTneXyL7RiV"
      },
      "outputs": [],
      "source": [
        "del print # ուղղենք արած սխալը"
      ]
    },
    {
      "cell_type": "markdown",
      "metadata": {
        "id": "CAVw6XE32t3k"
      },
      "source": [
        "### Կարող ենք մի տողով մի քանի փոփոխաններիի արժեքներ վերագրել"
      ]
    },
    {
      "cell_type": "code",
      "execution_count": null,
      "metadata": {
        "colab": {
          "base_uri": "https://localhost:8080/"
        },
        "id": "uOaR-6mf26tP",
        "outputId": "e31199a6-d79f-4c19-dc7e-638b5de2fcec"
      },
      "outputs": [
        {
          "name": "stdout",
          "output_type": "stream",
          "text": [
            "11\n",
            "509\n",
            "11 asdffnh\n",
            "<class 'int'>\n"
          ]
        }
      ],
      "source": [
        "a1 = 11\n",
        "b = 509\n",
        "\n",
        "print(a1)\n",
        "print(b)\n",
        "\n",
        "a2 = \"asdffnh\"\n",
        "print(a1, a2)"
      ]
    },
    {
      "cell_type": "code",
      "execution_count": null,
      "metadata": {
        "id": "5o6lr0no2_Nt"
      },
      "outputs": [],
      "source": [
        "a, b = 11, 509"
      ]
    },
    {
      "cell_type": "code",
      "execution_count": null,
      "metadata": {
        "colab": {
          "base_uri": "https://localhost:8080/",
          "height": 141
        },
        "id": "Iez4MUtS5CT9",
        "outputId": "7976dc34-4f7e-46b7-c845-2a6fa6c15f2f"
      },
      "outputs": [
        {
          "ename": "ValueError",
          "evalue": "not enough values to unpack (expected 3, got 2)",
          "output_type": "error",
          "traceback": [
            "\u001b[0;31m---------------------------------------------------------------------------\u001b[0m",
            "\u001b[0;31mValueError\u001b[0m                                Traceback (most recent call last)",
            "\u001b[0;32m<ipython-input-24-f5cd553d87fa>\u001b[0m in \u001b[0;36m<cell line: 1>\u001b[0;34m()\u001b[0m\n\u001b[0;32m----> 1\u001b[0;31m \u001b[0ma\u001b[0m\u001b[0;34m,\u001b[0m \u001b[0mb\u001b[0m\u001b[0;34m,\u001b[0m \u001b[0mc\u001b[0m \u001b[0;34m=\u001b[0m \u001b[0;36m11\u001b[0m\u001b[0;34m,\u001b[0m \u001b[0;36m509\u001b[0m\u001b[0;34m\u001b[0m\u001b[0;34m\u001b[0m\u001b[0m\n\u001b[0m",
            "\u001b[0;31mValueError\u001b[0m: not enough values to unpack (expected 3, got 2)"
          ]
        }
      ],
      "source": [
        "a, b, c = 11, 509"
      ]
    },
    {
      "cell_type": "code",
      "execution_count": null,
      "metadata": {
        "colab": {
          "base_uri": "https://localhost:8080/"
        },
        "id": "YAbgtqGo5bT1",
        "outputId": "b42b5692-b2cd-4f7a-872e-f6f9ca026af9"
      },
      "outputs": [
        {
          "name": "stdout",
          "output_type": "stream",
          "text": [
            "0\n"
          ]
        }
      ],
      "source": [
        "a = b = c = 0\n",
        "print(b)"
      ]
    },
    {
      "cell_type": "markdown",
      "metadata": {
        "id": "8Z-GrHkouMUf"
      },
      "source": [
        "# Թվեր և թվաբանական գործողություններ\n"
      ]
    },
    {
      "cell_type": "markdown",
      "metadata": {
        "id": "cxefh3MVuor_"
      },
      "source": [
        "### Թվերի տեսակներ\n"
      ]
    },
    {
      "cell_type": "markdown",
      "metadata": {
        "id": "5fGFhWpw3eOo"
      },
      "source": [
        "1. Integer (ամբողջ թիվ)\n",
        "2. Float (իրական թվեր, լողացող(float) ստորակետով)\n",
        "3. Complex (կոմպլեքս)"
      ]
    },
    {
      "cell_type": "code",
      "execution_count": null,
      "metadata": {
        "colab": {
          "base_uri": "https://localhost:8080/"
        },
        "id": "hhv4zgRMu8mF",
        "outputId": "42b2c515-fe5a-43d7-8929-d8aea7fe6f80"
      },
      "outputs": [
        {
          "name": "stdout",
          "output_type": "stream",
          "text": [
            "509 <class 'int'>\n",
            "1.1 <class 'float'>\n",
            "1.0 <class 'float'>\n",
            "0.9 <class 'float'>\n",
            "(3+5j) <class 'complex'>\n"
          ]
        }
      ],
      "source": [
        "print(509, type(509))\n",
        "print(1.1, type(1.1))\n",
        "print(1.0, type(1.))\n",
        "print(0.9, type(.9))\n",
        "print(3 + 5j, type(3 + 5j))\n",
        "\n",
        "# int(3.4) float(1)"
      ]
    },
    {
      "cell_type": "code",
      "execution_count": null,
      "metadata": {
        "colab": {
          "base_uri": "https://localhost:8080/"
        },
        "id": "Qbl7Pu7M-sJ-",
        "outputId": "ba69e538-975b-444e-ba69-fc79ea24dcd0"
      },
      "outputs": [
        {
          "name": "stdout",
          "output_type": "stream",
          "text": [
            "<class 'float'>\n",
            "11\n",
            "<class 'int'>\n",
            "11 <class 'int'>\n",
            "11.0 <class 'float'>\n"
          ]
        }
      ],
      "source": [
        "# կարող ենք թվի տեսակը փոխել այսպես\n",
        "print(type(11.509))\n",
        "print(int(11.509)) # float(11)\n",
        "print(type(int(11.509)))\n",
        "\n",
        "a = 11\n",
        "print(a, type(a))\n",
        "print(float(a), type(float(a)))"
      ]
    },
    {
      "cell_type": "markdown",
      "metadata": {
        "id": "VGWoMOvPyWLG"
      },
      "source": [
        "## Թվաբանական գործողություններ"
      ]
    },
    {
      "cell_type": "markdown",
      "metadata": {
        "id": "xSFDz3hi5rIX"
      },
      "source": [
        "### Գումարում, հանում, բազմապատկում, սովորական և ամբողթիվ բաժանում, աստիճան բարձրացնել, մնացորդ"
      ]
    },
    {
      "cell_type": "code",
      "execution_count": null,
      "metadata": {
        "colab": {
          "base_uri": "https://localhost:8080/"
        },
        "id": "toPbAirGyYqL",
        "outputId": "1a8e0d9b-b0fd-442a-f64d-6d7731204692"
      },
      "outputs": [
        {
          "name": "stdout",
          "output_type": "stream",
          "text": [
            "56\n",
            "56\n",
            "56\n"
          ]
        }
      ],
      "source": [
        "print(1+2+  53)\n",
        "print(1 + 2 + 53)\n",
        "print(1+2+53)"
      ]
    },
    {
      "cell_type": "code",
      "execution_count": null,
      "metadata": {
        "colab": {
          "base_uri": "https://localhost:8080/"
        },
        "id": "jOzxzo0o-Iie",
        "outputId": "81aafc6c-eddd-41bf-84d2-77c0ddd3258d"
      },
      "outputs": [
        {
          "name": "stdout",
          "output_type": "stream",
          "text": [
            "-3\n",
            "-5\n"
          ]
        }
      ],
      "source": [
        "print(1 - 4)\n",
        "print(-5)"
      ]
    },
    {
      "cell_type": "code",
      "execution_count": null,
      "metadata": {
        "colab": {
          "base_uri": "https://localhost:8080/"
        },
        "id": "facOehLByekD",
        "outputId": "55cb9f5f-b473-4e06-eb96-1c0b8339ffe5"
      },
      "outputs": [
        {
          "name": "stdout",
          "output_type": "stream",
          "text": [
            "2\n",
            "<class 'int'>\n",
            "3.1\n",
            "<class 'float'>\n",
            "3.0\n",
            "<class 'float'>\n",
            "(512.7+5j)\n"
          ]
        }
      ],
      "source": [
        "a = 1 + 1\n",
        "print(a)\n",
        "print(type(a))\n",
        "\n",
        "print(1 + 2.1)\n",
        "print(type(1 + 2.1)) # int + float = float\n",
        "\n",
        "print(1 + 2.0) # եթե ուղղակի . դնենք արդեն float կդառնա\n",
        "print(type(1 + 2.)) # եթե ուղղակի . դնենք արդեն float կդառնա\n",
        "\n",
        "\n",
        "# a = 3.7 + 1j\n",
        "# b = 509 + 4j\n",
        "\n",
        "# print(a + b)\n",
        "# # .9\n",
        "# # 1."
      ]
    },
    {
      "cell_type": "code",
      "execution_count": null,
      "metadata": {
        "colab": {
          "base_uri": "https://localhost:8080/"
        },
        "id": "5bTvH2hQAdd_",
        "outputId": "72a06273-fae5-4a11-a859-a8bb8bef5f23"
      },
      "outputs": [
        {
          "name": "stdout",
          "output_type": "stream",
          "text": [
            "3.0\n",
            "<class 'float'>\n"
          ]
        }
      ],
      "source": [
        "x = 1.0 + 2.0\n",
        "# Video ToDo\n",
        "print(x)\n",
        "print(type(x))"
      ]
    },
    {
      "cell_type": "code",
      "execution_count": null,
      "metadata": {
        "colab": {
          "base_uri": "https://localhost:8080/"
        },
        "id": "Yk2-UFgRyh6n",
        "outputId": "c75543aa-503f-412c-cfad-45a7763af687"
      },
      "outputs": [
        {
          "name": "stdout",
          "output_type": "stream",
          "text": [
            "60\n",
            "60.0\n"
          ]
        }
      ],
      "source": [
        "print(5 * 12)\n",
        "print(5 * 12.0)\n"
      ]
    },
    {
      "cell_type": "code",
      "execution_count": null,
      "metadata": {
        "colab": {
          "base_uri": "https://localhost:8080/"
        },
        "id": "oofcOXLWVJmy",
        "outputId": "595d7cb8-29c5-4711-c6b3-bf552ea409b2"
      },
      "outputs": [
        {
          "name": "stdout",
          "output_type": "stream",
          "text": [
            "4.666666666666667\n",
            "7.0\n"
          ]
        }
      ],
      "source": [
        "# / - միշտ տալիս ա float\n",
        "print(14 / 3)\n",
        "print(14 / 2)\n"
      ]
    },
    {
      "cell_type": "code",
      "execution_count": null,
      "metadata": {
        "colab": {
          "base_uri": "https://localhost:8080/"
        },
        "id": "ODglG4F1ylea",
        "outputId": "85c87065-fd31-4fea-8414-bab022b4dbe8"
      },
      "outputs": [
        {
          "name": "stdout",
          "output_type": "stream",
          "text": [
            "4\n",
            "<class 'int'>\n"
          ]
        }
      ],
      "source": [
        " print(14 // 3) # int(14/3)\n",
        " print(type(14//3))\n",
        "\n",
        "# 14 = 4 * 3 + 2\n",
        "# print(int(14/3))"
      ]
    },
    {
      "cell_type": "code",
      "execution_count": null,
      "metadata": {
        "id": "xizIKyqb54H7"
      },
      "outputs": [],
      "source": [
        "_print = 3\n",
        "barev = 3"
      ]
    },
    {
      "cell_type": "code",
      "execution_count": null,
      "metadata": {
        "colab": {
          "base_uri": "https://localhost:8080/"
        },
        "id": "Uhg2deKFyvdD",
        "outputId": "1633917d-6536-4884-9d80-db33707b0183"
      },
      "outputs": [
        {
          "name": "stdout",
          "output_type": "stream",
          "text": [
            "-2\n"
          ]
        }
      ],
      "source": [
        "print(-5 // 3) # ամբողջաթիվ բաժանում -5 = -2 * 3 + 1\n",
        "\n",
        "# 14 // 3\n",
        "# 4.6667\n",
        "# -5 / 3 = -1.666\n",
        "# -1 * 3 - 2\n",
        "# -2 * 3 + 1"
      ]
    },
    {
      "cell_type": "code",
      "execution_count": null,
      "metadata": {
        "colab": {
          "base_uri": "https://localhost:8080/"
        },
        "id": "ZoRnJGOhyygO",
        "outputId": "3443fa3c-74fd-4a3a-bf49-535cc81ae4ad"
      },
      "outputs": [
        {
          "name": "stdout",
          "output_type": "stream",
          "text": [
            "1\n"
          ]
        }
      ],
      "source": [
        "print(7 % 2) # մնացորդ 7 = 3 * 2 + 1"
      ]
    },
    {
      "cell_type": "code",
      "execution_count": null,
      "metadata": {
        "colab": {
          "base_uri": "https://localhost:8080/"
        },
        "id": "Hf5gmHy4ywot",
        "outputId": "3d99ef15-5f28-4a24-a7ed-328bf8d10895"
      },
      "outputs": [
        {
          "name": "stdout",
          "output_type": "stream",
          "text": [
            "8\n",
            "1.4142135623730951\n"
          ]
        }
      ],
      "source": [
        "print(2**3) # էքսպոնենտ\n",
        "print(2**(1/2))\n",
        "# 2 * 2 * 2"
      ]
    },
    {
      "cell_type": "markdown",
      "metadata": {
        "id": "g5R1B-lw44n3"
      },
      "source": [
        "### գործողությունների հերթականությունը"
      ]
    },
    {
      "cell_type": "code",
      "execution_count": null,
      "metadata": {
        "colab": {
          "base_uri": "https://localhost:8080/"
        },
        "id": "vSxhJGlC45wm",
        "outputId": "0a395ab0-3731-4bb1-9fdb-2598cd84a7e9"
      },
      "outputs": [
        {
          "name": "stdout",
          "output_type": "stream",
          "text": [
            "8\n"
          ]
        }
      ],
      "source": [
        "print(2 * (3 + 1)) # սկզբում փակագծի միջինը, հետո արտադրյալը"
      ]
    },
    {
      "cell_type": "code",
      "execution_count": null,
      "metadata": {
        "colab": {
          "base_uri": "https://localhost:8080/"
        },
        "id": "6QVJaaaX49Vn",
        "outputId": "d4140eb9-e963-4872-a22f-c4f9655adfe3"
      },
      "outputs": [
        {
          "name": "stdout",
          "output_type": "stream",
          "text": [
            "7\n"
          ]
        }
      ],
      "source": [
        "print(2*3 + 1) # սկզբում բազմապատկում հետո գումարում"
      ]
    },
    {
      "cell_type": "markdown",
      "metadata": {
        "id": "w8NkuW9l77s2"
      },
      "source": [
        "### Ավելի կարճ վերագրելու ձև"
      ]
    },
    {
      "cell_type": "code",
      "execution_count": null,
      "metadata": {
        "colab": {
          "base_uri": "https://localhost:8080/"
        },
        "id": "3steQWIP38bh",
        "outputId": "23f8b858-fcc1-4266-ab50-cc92de7a2dd4"
      },
      "outputs": [
        {
          "name": "stdout",
          "output_type": "stream",
          "text": [
            "18\n",
            "19\n"
          ]
        }
      ],
      "source": [
        "tariq = 18\n",
        "print(tariq)\n",
        "tariq = tariq + 1\n",
        "print(tariq)"
      ]
    },
    {
      "cell_type": "code",
      "execution_count": null,
      "metadata": {
        "colab": {
          "base_uri": "https://localhost:8080/"
        },
        "id": "qPv7z8PG8AKk",
        "outputId": "54126189-a840-4893-e177-0429e8cc1550"
      },
      "outputs": [
        {
          "name": "stdout",
          "output_type": "stream",
          "text": [
            "667.3645546259062\n"
          ]
        }
      ],
      "source": [
        "tariq = 18\n",
        "# tariq = tariq  1.5\n",
        "tariq += 1.5 # նույննա ինչ tariq = tariq + 1.5\n",
        "\n",
        "print(tariq)"
      ]
    },
    {
      "cell_type": "code",
      "execution_count": null,
      "metadata": {
        "colab": {
          "base_uri": "https://localhost:8080/"
        },
        "id": "ahHYsWel8EXR",
        "outputId": "52dce45d-7ecf-4d9a-a829-b9e787f5a544"
      },
      "outputs": [
        {
          "name": "stdout",
          "output_type": "stream",
          "text": [
            "12\n",
            "4\n"
          ]
        }
      ],
      "source": [
        "b = 4\n",
        "\n",
        "b *= 3 # b = b * 3\n",
        "print(b)\n",
        "b //= 3\n",
        "print(b)"
      ]
    },
    {
      "cell_type": "markdown",
      "metadata": {
        "id": "xdqJbd9OCU-P"
      },
      "source": [
        "# Input"
      ]
    },
    {
      "cell_type": "code",
      "execution_count": null,
      "metadata": {
        "colab": {
          "base_uri": "https://localhost:8080/"
        },
        "id": "ew4oB6AwCXNP",
        "outputId": "d9cabcb7-d281-4d1d-d0c9-b1411e749dcc"
      },
      "outputs": [
        {
          "name": "stdout",
          "output_type": "stream",
          "text": [
            "seydtd7tr\n",
            "Բարև seydtd7tr\n"
          ]
        }
      ],
      "source": [
        "a = input()\n",
        "print('Բարև', a)"
      ]
    },
    {
      "cell_type": "code",
      "execution_count": null,
      "metadata": {
        "colab": {
          "base_uri": "https://localhost:8080/"
        },
        "id": "3OYl54xe86EH",
        "outputId": "c26076a1-e857-4721-dacf-620b255f568d"
      },
      "outputs": [
        {
          "name": "stdout",
          "output_type": "stream",
          "text": [
            "awesrdtcfghbjnk\n"
          ]
        }
      ],
      "source": [
        "print(a)"
      ]
    },
    {
      "cell_type": "code",
      "execution_count": null,
      "metadata": {
        "colab": {
          "base_uri": "https://localhost:8080/",
          "height": 53
        },
        "id": "k00AO4T8PVwn",
        "outputId": "6c5378a8-255f-45a7-bf12-8ab11fb4325d"
      },
      "outputs": [
        {
          "name": "stdout",
          "output_type": "stream",
          "text": [
            "xdcfgvhbjnkl\n"
          ]
        },
        {
          "data": {
            "application/vnd.google.colaboratory.intrinsic+json": {
              "type": "string"
            },
            "text/plain": [
              "'xdcfgvhbjnkl'"
            ]
          },
          "execution_count": 61,
          "metadata": {},
          "output_type": "execute_result"
        }
      ],
      "source": [
        "input()\n"
      ]
    },
    {
      "cell_type": "markdown",
      "metadata": {
        "id": "WYZKVIPsCrcA"
      },
      "source": [
        "Մի քանի մուտք"
      ]
    },
    {
      "cell_type": "code",
      "execution_count": null,
      "metadata": {
        "colab": {
          "base_uri": "https://localhost:8080/"
        },
        "id": "IsfyeKsPCtRH",
        "outputId": "f4fea6ed-5477-46b4-9591-12490f1d7bea"
      },
      "outputs": [
        {
          "name": "stdout",
          "output_type": "stream",
          "text": [
            "Enter your name: hayk\n",
            "t\n",
            "hayk\n",
            "t\n"
          ]
        }
      ],
      "source": [
        "anun = input(\"Enter your name: \")\n",
        "azganun = input()\n",
        "\n",
        "print(anun)\n",
        "print(azganun)\n"
      ]
    },
    {
      "cell_type": "code",
      "execution_count": null,
      "metadata": {
        "colab": {
          "base_uri": "https://localhost:8080/"
        },
        "id": "pGcUBA2sdJqt",
        "outputId": "0405aa4a-13bc-4c91-ba51-33efb1466c26"
      },
      "outputs": [
        {
          "name": "stdout",
          "output_type": "stream",
          "text": [
            "1\n",
            "awserdtyguio\n",
            "awserdtyguio\n"
          ]
        }
      ],
      "source": [
        "a = 1\n",
        "print(a)\n",
        "\n",
        "a = input()\n",
        "print(a)"
      ]
    },
    {
      "cell_type": "code",
      "execution_count": null,
      "metadata": {
        "colab": {
          "base_uri": "https://localhost:8080/"
        },
        "id": "hTCnwousctz5",
        "outputId": "e0beb93f-3fca-4c95-e551-dea77b43d53d"
      },
      "outputs": [
        {
          "name": "stdout",
          "output_type": "stream",
          "text": [
            "5\n",
            "<class 'str'>\n",
            "<class 'int'>\n",
            "7\n"
          ]
        }
      ],
      "source": [
        "num = input()\n",
        "print(type(num))\n",
        "num = int(num)\n",
        "print(type(num))\n",
        "print(num + 2)\n"
      ]
    },
    {
      "cell_type": "code",
      "execution_count": null,
      "metadata": {
        "colab": {
          "base_uri": "https://localhost:8080/"
        },
        "id": "610CuLFT9Rfi",
        "outputId": "5d6f8d7e-bf7c-4a90-81cb-5e7e27bdbf12"
      },
      "outputs": [
        {
          "name": "stdout",
          "output_type": "stream",
          "text": [
            "5678\n",
            "<class 'int'>\n",
            "5679\n"
          ]
        }
      ],
      "source": [
        "tiv = int(input())\n",
        "\n",
        "print(type(tiv))\n",
        "\n",
        "print(tiv + 1)"
      ]
    },
    {
      "cell_type": "code",
      "execution_count": null,
      "metadata": {
        "colab": {
          "base_uri": "https://localhost:8080/"
        },
        "id": "ls0fUlP2Yyxe",
        "outputId": "0993f740-6a6f-41c3-ae23-d19f102ae994"
      },
      "outputs": [
        {
          "name": "stdout",
          "output_type": "stream",
          "text": [
            "1\n",
            "3\n"
          ]
        }
      ],
      "source": []
    },
    {
      "cell_type": "code",
      "execution_count": null,
      "metadata": {
        "colab": {
          "base_uri": "https://localhost:8080/"
        },
        "id": "INyWGyl6C0uG",
        "outputId": "fcd73b7a-54f8-4779-8898-b17ae759000c"
      },
      "outputs": [
        {
          "name": "stdout",
          "output_type": "stream",
          "text": [
            "Խնդրում ենք մուտքագրել թիվ134\n",
            "<class 'float'>\n",
            "44.0\n"
          ]
        }
      ],
      "source": [
        "number = float(input('Խնդրում ենք մուտքագրել թիվ'))\n",
        "print(type(number))\n",
        "print(number // 3)"
      ]
    },
    {
      "cell_type": "code",
      "execution_count": null,
      "metadata": {
        "colab": {
          "base_uri": "https://localhost:8080/"
        },
        "id": "J2xhRDaCDHwm",
        "outputId": "68da0af9-d790-40d4-9e04-985a67523c73"
      },
      "outputs": [
        {
          "name": "stdout",
          "output_type": "stream",
          "text": [
            "12\n",
            "<class 'str'>\n"
          ]
        }
      ],
      "source": [
        "# բայց պետքա զգույշ լինենք\n",
        "print(number)\n",
        "print(type(number)) # string-երի մասին դեռ կխոսենք\n"
      ]
    },
    {
      "cell_type": "code",
      "execution_count": null,
      "metadata": {
        "colab": {
          "base_uri": "https://localhost:8080/"
        },
        "id": "aHoVMCO-DPUN",
        "outputId": "2f17f04d-0f9d-423c-8807-6908b928a0d4"
      },
      "outputs": [
        {
          "name": "stdout",
          "output_type": "stream",
          "text": [
            "<class 'int'>\n"
          ]
        }
      ],
      "source": [
        "# թիվ դարձնելու համար պետք ա գրենք\n",
        "number = int(number) # կամ float(number)\n",
        "print(type(number))"
      ]
    }
  ],
  "metadata": {
    "colab": {
      "include_colab_link": true,
      "provenance": [],
      "toc_visible": true
    },
    "kernelspec": {
      "display_name": "Python 3",
      "name": "python3"
    },
    "language_info": {
      "name": "python"
    }
  },
  "nbformat": 4,
  "nbformat_minor": 0
}

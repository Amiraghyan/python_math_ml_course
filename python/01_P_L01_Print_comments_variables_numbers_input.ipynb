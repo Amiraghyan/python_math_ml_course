{
  "cells": [
    {
      "cell_type": "raw",
      "metadata": {
        "colab_type": "text",
        "id": "view-in-github",
        "vscode": {
          "languageId": "raw"
        }
      },
      "source": [
        "---\n",
        "title: \"01 Intro: Print, Comments, Variables, Numbers, Input\"\n",
        "format: \n",
        "  html:\n",
        "    code-fold: false\n",
        "number-offset: 1\n",
        "---"
      ]
    },
    {
      "cell_type": "markdown",
      "metadata": {},
      "source": [
        "![image.png](wallpapers/01_dilijan.png)\n",
        "Դիլիջան, [լուսանկարի հղումը](https://unsplash.com/photos/white-and-brown-houses-on-green-mountain-during-daytime-SyuDN_9hlz8?utm_source=63921&utm_medium=referral)"
      ]
    },
    {
      "cell_type": "markdown",
      "metadata": {},
      "source": [
        "<a href=\"https://colab.research.google.com/github/HaykTarkhanyan/python_math_ml_course/blob/main/python/01_P_L01_Print_comments_variables_numbers_input.ipynb\" target=\"_parent\"><img src=\"https://colab.research.google.com/assets/colab-badge.svg\" alt=\"Open In Colab\"/></a> (գուցե մի քիչ ավելի հին վերսիա լինի)"
      ]
    },
    {
      "cell_type": "markdown",
      "metadata": {
        "id": "kO5vDhRwSWRR"
      },
      "source": [
        "`print(\"Բարևևևևևևև, եեեեերկիր\")` \\\n",
        "(с) [Shushan Petrosyan, Inga Anush Arshakyanner,\n",
        "Armen Martirosyan, Dodo Babayan](https://youtu.be/iZuZX06jvOo?t=81)"
      ]
    },
    {
      "cell_type": "markdown",
      "metadata": {},
      "source": [
        "# 🎦 Տեսադասեր + Լրացուցիչ\n",
        "**Տեսանյութեր** \\\n",
        "1. [Youtube ալիքը](https://www.youtube.com/@MetricAcademy) \\\n",
        "2. [Բուն դասը](https://youtu.be/_C3sP0X7U_E)  \\\n",
        "3. [2023 թվի դասը (ToDo)]\n",
        "4. [Ամբողջական դասը](https://youtu.be/36GgB7Y8aMI) \\\n",
        "5. [Profound-ից օգտվելու վիդեո](https://youtu.be/BaQ0-hrcRtI) \\\n",
        "6. [Գործնական դասը](https://www.youtube.com/watch?v=Xdb7ivwWqxE)  \\\n",
        "7. [Որոշ տնայինների լուծումներ](https://www.youtube.com/playlist?list=PLfLD2TpGxVUxjP7WnHxAWfbd8LWSY-pix)\n",
        "\n",
        "Բոլոր խնդիրների լուծումներ ToDo\n",
        "\n",
        "**Լրացուցիչ** \\\n",
        "1. Ինչու՞ Python սովորել [սլայդեր](https://docs.google.com/presentation/d/1c7DJ-SEYtBsLXVWkmWrNnTyEo-bg2BYbmJtFPYq-Q1Y/edit?usp=sharing) \\\n",
        "2. Colab-ում կոդը աշխատացնել [հղում](https://hayktarkhanyan.github.io/python_math_ml_course/misc/google_colab.html) \\\n",
        "3. Python-ի խառը լրացուցիչ [նյութեր](https://hayktarkhanyan.notion.site/Python-resources-330beea6e8624afea06ee17485a58c40?pvs=74)\n"
      ]
    },
    {
      "cell_type": "markdown",
      "metadata": {},
      "source": [
        "# 📚 Նյութը"
      ]
    },
    {
      "cell_type": "markdown",
      "metadata": {
        "id": "S6rW9XxHlgrh"
      },
      "source": [
        "## Արտածում (Print(տպել))"
      ]
    },
    {
      "cell_type": "markdown",
      "metadata": {
        "id": "fwIHHbVlmfC_"
      },
      "source": [
        "Python-ում թիվ արտածելու համար պարզապես գրում ենք print (տպել), ապա բաց փակագծերի մեջ թե ինչ թիվ ուզում արտածել"
      ]
    },
    {
      "cell_type": "code",
      "execution_count": null,
      "metadata": {
        "colab": {
          "base_uri": "https://localhost:8080/"
        },
        "id": "zZKbJcXK-caS",
        "outputId": "40f0db7e-b750-4653-c9e6-63f8bc66d575"
      },
      "outputs": [],
      "source": [
        "print(509)\n",
        "\n",
        "# print      (    509   )"
      ]
    },
    {
      "cell_type": "markdown",
      "metadata": {
        "id": "ngvg03NdmYP2"
      },
      "source": [
        "նույն ձև կարող ենք նաև տեքստ արտածել (տպել)"
      ]
    },
    {
      "cell_type": "code",
      "execution_count": null,
      "metadata": {
        "colab": {
          "base_uri": "https://localhost:8080/"
        },
        "id": "ECZ-gAVMlyvJ",
        "outputId": "8e8e551b-03f0-4497-c20f-15a201d56d3f"
      },
      "outputs": [],
      "source": [
        "print(\"panir\")\n",
        "# print(\"panir\") # կապ չունի մի չակերտ('') կդնենք թե երկու(\"\"), կարևորը նույն քանակությամբ"
      ]
    },
    {
      "cell_type": "markdown",
      "metadata": {
        "id": "y3uOCzGpmXq1"
      },
      "source": [
        "Կարող ենք նաև միանգամից մի քանի բան տպել"
      ]
    },
    {
      "cell_type": "code",
      "execution_count": null,
      "metadata": {
        "colab": {
          "base_uri": "https://localhost:8080/"
        },
        "id": "nkNYHe4Mdytu",
        "outputId": "3d379900-1df5-4e65-db86-a8bda7a5a2b7"
      },
      "outputs": [],
      "source": [
        "print(\"Hello\", \"Malmo\")  # նկատենք որ արժեքները իրարից առանձնացվում են այս դեպքում բացատով, սրան դեռ կանդրադառնանք"
      ]
    },
    {
      "cell_type": "code",
      "execution_count": null,
      "metadata": {
        "colab": {
          "base_uri": "https://localhost:8080/"
        },
        "id": "EzCLYZ-VmmeB",
        "outputId": "e947d740-9056-4271-ba7d-d2bf8e76a0de"
      },
      "outputs": [],
      "source": [
        "print('Hello', \"Malmo\", 12, 'points go to')"
      ]
    },
    {
      "cell_type": "markdown",
      "metadata": {
        "id": "-LsViS0Om-cf"
      },
      "source": [
        "Կարող ենք տարբեր տողերի վրա գրել հրամանները և Python-ը վերևից ներքև կարդալով կկատարի հրամանները"
      ]
    },
    {
      "cell_type": "code",
      "execution_count": null,
      "metadata": {
        "colab": {
          "base_uri": "https://localhost:8080/"
        },
        "id": "jJndmxEgnIr0",
        "outputId": "3c7f0a77-6e77-4684-af45-acabe43b0626"
      },
      "outputs": [],
      "source": [
        "print('Hello', 'Malmo', 12, 'points go to')\n",
        "print('Armenia')"
      ]
    },
    {
      "cell_type": "markdown",
      "metadata": {
        "id": "aG8H7j8hFUq1"
      },
      "source": [
        "**Առաջադրանք** տպել \"Hello World!\" տեքստը և ուրախանալ"
      ]
    },
    {
      "cell_type": "code",
      "execution_count": null,
      "metadata": {
        "colab": {
          "base_uri": "https://localhost:8080/"
        },
        "id": "szISteUvml3w",
        "outputId": "884f75d2-3644-460c-afae-1443b2aae669"
      },
      "outputs": [],
      "source": [
        "\n",
        "\n",
        "\n",
        "\n"
      ]
    },
    {
      "cell_type": "code",
      "execution_count": null,
      "metadata": {
        "colab": {
          "base_uri": "https://localhost:8080/"
        },
        "id": "nfFH-okPFQOc",
        "outputId": "4feb6af2-8e06-4510-a6d9-87fcc460a27e"
      },
      "outputs": [],
      "source": [
        "print(\"Hello World!\")"
      ]
    },
    {
      "cell_type": "markdown",
      "metadata": {
        "id": "z00pqiineD56"
      },
      "source": [
        "### sep"
      ]
    },
    {
      "cell_type": "markdown",
      "metadata": {
        "id": "VaTSmmc9n8Kg"
      },
      "source": [
        "եթե ուզում ենք որ արժեքները իրարից առանձնացվեն ոչթե բացատով այլ մեր ուզած բանով, ապա պետք է `print` հրամանի մեջ ավելացնենք՝ `print('ինչ-որ բան', 'ինչ-որ ուրիշ բան', sep='¯\\_(ツ)_/¯')`\n",
        "\n",
        "sep-ը գալիսա անգլերեն separator բառից, separate` բաժանել, separator՝ բաժանիչ կամ առանձնացնիչ (չգիտեմ ոնց թարգմանեմ :))"
      ]
    },
    {
      "cell_type": "code",
      "execution_count": null,
      "metadata": {
        "colab": {
          "base_uri": "https://localhost:8080/"
        },
        "id": "Dzs5_xtwpuXX",
        "outputId": "03f87c8a-a0b7-47c6-aef3-8ac4e25fdf42"
      },
      "outputs": [],
      "source": [
        "print('ինչ-որ բան', 'ինչ-որ ուրիշ բան')\n",
        "print('ինչ-որ բան', 'ինչ-որ ուրիշ բան', sep=\" \")\n",
        "print('ինչ-որ բան', 'ինչ-որ ուրիշ բան', sep='¯\\_(ツ)_/¯')\n",
        "\n",
        "# default -> \" \""
      ]
    },
    {
      "cell_type": "markdown",
      "metadata": {},
      "source": [
        "Պարտադիր պետք ա ՝sep՝-ը նշենք վերջում"
      ]
    },
    {
      "cell_type": "code",
      "execution_count": null,
      "metadata": {},
      "outputs": [],
      "source": [
        "print('ինչ-որ բան', sep=\"*\", 'ինչ-որ ուրիշ բան')\n"
      ]
    },
    {
      "cell_type": "markdown",
      "metadata": {
        "id": "qHBY_wiMeFoy"
      },
      "source": [
        "### end"
      ]
    },
    {
      "cell_type": "markdown",
      "metadata": {
        "id": "qTepikR1p4XW"
      },
      "source": [
        "Նաև կարող ենք նկատել որ եթե մի քանի տող print հրամաններ ունենք, ամեն մեկը արտածումա նոր տողի վրա՝  դա էլ կարող ենք փոխել\n",
        "\n",
        "Python-ում եթե ինչ-որ բան ուզում ենք նոր տողից տպել գրում ենք \\n (n-ը new բառիցա) գալիս, իսկ \\ը նրա համարա որ Python-ը հասկանա որ սովորական n տառը չենք ուզում տպենք"
      ]
    },
    {
      "cell_type": "code",
      "execution_count": null,
      "metadata": {
        "colab": {
          "base_uri": "https://localhost:8080/"
        },
        "id": "ze4pEQjgNg2k",
        "outputId": "73d55605-b5ba-4ea1-b45d-f20134145ae7"
      },
      "outputs": [],
      "source": [
        "print(\"aaaa\\nbbbb\")\n",
        "\n",
        "print(\"aaaa\")\n",
        "print(\"bbbb\")"
      ]
    },
    {
      "cell_type": "code",
      "execution_count": null,
      "metadata": {
        "colab": {
          "base_uri": "https://localhost:8080/"
        },
        "id": "zpqb7XgwqI7J",
        "outputId": "97d7d5bd-6093-4b73-b70d-d42f400526ed"
      },
      "outputs": [],
      "source": [
        "print('ես առաջին տողի վրա եմ', end=\"\\n\")\n",
        "print('ես էլ երկրորդ')"
      ]
    },
    {
      "cell_type": "code",
      "execution_count": null,
      "metadata": {},
      "outputs": [],
      "source": [
        "print('ես առաջին տողի վրա եմ', end=\"*\")\n",
        "print('հեսա գամ կողքդ')"
      ]
    },
    {
      "cell_type": "markdown",
      "metadata": {
        "id": "lrrcZfJBq9YX"
      },
      "source": [
        "Ինչպես տեսանք վերևում sep պարամետրը ավելացնելով փոխում էինք թե ինչպես արժեքները իրարից առանձնացվեն մեկ print հրամանում իսկ end ով կփոխենք թե ինչպես տարբեր տողերի print-երը իրարից առանձնացվեն (կամ էլ ուղղակի մեր պրինտի վերջում կարտածենք ինչ ուզենք)"
      ]
    },
    {
      "cell_type": "code",
      "execution_count": null,
      "metadata": {
        "colab": {
          "base_uri": "https://localhost:8080/"
        },
        "id": "pu14k9xOq93J",
        "outputId": "c29c53ba-1404-4aa4-aad2-6ea2df6e0cfd"
      },
      "outputs": [],
      "source": [
        "print('Hello', 'Malmo', 12, 'points go to', end='\\n') # սա այն տարբերակնա երբ end չենք տալիս (default տարբերակը)\n",
        "print('Armenia')"
      ]
    },
    {
      "cell_type": "code",
      "execution_count": null,
      "metadata": {
        "colab": {
          "base_uri": "https://localhost:8080/"
        },
        "id": "AzUh1X9YrDY5",
        "outputId": "f181a241-b77d-466b-9a0e-d1e0b5662fa9"
      },
      "outputs": [],
      "source": [
        "print('Hello', 'Malmo', 12, 'points go to', end='... դրամատիկ դադար ...', sep=\"-\")\n",
        "print('Armenia')"
      ]
    },
    {
      "cell_type": "markdown",
      "metadata": {
        "id": "QzUfNa2SrcDG"
      },
      "source": [
        "Այս ամենը կարող ենք նաև միաժամանակ օգտագործել"
      ]
    },
    {
      "cell_type": "code",
      "execution_count": null,
      "metadata": {
        "id": "F1GGjU-Irhab"
      },
      "outputs": [],
      "source": [
        "print('ես առաջին print-ն եմ')\n",
        "print('իմ վերջում կլինի 5 հատ աստղանիշով', end='*****')\n",
        "print(3, 4, 1, 0, 'I love', 'կարգին հաղորդում')\n",
        "print('հեսա ներևում կտպենք նույն վերևի տողը ուղղակի ամենինչ իրարից գծիկով առանձնացված կլինի ու վերջում էլ կգրենք շնորհավոր ամանոր')\n",
        "print('ես երրորդ պրինտն եմ', 3, 4, 1, 0, 'I love', 'կարգին հաղորդում', sep='-', end='շնորհավոր ամանոր')"
      ]
    },
    {
      "cell_type": "markdown",
      "metadata": {
        "id": "lkcBydkqtJYn"
      },
      "source": [
        "Նկատենք որ\n",
        "1. 3, 4, 1, 0 թվերը միանգամից երկրորդ տողում են *****-ներից հետո, ոչ թե նոր տողից\n",
        "2. վերջին տողում հաղորդում բառից հետո - չկա\n"
      ]
    },
    {
      "cell_type": "markdown",
      "metadata": {
        "id": "M27JpC4MwM2f"
      },
      "source": [
        "## Comment-ներ (մեկնաբանություններ)\n"
      ]
    },
    {
      "cell_type": "markdown",
      "metadata": {
        "id": "LTvhic9BwQ0P"
      },
      "source": [
        "եթե ուզում ենք գրենք ծրագրի մասը որը նախատեսվածա մարդկանց համար (օրինակ հենց մեր), այլ ոչ թե համակարգչի դա կարող ենք անել այ սենց"
      ]
    },
    {
      "cell_type": "code",
      "execution_count": null,
      "metadata": {
        "colab": {
          "base_uri": "https://localhost:8080/"
        },
        "id": "Ynie4zv_wP-m",
        "outputId": "77bf5c4a-aa00-432e-fd75-a64e3a6998ab"
      },
      "outputs": [],
      "source": [
        "print(1)\n",
        "# ես տեսանելի եմ ձեզ, բայց համակարգիչը ինձ չի տեսնում\n",
        "print(2) # a"
      ]
    },
    {
      "cell_type": "code",
      "execution_count": null,
      "metadata": {
        "colab": {
          "base_uri": "https://localhost:8080/"
        },
        "id": "2V1Awjsowdi-",
        "outputId": "921293b6-a6d3-4200-fc84-831f3bfbf2d5"
      },
      "outputs": [],
      "source": [
        "print(1)\n",
        "\"\"\"Triple quotes\n",
        "ես մի քանի տողի վրա կարող եմ լինել,\n",
        "և մեկա\n",
        "կոդի աշխատելու վրա չեմ ազդի, բայց ես comment չեմ\n",
        "\"\"\"\n",
        "print(2)"
      ]
    },
    {
      "cell_type": "markdown",
      "metadata": {
        "id": "G6iC9ReKzuI3"
      },
      "source": [
        "## Փոփոխականներ (Variables)\n"
      ]
    },
    {
      "cell_type": "markdown",
      "metadata": {
        "id": "ULc0hEge2K21"
      },
      "source": [
        "Փոփոխականների միջոցով կարող ենք արժեքը հարմար պահել հիշողությունում և ապագայում օգտագործենք\n",
        "(տետր, դարակի օրինակ)"
      ]
    },
    {
      "cell_type": "code",
      "execution_count": null,
      "metadata": {
        "colab": {
          "base_uri": "https://localhost:8080/"
        },
        "id": "U5YVPfXSzyKs",
        "outputId": "e67ebd9c-869e-4b75-c199-c4694bea8202"
      },
      "outputs": [],
      "source": [
        "a = \"points go to\"\n",
        "print(a)"
      ]
    },
    {
      "cell_type": "markdown",
      "metadata": {
        "id": "TKYiGxFh0lRf"
      },
      "source": [
        "### Փոփականների անվանում (Variable naming)"
      ]
    },
    {
      "cell_type": "code",
      "execution_count": null,
      "metadata": {
        "colab": {
          "base_uri": "https://localhost:8080/",
          "height": 109
        },
        "id": "kcXJW6-r1V42",
        "outputId": "f421f9ec-0ded-4088-bf87-10ef476e4fb8"
      },
      "outputs": [],
      "source": [
        "# կարելիա\n",
        "myvar = \"պանիր\" # var-ը variable-ի կարճնա ուղղակի\n",
        "my_var = \"պանիր\" # snake case\n",
        "_my_var = \"պանիր\"\n",
        "myVar = \"պանիր\" # camel case\n",
        "MYVAR = \"պանիր\"\n",
        "myvar2 = \"պանիր\"\n",
        "\n",
        "# չի կարելի\n",
        "2myvar = \"պանիր\"\n",
        "my-var = \"պանիր\"\n",
        "my var = \"պանիր\""
      ]
    },
    {
      "cell_type": "markdown",
      "metadata": {
        "id": "SQhZGxhc3LgO"
      },
      "source": [
        "1. Թույատրվուվումա օգտագործել հետևյալ նիշերւ՝ A-z, 0-9, և _\n",
        "2. Եթե երկու բառից կազմված անունա պայմանավորվածությունակ առանձնացնել իրարից _-ով\n",
        "3. իրավունք չունենք սկսել անունտ թվող, բայց _ ով կարող ենք\n",
        "4. մեծատառ փոքրատառը կապ ունեն, NAME ու name-ը նույն բանը չեն"
      ]
    },
    {
      "cell_type": "markdown",
      "metadata": {
        "id": "nI7M-d9Z6yqk"
      },
      "source": [
        "### Ամրագրված անուններ"
      ]
    },
    {
      "cell_type": "markdown",
      "metadata": {
        "id": "UyBJBYng7AsO"
      },
      "source": [
        "**չենք կարող օգտագործել հետևյալ անունները**\n",
        "\n",
        "False, def, if, raise, None, del, import, return, True, elif, in, try, and\n",
        "else, is, while, as, except, lambda, with, assert, finally, nonlocal, yield, break, for, not,\n",
        "class, from, or, continue, global, pass\n",
        "\n",
        "**Չարժի օգտագործել՝**\n",
        "O, I, l\n",
        "շատ հեշտ ա շփոթել 0, 1-ի հետ\n"
      ]
    },
    {
      "cell_type": "code",
      "execution_count": null,
      "metadata": {
        "colab": {
          "base_uri": "https://localhost:8080/",
          "height": 106
        },
        "id": "ZuiAZehb7GNM",
        "outputId": "1207c2a7-f379-441e-95fd-60f7e8a4cbcb"
      },
      "outputs": [],
      "source": [
        "True = 5"
      ]
    },
    {
      "cell_type": "code",
      "execution_count": null,
      "metadata": {
        "id": "K1IBG7Tb7MKl"
      },
      "outputs": [],
      "source": [
        "print = 11"
      ]
    },
    {
      "cell_type": "code",
      "execution_count": null,
      "metadata": {
        "colab": {
          "base_uri": "https://localhost:8080/",
          "height": 141
        },
        "id": "E1LfXlgz9hbS",
        "outputId": "ac532274-8179-4619-85d3-04569cd7f64f"
      },
      "outputs": [],
      "source": [
        "print(\"բարև\")"
      ]
    },
    {
      "cell_type": "code",
      "execution_count": null,
      "metadata": {
        "id": "1VTneXyL7RiV"
      },
      "outputs": [],
      "source": [
        "del print # ուղղենք արած սխալը"
      ]
    },
    {
      "cell_type": "markdown",
      "metadata": {
        "id": "CAVw6XE32t3k"
      },
      "source": [
        "### Մի տողով մի քանի փոփոխաններիի արժեքներ վերագրել"
      ]
    },
    {
      "cell_type": "code",
      "execution_count": null,
      "metadata": {
        "colab": {
          "base_uri": "https://localhost:8080/"
        },
        "id": "uOaR-6mf26tP",
        "outputId": "e31199a6-d79f-4c19-dc7e-638b5de2fcec"
      },
      "outputs": [],
      "source": [
        "a1 = 0\n",
        "b1 = 509\n",
        "\n",
        "print(a1)\n",
        "print(b1)"
      ]
    },
    {
      "cell_type": "code",
      "execution_count": null,
      "metadata": {
        "id": "5o6lr0no2_Nt"
      },
      "outputs": [],
      "source": [
        "a, b = 0, 509"
      ]
    },
    {
      "cell_type": "code",
      "execution_count": null,
      "metadata": {
        "colab": {
          "base_uri": "https://localhost:8080/",
          "height": 141
        },
        "id": "Iez4MUtS5CT9",
        "outputId": "7976dc34-4f7e-46b7-c845-2a6fa6c15f2f"
      },
      "outputs": [],
      "source": [
        "a, b, c = 0, 509 # քանակը պետք ա բռնի "
      ]
    },
    {
      "cell_type": "code",
      "execution_count": null,
      "metadata": {
        "colab": {
          "base_uri": "https://localhost:8080/"
        },
        "id": "YAbgtqGo5bT1",
        "outputId": "b42b5692-b2cd-4f7a-872e-f6f9ca026af9"
      },
      "outputs": [],
      "source": [
        "a = b = c = 0 # վտանգավոր ա\n",
        "print(b)"
      ]
    },
    {
      "cell_type": "markdown",
      "metadata": {
        "id": "8Z-GrHkouMUf"
      },
      "source": [
        "## Թվեր և թվաբանական գործողություններ\n"
      ]
    },
    {
      "cell_type": "markdown",
      "metadata": {
        "id": "cxefh3MVuor_"
      },
      "source": [
        "### Թվերի տեսակներ\n"
      ]
    },
    {
      "cell_type": "markdown",
      "metadata": {
        "id": "5fGFhWpw3eOo"
      },
      "source": [
        "1. Integer (ամբողջ թիվ)\n",
        "2. Float (իրական թվեր, լողացող(float) ստորակետով)\n",
        "3. Complex (կոմպլեքս)"
      ]
    },
    {
      "cell_type": "code",
      "execution_count": null,
      "metadata": {
        "colab": {
          "base_uri": "https://localhost:8080/"
        },
        "id": "hhv4zgRMu8mF",
        "outputId": "42b2c515-fe5a-43d7-8929-d8aea7fe6f80"
      },
      "outputs": [],
      "source": [
        "print(509, type(509))\n",
        "print(1.2, type(1.2))\n",
        "print(1.0, type(1.))\n",
        "print(0.9, type(.9))\n",
        "print(3 + 5j, type(3 + 5j))"
      ]
    },
    {
      "cell_type": "code",
      "execution_count": null,
      "metadata": {
        "colab": {
          "base_uri": "https://localhost:8080/"
        },
        "id": "Qbl7Pu7M-sJ-",
        "outputId": "ba69e538-975b-444e-ba69-fc79ea24dcd0"
      },
      "outputs": [],
      "source": [
        "# կարող ենք թվի տեսակը փոխել այսպես\n",
        "print(type(12.509))\n",
        "print(int(12.509))\n",
        "print(type(int(12.509)))"
      ]
    },
    {
      "cell_type": "code",
      "execution_count": null,
      "metadata": {},
      "outputs": [],
      "source": [
        "a = 12\n",
        "print(a, type(a))\n",
        "print(float(a), type(float(a)))"
      ]
    },
    {
      "cell_type": "markdown",
      "metadata": {
        "id": "VGWoMOvPyWLG"
      },
      "source": [
        "## Թվաբանական գործողություններ"
      ]
    },
    {
      "cell_type": "markdown",
      "metadata": {
        "id": "xSFDz3hi5rIX"
      },
      "source": [
        "### Գումարում, հանում, բազմապատկում, սովորական և ամբողթիվ բաժանում, աստիճան բարձրացնել, մնացորդ"
      ]
    },
    {
      "cell_type": "code",
      "execution_count": null,
      "metadata": {
        "colab": {
          "base_uri": "https://localhost:8080/"
        },
        "id": "toPbAirGyYqL",
        "outputId": "1a8e0d9b-b0fd-442a-f64d-6d7731204692"
      },
      "outputs": [],
      "source": [
        "print(1+2+  53)\n",
        "print(1 + 2 + 53)\n",
        "print(1+2+53)"
      ]
    },
    {
      "cell_type": "code",
      "execution_count": null,
      "metadata": {
        "colab": {
          "base_uri": "https://localhost:8080/"
        },
        "id": "jOzxzo0o-Iie",
        "outputId": "81aafc6c-eddd-41bf-84d2-77c0ddd3258d"
      },
      "outputs": [],
      "source": [
        "print(1 - 4)\n",
        "print(-5)"
      ]
    },
    {
      "cell_type": "markdown",
      "metadata": {},
      "source": [
        "Փոփոխականի տեսակ"
      ]
    },
    {
      "cell_type": "code",
      "execution_count": null,
      "metadata": {
        "colab": {
          "base_uri": "https://localhost:8080/"
        },
        "id": "facOehLByekD",
        "outputId": "55cb9f5f-b473-4e06-eb96-1c0b8339ffe5"
      },
      "outputs": [],
      "source": [
        "a = 1 + 1\n",
        "print(a, type(a))\n",
        "\n",
        "b = 1 + 2.1\n",
        "print(b, type(b)) # int + float = float\n",
        "\n",
        "c = 1 + 2.0\n",
        "print(c, type(c)) # եթե ուղղակի . դնենք արդեն float կդառնա"
      ]
    },
    {
      "cell_type": "markdown",
      "metadata": {},
      "source": [
        "ԻՆչի 0.1 + 0.2 կարա հավասար չլինի 0.3-ի: Լավ վիդեո դա բացատրող՝ https://www.youtube.com/watch?v=PZRI1IfStY0"
      ]
    },
    {
      "cell_type": "code",
      "execution_count": null,
      "metadata": {
        "colab": {
          "base_uri": "https://localhost:8080/"
        },
        "id": "5bTvH2hQAdd_",
        "outputId": "72a06273-fae5-4a11-a859-a8bb8bef5f23"
      },
      "outputs": [],
      "source": [
        "x = 1.0 + 2.0 \n",
        "print(x)\n",
        "print(type(x))"
      ]
    },
    {
      "cell_type": "code",
      "execution_count": null,
      "metadata": {
        "colab": {
          "base_uri": "https://localhost:8080/"
        },
        "id": "Yk2-UFgRyh6n",
        "outputId": "c75543aa-503f-412c-cfad-45a7763af687"
      },
      "outputs": [],
      "source": [
        "print(5 * 12)\n",
        "print(5 * 12.0)\n"
      ]
    },
    {
      "cell_type": "code",
      "execution_count": null,
      "metadata": {
        "colab": {
          "base_uri": "https://localhost:8080/"
        },
        "id": "oofcOXLWVJmy",
        "outputId": "595d7cb8-29c5-4711-c6b3-bf552ea409b2"
      },
      "outputs": [],
      "source": [
        "# / - միշտ տալիս ա float\n",
        "print(14 / 3)\n",
        "print(14 / 2)\n"
      ]
    },
    {
      "cell_type": "code",
      "execution_count": null,
      "metadata": {
        "colab": {
          "base_uri": "https://localhost:8080/"
        },
        "id": "ODglG4F1ylea",
        "outputId": "85c87065-fd31-4fea-8414-bab022b4dbe8"
      },
      "outputs": [],
      "source": [
        "print(14 // 3) # int(14/3)\n",
        "print(type(14//3))\n",
        "\n",
        "# 14 = 4 * 3 + 2\n",
        "# print(int(14/3))"
      ]
    },
    {
      "cell_type": "code",
      "execution_count": null,
      "metadata": {
        "colab": {
          "base_uri": "https://localhost:8080/"
        },
        "id": "Uhg2deKFyvdD",
        "outputId": "1633917d-6536-4884-9d80-db33707b0183"
      },
      "outputs": [],
      "source": [
        "print(-5 // 3) # ամբողջաթիվ բաժանում -5 = -2 * 3 + 1"
      ]
    },
    {
      "cell_type": "code",
      "execution_count": null,
      "metadata": {
        "colab": {
          "base_uri": "https://localhost:8080/"
        },
        "id": "ZoRnJGOhyygO",
        "outputId": "3443fa3c-74fd-4a3a-bf49-535cc81ae4ad"
      },
      "outputs": [],
      "source": [
        "print(7 % 2) # մնացորդ 7 = 3 * 2 + 1"
      ]
    },
    {
      "cell_type": "code",
      "execution_count": null,
      "metadata": {
        "colab": {
          "base_uri": "https://localhost:8080/"
        },
        "id": "Hf5gmHy4ywot",
        "outputId": "3d99ef15-5f28-4a24-a7ed-328bf8d10895"
      },
      "outputs": [],
      "source": [
        "print(2**3) # էքսպոնենտ\n",
        "# 2 * 2 * 2\n",
        "\n",
        "print(2**(1/2))"
      ]
    },
    {
      "cell_type": "markdown",
      "metadata": {
        "id": "g5R1B-lw44n3"
      },
      "source": [
        "### գործողությունների հերթականությունը"
      ]
    },
    {
      "cell_type": "code",
      "execution_count": null,
      "metadata": {
        "colab": {
          "base_uri": "https://localhost:8080/"
        },
        "id": "vSxhJGlC45wm",
        "outputId": "0a395ab0-3731-4bb1-9fdb-2598cd84a7e9"
      },
      "outputs": [],
      "source": [
        "print(2 * (3 + 1)) # սկզբում փակագծի միջինը, հետո արտադրյալը"
      ]
    },
    {
      "cell_type": "code",
      "execution_count": null,
      "metadata": {
        "colab": {
          "base_uri": "https://localhost:8080/"
        },
        "id": "6QVJaaaX49Vn",
        "outputId": "d4140eb9-e963-4872-a22f-c4f9655adfe3"
      },
      "outputs": [],
      "source": [
        "print(2*3 + 1) # սկզբում բազմապատկում հետո գումարում"
      ]
    },
    {
      "cell_type": "markdown",
      "metadata": {
        "id": "w8NkuW9l77s2"
      },
      "source": [
        "### Ավելի կարճ վերագրելու ձև"
      ]
    },
    {
      "cell_type": "code",
      "execution_count": null,
      "metadata": {
        "colab": {
          "base_uri": "https://localhost:8080/"
        },
        "id": "3steQWIP38bh",
        "outputId": "23f8b858-fcc1-4266-ab50-cc92de7a2dd4"
      },
      "outputs": [],
      "source": [
        "tariq = 18\n",
        "print(tariq)\n",
        "\n",
        "tariq = tariq + 1\n",
        "print(tariq)"
      ]
    },
    {
      "cell_type": "code",
      "execution_count": null,
      "metadata": {
        "colab": {
          "base_uri": "https://localhost:8080/"
        },
        "id": "qPv7z8PG8AKk",
        "outputId": "54126189-a840-4893-e177-0429e8cc1550"
      },
      "outputs": [],
      "source": [
        "tariq = 18\n",
        "tariq = tariq + 1.5\n",
        "\n",
        "print(tariq)\n",
        "\n",
        "\n",
        "tariq = 18\n",
        "tariq += 1.5 # նույննա ինչ tariq = tariq + 1.5\n",
        "\n",
        "print(tariq)"
      ]
    },
    {
      "cell_type": "code",
      "execution_count": null,
      "metadata": {
        "colab": {
          "base_uri": "https://localhost:8080/"
        },
        "id": "ahHYsWel8EXR",
        "outputId": "52dce45d-7ecf-4d9a-a829-b9e787f5a544"
      },
      "outputs": [],
      "source": [
        "b = 4\n",
        "\n",
        "b *= 3 # b = b * 3\n",
        "print(b)\n",
        "\n",
        "b //= 5\n",
        "print(b)"
      ]
    },
    {
      "cell_type": "markdown",
      "metadata": {
        "id": "xdqJbd9OCU-P"
      },
      "source": [
        "## Input"
      ]
    },
    {
      "cell_type": "code",
      "execution_count": null,
      "metadata": {
        "colab": {
          "base_uri": "https://localhost:8080/"
        },
        "id": "ew4oB6AwCXNP",
        "outputId": "d9cabcb7-d281-4d1d-d0c9-b1411e749dcc"
      },
      "outputs": [],
      "source": [
        "a = input() # միշտ մուտքը տեքստ ա\n",
        "print('Բարև', a)"
      ]
    },
    {
      "cell_type": "code",
      "execution_count": null,
      "metadata": {
        "colab": {
          "base_uri": "https://localhost:8080/"
        },
        "id": "3OYl54xe86EH",
        "outputId": "c26076a1-e857-4721-dacf-620b255f568d"
      },
      "outputs": [],
      "source": [
        "print(a)"
      ]
    },
    {
      "cell_type": "code",
      "execution_count": null,
      "metadata": {
        "colab": {
          "base_uri": "https://localhost:8080/",
          "height": 53
        },
        "id": "k00AO4T8PVwn",
        "outputId": "6c5378a8-255f-45a7-bf12-8ab11fb4325d"
      },
      "outputs": [],
      "source": [
        "input()"
      ]
    },
    {
      "cell_type": "markdown",
      "metadata": {
        "id": "WYZKVIPsCrcA"
      },
      "source": [
        "Մի քանի մուտք"
      ]
    },
    {
      "cell_type": "code",
      "execution_count": null,
      "metadata": {
        "colab": {
          "base_uri": "https://localhost:8080/"
        },
        "id": "IsfyeKsPCtRH",
        "outputId": "f4fea6ed-5477-46b4-9591-12490f1d7bea"
      },
      "outputs": [],
      "source": [
        "anun = input(\"Enter your name: \")\n",
        "azganun = input()\n",
        "\n",
        "print(anun)\n",
        "print(azganun)\n"
      ]
    },
    {
      "cell_type": "code",
      "execution_count": null,
      "metadata": {
        "colab": {
          "base_uri": "https://localhost:8080/"
        },
        "id": "pGcUBA2sdJqt",
        "outputId": "0405aa4a-13bc-4c91-ba51-33efb1466c26"
      },
      "outputs": [],
      "source": [
        "a = 1\n",
        "print(a)\n",
        "\n",
        "a = input()\n",
        "print(a)"
      ]
    },
    {
      "cell_type": "markdown",
      "metadata": {},
      "source": [
        "Պետք ա զգույշ լինենք տվյալների տեսակի հետ"
      ]
    },
    {
      "cell_type": "code",
      "execution_count": null,
      "metadata": {
        "colab": {
          "base_uri": "https://localhost:8080/"
        },
        "id": "hTCnwousctz5",
        "outputId": "e0beb93f-3fca-4c95-e551-dea77b43d53d"
      },
      "outputs": [],
      "source": [
        "num = input()\n",
        "\n",
        "print(num + 2)\n"
      ]
    },
    {
      "cell_type": "code",
      "execution_count": null,
      "metadata": {},
      "outputs": [],
      "source": [
        "print(num, type(num)) # input-ը միշտ տեքստ ա վերադարձնում"
      ]
    },
    {
      "cell_type": "code",
      "execution_count": null,
      "metadata": {
        "colab": {
          "base_uri": "https://localhost:8080/"
        },
        "id": "610CuLFT9Rfi",
        "outputId": "5d6f8d7e-bf7c-4a90-81cb-5e7e27bdbf12"
      },
      "outputs": [],
      "source": [
        "tiv = int(input())\n",
        "\n",
        "print(type(tiv))\n",
        "\n",
        "print(tiv + 1)"
      ]
    },
    {
      "cell_type": "code",
      "execution_count": null,
      "metadata": {
        "colab": {
          "base_uri": "https://localhost:8080/"
        },
        "id": "INyWGyl6C0uG",
        "outputId": "fcd73b7a-54f8-4779-8898-b17ae759000c"
      },
      "outputs": [],
      "source": [
        "number = int(input('Խնդրում ենք մուտքագրել թիվ'))\n",
        "print(type(number))\n",
        "print(number // 3)"
      ]
    },
    {
      "cell_type": "markdown",
      "metadata": {},
      "source": [
        "# 🏡Տնային\n",
        "## Հիմնական տնային\n",
        "1. Profound [բաժին 1](https://profound.academy/hy/python-introduction/t-python-qWPtjbycGqzmt41dkWyP) (Մուտք և ելք) - լրիվ\n",
        "2. Profound [բաժին 3](https://profound.academy/hy/python-introduction/t-python-qWPtjbycGqzmt41dkWyP) (Փոփոխականներ և ամբողջ թվեր) - լրիվ\n",
        "3. Ոչ պարտադիր - կարող եք անանուն հայտնել Ձեր կարծիքը դասի վերաբերյալ [այստեղ](https://forms.gle/K616aM5cpXsnJmbAA)\n",
        "\n",
        "## Նշումներ\n",
        "- Տնայինը անելիս մոտեցեք են սկզբունքով որ x խնդիրը լուծելիս դուք մենակ գիտեք են ամենինչը ինչ profound-ը մինչև x-ին հասնելը ներկայացրելա ա։ Երբեմն օգտագործող գործիքները սահմանափակելու դեպքում ա խնդիրը իսկականից օգուտ տալիս։ Օրինակի համար եթե խնդիր լինի որտեղ պետք ա սորտավորել թվերը ու դուք գիտեք `sort` հրամանի մասին՝ է հա, կարաք օգտագործեք էդ հրամանը, խնդիրը լուծվի՝ բայց արդյունքում նորմալ չեք սովորի էլի։\n",
        "- Եթե քիչ ժամանակ ունեք կարաք բաց թողեք Բաժին 1 - 5, 6, 14 խնդիրները\n",
        "- Բաժին 3 13-ում պետք ա զուտ ցանկացած թիվ տպեք\n",
        "- Բաժին 3-ի վերջին երկու խնդիրները լիքը բզբզալու են, խորհուրդ կտանք շատ ժամանակ տրամադրեք իրենց\n",
        "- Profound-ը ներկայացնող [վիդեո](https://youtu.be/BaQ0-hrcRtI)\n",
        "- Շուտ եմ ասել GPT ու նման գործիքներից օգտվել չկա\n",
        "- Եթե հարցեր լինի՝ անպայման խաբար արեք (կառալյոկի պահը հիշեք)\n",
        "\n",
        "## Լուծումներ\n",
        "- [Որոշ խնդիրների վիդեոլուծումներ](https://www.youtube.com/playlist?list=PLfLD2TpGxVUxjP7WnHxAWfbd8LWSY-pix)\n",
        "- [Բոլոր խնդիրների լուծումներ / նշումներ](https://metric-academy.notion.site/)"
      ]
    },
    {
      "cell_type": "markdown",
      "metadata": {},
      "source": [
        "# 🛠️ Գործնական\n",
        "[**Տեսագրությունը (2025)**](https://youtu.be/Xdb7ivwWqxE)\n",
        "[**Տեսագրությունը (2023)(ToDo)**]()\n"
      ]
    },
    {
      "cell_type": "markdown",
      "metadata": {},
      "source": [
        "## Հաշվել գնահատականը\n",
        "Մուտքում տրված է աշակերտի կիսամյակի ընթացքում ստացած 3 թեմատիկների արդյունքերը և կիսամյակային գրավորի միավորը, գտնել թե ինչ բալով է աշակերտը ավարտել կիսամյակը"
      ]
    },
    {
      "cell_type": "code",
      "execution_count": null,
      "metadata": {},
      "outputs": [],
      "source": [
        "tematik1 = int(input(\"Թեմատիկ գնահատական 1։ \"))\n",
        "tematik2 = int(input(\"Թեմատիկ գնահատական 2։ \"))\n",
        "tematik3 = int(input(\"Թեմատիկ գնահատական 3։ \"))\n",
        "kisamyakain = int(input(\"Կիսամյակային։ \"))\n",
        "\n",
        "yntacik_mijin = (tematik1 + tematik2 + tematik3) // 3\n",
        "\n",
        "print(yntacik_mijin)\n",
        "verjnakan = (kisamyakain + yntacik_mijin) / 2\n",
        "\n",
        "print(\"վերջնական գնահատական։ \", verjnakan)"
      ]
    },
    {
      "cell_type": "markdown",
      "metadata": {},
      "source": [
        "## Քառակուսային հավասարում\n",
        "Մուտքում տրված է երեք տող՝ քառակուսի հավասարման (ax^2 + bx + c = 0) գործակիցները (a, b, c)\n",
        "\n",
        "տպել հավասարման *լուծումները*"
      ]
    },
    {
      "cell_type": "code",
      "execution_count": null,
      "metadata": {},
      "outputs": [],
      "source": [
        "a = float(input(\"ներմուծեք a: \"))\n",
        "b = float(input(\"ներմուծեք b: \"))\n",
        "c = float(input(\"ներմուծեք c: \"))\n",
        "\n",
        "discr_armat = (b**2 - 4*a*c)**0.5\n",
        "# Ծրագիրը աշխաում ա մենակ ոչ բացասական դիսկ․ դեպնում\n",
        "\n",
        "x1 = (-b + discr_armat) / (2 * a)\n",
        "x2 = (-b - discr_armat) / (2 * a)\n",
        "\n",
        "print(\"լուծումներն են։\", x1, x2)"
      ]
    },
    {
      "cell_type": "markdown",
      "metadata": {},
      "source": [
        "## Profound Լրացուցիչ\n",
        "1. [2.1 հեշտ էր չէ](https://profound.academy/hy/python-introduction/s-wUngZ7yRygoB2cTAp4yY)\n",
        "2. [4.1 թվաբանական պրոգրեսիա](https://profound.academy/hy/python-introduction/t-R6pt6t39SSjj0uG7Mebo)\n",
        "3. [4.3 ուսանողներ և խնձորներ 2](https://profound.academy/hy/python-introduction/ev-2-ioFA4Wotl9ypQUMciPL8)"
      ]
    },
    {
      "cell_type": "markdown",
      "metadata": {},
      "source": [
        "# 🎲 1\n",
        "- ▶️[Վիդեո](https://www.youtube.com/watch?v=_3Qwd8UBjUA)\n",
        "- ▶️[Վիդեո 🔥](https://www.youtube.com/watch?v=vNePhmCMnbU)\n",
        "- 🇦🇲🎶[Տիգրան Համասյան](https://www.youtube.com/watch?v=0EPxV8xl-e0)\n",
        "- 🌐🎶[Kaleo](https://www.youtube.com/watch?v=Da5qQD_RpEQ)\n",
        "- 🤌[Պատահական կարգին](https://www.youtube.com/watch?v=L_5dGrklbqY)"
      ]
    }
  ],
  "metadata": {
    "colab": {
      "include_colab_link": true,
      "provenance": [],
      "toc_visible": true
    },
    "kernelspec": {
      "display_name": "Python 3",
      "name": "python3"
    },
    "language_info": {
      "codemirror_mode": {
        "name": "ipython",
        "version": 3
      },
      "file_extension": ".py",
      "mimetype": "text/x-python",
      "name": "python",
      "nbconvert_exporter": "python",
      "pygments_lexer": "ipython3",
      "version": "3.10.14"
    }
  },
  "nbformat": 4,
  "nbformat_minor": 0
}

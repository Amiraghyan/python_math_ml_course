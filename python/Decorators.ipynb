{
  "nbformat": 4,
  "nbformat_minor": 0,
  "metadata": {
    "colab": {
      "provenance": []
    },
    "kernelspec": {
      "name": "python3",
      "display_name": "Python 3"
    },
    "language_info": {
      "name": "python"
    }
  },
  "cells": [
    {
      "cell_type": "markdown",
      "source": [
        "# Ընտիր նյութեր\n",
        "1. https://realpython.com/primer-on-python-decorators/\n",
        "2. https://www.youtube.com/watch?v=FsAPt_9Bf3U\n",
        "\n",
        "Դասի ընթացքում չենք ծածկում արգումենտ ընդունող դեկորատորների թեման, բայց եթե ուզենաք խորանալ՝\n",
        "1. https://realpython.com/primer-on-python-decorators/#decorators-with-arguments\n",
        "2. https://www.youtube.com/watch?v=KlBPCzcQNU8 \\\n",
        "ու դե իհարկե որ ինչ որ բան չհասկանաք գրեք"
      ],
      "metadata": {
        "id": "BxqdcTb2cDwH"
      }
    },
    {
      "cell_type": "code",
      "execution_count": null,
      "metadata": {
        "id": "Ox1vLimKp9AD"
      },
      "outputs": [],
      "source": [
        "import time\n",
        "import os"
      ]
    },
    {
      "cell_type": "code",
      "source": [
        "def ampi_chap_mec_hashvark():\n",
        "    res = 509**509\n",
        "    print(res)"
      ],
      "metadata": {
        "id": "ASgTdY8qqEiR"
      },
      "execution_count": null,
      "outputs": []
    },
    {
      "cell_type": "code",
      "source": [
        "ampi_chap_mec_hashvark()"
      ],
      "metadata": {
        "colab": {
          "base_uri": "https://localhost:8080/"
        },
        "id": "BnOZfpswqSNq",
        "outputId": "378faa41-8349-45a2-dce0-c63ac2b6b39b"
      },
      "execution_count": null,
      "outputs": [
        {
          "output_type": "stream",
          "name": "stdout",
          "text": [
            "5240240380464278743038995935164729519022960120789397597473156060006733975688834520162022913119498661811536296970894660221944785532882379972180209351818755937686374464831076775129977591118874007277177769232701178035793622110468583105820995869317107888111030339094119730224614498238530470309345955209289046333268659754025697993820321327528576665084160745994968081952548351844292737367510053066902772974755906581497776725352811031547027961751700611549790988723017891603976699459934147329895538758733283682604326997041974565376219471378660212685343149692980644830533948774497337813380050282417785347438886005791032456579750811817794376292526954586878562941564778295439225606084209474874023753593163886560828535643729573265753937810724408756410646424766759354297244156679059800300042977659576867366022741421236217668170444937601286230431841851714743926805728553764281741069894949546084195770081067594880875519903226718645472813449139172639950182022438627082735260374229083680235941700684700688431686035673317719259864047774086086918489617688801234225254582058990118862064002327820251223938972603639481176531425559740319585419825981843376278277904788218475398662138678271677090801489578564194008987003188863738562864947909718108590545720841315647311798913504045448587075816910272902834164709150355355797010877441039812954215946958352860866270491057877162292684106820265944067453994989\n"
          ]
        }
      ]
    },
    {
      "cell_type": "code",
      "source": [
        "def urish_erkar_func():\n",
        "    print(\"zzzzzzzzz\")\n",
        "    time.sleep(1)"
      ],
      "metadata": {
        "id": "tzsCpETRqT4t"
      },
      "execution_count": null,
      "outputs": []
    },
    {
      "cell_type": "code",
      "source": [
        "urish_erkar_func()"
      ],
      "metadata": {
        "colab": {
          "base_uri": "https://localhost:8080/"
        },
        "id": "In1gxRLjqw_p",
        "outputId": "6505f259-0aa9-4926-f691-5e28f3e88c32"
      },
      "execution_count": null,
      "outputs": [
        {
          "output_type": "stream",
          "name": "stdout",
          "text": [
            "zzzzzzzzz\n"
          ]
        }
      ]
    },
    {
      "cell_type": "markdown",
      "source": [
        "Ինչ եթե հիմա ուզում ենք հիմա նենց անենք որ ֆունցկիացները նաև վերադարձնեն թե ինչքան ժամանակում են աշխատել"
      ],
      "metadata": {
        "id": "IpuiJtR5qz_W"
      }
    },
    {
      "cell_type": "code",
      "source": [
        "def ampi_chap_mec_hashvark():\n",
        "    print(\"starting\")\n",
        "    st = time.perf_counter()\n",
        "\n",
        "    res = 509**509\n",
        "    print(res)\n",
        "\n",
        "    duration = time.perf_counter() - st\n",
        "    print(\"done\", duration)\n"
      ],
      "metadata": {
        "id": "yID1k1p2qx9R"
      },
      "execution_count": null,
      "outputs": []
    },
    {
      "cell_type": "code",
      "source": [
        "ampi_chap_mec_hashvark()"
      ],
      "metadata": {
        "colab": {
          "base_uri": "https://localhost:8080/"
        },
        "id": "dTVR2C_yrLSc",
        "outputId": "a631af12-a5b6-404c-a0ae-c79e33d62072"
      },
      "execution_count": null,
      "outputs": [
        {
          "output_type": "stream",
          "name": "stdout",
          "text": [
            "starting\n",
            "5240240380464278743038995935164729519022960120789397597473156060006733975688834520162022913119498661811536296970894660221944785532882379972180209351818755937686374464831076775129977591118874007277177769232701178035793622110468583105820995869317107888111030339094119730224614498238530470309345955209289046333268659754025697993820321327528576665084160745994968081952548351844292737367510053066902772974755906581497776725352811031547027961751700611549790988723017891603976699459934147329895538758733283682604326997041974565376219471378660212685343149692980644830533948774497337813380050282417785347438886005791032456579750811817794376292526954586878562941564778295439225606084209474874023753593163886560828535643729573265753937810724408756410646424766759354297244156679059800300042977659576867366022741421236217668170444937601286230431841851714743926805728553764281741069894949546084195770081067594880875519903226718645472813449139172639950182022438627082735260374229083680235941700684700688431686035673317719259864047774086086918489617688801234225254582058990118862064002327820251223938972603639481176531425559740319585419825981843376278277904788218475398662138678271677090801489578564194008987003188863738562864947909718108590545720841315647311798913504045448587075816910272902834164709150355355797010877441039812954215946958352860866270491057877162292684106820265944067453994989\n",
            "done 0.000559578999968835\n"
          ]
        }
      ]
    },
    {
      "cell_type": "code",
      "source": [
        "def urish_erkar_func():\n",
        "    print(\"starting\")\n",
        "    st = time.perf_counter()\n",
        "\n",
        "    print(\"zzzzzzzzzzzzz\")\n",
        "    time.sleep(1)\n",
        "\n",
        "    duration = time.perf_counter() - st\n",
        "    print(\"done\")\n",
        "\n",
        "    print(duration)"
      ],
      "metadata": {
        "id": "W4HIX8AlrMnB"
      },
      "execution_count": null,
      "outputs": []
    },
    {
      "cell_type": "code",
      "source": [
        "urish_erkar_func()"
      ],
      "metadata": {
        "colab": {
          "base_uri": "https://localhost:8080/"
        },
        "id": "Lnt6uRqirVfX",
        "outputId": "dfc1c35e-d24f-4d34-ed37-fa4146a10da2"
      },
      "execution_count": null,
      "outputs": [
        {
          "output_type": "stream",
          "name": "stdout",
          "text": [
            "starting\n",
            "zzzzzzzzz\n",
            "done 1.0001517589998912\n"
          ]
        }
      ]
    },
    {
      "cell_type": "markdown",
      "source": [
        "Կրկնվող կոդը նշանա որ գուցե ինչ-որ լավ բան կա որ չենք օգտագործում մենք"
      ],
      "metadata": {
        "id": "HhSw0B86rZtp"
      }
    },
    {
      "cell_type": "markdown",
      "source": [
        "Դիմավորեք ․․․․․․․․․․․․․ դեկորատորներ"
      ],
      "metadata": {
        "id": "UYKp63-qrehP"
      }
    },
    {
      "cell_type": "code",
      "source": [
        "func = ampi_chap_mec_hashvark\n",
        "\n",
        "print(\"starting\")\n",
        "st = time.perf_counter()\n",
        "\n",
        "# print(\"zzzzzzzzz\")\n",
        "# time.sleep(1)\n",
        "func()\n",
        "\n",
        "duration = time.perf_counter() - st\n",
        "print(\"done\", duration)"
      ],
      "metadata": {
        "colab": {
          "base_uri": "https://localhost:8080/"
        },
        "id": "wOQWwFZruaOh",
        "outputId": "34938cab-5762-4dbd-d43c-97af05f93938"
      },
      "execution_count": null,
      "outputs": [
        {
          "output_type": "stream",
          "name": "stdout",
          "text": [
            "starting\n",
            "5240240380464278743038995935164729519022960120789397597473156060006733975688834520162022913119498661811536296970894660221944785532882379972180209351818755937686374464831076775129977591118874007277177769232701178035793622110468583105820995869317107888111030339094119730224614498238530470309345955209289046333268659754025697993820321327528576665084160745994968081952548351844292737367510053066902772974755906581497776725352811031547027961751700611549790988723017891603976699459934147329895538758733283682604326997041974565376219471378660212685343149692980644830533948774497337813380050282417785347438886005791032456579750811817794376292526954586878562941564778295439225606084209474874023753593163886560828535643729573265753937810724408756410646424766759354297244156679059800300042977659576867366022741421236217668170444937601286230431841851714743926805728553764281741069894949546084195770081067594880875519903226718645472813449139172639950182022438627082735260374229083680235941700684700688431686035673317719259864047774086086918489617688801234225254582058990118862064002327820251223938972603639481176531425559740319585419825981843376278277904788218475398662138678271677090801489578564194008987003188863738562864947909718108590545720841315647311798913504045448587075816910272902834164709150355355797010877441039812954215946958352860866270491057877162292684106820265944067453994989\n",
            "done 0.00015545299993391382\n"
          ]
        }
      ]
    },
    {
      "cell_type": "code",
      "source": [
        "func = ampi_chap_mec_hashvark\n",
        "\n",
        "def nor_func()\n",
        "    print(\"starting\")\n",
        "    st = time.perf_counter()\n",
        "\n",
        "    # res = 509**509\n",
        "    func()\n",
        "\n",
        "    duration = time.perf_counter() - st\n",
        "    print(\"done\", duration)\n"
      ],
      "metadata": {
        "colab": {
          "base_uri": "https://localhost:8080/"
        },
        "id": "8kyu6dReubvX",
        "outputId": "bae03dd6-65ae-43b4-f1d3-a9666b2f6783"
      },
      "execution_count": null,
      "outputs": [
        {
          "output_type": "stream",
          "name": "stdout",
          "text": [
            "starting\n",
            "5240240380464278743038995935164729519022960120789397597473156060006733975688834520162022913119498661811536296970894660221944785532882379972180209351818755937686374464831076775129977591118874007277177769232701178035793622110468583105820995869317107888111030339094119730224614498238530470309345955209289046333268659754025697993820321327528576665084160745994968081952548351844292737367510053066902772974755906581497776725352811031547027961751700611549790988723017891603976699459934147329895538758733283682604326997041974565376219471378660212685343149692980644830533948774497337813380050282417785347438886005791032456579750811817794376292526954586878562941564778295439225606084209474874023753593163886560828535643729573265753937810724408756410646424766759354297244156679059800300042977659576867366022741421236217668170444937601286230431841851714743926805728553764281741069894949546084195770081067594880875519903226718645472813449139172639950182022438627082735260374229083680235941700684700688431686035673317719259864047774086086918489617688801234225254582058990118862064002327820251223938972603639481176531425559740319585419825981843376278277904788218475398662138678271677090801489578564194008987003188863738562864947909718108590545720841315647311798913504045448587075816910272902834164709150355355797010877441039812954215946958352860866270491057877162292684106820265944067453994989\n",
            "done 0.00024199500001031993\n"
          ]
        }
      ]
    },
    {
      "cell_type": "code",
      "source": [
        "def timer(func):\n",
        "    def nor_func():\n",
        "        print(\"starting\")\n",
        "        st = time.perf_counter()\n",
        "        # res = 509**509\n",
        "        func()\n",
        "\n",
        "        duration = time.perf_counter() - st\n",
        "        print(\"done\", duration)\n",
        "\n",
        "    return nor_func"
      ],
      "metadata": {
        "id": "NpNCSGoFvUNr"
      },
      "execution_count": null,
      "outputs": []
    },
    {
      "cell_type": "code",
      "source": [
        "a = timer(urish_erkar_func)\n"
      ],
      "metadata": {
        "id": "nAzEngFHwquk"
      },
      "execution_count": null,
      "outputs": []
    },
    {
      "cell_type": "code",
      "source": [
        "a(urish_erkar_func)"
      ],
      "metadata": {
        "colab": {
          "base_uri": "https://localhost:8080/"
        },
        "id": "8r_8REqdyoYR",
        "outputId": "2c4d9d7e-f5ae-4edc-87dd-a96d1c903f1f"
      },
      "execution_count": null,
      "outputs": [
        {
          "output_type": "stream",
          "name": "stdout",
          "text": [
            "starting\n",
            "zzzzzzzzz\n",
            "done 1.000269458000048\n"
          ]
        }
      ]
    },
    {
      "cell_type": "code",
      "source": [
        "@timer\n",
        "def urish_erkar_func():\n",
        "    print(\"zzzzzzzzz\")\n",
        "    time.sleep(1)\n",
        "\n",
        "@timer\n",
        "def ampi_chap_mec_hashvark():\n",
        "    res = 509**509\n",
        "    print(res)"
      ],
      "metadata": {
        "id": "Bv_NuKF2T09F"
      },
      "execution_count": null,
      "outputs": []
    },
    {
      "cell_type": "code",
      "source": [
        "# urish_erkar_func()\n",
        "\n",
        "ampi_chap_mec_hashvark()"
      ],
      "metadata": {
        "colab": {
          "base_uri": "https://localhost:8080/"
        },
        "id": "M2zxI3usT0is",
        "outputId": "ed3b5fbe-76ea-47e7-e471-5f19342ea80d"
      },
      "execution_count": null,
      "outputs": [
        {
          "output_type": "stream",
          "name": "stdout",
          "text": [
            "starting\n",
            "5240240380464278743038995935164729519022960120789397597473156060006733975688834520162022913119498661811536296970894660221944785532882379972180209351818755937686374464831076775129977591118874007277177769232701178035793622110468583105820995869317107888111030339094119730224614498238530470309345955209289046333268659754025697993820321327528576665084160745994968081952548351844292737367510053066902772974755906581497776725352811031547027961751700611549790988723017891603976699459934147329895538758733283682604326997041974565376219471378660212685343149692980644830533948774497337813380050282417785347438886005791032456579750811817794376292526954586878562941564778295439225606084209474874023753593163886560828535643729573265753937810724408756410646424766759354297244156679059800300042977659576867366022741421236217668170444937601286230431841851714743926805728553764281741069894949546084195770081067594880875519903226718645472813449139172639950182022438627082735260374229083680235941700684700688431686035673317719259864047774086086918489617688801234225254582058990118862064002327820251223938972603639481176531425559740319585419825981843376278277904788218475398662138678271677090801489578564194008987003188863738562864947909718108590545720841315647311798913504045448587075816910272902834164709150355355797010877441039812954215946958352860866270491057877162292684106820265944067453994989\n",
            "done 6.908000000294123e-05\n"
          ]
        }
      ]
    },
    {
      "cell_type": "code",
      "source": [
        "timer(ampi_chap_mec_hashvark)\n",
        "timer(urish_erkar_func)"
      ],
      "metadata": {
        "colab": {
          "base_uri": "https://localhost:8080/"
        },
        "id": "A7mTptvyvbhH",
        "outputId": "1da58bd1-cff9-4908-a53c-4612cecd6a1d"
      },
      "execution_count": null,
      "outputs": [
        {
          "output_type": "stream",
          "name": "stdout",
          "text": [
            "starting\n",
            "5240240380464278743038995935164729519022960120789397597473156060006733975688834520162022913119498661811536296970894660221944785532882379972180209351818755937686374464831076775129977591118874007277177769232701178035793622110468583105820995869317107888111030339094119730224614498238530470309345955209289046333268659754025697993820321327528576665084160745994968081952548351844292737367510053066902772974755906581497776725352811031547027961751700611549790988723017891603976699459934147329895538758733283682604326997041974565376219471378660212685343149692980644830533948774497337813380050282417785347438886005791032456579750811817794376292526954586878562941564778295439225606084209474874023753593163886560828535643729573265753937810724408756410646424766759354297244156679059800300042977659576867366022741421236217668170444937601286230431841851714743926805728553764281741069894949546084195770081067594880875519903226718645472813449139172639950182022438627082735260374229083680235941700684700688431686035673317719259864047774086086918489617688801234225254582058990118862064002327820251223938972603639481176531425559740319585419825981843376278277904788218475398662138678271677090801489578564194008987003188863738562864947909718108590545720841315647311798913504045448587075816910272902834164709150355355797010877441039812954215946958352860866270491057877162292684106820265944067453994989\n",
            "done 7.989000005181879e-05\n",
            "starting\n",
            "zzzzzzzzz\n",
            "done 1.0012614970000868\n"
          ]
        }
      ]
    },
    {
      "cell_type": "markdown",
      "source": [
        "## first class object"
      ],
      "metadata": {
        "id": "vy57-IU9X1wb"
      }
    },
    {
      "cell_type": "markdown",
      "source": [
        "ֆունցկաիները կոչվում են First-Class Objectներ, ինչը նշանակումա որ իրանց կարանք որպես արգումենտ տանք ուրիշ ֆունկցիաներին,\n",
        "ուրիշ ֆունկցիաները կարան վերադարձնեն ֆունկցիաներ, intի նման ասենք\n"
      ],
      "metadata": {
        "id": "VTFqEC3Pr_lh"
      }
    },
    {
      "cell_type": "code",
      "source": [
        "def ispanakan(anun):\n",
        "    return f\"Բարև {anun}իտո\"\n",
        "\n",
        "def dinozavrakan(anun):\n",
        "    return f\"Բարև {anun}ազավռ\"\n",
        "\n",
        "def barevel(anun, specific_barev):\n",
        "    return specific_barev(anun)\n",
        "\n",
        "anun = 'Հայկ'\n",
        "print(barevel(anun, dinozavrakan))\n"
      ],
      "metadata": {
        "colab": {
          "base_uri": "https://localhost:8080/"
        },
        "id": "vFUrDFsGrW5q",
        "outputId": "1bc0cdf8-6e2b-4151-baae-d339233d3b88"
      },
      "execution_count": null,
      "outputs": [
        {
          "output_type": "stream",
          "name": "stdout",
          "text": [
            "Բարև Հայկազավռ\n"
          ]
        }
      ]
    },
    {
      "cell_type": "code",
      "source": [
        "# եկեք գրենք ֆունկցիա որը մուտքում կընդունի ֆունկցիա, իրան կփոփոխի ու մեզ կվերադարձնի ստացված ֆունկցիան\n",
        "def urish_erkar_func():\n",
        "    print(\"starting\")\n",
        "    st = time.perf_counter()\n",
        "\n",
        "    print(\"zzzzzzzzzzzzz\")\n",
        "    time.sleep(1)\n",
        "\n",
        "    duration = time.perf_counter() - st\n",
        "    print(\"done\")\n",
        "\n",
        "    print(duration)"
      ],
      "metadata": {
        "id": "pC8V7nUbsbcE"
      },
      "execution_count": null,
      "outputs": []
    },
    {
      "cell_type": "markdown",
      "source": [],
      "metadata": {
        "id": "mL5EFrfFtght"
      }
    },
    {
      "cell_type": "code",
      "source": [
        "def timer(func):\n",
        "    def nor_func(func):\n",
        "        print(\"starting\")\n",
        "        st = time.perf_counter()\n",
        "\n",
        "        func()\n",
        "\n",
        "        duration = time.perf_counter() - st\n",
        "        print(\"done\")\n",
        "\n",
        "    return nor_func"
      ],
      "metadata": {
        "id": "vKZt0CXpIlmK"
      },
      "execution_count": null,
      "outputs": []
    },
    {
      "cell_type": "code",
      "source": [
        "timer(urish_erkar_func)"
      ],
      "metadata": {
        "colab": {
          "base_uri": "https://localhost:8080/",
          "height": 103
        },
        "id": "fQXzzqFWuCl4",
        "outputId": "bc161e9b-e1aa-420a-8a79-815053e27bad"
      },
      "execution_count": null,
      "outputs": [
        {
          "output_type": "execute_result",
          "data": {
            "text/plain": [
              "<function __main__.timer.<locals>.nor_func(func)>"
            ],
            "text/html": [
              "<div style=\"max-width:800px; border: 1px solid var(--colab-border-color);\"><style>\n",
              "      pre.function-repr-contents {\n",
              "        overflow-x: auto;\n",
              "        padding: 8px 12px;\n",
              "        max-height: 500px;\n",
              "      }\n",
              "\n",
              "      pre.function-repr-contents.function-repr-contents-collapsed {\n",
              "        cursor: pointer;\n",
              "        max-height: 100px;\n",
              "      }\n",
              "    </style>\n",
              "    <pre style=\"white-space: initial; background:\n",
              "         var(--colab-secondary-surface-color); padding: 8px 12px;\n",
              "         border-bottom: 1px solid var(--colab-border-color);\"><b>timer.&lt;locals&gt;.nor_func</b><br/>def nor_func(func)</pre><pre class=\"function-repr-contents function-repr-contents-collapsed\" style=\"\"><a class=\"filepath\" style=\"display:none\" href=\"#\">/content/&lt;ipython-input-73-04d636802aa9&gt;</a>&lt;no docstring&gt;</pre></div>"
            ]
          },
          "metadata": {},
          "execution_count": 74
        }
      ]
    },
    {
      "cell_type": "code",
      "source": [
        "\n",
        "f = timer(urish_erkar_func)(urish_erkar_func)\n"
      ],
      "metadata": {
        "id": "rqJmT6GhIxVy",
        "colab": {
          "base_uri": "https://localhost:8080/"
        },
        "outputId": "dc47231d-bf6e-42fc-f6fb-68649a84cc53"
      },
      "execution_count": null,
      "outputs": [
        {
          "output_type": "stream",
          "name": "stdout",
          "text": [
            "starting\n",
            "starting\n",
            "zzzzzzzzzzzzz\n",
            "done\n",
            "1.0005536640001083\n",
            "done\n"
          ]
        }
      ]
    },
    {
      "cell_type": "code",
      "source": [
        "def timer(func):\n",
        "    def nor_func():\n",
        "        print(\"starting\")\n",
        "        st = time.perf_counter()\n",
        "\n",
        "        func()\n",
        "\n",
        "        duration = time.perf_counter() - st\n",
        "        print(\"done\")\n",
        "        print(duration)\n",
        "\n",
        "    return nor_func"
      ],
      "metadata": {
        "id": "kojTxQqpslEz"
      },
      "execution_count": null,
      "outputs": []
    },
    {
      "cell_type": "code",
      "source": [
        "def ampi_chap_mec_hashvark():\n",
        "    res = 11**509\n",
        "    print(res)\n",
        "\n",
        "def urish_erkar_func():\n",
        "    print(\"zzzzzzzz\")\n",
        "    time.sleep(1)"
      ],
      "metadata": {
        "id": "8pyOqo3FtQkQ"
      },
      "execution_count": null,
      "outputs": []
    },
    {
      "cell_type": "code",
      "source": [
        "decoracvac_func = timer(ampi_chap_mec_hashvark)"
      ],
      "metadata": {
        "id": "YvECYDLMswsW"
      },
      "execution_count": null,
      "outputs": []
    },
    {
      "cell_type": "code",
      "source": [
        "decoracvac_func()"
      ],
      "metadata": {
        "id": "8R7EUe8OtLmw",
        "colab": {
          "base_uri": "https://localhost:8080/",
          "height": 141
        },
        "outputId": "1c8b5049-6d9e-4f42-92d5-6a3edb86663e"
      },
      "execution_count": null,
      "outputs": [
        {
          "output_type": "error",
          "ename": "TypeError",
          "evalue": "timer.<locals>.nor_func() missing 1 required positional argument: 'func'",
          "traceback": [
            "\u001b[0;31m---------------------------------------------------------------------------\u001b[0m",
            "\u001b[0;31mTypeError\u001b[0m                                 Traceback (most recent call last)",
            "\u001b[0;32m<ipython-input-44-c26e9d50025f>\u001b[0m in \u001b[0;36m<cell line: 0>\u001b[0;34m()\u001b[0m\n\u001b[0;32m----> 1\u001b[0;31m \u001b[0mdecoracvac_func\u001b[0m\u001b[0;34m(\u001b[0m\u001b[0;34m)\u001b[0m\u001b[0;34m\u001b[0m\u001b[0;34m\u001b[0m\u001b[0m\n\u001b[0m",
            "\u001b[0;31mTypeError\u001b[0m: timer.<locals>.nor_func() missing 1 required positional argument: 'func'"
          ]
        }
      ]
    },
    {
      "cell_type": "code",
      "source": [
        "decoracvac_func = timer(urish_erkar_func)\n",
        "\n",
        "decoracvac_func()"
      ],
      "metadata": {
        "colab": {
          "base_uri": "https://localhost:8080/",
          "height": 176
        },
        "id": "PPwzCU7otTby",
        "outputId": "28954185-8a97-4ae3-d61f-0c9c4e9775c5"
      },
      "execution_count": null,
      "outputs": [
        {
          "output_type": "error",
          "ename": "TypeError",
          "evalue": "timer.<locals>.nor_func() missing 1 required positional argument: 'func'",
          "traceback": [
            "\u001b[0;31m---------------------------------------------------------------------------\u001b[0m",
            "\u001b[0;31mTypeError\u001b[0m                                 Traceback (most recent call last)",
            "\u001b[0;32m<ipython-input-33-30569a78ad12>\u001b[0m in \u001b[0;36m<cell line: 0>\u001b[0;34m()\u001b[0m\n\u001b[1;32m      1\u001b[0m \u001b[0mdecoracvac_func\u001b[0m \u001b[0;34m=\u001b[0m \u001b[0mtimer\u001b[0m\u001b[0;34m(\u001b[0m\u001b[0murish_erkar_func\u001b[0m\u001b[0;34m)\u001b[0m\u001b[0;34m\u001b[0m\u001b[0;34m\u001b[0m\u001b[0m\n\u001b[1;32m      2\u001b[0m \u001b[0;34m\u001b[0m\u001b[0m\n\u001b[0;32m----> 3\u001b[0;31m \u001b[0mdecoracvac_func\u001b[0m\u001b[0;34m(\u001b[0m\u001b[0;34m)\u001b[0m\u001b[0;34m\u001b[0m\u001b[0;34m\u001b[0m\u001b[0m\n\u001b[0m",
            "\u001b[0;31mTypeError\u001b[0m: timer.<locals>.nor_func() missing 1 required positional argument: 'func'"
          ]
        }
      ]
    },
    {
      "cell_type": "code",
      "source": [
        "# հարմար syntax"
      ],
      "metadata": {
        "id": "qCpBXcKUtX7L"
      },
      "execution_count": null,
      "outputs": []
    },
    {
      "cell_type": "code",
      "source": [
        "@timer\n",
        "def urish_erkar_func():\n",
        "    print(\"zzzzzz\")\n",
        "    time.sleep(1)"
      ],
      "metadata": {
        "id": "OcM1bHnEtlI1"
      },
      "execution_count": null,
      "outputs": []
    },
    {
      "cell_type": "code",
      "source": [
        "urish_erkar_func()"
      ],
      "metadata": {
        "colab": {
          "base_uri": "https://localhost:8080/",
          "height": 141
        },
        "id": "DY1n6QBPtneJ",
        "outputId": "a497ae77-cf12-499d-d955-5e954ccf6db5"
      },
      "execution_count": null,
      "outputs": [
        {
          "output_type": "error",
          "ename": "TypeError",
          "evalue": "timer.<locals>.nor_func() missing 1 required positional argument: 'func'",
          "traceback": [
            "\u001b[0;31m---------------------------------------------------------------------------\u001b[0m",
            "\u001b[0;31mTypeError\u001b[0m                                 Traceback (most recent call last)",
            "\u001b[0;32m<ipython-input-38-12161a7c80df>\u001b[0m in \u001b[0;36m<cell line: 0>\u001b[0;34m()\u001b[0m\n\u001b[0;32m----> 1\u001b[0;31m \u001b[0murish_erkar_func\u001b[0m\u001b[0;34m(\u001b[0m\u001b[0;34m)\u001b[0m\u001b[0;34m\u001b[0m\u001b[0;34m\u001b[0m\u001b[0m\n\u001b[0m",
            "\u001b[0;31mTypeError\u001b[0m: timer.<locals>.nor_func() missing 1 required positional argument: 'func'"
          ]
        }
      ]
    },
    {
      "cell_type": "code",
      "source": [
        "@timer\n",
        "def ampi_chap_mec_hashvark():\n",
        "    res = 11**509\n",
        "    print(res)"
      ],
      "metadata": {
        "id": "zyiVS3hAto_X"
      },
      "execution_count": null,
      "outputs": []
    },
    {
      "cell_type": "code",
      "source": [
        "ampi_chap_mec_hashvark()"
      ],
      "metadata": {
        "colab": {
          "base_uri": "https://localhost:8080/"
        },
        "id": "RKHO3qjXKjKo",
        "outputId": "231ad7ec-efd6-4395-bf6c-591c9d79e885"
      },
      "execution_count": null,
      "outputs": [
        {
          "output_type": "stream",
          "name": "stdout",
          "text": [
            "117186273914588572040755341105968581701121161426201379316550888914542363134112732268536555819619359764596486139252428879244825463669453792039549730965900869000611412998875072623692949619569411904448806819599774546491895407029147486636368872050750935075647606929880888405967523691833774327772252945098512147196617015784235141649820872994269588802520760376919035517855328911865226621520093528559630225447047847269000717778833348925137746608429033763030551742612842053163946960871609752640787664517288544534789493903611857552598877691\n"
          ]
        }
      ]
    },
    {
      "cell_type": "markdown",
      "source": [
        "## վերադարձ ունեցող ֆունկցիայի օրինակ"
      ],
      "metadata": {
        "id": "3wBJoVnMt13e"
      }
    },
    {
      "cell_type": "code",
      "source": [
        "def divide(x, y):\n",
        "    return x / y\n",
        "\n",
        "def multiply(x, y):\n",
        "    return x * y"
      ],
      "metadata": {
        "id": "UDzoUFRrtr6i"
      },
      "execution_count": null,
      "outputs": []
    },
    {
      "cell_type": "code",
      "source": [
        "print(divide(22, 7))\n",
        "print(multiply(10.5, 11.509))\n"
      ],
      "metadata": {
        "colab": {
          "base_uri": "https://localhost:8080/"
        },
        "id": "mYD_4QzguBUJ",
        "outputId": "13bf909d-ebb4-41d9-fac4-5f1d527da8b0"
      },
      "execution_count": null,
      "outputs": [
        {
          "output_type": "stream",
          "name": "stdout",
          "text": [
            "3.142857142857143\n",
            "120.84450000000001\n"
          ]
        }
      ]
    },
    {
      "cell_type": "code",
      "source": [
        "# ուզում ենք կլորացնենք"
      ],
      "metadata": {
        "id": "waDSkePkuDJd"
      },
      "execution_count": null,
      "outputs": []
    },
    {
      "cell_type": "code",
      "source": [
        "def divide(x, y):\n",
        "    return round(x / y, 2)\n",
        "\n",
        "def multiply(x, y):\n",
        "    return round(x * y, 2)"
      ],
      "metadata": {
        "id": "hUIz6QJLuP7S"
      },
      "execution_count": null,
      "outputs": []
    },
    {
      "cell_type": "code",
      "source": [
        "print(divide(22, 7))\n",
        "print(multiply(10.5, 11.509))\n"
      ],
      "metadata": {
        "colab": {
          "base_uri": "https://localhost:8080/"
        },
        "id": "DClHBloNuTrF",
        "outputId": "16e9e13d-e10c-42b3-f325-1fd79fae35fe"
      },
      "execution_count": null,
      "outputs": [
        {
          "output_type": "stream",
          "name": "stdout",
          "text": [
            "3.14\n",
            "120.84\n"
          ]
        }
      ]
    },
    {
      "cell_type": "code",
      "source": [
        "# եկեք բայց դեկորատորներով անենք"
      ],
      "metadata": {
        "id": "fIEDhr7auUaZ"
      },
      "execution_count": null,
      "outputs": []
    },
    {
      "cell_type": "code",
      "source": [
        "def rounder(func):\n",
        "    def wrapper(x, y): # գրկող\n",
        "        res = func(x,y)\n",
        "        return round(res, 2)\n",
        "    return wrapper"
      ],
      "metadata": {
        "id": "dMNGJeNauXgo"
      },
      "execution_count": null,
      "outputs": []
    },
    {
      "cell_type": "code",
      "source": [
        "@rounder\n",
        "def divide(x, y):\n",
        "    return x / y\n",
        "\n",
        "@rounder\n",
        "def multiply(x, y):\n",
        "    return x * y"
      ],
      "metadata": {
        "id": "X9A-hDXFuwDL"
      },
      "execution_count": null,
      "outputs": []
    },
    {
      "cell_type": "code",
      "source": [
        "print(divide(22, 7))\n",
        "print(multiply(10.5, 11.509))\n"
      ],
      "metadata": {
        "colab": {
          "base_uri": "https://localhost:8080/"
        },
        "id": "hMVQf20_u2k6",
        "outputId": "4a748e7d-739f-4896-fd87-73822e5f6c42"
      },
      "execution_count": null,
      "outputs": [
        {
          "output_type": "stream",
          "name": "stdout",
          "text": [
            "3.142857142857143\n",
            "120.84450000000001\n"
          ]
        }
      ]
    },
    {
      "cell_type": "markdown",
      "source": [
        "Կարանք նաև timer ավելացնենք"
      ],
      "metadata": {
        "id": "AgMRFsFxvMZ-"
      }
    },
    {
      "cell_type": "code",
      "source": [
        "@timer\n",
        "@rounder\n",
        "def divide(x, y):\n",
        "    return round(x / y, 2)\n",
        "\n",
        "# new_func = timer(rounder(divide(22, 7)))\n",
        "\n",
        "@timer\n",
        "@rounder\n",
        "def multiply(x, y):\n",
        "    return round(x * y, 2)"
      ],
      "metadata": {
        "id": "qiXLaCSNvOoH"
      },
      "execution_count": null,
      "outputs": []
    },
    {
      "cell_type": "code",
      "source": [
        "print(divide(22, 7))\n",
        "print(multiply(10.5, 11.509))\n"
      ],
      "metadata": {
        "colab": {
          "base_uri": "https://localhost:8080/",
          "height": 159
        },
        "id": "wQ4PbsNXvZAA",
        "outputId": "114d10b9-04ea-4cdd-9a00-2a637f3d08e4"
      },
      "execution_count": null,
      "outputs": [
        {
          "output_type": "error",
          "ename": "TypeError",
          "evalue": "timer.<locals>.nor_func() takes 1 positional argument but 2 were given",
          "traceback": [
            "\u001b[0;31m---------------------------------------------------------------------------\u001b[0m",
            "\u001b[0;31mTypeError\u001b[0m                                 Traceback (most recent call last)",
            "\u001b[0;32m<ipython-input-91-26d9f84873d5>\u001b[0m in \u001b[0;36m<cell line: 0>\u001b[0;34m()\u001b[0m\n\u001b[0;32m----> 1\u001b[0;31m \u001b[0mprint\u001b[0m\u001b[0;34m(\u001b[0m\u001b[0mdivide\u001b[0m\u001b[0;34m(\u001b[0m\u001b[0;36m22\u001b[0m\u001b[0;34m,\u001b[0m \u001b[0;36m7\u001b[0m\u001b[0;34m)\u001b[0m\u001b[0;34m)\u001b[0m\u001b[0;34m\u001b[0m\u001b[0;34m\u001b[0m\u001b[0m\n\u001b[0m\u001b[1;32m      2\u001b[0m \u001b[0mprint\u001b[0m\u001b[0;34m(\u001b[0m\u001b[0mmultiply\u001b[0m\u001b[0;34m(\u001b[0m\u001b[0;36m10.5\u001b[0m\u001b[0;34m,\u001b[0m \u001b[0;36m11.509\u001b[0m\u001b[0;34m)\u001b[0m\u001b[0;34m)\u001b[0m\u001b[0;34m\u001b[0m\u001b[0;34m\u001b[0m\u001b[0m\n",
            "\u001b[0;31mTypeError\u001b[0m: timer.<locals>.nor_func() takes 1 positional argument but 2 were given"
          ]
        }
      ]
    },
    {
      "cell_type": "code",
      "source": [
        "def timer(func):\n",
        "    def nor_func(*args, **kwargs):\n",
        "        print(\"starting\")\n",
        "        st = time.perf_counter()\n",
        "        res = func(*args, **kwargs)\n",
        "        duration = time.perf_counter() - st\n",
        "        print(\"done\")\n",
        "        print(duration)\n",
        "        return res\n",
        "\n",
        "    return nor_func"
      ],
      "metadata": {
        "id": "Ip0SPwJqvjz9"
      },
      "execution_count": null,
      "outputs": []
    },
    {
      "cell_type": "code",
      "source": [
        "def rounder(func):\n",
        "    def wrapper(*args, **kwargs): # գրկող\n",
        "        res = func(*args, **kwargs)\n",
        "        return round(res, 2)\n",
        "    return wrapper"
      ],
      "metadata": {
        "id": "g34oa800vtV8"
      },
      "execution_count": null,
      "outputs": []
    },
    {
      "cell_type": "code",
      "source": [
        "@timer\n",
        "@rounder\n",
        "def divide(x, y):\n",
        "    return round(x / y, 2)\n",
        "\n",
        "# new_func = timer(rounder(divide(22, 7)))\n",
        "\n",
        "@timer\n",
        "@rounder\n",
        "def multiply(x, y):\n",
        "    return round(x * y, 2)"
      ],
      "metadata": {
        "id": "lyiN5P6KwDoc"
      },
      "execution_count": null,
      "outputs": []
    },
    {
      "cell_type": "code",
      "source": [
        "print(divide(22, 7))\n",
        "print()\n",
        "print(multiply(10.5, 11.509))\n"
      ],
      "metadata": {
        "colab": {
          "base_uri": "https://localhost:8080/"
        },
        "id": "qC2bfyncvmk2",
        "outputId": "34c71a32-f52d-434d-d430-e28d90dcaa75"
      },
      "execution_count": null,
      "outputs": [
        {
          "output_type": "stream",
          "name": "stdout",
          "text": [
            "starting\n",
            "done\n",
            "1.578699993842747e-05\n",
            "3.14\n",
            "\n",
            "starting\n",
            "done\n",
            "1.015899988487945e-05\n",
            "120.84\n"
          ]
        }
      ]
    },
    {
      "cell_type": "code",
      "source": [
        "def tpel(*args):\n",
        "    print(\"arsg\", args)\n",
        "    print(\"kwargs\", a)\n",
        "\n",
        "tpel(1,2,3,4, a=1, b=3, g=4)"
      ],
      "metadata": {
        "colab": {
          "base_uri": "https://localhost:8080/",
          "height": 176
        },
        "id": "ozZ4Wm_tX5Bw",
        "outputId": "279dc7b9-6526-4ccc-bb74-b4362b1a123f"
      },
      "execution_count": null,
      "outputs": [
        {
          "output_type": "error",
          "ename": "TypeError",
          "evalue": "tpel() got an unexpected keyword argument 'a'",
          "traceback": [
            "\u001b[0;31m---------------------------------------------------------------------------\u001b[0m",
            "\u001b[0;31mTypeError\u001b[0m                                 Traceback (most recent call last)",
            "\u001b[0;32m<ipython-input-104-fb749b298c3d>\u001b[0m in \u001b[0;36m<cell line: 0>\u001b[0;34m()\u001b[0m\n\u001b[1;32m      3\u001b[0m     \u001b[0mprint\u001b[0m\u001b[0;34m(\u001b[0m\u001b[0;34m\"kwargs\"\u001b[0m\u001b[0;34m,\u001b[0m \u001b[0ma\u001b[0m\u001b[0;34m)\u001b[0m\u001b[0;34m\u001b[0m\u001b[0;34m\u001b[0m\u001b[0m\n\u001b[1;32m      4\u001b[0m \u001b[0;34m\u001b[0m\u001b[0m\n\u001b[0;32m----> 5\u001b[0;31m \u001b[0mtpel\u001b[0m\u001b[0;34m(\u001b[0m\u001b[0;36m1\u001b[0m\u001b[0;34m,\u001b[0m\u001b[0;36m2\u001b[0m\u001b[0;34m,\u001b[0m\u001b[0;36m3\u001b[0m\u001b[0;34m,\u001b[0m\u001b[0;36m4\u001b[0m\u001b[0;34m,\u001b[0m \u001b[0ma\u001b[0m\u001b[0;34m=\u001b[0m\u001b[0;36m1\u001b[0m\u001b[0;34m,\u001b[0m \u001b[0mb\u001b[0m\u001b[0;34m=\u001b[0m\u001b[0;36m3\u001b[0m\u001b[0;34m,\u001b[0m \u001b[0mg\u001b[0m\u001b[0;34m=\u001b[0m\u001b[0;36m4\u001b[0m\u001b[0;34m)\u001b[0m\u001b[0;34m\u001b[0m\u001b[0;34m\u001b[0m\u001b[0m\n\u001b[0m",
            "\u001b[0;31mTypeError\u001b[0m: tpel() got an unexpected keyword argument 'a'"
          ]
        }
      ]
    },
    {
      "cell_type": "code",
      "source": [
        "# դեկրոտոր գրել որ ֆունկցիան երկու անգամ կաշխատացնի"
      ],
      "metadata": {
        "id": "yFv0HRL4u3rG"
      },
      "execution_count": null,
      "outputs": []
    },
    {
      "cell_type": "code",
      "source": [],
      "metadata": {
        "id": "e_rS7B9qv4IQ",
        "colab": {
          "base_uri": "https://localhost:8080/"
        },
        "outputId": "f44e80a5-b157-455f-ca76-5a627d547bf9"
      },
      "execution_count": null,
      "outputs": [
        {
          "output_type": "stream",
          "name": "stdout",
          "text": [
            "0.75\n",
            "0.75\n",
            "0.75\n",
            "0.75\n"
          ]
        }
      ]
    },
    {
      "cell_type": "code",
      "source": [
        "def erku_angam(func):\n",
        "    def nor_func(*args, **kwargs):\n",
        "        print(\"arajin angam\")\n",
        "        func(*args, **kwargs)\n",
        "        print(\"erku angam\")\n",
        "        func(*args, **kwargs)\n",
        "    return nor_func\n"
      ],
      "metadata": {
        "id": "mISuPYLiM6ug"
      },
      "execution_count": null,
      "outputs": []
    },
    {
      "cell_type": "code",
      "source": [
        "@erku_angam\n",
        "def divide(x, y):\n",
        "    print(x / y)\n",
        "\n",
        "divide(3,4)\n"
      ],
      "metadata": {
        "colab": {
          "base_uri": "https://localhost:8080/"
        },
        "id": "SzavTqntNnTS",
        "outputId": "9f2cc484-dc87-494e-c6a0-b04ea7b2f545"
      },
      "execution_count": null,
      "outputs": [
        {
          "output_type": "stream",
          "name": "stdout",
          "text": [
            "arajin angam\n",
            "0.75\n",
            "erku angam\n",
            "0.75\n"
          ]
        }
      ]
    },
    {
      "cell_type": "markdown",
      "source": [
        "## մի քանի օրինակ"
      ],
      "metadata": {
        "id": "6FogRt4BZMsD"
      }
    },
    {
      "cell_type": "markdown",
      "source": [
        "### ֆունկցիայի դանդաղացուցիչ"
      ],
      "metadata": {
        "id": "4XUYxUXUZPPT"
      }
    },
    {
      "cell_type": "code",
      "source": [
        "def mi_vrazi(func):\n",
        "    def wrapper_func(*args, **kwargs):\n",
        "        time.sleep(2)\n",
        "        return func(*args, **kwargs)\n",
        "    return wrapper_func"
      ],
      "metadata": {
        "id": "shhkf3TRZOgv"
      },
      "execution_count": null,
      "outputs": []
    },
    {
      "cell_type": "code",
      "source": [
        "def scrape(url):\n",
        "    print(f\"քաշեցի {url}ի տվյալները\")"
      ],
      "metadata": {
        "id": "_WKeBiXXZedH"
      },
      "execution_count": null,
      "outputs": []
    },
    {
      "cell_type": "code",
      "source": [
        "urls = ['https://www.instructables.com/Basic-Steps-of-How-to-Make-Cheese/', 'https://www.youtube.com/watch?v=8DYyjqpZRlQ'] * 3\n",
        "\n",
        "for url in urls:\n",
        "    scrape(url)"
      ],
      "metadata": {
        "colab": {
          "base_uri": "https://localhost:8080/"
        },
        "id": "_RcJsJEJZnJM",
        "outputId": "82c0510f-896c-4d29-cfce-bb7b5ba47ea9"
      },
      "execution_count": null,
      "outputs": [
        {
          "output_type": "stream",
          "name": "stdout",
          "text": [
            "քաշեցի https://www.instructables.com/Basic-Steps-of-How-to-Make-Cheese/ի տվյալները\n",
            "քաշեցի https://www.youtube.com/watch?v=8DYyjqpZRlQի տվյալները\n",
            "քաշեցի https://www.instructables.com/Basic-Steps-of-How-to-Make-Cheese/ի տվյալները\n",
            "քաշեցի https://www.youtube.com/watch?v=8DYyjqpZRlQի տվյալները\n",
            "քաշեցի https://www.instructables.com/Basic-Steps-of-How-to-Make-Cheese/ի տվյալները\n",
            "քաշեցի https://www.youtube.com/watch?v=8DYyjqpZRlQի տվյալները\n"
          ]
        }
      ]
    },
    {
      "cell_type": "code",
      "source": [
        "@mi_vrazi\n",
        "def scrape(url):\n",
        "    print(f\"քաշեցի {url}ի տվյալները\")"
      ],
      "metadata": {
        "id": "7oLmdukoZ6i0"
      },
      "execution_count": null,
      "outputs": []
    },
    {
      "cell_type": "code",
      "source": [
        "urls = ['https://www.instructables.com/Basic-Steps-of-How-to-Make-Cheese/', 'https://www.youtube.com/watch?v=8DYyjqpZRlQ'] * 3\n",
        "\n",
        "for url in urls:\n",
        "    scrape(url)"
      ],
      "metadata": {
        "id": "Eki1De_IaP9S",
        "colab": {
          "base_uri": "https://localhost:8080/"
        },
        "outputId": "54e17de9-2eb3-41ff-b6b1-e7a321f87c01"
      },
      "execution_count": null,
      "outputs": [
        {
          "output_type": "stream",
          "name": "stdout",
          "text": [
            "քաշեցի https://www.instructables.com/Basic-Steps-of-How-to-Make-Cheese/ի տվյալները\n",
            "քաշեցի https://www.youtube.com/watch?v=8DYyjqpZRlQի տվյալները\n",
            "քաշեցի https://www.instructables.com/Basic-Steps-of-How-to-Make-Cheese/ի տվյալները\n",
            "քաշեցի https://www.youtube.com/watch?v=8DYyjqpZRlQի տվյալները\n",
            "քաշեցի https://www.instructables.com/Basic-Steps-of-How-to-Make-Cheese/ի տվյալները\n",
            "քաշեցի https://www.youtube.com/watch?v=8DYyjqpZRlQի տվյալները\n"
          ]
        }
      ]
    },
    {
      "cell_type": "markdown",
      "source": [
        "## debuger"
      ],
      "metadata": {
        "id": "mXqPIX8IaZf1"
      }
    },
    {
      "cell_type": "code",
      "source": [
        "from datetime import datetime\n",
        "\n",
        "def debug(func):\n",
        "    def wrapper(*args, **kwargs):\n",
        "        print(f\"մուտքում ստացել եմ {args} և {kwargs} արգումենտները\")\n",
        "        print(f\"Սկսելու ժամանակը {datetime.now().strftime('%H:%M:%S')}\")\n",
        "        st = time.perf_counter()\n",
        "        res = func(*args, **kwargs)\n",
        "        end = time.perf_counter()\n",
        "        print(f\"ծրագիրը աշխատեց {round(end-st, 2)} վարկյանում\")\n",
        "        print(f\"ծրագիրը վերադարձրեց՝ {res}\\n\")\n",
        "        return res\n",
        "    return wrapper\n",
        "\n",
        "\n"
      ],
      "metadata": {
        "id": "iLjg1Ykaaa4_"
      },
      "execution_count": null,
      "outputs": []
    },
    {
      "cell_type": "code",
      "source": [
        "@debug\n",
        "@mi_vrazi\n",
        "def scrape(url):\n",
        "    print(f\"քաշեցի {url}ի տվյալները\")"
      ],
      "metadata": {
        "id": "QwynLzs_bmOl"
      },
      "execution_count": null,
      "outputs": []
    },
    {
      "cell_type": "code",
      "source": [
        "urls = ['https://www.instructables.com/Basic-Steps-of-How-to-Make-Cheese/', 'https://www.youtube.com/watch?v=8DYyjqpZRlQ'] * 3\n",
        "\n",
        "for url in urls:\n",
        "    scrape(url)"
      ],
      "metadata": {
        "id": "pPucsZX1boiX",
        "colab": {
          "base_uri": "https://localhost:8080/"
        },
        "outputId": "b70d9248-c29e-44fd-8894-00b280d89875"
      },
      "execution_count": null,
      "outputs": [
        {
          "output_type": "stream",
          "name": "stdout",
          "text": [
            "մուտքում ստացել եմ ('https://www.instructables.com/Basic-Steps-of-How-to-Make-Cheese/',) և {} արգումենտները\n",
            "Սկսելու ժամանակը 11:54:52\n",
            "քաշեցի https://www.instructables.com/Basic-Steps-of-How-to-Make-Cheese/ի տվյալները\n",
            "ծրագիրը աշխատեց 2.0 վարկյանում\n",
            "ծրագիրը վերադարձրեց՝ None\n",
            "\n",
            "մուտքում ստացել եմ ('https://www.youtube.com/watch?v=8DYyjqpZRlQ',) և {} արգումենտները\n",
            "Սկսելու ժամանակը 11:54:54\n",
            "քաշեցի https://www.youtube.com/watch?v=8DYyjqpZRlQի տվյալները\n",
            "ծրագիրը աշխատեց 2.0 վարկյանում\n",
            "ծրագիրը վերադարձրեց՝ None\n",
            "\n",
            "մուտքում ստացել եմ ('https://www.instructables.com/Basic-Steps-of-How-to-Make-Cheese/',) և {} արգումենտները\n",
            "Սկսելու ժամանակը 11:54:56\n",
            "քաշեցի https://www.instructables.com/Basic-Steps-of-How-to-Make-Cheese/ի տվյալները\n",
            "ծրագիրը աշխատեց 2.0 վարկյանում\n",
            "ծրագիրը վերադարձրեց՝ None\n",
            "\n",
            "մուտքում ստացել եմ ('https://www.youtube.com/watch?v=8DYyjqpZRlQ',) և {} արգումենտները\n",
            "Սկսելու ժամանակը 11:54:58\n",
            "քաշեցի https://www.youtube.com/watch?v=8DYyjqpZRlQի տվյալները\n",
            "ծրագիրը աշխատեց 2.0 վարկյանում\n",
            "ծրագիրը վերադարձրեց՝ None\n",
            "\n",
            "մուտքում ստացել եմ ('https://www.instructables.com/Basic-Steps-of-How-to-Make-Cheese/',) և {} արգումենտները\n",
            "Սկսելու ժամանակը 11:55:00\n",
            "քաշեցի https://www.instructables.com/Basic-Steps-of-How-to-Make-Cheese/ի տվյալները\n",
            "ծրագիրը աշխատեց 2.0 վարկյանում\n",
            "ծրագիրը վերադարձրեց՝ None\n",
            "\n",
            "մուտքում ստացել եմ ('https://www.youtube.com/watch?v=8DYyjqpZRlQ',) և {} արգումենտները\n",
            "Սկսելու ժամանակը 11:55:02\n",
            "քաշեցի https://www.youtube.com/watch?v=8DYyjqpZRlQի տվյալները\n",
            "ծրագիրը աշխատեց 2.0 վարկյանում\n",
            "ծրագիրը վերադարձրեց՝ None\n",
            "\n"
          ]
        }
      ]
    },
    {
      "cell_type": "code",
      "source": [],
      "metadata": {
        "id": "GLkNyKK-bqje"
      },
      "execution_count": null,
      "outputs": []
    },
    {
      "cell_type": "markdown",
      "source": [
        "# Functools example"
      ],
      "metadata": {
        "id": "bJGFtA5XyJuf"
      }
    },
    {
      "cell_type": "code",
      "source": [
        "from functools import lru_cache # Least Recently Used\n",
        "\n",
        "def gcd(a, b):\n",
        "    for i in range(509_000_000):\n",
        "        pass\n",
        "    while b != 0:\n",
        "        a, b = b, a % b\n",
        "    return a\n",
        "\n"
      ],
      "metadata": {
        "id": "NEWwC76uyLbK"
      },
      "execution_count": null,
      "outputs": []
    },
    {
      "cell_type": "code",
      "source": [
        "%%time\n",
        "print(gcd(11_509_000_000, 11_509_000_0001))"
      ],
      "metadata": {
        "colab": {
          "base_uri": "https://localhost:8080/"
        },
        "id": "rTNtyDaVyOjU",
        "outputId": "3e2f5e37-4aa0-49d6-e1a1-893151eb2767"
      },
      "execution_count": null,
      "outputs": [
        {
          "output_type": "stream",
          "name": "stdout",
          "text": [
            "1\n",
            "CPU times: user 11.3 s, sys: 0 ns, total: 11.3 s\n",
            "Wall time: 11.4 s\n"
          ]
        }
      ]
    },
    {
      "cell_type": "code",
      "source": [
        "from functools import lru_cache\n",
        "\n",
        "@lru_cache\n",
        "def gcd(a, b):\n",
        "    for i in range(509_000_000):\n",
        "        pass\n",
        "    while b != 0:\n",
        "        a, b = b, a % b\n",
        "    return a\n",
        "\n"
      ],
      "metadata": {
        "id": "L5sYObQHyRx6"
      },
      "execution_count": null,
      "outputs": []
    },
    {
      "cell_type": "code",
      "source": [
        "%%time\n",
        "print(gcd(11_509_000_000, 11_509_000_0001))"
      ],
      "metadata": {
        "colab": {
          "base_uri": "https://localhost:8080/"
        },
        "id": "Oqb9lQOD0yh_",
        "outputId": "19252ec9-7d68-4051-9453-dfe6ee9f2a10"
      },
      "execution_count": null,
      "outputs": [
        {
          "output_type": "stream",
          "name": "stdout",
          "text": [
            "1\n",
            "CPU times: user 11.2 s, sys: 0 ns, total: 11.2 s\n",
            "Wall time: 11.3 s\n"
          ]
        }
      ]
    },
    {
      "cell_type": "code",
      "source": [
        "%%time\n",
        "print(gcd(11_509_000_000, 11_509_000_0001))"
      ],
      "metadata": {
        "colab": {
          "base_uri": "https://localhost:8080/"
        },
        "id": "ZORMWYf90z5W",
        "outputId": "e1152d1b-56de-42df-d660-e789763b76b8"
      },
      "execution_count": null,
      "outputs": [
        {
          "output_type": "stream",
          "name": "stdout",
          "text": [
            "1\n",
            "CPU times: user 57 µs, sys: 0 ns, total: 57 µs\n",
            "Wall time: 62 µs\n"
          ]
        }
      ]
    },
    {
      "cell_type": "code",
      "source": [
        "from abc import abstractmethod\n",
        "\n",
        "class A:\n",
        "    @abstractmethod\n",
        "    def method(a)\n"
      ],
      "metadata": {
        "id": "qXnVUfBqP8iD"
      },
      "execution_count": null,
      "outputs": []
    }
  ]
}
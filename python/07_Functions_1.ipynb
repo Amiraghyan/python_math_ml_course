{
 "cells": [
  {
   "cell_type": "raw",
   "metadata": {
    "vscode": {
     "languageId": "raw"
    }
   },
   "source": [
    "---\n",
    "title: \"07 Functions 1\"\n",
    "format: \n",
    "  html:\n",
    "    code-fold: false\n",
    "number-offset: 1\n",
    "---"
   ]
  },
  {
   "cell_type": "markdown",
   "metadata": {},
   "source": [
    "![image.png](wallpapers/07_window.jpg)\n",
    "Վանաձոր, [լուսանկարի հղումը](https://unsplash.com/photos/brown-wooden-framed-glass-window-UiFQmKCOm3Q), Հեղինակ՝ [Gor Davtyan](https://unsplash.com/@gor918)"
   ]
  },
  {
   "cell_type": "markdown",
   "metadata": {},
   "source": [
    "<a href=\"https://colab.research.google.com/github/HaykTarkhanyan/python_math_ml_course/blob/main/%5BInitial%5D_Python_%7C_%D5%8F4_%7C_For%2C_while_%D6%81%D5%AB%D5%AF%D5%AC%D5%A5%D6%80.ipynb\" target=\"_parent\"><img src=\"https://colab.research.google.com/assets/colab-badge.svg\" alt=\"Open In Colab\"/></a> (ToDo)"
   ]
  },
  {
   "cell_type": "markdown",
   "metadata": {},
   "source": [
    "Song reference - ToDo"
   ]
  },
  {
   "cell_type": "markdown",
   "metadata": {},
   "source": [
    "# 🎦 Տեսադասեր + լրացուցիչ\n",
    "\n",
    "ToDo\n",
    "1. [Տեսություն 2025](https://youtu.be/TIWU_bjFuUc) \\\n",
    "2. [Տեսություն 2023 (ToDo)]()  \\\n",
    "3. [Գործնական 2025](https://youtu.be/zf8xEfdLXRo) \\\n",
    "4. [Գործնական 2023 (ToDo)]()  \\\n",
    "5. [Որոշ տնայինների լուծումներ (ToDo)]()\n",
    "    \n",
    "Google Forms ToDo"
   ]
  },
  {
   "cell_type": "markdown",
   "metadata": {},
   "source": [
    "# 📚 Նյութը"
   ]
  },
  {
   "cell_type": "markdown",
   "metadata": {
    "id": "aJLdhkRtEdgr"
   },
   "source": [
    "## Մոտիվացիոն օրինակ"
   ]
  },
  {
   "cell_type": "markdown",
   "metadata": {
    "id": "nOTwamdKCUNa"
   },
   "source": [
    "Պատկերացրեք տանը ահավոր փոքր չայնիկ ունենք՝ մի հոգանոց, լիքը հյուրա եկել մենք պետքա չայերը սարքենք, որնա լինելու մեր մոտեցումը"
   ]
  },
  {
   "cell_type": "markdown",
   "metadata": {
    "id": "yXT0GAwJCyOl"
   },
   "source": [
    "**Հարցնել**\n",
    "1. Սև/կանաչ/մրգային ․․․\n",
    "2. Ինչքա՞ն քաղցր\n",
    "3. Լիմոն քցու՞մ եմ\n",
    "\n",
    "**Հարցնելուց հետո** \\\\\n",
    "Ջուրը դնել եռա \\\\\n",
    "․․․ \\\\\n",
    "և իհարկե, մատուցում ենք սիրով\n"
   ]
  },
  {
   "cell_type": "markdown",
   "metadata": {
    "id": "gF9o1MusvT0O"
   },
   "source": [
    "Մեյլ գրելուց ուղղակի անունն եք փոխում ոչ թե ամենինչը"
   ]
  },
  {
   "cell_type": "code",
   "execution_count": null,
   "metadata": {
    "colab": {
     "base_uri": "https://localhost:8080/"
    },
    "executionInfo": {
     "elapsed": 11130,
     "status": "ok",
     "timestamp": 1712160370122,
     "user": {
      "displayName": "509 Academy",
      "userId": "04290973032679126188"
     },
     "user_tz": -240
    },
    "id": "ky8PFkH-CHUW",
    "outputId": "29d72df8-aa55-4cba-cf58-f6eb9817df74"
   },
   "outputs": [],
   "source": [
    "mard1_tesak = input('սև/կանաչ/մրգային')\n",
    "mard1_qaxcr = float(input('Ինչքա՞ն քաղցր'))\n",
    "mard1_limon = bool(input('Լիմոն կուզե՞ք'))\n",
    "\n",
    "print('ջուրը դրեցի եռա')\n",
    "print(\"համապատասխան քանակի քաղցր ավելացնել\")\n",
    "print(\"լիմոն ավելացնել ըստ ցանկության\")\n",
    "print('մատուցել սիրով')"
   ]
  },
  {
   "cell_type": "code",
   "execution_count": null,
   "metadata": {},
   "outputs": [],
   "source": []
  },
  {
   "cell_type": "code",
   "execution_count": null,
   "metadata": {
    "colab": {
     "base_uri": "https://localhost:8080/",
     "height": 356
    },
    "executionInfo": {
     "elapsed": 6987,
     "status": "error",
     "timestamp": 1712160396575,
     "user": {
      "displayName": "509 Academy",
      "userId": "04290973032679126188"
     },
     "user_tz": -240
    },
    "id": "hCVKcQ5rDy9X",
    "outputId": "7291a99e-949a-4148-9b60-d593604be8e1"
   },
   "outputs": [],
   "source": [
    "mard1_tesak = input('սև/կանաչ/մրգային')\n",
    "mard1_qaxcr = float(input('Ինչքա՞ն քաղցր'))\n",
    "mard1_limon = bool(input('Լիմոն կուզե՞ք'))\n",
    "\n",
    "\n",
    "print('ջուրը դնեցի եռա')\n",
    "print(\"համապատասխան քանակի քաղցր ավելացնել\")\n",
    "print(\"լիմոն ավելացնել ըստ ցանկության\")\n",
    "print('մատուցել սիրով')\n",
    "\n",
    "marda2_tesak = input('սև/կանաչ/մրգային')\n",
    "marda2_qaxcr = float(input('Ինչքա՞ն քաղցր'))\n",
    "marda2_limon = bool(input('Լիմոն կուզե՞ք'))\n",
    "\n",
    "print('ջուրը դնեցի եռա')\n",
    "print(\"համապատասխան քանակի քաղցր ավելացնել\")\n",
    "print(\"լիմոն ավելացնել ըստ ցանկության\")\n",
    "print('մատուցել սիրով')\n"
   ]
  },
  {
   "cell_type": "markdown",
   "metadata": {
    "id": "OBi5stsO8Bu6"
   },
   "source": [
    "\n",
    "\n",
    "```python\n",
    "թեյ_սարքել(tesak, qaxcr, limon):\n",
    "    սարքել թեյը\n",
    "    վերադարձնել\n",
    "```\n",
    "\n",
    "\n"
   ]
  },
  {
   "cell_type": "code",
   "execution_count": null,
   "metadata": {
    "id": "HwJ4ODj7EJBU"
   },
   "outputs": [],
   "source": [
    "թեյ_սարքել(\"Սև\", 2, True)\n",
    "թեյ_սարքել(\"Մրգային\", 0, False)"
   ]
  },
  {
   "cell_type": "markdown",
   "metadata": {
    "id": "iV0JFqz8EW9l"
   },
   "source": [
    "եկեք փայթնում տեսնենք ոնց ենք սարքում սենց թեյի ապարատներ և ոչ միայն"
   ]
  },
  {
   "cell_type": "markdown",
   "metadata": {
    "id": "97qN_2UzEgoK"
   },
   "source": [
    "## Ֆունկցիաներ, սկիզբ"
   ]
  },
  {
   "cell_type": "code",
   "execution_count": 1,
   "metadata": {
    "colab": {
     "base_uri": "https://localhost:8080/"
    },
    "executionInfo": {
     "elapsed": 10497,
     "status": "ok",
     "timestamp": 1704986144309,
     "user": {
      "displayName": "509 Academy",
      "userId": "04290973032679126188"
     },
     "user_tz": -240
    },
    "id": "wXmYjNWnEkl3",
    "outputId": "f6ebce31-ba37-4c09-8139-b0664b0ccc71"
   },
   "outputs": [
    {
     "name": "stdout",
     "output_type": "stream",
     "text": [
      "Բարև qwefdbg\n",
      "Ո՞նց ես,\n",
      "         տնեցիք լա՞վ են,\n",
      "         էլի՞ են հին տներն եք մնում,\n",
      "         թութը թա՞փ եք տալիս,\n",
      "         էս նիհարե՞լ ես հա ոնց-որ,\n",
      "         բա չե՞ս պսակվում,\n",
      "         վախտնա է արդեն,\n",
      "         մենք էլ ենք չէ թոռ ուզում\n",
      "         \n",
      "Բարև dsvfbg\n",
      "Ո՞նց ես,\n",
      "         տնեցիք լա՞վ են,\n",
      "         էլի՞ են հին տներն եք մնում,\n",
      "         թութը թա՞փ եք տալիս,\n",
      "         էս նիհարե՞լ ես հա ոնց-որ,\n",
      "         բա չե՞ս պսակվում,\n",
      "         վախտնա է արդեն,\n",
      "         մենք էլ ենք չէ թոռ ուզում\n",
      "         \n",
      "Բարև dsfg\n",
      "Ո՞նց ես,\n",
      "         տնեցիք լա՞վ են,\n",
      "         էլի՞ են հին տներն եք մնում,\n",
      "         թութը թա՞փ եք տալիս,\n",
      "         էս նիհարե՞լ ես հա ոնց-որ,\n",
      "         բա չե՞ս պսակվում,\n",
      "         վախտնա է արդեն,\n",
      "         մենք էլ ենք չէ թոռ ուզում\n",
      "         \n",
      "Բարև dgf\n",
      "Ո՞նց ես,\n",
      "         տնեցիք լա՞վ են,\n",
      "         էլի՞ են հին տներն եք մնում,\n",
      "         թութը թա՞փ եք տալիս,\n",
      "         էս նիհարե՞լ ես հա ոնց-որ,\n",
      "         բա չե՞ս պսակվում,\n",
      "         վախտնա է արդեն,\n",
      "         մենք էլ ենք չէ թոռ ուզում\n",
      "         \n"
     ]
    }
   ],
   "source": [
    "mard1 = input()\n",
    "print(f'Բարև {mard1}')\n",
    "print(\"\"\"Ո՞նց ես,\n",
    "         տնեցիք լա՞վ են,\n",
    "         էլի՞ են հին տներն եք մնում,\n",
    "         թութը թա՞փ եք տալիս,\n",
    "         էս նիհարե՞լ ես հա ոնց-որ,\n",
    "         բա չե՞ս պսակվում,\n",
    "         վախտնա է արդեն,\n",
    "         մենք էլ ենք չէ թոռ ուզում\n",
    "         \"\"\")\n",
    "\n",
    "mard2 = input()\n",
    "print(f'Բարև {mard2}')\n",
    "print(\"\"\"Ո՞նց ես,\n",
    "         տնեցիք լա՞վ են,\n",
    "         էլի՞ են հին տներն եք մնում,\n",
    "         թութը թա՞փ եք տալիս,\n",
    "         էս նիհարե՞լ ես հա ոնց-որ,\n",
    "         բա չե՞ս պսակվում,\n",
    "         վախտնա է արդեն,\n",
    "         մենք էլ ենք չէ թոռ ուզում\n",
    "         \"\"\")\n",
    "\n",
    "mard3 = input()\n",
    "print(f'Բարև {mard3}')\n",
    "print(\"\"\"Ո՞նց ես,\n",
    "         տնեցիք լա՞վ են,\n",
    "         էլի՞ են հին տներն եք մնում,\n",
    "         թութը թա՞փ եք տալիս,\n",
    "         էս նիհարե՞լ ես հա ոնց-որ,\n",
    "         բա չե՞ս պսակվում,\n",
    "         վախտնա է արդեն,\n",
    "         մենք էլ ենք չէ թոռ ուզում\n",
    "         \"\"\")\n",
    "\n",
    "mard4 = input()\n",
    "print(f'Բարև {mard4}')\n",
    "print(\"\"\"Ո՞նց ես,\n",
    "         տնեցիք լա՞վ են,\n",
    "         էլի՞ են հին տներն եք մնում,\n",
    "         թութը թա՞փ եք տալիս,\n",
    "         էս նիհարե՞լ ես հա ոնց-որ,\n",
    "         բա չե՞ս պսակվում,\n",
    "         վախտնա է արդեն,\n",
    "         մենք էլ ենք չէ թոռ ուզում\n",
    "         \"\"\")\n"
   ]
  },
  {
   "cell_type": "markdown",
   "metadata": {
    "id": "xh-1wfwWFwxV"
   },
   "source": [
    "## Առանց ոչ մի բան ֆունցկիա"
   ]
  },
  {
   "cell_type": "code",
   "execution_count": 3,
   "metadata": {
    "executionInfo": {
     "elapsed": 588,
     "status": "ok",
     "timestamp": 1734628149207,
     "user": {
      "displayName": "509 Academy",
      "userId": "04290973032679126188"
     },
     "user_tz": -60
    },
    "id": "qmMvX_7YFe5T"
   },
   "outputs": [],
   "source": [
    "def harcupordz_anel(): # define (սահմանում)\n",
    "    print(\"\"\"Ո՞նց ես,\n",
    "         տնեցիք լա՞վ են,\n",
    "         էլի՞ են հին տներն եք մնում,\n",
    "         թութը թա՞փ եք տալիս,\n",
    "         էս նիհարե՞լ ես հա ոնց-որ,\n",
    "         բա չե՞ս պսակվում,\n",
    "         վախտնա է արդեն,\n",
    "         մենք էլ ենք չէ թոռ ուզում\n",
    "         \"\"\")\n"
   ]
  },
  {
   "cell_type": "code",
   "execution_count": 4,
   "metadata": {
    "colab": {
     "base_uri": "https://localhost:8080/"
    },
    "executionInfo": {
     "elapsed": 6635,
     "status": "ok",
     "timestamp": 1734628157244,
     "user": {
      "displayName": "509 Academy",
      "userId": "04290973032679126188"
     },
     "user_tz": -60
    },
    "id": "86mPOUmwF6_p",
    "outputId": "9949daa6-cf1c-41c0-e883-b316fd582f11"
   },
   "outputs": [
    {
     "name": "stdout",
     "output_type": "stream",
     "text": [
      "Բարև sdasada\n",
      "Ո՞նց ես,\n",
      "         տնեցիք լա՞վ են,\n",
      "         էլի՞ են հին տներն եք մնում,\n",
      "         թութը թա՞փ եք տալիս,\n",
      "         էս նիհարե՞լ ես հա ոնց-որ,\n",
      "         բա չե՞ս պսակվում,\n",
      "         վախտնա է արդեն,\n",
      "         մենք էլ ենք չէ թոռ ուզում\n",
      "         \n",
      "Բարև dasasd\n",
      "Ո՞նց ես,\n",
      "         տնեցիք լա՞վ են,\n",
      "         էլի՞ են հին տներն եք մնում,\n",
      "         թութը թա՞փ եք տալիս,\n",
      "         էս նիհարե՞լ ես հա ոնց-որ,\n",
      "         բա չե՞ս պսակվում,\n",
      "         վախտնա է արդեն,\n",
      "         մենք էլ ենք չէ թոռ ուզում\n",
      "         \n"
     ]
    }
   ],
   "source": [
    "mard1 = input()\n",
    "print(f'Բարև {mard1}')\n",
    "harcupordz_anel()\n",
    "\n",
    "mard2 = input()\n",
    "print(f'Բարև {mard2}')\n",
    "harcupordz_anel()\n"
   ]
  },
  {
   "cell_type": "markdown",
   "metadata": {
    "id": "M8jK5Cv7Grkz"
   },
   "source": [
    "## Արգումենտով ֆունցկիա"
   ]
  },
  {
   "cell_type": "code",
   "execution_count": 5,
   "metadata": {
    "colab": {
     "base_uri": "https://localhost:8080/"
    },
    "executionInfo": {
     "elapsed": 7,
     "status": "ok",
     "timestamp": 1734628193930,
     "user": {
      "displayName": "509 Academy",
      "userId": "04290973032679126188"
     },
     "user_tz": -60
    },
    "id": "nBzTEYy_xUQp",
    "outputId": "9f90001e-ed09-4950-c8f5-1ab324b0a9d0"
   },
   "outputs": [
    {
     "name": "stdout",
     "output_type": "stream",
     "text": [
      "Help on built-in function round in module builtins:\n",
      "\n",
      "round(number, ndigits=None)\n",
      "    Round a number to a given precision in decimal digits.\n",
      "    \n",
      "    The return value is an integer if ndigits is omitted or None.  Otherwise\n",
      "    the return value has the same type as the number.  ndigits may be negative.\n",
      "\n"
     ]
    }
   ],
   "source": [
    "help(round)"
   ]
  },
  {
   "cell_type": "code",
   "execution_count": null,
   "metadata": {
    "colab": {
     "base_uri": "https://localhost:8080/"
    },
    "executionInfo": {
     "elapsed": 20,
     "status": "ok",
     "timestamp": 1712161372734,
     "user": {
      "displayName": "509 Academy",
      "userId": "04290973032679126188"
     },
     "user_tz": -240
    },
    "id": "gKHYZlkrxQmv",
    "outputId": "affd8312-db11-43d5-de73-8ff1a3f5cb04"
   },
   "outputs": [
    {
     "name": "stdout",
     "output_type": "stream",
     "text": [
      "3.5123\n"
     ]
    }
   ],
   "source": [
    "print(round(3.5123343, 4))"
   ]
  },
  {
   "cell_type": "code",
   "execution_count": 8,
   "metadata": {
    "colab": {
     "base_uri": "https://localhost:8080/",
     "height": 106
    },
    "executionInfo": {
     "elapsed": 395,
     "status": "error",
     "timestamp": 1734628367255,
     "user": {
      "displayName": "509 Academy",
      "userId": "04290973032679126188"
     },
     "user_tz": -60
    },
    "id": "LrdJ4Fv6G14r",
    "outputId": "e69d2b27-dd66-49cb-fed0-3e6ceb513ed7"
   },
   "outputs": [],
   "source": [
    "def harcupordz_anel(name):\n",
    "    print(f'Բարև {name}')\n",
    "    print(\"\"\"Ո՞նց ես,\n",
    "         տնեցիք լա՞վ են,\n",
    "         էլի՞ են հին տներն եք մնում,\n",
    "         թութը թա՞փ եք տալիս,\n",
    "         էս նիհարե՞լ ես հա ոնց-որ,\n",
    "         բա չե՞ս պսակվում,\n",
    "         վախտնա է արդեն,\n",
    "         մենք էլ ենք չէ թոռ ուզում\n",
    "         \"\"\")\n"
   ]
  },
  {
   "cell_type": "code",
   "execution_count": 14,
   "metadata": {},
   "outputs": [
    {
     "name": "stdout",
     "output_type": "stream",
     "text": [
      "Բարև a\n",
      "Ո՞նց ես,\n",
      "         տնեցիք լա՞վ են,\n",
      "         էլի՞ են հին տներն եք մնում,\n",
      "         թութը թա՞փ եք տալիս,\n",
      "         էս նիհարե՞լ ես հա ոնց-որ,\n",
      "         բա չե՞ս պսակվում,\n",
      "         վախտնա է արդեն,\n",
      "         մենք էլ ենք չէ թոռ ուզում\n",
      "         \n"
     ]
    }
   ],
   "source": [
    "name = 1\n",
    "\n",
    "harcupordz_anel(\"a\")"
   ]
  },
  {
   "cell_type": "code",
   "execution_count": null,
   "metadata": {
    "colab": {
     "base_uri": "https://localhost:8080/"
    },
    "executionInfo": {
     "elapsed": 2837,
     "status": "ok",
     "timestamp": 1734628283228,
     "user": {
      "displayName": "509 Academy",
      "userId": "04290973032679126188"
     },
     "user_tz": -60
    },
    "id": "U4-MxuxzG-kl",
    "outputId": "a246fbf8-189b-4da0-b40a-4a9f7ea53984"
   },
   "outputs": [
    {
     "name": "stdout",
     "output_type": "stream",
     "text": [
      "Բարև 32122\n",
      "Ո՞նց ես,\n",
      "         տնեցիք լա՞վ են,\n",
      "         էլի՞ են հին տներն եք մնում,\n",
      "         թութը թա՞փ եք տալիս,\n",
      "         էս նիհարե՞լ ես հա ոնց-որ,\n",
      "         բա չե՞ս պսակվում,\n",
      "         վախտնա է արդեն,\n",
      "         մենք էլ ենք չէ թոռ ուզում\n",
      "         \n",
      "None\n",
      "1\n"
     ]
    }
   ],
   "source": [
    "amard1 = input()\n",
    "\n",
    "harcupordz_anel(mard1)\n",
    "print(1)"
   ]
  },
  {
   "cell_type": "markdown",
   "metadata": {
    "id": "4whxL8nZHFYj"
   },
   "source": [
    "Կարանք նույնիսկ սենց անենք՝"
   ]
  },
  {
   "cell_type": "code",
   "execution_count": null,
   "metadata": {
    "id": "MpVYuOTfHJUa"
   },
   "outputs": [],
   "source": [
    "def hacupordz_anel():\n",
    "    anun = input()\n",
    "    print(f'Բարև {anun}')\n",
    "    print(\"\"\"Ո՞նց ես,\n",
    "         տնեցիք լա՞վ են,\n",
    "         էլի՞ են հին տներն եք մնում,\n",
    "         թութը թա՞փ եք տալիս,\n",
    "         էս նիհարե՞լ ես հա ոնց-որ,\n",
    "         բա չե՞ս պսակվում,\n",
    "         վախտնա է արդեն,\n",
    "         մենք էլ ենք չէ թոռ ուզում\n",
    "         \"\"\")\n"
   ]
  },
  {
   "cell_type": "code",
   "execution_count": null,
   "metadata": {
    "colab": {
     "base_uri": "https://localhost:8080/",
     "height": 141
    },
    "executionInfo": {
     "elapsed": 30,
     "status": "error",
     "timestamp": 1712161125731,
     "user": {
      "displayName": "509 Academy",
      "userId": "04290973032679126188"
     },
     "user_tz": -240
    },
    "id": "AwyWgvAsGqS-",
    "outputId": "d0ab1e80-15f0-4016-b2bb-e318f10237f8"
   },
   "outputs": [
    {
     "ename": "NameError",
     "evalue": "name 'anun' is not defined",
     "output_type": "error",
     "traceback": [
      "\u001b[0;31m---------------------------------------------------------------------------\u001b[0m",
      "\u001b[0;31mNameError\u001b[0m                                 Traceback (most recent call last)",
      "\u001b[0;32m<ipython-input-16-cdee89ff6ea4>\u001b[0m in \u001b[0;36m<cell line: 1>\u001b[0;34m()\u001b[0m\n\u001b[0;32m----> 1\u001b[0;31m \u001b[0mprint\u001b[0m\u001b[0;34m(\u001b[0m\u001b[0manun\u001b[0m\u001b[0;34m)\u001b[0m\u001b[0;34m\u001b[0m\u001b[0;34m\u001b[0m\u001b[0m\n\u001b[0m",
      "\u001b[0;31mNameError\u001b[0m: name 'anun' is not defined"
     ]
    }
   ],
   "source": [
    "print(anun)"
   ]
  },
  {
   "cell_type": "code",
   "execution_count": null,
   "metadata": {
    "colab": {
     "base_uri": "https://localhost:8080/"
    },
    "executionInfo": {
     "elapsed": 3010,
     "status": "ok",
     "timestamp": 1712161871025,
     "user": {
      "displayName": "509 Academy",
      "userId": "04290973032679126188"
     },
     "user_tz": -240
    },
    "id": "9YoEjwFmHOvq",
    "outputId": "8f525c9b-fc65-410c-aa77-37057fdf4823"
   },
   "outputs": [
    {
     "name": "stdout",
     "output_type": "stream",
     "text": [
      "1234\n",
      "Բարև 1234\n",
      "Ո՞նց ես,\n",
      "         տնեցիք լա՞վ են,\n",
      "         էլի՞ են հին տներն եք մնում,\n",
      "         թութը թա՞փ եք տալիս,\n",
      "         էս նիհարե՞լ ես հա ոնց-որ,\n",
      "         բա չե՞ս պսակվում,\n",
      "         վախտնա է արդեն,\n",
      "         մենք էլ ենք չէ թոռ ուզում\n",
      "         \n",
      "None\n"
     ]
    }
   ],
   "source": [
    "hacupordz_anel()\n"
   ]
  },
  {
   "cell_type": "markdown",
   "metadata": {
    "id": "C7wXZCAZH7er"
   },
   "source": [
    "### Մի քանի արգումենտ ունենա"
   ]
  },
  {
   "cell_type": "code",
   "execution_count": 15,
   "metadata": {
    "executionInfo": {
     "elapsed": 391,
     "status": "ok",
     "timestamp": 1734629202397,
     "user": {
      "displayName": "509 Academy",
      "userId": "04290973032679126188"
     },
     "user_tz": -60
    },
    "id": "_mGnZ-5iF_YJ"
   },
   "outputs": [],
   "source": [
    "def hashvel_caxsy(poncikneri_qanak, ponchikneri_gin):\n",
    "    print(poncikneri_qanak * ponchikneri_gin)"
   ]
  },
  {
   "cell_type": "code",
   "execution_count": 19,
   "metadata": {
    "colab": {
     "base_uri": "https://localhost:8080/"
    },
    "executionInfo": {
     "elapsed": 5,
     "status": "ok",
     "timestamp": 1734629202939,
     "user": {
      "displayName": "509 Academy",
      "userId": "04290973032679126188"
     },
     "user_tz": -60
    },
    "id": "-x6TJTrtyRsA",
    "outputId": "9d72a687-f2b0-432d-87c1-1c4d77907475"
   },
   "outputs": [
    {
     "name": "stdout",
     "output_type": "stream",
     "text": [
      "450\n"
     ]
    }
   ],
   "source": [
    "hashvel_caxsy(3, 150)"
   ]
  },
  {
   "cell_type": "code",
   "execution_count": 21,
   "metadata": {},
   "outputs": [
    {
     "name": "stdout",
     "output_type": "stream",
     "text": [
      "450\n",
      "None\n"
     ]
    }
   ],
   "source": [
    "gumar = hashvel_caxsy(3, 150)\n",
    "print(gumar)"
   ]
  },
  {
   "cell_type": "code",
   "execution_count": 22,
   "metadata": {
    "colab": {
     "base_uri": "https://localhost:8080/"
    },
    "executionInfo": {
     "elapsed": 361,
     "status": "ok",
     "timestamp": 1734629209843,
     "user": {
      "displayName": "509 Academy",
      "userId": "04290973032679126188"
     },
     "user_tz": -60
    },
    "id": "ugn9UH2wKKpA",
    "outputId": "22eabdf2-bde9-49d7-c1af-c044d56e51b2"
   },
   "outputs": [
    {
     "name": "stdout",
     "output_type": "stream",
     "text": [
      "450\n",
      "None\n"
     ]
    },
    {
     "ename": "TypeError",
     "evalue": "'>' not supported between instances of 'NoneType' and 'int'",
     "output_type": "error",
     "traceback": [
      "\u001b[1;31m---------------------------------------------------------------------------\u001b[0m",
      "\u001b[1;31mTypeError\u001b[0m                                 Traceback (most recent call last)",
      "Input \u001b[1;32mIn [22]\u001b[0m, in \u001b[0;36m<cell line: 4>\u001b[1;34m()\u001b[0m\n\u001b[0;32m      1\u001b[0m a \u001b[38;5;241m=\u001b[39m hashvel_caxsy(\u001b[38;5;241m3\u001b[39m, \u001b[38;5;241m150\u001b[39m)\n\u001b[0;32m      2\u001b[0m \u001b[38;5;28mprint\u001b[39m(a)\n\u001b[1;32m----> 4\u001b[0m \u001b[38;5;28;01mif\u001b[39;00m \u001b[43ma\u001b[49m\u001b[43m \u001b[49m\u001b[38;5;241;43m>\u001b[39;49m\u001b[43m \u001b[49m\u001b[38;5;241;43m300\u001b[39;49m:\n\u001b[0;32m      5\u001b[0m     \u001b[38;5;28mprint\u001b[39m(\u001b[38;5;124m\"\u001b[39m\u001b[38;5;124mչենք կարող գնել\u001b[39m\u001b[38;5;124m\"\u001b[39m)\n",
      "\u001b[1;31mTypeError\u001b[0m: '>' not supported between instances of 'NoneType' and 'int'"
     ]
    }
   ],
   "source": [
    "a = hashvel_caxsy(3, 150)\n",
    "print(a)\n",
    "\n",
    "if a > 300:\n",
    "    print(\"չենք կարող գնել\")"
   ]
  },
  {
   "cell_type": "markdown",
   "metadata": {
    "id": "KRyyocgfGLKj"
   },
   "source": [
    "## Կառուցվածքը\n",
    "\n",
    "```python\n",
    "def funkciai_anun(argument1, argument2): # def -> define (սահմանել) բառից\n",
    "    \"\"\"Ֆունկցիայի նկարագիր, սրա մասին հետո # կարա սա չլինի\n",
    "    \"\"\"\n",
    "    # արա էս-էս բանը\n",
    "    return inch_vor_arjeq # կարա սա չլինի\n",
    "```"
   ]
  },
  {
   "cell_type": "markdown",
   "metadata": {
    "id": "aJ76G1n_KpUr"
   },
   "source": [
    "## return-ով ֆունկցիաներ"
   ]
  },
  {
   "cell_type": "code",
   "execution_count": 23,
   "metadata": {
    "executionInfo": {
     "elapsed": 557,
     "status": "ok",
     "timestamp": 1734628848075,
     "user": {
      "displayName": "509 Academy",
      "userId": "04290973032679126188"
     },
     "user_tz": -60
    },
    "id": "fn4nsKBqKXbA"
   },
   "outputs": [],
   "source": [
    "def hashvel_caxsy(poncikneri_qanak, ponchikneri_gin):\n",
    "\n",
    "    print(poncikneri_qanak * ponchikneri_gin)"
   ]
  },
  {
   "cell_type": "code",
   "execution_count": 24,
   "metadata": {
    "colab": {
     "base_uri": "https://localhost:8080/",
     "height": 211
    },
    "executionInfo": {
     "elapsed": 9,
     "status": "error",
     "timestamp": 1734628851177,
     "user": {
      "displayName": "509 Academy",
      "userId": "04290973032679126188"
     },
     "user_tz": -60
    },
    "id": "uSRx-4RULJWr",
    "outputId": "ddb49f4e-14f4-49ae-ddac-1da241d279d0"
   },
   "outputs": [
    {
     "name": "stdout",
     "output_type": "stream",
     "text": [
      "330\n"
     ]
    },
    {
     "ename": "TypeError",
     "evalue": "'>' not supported between instances of 'int' and 'NoneType'",
     "output_type": "error",
     "traceback": [
      "\u001b[1;31m---------------------------------------------------------------------------\u001b[0m",
      "\u001b[1;31mTypeError\u001b[0m                                 Traceback (most recent call last)",
      "Input \u001b[1;32mIn [24]\u001b[0m, in \u001b[0;36m<cell line: 3>\u001b[1;34m()\u001b[0m\n\u001b[0;32m      1\u001b[0m unenq \u001b[38;5;241m=\u001b[39m \u001b[38;5;241m500\u001b[39m\n\u001b[1;32m----> 3\u001b[0m \u001b[38;5;28;01mif\u001b[39;00m \u001b[43munenq\u001b[49m\u001b[43m \u001b[49m\u001b[38;5;241;43m>\u001b[39;49m\u001b[43m \u001b[49m\u001b[43mhashvel_caxsy\u001b[49m\u001b[43m(\u001b[49m\u001b[38;5;241;43m3\u001b[39;49m\u001b[43m,\u001b[49m\u001b[43m \u001b[49m\u001b[38;5;241;43m110\u001b[39;49m\u001b[43m)\u001b[49m:\n\u001b[0;32m      4\u001b[0m     \u001b[38;5;28mprint\u001b[39m(\u001b[38;5;124m\"\u001b[39m\u001b[38;5;124muraa\u001b[39m\u001b[38;5;124m\"\u001b[39m)\n",
      "\u001b[1;31mTypeError\u001b[0m: '>' not supported between instances of 'int' and 'NoneType'"
     ]
    }
   ],
   "source": [
    "unenq = 500\n",
    "\n",
    "if unenq > hashvel_caxsy(3, 110):\n",
    "    print(\"uraa\")"
   ]
  },
  {
   "cell_type": "markdown",
   "metadata": {
    "id": "pPkgscYJL3G_"
   },
   "source": [
    "իսկ ինչ եթե ուզում ենք ինչ-որ ձև օգտագործել էդ արժեքը"
   ]
  },
  {
   "cell_type": "code",
   "execution_count": 25,
   "metadata": {
    "executionInfo": {
     "elapsed": 554,
     "status": "ok",
     "timestamp": 1734628866131,
     "user": {
      "displayName": "509 Academy",
      "userId": "04290973032679126188"
     },
     "user_tz": -60
    },
    "id": "lEBJVT8wLWPn"
   },
   "outputs": [],
   "source": [
    "def hashvel_caxsy(poncikneri_qanak, ponchikneri_gin):\n",
    "    return poncikneri_qanak * ponchikneri_gin"
   ]
  },
  {
   "cell_type": "code",
   "execution_count": 26,
   "metadata": {
    "colab": {
     "base_uri": "https://localhost:8080/"
    },
    "executionInfo": {
     "elapsed": 5,
     "status": "ok",
     "timestamp": 1734628867479,
     "user": {
      "displayName": "509 Academy",
      "userId": "04290973032679126188"
     },
     "user_tz": -60
    },
    "id": "k4lP5AljH1Bc",
    "outputId": "04f54497-01b7-4158-cd34-c15971a4cbdd"
   },
   "outputs": [
    {
     "name": "stdout",
     "output_type": "stream",
     "text": [
      "330\n"
     ]
    }
   ],
   "source": [
    "gin = hashvel_caxsy(3, 110)\n",
    "print(gin)"
   ]
  },
  {
   "cell_type": "code",
   "execution_count": 27,
   "metadata": {
    "colab": {
     "base_uri": "https://localhost:8080/"
    },
    "executionInfo": {
     "elapsed": 566,
     "status": "ok",
     "timestamp": 1734628874570,
     "user": {
      "displayName": "509 Academy",
      "userId": "04290973032679126188"
     },
     "user_tz": -60
    },
    "id": "icrUN69OL6IC",
    "outputId": "aa0cdc9e-4c38-48f5-d3bf-83ad07c803c6"
   },
   "outputs": [
    {
     "name": "stdout",
     "output_type": "stream",
     "text": [
      "330\n",
      "ամ նյամ նյամ\n"
     ]
    }
   ],
   "source": [
    "unenq = 500\n",
    "\n",
    "caxs = hashvel_caxsy(3, 110)\n",
    "\n",
    "print(caxs)\n",
    "if unenq < caxs:\n",
    "    print('տխրել')\n",
    "else:\n",
    "    print('ամ նյամ նյամ')"
   ]
  },
  {
   "cell_type": "markdown",
   "metadata": {
    "id": "vVNcwvOwMU9a"
   },
   "source": [
    "### մի քանի արժեքների return"
   ]
  },
  {
   "cell_type": "code",
   "execution_count": null,
   "metadata": {
    "colab": {
     "base_uri": "https://localhost:8080/",
     "height": 245
    },
    "executionInfo": {
     "elapsed": 985,
     "status": "error",
     "timestamp": 1734629342491,
     "user": {
      "displayName": "509 Academy",
      "userId": "04290973032679126188"
     },
     "user_tz": -60
    },
    "id": "mszBP8QDMOj6",
    "outputId": "34280231-9880-4bc5-a669-3450730433a7"
   },
   "outputs": [
    {
     "name": "stdout",
     "output_type": "stream",
     "text": [
      "Ձեզ պետք է 550դրամ\n",
      "Անուշ արեք, Ձեր մանրն է 450 դրամ\n",
      "(550, 9)\n",
      "Ձեզ պետք է 550դրամ\n",
      "Անուշ արեք, Ձեր մանրն է 450 դրամ\n",
      "<class 'tuple'>\n"
     ]
    }
   ],
   "source": [
    "def ponchikneri_calculator(exac_gumar, ponchikneri_qanak, ponchikneri_gin):\n",
    "    # anhrajesht_gumar = ponchikneri_qanak * ponchikneri_gin\n",
    "    anhrajesht_gumar = hashvel_caxsy(ponchikneri_qanak, ponchikneri_gin)\n",
    "\n",
    "    print(f\"Ձեզ պետք է {anhrajesht_gumar}դրամ\")\n",
    "\n",
    "    karox_enq_gnel = exac_gumar // ponchikneri_gin\n",
    "\n",
    "    if exac_gumar < anhrajesht_gumar:\n",
    "        print(f\"Կներեք բայց Ձեր գումարը չի հերիքում, կարող եք գնել {karox_enq_gnel} հատ\")\n",
    "    else:\n",
    "        print(f\"Անուշ արեք, Ձեր մանրն է {exac_gumar - anhrajesht_gumar} դրամ\")\n",
    "\n",
    "    return anhrajesht_gumar, karox_enq_gnel\n",
    "\n",
    "\n",
    "\n",
    "\n",
    "print(ponchikneri_calculator(1000, 5, 110))\n",
    "print(type(ponchikneri_calculator(1000, 5, 110)))\n",
    "# gumar, karanq_arnenq = ponchikneri_calculator(1000, 5, 110)\n"
   ]
  },
  {
   "cell_type": "code",
   "execution_count": 30,
   "metadata": {
    "colab": {
     "base_uri": "https://localhost:8080/"
    },
    "executionInfo": {
     "elapsed": 370,
     "status": "ok",
     "timestamp": 1734629358489,
     "user": {
      "displayName": "509 Academy",
      "userId": "04290973032679126188"
     },
     "user_tz": -60
    },
    "id": "F_qa1wptNgnc",
    "outputId": "9d5216aa-44ad-414a-e256-789894b5b5f2"
   },
   "outputs": [
    {
     "name": "stdout",
     "output_type": "stream",
     "text": [
      "Ձեզ պետք է 550դրամ\n",
      "Անուշ արեք, Ձեր մանրն է 450 դրամ\n"
     ]
    }
   ],
   "source": [
    "gumar, karanq_arnenq = ponchikneri_calculator(1000, 5, 110)"
   ]
  },
  {
   "cell_type": "code",
   "execution_count": 22,
   "metadata": {
    "colab": {
     "base_uri": "https://localhost:8080/"
    },
    "executionInfo": {
     "elapsed": 364,
     "status": "ok",
     "timestamp": 1734629362894,
     "user": {
      "displayName": "509 Academy",
      "userId": "04290973032679126188"
     },
     "user_tz": -60
    },
    "id": "y4qFWlISNnZm",
    "outputId": "e9ae42ca-48c3-424e-e421-e9d7510467d2"
   },
   "outputs": [
    {
     "name": "stdout",
     "output_type": "stream",
     "text": [
      "550\n",
      "9\n",
      "Ձեզ պետք է 550դրամ\n",
      "Անուշ արեք, Ձեր մանրն է 450 դրամ\n",
      "(550, 9)\n"
     ]
    }
   ],
   "source": [
    "print(gumar)\n",
    "print(karanq_arnenq)\n",
    "print(ponchikneri_calculator(1000, 5, 110))"
   ]
  },
  {
   "cell_type": "markdown",
   "metadata": {
    "id": "aUKK-FNpPVVB"
   },
   "source": [
    "### returnից հետո ամենինչ անտեսվումա"
   ]
  },
  {
   "cell_type": "code",
   "execution_count": null,
   "metadata": {
    "colab": {
     "base_uri": "https://localhost:8080/"
    },
    "executionInfo": {
     "elapsed": 319,
     "status": "ok",
     "timestamp": 1734629451253,
     "user": {
      "displayName": "509 Academy",
      "userId": "04290973032679126188"
     },
     "user_tz": -60
    },
    "id": "PkvHP-ciPml0",
    "outputId": "67dad33f-927d-403d-eed4-c60011857b84"
   },
   "outputs": [
    {
     "name": "stdout",
     "output_type": "stream",
     "text": [
      "պանիր\n",
      "պանիր\n",
      "համով պանիր\n"
     ]
    }
   ],
   "source": [
    "def panirner_tpel():\n",
    "    print('պանիր')\n",
    "    print('պանիր')\n",
    "    return 'համով պանիր'\n",
    "    print(509)\n",
    "    a = 0\n",
    "    print(a)\n",
    "\n",
    "a = panirner_tpel()\n",
    "\n",
    "print(a)"
   ]
  },
  {
   "cell_type": "code",
   "execution_count": 38,
   "metadata": {},
   "outputs": [
    {
     "data": {
      "text/plain": [
       "5"
      ]
     },
     "execution_count": 38,
     "metadata": {},
     "output_type": "execute_result"
    }
   ],
   "source": [
    "round(4.512)"
   ]
  },
  {
   "cell_type": "markdown",
   "metadata": {
    "id": "raMbYL0CN2bC"
   },
   "source": [
    "## Արգումենտների տեսակներ"
   ]
  },
  {
   "cell_type": "markdown",
   "metadata": {
    "id": "lenFIOq8N51b"
   },
   "source": [
    "### default արգումենտ"
   ]
  },
  {
   "cell_type": "code",
   "execution_count": 34,
   "metadata": {},
   "outputs": [
    {
     "name": "stdout",
     "output_type": "stream",
     "text": [
      "1 2\n"
     ]
    }
   ],
   "source": [
    "print(1,2, sep=\" \")"
   ]
  },
  {
   "cell_type": "code",
   "execution_count": 43,
   "metadata": {
    "executionInfo": {
     "elapsed": 354,
     "status": "ok",
     "timestamp": 1734629747347,
     "user": {
      "displayName": "509 Academy",
      "userId": "04290973032679126188"
     },
     "user_tz": -60
    },
    "id": "4RKcOjGcN5Zn"
   },
   "outputs": [],
   "source": [
    "def ponchikneri_calculator(exac_gumar, ponchikneri_qanak, ponchikneri_gin=130):\n",
    "    print(f'պոնչիկի գինն է՝ {ponchikneri_gin}')\n",
    "    anhrajesht_gumar = ponchikneri_qanak * ponchikneri_gin\n",
    "    print(f\"Ձեզ պետք է {anhrajesht_gumar}դրամ\")\n",
    "\n",
    "    karox_enq_gnel = exac_gumar // ponchikneri_gin\n",
    "\n",
    "    if exac_gumar < anhrajesht_gumar:\n",
    "        print(f\"Կներեք բայց Ձեր գումարը չի հերիքում, կարող եք գնել {karox_enq_gnel} հատ\")\n",
    "    else:\n",
    "        print(f\"Անուշ արեք, Ձեր մանրն է {exac_gumar - anhrajesht_gumar}դրամ\")\n",
    "\n",
    "    return anhrajesht_gumar, karox_enq_gnel\n",
    "\n"
   ]
  },
  {
   "cell_type": "code",
   "execution_count": 44,
   "metadata": {
    "colab": {
     "base_uri": "https://localhost:8080/"
    },
    "executionInfo": {
     "elapsed": 454,
     "status": "ok",
     "timestamp": 1734629758439,
     "user": {
      "displayName": "509 Academy",
      "userId": "04290973032679126188"
     },
     "user_tz": -60
    },
    "id": "bIg5_HKpN91A",
    "outputId": "e40caddb-228a-49b8-ca44-aae6feaa149c"
   },
   "outputs": [
    {
     "name": "stdout",
     "output_type": "stream",
     "text": [
      "պոնչիկի գինն է՝ 130\n",
      "Ձեզ պետք է 650դրամ\n",
      "Անուշ արեք, Ձեր մանրն է 350դրամ\n",
      "(650, 7)\n",
      "պոնչիկի գինն է՝ 150\n",
      "Ձեզ պետք է 750դրամ\n",
      "Անուշ արեք, Ձեր մանրն է 250դրամ\n",
      "(750, 6)\n"
     ]
    }
   ],
   "source": [
    "print(ponchikneri_calculator(1000, 5))\n",
    "print(ponchikneri_calculator(1000, 5, 150))\n"
   ]
  },
  {
   "cell_type": "code",
   "execution_count": 45,
   "metadata": {
    "colab": {
     "base_uri": "https://localhost:8080/"
    },
    "executionInfo": {
     "elapsed": 771,
     "status": "ok",
     "timestamp": 1712164651605,
     "user": {
      "displayName": "509 Academy",
      "userId": "04290973032679126188"
     },
     "user_tz": -240
    },
    "id": "u0j4ixSJ9w2o",
    "outputId": "28500b26-0144-48d5-bbab-7752facecd51"
   },
   "outputs": [
    {
     "name": "stdout",
     "output_type": "stream",
     "text": [
      "1 2\n",
      "1---2\n"
     ]
    }
   ],
   "source": [
    "print(1,2)\n",
    "print(1,2, sep=\"---\")"
   ]
  },
  {
   "cell_type": "code",
   "execution_count": 46,
   "metadata": {
    "colab": {
     "base_uri": "https://localhost:8080/"
    },
    "executionInfo": {
     "elapsed": 15,
     "status": "ok",
     "timestamp": 1712164662128,
     "user": {
      "displayName": "509 Academy",
      "userId": "04290973032679126188"
     },
     "user_tz": -240
    },
    "id": "CWHC5WsV91lD",
    "outputId": "e4400a9d-6fda-4f49-ac8a-4e8ec805ebc9"
   },
   "outputs": [
    {
     "name": "stdout",
     "output_type": "stream",
     "text": [
      "Help on built-in function print in module builtins:\n",
      "\n",
      "print(...)\n",
      "    print(value, ..., sep=' ', end='\\n', file=sys.stdout, flush=False)\n",
      "    \n",
      "    Prints the values to a stream, or to sys.stdout by default.\n",
      "    Optional keyword arguments:\n",
      "    file:  a file-like object (stream); defaults to the current sys.stdout.\n",
      "    sep:   string inserted between values, default a space.\n",
      "    end:   string appended after the last value, default a newline.\n",
      "    flush: whether to forcibly flush the stream.\n",
      "\n"
     ]
    }
   ],
   "source": [
    "help(print)"
   ]
  },
  {
   "cell_type": "code",
   "execution_count": 47,
   "metadata": {
    "colab": {
     "base_uri": "https://localhost:8080/"
    },
    "executionInfo": {
     "elapsed": 16,
     "status": "ok",
     "timestamp": 1680710583033,
     "user": {
      "displayName": "509 Academy",
      "userId": "04290973032679126188"
     },
     "user_tz": -240
    },
    "id": "cbFh9Ru7OJy_",
    "outputId": "65a7d148-1435-4ad3-d89c-6b76037de2ba"
   },
   "outputs": [
    {
     "name": "stdout",
     "output_type": "stream",
     "text": [
      "պոնչիկի գինն է՝ 130\n",
      "Ձեզ պետք է 650դրամ\n",
      "Անուշ արեք, Ձեր մանրն է 350դրամ\n",
      "(650, 7)\n"
     ]
    }
   ],
   "source": [
    "print(ponchikneri_calculator(1000, 5))"
   ]
  },
  {
   "cell_type": "code",
   "execution_count": 48,
   "metadata": {
    "colab": {
     "base_uri": "https://localhost:8080/"
    },
    "executionInfo": {
     "elapsed": 350,
     "status": "ok",
     "timestamp": 1704987748812,
     "user": {
      "displayName": "509 Academy",
      "userId": "04290973032679126188"
     },
     "user_tz": -240
    },
    "id": "cZ3B3lx_OV4G",
    "outputId": "0c37a089-5b21-4c1b-d90c-b2df4905f474"
   },
   "outputs": [
    {
     "name": "stdout",
     "output_type": "stream",
     "text": [
      "1 3\n",
      "1․․․ ․․․ ․․․3\n"
     ]
    }
   ],
   "source": [
    "# ինչ-որ բան հիշացնումա՞\n",
    "print(1, 3)\n",
    "print(1, 3, sep=\"․․․ ․․․ ․․․\")"
   ]
  },
  {
   "cell_type": "markdown",
   "metadata": {
    "id": "wPPL7M03O0yM"
   },
   "source": [
    "**Հերթականությունը կարևորա** (default-ները պետքա ոչ default-ներից հետո լինեն)"
   ]
  },
  {
   "cell_type": "code",
   "execution_count": null,
   "metadata": {
    "colab": {
     "base_uri": "https://localhost:8080/",
     "height": 106
    },
    "executionInfo": {
     "elapsed": 526,
     "status": "error",
     "timestamp": 1712164719627,
     "user": {
      "displayName": "509 Academy",
      "userId": "04290973032679126188"
     },
     "user_tz": -240
    },
    "id": "LA6Ak-ypOg15",
    "outputId": "cd744394-2ddd-45fe-f624-58e3455a5a25"
   },
   "outputs": [],
   "source": [
    "def ponchikneri_calculator(exac_gumar, ponchikneri_gin=110, ponchikneri_qanak):\n",
    "    print(f'պոնչիկի գինն է՝ {ponchikneri_gin}')\n",
    "    anhrajesht_gumar = ponchikneri_qanak * ponchikneri_gin\n",
    "    print(f\"Ձեզ պետք է {anhrajesht_gumar}դրամ\")\n",
    "\n",
    "    karox_enq_gnel = exac_gumar // ponchikneri_gin\n",
    "\n",
    "    if exac_gumar < anhrajesht_gumar:\n",
    "        print(f\"Կներեք բայց Ձեր գումարը չի հերիքում, կարող եք գնել {karox_enq_gnel} հատ\")\n",
    "    else:\n",
    "        print(f\"Անուշ արեք, Ձեր մանրն է {exac_gumar - anhrajesht_gumar}դրամ\")\n",
    "\n",
    "    return anhrajesht_gumar, karox_enq_gnel\n",
    "\n"
   ]
  },
  {
   "cell_type": "markdown",
   "metadata": {
    "id": "CXkEz5-vT_VV"
   },
   "source": [
    "### keyword, positional arguments"
   ]
  },
  {
   "cell_type": "markdown",
   "metadata": {
    "id": "R2t8qe4ZUO8Z"
   },
   "source": [
    "ֆունկցիան կանչելուց կարանք իրան տանք արգումենտները համ ըստ հերթականության, համ անունով"
   ]
  },
  {
   "cell_type": "code",
   "execution_count": 52,
   "metadata": {
    "executionInfo": {
     "elapsed": 592,
     "status": "ok",
     "timestamp": 1734629870871,
     "user": {
      "displayName": "509 Academy",
      "userId": "04290973032679126188"
     },
     "user_tz": -60
    },
    "id": "u7AFE3ZKUCyL"
   },
   "outputs": [],
   "source": [
    "def ponchikneri_calculator(exac_gumar, ponchikneri_qanak, ponchikneri_gin=110):\n",
    "    print('եղած գումար', exac_gumar)\n",
    "    print('պոնչիկների քանակ', ponchikneri_qanak)\n",
    "    print('պոնչիկների գին', ponchikneri_gin)"
   ]
  },
  {
   "cell_type": "code",
   "execution_count": 54,
   "metadata": {
    "colab": {
     "base_uri": "https://localhost:8080/"
    },
    "executionInfo": {
     "elapsed": 594,
     "status": "ok",
     "timestamp": 1734629874943,
     "user": {
      "displayName": "509 Academy",
      "userId": "04290973032679126188"
     },
     "user_tz": -60
    },
    "id": "qWRRxH0DUfyr",
    "outputId": "73e24db9-032c-4b21-cb07-350d82c17af0"
   },
   "outputs": [
    {
     "name": "stdout",
     "output_type": "stream",
     "text": [
      "եղած գումար 1000\n",
      "պոնչիկների քանակ 5\n",
      "պոնչիկների գին 100\n"
     ]
    }
   ],
   "source": [
    "ponchikneri_calculator(1000, 5, 100) # positional"
   ]
  },
  {
   "cell_type": "code",
   "execution_count": 55,
   "metadata": {
    "colab": {
     "base_uri": "https://localhost:8080/"
    },
    "executionInfo": {
     "elapsed": 400,
     "status": "ok",
     "timestamp": 1734629881026,
     "user": {
      "displayName": "509 Academy",
      "userId": "04290973032679126188"
     },
     "user_tz": -60
    },
    "id": "UfyQ8SQLUiTI",
    "outputId": "f05bc75e-8a47-40c7-fc84-13285d7da479"
   },
   "outputs": [
    {
     "name": "stdout",
     "output_type": "stream",
     "text": [
      "եղած գումար 5\n",
      "պոնչիկների քանակ 1000\n",
      "պոնչիկների գին 100\n"
     ]
    }
   ],
   "source": [
    "ponchikneri_calculator(5, 1000, 100)"
   ]
  },
  {
   "cell_type": "code",
   "execution_count": 56,
   "metadata": {
    "colab": {
     "base_uri": "https://localhost:8080/"
    },
    "executionInfo": {
     "elapsed": 588,
     "status": "ok",
     "timestamp": 1734629916000,
     "user": {
      "displayName": "509 Academy",
      "userId": "04290973032679126188"
     },
     "user_tz": -60
    },
    "id": "t62Ush7ZUnSg",
    "outputId": "d57dc2ca-bebb-417b-8978-cf58e2392652"
   },
   "outputs": [
    {
     "name": "stdout",
     "output_type": "stream",
     "text": [
      "եղած գումար 1000\n",
      "պոնչիկների քանակ 5\n",
      "պոնչիկների գին 100\n"
     ]
    }
   ],
   "source": [
    "ponchikneri_calculator(ponchikneri_qanak=5, ponchikneri_gin=100, exac_gumar=1000) # keyword"
   ]
  },
  {
   "cell_type": "code",
   "execution_count": 57,
   "metadata": {
    "colab": {
     "base_uri": "https://localhost:8080/"
    },
    "executionInfo": {
     "elapsed": 583,
     "status": "ok",
     "timestamp": 1734629944325,
     "user": {
      "displayName": "509 Academy",
      "userId": "04290973032679126188"
     },
     "user_tz": -60
    },
    "id": "lIZSasUyU64C",
    "outputId": "5e21b4d2-4013-4cb5-cb5f-8ccd559acbc4"
   },
   "outputs": [
    {
     "name": "stdout",
     "output_type": "stream",
     "text": [
      "եղած գումար 1000\n",
      "պոնչիկների քանակ 5\n",
      "պոնչիկների գին 100\n"
     ]
    }
   ],
   "source": [
    "ponchikneri_calculator(1000, ponchikneri_gin=100, ponchikneri_qanak=5)"
   ]
  },
  {
   "cell_type": "code",
   "execution_count": 58,
   "metadata": {
    "colab": {
     "base_uri": "https://localhost:8080/",
     "height": 106
    },
    "executionInfo": {
     "elapsed": 351,
     "status": "error",
     "timestamp": 1734629951820,
     "user": {
      "displayName": "509 Academy",
      "userId": "04290973032679126188"
     },
     "user_tz": -60
    },
    "id": "z5ZsI-lxXowe",
    "outputId": "c859802b-53bc-4f17-967c-ddf74f0058bf"
   },
   "outputs": [
    {
     "ename": "SyntaxError",
     "evalue": "positional argument follows keyword argument (1034181870.py, line 1)",
     "output_type": "error",
     "traceback": [
      "\u001b[1;36m  Input \u001b[1;32mIn [58]\u001b[1;36m\u001b[0m\n\u001b[1;33m    ponchikneri_calculator(1000, ponchikneri_gin=100, 5)\u001b[0m\n\u001b[1;37m                                                       ^\u001b[0m\n\u001b[1;31mSyntaxError\u001b[0m\u001b[1;31m:\u001b[0m positional argument follows keyword argument\n"
     ]
    }
   ],
   "source": [
    "ponchikneri_calculator(1000, ponchikneri_gin=100, 5)"
   ]
  },
  {
   "cell_type": "markdown",
   "metadata": {
    "id": "IAMPfvfpU2vI"
   },
   "source": [
    "**Հերթականությունը կարևորա** (պետքա անունով(keyword) արգումենտը լինի դիրքայիններից(positional) հետո)"
   ]
  },
  {
   "cell_type": "markdown",
   "metadata": {
    "id": "65lMpbgBAA2W"
   },
   "source": [
    "### Positional only ու keyword only argument-ներ"
   ]
  },
  {
   "cell_type": "code",
   "execution_count": null,
   "metadata": {
    "colab": {
     "base_uri": "https://localhost:8080/"
    },
    "executionInfo": {
     "elapsed": 650,
     "status": "ok",
     "timestamp": 1712165351633,
     "user": {
      "displayName": "509 Academy",
      "userId": "04290973032679126188"
     },
     "user_tz": -240
    },
    "id": "p02KHpepAA2W",
    "outputId": "591d8db6-49f5-4c87-bbcd-789f4ae55dae"
   },
   "outputs": [
    {
     "name": "stdout",
     "output_type": "stream",
     "text": [
      "Help on built-in function sum in module builtins:\n",
      "\n",
      "sum(iterable, /, start=0)\n",
      "    Return the sum of a 'start' value (default: 0) plus an iterable of numbers\n",
      "    \n",
      "    When the iterable is empty, return the start value.\n",
      "    This function is intended specifically for use with numeric values and may\n",
      "    reject non-numeric types.\n",
      "\n"
     ]
    }
   ],
   "source": [
    "help(sum)"
   ]
  },
  {
   "cell_type": "code",
   "execution_count": null,
   "metadata": {
    "colab": {
     "base_uri": "https://localhost:8080/",
     "height": 211
    },
    "executionInfo": {
     "elapsed": 772,
     "status": "error",
     "timestamp": 1712165649685,
     "user": {
      "displayName": "509 Academy",
      "userId": "04290973032679126188"
     },
     "user_tz": -240
    },
    "id": "PbA_MywtAA2W",
    "outputId": "7c7fd39f-60c7-4a63-eba0-0fc8de22e387"
   },
   "outputs": [
    {
     "name": "stdout",
     "output_type": "stream",
     "text": [
      "360\n",
      "360\n"
     ]
    },
    {
     "ename": "TypeError",
     "evalue": "ponchikneri_calculator() got some positional-only arguments passed as keyword arguments: 'gin'",
     "output_type": "error",
     "traceback": [
      "\u001b[1;31m---------------------------------------------------------------------------\u001b[0m",
      "\u001b[1;31mTypeError\u001b[0m                                 Traceback (most recent call last)",
      "Input \u001b[1;32mIn [69]\u001b[0m, in \u001b[0;36m<cell line: 6>\u001b[1;34m()\u001b[0m\n\u001b[0;32m      4\u001b[0m ponchikneri_calculator(\u001b[38;5;241m120\u001b[39m, \u001b[38;5;241m3\u001b[39m) \n\u001b[0;32m      5\u001b[0m ponchikneri_calculator(\u001b[38;5;241m120\u001b[39m, qanak\u001b[38;5;241m=\u001b[39m\u001b[38;5;241m3\u001b[39m)\n\u001b[1;32m----> 6\u001b[0m \u001b[43mponchikneri_calculator\u001b[49m\u001b[43m(\u001b[49m\u001b[43mgin\u001b[49m\u001b[38;5;241;43m=\u001b[39;49m\u001b[38;5;241;43m3\u001b[39;49m\u001b[43m,\u001b[49m\u001b[43m \u001b[49m\u001b[43mqanak\u001b[49m\u001b[38;5;241;43m=\u001b[39;49m\u001b[38;5;241;43m5\u001b[39;49m\u001b[43m)\u001b[49m\n",
      "\u001b[1;31mTypeError\u001b[0m: ponchikneri_calculator() got some positional-only arguments passed as keyword arguments: 'gin'"
     ]
    }
   ],
   "source": [
    "def ponchikneri_calculator(gin, /, qanak): # before /\n",
    "    print(gin*qanak)\n",
    "\n",
    "ponchikneri_calculator(120, 3) \n",
    "ponchikneri_calculator(120, qanak=3)\n",
    "ponchikneri_calculator(gin=3, qanak=5)"
   ]
  },
  {
   "cell_type": "code",
   "execution_count": null,
   "metadata": {
    "colab": {
     "base_uri": "https://localhost:8080/",
     "height": 193
    },
    "executionInfo": {
     "elapsed": 750,
     "status": "error",
     "timestamp": 1712165951019,
     "user": {
      "displayName": "509 Academy",
      "userId": "04290973032679126188"
     },
     "user_tz": -240
    },
    "id": "WJ2uiNOrAA2W",
    "outputId": "550bcb6b-a05c-4d1c-b4b4-daa826b19588"
   },
   "outputs": [
    {
     "name": "stdout",
     "output_type": "stream",
     "text": [
      "15\n"
     ]
    }
   ],
   "source": [
    "def ponchiki_calculator(gin, *, qanak): # after *\n",
    "    print(gin*qanak)\n",
    "\n",
    "ponchiki_calculator(120, 3)\n",
    "ponchiki_calculator(qanak=5, gin=3)"
   ]
  },
  {
   "cell_type": "code",
   "execution_count": 68,
   "metadata": {
    "colab": {
     "base_uri": "https://localhost:8080/",
     "height": 211
    },
    "executionInfo": {
     "elapsed": 1086,
     "status": "error",
     "timestamp": 1712166040534,
     "user": {
      "displayName": "509 Academy",
      "userId": "04290973032679126188"
     },
     "user_tz": -240
    },
    "id": "CLUEsh0EAA2W",
    "outputId": "6ce0ecf3-0f0e-4113-c830-341d7f2cecbd"
   },
   "outputs": [
    {
     "name": "stdout",
     "output_type": "stream",
     "text": [
      "բարև - հաջող\n"
     ]
    }
   ],
   "source": [
    "def kazmel_naxadasautun(bar1, bar2, /, *, miavorich=\" \"):\n",
    "    return f\"{bar1}{miavorich}{bar2}\"\n",
    "\n",
    "# print(kazmel_naxadasautun(\"բարև\", \"հաջող\", \" - \"))\n",
    "print(kazmel_naxadasautun(\"բարև\", \"հաջող\", miavorich=\" - \"))\n",
    "\n",
    "# print(kazmel_naxadasautun(\"բարև\", bar2=\"հաջող\", miavorich=\" - \"))"
   ]
  },
  {
   "cell_type": "code",
   "execution_count": 71,
   "metadata": {},
   "outputs": [
    {
     "name": "stdout",
     "output_type": "stream",
     "text": [
      "Help on built-in function print in module builtins:\n",
      "\n",
      "print(...)\n",
      "    print(value, ..., sep=' ', end='\\n', file=sys.stdout, flush=False)\n",
      "    \n",
      "    Prints the values to a stream, or to sys.stdout by default.\n",
      "    Optional keyword arguments:\n",
      "    file:  a file-like object (stream); defaults to the current sys.stdout.\n",
      "    sep:   string inserted between values, default a space.\n",
      "    end:   string appended after the last value, default a newline.\n",
      "    flush: whether to forcibly flush the stream.\n",
      "\n"
     ]
    }
   ],
   "source": [
    "help(print)"
   ]
  },
  {
   "cell_type": "code",
   "execution_count": null,
   "metadata": {},
   "outputs": [],
   "source": [
    "print(\"a\", \"b\", \"c\")"
   ]
  },
  {
   "cell_type": "markdown",
   "metadata": {
    "id": "NX18o8Hshd1K"
   },
   "source": [
    "## Args, kwargs"
   ]
  },
  {
   "cell_type": "markdown",
   "metadata": {
    "id": "bBUYNpjkhg06"
   },
   "source": [
    "Լավ նյութ՝ https://realpython.com/python-kwargs-and-args/\n"
   ]
  },
  {
   "cell_type": "markdown",
   "metadata": {
    "id": "ELqGhPIXoTm3"
   },
   "source": [
    "### *Args"
   ]
  },
  {
   "cell_type": "code",
   "execution_count": null,
   "metadata": {
    "colab": {
     "base_uri": "https://localhost:8080/"
    },
    "executionInfo": {
     "elapsed": 711,
     "status": "ok",
     "timestamp": 1712166098764,
     "user": {
      "displayName": "509 Academy",
      "userId": "04290973032679126188"
     },
     "user_tz": -240
    },
    "id": "M_gckbpq0Jq8",
    "outputId": "b2e377d9-1699-43bd-a033-a7228c6762f5"
   },
   "outputs": [
    {
     "name": "stdout",
     "output_type": "stream",
     "text": [
      "a b c\n"
     ]
    }
   ],
   "source": [
    "print(\"a\", \"b\", \"c\")"
   ]
  },
  {
   "cell_type": "markdown",
   "metadata": {
    "id": "VHwMxzDyio0E"
   },
   "source": [
    "ինչ-որ մեկդ հարցրեք \"բայց մի րոպե, մենք printին կարաինք լիքը արգումենտ տաինք ու նորմալ աշխատում էր, կապ չունի մի հատ կտաինք թե 509 հատ, էդ ոնցա՞ լինում"
   ]
  },
  {
   "cell_type": "code",
   "execution_count": null,
   "metadata": {
    "colab": {
     "base_uri": "https://localhost:8080/"
    },
    "executionInfo": {
     "elapsed": 8,
     "status": "ok",
     "timestamp": 1680711282729,
     "user": {
      "displayName": "509 Academy",
      "userId": "04290973032679126188"
     },
     "user_tz": -240
    },
    "id": "D8CCDRRLMskb",
    "outputId": "8bca924a-f640-429b-c7a9-6ac4261b7bc8"
   },
   "outputs": [
    {
     "name": "stdout",
     "output_type": "stream",
     "text": [
      "Help on built-in function print in module builtins:\n",
      "\n",
      "print(...)\n",
      "    print(value, ..., sep=' ', end='\\n', file=sys.stdout, flush=False)\n",
      "    \n",
      "    Prints the values to a stream, or to sys.stdout by default.\n",
      "    Optional keyword arguments:\n",
      "    file:  a file-like object (stream); defaults to the current sys.stdout.\n",
      "    sep:   string inserted between values, default a space.\n",
      "    end:   string appended after the last value, default a newline.\n",
      "    flush: whether to forcibly flush the stream.\n",
      "\n"
     ]
    }
   ],
   "source": [
    "help(print)"
   ]
  },
  {
   "cell_type": "code",
   "execution_count": null,
   "metadata": {
    "id": "FOIk3P1chfyG"
   },
   "outputs": [],
   "source": [
    "def barevel(mard1, mard2, mard3):\n",
    "    print(f'Բարև {mard1}')\n",
    "    print(f'Բարև {mard2}')\n",
    "    print(f'Բարև {mard3}')"
   ]
  },
  {
   "cell_type": "code",
   "execution_count": null,
   "metadata": {
    "colab": {
     "base_uri": "https://localhost:8080/",
     "height": 141
    },
    "executionInfo": {
     "elapsed": 21,
     "status": "error",
     "timestamp": 1712166333199,
     "user": {
      "displayName": "509 Academy",
      "userId": "04290973032679126188"
     },
     "user_tz": -240
    },
    "id": "YPpNjTVWiSbi",
    "outputId": "cdde68fd-816c-4d74-c22a-6ede72d54d2e"
   },
   "outputs": [
    {
     "ename": "TypeError",
     "evalue": "barevel() missing 1 required positional argument: 'mard3'",
     "output_type": "error",
     "traceback": [
      "\u001b[1;31m---------------------------------------------------------------------------\u001b[0m",
      "\u001b[1;31mTypeError\u001b[0m                                 Traceback (most recent call last)",
      "Input \u001b[1;32mIn [75]\u001b[0m, in \u001b[0;36m<cell line: 1>\u001b[1;34m()\u001b[0m\n\u001b[1;32m----> 1\u001b[0m \u001b[43mbarevel\u001b[49m\u001b[43m(\u001b[49m\u001b[38;5;124;43m'\u001b[39;49m\u001b[38;5;124;43mՀալալ\u001b[39;49m\u001b[38;5;124;43m'\u001b[39;49m\u001b[43m,\u001b[49m\u001b[43m \u001b[49m\u001b[38;5;124;43m\"\u001b[39;49m\u001b[38;5;124;43mԶուլալ\u001b[39;49m\u001b[38;5;124;43m\"\u001b[39;49m\u001b[43m)\u001b[49m\n",
      "\u001b[1;31mTypeError\u001b[0m: barevel() missing 1 required positional argument: 'mard3'"
     ]
    }
   ],
   "source": [
    "barevel('Հալալ', \"Զուլալ\", \"Արամիկ\")"
   ]
  },
  {
   "cell_type": "code",
   "execution_count": null,
   "metadata": {
    "id": "2fX7W4XziulO"
   },
   "outputs": [],
   "source": [
    "# դե կարանք tuple սարքենք ինչ տան, ու կոդը գրենք tuple տրամաբանությանը համապատասխան\n",
    "def barevel(mardkanc_tuple):\n",
    "    print(mardkanc_tuple)\n",
    "    for m in mardkanc_tuple:\n",
    "        print(f'Բարև {m}')"
   ]
  },
  {
   "cell_type": "code",
   "execution_count": 77,
   "metadata": {
    "colab": {
     "base_uri": "https://localhost:8080/"
    },
    "executionInfo": {
     "elapsed": 682,
     "status": "ok",
     "timestamp": 1712166758218,
     "user": {
      "displayName": "509 Academy",
      "userId": "04290973032679126188"
     },
     "user_tz": -240
    },
    "id": "iwIJvhOUk8Jb",
    "outputId": "718ae963-08e1-42b2-aa11-a69fd1aa3d47"
   },
   "outputs": [
    {
     "ename": "TypeError",
     "evalue": "barevel() takes 1 positional argument but 4 were given",
     "output_type": "error",
     "traceback": [
      "\u001b[1;31m---------------------------------------------------------------------------\u001b[0m",
      "\u001b[1;31mTypeError\u001b[0m                                 Traceback (most recent call last)",
      "Input \u001b[1;32mIn [77]\u001b[0m, in \u001b[0;36m<cell line: 1>\u001b[1;34m()\u001b[0m\n\u001b[1;32m----> 1\u001b[0m \u001b[43mbarevel\u001b[49m\u001b[43m(\u001b[49m\u001b[38;5;124;43m'\u001b[39;49m\u001b[38;5;124;43mՀալալ\u001b[39;49m\u001b[38;5;124;43m'\u001b[39;49m\u001b[43m,\u001b[49m\u001b[43m \u001b[49m\u001b[38;5;124;43m\"\u001b[39;49m\u001b[38;5;124;43mԶուլալ\u001b[39;49m\u001b[38;5;124;43m\"\u001b[39;49m\u001b[43m,\u001b[49m\u001b[43m \u001b[49m\u001b[38;5;124;43m\"\u001b[39;49m\u001b[38;5;124;43mԱրամիկ\u001b[39;49m\u001b[38;5;124;43m\"\u001b[39;49m\u001b[43m,\u001b[49m\u001b[43m \u001b[49m\u001b[38;5;124;43m\"\u001b[39;49m\u001b[38;5;124;43m2232343\u001b[39;49m\u001b[38;5;124;43m\"\u001b[39;49m\u001b[43m)\u001b[49m\n",
      "\u001b[1;31mTypeError\u001b[0m: barevel() takes 1 positional argument but 4 were given"
     ]
    }
   ],
   "source": [
    "barevel('Հալալ', \"Զուլալ\", \"Արամիկ\", \"2232343\")"
   ]
  },
  {
   "cell_type": "code",
   "execution_count": 81,
   "metadata": {
    "colab": {
     "base_uri": "https://localhost:8080/",
     "height": 141
    },
    "executionInfo": {
     "elapsed": 1317,
     "status": "error",
     "timestamp": 1712166548090,
     "user": {
      "displayName": "509 Academy",
      "userId": "04290973032679126188"
     },
     "user_tz": -240
    },
    "id": "K1tZoGrNFBlb",
    "outputId": "141f9e5b-a583-4be6-f04c-464f70b90cff"
   },
   "outputs": [
    {
     "name": "stdout",
     "output_type": "stream",
     "text": [
      "('Հալալ', 'Զուլալ', 'Արամիկ', '2232343')\n",
      "Բարև Հալալ\n",
      "Բարև Զուլալ\n",
      "Բարև Արամիկ\n",
      "Բարև 2232343\n"
     ]
    }
   ],
   "source": [
    "barevel(('Հալալ', \"Զուլալ\", \"Արամիկ\", \"2232343\"))"
   ]
  },
  {
   "cell_type": "code",
   "execution_count": 82,
   "metadata": {
    "id": "il7ejSJtE8WW"
   },
   "outputs": [
    {
     "name": "stdout",
     "output_type": "stream",
     "text": [
      "1 2 3 4\n"
     ]
    }
   ],
   "source": [
    "print(1,2,3,4)"
   ]
  },
  {
   "cell_type": "markdown",
   "metadata": {
    "id": "zFA4GR0dmwsH"
   },
   "source": [
    "ավելի լավ ընթեռնելի ու հիշողության տեսանկյունից օպտմալ ձև կա,\n",
    "\n",
    "(կարանք պրինտի օրինակից գուշակենք որ ուրիշ մեթոդ կա, մենք պրինտին ցուցակ չենք չէ՞ տալիս)"
   ]
  },
  {
   "cell_type": "code",
   "execution_count": 87,
   "metadata": {
    "id": "-vm16vVwm1qW"
   },
   "outputs": [],
   "source": [
    "def barevel(*mardanc_tuple):\n",
    "    print(mardanc_tuple)\n",
    "    for m in mardanc_tuple:\n",
    "        print(f'Բարև {m}')"
   ]
  },
  {
   "cell_type": "code",
   "execution_count": 88,
   "metadata": {
    "colab": {
     "base_uri": "https://localhost:8080/"
    },
    "executionInfo": {
     "elapsed": 624,
     "status": "ok",
     "timestamp": 1712166939520,
     "user": {
      "displayName": "509 Academy",
      "userId": "04290973032679126188"
     },
     "user_tz": -240
    },
    "id": "GFZYjyfom83m",
    "outputId": "ce81e0fd-7a59-4289-acfe-2a62ca35f300"
   },
   "outputs": [
    {
     "name": "stdout",
     "output_type": "stream",
     "text": [
      "('նիֆ-նիֆ', '1')\n",
      "Բարև նիֆ-նիֆ\n",
      "Բարև 1\n"
     ]
    }
   ],
   "source": [
    "barevel('նիֆ-նիֆ', \"1\")"
   ]
  },
  {
   "cell_type": "code",
   "execution_count": 86,
   "metadata": {
    "colab": {
     "base_uri": "https://localhost:8080/"
    },
    "executionInfo": {
     "elapsed": 310,
     "status": "ok",
     "timestamp": 1704990396473,
     "user": {
      "displayName": "509 Academy",
      "userId": "04290973032679126188"
     },
     "user_tz": -240
    },
    "id": "kd_05jRenApK",
    "outputId": "8656effb-08e1-4711-f470-41ee87eb33e7"
   },
   "outputs": [
    {
     "name": "stdout",
     "output_type": "stream",
     "text": [
      "('նիֆ-նիֆ', 'նաֆ-նաֆ', 'նուֆ-նուֆ')\n",
      "Բարև նիֆ-նիֆ\n",
      "Բարև նաֆ-նաֆ\n",
      "Բարև նուֆ-նուֆ\n"
     ]
    }
   ],
   "source": [
    "barevel('նիֆ-նիֆ', \"նաֆ-նաֆ\", \"նուֆ-նուֆ\")"
   ]
  },
  {
   "cell_type": "markdown",
   "metadata": {
    "id": "yo08pbTMn2gz"
   },
   "source": [
    "կարանք նաև unpacking operator (*)ը օգտագործենք սենց՝"
   ]
  },
  {
   "cell_type": "code",
   "execution_count": 92,
   "metadata": {
    "colab": {
     "base_uri": "https://localhost:8080/"
    },
    "executionInfo": {
     "elapsed": 760,
     "status": "ok",
     "timestamp": 1712167196011,
     "user": {
      "displayName": "509 Academy",
      "userId": "04290973032679126188"
     },
     "user_tz": -240
    },
    "id": "zYNDMrR_n3Or",
    "outputId": "85132e52-4396-482b-b615-2087c79a683b"
   },
   "outputs": [
    {
     "name": "stdout",
     "output_type": "stream",
     "text": [
      "['նիֆ-նիֆ', 'նաֆ-նաֆ', 'նուֆ-նուֆ']\n",
      "նիֆ-նիֆ նաֆ-նաֆ նուֆ-նուֆ\n",
      "նիֆ-նիֆ նաֆ-նաֆ նուֆ-նուֆ\n"
     ]
    }
   ],
   "source": [
    "cucak = ['նիֆ-նիֆ', \"նաֆ-նաֆ\", \"նուֆ-նուֆ\"]\n",
    "\n",
    "print(cucak)\n",
    "print(cucak[0], cucak[1], cucak[2])\n",
    "print(*cucak)"
   ]
  },
  {
   "cell_type": "code",
   "execution_count": null,
   "metadata": {
    "colab": {
     "base_uri": "https://localhost:8080/"
    },
    "executionInfo": {
     "elapsed": 364,
     "status": "ok",
     "timestamp": 1704990571715,
     "user": {
      "displayName": "509 Academy",
      "userId": "04290973032679126188"
     },
     "user_tz": -240
    },
    "id": "NwpGovZOn_o2",
    "outputId": "63e1d82f-4849-40d5-a62a-f720a5f3706e"
   },
   "outputs": [
    {
     "name": "stdout",
     "output_type": "stream",
     "text": [
      "('նիֆ-նիֆ', 'նաֆ-նաֆ', 'նուֆ-նուֆ')\n",
      "Բարև նիֆ-նիֆ\n",
      "Բարև նաֆ-նաֆ\n",
      "Բարև նուֆ-նուֆ\n"
     ]
    }
   ],
   "source": [
    "barevel(*cucak)"
   ]
  },
  {
   "cell_type": "markdown",
   "metadata": {
    "id": "zEEC7p7ZoXeW"
   },
   "source": [
    "### **Kwargs"
   ]
  },
  {
   "cell_type": "markdown",
   "metadata": {
    "id": "m2VGZ6IToaPg"
   },
   "source": [
    "Kwargsը args-ի նմանա, բայց ընդունումա արդեն keyword argument-ներ"
   ]
  },
  {
   "cell_type": "code",
   "execution_count": 89,
   "metadata": {
    "colab": {
     "base_uri": "https://localhost:8080/",
     "height": 176
    },
    "executionInfo": {
     "elapsed": 21,
     "status": "error",
     "timestamp": 1712167407161,
     "user": {
      "displayName": "509 Academy",
      "userId": "04290973032679126188"
     },
     "user_tz": -240
    },
    "id": "gSWMEDXDoYod",
    "outputId": "ef7bc0f9-3b39-45e7-d622-f798c63e2003"
   },
   "outputs": [
    {
     "name": "stdout",
     "output_type": "stream",
     "text": [
      "{'anun': 'Հենդո', 'tariq': 30, 'erkir': 'Դագեստան'}\n",
      "anun = Հենդո\n",
      "tariq = 30\n",
      "erkir = Դագեստան\n"
     ]
    }
   ],
   "source": [
    "def tpel_mardu_infon(**mardik):\n",
    "    print(mardik)\n",
    "    for key, value in mardik.items():\n",
    "        print(key, \"=\", value)\n",
    "\n",
    "tpel_mardu_infon(anun=\"Հենդո\", tariq=30, erkir=\"Դագեստան\")"
   ]
  },
  {
   "cell_type": "code",
   "execution_count": null,
   "metadata": {
    "colab": {
     "base_uri": "https://localhost:8080/"
    },
    "executionInfo": {
     "elapsed": 670,
     "status": "ok",
     "timestamp": 1712167517973,
     "user": {
      "displayName": "509 Academy",
      "userId": "04290973032679126188"
     },
     "user_tz": -240
    },
    "id": "qXOQ61SRq7sX",
    "outputId": "f455bf39-10d4-4644-e643-175b010cd4e8"
   },
   "outputs": [
    {
     "name": "stdout",
     "output_type": "stream",
     "text": [
      "Anun =  Alice\n",
      "Tariq = 25\n",
      "Erkir = New York\n",
      "Anun =  Alice\n",
      "Tariq = 25\n",
      "Erkir = New York\n"
     ]
    }
   ],
   "source": [
    "def tpel_mardu_infon(anun, tariq, erkir):\n",
    "    print(f\"Anun =  {anun}\")\n",
    "    print(f\"Tariq = {tariq}\")\n",
    "    print(f\"Erkir = {erkir}\")\n",
    "\n",
    "mard = {\"anun\": \"Alice\", \"tariq\": 25, \"erkir\": \"New York\"}\n",
    "\n",
    "tpel_mardu_infon(anun = mard[\"anun\"], tariq=mard[\"tariq\"], erkir=\"New York\")\n",
    "\n",
    "tpel_mardu_infon(**mard)\n"
   ]
  },
  {
   "cell_type": "markdown",
   "metadata": {
    "id": "lXspg-sWqW_h"
   },
   "source": [
    "### Արգումենտների հերթականություն"
   ]
  },
  {
   "cell_type": "code",
   "execution_count": 94,
   "metadata": {
    "id": "Col6YYhrsB4V"
   },
   "outputs": [],
   "source": [
    "def tpel(a, b, *args, d=3, **kwargs):\n",
    "    print(f\"a: {a}\")\n",
    "    print(f\"b: {b}\")\n",
    "    print(f\"args: {args}\")\n",
    "    print(f\"d: {d}\")\n",
    "    print(f\"kwargs: {kwargs}\")\n"
   ]
  },
  {
   "cell_type": "code",
   "execution_count": 95,
   "metadata": {
    "colab": {
     "base_uri": "https://localhost:8080/"
    },
    "executionInfo": {
     "elapsed": 23,
     "status": "ok",
     "timestamp": 1712168465205,
     "user": {
      "displayName": "509 Academy",
      "userId": "04290973032679126188"
     },
     "user_tz": -240
    },
    "id": "PVl3WKwDuOfG",
    "outputId": "b768fc03-a44a-4bd8-b93d-aa5888b64f83"
   },
   "outputs": [
    {
     "name": "stdout",
     "output_type": "stream",
     "text": [
      "a: 1\n",
      "b: 2\n",
      "args: (3, 4, 5, 6)\n",
      "d: 3\n",
      "kwargs: {'e': 2, 'f': 3}\n"
     ]
    }
   ],
   "source": [
    "tpel(1,2,3,4,5,6, e=2, f=3)"
   ]
  },
  {
   "cell_type": "code",
   "execution_count": 96,
   "metadata": {
    "colab": {
     "base_uri": "https://localhost:8080/"
    },
    "executionInfo": {
     "elapsed": 787,
     "status": "ok",
     "timestamp": 1712168208080,
     "user": {
      "displayName": "509 Academy",
      "userId": "04290973032679126188"
     },
     "user_tz": -240
    },
    "id": "Enu9neMEsF1g",
    "outputId": "00bbfc0d-83df-4d10-8737-678de830afc9"
   },
   "outputs": [
    {
     "name": "stdout",
     "output_type": "stream",
     "text": [
      "a: 1\n",
      "b: 2\n",
      "args: (3, 4, 5, 6)\n",
      "d: 4\n",
      "kwargs: {'e': 2, 'f': 3}\n"
     ]
    }
   ],
   "source": [
    "tpel(1,2, 3,4,5,6, d=4, e=2, f=3)"
   ]
  },
  {
   "cell_type": "code",
   "execution_count": 97,
   "metadata": {
    "colab": {
     "base_uri": "https://localhost:8080/",
     "height": 106
    },
    "executionInfo": {
     "elapsed": 509,
     "status": "error",
     "timestamp": 1712168218465,
     "user": {
      "displayName": "509 Academy",
      "userId": "04290973032679126188"
     },
     "user_tz": -240
    },
    "id": "M2dZRhXBsKw7",
    "outputId": "695c9443-628f-4b8d-e1bd-2d83f255e3a9"
   },
   "outputs": [
    {
     "ename": "SyntaxError",
     "evalue": "positional argument follows keyword argument (2927336550.py, line 1)",
     "output_type": "error",
     "traceback": [
      "\u001b[1;36m  Input \u001b[1;32mIn [97]\u001b[1;36m\u001b[0m\n\u001b[1;33m    tpel(1,2, 3,4,5,6, d=2, e=3, 3)\u001b[0m\n\u001b[1;37m                                  ^\u001b[0m\n\u001b[1;31mSyntaxError\u001b[0m\u001b[1;31m:\u001b[0m positional argument follows keyword argument\n"
     ]
    }
   ],
   "source": [
    "tpel(1,2, 3,4,5,6, d=2, e=3, 3)"
   ]
  },
  {
   "cell_type": "markdown",
   "metadata": {
    "id": "_5ei12yBuZRi"
   },
   "source": [
    "**հերթականություննա**\n",
    "1. Սովորական positional արգումենտներ\n",
    "2. *args\n",
    "3. Սովորական keyword արգումենտներ\n",
    "4. **kwargs"
   ]
  },
  {
   "cell_type": "markdown",
   "metadata": {},
   "source": [
    "### unpacking *, * *"
   ]
  },
  {
   "cell_type": "code",
   "execution_count": null,
   "metadata": {},
   "outputs": [
    {
     "name": "stdout",
     "output_type": "stream",
     "text": [
      "1\n",
      "2\n",
      "[3, 4, 5, 6]\n",
      "1\n",
      "[2, 3, 4, 5]\n",
      "6\n"
     ]
    }
   ],
   "source": [
    "cucak = [1, 2, 3, 4, 5, 6]\n",
    "\n",
    "*skizbinner, naxa_last, last = cucak\n",
    "skizbinner, naxa_last, *last = cucak\n",
    "\n",
    "print(skizbinner)\n",
    "print(naxa_last)\n",
    "print(last)\n",
    "\n",
    "skizbinner, *naxa_last, last = cucak\n",
    "\n",
    "\n",
    "print(skizbinner)\n",
    "print(naxa_last)\n",
    "print(last)"
   ]
  },
  {
   "cell_type": "markdown",
   "metadata": {},
   "source": [
    "## For loops - zip, enumerate"
   ]
  },
  {
   "cell_type": "markdown",
   "metadata": {
    "id": "zH5QHIgo8_am"
   },
   "source": [
    "### zip"
   ]
  },
  {
   "cell_type": "code",
   "execution_count": 107,
   "metadata": {},
   "outputs": [
    {
     "name": "stdout",
     "output_type": "stream",
     "text": [
      "1 450\n",
      "3 460\n",
      "50 1\n",
      "1880\n"
     ]
    }
   ],
   "source": [
    "# dolar, evro, dram\n",
    "qanakner = [1, 3, 50, 2]\n",
    "arjuetner = [450, 460, 1]\n",
    "\n",
    "_sum = 0\n",
    "for i in range(min(len(qanakner), len(arjuetner))):\n",
    "    print(qanakner[i], arjuetner[i])\n",
    "    _sum += qanakner[i] * arjuetner[i]\n",
    "\n",
    "print(_sum)"
   ]
  },
  {
   "cell_type": "code",
   "execution_count": null,
   "metadata": {},
   "outputs": [
    {
     "data": {
      "text/plain": [
       "[(1, 450), (3, 460), (50, 1)]"
      ]
     },
     "execution_count": 109,
     "metadata": {},
     "output_type": "execute_result"
    }
   ],
   "source": [
    "list(zip(qanakner, arjuetner))\n",
    "\n",
    "# for i, j in d.items()"
   ]
  },
  {
   "cell_type": "code",
   "execution_count": 114,
   "metadata": {},
   "outputs": [
    {
     "name": "stdout",
     "output_type": "stream",
     "text": [
      "1 450\n",
      "3 460\n",
      "50 1\n"
     ]
    },
    {
     "ename": "ValueError",
     "evalue": "zip() argument 2 is shorter than argument 1",
     "output_type": "error",
     "traceback": [
      "\u001b[1;31m---------------------------------------------------------------------------\u001b[0m",
      "\u001b[1;31mValueError\u001b[0m                                Traceback (most recent call last)",
      "Input \u001b[1;32mIn [114]\u001b[0m, in \u001b[0;36m<cell line: 5>\u001b[1;34m()\u001b[0m\n\u001b[0;32m      2\u001b[0m arjuetner \u001b[38;5;241m=\u001b[39m [\u001b[38;5;241m450\u001b[39m, \u001b[38;5;241m460\u001b[39m, \u001b[38;5;241m1\u001b[39m]\n\u001b[0;32m      4\u001b[0m _sum \u001b[38;5;241m=\u001b[39m \u001b[38;5;241m0\u001b[39m\n\u001b[1;32m----> 5\u001b[0m \u001b[38;5;28;01mfor\u001b[39;00m i, j \u001b[38;5;129;01min\u001b[39;00m \u001b[38;5;28mzip\u001b[39m(qanakner, arjuetner, strict\u001b[38;5;241m=\u001b[39m\u001b[38;5;28;01mTrue\u001b[39;00m):\n\u001b[0;32m      6\u001b[0m     \u001b[38;5;28mprint\u001b[39m(i, j)\n\u001b[0;32m      7\u001b[0m     _sum \u001b[38;5;241m+\u001b[39m\u001b[38;5;241m=\u001b[39m i \u001b[38;5;241m*\u001b[39m j\n",
      "\u001b[1;31mValueError\u001b[0m: zip() argument 2 is shorter than argument 1"
     ]
    }
   ],
   "source": [
    "\n",
    "qanakner = [1, 3, 50, 2]\n",
    "arjuetner = [450, 460, 1]\n",
    "\n",
    "_sum = 0\n",
    "for i, j in zip(qanakner, arjuetner, strict=True):\n",
    "    print(i, j)\n",
    "    _sum += i * j\n",
    "\n",
    "print(_sum)"
   ]
  },
  {
   "cell_type": "markdown",
   "metadata": {
    "id": "3lWoeush9Bc-"
   },
   "source": [
    "### enumerate"
   ]
  },
  {
   "cell_type": "code",
   "execution_count": null,
   "metadata": {},
   "outputs": [
    {
     "name": "stdout",
     "output_type": "stream",
     "text": [
      "0 - 1\n",
      "1 - 3\n",
      "2 - 4\n",
      "3 - 0\n",
      "4 - 0\n",
      "5 - 2\n",
      "6 - 4\n",
      "\n",
      "0 - 1\n",
      "1 - 3\n",
      "2 - 4\n",
      "3 - 0\n",
      "4 - 0\n",
      "5 - 2\n",
      "6 - 4\n",
      "\n",
      "0 - 1\n",
      "1 - 3\n",
      "2 - 4\n",
      "3 - 0\n",
      "4 - 0\n",
      "5 - 2\n",
      "6 - 4\n",
      "\n",
      "-3 - 1\n",
      "-2 - 3\n",
      "-1 - 4\n",
      "0 - 0\n",
      "1 - 0\n",
      "2 - 2\n",
      "3 - 4\n"
     ]
    },
    {
     "ename": "",
     "evalue": "",
     "output_type": "error",
     "traceback": [
      "\u001b[1;31mThe Kernel crashed while executing code in the current cell or a previous cell. \n",
      "\u001b[1;31mPlease review the code in the cell(s) to identify a possible cause of the failure. \n",
      "\u001b[1;31mClick <a href='https://aka.ms/vscodeJupyterKernelCrash'>here</a> for more info. \n",
      "\u001b[1;31mView Jupyter <a href='command:jupyter.viewOutput'>log</a> for further details."
     ]
    }
   ],
   "source": [
    "lst = [1, 3, 4, 0, 0, 2, 4]\n",
    "\n",
    "for i in range(len(lst)):\n",
    "    print(f\"{i} - {lst[i]}\")\n",
    "\n",
    "print()\n",
    "for i, j in zip(range(len(lst)), lst):\n",
    "    print(f\"{i} - {j}\")\n",
    "\n",
    "print()\n",
    "# enumerate(lst) -> zip(range(len(lst)), lst)\n",
    "for i, j in enumerate(lst):\n",
    "    print(f\"{i} - {j}\")\n",
    "    \n",
    "print()\n",
    "for i, j in enumerate(lst, start=1):\n",
    "    print(f\"{i} - {j}\")\n",
    "# enumerate(lst) -> zip(range(start, start + len(lst)), lst)\n"
   ]
  },
  {
   "cell_type": "markdown",
   "metadata": {},
   "source": [
    "# RECURSIA TODO"
   ]
  },
  {
   "cell_type": "markdown",
   "metadata": {},
   "source": [
    "# 🛠️ Գործնական (ToDo)\n"
   ]
  },
  {
   "cell_type": "markdown",
   "metadata": {},
   "source": []
  },
  {
   "cell_type": "markdown",
   "metadata": {},
   "source": [
    "# 🏡Տնային\n",
    "## Հիմնական տնային\n",
    "1. Profound [բաժին 26](https://profound.academy/hy/python-introduction/f-fCl32hulcnZbZKjGkVeY) (Ֆունկցիաներ) - լրիվ\n",
    "2. Profound [բաժին 27](https://profound.academy/hy/python-introduction/default-JMVMus8sL5XNzPLYnsPj) (Ֆունկցիաներ 2) - լրիվ\n",
    "3. Կարող եք նաև անել տնայիններ Profound-ի միջին մակարդակի դասընթացի համապատասխան [բաժնից](https://profound.academy/hy/python-mid/d-ev-keyword-5LvKxDSUICCBH7Z96b1n)\n",
    "\n",
    "## Նշումներ\n",
    "1. [27.7](https://profound.academy/hy/python-introduction/p-QMDyHkEQMDyBqdbXbqL9) խնդրում օգտագործվում ա գաղափար (scopes) որը հաջորդ լեկցիան ենք անցնելու\n",
    "\n",
    "## Լուծումներ\n",
    "- [Որոշ խնդիրների վիդեոլուծումներ (ToDo)](ToDo)\n",
    "- [Բոլոր խնդիրների լուծումներ / նշումներ (ToDo)]()\n"
   ]
  },
  {
   "cell_type": "markdown",
   "metadata": {},
   "source": [
    "# 🎲 7\n",
    "- ▶️[Video](https://youtu.be/YrQVP4iCsYA)\n",
    "- ▶️[Video 🔥](https://youtube.com/shorts/ifcYwIdtuTw?si=qJTp4qhhMBeiZRBt)\n",
    "- 🇦🇲🎶[Արաքս](https://www.youtube.com/watch?v=4NQ-rxZuIPA)\n",
    "- 🌐🎶[Loituma](https://www.youtube.com/watch?v=hqthspSKZV8)\n",
    "- 🤌[Կարգին](https://www.youtube.com/watch?v=3DXxAzfrU40)"
   ]
  },
  {
   "cell_type": "markdown",
   "metadata": {},
   "source": [
    "\n",
    "<a href=\"http://s01.flagcounter.com/more/1oO\"><img src=\"https://s01.flagcounter.com/count2/1oO/bg_FFFFFF/txt_000000/border_CCCCCC/columns_2/maxflags_10/viewers_0/labels_0/pageviews_1/flags_0/percent_0/\" alt=\"Flag Counter\"></a>\n"
   ]
  }
 ],
 "metadata": {
  "colab": {
   "authorship_tag": "ABX9TyMtXh3o4sQRrYwXXhLvE0QG",
   "provenance": [
    {
     "file_id": "1HGRwDxLCV8YBlY0WtPlUj1EvcM6IyLQM",
     "timestamp": 1734621329569
    },
    {
     "file_id": "16MnCSr39-THAfHeZSejhwFT4hMBCtVsL",
     "timestamp": 1734621244546
    },
    {
     "file_id": "1R4NXtQiDf_eg5y43kTYktfwb4GoEtU46",
     "timestamp": 1711205632145
    }
   ],
   "toc_visible": true
  },
  "kernelspec": {
   "display_name": "Python 3",
   "name": "python3"
  },
  "language_info": {
   "codemirror_mode": {
    "name": "ipython",
    "version": 3
   },
   "file_extension": ".py",
   "mimetype": "text/x-python",
   "name": "python",
   "nbconvert_exporter": "python",
   "pygments_lexer": "ipython3",
   "version": "3.10.14"
  }
 },
 "nbformat": 4,
 "nbformat_minor": 0
}

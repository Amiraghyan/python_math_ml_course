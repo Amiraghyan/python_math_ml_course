{
 "cells": [
  {
   "cell_type": "raw",
   "id": "69b2d5b4",
   "metadata": {
    "vscode": {
     "languageId": "raw"
    }
   },
   "source": [
    "---\n",
    "title: \"10 Git, Anaconda (venvs), PEP8\"\n",
    "format: \n",
    "  html:\n",
    "    code-fold: false\n",
    "number-offset: 1\n",
    "---"
   ]
  },
  {
   "cell_type": "markdown",
   "id": "2bb81ec6",
   "metadata": {},
   "source": [
    "![image.png](../background_photos/py_10_branches.jpg)\n",
    "Կոնդ, [լուսանկարի հղումը](https://unsplash.com/photos/green-leaves-on-brown-tree-branch-during-daytime-TYV7sMRR4Yo), Հեղինակ՝ [Robert Levonyan](https://unsplash.com/@robertlevonyan)"
   ]
  },
  {
   "cell_type": "markdown",
   "id": "ff01d523",
   "metadata": {},
   "source": [
    "Photo by <a href=\"https://unsplash.com/@robertlevonyan?utm_content=creditCopyText&utm_medium=referral&utm_source=unsplash\">Robert Levonyan</a> on <a href=\"https://unsplash.com/photos/green-leaves-on-brown-tree-branch-during-daytime-TYV7sMRR4Yo?utm_content=creditCopyText&utm_medium=referral&utm_source=unsplash\">Unsplash</a>\n",
    "      "
   ]
  },
  {
   "cell_type": "markdown",
   "id": "747ddc94",
   "metadata": {},
   "source": [
    "<a href=\"https://colab.research.google.com/github/HaykTarkhanyan/python_math_ml_course/blob/main/%5BInitial%5D_Python_%7C_%D5%8F4_%7C_For%2C_while_%D6%81%D5%AB%D5%AF%D5%AC%D5%A5%D6%80.ipynb\" target=\"_parent\"><img src=\"https://colab.research.google.com/assets/colab-badge.svg\" alt=\"Open In Colab\"/></a> (ToDo)"
   ]
  },
  {
   "cell_type": "markdown",
   "id": "da124428",
   "metadata": {},
   "source": [
    "> \"GIT - the stupid content tracker\"  \n",
    "> (c) Linus Torvalds (ամենակարևոր մարդկանցից ՏՏ ոլորտի (վերջն ա էս [մարդը](https://www.youtube.com/watch?v=kkaW1WOBQzA)))\n",
    ">\n",
    "> https://github.com/git/git/blob/e83c5163316f89bfbde7d9ab23ca2e25604af290/README"
   ]
  },
  {
   "cell_type": "markdown",
   "id": "90009ac4",
   "metadata": {},
   "source": [
    "# 🎦 Տեսադասեր + լրացուցիչ ToDo\n",
    "\n",
    "ToDo\n",
    "1. [Տեսություն 2025](https://youtu.be/TIWU_bjFuUc) \\\n",
    "2. [Տեսություն 2023 (ToDo)]()  \\\n",
    "3. [Գործնական 2025](https://youtu.be/zf8xEfdLXRo) \\\n",
    "4. [Գործնական 2023 (ToDo)]()  \\\n",
    "5. [Որոշ տնայինների լուծումներ (ToDo)]()\n",
    "    \n",
    "Google Forms ToDo"
   ]
  },
  {
   "cell_type": "markdown",
   "id": "2da80177",
   "metadata": {},
   "source": [
    "# 📚 Նյութը"
   ]
  },
  {
   "cell_type": "markdown",
   "id": "148eb7d5",
   "metadata": {},
   "source": [
    "## Download Python, Anaconda, VS Code / PyCharm\n",
    "- [Python, Anaconda, VS Code](https://hayktarkhanyan.notion.site/Install-Python-VS-Code-and-Anaconda-b1cc550b63a04af298f3c784e5c8e49e)\n",
    "- [PyCharm](https://armen-melkonyan.notion.site/install-Pycharm-Windows-2516aeae013344d7a288a7ee01377a06)"
   ]
  },
  {
   "cell_type": "markdown",
   "id": "be1bf4d1",
   "metadata": {},
   "source": [
    "## Terminal recap"
   ]
  },
  {
   "cell_type": "code",
   "execution_count": null,
   "id": "f2285dd4",
   "metadata": {},
   "outputs": [],
   "source": [
    "# !dir"
   ]
  },
  {
   "cell_type": "markdown",
   "id": "38c346ef",
   "metadata": {},
   "source": [
    "| **Windows Command** | **Linux Command** | **Description**                                                                 |\n",
    "|----------------------|-------------------|---------------------------------------------------------------------------------|\n",
    "| `dir`               | `ls`             | Lists the files and directories in the current directory.                      |\n",
    "| `cd`                | `cd`             | Changes the current working directory.                                         |\n",
    "| `cd ..`             | `cd ..`          | Goes up one directory level.                                                   |\n",
    "| `md` / `mkdir`      | `mkdir`          | Creates a new directory.                                                       |\n",
    "| `del`               | `rm`             | Deletes a file.                                                                |\n",
    "| `copy`              | `cp`             | Copies a file.                                                                 |\n",
    "| `move`              | `mv`             | Moves a file or directory.                                                     |\n",
    "| `ren`               | `mv`             | Renames a file or directory.                                                   |\n",
    "| `type`              | `cat`            | Displays the contents of a file.                                               |\n",
    "| `cls`               | `clear`          | Clears the terminal screen.                                                    |\n",
    "| `tasklist`          | `ps`             | Lists the running processes.                                                   |\n",
    "| `help`              | `man`            | Displays help information for a command.                                       |\n",
    "| `tree`              | `tree`           | Displays the directory structure in a tree format.                             |\n",
    "| `echo`              | `echo`           | Prints text or variables to the terminal.                                      |\n",
    "| `exit`              | `exit`           | Exits the terminal or command prompt.                                          |\n",
    "| `find`              | `grep`           | Searches for a specific text string in files.                                  |\n",
    "| `attrib`            | `chmod` / `chown`| Displays or changes file attributes.                                           |\n",
    "\n",
    "**Note:** Use `help <command>` in Windows or `man <command>` in Linux to get detailed information about any specific command.\n",
    "\n",
    "(table may contain mistakes)"
   ]
  },
  {
   "cell_type": "markdown",
   "id": "7f327839",
   "metadata": {},
   "source": [
    "## Git / Github"
   ]
  },
  {
   "cell_type": "markdown",
   "id": "dd2f0e58",
   "metadata": {},
   "source": [
    "- Հայերեն վիդեոների [շարք](https://www.youtube.com/playlist?list=PLQLz3vJxwofh8KSaJ7FoA5Bw2Zdvyo4S_)\n",
    "- Անգլերեն [վիդեո](https://www.youtube.com/watch?v=HVsySz-h9r4)\n",
    "- Download Git from [git-scm.com](https://git-scm.com/downloads)\n",
    "- Git-ի ստեղծողի մասին հայերեն [փոդքասթ](https://www.youtube.com/watch?v=kkaW1WOBQzA)\n"
   ]
  },
  {
   "cell_type": "markdown",
   "id": "2c5c14de",
   "metadata": {},
   "source": [
    "| **Git Command**       | **Description**                                                                 |\n",
    "|-----------------------|---------------------------------------------------------------------------------|\n",
    "| `git init`           | Initializes a new Git repository in the current directory.                      |\n",
    "| `git clone <url>`    | Clones a repository from a remote URL to your local machine.                    |\n",
    "| `git status`         | Displays the status of the working directory and staging area.                  |\n",
    "| `git add <file>`     | Adds a file to the staging area.                                                |\n",
    "| `git commit -m \"<message>\"` | Commits the staged changes with a descriptive message.                    |\n",
    "| `git push`           | Pushes the committed changes to a remote repository.                            |\n",
    "| `git pull`           | Fetches and merges changes from a remote repository into the current branch.    |\n",
    "| `git branch`         | Lists, creates, or deletes branches.                                            |\n",
    "| `git checkout <branch>` | Switches to the specified branch.                                             |\n",
    "| `git merge <branch>` | Merges the specified branch into the current branch.                            |\n",
    "| `git log`            | Displays the commit history.                                                   |\n",
    "| `git diff`           | Shows the differences between files in the working directory, staging area, or commits. |\n",
    "| `git reset`          | Resets the staging area or working directory to a previous state.               |\n",
    "| `git stash`          | Temporarily saves changes that are not ready to be committed.                   |\n",
    "| `git remote`         | Manages remote repository connections.                                          |\n",
    "| `git tag`            | Creates, lists, or deletes tags for specific commits.                           |\n",
    "\n",
    "**Note:** Use `git help <command>` to get detailed information about any specific Git command."
   ]
  },
  {
   "cell_type": "markdown",
   "id": "2fdc28d2",
   "metadata": {},
   "source": [
    "## Anaconda"
   ]
  },
  {
   "cell_type": "markdown",
   "id": "f03be7e6",
   "metadata": {},
   "source": [
    "- Provides a convenient package and environment manager (conda) for Python and data science packages.  \n",
    "- Simplifies dependency handling and version management.  \n",
    "- Offers a large collection of precompiled libraries for scientific computing (NumPy, Pandas, etc.).  \n",
    "- Works well across different operating systems.\n",
    "\n",
    "| **Conda Command**         | **Description**                                              |\n",
    "|---------------------------|--------------------------------------------------------------|\n",
    "| `conda create -n envname` | Creates a new environment named envname.                    |\n",
    "| `conda activate envname`  | Activates the specified environment.                        |\n",
    "| `conda deactivate`        | Deactivates the current environment.                        |\n",
    "| `conda list`              | Lists installed packages in the current environment.        |\n",
    "| `conda install package`   | Installs a package in the current environment.             |\n",
    "| `conda update package`    | Updates a package to the latest version.                   |\n",
    "| `conda remove package`    | Removes a package from the current environment.            |\n",
    "| `conda env list`          | Lists all available environments.                           |\n",
    "| `conda info`              | Shows system and environment configuration information.     |\n",
    "pip freeze\n"
   ]
  },
  {
   "cell_type": "markdown",
   "id": "ebc3ceb4",
   "metadata": {},
   "source": []
  },
  {
   "cell_type": "markdown",
   "id": "8fe036ce",
   "metadata": {},
   "source": [
    "## PEP8"
   ]
  },
  {
   "cell_type": "markdown",
   "id": "a2a23830",
   "metadata": {},
   "source": [
    "Python Enhancement Proposals (PEP) are design documents providing information to the Python community, or describing a new feature for Python or its processes or environment. PEP 8 is the style guide for Python code, which provides conventions for writing clean and readable code.\n",
    "\n",
    "\n",
    "- [Docs](https://peps.python.org/pep-0008/)\n",
    "- [Great resource](https://realpython.com/python-pep8/#:~:text=PEP%208%2C%20sometimes%20spelled%20PEP8,and%20consistency%20of%20Python%20code.)\n",
    "- [\"Clean code\" by Uncle Bob book summary](https://gist.github.com/wojteklu/73c6914cc446146b8b533c0988cf8d29)"
   ]
  },
  {
   "cell_type": "code",
   "execution_count": 1,
   "id": "7b16c0ec",
   "metadata": {},
   "outputs": [
    {
     "name": "stdout",
     "output_type": "stream",
     "text": [
      "The Zen of Python, by Tim Peters\n",
      "\n",
      "Beautiful is better than ugly.\n",
      "Explicit is better than implicit.\n",
      "Simple is better than complex.\n",
      "Complex is better than complicated.\n",
      "Flat is better than nested.\n",
      "Sparse is better than dense.\n",
      "Readability counts.\n",
      "Special cases aren't special enough to break the rules.\n",
      "Although practicality beats purity.\n",
      "Errors should never pass silently.\n",
      "Unless explicitly silenced.\n",
      "In the face of ambiguity, refuse the temptation to guess.\n",
      "There should be one-- and preferably only one --obvious way to do it.\n",
      "Although that way may not be obvious at first unless you're Dutch.\n",
      "Now is better than never.\n",
      "Although never is often better than *right* now.\n",
      "If the implementation is hard to explain, it's a bad idea.\n",
      "If the implementation is easy to explain, it may be a good idea.\n",
      "Namespaces are one honking great idea -- let's do more of those!\n"
     ]
    }
   ],
   "source": [
    "import this"
   ]
  },
  {
   "cell_type": "markdown",
   "id": "76959d0e",
   "metadata": {},
   "source": [
    "# Misc\n",
    "1. Create a `requirements.txt` file which will contain the list of packages one need to install (with fixed versions) to run your code. \\\n",
    "   Example: `numpy==1.23.4` \\\n",
    "   You can create it with `pip freeze > requirements.txt` command.\n",
    "2. Create a `.gitignore` file which will contain the list of files and directories you don't want to push to GitHub. \\\n",
    "   Example: `.env`, `__pycache__/`, `*.pyc`\n",
    "3. Create a `README.md` file which will contain the description of your project, how to run it, and any other relevant information."
   ]
  },
  {
   "cell_type": "markdown",
   "id": "cfe9ea81",
   "metadata": {},
   "source": [
    "# 🎲 10 (ToDo)\n",
    "- ▶️[Video](https://www.youtube.com/watch?v=3MqYE2UuN24)\n",
    "- ▶️[Video 🔥](https://www.youtube.com/watch?v=y4qtOVq_e0U)\n",
    "- 🇦🇲🎶[Սաղսարա](https://www.youtube.com/watch?v=nwyWKCxP2s0)\n",
    "- 🌐🎶[Бременские музыканты](https://www.youtube.com/watch?v=x2VGBNjxDgk)\n",
    "- 🤌[Կարգին](https://www.youtube.com/watch?v=rg8L5MqjDF4)"
   ]
  }
 ],
 "metadata": {
  "kernelspec": {
   "display_name": "Python 3",
   "language": "python",
   "name": "python3"
  },
  "language_info": {
   "codemirror_mode": {
    "name": "ipython",
    "version": 3
   },
   "file_extension": ".py",
   "mimetype": "text/x-python",
   "name": "python",
   "nbconvert_exporter": "python",
   "pygments_lexer": "ipython3",
   "version": "3.10.14"
  }
 },
 "nbformat": 4,
 "nbformat_minor": 5
}

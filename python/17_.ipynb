{
 "cells": [
  {
   "cell_type": "markdown",
   "id": "71378f7e",
   "metadata": {},
   "source": [
    "# 🎲 17\n",
    "- ▶️[Video]()\n",
    "- ▶️[Video 🔥](https://www.youtube.com/watch?v=YNBFcq3G-Gc)\n",
    "- 🇦🇲🎶[Շուշիկի Բենդ](https://www.youtube.com/watch?v=7WsTQCPI8A0)\n",
    "- 🌐🎶[Earth, Wind & Fire](https://www.youtube.com/watch?v=Gs069dndIYk)\n",
    "- 🤌[Կարգին](https://www.youtube.com/watch?v=OiLneEZ-2xk)"
   ]
  }
 ],
 "metadata": {
  "language_info": {
   "name": "python"
  }
 },
 "nbformat": 4,
 "nbformat_minor": 5
}

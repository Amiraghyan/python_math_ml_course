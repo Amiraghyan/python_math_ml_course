{
 "cells": [
  {
   "cell_type": "markdown",
   "id": "71378f7e",
   "metadata": {},
   "source": [
    "# 🎲 17\n",
    "- ▶️[Video]()\n",
    "- ▶️[Video 🔥](https://www.youtube.com/watch?v=YNBFcq3G-Gc)\n",
    "- 🇦🇲🎶[Շուշիկի Բենդ](https://www.youtube.com/watch?v=7WsTQCPI8A0)\n",
    "- 🌐🎶[Earth, Wind & Fire](https://www.youtube.com/watch?v=Gs069dndIYk)\n",
    "- 🤌[Կարգին](https://www.youtube.com/watch?v=OiLneEZ-2xk)"
   ]
  },
  {
   "cell_type": "markdown",
   "id": "4a8c8eff",
   "metadata": {},
   "source": [
    "## Dataclasses\n",
    "- [Python docs](https://docs.python.org/3/library/dataclasses.html)\n",
    "- [Fantastic video by ArjanCodes](https://www.youtube.com/watch?v=CvQ7e6yUtnw)\n",
    "- [Blog post by Real Python](https://realpython.com/python-data-classes/)"
   ]
  },
  {
   "cell_type": "code",
   "execution_count": null,
   "id": "0b6a6f2d",
   "metadata": {},
   "outputs": [
    {
     "name": "stdout",
     "output_type": "stream",
     "text": [
      "<__main__.Person object at 0x00000178B26A4F10>\n"
     ]
    }
   ],
   "source": [
    "class Person:\n",
    "    def __init__(self, first_name, last_name, id_number=None):\n",
    "        self.first_name = first_name\n",
    "        self.last_name = last_name\n",
    "        self.id_number = id_number\n",
    "    \n",
    "p = Person(\"John\", \"Smith\", \"509\")\n",
    "\n",
    "print(p)"
   ]
  },
  {
   "cell_type": "code",
   "execution_count": null,
   "id": "c79c5770",
   "metadata": {},
   "outputs": [
    {
     "name": "stdout",
     "output_type": "stream",
     "text": [
      "Person(John, Smith, 509)\n"
     ]
    }
   ],
   "source": [
    "class Person:\n",
    "    def __init__(self, first_name, last_name, id_number=None):\n",
    "        self.first_name = first_name\n",
    "        self.last_name = last_name\n",
    "        self.id_number = id_number\n",
    "        \n",
    "    def __repr__(self):\n",
    "        return f\"Person({self.first_name}, {self.last_name}, {self.id_number})\"\n",
    "    \n",
    "p = Person(\"John\", \"Smith\", \"509\")\n",
    "\n",
    "print(p)"
   ]
  },
  {
   "cell_type": "code",
   "execution_count": null,
   "id": "648afecb",
   "metadata": {},
   "outputs": [
    {
     "name": "stdout",
     "output_type": "stream",
     "text": [
      "Person(first_name='John', last_name='Smith', id_number='509')\n"
     ]
    }
   ],
   "source": [
    "from dataclasses import dataclass\n",
    "\n",
    "@dataclass\n",
    "class Person:\n",
    "    first_name: str\n",
    "    last_name: str\n",
    "    id_number: str\n",
    "\n",
    "p = Person(\"John\", \"Smith\", \"509\")\n",
    "print(p)\n"
   ]
  },
  {
   "cell_type": "markdown",
   "id": "e709255d",
   "metadata": {},
   "source": [
    "Here, `__init__`, `__repr__`, and `__eq__` come for free. \n"
   ]
  },
  {
   "cell_type": "code",
   "execution_count": null,
   "id": "af2a5cfa",
   "metadata": {},
   "outputs": [
    {
     "ename": "NameError",
     "evalue": "name 'last_name' is not defined",
     "output_type": "error",
     "traceback": [
      "\u001b[1;31m---------------------------------------------------------------------------\u001b[0m\n",
      "\u001b[1;31mNameError\u001b[0m                                 Traceback (most recent call last)\n",
      "Input \u001b[1;32mIn [32]\u001b[0m, in \u001b[0;36m<cell line: 3>\u001b[1;34m()\u001b[0m\n",
      "\u001b[0;32m      1\u001b[0m \u001b[38;5;28;01mfrom\u001b[39;00m \u001b[38;5;21;01mdataclasses\u001b[39;00m \u001b[38;5;28;01mimport\u001b[39;00m dataclass\n",
      "\u001b[0;32m      3\u001b[0m \u001b[38;5;129m@dataclass\u001b[39m\n",
      "\u001b[1;32m----> 4\u001b[0m \u001b[38;5;28;01mclass\u001b[39;00m \u001b[38;5;21;01mPerson\u001b[39;00m:\n",
      "\u001b[0;32m      5\u001b[0m     first_name: \u001b[38;5;28mstr\u001b[39m    \u001b[38;5;66;03m# becomes a field\u001b[39;00m\n",
      "\u001b[0;32m      6\u001b[0m     last_name          \u001b[38;5;66;03m# no annotation → ignored by dataclasses\u001b[39;00m\n",
      "\n",
      "Input \u001b[1;32mIn [32]\u001b[0m, in \u001b[0;36mPerson\u001b[1;34m()\u001b[0m\n",
      "\u001b[0;32m      3\u001b[0m \u001b[38;5;129m@dataclass\u001b[39m\n",
      "\u001b[0;32m      4\u001b[0m \u001b[38;5;28;01mclass\u001b[39;00m \u001b[38;5;21;01mPerson\u001b[39;00m:\n",
      "\u001b[0;32m      5\u001b[0m     first_name: \u001b[38;5;28mstr\u001b[39m    \u001b[38;5;66;03m# becomes a field\u001b[39;00m\n",
      "\u001b[1;32m----> 6\u001b[0m     \u001b[43mlast_name\u001b[49m          \u001b[38;5;66;03m# no annotation → ignored by dataclasses\u001b[39;00m\n",
      "\u001b[0;32m      7\u001b[0m     id_number: \u001b[38;5;28mstr\u001b[39m\n",
      "\n",
      "\u001b[1;31mNameError\u001b[0m: name 'last_name' is not defined"
     ]
    }
   ],
   "source": [
    "from dataclasses import dataclass\n",
    "\n",
    "@dataclass\n",
    "class Person:\n",
    "    first_name: str    # becomes a field\n",
    "    last_name          # no annotation → ignored by dataclasses\n",
    "    id_number: str     # becomes a field\n",
    "\n",
    "p = Person(\"John\", \"Smith\", \"509\")"
   ]
  },
  {
   "cell_type": "markdown",
   "id": "73dc6511",
   "metadata": {},
   "source": [
    "### Default values"
   ]
  },
  {
   "cell_type": "code",
   "execution_count": null,
   "id": "fe42eb8b",
   "metadata": {},
   "outputs": [
    {
     "name": "stdout",
     "output_type": "stream",
     "text": [
      "չունի 2025-06-17\n"
     ]
    }
   ],
   "source": [
    "from dataclasses import dataclass, field\n",
    "from datetime import date\n",
    "\n",
    "@dataclass\n",
    "class Person:\n",
    "    first_name: str\n",
    "    last_name: str\n",
    "    id_number: str\n",
    "    email: str = \"չունի\"                                # simple default\n",
    "    signup_date: date = field(default_factory=date.today)  # today by default\n",
    "    lst: list = field(default_factory=list)  # empty list by default\n",
    "    \n",
    "# Usage\n",
    "p = Person(\"John\", \"Smith\", \"509\")\n",
    "print(p.email, p.signup_date)\n"
   ]
  },
  {
   "cell_type": "markdown",
   "id": "2426d289",
   "metadata": {},
   "source": [
    "### Excluding arguments for the initializer"
   ]
  },
  {
   "cell_type": "code",
   "execution_count": null,
   "id": "e968d421",
   "metadata": {},
   "outputs": [],
   "source": [
    "@dataclass\n",
    "class Person:\n",
    "    first_name: str\n",
    "    last_name: str\n",
    "    id_number: str\n",
    "    secret_code: str = field(init=False)  # not passed to __init__\n",
    "\n",
    "# Usage\n",
    "p = Person(\"John\", \"Smith\", \"509\")\n"
   ]
  },
  {
   "cell_type": "markdown",
   "id": "3ecdd93a",
   "metadata": {},
   "source": [
    "### `__post_init__`"
   ]
  },
  {
   "cell_type": "code",
   "execution_count": null,
   "id": "456b5b64",
   "metadata": {},
   "outputs": [
    {
     "name": "stdout",
     "output_type": "stream",
     "text": [
      "John Smith\n"
     ]
    }
   ],
   "source": [
    "@dataclass\n",
    "class Person:\n",
    "    first_name: str\n",
    "    last_name: str\n",
    "    id_number: str\n",
    "    full_name: str = field(init=False)\n",
    "\n",
    "    def __post_init__(self):\n",
    "        # derive full_name from other fields\n",
    "        object.__setattr__(self, 'full_name', f\"{self.first_name} {self.last_name}\")\n",
    "\n",
    "# Usage\n",
    "p = Person(\"John\", \"Smith\", \"509\")\n",
    "print(p.full_name)\n"
   ]
  },
  {
   "cell_type": "markdown",
   "id": "0de56eff",
   "metadata": {},
   "source": [
    "### Excluding information from the `__repr__`"
   ]
  },
  {
   "cell_type": "code",
   "execution_count": null,
   "id": "bd7528d4",
   "metadata": {},
   "outputs": [
    {
     "name": "stdout",
     "output_type": "stream",
     "text": [
      "Person(first_name='John', last_name='Smith')\n"
     ]
    }
   ],
   "source": [
    "@dataclass\n",
    "class Person:\n",
    "    first_name: str\n",
    "    last_name: str\n",
    "    id_number: str = field(repr=False)  # hide in repr\n",
    "\n",
    "# Usage\n",
    "p = Person(\"John\", \"Smith\", \"509\")\n",
    "print(p)\n"
   ]
  },
  {
   "cell_type": "markdown",
   "id": "f7874a7b",
   "metadata": {},
   "source": [
    "### Freezing a data class"
   ]
  },
  {
   "cell_type": "code",
   "execution_count": null,
   "id": "14cc0b46",
   "metadata": {},
   "outputs": [
    {
     "ename": "FrozenInstanceError",
     "evalue": "cannot assign to field 'first_name'",
     "output_type": "error",
     "traceback": [
      "\u001b[1;31m---------------------------------------------------------------------------\u001b[0m\n",
      "\u001b[1;31mFrozenInstanceError\u001b[0m                       Traceback (most recent call last)\n",
      "Input \u001b[1;32mIn [38]\u001b[0m, in \u001b[0;36m<cell line: 10>\u001b[1;34m()\u001b[0m\n",
      "\u001b[0;32m      7\u001b[0m \u001b[38;5;66;03m# Usage\u001b[39;00m\n",
      "\u001b[0;32m      8\u001b[0m p \u001b[38;5;241m=\u001b[39m Person(\u001b[38;5;124m\"\u001b[39m\u001b[38;5;124mJohn\u001b[39m\u001b[38;5;124m\"\u001b[39m, \u001b[38;5;124m\"\u001b[39m\u001b[38;5;124mSmith\u001b[39m\u001b[38;5;124m\"\u001b[39m, \u001b[38;5;124m\"\u001b[39m\u001b[38;5;124m509\u001b[39m\u001b[38;5;124m\"\u001b[39m)\n",
      "\u001b[1;32m---> 10\u001b[0m \u001b[43mp\u001b[49m\u001b[38;5;241;43m.\u001b[39;49m\u001b[43mfirst_name\u001b[49m \u001b[38;5;241m=\u001b[39m \u001b[38;5;124m\"\u001b[39m\u001b[38;5;124mjohnny la gente esta muy loca\u001b[39m\u001b[38;5;124m\"\u001b[39m  \u001b[38;5;66;03m# FrozenInstanceError\u001b[39;00m\n",
      "\n",
      "File \u001b[1;32m<string>:4\u001b[0m, in \u001b[0;36m__setattr__\u001b[1;34m(self, name, value)\u001b[0m\n",
      "\n",
      "\u001b[1;31mFrozenInstanceError\u001b[0m: cannot assign to field 'first_name'"
     ]
    }
   ],
   "source": [
    "@dataclass(frozen=True)\n",
    "class Person:\n",
    "    first_name: str\n",
    "    last_name: str\n",
    "    id_number: str\n",
    "\n",
    "# Usage\n",
    "p = Person(\"John\", \"Smith\", \"509\")\n",
    "\n",
    "p.first_name = \"johnny la gente esta muy loca\"  # FrozenInstanceError\n"
   ]
  },
  {
   "cell_type": "markdown",
   "id": "6adcab3a",
   "metadata": {},
   "source": [
    "### Regular staff"
   ]
  },
  {
   "cell_type": "code",
   "execution_count": null,
   "id": "686cfc9b",
   "metadata": {},
   "outputs": [
    {
     "name": "stdout",
     "output_type": "stream",
     "text": [
      "\n",
      "🧀\n",
      "🧀🧀\n",
      "🧀🧀🧀\n",
      "🧀🧀🧀🧀\n",
      "🧀🧀🧀🧀🧀\n",
      "🧀🧀🧀🧀🧀🧀\n",
      "🧀🧀🧀🧀🧀🧀🧀\n",
      "🧀🧀🧀🧀🧀🧀🧀🧀\n",
      "🧀🧀🧀🧀🧀🧀🧀🧀🧀\n"
     ]
    }
   ],
   "source": [
    "@dataclass(frozen=True)\n",
    "class Person:\n",
    "    first_name: str\n",
    "    last_name: str\n",
    "    id_number: str\n",
    "\n",
    "    def get_paniramid(self):\n",
    "        for i in range(10):\n",
    "            print(\"🧀\"*i)\n",
    "\n",
    "p = Person(\"John\", \"Smith\", \"509\")\n",
    "\n",
    "p.get_paniramid()  "
   ]
  },
  {
   "cell_type": "markdown",
   "id": "60af97a3",
   "metadata": {},
   "source": []
  }
 ],
 "metadata": {
  "language_info": {
   "name": "python"
  }
 },
 "nbformat": 4,
 "nbformat_minor": 5
}

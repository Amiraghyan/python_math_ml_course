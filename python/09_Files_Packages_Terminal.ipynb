{
 "cells": [
  {
   "cell_type": "raw",
   "metadata": {},
   "source": [
    "---\n",
    "title: \"09 - Files, Packages, Terminal\"\n",
    "format: \n",
    "  html:\n",
    "    code-fold: false\n",
    "number-offset: 1\n",
    "---"
   ]
  },
  {
   "cell_type": "markdown",
   "metadata": {},
   "source": [
    "![image.png](../background_photos/py_09_sirt_sar_kuze.jpg)\n",
    "Կոնդ, [լուսանկարի հղումը](https://unsplash.com/photos/O3StxqDe_L8), Հեղինակ՝ [Karine Avetisyan](https://unsplash.com/@kar111)"
   ]
  },
  {
   "cell_type": "markdown",
   "metadata": {},
   "source": [
    "<a href=\"https://colab.research.google.com/github/HaykTarkhanyan/python_math_ml_course/blob/main/python/02_Coditions.ipynb\" target=\"_parent\"><img src=\"https://colab.research.google.com/assets/colab-badge.svg\" alt=\"Open In Colab\"/></a> (ToDo)"
   ]
  },
  {
   "cell_type": "markdown",
   "metadata": {
    "id": "zRRAflPPHD4M"
   },
   "source": [
    "# Terminal"
   ]
  },
  {
   "cell_type": "markdown",
   "metadata": {
    "id": "O-OhiVMaatsw"
   },
   "source": [
    "\n",
    "dir - Lists the files and directories in the current directory. \\\n",
    "cd - Changes the current working directory. \\\n",
    "cd.. - Goes up one directory level. \\\n",
    "md / mkdir - Creates a new directory. \\\n",
    "del - Deletes a file. \\\n",
    "copy - Copies a file. \\\n",
    "move - Moves a file or directory. \\\n",
    "ren - Renames a file or directory. \\\n",
    "type - Displays the contents of a file. \\\n",
    "cls - Clear eveeything \\\n",
    "tasklist - Lists the running processes. \\\n",
    "help - Displays help information for a command."
   ]
  },
  {
   "cell_type": "markdown",
   "metadata": {
    "id": "TB1cFiJw7I3z"
   },
   "source": [
    "# Files"
   ]
  },
  {
   "cell_type": "markdown",
   "metadata": {
    "id": "wDgf5-AI7a_R"
   },
   "source": [
    "papka.folderi_meji_file\n",
    "\n",
    "\n",
    "def xoranard(x):\n",
    "    return x**3\n",
    "\n",
    "```python\n",
    "def xoranard(x):\n",
    "    return x**3\n",
    "```\n",
    "\n",
    "\n"
   ]
  },
  {
   "cell_type": "markdown",
   "metadata": {
    "id": "FNWRpPi77VoD"
   },
   "source": [
    "Ognox file"
   ]
  },
  {
   "cell_type": "code",
   "execution_count": null,
   "metadata": {
    "colab": {
     "base_uri": "https://localhost:8080/"
    },
    "executionInfo": {
     "elapsed": 7,
     "status": "ok",
     "timestamp": 1713992751349,
     "user": {
      "displayName": "509 Academy",
      "userId": "04290973032679126188"
     },
     "user_tz": -240
    },
    "id": "kHiQwfpS7X_v",
    "outputId": "2fe0f9c9-1fcd-42be-b2f7-bba40401b0c9"
   },
   "outputs": [
    {
     "name": "stdout",
     "output_type": "stream",
     "text": [
      "ognox_file-ի անունն է __main__\n",
      "0\n",
      "1\n",
      "2\n",
      "3\n",
      "4\n",
      "5\n",
      "6\n",
      "7\n",
      "8\n",
      "9\n"
     ]
    }
   ],
   "source": [
    "# 1. նույն folderի մեջ մի ֆայլից մյուսը օգտագործել\n",
    "# 2. ուրիշ ֆոլդռից ֆայլ օգտագործել\n",
    "# 3. __ init __.py ֆայլի մասին\n",
    "# 4. if __ name __ == \"__ main __\" (առանց բացատ)\n",
    "\n",
    "def qarakusi(n):\n",
    "    return n ** 2\n",
    "\n",
    "y = 4\n",
    "\n",
    "print(\"ognox_file-ի անունն է\", __name__)\n",
    "\n",
    "if __name__==\"__main__\":\n",
    "    for i in range(10):\n",
    "        print(i)\n"
   ]
  },
  {
   "cell_type": "markdown",
   "metadata": {
    "id": "gvsi4ZCu7KaA"
   },
   "source": [
    "himnakan file\n",
    "\n"
   ]
  },
  {
   "cell_type": "code",
   "execution_count": null,
   "metadata": {
    "id": "YQ9iYOUD7NRi"
   },
   "outputs": [],
   "source": [
    "\n",
    "\n",
    "# tiv = int(input(\"Մուտքագրեք թիվը:\"))\n",
    "\n",
    "# print(tiv)\n",
    "\n",
    "\n",
    "\n",
    "\n",
    "\n",
    "# # # 1\n",
    "import ognox_file\n",
    "\n",
    "print(\"square ->\", ognox_file.qarakusi(3))\n",
    "\n",
    "\n",
    "# import math\n",
    "# print(math.cos())\n",
    "\n",
    "\n",
    "# print(y)\n",
    "# print(ognox_file.y)\n",
    "\n",
    "# # # 2\n",
    "# import ognox_file as o\n",
    "\n",
    "# print(o.qarakusi(3))\n",
    "# print(o.y)\n",
    "\n",
    "# # # 3\n",
    "# from ognox_file import qarakusi, y\n",
    "\n",
    "# print(y)\n",
    "# print(qarakusi(4))\n",
    "# #\n",
    "\n",
    "# # # 4\n",
    "# from ognox_file import qarakusi as q\n",
    "\n",
    "# print(q(5))\n",
    "\n",
    "# # # 5 (վտանգավոր ձև)\n",
    "# from ognox_file import *\n",
    "\n",
    "# print(qarakusi(3))\n",
    "# print(y)\n",
    "\n",
    "# # # folder\n",
    "# # #################################################################\n",
    "# # # 1\n",
    "# import papka.folderi_meji_fail\n",
    "# print(papka.folderi_meji_fail.xoranard(5))\n",
    "\n",
    "# # # 2\n",
    "# import molder.folderi_meji_fail as f\n",
    "\n",
    "# print(f.qarakusi(5))\n",
    "\n",
    "# # # 3\n",
    "# from molder.folderi_meji_fail import qarakusi\n",
    "\n",
    "# print(qarakusi(5))\n",
    "\n",
    "# # # 4\n",
    "# from molder.folderi_meji_fail import qarakusi as q\n",
    "\n",
    "# print(q(5))\n",
    "\n",
    "# # # 5\n",
    "# from molder.folderi_meji_fail import *\n",
    "\n",
    "# print(qarakusi(5))\n",
    "\n",
    "\n",
    "\n",
    "# # from molder import folderi_meji_fail\n",
    "\n",
    "# # print(folderi_meji_fail.qarakusi(5))\n",
    "\n"
   ]
  },
  {
   "cell_type": "markdown",
   "metadata": {
    "id": "tAErJcVnWesH"
   },
   "source": [
    "# os module ([դոկումենտացիա](https://docs.python.org/3/library/os.html))"
   ]
  },
  {
   "cell_type": "code",
   "execution_count": 16,
   "metadata": {
    "id": "PV-Dt_LRPuDe"
   },
   "outputs": [],
   "source": [
    "import os # operating sytem"
   ]
  },
  {
   "cell_type": "code",
   "execution_count": 17,
   "metadata": {
    "id": "yStFEQSixSmN"
   },
   "outputs": [
    {
     "data": {
      "text/plain": [
       "['DirEntry',\n",
       " 'F_OK',\n",
       " 'GenericAlias',\n",
       " 'Mapping',\n",
       " 'MutableMapping',\n",
       " 'O_APPEND',\n",
       " 'O_BINARY',\n",
       " 'O_CREAT',\n",
       " 'O_EXCL',\n",
       " 'O_NOINHERIT',\n",
       " 'O_RANDOM',\n",
       " 'O_RDONLY',\n",
       " 'O_RDWR',\n",
       " 'O_SEQUENTIAL',\n",
       " 'O_SHORT_LIVED',\n",
       " 'O_TEMPORARY',\n",
       " 'O_TEXT',\n",
       " 'O_TRUNC',\n",
       " 'O_WRONLY',\n",
       " 'P_DETACH',\n",
       " 'P_NOWAIT',\n",
       " 'P_NOWAITO',\n",
       " 'P_OVERLAY',\n",
       " 'P_WAIT',\n",
       " 'PathLike',\n",
       " 'R_OK',\n",
       " 'SEEK_CUR',\n",
       " 'SEEK_END',\n",
       " 'SEEK_SET',\n",
       " 'TMP_MAX',\n",
       " 'W_OK',\n",
       " 'X_OK',\n",
       " '_AddedDllDirectory',\n",
       " '_Environ',\n",
       " '__all__',\n",
       " '__builtins__',\n",
       " '__cached__',\n",
       " '__doc__',\n",
       " '__file__',\n",
       " '__loader__',\n",
       " '__name__',\n",
       " '__package__',\n",
       " '__spec__',\n",
       " '_check_methods',\n",
       " '_execvpe',\n",
       " '_exists',\n",
       " '_exit',\n",
       " '_fspath',\n",
       " '_get_exports_list',\n",
       " '_walk',\n",
       " '_wrap_close',\n",
       " 'abc',\n",
       " 'abort',\n",
       " 'access',\n",
       " 'add_dll_directory',\n",
       " 'altsep',\n",
       " 'chdir',\n",
       " 'chmod',\n",
       " 'close',\n",
       " 'closerange',\n",
       " 'cpu_count',\n",
       " 'curdir',\n",
       " 'defpath',\n",
       " 'device_encoding',\n",
       " 'devnull',\n",
       " 'dup',\n",
       " 'dup2',\n",
       " 'environ',\n",
       " 'error',\n",
       " 'execl',\n",
       " 'execle',\n",
       " 'execlp',\n",
       " 'execlpe',\n",
       " 'execv',\n",
       " 'execve',\n",
       " 'execvp',\n",
       " 'execvpe',\n",
       " 'extsep',\n",
       " 'fdopen',\n",
       " 'fsdecode',\n",
       " 'fsencode',\n",
       " 'fspath',\n",
       " 'fstat',\n",
       " 'fsync',\n",
       " 'ftruncate',\n",
       " 'get_exec_path',\n",
       " 'get_handle_inheritable',\n",
       " 'get_inheritable',\n",
       " 'get_terminal_size',\n",
       " 'getcwd',\n",
       " 'getcwdb',\n",
       " 'getenv',\n",
       " 'getlogin',\n",
       " 'getpid',\n",
       " 'getppid',\n",
       " 'isatty',\n",
       " 'kill',\n",
       " 'linesep',\n",
       " 'link',\n",
       " 'listdir',\n",
       " 'lseek',\n",
       " 'lstat',\n",
       " 'makedirs',\n",
       " 'mkdir',\n",
       " 'name',\n",
       " 'open',\n",
       " 'pardir',\n",
       " 'path',\n",
       " 'pathsep',\n",
       " 'pipe',\n",
       " 'popen',\n",
       " 'putenv',\n",
       " 'read',\n",
       " 'readlink',\n",
       " 'remove',\n",
       " 'removedirs',\n",
       " 'rename',\n",
       " 'renames',\n",
       " 'replace',\n",
       " 'rmdir',\n",
       " 'scandir',\n",
       " 'sep',\n",
       " 'set_handle_inheritable',\n",
       " 'set_inheritable',\n",
       " 'spawnl',\n",
       " 'spawnle',\n",
       " 'spawnv',\n",
       " 'spawnve',\n",
       " 'st',\n",
       " 'startfile',\n",
       " 'stat',\n",
       " 'stat_result',\n",
       " 'statvfs_result',\n",
       " 'strerror',\n",
       " 'supports_bytes_environ',\n",
       " 'supports_dir_fd',\n",
       " 'supports_effective_ids',\n",
       " 'supports_fd',\n",
       " 'supports_follow_symlinks',\n",
       " 'symlink',\n",
       " 'sys',\n",
       " 'system',\n",
       " 'terminal_size',\n",
       " 'times',\n",
       " 'times_result',\n",
       " 'truncate',\n",
       " 'umask',\n",
       " 'uname_result',\n",
       " 'unlink',\n",
       " 'unsetenv',\n",
       " 'urandom',\n",
       " 'utime',\n",
       " 'waitpid',\n",
       " 'waitstatus_to_exitcode',\n",
       " 'walk',\n",
       " 'write']"
      ]
     },
     "execution_count": 17,
     "metadata": {},
     "output_type": "execute_result"
    }
   ],
   "source": [
    "dir(os)"
   ]
  },
  {
   "cell_type": "code",
   "execution_count": 18,
   "metadata": {
    "colab": {
     "base_uri": "https://localhost:8080/"
    },
    "executionInfo": {
     "elapsed": 693,
     "status": "ok",
     "timestamp": 1719508195640,
     "user": {
      "displayName": "509 Academy",
      "userId": "04290973032679126188"
     },
     "user_tz": -240
    },
    "id": "TrAxMY-HZmOl",
    "outputId": "58c60b1b-c4d7-4e44-b880-170c991c77f8"
   },
   "outputs": [
    {
     "ename": "AttributeError",
     "evalue": "module 'os' has no attribute 'uname'",
     "output_type": "error",
     "traceback": [
      "\u001b[1;31m---------------------------------------------------------------------------\u001b[0m",
      "\u001b[1;31mAttributeError\u001b[0m                            Traceback (most recent call last)",
      "Input \u001b[1;32mIn [18]\u001b[0m, in \u001b[0;36m<cell line: 1>\u001b[1;34m()\u001b[0m\n\u001b[1;32m----> 1\u001b[0m \u001b[43mos\u001b[49m\u001b[38;5;241;43m.\u001b[39;49m\u001b[43muname\u001b[49m()\n",
      "\u001b[1;31mAttributeError\u001b[0m: module 'os' has no attribute 'uname'"
     ]
    }
   ],
   "source": [
    "os.uname()"
   ]
  },
  {
   "cell_type": "code",
   "execution_count": 20,
   "metadata": {},
   "outputs": [
    {
     "data": {
      "text/plain": [
       "'os'"
      ]
     },
     "execution_count": 20,
     "metadata": {},
     "output_type": "execute_result"
    }
   ],
   "source": [
    "os.__name__"
   ]
  },
  {
   "cell_type": "code",
   "execution_count": 21,
   "metadata": {
    "colab": {
     "base_uri": "https://localhost:8080/",
     "height": 35
    },
    "executionInfo": {
     "elapsed": 293,
     "status": "ok",
     "timestamp": 1721892802937,
     "user": {
      "displayName": "509 Academy",
      "userId": "04290973032679126188"
     },
     "user_tz": -240
    },
    "id": "78nGgk9KXDyG",
    "outputId": "b80d55e2-4111-4937-e0c2-d803299be9bc"
   },
   "outputs": [
    {
     "data": {
      "text/plain": [
       "'c:\\\\Users\\\\hayk_\\\\OneDrive\\\\Desktop\\\\python_math_ml_course\\\\python'"
      ]
     },
     "execution_count": 21,
     "metadata": {},
     "output_type": "execute_result"
    }
   ],
   "source": [
    "os.getcwd() # current working directory"
   ]
  },
  {
   "cell_type": "code",
   "execution_count": 22,
   "metadata": {
    "colab": {
     "base_uri": "https://localhost:8080/"
    },
    "executionInfo": {
     "elapsed": 339,
     "status": "ok",
     "timestamp": 1721892815329,
     "user": {
      "displayName": "509 Academy",
      "userId": "04290973032679126188"
     },
     "user_tz": -240
    },
    "id": "PsVRxO-xQOMo",
    "outputId": "fd06f8bc-0864-4b73-84d0-9f223ccdc7fe"
   },
   "outputs": [
    {
     "data": {
      "text/plain": [
       "['01_Dilijan.png',\n",
       " '02_Khustup.jpg',\n",
       " '03_kamaz.jpg',\n",
       " '04_fruits.jpg',\n",
       " '05_sheep.jpg',\n",
       " '06_field.jpg']"
      ]
     },
     "execution_count": 22,
     "metadata": {},
     "output_type": "execute_result"
    }
   ],
   "source": [
    "os.listdir(\"wallpapers\")"
   ]
  },
  {
   "cell_type": "code",
   "execution_count": null,
   "metadata": {
    "colab": {
     "base_uri": "https://localhost:8080/",
     "height": 183
    },
    "executionInfo": {
     "elapsed": 440,
     "status": "error",
     "timestamp": 1719508249315,
     "user": {
      "displayName": "509 Academy",
      "userId": "04290973032679126188"
     },
     "user_tz": -240
    },
    "id": "Rb7FpqQAQQ-8",
    "outputId": "5f7aaad0-0bef-4a83-ab69-fd6a8d10167d"
   },
   "outputs": [],
   "source": [
    "os.chdir()\n",
    "# absolute \n",
    "# relative - "
   ]
  },
  {
   "cell_type": "code",
   "execution_count": null,
   "metadata": {
    "colab": {
     "base_uri": "https://localhost:8080/",
     "height": 36
    },
    "executionInfo": {
     "elapsed": 12,
     "status": "ok",
     "timestamp": 1707844143676,
     "user": {
      "displayName": "509 Academy",
      "userId": "04290973032679126188"
     },
     "user_tz": -240
    },
    "id": "Y0YywgzJXvOf",
    "outputId": "fb5e9886-c488-4bda-99aa-a1dab33899c1"
   },
   "outputs": [],
   "source": [
    "os.getcwd()"
   ]
  },
  {
   "cell_type": "code",
   "execution_count": null,
   "metadata": {
    "colab": {
     "base_uri": "https://localhost:8080/"
    },
    "executionInfo": {
     "elapsed": 320,
     "status": "ok",
     "timestamp": 1707844160998,
     "user": {
      "displayName": "509 Academy",
      "userId": "04290973032679126188"
     },
     "user_tz": -240
    },
    "id": "b23ec7qkQeGZ",
    "outputId": "5d31a2b9-a0c9-4d07-cc9c-ba92b96ddcd4"
   },
   "outputs": [
    {
     "data": {
      "text/plain": [
       "['ognox_file.py',\n",
       " 'himnakan_file.py',\n",
       " '__pycache__',\n",
       " 'molder',\n",
       " 'xary_filer',\n",
       " 'գինով լավ կուտվես, որովհետև դու.txt',\n",
       " 'xary_filer_copy',\n",
       " 'nor_folder',\n",
       " 'aveli_nor_folder']"
      ]
     },
     "execution_count": 11,
     "metadata": {},
     "output_type": "execute_result"
    }
   ],
   "source": [
    "os.listdir()"
   ]
  },
  {
   "cell_type": "code",
   "execution_count": null,
   "metadata": {
    "colab": {
     "base_uri": "https://localhost:8080/"
    },
    "executionInfo": {
     "elapsed": 803,
     "status": "ok",
     "timestamp": 1713982814950,
     "user": {
      "displayName": "509 Academy",
      "userId": "04290973032679126188"
     },
     "user_tz": -240
    },
    "id": "BSJr2ojZX7Xf",
    "outputId": "6f527fc9-f68c-4adc-c1e9-41fa96ebea04"
   },
   "outputs": [
    {
     "data": {
      "text/plain": [
       "['anscombe.json',\n",
       " 'README.md',\n",
       " 'california_housing_test.csv',\n",
       " 'mnist_train_small.csv',\n",
       " 'california_housing_train.csv',\n",
       " 'mnist_test.csv']"
      ]
     },
     "execution_count": 94,
     "metadata": {},
     "output_type": "execute_result"
    }
   ],
   "source": [
    "os.listdir('sample_data')"
   ]
  },
  {
   "cell_type": "code",
   "execution_count": null,
   "metadata": {
    "id": "tzyMxMF9V6mT"
   },
   "outputs": [],
   "source": [
    "\"sample_data\\mnist_test.csv\""
   ]
  },
  {
   "cell_type": "markdown",
   "metadata": {},
   "source": []
  },
  {
   "cell_type": "code",
   "execution_count": 23,
   "metadata": {
    "colab": {
     "base_uri": "https://localhost:8080/"
    },
    "executionInfo": {
     "elapsed": 293,
     "status": "ok",
     "timestamp": 1721892909925,
     "user": {
      "displayName": "509 Academy",
      "userId": "04290973032679126188"
     },
     "user_tz": -240
    },
    "id": "MRGFRnURQfRT",
    "outputId": "1e2dd648-c14e-4e69-feea-e266ad9b7aa1"
   },
   "outputs": [
    {
     "name": "stdout",
     "output_type": "stream",
     "text": [
      "sample_data\\mnist_test.csv\n"
     ]
    }
   ],
   "source": [
    "\n",
    "\n",
    "hasce = os.path.join('sample_data', 'mnist_test.csv')\n",
    "print(hasce)"
   ]
  },
  {
   "cell_type": "code",
   "execution_count": null,
   "metadata": {
    "id": "d-dyd9WmZOlA"
   },
   "outputs": [],
   "source": [
    "nor = os.path.join('xary_filer', 'karda_indz_an.txt')\n",
    "\n",
    "os.rename(hasce, nor)"
   ]
  },
  {
   "cell_type": "markdown",
   "metadata": {
    "id": "iiCfGqgpYOs9"
   },
   "source": [
    "# time մոդուլ ([դոկումենտացիա](https://docs.python.org/3/library/time.html))"
   ]
  },
  {
   "cell_type": "code",
   "execution_count": 2,
   "metadata": {
    "id": "NL8A28wAQjj_"
   },
   "outputs": [],
   "source": [
    "import time"
   ]
  },
  {
   "cell_type": "code",
   "execution_count": null,
   "metadata": {
    "colab": {
     "base_uri": "https://localhost:8080/"
    },
    "executionInfo": {
     "elapsed": 416,
     "status": "ok",
     "timestamp": 1719508503921,
     "user": {
      "displayName": "509 Academy",
      "userId": "04290973032679126188"
     },
     "user_tz": -240
    },
    "id": "UVVpNUvvsYIs",
    "outputId": "9ae81721-9ed3-4e41-b866-b650b0b981be"
   },
   "outputs": [
    {
     "name": "stdout",
     "output_type": "stream",
     "text": [
      "1719508504.1706386\n"
     ]
    }
   ],
   "source": [
    "current_time = time.time()\n",
    "print(current_time)"
   ]
  },
  {
   "cell_type": "code",
   "execution_count": null,
   "metadata": {
    "colab": {
     "base_uri": "https://localhost:8080/"
    },
    "executionInfo": {
     "elapsed": 20,
     "status": "ok",
     "timestamp": 1719508563393,
     "user": {
      "displayName": "509 Academy",
      "userId": "04290973032679126188"
     },
     "user_tz": -240
    },
    "id": "z40iAGEHaDyH",
    "outputId": "89fa0a5d-ed53-4aeb-ed53-4130cdbd2008"
   },
   "outputs": [
    {
     "name": "stdout",
     "output_type": "stream",
     "text": [
      "1719508563.9247644\n",
      "0.03887748718261719\n"
     ]
    }
   ],
   "source": [
    "current_time = time.time()\n",
    "print(current_time)\n",
    "\n",
    "for i in range(100000):\n",
    "    a = i**2\n",
    "\n",
    "\n",
    "end_time = time.time()\n",
    "\n",
    "print(end_time - current_time)\n",
    "# 1970 թվականի հունվարի 1-ից հետո քանի վարկյանա անցել"
   ]
  },
  {
   "cell_type": "code",
   "execution_count": 3,
   "metadata": {
    "colab": {
     "base_uri": "https://localhost:8080/"
    },
    "executionInfo": {
     "elapsed": 443,
     "status": "ok",
     "timestamp": 1719508576583,
     "user": {
      "displayName": "509 Academy",
      "userId": "04290973032679126188"
     },
     "user_tz": -240
    },
    "id": "_PjAfXZ_aYAm",
    "outputId": "fa0bd6b7-1dfb-4977-a269-c02c58da6730"
   },
   "outputs": [
    {
     "name": "stdout",
     "output_type": "stream",
     "text": [
      "time.struct_time(tm_year=2025, tm_mon=5, tm_mday=2, tm_hour=19, tm_min=48, tm_sec=59, tm_wday=4, tm_yday=122, tm_isdst=1)\n"
     ]
    }
   ],
   "source": [
    "t = time.localtime()\n",
    "print(t)"
   ]
  },
  {
   "cell_type": "code",
   "execution_count": 4,
   "metadata": {
    "colab": {
     "base_uri": "https://localhost:8080/"
    },
    "executionInfo": {
     "elapsed": 445,
     "status": "ok",
     "timestamp": 1719508605737,
     "user": {
      "displayName": "509 Academy",
      "userId": "04290973032679126188"
     },
     "user_tz": -240
    },
    "id": "DNgItuNeayKF",
    "outputId": "0f6a8f09-8aa4-4a55-9742-1ee05468a393"
   },
   "outputs": [
    {
     "data": {
      "text/plain": [
       "2025"
      ]
     },
     "execution_count": 4,
     "metadata": {},
     "output_type": "execute_result"
    }
   ],
   "source": [
    "t.tm_year\n"
   ]
  },
  {
   "cell_type": "code",
   "execution_count": 5,
   "metadata": {
    "colab": {
     "base_uri": "https://localhost:8080/"
    },
    "executionInfo": {
     "elapsed": 435,
     "status": "ok",
     "timestamp": 1719508658220,
     "user": {
      "displayName": "509 Academy",
      "userId": "04290973032679126188"
     },
     "user_tz": -240
    },
    "id": "W9ghZJcZaz7v",
    "outputId": "079c8dba-9471-49b7-e622-53cd7218ec65"
   },
   "outputs": [
    {
     "name": "stdout",
     "output_type": "stream",
     "text": [
      "2025-05-02 19:48:59\n"
     ]
    }
   ],
   "source": [
    "time_harmar = time.strftime('%Y-%m-%d %H:%M:%S', t)\n",
    "# f\"{year}-{month}\"\n",
    "print(time_harmar)"
   ]
  },
  {
   "cell_type": "code",
   "execution_count": 7,
   "metadata": {
    "colab": {
     "base_uri": "https://localhost:8080/"
    },
    "executionInfo": {
     "elapsed": 5270,
     "status": "ok",
     "timestamp": 1719508709205,
     "user": {
      "displayName": "509 Academy",
      "userId": "04290973032679126188"
     },
     "user_tz": -240
    },
    "id": "An3m6nwMPU3M",
    "outputId": "c439f7cc-7380-44a3-c601-09051b734b4e"
   },
   "outputs": [
    {
     "name": "stdout",
     "output_type": "stream",
     "text": [
      "1\n"
     ]
    },
    {
     "name": "stdout",
     "output_type": "stream",
     "text": [
      "2\n"
     ]
    }
   ],
   "source": [
    "print(1)\n",
    "time.sleep(5)\n",
    "print(2)"
   ]
  },
  {
   "cell_type": "code",
   "execution_count": null,
   "metadata": {
    "colab": {
     "base_uri": "https://localhost:8080/"
    },
    "executionInfo": {
     "elapsed": 8395,
     "status": "ok",
     "timestamp": 1719508828374,
     "user": {
      "displayName": "509 Academy",
      "userId": "04290973032679126188"
     },
     "user_tz": -240
    },
    "id": "dzuZdVq1bV54",
    "outputId": "c47a9b01-55b8-4495-9e7b-f0fed8e8be17"
   },
   "outputs": [
    {
     "name": "stdout",
     "output_type": "stream",
     "text": [
      "lkjh\n",
      "7.645770436000021\n"
     ]
    }
   ],
   "source": [
    "\n",
    "start_time = time.perf_counter() # performance\n",
    "\n",
    "a = input()\n",
    "\n",
    "end_time = time.perf_counter()\n",
    "\n",
    "duration = end_time - start_time\n",
    "\n",
    "print(duration)"
   ]
  },
  {
   "cell_type": "code",
   "execution_count": null,
   "metadata": {
    "id": "uMHRXcIQQ-Wb"
   },
   "outputs": [],
   "source": [
    "# ծրագիր գրել որ կստուգի ինչքան մոտ ծուռ կարանք մտքում մինչև 10ը հաշվենք"
   ]
  },
  {
   "cell_type": "code",
   "execution_count": null,
   "metadata": {
    "id": "UHDrPkIOao6v"
   },
   "outputs": [],
   "source": [
    "# from time import time\n",
    "\n",
    "# st = time()\n",
    "# def erkar():\n",
    "#     if time() - st < 1800:\n",
    "#         pass\n",
    "#     else:\n",
    "#         gna internet\n",
    "\n",
    "\n",
    "# st = time()\n",
    "# erkar()\n",
    "# time() - st\n",
    "\n",
    "\n",
    "# start = time()\n",
    "# while True:\n",
    "#     if time() - start > 10:\n",
    "#         break\n",
    "#     else:\n",
    "#         print('too much')\n",
    "\n",
    "\n",
    "\n",
    "\n",
    "# # start_time = time()\n",
    "# # s = input()\n",
    "\n",
    "# # end = time()\n",
    "# # duration = end - start_time\n",
    "# # print(duration - 10)\n",
    "\n",
    "\n"
   ]
  },
  {
   "cell_type": "code",
   "execution_count": null,
   "metadata": {
    "id": "B4xEPB7Kao9T"
   },
   "outputs": [],
   "source": [
    "time.sleep(3)\n"
   ]
  },
  {
   "cell_type": "code",
   "execution_count": null,
   "metadata": {
    "id": "NU8_mY2zao_U"
   },
   "outputs": [],
   "source": []
  },
  {
   "cell_type": "code",
   "execution_count": null,
   "metadata": {
    "id": "AO_6ZxssapBw"
   },
   "outputs": [],
   "source": []
  },
  {
   "cell_type": "code",
   "execution_count": null,
   "metadata": {
    "id": "o76oX9MnROvg"
   },
   "outputs": [],
   "source": [
    "# _ = input('սեղմելուց հետո սպասեք տաս վարկայ ու ենթռ սխմեք')\n",
    "# st = time.time()\n",
    "# _ = input('')\n",
    "# print(time.time()-st - 10 )"
   ]
  },
  {
   "cell_type": "markdown",
   "metadata": {
    "id": "25OxcjyubpLi"
   },
   "source": [
    "# random ([դոկումենտացիա](https://docs.python.org/3/library/random.html))"
   ]
  },
  {
   "cell_type": "code",
   "execution_count": null,
   "metadata": {
    "id": "psOv8sAkb8cJ"
   },
   "outputs": [],
   "source": [
    "import random"
   ]
  },
  {
   "cell_type": "code",
   "execution_count": null,
   "metadata": {
    "id": "t6SykyMRcASc"
   },
   "outputs": [],
   "source": [
    "# random.seed(50)"
   ]
  },
  {
   "cell_type": "code",
   "execution_count": null,
   "metadata": {
    "colab": {
     "base_uri": "https://localhost:8080/"
    },
    "executionInfo": {
     "elapsed": 456,
     "status": "ok",
     "timestamp": 1719509030126,
     "user": {
      "displayName": "509 Academy",
      "userId": "04290973032679126188"
     },
     "user_tz": -240
    },
    "id": "Bzl8S1P8cBfB",
    "outputId": "dcd19e0d-d8df-4297-9d60-9349bddb020d"
   },
   "outputs": [
    {
     "name": "stdout",
     "output_type": "stream",
     "text": [
      "3\n"
     ]
    }
   ],
   "source": [
    "print(random.randint(1,10))"
   ]
  },
  {
   "cell_type": "code",
   "execution_count": null,
   "metadata": {
    "colab": {
     "base_uri": "https://localhost:8080/"
    },
    "executionInfo": {
     "elapsed": 753,
     "status": "ok",
     "timestamp": 1719509085140,
     "user": {
      "displayName": "509 Academy",
      "userId": "04290973032679126188"
     },
     "user_tz": -240
    },
    "id": "HyJqnjh0cDxQ",
    "outputId": "00e52eeb-3f1c-4c9c-b7cb-21b0cc5ca086"
   },
   "outputs": [
    {
     "name": "stdout",
     "output_type": "stream",
     "text": [
      "0.8013520586135026 4 6.948120099248898\n"
     ]
    }
   ],
   "source": [
    "\n",
    "# generate a random float between 0 and 1\n",
    "rand_float = random.random()\n",
    "\n",
    "# generate a random integer between 1 and 10\n",
    "rand_int = random.randint(1, 10)\n",
    "\n",
    "# generate a random float between 1 and 10\n",
    "rand_float2 = random.uniform(1, 10)\n",
    "\n",
    "print(rand_float, rand_int, rand_float2)\n"
   ]
  },
  {
   "cell_type": "code",
   "execution_count": null,
   "metadata": {
    "colab": {
     "base_uri": "https://localhost:8080/"
    },
    "executionInfo": {
     "elapsed": 13,
     "status": "ok",
     "timestamp": 1719509160115,
     "user": {
      "displayName": "509 Academy",
      "userId": "04290973032679126188"
     },
     "user_tz": -240
    },
    "id": "uLylmKwaci9q",
    "outputId": "1ea41c6e-7e9d-4c8a-ffbb-335590d5c6bf"
   },
   "outputs": [
    {
     "name": "stdout",
     "output_type": "stream",
     "text": [
      "2\n"
     ]
    }
   ],
   "source": [
    "my_list = [1, 2, 3, 4, 5]\n",
    "\n",
    "rand_choice = random.choice(my_list)\n",
    "\n",
    "print(rand_choice)"
   ]
  },
  {
   "cell_type": "code",
   "execution_count": null,
   "metadata": {
    "id": "ikUDIidMAZ3G"
   },
   "outputs": [],
   "source": [
    "import random\n",
    "random.seed(123456789009873234567)"
   ]
  },
  {
   "cell_type": "code",
   "execution_count": null,
   "metadata": {
    "colab": {
     "base_uri": "https://localhost:8080/"
    },
    "executionInfo": {
     "elapsed": 18,
     "status": "ok",
     "timestamp": 1719509527449,
     "user": {
      "displayName": "509 Academy",
      "userId": "04290973032679126188"
     },
     "user_tz": -240
    },
    "id": "4lK_oVdKcnMD",
    "outputId": "439d88f9-aebf-4401-eb6f-2bf5d7c2dffc"
   },
   "outputs": [
    {
     "name": "stdout",
     "output_type": "stream",
     "text": [
      "[1, 2, 4, 3, 5]\n"
     ]
    }
   ],
   "source": [
    "my_list = [1, 2, 3, 4, 5]\n",
    "\n",
    "random.shuffle(my_list)\n",
    "\n",
    "print(my_list)\n",
    "\n",
    "# [4 2 3 5 1]\n",
    "# [4 3 1 5 2]"
   ]
  },
  {
   "cell_type": "markdown",
   "metadata": {
    "id": "0f_4UEZkcwF7"
   },
   "source": [
    "# էլի լիքը կան, կարող եք գտնել այստեղ՝ https://docs.python.org/3/py-modindex.html"
   ]
  },
  {
   "cell_type": "code",
   "execution_count": 8,
   "metadata": {
    "colab": {
     "base_uri": "https://localhost:8080/"
    },
    "executionInfo": {
     "elapsed": 663,
     "status": "ok",
     "timestamp": 1719509641122,
     "user": {
      "displayName": "509 Academy",
      "userId": "04290973032679126188"
     },
     "user_tz": -240
    },
    "id": "HYStxkPSc3Ll",
    "outputId": "d30e607c-b875-4150-9590-392bb4101449"
   },
   "outputs": [
    {
     "name": "stdout",
     "output_type": "stream",
     "text": [
      "The Zen of Python, by Tim Peters\n",
      "\n",
      "Beautiful is better than ugly.\n",
      "Explicit is better than implicit.\n",
      "Simple is better than complex.\n",
      "Complex is better than complicated.\n",
      "Flat is better than nested.\n",
      "Sparse is better than dense.\n",
      "Readability counts.\n",
      "Special cases aren't special enough to break the rules.\n",
      "Although practicality beats purity.\n",
      "Errors should never pass silently.\n",
      "Unless explicitly silenced.\n",
      "In the face of ambiguity, refuse the temptation to guess.\n",
      "There should be one-- and preferably only one --obvious way to do it.\n",
      "Although that way may not be obvious at first unless you're Dutch.\n",
      "Now is better than never.\n",
      "Although never is often better than *right* now.\n",
      "If the implementation is hard to explain, it's a bad idea.\n",
      "If the implementation is easy to explain, it may be a good idea.\n",
      "Namespaces are one honking great idea -- let's do more of those!\n"
     ]
    }
   ],
   "source": [
    "import this"
   ]
  },
  {
   "cell_type": "code",
   "execution_count": null,
   "metadata": {
    "id": "P6zrkf8lc7Cn"
   },
   "outputs": [],
   "source": [
    "import antigravity # colabում չի աշխատի\n"
   ]
  },
  {
   "cell_type": "code",
   "execution_count": null,
   "metadata": {
    "colab": {
     "base_uri": "https://localhost:8080/",
     "height": 110
    },
    "executionInfo": {
     "elapsed": 416,
     "status": "error",
     "timestamp": 1719509858000,
     "user": {
      "displayName": "509 Academy",
      "userId": "04290973032679126188"
     },
     "user_tz": -240
    },
    "id": "6AjC_SvKlcxm",
    "outputId": "f1b8e98f-9be7-4c44-ecfa-06065ef8d226"
   },
   "outputs": [
    {
     "ename": "SyntaxError",
     "evalue": "not a chance (3761719886.py, line 1)",
     "output_type": "error",
     "traceback": [
      "\u001b[1;36m  Input \u001b[1;32mIn [10]\u001b[1;36m\u001b[0m\n\u001b[1;33m    from __future__ import braces\u001b[0m\n\u001b[1;37m    ^\u001b[0m\n\u001b[1;31mSyntaxError\u001b[0m\u001b[1;31m:\u001b[0m not a chance\n"
     ]
    }
   ],
   "source": [
    "from __future__ import braces\n",
    "\n",
    "# for i in range(1,2):\n"
   ]
  },
  {
   "cell_type": "markdown",
   "metadata": {
    "id": "4dasH2XAeOzY"
   },
   "source": [
    "# not built in packages\n",
    "https://pypi.org/"
   ]
  },
  {
   "cell_type": "code",
   "execution_count": null,
   "metadata": {
    "id": "BWuPZtTTx1Im"
   },
   "outputs": [],
   "source": [
    "pip = pip installs packages"
   ]
  },
  {
   "cell_type": "markdown",
   "metadata": {
    "id": "1T_P2j5Dg_BI"
   },
   "source": [
    "## tqdm\n",
    "tqdm means \"progress\" in Arabic (taqadum, تقدّم) and is an abbreviation for \"I love you so much\" in Spanish (te quiero demasiado)"
   ]
  },
  {
   "cell_type": "code",
   "execution_count": 11,
   "metadata": {
    "colab": {
     "base_uri": "https://localhost:8080/"
    },
    "executionInfo": {
     "elapsed": 5138,
     "status": "ok",
     "timestamp": 1721893014312,
     "user": {
      "displayName": "509 Academy",
      "userId": "04290973032679126188"
     },
     "user_tz": -240
    },
    "id": "brRiIakiTr_N",
    "outputId": "9245a419-b6fc-4671-8bd9-dff627d4122b"
   },
   "outputs": [
    {
     "name": "stderr",
     "output_type": "stream",
     "text": [
      "ERROR: Invalid requirement: '#'\n"
     ]
    }
   ],
   "source": [
    "!pip install tqdm # pip install packages"
   ]
  },
  {
   "cell_type": "code",
   "execution_count": 12,
   "metadata": {
    "colab": {
     "base_uri": "https://localhost:8080/",
     "height": 315
    },
    "executionInfo": {
     "elapsed": 3985,
     "status": "error",
     "timestamp": 1721893069374,
     "user": {
      "displayName": "509 Academy",
      "userId": "04290973032679126188"
     },
     "user_tz": -240
    },
    "id": "gh6VEtTmhGg-",
    "outputId": "7dad9d76-3b3f-4c29-fc69-52bc3f39f4af"
   },
   "outputs": [
    {
     "name": "stdout",
     "output_type": "stream",
     "text": [
      "0\n"
     ]
    },
    {
     "name": "stdout",
     "output_type": "stream",
     "text": [
      "1\n",
      "2\n",
      "3\n",
      "4\n",
      "5\n",
      "6\n",
      "7\n",
      "8\n",
      "9\n",
      "10\n",
      "11\n",
      "12\n",
      "13\n",
      "14\n",
      "15\n",
      "16\n",
      "17\n",
      "18\n",
      "19\n",
      "20\n",
      "21\n",
      "22\n",
      "23\n",
      "24\n",
      "25\n",
      "26\n",
      "27\n",
      "28\n",
      "29\n"
     ]
    }
   ],
   "source": [
    "import time\n",
    "\n",
    "for i in range(30):\n",
    "    print(i)\n",
    "    time.sleep(0.5)"
   ]
  },
  {
   "cell_type": "code",
   "execution_count": null,
   "metadata": {
    "colab": {
     "base_uri": "https://localhost:8080/"
    },
    "executionInfo": {
     "elapsed": 5338,
     "status": "ok",
     "timestamp": 1721893218125,
     "user": {
      "displayName": "509 Academy",
      "userId": "04290973032679126188"
     },
     "user_tz": -240
    },
    "id": "RiOPGlch1QBg",
    "outputId": "3a83f829-5b80-40e1-803f-414816dd9191"
   },
   "outputs": [
    {
     "name": "stdout",
     "output_type": "stream",
     "text": [
      "1\n",
      "3\n"
     ]
    }
   ],
   "source": [
    "print(1)\n",
    "time.sleep(5)\n",
    "print(3)"
   ]
  },
  {
   "cell_type": "code",
   "execution_count": 14,
   "metadata": {
    "colab": {
     "base_uri": "https://localhost:8080/",
     "height": 280
    },
    "executionInfo": {
     "elapsed": 13008,
     "status": "error",
     "timestamp": 1721893187624,
     "user": {
      "displayName": "509 Academy",
      "userId": "04290973032679126188"
     },
     "user_tz": -240
    },
    "id": "PXK0UJY7hW0J",
    "outputId": "780fc530-c671-4eb2-d2f6-534594c62fbe"
   },
   "outputs": [
    {
     "name": "stdout",
     "output_type": "stream",
     "text": [
      "արեցի 0 հատ\n"
     ]
    },
    {
     "name": "stdout",
     "output_type": "stream",
     "text": [
      "արեցի 5 հատ\n"
     ]
    },
    {
     "ename": "KeyboardInterrupt",
     "evalue": "",
     "output_type": "error",
     "traceback": [
      "\u001b[1;31m---------------------------------------------------------------------------\u001b[0m",
      "\u001b[1;31mKeyboardInterrupt\u001b[0m                         Traceback (most recent call last)",
      "Input \u001b[1;32mIn [14]\u001b[0m, in \u001b[0;36m<cell line: 3>\u001b[1;34m()\u001b[0m\n\u001b[0;32m      4\u001b[0m \u001b[38;5;28;01mif\u001b[39;00m i \u001b[38;5;241m%\u001b[39m \u001b[38;5;241m5\u001b[39m \u001b[38;5;241m==\u001b[39m \u001b[38;5;241m0\u001b[39m:\n\u001b[0;32m      5\u001b[0m     \u001b[38;5;28mprint\u001b[39m(\u001b[38;5;124mf\u001b[39m\u001b[38;5;124m\"\u001b[39m\u001b[38;5;124mարեցի \u001b[39m\u001b[38;5;132;01m{\u001b[39;00mi\u001b[38;5;132;01m}\u001b[39;00m\u001b[38;5;124m հատ\u001b[39m\u001b[38;5;124m\"\u001b[39m)\n\u001b[1;32m----> 6\u001b[0m \u001b[43mtime\u001b[49m\u001b[38;5;241;43m.\u001b[39;49m\u001b[43msleep\u001b[49m\u001b[43m(\u001b[49m\u001b[38;5;241;43m1\u001b[39;49m\u001b[43m)\u001b[49m\n",
      "\u001b[1;31mKeyboardInterrupt\u001b[0m: "
     ]
    }
   ],
   "source": [
    "import time\n",
    "\n",
    "for i in range(30):\n",
    "    if i % 5 == 0:\n",
    "        print(f\"արեցի {i} հատ\")\n",
    "    time.sleep(1)"
   ]
  },
  {
   "cell_type": "code",
   "execution_count": null,
   "metadata": {
    "colab": {
     "base_uri": "https://localhost:8080/"
    },
    "executionInfo": {
     "elapsed": 6673,
     "status": "ok",
     "timestamp": 1707845372870,
     "user": {
      "displayName": "509 Academy",
      "userId": "04290973032679126188"
     },
     "user_tz": -240
    },
    "id": "0u1ygQXtg2n1",
    "outputId": "194bf465-5d0e-4ad9-cedf-e9203ff11270"
   },
   "outputs": [
    {
     "name": "stdout",
     "output_type": "stream",
     "text": [
      "Requirement already satisfied: tqdm in /usr/local/lib/python3.10/dist-packages (4.66.1)\n"
     ]
    }
   ],
   "source": [
    "!pip install tqdm # pip -> Pip Installes Packages"
   ]
  },
  {
   "cell_type": "code",
   "execution_count": 15,
   "metadata": {
    "id": "dWBmFWvphmI5"
   },
   "outputs": [],
   "source": [
    "# pip install tqdm\n",
    "from tqdm import tqdm"
   ]
  },
  {
   "cell_type": "code",
   "execution_count": 16,
   "metadata": {
    "colab": {
     "base_uri": "https://localhost:8080/"
    },
    "executionInfo": {
     "elapsed": 15392,
     "status": "ok",
     "timestamp": 1721893124141,
     "user": {
      "displayName": "509 Academy",
      "userId": "04290973032679126188"
     },
     "user_tz": -240
    },
    "id": "dH4yVIUahszx",
    "outputId": "8a21f432-8bb5-4dc7-a23c-0455d4c3d45a"
   },
   "outputs": [
    {
     "name": "stderr",
     "output_type": "stream",
     "text": [
      "  0%|          | 0/30 [00:00<?, ?it/s]"
     ]
    },
    {
     "name": "stderr",
     "output_type": "stream",
     "text": [
      "100%|██████████| 30/30 [00:15<00:00,  1.91it/s]\n"
     ]
    }
   ],
   "source": [
    "for i in tqdm(range(30)):\n",
    "    time.sleep(0.5)"
   ]
  },
  {
   "cell_type": "code",
   "execution_count": null,
   "metadata": {
    "id": "YDC2C3QLh2dw"
   },
   "outputs": [],
   "source": []
  },
  {
   "cell_type": "code",
   "execution_count": 1,
   "metadata": {
    "executionInfo": {
     "elapsed": 305,
     "status": "ok",
     "timestamp": 1734772670418,
     "user": {
      "displayName": "509 Academy",
      "userId": "04290973032679126188"
     },
     "user_tz": -60
    },
    "id": "wFPUOAWz0txO"
   },
   "outputs": [],
   "source": [
    "with open(\"anun.txt\", \"w\") as f:\n",
    "    f.write(\"\"\"caxkac dashtum noric tesa im yarin\n",
    "im annman im gexani maralin\n",
    "varder canem mer siro chanaparin\n",
    "draxti mej shoxshoxum e im perin\n",
    "\n",
    "\n",
    "draxti alvan caxik e im perin\n",
    "anmahakan nektar uni shurterin\n",
    "draxti alvan caxik e im perin\n",
    "\n",
    "anmahakan nektar uni shurterin\n",
    "\n",
    "ancnum eynq caxkac dalar purakov\n",
    "sirts liqn e nra siro krakov\n",
    "voxj ashxarn el tekuz man gas chrakov\n",
    "mievnuyn e annman e im perin\n",
    "\n",
    "\n",
    "draxti alvan caxik e im perin\n",
    "anmahakan nektar uni shurterin\n",
    "draxti alvan caxik e im perin\n",
    "\n",
    "anmahakan nektar uni shurterin\n",
    "\n",
    "sirte paycar erkni luys u astxi pes\n",
    "unqere ker ereq orva lusni pes\n",
    "lezun qaxcr xand u shaqar e ases\n",
    "draxti alvan caxik e im perin\n",
    "\n",
    "\n",
    "draxti alvan caxike im perin\n",
    "anmahakan nektar uni shurterin\n",
    "draxti alvan caxike im perin\n",
    "\n",
    "anmahakan nektar uni shurterin\n",
    "\n",
    "caxkac dashtum darcyal tesa im yarin\n",
    "im annman im gexani maralin\n",
    "varder canem mer siro chanaparin\n",
    "draxti mej shoxshoxum e im perin\n",
    "\n",
    "\n",
    "draxti alvan caxik e im perin\n",
    "anmahakan nektar uni shurterin\n",
    "draxti alvan caxik e im perin\n",
    "anmahakan nektar uni shurterin\"\"\")"
   ]
  },
  {
   "cell_type": "code",
   "execution_count": 2,
   "metadata": {
    "colab": {
     "base_uri": "https://localhost:8080/",
     "height": 144
    },
    "executionInfo": {
     "elapsed": 27,
     "status": "error",
     "timestamp": 1734772674562,
     "user": {
      "displayName": "509 Academy",
      "userId": "04290973032679126188"
     },
     "user_tz": -60
    },
    "id": "EevQi2Uezx91",
    "outputId": "15548f1d-b8c3-44e3-e184-633289d1120b"
   },
   "outputs": [
    {
     "ename": "NameError",
     "evalue": "name 'os' is not defined",
     "output_type": "error",
     "traceback": [
      "\u001b[0;31m---------------------------------------------------------------------------\u001b[0m",
      "\u001b[0;31mNameError\u001b[0m                                 Traceback (most recent call last)",
      "\u001b[0;32m<ipython-input-2-94ca94191889>\u001b[0m in \u001b[0;36m<cell line: 1>\u001b[0;34m()\u001b[0m\n\u001b[0;32m----> 1\u001b[0;31m \u001b[0mos\u001b[0m\u001b[0;34m.\u001b[0m\u001b[0mchdir\u001b[0m\u001b[0;34m(\u001b[0m\u001b[0;34m\"..\"\u001b[0m\u001b[0;34m)\u001b[0m\u001b[0;34m\u001b[0m\u001b[0;34m\u001b[0m\u001b[0m\n\u001b[0m",
      "\u001b[0;31mNameError\u001b[0m: name 'os' is not defined"
     ]
    }
   ],
   "source": [
    "os.chdir(\"..\")"
   ]
  },
  {
   "cell_type": "markdown",
   "metadata": {
    "id": "9YrfDezIln-x"
   },
   "source": [
    "# File I/O"
   ]
  },
  {
   "cell_type": "markdown",
   "metadata": {
    "id": "8aNrSIc8A3bR"
   },
   "source": [
    "## սովորական ձև"
   ]
  },
  {
   "cell_type": "code",
   "execution_count": 2,
   "metadata": {
    "colab": {
     "base_uri": "https://localhost:8080/"
    },
    "executionInfo": {
     "elapsed": 252,
     "status": "ok",
     "timestamp": 1734772751676,
     "user": {
      "displayName": "509 Academy",
      "userId": "04290973032679126188"
     },
     "user_tz": -60
    },
    "id": "AmtBt_EVlqbt",
    "outputId": "787f6d04-1a0d-48c0-d6fc-f3fcd461ec94"
   },
   "outputs": [
    {
     "name": "stdout",
     "output_type": "stream",
     "text": [
      "<_io.TextIOWrapper name='anun.txt' mode='r' encoding='UTF-8'>\n"
     ]
    }
   ],
   "source": [
    "PATH = 'anun.txt'\n",
    "\n",
    "f = open(PATH, mode=\"r\") # open(PATH)\n",
    "print(f)"
   ]
  },
  {
   "cell_type": "code",
   "execution_count": 3,
   "metadata": {
    "colab": {
     "base_uri": "https://localhost:8080/"
    },
    "executionInfo": {
     "elapsed": 265,
     "status": "ok",
     "timestamp": 1734772763830,
     "user": {
      "displayName": "509 Academy",
      "userId": "04290973032679126188"
     },
     "user_tz": -60
    },
    "id": "jv58H73cl3SQ",
    "outputId": "76ef60b3-6dbb-40f9-90fe-804ee572cf85"
   },
   "outputs": [
    {
     "name": "stdout",
     "output_type": "stream",
     "text": [
      "caxkac dashtum noric tesa im yarin\n",
      "im annman im gexani maralin\n",
      "varder canem mer siro chanaparin\n",
      "draxti mej shoxshoxum e im perin\n",
      "\n",
      "\n",
      "draxti alvan caxik e im perin\n",
      "anmahakan nektar uni shurterin\n",
      "draxti alvan caxik e im perin\n",
      "\n",
      "anmahakan nektar uni shurterin\n",
      "\n",
      "ancnum eynq caxkac dalar purakov\n",
      "sirts liqn e nra siro krakov\n",
      "voxj ashxarn el tekuz man gas chrakov\n",
      "mievnuyn e annman e im perin\n",
      "\n",
      "\n",
      "draxti alvan caxik e im perin\n",
      "anmahakan nektar uni shurterin\n",
      "draxti alvan caxik e im perin\n",
      "\n",
      "anmahakan nektar uni shurterin\n",
      "\n",
      "sirte paycar erkni luys u astxi pes\n",
      "unqere ker ereq orva lusni pes\n",
      "lezun qaxcr xand u shaqar e ases\n",
      "draxti alvan caxik e im perin\n",
      "\n",
      "\n",
      "draxti alvan caxike im perin\n",
      "anmahakan nektar uni shurterin\n",
      "draxti alvan caxike im perin\n",
      "\n",
      "anmahakan nektar uni shurterin\n",
      "\n",
      "caxkac dashtum darcyal tesa im yarin\n",
      "im annman im gexani maralin\n",
      "varder canem mer siro chanaparin\n",
      "draxti mej shoxshoxum e im perin\n",
      "\n",
      "\n",
      "draxti alvan caxik e im perin\n",
      "anmahakan nektar uni shurterin\n",
      "draxti alvan caxik e im perin\n",
      "anmahakan nektar uni shurterin\n"
     ]
    }
   ],
   "source": [
    "print(f.read())\n",
    "\n",
    "f.close()"
   ]
  },
  {
   "cell_type": "code",
   "execution_count": 5,
   "metadata": {
    "colab": {
     "base_uri": "https://localhost:8080/"
    },
    "executionInfo": {
     "elapsed": 271,
     "status": "ok",
     "timestamp": 1734772792970,
     "user": {
      "displayName": "509 Academy",
      "userId": "04290973032679126188"
     },
     "user_tz": -60
    },
    "id": "XNUu9JcnmJop",
    "outputId": "461d8bbb-f30d-4d0e-de48-26170f1eaa1d"
   },
   "outputs": [
    {
     "name": "stdout",
     "output_type": "stream",
     "text": [
      "caxkac dashtum noric tesa im yarin\n",
      "\n",
      "im annman im gexani maralin\n",
      "\n",
      "varder canem mer siro chanaparin\n",
      "\n",
      "draxti mej shoxshoxum e im perin\n",
      "\n",
      "\n",
      "\n",
      "\n",
      "\n",
      "draxti alvan caxik e im perin\n",
      "\n",
      "anmahakan nektar uni shurterin\n",
      "\n",
      "draxti alvan caxik e im perin\n",
      "\n",
      "\n",
      "\n",
      "anmahakan nektar uni shurterin\n",
      "\n",
      "\n",
      "\n",
      "ancnum eynq caxkac dalar purakov\n",
      "\n",
      "sirts liqn e nra siro krakov\n",
      "\n",
      "voxj ashxarn el tekuz man gas chrakov\n",
      "\n",
      "mievnuyn e annman e im perin\n",
      "\n",
      "\n",
      "\n",
      "\n",
      "\n",
      "draxti alvan caxik e im perin\n",
      "\n",
      "anmahakan nektar uni shurterin\n",
      "\n",
      "draxti alvan caxik e im perin\n",
      "\n",
      "\n",
      "\n",
      "anmahakan nektar uni shurterin\n",
      "\n",
      "\n",
      "\n",
      "sirte paycar erkni luys u astxi pes\n",
      "\n",
      "unqere ker ereq orva lusni pes\n",
      "\n",
      "lezun qaxcr xand u shaqar e ases\n",
      "\n",
      "draxti alvan caxik e im perin\n",
      "\n",
      "\n",
      "\n",
      "\n",
      "\n",
      "draxti alvan caxike im perin\n",
      "\n",
      "anmahakan nektar uni shurterin\n",
      "\n",
      "draxti alvan caxike im perin\n",
      "\n",
      "\n",
      "\n",
      "anmahakan nektar uni shurterin\n",
      "\n",
      "\n",
      "\n",
      "caxkac dashtum darcyal tesa im yarin\n",
      "\n",
      "im annman im gexani maralin\n",
      "\n",
      "varder canem mer siro chanaparin\n",
      "\n",
      "draxti mej shoxshoxum e im perin\n",
      "\n",
      "\n",
      "\n",
      "\n",
      "\n",
      "draxti alvan caxik e im perin\n",
      "\n",
      "anmahakan nektar uni shurterin\n",
      "\n",
      "draxti alvan caxik e im perin\n",
      "\n",
      "anmahakan nektar uni shurterin\n"
     ]
    }
   ],
   "source": [
    "f = open(PATH, \"r\")\n",
    "\n",
    "for line in f:\n",
    "    print(line)\n",
    "\n",
    "f.close()\n"
   ]
  },
  {
   "cell_type": "code",
   "execution_count": null,
   "metadata": {
    "colab": {
     "base_uri": "https://localhost:8080/"
    },
    "executionInfo": {
     "elapsed": 299,
     "status": "ok",
     "timestamp": 1721892243321,
     "user": {
      "displayName": "509 Academy",
      "userId": "04290973032679126188"
     },
     "user_tz": -240
    },
    "id": "41gmCqZvl4dF",
    "outputId": "c1207652-ad95-4f0c-ea9b-06848332d211"
   },
   "outputs": [
    {
     "name": "stdout",
     "output_type": "stream",
     "text": [
      "['caxkac dashtum noric tesa im yarin\\n', 'im annman im gexani maralin\\n', 'varder canem mer siro chanaparin\\n', 'draxti mej shoxshoxum e im perin\\n', '\\n', '\\n', 'draxti alvan caxik e im perin\\n', 'anmahakan nektar uni shurterin\\n', 'draxti alvan caxik e im perin\\n', '\\n', 'anmahakan nektar uni shurterin\\n', '\\n', 'ancnum eynq caxkac dalar purakov\\n', 'sirts liqn e nra siro krakov\\n', 'voxj ashxarn el tekuz man gas chrakov\\n', 'mievnuyn e annman e im perin\\n', '\\n', '\\n', 'draxti alvan caxik e im perin\\n', 'anmahakan nektar uni shurterin\\n', 'draxti alvan caxik e im perin\\n', '\\n', 'anmahakan nektar uni shurterin\\n', '\\n', 'sirte paycar erkni luys u astxi pes\\n', 'unqere ker ereq orva lusni pes\\n', 'lezun qaxcr xand u shaqar e ases\\n', 'draxti alvan caxik e im perin\\n', '\\n', '\\n', 'draxti alvan caxike im perin\\n', 'anmahakan nektar uni shurterin\\n', 'draxti alvan caxike im perin\\n', '\\n', 'anmahakan nektar uni shurterin\\n', '\\n', 'caxkac dashtum darcyal tesa im yarin\\n', 'im annman im gexani maralin\\n', 'varder canem mer siro chanaparin\\n', 'draxti mej shoxshoxum e im perin\\n', '\\n', '\\n', 'draxti alvan caxik e im perin\\n', 'anmahakan nektar uni shurterin\\n', 'draxti alvan caxik e im perin\\n', 'anmahakan nektar uni shurterin']\n"
     ]
    }
   ],
   "source": [
    "f = open(PATH, \"r\")\n",
    "\n",
    "text = f.readlines()\n",
    "\n",
    "print(text)"
   ]
  },
  {
   "cell_type": "code",
   "execution_count": null,
   "metadata": {
    "colab": {
     "base_uri": "https://localhost:8080/",
     "height": 36
    },
    "executionInfo": {
     "elapsed": 15,
     "status": "ok",
     "timestamp": 1713975596174,
     "user": {
      "displayName": "509 Academy",
      "userId": "04290973032679126188"
     },
     "user_tz": -240
    },
    "id": "RSXqUULBmsf6",
    "outputId": "653eaab3-90c5-4ae0-9331-988184a5776f"
   },
   "outputs": [
    {
     "data": {
      "application/vnd.google.colaboratory.intrinsic+json": {
       "type": "string"
      },
      "text/plain": [
       "'caxkac dashtum noric tesa'"
      ]
     },
     "execution_count": 34,
     "metadata": {},
     "output_type": "execute_result"
    }
   ],
   "source": [
    "file = open(PATH, \"r\")\n",
    "\n",
    "file.readline() # byte"
   ]
  },
  {
   "cell_type": "code",
   "execution_count": 4,
   "metadata": {
    "colab": {
     "base_uri": "https://localhost:8080/"
    },
    "executionInfo": {
     "elapsed": 9,
     "status": "ok",
     "timestamp": 1734772828177,
     "user": {
      "displayName": "509 Academy",
      "userId": "04290973032679126188"
     },
     "user_tz": -60
    },
    "id": "quOcbFTknFie",
    "outputId": "5f19cd31-3b6d-40a8-debd-b789be5bef94"
   },
   "outputs": [
    {
     "name": "stdout",
     "output_type": "stream",
     "text": [
      "False\n",
      "True\n"
     ]
    }
   ],
   "source": [
    "\n",
    "f = open(\"anun.txt\")\n",
    "\n",
    "print(f.closed)\n",
    "f.close() # շառից փորձանքից հեռու, պետքա միշտ փակենք ֆայլը\n",
    "print(f.closed)\n"
   ]
  },
  {
   "cell_type": "code",
   "execution_count": null,
   "metadata": {
    "id": "DXpLzh0Sm-8Q"
   },
   "outputs": [],
   "source": [
    "help(open)"
   ]
  },
  {
   "cell_type": "code",
   "execution_count": null,
   "metadata": {
    "id": "n-UlGzK5yidr"
   },
   "outputs": [],
   "source": [
    "# read and write"
   ]
  },
  {
   "cell_type": "code",
   "execution_count": 8,
   "metadata": {
    "executionInfo": {
     "elapsed": 257,
     "status": "ok",
     "timestamp": 1734772977995,
     "user": {
      "displayName": "509 Academy",
      "userId": "04290973032679126188"
     },
     "user_tz": -60
    },
    "id": "xOQG2AOGnO_1"
   },
   "outputs": [],
   "source": [
    "file = open(PATH, mode=\"a\")\n",
    "# print(file.read())\n",
    "file.write('sadasad')\n",
    "# file.read()\n",
    "\n",
    "file.close()"
   ]
  },
  {
   "cell_type": "code",
   "execution_count": 13,
   "metadata": {
    "colab": {
     "base_uri": "https://localhost:8080/",
     "height": 144
    },
    "executionInfo": {
     "elapsed": 2249,
     "status": "error",
     "timestamp": 1734772984131,
     "user": {
      "displayName": "509 Academy",
      "userId": "04290973032679126188"
     },
     "user_tz": -60
    },
    "id": "hkgevVzanRpk",
    "outputId": "f05b264d-10d6-4750-e293-ec46f5ed5d2a"
   },
   "outputs": [
    {
     "ename": "ValueError",
     "evalue": "I/O operation on closed file.",
     "output_type": "error",
     "traceback": [
      "\u001b[0;31m---------------------------------------------------------------------------\u001b[0m",
      "\u001b[0;31mValueError\u001b[0m                                Traceback (most recent call last)",
      "\u001b[0;32m<ipython-input-13-5d3c54c9c0d3>\u001b[0m in \u001b[0;36m<cell line: 1>\u001b[0;34m()\u001b[0m\n\u001b[0;32m----> 1\u001b[0;31m \u001b[0mfile\u001b[0m\u001b[0;34m.\u001b[0m\u001b[0mreadlines\u001b[0m\u001b[0;34m(\u001b[0m\u001b[0;34m)\u001b[0m\u001b[0;34m\u001b[0m\u001b[0;34m\u001b[0m\u001b[0m\n\u001b[0m",
      "\u001b[0;31mValueError\u001b[0m: I/O operation on closed file."
     ]
    }
   ],
   "source": [
    "file.readlines()"
   ]
  },
  {
   "cell_type": "code",
   "execution_count": null,
   "metadata": {
    "id": "vctyfOponbn_"
   },
   "outputs": [],
   "source": [
    "Character Meaning\n",
    "--------- ---------------------------------------------------------------\n",
    "'r'       open for reading (default)\n",
    "'w'       open for writing, truncating the file first\n",
    "'x'       create a new file and open it for writing\n",
    "'a'       open for writing, appending to the end of the file if it exists\n",
    "'b'       binary mode\n",
    "'t'       text mode (default)\n",
    "'+'       open a disk file for updating (reading and writing)\n",
    "'U'       universal newline mode (deprecated)"
   ]
  },
  {
   "cell_type": "markdown",
   "metadata": {
    "id": "T83mP373nieT"
   },
   "source": [
    "## with"
   ]
  },
  {
   "cell_type": "code",
   "execution_count": 14,
   "metadata": {
    "colab": {
     "base_uri": "https://localhost:8080/"
    },
    "executionInfo": {
     "elapsed": 451,
     "status": "ok",
     "timestamp": 1734773083033,
     "user": {
      "displayName": "509 Academy",
      "userId": "04290973032679126188"
     },
     "user_tz": -60
    },
    "id": "wmITTVmpniDF",
    "outputId": "65814d5e-8beb-4150-fb29-957061db5561"
   },
   "outputs": [
    {
     "name": "stdout",
     "output_type": "stream",
     "text": [
      "False\n",
      "True\n"
     ]
    }
   ],
   "source": [
    "file = open(PATH, \"r\")\n",
    "print(file.closed)\n",
    "file.close()\n",
    "print(file.closed)"
   ]
  },
  {
   "cell_type": "code",
   "execution_count": 15,
   "metadata": {
    "colab": {
     "base_uri": "https://localhost:8080/"
    },
    "executionInfo": {
     "elapsed": 570,
     "status": "ok",
     "timestamp": 1734773107696,
     "user": {
      "displayName": "509 Academy",
      "userId": "04290973032679126188"
     },
     "user_tz": -60
    },
    "id": "CZXWthzl9Kgf",
    "outputId": "0b1cc331-7bb1-475e-ef40-60f7beb7c9c9"
   },
   "outputs": [
    {
     "name": "stdout",
     "output_type": "stream",
     "text": [
      "<_io.TextIOWrapper name='anun.txt' mode='r' encoding='UTF-8'>\n",
      "False\n"
     ]
    }
   ],
   "source": [
    "f = open(PATH, \"r\")\n",
    "print(f)\n",
    "\n",
    "print(f.closed)"
   ]
  },
  {
   "cell_type": "code",
   "execution_count": 5,
   "metadata": {
    "colab": {
     "base_uri": "https://localhost:8080/"
    },
    "executionInfo": {
     "elapsed": 276,
     "status": "ok",
     "timestamp": 1734773113949,
     "user": {
      "displayName": "509 Academy",
      "userId": "04290973032679126188"
     },
     "user_tz": -60
    },
    "id": "EQyhUV6H6i5V",
    "outputId": "a3994c1a-f3e6-4950-887a-772154491c37"
   },
   "outputs": [
    {
     "name": "stdout",
     "output_type": "stream",
     "text": [
      "caxkac dashtum noric tesa im yarin\n",
      "im annman im gexani maralin\n",
      "varder canem mer siro chanaparin\n",
      "draxti mej shoxshoxum e im perin\n",
      "\n",
      "\n",
      "draxti alvan caxik e im perin\n",
      "anmahakan nektar uni shurterin\n",
      "draxti alvan caxik e im perin\n",
      "\n",
      "anmahakan nektar uni shurterin\n",
      "\n",
      "ancnum eynq caxkac dalar purakov\n",
      "sirts liqn e nra siro krakov\n",
      "voxj ashxarn el tekuz man gas chrakov\n",
      "mievnuyn e annman e im perin\n",
      "\n",
      "\n",
      "draxti alvan caxik e im perin\n",
      "anmahakan nektar uni shurterin\n",
      "draxti alvan caxik e im perin\n",
      "\n",
      "anmahakan nektar uni shurterin\n",
      "\n",
      "sirte paycar erkni luys u astxi pes\n",
      "unqere ker ereq orva lusni pes\n",
      "lezun qaxcr xand u shaqar e ases\n",
      "draxti alvan caxik e im perin\n",
      "\n",
      "\n",
      "draxti alvan caxike im perin\n",
      "anmahakan nektar uni shurterin\n",
      "draxti alvan caxike im perin\n",
      "\n",
      "anmahakan nektar uni shurterin\n",
      "\n",
      "caxkac dashtum darcyal tesa im yarin\n",
      "im annman im gexani maralin\n",
      "varder canem mer siro chanaparin\n",
      "draxti mej shoxshoxum e im perin\n",
      "\n",
      "\n",
      "draxti alvan caxik e im perin\n",
      "anmahakan nektar uni shurterin\n",
      "draxti alvan caxik e im perin\n",
      "anmahakan nektar uni shurterin\n",
      "False\n",
      "True\n"
     ]
    }
   ],
   "source": [
    "with open(PATH, \"r\") as f:\n",
    "    print(f.read())\n",
    "    # f.write(\"a\")\n",
    "    print(f.closed)\n",
    "# f.closed\n",
    "print(f.closed)"
   ]
  },
  {
   "cell_type": "code",
   "execution_count": null,
   "metadata": {
    "colab": {
     "base_uri": "https://localhost:8080/"
    },
    "executionInfo": {
     "elapsed": 537,
     "status": "ok",
     "timestamp": 1713977430587,
     "user": {
      "displayName": "509 Academy",
      "userId": "04290973032679126188"
     },
     "user_tz": -240
    },
    "id": "akuMQTO4nvBw",
    "outputId": "5bb84387-db39-414d-febd-553b221e55b9"
   },
   "outputs": [
    {
     "name": "stdout",
     "output_type": "stream",
     "text": [
      "False\n"
     ]
    }
   ],
   "source": [
    "# file = open(PATH, \"r\")\n",
    "PATH = \"anun.txt\"\n",
    "\n",
    "with open(PATH, 'a') as f1: # նույնն ա ինչ f1 = open(PATH, \"a\")\n",
    "    f1.write(\"1\")\n",
    "\n",
    "    # ......\n",
    "    # ......\n",
    "\n",
    "    # file.close()\n",
    "print(file.closed)"
   ]
  },
  {
   "cell_type": "code",
   "execution_count": null,
   "metadata": {
    "id": "udv9w_hGBMOx"
   },
   "outputs": [],
   "source": [
    "# file = open(PATH, \"r\")\n",
    "\n",
    "with open(PATH, 'r') as file:\n",
    "    # print(file)\n",
    "    print(file.closed)\n",
    "    for line in file:\n",
    "        print(line)\n",
    "\n",
    "file.closed"
   ]
  },
  {
   "cell_type": "code",
   "execution_count": null,
   "metadata": {
    "id": "oMJXBsOhBVl-"
   },
   "outputs": [],
   "source": [
    "# file = open(PATH, \"r\")\n",
    "\n",
    "with open(PATH, 'r') as file:\n",
    "    # print(file)\n",
    "    print(file.closed)\n",
    "    for line in file:\n",
    "        print(line)\n",
    "\n",
    "file.closed"
   ]
  },
  {
   "cell_type": "markdown",
   "metadata": {
    "id": "sw_DaQqxHx52"
   },
   "source": [
    "## JSON"
   ]
  },
  {
   "cell_type": "code",
   "execution_count": 12,
   "metadata": {
    "executionInfo": {
     "elapsed": 538,
     "status": "ok",
     "timestamp": 1734773228329,
     "user": {
      "displayName": "509 Academy",
      "userId": "04290973032679126188"
     },
     "user_tz": -60
    },
    "id": "08yRUvSbHzBc"
   },
   "outputs": [],
   "source": [
    "import json\n",
    "\n",
    "example_data = {\n",
    "    \"name\": \"Bob\",\n",
    "    \"age\": 30,\n",
    "    \"languages\": [\"English\", \"French\", \"German\"]\n",
    "}\n",
    "\n",
    "with open('data.json', 'w') as file:\n",
    "    json.dump(example_data, file, indent=0)"
   ]
  },
  {
   "cell_type": "code",
   "execution_count": 11,
   "metadata": {
    "colab": {
     "base_uri": "https://localhost:8080/"
    },
    "executionInfo": {
     "elapsed": 216,
     "status": "ok",
     "timestamp": 1734733131327,
     "user": {
      "displayName": "509 Academy",
      "userId": "04290973032679126188"
     },
     "user_tz": -60
    },
    "id": "6OpZG1gDJpyf",
    "outputId": "8a28a304-939c-4209-ef10-2c117d5eb9bf"
   },
   "outputs": [
    {
     "name": "stdout",
     "output_type": "stream",
     "text": [
      "Name: Bob\n",
      "Age: 30\n",
      "Languages: ['English', 'French', 'German']\n"
     ]
    }
   ],
   "source": [
    "import json\n",
    "\n",
    "with open('data.json', 'r') as file:\n",
    "    data = json.load(file)\n",
    "\n",
    "print(\"Name:\", data[\"name\"])\n",
    "print(\"Age:\", data[\"age\"])\n",
    "print(\"Languages:\", data[\"languages\"])"
   ]
  },
  {
   "cell_type": "code",
   "execution_count": null,
   "metadata": {
    "executionInfo": {
     "elapsed": 243,
     "status": "ok",
     "timestamp": 1734733153275,
     "user": {
      "displayName": "509 Academy",
      "userId": "04290973032679126188"
     },
     "user_tz": -60
    },
    "id": "1s59rIQVJuwL"
   },
   "outputs": [],
   "source": [
    "person = {\n",
    "    \"name\": \"Alice\",\n",
    "    \"age\": 25,\n",
    "    \"languages\": [\"Python\", \"JavaScript\", \"C++\"]\n",
    "}\n",
    "\n",
    "with open('person.json', 'w') as file:\n",
    "    json.dump(person, file, indent=2)  # `indent` makes the JSON readable\n"
   ]
  },
  {
   "attachments": {
    "image.png": {
     "image/png": "[encoded data removed]"
    }
   },
   "cell_type": "markdown",
   "metadata": {},
   "source": [
    "## Pickle Files\n",
    "The `pickle` module is used to serialize and deserialize Python objects. Serialization is the process of converting a Python object into a byte stream, and deserialization is the reverse process.\n",
    "\n",
    "### Why Use Pickle?\n",
    "- Save Python objects to a file for later use.\n",
    "- Transfer Python objects between programs or over a network.\n",
    "\n",
    "![image.png](attachment:image.png)"
   ]
  },
  {
   "cell_type": "code",
   "execution_count": null,
   "metadata": {},
   "outputs": [
    {
     "name": "stdout",
     "output_type": "stream",
     "text": [
      "Data has been serialized and saved to 'data.pkl'.\n"
     ]
    },
    {
     "ename": "",
     "evalue": "",
     "output_type": "error",
     "traceback": [
      "\u001b[1;31mThe Kernel crashed while executing code in the current cell or a previous cell. \n",
      "\u001b[1;31mPlease review the code in the cell(s) to identify a possible cause of the failure. \n",
      "\u001b[1;31mClick <a href='https://aka.ms/vscodeJupyterKernelCrash'>here</a> for more info. \n",
      "\u001b[1;31mView Jupyter <a href='command:jupyter.viewOutput'>log</a> for further details."
     ]
    }
   ],
   "source": [
    "import pickle\n",
    "\n",
    "# Example: Saving data to a pickle file\n",
    "data = [\"panir\", 509]\n",
    "\n",
    "with open('data.pkl', 'wb') as file:  # 'wb' mode is for writing binary\n",
    "    pickle.dump(data, file)\n",
    "\n",
    "print(\"Data has been serialized and saved to 'data.pkl'.\")"
   ]
  },
  {
   "cell_type": "code",
   "execution_count": null,
   "metadata": {},
   "outputs": [],
   "source": [
    "import pickle\n",
    "\n",
    "# Example: Loading data from a pickle file\n",
    "with open('data.pkl', 'rb') as file:  # 'rb' mode is for reading binary\n",
    "    loaded_data = pickle.load(file)\n",
    "\n",
    "print(\"Data has been deserialized:\", loaded_data)"
   ]
  }
 ],
 "metadata": {
  "colab": {
   "authorship_tag": "ABX9TyO7NRDURjGz1xGyQx4Wrf+8",
   "provenance": [
    {
     "file_id": "1OKcOkcG3dCBqgtIZ6AFN9OqjnMfThMVC",
     "timestamp": 1734732391699
    },
    {
     "file_id": "1mUKD5sN5H-cJ5XMtVX6vgRNgjUGL8l3p",
     "timestamp": 1707837146708
    }
   ]
  },
  "kernelspec": {
   "display_name": "Python 3",
   "name": "python3"
  },
  "language_info": {
   "codemirror_mode": {
    "name": "ipython",
    "version": 3
   },
   "file_extension": ".py",
   "mimetype": "text/x-python",
   "name": "python",
   "nbconvert_exporter": "python",
   "pygments_lexer": "ipython3",
   "version": "3.10.14"
  }
 },
 "nbformat": 4,
 "nbformat_minor": 0
}

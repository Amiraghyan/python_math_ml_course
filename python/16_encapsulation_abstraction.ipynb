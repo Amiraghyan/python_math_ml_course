{
 "cells": [
  {
   "cell_type": "raw",
   "id": "43fae724",
   "metadata": {
    "vscode": {
     "languageId": "raw"
    }
   },
   "source": [
    "---\n",
    "title: \"16 OOP 3: Encapsulation, Abstraction\"\n",
    "description: \"Object-Oriented Programming concepts: Encapsulation and Abstraction\"\n",
    "format: \n",
    "  html:\n",
    "    code-fold: false\n",
    "number-offset: 1\n",
    "---"
   ]
  },
  {
   "cell_type": "markdown",
   "id": "1c80606e",
   "metadata": {},
   "source": [
    "![image.png](../background_photos/py_16_souvenirs.jpg)\n",
    "Երևան, Մոսկովյան, [լուսանկարի հղումը](https://unsplash.com/photos/2En8C4tnTSo), Հեղինակ՝ [Taguhi Kirakosyan](https://unsplash.com/@taguhi_kirakosyan)"
   ]
  },
  {
   "cell_type": "markdown",
   "id": "66b645ee",
   "metadata": {},
   "source": [
    "<a href=\"ToDo\" target=\"_parent\"><img src=\"https://colab.research.google.com/assets/colab-badge.svg\" alt=\"Open In Colab\"/></a> (ToDo)"
   ]
  },
  {
   "cell_type": "markdown",
   "id": "6d7466b2",
   "metadata": {
    "vscode": {
     "languageId": "raw"
    }
   },
   "source": [
    "Song reference - ToDo"
   ]
  },
  {
   "cell_type": "markdown",
   "id": "c0587685",
   "metadata": {
    "vscode": {
     "languageId": "raw"
    }
   },
   "source": [
    "# 🎦 Տեսադասեր + լրացուցիչ (ToDo)\n",
    "\n",
    "ToDo\n",
    "1. [Տեսություն 2025](https://youtu.be/TIWU_bjFuUc) \\\n",
    "2. [Տեսություն 2023 (ToDo)]()  \\\n",
    "3. [Գործնական 2025](https://youtu.be/zf8xEfdLXRo) \\\n",
    "4. [Գործնական 2023 (ToDo)]()  \\\n",
    "5. [Որոշ տնայինների լուծումներ (ToDo)]()\n",
    "    \n",
    "Google Forms ToDo"
   ]
  },
  {
   "cell_type": "markdown",
   "id": "584bee33",
   "metadata": {
    "vscode": {
     "languageId": "raw"
    }
   },
   "source": [
    "# 📚 Նյութը"
   ]
  },
  {
   "cell_type": "markdown",
   "id": "67b31508",
   "metadata": {},
   "source": [
    "## Encapsulation (նույն ինքը՝ \"քեզ ինչ\")"
   ]
  },
  {
   "cell_type": "markdown",
   "id": "f53bec96",
   "metadata": {},
   "source": [
    "https://www.datacamp.com/tutorial/encapsulation-in-python-object-oriented-programming\n",
    "| Feature             | Python                                                                 | Java                                      | C++                                       |\n",
    "|---------------------|------------------------------------------------------------------------|------------------------------------------|------------------------------------------|\n",
    "| Access modifiers    | No enforced modifiers; uses naming conventions (_protected, __private) | Enforced with public, protected, private keywords | Enforced with public, protected, private keywords |\n",
    "| Getter/setter methods | Optional, often used with @property decorator for controlled access  | Common practice, typically implemented as methods | Common practice, typically implemented as methods |\n",
    "| Data Access         | Accessible via naming conventions; relies on developer discipline     | Controlled by access modifiers; enforced by the compiler | Controlled by access modifiers; enforced by the compiler |\n",
    "| Philosophy          | \"We are all adults here\" - relies on conventions and trust            | Strict enforcement of access control     | Strict enforcement of access control     |"
   ]
  },
  {
   "cell_type": "code",
   "execution_count": 5,
   "id": "4ee7af6a",
   "metadata": {},
   "outputs": [],
   "source": [
    "class Avto:\n",
    "    def __init__(self, model=\"06\", owner=\"Մեքենա մեքենիկյան\", secret=\"չեմ ասի\"):\n",
    "        self.model = model # public\n",
    "        self._owner = owner # protected\n",
    "        self.__secret = secret # private\n",
    "\n",
    "        print(self.model, self._owner, self.__secret)\n"
   ]
  },
  {
   "cell_type": "markdown",
   "id": "921651b7",
   "metadata": {},
   "source": [
    "### Public, Protected, Private\n",
    "| Level     | Prefix     | Enforcement   | Use Case                                  |\n",
    "| --------- | ---------- | ------------- | ----------------------------------------- |\n",
    "| Public    | *none*     | None          | Functions & data meant for everyone       |\n",
    "| Protected | `_single`  | Convention    | Internal helpers, subclass support        |\n",
    "| Private   | `__double` | Name-mangling | Strictly internal, avoid subclass clashes |\n"
   ]
  },
  {
   "cell_type": "markdown",
   "id": "2adbf0a3",
   "metadata": {},
   "source": [
    "#### Public"
   ]
  },
  {
   "cell_type": "code",
   "execution_count": 6,
   "id": "d093d42c",
   "metadata": {},
   "outputs": [
    {
     "name": "stdout",
     "output_type": "stream",
     "text": [
      "06 Մեքենա մեքենիկյան չեմ ասի\n",
      "06\n",
      "07\n"
     ]
    }
   ],
   "source": [
    "jiguli = Avto()\n",
    "\n",
    "print(jiguli.model)\n",
    "\n",
    "jiguli.model = \"07\"\n",
    "\n",
    "print(jiguli.model)\n"
   ]
  },
  {
   "cell_type": "markdown",
   "id": "9b11f82e",
   "metadata": {},
   "source": [
    "#### Protected\n"
   ]
  },
  {
   "cell_type": "code",
   "execution_count": 8,
   "id": "992a8e30",
   "metadata": {},
   "outputs": [
    {
     "name": "stdout",
     "output_type": "stream",
     "text": [
      "06 Մեքենա մեքենիկյան չեմ ասի\n",
      "Մեքենա մեքենիկյան\n",
      "\n"
     ]
    }
   ],
   "source": [
    "jiguli = Avto()\n",
    "\n",
    "print(jiguli._owner)\n",
    "\n",
    "jiguli._owner = \"\"\n",
    "\n",
    "print(jiguli._owner)\n"
   ]
  },
  {
   "cell_type": "markdown",
   "id": "34672561",
   "metadata": {},
   "source": [
    "#### Private (name mangling)\n",
    "ոնց-որ թե հազիվ ձև գտանք, բայց իրականում նույն չափ էֆեկտիվ մեթոդ ա ինչ հայտարարելը \"շուտ եմ ասել, ով էս փոփոխականի հետ գործ արեց փիղ ա\""
   ]
  },
  {
   "cell_type": "code",
   "execution_count": 9,
   "id": "17928ab4",
   "metadata": {},
   "outputs": [
    {
     "name": "stdout",
     "output_type": "stream",
     "text": [
      "06 Մեքենա մեքենիկյան չեմ ասի\n"
     ]
    },
    {
     "ename": "AttributeError",
     "evalue": "'Avto' object has no attribute '__secret'",
     "output_type": "error",
     "traceback": [
      "\u001b[1;31m---------------------------------------------------------------------------\u001b[0m",
      "\u001b[1;31mAttributeError\u001b[0m                            Traceback (most recent call last)",
      "Input \u001b[1;32mIn [9]\u001b[0m, in \u001b[0;36m<cell line: 3>\u001b[1;34m()\u001b[0m\n\u001b[0;32m      1\u001b[0m jiguli \u001b[38;5;241m=\u001b[39m Avto()\n\u001b[1;32m----> 3\u001b[0m \u001b[38;5;28mprint\u001b[39m(\u001b[43mjiguli\u001b[49m\u001b[38;5;241;43m.\u001b[39;49m\u001b[43m__secret\u001b[49m)\n\u001b[0;32m      5\u001b[0m \u001b[38;5;66;03m# jiguli.__secret = \"Մեքենայատեր Տերյան\"\u001b[39;00m\n\u001b[0;32m      6\u001b[0m \n\u001b[0;32m      7\u001b[0m \u001b[38;5;66;03m# print(jiguli.__secret)\u001b[39;00m\n",
      "\u001b[1;31mAttributeError\u001b[0m: 'Avto' object has no attribute '__secret'"
     ]
    }
   ],
   "source": [
    "jiguli = Avto()\n",
    "\n",
    "print(jiguli.__secret)\n",
    "\n",
    "# jiguli.__secret = \"Մեքենայատեր Տերյան\"\n",
    "\n",
    "# print(jiguli.__secret)\n"
   ]
  },
  {
   "cell_type": "code",
   "execution_count": 10,
   "id": "e82fe384",
   "metadata": {},
   "outputs": [
    {
     "data": {
      "text/plain": [
       "['_Avto__secret',\n",
       " '__class__',\n",
       " '__delattr__',\n",
       " '__dict__',\n",
       " '__dir__',\n",
       " '__doc__',\n",
       " '__eq__',\n",
       " '__format__',\n",
       " '__ge__',\n",
       " '__getattribute__',\n",
       " '__gt__',\n",
       " '__hash__',\n",
       " '__init__',\n",
       " '__init_subclass__',\n",
       " '__le__',\n",
       " '__lt__',\n",
       " '__module__',\n",
       " '__ne__',\n",
       " '__new__',\n",
       " '__reduce__',\n",
       " '__reduce_ex__',\n",
       " '__repr__',\n",
       " '__setattr__',\n",
       " '__sizeof__',\n",
       " '__str__',\n",
       " '__subclasshook__',\n",
       " '__weakref__',\n",
       " '_owner',\n",
       " 'model']"
      ]
     },
     "execution_count": 10,
     "metadata": {},
     "output_type": "execute_result"
    }
   ],
   "source": [
    "dir(jiguli)"
   ]
  },
  {
   "cell_type": "code",
   "execution_count": 13,
   "id": "4fb58853",
   "metadata": {},
   "outputs": [
    {
     "name": "stdout",
     "output_type": "stream",
     "text": [
      "06 Մեքենա մեքենիկյան չեմ ասի\n",
      "չեմ ասի\n",
      "Մեքենայատեր Տերյան\n"
     ]
    }
   ],
   "source": [
    "jiguli = Avto()\n",
    "\n",
    "print(jiguli._Avto__secret)\n",
    "\n",
    "jiguli._Avto__secret = \"Մեքենայատեր Տերյան\"\n",
    "\n",
    "print(jiguli._Avto__secret)\n"
   ]
  },
  {
   "cell_type": "markdown",
   "id": "6181033b",
   "metadata": {},
   "source": [
    "### Getter, setter, deleter-ներ\n",
    "\n",
    "Մենք ուզում ենք ինչքան հնարավորա ուրիշներին ասենք հեռու մնացեք մեր կոդից, ձեզ մենակ էս-էս բաներն ենք տրամադրում\n",
    "\n",
    "եթե ուզում են ինչ-որ փոփոպականի կպնեն ու հետը փոփոխություն անեն ինչ-որ ոչ թե թույլ կտանք ուղիղ հենց իրա հետ գործ անեն ու ինչ-որ բան ջարդեն կամ տեսնեն ինչ-որ բան որն իրանց աչքերի համար չէր, այլ ասենք ուզում ես արժեքը ստանաս, խնդիր չկա կանչի էս ֆունկցիան՝ կտա, ուզում ես արժեք փոխես (ու սխալ մուտք տաս կոդը ջարդես), տուր արժեքդ մենք կփոխենք"
   ]
  },
  {
   "cell_type": "code",
   "execution_count": 20,
   "id": "da32ec6c",
   "metadata": {},
   "outputs": [],
   "source": [
    "class Avto:\n",
    "    def __init__(self, model=\"06\", owner=\"Մեքենա մեքենիկյան\", secret=\"չեմ ասի\"):\n",
    "        self.model = model\n",
    "        self._owner = owner\n",
    "        self.__secret = secret\n",
    "\n",
    "    def info(self):\n",
    "        text = f\"{self.model} {self._owner.capitalize()}, {self.__secret}\"\n",
    "        return text\n"
   ]
  },
  {
   "cell_type": "code",
   "execution_count": 21,
   "id": "f860bac8",
   "metadata": {},
   "outputs": [
    {
     "name": "stdout",
     "output_type": "stream",
     "text": [
      "06 Մեքենա մեքենիկյան, չեմ ասի\n",
      "Մեքենա մեքենիկյան\n"
     ]
    },
    {
     "ename": "AttributeError",
     "evalue": "'int' object has no attribute 'capitalize'",
     "output_type": "error",
     "traceback": [
      "\u001b[1;31m---------------------------------------------------------------------------\u001b[0m",
      "\u001b[1;31mAttributeError\u001b[0m                            Traceback (most recent call last)",
      "Input \u001b[1;32mIn [21]\u001b[0m, in \u001b[0;36m<cell line: 9>\u001b[1;34m()\u001b[0m\n\u001b[0;32m      5\u001b[0m \u001b[38;5;28mprint\u001b[39m(jiguli\u001b[38;5;241m.\u001b[39m_owner)\n\u001b[0;32m      7\u001b[0m jiguli\u001b[38;5;241m.\u001b[39m_owner \u001b[38;5;241m=\u001b[39m \u001b[38;5;241m1\u001b[39m\n\u001b[1;32m----> 9\u001b[0m \u001b[38;5;28mprint\u001b[39m(\u001b[43mjiguli\u001b[49m\u001b[38;5;241;43m.\u001b[39;49m\u001b[43minfo\u001b[49m\u001b[43m(\u001b[49m\u001b[43m)\u001b[49m)\n",
      "Input \u001b[1;32mIn [20]\u001b[0m, in \u001b[0;36mAvto.info\u001b[1;34m(self)\u001b[0m\n\u001b[0;32m      7\u001b[0m \u001b[38;5;28;01mdef\u001b[39;00m \u001b[38;5;21minfo\u001b[39m(\u001b[38;5;28mself\u001b[39m):\n\u001b[1;32m----> 8\u001b[0m     text \u001b[38;5;241m=\u001b[39m \u001b[38;5;124mf\u001b[39m\u001b[38;5;124m\"\u001b[39m\u001b[38;5;132;01m{\u001b[39;00m\u001b[38;5;28mself\u001b[39m\u001b[38;5;241m.\u001b[39mmodel\u001b[38;5;132;01m}\u001b[39;00m\u001b[38;5;124m \u001b[39m\u001b[38;5;132;01m{\u001b[39;00m\u001b[38;5;28;43mself\u001b[39;49m\u001b[38;5;241;43m.\u001b[39;49m\u001b[43m_owner\u001b[49m\u001b[38;5;241;43m.\u001b[39;49m\u001b[43mcapitalize\u001b[49m()\u001b[38;5;132;01m}\u001b[39;00m\u001b[38;5;124m, \u001b[39m\u001b[38;5;132;01m{\u001b[39;00m\u001b[38;5;28mself\u001b[39m\u001b[38;5;241m.\u001b[39m__secret\u001b[38;5;132;01m}\u001b[39;00m\u001b[38;5;124m\"\u001b[39m\n\u001b[0;32m      9\u001b[0m     \u001b[38;5;28;01mreturn\u001b[39;00m text\n",
      "\u001b[1;31mAttributeError\u001b[0m: 'int' object has no attribute 'capitalize'"
     ]
    }
   ],
   "source": [
    "jiguli = Avto()\n",
    "\n",
    "print(jiguli.info())\n",
    "\n",
    "print(jiguli._owner)\n",
    "\n",
    "jiguli._owner = 1\n",
    "\n",
    "print(jiguli.info())"
   ]
  },
  {
   "cell_type": "code",
   "execution_count": 2,
   "id": "a552e6e6",
   "metadata": {},
   "outputs": [],
   "source": [
    "class Avto:\n",
    "    def __init__(self, model=\"06\", owner=\"Մեքենա մեքենիկյան\", secret=\"չեմ ասի\"):\n",
    "        self.model = model\n",
    "        self._owner = owner\n",
    "        self.__secret = secret\n",
    "\n",
    "    def info(self):\n",
    "        text = f\"{self.model} {self._owner.capitalize()}, {self.__secret}\"\n",
    "        return text\n",
    "    \n",
    "    def get_owner(self):\n",
    "        return self._owner\n",
    "\n",
    "    def set_owner(self, value):\n",
    "        if isinstance(value, str):\n",
    "            self._owner = value\n",
    "        else:\n",
    "            # self._owner = str(value)\n",
    "            raise ValueError(\"Անուն տուր ոչ թե թիվ\")\n",
    "\n",
    "    def del_owner(self):\n",
    "        print(\"Մեքենայի տիրոջ անունը ջնջում եմ\")\n",
    "        del self._owner\n"
   ]
  },
  {
   "cell_type": "code",
   "execution_count": 3,
   "id": "d1b2ee9e",
   "metadata": {},
   "outputs": [
    {
     "name": "stdout",
     "output_type": "stream",
     "text": [
      "06 Մեքենա մեքենիկյան, չեմ ասի\n",
      "Մեքենա մեքենիկյան\n"
     ]
    },
    {
     "ename": "ValueError",
     "evalue": "Անուն տուր ոչ թե թիվ",
     "output_type": "error",
     "traceback": [
      "\u001b[1;31m---------------------------------------------------------------------------\u001b[0m",
      "\u001b[1;31mValueError\u001b[0m                                Traceback (most recent call last)",
      "Input \u001b[1;32mIn [3]\u001b[0m, in \u001b[0;36m<cell line: 7>\u001b[1;34m()\u001b[0m\n\u001b[0;32m      3\u001b[0m \u001b[38;5;28mprint\u001b[39m(jiguli\u001b[38;5;241m.\u001b[39minfo())\n\u001b[0;32m      5\u001b[0m \u001b[38;5;28mprint\u001b[39m(jiguli\u001b[38;5;241m.\u001b[39mget_owner())\n\u001b[1;32m----> 7\u001b[0m \u001b[43mjiguli\u001b[49m\u001b[38;5;241;43m.\u001b[39;49m\u001b[43mset_owner\u001b[49m\u001b[43m(\u001b[49m\u001b[38;5;241;43m1\u001b[39;49m\u001b[43m)\u001b[49m\n\u001b[0;32m      8\u001b[0m \u001b[38;5;66;03m# jiguli.set_owner(\"Ավտո Վուվույան\")\u001b[39;00m\n\u001b[0;32m     10\u001b[0m \u001b[38;5;28mprint\u001b[39m(jiguli\u001b[38;5;241m.\u001b[39minfo())\n",
      "Input \u001b[1;32mIn [2]\u001b[0m, in \u001b[0;36mAvto.set_owner\u001b[1;34m(self, value)\u001b[0m\n\u001b[0;32m     16\u001b[0m     \u001b[38;5;28mself\u001b[39m\u001b[38;5;241m.\u001b[39m_owner \u001b[38;5;241m=\u001b[39m value\n\u001b[0;32m     17\u001b[0m \u001b[38;5;28;01melse\u001b[39;00m:\n\u001b[0;32m     18\u001b[0m     \u001b[38;5;66;03m# self._owner = str(value)\u001b[39;00m\n\u001b[1;32m---> 19\u001b[0m     \u001b[38;5;28;01mraise\u001b[39;00m \u001b[38;5;167;01mValueError\u001b[39;00m(\u001b[38;5;124m\"\u001b[39m\u001b[38;5;124mԱնուն տուր ոչ թե թիվ\u001b[39m\u001b[38;5;124m\"\u001b[39m)\n",
      "\u001b[1;31mValueError\u001b[0m: Անուն տուր ոչ թե թիվ"
     ]
    }
   ],
   "source": [
    "jiguli = Avto()\n",
    "\n",
    "print(jiguli.info())\n",
    "\n",
    "print(jiguli.get_owner())\n",
    "\n",
    "jiguli.set_owner(1)\n",
    "# jiguli.set_owner(\"Ավտո Վուվույան\")\n",
    "\n",
    "print(jiguli.info())\n",
    "\n",
    "jiguli.del_owner()\n",
    "\n",
    "print(jiguli.info())\n"
   ]
  },
  {
   "cell_type": "markdown",
   "id": "2a7153be",
   "metadata": {},
   "source": [
    "### Property decorator\n",
    "Բայց ախր շատ անհարմարա սենց ֆունկցիաների անուններ գրել երկար ամեն անգամ ֆունկցիա աշխատացնել, լավ էր էլի որ գրում էինք ուղղակի `jiguli._owner = ․․`\n"
   ]
  },
  {
   "cell_type": "code",
   "execution_count": 4,
   "id": "dac892c7",
   "metadata": {},
   "outputs": [],
   "source": [
    "jiguli.set_owner(\"aaa\")\n",
    "jiguli.owner = \"aaa\""
   ]
  },
  {
   "cell_type": "code",
   "execution_count": 4,
   "id": "9adbf153",
   "metadata": {},
   "outputs": [],
   "source": [
    "class Avto:\n",
    "    def __init__(self, model=\"06\", owner=\"Մեքենա մեքենիկյան\", secret=\"չեմ ասի\"):\n",
    "        self.model = model\n",
    "        self._owner = owner\n",
    "        self.__secret = secret\n",
    "\n",
    "    def info(self):\n",
    "        text = f\"{self.model}\"\n",
    "        return text\n",
    "    \n",
    "    @property\n",
    "    def owner(self):\n",
    "        return self._owner\n",
    "\n",
    "    @owner.setter\n",
    "    def owner(self, value):\n",
    "        if isinstance(value, str):\n",
    "            self._owner = value\n",
    "        else:\n",
    "            raise ValueError(\"անուն տուր ոչ թե թիվ\")\n",
    "\n",
    "    @owner.deleter\n",
    "    def owner(self):\n",
    "        print(\"ջնջում եմ\")\n",
    "        del self.owner\n",
    "\n"
   ]
  },
  {
   "cell_type": "code",
   "execution_count": 6,
   "id": "31025b70",
   "metadata": {},
   "outputs": [
    {
     "name": "stdout",
     "output_type": "stream",
     "text": [
      "06\n",
      "Մեքենա մեքենիկյան\n"
     ]
    }
   ],
   "source": [
    "jiguli = Avto()\n",
    "\n",
    "print(jiguli.info())\n",
    "\n",
    "print(jiguli.owner)  # Using getter"
   ]
  },
  {
   "cell_type": "code",
   "execution_count": 8,
   "id": "d75126a3",
   "metadata": {},
   "outputs": [],
   "source": [
    "jiguli.owner = \"Ավտո Վուվույան\"  # Using setter\n"
   ]
  },
  {
   "cell_type": "markdown",
   "id": "df47d49c",
   "metadata": {},
   "source": [
    "**Եթե owner-ը protected չլիներ։**"
   ]
  },
  {
   "cell_type": "code",
   "execution_count": 19,
   "id": "345dd6a0",
   "metadata": {},
   "outputs": [],
   "source": [
    "class Avto:\n",
    "    def __init__(self, model=\"06\", owner=\"Մեքենա մեքենիկյան\", secret=\"չեմ ասի\"):\n",
    "        self.model = model\n",
    "        self.owner = owner\n",
    "        self.__secret = secret\n",
    "\n",
    "    @property\n",
    "    def owner(self):\n",
    "        return self.owner"
   ]
  },
  {
   "cell_type": "code",
   "execution_count": 18,
   "id": "8f686690",
   "metadata": {},
   "outputs": [
    {
     "ename": "AttributeError",
     "evalue": "can't set attribute 'owner'",
     "output_type": "error",
     "traceback": [
      "\u001b[1;31m---------------------------------------------------------------------------\u001b[0m",
      "\u001b[1;31mAttributeError\u001b[0m                            Traceback (most recent call last)",
      "Input \u001b[1;32mIn [18]\u001b[0m, in \u001b[0;36m<cell line: 1>\u001b[1;34m()\u001b[0m\n\u001b[1;32m----> 1\u001b[0m jiguli \u001b[38;5;241m=\u001b[39m \u001b[43mAvto\u001b[49m\u001b[43m(\u001b[49m\u001b[43m)\u001b[49m\n",
      "Input \u001b[1;32mIn [17]\u001b[0m, in \u001b[0;36mAvto.__init__\u001b[1;34m(self, model, owner, secret)\u001b[0m\n\u001b[0;32m      2\u001b[0m \u001b[38;5;28;01mdef\u001b[39;00m \u001b[38;5;21m__init__\u001b[39m(\u001b[38;5;28mself\u001b[39m, model\u001b[38;5;241m=\u001b[39m\u001b[38;5;124m\"\u001b[39m\u001b[38;5;124m06\u001b[39m\u001b[38;5;124m\"\u001b[39m, owner\u001b[38;5;241m=\u001b[39m\u001b[38;5;124m\"\u001b[39m\u001b[38;5;124mՄեքենա մեքենիկյան\u001b[39m\u001b[38;5;124m\"\u001b[39m, secret\u001b[38;5;241m=\u001b[39m\u001b[38;5;124m\"\u001b[39m\u001b[38;5;124mչեմ ասի\u001b[39m\u001b[38;5;124m\"\u001b[39m):\n\u001b[0;32m      3\u001b[0m     \u001b[38;5;28mself\u001b[39m\u001b[38;5;241m.\u001b[39mmodel \u001b[38;5;241m=\u001b[39m model\n\u001b[1;32m----> 4\u001b[0m     \u001b[38;5;28;43mself\u001b[39;49m\u001b[38;5;241;43m.\u001b[39;49m\u001b[43mowner\u001b[49m \u001b[38;5;241m=\u001b[39m owner\n\u001b[0;32m      5\u001b[0m     \u001b[38;5;28mself\u001b[39m\u001b[38;5;241m.\u001b[39m__secret \u001b[38;5;241m=\u001b[39m secret\n",
      "\u001b[1;31mAttributeError\u001b[0m: can't set attribute 'owner'"
     ]
    }
   ],
   "source": [
    "jiguli = Avto()"
   ]
  },
  {
   "cell_type": "markdown",
   "id": "29d026fc",
   "metadata": {},
   "source": [
    "## Abstraction"
   ]
  },
  {
   "cell_type": "markdown",
   "id": "96de54c1",
   "metadata": {},
   "source": [
    "Abstraction is the process of hiding the complex reality while exposing only the necessary parts. In code, it lets you:\n",
    "\n",
    "- **Simplify** by focusing on “what” something does, not “how” it does it.\n",
    "- **Encapsulate** complexity behind a clean interface.\n",
    "- **Promote** reuse and flexibility by decoupling implementation from usage."
   ]
  },
  {
   "cell_type": "code",
   "execution_count": 1,
   "id": "c2c0c0ab",
   "metadata": {},
   "outputs": [],
   "source": [
    "import os\n",
    "\n",
    "class FileReader:\n",
    "    def __init__(self, path):\n",
    "        self.path = path\n",
    "        self.size = self.get_size()\n",
    "        self.text = None\n",
    "\n",
    "    def get_size(self):\n",
    "        return os.stat(self.path).st_size\n",
    "\n",
    "    def read(self):\n",
    "        # pass\n",
    "        raise NotImplementedError\n",
    "\n",
    "    def write(self):\n",
    "        # pass\n",
    "        raise NotImplementedError"
   ]
  },
  {
   "cell_type": "code",
   "execution_count": 2,
   "id": "2f0dc097",
   "metadata": {},
   "outputs": [],
   "source": [
    "class TextReader(FileReader):\n",
    "    def read(self):\n",
    "        if self.text is None:\n",
    "            with open(self.path, \"r\") as f:\n",
    "                self.text = f.read()\n",
    "\n",
    "        return self.text\n",
    "\n"
   ]
  },
  {
   "cell_type": "code",
   "execution_count": 3,
   "id": "e3c04cb9",
   "metadata": {},
   "outputs": [],
   "source": [
    "with open(\"a.txt\", \"w\") as f:\n",
    "    f.write(\"Շուդադի շուդադա վիզաութ յո լավ, վեդեֆոյու, վեդեֆոյու\")"
   ]
  },
  {
   "cell_type": "code",
   "execution_count": 4,
   "id": "2ecf1d38",
   "metadata": {},
   "outputs": [],
   "source": [
    "t = TextReader(\"a.txt\")"
   ]
  },
  {
   "cell_type": "code",
   "execution_count": 5,
   "id": "d2badca2",
   "metadata": {},
   "outputs": [
    {
     "ename": "NotImplementedError",
     "evalue": "",
     "output_type": "error",
     "traceback": [
      "\u001b[1;31m---------------------------------------------------------------------------\u001b[0m",
      "\u001b[1;31mNotImplementedError\u001b[0m                       Traceback (most recent call last)",
      "Input \u001b[1;32mIn [5]\u001b[0m, in \u001b[0;36m<cell line: 1>\u001b[1;34m()\u001b[0m\n\u001b[1;32m----> 1\u001b[0m \u001b[43mt\u001b[49m\u001b[38;5;241;43m.\u001b[39;49m\u001b[43mwrite\u001b[49m\u001b[43m(\u001b[49m\u001b[43m)\u001b[49m\n",
      "Input \u001b[1;32mIn [1]\u001b[0m, in \u001b[0;36mFileReader.write\u001b[1;34m(self)\u001b[0m\n\u001b[0;32m     16\u001b[0m \u001b[38;5;28;01mdef\u001b[39;00m \u001b[38;5;21mwrite\u001b[39m(\u001b[38;5;28mself\u001b[39m):\n\u001b[0;32m     17\u001b[0m     \u001b[38;5;66;03m# pass\u001b[39;00m\n\u001b[1;32m---> 18\u001b[0m     \u001b[38;5;28;01mraise\u001b[39;00m \u001b[38;5;167;01mNotImplementedError\u001b[39;00m\n",
      "\u001b[1;31mNotImplementedError\u001b[0m: "
     ]
    }
   ],
   "source": [
    "t.write()"
   ]
  },
  {
   "cell_type": "markdown",
   "id": "777ec924",
   "metadata": {},
   "source": [
    "ուզում ենք աշխատացնենք write-ը, TextReader-ը չունի, գնում ա կանչում ա FileReader-ինը իսկ ընդեղ գրած ա որ էռոռ ա բարձրացնում որովհետև գրված չի մեթոդի կոդը"
   ]
  },
  {
   "cell_type": "markdown",
   "id": "1652d469",
   "metadata": {},
   "source": [
    "Լավ կլիներ բայց որ եթե writeը ֆունդամենտալ մասա կլասի, ու առանց իրա պետքա կլասը գոյություն ունենա նենց անենք որ կլասից ժառանգողը ստիպված լինի սահմանի էդ մեթոդը"
   ]
  },
  {
   "cell_type": "markdown",
   "id": "0012836d",
   "metadata": {},
   "source": [
    "### Abstract methods"
   ]
  },
  {
   "cell_type": "code",
   "execution_count": 6,
   "id": "a863a093",
   "metadata": {},
   "outputs": [],
   "source": [
    "from abc import ABC, abstractmethod\n",
    "\n",
    "# ձևանմուշ (template) \n",
    "class FileReader(ABC):\n",
    "    def __init__(self, path):\n",
    "        self.path = path\n",
    "        self.size = self.get_size()\n",
    "        self.text = None\n",
    "\n",
    "    def get_size(self):\n",
    "        return os.stat(self.path).st_size\n",
    "\n",
    "    @abstractmethod\n",
    "    def read(self):\n",
    "        pass\n",
    "\n",
    "    @abstractmethod\n",
    "    def write(self):\n",
    "        pass"
   ]
  },
  {
   "cell_type": "code",
   "execution_count": 7,
   "id": "c22e9bf1",
   "metadata": {},
   "outputs": [],
   "source": [
    "class TextReader(FileReader):\n",
    "    def read(self):\n",
    "        if self.text is None:\n",
    "            with open(self.path, \"r\") as f:\n",
    "                self.text = f.read()\n",
    "\n",
    "        return self.text\n",
    "\n"
   ]
  },
  {
   "cell_type": "code",
   "execution_count": 8,
   "id": "8dff3278",
   "metadata": {},
   "outputs": [
    {
     "ename": "TypeError",
     "evalue": "Can't instantiate abstract class TextReader with abstract method write",
     "output_type": "error",
     "traceback": [
      "\u001b[1;31m---------------------------------------------------------------------------\u001b[0m",
      "\u001b[1;31mTypeError\u001b[0m                                 Traceback (most recent call last)",
      "Input \u001b[1;32mIn [8]\u001b[0m, in \u001b[0;36m<cell line: 1>\u001b[1;34m()\u001b[0m\n\u001b[1;32m----> 1\u001b[0m t \u001b[38;5;241m=\u001b[39m \u001b[43mTextReader\u001b[49m\u001b[43m(\u001b[49m\u001b[38;5;124;43m\"\u001b[39;49m\u001b[38;5;124;43ma.txt\u001b[39;49m\u001b[38;5;124;43m\"\u001b[39;49m\u001b[43m)\u001b[49m\n",
      "\u001b[1;31mTypeError\u001b[0m: Can't instantiate abstract class TextReader with abstract method write"
     ]
    }
   ],
   "source": [
    "t = TextReader(\"a.txt\")"
   ]
  },
  {
   "cell_type": "code",
   "execution_count": 9,
   "id": "64aa850f",
   "metadata": {},
   "outputs": [],
   "source": [
    "class TextReader(FileReader):\n",
    "    def read(self):\n",
    "        if self.text is None:\n",
    "            with open(self.path, \"r\") as f:\n",
    "                self.text = f.read()\n",
    "\n",
    "        return self.text\n",
    "\n",
    "    def write(self):\n",
    "        print(\"էլ չի ջարդվում կոդը\")\n",
    "\n"
   ]
  },
  {
   "cell_type": "code",
   "execution_count": 10,
   "id": "9e9705a4",
   "metadata": {},
   "outputs": [
    {
     "name": "stdout",
     "output_type": "stream",
     "text": [
      "էլ չի ջարդվում կոդը\n"
     ]
    }
   ],
   "source": [
    "t = TextReader(\"a.txt\")\n",
    "\n",
    "t.write()"
   ]
  },
  {
   "cell_type": "markdown",
   "id": "c91ba346",
   "metadata": {},
   "source": [
    "### Abstract variables"
   ]
  },
  {
   "cell_type": "code",
   "execution_count": 12,
   "id": "c3878e77",
   "metadata": {},
   "outputs": [],
   "source": [
    "\n",
    "class FileReader(ABC):\n",
    "    def __init__(self, path):\n",
    "        self.path = path\n",
    "        self.size = self.get_size()\n",
    "        self.text = None\n",
    "\n",
    "    @property\n",
    "    @abstractmethod\n",
    "    def description(self):\n",
    "        return\n",
    "\n",
    "    def get_size(self):\n",
    "        return os.stat(self.path).st_size\n",
    "\n",
    "    @abstractmethod\n",
    "    def read(self):\n",
    "        pass\n",
    "\n",
    "    @abstractmethod\n",
    "    def write(self):\n",
    "        pass"
   ]
  },
  {
   "cell_type": "code",
   "execution_count": 15,
   "id": "2226753c",
   "metadata": {},
   "outputs": [],
   "source": [
    "class TextReader(FileReader):\n",
    "    def read(self):\n",
    "        if self.text is None:\n",
    "            with open(self.path, \"r\") as f:\n",
    "                self.text = f.read()\n",
    "\n",
    "        return self.text\n",
    "\n",
    "    def write(self):\n",
    "        print(\"էլ չի ջարդվում կոդը\")\n",
    "\n",
    "    @property\n",
    "    def description(self):\n",
    "        return \"Սևանը չէ՞\""
   ]
  },
  {
   "cell_type": "code",
   "execution_count": 16,
   "id": "100f623a",
   "metadata": {},
   "outputs": [
    {
     "data": {
      "text/plain": [
       "'Սևանը չէ՞'"
      ]
     },
     "execution_count": 16,
     "metadata": {},
     "output_type": "execute_result"
    }
   ],
   "source": [
    "t = TextReader(\"a.txt\")\n",
    "\n",
    "t.description"
   ]
  },
  {
   "cell_type": "markdown",
   "id": "bba0c289",
   "metadata": {
    "vscode": {
     "languageId": "raw"
    }
   },
   "source": [
    "# 🏡Տնային\n"
   ]
  },
  {
   "cell_type": "markdown",
   "id": "7e6812fa",
   "metadata": {},
   "source": [
    "# 🎲 16\n",
    "- ▶️[Video](https://www.youtube.com/watch?v=iLX_r_WPrIw)\n",
    "- ▶️[Video 🔥](https://www.youtube.com/watch?v=6_2ZJ4QW_O4)\n",
    "- 🇦🇲🎶[Chepitch](https://youtu.be/Bl1yABAofjI?si=gNR3JSBjGbWekgWE)\n",
    "- 🌐🎶[5'nizza](https://www.youtube.com/watch?v=dqswOhKg9tE)\n",
    "- 🤌[Կարգին](https://www.youtube.com/watch?v=DmUrhTAdAD4)"
   ]
  },
  {
   "cell_type": "markdown",
   "id": "c52303c8",
   "metadata": {},
   "source": [
    "\n",
    "<a href=\"http://s01.flagcounter.com/more/1oO\"><img src=\"https://s01.flagcounter.com/count2/1oO/bg_FFFFFF/txt_000000/border_CCCCCC/columns_2/maxflags_10/viewers_0/labels_0/pageviews_1/flags_0/percent_0/\" alt=\"Flag Counter\"></a>\n"
   ]
  }
 ],
 "metadata": {
  "kernelspec": {
   "display_name": "thesis",
   "language": "python",
   "name": "python3"
  },
  "language_info": {
   "codemirror_mode": {
    "name": "ipython",
    "version": 3
   },
   "file_extension": ".py",
   "mimetype": "text/x-python",
   "name": "python",
   "nbconvert_exporter": "python",
   "pygments_lexer": "ipython3",
   "version": "3.10.14"
  }
 },
 "nbformat": 4,
 "nbformat_minor": 5
}

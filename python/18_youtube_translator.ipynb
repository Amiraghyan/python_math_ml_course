{
 "cells": [
  {
   "cell_type": "raw",
   "id": "177135f9",
   "metadata": {
    "vscode": {
     "languageId": "raw"
    }
   },
   "source": [
    "---\n",
    "title: \"18 Final Project: YouTube Transcript Translator\"\n",
    "lightbox: true\n",
    "format: \n",
    "  html:\n",
    "    code-fold: false\n",
    "number-offset: 1\n",
    "---"
   ]
  },
  {
   "cell_type": "markdown",
   "id": "2b9417ee",
   "metadata": {
    "vscode": {
     "languageId": "raw"
    }
   },
   "source": [
    "![image.png](../background_photos/py_18_hafo.jpg)\n",
    "Ծառավ հաֆո, [լուսանկարի հղումը](https://unsplash.com/photos/black-labrador-retriever-puppy-biting-purple-and-white-ball-tj0XGdGWUmE), Հեղինակ՝ [Rafael Ishkhanyan](https://unsplash.com/@rafael_ishkhanyan)"
   ]
  },
  {
   "cell_type": "markdown",
   "id": "802f1af8",
   "metadata": {},
   "source": [
    "<a href=\"ToDo\" target=\"_parent\"><img src=\"https://colab.research.google.com/assets/colab-badge.svg\" alt=\"Open In Colab\"/></a> (ToDo)"
   ]
  },
  {
   "cell_type": "markdown",
   "id": "dbdb9a43",
   "metadata": {},
   "source": [
    "# Plan\n",
    "\n",
    "Use all 4 pillars of OOP and data classes\n",
    "1. Extract metadata for given video from youtube\n",
    "2. Extract transcript \n",
    "3. Translate the transcript  \n"
   ]
  },
  {
   "cell_type": "markdown",
   "id": "be53138a",
   "metadata": {},
   "source": [
    "First of all, you may want to create a venv\n",
    "\n",
    "- `conda create -n youtube`\n",
    "- `conda activate youtube`\n"
   ]
  },
  {
   "cell_type": "markdown",
   "id": "ed166f8a",
   "metadata": {},
   "source": [
    "## YouTube video metadata (title, description, etc.)"
   ]
  },
  {
   "cell_type": "code",
   "execution_count": null,
   "id": "63a87457",
   "metadata": {},
   "outputs": [
    {
     "name": "stderr",
     "output_type": "stream",
     "text": [
      "ERROR: Invalid requirement: '#': Expected package name at the start of dependency specifier\n",
      "    #\n",
      "    ^\n"
     ]
    }
   ],
   "source": [
    "!pip install pytubefix "
   ]
  },
  {
   "cell_type": "markdown",
   "id": "0485ed6d",
   "metadata": {},
   "source": [
    "We use [pytube**fix**](https://github.com/JuanBindez/pytubefix), because the original pytube is not working anymore."
   ]
  },
  {
   "cell_type": "code",
   "execution_count": 77,
   "id": "00db931f",
   "metadata": {},
   "outputs": [],
   "source": [
    "from typing import List\n",
    "from datetime import datetime\n",
    "from pytubefix import YouTube\n",
    "from dataclasses import dataclass, field, asdict"
   ]
  },
  {
   "cell_type": "code",
   "execution_count": 79,
   "id": "5e0472b0",
   "metadata": {},
   "outputs": [],
   "source": [
    "sample_video = \"https://www.youtube.com/watch?v=tERRFWuYG48\""
   ]
  },
  {
   "cell_type": "code",
   "execution_count": 5,
   "id": "90fd4822",
   "metadata": {},
   "outputs": [],
   "source": [
    "yt = YouTube(sample_video)"
   ]
  },
  {
   "cell_type": "code",
   "execution_count": 6,
   "id": "5f178a37",
   "metadata": {},
   "outputs": [
    {
     "data": {
      "text/plain": [
       "['fallback_clients',\n",
       " '_signature_timestamp',\n",
       " '_visitor_data',\n",
       " 'stream_monostate',\n",
       " '_author']"
      ]
     },
     "execution_count": 6,
     "metadata": {},
     "output_type": "execute_result"
    }
   ],
   "source": [
    "yt.__dir__()[15:20]"
   ]
  },
  {
   "cell_type": "code",
   "execution_count": 7,
   "id": "2f3bd2b3",
   "metadata": {},
   "outputs": [
    {
     "data": {
      "text/plain": [
       "('tERRFWuYG48',\n",
       " 'Barfuß Am Klavier - AnnenMayKantereit',\n",
       " ['AnnenMayKantereit',\n",
       "  'Barfuß Am Klavier',\n",
       "  'oft gefragt',\n",
       "  'henning may',\n",
       "  'klavier'],\n",
       " 76842615,\n",
       " 201)"
      ]
     },
     "execution_count": 7,
     "metadata": {},
     "output_type": "execute_result"
    }
   ],
   "source": [
    "yt.video_id, yt.title, yt.keywords, yt.views, yt.length"
   ]
  },
  {
   "cell_type": "code",
   "execution_count": 26,
   "id": "8ea3a8d3",
   "metadata": {},
   "outputs": [],
   "source": [
    "@dataclass()\n",
    "class VideoInfo:\n",
    "    video_id: str\n",
    "    title: str\n",
    "    keywords: List[str]\n",
    "    publish_date: str  \n",
    "    length_seconds: int\n"
   ]
  },
  {
   "cell_type": "code",
   "execution_count": 27,
   "id": "3037cf8c",
   "metadata": {},
   "outputs": [
    {
     "data": {
      "text/plain": [
       "VideoInfo(video_id=1, title='Sample Video', keywords=['sample', 'video'], publish_date='2023-10-01', length_seconds=300)"
      ]
     },
     "execution_count": 27,
     "metadata": {},
     "output_type": "execute_result"
    }
   ],
   "source": [
    "VideoInfo(video_id=1, title=\"Sample Video\", keywords=[\"sample\", \"video\"], publish_date=\"2023-10-01\", length_seconds=300)"
   ]
  },
  {
   "cell_type": "markdown",
   "id": "023332ca",
   "metadata": {},
   "source": [
    "Does not throw an error although the video_id is not an int. \n",
    "We'll use [pydantic](https://docs.pydantic.dev/latest/) to validate the data in future\n"
   ]
  },
  {
   "cell_type": "code",
   "execution_count": 40,
   "id": "14b4b1d5",
   "metadata": {},
   "outputs": [],
   "source": [
    "class YouTubeVideo:\n",
    "    def __init__(self, url: str):\n",
    "        self.video = YouTube(url)\n",
    "\n",
    "    def get_metadata(self) -> VideoInfo:\n",
    "        return VideoInfo(\n",
    "            video_id=self.video.video_id,\n",
    "            title=self.video.title, \n",
    "            keywords=self.video.keywords,\n",
    "            publish_date=self.video.publish_date,\n",
    "            length_seconds=self.video.length\n",
    "        )\n",
    "    "
   ]
  },
  {
   "cell_type": "code",
   "execution_count": 41,
   "id": "2c683645",
   "metadata": {},
   "outputs": [],
   "source": [
    "video = YouTubeVideo(sample_video)"
   ]
  },
  {
   "cell_type": "code",
   "execution_count": 42,
   "id": "d16543b3",
   "metadata": {},
   "outputs": [],
   "source": [
    "vid_info = video.get_metadata()"
   ]
  },
  {
   "cell_type": "code",
   "execution_count": 43,
   "id": "beadebf6",
   "metadata": {},
   "outputs": [
    {
     "data": {
      "text/plain": [
       "{'video_id': 'tERRFWuYG48',\n",
       " 'title': 'Barfuß Am Klavier - AnnenMayKantereit',\n",
       " 'keywords': ['AnnenMayKantereit',\n",
       "  'Barfuß Am Klavier',\n",
       "  'oft gefragt',\n",
       "  'henning may',\n",
       "  'klavier'],\n",
       " 'publish_date': datetime.datetime(2014, 10, 27, 4, 6, 51, tzinfo=datetime.timezone(datetime.timedelta(days=-1, seconds=61200))),\n",
       " 'length_seconds': 201}"
      ]
     },
     "execution_count": 43,
     "metadata": {},
     "output_type": "execute_result"
    }
   ],
   "source": [
    "asdict(vid_info)"
   ]
  },
  {
   "cell_type": "code",
   "execution_count": 93,
   "id": "83d2868f",
   "metadata": {},
   "outputs": [],
   "source": [
    "@dataclass()\n",
    "class VideoInfo:\n",
    "    video_id: str\n",
    "    title: str\n",
    "    keywords: List[str]\n",
    "    publish_date: str  \n",
    "    length_seconds: int\n",
    "    \n",
    "    @staticmethod\n",
    "    def get_days_since_publish(publish_date) -> int:\n",
    "        if isinstance(publish_date, datetime):\n",
    "            publish_date = publish_date.strftime(\"%Y-%m-%d\")\n",
    "        publish_date = datetime.strptime(publish_date, \"%Y-%m-%d\")\n",
    "        current_date = datetime.now()\n",
    "        return (current_date - publish_date).days\n",
    "        \n",
    "        \n",
    "    def __post_init__(self):\n",
    "        if not isinstance(self.video_id, str):\n",
    "            raise ValueError(\"video_id must be a string\")\n",
    "        if not isinstance(self.length_seconds, int):\n",
    "            raise ValueError(\"length_seconds must be an integer\")\n",
    "        \n",
    "        # set days_since_publish attribute\n",
    "        self.days_since_publish = self.get_days_since_publish(self.publish_date)"
   ]
  },
  {
   "cell_type": "code",
   "execution_count": 59,
   "id": "4e6f762d",
   "metadata": {},
   "outputs": [],
   "source": [
    "vid_info = video.get_metadata()"
   ]
  },
  {
   "cell_type": "code",
   "execution_count": 61,
   "id": "f65360ce",
   "metadata": {},
   "outputs": [
    {
     "data": {
      "text/plain": [
       "3894"
      ]
     },
     "execution_count": 61,
     "metadata": {},
     "output_type": "execute_result"
    }
   ],
   "source": [
    "vid_info.days_since_publish"
   ]
  },
  {
   "cell_type": "markdown",
   "id": "c59ab454",
   "metadata": {},
   "source": [
    "# YouTube transcript"
   ]
  },
  {
   "cell_type": "code",
   "execution_count": 62,
   "id": "3b48a42d",
   "metadata": {},
   "outputs": [],
   "source": [
    "yt = YouTube(sample_video)"
   ]
  },
  {
   "cell_type": "code",
   "execution_count": 67,
   "id": "f78cf934",
   "metadata": {},
   "outputs": [
    {
     "data": {
      "text/plain": [
       "{'de': <Caption lang=\"German\" code=\"de\">}"
      ]
     },
     "execution_count": 67,
     "metadata": {},
     "output_type": "execute_result"
    }
   ],
   "source": [
    "yt.captions"
   ]
  },
  {
   "cell_type": "code",
   "execution_count": 68,
   "id": "ab7d6d5b",
   "metadata": {},
   "outputs": [
    {
     "data": {
      "text/plain": [
       "'Ich sitz schon wieder barfuß am Klavier. Ich träume Liebeslieder und sing dabei von dir. Du und ich, wir waren wunderlich. Nicht für mich. Für die, die es störte, wenn man uns nachts hörte. Ich hab mit dir gemeinsam einsam rumgesessen und geschwiegen. Ich erinnere mich am Besten ans gemeinsam einsam Liegen. Jeden Morgen danach bei dir; du nackt im Bett – und ich barfuß am Klavier. Und ich sitz schon wieder barfuß am Klavier. Ich träume Liebeslieder und sing dabei von dir. Du und ich, das ging so nicht. Du wolltest alles wissen und das hat mich vertrieben. Eigentlich dich, du bist nicht länger geblieben; bei mir. Also sitz ich, um zu lieben, lieber barfuß am Klavier. Und ich sitz schon wieder barfuß am Klavier. Ich träume Liebeslieder und sing dabei von dir. Du und ich, wir waren zu wenig. Ich sitz schon wieder barfuß am Klavier. Und träum dabei von dir. Ich träum dabei von dir.'"
      ]
     },
     "execution_count": 68,
     "metadata": {},
     "output_type": "execute_result"
    }
   ],
   "source": [
    "captions = yt.captions[\"de\"]\n",
    "\n",
    "captions.generate_txt_captions()"
   ]
  },
  {
   "cell_type": "code",
   "execution_count": null,
   "id": "fef7f7dd",
   "metadata": {},
   "outputs": [
    {
     "data": {
      "text/plain": [
       "'c:\\\\Users\\\\hayk_\\\\OneDrive\\\\Desktop\\\\python_math_ml_course\\\\python\\\\captions.txt\\\\song (de).srt'"
      ]
     },
     "execution_count": 70,
     "metadata": {},
     "output_type": "execute_result"
    }
   ],
   "source": [
    "captions.download(title=\"song\", output_path=\"captions.txt\")"
   ]
  },
  {
   "cell_type": "markdown",
   "id": "a713a8d8",
   "metadata": {},
   "source": [
    "## Class"
   ]
  },
  {
   "cell_type": "code",
   "execution_count": 76,
   "id": "36755eb9",
   "metadata": {},
   "outputs": [],
   "source": [
    "class YouTubeVideo:\n",
    "    def __init__(self, url: str):\n",
    "        self.video = YouTube(url)\n",
    "\n",
    "    def get_metadata(self) -> VideoInfo:\n",
    "        return VideoInfo(\n",
    "            video_id=self.video.video_id,\n",
    "            title=self.video.title, \n",
    "            keywords=self.video.keywords,\n",
    "            publish_date=self.video.publish_date,\n",
    "            length_seconds=self.video.length\n",
    "        )\n",
    "    \n",
    "    def get_transcript(self, language: str = \"de\") -> str:\n",
    "        captions = self.video.captions.get(language)\n",
    "        if not captions:\n",
    "            raise ValueError(f\"No captions available for language: {language}\")\n",
    "        self.text = captions.generate_txt_captions()\n",
    "        return self.text\n",
    "    \n",
    "    def download_transcript(self, language: str = \"de\", title: str = \"transcript\", output_path: str = \"transcript.txt\") -> None:\n",
    "        captions = self.video.captions.get(language)\n",
    "        if not captions:\n",
    "            raise ValueError(f\"No captions available for language: {language}\")\n",
    "        captions.download(title=title, output_path=output_path)\n",
    "        "
   ]
  },
  {
   "cell_type": "code",
   "execution_count": 77,
   "id": "d4b18d0d",
   "metadata": {},
   "outputs": [],
   "source": [
    "video = YouTubeVideo(sample_video)\n",
    "\n",
    "transcript = video.get_transcript(language=\"de\")"
   ]
  },
  {
   "cell_type": "code",
   "execution_count": 79,
   "id": "a19223f3",
   "metadata": {},
   "outputs": [
    {
     "data": {
      "text/plain": [
       "'Ich sitz schon wieder barfuß am Klavier. Ich träume Liebeslieder und sing dabei von dir. Du und ich, wir waren wunderlich. Nicht für mich. Für die, die es störte, wenn man uns nachts hörte. Ich hab mit dir gemeinsam einsam rumgesessen und geschwiegen. Ich erinnere mich am Besten ans gemeinsam einsam Liegen. Jeden Morgen danach bei dir; du nackt im Bett – und ich barfuß am Klavier. Und ich sitz schon wieder barfuß am Klavier. Ich träume Liebeslieder und sing dabei von dir. Du und ich, das ging so nicht. Du wolltest alles wissen und das hat mich vertrieben. Eigentlich dich, du bist nicht länger geblieben; bei mir. Also sitz ich, um zu lieben, lieber barfuß am Klavier. Und ich sitz schon wieder barfuß am Klavier. Ich träume Liebeslieder und sing dabei von dir. Du und ich, wir waren zu wenig. Ich sitz schon wieder barfuß am Klavier. Und träum dabei von dir. Ich träum dabei von dir.'"
      ]
     },
     "execution_count": 79,
     "metadata": {},
     "output_type": "execute_result"
    }
   ],
   "source": [
    "transcript"
   ]
  },
  {
   "cell_type": "markdown",
   "id": "b1d21e94",
   "metadata": {},
   "source": [
    "# Audio, video"
   ]
  },
  {
   "cell_type": "code",
   "execution_count": 80,
   "id": "36b14b2a",
   "metadata": {},
   "outputs": [],
   "source": [
    "yt = YouTube(sample_video)\n"
   ]
  },
  {
   "cell_type": "code",
   "execution_count": 87,
   "id": "8734d28c",
   "metadata": {},
   "outputs": [
    {
     "data": {
      "text/plain": [
       "<Stream: itag=\"139\" mime_type=\"audio/mp4\" abr=\"48kbps\" acodec=\"mp4a.40.5\" progressive=\"False\" sabr=\"False\" type=\"audio\">"
      ]
     },
     "execution_count": 87,
     "metadata": {},
     "output_type": "execute_result"
    }
   ],
   "source": [
    "\n",
    "yt.streams.get_audio_only()"
   ]
  },
  {
   "cell_type": "code",
   "execution_count": null,
   "id": "ab628b6c",
   "metadata": {},
   "outputs": [
    {
     "data": {
      "text/plain": [
       "'c:\\\\Users\\\\hayk_\\\\OneDrive\\\\Desktop\\\\python_math_ml_course\\\\python\\\\tERRFWuYG48.mp3'"
      ]
     },
     "execution_count": 89,
     "metadata": {},
     "output_type": "execute_result"
    }
   ],
   "source": [
    "output_path = f\"{yt.video_id}.mp3\"\n",
    "\n",
    "yt.streams.get_audio_only().download(filename=output_path)"
   ]
  },
  {
   "cell_type": "code",
   "execution_count": 91,
   "id": "87c39456",
   "metadata": {},
   "outputs": [
    {
     "data": {
      "text/plain": [
       "'c:\\\\Users\\\\hayk_\\\\OneDrive\\\\Desktop\\\\python_math_ml_course\\\\python\\\\tERRFWuYG48.mp4'"
      ]
     },
     "execution_count": 91,
     "metadata": {},
     "output_type": "execute_result"
    }
   ],
   "source": [
    "output_path = f\"{yt.video_id}.mp4\"\n",
    "\n",
    "yt.streams.get_lowest_resolution().download(filename=output_path)"
   ]
  },
  {
   "cell_type": "code",
   "execution_count": 100,
   "id": "17084c0d",
   "metadata": {},
   "outputs": [],
   "source": [
    "class YouTubeVideo:\n",
    "    def __init__(self, url: str):\n",
    "        self.video = YouTube(url)\n",
    "\n",
    "    def get_metadata(self) -> VideoInfo:\n",
    "        return VideoInfo(\n",
    "            video_id=self.video.video_id,\n",
    "            title=self.video.title, \n",
    "            keywords=self.video.keywords,\n",
    "            publish_date=self.video.publish_date,\n",
    "            length_seconds=self.video.length\n",
    "        )\n",
    "    \n",
    "    def get_transcript(self, language: str = \"de\") -> str:\n",
    "        captions = self.video.captions.get(language)\n",
    "        if not captions:\n",
    "            raise ValueError(f\"No captions available for language: {language}\")\n",
    "        self.text = captions.generate_txt_captions()\n",
    "        return self.text\n",
    "    \n",
    "    def download_transcript(self, language: str = \"de\", title: str = \"transcript\", output_path: str = \"transcript.txt\") -> None:\n",
    "        captions = self.video.captions.get(language)\n",
    "        if not captions:\n",
    "            raise ValueError(f\"No captions available for language: {language}\")\n",
    "        captions.download(title=title, output_path=output_path)\n",
    "    \n",
    "    def download_audio(self, output_path=None) -> None:\n",
    "        if output_path is None:\n",
    "            output_path = self.video.video_id\n",
    "        \n",
    "        audio_stream = self.video.streams.get_audio_only()\n",
    "        if not audio_stream:\n",
    "            raise ValueError(\"No audio stream available\")\n",
    "        audio_stream.download(output_path=output_path)\n",
    "        \n",
    "    def download_video(self, output_path=None) -> None:\n",
    "        if output_path is None:\n",
    "            output_path = self.video.video_id\n",
    "        \n",
    "        video_stream = self.video.streams.get_lowest_resolution()\n",
    "        if not video_stream:\n",
    "            raise ValueError(\"No video stream available\")\n",
    "        video_stream.download(output_path=output_path)"
   ]
  },
  {
   "cell_type": "code",
   "execution_count": 101,
   "id": "ba193261",
   "metadata": {},
   "outputs": [],
   "source": [
    "yt = YouTubeVideo(sample_video)"
   ]
  },
  {
   "cell_type": "code",
   "execution_count": 102,
   "id": "fefdcb81",
   "metadata": {},
   "outputs": [],
   "source": [
    "yt.download_audio()"
   ]
  },
  {
   "cell_type": "code",
   "execution_count": 103,
   "id": "23057e04",
   "metadata": {},
   "outputs": [],
   "source": [
    "yt.download_video()"
   ]
  },
  {
   "cell_type": "markdown",
   "id": "4495aa62",
   "metadata": {},
   "source": [
    "# Translate"
   ]
  },
  {
   "cell_type": "markdown",
   "id": "0c8d96dd",
   "metadata": {},
   "source": [
    "We're gonna use [googletrans](https://github.com/ssut/py-googletrans/tree/main) and [DeepL](https://developers.deepl.com/). Maybe more stuff later."
   ]
  },
  {
   "cell_type": "markdown",
   "id": "c95e04f7",
   "metadata": {},
   "source": [
    "## Google Translate"
   ]
  },
  {
   "cell_type": "code",
   "execution_count": null,
   "id": "f8b97600",
   "metadata": {},
   "outputs": [],
   "source": [
    "!pip install googletrans "
   ]
  },
  {
   "cell_type": "code",
   "execution_count": 55,
   "id": "a1b654f6",
   "metadata": {},
   "outputs": [
    {
     "name": "stdout",
     "output_type": "stream",
     "text": [
      "Translated(src=en, dest=hy, text=պանիր, pronunciation=panir, extra_data=\"{'translat...\")\n"
     ]
    }
   ],
   "source": [
    "import googletrans\n",
    "from googletrans import Translator\n",
    "\n",
    "# https://github.com/ssut/py-googletrans/tree/main\n",
    "# https://stackoverflow.com/questions/55409641/asyncio-run-cannot-be-called-from-a-running-event-loop-when-using-jupyter-no\n",
    "\n",
    "async def translate_text(text):\n",
    "    async with Translator() as translator:\n",
    "        result = await translator.translate(text, dest='hy')\n",
    "        print(result)  # Translated(src=en, dest=hy, text=պանիր, pronunciation=panir, extra_data=\"{'translat...\")\n",
    "\n",
    "await translate_text(text=\"cheese\")"
   ]
  },
  {
   "cell_type": "markdown",
   "id": "0c8d4d3e",
   "metadata": {},
   "source": [
    "## DeepL"
   ]
  },
  {
   "cell_type": "markdown",
   "id": "10c19289",
   "metadata": {},
   "source": [
    "- `pip install deepl` \n",
    "- [Docs](https://developers.deepl.com/docs/getting-started/your-first-api-request)\n",
    "- [API keys](https://www.deepl.com/en/your-account/keys)"
   ]
  },
  {
   "cell_type": "code",
   "execution_count": null,
   "id": "c0d2ab09",
   "metadata": {},
   "outputs": [
    {
     "name": "stdout",
     "output_type": "stream",
     "text": [
      "\n",
      "SUCCESS: Specified value was saved.\n"
     ]
    }
   ],
   "source": [
    "SETX DEEPL_API_KEY some_string"
   ]
  },
  {
   "cell_type": "code",
   "execution_count": 1,
   "id": "d942594a",
   "metadata": {},
   "outputs": [
    {
     "name": "stdout",
     "output_type": "stream",
     "text": [
      "%DEEPL_API_KEY%\n"
     ]
    }
   ],
   "source": [
    "echo %DEEPL_API_KEY%"
   ]
  },
  {
   "cell_type": "code",
   "execution_count": 2,
   "id": "0f871247",
   "metadata": {},
   "outputs": [],
   "source": [
    "import os"
   ]
  },
  {
   "cell_type": "code",
   "execution_count": null,
   "id": "7f286d7e",
   "metadata": {},
   "outputs": [],
   "source": [
    "os.environ"
   ]
  },
  {
   "cell_type": "code",
   "execution_count": 9,
   "id": "24b8f083",
   "metadata": {},
   "outputs": [],
   "source": [
    "os.environ['DEEPL_API_KEY'] = \"38d0e2dc-e2ef-41f5-98e8-e22e4deb236b:fx\""
   ]
  },
  {
   "cell_type": "code",
   "execution_count": 14,
   "id": "31dcef8b",
   "metadata": {},
   "outputs": [],
   "source": [
    "import deepl\n",
    "\n",
    "auth_key = os.getenv('DEEPL_API_KEY')\n",
    "assert auth_key is not None, \"Please set the DEEPL_API_KEY environment variable.\"\n",
    "\n",
    "deepl_client = deepl.Translator(auth_key)\n",
    "\n"
   ]
  },
  {
   "cell_type": "code",
   "execution_count": null,
   "id": "f4adc295",
   "metadata": {},
   "outputs": [
    {
     "name": "stdout",
     "output_type": "stream",
     "text": [
      "Source languages:\n",
      "arabic (AR)\n",
      "Bulgarian (BG)\n",
      "Czech (CS)\n",
      "Danish (DA)\n",
      "German (DE)\n",
      "Greek (EL)\n",
      "English (EN)\n",
      "Spanish (ES)\n",
      "Estonian (ET)\n",
      "Finnish (FI)\n",
      "French (FR)\n",
      "Hungarian (HU)\n",
      "Indonesian (ID)\n",
      "Italian (IT)\n",
      "Japanese (JA)\n",
      "Korean (KO)\n",
      "Lithuanian (LT)\n",
      "Latvian (LV)\n",
      "Norwegian (NB)\n",
      "Dutch (NL)\n",
      "Polish (PL)\n",
      "Portuguese (PT)\n",
      "Romanian (RO)\n",
      "Russian (RU)\n",
      "Slovak (SK)\n",
      "Slovenian (SL)\n",
      "Swedish (SV)\n",
      "Turkish (TR)\n",
      "Ukrainian (UK)\n",
      "Chinese (ZH)\n",
      "Target languages:\n",
      "Arabic (AR)\n",
      "Bulgarian (BG)\n",
      "Czech (CS)\n",
      "Danish (DA)\n",
      "German (DE) supports formality\n",
      "Greek (EL)\n",
      "English (British) (EN-GB)\n",
      "English (American) (EN-US)\n",
      "Spanish (ES) supports formality\n",
      "Estonian (ET)\n",
      "Finnish (FI)\n",
      "French (FR) supports formality\n",
      "Hungarian (HU)\n",
      "Indonesian (ID)\n",
      "Italian (IT) supports formality\n",
      "Japanese (JA) supports formality\n",
      "Korean (KO)\n",
      "Lithuanian (LT)\n",
      "Latvian (LV)\n",
      "Norwegian (NB)\n",
      "Dutch (NL) supports formality\n",
      "Polish (PL) supports formality\n",
      "Portuguese (Brazilian) (PT-BR) supports formality\n",
      "Portuguese (European) (PT-PT) supports formality\n",
      "Romanian (RO)\n",
      "Russian (RU) supports formality\n",
      "Slovak (SK)\n",
      "Slovenian (SL)\n",
      "Swedish (SV)\n",
      "Turkish (TR)\n",
      "Ukrainian (UK)\n",
      "Chinese (simplified) (ZH)\n",
      "Chinese (simplified) (ZH-HANS)\n",
      "Chinese (traditional) (ZH-HANT)\n"
     ]
    }
   ],
   "source": [
    "print(\"Source languages:\")\n",
    "for language in deepl_client.get_source_languages():\n",
    "    print(f\"{language.name} ({language.code})\")  # Example: \"German (DE)\"\n",
    "\n",
    "print(\"Target languages:\")\n",
    "for language in deepl_client.get_target_languages():\n",
    "    if language.supports_formality:\n",
    "        print\n",
    "        \n",
    "        (f\"{language.name} ({language.code}) supports formality\")\n",
    "        # Example: \"Italian (IT) supports formality\"\n",
    "    else:\n",
    "        print(f\"{language.name} ({language.code})\")\n",
    "        # Example: \"Lithuanian (LT)\""
   ]
  },
  {
   "cell_type": "markdown",
   "id": "06f82a2f",
   "metadata": {},
   "source": [
    "վայ, հայերեն չկար :)"
   ]
  },
  {
   "cell_type": "code",
   "execution_count": null,
   "id": "dbbf1a78",
   "metadata": {},
   "outputs": [
    {
     "name": "stdout",
     "output_type": "stream",
     "text": [
      "I love you\n"
     ]
    }
   ],
   "source": [
    "result = deepl_client.translate_text(\"Ich liebe dich\", \n",
    "                                     target_lang=\"EN-US\")\n",
    "print(result.text) "
   ]
  },
  {
   "cell_type": "markdown",
   "id": "0cabbe1c",
   "metadata": {},
   "source": [
    "## Class"
   ]
  },
  {
   "cell_type": "code",
   "execution_count": 22,
   "id": "783916c7",
   "metadata": {},
   "outputs": [],
   "source": [
    "from abc import ABC, abstractmethod\n",
    "from typing import List"
   ]
  },
  {
   "cell_type": "code",
   "execution_count": 23,
   "id": "3cdc5d08",
   "metadata": {},
   "outputs": [],
   "source": [
    "class BaseTranslator(ABC):\n",
    "    @abstractmethod\n",
    "    def translate(self, text: str, target_language: str) -> str:\n",
    "        pass\n",
    "    \n",
    "    @abstractmethod\n",
    "    def detect_language(self, text: str) -> str:\n",
    "        pass\n",
    "    \n",
    "    @abstractmethod\n",
    "    def get_supported_languages(self) -> List[str]:\n",
    "        pass"
   ]
  },
  {
   "cell_type": "markdown",
   "id": "c2f9c37e",
   "metadata": {},
   "source": [
    "### Google Translate"
   ]
  },
  {
   "cell_type": "code",
   "execution_count": 154,
   "id": "90d42bec",
   "metadata": {},
   "outputs": [],
   "source": [
    "class GoogleTranslator(BaseTranslator):\n",
    "    \"\"\"Google Translate API implementation of BaseTranslator.\"\"\"\n",
    "    @staticmethod\n",
    "    async def translate(text, target_lang):\n",
    "        async with Translator() as translator:\n",
    "            result = await translator.translate(text, dest=target_lang)\n",
    "            return result.text        \n",
    "\n",
    "    def detect_language(self, text: str) -> str:\n",
    "        pass \n",
    "    \n",
    "    def get_supported_languages(self) -> List[str]:\n",
    "        return googletrans.LANGUAGES \n"
   ]
  },
  {
   "cell_type": "code",
   "execution_count": 155,
   "id": "99dcb212",
   "metadata": {},
   "outputs": [],
   "source": [
    "gt = GoogleTranslator()\n"
   ]
  },
  {
   "cell_type": "code",
   "execution_count": 156,
   "id": "c570f1a9",
   "metadata": {},
   "outputs": [],
   "source": [
    "# gt.get_supported_languages()"
   ]
  },
  {
   "cell_type": "code",
   "execution_count": 157,
   "id": "14208f15",
   "metadata": {},
   "outputs": [
    {
     "data": {
      "text/plain": [
       "'I love you'"
      ]
     },
     "execution_count": 157,
     "metadata": {},
     "output_type": "execute_result"
    }
   ],
   "source": [
    "gt = GoogleTranslator()\n",
    "\n",
    "# gt.translate(text=\"Ich liebe dich\", target=\"EN-US\")\n",
    "await gt.translate(text=\"Ich liebe dich\", target_lang=\"en\")"
   ]
  },
  {
   "cell_type": "markdown",
   "id": "f80b5267",
   "metadata": {},
   "source": [
    "### DeepL"
   ]
  },
  {
   "cell_type": "code",
   "execution_count": 158,
   "id": "85a6af72",
   "metadata": {},
   "outputs": [],
   "source": [
    "class DeepLTranslator(BaseTranslator):\n",
    "    def __init__(self, api_key) -> None:\n",
    "        try:\n",
    "            deepl_client = deepl.DeepLClient(api_key)\n",
    "        except:\n",
    "            raise ValueError(\"Invalid DeepL API key provided.\")\n",
    "        self._client = deepl_client\n",
    "\n",
    "        \n",
    "    def translate(self, text: str, target_lang: str) -> str:\n",
    "        result = self._client.translate_text(text, target_lang=target_lang)\n",
    "        return result.text  \n",
    "    \n",
    "    def detect_language(self, text: str) -> str:\n",
    "        pass \n",
    "    \n",
    "    def get_supported_languages(self) -> List[str]:\n",
    "        pass"
   ]
  },
  {
   "cell_type": "code",
   "execution_count": 159,
   "id": "a9d521e4",
   "metadata": {},
   "outputs": [],
   "source": [
    "dl = DeepLTranslator(api_key=os.getenv('DEEPL_API_KEY'))"
   ]
  },
  {
   "cell_type": "code",
   "execution_count": 160,
   "id": "b17e3324",
   "metadata": {},
   "outputs": [
    {
     "data": {
      "text/plain": [
       "'I love you'"
      ]
     },
     "execution_count": 160,
     "metadata": {},
     "output_type": "execute_result"
    }
   ],
   "source": [
    "dl.translate(text=\"Ich liebe dich\", target_lang=\"EN-US\")"
   ]
  },
  {
   "cell_type": "markdown",
   "id": "bdc9f3f7",
   "metadata": {},
   "source": [
    "# Putting everything together"
   ]
  },
  {
   "cell_type": "code",
   "execution_count": 184,
   "id": "7effe49e",
   "metadata": {},
   "outputs": [],
   "source": [
    "import json\n",
    "\n",
    "\n",
    "class Pipeline(YouTubeVideo):\n",
    "    def __init__(self, url: str, deepl_api_key: str):\n",
    "        YouTubeVideo.__init__(self, url)\n",
    "        self.dl_translator = DeepLTranslator(api_key=deepl_api_key)\n",
    "        self.google_translator = GoogleTranslator()\n",
    "        \n",
    "        self.result = None\n",
    "    \n",
    "    async def get_translated_transcript(self) -> str:\n",
    "        self.transcript = self.get_transcript()\n",
    "        \n",
    "        if not self.transcript:\n",
    "            raise ValueError(\"No transcript available for this video.\")\n",
    "        \n",
    "        text_google = await self.google_translator.translate(text=self.transcript, target_lang=\"en\")\n",
    "        text_deepl = self.dl_translator.translate(text=self.transcript, target_lang=\"EN-US\")\n",
    "\n",
    "        \n",
    "        self.result = {\n",
    "            \"original\": self.transcript,\n",
    "            \"google\": text_google,\n",
    "            \"deepl\": text_deepl\n",
    "        }\n",
    "        \n",
    "        return self.result\n",
    "    \n",
    "    def save_transcript_json(self, output_path: str = \"transcript.json\") -> None:\n",
    "        if self.result is None:\n",
    "            self.get_translated_transcript()\n",
    "        \n",
    "        with open(output_path, 'w', encoding='utf-8') as f:\n",
    "            json.dump(self.result, f, ensure_ascii=False, indent=4)"
   ]
  },
  {
   "cell_type": "code",
   "execution_count": 185,
   "id": "65ea0e92",
   "metadata": {},
   "outputs": [],
   "source": [
    "p = Pipeline(sample_video, deepl_api_key=os.getenv('DEEPL_API_KEY'))"
   ]
  },
  {
   "cell_type": "code",
   "execution_count": 186,
   "id": "a7f558fe",
   "metadata": {},
   "outputs": [],
   "source": [
    "res = await p.get_translated_transcript()"
   ]
  },
  {
   "cell_type": "code",
   "execution_count": 180,
   "id": "01a93a85",
   "metadata": {},
   "outputs": [
    {
     "name": "stdout",
     "output_type": "stream",
     "text": [
      "original: <class 'str'>\n",
      "google: <class 'str'>\n",
      "deepl: <class 'str'>\n"
     ]
    }
   ],
   "source": [
    "for k, v in res.items():\n",
    "    print(f\"{k}: {type(v)}\")"
   ]
  },
  {
   "cell_type": "code",
   "execution_count": 187,
   "id": "26acfd61",
   "metadata": {},
   "outputs": [],
   "source": [
    "p.save_transcript_json()"
   ]
  },
  {
   "cell_type": "markdown",
   "id": "15f769d7",
   "metadata": {},
   "source": [
    "# 🎲 18\n",
    "- ▶️[Video]()\n",
    "- ▶️[Video 🔥]()\n",
    "- 🇦🇲🎶[]()\n",
    "- 🌐🎶[]()\n",
    "- 🤌[Կարգին]()"
   ]
  },
  {
   "cell_type": "markdown",
   "id": "a2317885",
   "metadata": {},
   "source": [
    "\n",
    "<a href=\"http://s01.flagcounter.com/more/1oO\"><img src=\"https://s01.flagcounter.com/count2/1oO/bg_FFFFFF/txt_000000/border_CCCCCC/columns_2/maxflags_10/viewers_0/labels_0/pageviews_1/flags_0/percent_0/\" alt=\"Flag Counter\"></a>\n"
   ]
  }
 ],
 "metadata": {
  "kernelspec": {
   "display_name": "youtube",
   "language": "python",
   "name": "python3"
  },
  "language_info": {
   "codemirror_mode": {
    "name": "ipython",
    "version": 3
   },
   "file_extension": ".py",
   "mimetype": "text/x-python",
   "name": "python",
   "nbconvert_exporter": "python",
   "pygments_lexer": "ipython3",
   "version": "3.10.18"
  }
 },
 "nbformat": 4,
 "nbformat_minor": 5
}

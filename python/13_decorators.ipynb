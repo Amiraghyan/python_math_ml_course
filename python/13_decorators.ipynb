{
  "cells": [
    {
      "cell_type": "raw",
      "metadata": {
        "vscode": {
          "languageId": "raw"
        }
      },
      "source": [
        "---\n",
        "title: \"13 Decorators\"\n",
        "lightbox: true\n",
        "format: \n",
        "  html:\n",
        "    code-fold: false\n",
        "number-offset: 1\n",
        "---"
      ]
    },
    {
      "cell_type": "markdown",
      "metadata": {},
      "source": [
        "![image.png](../background_photos/py_13_two_puppies.jpg)\n",
        "Գորիս, [լուսանկարի հղումը](https://unsplash.com/photos/two-puppies-peep-out-from-a-wooden-structure-KF3ucSqbFy4), Հեղինակ՝ [Ani Adigyozalyan\n",
        "](https://unsplash.com/@aniadigyozalyan)"
      ]
    },
    {
      "cell_type": "markdown",
      "metadata": {},
      "source": [
        "<a href=\"ToDo\" target=\"_parent\"><img src=\"https://colab.research.google.com/assets/colab-badge.svg\" alt=\"Open In Colab\"/></a> (ToDo)"
      ]
    },
    {
      "cell_type": "markdown",
      "metadata": {},
      "source": [
        "Song reference - ToDo"
      ]
    },
    {
      "cell_type": "markdown",
      "metadata": {},
      "source": [
        "# 🎦 Տեսադասեր + լրացուցիչ (ToDo)\n",
        "\n",
        "ToDo\n",
        "1. [Տեսություն 2025](https://youtu.be/TIWU_bjFuUc) \\\n",
        "2. [Տեսություն 2023 (ToDo)]()  \\\n",
        "3. [Գործնական 2025](https://youtu.be/zf8xEfdLXRo) \\\n",
        "4. [Գործնական 2023 (ToDo)]()  \\\n",
        "5. [Որոշ տնայինների լուծումներ (ToDo)]()\n",
        "    \n",
        "Google Forms ToDo"
      ]
    },
    {
      "cell_type": "markdown",
      "metadata": {},
      "source": [
        "# 📚 Նյութը"
      ]
    },
    {
      "cell_type": "markdown",
      "metadata": {
        "id": "BxqdcTb2cDwH"
      },
      "source": [
        "**Ընտիր նյութեր**\n",
        "1. https://realpython.com/primer-on-python-decorators/\n",
        "2. https://www.youtube.com/watch?v=FsAPt_9Bf3U\n",
        "\n",
        "Դասի ընթացքում չենք ծածկում արգումենտ ընդունող դեկորատորների թեման, բայց եթե ուզենաք խորանալ՝\n",
        "1. https://realpython.com/primer-on-python-decorators/#decorators-with-arguments\n",
        "2. https://www.youtube.com/watch?v=KlBPCzcQNU8 \\"
      ]
    },
    {
      "cell_type": "code",
      "execution_count": 1,
      "metadata": {
        "id": "Ox1vLimKp9AD"
      },
      "outputs": [],
      "source": [
        "import os\n",
        "import time"
      ]
    },
    {
      "cell_type": "code",
      "execution_count": 2,
      "metadata": {
        "id": "ASgTdY8qqEiR"
      },
      "outputs": [],
      "source": [
        "def ampi_chap_mec_hashvark():\n",
        "    res = 509**509\n",
        "    print(res)"
      ]
    },
    {
      "cell_type": "code",
      "execution_count": 3,
      "metadata": {
        "colab": {
          "base_uri": "https://localhost:8080/"
        },
        "id": "BnOZfpswqSNq",
        "outputId": "378faa41-8349-45a2-dce0-c63ac2b6b39b"
      },
      "outputs": [
        {
          "name": "stdout",
          "output_type": "stream",
          "text": [
            "5240240380464278743038995935164729519022960120789397597473156060006733975688834520162022913119498661811536296970894660221944785532882379972180209351818755937686374464831076775129977591118874007277177769232701178035793622110468583105820995869317107888111030339094119730224614498238530470309345955209289046333268659754025697993820321327528576665084160745994968081952548351844292737367510053066902772974755906581497776725352811031547027961751700611549790988723017891603976699459934147329895538758733283682604326997041974565376219471378660212685343149692980644830533948774497337813380050282417785347438886005791032456579750811817794376292526954586878562941564778295439225606084209474874023753593163886560828535643729573265753937810724408756410646424766759354297244156679059800300042977659576867366022741421236217668170444937601286230431841851714743926805728553764281741069894949546084195770081067594880875519903226718645472813449139172639950182022438627082735260374229083680235941700684700688431686035673317719259864047774086086918489617688801234225254582058990118862064002327820251223938972603639481176531425559740319585419825981843376278277904788218475398662138678271677090801489578564194008987003188863738562864947909718108590545720841315647311798913504045448587075816910272902834164709150355355797010877441039812954215946958352860866270491057877162292684106820265944067453994989\n"
          ]
        }
      ],
      "source": [
        "ampi_chap_mec_hashvark()"
      ]
    },
    {
      "cell_type": "code",
      "execution_count": 4,
      "metadata": {
        "id": "tzsCpETRqT4t"
      },
      "outputs": [],
      "source": [
        "def urish_erkar_func():\n",
        "    print(\"zzzzzzzzz\")\n",
        "    time.sleep(1)"
      ]
    },
    {
      "cell_type": "code",
      "execution_count": 5,
      "metadata": {
        "colab": {
          "base_uri": "https://localhost:8080/"
        },
        "id": "In1gxRLjqw_p",
        "outputId": "6505f259-0aa9-4926-f691-5e28f3e88c32"
      },
      "outputs": [
        {
          "name": "stdout",
          "output_type": "stream",
          "text": [
            "zzzzzzzzz\n"
          ]
        }
      ],
      "source": [
        "urish_erkar_func()"
      ]
    },
    {
      "cell_type": "markdown",
      "metadata": {
        "id": "IpuiJtR5qz_W"
      },
      "source": [
        "Ինչ եթե հիմա ուզում ենք հիմա նենց անենք որ ֆունցկիացները նաև վերադարձնեն թե ինչքան ժամանակում են աշխատել"
      ]
    },
    {
      "cell_type": "code",
      "execution_count": 6,
      "metadata": {
        "id": "yID1k1p2qx9R"
      },
      "outputs": [],
      "source": [
        "def ampi_chap_mec_hashvark():\n",
        "    print(\"starting\")\n",
        "    st = time.perf_counter()\n",
        "\n",
        "    res = 509**509\n",
        "    print(res)\n",
        "\n",
        "    duration = time.perf_counter() - st\n",
        "    print(\"done\", duration)\n"
      ]
    },
    {
      "cell_type": "code",
      "execution_count": 7,
      "metadata": {
        "colab": {
          "base_uri": "https://localhost:8080/"
        },
        "id": "dTVR2C_yrLSc",
        "outputId": "a631af12-a5b6-404c-a0ae-c79e33d62072"
      },
      "outputs": [
        {
          "name": "stdout",
          "output_type": "stream",
          "text": [
            "starting\n",
            "5240240380464278743038995935164729519022960120789397597473156060006733975688834520162022913119498661811536296970894660221944785532882379972180209351818755937686374464831076775129977591118874007277177769232701178035793622110468583105820995869317107888111030339094119730224614498238530470309345955209289046333268659754025697993820321327528576665084160745994968081952548351844292737367510053066902772974755906581497776725352811031547027961751700611549790988723017891603976699459934147329895538758733283682604326997041974565376219471378660212685343149692980644830533948774497337813380050282417785347438886005791032456579750811817794376292526954586878562941564778295439225606084209474874023753593163886560828535643729573265753937810724408756410646424766759354297244156679059800300042977659576867366022741421236217668170444937601286230431841851714743926805728553764281741069894949546084195770081067594880875519903226718645472813449139172639950182022438627082735260374229083680235941700684700688431686035673317719259864047774086086918489617688801234225254582058990118862064002327820251223938972603639481176531425559740319585419825981843376278277904788218475398662138678271677090801489578564194008987003188863738562864947909718108590545720841315647311798913504045448587075816910272902834164709150355355797010877441039812954215946958352860866270491057877162292684106820265944067453994989\n",
            "done 5.000003147870302e-05\n"
          ]
        }
      ],
      "source": [
        "ampi_chap_mec_hashvark()"
      ]
    },
    {
      "cell_type": "code",
      "execution_count": null,
      "metadata": {},
      "outputs": [],
      "source": [
        "def urish_erkar_func():\n",
        "    print(\"starting\")\n",
        "    st = time.perf_counter()\n",
        "\n",
        "    print(\"zzzzzzzzzzzzz\")\n",
        "    time.sleep(1)\n",
        "\n",
        "    duration = time.perf_counter() - st\n",
        "    print(\"done\", duration)\n",
        "\n",
        "def ampi_chap_mec_hashvark():\n",
        "    print(\"starting\")\n",
        "    st = time.perf_counter()\n",
        "\n",
        "    res = 509**509\n",
        "    print(res)\n",
        "\n",
        "    duration = time.perf_counter() - st\n",
        "    print(\"done\", duration)\n",
        "\n"
      ]
    },
    {
      "cell_type": "code",
      "execution_count": null,
      "metadata": {
        "id": "W4HIX8AlrMnB"
      },
      "outputs": [],
      "source": [
        "def urish_erkar_func():\n",
        "    print(\"starting\")\n",
        "    st = time.perf_counter()\n",
        "\n",
        "    print(\"zzzzzzzzzzzzz\")\n",
        "    time.sleep(1)\n",
        "\n",
        "    duration = time.perf_counter() - st\n",
        "    print(\"done\", duration)\n",
        "    \n"
      ]
    },
    {
      "cell_type": "code",
      "execution_count": 13,
      "metadata": {
        "colab": {
          "base_uri": "https://localhost:8080/"
        },
        "id": "Lnt6uRqirVfX",
        "outputId": "dfc1c35e-d24f-4d34-ed37-fa4146a10da2"
      },
      "outputs": [
        {
          "name": "stdout",
          "output_type": "stream",
          "text": [
            "starting\n",
            "zzzzzzzzzzzzz\n",
            "done 1.0028494999860413\n"
          ]
        }
      ],
      "source": [
        "urish_erkar_func()"
      ]
    },
    {
      "cell_type": "markdown",
      "metadata": {
        "id": "HhSw0B86rZtp"
      },
      "source": [
        "Կրկնվող կոդը նշանա որ գուցե ինչ-որ լավ բան կա որ չենք օգտագործում մենք"
      ]
    },
    {
      "cell_type": "markdown",
      "metadata": {
        "id": "UYKp63-qrehP"
      },
      "source": [
        "Դիմավորեք ․․․․․․․․․․․․․ դեկորատորներ"
      ]
    },
    {
      "cell_type": "code",
      "execution_count": null,
      "metadata": {},
      "outputs": [],
      "source": [
        "def urish_erkar_func():\n",
        "    print(\"zzzzzzzzz\")\n",
        "    time.sleep(1)\n",
        "    \n",
        "def ampi_chap_mec_hashvark():\n",
        "    res = 509**509\n",
        "    print(res)"
      ]
    },
    {
      "cell_type": "code",
      "execution_count": null,
      "metadata": {
        "colab": {
          "base_uri": "https://localhost:8080/"
        },
        "id": "wOQWwFZruaOh",
        "outputId": "34938cab-5762-4dbd-d43c-97af05f93938"
      },
      "outputs": [
        {
          "name": "stdout",
          "output_type": "stream",
          "text": [
            "starting\n",
            "zzzzzzzzz\n",
            "done 1.0062951000290923\n"
          ]
        }
      ],
      "source": [
        "func = urish_erkar_func \n",
        "\n",
        "print(\"starting\")\n",
        "st = time.perf_counter()\n",
        "\n",
        "func()\n",
        "\n",
        "duration = time.perf_counter() - st\n",
        "print(\"done\", duration)"
      ]
    },
    {
      "cell_type": "code",
      "execution_count": null,
      "metadata": {},
      "outputs": [
        {
          "name": "stdout",
          "output_type": "stream",
          "text": [
            "<function ampi_chap_mec_hashvark at 0x000001305FB7CD30>\n"
          ]
        }
      ],
      "source": [
        "print(ampi_chap_mec_hashvark)\n",
        "print(func)"
      ]
    },
    {
      "cell_type": "code",
      "execution_count": null,
      "metadata": {
        "colab": {
          "base_uri": "https://localhost:8080/"
        },
        "id": "8kyu6dReubvX",
        "outputId": "bae03dd6-65ae-43b4-f1d3-a9666b2f6783"
      },
      "outputs": [],
      "source": [
        "func = ampi_chap_mec_hashvark\n",
        "\n",
        "def nor_func():\n",
        "    print(\"starting\")\n",
        "    st = time.perf_counter()\n",
        "\n",
        "    func()\n",
        "\n",
        "    duration = time.perf_counter() - st\n",
        "    print(\"done\", duration)\n"
      ]
    },
    {
      "cell_type": "markdown",
      "metadata": {},
      "source": [
        "## Հիշեցում - first class object"
      ]
    },
    {
      "cell_type": "markdown",
      "metadata": {},
      "source": [
        "ֆունցկաիները կոչվում են First-Class Objectներ, ինչը նշանակումա որ իրանց կարանք որպես արգումենտ տանք ուրիշ ֆունկցիաներին,\n",
        "ուրիշ ֆունկցիաները կարան վերադարձնեն ֆունկցիաներ, intի նման ասենք\n"
      ]
    },
    {
      "cell_type": "code",
      "execution_count": null,
      "metadata": {},
      "outputs": [
        {
          "name": "stdout",
          "output_type": "stream",
          "text": [
            "Բարև Հայկազավռ\n"
          ]
        }
      ],
      "source": [
        "def ispanakan(anun):\n",
        "    return f\"Բարև {anun}իտո\"\n",
        "\n",
        "def dinozavrakan(anun):\n",
        "    return f\"Բարև {anun}ազավռ\"\n",
        "\n",
        "def barevel(anun, specific_barev):\n",
        "    return specific_barev(anun)\n",
        "\n",
        "anun = 'Հայկ'\n",
        "print(barevel(anun, dinozavrakan))\n"
      ]
    },
    {
      "cell_type": "code",
      "execution_count": null,
      "metadata": {},
      "outputs": [],
      "source": [
        "def timer(func):\n",
        "    def stronger_func(a=3, b=4):\n",
        "        print(\"starting\")\n",
        "        st = time.perf_counter()\n",
        "        \n",
        "        func(a=3, b=4)\n",
        "        \n",
        "        \n",
        "        duration = time.perf_counter() - st\n",
        "        print(\"done\", duration)\n",
        "    \n",
        "    return stronger_func"
      ]
    },
    {
      "cell_type": "code",
      "execution_count": 32,
      "metadata": {},
      "outputs": [],
      "source": [
        "ampi_chap_mec_hashvark = timer(ampi_chap_mec_hashvark)"
      ]
    },
    {
      "cell_type": "code",
      "execution_count": 33,
      "metadata": {},
      "outputs": [
        {
          "name": "stdout",
          "output_type": "stream",
          "text": [
            "starting\n",
            "5240240380464278743038995935164729519022960120789397597473156060006733975688834520162022913119498661811536296970894660221944785532882379972180209351818755937686374464831076775129977591118874007277177769232701178035793622110468583105820995869317107888111030339094119730224614498238530470309345955209289046333268659754025697993820321327528576665084160745994968081952548351844292737367510053066902772974755906581497776725352811031547027961751700611549790988723017891603976699459934147329895538758733283682604326997041974565376219471378660212685343149692980644830533948774497337813380050282417785347438886005791032456579750811817794376292526954586878562941564778295439225606084209474874023753593163886560828535643729573265753937810724408756410646424766759354297244156679059800300042977659576867366022741421236217668170444937601286230431841851714743926805728553764281741069894949546084195770081067594880875519903226718645472813449139172639950182022438627082735260374229083680235941700684700688431686035673317719259864047774086086918489617688801234225254582058990118862064002327820251223938972603639481176531425559740319585419825981843376278277904788218475398662138678271677090801489578564194008987003188863738562864947909718108590545720841315647311798913504045448587075816910272902834164709150355355797010877441039812954215946958352860866270491057877162292684106820265944067453994989\n",
            "done 4.5199994929134846e-05\n"
          ]
        }
      ],
      "source": [
        "ampi_chap_mec_hashvark()"
      ]
    },
    {
      "cell_type": "code",
      "execution_count": 42,
      "metadata": {
        "id": "Bv_NuKF2T09F"
      },
      "outputs": [],
      "source": [
        "@timer\n",
        "def urish_erkar_func():\n",
        "    print(\"zzzzzzzzz\")\n",
        "    time.sleep(1)\n",
        "\n",
        "@timer\n",
        "def ampi_chap_mec_hashvark():\n",
        "    res = 509**509\n",
        "    print(res)"
      ]
    },
    {
      "cell_type": "code",
      "execution_count": null,
      "metadata": {},
      "outputs": [
        {
          "name": "stdout",
          "output_type": "stream",
          "text": [
            "starting\n",
            "5240240380464278743038995935164729519022960120789397597473156060006733975688834520162022913119498661811536296970894660221944785532882379972180209351818755937686374464831076775129977591118874007277177769232701178035793622110468583105820995869317107888111030339094119730224614498238530470309345955209289046333268659754025697993820321327528576665084160745994968081952548351844292737367510053066902772974755906581497776725352811031547027961751700611549790988723017891603976699459934147329895538758733283682604326997041974565376219471378660212685343149692980644830533948774497337813380050282417785347438886005791032456579750811817794376292526954586878562941564778295439225606084209474874023753593163886560828535643729573265753937810724408756410646424766759354297244156679059800300042977659576867366022741421236217668170444937601286230431841851714743926805728553764281741069894949546084195770081067594880875519903226718645472813449139172639950182022438627082735260374229083680235941700684700688431686035673317719259864047774086086918489617688801234225254582058990118862064002327820251223938972603639481176531425559740319585419825981843376278277904788218475398662138678271677090801489578564194008987003188863738562864947909718108590545720841315647311798913504045448587075816910272902834164709150355355797010877441039812954215946958352860866270491057877162292684106820265944067453994989\n",
            "done 5.640002200379968e-05\n"
          ]
        }
      ],
      "source": [
        "timer(ampi_chap_mec_hashvark)()"
      ]
    },
    {
      "cell_type": "code",
      "execution_count": null,
      "metadata": {},
      "outputs": [],
      "source": [
        "ampi_chap_mec_hashvark = timer(ampi_chap_mec_hashvark)"
      ]
    },
    {
      "cell_type": "code",
      "execution_count": 39,
      "metadata": {
        "colab": {
          "base_uri": "https://localhost:8080/"
        },
        "id": "M2zxI3usT0is",
        "outputId": "ed3b5fbe-76ea-47e7-e471-5f19342ea80d"
      },
      "outputs": [
        {
          "name": "stdout",
          "output_type": "stream",
          "text": [
            "5240240380464278743038995935164729519022960120789397597473156060006733975688834520162022913119498661811536296970894660221944785532882379972180209351818755937686374464831076775129977591118874007277177769232701178035793622110468583105820995869317107888111030339094119730224614498238530470309345955209289046333268659754025697993820321327528576665084160745994968081952548351844292737367510053066902772974755906581497776725352811031547027961751700611549790988723017891603976699459934147329895538758733283682604326997041974565376219471378660212685343149692980644830533948774497337813380050282417785347438886005791032456579750811817794376292526954586878562941564778295439225606084209474874023753593163886560828535643729573265753937810724408756410646424766759354297244156679059800300042977659576867366022741421236217668170444937601286230431841851714743926805728553764281741069894949546084195770081067594880875519903226718645472813449139172639950182022438627082735260374229083680235941700684700688431686035673317719259864047774086086918489617688801234225254582058990118862064002327820251223938972603639481176531425559740319585419825981843376278277904788218475398662138678271677090801489578564194008987003188863738562864947909718108590545720841315647311798913504045448587075816910272902834164709150355355797010877441039812954215946958352860866270491057877162292684106820265944067453994989\n"
          ]
        }
      ],
      "source": [
        "# urish_erkar_func()\n",
        "\n",
        "ampi_chap_mec_hashvark()"
      ]
    },
    {
      "cell_type": "code",
      "execution_count": null,
      "metadata": {
        "colab": {
          "base_uri": "https://localhost:8080/"
        },
        "id": "A7mTptvyvbhH",
        "outputId": "1da58bd1-cff9-4908-a53c-4612cecd6a1d"
      },
      "outputs": [
        {
          "name": "stdout",
          "output_type": "stream",
          "text": [
            "starting\n",
            "5240240380464278743038995935164729519022960120789397597473156060006733975688834520162022913119498661811536296970894660221944785532882379972180209351818755937686374464831076775129977591118874007277177769232701178035793622110468583105820995869317107888111030339094119730224614498238530470309345955209289046333268659754025697993820321327528576665084160745994968081952548351844292737367510053066902772974755906581497776725352811031547027961751700611549790988723017891603976699459934147329895538758733283682604326997041974565376219471378660212685343149692980644830533948774497337813380050282417785347438886005791032456579750811817794376292526954586878562941564778295439225606084209474874023753593163886560828535643729573265753937810724408756410646424766759354297244156679059800300042977659576867366022741421236217668170444937601286230431841851714743926805728553764281741069894949546084195770081067594880875519903226718645472813449139172639950182022438627082735260374229083680235941700684700688431686035673317719259864047774086086918489617688801234225254582058990118862064002327820251223938972603639481176531425559740319585419825981843376278277904788218475398662138678271677090801489578564194008987003188863738562864947909718108590545720841315647311798913504045448587075816910272902834164709150355355797010877441039812954215946958352860866270491057877162292684106820265944067453994989\n",
            "done 7.989000005181879e-05\n",
            "starting\n",
            "zzzzzzzzz\n",
            "done 1.0012614970000868\n"
          ]
        }
      ],
      "source": [
        "timer(ampi_chap_mec_hashvark)\n",
        "timer(urish_erkar_func)"
      ]
    },
    {
      "cell_type": "markdown",
      "metadata": {
        "id": "3wBJoVnMt13e"
      },
      "source": [
        "## արգումետներով ու վերադարձով ֆունկցիաներ "
      ]
    },
    {
      "cell_type": "code",
      "execution_count": 47,
      "metadata": {
        "id": "UDzoUFRrtr6i"
      },
      "outputs": [],
      "source": [
        "def divide(x, y):\n",
        "    return x / y\n",
        "\n",
        "def multiply(x, y):\n",
        "    return x * y"
      ]
    },
    {
      "cell_type": "code",
      "execution_count": 44,
      "metadata": {
        "colab": {
          "base_uri": "https://localhost:8080/"
        },
        "id": "mYD_4QzguBUJ",
        "outputId": "13bf909d-ebb4-41d9-fac4-5f1d527da8b0"
      },
      "outputs": [
        {
          "name": "stdout",
          "output_type": "stream",
          "text": [
            "3.142857142857143\n",
            "120.84450000000001\n"
          ]
        }
      ],
      "source": [
        "print(divide(22, 7))\n",
        "print(multiply(10.5, 11.509))\n"
      ]
    },
    {
      "cell_type": "code",
      "execution_count": 45,
      "metadata": {
        "id": "hUIz6QJLuP7S"
      },
      "outputs": [],
      "source": [
        "def divide(x, y):\n",
        "    return_value = x / y\n",
        "    \n",
        "    return round(return_value, 2)\n",
        "\n",
        "def multiply(x, y):\n",
        "    return_value = x * y\n",
        "    \n",
        "    return round(return_value, 2)"
      ]
    },
    {
      "cell_type": "code",
      "execution_count": 46,
      "metadata": {
        "colab": {
          "base_uri": "https://localhost:8080/"
        },
        "id": "DClHBloNuTrF",
        "outputId": "16e9e13d-e10c-42b3-f325-1fd79fae35fe"
      },
      "outputs": [
        {
          "name": "stdout",
          "output_type": "stream",
          "text": [
            "3.14\n",
            "120.84\n"
          ]
        }
      ],
      "source": [
        "print(divide(22, 7))\n",
        "print(multiply(10.5, 11.509))\n"
      ]
    },
    {
      "cell_type": "markdown",
      "metadata": {
        "id": "fIEDhr7auUaZ"
      },
      "source": [
        "եկեք բայց դեկորատորներով անենք"
      ]
    },
    {
      "cell_type": "code",
      "execution_count": 48,
      "metadata": {
        "id": "dMNGJeNauXgo"
      },
      "outputs": [],
      "source": [
        "def rounder(func):\n",
        "    def wrapper(x, y): # գրկող\n",
        "        res = func(x, y)\n",
        "        return round(res, 2)\n",
        "    return wrapper"
      ]
    },
    {
      "cell_type": "code",
      "execution_count": null,
      "metadata": {
        "id": "X9A-hDXFuwDL"
      },
      "outputs": [],
      "source": [
        "@rounder\n",
        "def divide(x, y):\n",
        "    return x / y\n",
        "\n",
        "@rounder\n",
        "def multiply(x, y):\n",
        "    return x * y"
      ]
    },
    {
      "cell_type": "code",
      "execution_count": null,
      "metadata": {
        "colab": {
          "base_uri": "https://localhost:8080/"
        },
        "id": "hMVQf20_u2k6",
        "outputId": "4a748e7d-739f-4896-fd87-73822e5f6c42"
      },
      "outputs": [
        {
          "name": "stdout",
          "output_type": "stream",
          "text": [
            "3.14\n",
            "120.84\n"
          ]
        }
      ],
      "source": [
        "print(divide(22, 7))\n",
        "print(multiply(10.5, 11.509))"
      ]
    },
    {
      "cell_type": "markdown",
      "metadata": {
        "id": "AgMRFsFxvMZ-"
      },
      "source": [
        "Կարանք նաև timer ավելացնենք"
      ]
    },
    {
      "cell_type": "code",
      "execution_count": 51,
      "metadata": {
        "id": "qiXLaCSNvOoH"
      },
      "outputs": [],
      "source": [
        "@timer\n",
        "@rounder\n",
        "def divide(x, y):\n",
        "    return x / y\n",
        "\n",
        "# new_func = timer(rounder(divide, 2))\n",
        "\n",
        "@timer\n",
        "@rounder\n",
        "def multiply(x, y):\n",
        "    return x * y"
      ]
    },
    {
      "cell_type": "code",
      "execution_count": 52,
      "metadata": {
        "colab": {
          "base_uri": "https://localhost:8080/",
          "height": 159
        },
        "id": "wQ4PbsNXvZAA",
        "outputId": "114d10b9-04ea-4cdd-9a00-2a637f3d08e4"
      },
      "outputs": [
        {
          "ename": "TypeError",
          "evalue": "timer.<locals>.stronger_func() takes 0 positional arguments but 2 were given",
          "output_type": "error",
          "traceback": [
            "\u001b[1;31m---------------------------------------------------------------------------\u001b[0m",
            "\u001b[1;31mTypeError\u001b[0m                                 Traceback (most recent call last)",
            "Input \u001b[1;32mIn [52]\u001b[0m, in \u001b[0;36m<cell line: 1>\u001b[1;34m()\u001b[0m\n\u001b[1;32m----> 1\u001b[0m \u001b[38;5;28mprint\u001b[39m(\u001b[43mdivide\u001b[49m\u001b[43m(\u001b[49m\u001b[38;5;241;43m22\u001b[39;49m\u001b[43m,\u001b[49m\u001b[43m \u001b[49m\u001b[38;5;241;43m7\u001b[39;49m\u001b[43m)\u001b[49m)\n\u001b[0;32m      2\u001b[0m \u001b[38;5;28mprint\u001b[39m(multiply(\u001b[38;5;241m10.5\u001b[39m, \u001b[38;5;241m11.509\u001b[39m))\n",
            "\u001b[1;31mTypeError\u001b[0m: timer.<locals>.stronger_func() takes 0 positional arguments but 2 were given"
          ]
        }
      ],
      "source": [
        "print(divide(22, 7))\n",
        "print(multiply(10.5, 11.509))\n"
      ]
    },
    {
      "cell_type": "code",
      "execution_count": 63,
      "metadata": {
        "id": "Ip0SPwJqvjz9"
      },
      "outputs": [],
      "source": [
        "def timer(func):\n",
        "    def nor_func(*args, **kwargs):\n",
        "        print(\"starting\")\n",
        "        st = time.perf_counter()\n",
        "        \n",
        "        res = func(*args, **kwargs)\n",
        "        duration = time.perf_counter() - st\n",
        "        \n",
        "        print(\"done\")\n",
        "        print(duration)\n",
        "        return res\n",
        "\n",
        "    return nor_func"
      ]
    },
    {
      "cell_type": "code",
      "execution_count": 64,
      "metadata": {
        "id": "g34oa800vtV8"
      },
      "outputs": [],
      "source": [
        "def rounder(func):\n",
        "    def wrapper(*args, **kwargs): # գրկող\n",
        "        res = func(*args, **kwargs)\n",
        "        return round(res, 2)\n",
        "    return wrapper"
      ]
    },
    {
      "cell_type": "code",
      "execution_count": null,
      "metadata": {
        "id": "lyiN5P6KwDoc"
      },
      "outputs": [],
      "source": [
        "@timer\n",
        "@rounder\n",
        "def divide(x, y):\n",
        "    return x / y\n",
        "\n",
        "@timer\n",
        "@rounder\n",
        "def multiply(x, y):\n",
        "    return x * y\n",
        "\n",
        "# timer(rounder(multiply))"
      ]
    },
    {
      "cell_type": "code",
      "execution_count": null,
      "metadata": {
        "colab": {
          "base_uri": "https://localhost:8080/"
        },
        "id": "qC2bfyncvmk2",
        "outputId": "34c71a32-f52d-434d-d430-e28d90dcaa75"
      },
      "outputs": [
        {
          "name": "stdout",
          "output_type": "stream",
          "text": [
            "starting\n",
            "done\n",
            "1.4099990949034691e-05\n",
            "3.14\n"
          ]
        }
      ],
      "source": [
        "print(divide(22, 7))"
      ]
    },
    {
      "cell_type": "code",
      "execution_count": null,
      "metadata": {},
      "outputs": [],
      "source": [
        "print(divide(22, 7))\n"
      ]
    },
    {
      "cell_type": "markdown",
      "metadata": {},
      "source": [
        "## Էլի օրինակներ"
      ]
    },
    {
      "cell_type": "markdown",
      "metadata": {},
      "source": [
        "### Երկու անգամ"
      ]
    },
    {
      "cell_type": "code",
      "execution_count": 68,
      "metadata": {
        "id": "mISuPYLiM6ug"
      },
      "outputs": [],
      "source": [
        "def erku_angam(func):\n",
        "    def nor_func(*args, **kwargs):\n",
        "        print(\"arajin angam\")\n",
        "        func(*args, **kwargs)\n",
        "        \n",
        "        print(\"erku angam\")\n",
        "        func(*args, **kwargs)\n",
        "    return nor_func\n"
      ]
    },
    {
      "cell_type": "code",
      "execution_count": 69,
      "metadata": {
        "colab": {
          "base_uri": "https://localhost:8080/"
        },
        "id": "SzavTqntNnTS",
        "outputId": "9f2cc484-dc87-494e-c6a0-b04ea7b2f545"
      },
      "outputs": [
        {
          "name": "stdout",
          "output_type": "stream",
          "text": [
            "arajin angam\n",
            "0.75\n",
            "erku angam\n",
            "0.75\n"
          ]
        }
      ],
      "source": [
        "@erku_angam\n",
        "def divide(x, y):\n",
        "    print(x / y)\n",
        "\n",
        "divide(3,4)\n"
      ]
    },
    {
      "cell_type": "markdown",
      "metadata": {
        "id": "4XUYxUXUZPPT"
      },
      "source": [
        "### ֆունկցիայի դանդաղացուցիչ"
      ]
    },
    {
      "cell_type": "code",
      "execution_count": 70,
      "metadata": {
        "id": "shhkf3TRZOgv"
      },
      "outputs": [],
      "source": [
        "def mi_vrazi(func):\n",
        "    def wrapper_func(*args, **kwargs):\n",
        "        time.sleep(1)\n",
        "        return func(*args, **kwargs)\n",
        "    return wrapper_func"
      ]
    },
    {
      "cell_type": "code",
      "execution_count": 71,
      "metadata": {
        "id": "_WKeBiXXZedH"
      },
      "outputs": [],
      "source": [
        "def scrape(url):\n",
        "    print(f\"քաշեցի {url}ի տվյալները\")"
      ]
    },
    {
      "cell_type": "code",
      "execution_count": 73,
      "metadata": {
        "colab": {
          "base_uri": "https://localhost:8080/"
        },
        "id": "_RcJsJEJZnJM",
        "outputId": "82c0510f-896c-4d29-cfce-bb7b5ba47ea9"
      },
      "outputs": [
        {
          "name": "stdout",
          "output_type": "stream",
          "text": [
            "քաշեցի https://www.instructables.com/Basic-Steps-of-How-to-Make-Cheese/ի տվյալները\n",
            "քաշեցի https://www.youtube.com/watch?v=8DYyjqpZRlQի տվյալները\n",
            "քաշեցի https://www.instructables.com/Basic-Steps-of-How-to-Make-Cheese/ի տվյալները\n",
            "քաշեցի https://www.youtube.com/watch?v=8DYyjqpZRlQի տվյալները\n",
            "քաշեցի https://www.instructables.com/Basic-Steps-of-How-to-Make-Cheese/ի տվյալները\n",
            "քաշեցի https://www.youtube.com/watch?v=8DYyjqpZRlQի տվյալները\n"
          ]
        }
      ],
      "source": [
        "urls = ['https://www.instructables.com/Basic-Steps-of-How-to-Make-Cheese/', 'https://www.youtube.com/watch?v=8DYyjqpZRlQ'] * 3\n",
        "\n",
        "for url in urls:\n",
        "    scrape(url)"
      ]
    },
    {
      "cell_type": "code",
      "execution_count": 74,
      "metadata": {
        "id": "7oLmdukoZ6i0"
      },
      "outputs": [],
      "source": [
        "@mi_vrazi\n",
        "def scrape(url):\n",
        "    print(f\"քաշեցի {url}ի տվյալները\")"
      ]
    },
    {
      "cell_type": "code",
      "execution_count": 75,
      "metadata": {
        "colab": {
          "base_uri": "https://localhost:8080/"
        },
        "id": "Eki1De_IaP9S",
        "outputId": "54e17de9-2eb3-41ff-b6b1-e7a321f87c01"
      },
      "outputs": [
        {
          "name": "stdout",
          "output_type": "stream",
          "text": [
            "քաշեցի https://www.instructables.com/Basic-Steps-of-How-to-Make-Cheese/ի տվյալները\n",
            "քաշեցի https://www.youtube.com/watch?v=8DYyjqpZRlQի տվյալները\n",
            "քաշեցի https://www.instructables.com/Basic-Steps-of-How-to-Make-Cheese/ի տվյալները\n",
            "քաշեցի https://www.youtube.com/watch?v=8DYyjqpZRlQի տվյալները\n",
            "քաշեցի https://www.instructables.com/Basic-Steps-of-How-to-Make-Cheese/ի տվյալները\n",
            "քաշեցի https://www.youtube.com/watch?v=8DYyjqpZRlQի տվյալները\n"
          ]
        }
      ],
      "source": [
        "urls = ['https://www.instructables.com/Basic-Steps-of-How-to-Make-Cheese/', 'https://www.youtube.com/watch?v=8DYyjqpZRlQ'] * 3\n",
        "\n",
        "for url in urls:\n",
        "    scrape(url)"
      ]
    },
    {
      "cell_type": "markdown",
      "metadata": {
        "id": "mXqPIX8IaZf1"
      },
      "source": [
        "### debuger"
      ]
    },
    {
      "cell_type": "code",
      "execution_count": 76,
      "metadata": {
        "id": "iLjg1Ykaaa4_"
      },
      "outputs": [],
      "source": [
        "from datetime import datetime\n",
        "\n",
        "def debug(func):\n",
        "    def wrapper(*args, **kwargs):\n",
        "        print(f\"մուտքում ստացել եմ {args} և {kwargs} արգումենտները\")\n",
        "        print(f\"Սկսելու ժամանակը {datetime.now().strftime('%H:%M:%S')}\")\n",
        "        st = time.perf_counter()\n",
        "        \n",
        "        res = func(*args, **kwargs)\n",
        "        \n",
        "        end = time.perf_counter()\n",
        "        print(f\"ծրագիրը աշխատեց {round(end-st, 2)} վարկյանում\")\n",
        "        print(f\"ծրագիրը վերադարձրեց՝ {res}\\n\")\n",
        "        return res\n",
        "    return wrapper\n",
        "\n",
        "\n"
      ]
    },
    {
      "cell_type": "code",
      "execution_count": 77,
      "metadata": {
        "id": "QwynLzs_bmOl"
      },
      "outputs": [],
      "source": [
        "@debug\n",
        "@mi_vrazi\n",
        "def scrape(url):\n",
        "    print(f\"քաշեցի {url}ի տվյալները\")"
      ]
    },
    {
      "cell_type": "code",
      "execution_count": 78,
      "metadata": {
        "colab": {
          "base_uri": "https://localhost:8080/"
        },
        "id": "pPucsZX1boiX",
        "outputId": "b70d9248-c29e-44fd-8894-00b280d89875"
      },
      "outputs": [
        {
          "name": "stdout",
          "output_type": "stream",
          "text": [
            "մուտքում ստացել եմ ('https://www.instructables.com/Basic-Steps-of-How-to-Make-Cheese/',) և {} արգումենտները\n",
            "Սկսելու ժամանակը 09:32:55\n",
            "քաշեցի https://www.instructables.com/Basic-Steps-of-How-to-Make-Cheese/ի տվյալները\n",
            "ծրագիրը աշխատեց 1.01 վարկյանում\n",
            "ծրագիրը վերադարձրեց՝ None\n",
            "\n",
            "մուտքում ստացել եմ ('https://www.youtube.com/watch?v=8DYyjqpZRlQ',) և {} արգումենտները\n",
            "Սկսելու ժամանակը 09:32:56\n",
            "քաշեցի https://www.youtube.com/watch?v=8DYyjqpZRlQի տվյալները\n",
            "ծրագիրը աշխատեց 1.0 վարկյանում\n",
            "ծրագիրը վերադարձրեց՝ None\n",
            "\n",
            "մուտքում ստացել եմ ('https://www.instructables.com/Basic-Steps-of-How-to-Make-Cheese/',) և {} արգումենտները\n",
            "Սկսելու ժամանակը 09:32:57\n",
            "քաշեցի https://www.instructables.com/Basic-Steps-of-How-to-Make-Cheese/ի տվյալները\n",
            "ծրագիրը աշխատեց 1.01 վարկյանում\n",
            "ծրագիրը վերադարձրեց՝ None\n",
            "\n",
            "մուտքում ստացել եմ ('https://www.youtube.com/watch?v=8DYyjqpZRlQ',) և {} արգումենտները\n",
            "Սկսելու ժամանակը 09:32:58\n",
            "քաշեցի https://www.youtube.com/watch?v=8DYyjqpZRlQի տվյալները\n",
            "ծրագիրը աշխատեց 1.02 վարկյանում\n",
            "ծրագիրը վերադարձրեց՝ None\n",
            "\n",
            "մուտքում ստացել եմ ('https://www.instructables.com/Basic-Steps-of-How-to-Make-Cheese/',) և {} արգումենտները\n",
            "Սկսելու ժամանակը 09:32:59\n",
            "քաշեցի https://www.instructables.com/Basic-Steps-of-How-to-Make-Cheese/ի տվյալները\n",
            "ծրագիրը աշխատեց 1.0 վարկյանում\n",
            "ծրագիրը վերադարձրեց՝ None\n",
            "\n",
            "մուտքում ստացել եմ ('https://www.youtube.com/watch?v=8DYyjqpZRlQ',) և {} արգումենտները\n",
            "Սկսելու ժամանակը 09:33:00\n",
            "քաշեցի https://www.youtube.com/watch?v=8DYyjqpZRlQի տվյալները\n",
            "ծրագիրը աշխատեց 1.01 վարկյանում\n",
            "ծրագիրը վերադարձրեց՝ None\n",
            "\n"
          ]
        }
      ],
      "source": [
        "urls = ['https://www.instructables.com/Basic-Steps-of-How-to-Make-Cheese/', 'https://www.youtube.com/watch?v=8DYyjqpZRlQ'] * 3\n",
        "\n",
        "for url in urls:\n",
        "    scrape(url)"
      ]
    },
    {
      "cell_type": "markdown",
      "metadata": {
        "id": "bJGFtA5XyJuf"
      },
      "source": [
        "## Functools example"
      ]
    },
    {
      "cell_type": "code",
      "execution_count": 79,
      "metadata": {
        "id": "NEWwC76uyLbK"
      },
      "outputs": [],
      "source": [
        "from functools import lru_cache # Least Recently Used\n",
        "\n",
        "def gcd(a, b): # greatest common divisor\n",
        "    time.sleep(1)\n",
        "    \n",
        "    while b != 0: # էվկիդլեսի ալգորիթմ\n",
        "        a, b = b, a % b\n",
        "    return a\n",
        "\n"
      ]
    },
    {
      "cell_type": "code",
      "execution_count": 80,
      "metadata": {},
      "outputs": [
        {
          "name": "stdout",
          "output_type": "stream",
          "text": [
            "5\n"
          ]
        }
      ],
      "source": [
        "print(gcd(10, 15))"
      ]
    },
    {
      "cell_type": "code",
      "execution_count": 82,
      "metadata": {
        "colab": {
          "base_uri": "https://localhost:8080/"
        },
        "id": "rTNtyDaVyOjU",
        "outputId": "3e2f5e37-4aa0-49d6-e1a1-893151eb2767"
      },
      "outputs": [
        {
          "name": "stdout",
          "output_type": "stream",
          "text": [
            "1\n",
            "CPU times: total: 0 ns\n",
            "Wall time: 1 s\n"
          ]
        }
      ],
      "source": [
        "%%time\n",
        "print(gcd(11_509_000_000, 11_509_000_0001))"
      ]
    },
    {
      "cell_type": "code",
      "execution_count": 83,
      "metadata": {
        "id": "L5sYObQHyRx6"
      },
      "outputs": [],
      "source": [
        "from functools import lru_cache\n",
        "\n",
        "@lru_cache\n",
        "def gcd(a, b):\n",
        "    time.sleep(1)\n",
        "    while b != 0:\n",
        "        a, b = b, a % b\n",
        "    return a\n",
        "\n"
      ]
    },
    {
      "cell_type": "code",
      "execution_count": 84,
      "metadata": {
        "colab": {
          "base_uri": "https://localhost:8080/"
        },
        "id": "Oqb9lQOD0yh_",
        "outputId": "19252ec9-7d68-4051-9453-dfe6ee9f2a10"
      },
      "outputs": [
        {
          "name": "stdout",
          "output_type": "stream",
          "text": [
            "1\n",
            "CPU times: total: 0 ns\n",
            "Wall time: 1.01 s\n"
          ]
        }
      ],
      "source": [
        "%%time\n",
        "print(gcd(11_509_000_000, 11_509_000_0001))"
      ]
    },
    {
      "cell_type": "code",
      "execution_count": 88,
      "metadata": {
        "colab": {
          "base_uri": "https://localhost:8080/"
        },
        "id": "ZORMWYf90z5W",
        "outputId": "e1152d1b-56de-42df-d660-e789763b76b8"
      },
      "outputs": [
        {
          "name": "stdout",
          "output_type": "stream",
          "text": [
            "1\n",
            "CPU times: total: 0 ns\n",
            "Wall time: 1.51 ms\n"
          ]
        }
      ],
      "source": [
        "%%time\n",
        "print(gcd(11_509_000_000, 11_509_000_0001))"
      ]
    },
    {
      "cell_type": "code",
      "execution_count": 91,
      "metadata": {},
      "outputs": [
        {
          "name": "stdout",
          "output_type": "stream",
          "text": [
            "1\n",
            "CPU times: total: 0 ns\n",
            "Wall time: 0 ns\n"
          ]
        }
      ],
      "source": [
        "%%time\n",
        "print(gcd(11_509_000_001, 11_509_000_002))"
      ]
    },
    {
      "cell_type": "markdown",
      "metadata": {},
      "source": [
        "### Հետագայում կօգտագործենք՝"
      ]
    },
    {
      "cell_type": "code",
      "execution_count": null,
      "metadata": {
        "id": "qXnVUfBqP8iD"
      },
      "outputs": [],
      "source": [
        "from abc import abstractmethod\n",
        "\n",
        "class A:\n",
        "    @abstractmethod\n",
        "    def method(a)\n",
        "    \n",
        "    @staticmethod\n",
        "    def method(a)\n"
      ]
    },
    {
      "cell_type": "markdown",
      "metadata": {},
      "source": [
        "## Արգումենտ ընդունող դեկորատորներ\n",
        "\n",
        "1. https://realpython.com/primer-on-python-decorators/#decorators-with-arguments\n",
        "2. https://www.youtube.com/watch?v=KlBPCzcQNU8 \\"
      ]
    },
    {
      "cell_type": "code",
      "execution_count": null,
      "metadata": {},
      "outputs": [],
      "source": [
        "@rounder(4) \n",
        "def divide()\n",
        "\n",
        "@rounder(2)"
      ]
    },
    {
      "cell_type": "markdown",
      "metadata": {},
      "source": [
        "# 🏡Տնային\n",
        "- lru_cache - ձեռքով գրել\n",
        "- դեկորատոր սարքել որ ֆունկցիաների մուտքերը կվերցնի ու կստուգի որ int/float լինեն ու ոչ բացասական, եթե տենց չի՝ exception-ներ raise կանի"
      ]
    },
    {
      "cell_type": "markdown",
      "metadata": {},
      "source": [
        "# 🎲 13\n",
        "- ▶️[Slidebean](https://www.youtube.com/watch?v=wb5vXHiDJD4)\n",
        "- ▶️[Video 🔥](https://www.youtube.com/watch?v=InXHfhJlukg)\n",
        "- 🇦🇲🎶[Symbiozzz (Գալտակյան)](https://www.youtube.com/watch?v=_u9CcyRWh1s)\n",
        "- 🌐🎶[AnnenMayKantereit](https://www.youtube.com/watch?v=tERRFWuYG48)\n",
        "- 🤌[Կարգին](https://www.youtube.com/watch?v=TXdTwYXESE8)"
      ]
    },
    {
      "cell_type": "markdown",
      "metadata": {},
      "source": [
        "\n",
        "<a href=\"http://s01.flagcounter.com/more/1oO\"><img src=\"https://s01.flagcounter.com/count2/1oO/bg_FFFFFF/txt_000000/border_CCCCCC/columns_2/maxflags_10/viewers_0/labels_0/pageviews_1/flags_0/percent_0/\" alt=\"Flag Counter\"></a>\n"
      ]
    }
  ],
  "metadata": {
    "colab": {
      "provenance": []
    },
    "kernelspec": {
      "display_name": "thesis",
      "language": "python",
      "name": "python3"
    },
    "language_info": {
      "codemirror_mode": {
        "name": "ipython",
        "version": 3
      },
      "file_extension": ".py",
      "mimetype": "text/x-python",
      "name": "python",
      "nbconvert_exporter": "python",
      "pygments_lexer": "ipython3",
      "version": "3.10.18"
    }
  },
  "nbformat": 4,
  "nbformat_minor": 0
}

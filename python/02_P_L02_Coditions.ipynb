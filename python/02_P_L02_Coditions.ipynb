{
  "nbformat": 4,
  "nbformat_minor": 0,
  "metadata": {
    "colab": {
      "provenance": [],
      "include_colab_link": true
    },
    "kernelspec": {
      "name": "python3",
      "display_name": "Python 3"
    },
    "language_info": {
      "name": "python"
    }
  },
  "cells": [
    {
      "cell_type": "markdown",
      "metadata": {
        "id": "view-in-github",
        "colab_type": "text"
      },
      "source": [
        "<a href=\"https://colab.research.google.com/github/HaykTarkhanyan/python_math_ml_course/blob/main/Python_%7C_%D5%8F2_%7C_Conditions_%D5%8A%D5%A1%D5%B5%D5%B4%D5%A1%D5%B6%D5%B6%D5%A5%D6%80.ipynb\" target=\"_parent\"><img src=\"https://colab.research.google.com/assets/colab-badge.svg\" alt=\"Open In Colab\"/></a>"
      ]
    },
    {
      "cell_type": "markdown",
      "source": [
        "Ախ `if` տեսնեմ_օրերից_մի_օր: \\\n",
        "(c) [ժողովուրդ](https://www.youtube.com/watch?v=0UOa7qtqkIw)\n",
        "\n",
        "`if` \\\n",
        "(c) [Pink Floyd](https://www.youtube.com/watch?v=e2G8EWy-plM)"
      ],
      "metadata": {
        "id": "PImDgHGAUi87"
      }
    },
    {
      "cell_type": "markdown",
      "source": [
        "# Bool տվյալների տեսակ"
      ],
      "metadata": {
        "id": "tBq3Jq7zlHPt"
      }
    },
    {
      "cell_type": "code",
      "source": [
        "a = True\n",
        "b = False\n",
        "\n",
        "print(type(a))\n",
        "print(a)\n",
        "print(b)"
      ],
      "metadata": {
        "colab": {
          "base_uri": "https://localhost:8080/"
        },
        "id": "ygiV7lD6lNxe",
        "outputId": "3edb59f3-7c51-4067-a0df-83a83399dd45"
      },
      "execution_count": null,
      "outputs": [
        {
          "output_type": "stream",
          "name": "stdout",
          "text": [
            "<class 'bool'>\n",
            "True\n",
            "False\n"
          ]
        }
      ]
    },
    {
      "cell_type": "markdown",
      "source": [
        "## համեմատության գործողություններ"
      ],
      "metadata": {
        "id": "EVeP4Y9ImFqA"
      }
    },
    {
      "cell_type": "markdown",
      "source": [
        "| Օպերատոր      | նկարագիր |\n",
        "| ----------- | ----------- |\n",
        "| ==          | True, եթե հավասար են       |\n",
        "| !=   | True, եթե հավասար չեն        |\n",
        "| <   |  True, եթե ավելի փոքրա առաջինը երկորդից  |\n",
        "| >   |  True, եթե ավելի մեծա առաջինը երկորդից  |\n",
        "|<=    |  True, եթե առաջինը ավելի փոքրա կամ հավասար  երկորդից  |\n",
        "|>=    |  True, եթե առաջինը ավելի մեծա կամ հավասար  երկորդից  |\n",
        "|is    |  True, եթե նույն օբյեկտ են (հեսա կբացատրեմ :) )|\n",
        "  \n",
        "**Հակառակ դեպքում**՝ False\n"
      ],
      "metadata": {
        "id": "VpD5O04KmjhW"
      }
    },
    {
      "cell_type": "code",
      "source": [
        "a = 11\n",
        "b = 509"
      ],
      "metadata": {
        "id": "eXUb0tJslktO"
      },
      "execution_count": null,
      "outputs": []
    },
    {
      "cell_type": "code",
      "source": [
        "print(a, \"==\", b, a==b)\n",
        "print(a, \"!=\", b, a != b)"
      ],
      "metadata": {
        "colab": {
          "base_uri": "https://localhost:8080/"
        },
        "id": "3YkZfMqrn8jY",
        "outputId": "c4cf7b1c-1ca7-4111-b571-0f03cb4fe663"
      },
      "execution_count": null,
      "outputs": [
        {
          "output_type": "stream",
          "name": "stdout",
          "text": [
            "11 == 509 False\n",
            "11 != 509 True\n"
          ]
        }
      ]
    },
    {
      "cell_type": "code",
      "source": [
        "print(a, \">\", b, a>b)\n",
        "print(a, \"<\", b, a<b)"
      ],
      "metadata": {
        "colab": {
          "base_uri": "https://localhost:8080/"
        },
        "id": "lCPBZDFWn-oP",
        "outputId": "d3df908d-a25d-47b5-922d-4a1a849d5aea"
      },
      "execution_count": null,
      "outputs": [
        {
          "output_type": "stream",
          "name": "stdout",
          "text": [
            "11 > 509 False\n",
            "11 < 509 True\n"
          ]
        }
      ]
    },
    {
      "cell_type": "code",
      "source": [
        "print(a, \">=\", b, a >= b )\n",
        "print(a, \"<=\", b, a<=b)"
      ],
      "metadata": {
        "colab": {
          "base_uri": "https://localhost:8080/"
        },
        "id": "Skd88PKyoaxe",
        "outputId": "e92fea2f-296a-4e6f-c11e-33373407f5dd"
      },
      "execution_count": null,
      "outputs": [
        {
          "output_type": "stream",
          "name": "stdout",
          "text": [
            "11 >= 509 False\n",
            "11 <= 509 True\n"
          ]
        }
      ]
    },
    {
      "cell_type": "code",
      "source": [
        "print(a, 'is', b, a is b)"
      ],
      "metadata": {
        "colab": {
          "base_uri": "https://localhost:8080/"
        },
        "id": "L9QOP5qyof3i",
        "outputId": "9ff849f7-1bef-4c42-81bd-0fd9b0076cfc"
      },
      "execution_count": null,
      "outputs": [
        {
          "output_type": "stream",
          "name": "stdout",
          "text": [
            "11 is 509 False\n"
          ]
        }
      ]
    },
    {
      "cell_type": "markdown",
      "source": [
        "### is-ը մանրամասն"
      ],
      "metadata": {
        "id": "lxlXHqGJpl5B"
      }
    },
    {
      "cell_type": "code",
      "source": [
        "c = 465\n",
        "d = 465\n",
        "\n",
        "print(c, '==', d, c == d)\n",
        "print(c, 'is', d, c is d)"
      ],
      "metadata": {
        "colab": {
          "base_uri": "https://localhost:8080/"
        },
        "id": "QSU3uW2yojgP",
        "outputId": "787dfe81-01d7-4b8c-c630-8ecff526702c"
      },
      "execution_count": null,
      "outputs": [
        {
          "output_type": "stream",
          "name": "stdout",
          "text": [
            "465 == 465 True\n",
            "465 is 465 False\n"
          ]
        }
      ]
    },
    {
      "cell_type": "code",
      "source": [
        "e = c\n",
        "print(e, 'is', c, e is c)"
      ],
      "metadata": {
        "colab": {
          "base_uri": "https://localhost:8080/"
        },
        "id": "gNCqBGlRqveZ",
        "outputId": "b1cee367-2be2-43a3-b0d2-1bae1d6826d1"
      },
      "execution_count": null,
      "outputs": [
        {
          "output_type": "stream",
          "name": "stdout",
          "text": [
            "465 is 465 True\n"
          ]
        }
      ]
    },
    {
      "cell_type": "code",
      "source": [
        "print(id(c))\n",
        "print(id(d))\n",
        "print(id(e))"
      ],
      "metadata": {
        "colab": {
          "base_uri": "https://localhost:8080/"
        },
        "id": "eqLa2Vd8ooyj",
        "outputId": "76e0c5a6-1472-4437-ea11-61b4f6fb7027"
      },
      "execution_count": null,
      "outputs": [
        {
          "output_type": "stream",
          "name": "stdout",
          "text": [
            "140465260069104\n",
            "140465260070864\n",
            "140465260069104\n"
          ]
        }
      ]
    },
    {
      "cell_type": "code",
      "source": [
        "print(c is d)\n",
        "# ն նույննա ինչ\n",
        "print(id(c) == id(d))"
      ],
      "metadata": {
        "colab": {
          "base_uri": "https://localhost:8080/"
        },
        "id": "SHr0sNu-pROp",
        "outputId": "8792918e-2afd-4a00-8f84-8909e3f7d4db"
      },
      "execution_count": null,
      "outputs": [
        {
          "output_type": "stream",
          "name": "stdout",
          "text": [
            "False\n",
            "False\n"
          ]
        }
      ]
    },
    {
      "cell_type": "markdown",
      "source": [
        "## Բուլյան տրամաբանություն\n",
        "and, or, not"
      ],
      "metadata": {
        "id": "ij42lmydrN8O"
      }
    },
    {
      "cell_type": "code",
      "source": [
        "# and\n",
        "print(True and True) # True and True and True\n",
        "print(True and False)\n",
        "print(False and False)"
      ],
      "metadata": {
        "colab": {
          "base_uri": "https://localhost:8080/"
        },
        "id": "uOA_2K1trRQr",
        "outputId": "52b3029b-8178-4a9f-f47c-109642d51b93"
      },
      "execution_count": null,
      "outputs": [
        {
          "output_type": "stream",
          "name": "stdout",
          "text": [
            "True\n",
            "False\n",
            "False\n"
          ]
        }
      ]
    },
    {
      "cell_type": "code",
      "source": [
        "# or\n",
        "print(True or True)\n",
        "print(True or False)\n",
        "print(False or False)"
      ],
      "metadata": {
        "colab": {
          "base_uri": "https://localhost:8080/"
        },
        "id": "WfQXXzeMrdKR",
        "outputId": "8b10ee7f-e394-4061-d2f7-254e573b7b19"
      },
      "execution_count": null,
      "outputs": [
        {
          "output_type": "stream",
          "name": "stdout",
          "text": [
            "True\n",
            "True\n",
            "False\n"
          ]
        }
      ]
    },
    {
      "cell_type": "code",
      "source": [
        "# not\n",
        "print(not True)\n",
        "print(not False)"
      ],
      "metadata": {
        "colab": {
          "base_uri": "https://localhost:8080/"
        },
        "id": "BsRvicwHrrN5",
        "outputId": "3a6eed31-ebcc-4580-9327-09ff56207e28"
      },
      "execution_count": null,
      "outputs": [
        {
          "output_type": "stream",
          "name": "stdout",
          "text": [
            "False\n",
            "True\n"
          ]
        }
      ]
    },
    {
      "cell_type": "markdown",
      "source": [
        "## Փոխանցականություն (transitivity)"
      ],
      "metadata": {
        "id": "ejbekFpTqQcj"
      }
    },
    {
      "cell_type": "code",
      "source": [
        "a = 11\n",
        "\n",
        "print(a > 10)\n",
        "print(a < 20)\n",
        "\n",
        "print(10 < a and a < 20)\n",
        "\n",
        "print(10 < a < 20) # 10 < a and a < 20"
      ],
      "metadata": {
        "colab": {
          "base_uri": "https://localhost:8080/"
        },
        "id": "gq6d1WV9p5JG",
        "outputId": "e36f3cca-e612-4242-b33f-dcaa24f3c1bd"
      },
      "execution_count": null,
      "outputs": [
        {
          "output_type": "stream",
          "name": "stdout",
          "text": [
            "True\n",
            "True\n",
            "True\n",
            "True\n"
          ]
        }
      ]
    },
    {
      "cell_type": "code",
      "source": [
        "print(10 < a < 20)"
      ],
      "metadata": {
        "colab": {
          "base_uri": "https://localhost:8080/"
        },
        "id": "dTS7KRf9qYXS",
        "outputId": "cacaede5-b71d-48f3-ec09-3ad43530eb37"
      },
      "execution_count": null,
      "outputs": [
        {
          "output_type": "stream",
          "name": "stdout",
          "text": [
            "True\n"
          ]
        }
      ]
    },
    {
      "cell_type": "code",
      "source": [
        "a = 11\n",
        "print(10 == a < 11) # 10 == a and a < 11\n",
        "# ի՞նչ կտա"
      ],
      "metadata": {
        "colab": {
          "base_uri": "https://localhost:8080/"
        },
        "id": "JcHROGhNqcCk",
        "outputId": "4994f9d1-9a0f-455a-e292-f706275254c3"
      },
      "execution_count": null,
      "outputs": [
        {
          "output_type": "stream",
          "name": "stdout",
          "text": [
            "False\n"
          ]
        }
      ]
    },
    {
      "cell_type": "markdown",
      "source": [
        "### Վարժություններ"
      ],
      "metadata": {
        "id": "jg5fEIIusVLG"
      }
    },
    {
      "cell_type": "code",
      "source": [
        "print(not 5 != 3)"
      ],
      "metadata": {
        "id": "v0YKDQaXr-A9"
      },
      "execution_count": null,
      "outputs": []
    },
    {
      "cell_type": "code",
      "source": [
        "print((not 4 == 4) or (4 < 6))"
      ],
      "metadata": {
        "id": "_TvDiEc9sCQH"
      },
      "execution_count": null,
      "outputs": []
    },
    {
      "cell_type": "code",
      "source": [
        "print((5 < 5 and 5 > 3) or 4 > 4)"
      ],
      "metadata": {
        "id": "eoLz4V-ksJBX"
      },
      "execution_count": null,
      "outputs": []
    },
    {
      "cell_type": "code",
      "source": [
        "The name “Boolean” comes from the mathematician George Boole;"
      ],
      "metadata": {
        "id": "aao4W5fKIBmM"
      },
      "execution_count": null,
      "outputs": []
    },
    {
      "cell_type": "markdown",
      "source": [
        "## Բուլյանները ինչպես 1, 0"
      ],
      "metadata": {
        "id": "8IanLpDPtamz"
      }
    },
    {
      "cell_type": "code",
      "source": [
        "print(True == 2)\n",
        "print(False == 0)"
      ],
      "metadata": {
        "colab": {
          "base_uri": "https://localhost:8080/"
        },
        "id": "qW-wwXHWthBB",
        "outputId": "42452935-20e4-4d9f-dedf-16c7a6186549"
      },
      "execution_count": null,
      "outputs": [
        {
          "output_type": "stream",
          "name": "stdout",
          "text": [
            "False\n",
            "True\n"
          ]
        }
      ]
    },
    {
      "cell_type": "code",
      "source": [
        "print(True - True)"
      ],
      "metadata": {
        "colab": {
          "base_uri": "https://localhost:8080/"
        },
        "id": "9V1h-kDwtiHk",
        "outputId": "f1cc3e54-6491-435e-a610-c05d7ad205b8"
      },
      "execution_count": null,
      "outputs": [
        {
          "output_type": "stream",
          "name": "stdout",
          "text": [
            "0\n"
          ]
        }
      ]
    },
    {
      "cell_type": "code",
      "source": [
        "print(True / False)"
      ],
      "metadata": {
        "colab": {
          "base_uri": "https://localhost:8080/",
          "height": 141
        },
        "id": "6b-6Dfcztt-L",
        "outputId": "801237ce-a95e-4755-cf82-18ae4c28ef8f"
      },
      "execution_count": null,
      "outputs": [
        {
          "output_type": "error",
          "ename": "ZeroDivisionError",
          "evalue": "division by zero",
          "traceback": [
            "\u001b[0;31m---------------------------------------------------------------------------\u001b[0m",
            "\u001b[0;31mZeroDivisionError\u001b[0m                         Traceback (most recent call last)",
            "\u001b[0;32m<ipython-input-13-89a2cd47f04e>\u001b[0m in \u001b[0;36m<cell line: 1>\u001b[0;34m()\u001b[0m\n\u001b[0;32m----> 1\u001b[0;31m \u001b[0mprint\u001b[0m\u001b[0;34m(\u001b[0m\u001b[0;32mTrue\u001b[0m \u001b[0;34m/\u001b[0m \u001b[0;32mFalse\u001b[0m\u001b[0;34m)\u001b[0m\u001b[0;34m\u001b[0m\u001b[0;34m\u001b[0m\u001b[0m\n\u001b[0m",
            "\u001b[0;31mZeroDivisionError\u001b[0m: division by zero"
          ]
        }
      ]
    },
    {
      "cell_type": "markdown",
      "source": [
        "## Այլ"
      ],
      "metadata": {
        "id": "er2ffI8JuIGi"
      }
    },
    {
      "cell_type": "markdown",
      "source": [
        "1. == եթե համեմատում ենք,\n",
        "2. = եթե վերագրում ենք անում"
      ],
      "metadata": {
        "id": "p1Nuij8Nuge0"
      }
    },
    {
      "cell_type": "markdown",
      "source": [
        "False են False ից ու 0 ից բացի նաև՝"
      ],
      "metadata": {
        "id": "YXItx1PEuh8X"
      }
    },
    {
      "cell_type": "code",
      "source": [
        "print(int(3.14))\n",
        "print(bool(3.14))"
      ],
      "metadata": {
        "id": "PNTbo_iRIVpS",
        "outputId": "a156a7cc-3389-41bc-bddb-ab5515aae192",
        "colab": {
          "base_uri": "https://localhost:8080/"
        }
      },
      "execution_count": null,
      "outputs": [
        {
          "output_type": "stream",
          "name": "stdout",
          "text": [
            "3\n",
            "True\n"
          ]
        }
      ]
    },
    {
      "cell_type": "code",
      "source": [
        "bool(0)"
      ],
      "metadata": {
        "colab": {
          "base_uri": "https://localhost:8080/"
        },
        "id": "5ipS9C8uuJ1x",
        "outputId": "7840d964-953e-459d-9ebe-2f59184be1a9"
      },
      "execution_count": null,
      "outputs": [
        {
          "output_type": "execute_result",
          "data": {
            "text/plain": [
              "False"
            ]
          },
          "metadata": {},
          "execution_count": 22
        }
      ]
    },
    {
      "cell_type": "code",
      "source": [
        "bool(0.0)"
      ],
      "metadata": {
        "colab": {
          "base_uri": "https://localhost:8080/"
        },
        "id": "R2-sHr0ouqHL",
        "outputId": "fb8aee6e-7924-45cf-aebc-5599d5546df1"
      },
      "execution_count": null,
      "outputs": [
        {
          "output_type": "execute_result",
          "data": {
            "text/plain": [
              "False"
            ]
          },
          "metadata": {},
          "execution_count": 16
        }
      ]
    },
    {
      "cell_type": "code",
      "source": [
        "bool('')"
      ],
      "metadata": {
        "colab": {
          "base_uri": "https://localhost:8080/"
        },
        "id": "mfNDEcpKurOH",
        "outputId": "7ab3a86a-6ed5-48db-ba1d-65ce20ca4849"
      },
      "execution_count": null,
      "outputs": [
        {
          "output_type": "execute_result",
          "data": {
            "text/plain": [
              "False"
            ]
          },
          "metadata": {},
          "execution_count": 17
        }
      ]
    },
    {
      "cell_type": "code",
      "source": [
        "bool([])\n",
        "bool({})\n",
        "bool(())"
      ],
      "metadata": {
        "colab": {
          "base_uri": "https://localhost:8080/"
        },
        "id": "xbu4c2UgusPg",
        "outputId": "21d2c9df-3262-458a-9deb-d05eade2db69"
      },
      "execution_count": null,
      "outputs": [
        {
          "output_type": "execute_result",
          "data": {
            "text/plain": [
              "False"
            ]
          },
          "metadata": {},
          "execution_count": 18
        }
      ]
    },
    {
      "cell_type": "code",
      "source": [
        "bool(None)"
      ],
      "metadata": {
        "colab": {
          "base_uri": "https://localhost:8080/"
        },
        "id": "GhWgwmLtuxN_",
        "outputId": "9c72965d-15fe-4ebe-c28a-afa37d4b005b"
      },
      "execution_count": null,
      "outputs": [
        {
          "output_type": "execute_result",
          "data": {
            "text/plain": [
              "False"
            ]
          },
          "metadata": {},
          "execution_count": 19
        }
      ]
    },
    {
      "cell_type": "markdown",
      "source": [
        "Մնացած ամենինչ True"
      ],
      "metadata": {
        "id": "8S7HCICpu7Wp"
      }
    },
    {
      "cell_type": "code",
      "source": [
        "print(bool(3) + 5)\n",
        "print(bool(3) and True)"
      ],
      "metadata": {
        "colab": {
          "base_uri": "https://localhost:8080/"
        },
        "id": "L1b9Et-0uv_d",
        "outputId": "a54fae81-715b-4012-a9a1-608781dd3556"
      },
      "execution_count": null,
      "outputs": [
        {
          "output_type": "stream",
          "name": "stdout",
          "text": [
            "6\n",
            "True\n"
          ]
        }
      ]
    },
    {
      "cell_type": "code",
      "source": [
        "bool('պանիր')"
      ],
      "metadata": {
        "colab": {
          "base_uri": "https://localhost:8080/"
        },
        "id": "3KX-tbdJu9y1",
        "outputId": "4ffcafe0-5f6f-4921-d7c0-9aa7a7e5d251"
      },
      "execution_count": null,
      "outputs": [
        {
          "output_type": "execute_result",
          "data": {
            "text/plain": [
              "True"
            ]
          },
          "metadata": {},
          "execution_count": 20
        }
      ]
    },
    {
      "cell_type": "markdown",
      "source": [
        "# If (եթե) պայման"
      ],
      "metadata": {
        "id": "lysl6tEIvB6W"
      }
    },
    {
      "cell_type": "markdown",
      "source": [
        "Հաճախ մեր գործողությունները տարբեր են, կախված որոշ պայմաններից,\n",
        "\n",
        "Օրինակ շոր հագնելու ֆունկցիան կախվածա եղանակից՝"
      ],
      "metadata": {
        "id": "HSdfj2WKvFmZ"
      }
    },
    {
      "cell_type": "code",
      "source": [
        "եթե ցուրտա\n",
        "    տաք շոր հագնել\n",
        "\n",
        "մնացած դեպքերում\n",
        "    թեթև հագնվել"
      ],
      "metadata": {
        "id": "rgAjN39-vEtm"
      },
      "execution_count": null,
      "outputs": []
    },
    {
      "cell_type": "code",
      "source": [
        "is_cold = False\n",
        "\n",
        "if is_cold == True:\n",
        "    print(34567)\n",
        "    print('տաք հագնվի, չմրսես բալա ջան')\n",
        "\n",
        "print(3456782)"
      ],
      "metadata": {
        "colab": {
          "base_uri": "https://localhost:8080/"
        },
        "id": "MzTmJgM0vZT4",
        "outputId": "d628b680-5591-45b5-92d7-0c5f01b62458"
      },
      "execution_count": null,
      "outputs": [
        {
          "output_type": "stream",
          "name": "stdout",
          "text": [
            "2\n"
          ]
        }
      ]
    },
    {
      "cell_type": "code",
      "source": [],
      "metadata": {
        "id": "YmnV_J3Gxoti"
      },
      "execution_count": null,
      "outputs": []
    },
    {
      "cell_type": "code",
      "source": [
        "is_cold = True\n",
        "\n",
        "if is_cold == True:\n",
        "    print('տաք հագնվի, չմրսես բալա ջան')\n",
        "else:\n",
        "    print(\"տաք է\")\n",
        "\n",
        "print(2)\n"
      ],
      "metadata": {
        "id": "aG-4OzMvJnh5",
        "outputId": "f83fb570-4ad0-49b0-96bc-81fa089b3280",
        "colab": {
          "base_uri": "https://localhost:8080/"
        }
      },
      "execution_count": null,
      "outputs": [
        {
          "output_type": "stream",
          "name": "stdout",
          "text": [
            "տաք հագնվի, չմրսես բալա ջան\n",
            "2\n"
          ]
        }
      ]
    },
    {
      "cell_type": "code",
      "source": [
        "if bool(3) == True:\n",
        "    print(211)\n",
        "\n",
        "if bool(3):\n",
        "    print(123)\n",
        "\n",
        "if 3: # bool(3)\n",
        "    print(134)\n",
        "\n",
        "\n",
        "if 0: # bool(0)\n",
        "    print(2)"
      ],
      "metadata": {
        "colab": {
          "base_uri": "https://localhost:8080/"
        },
        "id": "FJVZI6fq0FLi",
        "outputId": "64161293-dd70-46ec-ecf6-938ccc6422ae"
      },
      "execution_count": null,
      "outputs": [
        {
          "output_type": "stream",
          "name": "stdout",
          "text": [
            "211\n",
            "123\n",
            "134\n"
          ]
        }
      ]
    },
    {
      "cell_type": "code",
      "source": [
        "is_cold = False\n",
        "\n",
        "if bool(is_cold) == True:\n",
        "    print('տաք հագնվի, չմրսես բալա ջան')\n",
        "else:\n",
        "    print(\"տաք է\")\n",
        "\n",
        "print(2)"
      ],
      "metadata": {
        "id": "QrC4snE5KLhP",
        "outputId": "c34216c5-5fb3-45a0-fe15-7cb9aba6f3fc",
        "colab": {
          "base_uri": "https://localhost:8080/"
        }
      },
      "execution_count": null,
      "outputs": [
        {
          "output_type": "stream",
          "name": "stdout",
          "text": [
            "տաք է\n",
            "2\n"
          ]
        }
      ]
    },
    {
      "cell_type": "code",
      "source": [
        "is_cold = False\n",
        "\n",
        "if is_cold: # bool(is_cold) == True\n",
        "    print('տաք հագնվի, չմրսես բալա ջան')\n",
        "else:\n",
        "    print(\"տաք է\")\n",
        "\n",
        "print(2)"
      ],
      "metadata": {
        "id": "SuAJSwatLyxr",
        "colab": {
          "base_uri": "https://localhost:8080/"
        },
        "outputId": "472dc33e-c0a9-49c7-fda2-067fdfbc1060"
      },
      "execution_count": null,
      "outputs": [
        {
          "output_type": "stream",
          "name": "stdout",
          "text": [
            "տաք է\n",
            "2\n"
          ]
        }
      ]
    },
    {
      "cell_type": "code",
      "source": [
        "is_cold = False\n",
        "\n",
        "# if is_cold:\n",
        "if \"barev\": # bool(\"barev\") -> True\n",
        "    print('տաք հագնվի, չմրսես բալա ջան')\n",
        "else:\n",
        "    print(\"տաք է\")\n",
        "\n",
        "print(2)"
      ],
      "metadata": {
        "id": "3nduuzTOL3A-",
        "outputId": "c7430721-5f12-48c2-dfd6-2372b3f8708c",
        "colab": {
          "base_uri": "https://localhost:8080/"
        }
      },
      "execution_count": null,
      "outputs": [
        {
          "output_type": "stream",
          "name": "stdout",
          "text": [
            "տաք հագնվի, չմրսես բալա ջան\n",
            "2\n"
          ]
        }
      ]
    },
    {
      "cell_type": "markdown",
      "source": [
        "С++ ի պես {} չկան, ստեղ tab-եր ա"
      ],
      "metadata": {
        "id": "lJUauELnvqE6"
      }
    },
    {
      "cell_type": "code",
      "source": [
        "vazelu_enq = True\n",
        "curta = False\n",
        "\n",
        "if (not curta) and vazelu_enq:\n",
        "    print('բոթաս')\n",
        "    print(3)\n",
        "else:\n",
        "    print('կոշիկ')\n",
        "\n",
        "print(4)"
      ],
      "metadata": {
        "colab": {
          "base_uri": "https://localhost:8080/"
        },
        "id": "MgXqBQ94vnus",
        "outputId": "e0822d58-7a3e-459a-dd22-be0c01cf8595"
      },
      "execution_count": null,
      "outputs": [
        {
          "output_type": "stream",
          "name": "stdout",
          "text": [
            "բոթաս\n",
            "3\n"
          ]
        }
      ]
    },
    {
      "cell_type": "markdown",
      "source": [
        "Հնարավորա այնպես լինի որ տարբերակները երկուսից շատ լինեն՝\n",
        "\n",
        "զարթնում ենք եթե **շաբաթա՝** գնում ենք շաբաթօրյակի,\n",
        "\n",
        "եթե **կիրակի՝** գնում ենք չինգաչունգի չեմպիոնատի,\n",
        "\n",
        " եթե **այլ օրա** գնում ենք դասի"
      ],
      "metadata": {
        "id": "AE_O3ODZxK16"
      }
    },
    {
      "cell_type": "code",
      "source": [
        "day = 'շաբաթ' # or = \"շաբաթ\"\n",
        "\n",
        "if day == 'շաբաթ':\n",
        "    print('գնացինք շաբաթօրյակ')\n",
        "else:\n",
        "    print('չենք գնում շաբաթօրյակի, բա ու՞ր ենք գնում՝ պարզ չի')"
      ],
      "metadata": {
        "colab": {
          "base_uri": "https://localhost:8080/"
        },
        "id": "xdyv2XHYxfLZ",
        "outputId": "c54acd87-8e42-4f65-ca9c-c0cd98c15ff6"
      },
      "execution_count": null,
      "outputs": [
        {
          "output_type": "stream",
          "name": "stdout",
          "text": [
            "գնացինք շաբաթօրյակ\n"
          ]
        }
      ]
    },
    {
      "cell_type": "code",
      "source": [
        "day = 'շաբաթ'\n",
        "\n",
        "if day == 'շաբաթ':\n",
        "    print('գնացինք շաբաթօրյակ')\n",
        "else:\n",
        "    if day == 'կիրակի': # else if, եթե վերևի if-ը չի ու մեր ստեղ գրած պայմաննա\n",
        "        print('գնացինք չինգաչունգ խաղանք')\n",
        "    else:\n",
        "        print('գնացինք դասի :( ')"
      ],
      "metadata": {
        "id": "NNLUzzCNM_eO"
      },
      "execution_count": null,
      "outputs": []
    },
    {
      "cell_type": "code",
      "source": [
        "day = 'շաբաթ'\n",
        "\n",
        "if day == 'շաբաթ':\n",
        "    print('գնացինք շաբաթօրյակ')\n",
        "elif day == 'կիրակի': # else if, եթե վերևի if-ը չի ու մեր ստեղ գրած պայմաննա\n",
        "    print('գնացինք չինգաչունգ խաղանք')\n",
        "else:\n",
        "    print('գնացինք դասի :( ')"
      ],
      "metadata": {
        "id": "Ezwgoq_ANTI-",
        "colab": {
          "base_uri": "https://localhost:8080/"
        },
        "outputId": "c4ecaa5d-6fec-4522-e2a7-3c7b201dbba2"
      },
      "execution_count": null,
      "outputs": [
        {
          "output_type": "stream",
          "name": "stdout",
          "text": [
            "գնացինք շաբաթօրյակ\n"
          ]
        }
      ]
    },
    {
      "cell_type": "code",
      "source": [
        "day = 'շաբաթ'\n",
        "day = \"կիրակի\"\n",
        "day = \"werxtyno\"\n",
        "\n",
        "if day == 'շաբաթ':\n",
        "    print('գնացինք շաբաթօրյակ')\n",
        "elif day == 'կիրակի': # else if, եթե վերևի if-ը չի ու մեր ստեղ գրած պայմաննա\n",
        "    print('գնացինք չինգաչունգ խաղանք')\n",
        "else:\n",
        "    print('գնացինք դասի :( ')"
      ],
      "metadata": {
        "colab": {
          "base_uri": "https://localhost:8080/"
        },
        "id": "E2s3MyYExr72",
        "outputId": "c14b3c41-bc28-41db-b30c-7eb198927f43"
      },
      "execution_count": null,
      "outputs": [
        {
          "output_type": "stream",
          "name": "stdout",
          "text": [
            "գնացինք դասի :( \n"
          ]
        }
      ]
    },
    {
      "cell_type": "code",
      "source": [
        "day = 'շաբաթ'\n",
        "# day = \"կիրակի\"\n",
        "# day = \"werxtyno\"\n",
        "\n",
        "if day == 'շաբաթ':\n",
        "    print('գնացինք շաբաթօրյակ')\n",
        "if day == 'կիրակի': # else if, եթե վերևի if-ը չի ու մեր ստեղ գրած պայմաննա\n",
        "    print('գնացինք չինգաչունգ խաղանք')\n",
        "else:\n",
        "    print('գնացինք դասի :( ')"
      ],
      "metadata": {
        "id": "3C8O_nf8NU2B",
        "outputId": "cf66bf88-e6ef-4384-8710-fdefdd135645",
        "colab": {
          "base_uri": "https://localhost:8080/"
        }
      },
      "execution_count": null,
      "outputs": [
        {
          "output_type": "stream",
          "name": "stdout",
          "text": [
            "գնացինք շաբաթօրյակ\n",
            "գնացինք դասի :( \n"
          ]
        }
      ]
    },
    {
      "cell_type": "markdown",
      "source": [
        "## Օրինակներ"
      ],
      "metadata": {
        "id": "23_28rrGyyke"
      }
    },
    {
      "cell_type": "markdown",
      "source": [
        "### Անիկդոտ\n"
      ],
      "metadata": {
        "id": "Vb4b1AMV1NTn"
      }
    },
    {
      "cell_type": "markdown",
      "source": [
        "Ծրագրավորղը գնումա խանութ, կինը ասումա՝\n",
        "\n",
        "2 հատ հաց առ, եթե ձու լինի՝ 10 հատ վերցրու,\n",
        "\n",
        "էս մարդը 10 հատ հաց առած գալիսա տուն, կինը հարցնումա ես ի՞նչ ես արել, ասումա դե ձու ունեին"
      ],
      "metadata": {
        "id": "lguqLNqIzSPj"
      }
    },
    {
      "cell_type": "code",
      "source": [
        "dzu_ka = False\n",
        "\n",
        "if dzu_ka:\n",
        "    print('10 հաց')\n",
        "else:\n",
        "    print(\"2 հաց\")"
      ],
      "metadata": {
        "colab": {
          "base_uri": "https://localhost:8080/"
        },
        "id": "ygddE3jMyTQ_",
        "outputId": "02c09c2f-b3d2-4835-f596-a93c96c982b3"
      },
      "execution_count": null,
      "outputs": [
        {
          "output_type": "stream",
          "name": "stdout",
          "text": [
            "2 հաց\n"
          ]
        }
      ]
    },
    {
      "cell_type": "markdown",
      "source": [
        "### պարտադիր չի else գրենք, կարա մենակ if լինի\n"
      ],
      "metadata": {
        "id": "H5wtrfpw1GyU"
      }
    },
    {
      "cell_type": "code",
      "source": [
        "tariq = 20\n",
        "if tariq > 18:\n",
        "    print('Ինձ մի հատ գինի խնդրում եմ')\n",
        "\n",
        "if tariq % 10 == 0:\n",
        "    print(\"Կլոր տարիք\")"
      ],
      "metadata": {
        "id": "VDkrr_qwzPkK",
        "colab": {
          "base_uri": "https://localhost:8080/"
        },
        "outputId": "44cbb61e-5a72-4401-c4ef-e9e8f974a8e9"
      },
      "execution_count": null,
      "outputs": [
        {
          "output_type": "stream",
          "name": "stdout",
          "text": [
            "Ինձ մի հատ գինի խնդրում եմ\n",
            "Կլոր տարիք\n"
          ]
        }
      ]
    },
    {
      "cell_type": "code",
      "source": [
        "# pass"
      ],
      "metadata": {
        "id": "WTQshPJ7UAax"
      },
      "execution_count": null,
      "outputs": []
    },
    {
      "cell_type": "code",
      "source": [
        "tariq = 17\n",
        "\n",
        "if tariq > 18:\n",
        "    pass\n",
        "else:\n",
        "    print(\"ջուր կուզես\")"
      ],
      "metadata": {
        "id": "oGBWZ5SFTwWV",
        "outputId": "b9e7c044-c233-4437-9155-f56bdbd7313e",
        "colab": {
          "base_uri": "https://localhost:8080/"
        }
      },
      "execution_count": null,
      "outputs": [
        {
          "output_type": "stream",
          "name": "stdout",
          "text": [
            "ջուր կուզես\n"
          ]
        }
      ]
    },
    {
      "cell_type": "markdown",
      "source": [
        "### կարա մի քանի elif լինի\n"
      ],
      "metadata": {
        "id": "1z1EdUzl1Qgq"
      }
    },
    {
      "cell_type": "code",
      "source": [],
      "metadata": {
        "id": "jBgwcz4yTt1d"
      },
      "execution_count": null,
      "outputs": []
    },
    {
      "cell_type": "code",
      "source": [
        "apranq = 'պանիր'\n",
        "\n",
        "if apranq == 'պանիր':\n",
        "    gin = 2\n",
        "elif apranq == 'ձմերուկ':\n",
        "    gin = 4\n",
        "elif apranq == 'ժարիտ':\n",
        "    gin = 1_000_000_000 # _ կարանք դնենք\n",
        "else:\n",
        "    gin = 'եսիմ'\n",
        "\n",
        "print(gin)"
      ],
      "metadata": {
        "colab": {
          "base_uri": "https://localhost:8080/"
        },
        "id": "xujXG7ThzrF4",
        "outputId": "3795c429-4e97-4c20-b8f2-e2483d761f80"
      },
      "execution_count": null,
      "outputs": [
        {
          "output_type": "stream",
          "name": "stdout",
          "text": [
            "2\n"
          ]
        }
      ]
    },
    {
      "cell_type": "markdown",
      "source": [
        "### ինչի՞ ենք elif օգտագործում եթե կարանք if գրենք"
      ],
      "metadata": {
        "id": "RVYlFiHT1Z6M"
      }
    },
    {
      "cell_type": "code",
      "source": [
        "apranq = 'պանիր'\n",
        "\n",
        "if apranq == 'պանիր':\n",
        "    gin = 2\n",
        "# print(gin)\n",
        "if apranq == 'ձմերուկ':\n",
        "    gin = 4\n",
        "if apranq == 'ժարիտ':\n",
        "    gin = 100_000_000_000_000 # _ կարանք դնենք\n",
        "else:\n",
        "    gin = 'եսիմ'\n",
        "\n",
        "print(gin)"
      ],
      "metadata": {
        "colab": {
          "base_uri": "https://localhost:8080/"
        },
        "id": "d78pNGIX0rar",
        "outputId": "cb53773e-eead-4bf6-93a6-db22e0447ac5"
      },
      "execution_count": null,
      "outputs": [
        {
          "output_type": "stream",
          "name": "stdout",
          "text": [
            "եսիմ\n"
          ]
        }
      ]
    },
    {
      "cell_type": "code",
      "source": [
        "print(100_000_000_000_000)\n",
        "print(100000000000000)"
      ],
      "metadata": {
        "colab": {
          "base_uri": "https://localhost:8080/"
        },
        "id": "Pqdx5GgOnDRE",
        "outputId": "8dbd55f2-6ad8-4979-a9cf-b1730e569a47"
      },
      "execution_count": null,
      "outputs": [
        {
          "output_type": "stream",
          "name": "stdout",
          "text": [
            "100000000000000\n",
            "100000000000000\n"
          ]
        }
      ]
    },
    {
      "cell_type": "code",
      "source": [
        "a = 0\n",
        "\n",
        "if a > 10:\n",
        "    print(\"մեծա 10-ից\")\n",
        "if a > 5:\n",
        "    print(\"մեծա 5-ից\")\n",
        "if a > 1:\n",
        "    print(\"մեծա 1-ից\")"
      ],
      "metadata": {
        "id": "F1k1Xreu1ia_"
      },
      "execution_count": null,
      "outputs": []
    },
    {
      "cell_type": "code",
      "source": [
        "a = 62\n",
        "a = -2\n",
        "\n",
        "if a > 10:\n",
        "    print(\"մեծա 10-ից\")\n",
        "elif a > 5:\n",
        "    print(\"մեծա 5-ից\")\n",
        "elif a > 1: # եթե վերևինը ճիշտ եղավ, սա էլ չի աշխատի\n",
        "    print(\"մեծա 1-ից\")\n",
        "else:\n",
        "    print(\"փոքր ա 1-ից\")"
      ],
      "metadata": {
        "id": "XAHN573a2AOV",
        "colab": {
          "base_uri": "https://localhost:8080/"
        },
        "outputId": "3298c228-fb94-40da-cf0c-73dccaaa24ad"
      },
      "execution_count": null,
      "outputs": [
        {
          "output_type": "stream",
          "name": "stdout",
          "text": [
            "փոքր ա 1-ից\n"
          ]
        }
      ]
    },
    {
      "cell_type": "markdown",
      "source": [
        "# if-ի մեջ if"
      ],
      "metadata": {
        "id": "EHdlGsXG2eEy"
      }
    },
    {
      "cell_type": "code",
      "source": [
        "tariq = 17\n",
        "hastatutun = \"10 դպրոց\"\n",
        "# nested if\n",
        "if tariq > 18: # pass գրում ենք եթե ուզում ենք ոչ մի բան չանել այդ դեպքում\n",
        "    if hastatutun == \"ԵՊՀ\":\n",
        "        print(\"ես էլ\")\n",
        "else:\n",
        "    if hastatutun == \"10 դպրոց\":\n",
        "        print(\"ես էլ եմ էդ\")\n",
        "    else:\n",
        "        print(\"բա որտեղ ա էդ\")\n",
        "\n",
        "if (tariq > 18) and hastatun == \"::\n",
        "    ;;;\n",
        "elif tariq < 18 an d\n"
      ],
      "metadata": {
        "id": "G1A2RljU3LBR",
        "colab": {
          "base_uri": "https://localhost:8080/"
        },
        "outputId": "a043e716-2656-443d-92f3-f4b54fddd0b7"
      },
      "execution_count": null,
      "outputs": [
        {
          "output_type": "stream",
          "name": "stdout",
          "text": [
            "ես էլ եմ էդ\n"
          ]
        }
      ]
    },
    {
      "cell_type": "code",
      "source": [
        "անչափահասին -> ջուր\n",
        "գինի չսիրողին -> whiskey\n",
        "գինի ու պանիր -> գինի ու պանիր\n",
        "գինի սիրում պանիր չի սիրում -> մենակ գինի"
      ],
      "metadata": {
        "id": "myIDlhr_VJJ4"
      },
      "execution_count": null,
      "outputs": []
    },
    {
      "cell_type": "code",
      "source": [
        "tariq = 18\n",
        "panir_sirum = True\n",
        "gini_sirum = False\n",
        "\n",
        "if tariq < 18:\n",
        "    print(\"Jur\")\n",
        "elif not gini_sirum:\n",
        "    print(\"whiskey\")\n",
        "elif (tariq >= 18) and gini_sirum and panir_sirum:\n",
        "    print(\"Gini u panir\")\n",
        "elif (tariq >= 18) and gini_sirum and (not panir_sirum):\n",
        "    print(\"Gini\")"
      ],
      "metadata": {
        "colab": {
          "base_uri": "https://localhost:8080/"
        },
        "id": "nMO71FRk_gZO",
        "outputId": "25a96fe6-80db-4098-d3cd-f5aa2f832a2f"
      },
      "execution_count": null,
      "outputs": [
        {
          "output_type": "stream",
          "name": "stdout",
          "text": [
            "whiskey\n"
          ]
        }
      ]
    },
    {
      "cell_type": "code",
      "source": [
        "tariq = 18\n",
        "panir_sirum = True\n",
        "gini_sirum = False\n",
        "\n",
        "if tariq >= 18:\n",
        "    if gini_sirum:\n",
        "        if panir_sirum:\n",
        "            print(\"gini u panir\")\n",
        "        else:\n",
        "            print(\"gini\")\n",
        "    else:\n",
        "        print(\"Whiskey\")\n",
        "else:\n",
        "    print(\"Jur\")\n"
      ],
      "metadata": {
        "colab": {
          "base_uri": "https://localhost:8080/"
        },
        "id": "Op41nlxpAqq2",
        "outputId": "9ded1282-518d-4b29-f3e0-1f2eb8ec0552"
      },
      "execution_count": null,
      "outputs": [
        {
          "output_type": "stream",
          "name": "stdout",
          "text": [
            "Whiskey\n"
          ]
        }
      ]
    },
    {
      "cell_type": "code",
      "source": [
        "tariq = 16\n",
        "gini_sirum = True\n",
        "panir_sirum = True\n",
        "\n",
        "if tariq < 18:\n",
        "    print(\"ջուր\")\n",
        "else:\n",
        "    if gini_sirum and panir_sirum:\n",
        "        print(\"գինի ու պանիր\")\n",
        "    elif gini_sirum:\n",
        "        print(\"գինի\")\n",
        "    else:\n",
        "        print(\"whiskey\")\n"
      ],
      "metadata": {
        "id": "fGXlW8o9VVoy",
        "outputId": "73209c11-7510-4b45-8d01-c2fc3bff9e35",
        "colab": {
          "base_uri": "https://localhost:8080/"
        }
      },
      "execution_count": null,
      "outputs": [
        {
          "output_type": "stream",
          "name": "stdout",
          "text": [
            "ջուր\n"
          ]
        }
      ]
    },
    {
      "cell_type": "code",
      "source": [
        "tariq = 16\n",
        "gini_sirum = True\n",
        "panir_sirum = True\n",
        "\n",
        "if tariq < 18:\n",
        "    print(\"ջուր\")\n",
        "else:\n",
        "    if gini_sirum:\n",
        "        if panir_sirum:\n",
        "            print(\"գինի ու պանիր\")\n",
        "        else:\n",
        "            print(\"gini\")\n",
        "    else:\n",
        "        print(\"whiskey\")\n"
      ],
      "metadata": {
        "id": "IgDzOXWIWuvk",
        "outputId": "0f0b527d-4904-49e2-9069-8102ccc4011b",
        "colab": {
          "base_uri": "https://localhost:8080/"
        }
      },
      "execution_count": null,
      "outputs": [
        {
          "output_type": "stream",
          "name": "stdout",
          "text": [
            "ջուր\n"
          ]
        }
      ]
    },
    {
      "cell_type": "code",
      "source": [
        "# 2 * 2 * 2 = 8\n",
        "\n",
        "\n",
        "tariq = 16\n",
        "gini_sirum = True\n",
        "panir_sirum = True\n",
        "\n",
        "\n",
        "if tariq > 18:\n",
        "    if gini_sirum:\n",
        "        if panir_sirum:\n",
        "            print(\"գինի ու պանիր\")\n",
        "        else:\n",
        "            print(\"gini\")\n",
        "    else:\n",
        "        print(\"whiskey\")\n",
        "else:\n",
        "    print(\"ջուր\")\n",
        "\n"
      ],
      "metadata": {
        "id": "xcRFeuasXBmE",
        "outputId": "c8f50210-3217-4061-a129-365c6bc555fd",
        "colab": {
          "base_uri": "https://localhost:8080/"
        }
      },
      "execution_count": null,
      "outputs": [
        {
          "output_type": "stream",
          "name": "stdout",
          "text": [
            "ջուր\n"
          ]
        }
      ]
    },
    {
      "cell_type": "code",
      "source": [
        "tariq = 59\n",
        "panir_siruma = False\n",
        "gini_siruma = True\n",
        "\n",
        "if tariq > 18 and panir_siruma and gini_siruma:\n",
        "    print(\"panir u gini\")\n",
        "elif tariq > 18 and panir_siruma and (not gini_siruma)\n",
        "    print(\"meka \")\n",
        "elif tariq > 18 and (not panir_siruma)\n"
      ],
      "metadata": {
        "id": "xF6Npi3YR3c_"
      },
      "execution_count": null,
      "outputs": []
    },
    {
      "cell_type": "code",
      "source": [
        "tariq = 20\n",
        "panir_siruma = False\n",
        "gini_siruma = False\n",
        "\n",
        "if tariq > 18:\n",
        "    if gini_siruma:\n",
        "        if panir_siruma:\n",
        "            print(\"պանիր ու գինի\")\n",
        "        else:\n",
        "            print(\"գինի\")\n",
        "    else:\n",
        "        print(\"շամպայն ու թան\")\n",
        "else:\n",
        "    print(\"ջուր\")"
      ],
      "metadata": {
        "colab": {
          "base_uri": "https://localhost:8080/"
        },
        "id": "x3t6hMalvRLu",
        "outputId": "837e14f9-2ac1-4972-d132-9c2fa0d39a49"
      },
      "execution_count": null,
      "outputs": [
        {
          "output_type": "stream",
          "name": "stdout",
          "text": [
            "շամպայն ու թան\n"
          ]
        }
      ]
    },
    {
      "cell_type": "markdown",
      "source": [
        "## Match"
      ],
      "metadata": {
        "id": "0bjjA2AnDLN-"
      }
    },
    {
      "cell_type": "code",
      "source": [
        "apranq = 'ժարիտ'\n",
        "\n",
        "if apranq == 'պանիր':\n",
        "    gin = 2\n",
        "elif apranq == 'ձմերուկ':\n",
        "    gin = 4\n",
        "elif apranq == 'ժարիտ':\n",
        "    gin = 1_000_000_000 # _ կարանք դնենք\n",
        "else:\n",
        "    gin = 'եսիմ'\n",
        "print(gin)"
      ],
      "metadata": {
        "colab": {
          "base_uri": "https://localhost:8080/"
        },
        "id": "32GeNlAlDMRu",
        "outputId": "8954e913-8e14-487f-ea69-ce4c4f115370"
      },
      "execution_count": null,
      "outputs": [
        {
          "output_type": "stream",
          "name": "stdout",
          "text": [
            "1000000000\n"
          ]
        }
      ]
    },
    {
      "cell_type": "code",
      "source": [
        "apranq = \"ձմերուկ\"\n",
        "match apranq: # switch, case\n",
        "    case \"պանիր\": # if apranq == \"պանիր\"\n",
        "        gin = 2\n",
        "    case \"ձմերուկ\":\n",
        "        gin = 4\n",
        "    case \"ժարիտ\":\n",
        "        gin = 1_000_000_000\n",
        "    case _:\n",
        "        gin = \"եսիմ\"\n",
        "\n",
        "print(gin)"
      ],
      "metadata": {
        "colab": {
          "base_uri": "https://localhost:8080/"
        },
        "id": "zOfJrylXDOBj",
        "outputId": "9e4c531e-5896-424a-a384-74084dfb2f8a"
      },
      "execution_count": null,
      "outputs": [
        {
          "output_type": "stream",
          "name": "stdout",
          "text": [
            "4\n"
          ]
        }
      ]
    },
    {
      "cell_type": "code",
      "source": [],
      "metadata": {
        "id": "7WvFxheYnmXd"
      },
      "execution_count": null,
      "outputs": []
    }
  ]
}

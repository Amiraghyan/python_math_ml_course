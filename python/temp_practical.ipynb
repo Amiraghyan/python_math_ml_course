{
 "cells": [
  {
   "cell_type": "code",
   "execution_count": null,
   "id": "d692ac25",
   "metadata": {},
   "outputs": [],
   "source": [
    "1. generate passwords"
   ]
  },
  {
   "cell_type": "code",
   "execution_count": null,
   "id": "7f6c8c26",
   "metadata": {},
   "outputs": [],
   "source": [
    "- easy (6 nish, menak tarer)\n",
    "- medium (8 nish, tarer + tver)\n",
    "- hard (10 nish, tarer + tver + simvolners)"
   ]
  },
  {
   "cell_type": "code",
   "execution_count": 101,
   "id": "89466cf6",
   "metadata": {},
   "outputs": [],
   "source": [
    "from typing import List\n",
    "import string\n",
    "import random\n",
    "\n",
    "config = {\n",
    "    \"easy\": {\n",
    "        \"length\": 6,\n",
    "        \"symbols\": string.ascii_letters,\n",
    "        \"requiered\": string.ascii_letters\n",
    "        },\n",
    "    \"medium\": {\n",
    "        \"length\": 4,\n",
    "        \"symbols\": 3 * string.ascii_letters + string.digits,\n",
    "        \"requiered\": string.digits\n",
    "        },\n",
    "    \"hard\": {\n",
    "        \"length\": 10,\n",
    "        \"symbols\": string.ascii_letters + string.digits + string.punctuation,\n",
    "        \"requiered\": string.punctuation\n",
    "    }\n",
    "}\n",
    "\n"
   ]
  },
  {
   "cell_type": "code",
   "execution_count": null,
   "id": "61a818c6",
   "metadata": {},
   "outputs": [],
   "source": [
    "def generate_password(difficulty: str) -> str:\n",
    "    \"\"\"Generaterrs....\n",
    "    \n",
    "    Args:\n",
    "        difficulty (str) ....\n",
    "        \n",
    "    Returns:\n",
    "    ....\n",
    "    \"\"\"\n",
    "    pass_length: int = config[difficulty][\"length\"]\n",
    "    options: str = config[difficulty][\"symbols\"]\n",
    "    requiered: str = config[difficulty][\"requiered\"]\n",
    "    \n",
    "    password: List[str] = [None] * pass_length\n",
    "    \n",
    "    \n",
    "    for i in range(pass_length):\n",
    "        random_symbol = random.choice(options)\n",
    "        \n",
    "        password[i] = random_symbol\n",
    "\n",
    "    requiered_set = set(requiered)\n",
    "    password_set = set(password)\n",
    "    \n",
    "    shared_symbols = requiered_set & password_set\n",
    "    if shared_symbols:\n",
    "        return \"\".join(password)\n",
    "    print(\"failed\")\n",
    "    return generate_password(difficulty)"
   ]
  },
  {
   "cell_type": "code",
   "execution_count": 114,
   "id": "55fd1ead",
   "metadata": {},
   "outputs": [
    {
     "name": "stdout",
     "output_type": "stream",
     "text": [
      "failed\n",
      "failed\n",
      "failed\n",
      "failed\n",
      "failed\n",
      "failed\n"
     ]
    },
    {
     "data": {
      "text/plain": [
       "'gm6R'"
      ]
     },
     "execution_count": 114,
     "metadata": {},
     "output_type": "execute_result"
    }
   ],
   "source": [
    "result = generate_password(\"medium\")\n",
    "result"
   ]
  },
  {
   "cell_type": "code",
   "execution_count": 95,
   "id": "17f5d551",
   "metadata": {},
   "outputs": [
    {
     "name": "stdout",
     "output_type": "stream",
     "text": [
      "None\n"
     ]
    }
   ],
   "source": [
    "print(result)"
   ]
  },
  {
   "cell_type": "code",
   "execution_count": 10,
   "id": "2054f485",
   "metadata": {},
   "outputs": [
    {
     "data": {
      "text/plain": [
       "'!\"#$%&\\'()*+,-./:;<=>?@[\\\\]^_`{|}~'"
      ]
     },
     "execution_count": 10,
     "metadata": {},
     "output_type": "execute_result"
    }
   ],
   "source": [
    "string.punctuation"
   ]
  },
  {
   "cell_type": "code",
   "execution_count": null,
   "id": "824e2aa7",
   "metadata": {},
   "outputs": [],
   "source": [
    "klor_makeres / qarakusu \n",
    "\n",
    "pi / 4"
   ]
  },
  {
   "cell_type": "code",
   "execution_count": 119,
   "id": "4ff0b1f1",
   "metadata": {},
   "outputs": [],
   "source": [
    "import math\n",
    "import random\n",
    "\n",
    "def calc_pi(num_points: int=1_000) -> float:\n",
    "    inside_circle = 0\n",
    "    \n",
    "    for _ in range(num_points):\n",
    "        x = random.uniform(-1, 1)\n",
    "        y = random.uniform(-1, 1)\n",
    "        \n",
    "        dist = math.sqrt(x**2 + y**2)\n",
    "        \n",
    "        if dist < 1:\n",
    "            inside_circle += 1 \n",
    "        \n",
    "    pi_approx = inside_circle / num_points * 4 \n",
    "    \n",
    "    return pi_approx\n",
    "    "
   ]
  },
  {
   "cell_type": "code",
   "execution_count": 122,
   "id": "cba442b0",
   "metadata": {},
   "outputs": [
    {
     "data": {
      "text/plain": [
       "3.13984"
      ]
     },
     "execution_count": 122,
     "metadata": {},
     "output_type": "execute_result"
    }
   ],
   "source": [
    "calc_pi(100_000)"
   ]
  },
  {
   "cell_type": "code",
   "execution_count": null,
   "id": "693f613f",
   "metadata": {},
   "outputs": [],
   "source": []
  }
 ],
 "metadata": {
  "kernelspec": {
   "display_name": "thesis",
   "language": "python",
   "name": "python3"
  },
  "language_info": {
   "codemirror_mode": {
    "name": "ipython",
    "version": 3
   },
   "file_extension": ".py",
   "mimetype": "text/x-python",
   "name": "python",
   "nbconvert_exporter": "python",
   "pygments_lexer": "ipython3",
   "version": "3.10.18"
  }
 },
 "nbformat": 4,
 "nbformat_minor": 5
}

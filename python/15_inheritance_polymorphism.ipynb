{
 "cells": [
  {
   "cell_type": "raw",
   "id": "72cda82a",
   "metadata": {
    "vscode": {
     "languageId": "raw"
    }
   },
   "source": [
    "---\n",
    "title: \"15 OOP 2: Inheritance, Polymorphism\"\n",
    "lightbox: true\n",
    "format: \n",
    "  html:\n",
    "    code-fold: false\n",
    "number-offset: 1\n",
    "---"
   ]
  },
  {
   "cell_type": "markdown",
   "id": "6a063196",
   "metadata": {},
   "source": [
    "![image.png](../background_photos/py_15_yerevan_from_kaskad.jpg)\n",
    "[լուսանկարի հղումը](https://unsplash.com/photos/a-city-with-lots-of-tall-buildings-and-lots-of-trees-Xs8zZ57rLRw), Հեղինակ՝ [Alexander starcew](https://unsplash.com/@sintez)"
   ]
  },
  {
   "cell_type": "markdown",
   "id": "9ec9c04b",
   "metadata": {},
   "source": [
    "<a href=\"ToDo\" target=\"_parent\"><img src=\"https://colab.research.google.com/assets/colab-badge.svg\" alt=\"Open In Colab\"/></a> (ToDo)"
   ]
  },
  {
   "cell_type": "markdown",
   "id": "1591a225",
   "metadata": {},
   "source": [
    "Song reference - ToDo"
   ]
  },
  {
   "cell_type": "markdown",
   "id": "40c36322",
   "metadata": {},
   "source": [
    "# 🎦 Տեսադասեր + լրացուցիչ (ToDo)\n",
    "\n",
    "ToDo\n",
    "1. [Տեսություն 2025](https://youtu.be/TIWU_bjFuUc) \\\n",
    "2. [Տեսություն 2023 (ToDo)]()  \\\n",
    "3. [Գործնական 2025](https://youtu.be/zf8xEfdLXRo) \\\n",
    "4. [Գործնական 2023 (ToDo)]()  \\\n",
    "5. [Որոշ տնայինների լուծումներ (ToDo)]()\n",
    "    \n",
    "Google Forms ToDo"
   ]
  },
  {
   "cell_type": "markdown",
   "id": "dc64d888",
   "metadata": {},
   "source": [
    "# 📚 Նյութը"
   ]
  },
  {
   "cell_type": "markdown",
   "id": "578e370d",
   "metadata": {},
   "source": [
    "## Հավելյալ նյութեր\n",
    "- [Հայերենով, C++-ով, գրատախտակի վրա OOP-ի ուժեղ դասեր](https://www.youtube.com/playlist?list=PLBzxnGCN6T8f2U0MJOppVTHHS2sXHBYKT)\n",
    "- [Real Python - Object-Oriented Programming in Python](https://realpython.com/python3-object-oriented-programming/)\n",
    "- [Tech with Tim YouTube video](https://www.youtube.com/watch?v=JeznW_7DlB0)"
   ]
  },
  {
   "cell_type": "markdown",
   "id": "3c4643f3",
   "metadata": {},
   "source": [
    "## Inheritance (Ժառանգականություն)\n",
    "- [Corey Shafer YouTube video](https://www.youtube.com/watch?v=RSl87lqOXDE)\n",
    "- [Real Python - Inheritance and Composition](https://realpython.com/inheritance-composition-python/)"
   ]
  },
  {
   "cell_type": "markdown",
   "id": "c31cd04f",
   "metadata": {},
   "source": [
    "Կարգին հաղորդում ունեինք, եկեք փորձենք կարգին սկետչ շոուի կլասը սարքել"
   ]
  },
  {
   "cell_type": "code",
   "execution_count": null,
   "id": "7e98f093",
   "metadata": {},
   "outputs": [],
   "source": [
    "class KarginHaxordum:\n",
    "    vorak = \"Ֆանտաստիկ\"\n",
    "\n",
    "    def __init__(self, hamar, derasanner, text):\n",
    "        if hamar < 1:\n",
    "             print(\"պետքա բնական թիվ լինի\")\n",
    "        self.hamar = hamar\n",
    "        self.derasanner = derasanner\n",
    "        self.text = text    \n",
    "\n",
    "\n",
    "    def nkarel(self, vorak=None, derasanner=None, text=None): # կլասսի միջի ֆունկցիային անվանում ենք մեթոդ\n",
    "        if vorak is None:\n",
    "            vorak = self.vorak\n",
    "        if derasanner is None:\n",
    "            derasanner = self.derasanner\n",
    "        if text is None:\n",
    "            text = self.text\n",
    "\n",
    "        print(f\"Որակը՝ {vorak}\")\n",
    "        print(f\"Կանչել {' '.join(derasanner)}\")\n",
    "        print(f\"Խնրդել որ ասեն -> {text}\")\n"
   ]
  },
  {
   "cell_type": "code",
   "execution_count": null,
   "id": "86978967",
   "metadata": {},
   "outputs": [],
   "source": [
    "class KarginSketchShow:\n",
    "    vorak = \"դե կարգին հաղորդում չի իհարկե, բայց դե փորձեցին ժողովուրդը\"\n",
    "\n",
    "    def __init__(self, hamar, derasanner, text):\n",
    "        if hamar < 1:\n",
    "            print(\"պետքա բնական թիվ լինի\")\n",
    "        self.hamar = hamar\n",
    "        self.derasanner = derasanner\n",
    "        self.text = text\n",
    "\n",
    "    def nkarel(self, vorak=None, derasanner=None, text=None): # կլասսի միջի ֆունկցիային անվանում ենք մեթոդ\n",
    "        if vorak is None:\n",
    "            vorak = self.vorak\n",
    "        if derasanner is None:\n",
    "            derasanner = self.derasanner\n",
    "        if text is None:\n",
    "            text = self.text\n",
    "\n",
    "        print(f\"Որակը՝ {vorak}\")\n",
    "        print(f\"Կանչել {' '.join(derasanner)}\")\n",
    "        print(f\"Խնրդել որ ասեն -> {text}\")"
   ]
  },
  {
   "cell_type": "markdown",
   "id": "2eb24681",
   "metadata": {},
   "source": [
    "Կրկնվող կոդ -> օգտագործում ենք բութ մատի օրենքը -> կարանք ավելի լավ անենք"
   ]
  },
  {
   "cell_type": "markdown",
   "id": "7f9456dd",
   "metadata": {},
   "source": [
    "### մի քիչ հեշտ դեպքից սկսենք"
   ]
  },
  {
   "cell_type": "code",
   "execution_count": 5,
   "id": "274cd3c5",
   "metadata": {},
   "outputs": [],
   "source": [
    "class KarginHaxordum:\n",
    "    erkir = \"Հայաստան\"\n",
    "    vorak = \"ֆանտաստիկ\"\n",
    "\n",
    "    def glux_goval(self):\n",
    "        print(f\"Մեր որակը` {self.vorak}\")\n"
   ]
  },
  {
   "cell_type": "code",
   "execution_count": 6,
   "id": "4d888bb6",
   "metadata": {},
   "outputs": [
    {
     "name": "stdout",
     "output_type": "stream",
     "text": [
      "Հայաստան\n",
      "ֆանտաստիկ\n",
      "Մեր որակը` ֆանտաստիկ\n"
     ]
    }
   ],
   "source": [
    "h = KarginHaxordum()\n",
    "\n",
    "print(h.erkir)\n",
    "print(h.vorak)\n",
    "h.glux_goval()"
   ]
  },
  {
   "cell_type": "code",
   "execution_count": null,
   "id": "8799ae3e",
   "metadata": {},
   "outputs": [],
   "source": [
    "class KarginHaxordum:\n",
    "    erkir = \"Հայաստան\"\n",
    "    vorak = \"ֆանտաստիկ\"\n",
    "\n",
    "    def glux_goval(self):\n",
    "        print(f\"Մեր որակը՝ {self.vorak}\")\n"
   ]
  },
  {
   "cell_type": "code",
   "execution_count": 25,
   "id": "5690386b",
   "metadata": {},
   "outputs": [],
   "source": [
    "class KarginSketchShow:\n",
    "    erkir = \"Հայաստան\"\n",
    "    vorak = \"դե կարգին հաղորդում չի իհարկե, բայց դե փորձեցին ժողովուրդը\"\n",
    "\n",
    "    def glux_goval(self):\n",
    "        print(f\"Մեր որակը` {self.vorak}\")"
   ]
  },
  {
   "cell_type": "markdown",
   "id": "cc7147dc",
   "metadata": {},
   "source": [
    "վերևինի փոխարեն կարանք գրենք՝"
   ]
  },
  {
   "cell_type": "code",
   "execution_count": 26,
   "id": "4c1b2c67",
   "metadata": {},
   "outputs": [],
   "source": [
    "class KarginSketchShow(KarginHaxordum):\n",
    "    vorak = \"դե կարգին հաղորդում չի իհարկե, բայց դե փորձեցին ժողովուրդը\"\n",
    "\n",
    "    budget = 500"
   ]
  },
  {
   "cell_type": "code",
   "execution_count": 27,
   "id": "c1b94e33",
   "metadata": {},
   "outputs": [
    {
     "name": "stdout",
     "output_type": "stream",
     "text": [
      "դե կարգին հաղորդում չի իհարկե, բայց դե փորձեցին ժողովուրդը\n",
      "Հայաստան\n"
     ]
    }
   ],
   "source": [
    "s = KarginSketchShow()\n",
    "\n",
    "print(s.vorak)\n",
    "print(s.erkir)"
   ]
  },
  {
   "cell_type": "code",
   "execution_count": 10,
   "id": "f290ab30",
   "metadata": {},
   "outputs": [
    {
     "name": "stdout",
     "output_type": "stream",
     "text": [
      "Հայաստան\n"
     ]
    }
   ],
   "source": [
    "print(s.erkir)"
   ]
  },
  {
   "cell_type": "code",
   "execution_count": 11,
   "id": "0ad46d7f",
   "metadata": {},
   "outputs": [
    {
     "name": "stdout",
     "output_type": "stream",
     "text": [
      "500\n"
     ]
    }
   ],
   "source": [
    "print(s.budget)"
   ]
  },
  {
   "cell_type": "code",
   "execution_count": 12,
   "id": "bf0562b3",
   "metadata": {},
   "outputs": [
    {
     "name": "stdout",
     "output_type": "stream",
     "text": [
      "Մեր որակը` դե կարգին հաղորդում չի իհարկե, բայց դե փորձեցին ժողովուրդը\n",
      "None\n"
     ]
    }
   ],
   "source": [
    "print(s.glux_goval())"
   ]
  },
  {
   "cell_type": "markdown",
   "id": "8b9e4c24",
   "metadata": {},
   "source": [
    "### Method overwrite"
   ]
  },
  {
   "cell_type": "code",
   "execution_count": 22,
   "id": "c98907a6",
   "metadata": {},
   "outputs": [],
   "source": [
    "class KarginSketchShow(KarginHaxordum): \n",
    "    vorak = \"դե կարգին հաղորդում չի իհարկե, բայց դե փորձեցին ժողովուրդը\"\n",
    "\n",
    "    def glux_goval(self): \n",
    "        print(\"մենք համեստ ենք, գլուխ չենք գովա\")"
   ]
  },
  {
   "cell_type": "code",
   "execution_count": 23,
   "id": "cd5abe87",
   "metadata": {},
   "outputs": [
    {
     "ename": "TypeError",
     "evalue": "KarginHaxordum.__init__() missing 3 required positional arguments: 'hamar', 'derasanner', and 'text'",
     "output_type": "error",
     "traceback": [
      "\u001b[1;31m---------------------------------------------------------------------------\u001b[0m",
      "\u001b[1;31mTypeError\u001b[0m                                 Traceback (most recent call last)",
      "Input \u001b[1;32mIn [23]\u001b[0m, in \u001b[0;36m<cell line: 1>\u001b[1;34m()\u001b[0m\n\u001b[1;32m----> 1\u001b[0m s \u001b[38;5;241m=\u001b[39m \u001b[43mKarginSketchShow\u001b[49m\u001b[43m(\u001b[49m\u001b[43m)\u001b[49m\n\u001b[0;32m      3\u001b[0m \u001b[38;5;28mprint\u001b[39m(s\u001b[38;5;241m.\u001b[39mvorak)\n",
      "\u001b[1;31mTypeError\u001b[0m: KarginHaxordum.__init__() missing 3 required positional arguments: 'hamar', 'derasanner', and 'text'"
     ]
    }
   ],
   "source": [
    "s = KarginSketchShow()\n",
    "\n",
    "print(s.vorak)"
   ]
  },
  {
   "cell_type": "code",
   "execution_count": 15,
   "id": "7b538e8f",
   "metadata": {},
   "outputs": [
    {
     "name": "stdout",
     "output_type": "stream",
     "text": [
      "Հայաստան\n"
     ]
    }
   ],
   "source": [
    "print(s.erkir)"
   ]
  },
  {
   "cell_type": "code",
   "execution_count": 18,
   "id": "9a825069",
   "metadata": {},
   "outputs": [
    {
     "name": "stdout",
     "output_type": "stream",
     "text": [
      "մենք համեստ ենք, գլուխ չենք գովա\n"
     ]
    }
   ],
   "source": [
    "s.glux_goval()"
   ]
  },
  {
   "cell_type": "markdown",
   "id": "7a23d2e4",
   "metadata": {},
   "source": [
    "### init-ի նրբությունները"
   ]
  },
  {
   "cell_type": "code",
   "execution_count": null,
   "id": "1c3530ad",
   "metadata": {},
   "outputs": [],
   "source": [
    "class KarginHaxordum:\n",
    "    erkir = \"Հայաստան\"\n",
    "    vorak = \"Ֆանտաստիկ\"\n",
    "\n",
    "    def __init__(self, hamar, derasanner, text):\n",
    "        if hamar < 1:\n",
    "            print(\"պետքա բնական թիվ լինի\")\n",
    "        self.hamar = hamar\n",
    "        self.derasanner = derasanner\n",
    "        self.text = text\n",
    "\n",
    "    def nkarel(self, vorak=None, derasanner=None, text=None): \n",
    "        if vorak is None:\n",
    "            vorak = self.vorak\n",
    "        if derasanner is None:\n",
    "            derasanner = self.derasanner\n",
    "        if text is None:\n",
    "            text = self.text\n",
    "\n",
    "        print(f\"Որակը՝ {vorak}\")\n",
    "        print(f\"Կանչել {' '.join(derasanner)}\")\n",
    "        print(f\"Խնրդել որ ասեն -> {text}\")\n"
   ]
  },
  {
   "cell_type": "code",
   "execution_count": 30,
   "id": "dcea332b",
   "metadata": {},
   "outputs": [],
   "source": [
    "class KarginSketchShow(KarginHaxordum):\n",
    "    vorak = \"դե կարգին հաղորդում չի իհարկե, բայց դե փորձեցին ժողովուրդը\"\n",
    "\n",
    "    def glux_goval(self):\n",
    "        print(\"մենք համեստ ենք, գլուխ չենք գովա\")"
   ]
  },
  {
   "cell_type": "code",
   "execution_count": 31,
   "id": "8901a5a1",
   "metadata": {},
   "outputs": [
    {
     "ename": "TypeError",
     "evalue": "KarginHaxordum.__init__() missing 3 required positional arguments: 'hamar', 'derasanner', and 'text'",
     "output_type": "error",
     "traceback": [
      "\u001b[1;31m---------------------------------------------------------------------------\u001b[0m",
      "\u001b[1;31mTypeError\u001b[0m                                 Traceback (most recent call last)",
      "Input \u001b[1;32mIn [31]\u001b[0m, in \u001b[0;36m<cell line: 1>\u001b[1;34m()\u001b[0m\n\u001b[1;32m----> 1\u001b[0m s \u001b[38;5;241m=\u001b[39m \u001b[43mKarginSketchShow\u001b[49m\u001b[43m(\u001b[49m\u001b[43m)\u001b[49m\n",
      "\u001b[1;31mTypeError\u001b[0m: KarginHaxordum.__init__() missing 3 required positional arguments: 'hamar', 'derasanner', and 'text'"
     ]
    }
   ],
   "source": [
    "s = KarginSketchShow()\n"
   ]
  },
  {
   "cell_type": "code",
   "execution_count": 32,
   "id": "4589bcb5",
   "metadata": {},
   "outputs": [],
   "source": [
    "s = KarginSketchShow(509, [\"Մկո\", \"Մավսես\"], \"պանիր\")"
   ]
  },
  {
   "cell_type": "code",
   "execution_count": 33,
   "id": "ef0a7c75",
   "metadata": {},
   "outputs": [
    {
     "data": {
      "text/plain": [
       "509"
      ]
     },
     "execution_count": 33,
     "metadata": {},
     "output_type": "execute_result"
    }
   ],
   "source": [
    "s.hamar"
   ]
  },
  {
   "cell_type": "code",
   "execution_count": 34,
   "id": "4b767840",
   "metadata": {},
   "outputs": [
    {
     "name": "stdout",
     "output_type": "stream",
     "text": [
      "մենք համեստ ենք, գլուխ չենք գովա\n"
     ]
    }
   ],
   "source": [
    "s.glux_goval()"
   ]
  },
  {
   "cell_type": "markdown",
   "id": "1a670f30",
   "metadata": {},
   "source": [
    "Իսկ ինչ եթե ուզում ենք ինչ-որ պարամետրներ էլ ներառենք"
   ]
  },
  {
   "cell_type": "code",
   "execution_count": 35,
   "id": "5b176c83",
   "metadata": {},
   "outputs": [],
   "source": [
    "class KarginSketchShow(KarginHaxordum):\n",
    "    vorak = \"դե կարգին հաղորդում չի իհարկե, բայց դե փորձեցին ժողովուրդը\"\n",
    "\n",
    "    def __init__(self, mtqi_hexinak):\n",
    "        self.mtqi_hexinak = mtqi_hexinak\n",
    "\n",
    "    def glux_goval(self):\n",
    "        print(\"մենք համեստ ենք, գլուխ չենք գովա\")"
   ]
  },
  {
   "cell_type": "code",
   "execution_count": 36,
   "id": "50db043f",
   "metadata": {},
   "outputs": [],
   "source": [
    "s = KarginSketchShow(\"Ռաֆո\")"
   ]
  },
  {
   "cell_type": "code",
   "execution_count": 37,
   "id": "b2c0586a",
   "metadata": {},
   "outputs": [
    {
     "data": {
      "text/plain": [
       "'Ռաֆո'"
      ]
     },
     "execution_count": 37,
     "metadata": {},
     "output_type": "execute_result"
    }
   ],
   "source": [
    "s.mtqi_hexinak"
   ]
  },
  {
   "cell_type": "code",
   "execution_count": 38,
   "id": "1e54129e",
   "metadata": {},
   "outputs": [
    {
     "ename": "AttributeError",
     "evalue": "'KarginSketchShow' object has no attribute 'derasanner'",
     "output_type": "error",
     "traceback": [
      "\u001b[1;31m---------------------------------------------------------------------------\u001b[0m",
      "\u001b[1;31mAttributeError\u001b[0m                            Traceback (most recent call last)",
      "Input \u001b[1;32mIn [38]\u001b[0m, in \u001b[0;36m<cell line: 1>\u001b[1;34m()\u001b[0m\n\u001b[1;32m----> 1\u001b[0m \u001b[43ms\u001b[49m\u001b[38;5;241;43m.\u001b[39;49m\u001b[43mnkarel\u001b[49m\u001b[43m(\u001b[49m\u001b[43m)\u001b[49m\n",
      "Input \u001b[1;32mIn [29]\u001b[0m, in \u001b[0;36mKarginHaxordum.nkarel\u001b[1;34m(self, vorak, derasanner, text)\u001b[0m\n\u001b[0;32m     14\u001b[0m     vorak \u001b[38;5;241m=\u001b[39m \u001b[38;5;28mself\u001b[39m\u001b[38;5;241m.\u001b[39mvorak\n\u001b[0;32m     15\u001b[0m \u001b[38;5;28;01mif\u001b[39;00m derasanner \u001b[38;5;129;01mis\u001b[39;00m \u001b[38;5;28;01mNone\u001b[39;00m:\n\u001b[1;32m---> 16\u001b[0m     derasanner \u001b[38;5;241m=\u001b[39m \u001b[38;5;28;43mself\u001b[39;49m\u001b[38;5;241;43m.\u001b[39;49m\u001b[43mderasanner\u001b[49m\n\u001b[0;32m     17\u001b[0m \u001b[38;5;28;01mif\u001b[39;00m text \u001b[38;5;129;01mis\u001b[39;00m \u001b[38;5;28;01mNone\u001b[39;00m:\n\u001b[0;32m     18\u001b[0m     text \u001b[38;5;241m=\u001b[39m \u001b[38;5;28mself\u001b[39m\u001b[38;5;241m.\u001b[39mtext\n",
      "\u001b[1;31mAttributeError\u001b[0m: 'KarginSketchShow' object has no attribute 'derasanner'"
     ]
    }
   ],
   "source": [
    "s.nkarel()"
   ]
  },
  {
   "cell_type": "code",
   "execution_count": null,
   "id": "da7f67d2",
   "metadata": {},
   "outputs": [
    {
     "name": "stdout",
     "output_type": "stream",
     "text": [
      "Ռաֆո\n"
     ]
    },
    {
     "ename": "AttributeError",
     "evalue": "'KarginSketchShow' object has no attribute 'hamar'",
     "output_type": "error",
     "traceback": [
      "\u001b[0;31m---------------------------------------------------------------------------\u001b[0m\n",
      "\u001b[0;31mAttributeError\u001b[0m                            Traceback (most recent call last)\n",
      "\u001b[0;32m<ipython-input-147-6714aad4807c>\u001b[0m in \u001b[0;36m<cell line: 3>\u001b[0;34m()\u001b[0m\n",
      "\u001b[1;32m      1\u001b[0m \u001b[0ms\u001b[0m \u001b[0;34m=\u001b[0m \u001b[0mKarginSketchShow\u001b[0m\u001b[0;34m(\u001b[0m\u001b[0;34m\"Ռաֆո\"\u001b[0m\u001b[0;34m)\u001b[0m\u001b[0;34m\u001b[0m\u001b[0;34m\u001b[0m\u001b[0m\n",
      "\u001b[1;32m      2\u001b[0m \u001b[0mprint\u001b[0m\u001b[0;34m(\u001b[0m\u001b[0ms\u001b[0m\u001b[0;34m.\u001b[0m\u001b[0mmtqi_hexinak\u001b[0m\u001b[0;34m)\u001b[0m\u001b[0;34m\u001b[0m\u001b[0;34m\u001b[0m\u001b[0m\n",
      "\u001b[0;32m----> 3\u001b[0;31m \u001b[0mprint\u001b[0m\u001b[0;34m(\u001b[0m\u001b[0ms\u001b[0m\u001b[0;34m.\u001b[0m\u001b[0mhamar\u001b[0m\u001b[0;34m)\u001b[0m\u001b[0;34m\u001b[0m\u001b[0;34m\u001b[0m\u001b[0m\n",
      "\u001b[0m\n",
      "\u001b[0;31mAttributeError\u001b[0m: 'KarginSketchShow' object has no attribute 'hamar'"
     ]
    }
   ],
   "source": [
    "s = KarginSketchShow(\"Ռաֆո\")\n",
    "print(s.mtqi_hexinak)\n",
    "print(s.hamar)"
   ]
  },
  {
   "cell_type": "code",
   "execution_count": null,
   "id": "85102470",
   "metadata": {},
   "outputs": [],
   "source": [
    "class KarginSketchShow(KarginHaxordum):\n",
    "    vorak = \"դե կարգին հաղորդում չի իհարկե, բայց դե փորձեցին ժողովուրդը\"\n",
    "\n",
    "    def __init__(self, hamar, derasanner, text, mtqi_hexinak):\n",
    "        self.mtqi_hexinak = mtqi_hexinak\n",
    "\n",
    "        if hamar < 1:\n",
    "            print(\"պետքա բնական թիվ լինի\")\n",
    "        self.hamar = hamar\n",
    "        self.derasanner = derasanner\n",
    "        self.text = text\n",
    "        \n",
    "    def glux_goval(self):\n",
    "        print(\"մենք համեստ ենք, գլուխ չենք գովա\")\n"
   ]
  },
  {
   "cell_type": "code",
   "execution_count": 40,
   "id": "131ecd7e",
   "metadata": {},
   "outputs": [
    {
     "name": "stdout",
     "output_type": "stream",
     "text": [
      "Ռաֆո\n",
      "['Մկո', 'Մավսես']\n"
     ]
    }
   ],
   "source": [
    "s = KarginSketchShow(509, [\"Մկո\", \"Մավսես\"], \"պանիր\", \"Ռաֆո\")\n",
    "print(s.mtqi_hexinak)\n",
    "print(s.derasanner)"
   ]
  },
  {
   "cell_type": "code",
   "execution_count": 41,
   "id": "66428493",
   "metadata": {},
   "outputs": [],
   "source": [
    "class KarginSketchShow(KarginHaxordum):\n",
    "    vorak = \"դե կարգին հաղորդում չի իհարկե, բայց դե փորձեցին ժողովուրդը\"\n",
    "\n",
    "    def __init__(self, hamar, derasanner, text, mtqi_hexinak):\n",
    "        # KarginHaxordum.__init__(self, hamar, derasanner, text)\n",
    "        super().__init__(hamar, derasanner, text)\n",
    "        self.mtqi_hexinak = mtqi_hexinak\n",
    "\n",
    "    def glux_goval(self):\n",
    "        print(\"մենք համեստ ենք, գլուխ չենք գովա\")"
   ]
  },
  {
   "cell_type": "code",
   "execution_count": 42,
   "id": "25b4538b",
   "metadata": {},
   "outputs": [
    {
     "name": "stdout",
     "output_type": "stream",
     "text": [
      "Ռաֆո\n",
      "509\n",
      "Որակը՝ դե կարգին հաղորդում չի իհարկե, բայց դե փորձեցին ժողովուրդը\n",
      "Կանչել Մկո Մավսես\n",
      "Խնրդել որ ասեն -> պանիր\n",
      "None\n"
     ]
    }
   ],
   "source": [
    "s = KarginSketchShow(509, [\"Մկո\", \"Մավսես\"], \"պանիր\", \"Ռաֆո\")\n",
    "print(s.mtqi_hexinak)\n",
    "print(s.hamar)\n",
    "print(s.nkarel())"
   ]
  },
  {
   "cell_type": "markdown",
   "id": "b5337fd2",
   "metadata": {},
   "source": [
    "### Exceptionների օրինակ"
   ]
  },
  {
   "cell_type": "code",
   "execution_count": 44,
   "id": "e661a0c0",
   "metadata": {},
   "outputs": [
    {
     "ename": "ValueError",
     "evalue": "problem",
     "output_type": "error",
     "traceback": [
      "\u001b[1;31m---------------------------------------------------------------------------\u001b[0m",
      "\u001b[1;31mValueError\u001b[0m                                Traceback (most recent call last)",
      "Input \u001b[1;32mIn [44]\u001b[0m, in \u001b[0;36m<cell line: 1>\u001b[1;34m()\u001b[0m\n\u001b[1;32m----> 1\u001b[0m \u001b[38;5;28;01mraise\u001b[39;00m \u001b[38;5;167;01mValueError\u001b[39;00m(\u001b[38;5;124m\"\u001b[39m\u001b[38;5;124mproblem\u001b[39m\u001b[38;5;124m\"\u001b[39m)\n",
      "\u001b[1;31mValueError\u001b[0m: problem"
     ]
    }
   ],
   "source": [
    "raise ValueError(\"problem\")"
   ]
  },
  {
   "cell_type": "code",
   "execution_count": 45,
   "id": "b35dacde",
   "metadata": {},
   "outputs": [
    {
     "ename": "MerSepakanException",
     "evalue": "վայ-վայ-վայ, քոռանայի չլսեի",
     "output_type": "error",
     "traceback": [
      "\u001b[1;31m---------------------------------------------------------------------------\u001b[0m",
      "\u001b[1;31mMerSepakanException\u001b[0m                       Traceback (most recent call last)",
      "Input \u001b[1;32mIn [45]\u001b[0m, in \u001b[0;36m<cell line: 7>\u001b[1;34m()\u001b[0m\n\u001b[0;32m      6\u001b[0m ser \u001b[38;5;241m=\u001b[39m \u001b[38;5;28minput\u001b[39m(\u001b[38;5;124m\"\u001b[39m\u001b[38;5;124mԴուք սիրու՞մ եք կարգին հաղորդում: \u001b[39m\u001b[38;5;124m\"\u001b[39m)\n\u001b[0;32m      7\u001b[0m \u001b[38;5;28;01mif\u001b[39;00m ser \u001b[38;5;241m!=\u001b[39m \u001b[38;5;124m\"\u001b[39m\u001b[38;5;124mշատ\u001b[39m\u001b[38;5;124m\"\u001b[39m:\n\u001b[1;32m----> 8\u001b[0m     \u001b[38;5;28;01mraise\u001b[39;00m MerSepakanException(\u001b[38;5;124mf\u001b[39m\u001b[38;5;124m\"\u001b[39m\u001b[38;5;124mվայ-վայ-վայ, քոռանայի չլսեի\u001b[39m\u001b[38;5;124m\"\u001b[39m)\n",
      "\u001b[1;31mMerSepakanException\u001b[0m: վայ-վայ-վայ, քոռանայի չլսեի"
     ]
    }
   ],
   "source": [
    "class MerSepakanException(Exception):\n",
    "    def __init__(self, message):\n",
    "        self.message = message\n",
    "        super().__init__(self.message)\n",
    "\n",
    "ser = input(\"Դուք սիրու՞մ եք կարգին հաղորդում: \")\n",
    "if ser != \"շատ\":\n",
    "    raise MerSepakanException(f\"վայ-վայ-վայ, քոռանայի չլսեի\")"
   ]
  },
  {
   "cell_type": "markdown",
   "id": "6c745c86",
   "metadata": {},
   "source": [
    "### isinstance, issubclass"
   ]
  },
  {
   "cell_type": "code",
   "execution_count": 48,
   "id": "580b5bef",
   "metadata": {},
   "outputs": [
    {
     "data": {
      "text/plain": [
       "True"
      ]
     },
     "execution_count": 48,
     "metadata": {},
     "output_type": "execute_result"
    }
   ],
   "source": [
    "type(4) == int"
   ]
  },
  {
   "cell_type": "code",
   "execution_count": null,
   "id": "a041640f",
   "metadata": {},
   "outputs": [
    {
     "name": "stdout",
     "output_type": "stream",
     "text": [
      "False\n",
      "True\n",
      "True\n"
     ]
    }
   ],
   "source": [
    "class Animal:\n",
    "    pass\n",
    "\n",
    "class Shun(Animal):\n",
    "    pass\n",
    "\n",
    "tuzik = Shun()\n",
    "\n",
    "print(isinstance(tuzik, int))\n",
    "print(isinstance(tuzik, Shun))\n",
    "print(isinstance(tuzik, Animal))"
   ]
  },
  {
   "cell_type": "code",
   "execution_count": 50,
   "id": "a890ee61",
   "metadata": {},
   "outputs": [
    {
     "name": "stdout",
     "output_type": "stream",
     "text": [
      "False\n",
      "True\n",
      "False\n"
     ]
    }
   ],
   "source": [
    "class Animal:\n",
    "    pass\n",
    "\n",
    "class Shun(Animal):\n",
    "    pass\n",
    "\n",
    "print(issubclass(Shun, int))\n",
    "print(issubclass(Shun, Animal))\n",
    "print(issubclass(Animal, Shun))\n",
    "\n"
   ]
  },
  {
   "cell_type": "markdown",
   "id": "7780a0f1",
   "metadata": {},
   "source": [
    "### Method resolution order (MRO)\n",
    "- [GeeksforGeeks, MRO](https://www.geeksforgeeks.org/python/method-resolution-order-in-python-inheritance/)\n",
    "- [GeeksforGeeks, C3 Linearization](https://www.geeksforgeeks.org/python/c3-linearization-algorithm-in-python/)"
   ]
  },
  {
   "cell_type": "code",
   "execution_count": null,
   "id": "1fcc24ab",
   "metadata": {},
   "outputs": [
    {
     "name": "stdout",
     "output_type": "stream",
     "text": [
      "A1.foo\n",
      "[<class '__main__.C'>, <class '__main__.B1'>, <class '__main__.A1'>, <class '__main__.B2'>, <class '__main__.A2'>, <class 'object'>]\n",
      "b1\n"
     ]
    }
   ],
   "source": [
    "class A1:\n",
    "    def foo(self):\n",
    "        print(\"A1.foo\")\n",
    "\n",
    "class A2:\n",
    "    def foo(self):\n",
    "        print(\"A2.foo\")\n",
    "\n",
    "class B1(A1): # B1, A1, object\n",
    "    name = \"b1\"\n",
    "    pass\n",
    "    # def foo(self):\n",
    "    #     print(\"B1.foo\")\n",
    "        \n",
    "class B2(A2): # B2, A2, object\n",
    "    name = \"b2\"\n",
    "    def foo(self):\n",
    "        print(\"B2.foo\")\n",
    "\n",
    "class C(B1, B2):\n",
    "    pass\n",
    "\n",
    "# A1 | A2\n",
    "# B1 | B2\n",
    "# C\n",
    "\n",
    "c = C()\n",
    "c.foo()          \n",
    "print(C.mro())   \n",
    "\n",
    "print(c.name)"
   ]
  },
  {
   "cell_type": "markdown",
   "id": "eac3ffb5",
   "metadata": {},
   "source": [
    "Միշտ չի որ կաշխատի՝"
   ]
  },
  {
   "cell_type": "code",
   "execution_count": 60,
   "id": "e00fbb04",
   "metadata": {},
   "outputs": [
    {
     "ename": "TypeError",
     "evalue": "Cannot create a consistent method resolution\norder (MRO) for bases B, C",
     "output_type": "error",
     "traceback": [
      "\u001b[1;31m---------------------------------------------------------------------------\u001b[0m",
      "\u001b[1;31mTypeError\u001b[0m                                 Traceback (most recent call last)",
      "Input \u001b[1;32mIn [60]\u001b[0m, in \u001b[0;36m<cell line: 16>\u001b[1;34m()\u001b[0m\n\u001b[0;32m     13\u001b[0m \u001b[38;5;28;01mclass\u001b[39;00m \u001b[38;5;21;01mY\u001b[39;00m(C, B):\n\u001b[0;32m     14\u001b[0m     \u001b[38;5;28;01mpass\u001b[39;00m\n\u001b[1;32m---> 16\u001b[0m \u001b[38;5;28;01mclass\u001b[39;00m \u001b[38;5;21;01mZ\u001b[39;00m(X, Y):\n\u001b[0;32m     17\u001b[0m     \u001b[38;5;28;01mpass\u001b[39;00m\n\u001b[0;32m     19\u001b[0m z \u001b[38;5;241m=\u001b[39m Z()\n",
      "\u001b[1;31mTypeError\u001b[0m: Cannot create a consistent method resolution\norder (MRO) for bases B, C"
     ]
    }
   ],
   "source": [
    "class A:\n",
    "    pass \n",
    "\n",
    "class B(A):\n",
    "    pass \n",
    "\n",
    "class C(A):\n",
    "    pass\n",
    "\n",
    "class X(B, C):\n",
    "    pass \n",
    "\n",
    "class Y(C, B):\n",
    "    pass\n",
    "\n",
    "class Z(X, Y):\n",
    "    pass\n",
    "\n",
    "z = Z()\n",
    "z.mro()"
   ]
  },
  {
   "cell_type": "markdown",
   "id": "a40417f4",
   "metadata": {},
   "source": [
    "The key thing is that Python’s C3‐linearization must respect the local precedence order declared in each class. In class B2(A1, A2) you’ve said “A1 comes before A2,” so no MRO for any subclass of B2 may ever put A2 before A1."
   ]
  },
  {
   "cell_type": "markdown",
   "id": "3aced3f5",
   "metadata": {},
   "source": [
    "### Composition vs Inheritance\n",
    "In object‐oriented design, composition over inheritance is the principle that you should prefer to build complex behavior by combining (“composing”) simple objects, rather than by creating deep class hierarchies through inheritance.\n",
    "\n",
    "- [Composition Over Inheritance Explained, 5 minute video](https://www.youtube.com/watch?v=_hb_oRhASuw)\n",
    "- [CodeAestetics The Flaws of Inheritance, 10 minute video](https://www.youtube.com/watch?v=hxGOiiR9ZKg)\n",
    "- [ArjanCodes, 23 minute video](https://www.youtube.com/watch?v=0mcP8ZpUR38)\n",
    "- [Real Python - Composition vs Inheritance](https://realpython.com/inheritance-composition-python/)"
   ]
  },
  {
   "cell_type": "code",
   "execution_count": 61,
   "id": "8e29b5f9",
   "metadata": {},
   "outputs": [],
   "source": [
    "class Bird:\n",
    "    def fly(self):  \n",
    "        print(\"Flapping wings\")\n",
    "\n",
    "class Duck(Bird):\n",
    "    pass\n",
    "\n",
    "class Ostrich(Bird):\n",
    "    # Ostriches can't fly, but still inherit fly()\n",
    "    def fly(self):\n",
    "        raise NotImplementedError(\"Ostrich can't fly!\")\n"
   ]
  },
  {
   "cell_type": "markdown",
   "id": "0d5f2f7a",
   "metadata": {},
   "source": [
    "Here, `Ostrich` must override `fly()` just to prevent inherited behavior that doesn’t apply. As more behaviors accumulate (swimming, singing, nesting…), you could end up with a combinatorial explosion of subclasses."
   ]
  },
  {
   "cell_type": "markdown",
   "id": "b6c0a4cb",
   "metadata": {},
   "source": [
    "#### Composition approach"
   ]
  },
  {
   "cell_type": "code",
   "execution_count": 62,
   "id": "6c7e744d",
   "metadata": {},
   "outputs": [],
   "source": [
    "class FlyingBehavior:\n",
    "    def fly(self):\n",
    "        print(\"Flapping wings\")\n",
    "\n",
    "class NoFlyBehavior:\n",
    "    def fly(self):\n",
    "        raise NotImplementedError(\"Cannot fly!\")"
   ]
  },
  {
   "cell_type": "code",
   "execution_count": 63,
   "id": "4c63cb65",
   "metadata": {},
   "outputs": [],
   "source": [
    "class Bird:\n",
    "    def __init__(self, fly_behavior):\n",
    "        self._fly_behavior = fly_behavior\n",
    "\n",
    "    def fly(self):\n",
    "        return self._fly_behavior.fly()\n",
    "\n",
    "class Duck(Bird):\n",
    "    def __init__(self):\n",
    "        super().__init__(FlyingBehavior())\n",
    "\n",
    "class Ostrich(Bird):\n",
    "    def __init__(self):\n",
    "        super().__init__(NoFlyBehavior())\n"
   ]
  },
  {
   "cell_type": "code",
   "execution_count": 64,
   "id": "7ddc5048",
   "metadata": {},
   "outputs": [
    {
     "name": "stdout",
     "output_type": "stream",
     "text": [
      "Flapping wings\n"
     ]
    }
   ],
   "source": [
    "duck = Duck()\n",
    "duck.fly()\n",
    "# → “Flapping wings”"
   ]
  },
  {
   "cell_type": "code",
   "execution_count": 65,
   "id": "bce7855a",
   "metadata": {},
   "outputs": [
    {
     "ename": "NotImplementedError",
     "evalue": "Cannot fly!",
     "output_type": "error",
     "traceback": [
      "\u001b[1;31m---------------------------------------------------------------------------\u001b[0m",
      "\u001b[1;31mNotImplementedError\u001b[0m                       Traceback (most recent call last)",
      "Input \u001b[1;32mIn [65]\u001b[0m, in \u001b[0;36m<cell line: 2>\u001b[1;34m()\u001b[0m\n\u001b[0;32m      1\u001b[0m ostrich \u001b[38;5;241m=\u001b[39m Ostrich()\n\u001b[1;32m----> 2\u001b[0m \u001b[43mostrich\u001b[49m\u001b[38;5;241;43m.\u001b[39;49m\u001b[43mfly\u001b[49m\u001b[43m(\u001b[49m\u001b[43m)\u001b[49m\n",
      "Input \u001b[1;32mIn [63]\u001b[0m, in \u001b[0;36mBird.fly\u001b[1;34m(self)\u001b[0m\n\u001b[0;32m      5\u001b[0m \u001b[38;5;28;01mdef\u001b[39;00m \u001b[38;5;21mfly\u001b[39m(\u001b[38;5;28mself\u001b[39m):\n\u001b[1;32m----> 6\u001b[0m     \u001b[38;5;28;01mreturn\u001b[39;00m \u001b[38;5;28;43mself\u001b[39;49m\u001b[38;5;241;43m.\u001b[39;49m\u001b[43m_fly_behavior\u001b[49m\u001b[38;5;241;43m.\u001b[39;49m\u001b[43mfly\u001b[49m\u001b[43m(\u001b[49m\u001b[43m)\u001b[49m\n",
      "Input \u001b[1;32mIn [62]\u001b[0m, in \u001b[0;36mNoFlyBehavior.fly\u001b[1;34m(self)\u001b[0m\n\u001b[0;32m      6\u001b[0m \u001b[38;5;28;01mdef\u001b[39;00m \u001b[38;5;21mfly\u001b[39m(\u001b[38;5;28mself\u001b[39m):\n\u001b[1;32m----> 7\u001b[0m     \u001b[38;5;28;01mraise\u001b[39;00m \u001b[38;5;167;01mNotImplementedError\u001b[39;00m(\u001b[38;5;124m\"\u001b[39m\u001b[38;5;124mCannot fly!\u001b[39m\u001b[38;5;124m\"\u001b[39m)\n",
      "\u001b[1;31mNotImplementedError\u001b[0m: Cannot fly!"
     ]
    }
   ],
   "source": [
    "ostrich = Ostrich()\n",
    "ostrich.fly()"
   ]
  },
  {
   "cell_type": "markdown",
   "id": "023c8fdb",
   "metadata": {},
   "source": [
    "## Polymorphism\n",
    "- [Programiz - Python Polymorphism](https://www.programiz.com/python-programming/polymorphism)"
   ]
  },
  {
   "cell_type": "code",
   "execution_count": null,
   "id": "57dc8d82",
   "metadata": {},
   "outputs": [
    {
     "name": "stdout",
     "output_type": "stream",
     "text": [
      "11\n",
      "2\n"
     ]
    }
   ],
   "source": [
    "# +\n",
    "print(\"1\" + \"1\")\n",
    "print(1 + 1)\n",
    "\n",
    "# __add__()\n",
    "# int + int\n",
    "# print(KarginHaxordum + )\n",
    "# +, in, len, [0]"
   ]
  },
  {
   "attachments": {
    "image.png": {
     "image/png": "[encoded data removed]"
    }
   },
   "cell_type": "markdown",
   "id": "fece49a0",
   "metadata": {},
   "source": [
    "![image.png](attachment:image.png)"
   ]
  },
  {
   "cell_type": "code",
   "execution_count": 66,
   "id": "4346642e",
   "metadata": {},
   "outputs": [
    {
     "name": "stdout",
     "output_type": "stream",
     "text": [
      "340\n",
      "7126\n",
      "28.274328\n",
      "78.5398\n"
     ]
    }
   ],
   "source": [
    "class Rectangle:\n",
    "    def __init__(self, width, height):\n",
    "        self.width = width\n",
    "        self.height = height\n",
    "\n",
    "    def calculate_rect_area(self):\n",
    "        return self.width * self.height\n",
    "\n",
    "class Circle:\n",
    "    def __init__(self, radius):\n",
    "        self.radius = radius\n",
    "\n",
    "    def calculate_circle_area(self):\n",
    "        return 3.141592 * self.radius ** 2\n",
    "\n",
    "rect1 = Rectangle(34, 10)\n",
    "rect2 = Rectangle(14, 509)\n",
    "circle1 = Circle(3)\n",
    "circle2 = Circle(5)\n",
    "\n",
    "print(rect1.calculate_rect_area())\n",
    "print(rect2.calculate_rect_area())\n",
    "print(circle1.calculate_circle_area())\n",
    "print(circle2.calculate_circle_area())"
   ]
  },
  {
   "cell_type": "code",
   "execution_count": 67,
   "id": "10587062",
   "metadata": {},
   "outputs": [
    {
     "name": "stdout",
     "output_type": "stream",
     "text": [
      "340\n",
      "5599\n",
      "28.274328000000004\n",
      "78.5398\n"
     ]
    }
   ],
   "source": [
    "class Rectangle:\n",
    "    def __init__(self, width, height):\n",
    "        self.width = width\n",
    "        self.height = height\n",
    "\n",
    "    def calculate_rect_area(self):\n",
    "        return self.width * self.height\n",
    "\n",
    "class Circle:\n",
    "    def __init__(self, radius):\n",
    "        self.radius = radius\n",
    "\n",
    "    def calculate_circle_area(self):\n",
    "        return 3.141592 * self.radius * self.radius\n",
    "\n",
    "rect1 = Rectangle(34, 10)\n",
    "rect2 = Rectangle(11, 509)\n",
    "circle1 = Circle(3)\n",
    "circle2 = Circle(5)\n",
    "\n",
    "for r in [rect1, rect2]:\n",
    "    print(r.calculate_rect_area())\n",
    "\n",
    "for c in [circle1, circle2]:\n",
    "    print(c.calculate_circle_area())\n"
   ]
  },
  {
   "cell_type": "code",
   "execution_count": 68,
   "id": "747632c8",
   "metadata": {},
   "outputs": [
    {
     "name": "stdout",
     "output_type": "stream",
     "text": [
      "340\n",
      "5599\n",
      "28.274328000000004\n",
      "78.5398\n"
     ]
    }
   ],
   "source": [
    "class Rectangle:\n",
    "    def __init__(self, width, height):\n",
    "        self.width = width\n",
    "        self.height = height\n",
    "\n",
    "    def calculate_area(self):\n",
    "        return self.width * self.height\n",
    "\n",
    "class Circle:\n",
    "    def __init__(self, radius):\n",
    "        self.radius = radius\n",
    "\n",
    "    def calculate_area(self):\n",
    "        return 3.141592 * self.radius * self.radius\n",
    "\n",
    "rect1 = Rectangle(34, 10)\n",
    "rect2 = Rectangle(11, 509)\n",
    "circle1 = Circle(3)\n",
    "circle2 = Circle(5)\n",
    "\n",
    "for shape in [rect1, rect2, circle1, circle2]:\n",
    "    print(shape.calculate_area())\n",
    "\n"
   ]
  },
  {
   "cell_type": "code",
   "execution_count": null,
   "id": "47bfa6ab",
   "metadata": {},
   "outputs": [
    {
     "name": "stdout",
     "output_type": "stream",
     "text": [
      "340\n",
      "78.5398\n"
     ]
    }
   ],
   "source": [
    "class Rectangle:\n",
    "    def __init__(self, width, height):\n",
    "        self.width = width\n",
    "        self.height = height\n",
    "\n",
    "    def calculate_area(self):\n",
    "        return self.width * self.height\n",
    "\n",
    "class Circle:\n",
    "    def __init__(self, radius):\n",
    "        self.radius = radius\n",
    "\n",
    "    def calculate_area(self):\n",
    "        return 3.141592 * self.radius * self.radius\n",
    "\n",
    "rect1 = Rectangle(34, 10)\n",
    "rect2 = Rectangle(11, 509)\n",
    "circle1 = Circle(3)\n",
    "circle2 = Circle(5)\n",
    "\n",
    "def area(shape):\n",
    "    return shape.calculate_area()\n",
    "\n",
    "print(area(rect1))\n",
    "print(area(circle2))"
   ]
  },
  {
   "cell_type": "code",
   "execution_count": 73,
   "id": "92a9c203",
   "metadata": {},
   "outputs": [
    {
     "data": {
      "text/plain": [
       "('Բարև', 'Փարևև, բաբամ')"
      ]
     },
     "execution_count": 73,
     "metadata": {},
     "output_type": "execute_result"
    }
   ],
   "source": [
    "class Armenian:\n",
    "    def barevel(self):\n",
    "        return \"Բարև\"\n",
    "\n",
    "class SpyurqaArmenian:\n",
    "    def barevel(self):\n",
    "        return \"Փարևև, բաբամ\"\n",
    "\n",
    "a = Armenian()\n",
    "s = SpyurqaArmenian()\n",
    "\n",
    "def barev(mard):\n",
    "    return mard.barevel()\n",
    "\n",
    "barev(a), barev(s)"
   ]
  },
  {
   "cell_type": "markdown",
   "id": "ce4ed677",
   "metadata": {},
   "source": [
    "### Magic methods"
   ]
  },
  {
   "cell_type": "code",
   "execution_count": 74,
   "id": "1746e90a",
   "metadata": {},
   "outputs": [],
   "source": [
    "import os\n",
    "import json\n",
    "\n",
    "PATH = os.path.join(\"assets\", \"imdb_top_999.json\")\n",
    "\n",
    "with open(PATH, \"r\") as f:\n",
    "    data = json.load(f)\n",
    "\n",
    "KEYS_TO_DELETE = ['Meta_score', \"No_of_Votes\", \"Overview\"]\n",
    "\n",
    "\n",
    "for i in data.keys():\n",
    "    for k in KEYS_TO_DELETE:\n",
    "        del data[i][k]\n",
    "\n",
    "for i in data.keys():\n",
    "    data[i][\"Name\"] = i\n"
   ]
  },
  {
   "cell_type": "code",
   "execution_count": 76,
   "id": "746345fc",
   "metadata": {},
   "outputs": [
    {
     "data": {
      "text/plain": [
       "{'Released_Year': '1994',\n",
       " 'Runtime': '142 min',\n",
       " 'Genre': 'Drama',\n",
       " 'IMDB_Rating': 9.3,\n",
       " 'Director': 'Frank Darabont',\n",
       " 'Star1': 'Tim Robbins',\n",
       " 'Star2': 'Morgan Freeman',\n",
       " 'Star3': 'Bob Gunton',\n",
       " 'Star4': 'William Sadler',\n",
       " 'Gross': '28,341,469',\n",
       " 'Name': 'The Shawshank Redemption'}"
      ]
     },
     "execution_count": 76,
     "metadata": {},
     "output_type": "execute_result"
    }
   ],
   "source": [
    "data[\"The Shawshank Redemption\"]"
   ]
  },
  {
   "cell_type": "code",
   "execution_count": null,
   "id": "a23e1033",
   "metadata": {},
   "outputs": [],
   "source": [
    "class Kino:\n",
    "    def __init__(self, Name, Released_Year, Runtime, Genre, IMDB_Rating, Director,\n",
    "                Star1, Star2, Star3, Star4, Gross):\n",
    "        self.name = Name\n",
    "        self.release_year = Released_Year\n",
    "        self.runtime = Runtime\n",
    "        self.genre = Genre\n",
    "        self.rating = IMDB_Rating\n",
    "        self.director = Director\n",
    "        self.star1 = Star1\n",
    "        self.star2 = Star2\n",
    "        self.star3 = Star3\n",
    "        self.star4 = Star4\n",
    "        self.gross = Gross\n",
    "\n",
    "    def get_actors(self):\n",
    "        self.star_string = \", \".join([self.star1, self.star2, self.star3, self.star4])\n",
    "        return self.star_string\n",
    "\n",
    "    def get_info(self):\n",
    "        self.info = f\"Was released in {self.release_year} by {self.director}\"\n",
    "        return self.info\n",
    "\n",
    "    \n"
   ]
  },
  {
   "cell_type": "code",
   "execution_count": 78,
   "id": "49ffbc93",
   "metadata": {},
   "outputs": [
    {
     "name": "stdout",
     "output_type": "stream",
     "text": [
      "Colin Firth, Geoffrey Rush, Helena Bonham Carter, Derek Jacobi\n",
      "Was released in 2010 by Tom Hooper\n",
      "<__main__.Kino object at 0x0000016F14FE21D0>\n"
     ]
    }
   ],
   "source": [
    "k1 = Kino(**data[\"The King's Speech\"])\n",
    "\n",
    "print(k1.get_actors())\n",
    "print(k1.get_info())\n",
    "print(k1)"
   ]
  },
  {
   "cell_type": "markdown",
   "id": "bf6a6115",
   "metadata": {},
   "source": [
    "| Category                         | Key Methods                           | What They Enable                       |\n",
    "| -------------------------------- | ------------------------------------- | -------------------------------------- |\n",
    "| **Representation**               | `__str__`, `__repr__`                 | `print(obj)`, helpful print |\n",
    "| **Size & Truthiness**            | `__len__`, `__bool__`                 | `len(obj)`, `if obj:`                  |\n",
    "| **Iteration & Container Access** | `__iter__`, `__next__`, `__getitem__` | `for x in obj`, `obj[i]`               |\n",
    "| **Arithmetic / Operators**       | `__add__`, `__sub__`, `__mul__`, …    | `obj1 + obj2`, `obj * 3`               |\n",
    "| **Comparison**                   | `__eq__`, `__lt__`, …                 | `obj1 == obj2`, sorting                |\n",
    "| **Context Management**           | `__enter__`, `__exit__`               | `with obj:` blocks                     |\n"
   ]
  },
  {
   "cell_type": "code",
   "execution_count": null,
   "id": "c557bff1",
   "metadata": {},
   "outputs": [],
   "source": [
    "# __init__()\n",
    "# __str__()\n"
   ]
  },
  {
   "cell_type": "code",
   "execution_count": 79,
   "id": "9504f952",
   "metadata": {},
   "outputs": [
    {
     "name": "stdout",
     "output_type": "stream",
     "text": [
      "<__main__.Kino object at 0x0000016F14F565F0>\n"
     ]
    }
   ],
   "source": [
    "movie = Kino(**data[\"Forrest Gump\"])\n",
    "print(movie)"
   ]
  },
  {
   "cell_type": "markdown",
   "id": "e9e395ff",
   "metadata": {},
   "source": [
    "### Representation (repr, str)"
   ]
  },
  {
   "cell_type": "markdown",
   "id": "4ae13ea0",
   "metadata": {},
   "source": [
    "#### str"
   ]
  },
  {
   "cell_type": "code",
   "execution_count": 80,
   "id": "e8c9eaed",
   "metadata": {},
   "outputs": [
    {
     "name": "stdout",
     "output_type": "stream",
     "text": [
      "[2, 3]\n"
     ]
    }
   ],
   "source": [
    "print([2, 3])"
   ]
  },
  {
   "cell_type": "code",
   "execution_count": null,
   "id": "fa3931c5",
   "metadata": {},
   "outputs": [
    {
     "name": "stdout",
     "output_type": "stream",
     "text": [
      "<__main__.Kino object at 0x7a6dd30b8f90>\n"
     ]
    }
   ],
   "source": [
    "print(movie)"
   ]
  },
  {
   "cell_type": "code",
   "execution_count": null,
   "id": "99c8abd6",
   "metadata": {},
   "outputs": [
    {
     "name": "stdout",
     "output_type": "stream",
     "text": [
      "<__main__.Kino object at 0x0000016F14F565F0>\n",
      "<__main__.Kino object at 0x0000016F14F565F0>\n"
     ]
    }
   ],
   "source": [
    "a = str(movie)\n",
    "print(movie.__str__())\n",
    "print(a)\n",
    "\n",
    "# 1 + 1\n",
    "# 1.__add__(1)"
   ]
  },
  {
   "cell_type": "code",
   "execution_count": 82,
   "id": "d66557a1",
   "metadata": {},
   "outputs": [],
   "source": [
    "class Kino:\n",
    "    def __init__(self, Name, Released_Year, Runtime, Genre, IMDB_Rating, Director,\n",
    "                Star1, Star2, Star3, Star4, Gross):\n",
    "        self.name = Name\n",
    "        self.release_year = Released_Year\n",
    "        self.runtime = Runtime\n",
    "        self.genre = Genre\n",
    "        self.rating = IMDB_Rating\n",
    "        self.director = Director\n",
    "        self.star1 = Star1\n",
    "        self.star2 = Star2\n",
    "        self.star3 = Star3\n",
    "        self.star4 = Star4\n",
    "        self.gross = Gross\n",
    "\n",
    "    def __str__(self):\n",
    "        return f\"{self.name} by {self.director}, released in {self.release_year}\"\n",
    "\n",
    "    def get_actors(self):\n",
    "        self.star_string = \", \".join([self.star1, self.star2, self.star3, self.star4])\n",
    "        return self.star_string\n",
    "\n",
    "    def get_info(self):\n",
    "        self.info = f\"Was released in {self.release_year} by {self.director}\"\n",
    "        return self.info\n",
    "\n",
    "\n",
    "movie = Kino(**data[\"Forrest Gump\"])"
   ]
  },
  {
   "cell_type": "code",
   "execution_count": null,
   "id": "e8d3d366",
   "metadata": {},
   "outputs": [
    {
     "name": "stdout",
     "output_type": "stream",
     "text": [
      "Forrest Gump by Robert Zemeckis, released in 1994\n",
      "Forrest Gump by Robert Zemeckis, released in 1994\n",
      "Forrest Gump by Robert Zemeckis, released in 1994\n"
     ]
    }
   ],
   "source": [
    "print(movie)\n",
    "print(movie.__str__())\n",
    "print(str(movie))"
   ]
  },
  {
   "cell_type": "code",
   "execution_count": 85,
   "id": "e828e8d0",
   "metadata": {},
   "outputs": [
    {
     "name": "stdout",
     "output_type": "stream",
     "text": [
      "<__main__.Kino object at 0x0000016F1616CE50>\n"
     ]
    }
   ],
   "source": [
    "a = repr(movie)\n",
    "print(a)"
   ]
  },
  {
   "cell_type": "markdown",
   "id": "2b5eac4e",
   "metadata": {},
   "source": [
    "#### repr"
   ]
  },
  {
   "cell_type": "code",
   "execution_count": null,
   "id": "8b5bc12b",
   "metadata": {},
   "outputs": [],
   "source": [
    "class Kino:\n",
    "    def __init__(self, Name, Released_Year, Runtime, Genre, IMDB_Rating, Director,\n",
    "                Star1, Star2, Star3, Star4, Gross):\n",
    "        self.name = Name\n",
    "        self.release_year = Released_Year\n",
    "        self.runtime = Runtime\n",
    "        self.genre = Genre\n",
    "        self.rating = IMDB_Rating\n",
    "        self.director = Director\n",
    "        self.star1 = Star1\n",
    "        self.star2 = Star2\n",
    "        self.star3 = Star3\n",
    "        self.star4 = Star4\n",
    "        self.gross = Gross\n",
    "\n",
    "    def __str__(self):\n",
    "        return f\"{self.name} by {self.director}, released in {self.release_year}\"\n",
    "\n",
    "    # movie = Kino(**data[\"Forrest Gump\"])\n",
    "    def __repr__(self):\n",
    "        return f\"to create run Kino(**data['{self.name}']))\"\n",
    "\n",
    "    def get_actors(self):\n",
    "        self.star_string = \", \".join([self.star1, self.star2, self.star3, self.star4])\n",
    "        return self.star_string\n",
    "\n",
    "    def get_info(self):\n",
    "        self.info = f\"Was released in {self.release_year} by {self.director}\"\n",
    "        return self.info\n",
    "\n",
    "\n",
    "movie = Kino(**data[\"Forrest Gump\"])"
   ]
  },
  {
   "cell_type": "code",
   "execution_count": 90,
   "id": "3fefa570",
   "metadata": {},
   "outputs": [
    {
     "name": "stdout",
     "output_type": "stream",
     "text": [
      "to create run Kino(**data['Forrest Gump']))\n"
     ]
    }
   ],
   "source": [
    "print(movie) # str եթե կա, եթե չէ repr"
   ]
  },
  {
   "cell_type": "code",
   "execution_count": null,
   "id": "f1c5ee5e",
   "metadata": {},
   "outputs": [
    {
     "data": {
      "text/plain": [
       "\"to create run Kino(**data['Forrest Gump']))\""
      ]
     },
     "execution_count": 88,
     "metadata": {},
     "output_type": "execute_result"
    }
   ],
   "source": [
    "repr(movie)"
   ]
  },
  {
   "cell_type": "markdown",
   "id": "d69893e6",
   "metadata": {},
   "source": [
    "## Arithmetic / Operators (__eq__, __ne__, __lt__, __le__, __gt__, __ge__)"
   ]
  },
  {
   "cell_type": "markdown",
   "id": "a595f32a",
   "metadata": {},
   "source": [
    "### eq"
   ]
  },
  {
   "cell_type": "code",
   "execution_count": 91,
   "id": "ecdcded3",
   "metadata": {},
   "outputs": [],
   "source": [
    "class Kino:\n",
    "    def __init__(self, Name, Released_Year, Runtime, Genre, IMDB_Rating, Director,\n",
    "                Star1, Star2, Star3, Star4, Gross):\n",
    "        self.name = Name\n",
    "        self.release_year = Released_Year\n",
    "        self.runtime = Runtime\n",
    "        self.genre = Genre\n",
    "        self.rating = IMDB_Rating\n",
    "        self.director = Director\n",
    "        self.star1 = Star1\n",
    "        self.star2 = Star2\n",
    "        self.star3 = Star3\n",
    "        self.star4 = Star4\n",
    "        self.gross = Gross\n",
    "\n",
    "    def __str__(self):\n",
    "        return f\"{self.name} by {self.director}, released in {self.release_year}\"\n",
    "\n",
    "    def __repr__(self):\n",
    "        return f\"to create run Kino(**data['{self.name}']))\"\n",
    "\n",
    "    def get_actors(self):\n",
    "        self.star_string = \", \".join([self.star1, self.star2, self.star3, self.star4])\n",
    "        return self.star_string\n",
    "\n",
    "    def get_info(self):\n",
    "        self.info = f\"Was released in {self.release_year} by {self.director}\"\n",
    "        return self.info\n",
    "\n",
    "\n",
    "\n",
    "movie1 = Kino(**data[\"Forrest Gump\"])\n",
    "movie2 = Kino(**data['The Shawshank Redemption'])"
   ]
  },
  {
   "cell_type": "code",
   "execution_count": 93,
   "id": "3e7054af",
   "metadata": {},
   "outputs": [
    {
     "data": {
      "text/plain": [
       "False"
      ]
     },
     "execution_count": 93,
     "metadata": {},
     "output_type": "execute_result"
    }
   ],
   "source": [
    "movie1 == movie2"
   ]
  },
  {
   "cell_type": "code",
   "execution_count": null,
   "id": "86a62ae5",
   "metadata": {},
   "outputs": [],
   "source": [
    "class Kino:\n",
    "    def __init__(self, Name, Released_Year, Runtime, Genre, IMDB_Rating, Director,\n",
    "                Star1, Star2, Star3, Star4, Gross):\n",
    "        self.name = Name\n",
    "        self.release_year = Released_Year\n",
    "        self.runtime = Runtime\n",
    "        self.genre = Genre\n",
    "        self.rating = IMDB_Rating\n",
    "        self.director = Director\n",
    "        self.star1 = Star1\n",
    "        self.star2 = Star2\n",
    "        self.star3 = Star3\n",
    "        self.star4 = Star4\n",
    "        self.gross = Gross\n",
    "\n",
    "    def __eq__(self, other): # equal\n",
    "        return self.director == other.director\n",
    "\n",
    "\n",
    "movie1 = Kino(**data['The Godfather'])\n",
    "movie2 = Kino(**data[\"The Godfather: Part II\"])\n",
    "movie3 = Kino(**data['The Shawshank Redemption'])"
   ]
  },
  {
   "cell_type": "code",
   "execution_count": 96,
   "id": "86f7f433",
   "metadata": {},
   "outputs": [
    {
     "data": {
      "text/plain": [
       "'Francis Ford Coppola'"
      ]
     },
     "execution_count": 96,
     "metadata": {},
     "output_type": "execute_result"
    }
   ],
   "source": [
    "# data['The Godfather']\n",
    "movie2.director\n"
   ]
  },
  {
   "cell_type": "code",
   "execution_count": null,
   "id": "e62c1357",
   "metadata": {},
   "outputs": [
    {
     "name": "stdout",
     "output_type": "stream",
     "text": [
      "True\n",
      "False\n"
     ]
    }
   ],
   "source": [
    "print(movie1 == movie2) # -> movie1.__eq__(movie2)\n",
    "print(movie1 == movie3) "
   ]
  },
  {
   "cell_type": "code",
   "execution_count": 98,
   "id": "14ed7599",
   "metadata": {},
   "outputs": [
    {
     "name": "stdout",
     "output_type": "stream",
     "text": [
      "True\n"
     ]
    }
   ],
   "source": [
    "print(movie2 != movie3)"
   ]
  },
  {
   "cell_type": "markdown",
   "id": "146d0d55",
   "metadata": {},
   "source": [
    "## not equal"
   ]
  },
  {
   "cell_type": "code",
   "execution_count": 99,
   "id": "829691f1",
   "metadata": {},
   "outputs": [],
   "source": [
    "class Kino:\n",
    "    def __init__(self, Name, Released_Year, Runtime, Genre, IMDB_Rating, Director,\n",
    "                Star1, Star2, Star3, Star4, Gross):\n",
    "        self.name = Name\n",
    "        self.release_year = Released_Year\n",
    "        self.runtime = Runtime\n",
    "        self.genre = Genre\n",
    "        self.rating = IMDB_Rating\n",
    "        self.director = Director\n",
    "        self.star1 = Star1\n",
    "        self.star2 = Star2\n",
    "        self.star3 = Star3\n",
    "        self.star4 = Star4\n",
    "        self.gross = Gross\n",
    "\n",
    "    def __eq__(self, other):\n",
    "        return self.director == other.director\n",
    "\n",
    "    def __ne__(self, other): # not equal\n",
    "        return not self.__eq__(other)\n",
    "\n",
    "\n",
    "movie1 = Kino(**data['The Godfather'])\n",
    "movie2 = Kino(**data[\"The Godfather: Part II\"])\n",
    "movie3 = Kino(**data['The Shawshank Redemption'])"
   ]
  },
  {
   "cell_type": "code",
   "execution_count": 100,
   "id": "14e4e5b8",
   "metadata": {},
   "outputs": [
    {
     "name": "stdout",
     "output_type": "stream",
     "text": [
      "False\n"
     ]
    }
   ],
   "source": [
    "print(movie1 != movie2)"
   ]
  },
  {
   "cell_type": "code",
   "execution_count": null,
   "id": "b8be8c00",
   "metadata": {},
   "outputs": [
    {
     "name": "stdout",
     "output_type": "stream",
     "text": [
      "True\n"
     ]
    }
   ],
   "source": [
    "print(movie2 != movie3)"
   ]
  },
  {
   "cell_type": "markdown",
   "id": "16102c5f",
   "metadata": {},
   "source": [
    "#### less than, less than or equal, greater than, greater than or equal"
   ]
  },
  {
   "cell_type": "code",
   "execution_count": 101,
   "id": "e7686144",
   "metadata": {},
   "outputs": [],
   "source": [
    "class Kino:\n",
    "    def __init__(self, Name, Released_Year, Runtime, Genre, IMDB_Rating, Director,\n",
    "                Star1, Star2, Star3, Star4, Gross):\n",
    "        self.name = Name\n",
    "        self.release_year = Released_Year\n",
    "        self.runtime = Runtime\n",
    "        self.genre = Genre\n",
    "        self.rating = IMDB_Rating\n",
    "        self.director = Director\n",
    "        self.star1 = Star1\n",
    "        self.star2 = Star2\n",
    "        self.star3 = Star3\n",
    "        self.star4 = Star4\n",
    "        self.gross = Gross\n",
    "\n",
    "    def __lt__(self, other): # less than\n",
    "        return self.rating < other.rating\n",
    "\n",
    "movie1 = Kino(**data['The Godfather'])\n",
    "movie2 = Kino(**data[\"The Godfather: Part II\"])\n",
    "movie3 = Kino(**data['The Shawshank Redemption'])"
   ]
  },
  {
   "cell_type": "code",
   "execution_count": 102,
   "id": "4f4f104a",
   "metadata": {},
   "outputs": [
    {
     "name": "stdout",
     "output_type": "stream",
     "text": [
      "False\n"
     ]
    }
   ],
   "source": [
    "print(movie1 < movie2)"
   ]
  },
  {
   "cell_type": "code",
   "execution_count": 103,
   "id": "488fa958",
   "metadata": {},
   "outputs": [
    {
     "ename": "TypeError",
     "evalue": "'<=' not supported between instances of 'Kino' and 'Kino'",
     "output_type": "error",
     "traceback": [
      "\u001b[1;31m---------------------------------------------------------------------------\u001b[0m",
      "\u001b[1;31mTypeError\u001b[0m                                 Traceback (most recent call last)",
      "Input \u001b[1;32mIn [103]\u001b[0m, in \u001b[0;36m<cell line: 1>\u001b[1;34m()\u001b[0m\n\u001b[1;32m----> 1\u001b[0m \u001b[38;5;28mprint\u001b[39m(\u001b[43mmovie1\u001b[49m\u001b[43m \u001b[49m\u001b[38;5;241;43m<\u001b[39;49m\u001b[38;5;241;43m=\u001b[39;49m\u001b[43m \u001b[49m\u001b[43mmovie2\u001b[49m)\n",
      "\u001b[1;31mTypeError\u001b[0m: '<=' not supported between instances of 'Kino' and 'Kino'"
     ]
    }
   ],
   "source": [
    "print(movie1 <= movie2)"
   ]
  },
  {
   "cell_type": "code",
   "execution_count": 104,
   "id": "ce89af0e",
   "metadata": {},
   "outputs": [],
   "source": [
    "class Kino:\n",
    "    def __init__(self, Name, Released_Year, Runtime, Genre, IMDB_Rating, Director,\n",
    "                Star1, Star2, Star3, Star4, Gross):\n",
    "        self.name = Name\n",
    "        self.release_year = Released_Year\n",
    "        self.runtime = Runtime\n",
    "        self.genre = Genre\n",
    "        self.rating = IMDB_Rating\n",
    "        self.director = Director\n",
    "        self.star1 = Star1\n",
    "        self.star2 = Star2\n",
    "        self.star3 = Star3\n",
    "        self.star4 = Star4\n",
    "        self.gross = Gross\n",
    "\n",
    "    def __lt__(self, other):\n",
    "        return self.rating < other.rating\n",
    "\n",
    "    def __le__(self, other): # less or equal\n",
    "        return self.rating <= other.rating\n",
    "\n",
    "\n",
    "movie1 = Kino(**data['The Godfather'])\n",
    "movie2 = Kino(**data[\"The Godfather: Part II\"])\n",
    "movie3 = Kino(**data['The Shawshank Redemption'])"
   ]
  },
  {
   "cell_type": "code",
   "execution_count": 105,
   "id": "34e99526",
   "metadata": {},
   "outputs": [
    {
     "name": "stdout",
     "output_type": "stream",
     "text": [
      "True\n"
     ]
    }
   ],
   "source": [
    "print(movie2 <= movie3)"
   ]
  },
  {
   "cell_type": "markdown",
   "id": "a5bb9da2",
   "metadata": {},
   "source": [
    "**greater than ու greater than or equalը նման ձևով**"
   ]
  },
  {
   "cell_type": "markdown",
   "id": "62e32015",
   "metadata": {},
   "source": [
    "#### add, sub, mul, truediv, floordiv, mod, pow"
   ]
  },
  {
   "cell_type": "code",
   "execution_count": null,
   "id": "cdd8318d",
   "metadata": {},
   "outputs": [
    {
     "ename": "TypeError",
     "evalue": "unsupported operand type(s) for +: 'Kino' and 'Kino'",
     "output_type": "error",
     "traceback": [
      "\u001b[0;31m---------------------------------------------------------------------------\u001b[0m\n",
      "\u001b[0;31mTypeError\u001b[0m                                 Traceback (most recent call last)\n",
      "\u001b[0;32m<ipython-input-59-205a91fb7f6d>\u001b[0m in \u001b[0;36m<cell line: 1>\u001b[0;34m()\u001b[0m\n",
      "\u001b[0;32m----> 1\u001b[0;31m \u001b[0mmovie1\u001b[0m \u001b[0;34m+\u001b[0m \u001b[0mmovie2\u001b[0m\u001b[0;34m\u001b[0m\u001b[0;34m\u001b[0m\u001b[0m\n",
      "\u001b[0m\n",
      "\u001b[0;31mTypeError\u001b[0m: unsupported operand type(s) for +: 'Kino' and 'Kino'"
     ]
    }
   ],
   "source": [
    "movie1 + movie2 # **, +, -, *, //"
   ]
  },
  {
   "cell_type": "code",
   "execution_count": null,
   "id": "2c6781b4",
   "metadata": {},
   "outputs": [
    {
     "ename": "AttributeError",
     "evalue": "'Kino' object has no attribute '__add__'",
     "output_type": "error",
     "traceback": [
      "\u001b[0;31m---------------------------------------------------------------------------\u001b[0m\n",
      "\u001b[0;31mAttributeError\u001b[0m                            Traceback (most recent call last)\n",
      "\u001b[0;32m<ipython-input-60-d2e93785a7d5>\u001b[0m in \u001b[0;36m<cell line: 1>\u001b[0;34m()\u001b[0m\n",
      "\u001b[0;32m----> 1\u001b[0;31m \u001b[0mmovie1\u001b[0m\u001b[0;34m.\u001b[0m\u001b[0m__add__\u001b[0m\u001b[0;34m(\u001b[0m\u001b[0mmovie2\u001b[0m\u001b[0;34m)\u001b[0m\u001b[0;34m\u001b[0m\u001b[0;34m\u001b[0m\u001b[0m\n",
      "\u001b[0m\n",
      "\u001b[0;31mAttributeError\u001b[0m: 'Kino' object has no attribute '__add__'"
     ]
    }
   ],
   "source": [
    "movie1.__add__(movie2)"
   ]
  },
  {
   "cell_type": "code",
   "execution_count": 106,
   "id": "82dd35d4",
   "metadata": {},
   "outputs": [],
   "source": [
    "class Kino:\n",
    "    def __init__(self, Name, Released_Year, Runtime, Genre, IMDB_Rating, Director,\n",
    "                Star1, Star2, Star3, Star4, Gross):\n",
    "        self.name = Name\n",
    "        self.release_year = Released_Year\n",
    "        self.runtime = Runtime\n",
    "        self.genre = Genre\n",
    "        self.rating = IMDB_Rating\n",
    "        self.director = Director\n",
    "        self.star1 = Star1\n",
    "        self.star2 = Star2\n",
    "        self.star3 = Star3\n",
    "        self.star4 = Star4\n",
    "        self.gross = Gross\n",
    "\n",
    "    def __add__(self, other):\n",
    "        print(f\"adding {self.name} and {other.name}\")\n",
    "        return int(self.runtime.split()[0]) + int(other.runtime.split()[0])\n",
    "        # 132 minutes\n",
    "\n",
    "movie1 = Kino(**data['The Godfather'])\n",
    "movie2 = Kino(**data[\"The Godfather: Part II\"])\n",
    "movie3 = Kino(**data['The Shawshank Redemption'])"
   ]
  },
  {
   "cell_type": "code",
   "execution_count": null,
   "id": "cefa8eea",
   "metadata": {},
   "outputs": [
    {
     "name": "stdout",
     "output_type": "stream",
     "text": [
      "adding The Godfather and The Godfather: Part II\n"
     ]
    },
    {
     "data": {
      "text/plain": [
       "377"
      ]
     },
     "execution_count": 107,
     "metadata": {},
     "output_type": "execute_result"
    }
   ],
   "source": [
    "movie1 + movie2"
   ]
  },
  {
   "cell_type": "code",
   "execution_count": 108,
   "id": "5f32477d",
   "metadata": {},
   "outputs": [],
   "source": [
    "class Kino:\n",
    "    def __init__(self, Name, Released_Year, Runtime, Genre, IMDB_Rating, Director,\n",
    "                Star1, Star2, Star3, Star4, Gross):\n",
    "        self.name = Name\n",
    "        self.release_year = Released_Year\n",
    "        self.runtime = Runtime\n",
    "        self.genre = Genre\n",
    "        self.rating = IMDB_Rating\n",
    "        self.director = Director\n",
    "        self.star1 = Star1\n",
    "        self.star2 = Star2\n",
    "        self.star3 = Star3\n",
    "        self.star4 = Star4\n",
    "        self.gross = Gross\n",
    "\n",
    "    def __truediv__(self, other): # /\n",
    "        return self.rating / other.rating\n",
    "\n",
    "    def __floordiv__(self, other): # / /\n",
    "        return \"երկուսն էլ լավն են\"\n",
    "\n",
    "movie1 = Kino(**data['The Godfather'])\n",
    "movie2 = Kino(**data[\"The Godfather: Part II\"])\n",
    "movie3 = Kino(**data['The Shawshank Redemption'])"
   ]
  },
  {
   "cell_type": "code",
   "execution_count": 109,
   "id": "58c2622f",
   "metadata": {},
   "outputs": [
    {
     "data": {
      "text/plain": [
       "1.0108695652173914"
      ]
     },
     "execution_count": 109,
     "metadata": {},
     "output_type": "execute_result"
    }
   ],
   "source": [
    "movie3 / movie1"
   ]
  },
  {
   "cell_type": "code",
   "execution_count": 110,
   "id": "214787bb",
   "metadata": {},
   "outputs": [
    {
     "data": {
      "text/plain": [
       "'երկուսն էլ լավն են'"
      ]
     },
     "execution_count": 110,
     "metadata": {},
     "output_type": "execute_result"
    }
   ],
   "source": [
    "movie3 // movie1"
   ]
  },
  {
   "cell_type": "markdown",
   "id": "4aadbc7c",
   "metadata": {},
   "source": [
    "### length (__len__), bool (__bool__)"
   ]
  },
  {
   "cell_type": "code",
   "execution_count": 113,
   "id": "c710e5a1",
   "metadata": {},
   "outputs": [],
   "source": [
    "class Kino:\n",
    "    def __init__(self, Name, Released_Year, Runtime, Genre, IMDB_Rating, Director,\n",
    "                Star1, Star2, Star3, Star4, Gross):\n",
    "        self.name = Name\n",
    "        self.release_year = Released_Year\n",
    "        self.runtime = Runtime\n",
    "        self.genre = Genre\n",
    "        self.rating = IMDB_Rating\n",
    "        self.director = Director\n",
    "        self.star1 = Star1\n",
    "        self.star2 = Star2\n",
    "        self.star3 = Star3\n",
    "        self.star4 = Star4\n",
    "        self.gross = Gross\n",
    "\n",
    "    def __len__(self):\n",
    "        duration = int(self.runtime.split()[0])\n",
    "        return duration // 60 + 1 # must be integer\n",
    "\n",
    "movie1 = Kino(**data['The Godfather'])\n",
    "movie2 = Kino(**data[\"The Godfather: Part II\"])\n",
    "movie3 = Kino(**data['The Shawshank Redemption'])"
   ]
  },
  {
   "cell_type": "code",
   "execution_count": null,
   "id": "215ea18c",
   "metadata": {},
   "outputs": [
    {
     "data": {
      "text/plain": [
       "3"
      ]
     },
     "execution_count": 114,
     "metadata": {},
     "output_type": "execute_result"
    }
   ],
   "source": [
    "len(movie1)\n",
    "\n",
    "# if bool(movie1:"
   ]
  },
  {
   "cell_type": "markdown",
   "id": "b6622f9c",
   "metadata": {},
   "source": [
    "## Indexes\n",
    "__getitem__,\n",
    "__setitem__,\n",
    "__delitem__,"
   ]
  },
  {
   "cell_type": "code",
   "execution_count": 115,
   "id": "c204a2bd",
   "metadata": {},
   "outputs": [],
   "source": [
    "class Genre:\n",
    "    def __init__(self, name, description, kinoner=None):\n",
    "        self.name = name\n",
    "        self.description = description\n",
    "        self.kinoner = kinoner if kinoner else []\n",
    "\n",
    "    def number_of_films(self):\n",
    "        return len(self.kinoner)\n",
    "\n",
    "    def get_average_rating(self):\n",
    "        total = 0\n",
    "        for k in self.kinoner:\n",
    "            total += k.rating\n",
    "        return total / self.number_of_films()"
   ]
  },
  {
   "cell_type": "code",
   "execution_count": 116,
   "id": "520bebc0",
   "metadata": {},
   "outputs": [],
   "source": [
    "movies_list = [Kino(**data[i]) for i in data.keys()]\n",
    "\n",
    "movies_by_genre = {}\n",
    "\n",
    "for movie in movies_list:\n",
    "    for g in movie.genre.split(\", \"):\n",
    "        if g in movies_by_genre.keys():\n",
    "            movies_by_genre[g].append(movie)\n",
    "        else:\n",
    "            movies_by_genre[g] = [movie]\n"
   ]
  },
  {
   "cell_type": "code",
   "execution_count": 117,
   "id": "b337ff92",
   "metadata": {},
   "outputs": [],
   "source": [
    "drama = Genre(name=\"Drama\", description=\"Լացելու կինոներ\", kinoner=movies_by_genre['Drama'])"
   ]
  },
  {
   "cell_type": "code",
   "execution_count": 118,
   "id": "867bcb85",
   "metadata": {},
   "outputs": [
    {
     "data": {
      "text/plain": [
       "7.959059474412212"
      ]
     },
     "execution_count": 118,
     "metadata": {},
     "output_type": "execute_result"
    }
   ],
   "source": [
    "drama.get_average_rating()"
   ]
  },
  {
   "cell_type": "code",
   "execution_count": 123,
   "id": "4c79d667",
   "metadata": {},
   "outputs": [
    {
     "data": {
      "text/plain": [
       "[<__main__.Kino at 0x16f14fe39d0>,\n",
       " <__main__.Kino at 0x16f14fe2080>,\n",
       " <__main__.Kino at 0x16f14fe1fc0>,\n",
       " <__main__.Kino at 0x16f14fe2170>]"
      ]
     },
     "execution_count": 123,
     "metadata": {},
     "output_type": "execute_result"
    }
   ],
   "source": [
    "drama.kinoner[0:4]"
   ]
  },
  {
   "cell_type": "code",
   "execution_count": 121,
   "id": "0b1df174",
   "metadata": {},
   "outputs": [
    {
     "name": "stdout",
     "output_type": "stream",
     "text": [
      "<__main__.Kino object at 0x0000016F14FE2080>\n"
     ]
    }
   ],
   "source": [
    "print(drama.kinoner[1])"
   ]
  },
  {
   "cell_type": "markdown",
   "id": "e5f18690",
   "metadata": {},
   "source": [
    "### demo"
   ]
  },
  {
   "cell_type": "code",
   "execution_count": 126,
   "id": "ca3171ba",
   "metadata": {},
   "outputs": [
    {
     "name": "stderr",
     "output_type": "stream",
     "text": [
      "<>:4: SyntaxWarning: 'set' object is not subscriptable; perhaps you missed a comma?\n",
      "<>:4: SyntaxWarning: 'set' object is not subscriptable; perhaps you missed a comma?\n",
      "C:\\Users\\hayk_\\AppData\\Local\\Temp\\ipykernel_15068\\4075712312.py:4: SyntaxWarning: 'set' object is not subscriptable; perhaps you missed a comma?\n",
      "  print({1,2,3}[0])\n",
      "C:\\Users\\hayk_\\AppData\\Local\\Temp\\ipykernel_15068\\4075712312.py:4: SyntaxWarning: 'set' object is not subscriptable; perhaps you missed a comma?\n",
      "  print({1,2,3}[0])\n",
      "C:\\Users\\hayk_\\AppData\\Local\\Temp\\ipykernel_15068\\4075712312.py:4: SyntaxWarning: 'set' object is not subscriptable; perhaps you missed a comma?\n",
      "  print({1,2,3}[0])\n"
     ]
    },
    {
     "ename": "TypeError",
     "evalue": "'set' object is not subscriptable",
     "output_type": "error",
     "traceback": [
      "\u001b[1;31m---------------------------------------------------------------------------\u001b[0m",
      "\u001b[1;31mTypeError\u001b[0m                                 Traceback (most recent call last)",
      "Input \u001b[1;32mIn [126]\u001b[0m, in \u001b[0;36m<cell line: 4>\u001b[1;34m()\u001b[0m\n\u001b[0;32m      1\u001b[0m \u001b[38;5;66;03m# drama[0]\u001b[39;00m\n\u001b[0;32m      2\u001b[0m \n\u001b[0;32m      3\u001b[0m \u001b[38;5;66;03m# print([1,2,3][0])\u001b[39;00m\n\u001b[1;32m----> 4\u001b[0m \u001b[38;5;28mprint\u001b[39m(\u001b[43m{\u001b[49m\u001b[38;5;241;43m1\u001b[39;49m\u001b[43m,\u001b[49m\u001b[38;5;241;43m2\u001b[39;49m\u001b[43m,\u001b[49m\u001b[38;5;241;43m3\u001b[39;49m\u001b[43m}\u001b[49m\u001b[43m[\u001b[49m\u001b[38;5;241;43m0\u001b[39;49m\u001b[43m]\u001b[49m)\n",
      "\u001b[1;31mTypeError\u001b[0m: 'set' object is not subscriptable"
     ]
    }
   ],
   "source": [
    "# drama[0]\n",
    "\n",
    "# print([1,2,3][0])\n",
    "print({1,2,3}[0])\n"
   ]
  },
  {
   "cell_type": "code",
   "execution_count": 127,
   "id": "055ede98",
   "metadata": {},
   "outputs": [],
   "source": [
    "class Genre:\n",
    "    def __init__(self, name, description, kinoner=None):\n",
    "        self.name = name\n",
    "        self.description = description\n",
    "        self.kinoner = kinoner if kinoner else []\n",
    "\n",
    "    def get_average_rating(self):\n",
    "        total = 0\n",
    "        for k in self.kinoner:\n",
    "            total += k.rating\n",
    "        return total / self.number_of_films()\n",
    "\n",
    "    def number_of_films(self):\n",
    "        return len(self.kinoner)\n",
    "\n",
    "    def __getitem__(self, index):\n",
    "        return self.kinoner[index]\n",
    "\n",
    "    def __setitem__(self, index, value):\n",
    "        self.kinoner[index] = value\n",
    "\n",
    "    def __delitem__(self, index):\n",
    "        del self.kinoner[index]\n"
   ]
  },
  {
   "cell_type": "code",
   "execution_count": 128,
   "id": "ab8597fa",
   "metadata": {},
   "outputs": [],
   "source": [
    "drama = Genre(name=\"Drama\", description=\"Լացելու կինոներ\", kinoner=movies_by_genre['Drama'])"
   ]
  },
  {
   "cell_type": "code",
   "execution_count": 129,
   "id": "2edfa324",
   "metadata": {},
   "outputs": [
    {
     "data": {
      "text/plain": [
       "<__main__.Kino at 0x16f14fe39d0>"
      ]
     },
     "execution_count": 129,
     "metadata": {},
     "output_type": "execute_result"
    }
   ],
   "source": [
    "drama[0] # drama.__getitem__(0)"
   ]
  },
  {
   "cell_type": "code",
   "execution_count": 130,
   "id": "38ea6800",
   "metadata": {},
   "outputs": [],
   "source": [
    "drama[0] = \"կարգին հաղորդում\" # drama.__setitem__(0, \"կարգին հաղորդում\")"
   ]
  },
  {
   "cell_type": "code",
   "execution_count": 131,
   "id": "d7aad2a9",
   "metadata": {},
   "outputs": [
    {
     "data": {
      "text/plain": [
       "'կարգին հաղորդում'"
      ]
     },
     "execution_count": 131,
     "metadata": {},
     "output_type": "execute_result"
    }
   ],
   "source": [
    "drama[0]"
   ]
  },
  {
   "cell_type": "code",
   "execution_count": 132,
   "id": "bfb728c0",
   "metadata": {},
   "outputs": [
    {
     "data": {
      "text/plain": [
       "['կարգին հաղորդում',\n",
       " <__main__.Kino at 0x16f14fe2080>,\n",
       " <__main__.Kino at 0x16f14fe1fc0>,\n",
       " <__main__.Kino at 0x16f14fe2170>,\n",
       " <__main__.Kino at 0x16f14fe1810>]"
      ]
     },
     "execution_count": 132,
     "metadata": {},
     "output_type": "execute_result"
    }
   ],
   "source": [
    "drama.kinoner[:5]"
   ]
  },
  {
   "cell_type": "code",
   "execution_count": 133,
   "id": "86bce95d",
   "metadata": {},
   "outputs": [],
   "source": [
    "del drama[0]"
   ]
  },
  {
   "cell_type": "code",
   "execution_count": 134,
   "id": "f6be0df2",
   "metadata": {},
   "outputs": [
    {
     "data": {
      "text/plain": [
       "[<__main__.Kino at 0x16f14fe2080>,\n",
       " <__main__.Kino at 0x16f14fe1fc0>,\n",
       " <__main__.Kino at 0x16f14fe2170>,\n",
       " <__main__.Kino at 0x16f14fe1810>]"
      ]
     },
     "execution_count": 134,
     "metadata": {},
     "output_type": "execute_result"
    }
   ],
   "source": [
    "drama[:4]"
   ]
  },
  {
   "cell_type": "markdown",
   "id": "9222d9a0",
   "metadata": {},
   "source": [
    "# contains"
   ]
  },
  {
   "cell_type": "code",
   "execution_count": null,
   "id": "fa71ee63",
   "metadata": {},
   "outputs": [],
   "source": [
    "class Kino:\n",
    "    def __init__(self, Name, Released_Year, Runtime, Genre, IMDB_Rating, Director,\n",
    "                Star1, Star2, Star3, Star4, Gross):\n",
    "        self.name = Name\n",
    "        self.release_year = Released_Year\n",
    "        self.runtime = Runtime\n",
    "        self.genre = Genre\n",
    "        self.rating = IMDB_Rating\n",
    "        self.director = Director\n",
    "        self.star1 = Star1\n",
    "        self.star2 = Star2\n",
    "        self.star3 = Star3\n",
    "        self.star4 = Star4\n",
    "        self.gross = Gross\n",
    "\n",
    "\n",
    "    def get_actors(self):\n",
    "        self.star_string = \", \".join([self.star1, self.star2, self.star3, self.star4])\n",
    "        return self.star_string\n",
    "\n",
    "    def __contains__(self, other) -> bool:\n",
    "        return self.star1 in other.get_actors()\n",
    "\n",
    "movie1 = Kino(**data['The Godfather'])\n",
    "movie2 = Kino(**data[\"The Godfather: Part II\"])\n",
    "movie3 = Kino(**data['The Shawshank Redemption'])"
   ]
  },
  {
   "cell_type": "code",
   "execution_count": null,
   "id": "f65ee903",
   "metadata": {},
   "outputs": [
    {
     "data": {
      "text/plain": [
       "False"
      ]
     },
     "metadata": {},
     "output_type": "display_data"
    }
   ],
   "source": [
    "movie1 in movie3\n",
    "\n"
   ]
  },
  {
   "cell_type": "markdown",
   "id": "e584848f",
   "metadata": {},
   "source": [
    "# 🏡Տնային\n",
    "Պրոեկտում magic method—ներ ավելացնել"
   ]
  },
  {
   "cell_type": "markdown",
   "id": "d7e2c015",
   "metadata": {},
   "source": [
    "# 🎲 15\n",
    "- ▶️[Thomas Flight](https://www.youtube.com/watch?v=obIWs9p0boE)\n",
    "- ▶️[Video 🔥](https://youtu.be/pmsU3i_h9w8?si=uXBxCzM0CGPTn5AM)\n",
    "- 🇦🇲🎶[Քարահունջ](https://www.youtube.com/watch?v=dO0gchPgKlU)\n",
    "- 🌐🎶[Damien Rice](https://www.youtube.com/watch?v=BxWl-O19i-I)\n",
    "- 🤌[Կարգին](https://www.youtube.com/watch?v=TxCukyE9Vvc&list=PLDDuEZQEC_uBeOx5OzaaKZtqjLvC0hO9g&index=23&t=0s)"
   ]
  },
  {
   "cell_type": "markdown",
   "id": "6d2203f3",
   "metadata": {},
   "source": [
    "\n",
    "<a href=\"http://s01.flagcounter.com/more/1oO\"><img src=\"https://s01.flagcounter.com/count2/1oO/bg_FFFFFF/txt_000000/border_CCCCCC/columns_2/maxflags_10/viewers_0/labels_0/pageviews_1/flags_0/percent_0/\" alt=\"Flag Counter\"></a>\n"
   ]
  }
 ],
 "metadata": {
  "kernelspec": {
   "display_name": "thesis",
   "language": "python",
   "name": "python3"
  },
  "language_info": {
   "codemirror_mode": {
    "name": "ipython",
    "version": 3
   },
   "file_extension": ".py",
   "mimetype": "text/x-python",
   "name": "python",
   "nbconvert_exporter": "python",
   "pygments_lexer": "ipython3",
   "version": "3.10.18"
  }
 },
 "nbformat": 4,
 "nbformat_minor": 5
}

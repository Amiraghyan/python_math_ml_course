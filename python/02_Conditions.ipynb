{
 "cells": [
  {
   "cell_type": "raw",
   "metadata": {
    "vscode": {
     "languageId": "raw"
    }
   },
   "source": [
    "---\n",
    "title: \"02 Conditionals: if, elif, else, match, nested if\"\n",
    "lightbox: true\n",
    "format: \n",
    "  html:\n",
    "    code-fold: false\n",
    "number-offset: 1\n",
    "---"
   ]
  },
  {
   "cell_type": "markdown",
   "metadata": {},
   "source": [
    "![image.png](../background_photos/py_02_khustup.jpg)\n",
    "Խուստուփ, [լուսանկարի հղումը](https://hy.wikipedia.org/wiki/%D5%8A%D5%A1%D5%BF%D5%AF%D5%A5%D6%80:Mount_Khustup_-_%D4%BD%D5%B8%D6%82%D5%BD%D5%BF%D5%B8%D6%82%D6%83_%D5%AC%D5%A5%D5%BC_07.jpg) Հեղինակ՝ Հայկ Բարսեղյան"
   ]
  },
  {
   "cell_type": "markdown",
   "metadata": {
    "colab_type": "text",
    "id": "view-in-github"
   },
   "source": [
    "<a href=\"https://colab.research.google.com/github/HaykTarkhanyan/python_math_ml_course/blob/main/python/02_Coditions.ipynb\" target=\"_parent\"><img src=\"https://colab.research.google.com/assets/colab-badge.svg\" alt=\"Open In Colab\"/></a> (գուցե մի թեթև հին լինի վերսիան)"
   ]
  },
  {
   "cell_type": "markdown",
   "metadata": {
    "id": "PImDgHGAUi87"
   },
   "source": [
    "> Ախ `if` տեսնեմ_օրերից_մի_օր: \\\n",
    "(c) [ժողովուրդ](https://www.youtube.com/watch?v=0UOa7qtqkIw)\n",
    "\n",
    "> `if` \\\n",
    "(c) [Pink Floyd](https://www.youtube.com/watch?v=e2G8EWy-plM)"
   ]
  },
  {
   "cell_type": "markdown",
   "metadata": {},
   "source": [
    "# 🎦 Տեսադասեր + լրացուցիչ\n",
    "\n",
    "1. [Տեսություն 2025](https://youtu.be/PsTB0hj95OM) \\\n",
    "2. [Տեսություն 2023](https://youtu.be/UZ6lVl0kOlo)  \\\n",
    "3. [Գործնական 2025](https://youtu.be/2GMufITVgt4) \\\n",
    "4. [Գործնական 2023](https://youtu.be/wx3wn5SPt3g)  \\\n",
    "5. [Որոշ տնայինների լուծումներ](https://www.youtube.com/playlist?list=PLfLD2TpGxVUxjP7WnHxAWfbd8LWSY-pix) \\\n",
    "6. [Տնայինների քննարկում 2023(ToDo)]\n",
    "\n",
    "**Նշումներ։**\n",
    "- 2023, 2025-ի գործնականներին լրիվ տարբեր խնդիրներ են նայվում՝ կարող եք երկուսն էլ նայել։\n",
    "- Տեսությունում նյութը լրիվ նույնն ա ուղղակի դասը անկացնողներն են տարբեր\n",
    "\n",
    "Դասընթացին մասնակցության ու կարծիք հայտնելու [Google Form](https://docs.google.com/forms/d/e/1FAIpQLSdNKMw-yUTJcFj2fPWuRyCbpO73hndI6aAhLxwFF1_58Nqe7w/viewform?usp=sharing)"
   ]
  },
  {
   "cell_type": "markdown",
   "metadata": {},
   "source": [
    "# 📚 Նյութը"
   ]
  },
  {
   "cell_type": "markdown",
   "metadata": {
    "id": "tBq3Jq7zlHPt"
   },
   "source": [
    "## Bool տվյալների տեսակ\n",
    "The name “Boolean” comes from the mathematician George Boole"
   ]
  },
  {
   "cell_type": "code",
   "execution_count": 1,
   "metadata": {
    "colab": {
     "base_uri": "https://localhost:8080/"
    },
    "id": "ygiV7lD6lNxe",
    "outputId": "3edb59f3-7c51-4067-a0df-83a83399dd45"
   },
   "outputs": [
    {
     "name": "stdout",
     "output_type": "stream",
     "text": [
      "<class 'bool'>\n",
      "True\n",
      "False\n"
     ]
    }
   ],
   "source": [
    "a = True\n",
    "b = False\n",
    "\n",
    "print(type(a))\n",
    "print(a)\n",
    "print(b)"
   ]
  },
  {
   "cell_type": "markdown",
   "metadata": {
    "id": "EVeP4Y9ImFqA"
   },
   "source": [
    "### համեմատության գործողություններ"
   ]
  },
  {
   "cell_type": "markdown",
   "metadata": {
    "id": "VpD5O04KmjhW"
   },
   "source": [
    "| Օպերատոր      | նկարագիր |\n",
    "| ----------- | ----------- |\n",
    "| ==          | True, եթե հավասար են       |\n",
    "| !=   | True, եթե հավասար չեն        |\n",
    "| <   |  True, եթե ավելի փոքրա առաջինը երկորդից  |\n",
    "| >   |  True, եթե ավելի մեծա առաջինը երկորդից  |\n",
    "|<=    |  True, եթե առաջինը ավելի փոքրա կամ հավասար  երկորդից  |\n",
    "|>=    |  True, եթե առաջինը ավելի մեծա կամ հավասար  երկորդից  |\n",
    "|is    |  True, եթե նույն օբյեկտ են (հեսա կբացատրեմ :) )|\n",
    "  \n",
    "**Հակառակ դեպքում**՝ False\n"
   ]
  },
  {
   "cell_type": "code",
   "execution_count": 2,
   "metadata": {
    "id": "eXUb0tJslktO"
   },
   "outputs": [],
   "source": [
    "a = 11\n",
    "b = 509"
   ]
  },
  {
   "cell_type": "code",
   "execution_count": 3,
   "metadata": {
    "colab": {
     "base_uri": "https://localhost:8080/"
    },
    "id": "3YkZfMqrn8jY",
    "outputId": "c4cf7b1c-1ca7-4111-b571-0f03cb4fe663"
   },
   "outputs": [
    {
     "name": "stdout",
     "output_type": "stream",
     "text": [
      "11 == 509 False\n",
      "11 != 509 True\n"
     ]
    }
   ],
   "source": [
    "print(a, \"==\", b, a==b)\n",
    "print(a, \"!=\", b, a != b)"
   ]
  },
  {
   "cell_type": "code",
   "execution_count": 4,
   "metadata": {
    "colab": {
     "base_uri": "https://localhost:8080/"
    },
    "id": "lCPBZDFWn-oP",
    "outputId": "d3df908d-a25d-47b5-922d-4a1a849d5aea"
   },
   "outputs": [
    {
     "name": "stdout",
     "output_type": "stream",
     "text": [
      "11 > 509 False\n",
      "11 < 509 True\n"
     ]
    }
   ],
   "source": [
    "print(a, \">\", b, a>b)\n",
    "print(a, \"<\", b, a<b)"
   ]
  },
  {
   "cell_type": "code",
   "execution_count": null,
   "metadata": {
    "colab": {
     "base_uri": "https://localhost:8080/"
    },
    "id": "Skd88PKyoaxe",
    "outputId": "e92fea2f-296a-4e6f-c11e-33373407f5dd"
   },
   "outputs": [
    {
     "name": "stdout",
     "output_type": "stream",
     "text": [
      "11 >= 509 False\n",
      "11 <= 509 True\n"
     ]
    }
   ],
   "source": [
    "print(a, \">=\", b, a >= b )\n",
    "print(a, \"<=\", b, a<=b)"
   ]
  },
  {
   "cell_type": "code",
   "execution_count": null,
   "metadata": {
    "colab": {
     "base_uri": "https://localhost:8080/"
    },
    "id": "L9QOP5qyof3i",
    "outputId": "9ff849f7-1bef-4c42-81bd-0fd9b0076cfc"
   },
   "outputs": [
    {
     "name": "stdout",
     "output_type": "stream",
     "text": [
      "11 is 509 False\n"
     ]
    }
   ],
   "source": [
    "print(a, 'is', b, a is b)"
   ]
  },
  {
   "cell_type": "markdown",
   "metadata": {
    "id": "lxlXHqGJpl5B"
   },
   "source": [
    "#### is-ը մանրամասն"
   ]
  },
  {
   "cell_type": "code",
   "execution_count": null,
   "metadata": {
    "colab": {
     "base_uri": "https://localhost:8080/"
    },
    "id": "QSU3uW2yojgP",
    "outputId": "787dfe81-01d7-4b8c-c630-8ecff526702c"
   },
   "outputs": [
    {
     "name": "stdout",
     "output_type": "stream",
     "text": [
      "465 == 465 True\n",
      "465 is 465 False\n"
     ]
    }
   ],
   "source": [
    "c = 465\n",
    "d = 465\n",
    "\n",
    "print(c, '==', d, c == d)\n",
    "print(c, 'is', d, c is d)"
   ]
  },
  {
   "cell_type": "code",
   "execution_count": null,
   "metadata": {
    "colab": {
     "base_uri": "https://localhost:8080/"
    },
    "id": "gNCqBGlRqveZ",
    "outputId": "b1cee367-2be2-43a3-b0d2-1bae1d6826d1"
   },
   "outputs": [
    {
     "name": "stdout",
     "output_type": "stream",
     "text": [
      "465 is 465 True\n"
     ]
    }
   ],
   "source": [
    "e = c\n",
    "print(e, 'is', c, e is c)"
   ]
  },
  {
   "cell_type": "code",
   "execution_count": null,
   "metadata": {
    "colab": {
     "base_uri": "https://localhost:8080/"
    },
    "id": "eqLa2Vd8ooyj",
    "outputId": "76e0c5a6-1472-4437-ea11-61b4f6fb7027"
   },
   "outputs": [
    {
     "name": "stdout",
     "output_type": "stream",
     "text": [
      "140465260069104\n",
      "140465260070864\n",
      "140465260069104\n"
     ]
    }
   ],
   "source": [
    "print(id(c))\n",
    "print(id(d))\n",
    "print(id(e))"
   ]
  },
  {
   "cell_type": "code",
   "execution_count": null,
   "metadata": {
    "colab": {
     "base_uri": "https://localhost:8080/"
    },
    "id": "SHr0sNu-pROp",
    "outputId": "8792918e-2afd-4a00-8f84-8909e3f7d4db"
   },
   "outputs": [
    {
     "name": "stdout",
     "output_type": "stream",
     "text": [
      "False\n",
      "False\n"
     ]
    }
   ],
   "source": [
    "print(c is d)\n",
    "# ն նույննա ինչ\n",
    "print(id(c) == id(d))"
   ]
  },
  {
   "cell_type": "markdown",
   "metadata": {
    "id": "ij42lmydrN8O"
   },
   "source": [
    "### Բուլյան տրամաբանություն\n",
    "and (&), or (|), not"
   ]
  },
  {
   "cell_type": "code",
   "execution_count": null,
   "metadata": {
    "colab": {
     "base_uri": "https://localhost:8080/"
    },
    "id": "uOA_2K1trRQr",
    "outputId": "52b3029b-8178-4a9f-f47c-109642d51b93"
   },
   "outputs": [
    {
     "name": "stdout",
     "output_type": "stream",
     "text": [
      "True\n",
      "False\n",
      "False\n",
      "False\n"
     ]
    }
   ],
   "source": [
    "# and (&)\n",
    "\n",
    "print(True and True) # True and True and True\n",
    "print(True and False) # print(True & False)\n",
    "print(False and False)"
   ]
  },
  {
   "cell_type": "code",
   "execution_count": null,
   "metadata": {
    "colab": {
     "base_uri": "https://localhost:8080/"
    },
    "id": "WfQXXzeMrdKR",
    "outputId": "8b10ee7f-e394-4061-d2f7-254e573b7b19"
   },
   "outputs": [
    {
     "name": "stdout",
     "output_type": "stream",
     "text": [
      "True\n",
      "True\n",
      "False\n"
     ]
    }
   ],
   "source": [
    "# or (|)\n",
    "print(True or True)\n",
    "print(True or False) # print(True | False)\n",
    "print(False or False)"
   ]
  },
  {
   "cell_type": "code",
   "execution_count": 17,
   "metadata": {
    "colab": {
     "base_uri": "https://localhost:8080/"
    },
    "id": "BsRvicwHrrN5",
    "outputId": "3a6eed31-ebcc-4580-9327-09ff56207e28"
   },
   "outputs": [
    {
     "name": "stdout",
     "output_type": "stream",
     "text": [
      "False\n",
      "True\n"
     ]
    }
   ],
   "source": [
    "# not\n",
    "print(not True)\n",
    "print(not False)"
   ]
  },
  {
   "cell_type": "markdown",
   "metadata": {
    "id": "ejbekFpTqQcj"
   },
   "source": [
    "### Փոխանցականություն (transitivity)"
   ]
  },
  {
   "cell_type": "code",
   "execution_count": null,
   "metadata": {
    "colab": {
     "base_uri": "https://localhost:8080/"
    },
    "id": "gq6d1WV9p5JG",
    "outputId": "e36f3cca-e612-4242-b33f-dcaa24f3c1bd"
   },
   "outputs": [
    {
     "name": "stdout",
     "output_type": "stream",
     "text": [
      "True\n",
      "True\n",
      "True\n",
      "True\n"
     ]
    }
   ],
   "source": [
    "a = 11\n",
    "\n",
    "print(a > 10)\n",
    "print(a < 20)\n",
    "\n",
    "print(10 < a and a < 20)\n",
    "\n",
    "print(10 < a < 20) # 10 < a and a < 20"
   ]
  },
  {
   "cell_type": "code",
   "execution_count": null,
   "metadata": {
    "colab": {
     "base_uri": "https://localhost:8080/"
    },
    "id": "dTS7KRf9qYXS",
    "outputId": "cacaede5-b71d-48f3-ec09-3ad43530eb37"
   },
   "outputs": [
    {
     "name": "stdout",
     "output_type": "stream",
     "text": [
      "True\n"
     ]
    }
   ],
   "source": [
    "print(10 < a < 20)"
   ]
  },
  {
   "cell_type": "code",
   "execution_count": null,
   "metadata": {
    "colab": {
     "base_uri": "https://localhost:8080/"
    },
    "id": "JcHROGhNqcCk",
    "outputId": "4994f9d1-9a0f-455a-e292-f706275254c3"
   },
   "outputs": [
    {
     "name": "stdout",
     "output_type": "stream",
     "text": [
      "False\n"
     ]
    }
   ],
   "source": [
    "a = 11\n",
    "print(10 == a < 11) # 10 == a and a < 11\n",
    "# ի՞նչ կտա"
   ]
  },
  {
   "cell_type": "markdown",
   "metadata": {
    "id": "jg5fEIIusVLG"
   },
   "source": [
    "### Վարժություններ"
   ]
  },
  {
   "cell_type": "code",
   "execution_count": null,
   "metadata": {
    "id": "v0YKDQaXr-A9"
   },
   "outputs": [],
   "source": [
    "print(not 5 != 3)"
   ]
  },
  {
   "cell_type": "code",
   "execution_count": null,
   "metadata": {
    "id": "_TvDiEc9sCQH"
   },
   "outputs": [],
   "source": [
    "print((not 4 == 4) or (4 < 6))"
   ]
  },
  {
   "cell_type": "code",
   "execution_count": null,
   "metadata": {
    "id": "eoLz4V-ksJBX"
   },
   "outputs": [],
   "source": [
    "print((5 < 5 and 5 > 3) or 4 > 4)"
   ]
  },
  {
   "cell_type": "markdown",
   "metadata": {
    "id": "8IanLpDPtamz"
   },
   "source": [
    "### Բուլյանները ինչպես 1, 0"
   ]
  },
  {
   "cell_type": "code",
   "execution_count": 19,
   "metadata": {
    "colab": {
     "base_uri": "https://localhost:8080/"
    },
    "id": "qW-wwXHWthBB",
    "outputId": "42452935-20e4-4d9f-dedf-16c7a6186549"
   },
   "outputs": [
    {
     "name": "stdout",
     "output_type": "stream",
     "text": [
      "False\n",
      "True\n"
     ]
    }
   ],
   "source": [
    "print(True == 2)\n",
    "print(False == 0)"
   ]
  },
  {
   "cell_type": "code",
   "execution_count": 20,
   "metadata": {
    "colab": {
     "base_uri": "https://localhost:8080/"
    },
    "id": "9V1h-kDwtiHk",
    "outputId": "f1cc3e54-6491-435e-a610-c05d7ad205b8"
   },
   "outputs": [
    {
     "name": "stdout",
     "output_type": "stream",
     "text": [
      "0\n"
     ]
    }
   ],
   "source": [
    "print(True - True)"
   ]
  },
  {
   "cell_type": "code",
   "execution_count": 21,
   "metadata": {
    "colab": {
     "base_uri": "https://localhost:8080/",
     "height": 141
    },
    "id": "6b-6Dfcztt-L",
    "outputId": "801237ce-a95e-4755-cf82-18ae4c28ef8f"
   },
   "outputs": [
    {
     "ename": "ZeroDivisionError",
     "evalue": "division by zero",
     "output_type": "error",
     "traceback": [
      "\u001b[1;31m---------------------------------------------------------------------------\u001b[0m",
      "\u001b[1;31mZeroDivisionError\u001b[0m                         Traceback (most recent call last)",
      "Input \u001b[1;32mIn [21]\u001b[0m, in \u001b[0;36m<cell line: 1>\u001b[1;34m()\u001b[0m\n\u001b[1;32m----> 1\u001b[0m \u001b[38;5;28mprint\u001b[39m(\u001b[38;5;28;43;01mTrue\u001b[39;49;00m\u001b[43m \u001b[49m\u001b[38;5;241;43m/\u001b[39;49m\u001b[43m \u001b[49m\u001b[38;5;28;43;01mFalse\u001b[39;49;00m)\n",
      "\u001b[1;31mZeroDivisionError\u001b[0m: division by zero"
     ]
    }
   ],
   "source": [
    "print(True / False)"
   ]
  },
  {
   "cell_type": "markdown",
   "metadata": {
    "id": "er2ffI8JuIGi"
   },
   "source": [
    "### Այլ"
   ]
  },
  {
   "cell_type": "markdown",
   "metadata": {
    "id": "p1Nuij8Nuge0"
   },
   "source": [
    "1. == եթե համեմատում ենք,\n",
    "2. = եթե վերագրում ենք անում"
   ]
  },
  {
   "cell_type": "markdown",
   "metadata": {
    "id": "YXItx1PEuh8X"
   },
   "source": [
    "False են False ից ու 0 ից բացի նաև՝"
   ]
  },
  {
   "cell_type": "code",
   "execution_count": 22,
   "metadata": {
    "colab": {
     "base_uri": "https://localhost:8080/"
    },
    "id": "PNTbo_iRIVpS",
    "outputId": "a156a7cc-3389-41bc-bddb-ab5515aae192"
   },
   "outputs": [
    {
     "name": "stdout",
     "output_type": "stream",
     "text": [
      "3\n",
      "True\n"
     ]
    }
   ],
   "source": [
    "print(int(3.14))\n",
    "print(bool(3.14))"
   ]
  },
  {
   "cell_type": "code",
   "execution_count": 23,
   "metadata": {
    "colab": {
     "base_uri": "https://localhost:8080/"
    },
    "id": "5ipS9C8uuJ1x",
    "outputId": "7840d964-953e-459d-9ebe-2f59184be1a9"
   },
   "outputs": [
    {
     "data": {
      "text/plain": [
       "False"
      ]
     },
     "execution_count": 23,
     "metadata": {},
     "output_type": "execute_result"
    }
   ],
   "source": [
    "bool(0)"
   ]
  },
  {
   "cell_type": "code",
   "execution_count": 24,
   "metadata": {
    "colab": {
     "base_uri": "https://localhost:8080/"
    },
    "id": "R2-sHr0ouqHL",
    "outputId": "fb8aee6e-7924-45cf-aebc-5599d5546df1"
   },
   "outputs": [
    {
     "data": {
      "text/plain": [
       "False"
      ]
     },
     "execution_count": 24,
     "metadata": {},
     "output_type": "execute_result"
    }
   ],
   "source": [
    "bool(0.0)"
   ]
  },
  {
   "cell_type": "code",
   "execution_count": 25,
   "metadata": {
    "colab": {
     "base_uri": "https://localhost:8080/"
    },
    "id": "mfNDEcpKurOH",
    "outputId": "7ab3a86a-6ed5-48db-ba1d-65ce20ca4849"
   },
   "outputs": [
    {
     "data": {
      "text/plain": [
       "False"
      ]
     },
     "execution_count": 25,
     "metadata": {},
     "output_type": "execute_result"
    }
   ],
   "source": [
    "bool('')"
   ]
  },
  {
   "cell_type": "code",
   "execution_count": 26,
   "metadata": {
    "colab": {
     "base_uri": "https://localhost:8080/"
    },
    "id": "xbu4c2UgusPg",
    "outputId": "21d2c9df-3262-458a-9deb-d05eade2db69"
   },
   "outputs": [
    {
     "data": {
      "text/plain": [
       "False"
      ]
     },
     "execution_count": 26,
     "metadata": {},
     "output_type": "execute_result"
    }
   ],
   "source": [
    "bool([])\n",
    "bool({})\n",
    "bool(())"
   ]
  },
  {
   "cell_type": "code",
   "execution_count": 27,
   "metadata": {
    "colab": {
     "base_uri": "https://localhost:8080/"
    },
    "id": "GhWgwmLtuxN_",
    "outputId": "9c72965d-15fe-4ebe-c28a-afa37d4b005b"
   },
   "outputs": [
    {
     "data": {
      "text/plain": [
       "False"
      ]
     },
     "execution_count": 27,
     "metadata": {},
     "output_type": "execute_result"
    }
   ],
   "source": [
    "bool(None)"
   ]
  },
  {
   "cell_type": "markdown",
   "metadata": {
    "id": "8S7HCICpu7Wp"
   },
   "source": [
    "Մնացած ամենինչ True"
   ]
  },
  {
   "cell_type": "code",
   "execution_count": 28,
   "metadata": {
    "colab": {
     "base_uri": "https://localhost:8080/"
    },
    "id": "L1b9Et-0uv_d",
    "outputId": "a54fae81-715b-4012-a9a1-608781dd3556"
   },
   "outputs": [
    {
     "name": "stdout",
     "output_type": "stream",
     "text": [
      "True\n",
      "True\n"
     ]
    }
   ],
   "source": [
    "print(bool(3))\n",
    "print(bool(3) and True)"
   ]
  },
  {
   "cell_type": "code",
   "execution_count": 29,
   "metadata": {
    "colab": {
     "base_uri": "https://localhost:8080/"
    },
    "id": "3KX-tbdJu9y1",
    "outputId": "4ffcafe0-5f6f-4921-d7c0-9aa7a7e5d251"
   },
   "outputs": [
    {
     "name": "stdout",
     "output_type": "stream",
     "text": [
      "True\n"
     ]
    }
   ],
   "source": [
    "print(bool('պանիր'))"
   ]
  },
  {
   "cell_type": "markdown",
   "metadata": {
    "id": "lysl6tEIvB6W"
   },
   "source": [
    "## If (եթե) պայման"
   ]
  },
  {
   "cell_type": "markdown",
   "metadata": {
    "id": "HSdfj2WKvFmZ"
   },
   "source": [
    "Հաճախ մեր գործողությունները տարբեր են, կախված որոշ պայմաններից,\n",
    "\n",
    "Օրինակ շոր հագնելու ֆունկցիան կախվածա եղանակից՝"
   ]
  },
  {
   "cell_type": "code",
   "execution_count": null,
   "metadata": {
    "id": "rgAjN39-vEtm"
   },
   "outputs": [],
   "source": [
    "եթե ցուրտա\n",
    "    տաք շոր հագնել\n",
    "\n",
    "մնացած դեպքերում\n",
    "    թեթև հագնվել"
   ]
  },
  {
   "cell_type": "code",
   "execution_count": null,
   "metadata": {
    "colab": {
     "base_uri": "https://localhost:8080/"
    },
    "id": "MzTmJgM0vZT4",
    "outputId": "d628b680-5591-45b5-92d7-0c5f01b62458"
   },
   "outputs": [
    {
     "name": "stdout",
     "output_type": "stream",
     "text": [
      "34567\n",
      "տաք հագնվի, չմրսես բալա ջան\n",
      "3456782\n"
     ]
    }
   ],
   "source": [
    "is_cold = True\n",
    "\n",
    "if is_cold:\n",
    "    print(34567)\n",
    "    print('տաք հագնվի, չմրսես բալա ջան')\n",
    "\n",
    "print(3456782)"
   ]
  },
  {
   "cell_type": "code",
   "execution_count": null,
   "metadata": {
    "colab": {
     "base_uri": "https://localhost:8080/"
    },
    "id": "aG-4OzMvJnh5",
    "outputId": "f83fb570-4ad0-49b0-96bc-81fa089b3280"
   },
   "outputs": [
    {
     "name": "stdout",
     "output_type": "stream",
     "text": [
      "տաք է\n",
      "2\n"
     ]
    }
   ],
   "source": [
    "is_cold = False\n",
    "\n",
    "if is_cold == True:\n",
    "    print('տաք հագնվի, չմրսես բալա ջան')\n",
    "else:\n",
    "    print(\"տաք է\")\n",
    "\n",
    "print(2)\n"
   ]
  },
  {
   "cell_type": "code",
   "execution_count": 37,
   "metadata": {
    "colab": {
     "base_uri": "https://localhost:8080/"
    },
    "id": "FJVZI6fq0FLi",
    "outputId": "64161293-dd70-46ec-ecf6-938ccc6422ae"
   },
   "outputs": [
    {
     "name": "stdout",
     "output_type": "stream",
     "text": [
      "123\n",
      "134\n"
     ]
    }
   ],
   "source": [
    "if bool(3 == True):\n",
    "    print(211)\n",
    "\n",
    "if bool(3):\n",
    "    print(123)\n",
    "\n",
    "if 3: # bool(3)\n",
    "    print(134)\n",
    "\n",
    "\n",
    "if 0: # bool(0)\n",
    "    print(2)"
   ]
  },
  {
   "cell_type": "code",
   "execution_count": null,
   "metadata": {
    "colab": {
     "base_uri": "https://localhost:8080/"
    },
    "id": "QrC4snE5KLhP",
    "outputId": "c34216c5-5fb3-45a0-fe15-7cb9aba6f3fc"
   },
   "outputs": [
    {
     "name": "stdout",
     "output_type": "stream",
     "text": [
      "տաք է\n",
      "2\n"
     ]
    }
   ],
   "source": [
    "is_cold = False\n",
    "\n",
    "if bool(is_cold) == True:\n",
    "    print('տաք հագնվի, չմրսես բալա ջան')\n",
    "else:\n",
    "    print(\"տաք է\")\n",
    "\n",
    "print(2)"
   ]
  },
  {
   "cell_type": "code",
   "execution_count": null,
   "metadata": {
    "colab": {
     "base_uri": "https://localhost:8080/"
    },
    "id": "SuAJSwatLyxr",
    "outputId": "472dc33e-c0a9-49c7-fda2-067fdfbc1060"
   },
   "outputs": [
    {
     "name": "stdout",
     "output_type": "stream",
     "text": [
      "տաք է\n",
      "2\n"
     ]
    }
   ],
   "source": [
    "is_cold = False\n",
    "\n",
    "if is_cold: # bool(is_cold) == True\n",
    "    print('տաք հագնվի, չմրսես բալա ջան')\n",
    "else:\n",
    "    print(\"տաք է\")\n",
    "\n",
    "print(2)"
   ]
  },
  {
   "cell_type": "code",
   "execution_count": null,
   "metadata": {
    "colab": {
     "base_uri": "https://localhost:8080/"
    },
    "id": "3nduuzTOL3A-",
    "outputId": "c7430721-5f12-48c2-dfd6-2372b3f8708c"
   },
   "outputs": [
    {
     "name": "stdout",
     "output_type": "stream",
     "text": [
      "տաք հագնվի, չմրսես բալա ջան\n",
      "2\n"
     ]
    }
   ],
   "source": [
    "is_cold = False\n",
    "\n",
    "# if is_cold:\n",
    "if \"barev\": # bool(\"barev\") -> True\n",
    "    print('տաք հագնվի, չմրսես բալա ջան')\n",
    "else:\n",
    "    print(\"տաք է\")\n",
    "\n",
    "print(2)"
   ]
  },
  {
   "cell_type": "markdown",
   "metadata": {
    "id": "lJUauELnvqE6"
   },
   "source": [
    "С++ ի պես {} չկան, ստեղ tab-եր ա"
   ]
  },
  {
   "cell_type": "code",
   "execution_count": null,
   "metadata": {
    "colab": {
     "base_uri": "https://localhost:8080/"
    },
    "id": "MgXqBQ94vnus",
    "outputId": "e0822d58-7a3e-459a-dd22-be0c01cf8595"
   },
   "outputs": [
    {
     "name": "stdout",
     "output_type": "stream",
     "text": [
      "բոթաս\n",
      "3\n"
     ]
    }
   ],
   "source": [
    "vazelu_enq = True\n",
    "curta = False\n",
    "\n",
    "if (not curta) and vazelu_enq:\n",
    "    print('բոթաս')\n",
    "    print(3)\n",
    "else:\n",
    "    print('կոշիկ')\n",
    "\n",
    "print(4)"
   ]
  },
  {
   "cell_type": "markdown",
   "metadata": {},
   "source": [
    "### elif (elif)"
   ]
  },
  {
   "cell_type": "markdown",
   "metadata": {
    "id": "AE_O3ODZxK16"
   },
   "source": [
    "Հնարավորա այնպես լինի որ տարբերակները երկուսից շատ լինեն՝\n",
    "\n",
    "զարթնում ենք եթե **շաբաթա՝** գնում ենք շաբաթօրյակի,\n",
    "\n",
    "եթե **կիրակի՝** գնում ենք չինգաչունգի չեմպիոնատի,\n",
    "\n",
    " եթե **այլ օրա** գնում ենք դասի"
   ]
  },
  {
   "cell_type": "code",
   "execution_count": 38,
   "metadata": {
    "colab": {
     "base_uri": "https://localhost:8080/"
    },
    "id": "xdyv2XHYxfLZ",
    "outputId": "c54acd87-8e42-4f65-ca9c-c0cd98c15ff6"
   },
   "outputs": [
    {
     "name": "stdout",
     "output_type": "stream",
     "text": [
      "գնացինք շաբաթօրյակ\n"
     ]
    }
   ],
   "source": [
    "day = 'շաբաթ' # or = \"շաբաթ\"\n",
    "\n",
    "if day == 'շաբաթ':\n",
    "    print('գնացինք շաբաթօրյակ')\n",
    "else:\n",
    "    print('չենք գնում շաբաթօրյակի, բա ու՞ր ենք գնում՝ պարզ չի')"
   ]
  },
  {
   "cell_type": "code",
   "execution_count": null,
   "metadata": {
    "id": "NNLUzzCNM_eO"
   },
   "outputs": [
    {
     "name": "stdout",
     "output_type": "stream",
     "text": [
      "գնացինք դասի :( \n"
     ]
    }
   ],
   "source": [
    "day = 'կիրակի'\n",
    "\n",
    "if day == 'շաբաթ':\n",
    "    print('գնացինք շաբաթօրյակ')\n",
    "else:\n",
    "    if day == 'կիրակի': # else if, եթե վերևի if-ը չի ու մեր ստեղ գրած պայմաննա\n",
    "        print('գնացինք չինգաչունգ խաղանք')\n",
    "    else:\n",
    "        print('գնացինք դասի :( ')\n",
    "        "
   ]
  },
  {
   "cell_type": "code",
   "execution_count": 42,
   "metadata": {
    "colab": {
     "base_uri": "https://localhost:8080/"
    },
    "id": "Ezwgoq_ANTI-",
    "outputId": "c4ecaa5d-6fec-4522-e2a7-3c7b201dbba2"
   },
   "outputs": [
    {
     "name": "stdout",
     "output_type": "stream",
     "text": [
      "գնացինք շաբաթօրյակ\n"
     ]
    }
   ],
   "source": [
    "day = 'շաբաթ'\n",
    "\n",
    "if day == 'շաբաթ':\n",
    "    print('գնացինք շաբաթօրյակ')\n",
    "elif day == 'կիրակի': # else if, եթե վերևի if-ը չի ու մեր ստեղ գրած պայմաննա\n",
    "    print('գնացինք չինգաչունգ խաղանք')\n",
    "else:\n",
    "    print('գնացինք դասի :( ')"
   ]
  },
  {
   "cell_type": "code",
   "execution_count": null,
   "metadata": {
    "colab": {
     "base_uri": "https://localhost:8080/"
    },
    "id": "E2s3MyYExr72",
    "outputId": "c14b3c41-bc28-41db-b30c-7eb198927f43"
   },
   "outputs": [
    {
     "name": "stdout",
     "output_type": "stream",
     "text": [
      "գնացինք դասի :( \n"
     ]
    }
   ],
   "source": [
    "day = 'շաբաթ'\n",
    "day = \"կիրակի\"\n",
    "day = \"werxtyno\"\n",
    "\n",
    "if day == 'շաբաթ':\n",
    "    print('գնացինք շաբաթօրյակ')\n",
    "elif day == 'կիրակի': # else if, եթե վերևի if-ը չի ու մեր ստեղ գրած պայմաննա\n",
    "    print('գնացինք չինգաչունգ խաղանք')\n",
    "else:\n",
    "    print('գնացինք դասի :( ')"
   ]
  },
  {
   "cell_type": "code",
   "execution_count": null,
   "metadata": {
    "colab": {
     "base_uri": "https://localhost:8080/"
    },
    "id": "3C8O_nf8NU2B",
    "outputId": "cf66bf88-e6ef-4384-8710-fdefdd135645"
   },
   "outputs": [
    {
     "name": "stdout",
     "output_type": "stream",
     "text": [
      "գնացինք շաբաթօրյակ\n",
      "գնացինք դասի :( \n"
     ]
    },
    {
     "ename": "",
     "evalue": "",
     "output_type": "error",
     "traceback": [
      "\u001b[1;31mThe Kernel crashed while executing code in the current cell or a previous cell. \n",
      "\u001b[1;31mPlease review the code in the cell(s) to identify a possible cause of the failure. \n",
      "\u001b[1;31mClick <a href='https://aka.ms/vscodeJupyterKernelCrash'>here</a> for more info. \n",
      "\u001b[1;31mView Jupyter <a href='command:jupyter.viewOutput'>log</a> for further details."
     ]
    }
   ],
   "source": [
    "day = 'շաբաթ'\n",
    "# day = \"կիրակի\"\n",
    "# day = \"werxtyno\"\n",
    "\n",
    "if day == 'շաբաթ':\n",
    "    print('գնացինք շաբաթօրյակ')\n",
    "if day == 'կիրակի': # else if, եթե վերևի if-ը չի ու մեր ստեղ գրած պայմաննա\n",
    "    print('գնացինք չինգաչունգ խաղանք')\n",
    "else:\n",
    "    print('գնացինք դասի :( ')"
   ]
  },
  {
   "cell_type": "markdown",
   "metadata": {
    "id": "23_28rrGyyke"
   },
   "source": [
    "## Օրինակներ (ու լրացուցիչ բաներ)"
   ]
  },
  {
   "cell_type": "markdown",
   "metadata": {
    "id": "Vb4b1AMV1NTn"
   },
   "source": [
    "### Անիկդոտ\n"
   ]
  },
  {
   "cell_type": "markdown",
   "metadata": {
    "id": "lguqLNqIzSPj"
   },
   "source": [
    "Ծրագրավորղը գնումա խանութ, կինը ասումա՝\n",
    "\n",
    "2 հատ հաց առ, եթե ձու լինի՝ 10 հատ վերցրու,\n",
    "\n",
    "էս մարդը 10 հատ հաց առած գալիսա տուն, կինը հարցնումա ես ի՞նչ ես արել, ասումա դե ձու ունեին"
   ]
  },
  {
   "cell_type": "code",
   "execution_count": null,
   "metadata": {
    "colab": {
     "base_uri": "https://localhost:8080/"
    },
    "id": "ygddE3jMyTQ_",
    "outputId": "02c09c2f-b3d2-4835-f596-a93c96c982b3"
   },
   "outputs": [
    {
     "name": "stdout",
     "output_type": "stream",
     "text": [
      "2 հաց\n"
     ]
    }
   ],
   "source": [
    "dzu_ka = False\n",
    "\n",
    "if dzu_ka:\n",
    "    print('10 հաց')\n",
    "else:\n",
    "    print(\"2 հաց\")"
   ]
  },
  {
   "cell_type": "markdown",
   "metadata": {
    "id": "H5wtrfpw1GyU"
   },
   "source": [
    "### պարտադիր չի else գրենք, կարա մենակ if լինի\n"
   ]
  },
  {
   "cell_type": "code",
   "execution_count": null,
   "metadata": {
    "colab": {
     "base_uri": "https://localhost:8080/"
    },
    "id": "VDkrr_qwzPkK",
    "outputId": "44cbb61e-5a72-4401-c4ef-e9e8f974a8e9"
   },
   "outputs": [
    {
     "name": "stdout",
     "output_type": "stream",
     "text": [
      "Ինձ մի հատ գինի խնդրում եմ\n",
      "Կլոր տարիք\n"
     ]
    }
   ],
   "source": [
    "tariq = 20\n",
    "if tariq > 18:\n",
    "    print('Ինձ մի հատ գինի խնդրում եմ')\n",
    "\n",
    "if tariq % 10 == 0:\n",
    "    print(\"Կլոր տարիք\")"
   ]
  },
  {
   "cell_type": "code",
   "execution_count": null,
   "metadata": {
    "id": "WTQshPJ7UAax"
   },
   "outputs": [],
   "source": [
    "# pass"
   ]
  },
  {
   "cell_type": "code",
   "execution_count": null,
   "metadata": {
    "colab": {
     "base_uri": "https://localhost:8080/"
    },
    "id": "oGBWZ5SFTwWV",
    "outputId": "b9e7c044-c233-4437-9155-f56bdbd7313e"
   },
   "outputs": [
    {
     "name": "stdout",
     "output_type": "stream",
     "text": [
      "ջուր կուզես\n"
     ]
    }
   ],
   "source": [
    "tariq = 17\n",
    "\n",
    "if tariq > 18:\n",
    "    pass\n",
    "else:\n",
    "    print(\"ջուր կուզես\")"
   ]
  },
  {
   "cell_type": "markdown",
   "metadata": {
    "id": "1z1EdUzl1Qgq"
   },
   "source": [
    "### կարա մի քանի elif լինի\n"
   ]
  },
  {
   "cell_type": "code",
   "execution_count": null,
   "metadata": {
    "colab": {
     "base_uri": "https://localhost:8080/"
    },
    "id": "xujXG7ThzrF4",
    "outputId": "3795c429-4e97-4c20-b8f2-e2483d761f80"
   },
   "outputs": [
    {
     "name": "stdout",
     "output_type": "stream",
     "text": [
      "2\n"
     ]
    }
   ],
   "source": [
    "apranq = 'պանիր'\n",
    "\n",
    "if apranq == 'պանիր':\n",
    "    gin = 2\n",
    "elif apranq == 'ձմերուկ':\n",
    "    gin = 4\n",
    "elif apranq == 'ժարիտ':\n",
    "    gin = 1_000_000_000 # _ կարանք դնենք\n",
    "else:\n",
    "    gin = 'եսիմ'\n",
    "\n",
    "print(gin)"
   ]
  },
  {
   "cell_type": "markdown",
   "metadata": {
    "id": "RVYlFiHT1Z6M"
   },
   "source": [
    "### ինչի՞ ենք elif օգտագործում եթե կարանք if գրենք"
   ]
  },
  {
   "cell_type": "code",
   "execution_count": null,
   "metadata": {
    "colab": {
     "base_uri": "https://localhost:8080/"
    },
    "id": "d78pNGIX0rar",
    "outputId": "cb53773e-eead-4bf6-93a6-db22e0447ac5"
   },
   "outputs": [
    {
     "name": "stdout",
     "output_type": "stream",
     "text": [
      "եսիմ\n"
     ]
    }
   ],
   "source": [
    "apranq = 'պանիր'\n",
    "\n",
    "if apranq == 'պանիր':\n",
    "    gin = 2\n",
    "# print(gin)\n",
    "if apranq == 'ձմերուկ':\n",
    "    gin = 4\n",
    "if apranq == 'ժարիտ':\n",
    "    gin = 100_000_000_000_000 # _ կարանք դնենք\n",
    "else:\n",
    "    gin = 'եսիմ'\n",
    "\n",
    "print(gin)"
   ]
  },
  {
   "cell_type": "code",
   "execution_count": null,
   "metadata": {
    "colab": {
     "base_uri": "https://localhost:8080/"
    },
    "id": "Pqdx5GgOnDRE",
    "outputId": "8dbd55f2-6ad8-4979-a9cf-b1730e569a47"
   },
   "outputs": [
    {
     "name": "stdout",
     "output_type": "stream",
     "text": [
      "100000000000000\n",
      "100000000000000\n"
     ]
    }
   ],
   "source": [
    "print(100_000_000_000_000)\n",
    "print(100000000000000)"
   ]
  },
  {
   "cell_type": "code",
   "execution_count": null,
   "metadata": {
    "id": "F1k1Xreu1ia_"
   },
   "outputs": [],
   "source": [
    "a = 0\n",
    "\n",
    "if a > 10:\n",
    "    print(\"մեծա 10-ից\")\n",
    "if a > 5:\n",
    "    print(\"մեծա 5-ից\")\n",
    "if a > 1:\n",
    "    print(\"մեծա 1-ից\")"
   ]
  },
  {
   "cell_type": "code",
   "execution_count": null,
   "metadata": {
    "colab": {
     "base_uri": "https://localhost:8080/"
    },
    "id": "XAHN573a2AOV",
    "outputId": "3298c228-fb94-40da-cf0c-73dccaaa24ad"
   },
   "outputs": [
    {
     "name": "stdout",
     "output_type": "stream",
     "text": [
      "փոքր ա 1-ից\n"
     ]
    }
   ],
   "source": [
    "a = 62\n",
    "a = -2\n",
    "\n",
    "if a > 10:\n",
    "    print(\"մեծա 10-ից\")\n",
    "elif a > 5:\n",
    "    print(\"մեծա 5-ից\")\n",
    "elif a > 1: # եթե վերևինը ճիշտ եղավ, սա էլ չի աշխատի\n",
    "    print(\"մեծա 1-ից\")\n",
    "else:\n",
    "    print(\"փոքր ա 1-ից\")"
   ]
  },
  {
   "cell_type": "markdown",
   "metadata": {
    "id": "EHdlGsXG2eEy"
   },
   "source": [
    "## if-ի մեջ if (ներդրված if-եր)"
   ]
  },
  {
   "cell_type": "code",
   "execution_count": null,
   "metadata": {
    "colab": {
     "base_uri": "https://localhost:8080/"
    },
    "id": "G1A2RljU3LBR",
    "outputId": "a043e716-2656-443d-92f3-f4b54fddd0b7"
   },
   "outputs": [
    {
     "name": "stdout",
     "output_type": "stream",
     "text": [
      "ես էլ եմ էդ\n"
     ]
    }
   ],
   "source": [
    "tariq = 17\n",
    "hastatutun = \"10 դպրոց\"\n",
    "# nested if\n",
    "if tariq > 18: # pass գրում ենք եթե ուզում ենք ոչ մի բան չանել այդ դեպքում\n",
    "    if hastatutun == \"ԵՊՀ\":\n",
    "        print(\"ես էլ\")\n",
    "else:\n",
    "    if hastatutun == \"10 դպրոց\":\n",
    "        print(\"ես էլ եմ էդ\")\n",
    "    else:\n",
    "        print(\"բա որտեղ ա էդ\")\n",
    "\n",
    "# if (tariq > 18) and hastatun == \"::\n",
    "#     ...\n",
    "# elif tariq < 18 an d\n"
   ]
  },
  {
   "cell_type": "code",
   "execution_count": null,
   "metadata": {
    "id": "myIDlhr_VJJ4"
   },
   "outputs": [],
   "source": [
    "անչափահասին -> ջուր\n",
    "գինի չսիրողին -> whiskey\n",
    "գինի ու պանիր -> գինի ու պանիր\n",
    "գինի սիրում պանիր չի սիրում -> մենակ գինի"
   ]
  },
  {
   "cell_type": "code",
   "execution_count": null,
   "metadata": {
    "colab": {
     "base_uri": "https://localhost:8080/"
    },
    "id": "nMO71FRk_gZO",
    "outputId": "25a96fe6-80db-4098-d3cd-f5aa2f832a2f"
   },
   "outputs": [
    {
     "name": "stdout",
     "output_type": "stream",
     "text": [
      "whiskey\n"
     ]
    }
   ],
   "source": [
    "tariq = 18\n",
    "panir_sirum = True\n",
    "gini_sirum = False\n",
    "\n",
    "if tariq < 18:\n",
    "    print(\"Jur\")\n",
    "elif not gini_sirum:\n",
    "    print(\"whiskey\")\n",
    "elif (tariq >= 18) and gini_sirum and panir_sirum:\n",
    "    print(\"Gini u panir\")\n",
    "elif (tariq >= 18) and gini_sirum and (not panir_sirum):\n",
    "    print(\"Gini\")"
   ]
  },
  {
   "cell_type": "code",
   "execution_count": null,
   "metadata": {
    "colab": {
     "base_uri": "https://localhost:8080/"
    },
    "id": "Op41nlxpAqq2",
    "outputId": "9ded1282-518d-4b29-f3e0-1f2eb8ec0552"
   },
   "outputs": [
    {
     "name": "stdout",
     "output_type": "stream",
     "text": [
      "Whiskey\n"
     ]
    }
   ],
   "source": [
    "tariq = 18\n",
    "panir_sirum = True\n",
    "gini_sirum = False\n",
    "\n",
    "if tariq >= 18:\n",
    "    if gini_sirum:\n",
    "        if panir_sirum:\n",
    "            print(\"gini u panir\")\n",
    "        else:\n",
    "            print(\"gini\")\n",
    "    else:\n",
    "        print(\"Whiskey\")\n",
    "else:\n",
    "    print(\"Jur\")\n"
   ]
  },
  {
   "cell_type": "code",
   "execution_count": null,
   "metadata": {
    "colab": {
     "base_uri": "https://localhost:8080/"
    },
    "id": "fGXlW8o9VVoy",
    "outputId": "73209c11-7510-4b45-8d01-c2fc3bff9e35"
   },
   "outputs": [
    {
     "name": "stdout",
     "output_type": "stream",
     "text": [
      "ջուր\n"
     ]
    }
   ],
   "source": [
    "tariq = 16\n",
    "gini_sirum = True\n",
    "panir_sirum = True\n",
    "\n",
    "if tariq < 18:\n",
    "    print(\"ջուր\")\n",
    "else:\n",
    "    if gini_sirum and panir_sirum:\n",
    "        print(\"գինի ու պանիր\")\n",
    "    elif gini_sirum:\n",
    "        print(\"գինի\")\n",
    "    else:\n",
    "        print(\"whiskey\")\n"
   ]
  },
  {
   "cell_type": "code",
   "execution_count": null,
   "metadata": {
    "colab": {
     "base_uri": "https://localhost:8080/"
    },
    "id": "IgDzOXWIWuvk",
    "outputId": "0f0b527d-4904-49e2-9069-8102ccc4011b"
   },
   "outputs": [
    {
     "name": "stdout",
     "output_type": "stream",
     "text": [
      "ջուր\n"
     ]
    }
   ],
   "source": [
    "tariq = 16\n",
    "gini_sirum = True\n",
    "panir_sirum = True\n",
    "\n",
    "if tariq < 18:\n",
    "    print(\"ջուր\")\n",
    "else:\n",
    "    if gini_sirum:\n",
    "        if panir_sirum:\n",
    "            print(\"գինի ու պանիր\")\n",
    "        else:\n",
    "            print(\"gini\")\n",
    "    else:\n",
    "        print(\"whiskey\")\n"
   ]
  },
  {
   "cell_type": "code",
   "execution_count": null,
   "metadata": {
    "colab": {
     "base_uri": "https://localhost:8080/"
    },
    "id": "xcRFeuasXBmE",
    "outputId": "c8f50210-3217-4061-a129-365c6bc555fd"
   },
   "outputs": [
    {
     "name": "stdout",
     "output_type": "stream",
     "text": [
      "ջուր\n"
     ]
    }
   ],
   "source": [
    "# 2 * 2 * 2 = 8\n",
    "\n",
    "\n",
    "tariq = 16\n",
    "gini_sirum = True\n",
    "panir_sirum = True\n",
    "\n",
    "\n",
    "if tariq > 18:\n",
    "    if gini_sirum:\n",
    "        if panir_sirum:\n",
    "            print(\"գինի ու պանիր\")\n",
    "        else:\n",
    "            print(\"gini\")\n",
    "    else:\n",
    "        print(\"whiskey\")\n",
    "else:\n",
    "    print(\"ջուր\")\n",
    "\n"
   ]
  },
  {
   "cell_type": "code",
   "execution_count": null,
   "metadata": {
    "id": "xF6Npi3YR3c_"
   },
   "outputs": [],
   "source": [
    "tariq = 59\n",
    "panir_siruma = False\n",
    "gini_siruma = True\n",
    "\n",
    "if tariq > 18 and panir_siruma and gini_siruma:\n",
    "    print(\"panir u gini\")\n",
    "elif tariq > 18 and panir_siruma and (not gini_siruma)\n",
    "    print(\"meka \")\n",
    "elif tariq > 18 and (not panir_siruma)\n"
   ]
  },
  {
   "cell_type": "code",
   "execution_count": null,
   "metadata": {
    "colab": {
     "base_uri": "https://localhost:8080/"
    },
    "id": "x3t6hMalvRLu",
    "outputId": "837e14f9-2ac1-4972-d132-9c2fa0d39a49"
   },
   "outputs": [
    {
     "name": "stdout",
     "output_type": "stream",
     "text": [
      "շամպայն ու թան\n"
     ]
    }
   ],
   "source": [
    "tariq = 20\n",
    "panir_siruma = False\n",
    "gini_siruma = False\n",
    "\n",
    "if tariq > 18:\n",
    "    if gini_siruma:\n",
    "        if panir_siruma:\n",
    "            print(\"պանիր ու գինի\")\n",
    "        else:\n",
    "            print(\"գինի\")\n",
    "    else:\n",
    "        print(\"շամպայն ու թան\")\n",
    "else:\n",
    "    print(\"ջուր\")"
   ]
  },
  {
   "cell_type": "markdown",
   "metadata": {
    "id": "0bjjA2AnDLN-"
   },
   "source": [
    "## Match"
   ]
  },
  {
   "cell_type": "code",
   "execution_count": null,
   "metadata": {
    "colab": {
     "base_uri": "https://localhost:8080/"
    },
    "id": "32GeNlAlDMRu",
    "outputId": "8954e913-8e14-487f-ea69-ce4c4f115370"
   },
   "outputs": [
    {
     "name": "stdout",
     "output_type": "stream",
     "text": [
      "1000000000\n"
     ]
    }
   ],
   "source": [
    "apranq = 'ժարիտ'\n",
    "\n",
    "if apranq == 'պանիր':\n",
    "    gin = 2\n",
    "elif apranq == 'ձմերուկ':\n",
    "    gin = 4\n",
    "elif apranq == 'ժարիտ':\n",
    "    gin = 1_000_000_000 # _ կարանք դնենք\n",
    "else:\n",
    "    gin = 'եսիմ'\n",
    "print(gin)"
   ]
  },
  {
   "cell_type": "code",
   "execution_count": null,
   "metadata": {
    "colab": {
     "base_uri": "https://localhost:8080/"
    },
    "id": "zOfJrylXDOBj",
    "outputId": "9e4c531e-5896-424a-a384-74084dfb2f8a"
   },
   "outputs": [
    {
     "name": "stdout",
     "output_type": "stream",
     "text": [
      "4\n"
     ]
    }
   ],
   "source": [
    "apranq = \"ձմերուկ\"\n",
    "match apranq: # switch, case\n",
    "    case \"պանիր\": # if apranq == \"պանիր\"\n",
    "        gin = 2\n",
    "    case \"ձմերուկ\":\n",
    "        gin = 4\n",
    "    case \"ժարիտ\":\n",
    "        gin = 1_000_000_000\n",
    "    case _:\n",
    "        gin = \"եսիմ\"\n",
    "\n",
    "print(gin)"
   ]
  },
  {
   "cell_type": "markdown",
   "metadata": {},
   "source": [
    "# 🏡Տնային\n",
    "## Հիմնական տնային\n",
    "1. Profound [բաժին 5](https://profound.academy/hy/python-introduction/b-vE3xZikKFjcgaFdTsGvg) (Պայմաններ) - լրիվ\n",
    "2. Profound [բաժին 7](https://profound.academy/hy/python-introduction/n-if-8uPJetpgIBlFPXCTxvEp) (Ներդրված պայմաններ) - լրիվ\n",
    "3. Profound [բաժին 9](https://profound.academy/hy/python-introduction/flszat-nMh1l21kkviihZwWp6kf) (Փոփոխականներ և տիպեր) - 1 - 10 (ներառյալ)\n",
    "\n",
    "## Նշումներ\n",
    "- Բաժին 5-ը գրելիս կարելի ա օգտվել մենակ `if`-ից ու `else`-ից (`elif` ենթադրեք որ չգիտեք)\n",
    "- [Դժվար պայմաններ](https://profound.academy/hy/python-introduction/d-tNWtCx4NdIhu2lDVRR6I) (7.14)-ը լուծելիս եթե շատ երկար լինի Ձեր լուծումը, մի հատ էլ հետո մտածեք ոնց կարաք ավելի կարճ ու կոկիկ դարձնեք bool փոփոխականներ սահմանելով\n",
    "- Եթե կուզեք կարաք Բաժին 9-ը փորձեք մինչև վերջ անել՝ հաջորդ տնայինը դա ա լինելու"
   ]
  },
  {
   "cell_type": "markdown",
   "metadata": {},
   "source": [
    "# 🛠️ Գործնական (ToDo)\n",
    "[**Տեսագրությունը** (ToDo)]()"
   ]
  },
  {
   "cell_type": "markdown",
   "metadata": {},
   "source": [
    "## BMI calculator\n",
    "\n",
    "Read two floats, weight (kg) and height (m), compute the Body Mass Index:\n",
    "\n",
    "`BMI = weight / (height ** 2)`\n",
    "\n",
    "Then categorize:\n",
    "\n",
    "- BMI < 18.5 → Underweight\n",
    "- 18.5 ≤ BMI < 25 → Normal\n",
    "- 25 ≤ BMI < 30 → Overweight\n",
    "- BMI ≥ 30 → Obese\n",
    "\n",
    "Don't forget to check that the input is valid (positive numbers).\n",
    "\n",
    "| **Input** | **Output** |\n",
    "|-----------|------------|\n",
    "| 70 1.75   | Normal     |\n",
    "| -70 1.75  | Invalid input |"
   ]
  },
  {
   "cell_type": "code",
   "execution_count": 13,
   "metadata": {},
   "outputs": [
    {
     "name": "stdout",
     "output_type": "stream",
     "text": [
      "BMI is 0.4444444444444444\n",
      "Underweight\n"
     ]
    }
   ],
   "source": [
    "weight = float(input(\"Weight: \"))\n",
    "height = float(input(\"Height: \"))\n",
    "\n",
    "if (weight <= 0) or (height <= 0):    \n",
    "    print(\"Invalid input\")\n",
    "else:\n",
    "    BMI = weight / (height ** 2)\n",
    "    print(\"BMI is\", BMI)\n",
    "    if BMI < 18.5:\n",
    "        print(\"Underweight\")\n",
    "    elif BMI < 25: \n",
    "        print(\"Normal\")\n",
    "    elif BMI < 30:\n",
    "        print(\"Overweight\")\n",
    "    else:\n",
    "        print(\"Obese\")\n",
    "    \n"
   ]
  },
  {
   "cell_type": "markdown",
   "metadata": {},
   "source": [
    "## Discounts\n",
    "| Purchase Amount      | Discount       |\n",
    "|-----------------------|----------------|\n",
    "| Up to $100           | No discount    |\n",
    "| $100–$500            | 5%             |\n",
    "| Above $500           | 10%            |\n",
    "\n",
    "Additionally, if the user has a “premium” membership, they get an extra 5% on top of the above.\n",
    "\n",
    "Example \\\n",
    "**Input:**  amount=600, premium=True  \n",
    "**Output:** 510.0\n"
   ]
  },
  {
   "cell_type": "markdown",
   "metadata": {},
   "source": [
    "### Դասին գրված կոդ"
   ]
  },
  {
   "cell_type": "code",
   "execution_count": 26,
   "metadata": {},
   "outputs": [
    {
     "name": "stdout",
     "output_type": "stream",
     "text": [
      "Հիմնական զեղչ։ 0.1\n",
      "յաա, են ում ․․\n",
      "ԶԵղչ։ 0.15000000000000002\n",
      "450.5\n"
     ]
    }
   ],
   "source": [
    "amount = float(input(\"Amount\"))\n",
    "premium = input(\"Premium (yes/no)\")\n",
    "\n",
    "# himnakan \n",
    "if amount < 100:\n",
    "    zexch = 0\n",
    "elif amount <= 500:\n",
    "    zexch = 0.05\n",
    "else:\n",
    "    zexch = 0.1\n",
    "\n",
    "print(\"Հիմնական զեղչ։\", zexch)\n",
    "# ծանոթ \n",
    "if (premium == \"yes\") or (premium == \"Yes\"):\n",
    "    print(\"յաա, են ում ․․\")\n",
    "    zexch += 0.05\n",
    "    \n",
    "\n",
    "print(\"ԶԵղչ։\", zexch)\n",
    "print(amount * (1 - zexch))\n",
    "    "
   ]
  },
  {
   "cell_type": "code",
   "execution_count": 22,
   "metadata": {},
   "outputs": [
    {
     "name": "stdout",
     "output_type": "stream",
     "text": [
      "False\n",
      "True\n"
     ]
    }
   ],
   "source": [
    "print(bool(False))\n",
    "print(bool(\"False\"))"
   ]
  },
  {
   "cell_type": "markdown",
   "metadata": {},
   "source": [
    "### GPT-ի հետ շփ-թփ արած կոդ"
   ]
  },
  {
   "cell_type": "code",
   "execution_count": null,
   "metadata": {},
   "outputs": [],
   "source": [
    "amount = float(input(\"Enter purchase amount: \"))\n",
    "membership = input(\"Premium membership? (yes/no): \")\n",
    "\n",
    "\n",
    "if amount <= 100:\n",
    "    discount = 0\n",
    "elif amount <= 500:\n",
    "    discount = 0.05\n",
    "else:\n",
    "    discount = 0.10\n",
    "\n",
    "if membership == \"yes\":\n",
    "    discount += 0.05\n",
    "\n",
    "# Compute final price\n",
    "final_price = amount * (1 - discount)\n",
    "\n",
    "# Print result\n",
    "print(\"Final price:\" , final_price)\n"
   ]
  },
  {
   "cell_type": "markdown",
   "metadata": {},
   "source": [
    "## Smart Thermostat\n",
    "The thermostat sets heating or cooling mode based on:\n",
    "\n",
    "Current temp (float) and desired (float).\n",
    "\n",
    "- If temp < desired - 2 → “Heating”\n",
    "- If temp > desired + 2 → “Cooling”\n",
    "- Otherwise → “Standby”.\n",
    "  \n",
    "BUT if the user is “away” (bool), widen the deadband to ±5° before switching off.\n",
    "\n",
    "**Example**\n",
    "**Input:**  temp=22.0, desired=25.0, away=True\n",
    "**Output:** Heating\n",
    "\n"
   ]
  },
  {
   "cell_type": "code",
   "execution_count": null,
   "metadata": {},
   "outputs": [],
   "source": [
    "\n",
    "\n",
    "\n",
    "\n",
    "\n",
    "\n",
    "\n",
    "\n",
    "\n",
    "\n",
    "\n",
    "\n"
   ]
  },
  {
   "cell_type": "code",
   "execution_count": null,
   "metadata": {},
   "outputs": [
    {
     "name": "stdout",
     "output_type": "stream",
     "text": [
      "Standby\n"
     ]
    }
   ],
   "source": [
    "temp = float(input(\"Current temperature (°C): \"))\n",
    "desired = float(input(\"Desired temperature (°C): \"))\n",
    "away = input(\"Away? (yes/no): \")\n",
    "\n",
    "if away == \"yes\":\n",
    "    deviation = 5\n",
    "else:\n",
    "    deviation = 2\n",
    "\n",
    "if temp <  desired - deviation:\n",
    "    print(\"Heating\")\n",
    "elif temp > desired + deviation:\n",
    "    print(\"Cooling\")\n",
    "else:\n",
    "    print(\"Standby\")\n"
   ]
  },
  {
   "cell_type": "markdown",
   "metadata": {},
   "source": [
    "## Շախմատային ձի\n",
    "Profound [8.6](https://profound.academy/hy/python-introduction/sh-O4hNvCNvGPdAmEfdyUmH)"
   ]
  },
  {
   "cell_type": "code",
   "execution_count": null,
   "metadata": {},
   "outputs": [],
   "source": [
    "x1, y1 = int(input()), int(input())\n",
    "x2, y2 = int(input()), int(input())\n",
    "\n",
    "xdist = x1 - x2\n",
    "ydist = y1 - y2\n",
    "\n",
    "if (xdist == 1 or xdist == -1) and (ydist == 2 or ydist == -2):\n",
    "    print(\"Yes\")\n",
    "elif (xdist == 2 or xdist == -2) and (ydist == 1 or ydist == -1):\n",
    "    print(\"Yes\")\n",
    "else:\n",
    "    print(\"No\")"
   ]
  },
  {
   "cell_type": "markdown",
   "metadata": {},
   "source": [
    "# 🎲 2\n",
    "- ▶️[CGP Grey](https://www.youtube.com/watch?v=NVGuFdX5guE)\n",
    "- ▶️[Video 🔥](https://www.youtube.com/watch?v=lXKDu6cdXLI)\n",
    "- 🇦🇲🎶[THE WINDROSE](https://www.youtube.com/watch?v=XaEYCGhmAE4)\n",
    "- 🌐🎶[Willie Nelson](https://www.youtube.com/watch?v=5M014bAlOLo)\n",
    "- 🤌[Կարգին](https://www.youtube.com/watch?v=4fWY133vYDs)"
   ]
  },
  {
   "cell_type": "markdown",
   "metadata": {},
   "source": [
    "<a href=\"http://s01.flagcounter.com/more/1oO\"><img src=\"https://s01.flagcounter.com/count2/1oO/bg_FFFFFF/txt_000000/border_CCCCCC/columns_2/maxflags_10/viewers_0/labels_0/pageviews_1/flags_0/percent_0/\" alt=\"Flag Counter\"></a>\n"
   ]
  },
  {
   "cell_type": "markdown",
   "metadata": {},
   "source": []
  }
 ],
 "metadata": {
  "colab": {
   "include_colab_link": true,
   "provenance": []
  },
  "kernelspec": {
   "display_name": "Python 3",
   "name": "python3"
  },
  "language_info": {
   "codemirror_mode": {
    "name": "ipython",
    "version": 3
   },
   "file_extension": ".py",
   "mimetype": "text/x-python",
   "name": "python",
   "nbconvert_exporter": "python",
   "pygments_lexer": "ipython3",
   "version": "3.10.14"
  }
 },
 "nbformat": 4,
 "nbformat_minor": 0
}

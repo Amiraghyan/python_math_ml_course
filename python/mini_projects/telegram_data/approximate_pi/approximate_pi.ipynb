{
 "cells": [
  {
   "cell_type": "markdown",
   "id": "fcad9dd9",
   "metadata": {},
   "source": [
    "# $\\pi$-ի մոտարկում\n",
    "**Վիդեո(ToDo)**\n",
    "\n",
    "Մի րոպեանոց [անիմացիա](https://www.youtube.com/shorts/DUxvw3_cISo) նրա թե ինչ ենք սարքելու"
   ]
  },
  {
   "cell_type": "code",
   "execution_count": null,
   "id": "eaf7a2dc",
   "metadata": {},
   "outputs": [
    {
     "name": "stdout",
     "output_type": "stream",
     "text": [
      "3.141592653589793\n",
      "num_points = 5000000\n",
      "Pi approximation: 3.1429544\n",
      "Deviation: 0.04335%\n"
     ]
    },
    {
     "ename": "",
     "evalue": "",
     "output_type": "error",
     "traceback": [
      "\u001b[1;31mThe Kernel crashed while executing code in the current cell or a previous cell. \n",
      "\u001b[1;31mPlease review the code in the cell(s) to identify a possible cause of the failure. \n",
      "\u001b[1;31mClick <a href='https://aka.ms/vscodeJupyterKernelCrash'>here</a> for more info. \n",
      "\u001b[1;31mView Jupyter <a href='command:jupyter.viewOutput'>log</a> for further details."
     ]
    }
   ],
   "source": [
    "import math\n",
    "import random\n",
    "\n",
    "def approximate_pi(num_points=1_000):\n",
    "    num_in_circle = 0\n",
    "    \n",
    "    for _ in range(num_points):\n",
    "        x = random.uniform(-1, 1)\n",
    "        y = random.uniform(-1, 1)\n",
    "        \n",
    "        dist = (x**2 + y**2)**0.5\n",
    "        \n",
    "        if dist < 1:\n",
    "            num_in_circle += 1\n",
    "    \n",
    "    pi_approx = num_in_circle / num_points * 4 \n",
    "    print(f\"{num_points = }\")\n",
    "    print(f\"Pi approximation: {pi_approx}\")\n",
    "    print(f\"Deviation: {abs(pi_approx - math.pi) / math.pi * 100:.5f}%\")\n",
    "    return pi_approx\n",
    "\n",
    "print(math.pi)\n",
    "approximate_pi(5_000_000)"
   ]
  },
  {
   "cell_type": "code",
   "execution_count": null,
   "id": "491bce25",
   "metadata": {},
   "outputs": [],
   "source": [
    "\n",
    "\n",
    "\n",
    "\n",
    "\n",
    "\n",
    "\n",
    "\n",
    "\n",
    "\n",
    "\n",
    "\n",
    "\n",
    "\n",
    "\n",
    "\n",
    "\n",
    "\n",
    "\n",
    "\n",
    "\n"
   ]
  },
  {
   "cell_type": "markdown",
   "id": "cad8da88",
   "metadata": {},
   "source": [
    "## Github Copilot (Claude Sonnet)"
   ]
  },
  {
   "cell_type": "code",
   "execution_count": 4,
   "id": "2e309a19",
   "metadata": {},
   "outputs": [
    {
     "name": "stdout",
     "output_type": "stream",
     "text": [
      "Approximated π: 3.141864\n",
      "Deviation from π: 0.0086%\n"
     ]
    }
   ],
   "source": [
    "import random\n",
    "import math\n",
    "\n",
    "def approximate_pi(n_points=1000000):\n",
    "    # Counter for points inside the quarter circle\n",
    "    inside_circle = 0\n",
    "    \n",
    "    # Generate random points and check if they're inside\n",
    "    for _ in range(n_points):\n",
    "        x = random.random()  # Random number between 0 and 1\n",
    "        y = random.random()\n",
    "        \n",
    "        # Check if point falls inside quarter circle\n",
    "        if (x*x + y*y) <= 1:\n",
    "            inside_circle += 1\n",
    "    \n",
    "    # Calculate pi approximation\n",
    "    pi_approximation = 4 * inside_circle / n_points\n",
    "    \n",
    "    # Calculate deviation percentage\n",
    "    deviation_percent = abs(pi_approximation - math.pi) / math.pi * 100\n",
    "    \n",
    "    return pi_approximation, deviation_percent\n",
    "\n",
    "pi_approx, deviation = approximate_pi()\n",
    "print(f\"Approximated π: {pi_approx}\")\n",
    "print(f\"Deviation from π: {deviation:.4f}%\")"
   ]
  },
  {
   "cell_type": "code",
   "execution_count": null,
   "id": "6b2805dd",
   "metadata": {},
   "outputs": [],
   "source": []
  }
 ],
 "metadata": {
  "kernelspec": {
   "display_name": "Python 3",
   "language": "python",
   "name": "python3"
  },
  "language_info": {
   "codemirror_mode": {
    "name": "ipython",
    "version": 3
   },
   "file_extension": ".py",
   "mimetype": "text/x-python",
   "name": "python",
   "nbconvert_exporter": "python",
   "pygments_lexer": "ipython3",
   "version": "3.10.14"
  }
 },
 "nbformat": 4,
 "nbformat_minor": 5
}

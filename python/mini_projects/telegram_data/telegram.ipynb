{
 "cells": [
  {
   "cell_type": "code",
   "execution_count": null,
   "id": "e1617c07",
   "metadata": {},
   "outputs": [],
   "source": [
    "import json\n",
    "from tqdm import tqdm\n",
    "from time import sleep"
   ]
  },
  {
   "cell_type": "code",
   "execution_count": null,
   "id": "93d79462",
   "metadata": {},
   "outputs": [],
   "source": [
    "def count_messages(chat) -> int:\n",
    "    \"\"\"Returns number of messages in chat\n",
    "    \n",
    "    Args: \n",
    "        chat (dict): chat object\n",
    "    \n",
    "    Returns:\n",
    "        num_messages (int): number of messages\n",
    "    \"\"\"\n",
    "    num_messages = 0\n",
    "    \n",
    "    for i in chat[\"messages\"]:\n",
    "        if i[\"type\"] == \"message\":\n",
    "            num_messages += 1\n",
    "    \n",
    "    return num_messages"
   ]
  },
  {
   "cell_type": "code",
   "execution_count": null,
   "id": "b1803f03",
   "metadata": {},
   "outputs": [],
   "source": [
    "PATH = \"result.json\"\n",
    "\n",
    "with open(PATH, \"r\") as f:\n",
    "    data = json.load(f)\n"
   ]
  },
  {
   "cell_type": "code",
   "execution_count": null,
   "id": "313bd95b",
   "metadata": {},
   "outputs": [],
   "source": [
    "data.keys()"
   ]
  },
  {
   "cell_type": "code",
   "execution_count": null,
   "id": "6b1d3e2d",
   "metadata": {},
   "outputs": [],
   "source": [
    "data[\"chats\"][\"list\"]"
   ]
  },
  {
   "cell_type": "code",
   "execution_count": null,
   "id": "7063f485",
   "metadata": {},
   "outputs": [],
   "source": [
    "chats = [i for i in data[\"chats\"][\"list\"] if i[\"messages\"]]\n",
    "\n",
    "len(chats)"
   ]
  },
  {
   "cell_type": "code",
   "execution_count": null,
   "id": "7450b0b1",
   "metadata": {},
   "outputs": [],
   "source": [
    "chats_non_empty = []\n",
    "\n",
    "for chat in chats:\n",
    "    if chat[\"messages\"]:\n",
    "        chats_non_empty.append(chat)\n",
    "\n",
    "chats_non_empty = [i for i in chats if i[\"messages\"]]\n",
    "\n",
    "print(len(chats_non_empty))"
   ]
  },
  {
   "cell_type": "code",
   "execution_count": null,
   "id": "255ef64f",
   "metadata": {},
   "outputs": [],
   "source": [
    "\n",
    "has_message = 0\n",
    "for chat in tqdm(chats):\n",
    "    if chat[\"messages\"]:\n",
    "        has_message += 1\n",
    "        print(chat[\"messages\"][0])\n",
    "    break\n",
    "\n",
    "print(has_message)\n",
    "\n"
   ]
  },
  {
   "cell_type": "code",
   "execution_count": null,
   "id": "a351d534",
   "metadata": {},
   "outputs": [],
   "source": [
    "num_messages: int = 0\n",
    "for i in chats[0][\"messages\"]:\n",
    "    if i[\"type\"] == \"message\":\n",
    "        num_messages += 1\n",
    "\n",
    "\n",
    "print(num_messages)\n",
    "    \n",
    "\n",
    "chats"
   ]
  },
  {
   "cell_type": "code",
   "execution_count": null,
   "id": "721a7712",
   "metadata": {},
   "outputs": [],
   "source": [
    "message_dict = {}\n",
    "\n",
    "for chat in chats:\n",
    "    message_dict[chat[\"name\"]] = count_messages(chat)\n",
    "    print(message_dict)"
   ]
  },
  {
   "cell_type": "code",
   "execution_count": null,
   "id": "669c21fe",
   "metadata": {},
   "outputs": [],
   "source": [
    "names = [chat[\"name\"] for chat in chats]"
   ]
  },
  {
   "cell_type": "code",
   "execution_count": null,
   "id": "77aaa4a0",
   "metadata": {},
   "outputs": [],
   "source": [
    "num_ms = [count_messages(chat) for chat in chats]"
   ]
  },
  {
   "cell_type": "code",
   "execution_count": null,
   "id": "ae73b292",
   "metadata": {},
   "outputs": [],
   "source": [
    "dict(zip(names, num_ms))"
   ]
  },
  {
   "cell_type": "code",
   "execution_count": null,
   "metadata": {},
   "outputs": [],
   "source": []
  },
  {
   "cell_type": "code",
   "execution_count": null,
   "id": "986552e7",
   "metadata": {},
   "outputs": [],
   "source": [
    "count_messages(chats[0])\n",
    "\n",
    "print(a)"
   ]
  },
  {
   "cell_type": "code",
   "execution_count": null,
   "id": "2e3b9088",
   "metadata": {},
   "outputs": [],
   "source": [
    "# sum([\"a\", \"b\"])\n",
    "\n",
    "\" \".join([\"a\", \"b\"])"
   ]
  },
  {
   "cell_type": "code",
   "execution_count": null,
   "id": "5f739954",
   "metadata": {},
   "outputs": [],
   "source": [
    "def combine_texts(chat):\n",
    "    text = \"\"\n",
    "    for i in chat[\"messages\"]:\n",
    "        if i[\"type\"] == \"message\":\n",
    "            if isinstance(i[\"text\"], str):\n",
    "                text += i[\"text\"]\n",
    "            elif isinstance(i[\"text\"], list):\n",
    "                for t in i[\"text\"]:\n",
    "                    if isinstance(t, str):\n",
    "                        text += t\n",
    "                    elif isinstance(t, dict):\n",
    "                        text += t[\"text\"]\n",
    "                    else:\n",
    "                        print(\"Վայ 02, փաստորեն ուրիշ բան էլ կար\")\n",
    "                        break \n",
    "            else:\n",
    "                print(\"Վայ 01, փաստորեն ուրիշ բան էլ կար\")\n",
    "                break\n",
    "    return text\n",
    "\n",
    "combine_texts(chats[0])"
   ]
  },
  {
   "cell_type": "code",
   "execution_count": null,
   "id": "e861ea49",
   "metadata": {},
   "outputs": [],
   "source": [
    "isinstance(3, int)"
   ]
  },
  {
   "cell_type": "code",
   "execution_count": null,
   "id": "c5330868",
   "metadata": {},
   "outputs": [],
   "source": [
    "help(count_messages)"
   ]
  },
  {
   "cell_type": "code",
   "execution_count": null,
   "id": "158ba427",
   "metadata": {},
   "outputs": [],
   "source": []
  }
 ],
 "metadata": {
  "kernelspec": {
   "display_name": "Python 3",
   "language": "python",
   "name": "python3"
  },
  "language_info": {
   "codemirror_mode": {
    "name": "ipython",
    "version": 3
   },
   "file_extension": ".py",
   "mimetype": "text/x-python",
   "name": "python",
   "nbconvert_exporter": "python",
   "pygments_lexer": "ipython3",
   "version": "3.10.14"
  }
 },
 "nbformat": 4,
 "nbformat_minor": 5
}

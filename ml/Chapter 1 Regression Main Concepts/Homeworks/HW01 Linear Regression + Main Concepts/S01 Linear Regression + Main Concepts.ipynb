{
 "cells": [
  {
   "cell_type": "markdown",
   "metadata": {},
   "source": [
    "# Imports and reading data"
   ]
  },
  {
   "cell_type": "code",
   "execution_count": 3,
   "metadata": {},
   "outputs": [
    {
     "name": "stdout",
     "output_type": "stream",
     "text": [
      "Data generated and saved to 'data.csv'.\n"
     ]
    },
    {
     "data": {
      "image/png": "[encoded data removed]",
      "text/plain": [
       "<Figure size 640x480 with 1 Axes>"
      ]
     },
     "metadata": {},
     "output_type": "display_data"
    }
   ],
   "source": [
    "import numpy as np\n",
    "import pandas as pd\n",
    "import matplotlib.pyplot as plt\n",
    "\n",
    "# Set a random seed for reproducibility (optional)\n",
    "np.random.seed(42)\n",
    "\n",
    "# Number of samples\n",
    "n_samples = 100\n",
    "\n",
    "# Generate random x values in some range (e.g., 0 to 2)\n",
    "X = 2 * np.random.rand(n_samples)\n",
    "\n",
    "# Generate noise (mean 0, with some standard deviation)\n",
    "noise = np.random.randn(n_samples) * 20.0  # Adjust 50.0 to control noise level\n",
    "\n",
    "# True relationship: y = 509*x + noise\n",
    "y = 509 * X + noise\n",
    "\n",
    "# Create a Pandas DataFrame\n",
    "df = pd.DataFrame({\n",
    "    'x': X,\n",
    "    'y': y\n",
    "})\n",
    "\n",
    "pred = df.x * 509\n",
    "\n",
    "plt.scatter(df.x, df.y)\n",
    "plt.plot(df.x,pred)\n",
    "\n",
    "\n",
    "# Save to CSV\n",
    "df.to_csv('data_lin_reg.csv', index=False)\n",
    "\n",
    "print(\"Data generated and saved to 'data.csv'.\")\n"
   ]
  },
  {
   "cell_type": "code",
   "execution_count": 7,
   "metadata": {},
   "outputs": [],
   "source": [
    "import numpy as np\n",
    "import pandas as pd\n",
    "import plotly.express as px"
   ]
  },
  {
   "cell_type": "code",
   "execution_count": 4,
   "metadata": {},
   "outputs": [
    {
     "data": {
      "application/vnd.microsoft.datawrangler.viewer.v0+json": {
       "columns": [
        {
         "name": "index",
         "rawType": "int64",
         "type": "integer"
        },
        {
         "name": "x",
         "rawType": "float64",
         "type": "float"
        },
        {
         "name": "y",
         "rawType": "float64",
         "type": "float"
        }
       ],
       "ref": "057ca542-1c42-4b1c-83f6-3a35a49576a9",
       "rows": [
        [
         "0",
         "0.749080237694725",
         "383.02278235137845"
        ],
        [
         "1",
         "1.9014286128198323",
         "961.8470169159774"
        ],
        [
         "2",
         "1.4639878836228102",
         "747.0050482947204"
        ],
        [
         "3",
         "1.1973169683940732",
         "569.6829586205654"
        ],
        [
         "4",
         "0.312037280884873",
         "154.43353821365014"
        ]
       ],
       "shape": {
        "columns": 2,
        "rows": 5
       }
      },
      "text/html": [
       "<div>\n",
       "<style scoped>\n",
       "    .dataframe tbody tr th:only-of-type {\n",
       "        vertical-align: middle;\n",
       "    }\n",
       "\n",
       "    .dataframe tbody tr th {\n",
       "        vertical-align: top;\n",
       "    }\n",
       "\n",
       "    .dataframe thead th {\n",
       "        text-align: right;\n",
       "    }\n",
       "</style>\n",
       "<table border=\"1\" class=\"dataframe\">\n",
       "  <thead>\n",
       "    <tr style=\"text-align: right;\">\n",
       "      <th></th>\n",
       "      <th>x</th>\n",
       "      <th>y</th>\n",
       "    </tr>\n",
       "  </thead>\n",
       "  <tbody>\n",
       "    <tr>\n",
       "      <th>0</th>\n",
       "      <td>0.749080</td>\n",
       "      <td>383.022782</td>\n",
       "    </tr>\n",
       "    <tr>\n",
       "      <th>1</th>\n",
       "      <td>1.901429</td>\n",
       "      <td>961.847017</td>\n",
       "    </tr>\n",
       "    <tr>\n",
       "      <th>2</th>\n",
       "      <td>1.463988</td>\n",
       "      <td>747.005048</td>\n",
       "    </tr>\n",
       "    <tr>\n",
       "      <th>3</th>\n",
       "      <td>1.197317</td>\n",
       "      <td>569.682959</td>\n",
       "    </tr>\n",
       "    <tr>\n",
       "      <th>4</th>\n",
       "      <td>0.312037</td>\n",
       "      <td>154.433538</td>\n",
       "    </tr>\n",
       "  </tbody>\n",
       "</table>\n",
       "</div>"
      ],
      "text/plain": [
       "          x           y\n",
       "0  0.749080  383.022782\n",
       "1  1.901429  961.847017\n",
       "2  1.463988  747.005048\n",
       "3  1.197317  569.682959\n",
       "4  0.312037  154.433538"
      ]
     },
     "execution_count": 4,
     "metadata": {},
     "output_type": "execute_result"
    }
   ],
   "source": [
    "data = pd.read_csv('data_lin_reg.csv')\n",
    "\n",
    "data.head()"
   ]
  },
  {
   "cell_type": "code",
   "execution_count": 5,
   "metadata": {},
   "outputs": [
    {
     "name": "stdout",
     "output_type": "stream",
     "text": [
      "<class 'pandas.core.frame.DataFrame'>\n",
      "RangeIndex: 100 entries, 0 to 99\n",
      "Data columns (total 2 columns):\n",
      " #   Column  Non-Null Count  Dtype  \n",
      "---  ------  --------------  -----  \n",
      " 0   x       100 non-null    float64\n",
      " 1   y       100 non-null    float64\n",
      "dtypes: float64(2)\n",
      "memory usage: 1.7 KB\n"
     ]
    }
   ],
   "source": [
    "data.info()"
   ]
  },
  {
   "cell_type": "code",
   "execution_count": 8,
   "metadata": {},
   "outputs": [
    {
     "data": {
      "application/vnd.plotly.v1+json": {
       "config": {
        "plotlyServerURL": "https://plot.ly"
       },
       "data": [
        {
         "hovertemplate": "x=%{x}<br>y=%{y}<extra></extra>",
         "legendgroup": "",
         "marker": {
          "color": "#636efa",
          "symbol": "circle"
         },
         "mode": "markers",
         "name": "",
         "orientation": "v",
         "showlegend": false,
         "type": "scatter",
         "x": {
          "bdata": "7FFfHnf45z9U1rtoQGz+P1FnHo9+bPc/sCxj1jUo8z+DISI3a/jTP0x/meGg99M/blVknSK9vT+1t1UJt7f7P61LkoxVPPM/goKa0oeo9j9zfjgHGhSlP6ZT42KACf8/9xPBv16j+j+YMAOQ7S3bPzcZ4F8KRtc/RzThicx51z9oquR0tHjjP2M8BwDOyvA/WjsvuPyk6z8OvTKMf6PiPyd1mYVMlPM/eyS/UO/a0T9UQMp3f7LiPzi33PF4cuc/3Y+5KEAw7T8uOnlWKSD5P3OQHhbpjtk/E9Tux5t08D8X991lD/XyP2xDCTdZyLc/iqK45gFx8z+zPjUHvNPVP5+qbKA4p8A/idDEM0Vd/j+gzkAmdeb+P6Cqih1k3vk/6rIgwMp+4z9ve2MnCgHJP2HP9qg85fU/3FJ3XXUr7D+uF4XT5T3PPxhiqn76sO8/+WcYS1+bsT8wcpAZJxn9PzA4denZj+A/dn0F72Ez9T8euGYDE/PjP6ju1LBlpPA/PFNFjqZ+8T9cQoCQT6nXP+V/XlfWBv8/WIzMWePN+D9EopQVYBD+Pw/mtPdsovw//rnoIv8h8z+0YE5l/n/9P7gTQdJxp8Y/TFZVaPcV2T+e14P9Byi3P/aawU420uQ/9oL6tRbg6D8aSlFUyF3hP03VWIYEhfo/xte45wvV5j/ENNu81PrhP4efGi3EXfE/SIm9FM4J0j+7O6kAmav5P+YXgEDAFcM/J5Cx6ZOU/z/SW5SpOrb4P6ggsvSDb9k/x3c1B1yehj9XncuQQhj6PwZq2EqTnvY/xiMp1wZU9z/GgGwmP674P7dBpB2X9MI/3mc1PRrx5j9/WUc9mKnNP4NwZhOLnvs/zDzM6Q7y8z9gZsPobi3lPzW+3StcRcA/cMlZZSLn4z8Yz1O1zc/kPyl9XQ7vWPc/q1AZ7d5m9D+Ytj76C2T8P/Y7EPPEOO4/8EMYf7qdzj+qSWW75tL2PxAN4+JZWPg/B6bxmPv18T/GNgZdw6v4P9nOUthYmu8/ArjXMjq68D+6GuMA1VzrP5UtPLh4B6o/0Ht0xsWeyz8=",
          "dtype": "f8"
         },
         "xaxis": "x",
         "y": {
          "bdata": "i+EGUV3wd0BBCs6wxg6OQMylwlYKWIdAzF4Cs3bNgUAyJoiL301jQG8uJsM6vmRAebbNxvcrVkD0+qcdNzuLQADIXSYfnoJAbaXuDkM2hkDuBqXeq6FDQJZQi8eLD49AEcJGt6YmikD/eiVopk1sQH5Z2X9CYWdAMNGnooTCaUCTgLU113pyQJrVZcAwfYBASDUhvQv+ekDhJd8nN7NwQO8a+ShPpoNA0Cx/NTpnYkCY4IudFphyQGGJr9s7BHdAjHKpnIw/e0CHNZF2K7eIQJKE0F88jWhAutG5Lh+3f0BTl4GL0b6CQPMZNnYLr0tAq3mLkKKBhECcO1pBuSJmQEgpKujn11FAfLP1/c8jjkDtChKYGoWNQHzjO4VYs4lAzeoNn9J0c0DVVYjiPZZiQEFjELOdpYVA0gWK77JhfEAOdn2gmuJeQCF5Fex2C35A/mg+mJbuTEACNTuM0GWNQIJV43gjdHFAdN+FWRSChEBeOdRPC5Z1QLKs/YxGVn9A47oTP07CgUCJ/RXZtf9sQFY8rrfPOY5AphKx9hJOiEDSi8A9OfONQOhcYffqJoxAwCeg9zANgkB5fJy+tl6NQLRUNfm2NVFAft17128fakCBdZcnJKc7QCIXq531onZASrXTdyLAd0AIj0tgrNxwQMBl26lm34pAZSM87usodUD4Q1ECpihyQAT/CxjcFIJAuU4GpOrTW0DFUnw1oqKJQBDL/QTGRVRAjP3Rgkzij0Civ0zRP8uHQMafOBJF/GVAu50B33IPMEDiQ/SqoiCKQC440Z25pIZAoF2tUXdoh0DWlaz3axyIQMczMB9xAVRA+s8VFXksd0AmD7gsu+pZQDBDhmKjn4xA7Xe3BfQfhECeIkgtc5BzQI21JZ5XdVNA67adxWGRckA+JEb5c6x1QD+l9bpJ74dAhxbiePXEg0DA4CjLmdOMQCelGs+Gj35AHx3ZSQVGYUCyjkgFJ+CHQPyOKkOSDIhAF2cGl3FigUCUUyc1b/iHQDI9WSXiZX5AjTSGxcyUgEAgR9js9KB7QDJbRK0VaT9ASNj+BSOYX0A=",
          "dtype": "f8"
         },
         "yaxis": "y"
        }
       ],
       "layout": {
        "legend": {
         "tracegroupgap": 0
        },
        "margin": {
         "t": 60
        },
        "template": {
         "data": {
          "bar": [
           {
            "error_x": {
             "color": "#2a3f5f"
            },
            "error_y": {
             "color": "#2a3f5f"
            },
            "marker": {
             "line": {
              "color": "#E5ECF6",
              "width": 0.5
             },
             "pattern": {
              "fillmode": "overlay",
              "size": 10,
              "solidity": 0.2
             }
            },
            "type": "bar"
           }
          ],
          "barpolar": [
           {
            "marker": {
             "line": {
              "color": "#E5ECF6",
              "width": 0.5
             },
             "pattern": {
              "fillmode": "overlay",
              "size": 10,
              "solidity": 0.2
             }
            },
            "type": "barpolar"
           }
          ],
          "carpet": [
           {
            "aaxis": {
             "endlinecolor": "#2a3f5f",
             "gridcolor": "white",
             "linecolor": "white",
             "minorgridcolor": "white",
             "startlinecolor": "#2a3f5f"
            },
            "baxis": {
             "endlinecolor": "#2a3f5f",
             "gridcolor": "white",
             "linecolor": "white",
             "minorgridcolor": "white",
             "startlinecolor": "#2a3f5f"
            },
            "type": "carpet"
           }
          ],
          "choropleth": [
           {
            "colorbar": {
             "outlinewidth": 0,
             "ticks": ""
            },
            "type": "choropleth"
           }
          ],
          "contour": [
           {
            "colorbar": {
             "outlinewidth": 0,
             "ticks": ""
            },
            "colorscale": [
             [
              0,
              "#0d0887"
             ],
             [
              0.1111111111111111,
              "#46039f"
             ],
             [
              0.2222222222222222,
              "#7201a8"
             ],
             [
              0.3333333333333333,
              "#9c179e"
             ],
             [
              0.4444444444444444,
              "#bd3786"
             ],
             [
              0.5555555555555556,
              "#d8576b"
             ],
             [
              0.6666666666666666,
              "#ed7953"
             ],
             [
              0.7777777777777778,
              "#fb9f3a"
             ],
             [
              0.8888888888888888,
              "#fdca26"
             ],
             [
              1,
              "#f0f921"
             ]
            ],
            "type": "contour"
           }
          ],
          "contourcarpet": [
           {
            "colorbar": {
             "outlinewidth": 0,
             "ticks": ""
            },
            "type": "contourcarpet"
           }
          ],
          "heatmap": [
           {
            "colorbar": {
             "outlinewidth": 0,
             "ticks": ""
            },
            "colorscale": [
             [
              0,
              "#0d0887"
             ],
             [
              0.1111111111111111,
              "#46039f"
             ],
             [
              0.2222222222222222,
              "#7201a8"
             ],
             [
              0.3333333333333333,
              "#9c179e"
             ],
             [
              0.4444444444444444,
              "#bd3786"
             ],
             [
              0.5555555555555556,
              "#d8576b"
             ],
             [
              0.6666666666666666,
              "#ed7953"
             ],
             [
              0.7777777777777778,
              "#fb9f3a"
             ],
             [
              0.8888888888888888,
              "#fdca26"
             ],
             [
              1,
              "#f0f921"
             ]
            ],
            "type": "heatmap"
           }
          ],
          "histogram": [
           {
            "marker": {
             "pattern": {
              "fillmode": "overlay",
              "size": 10,
              "solidity": 0.2
             }
            },
            "type": "histogram"
           }
          ],
          "histogram2d": [
           {
            "colorbar": {
             "outlinewidth": 0,
             "ticks": ""
            },
            "colorscale": [
             [
              0,
              "#0d0887"
             ],
             [
              0.1111111111111111,
              "#46039f"
             ],
             [
              0.2222222222222222,
              "#7201a8"
             ],
             [
              0.3333333333333333,
              "#9c179e"
             ],
             [
              0.4444444444444444,
              "#bd3786"
             ],
             [
              0.5555555555555556,
              "#d8576b"
             ],
             [
              0.6666666666666666,
              "#ed7953"
             ],
             [
              0.7777777777777778,
              "#fb9f3a"
             ],
             [
              0.8888888888888888,
              "#fdca26"
             ],
             [
              1,
              "#f0f921"
             ]
            ],
            "type": "histogram2d"
           }
          ],
          "histogram2dcontour": [
           {
            "colorbar": {
             "outlinewidth": 0,
             "ticks": ""
            },
            "colorscale": [
             [
              0,
              "#0d0887"
             ],
             [
              0.1111111111111111,
              "#46039f"
             ],
             [
              0.2222222222222222,
              "#7201a8"
             ],
             [
              0.3333333333333333,
              "#9c179e"
             ],
             [
              0.4444444444444444,
              "#bd3786"
             ],
             [
              0.5555555555555556,
              "#d8576b"
             ],
             [
              0.6666666666666666,
              "#ed7953"
             ],
             [
              0.7777777777777778,
              "#fb9f3a"
             ],
             [
              0.8888888888888888,
              "#fdca26"
             ],
             [
              1,
              "#f0f921"
             ]
            ],
            "type": "histogram2dcontour"
           }
          ],
          "mesh3d": [
           {
            "colorbar": {
             "outlinewidth": 0,
             "ticks": ""
            },
            "type": "mesh3d"
           }
          ],
          "parcoords": [
           {
            "line": {
             "colorbar": {
              "outlinewidth": 0,
              "ticks": ""
             }
            },
            "type": "parcoords"
           }
          ],
          "pie": [
           {
            "automargin": true,
            "type": "pie"
           }
          ],
          "scatter": [
           {
            "fillpattern": {
             "fillmode": "overlay",
             "size": 10,
             "solidity": 0.2
            },
            "type": "scatter"
           }
          ],
          "scatter3d": [
           {
            "line": {
             "colorbar": {
              "outlinewidth": 0,
              "ticks": ""
             }
            },
            "marker": {
             "colorbar": {
              "outlinewidth": 0,
              "ticks": ""
             }
            },
            "type": "scatter3d"
           }
          ],
          "scattercarpet": [
           {
            "marker": {
             "colorbar": {
              "outlinewidth": 0,
              "ticks": ""
             }
            },
            "type": "scattercarpet"
           }
          ],
          "scattergeo": [
           {
            "marker": {
             "colorbar": {
              "outlinewidth": 0,
              "ticks": ""
             }
            },
            "type": "scattergeo"
           }
          ],
          "scattergl": [
           {
            "marker": {
             "colorbar": {
              "outlinewidth": 0,
              "ticks": ""
             }
            },
            "type": "scattergl"
           }
          ],
          "scattermap": [
           {
            "marker": {
             "colorbar": {
              "outlinewidth": 0,
              "ticks": ""
             }
            },
            "type": "scattermap"
           }
          ],
          "scattermapbox": [
           {
            "marker": {
             "colorbar": {
              "outlinewidth": 0,
              "ticks": ""
             }
            },
            "type": "scattermapbox"
           }
          ],
          "scatterpolar": [
           {
            "marker": {
             "colorbar": {
              "outlinewidth": 0,
              "ticks": ""
             }
            },
            "type": "scatterpolar"
           }
          ],
          "scatterpolargl": [
           {
            "marker": {
             "colorbar": {
              "outlinewidth": 0,
              "ticks": ""
             }
            },
            "type": "scatterpolargl"
           }
          ],
          "scatterternary": [
           {
            "marker": {
             "colorbar": {
              "outlinewidth": 0,
              "ticks": ""
             }
            },
            "type": "scatterternary"
           }
          ],
          "surface": [
           {
            "colorbar": {
             "outlinewidth": 0,
             "ticks": ""
            },
            "colorscale": [
             [
              0,
              "#0d0887"
             ],
             [
              0.1111111111111111,
              "#46039f"
             ],
             [
              0.2222222222222222,
              "#7201a8"
             ],
             [
              0.3333333333333333,
              "#9c179e"
             ],
             [
              0.4444444444444444,
              "#bd3786"
             ],
             [
              0.5555555555555556,
              "#d8576b"
             ],
             [
              0.6666666666666666,
              "#ed7953"
             ],
             [
              0.7777777777777778,
              "#fb9f3a"
             ],
             [
              0.8888888888888888,
              "#fdca26"
             ],
             [
              1,
              "#f0f921"
             ]
            ],
            "type": "surface"
           }
          ],
          "table": [
           {
            "cells": {
             "fill": {
              "color": "#EBF0F8"
             },
             "line": {
              "color": "white"
             }
            },
            "header": {
             "fill": {
              "color": "#C8D4E3"
             },
             "line": {
              "color": "white"
             }
            },
            "type": "table"
           }
          ]
         },
         "layout": {
          "annotationdefaults": {
           "arrowcolor": "#2a3f5f",
           "arrowhead": 0,
           "arrowwidth": 1
          },
          "autotypenumbers": "strict",
          "coloraxis": {
           "colorbar": {
            "outlinewidth": 0,
            "ticks": ""
           }
          },
          "colorscale": {
           "diverging": [
            [
             0,
             "#8e0152"
            ],
            [
             0.1,
             "#c51b7d"
            ],
            [
             0.2,
             "#de77ae"
            ],
            [
             0.3,
             "#f1b6da"
            ],
            [
             0.4,
             "#fde0ef"
            ],
            [
             0.5,
             "#f7f7f7"
            ],
            [
             0.6,
             "#e6f5d0"
            ],
            [
             0.7,
             "#b8e186"
            ],
            [
             0.8,
             "#7fbc41"
            ],
            [
             0.9,
             "#4d9221"
            ],
            [
             1,
             "#276419"
            ]
           ],
           "sequential": [
            [
             0,
             "#0d0887"
            ],
            [
             0.1111111111111111,
             "#46039f"
            ],
            [
             0.2222222222222222,
             "#7201a8"
            ],
            [
             0.3333333333333333,
             "#9c179e"
            ],
            [
             0.4444444444444444,
             "#bd3786"
            ],
            [
             0.5555555555555556,
             "#d8576b"
            ],
            [
             0.6666666666666666,
             "#ed7953"
            ],
            [
             0.7777777777777778,
             "#fb9f3a"
            ],
            [
             0.8888888888888888,
             "#fdca26"
            ],
            [
             1,
             "#f0f921"
            ]
           ],
           "sequentialminus": [
            [
             0,
             "#0d0887"
            ],
            [
             0.1111111111111111,
             "#46039f"
            ],
            [
             0.2222222222222222,
             "#7201a8"
            ],
            [
             0.3333333333333333,
             "#9c179e"
            ],
            [
             0.4444444444444444,
             "#bd3786"
            ],
            [
             0.5555555555555556,
             "#d8576b"
            ],
            [
             0.6666666666666666,
             "#ed7953"
            ],
            [
             0.7777777777777778,
             "#fb9f3a"
            ],
            [
             0.8888888888888888,
             "#fdca26"
            ],
            [
             1,
             "#f0f921"
            ]
           ]
          },
          "colorway": [
           "#636efa",
           "#EF553B",
           "#00cc96",
           "#ab63fa",
           "#FFA15A",
           "#19d3f3",
           "#FF6692",
           "#B6E880",
           "#FF97FF",
           "#FECB52"
          ],
          "font": {
           "color": "#2a3f5f"
          },
          "geo": {
           "bgcolor": "white",
           "lakecolor": "white",
           "landcolor": "#E5ECF6",
           "showlakes": true,
           "showland": true,
           "subunitcolor": "white"
          },
          "hoverlabel": {
           "align": "left"
          },
          "hovermode": "closest",
          "mapbox": {
           "style": "light"
          },
          "paper_bgcolor": "white",
          "plot_bgcolor": "#E5ECF6",
          "polar": {
           "angularaxis": {
            "gridcolor": "white",
            "linecolor": "white",
            "ticks": ""
           },
           "bgcolor": "#E5ECF6",
           "radialaxis": {
            "gridcolor": "white",
            "linecolor": "white",
            "ticks": ""
           }
          },
          "scene": {
           "xaxis": {
            "backgroundcolor": "#E5ECF6",
            "gridcolor": "white",
            "gridwidth": 2,
            "linecolor": "white",
            "showbackground": true,
            "ticks": "",
            "zerolinecolor": "white"
           },
           "yaxis": {
            "backgroundcolor": "#E5ECF6",
            "gridcolor": "white",
            "gridwidth": 2,
            "linecolor": "white",
            "showbackground": true,
            "ticks": "",
            "zerolinecolor": "white"
           },
           "zaxis": {
            "backgroundcolor": "#E5ECF6",
            "gridcolor": "white",
            "gridwidth": 2,
            "linecolor": "white",
            "showbackground": true,
            "ticks": "",
            "zerolinecolor": "white"
           }
          },
          "shapedefaults": {
           "line": {
            "color": "#2a3f5f"
           }
          },
          "ternary": {
           "aaxis": {
            "gridcolor": "white",
            "linecolor": "white",
            "ticks": ""
           },
           "baxis": {
            "gridcolor": "white",
            "linecolor": "white",
            "ticks": ""
           },
           "bgcolor": "#E5ECF6",
           "caxis": {
            "gridcolor": "white",
            "linecolor": "white",
            "ticks": ""
           }
          },
          "title": {
           "x": 0.05
          },
          "xaxis": {
           "automargin": true,
           "gridcolor": "white",
           "linecolor": "white",
           "ticks": "",
           "title": {
            "standoff": 15
           },
           "zerolinecolor": "white",
           "zerolinewidth": 2
          },
          "yaxis": {
           "automargin": true,
           "gridcolor": "white",
           "linecolor": "white",
           "ticks": "",
           "title": {
            "standoff": 15
           },
           "zerolinecolor": "white",
           "zerolinewidth": 2
          }
         }
        },
        "xaxis": {
         "anchor": "y",
         "domain": [
          0,
          1
         ],
         "title": {
          "text": "x"
         }
        },
        "yaxis": {
         "anchor": "x",
         "domain": [
          0,
          1
         ],
         "title": {
          "text": "y"
         }
        }
       }
      }
     },
     "metadata": {},
     "output_type": "display_data"
    }
   ],
   "source": [
    "px.scatter(data, x='x', y='y')"
   ]
  },
  {
   "cell_type": "markdown",
   "metadata": {},
   "source": [
    "# Loss and risk functions"
   ]
  },
  {
   "cell_type": "code",
   "execution_count": 9,
   "metadata": {},
   "outputs": [],
   "source": [
    "def l2_loss(y, y_pred):\n",
    "    \"\"\"Compute the L2 loss between y and y_pred.\n",
    "    \n",
    "    Args:\n",
    "        y (np.array): the true values\n",
    "        y_pred (np.array): the predicted values\n",
    "        \n",
    "    Returns:\n",
    "        float: the L2 loss\n",
    "    \"\"\"\n",
    "    return np.sum((y - y_pred) ** 2)\n",
    "\n",
    "def empirical_risk(y, y_pred):\n",
    "    \"\"\"Compute the empirical risk.\n",
    "    \n",
    "    Args:\n",
    "        y (np.array): the true values\n",
    "        y_pred (np.array): the predicted values\n",
    "        \n",
    "    Returns:\n",
    "        float: the empirical risk\n",
    "    \"\"\"\n",
    "    return l2_loss(y, y_pred) / len(y)"
   ]
  },
  {
   "cell_type": "code",
   "execution_count": 10,
   "metadata": {},
   "outputs": [],
   "source": [
    "# testing\n",
    "y = np.array([1, 2, 3])\n",
    "y_pred = np.array([1, 2, 3])\n",
    "\n",
    "\n",
    "assert l2_loss(y, y_pred) == 0, f\"L2 loss: {l2_loss(y, y_pred)}\"\n",
    "assert empirical_risk(y, y_pred) == 0, f\"Empirical risk: {empirical_risk(y, y_pred)}\"\n",
    "\n",
    "y_pred = np.array([1, 2, 4])\n",
    "assert l2_loss(y, y_pred) == 1, f\"L2 loss: {l2_loss(y, y_pred)}\"\n",
    "assert empirical_risk(y, y_pred) == 1/3, f\"Empirical risk: {empirical_risk(y, y_pred)}\""
   ]
  },
  {
   "cell_type": "markdown",
   "metadata": {},
   "source": [
    "# Gradient descent"
   ]
  },
  {
   "cell_type": "code",
   "execution_count": 11,
   "metadata": {},
   "outputs": [],
   "source": [
    "def predict(x, theta):\n",
    "    \"\"\"Predict the values of y given x.\n",
    "    \n",
    "    Equation: y = theta * x (theta is a scalar)\n",
    "    \n",
    "    Note:\n",
    "        Just multiplying x by theta is not worth a separate function, but in \n",
    "        future we'll have more complex models.\n",
    "    \n",
    "    Args:\n",
    "        x (float)\n",
    "        theta (float) \n",
    "        \n",
    "    Returns:\n",
    "        float\n",
    "    \"\"\"\n",
    "    return x * theta"
   ]
  },
  {
   "cell_type": "code",
   "execution_count": null,
   "metadata": {},
   "outputs": [
    {
     "ename": "AssertionError",
     "evalue": "Gradient: 114902.66666666667",
     "output_type": "error",
     "traceback": [
      "\u001b[1;31m---------------------------------------------------------------------------\u001b[0m",
      "\u001b[1;31mAssertionError\u001b[0m                            Traceback (most recent call last)",
      "Cell \u001b[1;32mIn[13], line 22\u001b[0m\n\u001b[0;32m     19\u001b[0m theta \u001b[38;5;241m=\u001b[39m \u001b[38;5;241m12312\u001b[39m\n\u001b[0;32m     21\u001b[0m grad_zero \u001b[38;5;241m=\u001b[39m gradient_of_empirical_risk(x, y, theta)\n\u001b[1;32m---> 22\u001b[0m \u001b[38;5;28;01massert\u001b[39;00m grad_zero \u001b[38;5;241m==\u001b[39m \u001b[38;5;241m0\u001b[39m, \u001b[38;5;124mf\u001b[39m\u001b[38;5;124m\"\u001b[39m\u001b[38;5;124mGradient: \u001b[39m\u001b[38;5;132;01m{\u001b[39;00mgrad_zero\u001b[38;5;132;01m}\u001b[39;00m\u001b[38;5;124m\"\u001b[39m\n",
      "\u001b[1;31mAssertionError\u001b[0m: Gradient: 114902.66666666667"
     ]
    }
   ],
   "source": [
    "def gradient_of_empirical_risk(x, y, theta):\n",
    "    \"\"\"Compute the gradient of the empirical risk.\t\n",
    "    \n",
    "    Args:\n",
    "        x (np.array): the features\n",
    "        y (np.array): the true values\n",
    "        theta (float): the parameter\n",
    "        \n",
    "    Returns:\n",
    "        float: the gradient\n",
    "    \"\"\"\n",
    "    predictions = predict(x, theta)\n",
    "    residuals = predictions - y\n",
    "    return 2 * np.dot(residuals, x) / len(y)\n",
    "\n",
    "# testing\n",
    "x = np.array([1, 2, 3])\n",
    "y = np.array([1, 2, 3])\n",
    "theta = 1\n",
    "\n",
    "grad_zero = gradient_of_empirical_risk(x, y, theta)\n",
    "assert grad_zero == 0, f\"Gradient: {grad_zero}\""
   ]
  },
  {
   "cell_type": "markdown",
   "metadata": {},
   "source": [
    "# Linear Regression"
   ]
  },
  {
   "cell_type": "code",
   "execution_count": 15,
   "metadata": {},
   "outputs": [],
   "source": [
    "def linear_regression(x, y, learning_rate=0.01, epochs=1000):\n",
    "    \"\"\"Perform linear regression.\n",
    "    \n",
    "    Note:\n",
    "        Epoch means 1 full iteration over the dataset.\n",
    "    \n",
    "    Args:\n",
    "        x (np.array): the feature\n",
    "        y (np.array): the true values\n",
    "        learning_rate (float): the learning rate / step size (default: 0.01)\n",
    "        epochs (int): the number of epochs (iterations of grad. descent) (default: 100)\n",
    "        \n",
    "    Returns:\n",
    "        dict: with keys 'results', 'loss', 'theta', 'learning_rate'\n",
    "    \"\"\"\n",
    "    theta = 0 # or maybe random\n",
    "    \n",
    "    result_dict = {'epoch': [], 'theta': [], 'risk': [], \"all_thetas\": []}\n",
    "    \n",
    "    for i in range(epochs):\n",
    "        grad = gradient_of_empirical_risk(x, y, theta)\n",
    "        theta -= learning_rate * grad\n",
    "        \n",
    "        predictions = predict(x, theta)\n",
    "        risk = empirical_risk(y, predictions)\n",
    "        \n",
    "        result_dict['epoch'].append(i)\n",
    "        result_dict['theta'].append(theta)\n",
    "        result_dict['risk'].append(risk)\n",
    "        result_dict['all_thetas'].append(theta)\n",
    "        \n",
    "    res_df = pd.DataFrame(result_dict)    \n",
    "    loss_last_epoch = res_df['risk'].iloc[-1]\n",
    "    \n",
    "    results = {'results': res_df, \n",
    "               'loss': loss_last_epoch, \n",
    "               \"theta\": theta,\n",
    "               \"all_thetas\": result_dict['all_thetas'],\n",
    "               \"learning_rate\": learning_rate}\n",
    "    \n",
    "    return results"
   ]
  },
  {
   "cell_type": "code",
   "execution_count": 16,
   "metadata": {},
   "outputs": [],
   "source": [
    "res_df, loss, theta, all_thetas, lr = linear_regression(data[\"x\"], data[\"y\"]).values()\n"
   ]
  },
  {
   "cell_type": "code",
   "execution_count": null,
   "metadata": {},
   "outputs": [
    {
     "data": {
      "application/vnd.plotly.v1+json": {
       "config": {
        "plotlyServerURL": "https://plot.ly"
       },
       "data": [
        {
         "hovertemplate": "variable=0<br>index=%{x}<br>value=%{y}<extra></extra>",
         "legendgroup": "0",
         "line": {
          "color": "#636efa",
          "dash": "solid"
         },
         "marker": {
          "symbol": "circle"
         },
         "mode": "lines",
         "name": "0",
         "orientation": "v",
         "showlegend": true,
         "type": "scatter",
         "x": [
          0,
          1,
          2,
          3,
          4,
          5,
          6,
          7,
          8,
          9,
          10,
          11,
          12,
          13,
          14,
          15,
          16,
          17,
          18,
          19,
          20,
          21,
          22,
          23,
          24,
          25,
          26,
          27,
          28,
          29,
          30,
          31,
          32,
          33,
          34,
          35,
          36,
          37,
          38,
          39,
          40,
          41,
          42,
          43,
          44,
          45,
          46,
          47,
          48,
          49,
          50,
          51,
          52,
          53,
          54,
          55,
          56,
          57,
          58,
          59,
          60,
          61,
          62,
          63,
          64,
          65,
          66,
          67,
          68,
          69,
          70,
          71,
          72,
          73,
          74,
          75,
          76,
          77,
          78,
          79,
          80,
          81,
          82,
          83,
          84,
          85,
          86,
          87,
          88,
          89,
          90,
          91,
          92,
          93,
          94,
          95,
          96,
          97,
          98,
          99,
          100,
          101,
          102,
          103,
          104,
          105,
          106,
          107,
          108,
          109,
          110,
          111,
          112,
          113,
          114,
          115,
          116,
          117,
          118,
          119,
          120,
          121,
          122,
          123,
          124,
          125,
          126,
          127,
          128,
          129,
          130,
          131,
          132,
          133,
          134,
          135,
          136,
          137,
          138,
          139,
          140,
          141,
          142,
          143,
          144,
          145,
          146,
          147,
          148,
          149,
          150,
          151,
          152,
          153,
          154,
          155,
          156,
          157,
          158,
          159,
          160,
          161,
          162,
          163,
          164,
          165,
          166,
          167,
          168,
          169,
          170,
          171,
          172,
          173,
          174,
          175,
          176,
          177,
          178,
          179,
          180,
          181,
          182,
          183,
          184,
          185,
          186,
          187,
          188,
          189,
          190,
          191,
          192,
          193,
          194,
          195,
          196,
          197,
          198,
          199,
          200,
          201,
          202,
          203,
          204,
          205,
          206,
          207,
          208,
          209,
          210,
          211,
          212,
          213,
          214,
          215,
          216,
          217,
          218,
          219,
          220,
          221,
          222,
          223,
          224,
          225,
          226,
          227,
          228,
          229,
          230,
          231,
          232,
          233,
          234,
          235,
          236,
          237,
          238,
          239,
          240,
          241,
          242,
          243,
          244,
          245,
          246,
          247,
          248,
          249,
          250,
          251,
          252,
          253,
          254,
          255,
          256,
          257,
          258,
          259,
          260,
          261,
          262,
          263,
          264,
          265,
          266,
          267,
          268,
          269,
          270,
          271,
          272,
          273,
          274,
          275,
          276,
          277,
          278,
          279,
          280,
          281,
          282,
          283,
          284,
          285,
          286,
          287,
          288,
          289,
          290,
          291,
          292,
          293,
          294,
          295,
          296,
          297,
          298,
          299,
          300,
          301,
          302,
          303,
          304,
          305,
          306,
          307,
          308,
          309,
          310,
          311,
          312,
          313,
          314,
          315,
          316,
          317,
          318,
          319,
          320,
          321,
          322,
          323,
          324,
          325,
          326,
          327,
          328,
          329,
          330,
          331,
          332,
          333,
          334,
          335,
          336,
          337,
          338,
          339,
          340,
          341,
          342,
          343,
          344,
          345,
          346,
          347,
          348,
          349,
          350,
          351,
          352,
          353,
          354,
          355,
          356,
          357,
          358,
          359,
          360,
          361,
          362,
          363,
          364,
          365,
          366,
          367,
          368,
          369,
          370,
          371,
          372,
          373,
          374,
          375,
          376,
          377,
          378,
          379,
          380,
          381,
          382,
          383,
          384,
          385,
          386,
          387,
          388,
          389,
          390,
          391,
          392,
          393,
          394,
          395,
          396,
          397,
          398,
          399,
          400,
          401,
          402,
          403,
          404,
          405,
          406,
          407,
          408,
          409,
          410,
          411,
          412,
          413,
          414,
          415,
          416,
          417,
          418,
          419,
          420,
          421,
          422,
          423,
          424,
          425,
          426,
          427,
          428,
          429,
          430,
          431,
          432,
          433,
          434,
          435,
          436,
          437,
          438,
          439,
          440,
          441,
          442,
          443,
          444,
          445,
          446,
          447,
          448,
          449,
          450,
          451,
          452,
          453,
          454,
          455,
          456,
          457,
          458,
          459,
          460,
          461,
          462,
          463,
          464,
          465,
          466,
          467,
          468,
          469,
          470,
          471,
          472,
          473,
          474,
          475,
          476,
          477,
          478,
          479,
          480,
          481,
          482,
          483,
          484,
          485,
          486,
          487,
          488,
          489,
          490,
          491,
          492,
          493,
          494,
          495,
          496,
          497,
          498,
          499,
          500,
          501,
          502,
          503,
          504,
          505,
          506,
          507,
          508,
          509,
          510,
          511,
          512,
          513,
          514,
          515,
          516,
          517,
          518,
          519,
          520,
          521,
          522,
          523,
          524,
          525,
          526,
          527,
          528,
          529,
          530,
          531,
          532,
          533,
          534,
          535,
          536,
          537,
          538,
          539,
          540,
          541,
          542,
          543,
          544,
          545,
          546,
          547,
          548,
          549,
          550,
          551,
          552,
          553,
          554,
          555,
          556,
          557,
          558,
          559,
          560,
          561,
          562,
          563,
          564,
          565,
          566,
          567,
          568,
          569,
          570,
          571,
          572,
          573,
          574,
          575,
          576,
          577,
          578,
          579,
          580,
          581,
          582,
          583,
          584,
          585,
          586,
          587,
          588,
          589,
          590,
          591,
          592,
          593,
          594,
          595,
          596,
          597,
          598,
          599,
          600,
          601,
          602,
          603,
          604,
          605,
          606,
          607,
          608,
          609,
          610,
          611,
          612,
          613,
          614,
          615,
          616,
          617,
          618,
          619,
          620,
          621,
          622,
          623,
          624,
          625,
          626,
          627,
          628,
          629,
          630,
          631,
          632,
          633,
          634,
          635,
          636,
          637,
          638,
          639,
          640,
          641,
          642,
          643,
          644,
          645,
          646,
          647,
          648,
          649,
          650,
          651,
          652,
          653,
          654,
          655,
          656,
          657,
          658,
          659,
          660,
          661,
          662,
          663,
          664,
          665,
          666,
          667,
          668,
          669,
          670,
          671,
          672,
          673,
          674,
          675,
          676,
          677,
          678,
          679,
          680,
          681,
          682,
          683,
          684,
          685,
          686,
          687,
          688,
          689,
          690,
          691,
          692,
          693,
          694,
          695,
          696,
          697,
          698,
          699,
          700,
          701,
          702,
          703,
          704,
          705,
          706,
          707,
          708,
          709,
          710,
          711,
          712,
          713,
          714,
          715,
          716,
          717,
          718,
          719,
          720,
          721,
          722,
          723,
          724,
          725,
          726,
          727,
          728,
          729,
          730,
          731,
          732,
          733,
          734,
          735,
          736,
          737,
          738,
          739,
          740,
          741,
          742,
          743,
          744,
          745,
          746,
          747,
          748,
          749,
          750,
          751,
          752,
          753,
          754,
          755,
          756,
          757,
          758,
          759,
          760,
          761,
          762,
          763,
          764,
          765,
          766,
          767,
          768,
          769,
          770,
          771,
          772,
          773,
          774,
          775,
          776,
          777,
          778,
          779,
          780,
          781,
          782,
          783,
          784,
          785,
          786,
          787,
          788,
          789,
          790,
          791,
          792,
          793,
          794,
          795,
          796,
          797,
          798,
          799,
          800,
          801,
          802,
          803,
          804,
          805,
          806,
          807,
          808,
          809,
          810,
          811,
          812,
          813,
          814,
          815,
          816,
          817,
          818,
          819,
          820,
          821,
          822,
          823,
          824,
          825,
          826,
          827,
          828,
          829,
          830,
          831,
          832,
          833,
          834,
          835,
          836,
          837,
          838,
          839,
          840,
          841,
          842,
          843,
          844,
          845,
          846,
          847,
          848,
          849,
          850,
          851,
          852,
          853,
          854,
          855,
          856,
          857,
          858,
          859,
          860,
          861,
          862,
          863,
          864,
          865,
          866,
          867,
          868,
          869,
          870,
          871,
          872,
          873,
          874,
          875,
          876,
          877,
          878,
          879,
          880,
          881,
          882,
          883,
          884,
          885,
          886,
          887,
          888,
          889,
          890,
          891,
          892,
          893,
          894,
          895,
          896,
          897,
          898,
          899,
          900,
          901,
          902,
          903,
          904,
          905,
          906,
          907,
          908,
          909,
          910,
          911,
          912,
          913,
          914,
          915,
          916,
          917,
          918,
          919,
          920,
          921,
          922,
          923,
          924,
          925,
          926,
          927,
          928,
          929,
          930,
          931,
          932,
          933,
          934,
          935,
          936,
          937,
          938,
          939,
          940,
          941,
          942,
          943,
          944,
          945,
          946,
          947,
          948,
          949,
          950,
          951,
          952,
          953,
          954,
          955,
          956,
          957,
          958,
          959,
          960,
          961,
          962,
          963,
          964,
          965,
          966,
          967,
          968,
          969,
          970,
          971,
          972,
          973,
          974,
          975,
          976,
          977,
          978,
          979,
          980,
          981,
          982,
          983,
          984,
          985,
          986,
          987,
          988,
          989,
          990,
          991,
          992,
          993,
          994,
          995,
          996,
          997,
          998,
          999
         ],
         "xaxis": "x",
         "y": [
          12.537015600947903,
          24.764432227770822,
          36.68989536228279,
          48.32086168272595,
          59.66460372623519,
          70.72821443616428,
          81.51861159711659,
          92.0425421604538,
          102.30658646298701,
          112.31716234148817,
          122.08052914559447,
          131.60279165161498,
          140.88990387968656,
          149.94767281666603,
          158.78176204708615,
          167.397695294446,
          175.80085987504995,
          183.99651006655466,
          191.9897703933307,
          199.78563883069276,
          207.38898993000203,
          214.80457786659494,
          222.03703941244387,
          229.09089683540859,
          235.9705607268913,
          242.68033275966351,
          249.22440837758867,
          255.60687941892283,
          261.83173667483345,
          267.90287238473604,
          273.8240826700091,
          279.5990699076088,
          285.23144504506797,
          290.7247298583265,
          296.0823591538051,
          301.3076829160995,
          306.40396840263753,
          311.37440218660925,
          316.2220921494472,
          320.950069424103,
          325.561290290335,
          330.0586380231922,
          334.44492469585015,
          338.7228929379264,
          342.8952176503746,
          346.9645076780297,
          350.93330744084983,
          354.8040985248753,
          358.57930123389906,
          362.26127610281867,
          365.8523253736171,
          369.3546944348936,
          372.7705732258464,
          376.102097605584,
          379.3513506886215,
          382.52036414739746,
          385.61111948262516,
          388.62554926227284,
          391.5655383299476,
          394.43292498343834,
          397.2295021241553,
          399.95701837818393,
          402.61717918965473,
          405.21164788711263,
          407.7420467235526,
          410.2099578907717,
          412.616924508672,
          414.9644515901328,
          417.2540069820556,
          419.48702228317023,
          421.6648937391756,
          423.78898311577575,
          425.8606185501557,
          427.8810953814311,
          429.8516769605893,
          431.7735954404298,
          433.6480525459967,
          435.4762203259859,
          437.2592418855963,
          438.9982321012833,
          440.6942783178618,
          442.34844102839435,
          443.96175453728927,
          445.53522760702435,
          447.0698440888992,
          448.56656353821165,
          450.02632181424264,
          451.4500316654239,
          452.83858330005614,
          454.1928449429323,
          455.51366337821617,
          456.8018644789137,
          458.05825372327024,
          459.28361669841445,
          460.4787195915654,
          461.64430966910925,
          462.7811157438454,
          463.88984863069385,
          464.9712015911489,
          466.0258507667575,
          467.0544556018928,
          468.0576592560873,
          469.03608900618343,
          469.9903566385535,
          470.9210588316336,
          471.8287775290106,
          472.7140803032966,
          473.5775207110168,
          474.419638638734,
          475.2409606406255,
          476.0420002677233,
          476.8232583890245,
          477.58522350467103,
          478.32837205139623,
          479.05316870042805,
          479.7600666480359,
          480.44950789890214,
          481.1219235424961,
          481.7777340226231,
          482.4173494003166,
          483.04116961023874,
          483.6495847107491,
          484.2429751277976,
          484.8217118927952,
          485.38615687460964,
          485.93666300583305,
          486.4735745034609,
          486.9972270841222,
          487.50794817399407,
          488.0060571135328,
          488.4918653571489,
          488.9656766679517,
          489.4277873076839,
          489.8784862219666,
          490.3180552209695,
          490.7467691556189,
          491.1648960894552,
          491.5726974662459,
          491.97042827345933,
          492.35833720170166,
          492.73666680021665,
          493.1056536285454,
          493.4655284044406,
          493.81651614812836,
          494.15883632300745,
          494.49270297287404,
          494.81832485575757,
          495.1359055744516,
          495.4456437038214,
          495.74773291496757,
          496.04236209632336,
          496.32971547176186,
          496.60997271578606,
          496.8833090658748,
          497.14989543205417,
          497.4098985037628,
          497.6634808540787,
          497.9108010413717,
          498.1520137084459,
          498.3872696792337,
          498.6167160531022,
          498.8404962968304,
          499.05875033431516,
          499.27161463406213,
          499.4792222945157,
          499.68170312728216,
          499.8791837382973,
          500.07178760698986,
          500.25963516349,
          500.44284386393093,
          500.6215282638914,
          500.795800090024,
          500.9657683099152,
          501.13153920021955,
          501.293216413112,
          501.4509010410988,
          501.6046916802278,
          501.75468449173815,
          501.9009732621874,
          502.04364946209364,
          502.18280230312973,
          502.3185187939049,
          502.450883794369,
          502.57998006887334,
          502.70588833792067,
          502.828687328638,
          502.9484538240024,
          503.06526271085136,
          503.17918702670767,
          503.2902980054477,
          503.3986651218423,
          503.5043561349973,
          503.6074371307216,
          503.707972562849,
          503.8060252935393,
          503.9016566325843,
          503.99492637574366,
          504.085892842133,
          504.17461291068963,
          504.26114205573754,
          504.3455343816738,
          504.4278426567989,
          504.5081183463109,
          504.58641164448585,
          504.66277150606254,
          504.73724567685275,
          504.8098807235955,
          504.88072206307385,
          504.949813990513,
          505.0171997072768,
          505.0829213478805,
          505.14702000633616,
          505.20953576184814,
          505.27050770387297,
          505.32997395656133,
          505.387971702596,
          505.4445372064412,
          505.4997058370178,
          505.5535120898185,
          505.60598960847716,
          505.657171205805,
          505.70708888430795,
          505.7557738561965,
          505.80325656290245,
          505.84956669411247,
          505.8947332063329,
          505.9387843409951,
          505.98174764211427,
          506.02364997351185,
          506.0645175356129,
          506.1043758818284,
          506.1432499345333,
          506.18116400064963,
          506.21814178684514,
          506.2542064143563,
          506.28938043344556,
          506.32368583750133,
          506.35714407678995,
          506.38977607186786,
          506.4216022266628,
          506.4526424412317,
          506.4829161242039,
          506.5124422049165,
          506.5412391452508,
          506.56932495117564,
          506.59671718400637,
          506.62343297138517,
          506.64948901799085,
          506.6749016159836,
          506.69968665519207,
          506.7238596330491,
          506.74743566428145,
          506.77042949036104,
          506.7928554887221,
          506.81472768175126,
          506.83605974555513,
          506.8568650185118,
          506.8771565096109,
          506.89694690658786,
          506.91624858385694,
          506.935073610249,
          506.9534337565576,
          506.971340502899,
          506.9888050458905,
          507.0058383056511,
          507.02245093262985,
          507.0386533142653,
          507.0544555814801,
          507.0698676150162,
          507.0848990516125,
          507.0995592900307,
          507.11385749693204,
          507.127802612609,
          507.14140335657544,
          507.1546682330186,
          507.1676055361166,
          507.18022335522454,
          507.19252957993274,
          507.20453190499956,
          507.216237835163,
          507.22765468983306,
          507.23878960766854,
          507.24964955104053,
          507.2602413103858,
          507.27057150845275,
          507.28064660444227,
          507.29047289804674,
          507.300056533389,
          507.309403502864,
          507.31851965088566,
          507.32741067754154,
          507.33608214215656,
          507.34453946676933,
          507.35278793952233,
          507.36083271796855,
          507.36867883229615,
          507.376331188474,
          507.38379457131896,
          507.39107364748793,
          507.39817296839567,
          507.40509697306067,
          507.41184999088085,
          507.41843624434057,
          507.4248598516507,
          507.43112482932384,
          507.4372350946857,
          507.4431944683244,
          507.44900667647937,
          507.45467535337144,
          507.4602040434751,
          507.4655962037347,
          507.47085520572625,
          507.4759843377652,
          507.4809868069629,
          507.4858657412316,
          507.4906241912405,
          507.4952651323232,
          507.499791466338,
          507.5042060234825,
          507.508511564063,
          507.51271078022074,
          507.51680629761506,
          507.52080067706527,
          507.52469641615164,
          507.5284959507773,
          507.5322016566913,
          507.53581585097396,
          507.5393407934859,
          507.54277868828086,
          507.546131684984,
          507.5494018801359,
          507.5525913185036,
          507.55570199435886,
          507.5587358527255,
          507.56169479059525,
          507.56458065811415,
          507.56739525973916,
          507.5701403553666,
          507.57281766143257,
          507.57542885198603,
          507.57797555973576,
          507.58045937707107,
          507.58288185705754,
          507.5852445144082,
          507.5875488264305,
          507.5897962339501,
          507.59198814221173,
          507.594125921758,
          507.5962109092862,
          507.5982444084841,
          507.6002276908453,
          507.602161996464,
          507.60404853481066,
          507.605888485488,
          507.60768299896876,
          507.609433197315,
          507.6111401748797,
          507.61280499899107,
          507.61442871061973,
          507.6160123250298,
          507.6175568324138,
          507.61906319851147,
          507.6205323652139,
          507.6219652511523,
          507.6233627522726,
          507.6247257423955,
          507.62605507376287,
          507.62735157757055,
          507.62861606448826,
          507.6298493251664,
          507.63105213073044,
          507.632225233263,
          507.6333693662743,
          507.6344852451605,
          507.63557356765136,
          507.6366350142463,
          507.6376702486399,
          507.63867991813703,
          507.6396646540574,
          507.6406250721305,
          507.64156177288044,
          507.6424753420016,
          507.64336635072465,
          507.64423535617397,
          507.64508290171574,
          507.64590951729787,
          507.64671571978135,
          507.64750201326336,
          507.64826888939257,
          507.6490168276764,
          507.649746295781,
          507.6504577498235,
          507.6511516346575,
          507.65182838415086,
          507.65248842145724,
          507.6531321592806,
          507.6537600001332,
          507.6543723365875,
          507.6549695515214,
          507.6555520183575,
          507.6561201012972,
          507.65667415554765,
          507.65721452754445,
          507.657741555168,
          507.65825556795477,
          507.6587568873034,
          507.6592458266758,
          507.65972269179275,
          507.66018778082554,
          507.6606413845821,
          507.6610837866889,
          507.66151526376837,
          507.6619360856117,
          507.6623465153478,
          507.6627468096075,
          507.6631372186843,
          507.66351798669075,
          507.663889351711,
          507.6642515459499,
          507.66460479587795,
          507.66494932237305,
          507.6652853408585,
          507.6656130614378,
          507.6659326890261,
          507.666244423478,
          507.66654845971294,
          507.6668449878367,
          507.6671341932606,
          507.66741625681715,
          507.6676913548732,
          507.66795965944044,
          507.6682213382826,
          507.66847655502056,
          507.66872546923463,
          507.6689682365643,
          507.66920500880565,
          507.66943593400606,
          507.669661156557,
          507.6698808172843,
          507.67009505353593,
          507.6703039992682,
          507.67050778512936,
          507.67070653854137,
          507.6709003837795,
          507.67108944205006,
          507.6712738315663,
          507.671453667622,
          507.671629062664,
          507.6718001263622,
          507.67196696567817,
          507.6721296849322,
          507.67228838586834,
          507.6724431677181,
          507.67259412726247,
          507.67274135889255,
          507.67288495466835,
          507.67302500437654,
          507.6731615955865,
          507.6732948137052,
          507.6734247420303,
          507.6735514618027,
          507.6736750522568,
          507.6737955906705,
          507.6739131524134,
          507.6740278109936,
          507.67413963810424,
          507.6742487036678,
          507.6743550758801,
          507.6744588212529,
          507.6745600046555,
          507.67465868935517,
          507.67475493705683,
          507.67484880794166,
          507.6749403607046,
          507.6750296525913,
          507.6751167394336,
          507.6752016756845,
          507.67528451445247,
          507.67536530753443,
          507.67544410544815,
          507.6755209574639,
          507.67559591163524,
          507.675669014829,
          507.6757403127547,
          507.6758098499931,
          507.6758776700239,
          507.6759438152533,
          507.67600832704005,
          507.6760712457218,
          507.67613261063985,
          507.67619246016415,
          507.67625083171697,
          507.6763077617965,
          507.6763632859997,
          507.67641743904426,
          507.67647025479073,
          507.6765217662634,
          507.67657200567106,
          507.6766210044271,
          507.6766687931691,
          507.6767154017781,
          507.6767608593973,
          507.6768051944501,
          507.67684843465804,
          507.6768906070581,
          507.6769317380196,
          507.6769718532606,
          507.67701097786414,
          507.6770491362938,
          507.67708635240905,
          507.6771226494801,
          507.6771580502026,
          507.67719257671166,
          507.6772262505958,
          507.67725909291045,
          507.677291124191,
          507.6773223644658,
          507.67735283326857,
          507.67738254965064,
          507.6774115321929,
          507.6774397990173,
          507.6774673677984,
          507.6774942557742,
          507.6775204797571,
          507.67754605614425,
          507.67757100092786,
          507.67759532970524,
          507.67761905768856,
          507.67764219971434,
          507.67766477025265,
          507.6776867834162,
          507.67770825296935,
          507.67772919233636,
          507.6777496146101,
          507.67776953256003,
          507.67778895864035,
          507.6778079049977,
          507.6778263834787,
          507.67784440563753,
          507.6778619827429,
          507.67787912578535,
          507.67789584548393,
          507.67791215229306,
          507.677928056409,
          507.6779435677761,
          507.67795869609324,
          507.67797345081976,
          507.6779878411814,
          507.67800187617604,
          507.6780155645794,
          507.6780289149506,
          507.6780419356371,
          507.6780546347805,
          507.67806702032124,
          507.67807910000363,
          507.6780908813808,
          507.6781023718193,
          507.6781135785039,
          507.6781245084417,
          507.678135168467,
          507.6781455652452,
          507.6781557052771,
          507.6781655949031,
          507.6781752403068,
          507.67818464751934,
          507.6781938224227,
          507.6782027707538,
          507.67821149810766,
          507.67822000994136,
          507.67822831157713,
          507.67823640820575,
          507.6782443048898,
          507.6782520065669,
          507.6782595180527,
          507.67826684404395,
          507.67827398912135,
          507.6782809577526,
          507.6782877542949,
          507.67829438299805,
          507.67830084800676,
          507.67830715336345,
          507.67831330301067,
          507.67831930079365,
          507.6783251504626,
          507.67833085567526,
          507.67833641999886,
          507.67834184691264,
          507.67834713980994,
          507.67835230200023,
          507.6783573367113,
          507.6783622470913,
          507.67836703621043,
          507.67837170706326,
          507.6783762625704,
          507.6783807055802,
          507.67838503887083,
          507.67838926515174,
          507.6783933870655,
          507.6783974071895,
          507.67840132803735,
          507.67840515206075,
          507.6784088816507,
          507.67841251913916,
          507.6784160668006,
          507.6784195268533,
          507.67842290146075,
          507.67842619273296,
          507.6784294027279,
          507.6784325334527,
          507.67843558686485,
          507.67843856487366,
          507.6784414693412,
          507.67844430208345,
          507.67844706487176,
          507.6784497594336,
          507.6784523874538,
          507.67845495057554,
          507.67845745040154,
          507.6784598884949,
          507.67846226638005,
          507.6784645855438,
          507.6784668474363,
          507.6784690534719,
          507.67847120502984,
          507.6784733034555,
          507.67847535006103,
          507.67847734612604,
          507.67847929289866,
          507.6784811915961,
          507.6784830434056,
          507.6784848494851,
          507.6784866109638,
          507.67848832894316,
          507.6784900044974,
          507.6784916386742,
          507.67849323249527,
          507.6784947869573,
          507.6784963030322,
          507.67849778166794,
          507.6784992237891,
          507.6785006302974,
          507.6785020020722,
          507.67850333997137,
          507.6785046448314,
          507.67850591746816,
          507.67850715867746,
          507.6785083692353,
          507.6785095498987,
          507.67851070140586,
          507.6785118244768,
          507.6785129198137,
          507.67851398810154,
          507.6785150300082,
          507.6785160461852,
          507.67851703726797,
          507.6785180038761,
          507.6785189466141,
          507.6785198660713,
          507.67852076282276,
          507.6785216374291,
          507.6785224904373,
          507.67852332238056,
          507.67852413377915,
          507.67852492514044,
          507.67852569695924,
          507.6785264497181,
          507.67852718388775,
          507.67852789992725,
          507.6785285982843,
          507.67852927939555,
          507.67852994368695,
          507.6785305915738,
          507.6785312234612,
          507.6785318397443,
          507.6785324408084,
          507.67853302702935,
          507.6785335987737,
          507.67853415639894,
          507.67853470025375,
          507.67853523067816,
          507.67853574800387,
          507.6785362525543,
          507.678536744645,
          507.6785372245836,
          507.6785376926702,
          507.67853814919755,
          507.678538594451,
          507.67853902870905,
          507.6785394522432,
          507.6785398653182,
          507.6785402681925,
          507.67854066111784,
          507.67854104433997,
          507.6785414180985,
          507.6785417826272,
          507.6785421381539,
          507.6785424849009,
          507.6785428230851,
          507.6785431529179,
          507.67854347460553,
          507.6785437883492,
          507.678544094345,
          507.6785443927843,
          507.6785446838537,
          507.6785449677352,
          507.6785452446063,
          507.6785455146402,
          507.67854577800557,
          507.6785460348672,
          507.6785462853857,
          507.6785465297177,
          507.678546768016,
          507.6785470004296,
          507.67854722710376,
          507.67854744818027,
          507.6785476637973,
          507.67854787408976,
          507.67854807918906,
          507.6785482792235,
          507.6785484743181,
          507.6785486645949,
          507.6785488501729,
          507.678549031168,
          507.6785492076935,
          507.6785493798597,
          507.6785495477743,
          507.6785497115423,
          507.6785498712661,
          507.67855002704556,
          507.67855017897807,
          507.67855032715863,
          507.6785504716799,
          507.67855061263225,
          507.6785507501038,
          507.67855088418054,
          507.67855101494627,
          507.6785511424828,
          507.6785512668698,
          507.6785513881851,
          507.67855150650456,
          507.67855162190216,
          507.67855173445,
          507.67855184421853,
          507.67855195127635,
          507.6785520556904,
          507.6785521575259,
          507.6785522568467,
          507.67855235371474,
          507.67855244819066,
          507.6785525403335,
          507.6785526302009,
          507.678552717849,
          507.6785528033327,
          507.6785528867054,
          507.67855296801923,
          507.678553047325,
          507.67855312467236,
          507.6785532001096,
          507.678553273684,
          507.6785533454414,
          507.6785534154268,
          507.6785534836839,
          507.67855355025546,
          507.67855361518303,
          507.6785536785072,
          507.67855374026766,
          507.6785538005029,
          507.6785538592507,
          507.67855391654774,
          507.6785539724298,
          507.6785540269319,
          507.6785540800881,
          507.67855413193155,
          507.67855418249474,
          507.6785542318093,
          507.67855427990605,
          507.67855432681506,
          507.67855437256566,
          507.67855441718643,
          507.67855446070536,
          507.67855450314954,
          507.6785545445456,
          507.67855458491937,
          507.6785546242961,
          507.6785546627005,
          507.6785547001565,
          507.6785547366875,
          507.6785547723164,
          507.67855480706544,
          507.67855484095634,
          507.67855487401033,
          507.67855490624805,
          507.6785549376897,
          507.6785549683549,
          507.67855499826277,
          507.6785550274321,
          507.6785550558811,
          507.67855508362754,
          507.6785551106888,
          507.67855513708184,
          507.6785551628231,
          507.6785551879287,
          507.67855521241427,
          507.67855523629515,
          507.67855525958635,
          507.67855528230234,
          507.6785553044574,
          507.67855532606535,
          507.67855534713965,
          507.67855536769355,
          507.6785553877399,
          507.6785554072912,
          507.67855542635965,
          507.6785554449572,
          507.67855546309556,
          507.678555480786,
          507.6785554980395,
          507.67855551486696,
          507.67855553127885,
          507.67855554728544,
          507.6785555628968,
          507.6785555781226,
          507.67855559297243,
          507.67855560745556,
          507.67855562158104,
          507.67855563535767,
          507.6785556487941,
          507.6785556618987,
          507.6785556746797,
          507.6785556871451,
          507.67855569930265,
          507.67855571115996,
          507.67855572272447,
          507.6785557340034,
          507.6785557450038,
          507.67855575573253,
          507.6785557661963,
          507.6785557764017,
          507.67855578635505,
          507.6785557960626,
          507.67855580553044,
          507.6785558147645,
          507.67855582377047,
          507.6785558325541,
          507.6785558411208,
          507.6785558494759,
          507.6785558576247,
          507.67855586557226,
          507.6785558733236,
          507.6785558808835,
          507.6785558882567,
          507.67855589544786,
          507.6785559024614,
          507.6785559093018,
          507.6785559159732,
          507.6785559224799,
          507.6785559288259,
          507.6785559350152,
          507.6785559410516,
          507.678555946939,
          507.678555952681,
          507.67855595828115,
          507.67855596374307,
          507.6785559690701,
          507.6785559742655,
          507.67855597933266,
          507.6785559842747,
          507.67855598909466,
          507.6785559937956,
          507.6785559983805,
          507.67855600285213,
          507.67855600721333,
          507.67855601146687,
          507.67855601561536,
          507.6785560196614,
          507.67855602360754,
          507.6785560274562,
          507.6785560312098,
          507.6785560348707,
          507.67855603844123,
          507.67855604192357,
          507.6785560453199,
          507.6785560486324,
          507.6785560518631,
          507.678556055014,
          507.67855605808705,
          507.67855606108424,
          507.6785560640074,
          507.6785560668584,
          507.678556069639,
          507.67855607235094,
          507.6785560749959,
          507.6785560775756,
          507.67855608009154,
          507.67855608254536,
          507.6785560849386,
          507.6785560872727,
          507.67855608954915,
          507.6785560917694,
          507.67855609393484,
          507.6785560960468,
          507.6785560981066,
          507.6785561001155,
          507.6785561020748,
          507.6785561039857,
          507.67855610584945,
          507.6785561076672,
          507.67855610944,
          507.6785561111691,
          507.67855611285546,
          507.67855611450017,
          507.67855611610423,
          507.67855611766873,
          507.6785561191946,
          507.67855612068274,
          507.6785561221342,
          507.67855612354975,
          507.67855612493037,
          507.6785561262769,
          507.6785561275901,
          507.678556128871,
          507.67855613012017,
          507.67855613133855,
          507.6785561325268,
          507.67855613368573,
          507.67855613481606,
          507.6785561359185,
          507.6785561369937,
          507.67855613804227,
          507.678556139065,
          507.6785561400625,
          507.6785561410353,
          507.67855614198413,
          507.6785561429095,
          507.678556143812,
          507.6785561446922,
          507.6785561455507,
          507.678556146388,
          507.67855614720463,
          507.67855614800106,
          507.67855614877783,
          507.67855614953544,
          507.67855615027435,
          507.678556150995,
          507.6785561516979,
          507.67855615238335,
          507.67855615305194,
          507.678556153704,
          507.67855615433996,
          507.67855615496023,
          507.67855615556516,
          507.67855615615514,
          507.67855615673056,
          507.6785561572918,
          507.6785561578391,
          507.67855615837294,
          507.6785561588936,
          507.6785561594014,
          507.6785561598967,
          507.67855616037974,
          507.67855616085086,
          507.6785561613103,
          507.6785561617584,
          507.6785561621955,
          507.67855616262176,
          507.6785561630375,
          507.678556163443,
          507.67855616383844,
          507.6785561642241,
          507.6785561646003,
          507.6785561649672,
          507.678556165325,
          507.67855616567397,
          507.67855616601435,
          507.6785561663463,
          507.6785561666701,
          507.67855616698586,
          507.67855616729383,
          507.6785561675942,
          507.67855616788717,
          507.67855616817286,
          507.6785561684515,
          507.6785561687233,
          507.67855616898834,
          507.67855616924686,
          507.678556169499,
          507.6785561697449,
          507.67855616998474,
          507.67855617021866,
          507.67855617044677,
          507.67855617066925,
          507.6785561708863,
          507.6785561710979,
          507.6785561713043,
          507.67855617150565,
          507.678556171702,
          507.6785561718935,
          507.6785561720803,
          507.67855617226246,
          507.6785561724401
         ],
         "yaxis": "y"
        }
       ],
       "layout": {
        "legend": {
         "title": {
          "text": "variable"
         },
         "tracegroupgap": 0
        },
        "template": {
         "data": {
          "bar": [
           {
            "error_x": {
             "color": "#2a3f5f"
            },
            "error_y": {
             "color": "#2a3f5f"
            },
            "marker": {
             "line": {
              "color": "#E5ECF6",
              "width": 0.5
             },
             "pattern": {
              "fillmode": "overlay",
              "size": 10,
              "solidity": 0.2
             }
            },
            "type": "bar"
           }
          ],
          "barpolar": [
           {
            "marker": {
             "line": {
              "color": "#E5ECF6",
              "width": 0.5
             },
             "pattern": {
              "fillmode": "overlay",
              "size": 10,
              "solidity": 0.2
             }
            },
            "type": "barpolar"
           }
          ],
          "carpet": [
           {
            "aaxis": {
             "endlinecolor": "#2a3f5f",
             "gridcolor": "white",
             "linecolor": "white",
             "minorgridcolor": "white",
             "startlinecolor": "#2a3f5f"
            },
            "baxis": {
             "endlinecolor": "#2a3f5f",
             "gridcolor": "white",
             "linecolor": "white",
             "minorgridcolor": "white",
             "startlinecolor": "#2a3f5f"
            },
            "type": "carpet"
           }
          ],
          "choropleth": [
           {
            "colorbar": {
             "outlinewidth": 0,
             "ticks": ""
            },
            "type": "choropleth"
           }
          ],
          "contour": [
           {
            "colorbar": {
             "outlinewidth": 0,
             "ticks": ""
            },
            "colorscale": [
             [
              0,
              "#0d0887"
             ],
             [
              0.1111111111111111,
              "#46039f"
             ],
             [
              0.2222222222222222,
              "#7201a8"
             ],
             [
              0.3333333333333333,
              "#9c179e"
             ],
             [
              0.4444444444444444,
              "#bd3786"
             ],
             [
              0.5555555555555556,
              "#d8576b"
             ],
             [
              0.6666666666666666,
              "#ed7953"
             ],
             [
              0.7777777777777778,
              "#fb9f3a"
             ],
             [
              0.8888888888888888,
              "#fdca26"
             ],
             [
              1,
              "#f0f921"
             ]
            ],
            "type": "contour"
           }
          ],
          "contourcarpet": [
           {
            "colorbar": {
             "outlinewidth": 0,
             "ticks": ""
            },
            "type": "contourcarpet"
           }
          ],
          "heatmap": [
           {
            "colorbar": {
             "outlinewidth": 0,
             "ticks": ""
            },
            "colorscale": [
             [
              0,
              "#0d0887"
             ],
             [
              0.1111111111111111,
              "#46039f"
             ],
             [
              0.2222222222222222,
              "#7201a8"
             ],
             [
              0.3333333333333333,
              "#9c179e"
             ],
             [
              0.4444444444444444,
              "#bd3786"
             ],
             [
              0.5555555555555556,
              "#d8576b"
             ],
             [
              0.6666666666666666,
              "#ed7953"
             ],
             [
              0.7777777777777778,
              "#fb9f3a"
             ],
             [
              0.8888888888888888,
              "#fdca26"
             ],
             [
              1,
              "#f0f921"
             ]
            ],
            "type": "heatmap"
           }
          ],
          "heatmapgl": [
           {
            "colorbar": {
             "outlinewidth": 0,
             "ticks": ""
            },
            "colorscale": [
             [
              0,
              "#0d0887"
             ],
             [
              0.1111111111111111,
              "#46039f"
             ],
             [
              0.2222222222222222,
              "#7201a8"
             ],
             [
              0.3333333333333333,
              "#9c179e"
             ],
             [
              0.4444444444444444,
              "#bd3786"
             ],
             [
              0.5555555555555556,
              "#d8576b"
             ],
             [
              0.6666666666666666,
              "#ed7953"
             ],
             [
              0.7777777777777778,
              "#fb9f3a"
             ],
             [
              0.8888888888888888,
              "#fdca26"
             ],
             [
              1,
              "#f0f921"
             ]
            ],
            "type": "heatmapgl"
           }
          ],
          "histogram": [
           {
            "marker": {
             "pattern": {
              "fillmode": "overlay",
              "size": 10,
              "solidity": 0.2
             }
            },
            "type": "histogram"
           }
          ],
          "histogram2d": [
           {
            "colorbar": {
             "outlinewidth": 0,
             "ticks": ""
            },
            "colorscale": [
             [
              0,
              "#0d0887"
             ],
             [
              0.1111111111111111,
              "#46039f"
             ],
             [
              0.2222222222222222,
              "#7201a8"
             ],
             [
              0.3333333333333333,
              "#9c179e"
             ],
             [
              0.4444444444444444,
              "#bd3786"
             ],
             [
              0.5555555555555556,
              "#d8576b"
             ],
             [
              0.6666666666666666,
              "#ed7953"
             ],
             [
              0.7777777777777778,
              "#fb9f3a"
             ],
             [
              0.8888888888888888,
              "#fdca26"
             ],
             [
              1,
              "#f0f921"
             ]
            ],
            "type": "histogram2d"
           }
          ],
          "histogram2dcontour": [
           {
            "colorbar": {
             "outlinewidth": 0,
             "ticks": ""
            },
            "colorscale": [
             [
              0,
              "#0d0887"
             ],
             [
              0.1111111111111111,
              "#46039f"
             ],
             [
              0.2222222222222222,
              "#7201a8"
             ],
             [
              0.3333333333333333,
              "#9c179e"
             ],
             [
              0.4444444444444444,
              "#bd3786"
             ],
             [
              0.5555555555555556,
              "#d8576b"
             ],
             [
              0.6666666666666666,
              "#ed7953"
             ],
             [
              0.7777777777777778,
              "#fb9f3a"
             ],
             [
              0.8888888888888888,
              "#fdca26"
             ],
             [
              1,
              "#f0f921"
             ]
            ],
            "type": "histogram2dcontour"
           }
          ],
          "mesh3d": [
           {
            "colorbar": {
             "outlinewidth": 0,
             "ticks": ""
            },
            "type": "mesh3d"
           }
          ],
          "parcoords": [
           {
            "line": {
             "colorbar": {
              "outlinewidth": 0,
              "ticks": ""
             }
            },
            "type": "parcoords"
           }
          ],
          "pie": [
           {
            "automargin": true,
            "type": "pie"
           }
          ],
          "scatter": [
           {
            "fillpattern": {
             "fillmode": "overlay",
             "size": 10,
             "solidity": 0.2
            },
            "type": "scatter"
           }
          ],
          "scatter3d": [
           {
            "line": {
             "colorbar": {
              "outlinewidth": 0,
              "ticks": ""
             }
            },
            "marker": {
             "colorbar": {
              "outlinewidth": 0,
              "ticks": ""
             }
            },
            "type": "scatter3d"
           }
          ],
          "scattercarpet": [
           {
            "marker": {
             "colorbar": {
              "outlinewidth": 0,
              "ticks": ""
             }
            },
            "type": "scattercarpet"
           }
          ],
          "scattergeo": [
           {
            "marker": {
             "colorbar": {
              "outlinewidth": 0,
              "ticks": ""
             }
            },
            "type": "scattergeo"
           }
          ],
          "scattergl": [
           {
            "marker": {
             "colorbar": {
              "outlinewidth": 0,
              "ticks": ""
             }
            },
            "type": "scattergl"
           }
          ],
          "scattermapbox": [
           {
            "marker": {
             "colorbar": {
              "outlinewidth": 0,
              "ticks": ""
             }
            },
            "type": "scattermapbox"
           }
          ],
          "scatterpolar": [
           {
            "marker": {
             "colorbar": {
              "outlinewidth": 0,
              "ticks": ""
             }
            },
            "type": "scatterpolar"
           }
          ],
          "scatterpolargl": [
           {
            "marker": {
             "colorbar": {
              "outlinewidth": 0,
              "ticks": ""
             }
            },
            "type": "scatterpolargl"
           }
          ],
          "scatterternary": [
           {
            "marker": {
             "colorbar": {
              "outlinewidth": 0,
              "ticks": ""
             }
            },
            "type": "scatterternary"
           }
          ],
          "surface": [
           {
            "colorbar": {
             "outlinewidth": 0,
             "ticks": ""
            },
            "colorscale": [
             [
              0,
              "#0d0887"
             ],
             [
              0.1111111111111111,
              "#46039f"
             ],
             [
              0.2222222222222222,
              "#7201a8"
             ],
             [
              0.3333333333333333,
              "#9c179e"
             ],
             [
              0.4444444444444444,
              "#bd3786"
             ],
             [
              0.5555555555555556,
              "#d8576b"
             ],
             [
              0.6666666666666666,
              "#ed7953"
             ],
             [
              0.7777777777777778,
              "#fb9f3a"
             ],
             [
              0.8888888888888888,
              "#fdca26"
             ],
             [
              1,
              "#f0f921"
             ]
            ],
            "type": "surface"
           }
          ],
          "table": [
           {
            "cells": {
             "fill": {
              "color": "#EBF0F8"
             },
             "line": {
              "color": "white"
             }
            },
            "header": {
             "fill": {
              "color": "#C8D4E3"
             },
             "line": {
              "color": "white"
             }
            },
            "type": "table"
           }
          ]
         },
         "layout": {
          "annotationdefaults": {
           "arrowcolor": "#2a3f5f",
           "arrowhead": 0,
           "arrowwidth": 1
          },
          "autotypenumbers": "strict",
          "coloraxis": {
           "colorbar": {
            "outlinewidth": 0,
            "ticks": ""
           }
          },
          "colorscale": {
           "diverging": [
            [
             0,
             "#8e0152"
            ],
            [
             0.1,
             "#c51b7d"
            ],
            [
             0.2,
             "#de77ae"
            ],
            [
             0.3,
             "#f1b6da"
            ],
            [
             0.4,
             "#fde0ef"
            ],
            [
             0.5,
             "#f7f7f7"
            ],
            [
             0.6,
             "#e6f5d0"
            ],
            [
             0.7,
             "#b8e186"
            ],
            [
             0.8,
             "#7fbc41"
            ],
            [
             0.9,
             "#4d9221"
            ],
            [
             1,
             "#276419"
            ]
           ],
           "sequential": [
            [
             0,
             "#0d0887"
            ],
            [
             0.1111111111111111,
             "#46039f"
            ],
            [
             0.2222222222222222,
             "#7201a8"
            ],
            [
             0.3333333333333333,
             "#9c179e"
            ],
            [
             0.4444444444444444,
             "#bd3786"
            ],
            [
             0.5555555555555556,
             "#d8576b"
            ],
            [
             0.6666666666666666,
             "#ed7953"
            ],
            [
             0.7777777777777778,
             "#fb9f3a"
            ],
            [
             0.8888888888888888,
             "#fdca26"
            ],
            [
             1,
             "#f0f921"
            ]
           ],
           "sequentialminus": [
            [
             0,
             "#0d0887"
            ],
            [
             0.1111111111111111,
             "#46039f"
            ],
            [
             0.2222222222222222,
             "#7201a8"
            ],
            [
             0.3333333333333333,
             "#9c179e"
            ],
            [
             0.4444444444444444,
             "#bd3786"
            ],
            [
             0.5555555555555556,
             "#d8576b"
            ],
            [
             0.6666666666666666,
             "#ed7953"
            ],
            [
             0.7777777777777778,
             "#fb9f3a"
            ],
            [
             0.8888888888888888,
             "#fdca26"
            ],
            [
             1,
             "#f0f921"
            ]
           ]
          },
          "colorway": [
           "#636efa",
           "#EF553B",
           "#00cc96",
           "#ab63fa",
           "#FFA15A",
           "#19d3f3",
           "#FF6692",
           "#B6E880",
           "#FF97FF",
           "#FECB52"
          ],
          "font": {
           "color": "#2a3f5f"
          },
          "geo": {
           "bgcolor": "white",
           "lakecolor": "white",
           "landcolor": "#E5ECF6",
           "showlakes": true,
           "showland": true,
           "subunitcolor": "white"
          },
          "hoverlabel": {
           "align": "left"
          },
          "hovermode": "closest",
          "mapbox": {
           "style": "light"
          },
          "paper_bgcolor": "white",
          "plot_bgcolor": "#E5ECF6",
          "polar": {
           "angularaxis": {
            "gridcolor": "white",
            "linecolor": "white",
            "ticks": ""
           },
           "bgcolor": "#E5ECF6",
           "radialaxis": {
            "gridcolor": "white",
            "linecolor": "white",
            "ticks": ""
           }
          },
          "scene": {
           "xaxis": {
            "backgroundcolor": "#E5ECF6",
            "gridcolor": "white",
            "gridwidth": 2,
            "linecolor": "white",
            "showbackground": true,
            "ticks": "",
            "zerolinecolor": "white"
           },
           "yaxis": {
            "backgroundcolor": "#E5ECF6",
            "gridcolor": "white",
            "gridwidth": 2,
            "linecolor": "white",
            "showbackground": true,
            "ticks": "",
            "zerolinecolor": "white"
           },
           "zaxis": {
            "backgroundcolor": "#E5ECF6",
            "gridcolor": "white",
            "gridwidth": 2,
            "linecolor": "white",
            "showbackground": true,
            "ticks": "",
            "zerolinecolor": "white"
           }
          },
          "shapedefaults": {
           "line": {
            "color": "#2a3f5f"
           }
          },
          "ternary": {
           "aaxis": {
            "gridcolor": "white",
            "linecolor": "white",
            "ticks": ""
           },
           "baxis": {
            "gridcolor": "white",
            "linecolor": "white",
            "ticks": ""
           },
           "bgcolor": "#E5ECF6",
           "caxis": {
            "gridcolor": "white",
            "linecolor": "white",
            "ticks": ""
           }
          },
          "title": {
           "x": 0.05
          },
          "xaxis": {
           "automargin": true,
           "gridcolor": "white",
           "linecolor": "white",
           "ticks": "",
           "title": {
            "standoff": 15
           },
           "zerolinecolor": "white",
           "zerolinewidth": 2
          },
          "yaxis": {
           "automargin": true,
           "gridcolor": "white",
           "linecolor": "white",
           "ticks": "",
           "title": {
            "standoff": 15
           },
           "zerolinecolor": "white",
           "zerolinewidth": 2
          }
         }
        },
        "title": {
         "text": "Theta over epochs"
        },
        "xaxis": {
         "anchor": "y",
         "domain": [
          0,
          1
         ],
         "title": {
          "text": "index"
         }
        },
        "yaxis": {
         "anchor": "x",
         "domain": [
          0,
          1
         ],
         "title": {
          "text": "value"
         }
        }
       }
      }
     },
     "metadata": {},
     "output_type": "display_data"
    },
    {
     "ename": "",
     "evalue": "",
     "output_type": "error",
     "traceback": [
      "\u001b[1;31mThe Kernel crashed while executing code in the current cell or a previous cell. \n",
      "\u001b[1;31mPlease review the code in the cell(s) to identify a possible cause of the failure. \n",
      "\u001b[1;31mClick <a href='https://aka.ms/vscodeJupyterKernelCrash'>here</a> for more info. \n",
      "\u001b[1;31mView Jupyter <a href='command:jupyter.viewOutput'>log</a> for further details."
     ]
    }
   ],
   "source": [
    "px.line(all_thetas, title=\"Theta over epochs\")"
   ]
  },
  {
   "cell_type": "markdown",
   "metadata": {},
   "source": [
    "# Plots"
   ]
  },
  {
   "cell_type": "code",
   "execution_count": 71,
   "metadata": {},
   "outputs": [
    {
     "data": {
      "application/vnd.plotly.v1+json": {
       "config": {
        "plotlyServerURL": "https://plot.ly"
       },
       "data": [
        {
         "hovertemplate": "epoch=%{x}<br>risk=%{y}<extra></extra>",
         "legendgroup": "",
         "line": {
          "color": "#636efa",
          "dash": "solid"
         },
         "marker": {
          "symbol": "circle"
         },
         "mode": "lines",
         "name": "",
         "orientation": "v",
         "showlegend": false,
         "type": "scatter",
         "x": [
          0,
          1,
          2,
          3,
          4,
          5,
          6,
          7,
          8,
          9,
          10,
          11,
          12,
          13,
          14,
          15,
          16,
          17,
          18,
          19,
          20,
          21,
          22,
          23,
          24,
          25,
          26,
          27,
          28,
          29,
          30,
          31,
          32,
          33,
          34,
          35,
          36,
          37,
          38,
          39,
          40,
          41,
          42,
          43,
          44,
          45,
          46,
          47,
          48,
          49,
          50,
          51,
          52,
          53,
          54,
          55,
          56,
          57,
          58,
          59,
          60,
          61,
          62,
          63,
          64,
          65,
          66,
          67,
          68,
          69,
          70,
          71,
          72,
          73,
          74,
          75,
          76,
          77,
          78,
          79,
          80,
          81,
          82,
          83,
          84,
          85,
          86,
          87,
          88,
          89,
          90,
          91,
          92,
          93,
          94,
          95,
          96,
          97,
          98,
          99,
          100,
          101,
          102,
          103,
          104,
          105,
          106,
          107,
          108,
          109,
          110,
          111,
          112,
          113,
          114,
          115,
          116,
          117,
          118,
          119,
          120,
          121,
          122,
          123,
          124,
          125,
          126,
          127,
          128,
          129,
          130,
          131,
          132,
          133,
          134,
          135,
          136,
          137,
          138,
          139,
          140,
          141,
          142,
          143,
          144,
          145,
          146,
          147,
          148,
          149,
          150,
          151,
          152,
          153,
          154,
          155,
          156,
          157,
          158,
          159,
          160,
          161,
          162,
          163,
          164,
          165,
          166,
          167,
          168,
          169,
          170,
          171,
          172,
          173,
          174,
          175,
          176,
          177,
          178,
          179,
          180,
          181,
          182,
          183,
          184,
          185,
          186,
          187,
          188,
          189,
          190,
          191,
          192,
          193,
          194,
          195,
          196,
          197,
          198,
          199,
          200,
          201,
          202,
          203,
          204,
          205,
          206,
          207,
          208,
          209,
          210,
          211,
          212,
          213,
          214,
          215,
          216,
          217,
          218,
          219,
          220,
          221,
          222,
          223,
          224,
          225,
          226,
          227,
          228,
          229,
          230,
          231,
          232,
          233,
          234,
          235,
          236,
          237,
          238,
          239,
          240,
          241,
          242,
          243,
          244,
          245,
          246,
          247,
          248,
          249,
          250,
          251,
          252,
          253,
          254,
          255,
          256,
          257,
          258,
          259,
          260,
          261,
          262,
          263,
          264,
          265,
          266,
          267,
          268,
          269,
          270,
          271,
          272,
          273,
          274,
          275,
          276,
          277,
          278,
          279,
          280,
          281,
          282,
          283,
          284,
          285,
          286,
          287,
          288,
          289,
          290,
          291,
          292,
          293,
          294,
          295,
          296,
          297,
          298,
          299,
          300,
          301,
          302,
          303,
          304,
          305,
          306,
          307,
          308,
          309,
          310,
          311,
          312,
          313,
          314,
          315,
          316,
          317,
          318,
          319,
          320,
          321,
          322,
          323,
          324,
          325,
          326,
          327,
          328,
          329,
          330,
          331,
          332,
          333,
          334,
          335,
          336,
          337,
          338,
          339,
          340,
          341,
          342,
          343,
          344,
          345,
          346,
          347,
          348,
          349,
          350,
          351,
          352,
          353,
          354,
          355,
          356,
          357,
          358,
          359,
          360,
          361,
          362,
          363,
          364,
          365,
          366,
          367,
          368,
          369,
          370,
          371,
          372,
          373,
          374,
          375,
          376,
          377,
          378,
          379,
          380,
          381,
          382,
          383,
          384,
          385,
          386,
          387,
          388,
          389,
          390,
          391,
          392,
          393,
          394,
          395,
          396,
          397,
          398,
          399,
          400,
          401,
          402,
          403,
          404,
          405,
          406,
          407,
          408,
          409,
          410,
          411,
          412,
          413,
          414,
          415,
          416,
          417,
          418,
          419,
          420,
          421,
          422,
          423,
          424,
          425,
          426,
          427,
          428,
          429,
          430,
          431,
          432,
          433,
          434,
          435,
          436,
          437,
          438,
          439,
          440,
          441,
          442,
          443,
          444,
          445,
          446,
          447,
          448,
          449,
          450,
          451,
          452,
          453,
          454,
          455,
          456,
          457,
          458,
          459,
          460,
          461,
          462,
          463,
          464,
          465,
          466,
          467,
          468,
          469,
          470,
          471,
          472,
          473,
          474,
          475,
          476,
          477,
          478,
          479,
          480,
          481,
          482,
          483,
          484,
          485,
          486,
          487,
          488,
          489,
          490,
          491,
          492,
          493,
          494,
          495,
          496,
          497,
          498,
          499,
          500,
          501,
          502,
          503,
          504,
          505,
          506,
          507,
          508,
          509,
          510,
          511,
          512,
          513,
          514,
          515,
          516,
          517,
          518,
          519,
          520,
          521,
          522,
          523,
          524,
          525,
          526,
          527,
          528,
          529,
          530,
          531,
          532,
          533,
          534,
          535,
          536,
          537,
          538,
          539,
          540,
          541,
          542,
          543,
          544,
          545,
          546,
          547,
          548,
          549,
          550,
          551,
          552,
          553,
          554,
          555,
          556,
          557,
          558,
          559,
          560,
          561,
          562,
          563,
          564,
          565,
          566,
          567,
          568,
          569,
          570,
          571,
          572,
          573,
          574,
          575,
          576,
          577,
          578,
          579,
          580,
          581,
          582,
          583,
          584,
          585,
          586,
          587,
          588,
          589,
          590,
          591,
          592,
          593,
          594,
          595,
          596,
          597,
          598,
          599,
          600,
          601,
          602,
          603,
          604,
          605,
          606,
          607,
          608,
          609,
          610,
          611,
          612,
          613,
          614,
          615,
          616,
          617,
          618,
          619,
          620,
          621,
          622,
          623,
          624,
          625,
          626,
          627,
          628,
          629,
          630,
          631,
          632,
          633,
          634,
          635,
          636,
          637,
          638,
          639,
          640,
          641,
          642,
          643,
          644,
          645,
          646,
          647,
          648,
          649,
          650,
          651,
          652,
          653,
          654,
          655,
          656,
          657,
          658,
          659,
          660,
          661,
          662,
          663,
          664,
          665,
          666,
          667,
          668,
          669,
          670,
          671,
          672,
          673,
          674,
          675,
          676,
          677,
          678,
          679,
          680,
          681,
          682,
          683,
          684,
          685,
          686,
          687,
          688,
          689,
          690,
          691,
          692,
          693,
          694,
          695,
          696,
          697,
          698,
          699,
          700,
          701,
          702,
          703,
          704,
          705,
          706,
          707,
          708,
          709,
          710,
          711,
          712,
          713,
          714,
          715,
          716,
          717,
          718,
          719,
          720,
          721,
          722,
          723,
          724,
          725,
          726,
          727,
          728,
          729,
          730,
          731,
          732,
          733,
          734,
          735,
          736,
          737,
          738,
          739,
          740,
          741,
          742,
          743,
          744,
          745,
          746,
          747,
          748,
          749,
          750,
          751,
          752,
          753,
          754,
          755,
          756,
          757,
          758,
          759,
          760,
          761,
          762,
          763,
          764,
          765,
          766,
          767,
          768,
          769,
          770,
          771,
          772,
          773,
          774,
          775,
          776,
          777,
          778,
          779,
          780,
          781,
          782,
          783,
          784,
          785,
          786,
          787,
          788,
          789,
          790,
          791,
          792,
          793,
          794,
          795,
          796,
          797,
          798,
          799,
          800,
          801,
          802,
          803,
          804,
          805,
          806,
          807,
          808,
          809,
          810,
          811,
          812,
          813,
          814,
          815,
          816,
          817,
          818,
          819,
          820,
          821,
          822,
          823,
          824,
          825,
          826,
          827,
          828,
          829,
          830,
          831,
          832,
          833,
          834,
          835,
          836,
          837,
          838,
          839,
          840,
          841,
          842,
          843,
          844,
          845,
          846,
          847,
          848,
          849,
          850,
          851,
          852,
          853,
          854,
          855,
          856,
          857,
          858,
          859,
          860,
          861,
          862,
          863,
          864,
          865,
          866,
          867,
          868,
          869,
          870,
          871,
          872,
          873,
          874,
          875,
          876,
          877,
          878,
          879,
          880,
          881,
          882,
          883,
          884,
          885,
          886,
          887,
          888,
          889,
          890,
          891,
          892,
          893,
          894,
          895,
          896,
          897,
          898,
          899,
          900,
          901,
          902,
          903,
          904,
          905,
          906,
          907,
          908,
          909,
          910,
          911,
          912,
          913,
          914,
          915,
          916,
          917,
          918,
          919,
          920,
          921,
          922,
          923,
          924,
          925,
          926,
          927,
          928,
          929,
          930,
          931,
          932,
          933,
          934,
          935,
          936,
          937,
          938,
          939,
          940,
          941,
          942,
          943,
          944,
          945,
          946,
          947,
          948,
          949,
          950,
          951,
          952,
          953,
          954,
          955,
          956,
          957,
          958,
          959,
          960,
          961,
          962,
          963,
          964,
          965,
          966,
          967,
          968,
          969,
          970,
          971,
          972,
          973,
          974,
          975,
          976,
          977,
          978,
          979,
          980,
          981,
          982,
          983,
          984,
          985,
          986,
          987,
          988,
          989,
          990,
          991,
          992,
          993,
          994,
          995,
          996,
          997,
          998,
          999
         ],
         "xaxis": "x",
         "y": [
          303042.98188781744,
          288276.6157088474,
          274230.5491565575,
          260869.64619640078,
          248160.48472075473,
          236071.27294399682,
          224571.7698758078,
          213633.20967376672,
          203228.22968600827,
          193330.80200393952,
          183916.1683538,
          174960.7781641932,
          166442.22965466994,
          158339.21379799422,
          150631.46101591698,
          143299.69047511579,
          136325.56185646632,
          129691.62947699633,
          123381.29864975915,
          117378.78417246189,
          111669.07084100759,
          106237.87588917698,
          101071.61326049319,
          96157.35962289554,
          91482.82204120983,
          87036.3072265462,
          82806.69228570464,
          78783.39689741678,
          74956.35684582338,
          71315.99884498247,
          67853.21659143151,
          64559.34798489951,
          61426.15346018714,
          58445.7953760122,
          55610.81840926222,
          52914.130905610116,
          50348.987139842546,
          47908.97044152467,
          45587.977143790944,
          43380.20131510966,
          41280.12023582836,
          39282.48058316958,
          37382.28529011909,
          35574.781045334275,
          33855.446402803784,
          32219.980471514933,
          30664.292156836545,
          29184.4899267041,
          27776.872077007945,
          26437.917471833574,
          25164.2767353903,
          23952.76387359576,
          22800.3483043573,
          21704.147276614174,
          20661.418659176987,
          19669.554081325812,
          18726.072408008116,
          17828.61353331491,
          16974.9324767096,
          16162.893767241281,
          15390.46610169472,
          14655.71726331438,
          13956.80928839187,
          13291.993868626063,
          12659.607977754802,
          12058.069711518583,
          11485.874330549608,
          10941.590496287849,
          10423.856690508052,
          9931.37780950141,
          9462.921924392173,
          9017.317199485155,
          8593.448960935528,
          8190.25690840813,
          7806.732462751379,
          7441.916243050899,
          7094.895666751932,
          6764.802666847108,
          6450.811520419258,
          6152.136783107349,
          5868.0313243286355,
          5597.784458342199,
          5340.72016647876,
          5096.195406089599,
          4863.598501984628,
          4642.3476163355945,
          4431.889293217112,
          4231.69707414459,
          4041.270181145826,
          3860.132264072109,
          3687.8302090151124,
          3523.933004848958,
          3368.0306650620278,
          3219.7332021815714,
          3078.669652225648,
          2944.487146742006,
          2816.8500301126983,
          2695.439019916367,
          2579.950408247833,
          2470.095301997111,
          2365.5989001874345,
          2266.199806564527,
          2171.649375717631,
          2081.7110910965594,
          1996.159973368927,
          1914.7820176375824,
          1837.3736581103917,
          1763.7412588833595,
          1693.7006295631543,
          1627.0765645174845,
          1563.7024046007168,
          1503.4196202584128,
          1446.0774149678996,
          1391.532348022947,
          1339.647975718878,
          1290.294510040593,
          1243.3484939997197,
          1198.6924928087108,
          1156.2148001194028,
          1115.8091585911952,
          1077.3744940898205,
          1040.8146628518473,
          1006.0382109824363,
          972.958145684722,
          941.4917176485881,
          911.5602140544364,
          883.0887616742095,
          856.0061395770708,
          830.2446009712684,
          805.7397037365087,
          782.4301492229116,
          760.2576289133093,
          739.166678565334,
          719.1045394684057,
          700.0210264685664,
          681.8684024310437,
          664.6012588264879,
          648.1764021421833,
          632.5527458340966,
          617.6912075494764,
          603.5546113629034,
          590.107594781245,
          577.3165202848841,
          565.149391183952,
          553.5757715790573,
          542.5667102263212,
          532.0946681162584,
          522.1334495853372,
          512.658136787901,
          503.6450273645351,
          495.0715751509526,
          486.9163337790854,
          479.1589030293078,
          471.77987779957056,
          464.76079956382085,
          458.08411019826286,
          451.7331080599592,
          445.6919062079162,
          439.9453926621212,
          434.47919260114605,
          429.2796324037345,
          424.3337054444326,
          419.6290395577055,
          415.15386608913934,
          410.8969904563224,
          406.8477641457536,
          402.99605807574363,
          399.3322372586582,
          395.8471366991353,
          392.53203846798067,
          389.3786498943935,
          386.37908282196645,
          383.5258338765773,
          380.8117656968064,
          378.23008907992835,
          375.77434599881667,
          373.43839344728485,
          371.216388073442,
          369.1027715626317,
          367.09225673338784,
          365.1798143116264,
          363.3606603499878,
          361.63024426086054,
          359.98423743315107,
          358.41852240432723,
          356.9291825606425,
          355.51249233978325,
          354.1649079114284,
          352.8830583124075,
          351.66373701428694,
          350.50389390228133,
          349.40062764543853,
          348.35117843899957,
          347.35292110078643,
          346.4033585043492,
          345.50011533243605,
          344.64093213517367,
          343.82365967808465,
          343.04625356581005,
          342.30676912808013,
          341.6033565551533,
          340.9342562705396,
          340.29779452944985,
          339.6923792319431,
          339.11649594031337,
          338.5687040907453,
          338.0476333897628,
          337.5519803864621,
          337.08050521194525,
          336.63202847780843,
          336.2054283259162,
          335.79963762209235,
          335.413641286695,
          335.04647375541356,
          334.69721656392096,
          334.36499605034885,
          334.04898116983514,
          333.7483814156769,
          333.46244484188907,
          333.19045618222304,
          332.93173506093757,
          332.68563429084867,
          332.4515382544004,
          332.2288613637065,
          332.0170465957108,
          331.8155640988005,
          331.6239098673925,
          331.4416044811679,
          331.26819190581193,
          331.1032383522475,
          330.9463311915201,
          330.7970779226117,
          330.6551051906054,
          330.52005785274275,
          330.3915980900406,
          330.2694045622398,
          330.15317160397876,
          330.0426084601748,
          329.93743855870576,
          329.83739881856746,
          329.74223899178054,
          329.6517210374005,
          329.56561852605876,
          329.48371607355494,
          329.4058088020759,
          329.3317018276966,
          329.2612097728807,
          329.1941563027613,
          329.13037368404235,
          329.0697023654154,
          329.0119905784448,
          328.95709395792096,
          328.9048751807335,
          328.8552036223576,
          328.8079550301011,
          328.7630112122859,
          328.7202597425953,
          328.6795936788385,
          328.6409112954396,
          328.6041158289696,
          328.5691152360955,
          328.5358219633347,
          328.504152728042,
          328.4740283100784,
          328.445373353643,
          328.41811617877255,
          328.3921886020333,
          328.36752576596393,
          328.344065976832,
          328.32175055031104,
          328.3005236646811,
          328.2803322211907,
          328.2611257112331,
          328.24285608999855,
          328.225477656291,
          328.2089469382066,
          328.19322258439104,
          328.17826526059804,
          328.1640375512962,
          328.1505038660737,
          328.13763035061146,
          328.1253848019941,
          328.11373658815666,
          328.10265657125996,
          328.09211703479895,
          328.0820916142747,
          328.0725552312409,
          328.06348403057217,
          328.0548553207895,
          328.04664751729905,
          328.03884008839725,
          328.0314135039129,
          328.02434918635095,
          328.0176294644223,
          328.0112375288383,
          328.00515739026395,
          327.99937383931933,
          327.99387240853446,
          327.9886393361589,
          327.98366153173737,
          327.97892654336255,
          327.9744225265296,
          327.9701382145044,
          327.9660628901417,
          327.96218635907576,
          327.9584989242201,
          327.9549913615088,
          327.951654896824,
          327.94848118404695,
          327.94546228418045,
          327.9425906454901,
          327.93985908461235,
          327.93726076858684,
          327.9347891977634,
          327.93243818954267,
          327.9302018629116,
          327.92807462373065,
          327.92605115074184,
          327.9241263822563,
          327.92229550349316,
          327.9205539345353,
          327.91889731887306,
          327.91732151250596,
          327.915822573577,
          327.91439675251166,
          327.91304048263936,
          327.9117503712699,
          327.91052319120865,
          327.90935587268194,
          327.9082454956591,
          327.9071892825482,
          327.9061845912471,
          327.90522890853475,
          327.9043198437849,
          327.9034551229844,
          327.90263258304714,
          327.9018501664011,
          327.90110591584227,
          327.90039796963805,
          327.8997245568721,
          327.89908399301106,
          327.89847467569416,
          327.89789508072244,
          327.89734375824776,
          327.89681932914465,
          327.89632048156113,
          327.89584596763734,
          327.8953946003832,
          327.89496525071036,
          327.89455684460654,
          327.8941683604495,
          327.893798826452,
          327.8934473182298,
          327.89311295649054,
          327.8927949048325,
          327.8924923676545,
          327.89220458816345,
          327.8919308464841,
          327.89167045785484,
          327.89142277091736,
          327.8911871660863,
          327.8909630539995,
          327.8907498740444,
          327.8905470929534,
          327.89035420347324,
          327.8901707230933,
          327.88999619284,
          327.88983017612884,
          327.8896722576708,
          327.88952204243554,
          327.88937915466164,
          327.88924323691737,
          327.8891139492064,
          327.8889909681176,
          327.8888739860151,
          327.88876271027044,
          327.8886568625286,
          327.8885561780127,
          327.8884604048624,
          327.8883693035022,
          327.88828264604354,
          327.88820021571354,
          327.88812180631436,
          327.88804722170613,
          327.8879762753165,
          327.8879087896737,
          327.8878445959633,
          327.88778353360647,
          327.8877254498558,
          327.8876701994159,
          327.8876176440785,
          327.887567652377,
          327.88752009925827,
          327.8874748657692,
          327.8874318387578,
          327.8873909105935,
          327.8873519788947,
          327.8873149462742,
          327.88727972009553,
          327.8872462122413,
          327.8872143388915,
          327.887184020316,
          327.8871551806727,
          327.8871277478198,
          327.887101653135,
          327.88707683134203,
          327.88705322035014,
          327.88703076109624,
          327.88700939739937,
          327.88698907581784,
          327.8869697455183,
          327.88695135814584,
          327.8869338677048,
          327.88691723044286,
          327.8869014047426,
          327.886886351016,
          327.88687203160634,
          327.8868584106938,
          327.88684545420597,
          327.88683312973245,
          327.88682140644346,
          327.8868102550139,
          327.88679964754806,
          327.88678955751163,
          327.88677995966486,
          327.8867708299985,
          327.88676214567494,
          327.8867538849708,
          327.88674602722125,
          327.88673855277113,
          327.88673144292255,
          327.88672467989085,
          327.8867182467578,
          327.8867121274317,
          327.88670630660454,
          327.8867007697161,
          327.8866955029154,
          327.886690493028,
          327.8866857275218,
          327.8866811944756,
          327.8866768825504,
          327.8866727809598,
          327.88666887944385,
          327.8866651682428,
          327.88666163807306,
          327.88665828010414,
          327.8866550859361,
          327.88665204757905,
          327.88664915743203,
          327.8866464082658,
          327.8866437932031,
          327.8866413057023,
          327.8866389395417,
          327.88663668880145,
          327.8866345478516,
          327.886632511337,
          327.8866305741629,
          327.8866287314838,
          327.88662697869006,
          327.8866253113974,
          327.8866237254344,
          327.8866222168347,
          327.8866207818239,
          327.88661941681266,
          327.88661811838625,
          327.8866168832968,
          327.88661570845466,
          327.886614590921,
          327.88661352790035,
          327.8866125167338,
          327.8866115548914,
          327.88661063996756,
          327.8866097696735,
          327.8866089418321,
          327.88660815437254,
          327.8866074053252,
          327.88660669281614,
          327.88660601506314,
          327.8866053703706,
          327.8866047571262,
          327.88660417379555,
          327.88660361891976,
          327.88660309111054,
          327.88660258904775,
          327.8866021114756,
          327.8866016571992,
          327.88660122508236,
          327.8866008140439,
          327.88660042305594,
          327.88660005114014,
          327.8865996973664,
          327.88659936084963,
          327.88659904074797,
          327.8865987362609,
          327.88659844662675,
          327.8865981711205,
          327.8865979090538,
          327.8865976597706,
          327.8865974226471,
          327.8865971970906,
          327.88659698253673,
          327.8865967784487,
          327.886596584316,
          327.88659639965294,
          327.88659622399774,
          327.8865960569112,
          327.8865958979748,
          327.8865957467917,
          327.88659560298277,
          327.8865954661889,
          327.886595336068,
          327.88659521229437,
          327.88659509455823,
          327.8865949825651,
          327.88659487603525,
          327.88659477470173,
          327.8865946783114,
          327.8865945866227,
          327.88659449940695,
          327.8865944164453,
          327.8865943375305,
          327.8865942624654,
          327.8865941910616,
          327.88659412314104,
          327.88659405853355,
          327.8865939970778,
          327.8865939386196,
          327.8865938830129,
          327.88659383011895,
          327.8865937798048,
          327.88659373194554,
          327.8865936864204,
          327.886593643116,
          327.886593601924,
          327.8865935627415,
          327.8865935254702,
          327.886593490017,
          327.8865934562932,
          327.8865934242143,
          327.8865933937003,
          327.8865933646747,
          327.8865933370651,
          327.88659331080225,
          327.88659328582054,
          327.88659326205726,
          327.88659323945336,
          327.88659321795205,
          327.88659319749945,
          327.88659317804434,
          327.88659315953873,
          327.88659314193546,
          327.8865931251909,
          327.8865931092633,
          327.8865930941125,
          327.88659307970084,
          327.88659306599226,
          327.8865930529521,
          327.8865930405481,
          327.88659302874925,
          327.88659301752625,
          327.88659300685026,
          327.886592996695,
          327.8865929870353,
          327.88659297784693,
          327.88659296910663,
          327.88659296079277,
          327.8865929528843,
          327.8865929453617,
          327.88659293820604,
          327.8865929313994,
          327.8865929249248,
          327.886592918766,
          327.8865929129077,
          327.88659290733506,
          327.8865929020342,
          327.8865928969923,
          327.886592892196,
          327.8865928876335,
          327.886592883294,
          327.88659287916585,
          327.8865928752393,
          327.88659287150426,
          327.88659286795126,
          327.88659286457187,
          327.8865928613569,
          327.8865928582989,
          327.8865928553902,
          327.88659285262327,
          327.8865928499914,
          327.8865928474879,
          327.88659284510635,
          327.8865928428412,
          327.88659284068643,
          327.88659283863694,
          327.8865928366872,
          327.88659283483264,
          327.88659283306873,
          327.8865928313904,
          327.8865928297943,
          327.88659282827604,
          327.88659282683176,
          327.88659282545785,
          327.88659282415114,
          327.88659282290814,
          327.8865928217255,
          327.8865928206009,
          327.8865928195309,
          327.88659281851324,
          327.8865928175452,
          327.8865928166243,
          327.8865928157486,
          327.88659281491556,
          327.88659281412276,
          327.88659281336896,
          327.8865928126519,
          327.88659281196965,
          327.886592811321,
          327.88659281070386,
          327.8865928101167,
          327.88659280955835,
          327.8865928090269,
          327.8865928085217,
          327.8865928080411,
          327.8865928075838,
          327.88659280714893,
          327.8865928067352,
          327.88659280634164,
          327.8865928059674,
          327.88659280561143,
          327.8865928052728,
          327.8865928049504,
          327.8865928046439,
          327.8865928043524,
          327.8865928040752,
          327.8865928038113,
          327.8865928035606,
          327.8865928033219,
          327.886592803095,
          327.88659280287897,
          327.8865928026737,
          327.8865928024783,
          327.8865928022923,
          327.8865928021158,
          327.8865928019475,
          327.8865928017874,
          327.8865928016353,
          327.88659280149045,
          327.88659280135295,
          327.8865928012221,
          327.88659280109744,
          327.88659280097886,
          327.8865928008662,
          327.8865928007589,
          327.8865928006569,
          327.88659280056004,
          327.8865928004677,
          327.8865928003799,
          327.8865928002962,
          327.886592800217,
          327.8865928001415,
          327.8865928000695,
          327.88659280000115,
          327.8865927999364,
          327.88659279987434,
          327.8865927998153,
          327.8865927997596,
          327.8865927997062,
          327.8865927996556,
          327.8865927996075,
          327.88659279956164,
          327.8865927995182,
          327.88659279947666,
          327.88659279943715,
          327.8865927993996,
          327.886592799364,
          327.8865927993299,
          327.88659279929794,
          327.88659279926685,
          327.8865927992377,
          327.88659279920995,
          327.8865927991835,
          327.8865927991585,
          327.8865927991346,
          327.88659279911167,
          327.8865927990903,
          327.8865927990696,
          327.8865927990499,
          327.8865927990313,
          327.88659279901367,
          327.88659279899673,
          327.88659279898087,
          327.8865927989654,
          327.886592798951,
          327.88659279893733,
          327.886592798924,
          327.8865927989115,
          327.8865927988996,
          327.8865927988886,
          327.8865927988776,
          327.88659279886735,
          327.8865927988576,
          327.8865927988484,
          327.8865927988396,
          327.88659279883143,
          327.8865927988232,
          327.8865927988159,
          327.88659279880864,
          327.8865927988017,
          327.88659279879516,
          327.8865927987891,
          327.8865927987832,
          327.88659279877766,
          327.88659279877226,
          327.886592798767,
          327.8865927987623,
          327.88659279875776,
          327.8865927987533,
          327.8865927987491,
          327.88659279874526,
          327.8865927987414,
          327.88659279873804,
          327.88659279873434,
          327.8865927987312,
          327.8865927987281,
          327.88659279872525,
          327.88659279872235,
          327.88659279871996,
          327.88659279871723,
          327.88659279871484,
          327.8865927987127,
          327.8865927987104,
          327.8865927987084,
          327.8865927987063,
          327.8865927987046,
          327.8865927987028,
          327.88659279870114,
          327.88659279869944,
          327.88659279869796,
          327.8865927986966,
          327.8865927986951,
          327.8865927986938,
          327.88659279869245,
          327.8865927986912,
          327.88659279869006,
          327.8865927986891,
          327.8865927986879,
          327.88659279868705,
          327.8865927986863,
          327.8865927986854,
          327.8865927986845,
          327.88659279868364,
          327.88659279868307,
          327.8865927986823,
          327.88659279868153,
          327.88659279868097,
          327.8865927986803,
          327.88659279867954,
          327.8865927986792,
          327.88659279867863,
          327.8865927986782,
          327.88659279867767,
          327.88659279867716,
          327.88659279867665,
          327.8865927986764,
          327.8865927986758,
          327.88659279867557,
          327.8865927986751,
          327.88659279867477,
          327.88659279867437,
          327.8865927986743,
          327.88659279867403,
          327.8865927986737,
          327.88659279867335,
          327.88659279867323,
          327.8865927986728,
          327.88659279867255,
          327.88659279867227,
          327.8865927986722,
          327.88659279867187,
          327.88659279867176,
          327.88659279867164,
          327.88659279867153,
          327.8865927986712,
          327.8865927986712,
          327.88659279867113,
          327.88659279867073,
          327.88659279867073,
          327.88659279867056,
          327.88659279867056,
          327.88659279867045,
          327.8865927986702,
          327.8865927986701,
          327.8865927986701,
          327.8865927986701,
          327.8865927986699,
          327.8865927986697,
          327.88659279866965,
          327.88659279866954,
          327.88659279866954,
          327.88659279866954,
          327.8865927986696,
          327.88659279866937,
          327.8865927986693,
          327.8865927986693,
          327.88659279866914,
          327.88659279866914,
          327.8865927986692,
          327.8865927986692,
          327.88659279866914,
          327.88659279866886,
          327.88659279866886,
          327.88659279866886,
          327.88659279866886,
          327.88659279866874,
          327.8865927986689,
          327.88659279866874,
          327.88659279866874,
          327.8865927986688,
          327.8865927986686,
          327.88659279866863,
          327.8865927986685,
          327.8865927986686,
          327.8865927986686,
          327.88659279866874,
          327.8865927986685,
          327.8865927986684,
          327.8865927986684,
          327.8865927986684,
          327.8865927986684,
          327.8865927986685,
          327.8865927986686,
          327.88659279866835,
          327.88659279866835,
          327.8865927986685,
          327.88659279866835,
          327.8865927986684,
          327.8865927986683,
          327.8865927986685,
          327.8865927986684,
          327.88659279866835,
          327.88659279866835,
          327.88659279866835,
          327.8865927986685,
          327.8865927986683,
          327.88659279866823,
          327.8865927986683,
          327.88659279866835,
          327.8865927986681,
          327.88659279866835,
          327.8865927986684,
          327.8865927986683,
          327.88659279866823,
          327.8865927986683,
          327.8865927986684,
          327.8865927986683,
          327.8865927986684,
          327.88659279866835,
          327.8865927986683,
          327.88659279866823,
          327.886592798668,
          327.8865927986681,
          327.88659279866823,
          327.8865927986683,
          327.8865927986683,
          327.8865927986681,
          327.8865927986683,
          327.8865927986684,
          327.8865927986683,
          327.8865927986681,
          327.88659279866806,
          327.88659279866823,
          327.88659279866823,
          327.8865927986681,
          327.88659279866823,
          327.8865927986683,
          327.88659279866823,
          327.88659279866835,
          327.8865927986681,
          327.8865927986681,
          327.8865927986681,
          327.88659279866823,
          327.8865927986679,
          327.88659279866835,
          327.8865927986683,
          327.88659279866823,
          327.88659279866823,
          327.8865927986681,
          327.88659279866823,
          327.88659279866823,
          327.88659279866823,
          327.8865927986683,
          327.8865927986684,
          327.88659279866823,
          327.88659279866823,
          327.8865927986683,
          327.8865927986683,
          327.8865927986683,
          327.88659279866835,
          327.88659279866823,
          327.88659279866823,
          327.88659279866806,
          327.886592798668,
          327.8865927986683,
          327.8865927986683,
          327.88659279866823,
          327.8865927986681,
          327.88659279866806,
          327.88659279866823,
          327.8865927986683,
          327.8865927986684,
          327.886592798668,
          327.88659279866806,
          327.8865927986681,
          327.8865927986681,
          327.8865927986683,
          327.88659279866823,
          327.88659279866823,
          327.8865927986681,
          327.88659279866806,
          327.8865927986683,
          327.88659279866806,
          327.8865927986681,
          327.88659279866823,
          327.8865927986681,
          327.88659279866823,
          327.88659279866806,
          327.8865927986681,
          327.8865927986681,
          327.88659279866823,
          327.8865927986681,
          327.8865927986681,
          327.88659279866806,
          327.8865927986681,
          327.88659279866806,
          327.88659279866806,
          327.88659279866823,
          327.886592798668,
          327.8865927986683,
          327.88659279866806,
          327.88659279866835,
          327.88659279866806,
          327.88659279866823,
          327.88659279866823,
          327.88659279866823,
          327.8865927986679,
          327.8865927986683,
          327.88659279866823,
          327.88659279866806,
          327.88659279866835,
          327.8865927986681,
          327.8865927986681,
          327.88659279866823,
          327.88659279866806,
          327.88659279866806,
          327.886592798668,
          327.8865927986681,
          327.8865927986681,
          327.8865927986683,
          327.88659279866806,
          327.8865927986681,
          327.8865927986681,
          327.8865927986683,
          327.8865927986681,
          327.88659279866806,
          327.8865927986681,
          327.8865927986681,
          327.8865927986679,
          327.8865927986681,
          327.8865927986681,
          327.88659279866823,
          327.88659279866823,
          327.88659279866806,
          327.8865927986681,
          327.8865927986681,
          327.88659279866823,
          327.88659279866823,
          327.88659279866823,
          327.8865927986681,
          327.8865927986683,
          327.88659279866806,
          327.8865927986681,
          327.88659279866806,
          327.88659279866823,
          327.88659279866823,
          327.88659279866823,
          327.88659279866806,
          327.88659279866806,
          327.8865927986683,
          327.88659279866806,
          327.8865927986681,
          327.886592798668,
          327.88659279866806,
          327.8865927986681,
          327.88659279866806,
          327.8865927986681,
          327.8865927986681,
          327.88659279866806,
          327.88659279866806,
          327.88659279866806,
          327.88659279866823
         ],
         "yaxis": "y"
        }
       ],
       "layout": {
        "legend": {
         "tracegroupgap": 0
        },
        "template": {
         "data": {
          "bar": [
           {
            "error_x": {
             "color": "#2a3f5f"
            },
            "error_y": {
             "color": "#2a3f5f"
            },
            "marker": {
             "line": {
              "color": "#E5ECF6",
              "width": 0.5
             },
             "pattern": {
              "fillmode": "overlay",
              "size": 10,
              "solidity": 0.2
             }
            },
            "type": "bar"
           }
          ],
          "barpolar": [
           {
            "marker": {
             "line": {
              "color": "#E5ECF6",
              "width": 0.5
             },
             "pattern": {
              "fillmode": "overlay",
              "size": 10,
              "solidity": 0.2
             }
            },
            "type": "barpolar"
           }
          ],
          "carpet": [
           {
            "aaxis": {
             "endlinecolor": "#2a3f5f",
             "gridcolor": "white",
             "linecolor": "white",
             "minorgridcolor": "white",
             "startlinecolor": "#2a3f5f"
            },
            "baxis": {
             "endlinecolor": "#2a3f5f",
             "gridcolor": "white",
             "linecolor": "white",
             "minorgridcolor": "white",
             "startlinecolor": "#2a3f5f"
            },
            "type": "carpet"
           }
          ],
          "choropleth": [
           {
            "colorbar": {
             "outlinewidth": 0,
             "ticks": ""
            },
            "type": "choropleth"
           }
          ],
          "contour": [
           {
            "colorbar": {
             "outlinewidth": 0,
             "ticks": ""
            },
            "colorscale": [
             [
              0,
              "#0d0887"
             ],
             [
              0.1111111111111111,
              "#46039f"
             ],
             [
              0.2222222222222222,
              "#7201a8"
             ],
             [
              0.3333333333333333,
              "#9c179e"
             ],
             [
              0.4444444444444444,
              "#bd3786"
             ],
             [
              0.5555555555555556,
              "#d8576b"
             ],
             [
              0.6666666666666666,
              "#ed7953"
             ],
             [
              0.7777777777777778,
              "#fb9f3a"
             ],
             [
              0.8888888888888888,
              "#fdca26"
             ],
             [
              1,
              "#f0f921"
             ]
            ],
            "type": "contour"
           }
          ],
          "contourcarpet": [
           {
            "colorbar": {
             "outlinewidth": 0,
             "ticks": ""
            },
            "type": "contourcarpet"
           }
          ],
          "heatmap": [
           {
            "colorbar": {
             "outlinewidth": 0,
             "ticks": ""
            },
            "colorscale": [
             [
              0,
              "#0d0887"
             ],
             [
              0.1111111111111111,
              "#46039f"
             ],
             [
              0.2222222222222222,
              "#7201a8"
             ],
             [
              0.3333333333333333,
              "#9c179e"
             ],
             [
              0.4444444444444444,
              "#bd3786"
             ],
             [
              0.5555555555555556,
              "#d8576b"
             ],
             [
              0.6666666666666666,
              "#ed7953"
             ],
             [
              0.7777777777777778,
              "#fb9f3a"
             ],
             [
              0.8888888888888888,
              "#fdca26"
             ],
             [
              1,
              "#f0f921"
             ]
            ],
            "type": "heatmap"
           }
          ],
          "heatmapgl": [
           {
            "colorbar": {
             "outlinewidth": 0,
             "ticks": ""
            },
            "colorscale": [
             [
              0,
              "#0d0887"
             ],
             [
              0.1111111111111111,
              "#46039f"
             ],
             [
              0.2222222222222222,
              "#7201a8"
             ],
             [
              0.3333333333333333,
              "#9c179e"
             ],
             [
              0.4444444444444444,
              "#bd3786"
             ],
             [
              0.5555555555555556,
              "#d8576b"
             ],
             [
              0.6666666666666666,
              "#ed7953"
             ],
             [
              0.7777777777777778,
              "#fb9f3a"
             ],
             [
              0.8888888888888888,
              "#fdca26"
             ],
             [
              1,
              "#f0f921"
             ]
            ],
            "type": "heatmapgl"
           }
          ],
          "histogram": [
           {
            "marker": {
             "pattern": {
              "fillmode": "overlay",
              "size": 10,
              "solidity": 0.2
             }
            },
            "type": "histogram"
           }
          ],
          "histogram2d": [
           {
            "colorbar": {
             "outlinewidth": 0,
             "ticks": ""
            },
            "colorscale": [
             [
              0,
              "#0d0887"
             ],
             [
              0.1111111111111111,
              "#46039f"
             ],
             [
              0.2222222222222222,
              "#7201a8"
             ],
             [
              0.3333333333333333,
              "#9c179e"
             ],
             [
              0.4444444444444444,
              "#bd3786"
             ],
             [
              0.5555555555555556,
              "#d8576b"
             ],
             [
              0.6666666666666666,
              "#ed7953"
             ],
             [
              0.7777777777777778,
              "#fb9f3a"
             ],
             [
              0.8888888888888888,
              "#fdca26"
             ],
             [
              1,
              "#f0f921"
             ]
            ],
            "type": "histogram2d"
           }
          ],
          "histogram2dcontour": [
           {
            "colorbar": {
             "outlinewidth": 0,
             "ticks": ""
            },
            "colorscale": [
             [
              0,
              "#0d0887"
             ],
             [
              0.1111111111111111,
              "#46039f"
             ],
             [
              0.2222222222222222,
              "#7201a8"
             ],
             [
              0.3333333333333333,
              "#9c179e"
             ],
             [
              0.4444444444444444,
              "#bd3786"
             ],
             [
              0.5555555555555556,
              "#d8576b"
             ],
             [
              0.6666666666666666,
              "#ed7953"
             ],
             [
              0.7777777777777778,
              "#fb9f3a"
             ],
             [
              0.8888888888888888,
              "#fdca26"
             ],
             [
              1,
              "#f0f921"
             ]
            ],
            "type": "histogram2dcontour"
           }
          ],
          "mesh3d": [
           {
            "colorbar": {
             "outlinewidth": 0,
             "ticks": ""
            },
            "type": "mesh3d"
           }
          ],
          "parcoords": [
           {
            "line": {
             "colorbar": {
              "outlinewidth": 0,
              "ticks": ""
             }
            },
            "type": "parcoords"
           }
          ],
          "pie": [
           {
            "automargin": true,
            "type": "pie"
           }
          ],
          "scatter": [
           {
            "fillpattern": {
             "fillmode": "overlay",
             "size": 10,
             "solidity": 0.2
            },
            "type": "scatter"
           }
          ],
          "scatter3d": [
           {
            "line": {
             "colorbar": {
              "outlinewidth": 0,
              "ticks": ""
             }
            },
            "marker": {
             "colorbar": {
              "outlinewidth": 0,
              "ticks": ""
             }
            },
            "type": "scatter3d"
           }
          ],
          "scattercarpet": [
           {
            "marker": {
             "colorbar": {
              "outlinewidth": 0,
              "ticks": ""
             }
            },
            "type": "scattercarpet"
           }
          ],
          "scattergeo": [
           {
            "marker": {
             "colorbar": {
              "outlinewidth": 0,
              "ticks": ""
             }
            },
            "type": "scattergeo"
           }
          ],
          "scattergl": [
           {
            "marker": {
             "colorbar": {
              "outlinewidth": 0,
              "ticks": ""
             }
            },
            "type": "scattergl"
           }
          ],
          "scattermapbox": [
           {
            "marker": {
             "colorbar": {
              "outlinewidth": 0,
              "ticks": ""
             }
            },
            "type": "scattermapbox"
           }
          ],
          "scatterpolar": [
           {
            "marker": {
             "colorbar": {
              "outlinewidth": 0,
              "ticks": ""
             }
            },
            "type": "scatterpolar"
           }
          ],
          "scatterpolargl": [
           {
            "marker": {
             "colorbar": {
              "outlinewidth": 0,
              "ticks": ""
             }
            },
            "type": "scatterpolargl"
           }
          ],
          "scatterternary": [
           {
            "marker": {
             "colorbar": {
              "outlinewidth": 0,
              "ticks": ""
             }
            },
            "type": "scatterternary"
           }
          ],
          "surface": [
           {
            "colorbar": {
             "outlinewidth": 0,
             "ticks": ""
            },
            "colorscale": [
             [
              0,
              "#0d0887"
             ],
             [
              0.1111111111111111,
              "#46039f"
             ],
             [
              0.2222222222222222,
              "#7201a8"
             ],
             [
              0.3333333333333333,
              "#9c179e"
             ],
             [
              0.4444444444444444,
              "#bd3786"
             ],
             [
              0.5555555555555556,
              "#d8576b"
             ],
             [
              0.6666666666666666,
              "#ed7953"
             ],
             [
              0.7777777777777778,
              "#fb9f3a"
             ],
             [
              0.8888888888888888,
              "#fdca26"
             ],
             [
              1,
              "#f0f921"
             ]
            ],
            "type": "surface"
           }
          ],
          "table": [
           {
            "cells": {
             "fill": {
              "color": "#EBF0F8"
             },
             "line": {
              "color": "white"
             }
            },
            "header": {
             "fill": {
              "color": "#C8D4E3"
             },
             "line": {
              "color": "white"
             }
            },
            "type": "table"
           }
          ]
         },
         "layout": {
          "annotationdefaults": {
           "arrowcolor": "#2a3f5f",
           "arrowhead": 0,
           "arrowwidth": 1
          },
          "autotypenumbers": "strict",
          "coloraxis": {
           "colorbar": {
            "outlinewidth": 0,
            "ticks": ""
           }
          },
          "colorscale": {
           "diverging": [
            [
             0,
             "#8e0152"
            ],
            [
             0.1,
             "#c51b7d"
            ],
            [
             0.2,
             "#de77ae"
            ],
            [
             0.3,
             "#f1b6da"
            ],
            [
             0.4,
             "#fde0ef"
            ],
            [
             0.5,
             "#f7f7f7"
            ],
            [
             0.6,
             "#e6f5d0"
            ],
            [
             0.7,
             "#b8e186"
            ],
            [
             0.8,
             "#7fbc41"
            ],
            [
             0.9,
             "#4d9221"
            ],
            [
             1,
             "#276419"
            ]
           ],
           "sequential": [
            [
             0,
             "#0d0887"
            ],
            [
             0.1111111111111111,
             "#46039f"
            ],
            [
             0.2222222222222222,
             "#7201a8"
            ],
            [
             0.3333333333333333,
             "#9c179e"
            ],
            [
             0.4444444444444444,
             "#bd3786"
            ],
            [
             0.5555555555555556,
             "#d8576b"
            ],
            [
             0.6666666666666666,
             "#ed7953"
            ],
            [
             0.7777777777777778,
             "#fb9f3a"
            ],
            [
             0.8888888888888888,
             "#fdca26"
            ],
            [
             1,
             "#f0f921"
            ]
           ],
           "sequentialminus": [
            [
             0,
             "#0d0887"
            ],
            [
             0.1111111111111111,
             "#46039f"
            ],
            [
             0.2222222222222222,
             "#7201a8"
            ],
            [
             0.3333333333333333,
             "#9c179e"
            ],
            [
             0.4444444444444444,
             "#bd3786"
            ],
            [
             0.5555555555555556,
             "#d8576b"
            ],
            [
             0.6666666666666666,
             "#ed7953"
            ],
            [
             0.7777777777777778,
             "#fb9f3a"
            ],
            [
             0.8888888888888888,
             "#fdca26"
            ],
            [
             1,
             "#f0f921"
            ]
           ]
          },
          "colorway": [
           "#636efa",
           "#EF553B",
           "#00cc96",
           "#ab63fa",
           "#FFA15A",
           "#19d3f3",
           "#FF6692",
           "#B6E880",
           "#FF97FF",
           "#FECB52"
          ],
          "font": {
           "color": "#2a3f5f"
          },
          "geo": {
           "bgcolor": "white",
           "lakecolor": "white",
           "landcolor": "#E5ECF6",
           "showlakes": true,
           "showland": true,
           "subunitcolor": "white"
          },
          "hoverlabel": {
           "align": "left"
          },
          "hovermode": "closest",
          "mapbox": {
           "style": "light"
          },
          "paper_bgcolor": "white",
          "plot_bgcolor": "#E5ECF6",
          "polar": {
           "angularaxis": {
            "gridcolor": "white",
            "linecolor": "white",
            "ticks": ""
           },
           "bgcolor": "#E5ECF6",
           "radialaxis": {
            "gridcolor": "white",
            "linecolor": "white",
            "ticks": ""
           }
          },
          "scene": {
           "xaxis": {
            "backgroundcolor": "#E5ECF6",
            "gridcolor": "white",
            "gridwidth": 2,
            "linecolor": "white",
            "showbackground": true,
            "ticks": "",
            "zerolinecolor": "white"
           },
           "yaxis": {
            "backgroundcolor": "#E5ECF6",
            "gridcolor": "white",
            "gridwidth": 2,
            "linecolor": "white",
            "showbackground": true,
            "ticks": "",
            "zerolinecolor": "white"
           },
           "zaxis": {
            "backgroundcolor": "#E5ECF6",
            "gridcolor": "white",
            "gridwidth": 2,
            "linecolor": "white",
            "showbackground": true,
            "ticks": "",
            "zerolinecolor": "white"
           }
          },
          "shapedefaults": {
           "line": {
            "color": "#2a3f5f"
           }
          },
          "ternary": {
           "aaxis": {
            "gridcolor": "white",
            "linecolor": "white",
            "ticks": ""
           },
           "baxis": {
            "gridcolor": "white",
            "linecolor": "white",
            "ticks": ""
           },
           "bgcolor": "#E5ECF6",
           "caxis": {
            "gridcolor": "white",
            "linecolor": "white",
            "ticks": ""
           }
          },
          "title": {
           "x": 0.05
          },
          "xaxis": {
           "automargin": true,
           "gridcolor": "white",
           "linecolor": "white",
           "ticks": "",
           "title": {
            "standoff": 15
           },
           "zerolinecolor": "white",
           "zerolinewidth": 2
          },
          "yaxis": {
           "automargin": true,
           "gridcolor": "white",
           "linecolor": "white",
           "ticks": "",
           "title": {
            "standoff": 15
           },
           "zerolinecolor": "white",
           "zerolinewidth": 2
          }
         }
        },
        "title": {
         "text": "Empirical risk over epochs | Learning rate: 0.01"
        },
        "xaxis": {
         "anchor": "y",
         "domain": [
          0,
          1
         ],
         "title": {
          "text": "epoch"
         }
        },
        "yaxis": {
         "anchor": "x",
         "domain": [
          0,
          1
         ],
         "title": {
          "text": "risk"
         }
        }
       }
      }
     },
     "metadata": {},
     "output_type": "display_data"
    }
   ],
   "source": [
    "px.line(res_df, x='epoch', y='risk', title=f'Empirical risk over epochs | Learning rate: {lr}')"
   ]
  },
  {
   "cell_type": "code",
   "execution_count": 72,
   "metadata": {},
   "outputs": [
    {
     "data": {
      "application/vnd.plotly.v1+json": {
       "config": {
        "plotlyServerURL": "https://plot.ly"
       },
       "data": [
        {
         "hovertemplate": "epoch=%{x}<br>theta=%{y}<extra></extra>",
         "legendgroup": "",
         "line": {
          "color": "#636efa",
          "dash": "solid"
         },
         "marker": {
          "symbol": "circle"
         },
         "mode": "lines",
         "name": "",
         "orientation": "v",
         "showlegend": false,
         "type": "scatter",
         "x": [
          0,
          1,
          2,
          3,
          4,
          5,
          6,
          7,
          8,
          9,
          10,
          11,
          12,
          13,
          14,
          15,
          16,
          17,
          18,
          19,
          20,
          21,
          22,
          23,
          24,
          25,
          26,
          27,
          28,
          29,
          30,
          31,
          32,
          33,
          34,
          35,
          36,
          37,
          38,
          39,
          40,
          41,
          42,
          43,
          44,
          45,
          46,
          47,
          48,
          49,
          50,
          51,
          52,
          53,
          54,
          55,
          56,
          57,
          58,
          59,
          60,
          61,
          62,
          63,
          64,
          65,
          66,
          67,
          68,
          69,
          70,
          71,
          72,
          73,
          74,
          75,
          76,
          77,
          78,
          79,
          80,
          81,
          82,
          83,
          84,
          85,
          86,
          87,
          88,
          89,
          90,
          91,
          92,
          93,
          94,
          95,
          96,
          97,
          98,
          99,
          100,
          101,
          102,
          103,
          104,
          105,
          106,
          107,
          108,
          109,
          110,
          111,
          112,
          113,
          114,
          115,
          116,
          117,
          118,
          119,
          120,
          121,
          122,
          123,
          124,
          125,
          126,
          127,
          128,
          129,
          130,
          131,
          132,
          133,
          134,
          135,
          136,
          137,
          138,
          139,
          140,
          141,
          142,
          143,
          144,
          145,
          146,
          147,
          148,
          149,
          150,
          151,
          152,
          153,
          154,
          155,
          156,
          157,
          158,
          159,
          160,
          161,
          162,
          163,
          164,
          165,
          166,
          167,
          168,
          169,
          170,
          171,
          172,
          173,
          174,
          175,
          176,
          177,
          178,
          179,
          180,
          181,
          182,
          183,
          184,
          185,
          186,
          187,
          188,
          189,
          190,
          191,
          192,
          193,
          194,
          195,
          196,
          197,
          198,
          199,
          200,
          201,
          202,
          203,
          204,
          205,
          206,
          207,
          208,
          209,
          210,
          211,
          212,
          213,
          214,
          215,
          216,
          217,
          218,
          219,
          220,
          221,
          222,
          223,
          224,
          225,
          226,
          227,
          228,
          229,
          230,
          231,
          232,
          233,
          234,
          235,
          236,
          237,
          238,
          239,
          240,
          241,
          242,
          243,
          244,
          245,
          246,
          247,
          248,
          249,
          250,
          251,
          252,
          253,
          254,
          255,
          256,
          257,
          258,
          259,
          260,
          261,
          262,
          263,
          264,
          265,
          266,
          267,
          268,
          269,
          270,
          271,
          272,
          273,
          274,
          275,
          276,
          277,
          278,
          279,
          280,
          281,
          282,
          283,
          284,
          285,
          286,
          287,
          288,
          289,
          290,
          291,
          292,
          293,
          294,
          295,
          296,
          297,
          298,
          299,
          300,
          301,
          302,
          303,
          304,
          305,
          306,
          307,
          308,
          309,
          310,
          311,
          312,
          313,
          314,
          315,
          316,
          317,
          318,
          319,
          320,
          321,
          322,
          323,
          324,
          325,
          326,
          327,
          328,
          329,
          330,
          331,
          332,
          333,
          334,
          335,
          336,
          337,
          338,
          339,
          340,
          341,
          342,
          343,
          344,
          345,
          346,
          347,
          348,
          349,
          350,
          351,
          352,
          353,
          354,
          355,
          356,
          357,
          358,
          359,
          360,
          361,
          362,
          363,
          364,
          365,
          366,
          367,
          368,
          369,
          370,
          371,
          372,
          373,
          374,
          375,
          376,
          377,
          378,
          379,
          380,
          381,
          382,
          383,
          384,
          385,
          386,
          387,
          388,
          389,
          390,
          391,
          392,
          393,
          394,
          395,
          396,
          397,
          398,
          399,
          400,
          401,
          402,
          403,
          404,
          405,
          406,
          407,
          408,
          409,
          410,
          411,
          412,
          413,
          414,
          415,
          416,
          417,
          418,
          419,
          420,
          421,
          422,
          423,
          424,
          425,
          426,
          427,
          428,
          429,
          430,
          431,
          432,
          433,
          434,
          435,
          436,
          437,
          438,
          439,
          440,
          441,
          442,
          443,
          444,
          445,
          446,
          447,
          448,
          449,
          450,
          451,
          452,
          453,
          454,
          455,
          456,
          457,
          458,
          459,
          460,
          461,
          462,
          463,
          464,
          465,
          466,
          467,
          468,
          469,
          470,
          471,
          472,
          473,
          474,
          475,
          476,
          477,
          478,
          479,
          480,
          481,
          482,
          483,
          484,
          485,
          486,
          487,
          488,
          489,
          490,
          491,
          492,
          493,
          494,
          495,
          496,
          497,
          498,
          499,
          500,
          501,
          502,
          503,
          504,
          505,
          506,
          507,
          508,
          509,
          510,
          511,
          512,
          513,
          514,
          515,
          516,
          517,
          518,
          519,
          520,
          521,
          522,
          523,
          524,
          525,
          526,
          527,
          528,
          529,
          530,
          531,
          532,
          533,
          534,
          535,
          536,
          537,
          538,
          539,
          540,
          541,
          542,
          543,
          544,
          545,
          546,
          547,
          548,
          549,
          550,
          551,
          552,
          553,
          554,
          555,
          556,
          557,
          558,
          559,
          560,
          561,
          562,
          563,
          564,
          565,
          566,
          567,
          568,
          569,
          570,
          571,
          572,
          573,
          574,
          575,
          576,
          577,
          578,
          579,
          580,
          581,
          582,
          583,
          584,
          585,
          586,
          587,
          588,
          589,
          590,
          591,
          592,
          593,
          594,
          595,
          596,
          597,
          598,
          599,
          600,
          601,
          602,
          603,
          604,
          605,
          606,
          607,
          608,
          609,
          610,
          611,
          612,
          613,
          614,
          615,
          616,
          617,
          618,
          619,
          620,
          621,
          622,
          623,
          624,
          625,
          626,
          627,
          628,
          629,
          630,
          631,
          632,
          633,
          634,
          635,
          636,
          637,
          638,
          639,
          640,
          641,
          642,
          643,
          644,
          645,
          646,
          647,
          648,
          649,
          650,
          651,
          652,
          653,
          654,
          655,
          656,
          657,
          658,
          659,
          660,
          661,
          662,
          663,
          664,
          665,
          666,
          667,
          668,
          669,
          670,
          671,
          672,
          673,
          674,
          675,
          676,
          677,
          678,
          679,
          680,
          681,
          682,
          683,
          684,
          685,
          686,
          687,
          688,
          689,
          690,
          691,
          692,
          693,
          694,
          695,
          696,
          697,
          698,
          699,
          700,
          701,
          702,
          703,
          704,
          705,
          706,
          707,
          708,
          709,
          710,
          711,
          712,
          713,
          714,
          715,
          716,
          717,
          718,
          719,
          720,
          721,
          722,
          723,
          724,
          725,
          726,
          727,
          728,
          729,
          730,
          731,
          732,
          733,
          734,
          735,
          736,
          737,
          738,
          739,
          740,
          741,
          742,
          743,
          744,
          745,
          746,
          747,
          748,
          749,
          750,
          751,
          752,
          753,
          754,
          755,
          756,
          757,
          758,
          759,
          760,
          761,
          762,
          763,
          764,
          765,
          766,
          767,
          768,
          769,
          770,
          771,
          772,
          773,
          774,
          775,
          776,
          777,
          778,
          779,
          780,
          781,
          782,
          783,
          784,
          785,
          786,
          787,
          788,
          789,
          790,
          791,
          792,
          793,
          794,
          795,
          796,
          797,
          798,
          799,
          800,
          801,
          802,
          803,
          804,
          805,
          806,
          807,
          808,
          809,
          810,
          811,
          812,
          813,
          814,
          815,
          816,
          817,
          818,
          819,
          820,
          821,
          822,
          823,
          824,
          825,
          826,
          827,
          828,
          829,
          830,
          831,
          832,
          833,
          834,
          835,
          836,
          837,
          838,
          839,
          840,
          841,
          842,
          843,
          844,
          845,
          846,
          847,
          848,
          849,
          850,
          851,
          852,
          853,
          854,
          855,
          856,
          857,
          858,
          859,
          860,
          861,
          862,
          863,
          864,
          865,
          866,
          867,
          868,
          869,
          870,
          871,
          872,
          873,
          874,
          875,
          876,
          877,
          878,
          879,
          880,
          881,
          882,
          883,
          884,
          885,
          886,
          887,
          888,
          889,
          890,
          891,
          892,
          893,
          894,
          895,
          896,
          897,
          898,
          899,
          900,
          901,
          902,
          903,
          904,
          905,
          906,
          907,
          908,
          909,
          910,
          911,
          912,
          913,
          914,
          915,
          916,
          917,
          918,
          919,
          920,
          921,
          922,
          923,
          924,
          925,
          926,
          927,
          928,
          929,
          930,
          931,
          932,
          933,
          934,
          935,
          936,
          937,
          938,
          939,
          940,
          941,
          942,
          943,
          944,
          945,
          946,
          947,
          948,
          949,
          950,
          951,
          952,
          953,
          954,
          955,
          956,
          957,
          958,
          959,
          960,
          961,
          962,
          963,
          964,
          965,
          966,
          967,
          968,
          969,
          970,
          971,
          972,
          973,
          974,
          975,
          976,
          977,
          978,
          979,
          980,
          981,
          982,
          983,
          984,
          985,
          986,
          987,
          988,
          989,
          990,
          991,
          992,
          993,
          994,
          995,
          996,
          997,
          998,
          999
         ],
         "xaxis": "x",
         "y": [
          12.537015600947903,
          24.764432227770822,
          36.68989536228279,
          48.32086168272595,
          59.66460372623519,
          70.72821443616428,
          81.51861159711659,
          92.0425421604538,
          102.30658646298701,
          112.31716234148817,
          122.08052914559447,
          131.60279165161498,
          140.88990387968656,
          149.94767281666603,
          158.78176204708615,
          167.397695294446,
          175.80085987504995,
          183.99651006655466,
          191.9897703933307,
          199.78563883069276,
          207.38898993000203,
          214.80457786659494,
          222.03703941244387,
          229.09089683540859,
          235.9705607268913,
          242.68033275966351,
          249.22440837758867,
          255.60687941892283,
          261.83173667483345,
          267.90287238473604,
          273.8240826700091,
          279.5990699076088,
          285.23144504506797,
          290.7247298583265,
          296.0823591538051,
          301.3076829160995,
          306.40396840263753,
          311.37440218660925,
          316.2220921494472,
          320.950069424103,
          325.561290290335,
          330.0586380231922,
          334.44492469585015,
          338.7228929379264,
          342.8952176503746,
          346.9645076780297,
          350.93330744084983,
          354.8040985248753,
          358.57930123389906,
          362.26127610281867,
          365.8523253736171,
          369.3546944348936,
          372.7705732258464,
          376.102097605584,
          379.3513506886215,
          382.52036414739746,
          385.61111948262516,
          388.62554926227284,
          391.5655383299476,
          394.43292498343834,
          397.2295021241553,
          399.95701837818393,
          402.61717918965473,
          405.21164788711263,
          407.7420467235526,
          410.2099578907717,
          412.616924508672,
          414.9644515901328,
          417.2540069820556,
          419.48702228317023,
          421.6648937391756,
          423.78898311577575,
          425.8606185501557,
          427.8810953814311,
          429.8516769605893,
          431.7735954404298,
          433.6480525459967,
          435.4762203259859,
          437.2592418855963,
          438.9982321012833,
          440.6942783178618,
          442.34844102839435,
          443.96175453728927,
          445.53522760702435,
          447.0698440888992,
          448.56656353821165,
          450.02632181424264,
          451.4500316654239,
          452.83858330005614,
          454.1928449429323,
          455.51366337821617,
          456.8018644789137,
          458.05825372327024,
          459.28361669841445,
          460.4787195915654,
          461.64430966910925,
          462.7811157438454,
          463.88984863069385,
          464.9712015911489,
          466.0258507667575,
          467.0544556018928,
          468.0576592560873,
          469.03608900618343,
          469.9903566385535,
          470.9210588316336,
          471.8287775290106,
          472.7140803032966,
          473.5775207110168,
          474.419638638734,
          475.2409606406255,
          476.0420002677233,
          476.8232583890245,
          477.58522350467103,
          478.32837205139623,
          479.05316870042805,
          479.7600666480359,
          480.44950789890214,
          481.1219235424961,
          481.7777340226231,
          482.4173494003166,
          483.04116961023874,
          483.6495847107491,
          484.2429751277976,
          484.8217118927952,
          485.38615687460964,
          485.93666300583305,
          486.4735745034609,
          486.9972270841222,
          487.50794817399407,
          488.0060571135328,
          488.4918653571489,
          488.9656766679517,
          489.4277873076839,
          489.8784862219666,
          490.3180552209695,
          490.7467691556189,
          491.1648960894552,
          491.5726974662459,
          491.97042827345933,
          492.35833720170166,
          492.73666680021665,
          493.1056536285454,
          493.4655284044406,
          493.81651614812836,
          494.15883632300745,
          494.49270297287404,
          494.81832485575757,
          495.1359055744516,
          495.4456437038214,
          495.74773291496757,
          496.04236209632336,
          496.32971547176186,
          496.60997271578606,
          496.8833090658748,
          497.14989543205417,
          497.4098985037628,
          497.6634808540787,
          497.9108010413717,
          498.1520137084459,
          498.3872696792337,
          498.6167160531022,
          498.8404962968304,
          499.05875033431516,
          499.27161463406213,
          499.4792222945157,
          499.68170312728216,
          499.8791837382973,
          500.07178760698986,
          500.25963516349,
          500.44284386393093,
          500.6215282638914,
          500.795800090024,
          500.9657683099152,
          501.13153920021955,
          501.293216413112,
          501.4509010410988,
          501.6046916802278,
          501.75468449173815,
          501.9009732621874,
          502.04364946209364,
          502.18280230312973,
          502.3185187939049,
          502.450883794369,
          502.57998006887334,
          502.70588833792067,
          502.828687328638,
          502.9484538240024,
          503.06526271085136,
          503.17918702670767,
          503.2902980054477,
          503.3986651218423,
          503.5043561349973,
          503.6074371307216,
          503.707972562849,
          503.8060252935393,
          503.9016566325843,
          503.99492637574366,
          504.085892842133,
          504.17461291068963,
          504.26114205573754,
          504.3455343816738,
          504.4278426567989,
          504.5081183463109,
          504.58641164448585,
          504.66277150606254,
          504.73724567685275,
          504.8098807235955,
          504.88072206307385,
          504.949813990513,
          505.0171997072768,
          505.0829213478805,
          505.14702000633616,
          505.20953576184814,
          505.27050770387297,
          505.32997395656133,
          505.387971702596,
          505.4445372064412,
          505.4997058370178,
          505.5535120898185,
          505.60598960847716,
          505.657171205805,
          505.70708888430795,
          505.7557738561965,
          505.80325656290245,
          505.84956669411247,
          505.8947332063329,
          505.9387843409951,
          505.98174764211427,
          506.02364997351185,
          506.0645175356129,
          506.1043758818284,
          506.1432499345333,
          506.18116400064963,
          506.21814178684514,
          506.2542064143563,
          506.28938043344556,
          506.32368583750133,
          506.35714407678995,
          506.38977607186786,
          506.4216022266628,
          506.4526424412317,
          506.4829161242039,
          506.5124422049165,
          506.5412391452508,
          506.56932495117564,
          506.59671718400637,
          506.62343297138517,
          506.64948901799085,
          506.6749016159836,
          506.69968665519207,
          506.7238596330491,
          506.74743566428145,
          506.77042949036104,
          506.7928554887221,
          506.81472768175126,
          506.83605974555513,
          506.8568650185118,
          506.8771565096109,
          506.89694690658786,
          506.91624858385694,
          506.935073610249,
          506.9534337565576,
          506.971340502899,
          506.9888050458905,
          507.0058383056511,
          507.02245093262985,
          507.0386533142653,
          507.0544555814801,
          507.0698676150162,
          507.0848990516125,
          507.0995592900307,
          507.11385749693204,
          507.127802612609,
          507.14140335657544,
          507.1546682330186,
          507.1676055361166,
          507.18022335522454,
          507.19252957993274,
          507.20453190499956,
          507.216237835163,
          507.22765468983306,
          507.23878960766854,
          507.24964955104053,
          507.2602413103858,
          507.27057150845275,
          507.28064660444227,
          507.29047289804674,
          507.300056533389,
          507.309403502864,
          507.31851965088566,
          507.32741067754154,
          507.33608214215656,
          507.34453946676933,
          507.35278793952233,
          507.36083271796855,
          507.36867883229615,
          507.376331188474,
          507.38379457131896,
          507.39107364748793,
          507.39817296839567,
          507.40509697306067,
          507.41184999088085,
          507.41843624434057,
          507.4248598516507,
          507.43112482932384,
          507.4372350946857,
          507.4431944683244,
          507.44900667647937,
          507.45467535337144,
          507.4602040434751,
          507.4655962037347,
          507.47085520572625,
          507.4759843377652,
          507.4809868069629,
          507.4858657412316,
          507.4906241912405,
          507.4952651323232,
          507.499791466338,
          507.5042060234825,
          507.508511564063,
          507.51271078022074,
          507.51680629761506,
          507.52080067706527,
          507.52469641615164,
          507.5284959507773,
          507.5322016566913,
          507.53581585097396,
          507.5393407934859,
          507.54277868828086,
          507.546131684984,
          507.5494018801359,
          507.5525913185036,
          507.55570199435886,
          507.5587358527255,
          507.56169479059525,
          507.56458065811415,
          507.56739525973916,
          507.5701403553666,
          507.57281766143257,
          507.57542885198603,
          507.57797555973576,
          507.58045937707107,
          507.58288185705754,
          507.5852445144082,
          507.5875488264305,
          507.5897962339501,
          507.59198814221173,
          507.594125921758,
          507.5962109092862,
          507.5982444084841,
          507.6002276908453,
          507.602161996464,
          507.60404853481066,
          507.605888485488,
          507.60768299896876,
          507.609433197315,
          507.6111401748797,
          507.61280499899107,
          507.61442871061973,
          507.6160123250298,
          507.6175568324138,
          507.61906319851147,
          507.6205323652139,
          507.6219652511523,
          507.6233627522726,
          507.6247257423955,
          507.62605507376287,
          507.62735157757055,
          507.62861606448826,
          507.6298493251664,
          507.63105213073044,
          507.632225233263,
          507.6333693662743,
          507.6344852451605,
          507.63557356765136,
          507.6366350142463,
          507.6376702486399,
          507.63867991813703,
          507.6396646540574,
          507.6406250721305,
          507.64156177288044,
          507.6424753420016,
          507.64336635072465,
          507.64423535617397,
          507.64508290171574,
          507.64590951729787,
          507.64671571978135,
          507.64750201326336,
          507.64826888939257,
          507.6490168276764,
          507.649746295781,
          507.6504577498235,
          507.6511516346575,
          507.65182838415086,
          507.65248842145724,
          507.6531321592806,
          507.6537600001332,
          507.6543723365875,
          507.6549695515214,
          507.6555520183575,
          507.6561201012972,
          507.65667415554765,
          507.65721452754445,
          507.657741555168,
          507.65825556795477,
          507.6587568873034,
          507.6592458266758,
          507.65972269179275,
          507.66018778082554,
          507.6606413845821,
          507.6610837866889,
          507.66151526376837,
          507.6619360856117,
          507.6623465153478,
          507.6627468096075,
          507.6631372186843,
          507.66351798669075,
          507.663889351711,
          507.6642515459499,
          507.66460479587795,
          507.66494932237305,
          507.6652853408585,
          507.6656130614378,
          507.6659326890261,
          507.666244423478,
          507.66654845971294,
          507.6668449878367,
          507.6671341932606,
          507.66741625681715,
          507.6676913548732,
          507.66795965944044,
          507.6682213382826,
          507.66847655502056,
          507.66872546923463,
          507.6689682365643,
          507.66920500880565,
          507.66943593400606,
          507.669661156557,
          507.6698808172843,
          507.67009505353593,
          507.6703039992682,
          507.67050778512936,
          507.67070653854137,
          507.6709003837795,
          507.67108944205006,
          507.6712738315663,
          507.671453667622,
          507.671629062664,
          507.6718001263622,
          507.67196696567817,
          507.6721296849322,
          507.67228838586834,
          507.6724431677181,
          507.67259412726247,
          507.67274135889255,
          507.67288495466835,
          507.67302500437654,
          507.6731615955865,
          507.6732948137052,
          507.6734247420303,
          507.6735514618027,
          507.6736750522568,
          507.6737955906705,
          507.6739131524134,
          507.6740278109936,
          507.67413963810424,
          507.6742487036678,
          507.6743550758801,
          507.6744588212529,
          507.6745600046555,
          507.67465868935517,
          507.67475493705683,
          507.67484880794166,
          507.6749403607046,
          507.6750296525913,
          507.6751167394336,
          507.6752016756845,
          507.67528451445247,
          507.67536530753443,
          507.67544410544815,
          507.6755209574639,
          507.67559591163524,
          507.675669014829,
          507.6757403127547,
          507.6758098499931,
          507.6758776700239,
          507.6759438152533,
          507.67600832704005,
          507.6760712457218,
          507.67613261063985,
          507.67619246016415,
          507.67625083171697,
          507.6763077617965,
          507.6763632859997,
          507.67641743904426,
          507.67647025479073,
          507.6765217662634,
          507.67657200567106,
          507.6766210044271,
          507.6766687931691,
          507.6767154017781,
          507.6767608593973,
          507.6768051944501,
          507.67684843465804,
          507.6768906070581,
          507.6769317380196,
          507.6769718532606,
          507.67701097786414,
          507.6770491362938,
          507.67708635240905,
          507.6771226494801,
          507.6771580502026,
          507.67719257671166,
          507.6772262505958,
          507.67725909291045,
          507.677291124191,
          507.6773223644658,
          507.67735283326857,
          507.67738254965064,
          507.6774115321929,
          507.6774397990173,
          507.6774673677984,
          507.6774942557742,
          507.6775204797571,
          507.67754605614425,
          507.67757100092786,
          507.67759532970524,
          507.67761905768856,
          507.67764219971434,
          507.67766477025265,
          507.6776867834162,
          507.67770825296935,
          507.67772919233636,
          507.6777496146101,
          507.67776953256003,
          507.67778895864035,
          507.6778079049977,
          507.6778263834787,
          507.67784440563753,
          507.6778619827429,
          507.67787912578535,
          507.67789584548393,
          507.67791215229306,
          507.677928056409,
          507.6779435677761,
          507.67795869609324,
          507.67797345081976,
          507.6779878411814,
          507.67800187617604,
          507.6780155645794,
          507.6780289149506,
          507.6780419356371,
          507.6780546347805,
          507.67806702032124,
          507.67807910000363,
          507.6780908813808,
          507.6781023718193,
          507.6781135785039,
          507.6781245084417,
          507.678135168467,
          507.6781455652452,
          507.6781557052771,
          507.6781655949031,
          507.6781752403068,
          507.67818464751934,
          507.6781938224227,
          507.6782027707538,
          507.67821149810766,
          507.67822000994136,
          507.67822831157713,
          507.67823640820575,
          507.6782443048898,
          507.6782520065669,
          507.6782595180527,
          507.67826684404395,
          507.67827398912135,
          507.6782809577526,
          507.6782877542949,
          507.67829438299805,
          507.67830084800676,
          507.67830715336345,
          507.67831330301067,
          507.67831930079365,
          507.6783251504626,
          507.67833085567526,
          507.67833641999886,
          507.67834184691264,
          507.67834713980994,
          507.67835230200023,
          507.6783573367113,
          507.6783622470913,
          507.67836703621043,
          507.67837170706326,
          507.6783762625704,
          507.6783807055802,
          507.67838503887083,
          507.67838926515174,
          507.6783933870655,
          507.6783974071895,
          507.67840132803735,
          507.67840515206075,
          507.6784088816507,
          507.67841251913916,
          507.6784160668006,
          507.6784195268533,
          507.67842290146075,
          507.67842619273296,
          507.6784294027279,
          507.6784325334527,
          507.67843558686485,
          507.67843856487366,
          507.6784414693412,
          507.67844430208345,
          507.67844706487176,
          507.6784497594336,
          507.6784523874538,
          507.67845495057554,
          507.67845745040154,
          507.6784598884949,
          507.67846226638005,
          507.6784645855438,
          507.6784668474363,
          507.6784690534719,
          507.67847120502984,
          507.6784733034555,
          507.67847535006103,
          507.67847734612604,
          507.67847929289866,
          507.6784811915961,
          507.6784830434056,
          507.6784848494851,
          507.6784866109638,
          507.67848832894316,
          507.6784900044974,
          507.6784916386742,
          507.67849323249527,
          507.6784947869573,
          507.6784963030322,
          507.67849778166794,
          507.6784992237891,
          507.6785006302974,
          507.6785020020722,
          507.67850333997137,
          507.6785046448314,
          507.67850591746816,
          507.67850715867746,
          507.6785083692353,
          507.6785095498987,
          507.67851070140586,
          507.6785118244768,
          507.6785129198137,
          507.67851398810154,
          507.6785150300082,
          507.6785160461852,
          507.67851703726797,
          507.6785180038761,
          507.6785189466141,
          507.6785198660713,
          507.67852076282276,
          507.6785216374291,
          507.6785224904373,
          507.67852332238056,
          507.67852413377915,
          507.67852492514044,
          507.67852569695924,
          507.6785264497181,
          507.67852718388775,
          507.67852789992725,
          507.6785285982843,
          507.67852927939555,
          507.67852994368695,
          507.6785305915738,
          507.6785312234612,
          507.6785318397443,
          507.6785324408084,
          507.67853302702935,
          507.6785335987737,
          507.67853415639894,
          507.67853470025375,
          507.67853523067816,
          507.67853574800387,
          507.6785362525543,
          507.678536744645,
          507.6785372245836,
          507.6785376926702,
          507.67853814919755,
          507.678538594451,
          507.67853902870905,
          507.6785394522432,
          507.6785398653182,
          507.6785402681925,
          507.67854066111784,
          507.67854104433997,
          507.6785414180985,
          507.6785417826272,
          507.6785421381539,
          507.6785424849009,
          507.6785428230851,
          507.6785431529179,
          507.67854347460553,
          507.6785437883492,
          507.678544094345,
          507.6785443927843,
          507.6785446838537,
          507.6785449677352,
          507.6785452446063,
          507.6785455146402,
          507.67854577800557,
          507.6785460348672,
          507.6785462853857,
          507.6785465297177,
          507.678546768016,
          507.6785470004296,
          507.67854722710376,
          507.67854744818027,
          507.6785476637973,
          507.67854787408976,
          507.67854807918906,
          507.6785482792235,
          507.6785484743181,
          507.6785486645949,
          507.6785488501729,
          507.678549031168,
          507.6785492076935,
          507.6785493798597,
          507.6785495477743,
          507.6785497115423,
          507.6785498712661,
          507.67855002704556,
          507.67855017897807,
          507.67855032715863,
          507.6785504716799,
          507.67855061263225,
          507.6785507501038,
          507.67855088418054,
          507.67855101494627,
          507.6785511424828,
          507.6785512668698,
          507.6785513881851,
          507.67855150650456,
          507.67855162190216,
          507.67855173445,
          507.67855184421853,
          507.67855195127635,
          507.6785520556904,
          507.6785521575259,
          507.6785522568467,
          507.67855235371474,
          507.67855244819066,
          507.6785525403335,
          507.6785526302009,
          507.678552717849,
          507.6785528033327,
          507.6785528867054,
          507.67855296801923,
          507.678553047325,
          507.67855312467236,
          507.6785532001096,
          507.678553273684,
          507.6785533454414,
          507.6785534154268,
          507.6785534836839,
          507.67855355025546,
          507.67855361518303,
          507.6785536785072,
          507.67855374026766,
          507.6785538005029,
          507.6785538592507,
          507.67855391654774,
          507.6785539724298,
          507.6785540269319,
          507.6785540800881,
          507.67855413193155,
          507.67855418249474,
          507.6785542318093,
          507.67855427990605,
          507.67855432681506,
          507.67855437256566,
          507.67855441718643,
          507.67855446070536,
          507.67855450314954,
          507.6785545445456,
          507.67855458491937,
          507.6785546242961,
          507.6785546627005,
          507.6785547001565,
          507.6785547366875,
          507.6785547723164,
          507.67855480706544,
          507.67855484095634,
          507.67855487401033,
          507.67855490624805,
          507.6785549376897,
          507.6785549683549,
          507.67855499826277,
          507.6785550274321,
          507.6785550558811,
          507.67855508362754,
          507.6785551106888,
          507.67855513708184,
          507.6785551628231,
          507.6785551879287,
          507.67855521241427,
          507.67855523629515,
          507.67855525958635,
          507.67855528230234,
          507.6785553044574,
          507.67855532606535,
          507.67855534713965,
          507.67855536769355,
          507.6785553877399,
          507.6785554072912,
          507.67855542635965,
          507.6785554449572,
          507.67855546309556,
          507.678555480786,
          507.6785554980395,
          507.67855551486696,
          507.67855553127885,
          507.67855554728544,
          507.6785555628968,
          507.6785555781226,
          507.67855559297243,
          507.67855560745556,
          507.67855562158104,
          507.67855563535767,
          507.6785556487941,
          507.6785556618987,
          507.6785556746797,
          507.6785556871451,
          507.67855569930265,
          507.67855571115996,
          507.67855572272447,
          507.6785557340034,
          507.6785557450038,
          507.67855575573253,
          507.6785557661963,
          507.6785557764017,
          507.67855578635505,
          507.6785557960626,
          507.67855580553044,
          507.6785558147645,
          507.67855582377047,
          507.6785558325541,
          507.6785558411208,
          507.6785558494759,
          507.6785558576247,
          507.67855586557226,
          507.6785558733236,
          507.6785558808835,
          507.6785558882567,
          507.67855589544786,
          507.6785559024614,
          507.6785559093018,
          507.6785559159732,
          507.6785559224799,
          507.6785559288259,
          507.6785559350152,
          507.6785559410516,
          507.678555946939,
          507.678555952681,
          507.67855595828115,
          507.67855596374307,
          507.6785559690701,
          507.6785559742655,
          507.67855597933266,
          507.6785559842747,
          507.67855598909466,
          507.6785559937956,
          507.6785559983805,
          507.67855600285213,
          507.67855600721333,
          507.67855601146687,
          507.67855601561536,
          507.6785560196614,
          507.67855602360754,
          507.6785560274562,
          507.6785560312098,
          507.6785560348707,
          507.67855603844123,
          507.67855604192357,
          507.6785560453199,
          507.6785560486324,
          507.6785560518631,
          507.678556055014,
          507.67855605808705,
          507.67855606108424,
          507.6785560640074,
          507.6785560668584,
          507.678556069639,
          507.67855607235094,
          507.6785560749959,
          507.6785560775756,
          507.67855608009154,
          507.67855608254536,
          507.6785560849386,
          507.6785560872727,
          507.67855608954915,
          507.6785560917694,
          507.67855609393484,
          507.6785560960468,
          507.6785560981066,
          507.6785561001155,
          507.6785561020748,
          507.6785561039857,
          507.67855610584945,
          507.6785561076672,
          507.67855610944,
          507.6785561111691,
          507.67855611285546,
          507.67855611450017,
          507.67855611610423,
          507.67855611766873,
          507.6785561191946,
          507.67855612068274,
          507.6785561221342,
          507.67855612354975,
          507.67855612493037,
          507.6785561262769,
          507.6785561275901,
          507.678556128871,
          507.67855613012017,
          507.67855613133855,
          507.6785561325268,
          507.67855613368573,
          507.67855613481606,
          507.6785561359185,
          507.6785561369937,
          507.67855613804227,
          507.678556139065,
          507.6785561400625,
          507.6785561410353,
          507.67855614198413,
          507.6785561429095,
          507.678556143812,
          507.6785561446922,
          507.6785561455507,
          507.678556146388,
          507.67855614720463,
          507.67855614800106,
          507.67855614877783,
          507.67855614953544,
          507.67855615027435,
          507.678556150995,
          507.6785561516979,
          507.67855615238335,
          507.67855615305194,
          507.678556153704,
          507.67855615433996,
          507.67855615496023,
          507.67855615556516,
          507.67855615615514,
          507.67855615673056,
          507.6785561572918,
          507.6785561578391,
          507.67855615837294,
          507.6785561588936,
          507.6785561594014,
          507.6785561598967,
          507.67855616037974,
          507.67855616085086,
          507.6785561613103,
          507.6785561617584,
          507.6785561621955,
          507.67855616262176,
          507.6785561630375,
          507.678556163443,
          507.67855616383844,
          507.6785561642241,
          507.6785561646003,
          507.6785561649672,
          507.678556165325,
          507.67855616567397,
          507.67855616601435,
          507.6785561663463,
          507.6785561666701,
          507.67855616698586,
          507.67855616729383,
          507.6785561675942,
          507.67855616788717,
          507.67855616817286,
          507.6785561684515,
          507.6785561687233,
          507.67855616898834,
          507.67855616924686,
          507.678556169499,
          507.6785561697449,
          507.67855616998474,
          507.67855617021866,
          507.67855617044677,
          507.67855617066925,
          507.6785561708863,
          507.6785561710979,
          507.6785561713043,
          507.67855617150565,
          507.678556171702,
          507.6785561718935,
          507.6785561720803,
          507.67855617226246,
          507.6785561724401
         ],
         "yaxis": "y"
        }
       ],
       "layout": {
        "legend": {
         "tracegroupgap": 0
        },
        "template": {
         "data": {
          "bar": [
           {
            "error_x": {
             "color": "#2a3f5f"
            },
            "error_y": {
             "color": "#2a3f5f"
            },
            "marker": {
             "line": {
              "color": "#E5ECF6",
              "width": 0.5
             },
             "pattern": {
              "fillmode": "overlay",
              "size": 10,
              "solidity": 0.2
             }
            },
            "type": "bar"
           }
          ],
          "barpolar": [
           {
            "marker": {
             "line": {
              "color": "#E5ECF6",
              "width": 0.5
             },
             "pattern": {
              "fillmode": "overlay",
              "size": 10,
              "solidity": 0.2
             }
            },
            "type": "barpolar"
           }
          ],
          "carpet": [
           {
            "aaxis": {
             "endlinecolor": "#2a3f5f",
             "gridcolor": "white",
             "linecolor": "white",
             "minorgridcolor": "white",
             "startlinecolor": "#2a3f5f"
            },
            "baxis": {
             "endlinecolor": "#2a3f5f",
             "gridcolor": "white",
             "linecolor": "white",
             "minorgridcolor": "white",
             "startlinecolor": "#2a3f5f"
            },
            "type": "carpet"
           }
          ],
          "choropleth": [
           {
            "colorbar": {
             "outlinewidth": 0,
             "ticks": ""
            },
            "type": "choropleth"
           }
          ],
          "contour": [
           {
            "colorbar": {
             "outlinewidth": 0,
             "ticks": ""
            },
            "colorscale": [
             [
              0,
              "#0d0887"
             ],
             [
              0.1111111111111111,
              "#46039f"
             ],
             [
              0.2222222222222222,
              "#7201a8"
             ],
             [
              0.3333333333333333,
              "#9c179e"
             ],
             [
              0.4444444444444444,
              "#bd3786"
             ],
             [
              0.5555555555555556,
              "#d8576b"
             ],
             [
              0.6666666666666666,
              "#ed7953"
             ],
             [
              0.7777777777777778,
              "#fb9f3a"
             ],
             [
              0.8888888888888888,
              "#fdca26"
             ],
             [
              1,
              "#f0f921"
             ]
            ],
            "type": "contour"
           }
          ],
          "contourcarpet": [
           {
            "colorbar": {
             "outlinewidth": 0,
             "ticks": ""
            },
            "type": "contourcarpet"
           }
          ],
          "heatmap": [
           {
            "colorbar": {
             "outlinewidth": 0,
             "ticks": ""
            },
            "colorscale": [
             [
              0,
              "#0d0887"
             ],
             [
              0.1111111111111111,
              "#46039f"
             ],
             [
              0.2222222222222222,
              "#7201a8"
             ],
             [
              0.3333333333333333,
              "#9c179e"
             ],
             [
              0.4444444444444444,
              "#bd3786"
             ],
             [
              0.5555555555555556,
              "#d8576b"
             ],
             [
              0.6666666666666666,
              "#ed7953"
             ],
             [
              0.7777777777777778,
              "#fb9f3a"
             ],
             [
              0.8888888888888888,
              "#fdca26"
             ],
             [
              1,
              "#f0f921"
             ]
            ],
            "type": "heatmap"
           }
          ],
          "heatmapgl": [
           {
            "colorbar": {
             "outlinewidth": 0,
             "ticks": ""
            },
            "colorscale": [
             [
              0,
              "#0d0887"
             ],
             [
              0.1111111111111111,
              "#46039f"
             ],
             [
              0.2222222222222222,
              "#7201a8"
             ],
             [
              0.3333333333333333,
              "#9c179e"
             ],
             [
              0.4444444444444444,
              "#bd3786"
             ],
             [
              0.5555555555555556,
              "#d8576b"
             ],
             [
              0.6666666666666666,
              "#ed7953"
             ],
             [
              0.7777777777777778,
              "#fb9f3a"
             ],
             [
              0.8888888888888888,
              "#fdca26"
             ],
             [
              1,
              "#f0f921"
             ]
            ],
            "type": "heatmapgl"
           }
          ],
          "histogram": [
           {
            "marker": {
             "pattern": {
              "fillmode": "overlay",
              "size": 10,
              "solidity": 0.2
             }
            },
            "type": "histogram"
           }
          ],
          "histogram2d": [
           {
            "colorbar": {
             "outlinewidth": 0,
             "ticks": ""
            },
            "colorscale": [
             [
              0,
              "#0d0887"
             ],
             [
              0.1111111111111111,
              "#46039f"
             ],
             [
              0.2222222222222222,
              "#7201a8"
             ],
             [
              0.3333333333333333,
              "#9c179e"
             ],
             [
              0.4444444444444444,
              "#bd3786"
             ],
             [
              0.5555555555555556,
              "#d8576b"
             ],
             [
              0.6666666666666666,
              "#ed7953"
             ],
             [
              0.7777777777777778,
              "#fb9f3a"
             ],
             [
              0.8888888888888888,
              "#fdca26"
             ],
             [
              1,
              "#f0f921"
             ]
            ],
            "type": "histogram2d"
           }
          ],
          "histogram2dcontour": [
           {
            "colorbar": {
             "outlinewidth": 0,
             "ticks": ""
            },
            "colorscale": [
             [
              0,
              "#0d0887"
             ],
             [
              0.1111111111111111,
              "#46039f"
             ],
             [
              0.2222222222222222,
              "#7201a8"
             ],
             [
              0.3333333333333333,
              "#9c179e"
             ],
             [
              0.4444444444444444,
              "#bd3786"
             ],
             [
              0.5555555555555556,
              "#d8576b"
             ],
             [
              0.6666666666666666,
              "#ed7953"
             ],
             [
              0.7777777777777778,
              "#fb9f3a"
             ],
             [
              0.8888888888888888,
              "#fdca26"
             ],
             [
              1,
              "#f0f921"
             ]
            ],
            "type": "histogram2dcontour"
           }
          ],
          "mesh3d": [
           {
            "colorbar": {
             "outlinewidth": 0,
             "ticks": ""
            },
            "type": "mesh3d"
           }
          ],
          "parcoords": [
           {
            "line": {
             "colorbar": {
              "outlinewidth": 0,
              "ticks": ""
             }
            },
            "type": "parcoords"
           }
          ],
          "pie": [
           {
            "automargin": true,
            "type": "pie"
           }
          ],
          "scatter": [
           {
            "fillpattern": {
             "fillmode": "overlay",
             "size": 10,
             "solidity": 0.2
            },
            "type": "scatter"
           }
          ],
          "scatter3d": [
           {
            "line": {
             "colorbar": {
              "outlinewidth": 0,
              "ticks": ""
             }
            },
            "marker": {
             "colorbar": {
              "outlinewidth": 0,
              "ticks": ""
             }
            },
            "type": "scatter3d"
           }
          ],
          "scattercarpet": [
           {
            "marker": {
             "colorbar": {
              "outlinewidth": 0,
              "ticks": ""
             }
            },
            "type": "scattercarpet"
           }
          ],
          "scattergeo": [
           {
            "marker": {
             "colorbar": {
              "outlinewidth": 0,
              "ticks": ""
             }
            },
            "type": "scattergeo"
           }
          ],
          "scattergl": [
           {
            "marker": {
             "colorbar": {
              "outlinewidth": 0,
              "ticks": ""
             }
            },
            "type": "scattergl"
           }
          ],
          "scattermapbox": [
           {
            "marker": {
             "colorbar": {
              "outlinewidth": 0,
              "ticks": ""
             }
            },
            "type": "scattermapbox"
           }
          ],
          "scatterpolar": [
           {
            "marker": {
             "colorbar": {
              "outlinewidth": 0,
              "ticks": ""
             }
            },
            "type": "scatterpolar"
           }
          ],
          "scatterpolargl": [
           {
            "marker": {
             "colorbar": {
              "outlinewidth": 0,
              "ticks": ""
             }
            },
            "type": "scatterpolargl"
           }
          ],
          "scatterternary": [
           {
            "marker": {
             "colorbar": {
              "outlinewidth": 0,
              "ticks": ""
             }
            },
            "type": "scatterternary"
           }
          ],
          "surface": [
           {
            "colorbar": {
             "outlinewidth": 0,
             "ticks": ""
            },
            "colorscale": [
             [
              0,
              "#0d0887"
             ],
             [
              0.1111111111111111,
              "#46039f"
             ],
             [
              0.2222222222222222,
              "#7201a8"
             ],
             [
              0.3333333333333333,
              "#9c179e"
             ],
             [
              0.4444444444444444,
              "#bd3786"
             ],
             [
              0.5555555555555556,
              "#d8576b"
             ],
             [
              0.6666666666666666,
              "#ed7953"
             ],
             [
              0.7777777777777778,
              "#fb9f3a"
             ],
             [
              0.8888888888888888,
              "#fdca26"
             ],
             [
              1,
              "#f0f921"
             ]
            ],
            "type": "surface"
           }
          ],
          "table": [
           {
            "cells": {
             "fill": {
              "color": "#EBF0F8"
             },
             "line": {
              "color": "white"
             }
            },
            "header": {
             "fill": {
              "color": "#C8D4E3"
             },
             "line": {
              "color": "white"
             }
            },
            "type": "table"
           }
          ]
         },
         "layout": {
          "annotationdefaults": {
           "arrowcolor": "#2a3f5f",
           "arrowhead": 0,
           "arrowwidth": 1
          },
          "autotypenumbers": "strict",
          "coloraxis": {
           "colorbar": {
            "outlinewidth": 0,
            "ticks": ""
           }
          },
          "colorscale": {
           "diverging": [
            [
             0,
             "#8e0152"
            ],
            [
             0.1,
             "#c51b7d"
            ],
            [
             0.2,
             "#de77ae"
            ],
            [
             0.3,
             "#f1b6da"
            ],
            [
             0.4,
             "#fde0ef"
            ],
            [
             0.5,
             "#f7f7f7"
            ],
            [
             0.6,
             "#e6f5d0"
            ],
            [
             0.7,
             "#b8e186"
            ],
            [
             0.8,
             "#7fbc41"
            ],
            [
             0.9,
             "#4d9221"
            ],
            [
             1,
             "#276419"
            ]
           ],
           "sequential": [
            [
             0,
             "#0d0887"
            ],
            [
             0.1111111111111111,
             "#46039f"
            ],
            [
             0.2222222222222222,
             "#7201a8"
            ],
            [
             0.3333333333333333,
             "#9c179e"
            ],
            [
             0.4444444444444444,
             "#bd3786"
            ],
            [
             0.5555555555555556,
             "#d8576b"
            ],
            [
             0.6666666666666666,
             "#ed7953"
            ],
            [
             0.7777777777777778,
             "#fb9f3a"
            ],
            [
             0.8888888888888888,
             "#fdca26"
            ],
            [
             1,
             "#f0f921"
            ]
           ],
           "sequentialminus": [
            [
             0,
             "#0d0887"
            ],
            [
             0.1111111111111111,
             "#46039f"
            ],
            [
             0.2222222222222222,
             "#7201a8"
            ],
            [
             0.3333333333333333,
             "#9c179e"
            ],
            [
             0.4444444444444444,
             "#bd3786"
            ],
            [
             0.5555555555555556,
             "#d8576b"
            ],
            [
             0.6666666666666666,
             "#ed7953"
            ],
            [
             0.7777777777777778,
             "#fb9f3a"
            ],
            [
             0.8888888888888888,
             "#fdca26"
            ],
            [
             1,
             "#f0f921"
            ]
           ]
          },
          "colorway": [
           "#636efa",
           "#EF553B",
           "#00cc96",
           "#ab63fa",
           "#FFA15A",
           "#19d3f3",
           "#FF6692",
           "#B6E880",
           "#FF97FF",
           "#FECB52"
          ],
          "font": {
           "color": "#2a3f5f"
          },
          "geo": {
           "bgcolor": "white",
           "lakecolor": "white",
           "landcolor": "#E5ECF6",
           "showlakes": true,
           "showland": true,
           "subunitcolor": "white"
          },
          "hoverlabel": {
           "align": "left"
          },
          "hovermode": "closest",
          "mapbox": {
           "style": "light"
          },
          "paper_bgcolor": "white",
          "plot_bgcolor": "#E5ECF6",
          "polar": {
           "angularaxis": {
            "gridcolor": "white",
            "linecolor": "white",
            "ticks": ""
           },
           "bgcolor": "#E5ECF6",
           "radialaxis": {
            "gridcolor": "white",
            "linecolor": "white",
            "ticks": ""
           }
          },
          "scene": {
           "xaxis": {
            "backgroundcolor": "#E5ECF6",
            "gridcolor": "white",
            "gridwidth": 2,
            "linecolor": "white",
            "showbackground": true,
            "ticks": "",
            "zerolinecolor": "white"
           },
           "yaxis": {
            "backgroundcolor": "#E5ECF6",
            "gridcolor": "white",
            "gridwidth": 2,
            "linecolor": "white",
            "showbackground": true,
            "ticks": "",
            "zerolinecolor": "white"
           },
           "zaxis": {
            "backgroundcolor": "#E5ECF6",
            "gridcolor": "white",
            "gridwidth": 2,
            "linecolor": "white",
            "showbackground": true,
            "ticks": "",
            "zerolinecolor": "white"
           }
          },
          "shapedefaults": {
           "line": {
            "color": "#2a3f5f"
           }
          },
          "ternary": {
           "aaxis": {
            "gridcolor": "white",
            "linecolor": "white",
            "ticks": ""
           },
           "baxis": {
            "gridcolor": "white",
            "linecolor": "white",
            "ticks": ""
           },
           "bgcolor": "#E5ECF6",
           "caxis": {
            "gridcolor": "white",
            "linecolor": "white",
            "ticks": ""
           }
          },
          "title": {
           "x": 0.05
          },
          "xaxis": {
           "automargin": true,
           "gridcolor": "white",
           "linecolor": "white",
           "ticks": "",
           "title": {
            "standoff": 15
           },
           "zerolinecolor": "white",
           "zerolinewidth": 2
          },
          "yaxis": {
           "automargin": true,
           "gridcolor": "white",
           "linecolor": "white",
           "ticks": "",
           "title": {
            "standoff": 15
           },
           "zerolinecolor": "white",
           "zerolinewidth": 2
          }
         }
        },
        "title": {
         "text": "Theta over epochs | Learning rate: 0.01"
        },
        "xaxis": {
         "anchor": "y",
         "domain": [
          0,
          1
         ],
         "title": {
          "text": "epoch"
         }
        },
        "yaxis": {
         "anchor": "x",
         "domain": [
          0,
          1
         ],
         "title": {
          "text": "theta"
         }
        }
       }
      }
     },
     "metadata": {},
     "output_type": "display_data"
    }
   ],
   "source": [
    "px.line(res_df, x='epoch', y='theta', title=f'Theta over epochs | Learning rate: {lr}')"
   ]
  },
  {
   "cell_type": "markdown",
   "metadata": {},
   "source": [
    "# Experiment with different learning rates"
   ]
  },
  {
   "cell_type": "code",
   "execution_count": 73,
   "metadata": {},
   "outputs": [
    {
     "name": "stderr",
     "output_type": "stream",
     "text": [
      "c:\\Users\\hayk_\\.conda\\envs\\100\\lib\\site-packages\\numpy\\core\\_methods.py:49: RuntimeWarning:\n",
      "\n",
      "overflow encountered in reduce\n",
      "\n",
      "C:\\Users\\hayk_\\AppData\\Local\\Temp\\ipykernel_11000\\2334900103.py:22: RuntimeWarning:\n",
      "\n",
      "invalid value encountered in scalar subtract\n",
      "\n"
     ]
    }
   ],
   "source": [
    "learning_rates = [0.001, 0.01, 0.1, 1, 10]\n",
    "\n",
    "model_comparison = {}\n",
    "\n",
    "for lr in learning_rates:\n",
    "    results = linear_regression(data[\"x\"], data[\"y\"], learning_rate=lr)\n",
    "    \n",
    "    del results['results']\n",
    "    \n",
    "    model_comparison[lr] = results\n",
    "    \n",
    " "
   ]
  },
  {
   "cell_type": "code",
   "execution_count": 83,
   "metadata": {},
   "outputs": [
    {
     "data": {
      "text/html": [
       "<div>\n",
       "<style scoped>\n",
       "    .dataframe tbody tr th:only-of-type {\n",
       "        vertical-align: middle;\n",
       "    }\n",
       "\n",
       "    .dataframe tbody tr th {\n",
       "        vertical-align: top;\n",
       "    }\n",
       "\n",
       "    .dataframe thead th {\n",
       "        text-align: right;\n",
       "    }\n",
       "</style>\n",
       "<table border=\"1\" class=\"dataframe\">\n",
       "  <thead>\n",
       "    <tr style=\"text-align: right;\">\n",
       "      <th></th>\n",
       "      <th>loss</th>\n",
       "      <th>theta</th>\n",
       "      <th>learning_rate</th>\n",
       "    </tr>\n",
       "  </thead>\n",
       "  <tbody>\n",
       "    <tr>\n",
       "      <th>0</th>\n",
       "      <td>2593.250102</td>\n",
       "      <td>4.648453e+02</td>\n",
       "      <td>0.001</td>\n",
       "    </tr>\n",
       "    <tr>\n",
       "      <th>1</th>\n",
       "      <td>327.886593</td>\n",
       "      <td>5.076786e+02</td>\n",
       "      <td>0.010</td>\n",
       "    </tr>\n",
       "    <tr>\n",
       "      <th>2</th>\n",
       "      <td>327.886593</td>\n",
       "      <td>5.076786e+02</td>\n",
       "      <td>0.100</td>\n",
       "    </tr>\n",
       "    <tr>\n",
       "      <th>3</th>\n",
       "      <td>inf</td>\n",
       "      <td>-7.395857e+169</td>\n",
       "      <td>1.000</td>\n",
       "    </tr>\n",
       "    <tr>\n",
       "      <th>4</th>\n",
       "      <td>0.000000</td>\n",
       "      <td>NaN</td>\n",
       "      <td>10.000</td>\n",
       "    </tr>\n",
       "  </tbody>\n",
       "</table>\n",
       "</div>"
      ],
      "text/plain": [
       "          loss          theta  learning_rate\n",
       "0  2593.250102   4.648453e+02          0.001\n",
       "1   327.886593   5.076786e+02          0.010\n",
       "2   327.886593   5.076786e+02          0.100\n",
       "3          inf -7.395857e+169          1.000\n",
       "4     0.000000            NaN         10.000"
      ]
     },
     "execution_count": 83,
     "metadata": {},
     "output_type": "execute_result"
    }
   ],
   "source": [
    "df_comp = pd.DataFrame(model_comparison).T\n",
    "df_comp.reset_index(inplace=True, drop=True)\n",
    "df_comp"
   ]
  },
  {
   "cell_type": "markdown",
   "metadata": {},
   "source": [
    "# Best model"
   ]
  },
  {
   "cell_type": "code",
   "execution_count": 84,
   "metadata": {},
   "outputs": [
    {
     "data": {
      "text/html": [
       "<div>\n",
       "<style scoped>\n",
       "    .dataframe tbody tr th:only-of-type {\n",
       "        vertical-align: middle;\n",
       "    }\n",
       "\n",
       "    .dataframe tbody tr th {\n",
       "        vertical-align: top;\n",
       "    }\n",
       "\n",
       "    .dataframe thead th {\n",
       "        text-align: right;\n",
       "    }\n",
       "</style>\n",
       "<table border=\"1\" class=\"dataframe\">\n",
       "  <thead>\n",
       "    <tr style=\"text-align: right;\">\n",
       "      <th></th>\n",
       "      <th>loss</th>\n",
       "      <th>theta</th>\n",
       "      <th>learning_rate</th>\n",
       "    </tr>\n",
       "  </thead>\n",
       "  <tbody>\n",
       "    <tr>\n",
       "      <th>1</th>\n",
       "      <td>327.886593</td>\n",
       "      <td>507.678556</td>\n",
       "      <td>0.01</td>\n",
       "    </tr>\n",
       "    <tr>\n",
       "      <th>2</th>\n",
       "      <td>327.886593</td>\n",
       "      <td>507.678556</td>\n",
       "      <td>0.10</td>\n",
       "    </tr>\n",
       "  </tbody>\n",
       "</table>\n",
       "</div>"
      ],
      "text/plain": [
       "         loss       theta  learning_rate\n",
       "1  327.886593  507.678556           0.01\n",
       "2  327.886593  507.678556           0.10"
      ]
     },
     "execution_count": 84,
     "metadata": {},
     "output_type": "execute_result"
    }
   ],
   "source": [
    "# drop NAs\n",
    "df_comp = df_comp.dropna()\n",
    "\n",
    "best_model = df_comp[df_comp['loss'] == df_comp['loss'].min()]\n",
    "best_model"
   ]
  },
  {
   "cell_type": "code",
   "execution_count": 86,
   "metadata": {},
   "outputs": [
    {
     "name": "stdout",
     "output_type": "stream",
     "text": [
      "Best learning rate: 1\n",
      "Best theta: 507.6785561724401\n"
     ]
    }
   ],
   "source": [
    "# let's just pick the first one\n",
    "best_lr = best_model.index[0]\n",
    "best_theta = best_model['theta'].values[0]\n",
    "\n",
    "print(f\"Best learning rate: {best_lr}\")\n",
    "print(f\"Best theta: {best_theta}\")"
   ]
  },
  {
   "cell_type": "code",
   "execution_count": 89,
   "metadata": {},
   "outputs": [
    {
     "data": {
      "application/vnd.plotly.v1+json": {
       "config": {
        "plotlyServerURL": "https://plot.ly"
       },
       "data": [
        {
         "hovertemplate": "x=%{x}<br>y=%{y}<extra></extra>",
         "legendgroup": "",
         "marker": {
          "color": "#636efa",
          "symbol": "circle"
         },
         "mode": "markers",
         "name": "",
         "orientation": "v",
         "showlegend": false,
         "type": "scatter",
         "x": [
          0.749080237694725,
          1.9014286128198323,
          1.4639878836228102,
          1.1973169683940732,
          0.312037280884873,
          0.3119890406724053,
          0.1161672243363989,
          1.7323522915498704,
          1.2022300234864176,
          1.416145155592091,
          0.0411689885916048,
          1.9398197043239889,
          1.6648852816008437,
          0.4246782213565523,
          0.3636499344142012,
          0.3668090197068676,
          0.6084844859190754,
          1.0495128632644757,
          0.8638900372842315,
          0.5824582803960838,
          1.223705789444759,
          0.2789877213040836,
          0.5842892970704363,
          0.7327236865873834,
          0.912139968434072,
          1.5703519227860272,
          0.3993475643167194,
          1.0284688768272232,
          1.184829137724085,
          0.0929008254399954,
          1.2150897038028767,
          0.341048247374583,
          0.130103185970559,
          1.8977710745066665,
          1.9312640661491187,
          1.6167946962329225,
          0.6092275383467414,
          0.1953442280127677,
          1.3684660530243138,
          0.8803049874792026,
          0.2440764696895576,
          0.9903538202225404,
          0.0687770422304367,
          1.818640804157564,
          0.5175599632000338,
          1.325044568707964,
          0.6234221521788219,
          1.0401360423556216,
          1.0934205586865593,
          0.3697089110510541,
          1.939169255529117,
          1.550265646722229,
          1.8789978831283785,
          1.7896547008552977,
          1.1957999576221705,
          1.8437484700462337,
          0.176985004103839,
          0.3919657248382904,
          0.0904545778210761,
          0.6506606615265287,
          0.777354579378964,
          0.5426980635477918,
          1.657475018303859,
          0.7135066533871786,
          0.5618690193747615,
          1.085392166316497,
          0.2818484499495253,
          1.6043939615080791,
          0.1491012873595416,
          1.9737738732010344,
          1.5444895385933148,
          0.3974313630683448,
          0.0110442342472047,
          1.6309228569096683,
          1.4137146876952342,
          1.4580143360819746,
          1.5425406933718917,
          0.1480893034681807,
          0.7169314570885452,
          0.2317381190502594,
          1.726206851751187,
          1.2465962536551158,
          0.6617960497052984,
          0.1271167005720472,
          0.6219646434313244,
          0.6503666440534941,
          1.459212356676128,
          1.2751149427104262,
          1.774425485152653,
          0.9444298503238986,
          0.2391884918766034,
          1.42648957444599,
          1.5215700972337949,
          1.1225543951389925,
          1.541934359909122,
          0.9875911927287816,
          1.045465658763988,
          0.8550820367170993,
          0.0508382534881903,
          0.2157828539866089
         ],
         "xaxis": "x",
         "y": [
          383.02278235137845,
          961.8470169159774,
          747.0050482947204,
          569.6829586205654,
          154.43353821365014,
          165.9446731324892,
          88.68699808205737,
          871.401912033411,
          595.7652098967228,
          710.7827433246836,
          39.26305754716837,
          993.943251694104,
          836.8314042594885,
          226.42656333275224,
          187.03936760378923,
          206.0786908414534,
          295.6775414552623,
          527.6488044696628,
          431.8778659150307,
          267.2009657589643,
          628.7886523686738,
          147.22585558737637,
          297.5055213417013,
          368.2646138054752,
          435.9718290919343,
          790.8962222427807,
          196.4136199066748,
          507.4451129206242,
          599.852316868239,
          55.36753728524845,
          656.2043772598748,
          177.08511417029956,
          71.37352947346983,
          964.47655860857,
          944.6379853639206,
          822.4182228735731,
          311.3014212173119,
          148.6950543082045,
          692.7020016937532,
          454.1061854735864,
          123.54068767787996,
          480.7165337408824,
          57.86397078559274,
          940.7268299699356,
          279.25866020967817,
          656.2599363764589,
          345.37776167774234,
          501.3922243031658,
          568.288206247464,
          231.9909482411861,
          967.2264245617068,
          777.7592595895592,
          958.4029498140974,
          900.8647296530226,
          577.6489098083621,
          939.8392307496534,
          68.83929281433194,
          208.98240255539343,
          27.652895426251693,
          362.18496481735394,
          380.008415057168,
          269.7920840217125,
          859.9251286640574,
          338.5576002453948,
          290.5405295538362,
          578.6074677407455,
          111.3111963330838,
          820.3292035782584,
          81.09021115097516,
          1020.2873588948728,
          761.4061609264356,
          175.88343154010198,
          16.060346544165196,
          836.0794276316849,
          724.5906330437917,
          749.0582612556645,
          771.552718494723,
          80.02252940852405,
          370.7795611240432,
          103.6676742360547,
          915.9547777642492,
          643.9941515286897,
          313.0281193559439,
          77.83347276384866,
          297.0863701019977,
          346.7783138980775,
          765.9110011282972,
          632.6198594725728,
          922.4500945275868,
          488.9704123535943,
          138.18814556508093,
          764.019053046088,
          769.5714171719442,
          556.3054638385973,
          767.0543006012326,
          486.36771139964105,
          530.5999861225879,
          442.0597961853364,
          31.410487012089284,
          126.3771376599044
         ],
         "yaxis": "y"
        },
        {
         "mode": "lines",
         "name": "Predictions",
         "type": "scatter",
         "x": [
          0.749080237694725,
          1.9014286128198323,
          1.4639878836228102,
          1.1973169683940732,
          0.312037280884873,
          0.3119890406724053,
          0.1161672243363989,
          1.7323522915498704,
          1.2022300234864176,
          1.416145155592091,
          0.0411689885916048,
          1.9398197043239889,
          1.6648852816008437,
          0.4246782213565523,
          0.3636499344142012,
          0.3668090197068676,
          0.6084844859190754,
          1.0495128632644757,
          0.8638900372842315,
          0.5824582803960838,
          1.223705789444759,
          0.2789877213040836,
          0.5842892970704363,
          0.7327236865873834,
          0.912139968434072,
          1.5703519227860272,
          0.3993475643167194,
          1.0284688768272232,
          1.184829137724085,
          0.0929008254399954,
          1.2150897038028767,
          0.341048247374583,
          0.130103185970559,
          1.8977710745066665,
          1.9312640661491187,
          1.6167946962329225,
          0.6092275383467414,
          0.1953442280127677,
          1.3684660530243138,
          0.8803049874792026,
          0.2440764696895576,
          0.9903538202225404,
          0.0687770422304367,
          1.818640804157564,
          0.5175599632000338,
          1.325044568707964,
          0.6234221521788219,
          1.0401360423556216,
          1.0934205586865593,
          0.3697089110510541,
          1.939169255529117,
          1.550265646722229,
          1.8789978831283785,
          1.7896547008552977,
          1.1957999576221705,
          1.8437484700462337,
          0.176985004103839,
          0.3919657248382904,
          0.0904545778210761,
          0.6506606615265287,
          0.777354579378964,
          0.5426980635477918,
          1.657475018303859,
          0.7135066533871786,
          0.5618690193747615,
          1.085392166316497,
          0.2818484499495253,
          1.6043939615080791,
          0.1491012873595416,
          1.9737738732010344,
          1.5444895385933148,
          0.3974313630683448,
          0.0110442342472047,
          1.6309228569096683,
          1.4137146876952342,
          1.4580143360819746,
          1.5425406933718917,
          0.1480893034681807,
          0.7169314570885452,
          0.2317381190502594,
          1.726206851751187,
          1.2465962536551158,
          0.6617960497052984,
          0.1271167005720472,
          0.6219646434313244,
          0.6503666440534941,
          1.459212356676128,
          1.2751149427104262,
          1.774425485152653,
          0.9444298503238986,
          0.2391884918766034,
          1.42648957444599,
          1.5215700972337949,
          1.1225543951389925,
          1.541934359909122,
          0.9875911927287816,
          1.045465658763988,
          0.8550820367170993,
          0.0508382534881903,
          0.2157828539866089
         ],
         "y": [
          380.2919735301662,
          965.314532821338,
          743.2352550115745,
          607.8521497950662,
          158.41463623160647,
          158.3901457101914,
          58.97560872566294,
          879.4781101560562,
          610.3464025107432,
          718.9465279215883,
          20.900612687265586,
          984.8048667260523,
          845.2265559558626,
          215.6000262561744,
          184.61727365560418,
          186.22107351581064,
          308.9145252647257,
          532.8151751065126,
          438.5784468202141,
          295.7015788221661,
          621.2491883651712,
          141.63608354149628,
          296.63114672372905,
          371.9881032800303,
          463.07390220178473,
          797.2339968426254,
          202.74019486329277,
          522.1315944559358,
          601.5123459508006,
          47.163756926604755,
          616.8749864466423,
          173.14288181226948,
          66.05059760696786,
          963.4576790513647,
          980.4613526903005,
          820.811997010789,
          309.29175704836354,
          99.17207563414183,
          694.7408699703815,
          446.9119650348395,
          123.91238972766094,
          502.7813975504396,
          34.91662949735904,
          923.2849376509974,
          262.7540948500544,
          672.6967135057928,
          316.4980581040595,
          528.054764206018,
          555.1061705232552,
          187.69328616648423,
          984.4746478210076,
          787.0366252116754,
          953.9269323576865,
          908.5693145774377,
          607.0819959566886,
          936.0315612182173,
          89.85149134761036,
          198.9925932549872,
          45.92184946739154,
          330.32646520199285,
          394.6462504931469,
          275.5161693395221,
          841.4645241843918,
          362.2320276110325,
          285.2488525142037,
          551.0303278764361,
          143.08841412981525,
          814.516409910203,
          75.69552629014417,
          1002.042670157586,
          784.1042189764922,
          201.76738058018213,
          5.606920896651098,
          827.9845612245315,
          717.7126314888886,
          740.2026130208156,
          783.1148320482766,
          75.1817637693083,
          363.9707270093163,
          117.64847368955273,
          876.358202152016,
          632.8701861856022,
          335.9796629950103,
          64.5344230118213,
          315.7581121675213,
          330.17719883579315,
          740.8108223863203,
          647.3485130691329,
          900.8377683378804,
          479.46678281859056,
          121.43086820897743,
          724.1981675497788,
          772.4685100788123,
          569.8967945491905,
          782.8070095513386,
          501.37887081316586,
          530.7604961691703,
          434.1068138095264,
          25.80949112921297,
          109.54832775869006
         ]
        },
        {
         "mode": "lines",
         "name": "True line",
         "type": "scatter",
         "x": [
          0.749080237694725,
          1.9014286128198323,
          1.4639878836228102,
          1.1973169683940732,
          0.312037280884873,
          0.3119890406724053,
          0.1161672243363989,
          1.7323522915498704,
          1.2022300234864176,
          1.416145155592091,
          0.0411689885916048,
          1.9398197043239889,
          1.6648852816008437,
          0.4246782213565523,
          0.3636499344142012,
          0.3668090197068676,
          0.6084844859190754,
          1.0495128632644757,
          0.8638900372842315,
          0.5824582803960838,
          1.223705789444759,
          0.2789877213040836,
          0.5842892970704363,
          0.7327236865873834,
          0.912139968434072,
          1.5703519227860272,
          0.3993475643167194,
          1.0284688768272232,
          1.184829137724085,
          0.0929008254399954,
          1.2150897038028767,
          0.341048247374583,
          0.130103185970559,
          1.8977710745066665,
          1.9312640661491187,
          1.6167946962329225,
          0.6092275383467414,
          0.1953442280127677,
          1.3684660530243138,
          0.8803049874792026,
          0.2440764696895576,
          0.9903538202225404,
          0.0687770422304367,
          1.818640804157564,
          0.5175599632000338,
          1.325044568707964,
          0.6234221521788219,
          1.0401360423556216,
          1.0934205586865593,
          0.3697089110510541,
          1.939169255529117,
          1.550265646722229,
          1.8789978831283785,
          1.7896547008552977,
          1.1957999576221705,
          1.8437484700462337,
          0.176985004103839,
          0.3919657248382904,
          0.0904545778210761,
          0.6506606615265287,
          0.777354579378964,
          0.5426980635477918,
          1.657475018303859,
          0.7135066533871786,
          0.5618690193747615,
          1.085392166316497,
          0.2818484499495253,
          1.6043939615080791,
          0.1491012873595416,
          1.9737738732010344,
          1.5444895385933148,
          0.3974313630683448,
          0.0110442342472047,
          1.6309228569096683,
          1.4137146876952342,
          1.4580143360819746,
          1.5425406933718917,
          0.1480893034681807,
          0.7169314570885452,
          0.2317381190502594,
          1.726206851751187,
          1.2465962536551158,
          0.6617960497052984,
          0.1271167005720472,
          0.6219646434313244,
          0.6503666440534941,
          1.459212356676128,
          1.2751149427104262,
          1.774425485152653,
          0.9444298503238986,
          0.2391884918766034,
          1.42648957444599,
          1.5215700972337949,
          1.1225543951389925,
          1.541934359909122,
          0.9875911927287816,
          1.045465658763988,
          0.8550820367170993,
          0.0508382534881903,
          0.2157828539866089
         ],
         "y": [
          381.281840986615,
          967.8271639252947,
          745.1698327640104,
          609.4343369125833,
          158.82697597040035,
          158.8024217022543,
          59.12911718722704,
          881.767316398884,
          611.9350819545865,
          720.8178841963743,
          20.955015193126844,
          987.3682295009104,
          847.4266083348294,
          216.16121467048512,
          185.0978166168284,
          186.7057910307956,
          309.7186033328094,
          534.2020474016181,
          439.72002897767385,
          296.47126472160664,
          622.8662468273823,
          142.00475014377855,
          297.4032522088521,
          372.95635647297814,
          464.2792439329426,
          799.3091286980879,
          203.26791023721017,
          523.4906583050566,
          603.0780311015592,
          47.286520148957656,
          618.4806592356642,
          173.59355791366275,
          66.22252165901453,
          965.9654769238932,
          983.0134096699014,
          822.9485003825575,
          310.0968170184914,
          99.43021205849877,
          696.5492209893757,
          448.07523862691414,
          124.23492307198481,
          504.09009449327306,
          35.00751449529228,
          925.6881693162001,
          263.43802126881724,
          674.4476854723537,
          317.32187545902036,
          529.4292455590114,
          556.5510643714587,
          188.1818357249865,
          987.0371510643205,
          789.0852141816146,
          956.4099225123447,
          910.9342427353465,
          608.6621784296848,
          938.4679712535329,
          90.08536708885404,
          199.51055394268982,
          46.04138011092774,
          331.1862767170031,
          395.6734809038927,
          276.23331434582605,
          843.6547843166642,
          363.17488657407387,
          285.9913308617536,
          552.464612655097,
          143.46086102430837,
          816.6365264076122,
          75.89255526600667,
          1004.6509014593265,
          786.1451751439972,
          202.2925638017875,
          5.621515231827192,
          830.1397341670212,
          719.5807760368742,
          742.129297065725,
          785.1532129262929,
          75.37745546530397,
          364.9181116580695,
          117.95470259658204,
          878.6392875413542,
          634.517493110454,
          336.85418929999685,
          64.70240059117202,
          316.58000350654413,
          331.0366218232285,
          742.7390895481491,
          649.033505839607,
          903.1825719427004,
          480.7147938148644,
          121.74694236519113,
          726.083193393009,
          774.4791794920015,
          571.3801871257472,
          784.8445891937431,
          502.68391709894985,
          532.1420203108698,
          435.2367566890035,
          25.876671025488864,
          109.83347267918393
         ]
        }
       ],
       "layout": {
        "legend": {
         "tracegroupgap": 0
        },
        "template": {
         "data": {
          "bar": [
           {
            "error_x": {
             "color": "#2a3f5f"
            },
            "error_y": {
             "color": "#2a3f5f"
            },
            "marker": {
             "line": {
              "color": "#E5ECF6",
              "width": 0.5
             },
             "pattern": {
              "fillmode": "overlay",
              "size": 10,
              "solidity": 0.2
             }
            },
            "type": "bar"
           }
          ],
          "barpolar": [
           {
            "marker": {
             "line": {
              "color": "#E5ECF6",
              "width": 0.5
             },
             "pattern": {
              "fillmode": "overlay",
              "size": 10,
              "solidity": 0.2
             }
            },
            "type": "barpolar"
           }
          ],
          "carpet": [
           {
            "aaxis": {
             "endlinecolor": "#2a3f5f",
             "gridcolor": "white",
             "linecolor": "white",
             "minorgridcolor": "white",
             "startlinecolor": "#2a3f5f"
            },
            "baxis": {
             "endlinecolor": "#2a3f5f",
             "gridcolor": "white",
             "linecolor": "white",
             "minorgridcolor": "white",
             "startlinecolor": "#2a3f5f"
            },
            "type": "carpet"
           }
          ],
          "choropleth": [
           {
            "colorbar": {
             "outlinewidth": 0,
             "ticks": ""
            },
            "type": "choropleth"
           }
          ],
          "contour": [
           {
            "colorbar": {
             "outlinewidth": 0,
             "ticks": ""
            },
            "colorscale": [
             [
              0,
              "#0d0887"
             ],
             [
              0.1111111111111111,
              "#46039f"
             ],
             [
              0.2222222222222222,
              "#7201a8"
             ],
             [
              0.3333333333333333,
              "#9c179e"
             ],
             [
              0.4444444444444444,
              "#bd3786"
             ],
             [
              0.5555555555555556,
              "#d8576b"
             ],
             [
              0.6666666666666666,
              "#ed7953"
             ],
             [
              0.7777777777777778,
              "#fb9f3a"
             ],
             [
              0.8888888888888888,
              "#fdca26"
             ],
             [
              1,
              "#f0f921"
             ]
            ],
            "type": "contour"
           }
          ],
          "contourcarpet": [
           {
            "colorbar": {
             "outlinewidth": 0,
             "ticks": ""
            },
            "type": "contourcarpet"
           }
          ],
          "heatmap": [
           {
            "colorbar": {
             "outlinewidth": 0,
             "ticks": ""
            },
            "colorscale": [
             [
              0,
              "#0d0887"
             ],
             [
              0.1111111111111111,
              "#46039f"
             ],
             [
              0.2222222222222222,
              "#7201a8"
             ],
             [
              0.3333333333333333,
              "#9c179e"
             ],
             [
              0.4444444444444444,
              "#bd3786"
             ],
             [
              0.5555555555555556,
              "#d8576b"
             ],
             [
              0.6666666666666666,
              "#ed7953"
             ],
             [
              0.7777777777777778,
              "#fb9f3a"
             ],
             [
              0.8888888888888888,
              "#fdca26"
             ],
             [
              1,
              "#f0f921"
             ]
            ],
            "type": "heatmap"
           }
          ],
          "heatmapgl": [
           {
            "colorbar": {
             "outlinewidth": 0,
             "ticks": ""
            },
            "colorscale": [
             [
              0,
              "#0d0887"
             ],
             [
              0.1111111111111111,
              "#46039f"
             ],
             [
              0.2222222222222222,
              "#7201a8"
             ],
             [
              0.3333333333333333,
              "#9c179e"
             ],
             [
              0.4444444444444444,
              "#bd3786"
             ],
             [
              0.5555555555555556,
              "#d8576b"
             ],
             [
              0.6666666666666666,
              "#ed7953"
             ],
             [
              0.7777777777777778,
              "#fb9f3a"
             ],
             [
              0.8888888888888888,
              "#fdca26"
             ],
             [
              1,
              "#f0f921"
             ]
            ],
            "type": "heatmapgl"
           }
          ],
          "histogram": [
           {
            "marker": {
             "pattern": {
              "fillmode": "overlay",
              "size": 10,
              "solidity": 0.2
             }
            },
            "type": "histogram"
           }
          ],
          "histogram2d": [
           {
            "colorbar": {
             "outlinewidth": 0,
             "ticks": ""
            },
            "colorscale": [
             [
              0,
              "#0d0887"
             ],
             [
              0.1111111111111111,
              "#46039f"
             ],
             [
              0.2222222222222222,
              "#7201a8"
             ],
             [
              0.3333333333333333,
              "#9c179e"
             ],
             [
              0.4444444444444444,
              "#bd3786"
             ],
             [
              0.5555555555555556,
              "#d8576b"
             ],
             [
              0.6666666666666666,
              "#ed7953"
             ],
             [
              0.7777777777777778,
              "#fb9f3a"
             ],
             [
              0.8888888888888888,
              "#fdca26"
             ],
             [
              1,
              "#f0f921"
             ]
            ],
            "type": "histogram2d"
           }
          ],
          "histogram2dcontour": [
           {
            "colorbar": {
             "outlinewidth": 0,
             "ticks": ""
            },
            "colorscale": [
             [
              0,
              "#0d0887"
             ],
             [
              0.1111111111111111,
              "#46039f"
             ],
             [
              0.2222222222222222,
              "#7201a8"
             ],
             [
              0.3333333333333333,
              "#9c179e"
             ],
             [
              0.4444444444444444,
              "#bd3786"
             ],
             [
              0.5555555555555556,
              "#d8576b"
             ],
             [
              0.6666666666666666,
              "#ed7953"
             ],
             [
              0.7777777777777778,
              "#fb9f3a"
             ],
             [
              0.8888888888888888,
              "#fdca26"
             ],
             [
              1,
              "#f0f921"
             ]
            ],
            "type": "histogram2dcontour"
           }
          ],
          "mesh3d": [
           {
            "colorbar": {
             "outlinewidth": 0,
             "ticks": ""
            },
            "type": "mesh3d"
           }
          ],
          "parcoords": [
           {
            "line": {
             "colorbar": {
              "outlinewidth": 0,
              "ticks": ""
             }
            },
            "type": "parcoords"
           }
          ],
          "pie": [
           {
            "automargin": true,
            "type": "pie"
           }
          ],
          "scatter": [
           {
            "fillpattern": {
             "fillmode": "overlay",
             "size": 10,
             "solidity": 0.2
            },
            "type": "scatter"
           }
          ],
          "scatter3d": [
           {
            "line": {
             "colorbar": {
              "outlinewidth": 0,
              "ticks": ""
             }
            },
            "marker": {
             "colorbar": {
              "outlinewidth": 0,
              "ticks": ""
             }
            },
            "type": "scatter3d"
           }
          ],
          "scattercarpet": [
           {
            "marker": {
             "colorbar": {
              "outlinewidth": 0,
              "ticks": ""
             }
            },
            "type": "scattercarpet"
           }
          ],
          "scattergeo": [
           {
            "marker": {
             "colorbar": {
              "outlinewidth": 0,
              "ticks": ""
             }
            },
            "type": "scattergeo"
           }
          ],
          "scattergl": [
           {
            "marker": {
             "colorbar": {
              "outlinewidth": 0,
              "ticks": ""
             }
            },
            "type": "scattergl"
           }
          ],
          "scattermapbox": [
           {
            "marker": {
             "colorbar": {
              "outlinewidth": 0,
              "ticks": ""
             }
            },
            "type": "scattermapbox"
           }
          ],
          "scatterpolar": [
           {
            "marker": {
             "colorbar": {
              "outlinewidth": 0,
              "ticks": ""
             }
            },
            "type": "scatterpolar"
           }
          ],
          "scatterpolargl": [
           {
            "marker": {
             "colorbar": {
              "outlinewidth": 0,
              "ticks": ""
             }
            },
            "type": "scatterpolargl"
           }
          ],
          "scatterternary": [
           {
            "marker": {
             "colorbar": {
              "outlinewidth": 0,
              "ticks": ""
             }
            },
            "type": "scatterternary"
           }
          ],
          "surface": [
           {
            "colorbar": {
             "outlinewidth": 0,
             "ticks": ""
            },
            "colorscale": [
             [
              0,
              "#0d0887"
             ],
             [
              0.1111111111111111,
              "#46039f"
             ],
             [
              0.2222222222222222,
              "#7201a8"
             ],
             [
              0.3333333333333333,
              "#9c179e"
             ],
             [
              0.4444444444444444,
              "#bd3786"
             ],
             [
              0.5555555555555556,
              "#d8576b"
             ],
             [
              0.6666666666666666,
              "#ed7953"
             ],
             [
              0.7777777777777778,
              "#fb9f3a"
             ],
             [
              0.8888888888888888,
              "#fdca26"
             ],
             [
              1,
              "#f0f921"
             ]
            ],
            "type": "surface"
           }
          ],
          "table": [
           {
            "cells": {
             "fill": {
              "color": "#EBF0F8"
             },
             "line": {
              "color": "white"
             }
            },
            "header": {
             "fill": {
              "color": "#C8D4E3"
             },
             "line": {
              "color": "white"
             }
            },
            "type": "table"
           }
          ]
         },
         "layout": {
          "annotationdefaults": {
           "arrowcolor": "#2a3f5f",
           "arrowhead": 0,
           "arrowwidth": 1
          },
          "autotypenumbers": "strict",
          "coloraxis": {
           "colorbar": {
            "outlinewidth": 0,
            "ticks": ""
           }
          },
          "colorscale": {
           "diverging": [
            [
             0,
             "#8e0152"
            ],
            [
             0.1,
             "#c51b7d"
            ],
            [
             0.2,
             "#de77ae"
            ],
            [
             0.3,
             "#f1b6da"
            ],
            [
             0.4,
             "#fde0ef"
            ],
            [
             0.5,
             "#f7f7f7"
            ],
            [
             0.6,
             "#e6f5d0"
            ],
            [
             0.7,
             "#b8e186"
            ],
            [
             0.8,
             "#7fbc41"
            ],
            [
             0.9,
             "#4d9221"
            ],
            [
             1,
             "#276419"
            ]
           ],
           "sequential": [
            [
             0,
             "#0d0887"
            ],
            [
             0.1111111111111111,
             "#46039f"
            ],
            [
             0.2222222222222222,
             "#7201a8"
            ],
            [
             0.3333333333333333,
             "#9c179e"
            ],
            [
             0.4444444444444444,
             "#bd3786"
            ],
            [
             0.5555555555555556,
             "#d8576b"
            ],
            [
             0.6666666666666666,
             "#ed7953"
            ],
            [
             0.7777777777777778,
             "#fb9f3a"
            ],
            [
             0.8888888888888888,
             "#fdca26"
            ],
            [
             1,
             "#f0f921"
            ]
           ],
           "sequentialminus": [
            [
             0,
             "#0d0887"
            ],
            [
             0.1111111111111111,
             "#46039f"
            ],
            [
             0.2222222222222222,
             "#7201a8"
            ],
            [
             0.3333333333333333,
             "#9c179e"
            ],
            [
             0.4444444444444444,
             "#bd3786"
            ],
            [
             0.5555555555555556,
             "#d8576b"
            ],
            [
             0.6666666666666666,
             "#ed7953"
            ],
            [
             0.7777777777777778,
             "#fb9f3a"
            ],
            [
             0.8888888888888888,
             "#fdca26"
            ],
            [
             1,
             "#f0f921"
            ]
           ]
          },
          "colorway": [
           "#636efa",
           "#EF553B",
           "#00cc96",
           "#ab63fa",
           "#FFA15A",
           "#19d3f3",
           "#FF6692",
           "#B6E880",
           "#FF97FF",
           "#FECB52"
          ],
          "font": {
           "color": "#2a3f5f"
          },
          "geo": {
           "bgcolor": "white",
           "lakecolor": "white",
           "landcolor": "#E5ECF6",
           "showlakes": true,
           "showland": true,
           "subunitcolor": "white"
          },
          "hoverlabel": {
           "align": "left"
          },
          "hovermode": "closest",
          "mapbox": {
           "style": "light"
          },
          "paper_bgcolor": "white",
          "plot_bgcolor": "#E5ECF6",
          "polar": {
           "angularaxis": {
            "gridcolor": "white",
            "linecolor": "white",
            "ticks": ""
           },
           "bgcolor": "#E5ECF6",
           "radialaxis": {
            "gridcolor": "white",
            "linecolor": "white",
            "ticks": ""
           }
          },
          "scene": {
           "xaxis": {
            "backgroundcolor": "#E5ECF6",
            "gridcolor": "white",
            "gridwidth": 2,
            "linecolor": "white",
            "showbackground": true,
            "ticks": "",
            "zerolinecolor": "white"
           },
           "yaxis": {
            "backgroundcolor": "#E5ECF6",
            "gridcolor": "white",
            "gridwidth": 2,
            "linecolor": "white",
            "showbackground": true,
            "ticks": "",
            "zerolinecolor": "white"
           },
           "zaxis": {
            "backgroundcolor": "#E5ECF6",
            "gridcolor": "white",
            "gridwidth": 2,
            "linecolor": "white",
            "showbackground": true,
            "ticks": "",
            "zerolinecolor": "white"
           }
          },
          "shapedefaults": {
           "line": {
            "color": "#2a3f5f"
           }
          },
          "ternary": {
           "aaxis": {
            "gridcolor": "white",
            "linecolor": "white",
            "ticks": ""
           },
           "baxis": {
            "gridcolor": "white",
            "linecolor": "white",
            "ticks": ""
           },
           "bgcolor": "#E5ECF6",
           "caxis": {
            "gridcolor": "white",
            "linecolor": "white",
            "ticks": ""
           }
          },
          "title": {
           "x": 0.05
          },
          "xaxis": {
           "automargin": true,
           "gridcolor": "white",
           "linecolor": "white",
           "ticks": "",
           "title": {
            "standoff": 15
           },
           "zerolinecolor": "white",
           "zerolinewidth": 2
          },
          "yaxis": {
           "automargin": true,
           "gridcolor": "white",
           "linecolor": "white",
           "ticks": "",
           "title": {
            "standoff": 15
           },
           "zerolinecolor": "white",
           "zerolinewidth": 2
          }
         }
        },
        "title": {
         "text": "Linear regression"
        },
        "xaxis": {
         "anchor": "y",
         "domain": [
          0,
          1
         ],
         "title": {
          "text": "x"
         }
        },
        "yaxis": {
         "anchor": "x",
         "domain": [
          0,
          1
         ],
         "title": {
          "text": "y"
         }
        }
       }
      }
     },
     "metadata": {},
     "output_type": "display_data"
    }
   ],
   "source": [
    "predictions = predict(data['x'], best_theta)\n",
    "\n",
    "fig = px.scatter(data, x='x', y='y', title='Linear regression')\n",
    "fig.add_scatter(x=data['x'], y=predictions, mode='lines', name='Predictions')\n",
    "\n",
    "theta_true = 509\n",
    "fig.add_scatter(x=data['x'], y=data['x'] * theta_true, mode='lines', name='True line')\n"
   ]
  },
  {
   "cell_type": "markdown",
   "metadata": {},
   "source": [
    "# Notes"
   ]
  },
  {
   "cell_type": "markdown",
   "metadata": {},
   "source": [
    "- Big learning rates result in divergence\n",
    "- Small learning rate may need more iterations to converge\n",
    "- 0.01 and 0.1 are good learning rates for this problem, we see that algorithm converges. If we had implemented stopping criteria (e.g. stop when the change in loss is less than a threshold), we could have stopped the algorithm earlier, and preferred 0.1 learning rate (for faster stopping).\n",
    "- In practice we will split the data into 2 or 3 parts and give only one of the parts to the model to learn from\n",
    "- Here best theta is 507, although when generating the dataset I used 509. This is because of the added noise in the data."
   ]
  }
 ],
 "metadata": {
  "kernelspec": {
   "display_name": "sl",
   "language": "python",
   "name": "python3"
  },
  "language_info": {
   "codemirror_mode": {
    "name": "ipython",
    "version": 3
   },
   "file_extension": ".py",
   "mimetype": "text/x-python",
   "name": "python",
   "nbconvert_exporter": "python",
   "pygments_lexer": "ipython3",
   "version": "3.10.16"
  }
 },
 "nbformat": 4,
 "nbformat_minor": 2
}
